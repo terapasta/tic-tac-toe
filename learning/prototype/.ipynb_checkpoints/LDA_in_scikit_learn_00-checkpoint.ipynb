{
 "cells": [
  {
   "cell_type": "markdown",
   "metadata": {
    "deletable": true,
    "editable": true
   },
   "source": [
    "# LDAの動作確認\n",
    "\n",
    "このサンプルでは、２０００行のテストデータが LDA により１０のトピック分類に分類され、２０の特徴語が抽出されます。\n",
    "\n",
    "テスト用データは英語ですので、これを MeCab で形態素解析した日本語のテスト用データを入力にして、後日再度テストします。\n",
    "\n",
    "テスト用コードは、scikit-learn の公式ページから借用しました。\n",
    "\n"
   ]
  },
  {
   "cell_type": "markdown",
   "metadata": {
    "deletable": true,
    "editable": true
   },
   "source": [
    "### テストデータ（２０００行）のロード"
   ]
  },
  {
   "cell_type": "code",
   "execution_count": 9,
   "metadata": {
    "collapsed": false,
    "deletable": true,
    "editable": true
   },
   "outputs": [
    {
     "name": "stdout",
     "output_type": "stream",
     "text": [
      "Loading dataset...\n",
      "done in 1.504s.\n"
     ]
    }
   ],
   "source": [
    "from __future__ import print_function\n",
    "from time import time\n",
    "\n",
    "from sklearn.feature_extraction.text import TfidfVectorizer, CountVectorizer\n",
    "from sklearn.decomposition import LatentDirichletAllocation\n",
    "from sklearn.datasets import fetch_20newsgroups\n",
    "\n",
    "n_samples = 2000\n",
    "n_features = 1000\n",
    "n_topics = 10\n",
    "n_top_words = 20\n",
    "\n",
    "print(\"Loading dataset...\")\n",
    "t0 = time()\n",
    "dataset = fetch_20newsgroups(shuffle=True, \n",
    "                             random_state=1,\n",
    "                             remove=('headers', 'footers', 'quotes'))\n",
    "data_samples = dataset.data[:n_samples]\n",
    "print(\"done in %0.3fs.\" % (time() - t0))"
   ]
  },
  {
   "cell_type": "markdown",
   "metadata": {
    "deletable": true,
    "editable": true
   },
   "source": [
    "テストデータはこんな感じ"
   ]
  },
  {
   "cell_type": "code",
   "execution_count": 96,
   "metadata": {
    "collapsed": false,
    "deletable": true,
    "editable": true,
    "scrolled": true
   },
   "outputs": [
    {
     "data": {
      "text/plain": [
       "\"Well i'm not sure about the story nad it did seem biased. What\\nI disagree with is your statement that the U.S. Media is out to\\nruin Israels reputation. That is rediculous. The U.S. media is\\nthe most pro-israeli media in the world. Having lived in Europe\\nI realize that incidences such as the one described in the\\nletter have occured. The U.S. media as a whole seem to try to\\nignore them. The U.S. is subsidizing Israels existance and the\\nEuropeans are not (at least not to the same degree). So I think\\nthat might be a reason they report more clearly on the\\natrocities.\\n\\tWhat is a shame is that in Austria, daily reports of\\nthe inhuman acts commited by Israeli soldiers and the blessing\\nreceived from the Government makes some of the Holocaust guilt\\ngo away. After all, look how the Jews are treating other races\\nwhen they got power. It is unfortunate.\\n\""
      ]
     },
     "execution_count": 96,
     "metadata": {},
     "output_type": "execute_result"
    }
   ],
   "source": [
    "data_samples[0]"
   ]
  },
  {
   "cell_type": "markdown",
   "metadata": {
    "deletable": true,
    "editable": true
   },
   "source": [
    "## 訓練データの作成\n",
    "\n",
    "これがLDAのインプットになるようです"
   ]
  },
  {
   "cell_type": "code",
   "execution_count": 97,
   "metadata": {
    "collapsed": false,
    "deletable": true,
    "editable": true,
    "scrolled": true
   },
   "outputs": [
    {
     "name": "stdout",
     "output_type": "stream",
     "text": [
      "Extracting tf features for LDA...\n",
      "done in 0.305s.\n"
     ]
    }
   ],
   "source": [
    "print(\"Extracting tf features for LDA...\")\n",
    "tf_vectorizer = CountVectorizer(max_df=0.95,\n",
    "                                min_df=2,\n",
    "                                max_features=n_features,\n",
    "                                stop_words='english')\n",
    "t0 = time()\n",
    "tf = tf_vectorizer.fit_transform(data_samples)\n",
    "print(\"done in %0.3fs.\" % (time() - t0))"
   ]
  },
  {
   "cell_type": "markdown",
   "metadata": {
    "deletable": true,
    "editable": true
   },
   "source": [
    "2,000 件のサンプルテキストから、51,752 件の単語が抽出され、戻り値の tf に単語の出現回数がセットされたものと思われます。\n",
    "\n",
    "多分認識はあっていると思いますが・・・まだ調査中です。"
   ]
  },
  {
   "cell_type": "code",
   "execution_count": 105,
   "metadata": {
    "collapsed": false,
    "deletable": true,
    "editable": true,
    "scrolled": true
   },
   "outputs": [
    {
     "data": {
      "text/plain": [
       "51752"
      ]
     },
     "execution_count": 105,
     "metadata": {},
     "output_type": "execute_result"
    }
   ],
   "source": [
    "len(tf.data)"
   ]
  },
  {
   "cell_type": "code",
   "execution_count": 106,
   "metadata": {
    "collapsed": false,
    "deletable": true,
    "editable": true
   },
   "outputs": [
    {
     "data": {
      "text/plain": [
       "array([1, 1, 1, 1, 1, 1, 1, 1, 1, 1, 1, 1, 1, 1, 1, 1, 1, 2, 1, 4], dtype=int64)"
      ]
     },
     "execution_count": 106,
     "metadata": {},
     "output_type": "execute_result"
    }
   ],
   "source": [
    "tf.data[0:20]"
   ]
  },
  {
   "cell_type": "markdown",
   "metadata": {
    "deletable": true,
    "editable": true
   },
   "source": [
    "## 学習の実行\n",
    "\n",
    "分類トピックを１０件と指定します"
   ]
  },
  {
   "cell_type": "code",
   "execution_count": 100,
   "metadata": {
    "collapsed": false,
    "deletable": true,
    "editable": true,
    "scrolled": true
   },
   "outputs": [
    {
     "name": "stdout",
     "output_type": "stream",
     "text": [
      "Fitting LDA models with tf features, n_samples=2000 and n_features=1000...\n",
      "done in 2.515s.\n"
     ]
    }
   ],
   "source": [
    "print(\"Fitting LDA models with tf features, \"\n",
    "      \"n_samples=%d and n_features=%d...\"\n",
    "      % (n_samples, n_features))\n",
    "lda = LatentDirichletAllocation(n_topics=n_topics, \n",
    "                                max_iter=5,\n",
    "                                learning_method='online',\n",
    "                                learning_offset=50.,\n",
    "                                random_state=0)\n",
    "t0 = time()\n",
    "lda.fit(tf)\n",
    "print(\"done in %0.3fs.\" % (time() - t0))"
   ]
  },
  {
   "cell_type": "markdown",
   "metadata": {
    "deletable": true,
    "editable": true
   },
   "source": [
    "## 学習結果\n",
    "\n",
    "特徴語は１０００件に絞り込まれた様子"
   ]
  },
  {
   "cell_type": "code",
   "execution_count": 101,
   "metadata": {
    "collapsed": false,
    "deletable": true,
    "editable": true,
    "scrolled": false
   },
   "outputs": [
    {
     "data": {
      "text/plain": [
       "1000"
      ]
     },
     "execution_count": 101,
     "metadata": {},
     "output_type": "execute_result"
    }
   ],
   "source": [
    "tf_feature_names = tf_vectorizer.get_feature_names()\n",
    "len(tf_feature_names)"
   ]
  },
  {
   "cell_type": "markdown",
   "metadata": {
    "deletable": true,
    "editable": true
   },
   "source": [
    "分類された１０のトピックに属する２０の特徴語を表示してみます"
   ]
  },
  {
   "cell_type": "code",
   "execution_count": 86,
   "metadata": {
    "collapsed": false,
    "deletable": true,
    "editable": true,
    "scrolled": false
   },
   "outputs": [
    {
     "name": "stdout",
     "output_type": "stream",
     "text": [
      "Topic #0:\n",
      "edu,com,mail,send,graphics,ftp,pub,available,contact,university,list,faq,ca,information,cs,1993,program,sun,uk,mit\n",
      "Topic #1:\n",
      "don,like,just,know,think,ve,way,use,right,good,going,make,sure,ll,point,got,need,really,time,doesn\n",
      "Topic #2:\n",
      "christian,think,atheism,faith,pittsburgh,new,bible,radio,games,alt,lot,just,religion,like,book,read,play,time,subject,believe\n",
      "Topic #3:\n",
      "drive,disk,windows,thanks,use,card,drives,hard,version,pc,software,file,using,scsi,help,does,new,dos,controller,16\n",
      "Topic #4:\n",
      "hiv,health,aids,disease,april,medical,care,research,1993,light,information,study,national,service,test,led,10,page,new,drug\n",
      "Topic #5:\n",
      "god,people,does,just,good,don,jesus,say,israel,way,life,know,true,fact,time,law,want,believe,make,think\n",
      "Topic #6:\n",
      "55,10,11,18,15,team,game,19,period,play,23,12,13,flyers,20,25,22,17,24,16\n",
      "Topic #7:\n",
      "car,year,just,cars,new,engine,like,bike,good,oil,insurance,better,tires,000,thing,speed,model,brake,driving,performance\n",
      "Topic #8:\n",
      "people,said,did,just,didn,know,time,like,went,think,children,came,come,don,took,years,say,dead,told,started\n",
      "Topic #9:\n",
      "key,space,law,government,public,use,encryption,earth,section,security,moon,probe,enforcement,keys,states,lunar,military,crime,surface,technology\n"
     ]
    }
   ],
   "source": [
    "top_words = []\n",
    "for topic_idx, topic in enumerate(lda.components_):\n",
    "    print(\"Topic #%d:\" % topic_idx)\n",
    "    top_words_idx = topic.argsort()[:(-n_top_words - 1):-1]\n",
    "    top_words_list = [tf_feature_names[i] for i in top_words_idx]\n",
    "    top_words.append(top_words_list)\n",
    "    print(\",\".join(top_words_list))\n"
   ]
  },
  {
   "cell_type": "markdown",
   "metadata": {
    "deletable": true,
    "editable": true
   },
   "source": [
    "## 分析または予測に関する処理についての調査"
   ]
  },
  {
   "cell_type": "markdown",
   "metadata": {
    "deletable": true,
    "editable": true
   },
   "source": [
    "### perplexity 関数\n",
    "\n",
    "公式ドキュメントには Calculate approximate perplexity for data X. とありました。\n",
    "\n",
    "予測の精度指標なのでしょうか？\n",
    "\n",
    "調査を続行します。"
   ]
  },
  {
   "cell_type": "code",
   "execution_count": 110,
   "metadata": {
    "collapsed": false,
    "deletable": true,
    "editable": true
   },
   "outputs": [
    {
     "data": {
      "text/plain": [
       "840047.75481485634"
      ]
     },
     "execution_count": 110,
     "metadata": {},
     "output_type": "execute_result"
    }
   ],
   "source": [
    "lda.perplexity(tf) # 試しに訓練データをそのまま突っ込んでます"
   ]
  },
  {
   "cell_type": "markdown",
   "metadata": {
    "deletable": true,
    "editable": true
   },
   "source": [
    "### score 関数\n",
    "\n",
    "公式ドキュメントには Calculate approximate log-likelihood as score. とあります。\n",
    "\n",
    "perplexity と同様、予測の精度指標なのでしょうか？\n",
    "\n",
    "調査を続行します。"
   ]
  },
  {
   "cell_type": "code",
   "execution_count": 114,
   "metadata": {
    "collapsed": false,
    "deletable": true,
    "editable": true
   },
   "outputs": [
    {
     "data": {
      "text/plain": [
       "-1116192.3372007054"
      ]
     },
     "execution_count": 114,
     "metadata": {},
     "output_type": "execute_result"
    }
   ],
   "source": [
    "lda.score(tf) # 試しに訓練データをそのまま突っ込んでます"
   ]
  },
  {
   "cell_type": "markdown",
   "metadata": {
    "deletable": true,
    "editable": true
   },
   "source": [
    "### transform 関数\n",
    "\n",
    "公式ドキュメントには Transform data X according to the fitted model. とあります。\n",
    "\n",
    "これが予測処理そのものかと思われますが・・・為念で調査は続行します。"
   ]
  },
  {
   "cell_type": "code",
   "execution_count": 115,
   "metadata": {
    "collapsed": false,
    "deletable": true,
    "editable": true
   },
   "outputs": [
    {
     "data": {
      "text/plain": [
       "array([[  3.44893409e-03,   6.28598196e-01,   3.44908103e-03, ...,\n",
       "          3.44868917e-03,   3.44943514e-03,   3.44884274e-03],\n",
       "       [  3.33391110e-03,   3.33467317e-03,   9.69993827e-01, ...,\n",
       "          3.33448122e-03,   3.33413230e-03,   3.33356505e-03],\n",
       "       [  3.03086351e-03,   6.71061551e-01,   3.03059022e-03, ...,\n",
       "          3.03054785e-03,   3.03076742e-03,   3.03062719e-03],\n",
       "       ..., \n",
       "       [  2.08357969e-03,   8.84390569e-02,   2.08344836e-03, ...,\n",
       "          2.08376930e-03,   2.08360955e-03,   2.08370167e-03],\n",
       "       [  6.53656983e-04,   6.53705973e-04,   6.53712556e-04, ...,\n",
       "          6.53665594e-04,   7.88066707e-01,   6.53729463e-04],\n",
       "       [  2.00001102e-02,   2.00062768e-02,   2.21624245e-01, ...,\n",
       "          2.00018814e-02,   6.18358729e-01,   2.00023251e-02]])"
      ]
     },
     "execution_count": 115,
     "metadata": {},
     "output_type": "execute_result"
    }
   ],
   "source": [
    "answers = lda.transform(tf) # 試しに訓練データをそのまま突っ込んでます\n",
    "answers"
   ]
  },
  {
   "cell_type": "markdown",
   "metadata": {
    "deletable": true,
    "editable": true
   },
   "source": [
    "下記の例では、テストデータ #557 は４番目のトピック #3 に近いと言っているのだと思われます。"
   ]
  },
  {
   "cell_type": "code",
   "execution_count": 137,
   "metadata": {
    "collapsed": false,
    "deletable": true,
    "editable": true
   },
   "outputs": [
    {
     "data": {
      "text/plain": [
       "array([ 0.01000277,  0.0100014 ,  0.01000072,  0.90998758,  0.01000039,\n",
       "        0.01000056,  0.01000438,  0.01000135,  0.01000046,  0.01000038])"
      ]
     },
     "execution_count": 137,
     "metadata": {},
     "output_type": "execute_result"
    }
   ],
   "source": [
    "answers[557]"
   ]
  },
  {
   "cell_type": "markdown",
   "metadata": {
    "deletable": true,
    "editable": true
   },
   "source": [
    "テストデータ #0 とトピック #1 は下記の通りですが・・・当たってますね。"
   ]
  },
  {
   "cell_type": "code",
   "execution_count": 138,
   "metadata": {
    "collapsed": false,
    "deletable": true,
    "editable": true
   },
   "outputs": [
    {
     "name": "stdout",
     "output_type": "stream",
     "text": [
      "==========\n",
      "Topic #3:\n",
      "drive,disk,windows,thanks,use,card,drives,hard,version,pc,software,file,using,scsi,help,does,new,dos,controller,16\n",
      "==========\n",
      "Sample Text:\n",
      "Is there a QIC-80 format tape drive that comes\n",
      "with an EISA controller ?\n",
      "Colorado's 250 only has ISA and MCA controllers.\n",
      "\n",
      "Thanks. e-mail please.\n",
      "\n",
      "-- \n"
     ]
    }
   ],
   "source": [
    "print(\"==========\")\n",
    "print(\"Topic #3:\")\n",
    "print(\",\".join(top_words[3]))\n",
    "print(\"==========\")\n",
    "print(\"Sample Text:\")\n",
    "print(data_samples[557])"
   ]
  },
  {
   "cell_type": "markdown",
   "metadata": {
    "deletable": true,
    "editable": true
   },
   "source": [
    "他の例でも試してみます。\n",
    "\n",
    "テストデータ #1002 のヒットトピックは、これまた４番目の #3 のようですが・・・こちらも、なんとなく当たっている様子です。"
   ]
  },
  {
   "cell_type": "code",
   "execution_count": 139,
   "metadata": {
    "collapsed": false,
    "deletable": true,
    "editable": true
   },
   "outputs": [
    {
     "data": {
      "text/plain": [
       "array([ 0.00526363,  0.22352498,  0.00526431,  0.54179643,  0.00526353,\n",
       "        0.00526522,  0.00526471,  0.00526447,  0.19782857,  0.00526415])"
      ]
     },
     "execution_count": 139,
     "metadata": {},
     "output_type": "execute_result"
    }
   ],
   "source": [
    "answers[1002]"
   ]
  },
  {
   "cell_type": "code",
   "execution_count": 140,
   "metadata": {
    "collapsed": false,
    "deletable": true,
    "editable": true
   },
   "outputs": [
    {
     "name": "stdout",
     "output_type": "stream",
     "text": [
      "==========\n",
      "Topic #3:\n",
      "drive,disk,windows,thanks,use,card,drives,hard,version,pc,software,file,using,scsi,help,does,new,dos,controller,16\n",
      "==========\n",
      "Sample Text:\n",
      "\n",
      "\n",
      "\n",
      "\n",
      "\n",
      "\n",
      "I've started to notice the same thing myself. I'm running DOS 5 and Win 3.1 so\n",
      "I can fix it from the Windows Control Panel. At times it is the date, at\n",
      "others the clock seems to be running several minutes behind where it should\n",
      "be.\n",
      "\n",
      "If you find out I'd like to know also. Oh, and I also leave my system running\n",
      "all the time.\n",
      "                                                                    \n"
     ]
    }
   ],
   "source": [
    "print(\"==========\")\n",
    "print(\"Topic #3:\")\n",
    "print(\",\".join(top_words[3]))\n",
    "print(\"==========\")\n",
    "print(\"Sample Text:\")\n",
    "print(data_samples[1002])"
   ]
  },
  {
   "cell_type": "code",
   "execution_count": null,
   "metadata": {
    "collapsed": true,
    "deletable": true,
    "editable": true
   },
   "outputs": [],
   "source": []
  }
 ],
 "metadata": {
  "kernelspec": {
   "display_name": "Python 3",
   "language": "python",
   "name": "python3"
  },
  "language_info": {
   "codemirror_mode": {
    "name": "ipython",
    "version": 3
   },
   "file_extension": ".py",
   "mimetype": "text/x-python",
   "name": "python",
   "nbconvert_exporter": "python",
   "pygments_lexer": "ipython3",
   "version": "3.5.2"
  }
 },
 "nbformat": 4,
 "nbformat_minor": 2
}
