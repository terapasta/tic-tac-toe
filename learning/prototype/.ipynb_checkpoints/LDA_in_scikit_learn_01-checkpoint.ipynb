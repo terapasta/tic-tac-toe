{
 "cells": [
  {
   "cell_type": "markdown",
   "metadata": {
    "deletable": true,
    "editable": true
   },
   "source": [
    "# 前提の仕込み"
   ]
  },
  {
   "cell_type": "markdown",
   "metadata": {
    "deletable": true,
    "editable": true
   },
   "source": [
    "## パッケージ導入\n",
    "\n",
    "- mecab-python3、Pandasを追加導入しました（日本語のデータセットを扱うため）\n",
    "- scikit-learn は導入済み。\n",
    "- LDAは、LatentDirichletAllocation というモジュールを使用します。"
   ]
  },
  {
   "cell_type": "code",
   "execution_count": 5,
   "metadata": {
    "collapsed": false,
    "deletable": true,
    "editable": true
   },
   "outputs": [],
   "source": [
    "import pandas\n",
    "import MeCab\n",
    "from sklearn.decomposition import LatentDirichletAllocation"
   ]
  },
  {
   "cell_type": "markdown",
   "metadata": {
    "deletable": true,
    "editable": true
   },
   "source": [
    "## テストデータを10件サンプリング"
   ]
  },
  {
   "cell_type": "code",
   "execution_count": 6,
   "metadata": {
    "collapsed": false,
    "deletable": true,
    "editable": true
   },
   "outputs": [],
   "source": [
    "import os\n",
    "\n",
    "def replace_newline(val):\n",
    "    return val.replace('\\r', '').replace('\\n', '')\n",
    "\n",
    "csvDir = \"../learning/tests/engine/fixtures/\"\n",
    "csvFile = \"test_daikin_conversation.csv\"\n",
    "csvPath = os.path.join(csvDir, csvFile)\n",
    "\n",
    "csvTemp = pandas.read_csv(csvPath, encoding='Shift_JIS')\n",
    "csvData = csvTemp.drop_duplicates(subset=['answer_id'])\n",
    "\n",
    "testData = csvData.ix[0:9, ['question', 'answer_body']]"
   ]
  },
  {
   "cell_type": "code",
   "execution_count": 7,
   "metadata": {
    "collapsed": false,
    "deletable": true,
    "editable": true
   },
   "outputs": [
    {
     "name": "stdout",
     "output_type": "stream",
     "text": [
      "question= Outlook2010にてメールを送信する際、自分宛のメールをBCCで運用したいのですが？ \n",
      "question= Outlook2010にて、メールの署名の作り方が教えてください。 \n",
      "question= Thunderbirdのテンプレートメールと同等の機能はOutlook2010にありますか？ \n",
      "question= Thunderbirdの場合、「宛先」に姓を入れるとアドレス帳の候補者が出ましたが、Outlook2010でアドレスを簡単に検索できる機能はないですか？\n",
      "question= Outlookにて、メールアドレス検索の時にアドレス一覧をいちいち選択するのがわずらわしいです、こちらの意図したアドレス一覧をデフォルトに設定できないのでしょうか？ \n",
      "question= Outlook2010にて、メールの再編集は可能ですか？ \n",
      "question= Outlook2010にて、未読メールを探すのが大変です。 \n",
      "question= ThunderbirdとOutlook2010では送信済トレイの違いはありますか？ \n",
      "question= Outlook2010にて、メールに添付するファイルに容量の制限はありますか？ \n"
     ]
    }
   ],
   "source": [
    "# for debug\n",
    "for i in range(0, 9):\n",
    "    question = testData.ix[i, 'question']\n",
    "    answer_body = replace_newline(testData.ix[0, 'answer_body'])\n",
    "    print('question=', question)\n",
    "    #print('answer_body=', answer_body)"
   ]
  },
  {
   "cell_type": "markdown",
   "metadata": {
    "deletable": true,
    "editable": true
   },
   "source": [
    "## 質問と回答について、別々に分析処理(LDA)を実行"
   ]
  },
  {
   "cell_type": "code",
   "execution_count": 8,
   "metadata": {
    "collapsed": false,
    "deletable": true,
    "editable": true
   },
   "outputs": [
    {
     "data": {
      "text/plain": [
       "' TODO:\\n    ここにコードを記述\\n'"
      ]
     },
     "execution_count": 8,
     "metadata": {},
     "output_type": "execute_result"
    }
   ],
   "source": [
    "''' TODO:\n",
    "    ここにコードを記述\n",
    "'''"
   ]
  },
  {
   "cell_type": "markdown",
   "metadata": {},
   "source": [
    "## 質問と回答についての分析処理結果を比較し、近似度を求める"
   ]
  },
  {
   "cell_type": "code",
   "execution_count": 9,
   "metadata": {
    "collapsed": false
   },
   "outputs": [
    {
     "data": {
      "text/plain": [
       "' TODO:\\n    ここにコードを記述\\n'"
      ]
     },
     "execution_count": 9,
     "metadata": {},
     "output_type": "execute_result"
    }
   ],
   "source": [
    "''' TODO:\n",
    "    ここにコードを記述\n",
    "'''"
   ]
  },
  {
   "cell_type": "markdown",
   "metadata": {
    "collapsed": true,
    "deletable": true,
    "editable": true
   },
   "source": [
    "## 以上の処理により、質問と回答の意味が同じであることが確認できるはずです。"
   ]
  },
  {
   "cell_type": "code",
   "execution_count": null,
   "metadata": {
    "collapsed": true
   },
   "outputs": [],
   "source": []
  }
 ],
 "metadata": {
  "kernelspec": {
   "display_name": "Python 3",
   "language": "python",
   "name": "python3"
  },
  "language_info": {
   "codemirror_mode": {
    "name": "ipython",
    "version": 3
   },
   "file_extension": ".py",
   "mimetype": "text/x-python",
   "name": "python",
   "nbconvert_exporter": "python",
   "pygments_lexer": "ipython3",
   "version": "3.5.2"
  }
 },
 "nbformat": 4,
 "nbformat_minor": 2
}
