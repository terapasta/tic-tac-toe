{
 "cells": [
  {
   "cell_type": "markdown",
   "metadata": {},
   "source": [
    "## テストデータを10件サンプリング"
   ]
  },
  {
   "cell_type": "code",
   "execution_count": 70,
   "metadata": {
    "collapsed": false
   },
   "outputs": [],
   "source": [
    "import os\n",
    "import pandas as pd\n",
    "\n",
    "def replace_newline(val):\n",
    "    return val.replace('\\r', '').replace('\\n', '')\n",
    "\n",
    "csvDir = \"../learning/tests/engine/fixtures/\"\n",
    "csvFile = \"test_daikin_conversation.csv\"\n",
    "csvPath = os.path.join(csvDir, csvFile)\n",
    "\n",
    "csvTemp = pd.read_csv(csvPath, encoding='Shift_JIS')\n",
    "csvData = csvTemp.drop_duplicates(subset=['answer_id'])\n",
    "\n",
    "''' テストデータを１０件サンプリングします\n",
    "'''\n",
    "testData = csvData.ix[0:9, ['question', 'answer_body']]"
   ]
  },
  {
   "cell_type": "code",
   "execution_count": 71,
   "metadata": {
    "collapsed": false
   },
   "outputs": [],
   "source": [
    "# for debug\n",
    "for i in range(0, 9):\n",
    "    question = testData.ix[i, 'question']\n",
    "    answer_body = replace_newline(testData.ix[0, 'answer_body'])\n",
    "    #print('question=', question)\n",
    "    #print('answer_body=', answer_body)"
   ]
  },
  {
   "cell_type": "markdown",
   "metadata": {},
   "source": [
    "## 質問と回答について、別々に分析処理(LDA)を実行"
   ]
  },
  {
   "cell_type": "code",
   "execution_count": 72,
   "metadata": {
    "collapsed": false
   },
   "outputs": [
    {
     "data": {
      "text/plain": [
       "' TODO:\\n    ここにコードを記述\\n'"
      ]
     },
     "execution_count": 72,
     "metadata": {},
     "output_type": "execute_result"
    }
   ],
   "source": [
    "''' TODO:\n",
    "    ここにコードを記述\n",
    "'''"
   ]
  }
 ],
 "metadata": {
  "kernelspec": {
   "display_name": "Python 3",
   "language": "python",
   "name": "python3"
  },
  "language_info": {
   "codemirror_mode": {
    "name": "ipython",
    "version": 3
   },
   "file_extension": ".py",
   "mimetype": "text/x-python",
   "name": "python",
   "nbconvert_exporter": "python",
   "pygments_lexer": "ipython3",
   "version": "3.5.2"
  }
 },
 "nbformat": 4,
 "nbformat_minor": 2
}
