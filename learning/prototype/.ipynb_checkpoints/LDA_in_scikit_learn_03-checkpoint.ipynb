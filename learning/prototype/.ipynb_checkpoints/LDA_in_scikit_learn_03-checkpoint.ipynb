{
 "cells": [
  {
   "cell_type": "markdown",
   "metadata": {
    "deletable": true,
    "editable": true
   },
   "source": [
    "# LDAの動作確認 part 4 (追加学習をしたときの挙動確認)"
   ]
  },
  {
   "cell_type": "markdown",
   "metadata": {
    "deletable": true,
    "editable": true
   },
   "source": [
    "part 3（LDA_in_scikit_learn_02）と同様の手順にて、追加学習が行われた時の挙動をみるために、再試行しております。\n",
    "\n",
    "追加学習のたびに、トピックの意味が変わってしまったり、分類の精度が落ちてしまう・・・などといった、大きな影響は見られませんでした。"
   ]
  },
  {
   "cell_type": "markdown",
   "metadata": {
    "deletable": true,
    "editable": true
   },
   "source": [
    "### 日本語のテストデータを抽出"
   ]
  },
  {
   "cell_type": "code",
   "execution_count": 29,
   "metadata": {
    "collapsed": false,
    "deletable": true,
    "editable": true
   },
   "outputs": [
    {
     "data": {
      "text/html": [
       "<div>\n",
       "<table border=\"1\" class=\"dataframe\">\n",
       "  <thead>\n",
       "    <tr style=\"text-align: right;\">\n",
       "      <th></th>\n",
       "      <th>question</th>\n",
       "      <th>answer_body</th>\n",
       "    </tr>\n",
       "  </thead>\n",
       "  <tbody>\n",
       "    <tr>\n",
       "      <th>0</th>\n",
       "      <td>Outlook2010にてメールを送信する際、自分宛のメールをBCCで運用したいのですが？</td>\n",
       "      <td>Thunderbirdではメールを作成した際、自動的にBCCに自分のメールアドレスが設定され...</td>\n",
       "    </tr>\n",
       "    <tr>\n",
       "      <th>1</th>\n",
       "      <td>Outlook2010にて、メールの署名の作り方が教えてください。</td>\n",
       "      <td>署名の作り方については『【Outlook2010操作マニュアル 応用編】 署名の作成』を参照...</td>\n",
       "    </tr>\n",
       "    <tr>\n",
       "      <th>2</th>\n",
       "      <td>Thunderbirdのテンプレートメールと同等の機能はOutlook2010にありますか？</td>\n",
       "      <td>Outlook2010にはThunderbirdのテンプレートと同様の機能はありません。\\r...</td>\n",
       "    </tr>\n",
       "    <tr>\n",
       "      <th>3</th>\n",
       "      <td>Thunderbirdの場合、「宛先」に姓を入れるとアドレス帳の候補者が出ましたが、Outl...</td>\n",
       "      <td>Outlook2010では、過去に入力したアドレスを記憶するオートコンプリート機能がついてい...</td>\n",
       "    </tr>\n",
       "    <tr>\n",
       "      <th>4</th>\n",
       "      <td>Outlookにて、メールアドレス検索の時にアドレス一覧をいちいち選択するのがわずらわしいで...</td>\n",
       "      <td>可能です。\\r方法については『【Outlook2010操作マニュアル 応用編】 アドレス検索...</td>\n",
       "    </tr>\n",
       "    <tr>\n",
       "      <th>5</th>\n",
       "      <td>Outlook2010にて、メールの再編集は可能ですか？</td>\n",
       "      <td>方法については『【Outlook2010操作マニュアル 基本編】 送信済メールの再利用（メー...</td>\n",
       "    </tr>\n",
       "    <tr>\n",
       "      <th>6</th>\n",
       "      <td>Outlook2010にて、未読メールを探すのが大変です。</td>\n",
       "      <td>方法については『【Outlook2010操作マニュアル 応用編】 検索フォルダ―(未読のメー...</td>\n",
       "    </tr>\n",
       "    <tr>\n",
       "      <th>7</th>\n",
       "      <td>ThunderbirdとOutlook2010では送信済トレイの違いはありますか？</td>\n",
       "      <td>Outlook2010とThunderbirdでは送信済トレイのフォルダ名が異なります。\\r...</td>\n",
       "    </tr>\n",
       "    <tr>\n",
       "      <th>8</th>\n",
       "      <td>Outlook2010にて、メールに添付するファイルに容量の制限はありますか？</td>\n",
       "      <td>添付ファイルの容量の制限は10MBです。\\r（メーリングリストも同様になります。）</td>\n",
       "    </tr>\n",
       "    <tr>\n",
       "      <th>9</th>\n",
       "      <td>Outlook2010にて、長期休暇など長期でメールの返事ができない際、メールの自動応答をさ...</td>\n",
       "      <td>Outlook2010には自動応答機能は存在しますが、原則利用しないでください。\\r\\r自動...</td>\n",
       "    </tr>\n",
       "    <tr>\n",
       "      <th>10</th>\n",
       "      <td>Thunderbirdと同様に返信メールにインデントを付けたいのですが、可能でしょうか。</td>\n",
       "      <td>可能です。 設定方法については『【Outlook2010操作マニュアル 応用編】 返信メール...</td>\n",
       "    </tr>\n",
       "    <tr>\n",
       "      <th>11</th>\n",
       "      <td>Outlookにて、メールサーバとローカルフォルダのメールを一括で検索可能でしょうか。</td>\n",
       "      <td>可能です。 検索方法については『【Outlook2010操作マニュアル 応用編】 メールの検...</td>\n",
       "    </tr>\n",
       "    <tr>\n",
       "      <th>12</th>\n",
       "      <td>Outlook2010にて、メールの署名のvCardは使用可能でしょうか。</td>\n",
       "      <td>海外とのやり取りで文字化けが発生する可能性があるため使用は禁止しております。</td>\n",
       "    </tr>\n",
       "    <tr>\n",
       "      <th>13</th>\n",
       "      <td>Outlookにて、他のユーザーが作成した個人アドレス帳を別のOutlookでインポート/エ...</td>\n",
       "      <td>可能です。 方法については『【Outlook2010操作マニュアル 応用編】 ユーザー間で個...</td>\n",
       "    </tr>\n",
       "    <tr>\n",
       "      <th>14</th>\n",
       "      <td>Outlook2010にて、個人アドレス帳に写真を入れることができますか。</td>\n",
       "      <td>自分の顔写真は入れることができます。\\r自分の顔写真以外は絶対に使用しないで下さい。\\r※自...</td>\n",
       "    </tr>\n",
       "    <tr>\n",
       "      <th>15</th>\n",
       "      <td>Thunderbirdと同様にメールの受信を通知させる事は可能でしょうか。</td>\n",
       "      <td>可能です。\\r設定方法は下記をご参照ください。\\r【Outlook2010操作マニュアル 応...</td>\n",
       "    </tr>\n",
       "    <tr>\n",
       "      <th>16</th>\n",
       "      <td>Outlookにてメール本文の１行に表示される文字数を変更する事は可能ですか。</td>\n",
       "      <td>下記手順にて設定が可能です。\\r※この設定はテキスト形式で作成・送信したメッセージが、送信先...</td>\n",
       "    </tr>\n",
       "    <tr>\n",
       "      <th>17</th>\n",
       "      <td>Thunderbirdからアドレス帳をエクスポートして、Outlook2010にインポートを...</td>\n",
       "      <td>Thuderbirdのアドレス帳にFAXが登録されている場合、FAXも1件と扱われ、2件のデ...</td>\n",
       "    </tr>\n",
       "    <tr>\n",
       "      <th>18</th>\n",
       "      <td>Outlookにて、『Drafts(下書き)』、『Deleted Items(削除済みアイテ...</td>\n",
       "      <td>Outlook2010の初期設定では『Drafts(下書き)』、『(削除済みアイテム)』、『...</td>\n",
       "    </tr>\n",
       "    <tr>\n",
       "      <th>19</th>\n",
       "      <td>Outlook2010にて、アドレス帳から宛先を探す際に、姓名で検索しても正しく結果が表示さ...</td>\n",
       "      <td>アドレス検索にて、『その他のフィールド』が選択されているか確認してください。『名前のみ』が...</td>\n",
       "    </tr>\n",
       "    <tr>\n",
       "      <th>20</th>\n",
       "      <td>Outlook2010にて、利用を初めた時から、Office2000を使用して終了した時に必...</td>\n",
       "      <td>下記のエラーが発生した場合は、『OK』を押下し、終了してください。\\rデータの破損などの実害...</td>\n",
       "    </tr>\n",
       "    <tr>\n",
       "      <th>21</th>\n",
       "      <td>Outlook2010にて、メーリングリストを差出人に設定しメールを送信すると、送信エラーの...</td>\n",
       "      <td>新メールシステムでは差出人にメーリングアドレスを設定することはできません。\\r業務上必要な場...</td>\n",
       "    </tr>\n",
       "    <tr>\n",
       "      <th>22</th>\n",
       "      <td>Outlookにて、『名前の確認（簡易検索）』を行ったのですが、存在するはずのユーザが検索結...</td>\n",
       "      <td>検索対象の宛先に『Daikin Directory』を追加してください。\\r設定方法について...</td>\n",
       "    </tr>\n",
       "    <tr>\n",
       "      <th>23</th>\n",
       "      <td>Outlook2010をインストールしてから、フォルダの検索画面を表示しようとすると見慣れな...</td>\n",
       "      <td>Outlook2010の設定を実施した際に、WindowsSearchをインストールを行った...</td>\n",
       "    </tr>\n",
       "    <tr>\n",
       "      <th>24</th>\n",
       "      <td>Thunderbirdより移行したローカルメールを再利用（返信）してメールを送信するとエラー...</td>\n",
       "      <td>Thunderbirdから移行したメールを再利用（返信）する場合は、既に入力されている差出人...</td>\n",
       "    </tr>\n",
       "    <tr>\n",
       "      <th>25</th>\n",
       "      <td>Outlook2010にて、必要なメールが迷惑メールフォルダ(Junk Email)に振り分...</td>\n",
       "      <td>以下の設定を行うことにより、迷惑メールに届いていたメールを受信フォルダ(inbox)に移動し...</td>\n",
       "    </tr>\n",
       "    <tr>\n",
       "      <th>26</th>\n",
       "      <td>Outlook2010をインストール後、以前IMEに登録していた辞書の内容が消えてしまいました。</td>\n",
       "      <td>登録単語が正常に引継できていないことが原因だと考えられます。\\r以下の手順で『手動での登録単...</td>\n",
       "    </tr>\n",
       "    <tr>\n",
       "      <th>27</th>\n",
       "      <td>Thunderbirdから手順書に沿ってローカルメールの移行を行っているが、途中でエラーが発...</td>\n",
       "      <td>Thunderbirdのローカルメールの容量が50GB以上の場合、一括でローカルメールを移行...</td>\n",
       "    </tr>\n",
       "    <tr>\n",
       "      <th>28</th>\n",
       "      <td>Outlook2010にて、画像付(HTML形式)のメールを受信したのですが、プレビュー画面...</td>\n",
       "      <td>ダイキン設定では受信したメールをテキスト形式にて表示しております。\\r画像付（HTML形式)...</td>\n",
       "    </tr>\n",
       "    <tr>\n",
       "      <th>29</th>\n",
       "      <td>Outlook2010にて、画像付(HTML形式)のメールを印刷したのですが、画像が印刷され...</td>\n",
       "      <td>画像付(HTML形式)のメールを印刷する場合、一度、HTML形式でメールを表示させてから印刷...</td>\n",
       "    </tr>\n",
       "    <tr>\n",
       "      <th>...</th>\n",
       "      <td>...</td>\n",
       "      <td>...</td>\n",
       "    </tr>\n",
       "    <tr>\n",
       "      <th>69</th>\n",
       "      <td>Outlook2010にてメールを検索したが検索結果の上に”インデックスを作成中…”メッセー...</td>\n",
       "      <td>”インデックスを作成中…”メッセージは、Outlookの検索機能にて利用されます。\\rメール...</td>\n",
       "    </tr>\n",
       "    <tr>\n",
       "      <th>70</th>\n",
       "      <td>Outlook2010にて、明らかにメールが表示されているのに検索結果が表示されない。</td>\n",
       "      <td>Outlookのインデックスが壊れてるため、検索できない状態になっています。\\r\\r以下UR...</td>\n",
       "    </tr>\n",
       "    <tr>\n",
       "      <th>71</th>\n",
       "      <td>端末をリプレイスしているが、Outlookの仕分けルールは移行されるのか教えて欲しい。</td>\n",
       "      <td>Outlookの仕分けルールを確認し仕分けルールの名前にクライアントルールと記載があれば、端...</td>\n",
       "    </tr>\n",
       "    <tr>\n",
       "      <th>72</th>\n",
       "      <td>Outlook2010に届く迷惑メールを受信拒否したい。</td>\n",
       "      <td>迷惑メールの受信拒否はメールサーバ上を対応しています。\\rOutlookに届く迷惑メールを拒...</td>\n",
       "    </tr>\n",
       "    <tr>\n",
       "      <th>73</th>\n",
       "      <td>Outlook2010にて、正常なメールがスパムフォルダに届く、受信トレイに届くようにしたい。</td>\n",
       "      <td>Outlookのスパムフォルダに届く、正常メールを受信トレイに届くように設定する場合は以下手...</td>\n",
       "    </tr>\n",
       "    <tr>\n",
       "      <th>74</th>\n",
       "      <td>Outlook2010にて、部門用の連絡先グループを作成したので、他メンバーと共有したい。</td>\n",
       "      <td>Outlookにて、作成された連絡先グループを共有化される場合は、以下手順を実施ください。\\...</td>\n",
       "    </tr>\n",
       "    <tr>\n",
       "      <th>75</th>\n",
       "      <td>Outlook2010にて、メールをプレビューする画面が消えた。戻し方を教えて欲しい。</td>\n",
       "      <td>以下手順を実施ください。\\r\\r(手順)\\r１．Outlookを起動ください。\\r２．「表示...</td>\n",
       "    </tr>\n",
       "    <tr>\n",
       "      <th>76</th>\n",
       "      <td>Outlook2010にて、連絡先にThunderbirdから移行した個人アドレス帳が表示さ...</td>\n",
       "      <td>Outlookへ個人アドレス帳を移行されている場合は、以下手順を実施ください。\\r\\r（手順...</td>\n",
       "    </tr>\n",
       "    <tr>\n",
       "      <th>77</th>\n",
       "      <td>Ouｔlook2010の受信トレイに表示される”件名”フィールドを操作を誤って削除してしまっ...</td>\n",
       "      <td>以下手順を実施ください。\\r\\r（手順）\\r１．Outlookを起動ください。\\r２．受信ト...</td>\n",
       "    </tr>\n",
       "    <tr>\n",
       "      <th>78</th>\n",
       "      <td>Outlook2010にて、メールを送信したが、送信トレイに保存され送信できない。</td>\n",
       "      <td>以下手順を実施しOutlookにてメールサーバに接続されているか確認ください。\\r\\r（手順...</td>\n",
       "    </tr>\n",
       "    <tr>\n",
       "      <th>79</th>\n",
       "      <td>Outlook2010にて、ローカルフォルダを作成したいが、対応方法を教えてほしい。</td>\n",
       "      <td>以下手順を実施ください。\\r\\r（手順）\\r１．Outlookを起動ください。\\r２．Out...</td>\n",
       "    </tr>\n",
       "    <tr>\n",
       "      <th>80</th>\n",
       "      <td>端末にOffice365のメールアカウントを作成しているが、”暗号化に失敗しました。”のメッ...</td>\n",
       "      <td>メールのパスワードを更新されていない場合は、以下3点を確認ください。\\r\\r（手順）\\r１．...</td>\n",
       "    </tr>\n",
       "    <tr>\n",
       "      <th>81</th>\n",
       "      <td>Outlook2010にて、アドレス帳のアドレス一覧に表示されている中に不要なアドレス帳が表...</td>\n",
       "      <td>Outlookのアドレス帳から個人アドレス帳の表示を削除される場合は、以下l手順を実施くださ...</td>\n",
       "    </tr>\n",
       "    <tr>\n",
       "      <th>82</th>\n",
       "      <td>Outlook2010のインストール媒体が欲しい。</td>\n",
       "      <td>Outlook2010のインストール媒体は、関係各所のIT担当者へ恒久版のDVDをお渡しして...</td>\n",
       "    </tr>\n",
       "    <tr>\n",
       "      <th>83</th>\n",
       "      <td>イントラHPから「Webメール」-「OWA」をクリックしても、最初画面が表示されない。</td>\n",
       "      <td>以下手順を実施ください。\\r\\r（手順）\\r１．IE11を起動してください。\\r２．IE11...</td>\n",
       "    </tr>\n",
       "    <tr>\n",
       "      <th>84</th>\n",
       "      <td>端末が新しくなったため、Outlook2010を設定したいが手順書を教えて欲しい。</td>\n",
       "      <td>手順書はダイキンイントラHPに３種類ありますので、以下URLから手順を確認ください。\\rht...</td>\n",
       "    </tr>\n",
       "    <tr>\n",
       "      <th>85</th>\n",
       "      <td>出張先に自分の端末が無いが、メールを利用したい。</td>\n",
       "      <td>ご自分の端末が無い場合は、OWAからメールを利用ください。\\r以下手順を実施ください。\\r\\...</td>\n",
       "    </tr>\n",
       "    <tr>\n",
       "      <th>87</th>\n",
       "      <td>Outlook2010にて、同期の失敗メールが受信されるが、対応方法を教えて欲しい。</td>\n",
       "      <td>同期の失敗メールは、メールサーバと同期を取る際、あるタイミングで失敗したためのメールです。\\...</td>\n",
       "    </tr>\n",
       "    <tr>\n",
       "      <th>88</th>\n",
       "      <td>Outlook2010のメールアカウント設定完了したが、Outlookを起動すると「構成の進...</td>\n",
       "      <td>office2010に問題があるので、officeの修復を以下手順を実施ください。\\r\\r（...</td>\n",
       "    </tr>\n",
       "    <tr>\n",
       "      <th>89</th>\n",
       "      <td>Outlook2010のグローバルアドレス一覧にて、”名前”かつ”場所”や”拠点”にて検索す...</td>\n",
       "      <td>グローバルアドレス一覧では、拠点や場所の情報がないため、検索できません。\\rDaikin D...</td>\n",
       "    </tr>\n",
       "    <tr>\n",
       "      <th>90</th>\n",
       "      <td>Outlook2010の受信トレイに未読メールが存在するが、メールが表示されない。</td>\n",
       "      <td>以下手順を実施ください。\\r\\r（手順）\\r１．Outlookを起動ください。\\r２．Out...</td>\n",
       "    </tr>\n",
       "    <tr>\n",
       "      <th>91</th>\n",
       "      <td>社外から添付ファイル付きメールを送信して頂くことになったが、メール受信できる容量制限を教えて...</td>\n",
       "      <td>ダイキン社内間であれば、メール送受信の容量制限は10MBになります。\\rメール本文も含めた容...</td>\n",
       "    </tr>\n",
       "    <tr>\n",
       "      <th>92</th>\n",
       "      <td>Outlook2010にて、メール本文にURLを記載し送信すると本文のURLが改行される。</td>\n",
       "      <td>URLのパスを””、&lt;&gt;で囲っていただくことで、改善されるか確認ください。</td>\n",
       "    </tr>\n",
       "    <tr>\n",
       "      <th>93</th>\n",
       "      <td>Outlook2010を起動すると、ライセンス認証されていないとメッセージが表示される。ライ...</td>\n",
       "      <td>office2010のインストラ媒体からOutlookをインストールされている場合は、DVD...</td>\n",
       "    </tr>\n",
       "    <tr>\n",
       "      <th>94</th>\n",
       "      <td>Outlook2010のアドレス帳に”（モバイル）”と付くアドレス帳が多数表示される。表示さ...</td>\n",
       "      <td>アドレス帳に表示される（モバイル）は、個人アドレス帳を作成した際に、同時に作成されるため、削...</td>\n",
       "    </tr>\n",
       "    <tr>\n",
       "      <th>95</th>\n",
       "      <td>携帯のメールアドレスにてメーリングリストを作成し、携帯からメール送信したい。対応可能か教えて...</td>\n",
       "      <td>メーリングリストはダイキンのメールアドレス以外は原則禁止されています。\\r必要な場合は理由を...</td>\n",
       "    </tr>\n",
       "    <tr>\n",
       "      <th>96</th>\n",
       "      <td>Outlook2010の英語版を利用しているが、ダイキン設定は存在するか教えて欲しい。</td>\n",
       "      <td>ダイキン設定は日本語、英語関係ありません。\\rOutlook2010のインストールDVDに入...</td>\n",
       "    </tr>\n",
       "    <tr>\n",
       "      <th>97</th>\n",
       "      <td>Ouｔlook2010にて、 アカウントを設定したが、Ouｔlookを起動すると前の方のメー...</td>\n",
       "      <td>前の方のメールプロファイルが残っているため、発生しております。\\rメールプロファイルを削除す...</td>\n",
       "    </tr>\n",
       "    <tr>\n",
       "      <th>98</th>\n",
       "      <td>Outlook2010起動時、McAfeeのアドインメッセージが表示された、「はい」と「いい...</td>\n",
       "      <td>McAfeeのアドインは、利用する必要があるので「いいえ」を選択ください。\\r誤って、「はい...</td>\n",
       "    </tr>\n",
       "    <tr>\n",
       "      <th>99</th>\n",
       "      <td>Outlook2010にて、メール本文作成時に数字を入力後、文章を入力しEnterを実行する...</td>\n",
       "      <td>以下手順を実施ください。\\r\\r（手順）\\r１．Outlookを起動ください。\\r２．Out...</td>\n",
       "    </tr>\n",
       "  </tbody>\n",
       "</table>\n",
       "<p>99 rows × 2 columns</p>\n",
       "</div>"
      ],
      "text/plain": [
       "                                             question  \\\n",
       "0      Outlook2010にてメールを送信する際、自分宛のメールをBCCで運用したいのですが？    \n",
       "1                  Outlook2010にて、メールの署名の作り方が教えてください。    \n",
       "2     Thunderbirdのテンプレートメールと同等の機能はOutlook2010にありますか？    \n",
       "3   Thunderbirdの場合、「宛先」に姓を入れるとアドレス帳の候補者が出ましたが、Outl...   \n",
       "4   Outlookにて、メールアドレス検索の時にアドレス一覧をいちいち選択するのがわずらわしいで...   \n",
       "5                       Outlook2010にて、メールの再編集は可能ですか？    \n",
       "6                      Outlook2010にて、未読メールを探すのが大変です。    \n",
       "7          ThunderbirdとOutlook2010では送信済トレイの違いはありますか？    \n",
       "8            Outlook2010にて、メールに添付するファイルに容量の制限はありますか？    \n",
       "9   Outlook2010にて、長期休暇など長期でメールの返事ができない際、メールの自動応答をさ...   \n",
       "10      Thunderbirdと同様に返信メールにインデントを付けたいのですが、可能でしょうか。    \n",
       "11       Outlookにて、メールサーバとローカルフォルダのメールを一括で検索可能でしょうか。    \n",
       "12             Outlook2010にて、メールの署名のvCardは使用可能でしょうか。    \n",
       "13  Outlookにて、他のユーザーが作成した個人アドレス帳を別のOutlookでインポート/エ...   \n",
       "14             Outlook2010にて、個人アドレス帳に写真を入れることができますか。    \n",
       "15             Thunderbirdと同様にメールの受信を通知させる事は可能でしょうか。    \n",
       "16           Outlookにてメール本文の１行に表示される文字数を変更する事は可能ですか。    \n",
       "17  Thunderbirdからアドレス帳をエクスポートして、Outlook2010にインポートを...   \n",
       "18  Outlookにて、『Drafts(下書き)』、『Deleted Items(削除済みアイテ...   \n",
       "19  Outlook2010にて、アドレス帳から宛先を探す際に、姓名で検索しても正しく結果が表示さ...   \n",
       "20  Outlook2010にて、利用を初めた時から、Office2000を使用して終了した時に必...   \n",
       "21  Outlook2010にて、メーリングリストを差出人に設定しメールを送信すると、送信エラーの...   \n",
       "22  Outlookにて、『名前の確認（簡易検索）』を行ったのですが、存在するはずのユーザが検索結...   \n",
       "23  Outlook2010をインストールしてから、フォルダの検索画面を表示しようとすると見慣れな...   \n",
       "24  Thunderbirdより移行したローカルメールを再利用（返信）してメールを送信するとエラー...   \n",
       "25  Outlook2010にて、必要なメールが迷惑メールフォルダ(Junk Email)に振り分...   \n",
       "26  Outlook2010をインストール後、以前IMEに登録していた辞書の内容が消えてしまいました。    \n",
       "27  Thunderbirdから手順書に沿ってローカルメールの移行を行っているが、途中でエラーが発...   \n",
       "28  Outlook2010にて、画像付(HTML形式)のメールを受信したのですが、プレビュー画面...   \n",
       "29  Outlook2010にて、画像付(HTML形式)のメールを印刷したのですが、画像が印刷され...   \n",
       "..                                                ...   \n",
       "69  Outlook2010にてメールを検索したが検索結果の上に”インデックスを作成中…”メッセー...   \n",
       "70        Outlook2010にて、明らかにメールが表示されているのに検索結果が表示されない。   \n",
       "71        端末をリプレイスしているが、Outlookの仕分けルールは移行されるのか教えて欲しい。   \n",
       "72                       Outlook2010に届く迷惑メールを受信拒否したい。   \n",
       "73    Outlook2010にて、正常なメールがスパムフォルダに届く、受信トレイに届くようにしたい。   \n",
       "74      Outlook2010にて、部門用の連絡先グループを作成したので、他メンバーと共有したい。   \n",
       "75        Outlook2010にて、メールをプレビューする画面が消えた。戻し方を教えて欲しい。   \n",
       "76  Outlook2010にて、連絡先にThunderbirdから移行した個人アドレス帳が表示さ...   \n",
       "77  Ouｔlook2010の受信トレイに表示される”件名”フィールドを操作を誤って削除してしまっ...   \n",
       "78          Outlook2010にて、メールを送信したが、送信トレイに保存され送信できない。   \n",
       "79         Outlook2010にて、ローカルフォルダを作成したいが、対応方法を教えてほしい。   \n",
       "80  端末にOffice365のメールアカウントを作成しているが、”暗号化に失敗しました。”のメッ...   \n",
       "81  Outlook2010にて、アドレス帳のアドレス一覧に表示されている中に不要なアドレス帳が表...   \n",
       "82                          Outlook2010のインストール媒体が欲しい。   \n",
       "83        イントラHPから「Webメール」-「OWA」をクリックしても、最初画面が表示されない。   \n",
       "84          端末が新しくなったため、Outlook2010を設定したいが手順書を教えて欲しい。   \n",
       "85                           出張先に自分の端末が無いが、メールを利用したい。   \n",
       "87         Outlook2010にて、同期の失敗メールが受信されるが、対応方法を教えて欲しい。   \n",
       "88  Outlook2010のメールアカウント設定完了したが、Outlookを起動すると「構成の進...   \n",
       "89  Outlook2010のグローバルアドレス一覧にて、”名前”かつ”場所”や”拠点”にて検索す...   \n",
       "90          Outlook2010の受信トレイに未読メールが存在するが、メールが表示されない。   \n",
       "91  社外から添付ファイル付きメールを送信して頂くことになったが、メール受信できる容量制限を教えて...   \n",
       "92      Outlook2010にて、メール本文にURLを記載し送信すると本文のURLが改行される。   \n",
       "93  Outlook2010を起動すると、ライセンス認証されていないとメッセージが表示される。ライ...   \n",
       "94  Outlook2010のアドレス帳に”（モバイル）”と付くアドレス帳が多数表示される。表示さ...   \n",
       "95  携帯のメールアドレスにてメーリングリストを作成し、携帯からメール送信したい。対応可能か教えて...   \n",
       "96        Outlook2010の英語版を利用しているが、ダイキン設定は存在するか教えて欲しい。   \n",
       "97  Ouｔlook2010にて、 アカウントを設定したが、Ouｔlookを起動すると前の方のメー...   \n",
       "98  Outlook2010起動時、McAfeeのアドインメッセージが表示された、「はい」と「いい...   \n",
       "99  Outlook2010にて、メール本文作成時に数字を入力後、文章を入力しEnterを実行する...   \n",
       "\n",
       "                                          answer_body  \n",
       "0   Thunderbirdではメールを作成した際、自動的にBCCに自分のメールアドレスが設定され...  \n",
       "1   署名の作り方については『【Outlook2010操作マニュアル 応用編】 署名の作成』を参照...  \n",
       "2   Outlook2010にはThunderbirdのテンプレートと同様の機能はありません。\\r...  \n",
       "3   Outlook2010では、過去に入力したアドレスを記憶するオートコンプリート機能がついてい...  \n",
       "4   可能です。\\r方法については『【Outlook2010操作マニュアル 応用編】 アドレス検索...  \n",
       "5   方法については『【Outlook2010操作マニュアル 基本編】 送信済メールの再利用（メー...  \n",
       "6   方法については『【Outlook2010操作マニュアル 応用編】 検索フォルダ―(未読のメー...  \n",
       "7   Outlook2010とThunderbirdでは送信済トレイのフォルダ名が異なります。\\r...  \n",
       "8          添付ファイルの容量の制限は10MBです。\\r（メーリングリストも同様になります。）   \n",
       "9   Outlook2010には自動応答機能は存在しますが、原則利用しないでください。\\r\\r自動...  \n",
       "10  可能です。 設定方法については『【Outlook2010操作マニュアル 応用編】 返信メール...  \n",
       "11  可能です。 検索方法については『【Outlook2010操作マニュアル 応用編】 メールの検...  \n",
       "12            海外とのやり取りで文字化けが発生する可能性があるため使用は禁止しております。   \n",
       "13  可能です。 方法については『【Outlook2010操作マニュアル 応用編】 ユーザー間で個...  \n",
       "14  自分の顔写真は入れることができます。\\r自分の顔写真以外は絶対に使用しないで下さい。\\r※自...  \n",
       "15  可能です。\\r設定方法は下記をご参照ください。\\r【Outlook2010操作マニュアル 応...  \n",
       "16  下記手順にて設定が可能です。\\r※この設定はテキスト形式で作成・送信したメッセージが、送信先...  \n",
       "17  Thuderbirdのアドレス帳にFAXが登録されている場合、FAXも1件と扱われ、2件のデ...  \n",
       "18  Outlook2010の初期設定では『Drafts(下書き)』、『(削除済みアイテム)』、『...  \n",
       "19   アドレス検索にて、『その他のフィールド』が選択されているか確認してください。『名前のみ』が...  \n",
       "20  下記のエラーが発生した場合は、『OK』を押下し、終了してください。\\rデータの破損などの実害...  \n",
       "21  新メールシステムでは差出人にメーリングアドレスを設定することはできません。\\r業務上必要な場...  \n",
       "22  検索対象の宛先に『Daikin Directory』を追加してください。\\r設定方法について...  \n",
       "23  Outlook2010の設定を実施した際に、WindowsSearchをインストールを行った...  \n",
       "24  Thunderbirdから移行したメールを再利用（返信）する場合は、既に入力されている差出人...  \n",
       "25  以下の設定を行うことにより、迷惑メールに届いていたメールを受信フォルダ(inbox)に移動し...  \n",
       "26  登録単語が正常に引継できていないことが原因だと考えられます。\\r以下の手順で『手動での登録単...  \n",
       "27  Thunderbirdのローカルメールの容量が50GB以上の場合、一括でローカルメールを移行...  \n",
       "28  ダイキン設定では受信したメールをテキスト形式にて表示しております。\\r画像付（HTML形式)...  \n",
       "29  画像付(HTML形式)のメールを印刷する場合、一度、HTML形式でメールを表示させてから印刷...  \n",
       "..                                                ...  \n",
       "69  ”インデックスを作成中…”メッセージは、Outlookの検索機能にて利用されます。\\rメール...  \n",
       "70  Outlookのインデックスが壊れてるため、検索できない状態になっています。\\r\\r以下UR...  \n",
       "71  Outlookの仕分けルールを確認し仕分けルールの名前にクライアントルールと記載があれば、端...  \n",
       "72  迷惑メールの受信拒否はメールサーバ上を対応しています。\\rOutlookに届く迷惑メールを拒...  \n",
       "73  Outlookのスパムフォルダに届く、正常メールを受信トレイに届くように設定する場合は以下手...  \n",
       "74  Outlookにて、作成された連絡先グループを共有化される場合は、以下手順を実施ください。\\...  \n",
       "75  以下手順を実施ください。\\r\\r(手順)\\r１．Outlookを起動ください。\\r２．「表示...  \n",
       "76  Outlookへ個人アドレス帳を移行されている場合は、以下手順を実施ください。\\r\\r（手順...  \n",
       "77  以下手順を実施ください。\\r\\r（手順）\\r１．Outlookを起動ください。\\r２．受信ト...  \n",
       "78  以下手順を実施しOutlookにてメールサーバに接続されているか確認ください。\\r\\r（手順...  \n",
       "79  以下手順を実施ください。\\r\\r（手順）\\r１．Outlookを起動ください。\\r２．Out...  \n",
       "80  メールのパスワードを更新されていない場合は、以下3点を確認ください。\\r\\r（手順）\\r１．...  \n",
       "81  Outlookのアドレス帳から個人アドレス帳の表示を削除される場合は、以下l手順を実施くださ...  \n",
       "82  Outlook2010のインストール媒体は、関係各所のIT担当者へ恒久版のDVDをお渡しして...  \n",
       "83  以下手順を実施ください。\\r\\r（手順）\\r１．IE11を起動してください。\\r２．IE11...  \n",
       "84  手順書はダイキンイントラHPに３種類ありますので、以下URLから手順を確認ください。\\rht...  \n",
       "85  ご自分の端末が無い場合は、OWAからメールを利用ください。\\r以下手順を実施ください。\\r\\...  \n",
       "87  同期の失敗メールは、メールサーバと同期を取る際、あるタイミングで失敗したためのメールです。\\...  \n",
       "88  office2010に問題があるので、officeの修復を以下手順を実施ください。\\r\\r（...  \n",
       "89  グローバルアドレス一覧では、拠点や場所の情報がないため、検索できません。\\rDaikin D...  \n",
       "90  以下手順を実施ください。\\r\\r（手順）\\r１．Outlookを起動ください。\\r２．Out...  \n",
       "91  ダイキン社内間であれば、メール送受信の容量制限は10MBになります。\\rメール本文も含めた容...  \n",
       "92              URLのパスを””、<>で囲っていただくことで、改善されるか確認ください。  \n",
       "93  office2010のインストラ媒体からOutlookをインストールされている場合は、DVD...  \n",
       "94  アドレス帳に表示される（モバイル）は、個人アドレス帳を作成した際に、同時に作成されるため、削...  \n",
       "95  メーリングリストはダイキンのメールアドレス以外は原則禁止されています。\\r必要な場合は理由を...  \n",
       "96  ダイキン設定は日本語、英語関係ありません。\\rOutlook2010のインストールDVDに入...  \n",
       "97  前の方のメールプロファイルが残っているため、発生しております。\\rメールプロファイルを削除す...  \n",
       "98  McAfeeのアドインは、利用する必要があるので「いいえ」を選択ください。\\r誤って、「はい...  \n",
       "99  以下手順を実施ください。\\r\\r（手順）\\r１．Outlookを起動ください。\\r２．Out...  \n",
       "\n",
       "[99 rows x 2 columns]"
      ]
     },
     "execution_count": 29,
     "metadata": {},
     "output_type": "execute_result"
    }
   ],
   "source": [
    "import os\n",
    "import pandas\n",
    "\n",
    "def replace_newline(val):\n",
    "    return val.replace('\\r', '').replace('\\n', '')\n",
    "\n",
    "n_samples = 100\n",
    "\n",
    "csvDir = \"../learning/tests/engine/fixtures/\"\n",
    "csvFile = \"test_daikin_conversation.csv\"\n",
    "csvPath = os.path.join(csvDir, csvFile)\n",
    "\n",
    "csvTemp = pandas.read_csv(csvPath, encoding='Shift_JIS')\n",
    "csvData = csvTemp.drop_duplicates(subset=['answer_id'])\n",
    "\n",
    "testData = csvData.ix[0:n_samples-1, ['question', 'answer_body']]\n",
    "testData"
   ]
  },
  {
   "cell_type": "markdown",
   "metadata": {
    "deletable": true,
    "editable": true
   },
   "source": [
    "### MeCab を準備"
   ]
  },
  {
   "cell_type": "code",
   "execution_count": 30,
   "metadata": {
    "collapsed": false,
    "deletable": true,
    "editable": true
   },
   "outputs": [],
   "source": [
    "import MeCab\n",
    "meCab = MeCab.Tagger('-Owakati -d /usr/local/lib/mecab/dic/ipadic')"
   ]
  },
  {
   "cell_type": "markdown",
   "metadata": {
    "deletable": true,
    "editable": true
   },
   "source": [
    "### コーパスを作成"
   ]
  },
  {
   "cell_type": "code",
   "execution_count": 31,
   "metadata": {
    "collapsed": false,
    "deletable": true,
    "editable": true
   },
   "outputs": [],
   "source": [
    "corpus = []\n",
    "origin_text = []\n",
    "\n",
    "for i in range(0, n_samples):\n",
    "    try:\n",
    "        question = testData.ix[i, 'question']\n",
    "    except:\n",
    "        continue\n",
    "    question = replace_newline(question)\n",
    "    parsed_text = meCab.parse(question)\n",
    "    corpus.append(replace_newline(parsed_text))\n",
    "    origin_text.append(replace_newline(question))"
   ]
  },
  {
   "cell_type": "code",
   "execution_count": 32,
   "metadata": {
    "collapsed": false,
    "deletable": true,
    "editable": true,
    "scrolled": false
   },
   "outputs": [
    {
     "name": "stdout",
     "output_type": "stream",
     "text": [
      "Parsed questions (count=99):\n",
      "#0=[Outlook 2010 にて メール を 送信 する 際 、 自分 宛 の メール を BCC で 運用 し たい の です が ？ ]\n",
      "#1=[Outlook 2010 にて 、 メール の 署名 の 作り方 が 教え て ください 。 ]\n",
      "#2=[Thunderbird の テンプレート メール と 同等 の 機能 は Outlook 2010 に あり ます か ？ ]\n",
      "#3=[Thunderbird の 場合 、 「 宛先 」 に 姓 を 入れる と アドレス 帳 の 候補 者 が 出 まし た が 、 Outlook 2010 で アドレス を 簡単 に 検索 できる 機能 は ない です か ？ ]\n",
      "#4=[Outlook にて 、 メールアドレス 検索 の 時 に アドレス 一覧 を いちいち 選択 する の が わずらわしい です 、 こちら の 意図 し た アドレス 一覧 を デフォルト に 設定 でき ない の でしょ う か ？ ]\n",
      "#5=[Outlook 2010 にて 、 メール の 再 編集 は 可能 です か ？ ]\n",
      "#6=[Outlook 2010 にて 、 未読 メール を 探す の が 大変 です 。 ]\n",
      "#7=[Thunderbird と Outlook 2010 で は 送信 済 トレイ の 違い は あり ます か ？ ]\n",
      "#8=[Outlook 2010 にて 、 メール に 添付 する ファイル に 容量 の 制限 は あり ます か ？ ]\n",
      "#9=[Outlook 2010 にて 、 長期 休暇 など 長期 で メール の 返事 が でき ない 際 、 メール の 自動 応答 を さ せ たい の です が 、 設定 方法 を 教え て ください 。 ]\n"
     ]
    }
   ],
   "source": [
    "n_samples = len(corpus)\n",
    "print('Parsed questions (count=%d):' % n_samples)\n",
    "\n",
    "# 最初の１０件を表示\n",
    "for i in range(0, 10):\n",
    "    #for debug\n",
    "    print('#%d=[%s]' % (i, corpus[i]))"
   ]
  },
  {
   "cell_type": "markdown",
   "metadata": {
    "deletable": true,
    "editable": true
   },
   "source": [
    "### TFベクターを作成（＝LDAの入力イメージ）"
   ]
  },
  {
   "cell_type": "code",
   "execution_count": 33,
   "metadata": {
    "collapsed": false,
    "deletable": true,
    "editable": true
   },
   "outputs": [
    {
     "name": "stdout",
     "output_type": "stream",
     "text": [
      "Extracting tf features for LDA...\n",
      "done in 0.004s.\n"
     ]
    }
   ],
   "source": [
    "from time import time\n",
    "from sklearn.feature_extraction.text import CountVectorizer\n",
    "\n",
    "n_features = 1000\n",
    "print(\"Extracting tf features for LDA...\")\n",
    "tf_vectorizer = CountVectorizer(max_df=0.66,\n",
    "                                min_df=1,\n",
    "                                max_features=n_features # 特徴語の上限\n",
    "                                )\n",
    "t0 = time()\n",
    "tf = tf_vectorizer.fit_transform(corpus)\n",
    "print(\"done in %0.3fs.\" % (time() - t0))"
   ]
  },
  {
   "cell_type": "markdown",
   "metadata": {
    "deletable": true,
    "editable": true
   },
   "source": [
    "- TFベクターは、scipy.sparse（疎行列）イメージとのことです。\n",
    "\n",
    " この例ですと、99 件のテキスト（コーパス）×特徴語件数（304件、後述）という行列データが疎行列化されているようです。 "
   ]
  },
  {
   "cell_type": "code",
   "execution_count": 34,
   "metadata": {
    "collapsed": false,
    "deletable": true,
    "editable": true
   },
   "outputs": [
    {
     "name": "stdout",
     "output_type": "stream",
     "text": [
      "<class 'scipy.sparse.csr.csr_matrix'>\n"
     ]
    },
    {
     "data": {
      "text/plain": [
       "<99x304 sparse matrix of type '<class 'numpy.int64'>'\n",
       "\twith 982 stored elements in Compressed Sparse Row format>"
      ]
     },
     "execution_count": 34,
     "metadata": {},
     "output_type": "execute_result"
    }
   ],
   "source": [
    "print(type(tf))\n",
    "tf"
   ]
  },
  {
   "cell_type": "markdown",
   "metadata": {
    "deletable": true,
    "editable": true
   },
   "source": [
    "- TFベクターの中身（抜粋）\n",
    "\n",
    " テキスト（コーパス）における、特徴語の出現回数であることがわかります。"
   ]
  },
  {
   "cell_type": "code",
   "execution_count": 35,
   "metadata": {
    "collapsed": false,
    "deletable": true,
    "editable": true,
    "scrolled": true
   },
   "outputs": [
    {
     "data": {
      "text/plain": [
       "array([1, 1, 1, 1, 1, 1, 1, 2, 1], dtype=int64)"
      ]
     },
     "execution_count": 35,
     "metadata": {},
     "output_type": "execute_result"
    }
   ],
   "source": [
    "tf.data[0:9]"
   ]
  },
  {
   "cell_type": "markdown",
   "metadata": {
    "deletable": true,
    "editable": true
   },
   "source": [
    "### 特徴語を確認"
   ]
  },
  {
   "cell_type": "code",
   "execution_count": 8,
   "metadata": {
    "collapsed": false,
    "deletable": true,
    "editable": true,
    "scrolled": true
   },
   "outputs": [
    {
     "data": {
      "text/plain": [
       "304"
      ]
     },
     "execution_count": 8,
     "metadata": {},
     "output_type": "execute_result"
    }
   ],
   "source": [
    "tf_feature_names = tf_vectorizer.get_feature_names()\n",
    "len(tf_feature_names)"
   ]
  },
  {
   "cell_type": "markdown",
   "metadata": {
    "deletable": true,
    "editable": true
   },
   "source": [
    "長くなってしまい申し訳ありませんが・・・確認のため、全量を表示させます。"
   ]
  },
  {
   "cell_type": "code",
   "execution_count": 36,
   "metadata": {
    "collapsed": false,
    "deletable": true,
    "editable": true
   },
   "outputs": [
    {
     "data": {
      "text/plain": [
       "['2000',\n",
       " '365',\n",
       " 'bcc',\n",
       " 'co',\n",
       " 'daikin',\n",
       " 'deleted',\n",
       " 'drafts',\n",
       " 'email',\n",
       " 'enter',\n",
       " 'hp',\n",
       " 'html',\n",
       " 'id',\n",
       " 'ie',\n",
       " 'ime',\n",
       " 'items',\n",
       " 'jp',\n",
       " 'junk',\n",
       " 'mcafee',\n",
       " 'office',\n",
       " 'outｌook',\n",
       " 'ouｔlook',\n",
       " 'owa',\n",
       " 'thunderbird',\n",
       " 'url',\n",
       " 'vcard',\n",
       " 'vpn',\n",
       " 'web',\n",
       " 'あり',\n",
       " 'いい',\n",
       " 'いいえ',\n",
       " 'いちいち',\n",
       " 'いる',\n",
       " 'かかる',\n",
       " 'かつ',\n",
       " 'から',\n",
       " 'ください',\n",
       " 'こちら',\n",
       " 'こと',\n",
       " 'しまい',\n",
       " 'しまう',\n",
       " 'しまっ',\n",
       " 'しよ',\n",
       " 'すべて',\n",
       " 'する',\n",
       " 'すれ',\n",
       " 'せる',\n",
       " 'たい',\n",
       " 'ため',\n",
       " 'たら',\n",
       " 'だっ',\n",
       " 'でき',\n",
       " 'できる',\n",
       " 'でしょ',\n",
       " 'です',\n",
       " 'という',\n",
       " 'として',\n",
       " 'どう',\n",
       " 'ない',\n",
       " 'なく',\n",
       " 'なっ',\n",
       " 'なで',\n",
       " 'など',\n",
       " 'なり',\n",
       " 'にくい',\n",
       " 'にて',\n",
       " 'ので',\n",
       " 'はい',\n",
       " 'はず',\n",
       " 'ほしい',\n",
       " 'まし',\n",
       " 'ます',\n",
       " 'ませ',\n",
       " 'やり方',\n",
       " 'よう',\n",
       " 'より',\n",
       " 'られ',\n",
       " 'られる',\n",
       " 'れる',\n",
       " 'わずらわしい',\n",
       " 'アイテム',\n",
       " 'アカウント',\n",
       " 'アドインメッセージ',\n",
       " 'アドレス',\n",
       " 'イン',\n",
       " 'インストール',\n",
       " 'インデックス',\n",
       " 'インデント',\n",
       " 'イントラ',\n",
       " 'エクスポート',\n",
       " 'エラー',\n",
       " 'エラーメッセージ',\n",
       " 'オフライン',\n",
       " 'キャンセル',\n",
       " 'クリック',\n",
       " 'グループ',\n",
       " 'グローバル',\n",
       " 'コード',\n",
       " 'サイン',\n",
       " 'サーバ',\n",
       " 'スパムフォルダ',\n",
       " 'タイトル',\n",
       " 'ダイキン',\n",
       " 'テンプレート',\n",
       " 'デフォルト',\n",
       " 'データ',\n",
       " 'トレイ',\n",
       " 'ドライブ',\n",
       " 'ネットワーク',\n",
       " 'ハードディスク',\n",
       " 'パスワード',\n",
       " 'ファイル',\n",
       " 'フィールド',\n",
       " 'フォルダ',\n",
       " 'プレビュー',\n",
       " 'プロファイル',\n",
       " 'ページ',\n",
       " 'ポート',\n",
       " 'メッセージ',\n",
       " 'メンバー',\n",
       " 'メーリングリスト',\n",
       " 'メール',\n",
       " 'メールアドレ',\n",
       " 'メールアドレス',\n",
       " 'メールフォルダ',\n",
       " 'モバイル',\n",
       " 'ユーザ',\n",
       " 'ユーザー',\n",
       " 'ライセンス',\n",
       " 'リプレイス',\n",
       " 'リンク',\n",
       " 'ルール',\n",
       " 'ログイン',\n",
       " 'ローカル',\n",
       " 'ローカルフォルダ',\n",
       " '一括',\n",
       " '一覧',\n",
       " '下書き',\n",
       " '不明',\n",
       " '不要',\n",
       " '仕分け',\n",
       " '付き',\n",
       " '付く',\n",
       " '付け',\n",
       " '以前',\n",
       " '件名',\n",
       " '件数',\n",
       " '休暇',\n",
       " '作り方',\n",
       " '作成',\n",
       " '使用',\n",
       " '保存',\n",
       " '個人',\n",
       " '候補',\n",
       " '入れる',\n",
       " '入力',\n",
       " '共有',\n",
       " '内容',\n",
       " '写真',\n",
       " '出張',\n",
       " '出来',\n",
       " '出来る',\n",
       " '分割',\n",
       " '切り替える',\n",
       " '初め',\n",
       " '利用',\n",
       " '制限',\n",
       " '削除',\n",
       " '勝手',\n",
       " '化け',\n",
       " '印刷',\n",
       " '参照',\n",
       " '受信',\n",
       " '可能',\n",
       " '右側',\n",
       " '同期',\n",
       " '同様',\n",
       " '同等',\n",
       " '名前',\n",
       " '固まっ',\n",
       " '圧迫',\n",
       " '場合',\n",
       " '場所',\n",
       " '変わっ',\n",
       " '変更',\n",
       " '外部',\n",
       " '多数',\n",
       " '大変',\n",
       " '失敗',\n",
       " '姓名',\n",
       " '媒体',\n",
       " '存在',\n",
       " '完了',\n",
       " '宛先',\n",
       " '実行',\n",
       " '容量',\n",
       " '対処',\n",
       " '対応',\n",
       " '届い',\n",
       " '届き',\n",
       " '届く',\n",
       " '差出人',\n",
       " '形式',\n",
       " '復旧',\n",
       " '必ず',\n",
       " '必要',\n",
       " '応答',\n",
       " '意図',\n",
       " '戻し',\n",
       " '手順',\n",
       " '押し',\n",
       " '拒否',\n",
       " '拠点',\n",
       " '振り分け',\n",
       " '探す',\n",
       " '接続',\n",
       " '携帯',\n",
       " '操作',\n",
       " '改行',\n",
       " '教え',\n",
       " '数字',\n",
       " '文字',\n",
       " '文字数',\n",
       " '文章',\n",
       " '新しく',\n",
       " '方法',\n",
       " '日付',\n",
       " '明らか',\n",
       " '時間',\n",
       " '暗号',\n",
       " '書か',\n",
       " '書き',\n",
       " '最初',\n",
       " '未読',\n",
       " '本文',\n",
       " '検索',\n",
       " '構成',\n",
       " '機能',\n",
       " '欲しい',\n",
       " '正しく',\n",
       " '正常',\n",
       " '求め',\n",
       " '沿っ',\n",
       " '消え',\n",
       " '添付',\n",
       " '済み',\n",
       " '無い',\n",
       " '特定',\n",
       " '状態',\n",
       " '状況',\n",
       " '画像',\n",
       " '画面',\n",
       " '発生',\n",
       " '登録',\n",
       " '相手',\n",
       " '確認',\n",
       " '社外',\n",
       " '移行',\n",
       " '端末',\n",
       " '簡単',\n",
       " '簡易',\n",
       " '終了',\n",
       " '経由',\n",
       " '結果',\n",
       " '編集',\n",
       " '署名',\n",
       " '自分',\n",
       " '自動',\n",
       " '英語',\n",
       " '行い',\n",
       " '行う',\n",
       " '行っ',\n",
       " '表示',\n",
       " '見つかり',\n",
       " '見る',\n",
       " '見れ',\n",
       " '見慣れ',\n",
       " '解除',\n",
       " '記載',\n",
       " '設定',\n",
       " '認証',\n",
       " '誤っ',\n",
       " '誤り',\n",
       " '起動',\n",
       " '転送',\n",
       " '辞書',\n",
       " '返事',\n",
       " '返信',\n",
       " '迷惑',\n",
       " '送れ',\n",
       " '送付',\n",
       " '送信',\n",
       " '途中',\n",
       " '通知',\n",
       " '連絡',\n",
       " '進行',\n",
       " '運用',\n",
       " '違い',\n",
       " '選択',\n",
       " '部門',\n",
       " '長期',\n",
       " '開き',\n",
       " '頂く',\n",
       " '２つ',\n",
       " 'ｄｉｒｅctory']"
      ]
     },
     "execution_count": 36,
     "metadata": {},
     "output_type": "execute_result"
    }
   ],
   "source": [
    "tf_feature_names"
   ]
  },
  {
   "cell_type": "markdown",
   "metadata": {
    "deletable": true,
    "editable": true
   },
   "source": [
    "### 学習実行\n",
    "\n",
    "確認をやりやすくするために、初期学習用データ(９７件)と、追加学習用データ(２件)に分けます。\n",
    "\n",
    "（バラでTFベクターを作ってしまうと、次元数やインデックスがずれて、動作確認ができなくなってしまうための措置）"
   ]
  },
  {
   "cell_type": "code",
   "execution_count": 37,
   "metadata": {
    "collapsed": false,
    "deletable": true,
    "editable": true
   },
   "outputs": [
    {
     "data": {
      "text/plain": [
       "<99x304 sparse matrix of type '<class 'numpy.int64'>'\n",
       "\twith 982 stored elements in Compressed Sparse Row format>"
      ]
     },
     "execution_count": 37,
     "metadata": {},
     "output_type": "execute_result"
    }
   ],
   "source": [
    "tf"
   ]
  },
  {
   "cell_type": "code",
   "execution_count": 38,
   "metadata": {
    "collapsed": false,
    "deletable": true,
    "editable": true
   },
   "outputs": [
    {
     "data": {
      "text/plain": [
       "<97x304 sparse matrix of type '<class 'numpy.int64'>'\n",
       "\twith 950 stored elements in Compressed Sparse Row format>"
      ]
     },
     "execution_count": 38,
     "metadata": {},
     "output_type": "execute_result"
    }
   ],
   "source": [
    "tf_init = tf[0:97]\n",
    "tf_init"
   ]
  },
  {
   "cell_type": "code",
   "execution_count": 39,
   "metadata": {
    "collapsed": false,
    "deletable": true,
    "editable": true
   },
   "outputs": [
    {
     "data": {
      "text/plain": [
       "<2x304 sparse matrix of type '<class 'numpy.int64'>'\n",
       "\twith 32 stored elements in Compressed Sparse Row format>"
      ]
     },
     "execution_count": 39,
     "metadata": {},
     "output_type": "execute_result"
    }
   ],
   "source": [
    "tf_add = tf[97:]\n",
    "tf_add"
   ]
  },
  {
   "cell_type": "markdown",
   "metadata": {
    "deletable": true,
    "editable": true
   },
   "source": [
    "初期学習用のデータを使用して学習を実行します。"
   ]
  },
  {
   "cell_type": "code",
   "execution_count": 40,
   "metadata": {
    "collapsed": false,
    "deletable": true,
    "editable": true
   },
   "outputs": [
    {
     "name": "stdout",
     "output_type": "stream",
     "text": [
      "Fitting LDA models with tf features, n_samples=99 and n_features=1000...\n",
      "done in 0.243s.\n"
     ]
    }
   ],
   "source": [
    "from sklearn.decomposition import LatentDirichletAllocation\n",
    "\n",
    "print(\"Fitting LDA models with tf features, \"\n",
    "      \"n_samples=%d and n_features=%d...\"\n",
    "      % (n_samples, n_features))\n",
    "lda = LatentDirichletAllocation(n_topics=10, # トピック分類件数\n",
    "                                max_iter=20, # 繰り返し実行\n",
    "                                learning_method='online', # 学習実行-->即結果を出力\n",
    "                                learning_offset=25.,\n",
    "                                random_state=1)\n",
    "t0 = time()\n",
    "lda.fit(tf_init)\n",
    "answers = lda.transform(tf_init)\n",
    "\n",
    "print(\"done in %0.3fs.\" % (time() - t0))"
   ]
  },
  {
   "cell_type": "markdown",
   "metadata": {
    "deletable": true,
    "editable": true
   },
   "source": [
    "### トピックに含まれる上位の特徴語"
   ]
  },
  {
   "cell_type": "code",
   "execution_count": 41,
   "metadata": {
    "collapsed": false,
    "deletable": true,
    "editable": true
   },
   "outputs": [],
   "source": [
    "def get_top_words_in_topic(lda, tf_feature_names, n_top_words):\n",
    "    top_words = []\n",
    "\n",
    "    for topic_idx, topic in enumerate(lda.components_):\n",
    "        # 特徴語のインデックスを、単語出現確率の高いもの順に取得\n",
    "        top_words_idx_list = topic.argsort()\n",
    "        reverse_idx = -n_top_words - 1\n",
    "        top_words_idx = top_words_idx_list[:reverse_idx:-1]\n",
    "\n",
    "        # 特徴語をリストに取得\n",
    "        top_words_list = [tf_feature_names[i] for i in top_words_idx]\n",
    "        top_words.append(top_words_list)\n",
    "\n",
    "    # 上位の特徴語リストを戻す\n",
    "    return top_words"
   ]
  },
  {
   "cell_type": "code",
   "execution_count": 42,
   "metadata": {
    "collapsed": false,
    "deletable": true,
    "editable": true,
    "scrolled": true
   },
   "outputs": [
    {
     "name": "stdout",
     "output_type": "stream",
     "text": [
      "Topic #0:\n",
      "まし,しまい,辞書,消え,ime,以前,インストール,登録,内容,表示,あり,ユーザー,owa,アドレス,パスワード\n",
      "Topic #1:\n",
      "メール,にて,利用,です,フォルダ,すれ,まし,表示,いい,迷惑,junk,email,ない,どう,よう\n",
      "Topic #2:\n",
      "する,容量,英語,ダイキン,制限,存在,ファイル,あり,利用,添付,いる,設定,ます,欲しい,教え\n",
      "Topic #3:\n",
      "表示,する,ない,起動,れる,画面,設定,アドレス,欲しい,教え,にて,メール,アカウント,ouｔlook,ライセンス\n",
      "Topic #4:\n",
      "表示,ほしい,誤っ,ouｔlook,件名,方法,しまっ,トレイ,操作,教え,対応,れる,受信,フィールド,削除\n",
      "Topic #5:\n",
      "owa,ませ,長期,メール,表示,欲しい,変わっ,媒体,インストール,という,web,勝手,開き,イン,見れ\n",
      "Topic #6:\n",
      "届く,データ,容量,正常,圧迫,スパムフォルダ,ます,トレイ,ハードディスク,ドライブ,よう,受信,たい,メール,にて\n",
      "Topic #7:\n",
      "でき,にて,メール,ない,表示,アドレス,検索,送信,ませ,いる,設定,する,まし,から,thunderbird\n",
      "Topic #8:\n",
      "あり,ます,thunderbird,機能,メール,送信,トレイ,リンク,として,テンプレート,違い,同等,書か,url,受信\n",
      "Topic #9:\n",
      "メール,にて,教え,欲しい,方法,たい,可能,です,から,する,thunderbird,受信,対応,設定,でしょ\n"
     ]
    }
   ],
   "source": [
    "n_top_words = 15\n",
    "\n",
    "def print_top_words_in_topic(lda, tf_feature_names, n_top_words):\n",
    "    top_words_list = get_top_words_in_topic(lda, tf_feature_names, n_top_words)\n",
    "    for topic_idx, top_words in enumerate(top_words_list):\n",
    "        print(\"Topic #%d:\" % topic_idx)\n",
    "        print(\",\".join(top_words))\n",
    "\n",
    "print_top_words_in_topic(lda, tf_feature_names, n_top_words)"
   ]
  },
  {
   "cell_type": "markdown",
   "metadata": {
    "deletable": true,
    "editable": true
   },
   "source": [
    "### トピックの分類結果（＝LDAの出力イメージ）\n",
    "\n",
    "LDA の fit_transform 関数の実行結果は、２次元配列となっています。\n",
    "\n",
    "１次元め＝質問文のインデックスに対応します（各質問文ごとの、トピックに該当する確率のリスト）。"
   ]
  },
  {
   "cell_type": "code",
   "execution_count": 43,
   "metadata": {
    "collapsed": false,
    "deletable": true,
    "editable": true
   },
   "outputs": [
    {
     "data": {
      "text/plain": [
       "array([[ 0.00909101,  0.00909224,  0.00909119,  0.00909157,  0.00909102,\n",
       "         0.00909107,  0.00909107,  0.00909242,  0.00909128,  0.91817713],\n",
       "       [ 0.01428588,  0.01428641,  0.01428594,  0.0142863 ,  0.01428601,\n",
       "         0.0142867 ,  0.01428594,  0.01428706,  0.01428602,  0.87142375],\n",
       "       [ 0.01250014,  0.01250222,  0.01250035,  0.01250074,  0.01250006,\n",
       "         0.01250061,  0.01250037,  0.01250322,  0.88748655,  0.01250576],\n",
       "       [ 0.00666723,  0.00666749,  0.00666678,  0.00666702,  0.00666681,\n",
       "         0.00666686,  0.00666681,  0.93999522,  0.00666832,  0.00666746],\n",
       "       [ 0.0050001 ,  0.00500023,  0.00500016,  0.00500073,  0.00500007,\n",
       "         0.00500009,  0.0050001 ,  0.95499729,  0.00500013,  0.00500109]])"
      ]
     },
     "execution_count": 43,
     "metadata": {},
     "output_type": "execute_result"
    }
   ],
   "source": [
    "answers[0:5]"
   ]
  },
  {
   "cell_type": "markdown",
   "metadata": {
    "deletable": true,
    "editable": true
   },
   "source": [
    "２次元目＝それぞれのトピックに該当する確率になります。\n",
    "\n",
    "（下記例では１０番目のトピックに該当する確率が91.8%とのこと）"
   ]
  },
  {
   "cell_type": "code",
   "execution_count": 44,
   "metadata": {
    "collapsed": false,
    "deletable": true,
    "editable": true
   },
   "outputs": [
    {
     "data": {
      "text/plain": [
       "array([ 0.00909101,  0.00909224,  0.00909119,  0.00909157,  0.00909102,\n",
       "        0.00909107,  0.00909107,  0.00909242,  0.00909128,  0.91817713])"
      ]
     },
     "execution_count": 44,
     "metadata": {},
     "output_type": "execute_result"
    }
   ],
   "source": [
    "answers[0]"
   ]
  },
  {
   "cell_type": "markdown",
   "metadata": {
    "deletable": true,
    "editable": true
   },
   "source": [
    "### 分類結果の検証\n",
    "\n",
    "それぞれの質問文が、どのトピックに分類されたかを検証してみます。"
   ]
  },
  {
   "cell_type": "code",
   "execution_count": 45,
   "metadata": {
    "collapsed": false,
    "deletable": true,
    "editable": true
   },
   "outputs": [],
   "source": [
    "def get_hit_topic_idx(probs):\n",
    "    topic_idx = 0\n",
    "    max_prob = 0.0\n",
    "    for i in range(0, len(probs)):\n",
    "        if max_prob < probs[i]:\n",
    "            topic_idx = i\n",
    "            max_prob = probs[i]\n",
    "\n",
    "    return topic_idx"
   ]
  },
  {
   "cell_type": "code",
   "execution_count": 46,
   "metadata": {
    "collapsed": false,
    "deletable": true,
    "editable": true
   },
   "outputs": [
    {
     "name": "stdout",
     "output_type": "stream",
     "text": [
      "Topic #0:\n",
      "まし,しまい,辞書,消え,ime,以前,インストール,登録,内容,表示,あり,ユーザー,owa,アドレス,パスワード\n",
      "Topic #1:\n",
      "メール,にて,利用,です,フォルダ,すれ,まし,表示,いい,迷惑,junk,email,ない,どう,よう\n",
      "Topic #2:\n",
      "する,容量,英語,ダイキン,制限,存在,ファイル,あり,利用,添付,いる,設定,ます,欲しい,教え\n",
      "Topic #3:\n",
      "表示,する,ない,起動,れる,画面,設定,アドレス,欲しい,教え,にて,メール,アカウント,ouｔlook,ライセンス\n",
      "Topic #4:\n",
      "表示,ほしい,誤っ,ouｔlook,件名,方法,しまっ,トレイ,操作,教え,対応,れる,受信,フィールド,削除\n",
      "Topic #5:\n",
      "owa,ませ,長期,メール,表示,欲しい,変わっ,媒体,インストール,という,web,勝手,開き,イン,見れ\n",
      "Topic #6:\n",
      "届く,データ,容量,正常,圧迫,スパムフォルダ,ます,トレイ,ハードディスク,ドライブ,よう,受信,たい,メール,にて\n",
      "Topic #7:\n",
      "でき,にて,メール,ない,表示,アドレス,検索,送信,ませ,いる,設定,する,まし,から,thunderbird\n",
      "Topic #8:\n",
      "あり,ます,thunderbird,機能,メール,送信,トレイ,リンク,として,テンプレート,違い,同等,書か,url,受信\n",
      "Topic #9:\n",
      "メール,にて,教え,欲しい,方法,たい,可能,です,から,する,thunderbird,受信,対応,設定,でしょ\n",
      "==========\n",
      "Sample Text #0 ---> Topic #9 (91.8%):\n",
      "Outlook2010にてメールを送信する際、自分宛のメールをBCCで運用したいのですが？ \n",
      "==========\n",
      "Sample Text #1 ---> Topic #9 (87.1%):\n",
      "Outlook2010にて、メールの署名の作り方が教えてください。 \n",
      "==========\n",
      "Sample Text #2 ---> Topic #8 (88.7%):\n",
      "Thunderbirdのテンプレートメールと同等の機能はOutlook2010にありますか？ \n",
      "==========\n",
      "Sample Text #3 ---> Topic #7 (94.0%):\n",
      "Thunderbirdの場合、「宛先」に姓を入れるとアドレス帳の候補者が出ましたが、Outlook2010でアドレスを簡単に検索できる機能はないですか？\n",
      "==========\n",
      "Sample Text #4 ---> Topic #7 (95.5%):\n",
      "Outlookにて、メールアドレス検索の時にアドレス一覧をいちいち選択するのがわずらわしいです、こちらの意図したアドレス一覧をデフォルトに設定できないのでしょうか？ \n",
      "==========\n",
      "Sample Text #5 ---> Topic #9 (85.0%):\n",
      "Outlook2010にて、メールの再編集は可能ですか？ \n",
      "==========\n",
      "Sample Text #6 ---> Topic #9 (87.1%):\n",
      "Outlook2010にて、未読メールを探すのが大変です。 \n",
      "==========\n",
      "Sample Text #7 ---> Topic #8 (87.1%):\n",
      "ThunderbirdとOutlook2010では送信済トレイの違いはありますか？ \n",
      "==========\n",
      "Sample Text #8 ---> Topic #2 (62.7%):\n",
      "Outlook2010にて、メールに添付するファイルに容量の制限はありますか？ \n",
      "==========\n",
      "Sample Text #9 ---> Topic #9 (42.7%):\n",
      "Outlook2010にて、長期休暇など長期でメールの返事ができない際、メールの自動応答をさせたいのですが、設定方法を教えてください。 \n"
     ]
    }
   ],
   "source": [
    "# トピックの上位特徴語を表示\n",
    "print_top_words_in_topic(lda, tf_feature_names, n_top_words)\n",
    "\n",
    "# 最初の１０件の質問文について検証してみます\n",
    "for data_idx in range(0, 10): \n",
    "    topic_idx = get_hit_topic_idx(answers[data_idx])\n",
    "    topic_prob_rate = answers[data_idx][topic_idx] * 100\n",
    "    \n",
    "    print(\"==========\")\n",
    "    print(\"Sample Text #%d ---> Topic #%d (%0.1f%%):\" % (data_idx, topic_idx, topic_prob_rate))\n",
    "    print(origin_text[data_idx])"
   ]
  },
  {
   "cell_type": "markdown",
   "metadata": {
    "collapsed": true,
    "deletable": true,
    "editable": true
   },
   "source": [
    "### 追加学習"
   ]
  },
  {
   "cell_type": "markdown",
   "metadata": {
    "deletable": true,
    "editable": true
   },
   "source": [
    "上記までの手順で訓練したLDAモデルを使用して、検証用データ（２件）を追加で与え、検証を行います。"
   ]
  },
  {
   "cell_type": "code",
   "execution_count": 47,
   "metadata": {
    "collapsed": false,
    "deletable": true,
    "editable": true
   },
   "outputs": [
    {
     "data": {
      "text/plain": [
       "array([[ 0.00666669,  0.07405928,  0.00666675,  0.6245668 ,  0.00666687,\n",
       "         0.00666673,  0.00666669,  0.00666685,  0.0066667 ,  0.25470663],\n",
       "       [ 0.00454547,  0.00454548,  0.00454549,  0.00454568,  0.25355471,\n",
       "         0.0045455 ,  0.00454547,  0.42324205,  0.00454549,  0.29138466]])"
      ]
     },
     "execution_count": 47,
     "metadata": {},
     "output_type": "execute_result"
    }
   ],
   "source": [
    "lda.partial_fit(tf_add)\n",
    "answers_new = lda.transform(tf_add)\n",
    "answers_new"
   ]
  },
  {
   "cell_type": "markdown",
   "metadata": {
    "deletable": true,
    "editable": true
   },
   "source": [
    "どのトピックに分類されているでしょうか？　前項と同じ手順で検証します。\n",
    "\n",
    "（検証したテキストのインデックスは #97, #98 になります）"
   ]
  },
  {
   "cell_type": "code",
   "execution_count": 48,
   "metadata": {
    "collapsed": false,
    "deletable": true,
    "editable": true
   },
   "outputs": [
    {
     "name": "stdout",
     "output_type": "stream",
     "text": [
      "Topic #0:\n",
      "まし,しまい,辞書,消え,ime,以前,インストール,登録,内容,数字,mcafee,アドインメッセージ,表示,あり,はい\n",
      "Topic #1:\n",
      "られ,いいえ,mcafee,アドインメッセージ,はい,表示,起動,いる,選択,求め,対応,欲しい,教え,方法,メール\n",
      "Topic #2:\n",
      "する,いる,容量,英語,ダイキン,制限,存在,ファイル,あり,利用,添付,設定,ます,欲しい,教え\n",
      "Topic #3:\n",
      "選択,求め,起動,表示,アドインメッセージ,いいえ,はい,mcafee,欲しい,教え,られ,いる,対応,方法,する\n",
      "Topic #4:\n",
      "数字,enter,書き,実行,文章,にくい,ほしい,方法,表示,教え,解除,入力,ので,本文,作成\n",
      "Topic #5:\n",
      "owa,ませ,長期,メール,表示,欲しい,変わっ,媒体,インストール,という,web,勝手,開き,イン,見れ\n",
      "Topic #6:\n",
      "届く,データ,容量,正常,圧迫,スパムフォルダ,ます,トレイ,ハードディスク,ドライブ,よう,いいえ,数字,受信,たい\n",
      "Topic #7:\n",
      "入力,解除,表示,メール,ので,する,にて,数字,にくい,作成,実行,書き,enter,文章,ほしい\n",
      "Topic #8:\n",
      "あり,ます,thunderbird,機能,メール,送信,トレイ,リンク,として,テンプレート,違い,同等,書か,url,受信\n",
      "Topic #9:\n",
      "方法,教え,メール,本文,対応,いる,作成,数字,にて,ほしい,する,欲しい,ので,文章,mcafee\n",
      "==========\n",
      "Sample Text #97 ---> Topic #3 (62.5%):\n",
      "Outlook2010起動時、McAfeeのアドインメッセージが表示された、「はい」と「いいえ」の選択を求められている。対応方法を教えて欲しい。\n",
      "==========\n",
      "Sample Text #98 ---> Topic #7 (42.3%):\n",
      "Outlook2010にて、メール本文作成時に数字を入力後、文章を入力しEnterを実行すると次の行に数字が表示され、メールが書きにくいので、解除方法を教えてほしい。\n"
     ]
    }
   ],
   "source": [
    "# トピックの上位特徴語を表示\n",
    "print_top_words_in_topic(lda, tf_feature_names, n_top_words)\n",
    "\n",
    "# 追加学習分（２件）の質問文について検証してみます\n",
    "for data_idx in [97, 98]:\n",
    "    idx = data_idx - 97\n",
    "    topic_idx = get_hit_topic_idx(answers_new[idx])\n",
    "    topic_prob_rate = answers_new[idx][topic_idx] * 100\n",
    "    \n",
    "    print(\"==========\")\n",
    "    print(\"Sample Text #%d ---> Topic #%d (%0.1f%%):\" % (data_idx, topic_idx, topic_prob_rate))\n",
    "    print(origin_text[data_idx])"
   ]
  },
  {
   "cell_type": "markdown",
   "metadata": {
    "deletable": true,
    "editable": true
   },
   "source": [
    "正しく分類できているようです。\n",
    "\n",
    "同じLDAモデルを使用した学習ですので、トピックの数や意味じたいは変わらないようです。\n",
    "\n",
    "ただし、追加学習前とトピックの内容（トピック内の単語ランキング）が異なってしまう・・・という影響があるようです。"
   ]
  },
  {
   "cell_type": "markdown",
   "metadata": {
    "collapsed": true,
    "deletable": true,
    "editable": true
   },
   "source": [
    "### 先行学習時のデータを再度与える"
   ]
  },
  {
   "cell_type": "markdown",
   "metadata": {
    "deletable": true,
    "editable": true
   },
   "source": [
    "試しにもう一度、９７件の先行データに含まれる最初の２件のデータを使い、追加学習してみます。\n",
    "\n",
    "結果はどうなるでしょうか？"
   ]
  },
  {
   "cell_type": "code",
   "execution_count": 49,
   "metadata": {
    "collapsed": false,
    "deletable": true,
    "editable": true
   },
   "outputs": [
    {
     "data": {
      "text/plain": [
       "<2x304 sparse matrix of type '<class 'numpy.int64'>'\n",
       "\twith 15 stored elements in Compressed Sparse Row format>"
      ]
     },
     "execution_count": 49,
     "metadata": {},
     "output_type": "execute_result"
    }
   ],
   "source": [
    "tf_add_2 = tf[0:2]\n",
    "tf_add_2"
   ]
  },
  {
   "cell_type": "code",
   "execution_count": 50,
   "metadata": {
    "collapsed": false,
    "deletable": true,
    "editable": true
   },
   "outputs": [
    {
     "data": {
      "text/plain": [
       "array([[ 0.00909092,  0.00909091,  0.00909099,  0.00909091,  0.00909092,\n",
       "         0.00909115,  0.3805095 ,  0.33578747,  0.22006466,  0.00909256],\n",
       "       [ 0.01428574,  0.01428573,  0.01428579,  0.01428627,  0.01428592,\n",
       "         0.49528143,  0.01428596,  0.01429043,  0.01428633,  0.3904264 ]])"
      ]
     },
     "execution_count": 50,
     "metadata": {},
     "output_type": "execute_result"
    }
   ],
   "source": [
    "lda.partial_fit(tf_add_2)\n",
    "answers_new_2 = lda.transform(tf_add_2)\n",
    "answers_new_2"
   ]
  },
  {
   "cell_type": "code",
   "execution_count": 51,
   "metadata": {
    "collapsed": false,
    "deletable": true,
    "editable": true,
    "scrolled": true
   },
   "outputs": [
    {
     "name": "stdout",
     "output_type": "stream",
     "text": [
      "Topic #0:\n",
      "まし,しまい,辞書,消え,ime,以前,インストール,登録,内容,数字,署名,作り方,mcafee,アドインメッセージ,です\n",
      "Topic #1:\n",
      "られ,いいえ,mcafee,アドインメッセージ,はい,表示,起動,いる,選択,求め,対応,欲しい,教え,方法,メール\n",
      "Topic #2:\n",
      "する,いる,容量,英語,ダイキン,制限,存在,ファイル,あり,利用,添付,設定,ます,署名,欲しい\n",
      "Topic #3:\n",
      "選択,求め,起動,表示,アドインメッセージ,いいえ,はい,mcafee,欲しい,教え,られ,いる,対応,方法,する\n",
      "Topic #4:\n",
      "数字,enter,書き,実行,文章,にくい,ほしい,方法,表示,教え,解除,入力,ので,本文,作成\n",
      "Topic #5:\n",
      "ください,作り方,署名,メール,にて,教え,owa,ませ,長期,表示,欲しい,変わっ,媒体,インストール,という\n",
      "Topic #6:\n",
      "たい,です,自分,運用,bcc,メール,送信,にて,する,届く,データ,容量,正常,圧迫,スパムフォルダ\n",
      "Topic #7:\n",
      "メール,入力,する,にて,解除,表示,ので,数字,にくい,作成,実行,書き,enter,文章,ほしい\n",
      "Topic #8:\n",
      "送信,bcc,運用,自分,です,メール,たい,にて,する,あり,ます,thunderbird,機能,トレイ,リンク\n",
      "Topic #9:\n",
      "教え,メール,方法,にて,本文,対応,いる,作成,数字,ほしい,する,欲しい,ので,文章,mcafee\n",
      "==========\n",
      "Sample Text #0 ---> Topic #6 (38.1%):\n",
      "Outlook2010にてメールを送信する際、自分宛のメールをBCCで運用したいのですが？ \n",
      "==========\n",
      "Sample Text #1 ---> Topic #5 (49.5%):\n",
      "Outlook2010にて、メールの署名の作り方が教えてください。 \n"
     ]
    }
   ],
   "source": [
    "# トピックの上位特徴語を表示\n",
    "print_top_words_in_topic(lda, tf_feature_names, n_top_words)\n",
    "\n",
    "# 追加学習分（２件）の質問文について検証してみます\n",
    "for data_idx in [0, 1]:\n",
    "    idx = data_idx\n",
    "    topic_idx = get_hit_topic_idx(answers_new_2[idx])\n",
    "    topic_prob_rate = answers_new_2[idx][topic_idx] * 100\n",
    "    \n",
    "    print(\"==========\")\n",
    "    print(\"Sample Text #%d ---> Topic #%d (%0.1f%%):\" % (data_idx, topic_idx, topic_prob_rate))\n",
    "    print(origin_text[data_idx])"
   ]
  },
  {
   "cell_type": "markdown",
   "metadata": {
    "deletable": true,
    "editable": true
   },
   "source": [
    "正しく分類できているようです。\n",
    "\n",
    "ただし、トピックの内容（トピック内の単語ランキング）が前回学習時と異なってしまうという挙動は一緒でした。"
   ]
  }
 ],
 "metadata": {
  "kernelspec": {
   "display_name": "Python 3",
   "language": "python",
   "name": "python3"
  },
  "language_info": {
   "codemirror_mode": {
    "name": "ipython",
    "version": 3
   },
   "file_extension": ".py",
   "mimetype": "text/x-python",
   "name": "python",
   "nbconvert_exporter": "python",
   "pygments_lexer": "ipython3",
   "version": "3.5.2"
  }
 },
 "nbformat": 4,
 "nbformat_minor": 2
}
