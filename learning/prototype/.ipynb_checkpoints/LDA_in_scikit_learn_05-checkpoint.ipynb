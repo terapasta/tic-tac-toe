{
 "cells": [
  {
   "cell_type": "markdown",
   "metadata": {
    "deletable": true,
    "editable": true
   },
   "source": [
    "# LDAについてのまとめ"
   ]
  },
  {
   "cell_type": "markdown",
   "metadata": {
    "deletable": true,
    "editable": true
   },
   "source": [
    "LDAの手順や性格についての理解を深めるため、事例をものすごく簡素化してみました。"
   ]
  },
  {
   "cell_type": "markdown",
   "metadata": {
    "deletable": true,
    "editable": true
   },
   "source": [
    "## 事前の仕込み\n",
    "\n",
    "あとで使用するユーティリティー関数です。すみませんがここは読み飛ばしてください。。。"
   ]
  },
  {
   "cell_type": "code",
   "execution_count": 1,
   "metadata": {
    "collapsed": true,
    "deletable": true,
    "editable": true
   },
   "outputs": [],
   "source": [
    "def get_top_words_in_topic(lda, tf_feature_names, n_top_words):\n",
    "    top_words = []\n",
    "\n",
    "    for topic_idx, topic in enumerate(lda.components_):\n",
    "        # 特徴語のインデックスを、単語出現確率の高いもの順に取得\n",
    "        top_words_idx_list = topic.argsort()\n",
    "        reverse_idx = -n_top_words - 1\n",
    "        top_words_idx = top_words_idx_list[:reverse_idx:-1]\n",
    "\n",
    "        # 特徴語をリストに取得\n",
    "        top_words_list = [tf_feature_names[i] for i in top_words_idx]\n",
    "        top_words.append(top_words_list)\n",
    "\n",
    "    # 上位の特徴語リストを戻す\n",
    "    return top_words\n",
    "\n",
    "def print_top_words_in_topic(lda, tf_feature_names, n_top_words):\n",
    "    top_words_list = get_top_words_in_topic(lda, tf_feature_names, n_top_words)\n",
    "    for topic_idx, top_words in enumerate(top_words_list):\n",
    "        print(\"Topic #%d: %s\" % (topic_idx, \",\".join(top_words)))\n",
    "\n",
    "def get_hit_topic_idx(probs):\n",
    "    topic_idx = 0\n",
    "    max_prob = 0.0\n",
    "    for i in range(0, len(probs)):\n",
    "        if max_prob < probs[i]:\n",
    "            topic_idx = i\n",
    "            max_prob = probs[i]\n",
    "\n",
    "    # 質問文が属するトピックのインデックスを戻す\n",
    "    return topic_idx\n",
    "\n",
    "def print_text_and_topic_idx(corpus, answers):\n",
    "    for data_idx, data in enumerate(corpus):\n",
    "        topic_idx = get_hit_topic_idx(answers[data_idx])\n",
    "        topic_prob_rate = answers[data_idx][topic_idx] * 100\n",
    "\n",
    "        print(\"Question Text #%d ---> Topic #%d (%0.1f%%) (contents=[%s])\" % (data_idx, topic_idx, topic_prob_rate, data))"
   ]
  },
  {
   "cell_type": "markdown",
   "metadata": {
    "deletable": true,
    "editable": true
   },
   "source": [
    "## 初回学習\n",
    "\n",
    "テストデータは以下の通りです。\n",
    "\n",
    "そもそも LDA は教師なし学習のため、初回学習の段階では、データがカテゴライズされていない状態を想定しているようです。"
   ]
  },
  {
   "cell_type": "markdown",
   "metadata": {
    "deletable": true,
    "editable": true
   },
   "source": [
    "### 学習データの仕込み"
   ]
  },
  {
   "cell_type": "code",
   "execution_count": 2,
   "metadata": {
    "collapsed": false,
    "deletable": true,
    "editable": true
   },
   "outputs": [
    {
     "data": {
      "text/plain": [
       "['Do you like an apple ?',\n",
       " 'Do you like an orange ?',\n",
       " 'Do you like a lemon ?',\n",
       " 'Does he have a note ?',\n",
       " 'Does she have a paper ?',\n",
       " 'Does he have a watch ?',\n",
       " 'Did she get a computer ?',\n",
       " 'Did you get a camera ?',\n",
       " 'Did he get a car ?']"
      ]
     },
     "execution_count": 2,
     "metadata": {},
     "output_type": "execute_result"
    }
   ],
   "source": [
    "# 本当は事前にデータが分類されていることは想定されていないのですが。。。\n",
    "# 簡単にするために、３分類のテストデータを使います。\n",
    "corpus = []\n",
    "\n",
    "# 質問分類１\n",
    "corpus.append('Do you like an apple ?')\n",
    "corpus.append('Do you like an orange ?')\n",
    "corpus.append('Do you like a lemon ?')\n",
    "\n",
    "\n",
    "# 質問分類２\n",
    "corpus.append('Does he have a note ?')\n",
    "corpus.append('Does she have a paper ?')\n",
    "corpus.append('Does he have a watch ?')\n",
    "\n",
    "\n",
    "# 質問分類３\n",
    "corpus.append('Did she get a computer ?')\n",
    "corpus.append('Did you get a camera ?')\n",
    "corpus.append('Did he get a car ?')\n",
    "\n",
    "\n",
    "corpus"
   ]
  },
  {
   "cell_type": "markdown",
   "metadata": {
    "deletable": true,
    "editable": true
   },
   "source": [
    "### 初回学習のインプットとなる、TFベクターを作成\n",
    "\n",
    "事例を簡単にするため、インプットとなるTFベクターは、手作業で作成しております。"
   ]
  },
  {
   "cell_type": "code",
   "execution_count": 3,
   "metadata": {
    "collapsed": false,
    "deletable": true,
    "editable": true
   },
   "outputs": [
    {
     "data": {
      "text/plain": [
       "['like', 'have', 'get']"
      ]
     },
     "execution_count": 3,
     "metadata": {},
     "output_type": "execute_result"
    }
   ],
   "source": [
    "tf_feature_names = []\n",
    "tf_feature_names.append('like')\n",
    "tf_feature_names.append('have')\n",
    "tf_feature_names.append('get')\n",
    "tf_feature_names # これは特徴語のリストです。"
   ]
  },
  {
   "cell_type": "code",
   "execution_count": 4,
   "metadata": {
    "collapsed": false,
    "deletable": true,
    "editable": true,
    "scrolled": false
   },
   "outputs": [
    {
     "data": {
      "text/plain": [
       "array([[1, 0, 0],\n",
       "       [1, 0, 0],\n",
       "       [1, 0, 0],\n",
       "       [0, 1, 0],\n",
       "       [0, 1, 0],\n",
       "       [0, 1, 0],\n",
       "       [0, 0, 1],\n",
       "       [0, 0, 1],\n",
       "       [0, 0, 1]], dtype=int64)"
      ]
     },
     "execution_count": 4,
     "metadata": {},
     "output_type": "execute_result"
    }
   ],
   "source": [
    "from numpy import array\n",
    "from scipy.sparse.csr import csr_matrix\n",
    "tf_vector_array = array([\n",
    "    [1, 0, 0],\n",
    "    [1, 0, 0],\n",
    "    [1, 0, 0],\n",
    "    [0, 1, 0],\n",
    "    [0, 1, 0],\n",
    "    [0, 1, 0],\n",
    "    [0, 0, 1],\n",
    "    [0, 0, 1],\n",
    "    [0, 0, 1]\n",
    "    ])\n",
    "tf_vector = csr_matrix(tf_vector_array)\n",
    "\n",
    "tf_vector.toarray() # これは特徴語の出現回数リストです。"
   ]
  },
  {
   "cell_type": "markdown",
   "metadata": {
    "deletable": true,
    "editable": true
   },
   "source": [
    "### 初回学習実行"
   ]
  },
  {
   "cell_type": "code",
   "execution_count": 5,
   "metadata": {
    "collapsed": true,
    "deletable": true,
    "editable": true
   },
   "outputs": [],
   "source": [
    "from sklearn.decomposition import LatentDirichletAllocation\n",
    "\n",
    "lda = LatentDirichletAllocation(n_topics=3, # トピック分類件数\n",
    "                                max_iter=10, # 繰り返し実行\n",
    "                                learning_method='online', # 学習実行-->即結果を出力\n",
    "                                learning_offset=50.,\n",
    "                                random_state=1)\n",
    "lda.fit(tf_vector)\n",
    "answers = lda.transform(tf_vector)"
   ]
  },
  {
   "cell_type": "markdown",
   "metadata": {
    "deletable": true,
    "editable": true
   },
   "source": [
    "### 学習の結果、分類されたトピック\n",
    "\n",
    "質問分類１（like --> Topic #2）、質問分類２（have --> Topic #1）、質問分類３（bring --> Topic #0）におおむね分かれていると言えます。\n",
    "\n",
    "ただし、分類されるべきトピックや、トピックが含まれる特徴語は、学習時にあらかじめ与えることができないので、トピック分類の順番などは当然ランダムになってしまうかと思われます。"
   ]
  },
  {
   "cell_type": "code",
   "execution_count": 6,
   "metadata": {
    "collapsed": false,
    "deletable": true,
    "editable": true
   },
   "outputs": [
    {
     "name": "stdout",
     "output_type": "stream",
     "text": [
      "Topic #0: like,get,have\n",
      "Topic #1: have,get,like\n",
      "Topic #2: get,like,have\n"
     ]
    }
   ],
   "source": [
    "n_top_words = 5\n",
    "print_top_words_in_topic(lda, tf_feature_names, n_top_words)"
   ]
  },
  {
   "cell_type": "markdown",
   "metadata": {
    "deletable": true,
    "editable": true
   },
   "source": [
    "### それぞれの質問文が、どのトピックに属しているかを確認"
   ]
  },
  {
   "cell_type": "code",
   "execution_count": 7,
   "metadata": {
    "collapsed": false,
    "deletable": true,
    "editable": true,
    "scrolled": true
   },
   "outputs": [
    {
     "name": "stdout",
     "output_type": "stream",
     "text": [
      "Question Text #0 ---> Topic #0 (65.5%) (contents=[Do you like an apple ?])\n",
      "Question Text #1 ---> Topic #0 (65.5%) (contents=[Do you like an orange ?])\n",
      "Question Text #2 ---> Topic #0 (65.5%) (contents=[Do you like a lemon ?])\n",
      "Question Text #3 ---> Topic #1 (65.8%) (contents=[Does he have a note ?])\n",
      "Question Text #4 ---> Topic #1 (65.8%) (contents=[Does she have a paper ?])\n",
      "Question Text #5 ---> Topic #1 (65.8%) (contents=[Does he have a watch ?])\n",
      "Question Text #6 ---> Topic #2 (65.7%) (contents=[Did she get a computer ?])\n",
      "Question Text #7 ---> Topic #2 (65.7%) (contents=[Did you get a camera ?])\n",
      "Question Text #8 ---> Topic #2 (65.7%) (contents=[Did he get a car ?])\n"
     ]
    }
   ],
   "source": [
    "# 全質問文について検証してみます。。。\n",
    "print_text_and_topic_idx(corpus, answers)"
   ]
  },
  {
   "cell_type": "markdown",
   "metadata": {
    "deletable": true,
    "editable": true
   },
   "source": [
    "## ２回め以降の学習"
   ]
  },
  {
   "cell_type": "markdown",
   "metadata": {
    "collapsed": true,
    "deletable": true,
    "editable": true
   },
   "source": [
    "### テストデータ、およびTFベクターの作成\n",
    "\n",
    "あたえるテストデータは、初回学習時と、TFベクターの次元数、特徴語のインデックスが完全一致している必要があります。\n",
    "\n",
    "これは、LDAの学習時に、TFベクターしか入力できないための制約になります。"
   ]
  },
  {
   "cell_type": "code",
   "execution_count": 8,
   "metadata": {
    "collapsed": false,
    "deletable": true,
    "editable": true
   },
   "outputs": [
    {
     "data": {
      "text/plain": [
       "['Do you like a fish ?']"
      ]
     },
     "execution_count": 8,
     "metadata": {},
     "output_type": "execute_result"
    }
   ],
   "source": [
    "corpus_add = []\n",
    "corpus_add.append('Do you like a fish ?') # 質問分類１\n",
    "corpus_add"
   ]
  },
  {
   "cell_type": "code",
   "execution_count": 9,
   "metadata": {
    "collapsed": false,
    "deletable": true,
    "editable": true,
    "scrolled": true
   },
   "outputs": [
    {
     "data": {
      "text/plain": [
       "array([[1, 0, 0]], dtype=int64)"
      ]
     },
     "execution_count": 9,
     "metadata": {},
     "output_type": "execute_result"
    }
   ],
   "source": [
    "array1 = array([\n",
    "    [1, 0, 0]\n",
    "    ])\n",
    "tf_vector_add = csr_matrix(array1)\n",
    "tf_vector_add.toarray() # これは特徴語の出現回数リストです。"
   ]
  },
  {
   "cell_type": "markdown",
   "metadata": {
    "deletable": true,
    "editable": true
   },
   "source": [
    "### 追加学習を実行"
   ]
  },
  {
   "cell_type": "code",
   "execution_count": 10,
   "metadata": {
    "collapsed": true,
    "deletable": true,
    "editable": true
   },
   "outputs": [],
   "source": [
    "lda.partial_fit(tf_vector_add)\n",
    "answers_add = lda.transform(tf_vector_add)"
   ]
  },
  {
   "cell_type": "markdown",
   "metadata": {
    "deletable": true,
    "editable": true
   },
   "source": [
    "分類結果はというと・・・正しく分類されているようです"
   ]
  },
  {
   "cell_type": "code",
   "execution_count": 11,
   "metadata": {
    "collapsed": false,
    "deletable": true,
    "editable": true
   },
   "outputs": [
    {
     "name": "stdout",
     "output_type": "stream",
     "text": [
      "Question Text #0 ---> Topic #0 (33.4%) (contents=[Do you like a fish ?])\n"
     ]
    }
   ],
   "source": [
    "# 全質問文について検証してみます。。。\n",
    "print_text_and_topic_idx(corpus_add, answers_add)"
   ]
  },
  {
   "cell_type": "markdown",
   "metadata": {
    "deletable": true,
    "editable": true
   },
   "source": [
    "### さらに追加学習を実行"
   ]
  },
  {
   "cell_type": "code",
   "execution_count": 12,
   "metadata": {
    "collapsed": false,
    "deletable": true,
    "editable": true
   },
   "outputs": [
    {
     "data": {
      "text/plain": [
       "['Do you like a fish ?',\n",
       " 'Does he have a money ?',\n",
       " 'Do you like a frog ?',\n",
       " 'Did you get a bike ?']"
      ]
     },
     "execution_count": 12,
     "metadata": {},
     "output_type": "execute_result"
    }
   ],
   "source": [
    "corpus_add2 = []\n",
    "corpus_add2.append('Do you like a fish ?') # 質問分類１\n",
    "corpus_add2.append('Does he have a money ?') # 質問分類２\n",
    "corpus_add2.append('Do you like a frog ?') # 質問分類１\n",
    "corpus_add2.append('Did you get a bike ?') # 質問分類３\n",
    "corpus_add2"
   ]
  },
  {
   "cell_type": "code",
   "execution_count": 13,
   "metadata": {
    "collapsed": false,
    "deletable": true,
    "editable": true
   },
   "outputs": [
    {
     "data": {
      "text/plain": [
       "array([[1, 0, 0],\n",
       "       [0, 1, 0],\n",
       "       [1, 0, 0],\n",
       "       [0, 0, 1]], dtype=int64)"
      ]
     },
     "execution_count": 13,
     "metadata": {},
     "output_type": "execute_result"
    }
   ],
   "source": [
    "array2 = array([\n",
    "    [1, 0, 0],\n",
    "    [0, 1, 0],\n",
    "    [1, 0, 0],\n",
    "    [0, 0, 1]\n",
    "    ])\n",
    "tf_vector_add2 = csr_matrix(array2)\n",
    "tf_vector_add2.toarray() # これは特徴語の出現回数リストです。"
   ]
  },
  {
   "cell_type": "code",
   "execution_count": 14,
   "metadata": {
    "collapsed": true,
    "deletable": true,
    "editable": true
   },
   "outputs": [],
   "source": [
    "lda.partial_fit(tf_vector_add2)\n",
    "answers_add2 = lda.transform(tf_vector_add2)"
   ]
  },
  {
   "cell_type": "code",
   "execution_count": 15,
   "metadata": {
    "collapsed": false,
    "deletable": true,
    "editable": true
   },
   "outputs": [
    {
     "name": "stdout",
     "output_type": "stream",
     "text": [
      "Question Text #0 ---> Topic #0 (63.8%) (contents=[Do you like a fish ?])\n",
      "Question Text #1 ---> Topic #1 (66.7%) (contents=[Does he have a money ?])\n",
      "Question Text #2 ---> Topic #0 (63.8%) (contents=[Do you like a frog ?])\n",
      "Question Text #3 ---> Topic #2 (66.6%) (contents=[Did you get a bike ?])\n"
     ]
    }
   ],
   "source": [
    "# 全質問文について検証してみます。。。\n",
    "print_text_and_topic_idx(corpus_add2, answers_add2)"
   ]
  }
 ],
 "metadata": {
  "kernelspec": {
   "display_name": "Python 3",
   "language": "python",
   "name": "python3"
  },
  "language_info": {
   "codemirror_mode": {
    "name": "ipython",
    "version": 3
   },
   "file_extension": ".py",
   "mimetype": "text/x-python",
   "name": "python",
   "nbconvert_exporter": "python",
   "pygments_lexer": "ipython3",
   "version": "3.5.2"
  }
 },
 "nbformat": 4,
 "nbformat_minor": 2
}
