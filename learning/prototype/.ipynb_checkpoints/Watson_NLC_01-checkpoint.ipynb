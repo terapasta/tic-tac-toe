{
 "cells": [
  {
   "cell_type": "markdown",
   "metadata": {
    "deletable": true,
    "editable": true
   },
   "source": [
    "# NLC利用についての概要"
   ]
  },
  {
   "cell_type": "markdown",
   "metadata": {
    "deletable": true,
    "editable": true
   },
   "source": [
    "## 料金体系"
   ]
  },
  {
   "cell_type": "markdown",
   "metadata": {
    "deletable": true,
    "editable": true
   },
   "source": [
    "Bluemix のダッシュボード（下記イメージ）からの引用です。\n",
    "\n",
    "https://console.ng.bluemix.net/catalog/services/natural-language-classifier/"
   ]
  },
  {
   "cell_type": "markdown",
   "metadata": {
    "deletable": true,
    "editable": true
   },
   "source": [
    "<img src=\"images/oper0217_01.png\" />"
   ]
  },
  {
   "cell_type": "markdown",
   "metadata": {
    "deletable": true,
    "editable": true
   },
   "source": [
    "### (1) インスタンス\n",
    "\n",
    "- 1インスタンスごとに、１か月あたりの料金がかかります。\n",
    "- 料金＝2,100円／月\n",
    "- ただし、1インスタンスまでは無料で利用可能"
   ]
  },
  {
   "cell_type": "markdown",
   "metadata": {
    "deletable": true,
    "editable": true
   },
   "source": [
    "### (2) API\n",
    "\n",
    "- 1コールあたりの料金がかかります。\n",
    "- 料金＝0.3675円／コール\n",
    "- ただし、各月において、1,000コールまでは無料で利用可能"
   ]
  },
  {
   "cell_type": "markdown",
   "metadata": {
    "deletable": true,
    "editable": true
   },
   "source": [
    "### (3) 分類器（Classifier）の訓練\n",
    "\n",
    "- 訓練実行1回あたりの料金がかかります。\n",
    "- 料金＝315円／回\n",
    "- ただし、各月において、訓練実行４回までは無料で利用可能"
   ]
  },
  {
   "cell_type": "markdown",
   "metadata": {
    "deletable": true,
    "editable": true
   },
   "source": [
    "## 利用方法の概要"
   ]
  },
  {
   "cell_type": "markdown",
   "metadata": {
    "deletable": true,
    "editable": true
   },
   "source": [
    "Bluemix のドキュメント（下記イメージ）からの引用です。\n",
    "\n",
    "https://www.ibm.com/watson/developercloud/doc/natural-language-classifier/index.html"
   ]
  },
  {
   "cell_type": "markdown",
   "metadata": {
    "deletable": true,
    "editable": true
   },
   "source": [
    "<img src=\"images/oper0217_02.png\" />"
   ]
  },
  {
   "cell_type": "markdown",
   "metadata": {
    "deletable": true,
    "editable": true
   },
   "source": [
    "基本的には、ほかの教師あり学習／予測の手順と変わらないものと判断しております。"
   ]
  },
  {
   "cell_type": "markdown",
   "metadata": {
    "deletable": true,
    "editable": true
   },
   "source": [
    "### (1) 訓練データ作成\n",
    "\n",
    "- クラスのラベル付与\n",
    "- 特徴語の抽出\n",
    "- テキストの分類\n",
    "- 訓練データはCSV形式で作成可能\n",
    "- 英語の他に日本語もサポートされている\n",
    "\n",
    "訓練データを作成する機能は、Watson NLCの機能に含まれないようです。\n",
    "\n",
    "NLCを利用する際は、訓練データCSVは個別に用意していただく必要があります。"
   ]
  },
  {
   "cell_type": "markdown",
   "metadata": {
    "deletable": true,
    "editable": true
   },
   "source": [
    "### (2) 分類器作成／訓練\n",
    "\n",
    "- Web API を使用して、訓練データをアップロード\n",
    "- 訓練データがアップロードされると、即座にBluemix上で訓練がスタート\n",
    "- 訓練が完了するまで、数分〜数十分を要する\n",
    "\n",
    "訓練データアップロードの実行はAPIコールなので、課金対象となります。\n",
    "\n",
    "また、訓練実行自体も課金対象です。"
   ]
  },
  {
   "cell_type": "markdown",
   "metadata": {
    "deletable": true,
    "editable": true
   },
   "source": [
    "### (3) 予測実行\n",
    "\n",
    "- Web API を使用し、テキストを分類器に送信し照会\n",
    "- マッチする上位のクラスとマッチ率を、JSON形式のデータで戻す\n",
    "- 戻りデータには上位１０クラスまでのデータが含まれる\n",
    "\n",
    "分類器への商会はAPIコールなので、課金対象となります"
   ]
  },
  {
   "cell_type": "markdown",
   "metadata": {
    "deletable": true,
    "editable": true
   },
   "source": [
    "### (4) 訓練データ更新／再訓練\n",
    "\n",
    "- 分類の結果を検証し、うまく分類されていないようであれば、訓練データを更新（１クラスあたりのレコードを追加、等のチューニングを行う）\n",
    "- 更新された訓練データから、再度、分類器を作成／訓練実行\n",
    "\n",
    "訓練データが変わった場合は、その度に分類器を作り直す、という運用になるかと存じます。\n",
    "\n",
    "（既存の分類器に訓練データを追加して再学習・・・の流れではないようです）\n",
    "\n",
    "分類器の再作成には数分以上を要するため、オンラインによる再学習の仕組みを構築する際、この仕様は致命的になりそうな感じです。"
   ]
  }
 ],
 "metadata": {
  "kernelspec": {
   "display_name": "Python 3",
   "language": "python",
   "name": "python3"
  },
  "language_info": {
   "codemirror_mode": {
    "name": "ipython",
    "version": 3
   },
   "file_extension": ".py",
   "mimetype": "text/x-python",
   "name": "python",
   "nbconvert_exporter": "python",
   "pygments_lexer": "ipython3",
   "version": "3.5.2"
  }
 },
 "nbformat": 4,
 "nbformat_minor": 2
}
