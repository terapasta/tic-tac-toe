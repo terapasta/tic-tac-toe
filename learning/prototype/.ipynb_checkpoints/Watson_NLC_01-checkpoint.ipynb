{
 "cells": [
  {
   "cell_type": "markdown",
   "metadata": {
    "deletable": true,
    "editable": true
   },
   "source": [
    "# NLC利用についての概要"
   ]
  },
  {
   "cell_type": "markdown",
   "metadata": {
    "deletable": true,
    "editable": true
   },
   "source": [
    "## 料金体系"
   ]
  },
  {
   "cell_type": "markdown",
   "metadata": {
    "deletable": true,
    "editable": true
   },
   "source": [
    "Bluemix のダッシュボード（下記イメージ）からの引用です。\n",
    "\n",
    "https://console.ng.bluemix.net/catalog/services/natural-language-classifier/"
   ]
  },
  {
   "cell_type": "markdown",
   "metadata": {
    "deletable": true,
    "editable": true
   },
   "source": [
    "<img src=\"images/oper0217_01.png\" />"
   ]
  },
  {
   "cell_type": "markdown",
   "metadata": {
    "deletable": true,
    "editable": true
   },
   "source": [
    "<table border=1>\n",
    "<tr>\n",
    "<td width=300>\n",
    "<b>機能</b>\n",
    "</td>\n",
    "<td width=300>\n",
    "<b>課金単位</b>\n",
    "</td>\n",
    "<td width=400>\n",
    "<b>料金</b>\n",
    "</td>\n",
    "</tr>\n",
    "<tr>\n",
    "<td>\n",
    "インスタンス\n",
    "</td>\n",
    "<td>\n",
    "1インスタンスごとに、１か月あたりの料金\n",
    "</td>\n",
    "\n",
    "<td>\n",
    "2,100円／月　ただし、1インスタンスまでは無料\n",
    "</td>\n",
    "</tr>\n",
    "<tr>\n",
    "<td>\n",
    "API<br>（GET /classify または POST /classify 形式で呼出されるWeb API）\n",
    "</td>\n",
    "\n",
    "<td>\n",
    "API 1コールあたりの料金\n",
    "</td>\n",
    "<td>\n",
    "0.3675円／コール　ただし、1,000コールまでは無料\n",
    "</td>\n",
    "</tr>\n",
    "\n",
    "<tr>\n",
    "<td>\n",
    "分類器（Classifier）の訓練\n",
    "</td>\n",
    "<td>\n",
    "訓練実行 1回あたりの料金\n",
    "</td>\n",
    "<td>\n",
    "315円／回　ただし、訓練実行４回までは無料\n",
    "</td>\n",
    "</tr>\n",
    "</table>\n"
   ]
  },
  {
   "cell_type": "markdown",
   "metadata": {
    "deletable": true,
    "editable": true
   },
   "source": [
    "## 利用方法の概要"
   ]
  },
  {
   "cell_type": "markdown",
   "metadata": {
    "deletable": true,
    "editable": true
   },
   "source": [
    "Bluemix のドキュメント（下記イメージ）からの引用です。\n",
    "\n",
    "https://www.ibm.com/watson/developercloud/doc/natural-language-classifier/index.html"
   ]
  },
  {
   "cell_type": "markdown",
   "metadata": {
    "deletable": true,
    "editable": true
   },
   "source": [
    "<img src=\"images/oper0217_02.png\" />"
   ]
  },
  {
   "cell_type": "markdown",
   "metadata": {
    "deletable": true,
    "editable": true
   },
   "source": [
    "基本的には、ほかの教師あり学習／予測の手順と変わらないものと判断しております。"
   ]
  },
  {
   "cell_type": "markdown",
   "metadata": {
    "deletable": true,
    "editable": true
   },
   "source": [
    "<table border=1>\n",
    "<tr>\n",
    "<td width=200>\n",
    "<b>手順</b>\n",
    "</td>\n",
    "<td width=400>\n",
    "<b>内容</b>\n",
    "</td>\n",
    "<td width=400>\n",
    "<b>備考</b>\n",
    "</td>\n",
    "</tr>\n",
    "\n",
    "<tr>\n",
    "<td>\n",
    "訓練データ作成\n",
    "</td>\n",
    "<td>\n",
    "・クラスのラベル付与<br>\n",
    "・特徴語の抽出<br>\n",
    "・テキストの分類<br>\n",
    "・訓練データはCSV形式で作成可能<br>\n",
    "・英語の他に日本語もサポートされている\n",
    "</td>\n",
    "<td>\n",
    "訓練データを作成する機能は、Watson NLCの機能に含まれないようです。<br>\n",
    "NLCを利用する際は、訓練データCSVは個別に用意していただく必要があります。\n",
    "\n",
    "</td>\n",
    "</tr>\n",
    "\n",
    "<tr>\n",
    "<td>\n",
    "分類器作成／訓練\n",
    "</td>\n",
    "<td>\n",
    "・Web API を使用して、訓練データをアップロード<br>\n",
    "・訓練データがアップロードされると、即座にBluemix上で訓練がスタート\n",
    "\n",
    "\n",
    "</td>\n",
    "<td>\n",
    "訓練データアップロードの実行はAPIコールなので、課金対象となります。<br>\n",
    "また、訓練実行自体も課金対象です\n",
    "</td>\n",
    "</tr>\n",
    "\n",
    "\n",
    "<tr>\n",
    "<td>\n",
    "予測実行\n",
    "</td>\n",
    "<td>\n",
    "・Web API を使用し、テキストを分類器に送信し照会<br>\n",
    "・マッチする上位のクラスを戻す\n",
    "</td>\n",
    "<td>\n",
    "分類器への商会はAPIコールなので、課金対象となります\n",
    "\n",
    "</td>\n",
    "</tr>\n",
    "\n",
    "\n",
    "<tr>\n",
    "<td>\n",
    "訓練データ更新\n",
    "</td>\n",
    "<td>\n",
    "・分類の結果に応じ、訓練データを更新<br>\n",
    "・更新された訓練データから、分類器を再作成／訓練実行\n",
    "</td>\n",
    "<td>\n",
    "訓練データが変わった場合は、その度に分類器を作り直す、という運用になるかと存じます。<br>\n",
    "（既存の分類器に訓練データを追加して再学習・・・の流れではないようです）<br>\n",
    "分類器の再作成には数分以上を要するため、オンラインによる再学習の仕組みを構築する際、この仕様は致命的になりそうな感じです。\n",
    "\n",
    "</td>\n",
    "</tr>\n",
    "\n",
    "\n",
    "</table>\n",
    "\n"
   ]
  }
 ],
 "metadata": {
  "kernelspec": {
   "display_name": "Python 3",
   "language": "python",
   "name": "python3"
  },
  "language_info": {
   "codemirror_mode": {
    "name": "ipython",
    "version": 3
   },
   "file_extension": ".py",
   "mimetype": "text/x-python",
   "name": "python",
   "nbconvert_exporter": "python",
   "pygments_lexer": "ipython3",
   "version": "3.5.2"
  }
 },
 "nbformat": 4,
 "nbformat_minor": 2
}
