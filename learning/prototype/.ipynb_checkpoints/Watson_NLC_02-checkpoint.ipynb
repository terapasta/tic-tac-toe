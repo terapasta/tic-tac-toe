{
 "cells": [
  {
   "cell_type": "markdown",
   "metadata": {
    "deletable": true,
    "editable": true
   },
   "source": [
    "# 公式Tutorialの実行"
   ]
  },
  {
   "cell_type": "markdown",
   "metadata": {
    "deletable": true,
    "editable": true
   },
   "source": [
    "## 手順の概要"
   ]
  },
  {
   "cell_type": "markdown",
   "metadata": {
    "deletable": true,
    "editable": true
   },
   "source": [
    "Watson NLC 公式ドキュメントからの引用です。\n",
    "\n",
    "https://www.ibm.com/watson/developercloud/doc/natural-language-classifier/getting-started.html"
   ]
  },
  {
   "cell_type": "markdown",
   "metadata": {
    "deletable": true,
    "editable": true
   },
   "source": [
    "<img src=\"images/oper0217_03.png\" />"
   ]
  },
  {
   "cell_type": "markdown",
   "metadata": {},
   "source": [
    "### (1) 認証情報取得\n",
    "\n",
    "- Bluemixにログインし、NLCサービスを作成\n",
    "- サービス作成時に発行される認証情報（Credentials）を使用します\n",
    "\n",
    "上記の手順は<b><a href=\"Watson_NLC_00.ipynb\">こちら</a></b>になります。"
   ]
  },
  {
   "cell_type": "markdown",
   "metadata": {
    "deletable": true,
    "editable": true
   },
   "source": [
    "### (2) 分類器作成\n",
    "\n",
    "- サンプルの訓練データ（CSV）をダウンロード\n",
    "- 日本語に変えてみます <---公式ページにない手順\n",
    "- 分類器作成を開始させるAPI（POST /classifiers/）を実行\n",
    "\n",
    "分類器の作成開始から完了までは時間を要します。\n",
    "\n",
    "分類器作成が完了したかどうかは、完了したかどうかを照会するAPIで、逐一問い合わせる必要があります。"
   ]
  },
  {
   "cell_type": "markdown",
   "metadata": {
    "deletable": true,
    "editable": true
   },
   "source": [
    "### (3) 分類実行\n",
    "\n",
    "- 訓練が完了した分類器に対し、分類したいテキストを送信\n",
    "- 該当する上位クラスと、マッチ率（confidence）がJSON形式で戻ります\n",
    "\n",
    "該当する上位１０件までがリストされるようです。\n",
    "\n",
    "またTutorialの例では、訓練データに入っていない単語が含まれているテキストでも、分類が可能な旨の記述がありますが・・・"
   ]
  },
  {
   "cell_type": "markdown",
   "metadata": {
    "deletable": true,
    "editable": true
   },
   "source": [
    "### (4) 分類器の削除\n",
    "\n",
    "- 上記までの試行が完了したら、分類器を削除\n",
    "\n",
    "無料で試行できる分類器インスタンスが１件なので、忘れないうちに削除しておきましょう・・・ということなのかと思われます。"
   ]
  },
  {
   "cell_type": "markdown",
   "metadata": {
    "deletable": true,
    "editable": true
   },
   "source": [
    "## 依存ライブラリー導入"
   ]
  },
  {
   "cell_type": "markdown",
   "metadata": {
    "deletable": true,
    "editable": true
   },
   "source": [
    "Python3からNLCのAPIをコールするためには、依存ライブラリー「watson_developer_cloud」を追加導入する必要がございます。\n",
    "\n",
    "コマンドラインから「pip3 install watson_developer_cloud」と実行し、導入できるかと存じます。"
   ]
  },
  {
   "cell_type": "markdown",
   "metadata": {
    "deletable": true,
    "editable": true
   },
   "source": [
    "~~~~\n",
    "MacBookPro-makmorit-jp:~ makmorit$ pip3 install watson_developer_cloud\n",
    "Collecting watson-developer-cloud\n",
    "  Downloading watson-developer-cloud-0.23.0.tar.gz (52kB)\n",
    "    100% |████████████████████████████████| 61kB 451kB/s \n",
    "Requirement already satisfied (use --upgrade to upgrade): requests<3.0,>=2.0 in /Library/Frameworks/Python.framework/Versions/3.5/lib/python3.5/site-packages (from watson-developer-cloud)\n",
    "Collecting pysolr<4.0,>=3.3 (from watson-developer-cloud)\n",
    "  Downloading pysolr-3.6.0-py2.py3-none-any.whl\n",
    "Building wheels for collected packages: watson-developer-cloud\n",
    "  Running setup.py bdist_wheel for watson-developer-cloud ... done\n",
    "  Stored in directory: /Users/makmorit/Library/Caches/pip/wheels/e2/e9/4e/bdd7ab2ed130d3ed16ac583d4843de1335f7f03f531d6ba01d\n",
    "Successfully built watson-developer-cloud\n",
    "Installing collected packages: pysolr, watson-developer-cloud\n",
    "Successfully installed pysolr-3.6.0 watson-developer-cloud-0.23.0\n",
    "You are using pip version 8.1.1, however version 9.0.1 is available.\n",
    "You should consider upgrading via the 'pip install --upgrade pip' command.\n",
    "MacBookPro-makmorit-jp:~ makmorit$\n",
    "~~~~"
   ]
  },
  {
   "cell_type": "markdown",
   "metadata": {
    "deletable": true,
    "editable": true
   },
   "source": [
    "## 実行例"
   ]
  },
  {
   "cell_type": "markdown",
   "metadata": {
    "deletable": true,
    "editable": true
   },
   "source": [
    "上記のライブラリー「watson_developer_cloud」を使用し、Python3でTutorialを実行してみます。\n",
    "\n",
    "もともとWeb APIの戻り値がJSON形式であるため、Python3との親和性は高いかと存じます。"
   ]
  },
  {
   "cell_type": "markdown",
   "metadata": {
    "deletable": true,
    "editable": true
   },
   "source": [
    "### クラス「NaturalLanguageClassifierV1」生成\n",
    "\n",
    "生成時に、サービス作成時に発行された認証情報を設定します。"
   ]
  },
  {
   "cell_type": "code",
   "execution_count": 1,
   "metadata": {
    "collapsed": true,
    "deletable": true,
    "editable": true
   },
   "outputs": [],
   "source": [
    "import json\n",
    "from watson_developer_cloud import NaturalLanguageClassifierV1\n",
    "\n",
    "natural_language_classifier = NaturalLanguageClassifierV1(\n",
    "  username='7fdb13f0-1c16-48f5-9a7d-6374ee56925d',\n",
    "  password='LLwyqghs3cPB')"
   ]
  },
  {
   "cell_type": "markdown",
   "metadata": {
    "deletable": true,
    "editable": true
   },
   "source": [
    "すでに作成されている分類器を確認するには、list関数を使用します。\n",
    "\n",
    "（いまはまだ作成されていないので、空リストが戻ります）"
   ]
  },
  {
   "cell_type": "code",
   "execution_count": 2,
   "metadata": {
    "collapsed": false,
    "deletable": true,
    "editable": true,
    "scrolled": true
   },
   "outputs": [
    {
     "data": {
      "text/plain": [
       "{'classifiers': []}"
      ]
     },
     "execution_count": 2,
     "metadata": {},
     "output_type": "execute_result"
    }
   ],
   "source": [
    "classifiers = natural_language_classifier.list()\n",
    "classifiers"
   ]
  },
  {
   "cell_type": "markdown",
   "metadata": {
    "deletable": true,
    "editable": true
   },
   "source": [
    "### 訓練データの作成\n",
    "\n",
    "例を簡単にするのと「日本語もサポート」と謳っている仕様の検証のため、ダウンロードしたサンプルを日本語に書き換えます。"
   ]
  },
  {
   "cell_type": "markdown",
   "metadata": {
    "deletable": true,
    "editable": true
   },
   "source": [
    "#### ダウンロードしたサンプルデータ"
   ]
  },
  {
   "cell_type": "markdown",
   "metadata": {
    "deletable": true,
    "editable": true
   },
   "source": [
    "~~~~\n",
    "How hot is it today?,temperature\n",
    "Is it hot outside?,temperature\n",
    "Will it be uncomfortably hot?,temperature\n",
    "：\n",
    "What is today's expected humidity?,conditions\n",
    "Will the blizzard hit us?,conditions\n",
    "Is it drizzling?,conditions\n",
    "~~~~\n",
    "\n"
   ]
  },
  {
   "cell_type": "markdown",
   "metadata": {
    "deletable": true,
    "editable": true
   },
   "source": [
    "#### 日本語化したサンプルデータ\n",
    "\n",
    "形態素解析が必要となります（御社テストデータを、MeCab にかけた例。仕込み用コードは<b><a href=\"Watson_NLC_99.ipynb\">こちら</a></b>）"
   ]
  },
  {
   "cell_type": "markdown",
   "metadata": {
    "deletable": true,
    "editable": true
   },
   "source": [
    "~~~~\n",
    "：\n",
    "\"試用 期間 は ある ？ \",2657\n",
    "\"試用 期間 は ？ \",2657\n",
    "\"試用 期間 は 有り ます か ？ \",2657\n",
    "\"初期 費用 月額 費用 以外 に 掛かる 費用 は ？ \",2729\n",
    "\"初期 費用 、 月額 費用 以外 は ？ \",2729\n",
    "\"初期 費用 、 月額 費用 以外 に かかり ます か ？ \",2729\n",
    "\"導入 を 考え てる ので 、 デモ を 見せ て 下さい \",2658\n",
    "\"導入 し たい の です が 、 デモ は あり ます か ？ \",2658\n",
    "\"導入 を 考え て いる の です が 、 デモ を 見せ て いただく こと は でき ます か ？ \",2658\n",
    "\"お客様 用 です か ？ \",2727\n",
    "~~~~"
   ]
  },
  {
   "cell_type": "markdown",
   "metadata": {
    "deletable": true,
    "editable": true
   },
   "source": [
    "### 分類器作成\n",
    "\n",
    "create関数によりAPIコールを実行すると、分類器インスタンスが、Bluemix上に１件生成されます。\n",
    "\n",
    "（API呼出件数／インスタンス件数は、いずれも課金対象となるので、無償で評価時は実行回数に注意）"
   ]
  },
  {
   "cell_type": "code",
   "execution_count": 3,
   "metadata": {
    "collapsed": false,
    "deletable": true,
    "editable": true
   },
   "outputs": [
    {
     "name": "stdout",
     "output_type": "stream",
     "text": [
      "\"My - ope ってな ん です か ？ \",2653\n",
      "\"どんな こと が 出来る の ？ \",2654\n",
      "\"どう やっ て 会話 を 覚え させる の ？ \",2655\n",
      "\"どんな 企業 が 使っ \n"
     ]
    }
   ],
   "source": [
    "test_data_file = 'resources/train_myope_info_conversation.csv'\n",
    "f = open(test_data_file, 'rt') # これは確認用\n",
    "print(f.read()[:100])\n",
    "f.close()"
   ]
  },
  {
   "cell_type": "code",
   "execution_count": 4,
   "metadata": {
    "collapsed": false,
    "deletable": true,
    "editable": true
   },
   "outputs": [
    {
     "data": {
      "text/plain": [
       "\" 後日、実行予定です\\nclassifier_id = None\\nstatus = None\\nwith open(test_data_file, 'rb') as training_data:\\n  classifier = natural_language_classifier.create(\\n    training_data=training_data,\\n    name='My Classfier',\\n    language='ja'\\n  )\\n  classifier_id = classifier['classifier_id']\\n  status = classifier['status']\\n\""
      ]
     },
     "execution_count": 4,
     "metadata": {},
     "output_type": "execute_result"
    }
   ],
   "source": [
    "''' 後日、実行予定です\n",
    "classifier_id = None\n",
    "status = None\n",
    "with open(test_data_file, 'rb') as training_data:\n",
    "  classifier = natural_language_classifier.create(\n",
    "    training_data=training_data,\n",
    "    name='My Classfier',\n",
    "    language='ja'\n",
    "  )\n",
    "  classifier_id = classifier['classifier_id']\n",
    "  status = classifier['status']\n",
    "'''"
   ]
  },
  {
   "cell_type": "markdown",
   "metadata": {
    "deletable": true,
    "editable": true
   },
   "source": [
    "### 分類器作成状況の照会\n",
    "\n",
    "分類器インスタンスの生成には、時間がかかるため、作成が完了したかどうかを知るには、下記のような状況照会のためのAPIコールを実行する必要がございます。\n",
    "\n",
    "（API呼出件数は課金対象となるので、無償で評価時は実行回数に注意）"
   ]
  },
  {
   "cell_type": "markdown",
   "metadata": {
    "deletable": true,
    "editable": true
   },
   "source": [
    "#### 分類器作成が利用できるまで待機\n",
    "\n",
    "以下の例では、最大３０分間待機します。"
   ]
  },
  {
   "cell_type": "code",
   "execution_count": 5,
   "metadata": {
    "collapsed": false,
    "deletable": true,
    "editable": true
   },
   "outputs": [
    {
     "data": {
      "text/plain": [
       "\" 後日、実行予定です\\nfrom time import sleep\\nimport sys\\ni = 0\\nwhile i < 30:\\n    statusDict = natural_language_classifier.status(classifier_id)\\n    status = statusDict['status']\\n    if status == 'Available':\\n        break\\n\\n    print('Classifier [%s] now training, please wait...' % classifier_id)\\n    sys.stdout.flush()\\n    sleep(60)\\n    i += 1\\n\\nif status == 'Available':\\n    print('Classifier [%s] training completed.' % classifier_id)\\nelse:\\n    print('Classifier [%s] training failed.' % classifier_id)\\n\""
      ]
     },
     "execution_count": 5,
     "metadata": {},
     "output_type": "execute_result"
    }
   ],
   "source": [
    "''' 後日、実行予定です\n",
    "from time import sleep\n",
    "import sys\n",
    "i = 0\n",
    "while i < 30:\n",
    "    statusDict = natural_language_classifier.status(classifier_id)\n",
    "    status = statusDict['status']\n",
    "    if status == 'Available':\n",
    "        break\n",
    "\n",
    "    print('Classifier [%s] now training, please wait...' % classifier_id)\n",
    "    sys.stdout.flush()\n",
    "    sleep(60)\n",
    "    i += 1\n",
    "\n",
    "if status == 'Available':\n",
    "    print('Classifier [%s] training completed.' % classifier_id)\n",
    "else:\n",
    "    print('Classifier [%s] training failed.' % classifier_id)\n",
    "'''"
   ]
  },
  {
   "cell_type": "markdown",
   "metadata": {
    "deletable": true,
    "editable": true
   },
   "source": [
    "### 分類実行\n",
    "\n",
    "classify関数によりAPIコールを実行します。\n",
    "\n",
    "引数のテキストが分類され、クラスに対するマッチ率が、上位１０クラス分戻ります。\n",
    "\n",
    "（API呼出件数は課金対象となるので、無償で評価時は実行回数に注意）"
   ]
  },
  {
   "cell_type": "code",
   "execution_count": 6,
   "metadata": {
    "collapsed": false,
    "deletable": true,
    "editable": true,
    "scrolled": true
   },
   "outputs": [
    {
     "data": {
      "text/plain": [
       "\" 後日、実行予定です\\nquestion_text = '今日の気温は何度になるでしょうか？'\\nclassesDict = natural_language_classifier.classify(classifier_id, question_text)\\n\""
      ]
     },
     "execution_count": 6,
     "metadata": {},
     "output_type": "execute_result"
    }
   ],
   "source": [
    "''' 後日、実行予定です\n",
    "question_text = '今日の気温は何度になるでしょうか？'\n",
    "classesDict = natural_language_classifier.classify(classifier_id, question_text)\n",
    "'''"
   ]
  },
  {
   "cell_type": "markdown",
   "metadata": {
    "deletable": true,
    "editable": true
   },
   "source": [
    "#### 分類結果の参照\n",
    "\n",
    "分類されたクラスとマッチ率を表示します。"
   ]
  },
  {
   "cell_type": "code",
   "execution_count": 7,
   "metadata": {
    "collapsed": false,
    "deletable": true,
    "editable": true
   },
   "outputs": [
    {
     "data": {
      "text/plain": [
       "\" 後日、実行予定です\\nfor c in classesDict['classes']:\\n    print('class name=%s, confidence=%0.1f%%' % (c['class_name'], float(c['confidence'])*100.0))\\n\""
      ]
     },
     "execution_count": 7,
     "metadata": {},
     "output_type": "execute_result"
    }
   ],
   "source": [
    "''' 後日、実行予定です\n",
    "for c in classesDict['classes']:\n",
    "    print('class name=%s, confidence=%0.1f%%' % (c['class_name'], float(c['confidence'])*100.0))\n",
    "'''"
   ]
  },
  {
   "cell_type": "markdown",
   "metadata": {
    "collapsed": true,
    "deletable": true,
    "editable": true
   },
   "source": [
    "### 分類器削除\n",
    "\n",
    "remove関数によりAPIコールを実行すると、分類器インスタンスがBluemix上から削除されます。\n",
    "\n",
    "（API呼出件数は課金対象となるので、無償で評価時は実行回数に注意）"
   ]
  },
  {
   "cell_type": "code",
   "execution_count": 8,
   "metadata": {
    "collapsed": false,
    "deletable": true,
    "editable": true
   },
   "outputs": [
    {
     "data": {
      "text/plain": [
       "\" 後日、実行予定です\\nnatural_language_classifier.remove(classifier_id)\\nprint('Classifier [%s] removed.' % classifier_id)\\n\""
      ]
     },
     "execution_count": 8,
     "metadata": {},
     "output_type": "execute_result"
    }
   ],
   "source": [
    "''' 後日、実行予定です\n",
    "natural_language_classifier.remove(classifier_id)\n",
    "print('Classifier [%s] removed.' % classifier_id)\n",
    "'''"
   ]
  }
 ],
 "metadata": {
  "kernelspec": {
   "display_name": "Python 3",
   "language": "python",
   "name": "python3"
  },
  "language_info": {
   "codemirror_mode": {
    "name": "ipython",
    "version": 3
   },
   "file_extension": ".py",
   "mimetype": "text/x-python",
   "name": "python",
   "nbconvert_exporter": "python",
   "pygments_lexer": "ipython3",
   "version": "3.5.2"
  }
 },
 "nbformat": 4,
 "nbformat_minor": 2
}
