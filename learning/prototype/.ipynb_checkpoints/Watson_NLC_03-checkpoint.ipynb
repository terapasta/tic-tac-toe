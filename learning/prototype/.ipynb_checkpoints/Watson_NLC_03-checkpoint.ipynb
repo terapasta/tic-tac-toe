{
 "cells": [
  {
   "cell_type": "markdown",
   "metadata": {
    "deletable": true,
    "editable": true
   },
   "source": [
    "# 公式Tutorialの実行 (part 2)"
   ]
  },
  {
   "cell_type": "markdown",
   "metadata": {
    "deletable": true,
    "editable": true
   },
   "source": [
    "## 分類器の追加"
   ]
  },
  {
   "cell_type": "markdown",
   "metadata": {
    "deletable": true,
    "editable": true
   },
   "source": [
    "<b><a href=\"Watson_NLC_02.ipynb\">前回レポート</a></b>と同じような手順で、新しい分類器を、NLCインスタンスに追加してみます。"
   ]
  },
  {
   "cell_type": "markdown",
   "metadata": {
    "deletable": true,
    "editable": true
   },
   "source": [
    "### 認証\n",
    "\n",
    "NaturalLanguageClassifierV1クラス生成時に、サービス作成時に発行された認証情報を設定します。"
   ]
  },
  {
   "cell_type": "code",
   "execution_count": 1,
   "metadata": {
    "collapsed": true,
    "deletable": true,
    "editable": true
   },
   "outputs": [],
   "source": [
    "import json\n",
    "from watson_developer_cloud import NaturalLanguageClassifierV1\n",
    "\n",
    "natural_language_classifier = NaturalLanguageClassifierV1(\n",
    "  username='7fdb13f0-1c16-48f5-9a7d-6374ee56925d',\n",
    "  password='LLwyqghs3cPB')"
   ]
  },
  {
   "cell_type": "markdown",
   "metadata": {
    "deletable": true,
    "editable": true
   },
   "source": [
    "list関数で、すでに作成されている分類器を確認します。\n",
    "\n",
    "（<b><a href=\"Watson_NLC_02.ipynb\">前回レポート</a></b>で作成された分類器が、リストに含まれています）"
   ]
  },
  {
   "cell_type": "code",
   "execution_count": 2,
   "metadata": {
    "collapsed": false,
    "deletable": true,
    "editable": true,
    "scrolled": true
   },
   "outputs": [
    {
     "data": {
      "text/plain": [
       "{'classifiers': [{'classifier_id': 'f5bbbbx174-nlc-4304',\n",
       "   'created': '2017-02-18T01:16:40.434Z',\n",
       "   'language': 'ja',\n",
       "   'name': 'My Classfier',\n",
       "   'url': 'https://gateway.watsonplatform.net/natural-language-classifier/api/v1/classifiers/f5bbbbx174-nlc-4304'}]}"
      ]
     },
     "execution_count": 2,
     "metadata": {},
     "output_type": "execute_result"
    }
   ],
   "source": [
    "classifiers = natural_language_classifier.list()\n",
    "classifiers"
   ]
  },
  {
   "cell_type": "markdown",
   "metadata": {
    "deletable": true,
    "editable": true
   },
   "source": [
    "### 訓練データの作成\n",
    "\n",
    "<b><a href=\"Watson_NLC_99.ipynb\">こちら</a></b>で作成しました。14,916レコードになります。\n",
    "\n",
    "（「test_daikin_conversation.csv」が元データ）"
   ]
  },
  {
   "cell_type": "markdown",
   "metadata": {
    "deletable": true,
    "editable": true
   },
   "source": [
    "### 分類器作成\n",
    "\n",
    "create関数によりAPIコールを実行します。"
   ]
  },
  {
   "cell_type": "code",
   "execution_count": 4,
   "metadata": {
    "collapsed": false,
    "deletable": true,
    "editable": true
   },
   "outputs": [
    {
     "name": "stdout",
     "output_type": "stream",
     "text": [
      "\"Outlook 2010 にて メール を 送信 する 際 、 自分 宛 の メール を BCC で 運用 し たい の です が ？ \",3397\n",
      "\"Outlook 2010 にて 、 メール の\n"
     ]
    }
   ],
   "source": [
    "test_data_file = 'resources/train_daikin_conversation.csv'\n",
    "f = open(test_data_file, 'rt') # これは確認用\n",
    "print(f.read()[:100])\n",
    "f.close()"
   ]
  },
  {
   "cell_type": "code",
   "execution_count": 5,
   "metadata": {
    "collapsed": false,
    "deletable": true,
    "editable": true
   },
   "outputs": [
    {
     "ename": "WatsonException",
     "evalue": "Error: Malformed data, Description: One or more fields in the training data at line 109, Code: 400",
     "output_type": "error",
     "traceback": [
      "\u001b[0;31m---------------------------------------------------------------------------\u001b[0m",
      "\u001b[0;31mWatsonException\u001b[0m                           Traceback (most recent call last)",
      "\u001b[0;32m<ipython-input-5-771f46b6ccf5>\u001b[0m in \u001b[0;36m<module>\u001b[0;34m()\u001b[0m\n\u001b[1;32m      5\u001b[0m     \u001b[0mtraining_data\u001b[0m\u001b[0;34m=\u001b[0m\u001b[0mtraining_data\u001b[0m\u001b[0;34m,\u001b[0m\u001b[0;34m\u001b[0m\u001b[0m\n\u001b[1;32m      6\u001b[0m     \u001b[0mname\u001b[0m\u001b[0;34m=\u001b[0m\u001b[0;34m'Daikin Classfier'\u001b[0m\u001b[0;34m,\u001b[0m\u001b[0;34m\u001b[0m\u001b[0m\n\u001b[0;32m----> 7\u001b[0;31m     \u001b[0mlanguage\u001b[0m\u001b[0;34m=\u001b[0m\u001b[0;34m'ja'\u001b[0m\u001b[0;34m\u001b[0m\u001b[0m\n\u001b[0m\u001b[1;32m      8\u001b[0m   )\n\u001b[1;32m      9\u001b[0m   \u001b[0mclassifier_id\u001b[0m \u001b[0;34m=\u001b[0m \u001b[0mclassifier\u001b[0m\u001b[0;34m[\u001b[0m\u001b[0;34m'classifier_id'\u001b[0m\u001b[0;34m]\u001b[0m\u001b[0;34m\u001b[0m\u001b[0m\n",
      "\u001b[0;32m/Library/Frameworks/Python.framework/Versions/3.5/lib/python3.5/site-packages/watson_developer_cloud/natural_language_classifier_v1.py\u001b[0m in \u001b[0;36mcreate\u001b[0;34m(self, training_data, name, language)\u001b[0m\n\u001b[1;32m     44\u001b[0m                             files=[('training_metadata',\n\u001b[1;32m     45\u001b[0m                                     ('training.json', json.dumps(params))),\n\u001b[0;32m---> 46\u001b[0;31m                                    ('training_data', training_data)])\n\u001b[0m\u001b[1;32m     47\u001b[0m \u001b[0;34m\u001b[0m\u001b[0m\n\u001b[1;32m     48\u001b[0m     \u001b[0;32mdef\u001b[0m \u001b[0mlist\u001b[0m\u001b[0;34m(\u001b[0m\u001b[0mself\u001b[0m\u001b[0;34m)\u001b[0m\u001b[0;34m:\u001b[0m\u001b[0;34m\u001b[0m\u001b[0m\n",
      "\u001b[0;32m/Library/Frameworks/Python.framework/Versions/3.5/lib/python3.5/site-packages/watson_developer_cloud/watson_developer_cloud_service.py\u001b[0m in \u001b[0;36mrequest\u001b[0;34m(self, method, url, accept_json, headers, params, json, data, files, **kwargs)\u001b[0m\n\u001b[1;32m    318\u001b[0m             \u001b[0;32melse\u001b[0m\u001b[0;34m:\u001b[0m\u001b[0;34m\u001b[0m\u001b[0m\n\u001b[1;32m    319\u001b[0m                 \u001b[0merror_message\u001b[0m \u001b[0;34m=\u001b[0m \u001b[0mself\u001b[0m\u001b[0;34m.\u001b[0m\u001b[0m_get_error_message\u001b[0m\u001b[0;34m(\u001b[0m\u001b[0mresponse\u001b[0m\u001b[0;34m)\u001b[0m\u001b[0;34m\u001b[0m\u001b[0m\n\u001b[0;32m--> 320\u001b[0;31m             \u001b[0;32mraise\u001b[0m \u001b[0mWatsonException\u001b[0m\u001b[0;34m(\u001b[0m\u001b[0merror_message\u001b[0m\u001b[0;34m)\u001b[0m\u001b[0;34m\u001b[0m\u001b[0m\n\u001b[0m",
      "\u001b[0;31mWatsonException\u001b[0m: Error: Malformed data, Description: One or more fields in the training data at line 109, Code: 400"
     ]
    }
   ],
   "source": [
    "classifier_id = None\n",
    "status = None\n",
    "with open(test_data_file, 'rb') as training_data:\n",
    "  classifier = natural_language_classifier.create(\n",
    "    training_data=training_data,\n",
    "    name='Daikin Classfier',\n",
    "    language='ja'\n",
    "  )\n",
    "  classifier_id = classifier['classifier_id']\n",
    "  status = classifier['status']"
   ]
  },
  {
   "cell_type": "markdown",
   "metadata": {
    "deletable": true,
    "editable": true
   },
   "source": [
    "エラーになってしまいました。１０９行目のフォーマットが不正とのことですので、チェックして修正します。"
   ]
  },
  {
   "cell_type": "markdown",
   "metadata": {
    "deletable": true,
    "editable": true
   },
   "source": [
    "誤：フィールドの中に２重引用符が混入している\n",
    "~~~\n",
    "\"日本語 ＯＳ を 使用 し て い ます が 、 IE 11 インストール 作業 中 に \" This is for Japanese . To install please contact DKI Support ( 7 - 205 - 413 )\" と 表示 さ れ まし た 。 \",3504\n",
    "\n",
    "~~~\n",
    "正：混入している２重引用符を１重引用符に変えてあげる\n",
    "~~~\n",
    "\"日本語 ＯＳ を 使用 し て い ます が 、 IE 11 インストール 作業 中 に ' This is for Japanese . To install please contact DKI Support ( 7 - 205 - 413 )' と 表示 さ れ まし た 。 \",3504\n",
    "\n",
    "~~~"
   ]
  },
  {
   "cell_type": "markdown",
   "metadata": {
    "deletable": true,
    "editable": true
   },
   "source": [
    "新しいデータで再実行します。"
   ]
  },
  {
   "cell_type": "code",
   "execution_count": 10,
   "metadata": {
    "collapsed": false,
    "deletable": true,
    "editable": true
   },
   "outputs": [],
   "source": [
    "classifier_id = None\n",
    "status = None\n",
    "with open(test_data_file, 'rb') as training_data:\n",
    "  classifier = natural_language_classifier.create(\n",
    "    training_data=training_data,\n",
    "    name='Daikin Classfier',\n",
    "    language='ja'\n",
    "  )\n",
    "  classifier_id = classifier['classifier_id']\n",
    "  status = classifier['status']"
   ]
  },
  {
   "cell_type": "markdown",
   "metadata": {
    "deletable": true,
    "editable": true
   },
   "source": [
    "### 分類器作成状況の照会"
   ]
  },
  {
   "cell_type": "markdown",
   "metadata": {
    "deletable": true,
    "editable": true
   },
   "source": [
    "14,916レコードなので、相当な時間（１５０分ほど）を要します。"
   ]
  },
  {
   "cell_type": "code",
   "execution_count": 27,
   "metadata": {
    "collapsed": false,
    "deletable": true,
    "editable": true,
    "scrolled": true
   },
   "outputs": [
    {
     "data": {
      "text/plain": [
       "{'classifier_id': 'f5bbbbx174-nlc-4312',\n",
       " 'created': '2017-02-18T03:09:34.319Z',\n",
       " 'language': 'ja',\n",
       " 'name': 'Daikin Classfier',\n",
       " 'status': 'Available',\n",
       " 'status_description': 'The classifier instance is now available and is ready to take classifier requests.',\n",
       " 'url': 'https://gateway.watsonplatform.net/natural-language-classifier/api/v1/classifiers/f5bbbbx174-nlc-4312'}"
      ]
     },
     "execution_count": 27,
     "metadata": {},
     "output_type": "execute_result"
    }
   ],
   "source": [
    "statusDict = natural_language_classifier.status('f5bbbbx174-nlc-4312')\n",
    "statusDict"
   ]
  },
  {
   "cell_type": "code",
   "execution_count": 28,
   "metadata": {
    "collapsed": false,
    "deletable": true,
    "editable": true
   },
   "outputs": [
    {
     "data": {
      "text/plain": [
       "{'classifiers': [{'classifier_id': 'f5bbbbx174-nlc-4304',\n",
       "   'created': '2017-02-18T01:16:40.434Z',\n",
       "   'language': 'ja',\n",
       "   'name': 'My Classfier',\n",
       "   'url': 'https://gateway.watsonplatform.net/natural-language-classifier/api/v1/classifiers/f5bbbbx174-nlc-4304'},\n",
       "  {'classifier_id': 'f5bbbbx174-nlc-4312',\n",
       "   'created': '2017-02-18T03:09:34.319Z',\n",
       "   'language': 'ja',\n",
       "   'name': 'Daikin Classfier',\n",
       "   'url': 'https://gateway.watsonplatform.net/natural-language-classifier/api/v1/classifiers/f5bbbbx174-nlc-4312'}]}"
      ]
     },
     "execution_count": 28,
     "metadata": {},
     "output_type": "execute_result"
    }
   ],
   "source": [
    "classifiers = natural_language_classifier.list()\n",
    "classifiers"
   ]
  },
  {
   "cell_type": "markdown",
   "metadata": {
    "deletable": true,
    "editable": true
   },
   "source": [
    "### 分類実行\n",
    "\n",
    "classify関数によりAPIコールを実行します。"
   ]
  },
  {
   "cell_type": "code",
   "execution_count": 29,
   "metadata": {
    "collapsed": false,
    "deletable": true,
    "editable": true
   },
   "outputs": [],
   "source": [
    "from time import time\n",
    "\n",
    "def predict_class(natural_language_classifier, idx, question_text):\n",
    "    t0 = time()\n",
    "\n",
    "    classifiers = natural_language_classifier.list()\n",
    "    classifier_id = classifiers['classifiers'][idx]['classifier_id']\n",
    "    \n",
    "    classesDict = natural_language_classifier.classify(classifier_id, question_text)\n",
    "    topclass = classesDict['classes'][0]\n",
    "\n",
    "    print('class name=%s, confidence=%0.1f%%' % (topclass['class_name'], float(topclass['confidence'])*100.0))\n",
    "    print(\"done in %0.3fs.\" % (time() - t0))\n",
    "\n",
    "    return topclass"
   ]
  },
  {
   "cell_type": "markdown",
   "metadata": {
    "deletable": true,
    "editable": true
   },
   "source": [
    "#### 質問試行 (1)\n",
    "\n",
    "同じような意味で文脈が異なる質問文を使い、試してみました。\n",
    "\n",
    "上は不正解（メールパスワード変更に関する質問の回答）、下は正解となりました。"
   ]
  },
  {
   "cell_type": "code",
   "execution_count": 32,
   "metadata": {
    "collapsed": false,
    "deletable": true,
    "editable": true,
    "scrolled": false
   },
   "outputs": [
    {
     "name": "stdout",
     "output_type": "stream",
     "text": [
      "class name=3451, confidence=46.2%\n",
      "done in 2.874s.\n"
     ]
    }
   ],
   "source": [
    "question_text = 'メールに署名する方法を教えてください'\n",
    "top_class = predict_class(natural_language_classifier, 1, question_text)"
   ]
  },
  {
   "cell_type": "markdown",
   "metadata": {
    "deletable": true,
    "editable": true
   },
   "source": [
    "【ご参考：回答】以下URLに接続しメールのパスワードを更新してください。（以下略）"
   ]
  },
  {
   "cell_type": "code",
   "execution_count": 31,
   "metadata": {
    "collapsed": false,
    "deletable": true,
    "editable": true
   },
   "outputs": [
    {
     "name": "stdout",
     "output_type": "stream",
     "text": [
      "class name=3398, confidence=51.7%\n",
      "done in 3.051s.\n"
     ]
    }
   ],
   "source": [
    "question_text = '署名入りのメールを送る方法を教えてください'\n",
    "top_class = predict_class(natural_language_classifier, 1, question_text)"
   ]
  },
  {
   "cell_type": "markdown",
   "metadata": {
    "deletable": true,
    "editable": true
   },
   "source": [
    "【ご参考：回答】署名の作り方については『【Outlook2010操作マニュアル 応用編】 署名の作成』を参照してください。（以下略）"
   ]
  },
  {
   "cell_type": "markdown",
   "metadata": {
    "deletable": true,
    "editable": true
   },
   "source": [
    "#### 違った質問で再試行 (2)\n",
    "\n",
    "テストデータにない「Galaxy S6」という単語を使って質問します。正解ではないのですが、それなりに近い予測結果になっています。"
   ]
  },
  {
   "cell_type": "code",
   "execution_count": 35,
   "metadata": {
    "collapsed": false,
    "deletable": true,
    "editable": true
   },
   "outputs": [
    {
     "name": "stdout",
     "output_type": "stream",
     "text": [
      "class name=3809, confidence=69.5%\n",
      "done in 4.500s.\n"
     ]
    }
   ],
   "source": [
    "question_text = 'Galaxy S6のOSアップデート方法を教えていただけないでしょうか？'\n",
    "top_class = predict_class(natural_language_classifier, 1, question_text)"
   ]
  },
  {
   "cell_type": "markdown",
   "metadata": {
    "deletable": true,
    "editable": true
   },
   "source": [
    "【ご参考：回答】iOSのアップデート方法は2つあります。(1)Wi-Fi経由でのアップデート(2)iTunesがインストールされたパソコン経由でのアップデート\n",
    "（以下省略）"
   ]
  },
  {
   "cell_type": "markdown",
   "metadata": {
    "deletable": true,
    "editable": true
   },
   "source": [
    "#### 違った質問で再試行 (3)\n",
    "\n",
    "テストデータとは全く無関係の質問をします。\n",
    "\n",
    "結果は、無関係なクラス（Adobe Readerアップデータ設定に関する質問の回答）が戻ってきます。\n",
    "\n",
    "ただし confidence はかなり低いです。"
   ]
  },
  {
   "cell_type": "code",
   "execution_count": 34,
   "metadata": {
    "collapsed": false,
    "deletable": true,
    "editable": true
   },
   "outputs": [
    {
     "name": "stdout",
     "output_type": "stream",
     "text": [
      "class name=3670, confidence=22.4%\n",
      "done in 2.802s.\n"
     ]
    }
   ],
   "source": [
    "question_text = '今日の天気を教えていただけますでしょうか？'\n",
    "top_class = predict_class(natural_language_classifier, 1, question_text)"
   ]
  },
  {
   "cell_type": "markdown",
   "metadata": {
    "deletable": true,
    "editable": true
   },
   "source": [
    "【ご参考：回答】AdobeReadeのアップデータの設定は自動アップデートしない設定にしてください。以下手順を実施ください。（以下略）"
   ]
  }
 ],
 "metadata": {
  "kernelspec": {
   "display_name": "Python 3",
   "language": "python",
   "name": "python3"
  },
  "language_info": {
   "codemirror_mode": {
    "name": "ipython",
    "version": 3
   },
   "file_extension": ".py",
   "mimetype": "text/x-python",
   "name": "python",
   "nbconvert_exporter": "python",
   "pygments_lexer": "ipython3",
   "version": "3.5.2"
  }
 },
 "nbformat": 4,
 "nbformat_minor": 2
}
