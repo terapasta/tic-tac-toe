{
 "cells": [
  {
   "cell_type": "markdown",
   "metadata": {
    "deletable": true,
    "editable": true
   },
   "source": [
    "# テストデータ仕込み用コード"
   ]
  },
  {
   "cell_type": "markdown",
   "metadata": {
    "deletable": true,
    "editable": true
   },
   "source": [
    "## 公式Tutorialの実行用"
   ]
  },
  {
   "cell_type": "code",
   "execution_count": 1,
   "metadata": {
    "collapsed": false,
    "deletable": true,
    "editable": true
   },
   "outputs": [],
   "source": [
    "import os\n",
    "import pandas\n",
    "import MeCab\n",
    "\n",
    "def replace_newline(val):\n",
    "    return val.replace('\\r', '').replace('\\n', '')\n",
    "\n",
    "def prepare_testdata(csvPath, encoding='Shift_JIS'):\n",
    "    csvData = pandas.read_csv(csvPath, encoding=encoding)\n",
    "    testData = csvData.ix[0:, ['question', 'answer_id']]\n",
    "    return testData\n",
    "\n",
    "def prepare_corpus(testData):\n",
    "    meCab = MeCab.Tagger('-Owakati -d /usr/local/lib/mecab/dic/ipadic')\n",
    "    corpus = []\n",
    "\n",
    "    for i in range(0, len(testData)):\n",
    "        try:\n",
    "            question  = testData.ix[i, 'question']\n",
    "            answer_id = testData.ix[i, 'answer_id']\n",
    "        except:\n",
    "            continue\n",
    "        question = replace_newline(question)\n",
    "        parsed_text = meCab.parse(question)\n",
    "        parsed_text = parsed_text.replace('\"', '\\'') # 2017/02/18 12:06 追加\n",
    "        corpus_text = '\"%s\",%s' % (replace_newline(parsed_text), answer_id)\n",
    "        corpus.append(corpus_text)\n",
    "\n",
    "    return corpus"
   ]
  },
  {
   "cell_type": "markdown",
   "metadata": {
    "deletable": true,
    "editable": true
   },
   "source": [
    "## テストデータ１\n",
    "\n",
    "テストデータ「test_myope_info_conversation.csv」から、NLCの訓練用データファイル「train_myope_info_conversation.csv」を生成します。"
   ]
  },
  {
   "cell_type": "code",
   "execution_count": 44,
   "metadata": {
    "collapsed": false,
    "deletable": true,
    "editable": true
   },
   "outputs": [],
   "source": [
    "csv_file_path = \"../learning/tests/engine/fixtures/test_myope_info_conversation.csv\"\n",
    "test_data = prepare_testdata(csv_file_path)\n",
    "corpus = prepare_corpus(test_data)\n",
    "\n",
    "fout = open('resources/train_myope_info_conversation.csv', 'wt')\n",
    "for c in corpus:\n",
    "    fout.write(c)\n",
    "    fout.write('\\n')\n",
    "fout.close()"
   ]
  },
  {
   "cell_type": "markdown",
   "metadata": {
    "deletable": true,
    "editable": true
   },
   "source": [
    "## テストデータ２\n",
    "\n",
    "テストデータ「test_daikin_conversation.csv」から、NLCの訓練用データファイル「train_daikin_conversation.csv」を生成します。"
   ]
  },
  {
   "cell_type": "code",
   "execution_count": 2,
   "metadata": {
    "collapsed": true,
    "deletable": true,
    "editable": true
   },
   "outputs": [],
   "source": [
    "csv_file_path = \"../learning/tests/engine/fixtures/test_daikin_conversation.csv\"\n",
    "test_data = prepare_testdata(csv_file_path)\n",
    "corpus = prepare_corpus(test_data)\n",
    "\n",
    "fout = open('resources/train_daikin_conversation.csv', 'wt')\n",
    "for c in corpus:\n",
    "    fout.write(c)\n",
    "    fout.write('\\n')\n",
    "fout.close()"
   ]
  }
 ],
 "metadata": {
  "kernelspec": {
   "display_name": "Python 3",
   "language": "python",
   "name": "python3"
  },
  "language_info": {
   "codemirror_mode": {
    "name": "ipython",
    "version": 3
   },
   "file_extension": ".py",
   "mimetype": "text/x-python",
   "name": "python",
   "nbconvert_exporter": "python",
   "pygments_lexer": "ipython3",
   "version": "3.5.2"
  }
 },
 "nbformat": 4,
 "nbformat_minor": 2
}
