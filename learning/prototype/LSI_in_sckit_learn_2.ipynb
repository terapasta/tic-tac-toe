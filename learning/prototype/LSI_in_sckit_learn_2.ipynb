{
 "cells": [
  {
   "cell_type": "markdown",
   "metadata": {},
   "source": [
    "# LSIによる次元圧縮の動作確認\n",
    "\n",
    "ストーリー: https://www.pivotaltracker.com/story/show/149341617\n",
    "\n",
    "LSI_in_sckit_learn.ipynbの続きで、他の質問などを実験した結果を収録"
   ]
  },
  {
   "cell_type": "code",
   "execution_count": 1,
   "metadata": {
    "collapsed": false
   },
   "outputs": [
    {
     "data": {
      "text/plain": [
       "'/Users/shwld/project/mofmof/donusagi-bot/learning/prototype'"
      ]
     },
     "execution_count": 1,
     "metadata": {},
     "output_type": "execute_result"
    }
   ],
   "source": [
    "import sys\n",
    "import os\n",
    "\n",
    "os.getcwd()"
   ]
  },
  {
   "cell_type": "code",
   "execution_count": 2,
   "metadata": {
    "collapsed": true
   },
   "outputs": [],
   "source": [
    "learning_dir = os.path.abspath(\"../\")\n",
    "os.chdir(learning_dir)\n",
    "\n",
    "if learning_dir not in sys.path:\n",
    "    sys.path.append(learning_dir)"
   ]
  },
  {
   "cell_type": "code",
   "execution_count": 3,
   "metadata": {
    "collapsed": false
   },
   "outputs": [],
   "source": [
    "from learning.core.nlang import Nlang\n",
    "from sklearn.feature_extraction.text import TfidfVectorizer\n",
    "from sklearn.feature_extraction.text import CountVectorizer\n",
    "from sklearn.decomposition import TruncatedSVD\n",
    "from sklearn.preprocessing import Normalizer\n",
    "from sklearn.metrics.pairwise import cosine_similarity\n",
    "import pandas as pd"
   ]
  },
  {
   "cell_type": "markdown",
   "metadata": {},
   "source": [
    "## データの準備"
   ]
  },
  {
   "cell_type": "code",
   "execution_count": 4,
   "metadata": {
    "collapsed": false
   },
   "outputs": [
    {
     "data": {
      "text/plain": [
       "['育児 短時間 勤務 申請 書 いつ 提出 する',\n",
       " '育児 短時間 勤務 申請 書 曜日 別 申請 できる',\n",
       " '育児 短時間 勤務 申請 どこ 提出 する よい',\n",
       " '子供 生まれる',\n",
       " 'ＶＩＳＡ 勘定 科目 わかる ない',\n",
       " '海外 出張 する 旅費 精算 する どう する 良い',\n",
       " '保険証 失 くい']"
      ]
     },
     "execution_count": 4,
     "metadata": {},
     "output_type": "execute_result"
    }
   ],
   "source": [
    "df = pd.read_csv('./prototype/fixtures/learning_training_messages/LSI_in_sckit_learn.csv')\n",
    "sentences = np.array(df['question'])\n",
    "separated_sentences = Nlang.batch_split(sentences)\n",
    "separated_sentences"
   ]
  },
  {
   "cell_type": "markdown",
   "metadata": {},
   "source": [
    "## TfidfVectorizerを用いてベクトルを作る"
   ]
  },
  {
   "cell_type": "code",
   "execution_count": 6,
   "metadata": {
    "collapsed": false
   },
   "outputs": [],
   "source": [
    "vectorizer = TfidfVectorizer(use_idf=True, token_pattern=u'(?u)\\\\b\\\\w+\\\\b')\n",
    "features = vectorizer.fit_transform(separated_sentences)"
   ]
  },
  {
   "cell_type": "markdown",
   "metadata": {},
   "source": [
    "## 検索する単語も同様に処理する"
   ]
  },
  {
   "cell_type": "code",
   "execution_count": 7,
   "metadata": {
    "collapsed": false
   },
   "outputs": [
    {
     "name": "stdout",
     "output_type": "stream",
     "text": [
      "['保険証 なくす']\n"
     ]
    },
    {
     "data": {
      "text/plain": [
       "['保険証 失 くい']"
      ]
     },
     "execution_count": 7,
     "metadata": {},
     "output_type": "execute_result"
    }
   ],
   "source": [
    "target_sentences = np.array(['保険証をなくした'])\n",
    "target_separated_sentences = Nlang.batch_split(target_sentences)\n",
    "target_features = vectorizer.transform(target_separated_sentences)\n",
    "print(target_separated_sentences)\n",
    "target_sentences2 = np.array(['保険証を失くした'])\n",
    "target_separated_sentences2 = Nlang.batch_split(target_sentences2)\n",
    "target_features2 = vectorizer.transform(target_separated_sentences2)\n",
    "target_separated_sentences2"
   ]
  },
  {
   "cell_type": "markdown",
   "metadata": {},
   "source": [
    "## コサイン類似検索をかけてみる(LSIなし)"
   ]
  },
  {
   "cell_type": "code",
   "execution_count": 8,
   "metadata": {
    "collapsed": false
   },
   "outputs": [
    {
     "data": {
      "text/plain": [
       "[(0.57735026918962573, '保険証 失 くい', '保険証を失くした'),\n",
       " (0.0, '育児 短時間 勤務 申請 書 いつ 提出 する', '育児短時間勤務申請書はいつまでに提出するのか？'),\n",
       " (0.0, '育児 短時間 勤務 申請 書 曜日 別 申請 できる', '育児短時間勤務申請書は曜日別に申請できるか？'),\n",
       " (0.0, '育児 短時間 勤務 申請 どこ 提出 する よい', '育児短時間勤務申請はどこへ提出すればよいか？'),\n",
       " (0.0, '子供 生まれる', '子供が生まれた'),\n",
       " (0.0, 'ＶＩＳＡ 勘定 科目 わかる ない', 'VISAの勘定科目がわからない'),\n",
       " (0.0, '海外 出張 する 旅費 精算 する どう する 良い', '海外出張したときの旅費精算をしたいがどうしたら良い')]"
      ]
     },
     "execution_count": 8,
     "metadata": {},
     "output_type": "execute_result"
    }
   ],
   "source": [
    "similarities = cosine_similarity(features, target_features)\n",
    "similarities = similarities.flatten()\n",
    "zipped_data = zip(similarities, separated_sentences, np.array(df['question']))\n",
    "list(sorted(zipped_data, key=lambda x: x[0], reverse=True))[0:10]"
   ]
  },
  {
   "cell_type": "code",
   "execution_count": 9,
   "metadata": {
    "collapsed": false
   },
   "outputs": [
    {
     "data": {
      "text/plain": [
       "[(1.0, '保険証 失 くい', '保険証を失くした'),\n",
       " (0.0, '育児 短時間 勤務 申請 書 いつ 提出 する', '育児短時間勤務申請書はいつまでに提出するのか？'),\n",
       " (0.0, '育児 短時間 勤務 申請 書 曜日 別 申請 できる', '育児短時間勤務申請書は曜日別に申請できるか？'),\n",
       " (0.0, '育児 短時間 勤務 申請 どこ 提出 する よい', '育児短時間勤務申請はどこへ提出すればよいか？'),\n",
       " (0.0, '子供 生まれる', '子供が生まれた'),\n",
       " (0.0, 'ＶＩＳＡ 勘定 科目 わかる ない', 'VISAの勘定科目がわからない'),\n",
       " (0.0, '海外 出張 する 旅費 精算 する どう する 良い', '海外出張したときの旅費精算をしたいがどうしたら良い')]"
      ]
     },
     "execution_count": 9,
     "metadata": {},
     "output_type": "execute_result"
    }
   ],
   "source": [
    "similarities = cosine_similarity(features, target_features2)\n",
    "similarities = similarities.flatten()\n",
    "zipped_data = zip(similarities, separated_sentences, np.array(df['question']))\n",
    "list(sorted(zipped_data, key=lambda x: x[0], reverse=True))[0:10]"
   ]
  },
  {
   "cell_type": "markdown",
   "metadata": {},
   "source": [
    "## TruncatedSVDで次元圧縮する"
   ]
  },
  {
   "cell_type": "code",
   "execution_count": 10,
   "metadata": {
    "collapsed": false
   },
   "outputs": [],
   "source": [
    "lsa = TruncatedSVD(n_components=6, algorithm='randomized', n_iter=10, random_state=42)\n",
    "lsa_features = lsa.fit_transform(features)\n",
    "normalizer = Normalizer(copy=False)\n",
    "lsa_features = normalizer.fit_transform(lsa_features)"
   ]
  },
  {
   "cell_type": "code",
   "execution_count": 11,
   "metadata": {
    "collapsed": false
   },
   "outputs": [],
   "source": [
    "lsa_target_features = lsa.transform(target_features)\n",
    "lsa_target_features = normalizer.transform(lsa_target_features)\n",
    "lsa_target_features2 = lsa.transform(target_features2)\n",
    "lsa_target_features2 = normalizer.transform(lsa_target_features2)"
   ]
  },
  {
   "cell_type": "code",
   "execution_count": 12,
   "metadata": {
    "collapsed": false
   },
   "outputs": [
    {
     "name": "stdout",
     "output_type": "stream",
     "text": [
      "(7, 29)\n",
      "(1, 29)\n",
      "(1, 29)\n",
      "(7, 6)\n",
      "(1, 6)\n",
      "(1, 6)\n"
     ]
    }
   ],
   "source": [
    "# LSI無し\n",
    "print(features.shape)\n",
    "print(target_features.shape)\n",
    "print(target_features2.shape)\n",
    "\n",
    "# LSIあり\n",
    "print(lsa_features.shape)\n",
    "print(lsa_target_features.shape)\n",
    "print(lsa_target_features2.shape)"
   ]
  },
  {
   "cell_type": "markdown",
   "metadata": {},
   "source": [
    "## コサイン類似検索をかけてみる(LSIあり)"
   ]
  },
  {
   "cell_type": "code",
   "execution_count": 13,
   "metadata": {
    "collapsed": false
   },
   "outputs": [
    {
     "data": {
      "text/plain": [
       "[(1.0, '保険証 失 くい', '保険証を失くした'),\n",
       " (2.5210675458026379e-16,\n",
       "  '海外 出張 する 旅費 精算 する どう する 良い',\n",
       "  '海外出張したときの旅費精算をしたいがどうしたら良い'),\n",
       " (1.1449174941446927e-16, '子供 生まれる', '子供が生まれた'),\n",
       " (4.292784406596532e-17, '育児 短時間 勤務 申請 書 いつ 提出 する', '育児短時間勤務申請書はいつまでに提出するのか？'),\n",
       " (6.797588530016039e-18, '育児 短時間 勤務 申請 どこ 提出 する よい', '育児短時間勤務申請はどこへ提出すればよいか？'),\n",
       " (0.0, 'ＶＩＳＡ 勘定 科目 わかる ない', 'VISAの勘定科目がわからない'),\n",
       " (-1.3713376785647671e-16,\n",
       "  '育児 短時間 勤務 申請 書 曜日 別 申請 できる',\n",
       "  '育児短時間勤務申請書は曜日別に申請できるか？')]"
      ]
     },
     "execution_count": 13,
     "metadata": {},
     "output_type": "execute_result"
    }
   ],
   "source": [
    "lsa_similarities = cosine_similarity(lsa_features, lsa_target_features)\n",
    "lsa_similarities = lsa_similarities.flatten()\n",
    "zipped_data = zip(lsa_similarities, separated_sentences, np.array(df['question']))\n",
    "list(sorted(zipped_data, key=lambda x: x[0], reverse=True))[:10]"
   ]
  },
  {
   "cell_type": "code",
   "execution_count": 14,
   "metadata": {
    "collapsed": false
   },
   "outputs": [
    {
     "data": {
      "text/plain": [
       "[(0.99999999999999989, '保険証 失 くい', '保険証を失くした'),\n",
       " (1.8626326654009679e-16,\n",
       "  '海外 出張 する 旅費 精算 する どう する 良い',\n",
       "  '海外出張したときの旅費精算をしたいがどうしたら良い'),\n",
       " (1.457167719820518e-16, '子供 生まれる', '子供が生まれた'),\n",
       " (8.3266726846886741e-17, 'ＶＩＳＡ 勘定 科目 わかる ない', 'VISAの勘定科目がわからない'),\n",
       " (4.7223693784585185e-17,\n",
       "  '育児 短時間 勤務 申請 書 いつ 提出 する',\n",
       "  '育児短時間勤務申請書はいつまでに提出するのか？'),\n",
       " (1.3129907805395033e-17,\n",
       "  '育児 短時間 勤務 申請 どこ 提出 する よい',\n",
       "  '育児短時間勤務申請はどこへ提出すればよいか？'),\n",
       " (-1.1942777452914207e-16,\n",
       "  '育児 短時間 勤務 申請 書 曜日 別 申請 できる',\n",
       "  '育児短時間勤務申請書は曜日別に申請できるか？')]"
      ]
     },
     "execution_count": 14,
     "metadata": {},
     "output_type": "execute_result"
    }
   ],
   "source": [
    "lsa_similarities = cosine_similarity(lsa_features, lsa_target_features2)\n",
    "lsa_similarities = lsa_similarities.flatten()\n",
    "zipped_data = zip(lsa_similarities, separated_sentences, np.array(df['question']))\n",
    "list(sorted(zipped_data, key=lambda x: x[0], reverse=True))[:10]"
   ]
  },
  {
   "cell_type": "markdown",
   "metadata": {},
   "source": [
    "# LDAも試してみる\n",
    "\n",
    "試せそうだったので `LDA_in_scikit_learn_xx.ipynb` あたりを参考にLDAを試して比較してみた。\n",
    "\n",
    "http://hivecolor.com/id/65\n",
    "\n",
    "によると、\n",
    "\n",
    "> LSIもLDAも、次元をトピック単位に縮約するのは同じでした。lsiコーパスとldaコーパスの値もほとんど同じです。ただ、全く同じではなく、LSIとLDAには、「確率的な揺らぎを考慮するかどうか」という違いがあります。\n",
    "\n",
    "> LSIでは、一緒に使われている単語であれば、そのうち片方の単語で検索すると、もう片方の単語の結果も見付かることをちょっと前に書きました。しかしながら、どれだけ意味が似ている単語であっても、一緒に使われていなければそういう検索はできないという弱点があります。\n",
    "\n",
    "> LDAでは、LSIに確率分布を取り入れることで、直接的には一緒に使われていない単語同士であっても検索で見付けることができるようになります。\n",
    "\n",
    "> これまた詳しくないので詳細な説明はできないのですが、利用者の立場としては、LSIの発展版がLDAだ、くらいに思っておけばいいんじゃないかと思います。\n",
    "\n",
    "のように書いてあります。"
   ]
  },
  {
   "cell_type": "code",
   "execution_count": 15,
   "metadata": {
    "collapsed": false
   },
   "outputs": [],
   "source": [
    "from sklearn.decomposition import LatentDirichletAllocation\n",
    "\n",
    "lda = LatentDirichletAllocation(n_topics=8, \n",
    "                                max_iter=5,\n",
    "                                learning_method='online')\n",
    "\n",
    "lda_features = lda.fit_transform(features)\n",
    "lda_features = normalizer.fit_transform(lda_features)"
   ]
  },
  {
   "cell_type": "code",
   "execution_count": 16,
   "metadata": {
    "collapsed": true
   },
   "outputs": [],
   "source": [
    "lda_target_features = lda.transform(target_features)\n",
    "lda_target_features = normalizer.transform(lda_target_features)\n",
    "lda_target_features2 = lda.transform(target_features2)\n",
    "lda_target_features2 = normalizer.transform(lda_target_features2)"
   ]
  },
  {
   "cell_type": "code",
   "execution_count": 17,
   "metadata": {
    "collapsed": false
   },
   "outputs": [
    {
     "name": "stdout",
     "output_type": "stream",
     "text": [
      "(7, 29)\n",
      "(1, 29)\n",
      "(1, 29)\n",
      "(7, 8)\n",
      "(1, 8)\n",
      "(1, 8)\n"
     ]
    }
   ],
   "source": [
    "# LDA無し\n",
    "print(features.shape)\n",
    "print(target_features.shape)\n",
    "print(target_features2.shape)\n",
    "\n",
    "# LDAあり\n",
    "print(lda_features.shape)\n",
    "print(lda_target_features.shape)\n",
    "print(lda_target_features2.shape)"
   ]
  },
  {
   "cell_type": "markdown",
   "metadata": {},
   "source": [
    "## コサイン類似検索をかけてみる(LDAあり)"
   ]
  },
  {
   "cell_type": "code",
   "execution_count": 18,
   "metadata": {
    "collapsed": false
   },
   "outputs": [
    {
     "data": {
      "text/plain": [
       "[(0.99396445489149177, '保険証 失 くい', '保険証を失くした'),\n",
       " (0.23150324401538841, '子供 生まれる', '子供が生まれた'),\n",
       " (0.18967054053455626, 'ＶＩＳＡ 勘定 科目 わかる ない', 'VISAの勘定科目がわからない'),\n",
       " (0.18146550140387133,\n",
       "  '海外 出張 する 旅費 精算 する どう する 良い',\n",
       "  '海外出張したときの旅費精算をしたいがどうしたら良い'),\n",
       " (0.1753443110691506, '育児 短時間 勤務 申請 書 曜日 別 申請 できる', '育児短時間勤務申請書は曜日別に申請できるか？'),\n",
       " (0.17418927440477222, '育児 短時間 勤務 申請 どこ 提出 する よい', '育児短時間勤務申請はどこへ提出すればよいか？'),\n",
       " (0.17394767291071614, '育児 短時間 勤務 申請 書 いつ 提出 する', '育児短時間勤務申請書はいつまでに提出するのか？')]"
      ]
     },
     "execution_count": 18,
     "metadata": {},
     "output_type": "execute_result"
    }
   ],
   "source": [
    "lda_similarities = cosine_similarity(lda_features, lda_target_features)\n",
    "lda_similarities = lda_similarities.flatten()\n",
    "zipped_data = zip(lda_similarities, separated_sentences, np.array(df['question']))\n",
    "list(sorted(zipped_data, key=lambda x: x[0], reverse=True))[:10]"
   ]
  },
  {
   "cell_type": "markdown",
   "metadata": {},
   "source": [
    "## コサイン類似検索をかけてみる(LDAあり)"
   ]
  },
  {
   "cell_type": "code",
   "execution_count": 19,
   "metadata": {
    "collapsed": false
   },
   "outputs": [
    {
     "data": {
      "text/plain": [
       "[(1.0000000000000002, '保険証 失 くい', '保険証を失くした'),\n",
       " (0.17471733435520553, '子供 生まれる', '子供が生まれた'),\n",
       " (0.1382477701762275, 'ＶＩＳＡ 勘定 科目 わかる ない', 'VISAの勘定科目がわからない'),\n",
       " (0.1310932281165654,\n",
       "  '海外 出張 する 旅費 精算 する どう する 良い',\n",
       "  '海外出張したときの旅費精算をしたいがどうしたら良い'),\n",
       " (0.12575668637276424, '育児 短時間 勤務 申請 書 曜日 別 申請 できる', '育児短時間勤務申請書は曜日別に申請できるか？'),\n",
       " (0.12476713970111256, '育児 短時間 勤務 申請 どこ 提出 する よい', '育児短時間勤務申請はどこへ提出すればよいか？'),\n",
       " (0.12455669954235238, '育児 短時間 勤務 申請 書 いつ 提出 する', '育児短時間勤務申請書はいつまでに提出するのか？')]"
      ]
     },
     "execution_count": 19,
     "metadata": {},
     "output_type": "execute_result"
    }
   ],
   "source": [
    "lda_similarities = cosine_similarity(lda_features, lda_target_features2)\n",
    "lda_similarities = lda_similarities.flatten()\n",
    "zipped_data = zip(lda_similarities, separated_sentences, np.array(df['question']))\n",
    "list(sorted(zipped_data, key=lambda x: x[0], reverse=True))[:10]"
   ]
  },
  {
   "cell_type": "markdown",
   "metadata": {},
   "source": [
    "パラメータ調整\n",
    "http://scikit-learn.org/stable/modules/generated/sklearn.decomposition.LatentDirichletAllocation.html\n",
    "を参考にパラメータを調整してみた。\n",
    "\n",
    "何か間違っているのかもしれないが、色々調整してみても、上記のように全く予測できていない。"
   ]
  },
  {
   "cell_type": "markdown",
   "metadata": {
    "collapsed": true
   },
   "source": [
    "# 結果まとめ\n",
    "\n",
    "## 保険証なくした\n",
    "\n",
    "similalityが向上している。\n",
    "次元削減によりあまり関係のない特徴が無視され、精度が上がったものと思われる。\n",
    "削減後の次元数を少なくするほどsimilalityは向上するのでちょうどいい削減数にしたい。\n",
    "\n",
    "既存\n",
    "\n",
    "```\n",
    "[(0.36489794292209582, '保険証 失 くい', '保険証を失くした'),\n",
    " (0.29414540592718241,\n",
    "  '海外 出張 する 旅費 精算 する どう する 良い',\n",
    "  '海外出張したときの旅費精算をしたいがどうしたら良い'),\n",
    " (0.28264873120052436, 'ＶＩＳＡ 勘定 科目 わかる ない', 'VISAの勘定科目がわからない'),\n",
    " (0.1438089997699937, '育児 短時間 勤務 申請 書 いつ 提出 する', '育児短時間勤務申請書はいつまでに提出するのか？'),\n",
    " (0.13944815278566233, '育児 短時間 勤務 申請 どこ 提出 する よい', '育児短時間勤務申請はどこへ提出すればよいか？'),\n",
    " (0.0, '育児 短時間 勤務 申請 書 曜日 別 申請 できる', '育児短時間勤務申請書は曜日別に申請できるか？'),\n",
    " (0.0, '子供 生まれる', '子供が生まれた')]\n",
    "```\n",
    "\n",
    "LSI\n",
    "\n",
    "```\n",
    "[(0.65367129716499184, '保険証 失 くい', '保険証を失くした'),\n",
    " (0.52692653597281136,\n",
    "  '海外 出張 する 旅費 精算 する どう する 良い',\n",
    "  '海外出張したときの旅費精算をしたいがどうしたら良い'),\n",
    " (0.50633160956276302, 'ＶＩＳＡ 勘定 科目 わかる ない', 'VISAの勘定科目がわからない'),\n",
    " (0.25761673160136522, '育児 短時間 勤務 申請 書 いつ 提出 する', '育児短時間勤務申請書はいつまでに提出するのか？'),\n",
    " (0.24980479250913942, '育児 短時間 勤務 申請 どこ 提出 する よい', '育児短時間勤務申請はどこへ提出すればよいか？'),\n",
    " (8.4879361989241347e-17, '子供 生まれる', '子供が生まれた'),\n",
    " (-2.4449837541879543e-16,\n",
    "  '育児 短時間 勤務 申請 書 曜日 別 申請 できる',\n",
    "  '育児短時間勤務申請書は曜日別に申請できるか？')]\n",
    "```\n",
    "\n",
    "LDA\n",
    "\n",
    "```\n",
    "[(0.99999763042976986, '保険証 失 くい', '保険証を失くした'),\n",
    " (0.99922841796653905, 'ＶＩＳＡ 勘定 科目 わかる ない', 'VISAの勘定科目がわからない'),\n",
    " (0.17583143931504724, '子供 生まれる', '子供が生まれた'),\n",
    " (0.13217406909552246,\n",
    "  '海外 出張 する 旅費 精算 する どう する 良い',\n",
    "  '海外出張したときの旅費精算をしたいがどうしたら良い'),\n",
    " (0.12670173010146185, '育児 短時間 勤務 申請 書 曜日 別 申請 できる', '育児短時間勤務申請書は曜日別に申請できるか？'),\n",
    " (0.1258307199815161, '育児 短時間 勤務 申請 どこ 提出 する よい', '育児短時間勤務申請はどこへ提出すればよいか？'),\n",
    " (0.12562963377518871, '育児 短時間 勤務 申請 書 いつ 提出 する', '育児短時間勤務申請書はいつまでに提出するのか？')]\n",
    "```\n",
    "\n",
    "## 保険証失くした\n",
    "\n",
    "既存\n",
    "\n",
    "```\n",
    "[(1.0, '保険証 失 くい', '保険証を失くした'),\n",
    " (0.0, '育児 短時間 勤務 申請 書 いつ 提出 する', '育児短時間勤務申請書はいつまでに提出するのか？'),\n",
    " (0.0, '育児 短時間 勤務 申請 書 曜日 別 申請 できる', '育児短時間勤務申請書は曜日別に申請できるか？'),\n",
    " (0.0, '育児 短時間 勤務 申請 どこ 提出 する よい', '育児短時間勤務申請はどこへ提出すればよいか？'),\n",
    " (0.0, '子供 生まれる', '子供が生まれた'),\n",
    " (0.0, 'ＶＩＳＡ 勘定 科目 わかる ない', 'VISAの勘定科目がわからない'),\n",
    " (0.0, '海外 出張 する 旅費 精算 する どう する 良い', '海外出張したときの旅費精算をしたいがどうしたら良い')]\n",
    "```\n",
    "\n",
    "LSI\n",
    "\n",
    "```\n",
    "[(1.0000000000000002, '保険証 失 くい', '保険証を失くした'),\n",
    " (1.6653345369377348e-16, '子供 生まれる', '子供が生まれた'),\n",
    " (9.8088920827404037e-17,\n",
    "  '育児 短時間 勤務 申請 どこ 提出 する よい',\n",
    "  '育児短時間勤務申請はどこへ提出すればよいか？'),\n",
    " (-7.8682544391720894e-18,\n",
    "  '育児 短時間 勤務 申請 書 いつ 提出 する',\n",
    "  '育児短時間勤務申請書はいつまでに提出するのか？'),\n",
    " (-5.5747247630078562e-17,\n",
    "  '育児 短時間 勤務 申請 書 曜日 別 申請 できる',\n",
    "  '育児短時間勤務申請書は曜日別に申請できるか？'),\n",
    " (-5.8754446610958302e-17, 'ＶＩＳＡ 勘定 科目 わかる ない', 'VISAの勘定科目がわからない'),\n",
    " (-1.099234254312998e-16,\n",
    "  '海外 出張 する 旅費 精算 する どう する 良い',\n",
    "  '海外出張したときの旅費精算をしたいがどうしたら良い')]\n",
    "```\n",
    "\n",
    "LDA\n",
    "\n",
    "```\n",
    "[(1.0000000000000002, '保険証 失 くい', '保険証を失くした'),\n",
    " (0.99931138558358357, 'ＶＩＳＡ 勘定 科目 わかる ない', 'VISAの勘定科目がわからない'),\n",
    " (0.17472768450420262, '子供 生まれる', '子供が生まれた'),\n",
    " (0.1310833671368809,\n",
    "  '海外 出張 する 旅費 精算 する どう する 良い',\n",
    "  '海外出張したときの旅費精算をしたいがどうしたら良い'),\n",
    " (0.12574492003007595, '育児 短時間 勤務 申請 書 曜日 別 申請 できる', '育児短時間勤務申請書は曜日別に申請できるか？'),\n",
    " (0.12475810534454906, '育児 短時間 勤務 申請 どこ 提出 する よい', '育児短時間勤務申請はどこへ提出すればよいか？'),\n",
    " (0.12455763825637048, '育児 短時間 勤務 申請 書 いつ 提出 する', '育児短時間勤務申請書はいつまでに提出するのか？')]\n",
    "```\n"
   ]
  },
  {
   "cell_type": "markdown",
   "metadata": {},
   "source": [
    "## こどもがうまれた\n",
    "\n",
    "どの単語もボキャブラリーにないため、回答できない。\n",
    "LDAの場合は確率分布により予測できている。\n",
    "\n",
    "既存\n",
    "\n",
    "```\n",
    "[(0.0, '育児 短時間 勤務 申請 書 いつ 提出 する', '育児短時間勤務申請書はいつまでに提出するのか？'),\n",
    " (0.0, '育児 短時間 勤務 申請 書 曜日 別 申請 できる', '育児短時間勤務申請書は曜日別に申請できるか？'),\n",
    " (0.0, '育児 短時間 勤務 申請 どこ 提出 する よい', '育児短時間勤務申請はどこへ提出すればよいか？'),\n",
    " (0.0, '子供 生まれる', '子供が生まれた'),\n",
    " (0.0, 'ＶＩＳＡ 勘定 科目 わかる ない', 'VISAの勘定科目がわからない'),\n",
    " (0.0, '海外 出張 する 旅費 精算 する どう する 良い', '海外出張したときの旅費精算をしたいがどうしたら良い'),\n",
    " (0.0, '保険証 失 くい', '保険証を失くした')]\n",
    "```\n",
    "\n",
    "LSI\n",
    "\n",
    "```\n",
    "[(0.0, '育児 短時間 勤務 申請 書 いつ 提出 する', '育児短時間勤務申請書はいつまでに提出するのか？'),\n",
    " (0.0, '育児 短時間 勤務 申請 書 曜日 別 申請 できる', '育児短時間勤務申請書は曜日別に申請できるか？'),\n",
    " (0.0, '育児 短時間 勤務 申請 どこ 提出 する よい', '育児短時間勤務申請はどこへ提出すればよいか？'),\n",
    " (0.0, '子供 生まれる', '子供が生まれた'),\n",
    " (0.0, 'ＶＩＳＡ 勘定 科目 わかる ない', 'VISAの勘定科目がわからない'),\n",
    " (0.0, '海外 出張 する 旅費 精算 する どう する 良い', '海外出張したときの旅費精算をしたいがどうしたら良い'),\n",
    " (0.0, '保険証 失 くい', '保険証を失くした')]\n",
    "```\n",
    "\n",
    "LDA\n",
    "\n",
    "```\n",
    "[(0.54232500732829159, '子供 生まれる', '子供が生まれた'),\n",
    " (0.51226155701256915, '保険証 失 くい', '保険証を失くした'),\n",
    " (0.48004031868096553, 'ＶＩＳＡ 勘定 科目 わかる ない', 'VISAの勘定科目がわからない'),\n",
    " (0.46766797607224725,\n",
    "  '海外 出張 する 旅費 精算 する どう する 良い',\n",
    "  '海外出張したときの旅費精算をしたいがどうしたら良い'),\n",
    " (0.45838192185609988, '育児 短時間 勤務 申請 書 曜日 別 申請 できる', '育児短時間勤務申請書は曜日別に申請できるか？'),\n",
    " (0.45673056830455627, '育児 短時間 勤務 申請 どこ 提出 する よい', '育児短時間勤務申請はどこへ提出すればよいか？'),\n",
    " (0.45635712584466431, '育児 短時間 勤務 申請 書 いつ 提出 する', '育児短時間勤務申請書はいつまでに提出するのか？')]\n",
    "```\n",
    "\n",
    "## こどもが生まれた\n",
    "\n",
    "既存\n",
    "\n",
    "```\n",
    "[(0.70710678118654757, '子供 生まれる', '子供が生まれた'),\n",
    " (0.0, '育児 短時間 勤務 申請 書 いつ 提出 する', '育児短時間勤務申請書はいつまでに提出するのか？'),\n",
    " (0.0, '育児 短時間 勤務 申請 書 曜日 別 申請 できる', '育児短時間勤務申請書は曜日別に申請できるか？'),\n",
    " (0.0, '育児 短時間 勤務 申請 どこ 提出 する よい', '育児短時間勤務申請はどこへ提出すればよいか？'),\n",
    " (0.0, 'ＶＩＳＡ 勘定 科目 わかる ない', 'VISAの勘定科目がわからない'),\n",
    " (0.0, '海外 出張 する 旅費 精算 する どう する 良い', '海外出張したときの旅費精算をしたいがどうしたら良い'),\n",
    " (0.0, '保険証 失 くい', '保険証を失くした')]\n",
    "```\n",
    "\n",
    "LSI\n",
    "\n",
    "```\n",
    "[(1.0, '子供 生まれる', '子供が生まれた'),\n",
    " (1.3972112760024048e-16,\n",
    "  '育児 短時間 勤務 申請 書 曜日 別 申請 できる',\n",
    "  '育児短時間勤務申請書は曜日別に申請できるか？'),\n",
    " (1.1102230246251565e-16, 'ＶＩＳＡ 勘定 科目 わかる ない', 'VISAの勘定科目がわからない'),\n",
    " (5.5511151231257827e-17, '保険証 失 くい', '保険証を失くした'),\n",
    " (1.4328446680903843e-17,\n",
    "  '育児 短時間 勤務 申請 書 いつ 提出 する',\n",
    "  '育児短時間勤務申請書はいつまでに提出するのか？'),\n",
    " (-5.3945024184152252e-17,\n",
    "  '育児 短時間 勤務 申請 どこ 提出 する よい',\n",
    "  '育児短時間勤務申請はどこへ提出すればよいか？'),\n",
    " (-1.3981097219342767e-16,\n",
    "  '海外 出張 する 旅費 精算 する どう する 良い',\n",
    "  '海外出張したときの旅費精算をしたいがどうしたら良い')]\n",
    "```\n",
    "\n",
    "LDA\n",
    "\n",
    "```\n",
    "[(0.99723020929412565, '子供 生まれる', '子供が生まれた'),\n",
    " (0.21120057656529864, '保険証 失 くい', '保険証を失くした'),\n",
    " (0.18963963728602987, 'ＶＩＳＡ 勘定 科目 わかる ない', 'VISAの勘定科目がわからない'),\n",
    " (0.18142909608410532,\n",
    "  '海外 出張 する 旅費 精算 する どう する 良い',\n",
    "  '海外出張したときの旅費精算をしたいがどうしたら良い'),\n",
    " (0.17527067146848016, '育児 短時間 勤務 申請 書 曜日 別 申請 できる', '育児短時間勤務申請書は曜日別に申請できるか？'),\n",
    " (0.17417897115045625, '育児 短時間 勤務 申請 どこ 提出 する よい', '育児短時間勤務申請はどこへ提出すればよいか？'),\n",
    " (0.17393023556911802, '育児 短時間 勤務 申請 書 いつ 提出 する', '育児短時間勤務申請書はいつまでに提出するのか？')]\n",
    "```\n"
   ]
  },
  {
   "cell_type": "markdown",
   "metadata": {},
   "source": [
    "## 子供がうまれた\n",
    "\n",
    "既存\n",
    "\n",
    "```\n",
    "[(0.70710678118654757, '子供 生まれる', '子供が生まれた'),\n",
    " (0.0, '育児 短時間 勤務 申請 書 いつ 提出 する', '育児短時間勤務申請書はいつまでに提出するのか？'),\n",
    " (0.0, '育児 短時間 勤務 申請 書 曜日 別 申請 できる', '育児短時間勤務申請書は曜日別に申請できるか？'),\n",
    " (0.0, '育児 短時間 勤務 申請 どこ 提出 する よい', '育児短時間勤務申請はどこへ提出すればよいか？'),\n",
    " (0.0, 'ＶＩＳＡ 勘定 科目 わかる ない', 'VISAの勘定科目がわからない'),\n",
    " (0.0, '海外 出張 する 旅費 精算 する どう する 良い', '海外出張したときの旅費精算をしたいがどうしたら良い'),\n",
    " (0.0, '保険証 失 くい', '保険証を失くした')]\n",
    "```\n",
    "\n",
    "LSI\n",
    "\n",
    "```\n",
    "[(1.0, '子供 生まれる', '子供が生まれた'),\n",
    " (1.3972112760024048e-16,\n",
    "  '育児 短時間 勤務 申請 書 曜日 別 申請 できる',\n",
    "  '育児短時間勤務申請書は曜日別に申請できるか？'),\n",
    " (1.1102230246251565e-16, 'ＶＩＳＡ 勘定 科目 わかる ない', 'VISAの勘定科目がわからない'),\n",
    " (5.5511151231257827e-17, '保険証 失 くい', '保険証を失くした'),\n",
    " (1.4328446680903843e-17,\n",
    "  '育児 短時間 勤務 申請 書 いつ 提出 する',\n",
    "  '育児短時間勤務申請書はいつまでに提出するのか？'),\n",
    " (-5.3945024184152252e-17,\n",
    "  '育児 短時間 勤務 申請 どこ 提出 する よい',\n",
    "  '育児短時間勤務申請はどこへ提出すればよいか？'),\n",
    " (-1.3981097219342767e-16,\n",
    "  '海外 出張 する 旅費 精算 する どう する 良い',\n",
    "  '海外出張したときの旅費精算をしたいがどうしたら良い')]\n",
    "```\n",
    "\n",
    "LDA\n",
    "\n",
    "```\n",
    "[(0.99722593860453557, '子供 生まれる', '子供が生まれた'),\n",
    " (0.98530465203867224, '育児 短時間 勤務 申請 書 曜日 別 申請 できる', '育児短時間勤務申請書は曜日別に申請できるか？'),\n",
    " (0.98498486954174702, '育児 短時間 勤務 申請 どこ 提出 する よい', '育児短時間勤務申請はどこへ提出すればよいか？'),\n",
    " (0.98491433030420661, '育児 短時間 勤務 申請 書 いつ 提出 する', '育児短時間勤務申請書はいつまでに提出するのか？'),\n",
    " (0.21122679367587543, '保険証 失 くい', '保険証を失くした'),\n",
    " (0.18968996274253319, 'ＶＩＳＡ 勘定 科目 わかる ない', 'VISAの勘定科目がわからない'),\n",
    " (0.18146405542426788,\n",
    "  '海外 出張 する 旅費 精算 する どう する 良い',\n",
    "  '海外出張したときの旅費精算をしたいがどうしたら良い')]\n",
    "```\n",
    "\n",
    "## わからない\n",
    "\n",
    "既存\n",
    "\n",
    "```\n",
    "[(0.63245553203367599, 'ＶＩＳＡ 勘定 科目 わかる ない', 'VISAの勘定科目がわからない'),\n",
    " (0.0, '育児 短時間 勤務 申請 書 いつ 提出 する', '育児短時間勤務申請書はいつまでに提出するのか？'),\n",
    " (0.0, '育児 短時間 勤務 申請 書 曜日 別 申請 できる', '育児短時間勤務申請書は曜日別に申請できるか？'),\n",
    " (0.0, '育児 短時間 勤務 申請 どこ 提出 する よい', '育児短時間勤務申請はどこへ提出すればよいか？'),\n",
    " (0.0, '子供 生まれる', '子供が生まれた'),\n",
    " (0.0, '海外 出張 する 旅費 精算 する どう する 良い', '海外出張したときの旅費精算をしたいがどうしたら良い'),\n",
    " (0.0, '保険証 失 くい', '保険証を失くした')]\n",
    "```\n",
    "\n",
    "LSI\n",
    "\n",
    "```\n",
    "[(1.0, 'ＶＩＳＡ 勘定 科目 わかる ない', 'VISAの勘定科目がわからない'),\n",
    " (7.208598777808593e-17,\n",
    "  '育児 短時間 勤務 申請 書 曜日 別 申請 できる',\n",
    "  '育児短時間勤務申請書は曜日別に申請できるか？'),\n",
    " (2.8164686957795376e-17,\n",
    "  '育児 短時間 勤務 申請 書 いつ 提出 する',\n",
    "  '育児短時間勤務申請書はいつまでに提出するのか？'),\n",
    " (-9.2346576663475958e-18,\n",
    "  '海外 出張 する 旅費 精算 する どう する 良い',\n",
    "  '海外出張したときの旅費精算をしたいがどうしたら良い'),\n",
    " (-2.7755575615628914e-17, '子供 生まれる', '子供が生まれた'),\n",
    " (-7.5839904124817604e-17,\n",
    "  '育児 短時間 勤務 申請 どこ 提出 する よい',\n",
    "  '育児短時間勤務申請はどこへ提出すればよいか？'),\n",
    " (-1.1102230246251565e-16, '保険証 失 くい', '保険証を失くした')]\n",
    "```\n",
    "\n",
    "LDA\n",
    "\n",
    "```\n",
    "[(0.99736341148713947, 'ＶＩＳＡ 勘定 科目 わかる ない', 'VISAの勘定科目がわからない'),\n",
    " (0.99624312128717407,\n",
    "  '海外 出張 する 旅費 精算 する どう する 良い',\n",
    "  '海外出張したときの旅費精算をしたいがどうしたら良い'),\n",
    " (0.19334402464480621, '子供 生まれる', '子供が生まれた'),\n",
    " (0.17477051676111335, '保険証 失 くい', '保険証を失くした'),\n",
    " (0.1419271106930749, '育児 短時間 勤務 申請 書 曜日 別 申請 できる', '育児短時間勤務申請書は曜日別に申請できるか？'),\n",
    " (0.14093549942089204, '育児 短時間 勤務 申請 どこ 提出 する よい', '育児短時間勤務申請はどこへ提出すればよいか？'),\n",
    " (0.14071763783245683, '育児 短時間 勤務 申請 書 いつ 提出 する', '育児短時間勤務申請書はいつまでに提出するのか？')]\n",
    "```\n"
   ]
  },
  {
   "cell_type": "code",
   "execution_count": null,
   "metadata": {
    "collapsed": true
   },
   "outputs": [],
   "source": []
  }
 ],
 "metadata": {
  "kernelspec": {
   "display_name": "Python 3",
   "language": "python",
   "name": "python3"
  },
  "language_info": {
   "codemirror_mode": {
    "name": "ipython",
    "version": 3
   },
   "file_extension": ".py",
   "mimetype": "text/x-python",
   "name": "python",
   "nbconvert_exporter": "python",
   "pygments_lexer": "ipython3",
   "version": "3.5.2"
  }
 },
 "nbformat": 4,
 "nbformat_minor": 2
}
