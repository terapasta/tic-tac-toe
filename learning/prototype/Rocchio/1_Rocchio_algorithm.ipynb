{
 "cells": [
  {
   "cell_type": "markdown",
   "metadata": {},
   "source": [
    "## Rocchioを試す\n",
    "\n",
    "### 調べる\n",
    "\n",
    "**論文**\n",
    "\n",
    "http://db-event.jpn.org/deim2013//proceedings/pdf/b3-1.pdf\n",
    "\n",
    "\n",
    "#### 手法概要\n",
    "\n",
    "コサイン類似度をもとにしている\n",
    "ユーザーが適合と判断した文書に含まれる語の重みをTFIDFなどで大きくし、不適合を逆に小さくすることで、クエリベクトルを修正する\n",
    "\n",
    "クエリと単語の関連度を表す指標として、Bhattacharyya係数に共起度の逆数をかけたBCiqを使う\n",
    "\n",
    "\n",
    "#### フィードバックについて\n",
    "\n",
    "ユーザーがクエリを与えたとき関連度(BC)を元に得た適合文書の上位N件を使う\n",
    "ユーザーが閲覧したものを適合、していないものを不適合として関連度を更新していく\n",
    "\n",
    "### 実際の処理手順\n",
    "\n",
    "- まず普通にユーザーからのクエリを元に関連文書の上位N件をユーザーに提示する\n",
    "- ユーザーにその中から選ばせる。\n",
    "- リランキングする\n",
    "- ユーザーに精度の向上した選択肢を提示できる\n",
    "\n",
    "これはどうやらRocchioではないらしい、まずはフィードバックのアルゴリズムとしてポピュラーなRocchioを試してみる\n",
    "\n",
    "\n",
    "## Rocchioを改めて試す\n",
    "\n",
    "### 調べる\n",
    "\n",
    "コーセラでわかりやすい動画があった\n",
    "\n",
    "https://www.coursera.org/learn/text-retrieval/lecture/PyTkW/lesson-5-2-feedback-in-vector-space-model-rocchio\n",
    "\n",
    "これによると、かなり単純なアルゴリズムだった。\n",
    "\n",
    "![rocchio](assets/rocchio.png)\n",
    "\n",
    "`新しいクエリ = (クエリに重みを掛けたもの) + (ポジティブドキュメントの中央値に重みをかけたもの)　- (ネガティブドキュメントの中央値に重みをかけたもの)`"
   ]
  },
  {
   "cell_type": "markdown",
   "metadata": {},
   "source": [
    "## 試す"
   ]
  },
  {
   "cell_type": "code",
   "execution_count": 1,
   "metadata": {
    "collapsed": false
   },
   "outputs": [
    {
     "data": {
      "text/plain": [
       "array([ 1.5,  0. ,  3. ,  2. ,  0. ,  0. ])"
      ]
     },
     "metadata": {},
     "output_type": "display_data"
    },
    {
     "data": {
      "text/plain": [
       "array([ 1.5,  0. ,  4. ,  2. ,  0. ,  0. ])"
      ]
     },
     "metadata": {},
     "output_type": "display_data"
    },
    {
     "data": {
      "text/plain": [
       "array([ 1.5,  0.1,  0. ,  0. ,  0. ,  0. ])"
      ]
     },
     "metadata": {},
     "output_type": "display_data"
    },
    {
     "data": {
      "text/plain": [
       "array([ 1.5,  0.1,  0. ,  2. ,  2. ,  0. ])"
      ]
     },
     "metadata": {},
     "output_type": "display_data"
    },
    {
     "data": {
      "text/plain": [
       "(1.5, 0, 0, 6.0, 2.0, 0)"
      ]
     },
     "metadata": {},
     "output_type": "display_data"
    },
    {
     "data": {
      "text/plain": [
       "array([ 1.5,  0. ,  3.5,  2. ,  0. ,  0. ])"
      ]
     },
     "metadata": {},
     "output_type": "display_data"
    },
    {
     "data": {
      "text/plain": [
       "array([ 1.5       ,  0.06666667,  0.        ,  2.66666667,  1.33333333,  0.        ])"
      ]
     },
     "metadata": {},
     "output_type": "display_data"
    },
    {
     "data": {
      "text/plain": [
       "array([ 1.        ,  0.93333333,  4.5       ,  0.33333333, -1.33333333,  0.        ])"
      ]
     },
     "metadata": {},
     "output_type": "display_data"
    }
   ],
   "source": [
    "from IPython.core.display import display\n",
    "\n",
    "# ポジティブドキュメント\n",
    "D3 = np.array((1.5, 0, 3.0, 2.0, 0, 0))\n",
    "D4 = np.array((1.5, 0, 4.0, 2.0, 0, 0))\n",
    "display(D3)\n",
    "display(D4)\n",
    "\n",
    "# ネガティブドキュメント\n",
    "D1 = np.array((1.5, 0.1, 0, 0, 0, 0))\n",
    "D2 = np.array((1.5, 0.1, 0, 2.0, 2.0, 0))\n",
    "D5 = (1.5, 0, 0, 6.0, 2.0, 0)\n",
    "display(D1)\n",
    "display(D2)\n",
    "display(D5)\n",
    "\n",
    "# ポジティブドキュメントの中心\n",
    "positive_centroid_vector = (D3 + D4) / 2\n",
    "display(positive_centroid_vector)\n",
    "\n",
    "negative_centroid_vector = (D1 + D2 + D5) / 3\n",
    "display(negative_centroid_vector)\n",
    "\n",
    "original_query = np.array((1, 1, 1, 1, 0, 0))\n",
    "\n",
    "# ハイパーパラメーター\n",
    "alpha = 1\n",
    "beta = 1\n",
    "gamma = 1\n",
    "\n",
    "new_query = (alpha * original_query) + (beta * positive_centroid_vector) - (gamma * negative_centroid_vector)\n",
    "display(new_query)\n",
    "\n",
    "# 上記のままだとパフォーマンスに問題があるので、ネガティブドキュメントから一番高いいくつかのベクトルのみを抽出するほうがいいらしい\n"
   ]
  },
  {
   "cell_type": "markdown",
   "metadata": {},
   "source": [
    "## sklearnを使って試す"
   ]
  },
  {
   "cell_type": "code",
   "execution_count": 2,
   "metadata": {
    "collapsed": false
   },
   "outputs": [
    {
     "name": "stdout",
     "output_type": "stream",
     "text": [
      "current_dir=/Users/shwld/project/mofmof/donusagi-bot/learning\n"
     ]
    },
    {
     "name": "stderr",
     "output_type": "stream",
     "text": [
      "/Users/shwld/.pyenv/versions/3.5.2/envs/donusagi-bot3/lib/python3.5/site-packages/sklearn/cross_validation.py:44: DeprecationWarning: This module was deprecated in version 0.18 in favor of the model_selection module into which all the refactored classes and functions are moved. Also note that the interface of the new CV iterators are different from that of this module. This module will be removed in 0.20.\n",
      "  \"This module will be removed in 0.20.\", DeprecationWarning)\n",
      "/Users/shwld/.pyenv/versions/3.5.2/envs/donusagi-bot3/lib/python3.5/site-packages/sklearn/grid_search.py:43: DeprecationWarning: This module was deprecated in version 0.18 in favor of the model_selection module into which all the refactored classes and functions are moved. This module will be removed in 0.20.\n",
      "  DeprecationWarning)\n"
     ]
    }
   ],
   "source": [
    "'''\n",
    "    learningディレクトリのパスを取得／設定\n",
    "'''\n",
    "import sys\n",
    "import os\n",
    "\n",
    "if os.path.basename(os.getcwd()) != 'learning':\n",
    "    learning_dir = os.path.join(os.getcwd(), '../..')\n",
    "    learning_dir = os.path.abspath(learning_dir)\n",
    "    os.chdir(learning_dir)\n",
    "\n",
    "    if learning_dir not in sys.path:\n",
    "        sys.path.append(learning_dir)\n",
    "\n",
    "print('current_dir={}'.format(os.getcwd()))\n",
    "\n",
    "\n",
    "'''\n",
    "    ライブラリロード\n",
    "'''\n",
    "from IPython.core.display import display\n",
    "\n",
    "'''\n",
    "   初期化\n",
    "'''\n",
    "from tests.support.helper import Helper\n",
    "Helper.init()"
   ]
  },
  {
   "cell_type": "code",
   "execution_count": 3,
   "metadata": {
    "collapsed": false,
    "scrolled": true
   },
   "outputs": [
    {
     "name": "stderr",
     "output_type": "stream",
     "text": [
      "[DEBUG 140736093508416 2017/11/27 PM 12:41:26  mecab_tokenizer_with_split: 10 -             __init__] dicdir: /usr/local/lib/mecab/dic/mecab-ipadic-neologd\n"
     ]
    }
   ],
   "source": [
    "from app.shared.datasource.file.ratings import Ratings\n",
    "from app.core.tokenizer.mecab_tokenizer import MecabTokenizer\n",
    "from app.core.vectorizer.tfidf_vectorizer import TfidfVectorizer\n",
    "from sklearn.neighbors.nearest_centroid import NearestCentroid\n",
    "\n",
    "tokenizer = MecabTokenizer.new()\n",
    "vectorizer = TfidfVectorizer.new()"
   ]
  },
  {
   "cell_type": "markdown",
   "metadata": {},
   "source": [
    "## コサイン類似検索で普通に解答を取得してみる\n",
    "あとで補正された解答と比較するため"
   ]
  },
  {
   "cell_type": "code",
   "execution_count": 4,
   "metadata": {
    "collapsed": false
   },
   "outputs": [
    {
     "data": {
      "text/plain": [
       "(1, 894)"
      ]
     },
     "metadata": {},
     "output_type": "display_data"
    }
   ],
   "source": [
    "# クエリドキュメント(question)のベクトルを取得する\n",
    "\n",
    "question = tokenizer.tokenize(['らく賃について聞きたいのですが誰が担当なのかわかりますか?'])\n",
    "q_vectors = vectorizer.transform(question)\n",
    "display(q_vectors.shape)"
   ]
  },
  {
   "cell_type": "code",
   "execution_count": 5,
   "metadata": {
    "collapsed": false
   },
   "outputs": [
    {
     "name": "stderr",
     "output_type": "stream",
     "text": [
      "[ INFO 140736093508416 2017/11/27 PM 12:41:29                     context: 21 -             __init__] algorithm: Simmilarity Classification\n",
      "[DEBUG 140736093508416 2017/11/27 PM 12:41:29  mecab_tokenizer_with_split: 10 -             __init__] dicdir: /usr/local/lib/mecab/dic/mecab-ipadic-neologd\n"
     ]
    },
    {
     "data": {
      "text/html": [
       "<div>\n",
       "<table border=\"1\" class=\"dataframe\">\n",
       "  <thead>\n",
       "    <tr style=\"text-align: right;\">\n",
       "      <th></th>\n",
       "      <th>question</th>\n",
       "      <th>question_answer_id</th>\n",
       "      <th>probability</th>\n",
       "    </tr>\n",
       "  </thead>\n",
       "  <tbody>\n",
       "    <tr>\n",
       "      <th>10860</th>\n",
       "      <td>救急箱の担当は誰。</td>\n",
       "      <td>24628</td>\n",
       "      <td>0.404455</td>\n",
       "    </tr>\n",
       "    <tr>\n",
       "      <th>10859</th>\n",
       "      <td>らく賃の担当者は誰。\\n</td>\n",
       "      <td>24627</td>\n",
       "      <td>0.403036</td>\n",
       "    </tr>\n",
       "    <tr>\n",
       "      <th>10674</th>\n",
       "      <td>ちょっと聞きたい</td>\n",
       "      <td>23903</td>\n",
       "      <td>0.387277</td>\n",
       "    </tr>\n",
       "    <tr>\n",
       "      <th>10617</th>\n",
       "      <td>わからない</td>\n",
       "      <td>23844</td>\n",
       "      <td>0.379846</td>\n",
       "    </tr>\n",
       "    <tr>\n",
       "      <th>10720</th>\n",
       "      <td>保険の代理店監査の担当は誰。\\n\\n</td>\n",
       "      <td>24481</td>\n",
       "      <td>0.303962</td>\n",
       "    </tr>\n",
       "    <tr>\n",
       "      <th>10693</th>\n",
       "      <td>らく賃を受託</td>\n",
       "      <td>24440</td>\n",
       "      <td>0.241121</td>\n",
       "    </tr>\n",
       "    <tr>\n",
       "      <th>10791</th>\n",
       "      <td>周辺商品でらく賃（受託）の担当者は誰。</td>\n",
       "      <td>24558</td>\n",
       "      <td>0.240588</td>\n",
       "    </tr>\n",
       "    <tr>\n",
       "      <th>10792</th>\n",
       "      <td>周辺商品でらく賃（申込）の担当者は誰。</td>\n",
       "      <td>24559</td>\n",
       "      <td>0.238946</td>\n",
       "    </tr>\n",
       "    <tr>\n",
       "      <th>10870</th>\n",
       "      <td>パスWordがわからなくなった。</td>\n",
       "      <td>24642</td>\n",
       "      <td>0.229104</td>\n",
       "    </tr>\n",
       "    <tr>\n",
       "      <th>10546</th>\n",
       "      <td>今期（第20期、2017年）、社員旅行が中止と聞きましたが、出勤ですか。</td>\n",
       "      <td>23773</td>\n",
       "      <td>0.204969</td>\n",
       "    </tr>\n",
       "  </tbody>\n",
       "</table>\n",
       "</div>"
      ],
      "text/plain": [
       "                                   question question_answer_id  probability\n",
       "10860                             救急箱の担当は誰。              24628     0.404455\n",
       "10859                          らく賃の担当者は誰。\\n              24627     0.403036\n",
       "10674                              ちょっと聞きたい              23903     0.387277\n",
       "10617                                 わからない              23844     0.379846\n",
       "10720                    保険の代理店監査の担当は誰。\\n\\n              24481     0.303962\n",
       "10693                                らく賃を受託              24440     0.241121\n",
       "10791                   周辺商品でらく賃（受託）の担当者は誰。              24558     0.240588\n",
       "10792                   周辺商品でらく賃（申込）の担当者は誰。              24559     0.238946\n",
       "10870                      パスWordがわからなくなった。              24642     0.229104\n",
       "10546  今期（第20期、2017年）、社員旅行が中止と聞きましたが、出勤ですか。              23773     0.204969"
      ]
     },
     "execution_count": 5,
     "metadata": {},
     "output_type": "execute_result"
    }
   ],
   "source": [
    "from app.core.cosine_similarity import CosineSimilarity\n",
    "from app.shared.constants import Constants\n",
    "\n",
    "context = Helper.test_context(bot_id=30, algorithm=Constants.ALGORITHM_SIMILARITY_CLASSIFICATION)\n",
    "cs = CosineSimilarity.new(bot=context.current_bot, vectorizer=vectorizer)\n",
    "data_frame = cs.predict(q_vectors)\n",
    "data_frame = data_frame.drop_duplicates(subset='question_answer_id', keep='first')\n",
    "data_frame = data_frame.sort_values(by='probability', ascending=False)\n",
    "data_frame[:10]"
   ]
  },
  {
   "cell_type": "markdown",
   "metadata": {},
   "source": [
    "救急箱の担当という全く関係ない解答が一番に来ている。これを下げたい"
   ]
  },
  {
   "cell_type": "markdown",
   "metadata": {},
   "source": [
    "## Rocchioでクエリを補正して再度解答を得る"
   ]
  },
  {
   "cell_type": "code",
   "execution_count": 6,
   "metadata": {
    "collapsed": false
   },
   "outputs": [
    {
     "data": {
      "text/plain": [
       "(3, 894)"
      ]
     },
     "metadata": {},
     "output_type": "display_data"
    },
    {
     "data": {
      "text/plain": [
       "'らく賃の担当者は誰。\\n'"
      ]
     },
     "metadata": {},
     "output_type": "display_data"
    }
   ],
   "source": [
    "# ポジティブドキュメント(good ratings)のベクトルを取得する\n",
    "\n",
    "positive_docs = [\n",
    "    'らく賃の担当者は誰。\\n',\n",
    "    '周辺商品でらく賃（受託）の担当者は誰。',\n",
    "    '周辺商品でらく賃（申込）の担当者は誰。',\n",
    "]\n",
    "posi_sentences = tokenizer.tokenize(positive_docs)\n",
    "posi_vectors = vectorizer.transform(posi_sentences)\n",
    "display(posi_vectors.shape)\n",
    "\n",
    "# 質問に一番近いドキュメントを取得する\n",
    "\n",
    "posi_clf = NearestCentroid()\n",
    "posi_clf.fit(posi_vectors, range(len(positive_docs)))\n",
    "\n",
    "posi_index = posi_clf.predict(q_vectors)\n",
    "display(positive_docs[posi_index])"
   ]
  },
  {
   "cell_type": "code",
   "execution_count": 7,
   "metadata": {
    "collapsed": false
   },
   "outputs": [
    {
     "data": {
      "text/plain": [
       "(3, 894)"
      ]
     },
     "metadata": {},
     "output_type": "display_data"
    },
    {
     "data": {
      "text/plain": [
       "'救急箱の担当は誰。'"
      ]
     },
     "metadata": {},
     "output_type": "display_data"
    }
   ],
   "source": [
    "# ネガティブドキュメント(bad ratings)のベクトルを取得する\n",
    "\n",
    "negative_docs = [\n",
    "    '救急箱の担当は誰。',\n",
    "    'ちょっと聞きたい',\n",
    "    '自社物の契約中の物件だが戸別らく賃に切り替えたいのですが、オリコの審査に落ちました。',\n",
    "]\n",
    "nega_sentences = tokenizer.tokenize(negative_docs)\n",
    "nega_vectors = vectorizer.transform(nega_sentences)\n",
    "display(nega_vectors.shape)\n",
    "\n",
    "\n",
    "# 質問に一番近いratingsを取得する\n",
    "\n",
    "nega_clf = NearestCentroid()\n",
    "nega_clf.fit(posi_vectors, range(len(negative_docs)))\n",
    "\n",
    "nega_index = nega_clf.predict(q_vectors)\n",
    "display(negative_docs[nega_index])"
   ]
  },
  {
   "cell_type": "code",
   "execution_count": 8,
   "metadata": {
    "collapsed": false
   },
   "outputs": [
    {
     "data": {
      "text/plain": [
       "(1, 894)"
      ]
     },
     "metadata": {},
     "output_type": "display_data"
    }
   ],
   "source": [
    "# Rocchioで補正されたクエリベクタを取得する\n",
    "\n",
    "# Note: ハイパーパラメータ\n",
    "alpha = 1 # クエリの重み　一番高くしたい\n",
    "beta = 0.5# ポジティブドキュメントの重み\n",
    "gamma = 0.3 # ネガティブドキュメントの重み 低くしたい\n",
    "\n",
    "new_q_vectors = (alpha * q_vectors) + (beta * posi_vectors[posi_index]) - (gamma * nega_vectors[nega_index])\n",
    "display(new_q_vectors.shape)"
   ]
  },
  {
   "cell_type": "markdown",
   "metadata": {},
   "source": [
    "### 補正されたベクトルで解答を取得して比較してみる"
   ]
  },
  {
   "cell_type": "code",
   "execution_count": 9,
   "metadata": {
    "collapsed": false
   },
   "outputs": [
    {
     "data": {
      "text/html": [
       "<div>\n",
       "<table border=\"1\" class=\"dataframe\">\n",
       "  <thead>\n",
       "    <tr style=\"text-align: right;\">\n",
       "      <th></th>\n",
       "      <th>question</th>\n",
       "      <th>question_answer_id</th>\n",
       "      <th>probability</th>\n",
       "    </tr>\n",
       "  </thead>\n",
       "  <tbody>\n",
       "    <tr>\n",
       "      <th>10859</th>\n",
       "      <td>らく賃の担当者は誰。\\n</td>\n",
       "      <td>24627</td>\n",
       "      <td>0.706313</td>\n",
       "    </tr>\n",
       "    <tr>\n",
       "      <th>10791</th>\n",
       "      <td>周辺商品でらく賃（受託）の担当者は誰。</td>\n",
       "      <td>24558</td>\n",
       "      <td>0.421626</td>\n",
       "    </tr>\n",
       "    <tr>\n",
       "      <th>10792</th>\n",
       "      <td>周辺商品でらく賃（申込）の担当者は誰。</td>\n",
       "      <td>24559</td>\n",
       "      <td>0.418749</td>\n",
       "    </tr>\n",
       "    <tr>\n",
       "      <th>10693</th>\n",
       "      <td>らく賃を受託</td>\n",
       "      <td>24440</td>\n",
       "      <td>0.383253</td>\n",
       "    </tr>\n",
       "    <tr>\n",
       "      <th>10674</th>\n",
       "      <td>ちょっと聞きたい</td>\n",
       "      <td>23903</td>\n",
       "      <td>0.321955</td>\n",
       "    </tr>\n",
       "    <tr>\n",
       "      <th>10617</th>\n",
       "      <td>わからない</td>\n",
       "      <td>23844</td>\n",
       "      <td>0.315778</td>\n",
       "    </tr>\n",
       "    <tr>\n",
       "      <th>10454</th>\n",
       "      <td>らく賃の客付けをしました。らく賃の申込時の処理を知りたい。</td>\n",
       "      <td>23675</td>\n",
       "      <td>0.303831</td>\n",
       "    </tr>\n",
       "    <tr>\n",
       "      <th>10487</th>\n",
       "      <td>定期借家契約の物件だがらく賃・全室らく賃・らく賃サポート・トータルらく賃で受託はできるのか。</td>\n",
       "      <td>23714</td>\n",
       "      <td>0.285281</td>\n",
       "    </tr>\n",
       "    <tr>\n",
       "      <th>10486</th>\n",
       "      <td>定期借家契約の物件だがらく賃・全室らく賃・らく賃サポート・トータルらく賃に切り替えはできるのか。</td>\n",
       "      <td>23713</td>\n",
       "      <td>0.279907</td>\n",
       "    </tr>\n",
       "    <tr>\n",
       "      <th>10692</th>\n",
       "      <td>らく賃の申込を取得しました。</td>\n",
       "      <td>24439</td>\n",
       "      <td>0.268616</td>\n",
       "    </tr>\n",
       "  </tbody>\n",
       "</table>\n",
       "</div>"
      ],
      "text/plain": [
       "                                               question question_answer_id  \\\n",
       "10859                                      らく賃の担当者は誰。\\n              24627   \n",
       "10791                               周辺商品でらく賃（受託）の担当者は誰。              24558   \n",
       "10792                               周辺商品でらく賃（申込）の担当者は誰。              24559   \n",
       "10693                                            らく賃を受託              24440   \n",
       "10674                                          ちょっと聞きたい              23903   \n",
       "10617                                             わからない              23844   \n",
       "10454                     らく賃の客付けをしました。らく賃の申込時の処理を知りたい。              23675   \n",
       "10487    定期借家契約の物件だがらく賃・全室らく賃・らく賃サポート・トータルらく賃で受託はできるのか。              23714   \n",
       "10486  定期借家契約の物件だがらく賃・全室らく賃・らく賃サポート・トータルらく賃に切り替えはできるのか。              23713   \n",
       "10692                                    らく賃の申込を取得しました。              24439   \n",
       "\n",
       "       probability  \n",
       "10859     0.706313  \n",
       "10791     0.421626  \n",
       "10792     0.418749  \n",
       "10693     0.383253  \n",
       "10674     0.321955  \n",
       "10617     0.315778  \n",
       "10454     0.303831  \n",
       "10487     0.285281  \n",
       "10486     0.279907  \n",
       "10692     0.268616  "
      ]
     },
     "execution_count": 9,
     "metadata": {},
     "output_type": "execute_result"
    }
   ],
   "source": [
    "rocchio_res = cs.predict(new_q_vectors)\n",
    "rocchio_res = rocchio_res.drop_duplicates(subset='question_answer_id', keep='first')\n",
    "rocchio_res = rocchio_res.sort_values(by='probability', ascending=False)\n",
    "rocchio_res[:10]\n"
   ]
  },
  {
   "cell_type": "markdown",
   "metadata": {},
   "source": [
    "思った通りに上がった!\n",
    "\n",
    "ハイパーパラメータの調整で影響も調整できそうなのでかなり良さげ"
   ]
  }
 ],
 "metadata": {
  "kernelspec": {
   "display_name": "Python 3",
   "language": "python",
   "name": "python3"
  },
  "language_info": {
   "codemirror_mode": {
    "name": "ipython",
    "version": 3
   },
   "file_extension": ".py",
   "mimetype": "text/x-python",
   "name": "python",
   "nbconvert_exporter": "python",
   "pygments_lexer": "ipython3",
   "version": "3.5.2"
  }
 },
 "nbformat": 4,
 "nbformat_minor": 2
}
