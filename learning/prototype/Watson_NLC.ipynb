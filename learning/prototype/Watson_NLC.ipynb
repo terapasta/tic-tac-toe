{
 "cells": [
  {
   "cell_type": "markdown",
   "metadata": {
    "deletable": true,
    "editable": true
   },
   "source": [
    "# [#135676645] Watson NLCでMy-opeで実現したいことが出来るかどうか調査したい"
   ]
  },
  {
   "cell_type": "markdown",
   "metadata": {
    "deletable": true,
    "editable": true
   },
   "source": [
    "## <a href=\"Watson_NLC_00.ipynb\">NLCを使用する準備</a>"
   ]
  },
  {
   "cell_type": "markdown",
   "metadata": {
    "deletable": true,
    "editable": true
   },
   "source": [
    "Bluemixアカウントの取得方法と、NLCサービスの作成（ユーザー名／パスワード発行）について掲載しています。"
   ]
  },
  {
   "cell_type": "markdown",
   "metadata": {
    "deletable": true,
    "editable": true
   },
   "source": [
    "## <a href=\"Watson_NLC_01.ipynb\">NLC利用についての概要</a>"
   ]
  },
  {
   "cell_type": "markdown",
   "metadata": {
    "deletable": true,
    "editable": true
   },
   "source": [
    "料金体系、サービスの概要、利用上の注意事項／制約事項について掲載しています。"
   ]
  },
  {
   "cell_type": "markdown",
   "metadata": {
    "deletable": true,
    "editable": true
   },
   "source": [
    "## <a href=\"Watson_NLC_02.ipynb\">公式Tutorialの実行</a>"
   ]
  },
  {
   "cell_type": "markdown",
   "metadata": {
    "deletable": true,
    "editable": true
   },
   "source": [
    "手順の概要、Python3依存ライブラリー導入、実行例（訓練実行、予測など）について掲載しています。"
   ]
  },
  {
   "cell_type": "markdown",
   "metadata": {
    "deletable": true,
    "editable": true
   },
   "source": [
    "## <a href=\"Watson_NLC_03.ipynb\">公式Tutorialの実行 (part2)</a>"
   ]
  },
  {
   "cell_type": "markdown",
   "metadata": {
    "deletable": true,
    "editable": true
   },
   "source": [
    "他の分類器をサービス・インスタンスに追加する事例について掲載しています。またここでは15,000件近いデータを投入して訓練しています。"
   ]
  },
  {
   "cell_type": "markdown",
   "metadata": {
    "deletable": true,
    "editable": true
   },
   "source": [
    "## <a href=\"Watson_NLC_04.ipynb\">公式Tutorialの実行 (part3)</a>"
   ]
  },
  {
   "cell_type": "markdown",
   "metadata": {
    "deletable": true,
    "editable": true
   },
   "source": [
    "Bluemix上で公開されている管理ツール（注：β版）を使用し、追加学習を行う（NLCに新しいクラスを追加する）手順について記載しています。"
   ]
  }
 ],
 "metadata": {
  "kernelspec": {
   "display_name": "Python 3",
   "language": "python",
   "name": "python3"
  },
  "language_info": {
   "codemirror_mode": {
    "name": "ipython",
    "version": 3
   },
   "file_extension": ".py",
   "mimetype": "text/x-python",
   "name": "python",
   "nbconvert_exporter": "python",
   "pygments_lexer": "ipython3",
   "version": "3.5.2"
  }
 },
 "nbformat": 4,
 "nbformat_minor": 2
}
