{
 "cells": [
  {
   "cell_type": "markdown",
   "metadata": {
    "deletable": true,
    "editable": true
   },
   "source": [
    "# NLCを使用する準備"
   ]
  },
  {
   "cell_type": "markdown",
   "metadata": {
    "deletable": true,
    "editable": true
   },
   "source": [
    "## Bluemixアカウントの取得"
   ]
  },
  {
   "cell_type": "markdown",
   "metadata": {
    "deletable": true,
    "editable": true
   },
   "source": [
    "Watson NLC（以下、本件調査においては単にNLCと略します）は、IBM Bluemix上で公開されているAPIとのことです。\n",
    "\n",
    "https://www.ibm.com/watson/developercloud/nl-classifier.html\n",
    "\n",
    "したがいまして、使用するには、まずはBluemixアカウントを取得しなければなりません。\n",
    "\n",
    "以下に、手順を説明させていただきます。"
   ]
  },
  {
   "cell_type": "markdown",
   "metadata": {
    "deletable": true,
    "editable": true
   },
   "source": [
    "以下のURLにアクセスして、Welcomeページを開きます。\n",
    "\n",
    "https://console.ng.bluemix.net"
   ]
  },
  {
   "cell_type": "markdown",
   "metadata": {
    "deletable": true,
    "editable": true
   },
   "source": [
    "画面右上の「Sign Up」をクリックします。\n",
    "\n",
    "<img src=\"images/oper0211_01.png\" />"
   ]
  },
  {
   "cell_type": "markdown",
   "metadata": {
    "deletable": true,
    "editable": true
   },
   "source": [
    "必要な情報を入力後、画面最下部のCreate Accountをクリックします。\n",
    "\n",
    "<img src=\"images/oper0211_02.png\" />"
   ]
  },
  {
   "cell_type": "markdown",
   "metadata": {
    "deletable": true,
    "editable": true
   },
   "source": [
    "Thank Youページが表示されますので、アカウント登録画面で指定したアドレスに、E-Mailが来るのを待ちます。\n",
    "\n",
    "<img src=\"images/oper0211_03.png\" />"
   ]
  },
  {
   "cell_type": "markdown",
   "metadata": {
    "deletable": true,
    "editable": true
   },
   "source": [
    "E-Mailメッセージ内にあるConfirm Accountをクリックします。\n",
    "\n",
    "<img src=\"images/oper0211_04.png\" />"
   ]
  },
  {
   "cell_type": "markdown",
   "metadata": {
    "deletable": true,
    "editable": true
   },
   "source": [
    "Successページが表示されるので、Log inをクリックします。\n",
    "\n",
    "<img src=\"images/oper0211_05.png\" />"
   ]
  },
  {
   "cell_type": "markdown",
   "metadata": {
    "deletable": true,
    "editable": true
   },
   "source": [
    "ログインページで、アカウント登録画面で指定したE-Mailアドレス／パスワードを入力し、Log inをクリックします。\n",
    "\n",
    "<img src=\"images/oper0211_06.png\" />"
   ]
  },
  {
   "cell_type": "markdown",
   "metadata": {
    "deletable": true,
    "editable": true
   },
   "source": [
    "利用規約ページが表示されるので、同意の上（チェックボックスをOnにして）Continueをクリックします。\n",
    "\n",
    "<img src=\"images/oper0211_07.png\" />"
   ]
  },
  {
   "cell_type": "markdown",
   "metadata": {
    "deletable": true,
    "editable": true
   },
   "source": [
    "組織作成ページが表示されるので、組織名を入力後、Createをクリックします。\n",
    "\n",
    "<img src=\"images/oper0211_08.png\" />"
   ]
  },
  {
   "cell_type": "markdown",
   "metadata": {
    "deletable": true,
    "editable": true
   },
   "source": [
    "スペース作成ページが表示されるので、スペース名を入力後、Createをクリックします。\n",
    "\n",
    "<img src=\"images/oper0211_09.png\" />"
   ]
  },
  {
   "cell_type": "markdown",
   "metadata": {
    "deletable": true,
    "editable": true
   },
   "source": [
    "サマリーページが表示されるので、確認の上I'm Readyをクリックします。\n",
    "\n",
    "<img src=\"images/oper0211_10.png\" />"
   ]
  },
  {
   "cell_type": "markdown",
   "metadata": {
    "deletable": true,
    "editable": true
   },
   "source": [
    "ダッシュボードが表示されます。画面上部には、トライアルの残日数が表示されます（１か月間無料とのこと）。\n",
    "\n",
    "<img src=\"images/oper0211_11.png\" />"
   ]
  },
  {
   "cell_type": "markdown",
   "metadata": {
    "deletable": true,
    "editable": true
   },
   "source": [
    "以上で、Bluemixアカウントの取得手続きは完了です。"
   ]
  }
 ],
 "metadata": {
  "kernelspec": {
   "display_name": "Python 3",
   "language": "python",
   "name": "python3"
  },
  "language_info": {
   "codemirror_mode": {
    "name": "ipython",
    "version": 3
   },
   "file_extension": ".py",
   "mimetype": "text/x-python",
   "name": "python",
   "nbconvert_exporter": "python",
   "pygments_lexer": "ipython3",
   "version": "3.5.2"
  }
 },
 "nbformat": 4,
 "nbformat_minor": 2
}
