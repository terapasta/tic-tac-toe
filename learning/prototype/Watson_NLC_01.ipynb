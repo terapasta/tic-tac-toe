{
 "cells": [
  {
   "cell_type": "markdown",
   "metadata": {
    "deletable": true,
    "editable": true
   },
   "source": [
    "# NLC利用についての概要"
   ]
  },
  {
   "cell_type": "markdown",
   "metadata": {
    "deletable": true,
    "editable": true
   },
   "source": [
    "## 料金体系"
   ]
  },
  {
   "cell_type": "markdown",
   "metadata": {
    "deletable": true,
    "editable": true
   },
   "source": [
    "Bluemix のダッシュボード（下記イメージ）からの引用です。\n",
    "\n",
    "https://console.ng.bluemix.net/catalog/services/natural-language-classifier/"
   ]
  },
  {
   "cell_type": "markdown",
   "metadata": {
    "deletable": true,
    "editable": true
   },
   "source": [
    "<img src=\"images/oper0217_01.png\" />"
   ]
  },
  {
   "cell_type": "markdown",
   "metadata": {
    "deletable": true,
    "editable": true
   },
   "source": [
    "### (1) インスタンス\n",
    "\n",
    "- 1インスタンスごとに、１か月あたりの料金がかかります。\n",
    "\n",
    "\n",
    "- 料金＝<b>2,100円／月</b>\n",
    "\n",
    "\n",
    "- ただし、1インスタンスまでは無料で利用可能"
   ]
  },
  {
   "cell_type": "markdown",
   "metadata": {
    "deletable": true,
    "editable": true
   },
   "source": [
    "### (2) API\n",
    "\n",
    "- 1コールあたりの料金がかかります。\n",
    "\n",
    "\n",
    "- 料金＝<b>0.3675円／コール</b>\n",
    "\n",
    "\n",
    "- ただし、各月において、1,000コールまでは無料で利用可能"
   ]
  },
  {
   "cell_type": "markdown",
   "metadata": {
    "deletable": true,
    "editable": true
   },
   "source": [
    "### (3) 分類器（Classifier）の訓練\n",
    "\n",
    "- 訓練実行1回あたりの料金がかかります。\n",
    "\n",
    "\n",
    "- 料金＝<b>315円／回</b>\n",
    "\n",
    "\n",
    "- ただし、各月において、訓練実行４回までは無料で利用可能"
   ]
  },
  {
   "cell_type": "markdown",
   "metadata": {
    "deletable": true,
    "editable": true
   },
   "source": [
    "## サービスの概要"
   ]
  },
  {
   "cell_type": "markdown",
   "metadata": {
    "deletable": true,
    "editable": true
   },
   "source": [
    "Bluemix のドキュメント（下記イメージ）からの引用です。\n",
    "\n",
    "https://www.ibm.com/watson/developercloud/doc/natural-language-classifier/index.html"
   ]
  },
  {
   "cell_type": "markdown",
   "metadata": {
    "deletable": true,
    "editable": true
   },
   "source": [
    "<img src=\"images/oper0217_02.png\" />"
   ]
  },
  {
   "cell_type": "markdown",
   "metadata": {
    "deletable": true,
    "editable": true
   },
   "source": [
    "基本的には、ほかの教師あり学習／予測の手順と変わらないものと判断しております。"
   ]
  },
  {
   "cell_type": "markdown",
   "metadata": {
    "deletable": true,
    "editable": true
   },
   "source": [
    "### (1) 訓練データ作成\n",
    "\n",
    "- クラスのラベル付与\n",
    "- 特徴語の抽出\n",
    "- テキストの分類\n",
    "- 訓練データはCSV形式で作成可能\n",
    "- 英語の他に日本語もサポートされている\n",
    "\n",
    "訓練データを作成する機能は、Watson NLCの機能に含まれないようです。\n",
    "\n",
    "NLCを利用する際は、訓練データCSVは個別に用意していただく必要があります。"
   ]
  },
  {
   "cell_type": "markdown",
   "metadata": {
    "deletable": true,
    "editable": true
   },
   "source": [
    "### (2) 分類器作成／訓練\n",
    "\n",
    "- Web API を使用して、訓練データをアップロード\n",
    "- 訓練データがアップロードされると、即座にBluemix上で訓練がスタート\n",
    "- 訓練が完了するまで、数分〜数十分を要する\n",
    "\n",
    "訓練データアップロードの実行はAPIコールなので、課金対象となります。\n",
    "\n",
    "また、訓練実行自体も課金対象です。"
   ]
  },
  {
   "cell_type": "markdown",
   "metadata": {
    "deletable": true,
    "editable": true
   },
   "source": [
    "### (3) 予測実行\n",
    "\n",
    "- Web API を使用し、テキストを分類器に送信し照会\n",
    "- マッチする上位のクラスとマッチ率を、JSON形式のデータで戻す\n",
    "- 戻りデータには上位１０クラスまでのデータが含まれる\n",
    "\n",
    "分類器への商会はAPIコールなので、課金対象となります"
   ]
  },
  {
   "cell_type": "markdown",
   "metadata": {
    "deletable": true,
    "editable": true
   },
   "source": [
    "### (4) 訓練データ更新／再訓練\n",
    "\n",
    "- 分類の結果を検証し、うまく分類されていないようであれば、訓練データを更新（１クラスあたりのレコードを追加、等のチューニングを行う）\n",
    "- 更新された訓練データから、再度、分類器を作成／訓練実行\n",
    "\n",
    "訓練データが変わった場合は、その度に分類器を作り直す、という運用になるかと存じます。\n",
    "\n",
    "（既存の分類器に訓練データを追加して再学習・・・の流れではないようです）\n",
    "\n",
    "分類器の再作成には数分以上を要するため、オンラインによる再学習の仕組みを構築する際、この仕様は致命的になりそうな感じです。"
   ]
  },
  {
   "cell_type": "markdown",
   "metadata": {
    "deletable": true,
    "editable": true
   },
   "source": [
    "## 利用上の注意事項／制約事項"
   ]
  },
  {
   "cell_type": "markdown",
   "metadata": {
    "deletable": true,
    "editable": true
   },
   "source": [
    "Bluemix のドキュメントからの引用です。\n",
    "\n",
    "https://www.ibm.com/watson/developercloud/doc/natural-language-classifier/using-your-data.html"
   ]
  },
  {
   "cell_type": "markdown",
   "metadata": {
    "deletable": true,
    "editable": true
   },
   "source": [
    "### (1) 訓練データのフォーマット／サイズ\n",
    "\n",
    "- 訓練データは CSV 形式で作成します\n",
    "\n",
    " 下記のような感じになります。\n",
    " \n",
    " １レコード（行）はテキストとラベルの２列からなります（コーパスにラベルが付いたイメージ）。\n",
    " \n",
    " ~~~\n",
    " \"導入 を 考え てる ので 、 デモ を 見せ て 下さい \",2658\n",
    " \"導入 し たい の です が 、 デモ は あり ます か ？ \",2658\n",
    " ~~~\n",
    "\n",
    " 作成事例は<b><a href=\"Watson_NLC_99.ipynb\">こちら</a></b>をご参照\n",
    "\n",
    " \n",
    "- 文字コードは <b>UTF-8</b> 限定\n",
    "\n",
    " Shift_JISは使用できません。\n",
    "\n",
    "\n",
    "- 訓練データのサイズ上限\n",
    "\n",
    " 訓練データは、<b>15,000レコード以内</b>に収める必要があります。\n",
    " \n",
    " また、１レコードは 1,024 文字以内に収める必要があります。"
   ]
  },
  {
   "cell_type": "markdown",
   "metadata": {
    "deletable": true,
    "editable": true
   },
   "source": [
    "### (2) 訓練データ作成上のガイドライン\n",
    "\n",
    "予測性能を向上させるために、下記の事項を推奨しているようです。\n",
    "\n",
    "- テキストの単語数は60件以内に留める\n",
    "\n",
    "\n",
    "- クラス数は数百件に留める\n",
    "\n",
    "\n",
    "- 1クラスに最低でも5〜10件のテキストを割り当てる\n",
    "\n",
    "\n",
    "- テキスト1件あたりに複数件のクラスを割り当てない"
   ]
  },
  {
   "cell_type": "markdown",
   "metadata": {
    "deletable": true,
    "editable": true
   },
   "source": [
    "## 追加学習について"
   ]
  },
  {
   "cell_type": "markdown",
   "metadata": {
    "deletable": true,
    "editable": true
   },
   "source": [
    "追加学習は、Watson NLC ではサポートされていないようです（2017/02/19現在）。\n",
    "\n",
    "したがって、もし訓練データを追加して再訓練を行いたい場合は、新たな分類器を作り直す必要があります。\n",
    "\n",
    "参考文献：\n",
    "\n",
    "https://developer.ibm.com/answers/questions/353067/re-train-a-classifier-not-supported/\n",
    "\n",
    "http://stackoverflow.com/questions/36158395/how-to-train-watson-natural-language-classifier-incrementaly"
   ]
  },
  {
   "cell_type": "markdown",
   "metadata": {},
   "source": [
    "## インスタンス数について\n",
    "\n",
    "課金の対象となる利用中インスタンス数は、Bluemix アカウント画面の Usage から知ることができます。\n",
    "\n",
    "ちなみに、今回の調査時（2017/02/12から約１週間）の利用で、2017/02/19現在 0.11 インスタンスとのことです。\n",
    "\n",
    "大変申し訳ないのですが、下図画面における Usage 照会以外、インスタンス数を知る（もしくは見積もる）手順は、今のところ見つかっていません。"
   ]
  },
  {
   "cell_type": "markdown",
   "metadata": {
    "deletable": true,
    "editable": true
   },
   "source": [
    "<img src=\"images/oper0219_10.png\" />"
   ]
  }
 ],
 "metadata": {
  "kernelspec": {
   "display_name": "Python 3",
   "language": "python",
   "name": "python3"
  },
  "language_info": {
   "codemirror_mode": {
    "name": "ipython",
    "version": 3
   },
   "file_extension": ".py",
   "mimetype": "text/x-python",
   "name": "python",
   "nbconvert_exporter": "python",
   "pygments_lexer": "ipython3",
   "version": "3.5.2"
  }
 },
 "nbformat": 4,
 "nbformat_minor": 2
}
