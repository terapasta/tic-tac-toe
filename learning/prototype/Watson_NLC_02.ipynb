{
 "cells": [
  {
   "cell_type": "markdown",
   "metadata": {
    "deletable": true,
    "editable": true
   },
   "source": [
    "# 公式Tutorialの実行"
   ]
  },
  {
   "cell_type": "markdown",
   "metadata": {
    "deletable": true,
    "editable": true
   },
   "source": [
    "## 手順の概要"
   ]
  },
  {
   "cell_type": "markdown",
   "metadata": {
    "deletable": true,
    "editable": true
   },
   "source": [
    "Watson NLC 公式ドキュメントからの引用です。\n",
    "\n",
    "https://www.ibm.com/watson/developercloud/doc/natural-language-classifier/getting-started.html"
   ]
  },
  {
   "cell_type": "markdown",
   "metadata": {
    "deletable": true,
    "editable": true
   },
   "source": [
    "<img src=\"images/oper0217_03.png\" />"
   ]
  },
  {
   "cell_type": "markdown",
   "metadata": {
    "deletable": true,
    "editable": true
   },
   "source": [
    "### (1) 認証情報取得\n",
    "\n",
    "- Bluemixにログインし、NLCサービスを作成\n",
    "- サービス作成時に発行される認証情報（Credentials）を使用します\n",
    "\n",
    "上記の手順は<b><a href=\"Watson_NLC_00.ipynb\">こちら</a></b>になります。"
   ]
  },
  {
   "cell_type": "markdown",
   "metadata": {
    "deletable": true,
    "editable": true
   },
   "source": [
    "### (2) 分類器作成\n",
    "\n",
    "- サンプルの訓練データ（CSV）をダウンロード\n",
    "- 日本語に変えてみます <---公式ページにない手順\n",
    "- 分類器作成を開始させるAPI（POST /classifiers/）を実行\n",
    "\n",
    "分類器の作成開始から完了までは時間を要します。\n",
    "\n",
    "分類器作成が完了したかどうかは、完了したかどうかを照会するAPIで、逐一問い合わせる必要があります。"
   ]
  },
  {
   "cell_type": "markdown",
   "metadata": {
    "deletable": true,
    "editable": true
   },
   "source": [
    "### (3) 分類実行\n",
    "\n",
    "- 訓練が完了した分類器に対し、分類したいテキストを送信\n",
    "- 該当する上位クラスと、マッチ率（confidence）がJSON形式で戻ります\n",
    "\n",
    "該当する上位１０件までがリストされるようです。\n",
    "\n",
    "またTutorialの例では、訓練データに入っていない単語が含まれているテキストでも、分類が可能な旨の記述がありますが・・・"
   ]
  },
  {
   "cell_type": "markdown",
   "metadata": {
    "deletable": true,
    "editable": true
   },
   "source": [
    "### (4) 分類器の削除\n",
    "\n",
    "- 上記までの試行が完了したら、分類器を削除\n",
    "\n",
    "忘れないうちに削除しておきましょう・・・ということなのかと思われます。"
   ]
  },
  {
   "cell_type": "markdown",
   "metadata": {
    "deletable": true,
    "editable": true
   },
   "source": [
    "## 依存ライブラリー導入"
   ]
  },
  {
   "cell_type": "markdown",
   "metadata": {
    "deletable": true,
    "editable": true
   },
   "source": [
    "Python3からNLCのAPIをコールするためには、依存ライブラリー「watson_developer_cloud」を追加導入する必要がございます。\n",
    "\n",
    "コマンドラインから「pip3 install watson_developer_cloud」と実行し、導入できるかと存じます。"
   ]
  },
  {
   "cell_type": "markdown",
   "metadata": {
    "deletable": true,
    "editable": true
   },
   "source": [
    "~~~~\n",
    "MacBookPro-makmorit-jp:~ makmorit$ pip3 install watson_developer_cloud\n",
    "Collecting watson-developer-cloud\n",
    "  Downloading watson-developer-cloud-0.23.0.tar.gz (52kB)\n",
    "    100% |████████████████████████████████| 61kB 451kB/s \n",
    "Requirement already satisfied (use --upgrade to upgrade): requests<3.0,>=2.0 in /Library/Frameworks/Python.framework/Versions/3.5/lib/python3.5/site-packages (from watson-developer-cloud)\n",
    "Collecting pysolr<4.0,>=3.3 (from watson-developer-cloud)\n",
    "  Downloading pysolr-3.6.0-py2.py3-none-any.whl\n",
    "Building wheels for collected packages: watson-developer-cloud\n",
    "  Running setup.py bdist_wheel for watson-developer-cloud ... done\n",
    "  Stored in directory: /Users/makmorit/Library/Caches/pip/wheels/e2/e9/4e/bdd7ab2ed130d3ed16ac583d4843de1335f7f03f531d6ba01d\n",
    "Successfully built watson-developer-cloud\n",
    "Installing collected packages: pysolr, watson-developer-cloud\n",
    "Successfully installed pysolr-3.6.0 watson-developer-cloud-0.23.0\n",
    "You are using pip version 8.1.1, however version 9.0.1 is available.\n",
    "You should consider upgrading via the 'pip install --upgrade pip' command.\n",
    "MacBookPro-makmorit-jp:~ makmorit$\n",
    "~~~~"
   ]
  },
  {
   "cell_type": "markdown",
   "metadata": {
    "deletable": true,
    "editable": true
   },
   "source": [
    "## 実行例"
   ]
  },
  {
   "cell_type": "markdown",
   "metadata": {
    "deletable": true,
    "editable": true
   },
   "source": [
    "上記のライブラリー「watson_developer_cloud」を使用し、Python3でTutorialを実行してみます。\n",
    "\n",
    "もともとWeb APIの戻り値がJSON形式であるため、Python3との親和性は高いかと存じます。"
   ]
  },
  {
   "cell_type": "markdown",
   "metadata": {
    "deletable": true,
    "editable": true
   },
   "source": [
    "### クラス「NaturalLanguageClassifierV1」生成\n",
    "\n",
    "「NaturalLanguageClassifierV1」クラスのコンストラクターを実行すると、サービス・インスタンス（＝インスタンス課金の単位）の参照（下記例では変数 natural_language_classifier）が戻されます。\n",
    "\n",
    "以降のNLC APIコールは、このサービス・インスタンス参照を使用して実行することになります。\n",
    "\n",
    "なお、コンストラクターの引数には、サービス作成時に発行された認証情報（username／password）を設定します。"
   ]
  },
  {
   "cell_type": "code",
   "execution_count": 2,
   "metadata": {
    "collapsed": true,
    "deletable": true,
    "editable": true
   },
   "outputs": [],
   "source": [
    "import json\n",
    "from watson_developer_cloud import NaturalLanguageClassifierV1\n",
    "\n",
    "natural_language_classifier = NaturalLanguageClassifierV1(\n",
    "  username='7fdb13f0-1c16-48f5-9a7d-6374ee56925d',\n",
    "  password='LLwyqghs3cPB')"
   ]
  },
  {
   "cell_type": "markdown",
   "metadata": {
    "deletable": true,
    "editable": true
   },
   "source": [
    "すでに作成されている分類器を確認するには、list関数を使用します。\n",
    "\n",
    "（いまはまだ作成されていないので、空リストが戻ります）"
   ]
  },
  {
   "cell_type": "code",
   "execution_count": 2,
   "metadata": {
    "collapsed": false,
    "deletable": true,
    "editable": true,
    "scrolled": true
   },
   "outputs": [
    {
     "data": {
      "text/plain": [
       "{'classifiers': []}"
      ]
     },
     "execution_count": 2,
     "metadata": {},
     "output_type": "execute_result"
    }
   ],
   "source": [
    "classifiers = natural_language_classifier.list()\n",
    "classifiers"
   ]
  },
  {
   "cell_type": "markdown",
   "metadata": {
    "deletable": true,
    "editable": true
   },
   "source": [
    "### 訓練データの作成\n",
    "\n",
    "例を簡単にするのと「日本語もサポート」と謳っている仕様の検証のため、ダウンロードしたサンプルを日本語に書き換えます。"
   ]
  },
  {
   "cell_type": "markdown",
   "metadata": {
    "deletable": true,
    "editable": true
   },
   "source": [
    "#### ダウンロードしたサンプルデータ"
   ]
  },
  {
   "cell_type": "markdown",
   "metadata": {
    "deletable": true,
    "editable": true
   },
   "source": [
    "~~~~\n",
    "How hot is it today?,temperature\n",
    "Is it hot outside?,temperature\n",
    "Will it be uncomfortably hot?,temperature\n",
    "：\n",
    "What is today's expected humidity?,conditions\n",
    "Will the blizzard hit us?,conditions\n",
    "Is it drizzling?,conditions\n",
    "~~~~\n",
    "\n"
   ]
  },
  {
   "cell_type": "markdown",
   "metadata": {
    "deletable": true,
    "editable": true
   },
   "source": [
    "#### 日本語化したサンプルデータ\n",
    "\n",
    "形態素解析が必要となります（御社テストデータを、MeCab にかけた例。仕込み用コードは<b><a href=\"Watson_NLC_99.ipynb\">こちら</a></b>）"
   ]
  },
  {
   "cell_type": "markdown",
   "metadata": {
    "deletable": true,
    "editable": true
   },
   "source": [
    "~~~~\n",
    "：\n",
    "\"試用 期間 は ある ？ \",2657\n",
    "\"試用 期間 は ？ \",2657\n",
    "\"試用 期間 は 有り ます か ？ \",2657\n",
    "\"初期 費用 月額 費用 以外 に 掛かる 費用 は ？ \",2729\n",
    "\"初期 費用 、 月額 費用 以外 は ？ \",2729\n",
    "\"初期 費用 、 月額 費用 以外 に かかり ます か ？ \",2729\n",
    "\"導入 を 考え てる ので 、 デモ を 見せ て 下さい \",2658\n",
    "\"導入 し たい の です が 、 デモ は あり ます か ？ \",2658\n",
    "\"導入 を 考え て いる の です が 、 デモ を 見せ て いただく こと は でき ます か ？ \",2658\n",
    "\"お客様 用 です か ？ \",2727\n",
    "~~~~"
   ]
  },
  {
   "cell_type": "markdown",
   "metadata": {
    "deletable": true,
    "editable": true
   },
   "source": [
    "### 分類器作成\n",
    "\n",
    "create関数によりAPIコールを実行すると、分類器インスタンスが、Bluemix上に１件生成されます。\n",
    "\n",
    "（API呼出件数／インスタンス件数は、いずれも課金対象となるので、無償で評価時は実行回数に注意）"
   ]
  },
  {
   "cell_type": "code",
   "execution_count": 3,
   "metadata": {
    "collapsed": false,
    "deletable": true,
    "editable": true
   },
   "outputs": [
    {
     "name": "stdout",
     "output_type": "stream",
     "text": [
      "\"My - ope ってな ん です か ？ \",2653\n",
      "\"どんな こと が 出来る の ？ \",2654\n",
      "\"どう やっ て 会話 を 覚え させる の ？ \",2655\n",
      "\"どんな 企業 が 使っ \n"
     ]
    }
   ],
   "source": [
    "test_data_file = 'resources/train_myope_info_conversation.csv'\n",
    "f = open(test_data_file, 'rt') # これは確認用\n",
    "print(f.read()[:100])\n",
    "f.close()"
   ]
  },
  {
   "cell_type": "code",
   "execution_count": 4,
   "metadata": {
    "collapsed": false,
    "deletable": true,
    "editable": true
   },
   "outputs": [],
   "source": [
    "classifier_id = None\n",
    "status = None\n",
    "with open(test_data_file, 'rb') as training_data:\n",
    "  classifier = natural_language_classifier.create(\n",
    "    training_data=training_data,\n",
    "    name='My Classfier',\n",
    "    language='ja'\n",
    "  )\n",
    "  classifier_id = classifier['classifier_id']\n",
    "  status = classifier['status']"
   ]
  },
  {
   "cell_type": "markdown",
   "metadata": {
    "deletable": true,
    "editable": true
   },
   "source": [
    "### 分類器作成状況の照会\n",
    "\n",
    "分類器インスタンスの生成には、時間がかかるため、作成が完了したかどうかを知るには、下記のような状況照会のためのAPIコールを実行する必要がございます。\n",
    "\n",
    "（API呼出件数は課金対象となるので、無償で評価時は実行回数に注意）"
   ]
  },
  {
   "cell_type": "markdown",
   "metadata": {
    "deletable": true,
    "editable": true
   },
   "source": [
    "#### 分類器作成が利用できるまで待機\n",
    "\n",
    "以下の例では、最大３０分間待機します。\n",
    "\n",
    "今回（土曜日／午前中）は１０分ほどで作成が完了しておりますが、時間帯によって異なるものと考えられます。"
   ]
  },
  {
   "cell_type": "code",
   "execution_count": 5,
   "metadata": {
    "collapsed": false,
    "deletable": true,
    "editable": true,
    "scrolled": true
   },
   "outputs": [
    {
     "name": "stdout",
     "output_type": "stream",
     "text": [
      "Classifier [f5bbbbx174-nlc-4304] now training, please wait...\n",
      "Classifier [f5bbbbx174-nlc-4304] now training, please wait...\n",
      "Classifier [f5bbbbx174-nlc-4304] now training, please wait...\n",
      "Classifier [f5bbbbx174-nlc-4304] now training, please wait...\n",
      "Classifier [f5bbbbx174-nlc-4304] now training, please wait...\n",
      "Classifier [f5bbbbx174-nlc-4304] now training, please wait...\n",
      "Classifier [f5bbbbx174-nlc-4304] now training, please wait...\n",
      "Classifier [f5bbbbx174-nlc-4304] now training, please wait...\n",
      "Classifier [f5bbbbx174-nlc-4304] now training, please wait...\n",
      "Classifier [f5bbbbx174-nlc-4304] training completed.\n"
     ]
    }
   ],
   "source": [
    "from time import sleep\n",
    "import sys\n",
    "i = 0\n",
    "while i < 30:\n",
    "    statusDict = natural_language_classifier.status(classifier_id)\n",
    "    status = statusDict['status']\n",
    "    if status == 'Available':\n",
    "        break\n",
    "\n",
    "    print('Classifier [%s] now training, please wait...' % classifier_id)\n",
    "    sys.stdout.flush()\n",
    "    sleep(60)\n",
    "    i += 1\n",
    "\n",
    "if status == 'Available':\n",
    "    print('Classifier [%s] training completed.' % classifier_id)\n",
    "else:\n",
    "    print('Classifier [%s] training failed.' % classifier_id)"
   ]
  },
  {
   "cell_type": "code",
   "execution_count": 3,
   "metadata": {
    "collapsed": false,
    "deletable": true,
    "editable": true,
    "scrolled": true
   },
   "outputs": [
    {
     "data": {
      "text/plain": [
       "{'classifiers': [{'classifier_id': 'f5bbbbx174-nlc-4304',\n",
       "   'created': '2017-02-18T01:16:40.434Z',\n",
       "   'language': 'ja',\n",
       "   'name': 'My Classfier',\n",
       "   'url': 'https://gateway.watsonplatform.net/natural-language-classifier/api/v1/classifiers/f5bbbbx174-nlc-4304'}]}"
      ]
     },
     "execution_count": 3,
     "metadata": {},
     "output_type": "execute_result"
    }
   ],
   "source": [
    "classifiers = natural_language_classifier.list()\n",
    "classifiers"
   ]
  },
  {
   "cell_type": "markdown",
   "metadata": {
    "deletable": true,
    "editable": true
   },
   "source": [
    "### 分類実行\n",
    "\n",
    "classify関数によりAPIコールを実行します。\n",
    "\n",
    "引数のテキストが分類され、クラスに対するマッチ率が、上位１０クラス分戻ります。\n",
    "\n",
    "（API呼出件数は課金対象となるので、無償で評価時は実行回数に注意）"
   ]
  },
  {
   "cell_type": "code",
   "execution_count": 21,
   "metadata": {
    "collapsed": false,
    "deletable": true,
    "editable": true,
    "scrolled": true
   },
   "outputs": [],
   "source": [
    "question_text = '購入を考えているのですが、デモを見せていただくことは可能でしょうか？'\n",
    "classesDict = natural_language_classifier.classify(classifier_id, question_text)"
   ]
  },
  {
   "cell_type": "markdown",
   "metadata": {
    "deletable": true,
    "editable": true
   },
   "source": [
    "APIからは、分類結果がdict形式で戻ります。"
   ]
  },
  {
   "cell_type": "code",
   "execution_count": 22,
   "metadata": {
    "collapsed": false,
    "deletable": true,
    "editable": true,
    "scrolled": true
   },
   "outputs": [
    {
     "data": {
      "text/plain": [
       "{'classes': [{'class_name': '2658', 'confidence': 0.9847580249407819},\n",
       "  {'class_name': '2718', 'confidence': 0.002298623638069411},\n",
       "  {'class_name': '2723', 'confidence': 0.0012723095005166235},\n",
       "  {'class_name': '2727', 'confidence': 0.001192302074605971},\n",
       "  {'class_name': '2657', 'confidence': 0.0011610145369191703},\n",
       "  {'class_name': '2729', 'confidence': 0.0010245719035502766},\n",
       "  {'class_name': '2653', 'confidence': 0.000981868634805316},\n",
       "  {'class_name': '2719', 'confidence': 0.0009525080701032914},\n",
       "  {'class_name': '2724', 'confidence': 0.0007071948648351854},\n",
       "  {'class_name': '2662', 'confidence': 0.0006447405270287999}],\n",
       " 'classifier_id': 'f5bbbbx174-nlc-4304',\n",
       " 'text': '購入を考えているのですが、デモを見せていただくことは可能でしょうか？',\n",
       " 'top_class': '2658',\n",
       " 'url': 'https://gateway.watsonplatform.net/natural-language-classifier/api/v1/classifiers/f5bbbbx174-nlc-4304'}"
      ]
     },
     "execution_count": 22,
     "metadata": {},
     "output_type": "execute_result"
    }
   ],
   "source": [
    "classesDict"
   ]
  },
  {
   "cell_type": "markdown",
   "metadata": {
    "deletable": true,
    "editable": true
   },
   "source": [
    "ちなみに、クラス2658の回答文は「ありがとうございます！メールフォームからお問い合わせいただければ担当スタッフから連絡させていただきます♪」です。"
   ]
  },
  {
   "cell_type": "markdown",
   "metadata": {
    "deletable": true,
    "editable": true
   },
   "source": [
    "#### 分類結果の参照\n",
    "\n",
    "分類されたクラスとマッチ率を表示するコードの例です。"
   ]
  },
  {
   "cell_type": "code",
   "execution_count": 23,
   "metadata": {
    "collapsed": false,
    "deletable": true,
    "editable": true,
    "scrolled": true
   },
   "outputs": [
    {
     "name": "stdout",
     "output_type": "stream",
     "text": [
      "class name=2658, confidence=98.5%\n",
      "class name=2718, confidence=0.2%\n",
      "class name=2723, confidence=0.1%\n",
      "class name=2727, confidence=0.1%\n",
      "class name=2657, confidence=0.1%\n",
      "class name=2729, confidence=0.1%\n",
      "class name=2653, confidence=0.1%\n",
      "class name=2719, confidence=0.1%\n",
      "class name=2724, confidence=0.1%\n",
      "class name=2662, confidence=0.1%\n"
     ]
    }
   ],
   "source": [
    "for c in classesDict['classes']:\n",
    "    print('class name=%s, confidence=%0.1f%%' % (c['class_name'], float(c['confidence'])*100.0))"
   ]
  },
  {
   "cell_type": "markdown",
   "metadata": {
    "deletable": true,
    "editable": true
   },
   "source": [
    "#### 違った質問で再試行\n",
    "\n",
    "ついでにレスポンス時間も計測してみました。"
   ]
  },
  {
   "cell_type": "code",
   "execution_count": 14,
   "metadata": {
    "collapsed": false,
    "deletable": true,
    "editable": true
   },
   "outputs": [],
   "source": [
    "from time import time\n",
    "\n",
    "def predict_class(natural_language_classifier, idx, question_text):\n",
    "    t0 = time()\n",
    "\n",
    "    classifiers = natural_language_classifier.list()\n",
    "    classifier_id = classifiers['classifiers'][idx]['classifier_id']\n",
    "    \n",
    "    classesDict = natural_language_classifier.classify(classifier_id, question_text)\n",
    "    topclass = classesDict['classes'][0]\n",
    "\n",
    "    print('class name=%s, confidence=%0.1f%%' % (topclass['class_name'], float(topclass['confidence'])*100.0))\n",
    "    print(\"done in %0.3fs.\" % (time() - t0))\n",
    "\n",
    "    return topclass"
   ]
  },
  {
   "cell_type": "markdown",
   "metadata": {
    "deletable": true,
    "editable": true
   },
   "source": [
    "以下の例では、「どんな」と「どのような」で、分類されるクラスが異なるという結果になってしまいました。\n",
    "\n",
    "テストデータを参照した限りでは、正解と思われるのは2663（下）のほうです。"
   ]
  },
  {
   "cell_type": "code",
   "execution_count": 15,
   "metadata": {
    "collapsed": false,
    "deletable": true,
    "editable": true,
    "scrolled": false
   },
   "outputs": [
    {
     "name": "stdout",
     "output_type": "stream",
     "text": [
      "class name=2654, confidence=20.6%\n",
      "done in 2.670s.\n"
     ]
    }
   ],
   "source": [
    "question_text = 'どんなサーバー構成でしょうか？'\n",
    "top_class = predict_class(natural_language_classifier, 0, question_text)"
   ]
  },
  {
   "cell_type": "markdown",
   "metadata": {
    "deletable": true,
    "editable": true
   },
   "source": [
    "【ご参考：回答】My-ope officeは社内から来る問い合わせに自動的に回答することが出来ます。難しいフローやロジックなどは不要で、質問・回答セットのデータを投入することで自由にカスタマイズすることが出来ます。"
   ]
  },
  {
   "cell_type": "code",
   "execution_count": 16,
   "metadata": {
    "collapsed": false,
    "deletable": true,
    "editable": true
   },
   "outputs": [
    {
     "name": "stdout",
     "output_type": "stream",
     "text": [
      "class name=2663, confidence=30.4%\n",
      "done in 2.945s.\n"
     ]
    }
   ],
   "source": [
    "question_text = 'どのようなサーバー構成でしょうか？'\n",
    "top_class = predict_class(natural_language_classifier, 0, question_text)"
   ]
  },
  {
   "cell_type": "markdown",
   "metadata": {
    "deletable": true,
    "editable": true
   },
   "source": [
    "【ご参考：回答】インフラは実績も多くセキュリティ評価も高いAmazon Web Services(AWS)のサーバを使っております。高可用性で安定しているので安心です♪"
   ]
  },
  {
   "cell_type": "markdown",
   "metadata": {
    "deletable": true,
    "editable": true
   },
   "source": [
    "#### 違った質問で再試行 (2)\n",
    "\n",
    "テストデータにない「コールセンター」という単語を使って質問します。正解ではないのですが、それなりに近い予測結果になっています。"
   ]
  },
  {
   "cell_type": "code",
   "execution_count": 17,
   "metadata": {
    "collapsed": false,
    "deletable": true,
    "editable": true
   },
   "outputs": [
    {
     "name": "stdout",
     "output_type": "stream",
     "text": [
      "class name=2723, confidence=52.7%\n",
      "done in 3.320s.\n"
     ]
    }
   ],
   "source": [
    "question_text = 'コールセンターの代わりとして使えそうでしょうか？'\n",
    "top_class = predict_class(natural_language_classifier, 0, question_text)"
   ]
  },
  {
   "cell_type": "markdown",
   "metadata": {
    "deletable": true,
    "editable": true
   },
   "source": [
    "【ご参考：回答】データ投入の代行については、現在サービス検討中です。詳細はメールフォームよりお問い合わせください。"
   ]
  },
  {
   "cell_type": "markdown",
   "metadata": {
    "deletable": true,
    "editable": true
   },
   "source": [
    "#### 違った質問で再試行 (3)\n",
    "\n",
    "テストデータとは全く無関係の質問をします。"
   ]
  },
  {
   "cell_type": "code",
   "execution_count": 18,
   "metadata": {
    "collapsed": false,
    "deletable": true,
    "editable": true
   },
   "outputs": [
    {
     "name": "stdout",
     "output_type": "stream",
     "text": [
      "class name=2717, confidence=27.0%\n",
      "done in 3.053s.\n"
     ]
    }
   ],
   "source": [
    "question_text = '今日の天気を教えていただけますでしょうか？'\n",
    "top_class = predict_class(natural_language_classifier, 0, question_text)"
   ]
  },
  {
   "cell_type": "markdown",
   "metadata": {
    "deletable": true,
    "editable": true
   },
   "source": [
    "【ご参考：回答】こんにちは♪"
   ]
  },
  {
   "cell_type": "markdown",
   "metadata": {
    "collapsed": true,
    "deletable": true,
    "editable": true
   },
   "source": [
    "### 分類器削除\n",
    "\n",
    "remove関数によりAPIコールを実行すると、分類器インスタンスがBluemix上から削除されます。\n",
    "\n",
    "（API呼出件数は課金対象となるので、無償で評価時は実行回数に注意）"
   ]
  },
  {
   "cell_type": "code",
   "execution_count": 19,
   "metadata": {
    "collapsed": false,
    "deletable": true,
    "editable": true
   },
   "outputs": [
    {
     "data": {
      "text/plain": [
       "\" 後日、実行予定です\\nnatural_language_classifier.remove(classifier_id)\\nprint('Classifier [%s] removed.' % classifier_id)\\n\""
      ]
     },
     "execution_count": 19,
     "metadata": {},
     "output_type": "execute_result"
    }
   ],
   "source": [
    "''' 後日、実行予定です\n",
    "natural_language_classifier.remove(classifier_id)\n",
    "print('Classifier [%s] removed.' % classifier_id)\n",
    "'''"
   ]
  }
 ],
 "metadata": {
  "kernelspec": {
   "display_name": "Python 3",
   "language": "python",
   "name": "python3"
  },
  "language_info": {
   "codemirror_mode": {
    "name": "ipython",
    "version": 3
   },
   "file_extension": ".py",
   "mimetype": "text/x-python",
   "name": "python",
   "nbconvert_exporter": "python",
   "pygments_lexer": "ipython3",
   "version": "3.5.2"
  }
 },
 "nbformat": 4,
 "nbformat_minor": 2
}
