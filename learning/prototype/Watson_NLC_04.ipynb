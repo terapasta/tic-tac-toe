{
 "cells": [
  {
   "cell_type": "markdown",
   "metadata": {
    "deletable": true,
    "editable": true
   },
   "source": [
    "# 公式Tutorialの実行 (Part 3)"
   ]
  },
  {
   "cell_type": "markdown",
   "metadata": {
    "deletable": true,
    "editable": true
   },
   "source": [
    "## 管理ツールを使用した分類器の改善手順"
   ]
  },
  {
   "cell_type": "markdown",
   "metadata": {
    "deletable": true,
    "editable": true
   },
   "source": [
    "Watson NLC では、API等による分類器の追加学習はサポートされていません。\n",
    "\n",
    "このため、分類器を追加学習させるためには、<b>更新された訓練データにより別の分類器を再作成</b>する必要があります。\n",
    "\n",
    "Bluemix 上で公開されている<b>管理ツール（注：β版）</b>を使用し、分類器の改善（＝分類器再作成）を行う手順が、下記URLで紹介されていますので、検証してみました。\n",
    "\n",
    "https://www.ibm.com/watson/developercloud/doc/natural-language-classifier/tool-overview.html"
   ]
  },
  {
   "cell_type": "markdown",
   "metadata": {
    "deletable": true,
    "editable": true
   },
   "source": [
    "### (1) ポータルページを表示\n",
    "\n",
    "下記URLのダッシュボードを開いて、Bluemix にログインし、NLCサービスのページにあるボタン「Access the beta toolkit」をクリックします。\n",
    "\n",
    "https://console.ng.bluemix.net/?cm_mc_uid=21899078868414868098107&cm_mc_sid_50200000=1487472621\n",
    "\n",
    "ポータルページが別画面でオープンされます。\n",
    "\n",
    "すでに作成されている分類器がリストされます（下図例では２件）。"
   ]
  },
  {
   "cell_type": "markdown",
   "metadata": {
    "deletable": true,
    "editable": true
   },
   "source": [
    "<img src=\"images/oper0219_02.png\" />"
   ]
  },
  {
   "cell_type": "markdown",
   "metadata": {
    "deletable": true,
    "editable": true
   },
   "source": [
    "### (2) 改善ページで追加学習用データを作成\n",
    "\n",
    "My Classifier の右下の矢印をクリックし、改善ページ（Improve performance）に遷移したら、下図のように無関係の質問文を投げてみます。\n",
    "\n",
    "当然のことながら、おかしな回答が戻ります。\n",
    "\n",
    "（クラス2717に対応する回答は「こんにちは♪」）"
   ]
  },
  {
   "cell_type": "markdown",
   "metadata": {
    "deletable": true,
    "editable": true
   },
   "source": [
    "<img src=\"images/oper0219_03.png\" />"
   ]
  },
  {
   "cell_type": "markdown",
   "metadata": {
    "deletable": true,
    "editable": true
   },
   "source": [
    "一覧にある２件の回答はいずれも期待する回答とはかけ離れているので、旗のマークのアイコンをクリックしてみます。\n",
    "\n",
    "画面右のLive system progress欄の表記が「Flagged 2」に変わります。\n",
    "\n",
    "ここで、ボタン「Add to training data」をクリックすると、下記のようなテストデータ一覧ページに遷移します。"
   ]
  },
  {
   "cell_type": "markdown",
   "metadata": {
    "deletable": true,
    "editable": true
   },
   "source": [
    "<img src=\"images/oper0219_04.png\" />"
   ]
  },
  {
   "cell_type": "markdown",
   "metadata": {
    "deletable": true,
    "editable": true
   },
   "source": [
    "右側のクラス一覧に新設したクラス（例えば3000／3001）を追加し、質問文に割り当てていきます。\n",
    "\n",
    "下図は、８件ほど質問文を追加して、各々該当するクラスに割り当てたのちのイメージです。\n",
    "\n",
    "クラス割当が完了したら、画面右上のダウンロードボタン（右から２つ目のボタン）をクリックします。\n",
    "\n",
    "一覧ページに表示されている質問文（８件）を、追加学習用データとしてダウンロードできます。"
   ]
  },
  {
   "cell_type": "markdown",
   "metadata": {
    "deletable": true,
    "editable": true
   },
   "source": [
    "<img src=\"images/oper0219_05.png\" />"
   ]
  },
  {
   "cell_type": "markdown",
   "metadata": {
    "deletable": true,
    "editable": true
   },
   "source": [
    "ダウンロードした追加学習用データのCSVファイルは、下図の通りです。\n",
    "\n",
    "もっとも、このハンズオンのあとで気がついたのですが・・・下記のような<b>追加学習用CSVファイルをあらかじめ作っておいて、画面上のオペレーションを省略</b>した方が早いかもしれません。"
   ]
  },
  {
   "cell_type": "markdown",
   "metadata": {
    "deletable": true,
    "editable": true
   },
   "source": [
    "<img src=\"images/oper0219_06.png\" />"
   ]
  },
  {
   "cell_type": "markdown",
   "metadata": {
    "deletable": true,
    "editable": true
   },
   "source": [
    "### (3) 訓練データに、追加学習用データを追加\n",
    "\n",
    "前回の分類器作成時に使用した訓練データに、<b>上記の追加学習用データをマージして訓練データを更新</b>し、アップロードボタン（右から３つ目のボタン）をクリックして、訓練データをアップロードします。"
   ]
  },
  {
   "cell_type": "markdown",
   "metadata": {
    "deletable": true,
    "editable": true
   },
   "source": [
    "### (4) 分類器の再作成\n",
    "\n",
    "改善ページの画面右上「Create classifier」ボタンを押下します。\n",
    "\n",
    "下図のように、新規の分類器を作成する旨のGUIが表されます。"
   ]
  },
  {
   "cell_type": "markdown",
   "metadata": {
    "deletable": true,
    "editable": true
   },
   "source": [
    "<img src=\"images/oper0219_07.png\" />"
   ]
  },
  {
   "cell_type": "markdown",
   "metadata": {
    "deletable": true,
    "editable": true
   },
   "source": [
    "上記画面で名称「My Classifier part2」と言語「Japanese」を指定し、Createボタンをクリックすると、新規の分類器作成処理が、Bluemix上でスタートします。\n",
    "\n",
    "（当然ながら、１回目の分類器作成時とほぼ同じぐらいの時間を要します）\n",
    "\n",
    "しばらくしてポータルページを再表示させると、新規に作成された分類器がリストされます。"
   ]
  },
  {
   "cell_type": "markdown",
   "metadata": {
    "deletable": true,
    "editable": true
   },
   "source": [
    "<img src=\"images/oper0219_08.png\" />"
   ]
  },
  {
   "cell_type": "markdown",
   "metadata": {
    "deletable": true,
    "editable": true
   },
   "source": [
    "### (5) 改善されているかどうか確認\n",
    "\n",
    "My Classifier part2のテスト画面に遷移し、先ほど与えた質問文でテストします。\n",
    "\n",
    "今度は予想通りの回答を得ることができました。"
   ]
  },
  {
   "cell_type": "markdown",
   "metadata": {
    "deletable": true,
    "editable": true
   },
   "source": [
    "<img src=\"images/oper0219_09.png\" />"
   ]
  }
 ],
 "metadata": {
  "kernelspec": {
   "display_name": "Python 3",
   "language": "python",
   "name": "python3"
  },
  "language_info": {
   "codemirror_mode": {
    "name": "ipython",
    "version": 3
   },
   "file_extension": ".py",
   "mimetype": "text/x-python",
   "name": "python",
   "nbconvert_exporter": "python",
   "pygments_lexer": "ipython3",
   "version": "3.5.2"
  }
 },
 "nbformat": 4,
 "nbformat_minor": 2
}
