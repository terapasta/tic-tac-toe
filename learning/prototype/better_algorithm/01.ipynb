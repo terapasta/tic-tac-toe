{
 "cells": [
  {
   "cell_type": "markdown",
   "metadata": {
    "deletable": true,
    "editable": true
   },
   "source": [
    "# ニューラルネットワークの動作確認\n",
    "\n",
    "<a href=\"http://scikit-learn.org/dev/modules/generated/sklearn.neural_network.MLPClassifier.html#sklearn-neural-network-mlpclassifier\"><b>sklearn.neural_network.MLPClassifier</b></a> を使用します。\n",
    "\n",
    "多層パーセプトロン分類器（Multi-layer Perceptron classifier）とのことです。\n",
    "\n",
    "テストデータ「test_daikin_conversation.csv」を使用し、動きを簡単に確認してみます。"
   ]
  },
  {
   "cell_type": "markdown",
   "metadata": {
    "deletable": true,
    "editable": true
   },
   "source": [
    "## (1) テストデータ／環境準備"
   ]
  },
  {
   "cell_type": "code",
   "execution_count": 1,
   "metadata": {
    "collapsed": false,
    "deletable": true,
    "editable": true
   },
   "outputs": [],
   "source": [
    "'''\n",
    "    テスト環境を準備するためのモジュールを使用します。\n",
    "'''\n",
    "import sys\n",
    "import os\n",
    "learning_dir = os.path.abspath(\"../../\") #<--- donusagi-bot/learning\n",
    "os.chdir(learning_dir)\n",
    "\n",
    "if learning_dir not in sys.path:\n",
    "    sys.path.append(learning_dir)\n",
    "\n",
    "from prototype.modules import TestTool"
   ]
  },
  {
   "cell_type": "markdown",
   "metadata": {
    "deletable": true,
    "editable": true
   },
   "source": [
    "### (1-1) テストデータをコピー"
   ]
  },
  {
   "cell_type": "code",
   "execution_count": 2,
   "metadata": {
    "collapsed": false,
    "deletable": true,
    "editable": true,
    "scrolled": false
   },
   "outputs": [
    {
     "name": "stdout",
     "output_type": "stream",
     "text": [
      "CSV file for test=[/Users/makmorit/GitHub/donusagi-bot/learning/prototype/resources/test_daikin_conversation.csv]\n",
      "CSV file for test=[/Users/makmorit/GitHub/donusagi-bot/learning/prototype/resources/test_benefitone_conversation.csv]\n",
      "CSV file for test=[/Users/makmorit/GitHub/donusagi-bot/learning/prototype/resources/test_septeni_conversation.csv]\n",
      "CSV file for test=[/Users/makmorit/GitHub/donusagi-bot/learning/prototype/resources/test_ptna_conversation.csv]\n"
     ]
    }
   ],
   "source": [
    "'''\n",
    "    データファイルは、既存の訓練データを別場所にコピーしてから使用します\n",
    "    テストデータは、csv_file_name で指定した複数件のファイルを使用します。\n",
    "'''\n",
    "csv_file_names = [\n",
    "    'test_daikin_conversation.csv',\n",
    "    'test_benefitone_conversation.csv',\n",
    "    'test_septeni_conversation.csv',\n",
    "    'test_ptna_conversation.csv',\n",
    "]\n",
    "temp_path = TestTool.copy_testdata_csv(learning_dir, csv_file_names)"
   ]
  },
  {
   "cell_type": "markdown",
   "metadata": {
    "deletable": true,
    "editable": true
   },
   "source": [
    "### (1-2) 訓練データのTF-IDFベクターを作成"
   ]
  },
  {
   "cell_type": "code",
   "execution_count": 3,
   "metadata": {
    "collapsed": false,
    "deletable": true,
    "editable": true,
    "scrolled": true
   },
   "outputs": [
    {
     "name": "stderr",
     "output_type": "stream",
     "text": [
      "2017/03/31 PM 02:56:23 TrainingMessageFromCsv#__build_learning_training_messages count of learning data: 17443\n",
      "2017/03/31 PM 02:56:23 TextArray#__init__ start\n",
      "2017/03/31 PM 02:56:33 TextArray#to_vec start\n",
      "2017/03/31 PM 02:56:33 TextArray#to_vec end\n"
     ]
    }
   ],
   "source": [
    "X, y, vectorizer = TestTool.prepare_tf_idf_vectors(temp_path[0])"
   ]
  },
  {
   "cell_type": "markdown",
   "metadata": {
    "deletable": true,
    "editable": true
   },
   "source": [
    "## (2) 動作確認"
   ]
  },
  {
   "cell_type": "markdown",
   "metadata": {
    "deletable": true,
    "editable": true
   },
   "source": [
    "訓練データを使用し、学習 --> 予測 --> accuracy単純算出の流れで、動作確認をいたします。"
   ]
  },
  {
   "cell_type": "markdown",
   "metadata": {
    "deletable": true,
    "editable": true
   },
   "source": [
    "### (2-1) 学習"
   ]
  },
  {
   "cell_type": "code",
   "execution_count": 4,
   "metadata": {
    "collapsed": false,
    "deletable": true,
    "editable": true,
    "scrolled": true
   },
   "outputs": [
    {
     "data": {
      "text/plain": [
       "MLPClassifier(activation='logistic', alpha=0.0001, batch_size='auto',\n",
       "       beta_1=0.9, beta_2=0.999, early_stopping=False, epsilon=1e-08,\n",
       "       hidden_layer_sizes=(100,), learning_rate='constant',\n",
       "       learning_rate_init=0.001, max_iter=200, momentum=0.9,\n",
       "       nesterovs_momentum=True, power_t=0.5, random_state=0, shuffle=False,\n",
       "       solver='adam', tol=0.0001, validation_fraction=0.1, verbose=False,\n",
       "       warm_start=False)"
      ]
     },
     "execution_count": 4,
     "metadata": {},
     "output_type": "execute_result"
    }
   ],
   "source": [
    "from sklearn.neural_network import MLPClassifier\n",
    "\n",
    "cls = MLPClassifier(activation='logistic', shuffle=False, random_state=0)\n",
    "cls.fit(X, y)"
   ]
  },
  {
   "cell_type": "markdown",
   "metadata": {
    "deletable": true,
    "editable": true
   },
   "source": [
    "### (2-2) 訓練データを使用して予測"
   ]
  },
  {
   "cell_type": "code",
   "execution_count": 5,
   "metadata": {
    "collapsed": false,
    "deletable": true,
    "editable": true
   },
   "outputs": [],
   "source": [
    "y_pred = cls.predict(X) # 予測クラスが戻る\n",
    "y_proba = cls.predict_proba(X) # 予測クラスの proba が戻る"
   ]
  },
  {
   "cell_type": "markdown",
   "metadata": {
    "deletable": true,
    "editable": true
   },
   "source": [
    "### (2-3) accuracy を算出"
   ]
  },
  {
   "cell_type": "code",
   "execution_count": 6,
   "metadata": {
    "collapsed": false,
    "deletable": true,
    "editable": true,
    "scrolled": true
   },
   "outputs": [
    {
     "data": {
      "text/plain": [
       "0.99570102029118424"
      ]
     },
     "execution_count": 6,
     "metadata": {},
     "output_type": "execute_result"
    }
   ],
   "source": [
    "''' \n",
    "    正解率を計算します。\n",
    "    ---> 0.99570102029118424\n",
    "'''\n",
    "TestTool.accuracy_score(y, y_pred, y_proba)"
   ]
  },
  {
   "cell_type": "markdown",
   "metadata": {
    "deletable": true,
    "editable": true
   },
   "source": [
    "## (3) 未知のデータで予測実行"
   ]
  },
  {
   "cell_type": "markdown",
   "metadata": {
    "deletable": true,
    "editable": true
   },
   "source": [
    "### (3-1) 未知データのTF-IDFベクターを作成\n",
    "\n",
    "明らかにおかしい質問文と、訓練データに似た質問文で、予測を実行させてみます。"
   ]
  },
  {
   "cell_type": "code",
   "execution_count": 47,
   "metadata": {
    "collapsed": false,
    "deletable": true,
    "editable": true,
    "scrolled": true
   },
   "outputs": [
    {
     "name": "stderr",
     "output_type": "stream",
     "text": [
      "2017/03/31 PM 03:28:20 TextArray#__init__ start\n",
      "2017/03/31 PM 03:28:21 TextArray#to_vec start\n",
      "2017/03/31 PM 03:28:21 TextArray#to_vec end\n"
     ]
    }
   ],
   "source": [
    "questions = [\n",
    "    '要素技術は自然languageの機械learningですか？', # まったくfeatureが抽出されない質問文\n",
    "\n",
    "    '人生相談をしたいのですが？', # featureが１件抽出されるな質問文「する」を含む\n",
    "    '難解なプログラミング技術を調達？', # featureが１件抽出される質問文「する」を含まない\n",
    "\n",
    "    '何か習い事をしますか？', # featureが２件抽出される質問文「する」を含む\n",
    "    '何か習い事がいいですか？', # featureが２件抽出される質問文「する」を含まない\n",
    "    \n",
    "    '何か習い事をしたほうがいいですか？', # featureが３件抽出される質問文「する」を含む\n",
    "    '何か習い事を行うほうがいいですか？', # featureが３件抽出される質問文「する」を含まない\n",
    "    \n",
    "    '会社を辞めたいのですが誰に相談するのがいいですか？', # featureが４件抽出される質問文「する」を含む\n",
    "    '会社を辞めたいのですが誰に相談を行うのがいいですか？', # featureが４件抽出される質問文「する」を含まない\n",
    "\n",
    "    '有給休暇を取って海外に行き旅行する意向があります。', # featureが５件抽出される質問文「する」を含む\n",
    "    '有給休暇を取って海外に行きたいと思っています。', # featureが５件抽出される質問文「する」を含まない\n",
    "\n",
    "    # 以下、訓練データの質問文と似たような feature を与えてみます。\n",
    "    'ウィンドウズ７の標準バージョンは？', # Windows7社内標準のバージョンを教えてください。,3637\n",
    "    'ウィンドウズのパスワードを使ってログインできない', # Windowsユーザアカウントのパスワードを入力してもログインできない。,3739\n",
    "    '教育コースって何？', # 教育コースについて、教えて欲しい。,3907\n",
    "    '全社の規約が知りたいですが？', # 全社規程を確認したい。,3910\n",
    "\n",
    "    # なぜか回答不能に陥った feature はこちら（正解文と一緒にテストします）\n",
    "    'アウトルックのメールの探し方がわからないんですが', # Outlook2010で、メールを探すことができません。,3442\n",
    "    'Outlook2010で、メールを探すことができません。', # Outlook2010で、メールを探すことができません。,3442\n",
    "]\n",
    "X_test = TestTool.prepare_tf_idf_vectors_from_questions(questions, vectorizer)"
   ]
  },
  {
   "cell_type": "markdown",
   "metadata": {
    "deletable": true,
    "editable": true
   },
   "source": [
    "### (3-2) 未知データで予測"
   ]
  },
  {
   "cell_type": "code",
   "execution_count": 48,
   "metadata": {
    "collapsed": false,
    "deletable": true,
    "editable": true
   },
   "outputs": [],
   "source": [
    "y_test_pred = cls.predict(X_test) # 予測クラスが戻る\n",
    "y_test_proba = cls.predict_proba(X_test) # 予測クラスの proba が戻る"
   ]
  },
  {
   "cell_type": "markdown",
   "metadata": {
    "deletable": true,
    "editable": true
   },
   "source": [
    "### (3-3) 予測結果を確認\n",
    "\n",
    "概ね良好な結果を示しております。"
   ]
  },
  {
   "cell_type": "code",
   "execution_count": 49,
   "metadata": {
    "collapsed": false,
    "deletable": true,
    "editable": true
   },
   "outputs": [
    {
     "name": "stdout",
     "output_type": "stream",
     "text": [
      "index=0[] ---> Unable to predict\n",
      "index=1[する=1.000] ---> Unable to predict\n",
      "index=2[調達=1.000] ---> Unable to predict\n",
      "index=3[する=0.707 何=0.707] ---> Unable to predict\n",
      "index=4[いい=0.707 何=0.707] ---> Unable to predict\n",
      "index=5[いい=0.577 する=0.577 何=0.577] ---> Unable to predict\n",
      "index=6[いい=0.577 何=0.577 行う=0.577] ---> Unable to predict\n",
      "index=7[いい=0.500 する=0.500 会社=0.500 誰=0.500] ---> Unable to predict\n",
      "index=8[いい=0.500 会社=0.500 行う=0.500 誰=0.500] ---> Unable to predict\n",
      "index=9[する=0.447 休暇=0.447 取る=0.447 海外=0.447 行く=0.447] ---> Unable to predict\n",
      "index=10[休暇=0.447 取る=0.447 思う=0.447 海外=0.447 行く=0.447] ---> Unable to predict\n",
      "index=11[ウィンドウズ=0.500 バージョン=0.500 標準=0.500 ７=0.500] ---> class=3637 (proba=0.989)\n",
      "index=12[できる=0.408 ない=0.408 ウィンドウズ=0.408 パスワード=0.408 ログイン=0.408 使う=0.408] ---> class=3739 (proba=0.963)\n",
      "index=13[コース=0.577 何=0.577 教育=0.577] ---> class=3907 (proba=0.844)\n",
      "index=14[全社=0.577 知る=0.577 規約=0.577] ---> class=3910 (proba=0.978)\n",
      "index=15[ない=0.378 わかる=0.378 アウト=0.378 メール=0.378 ルック=0.378 探す=0.378 方=0.378] ---> Unable to predict\n",
      "index=16[2010=0.447 outlook=0.447 できる=0.447 メール=0.447 探す=0.447] ---> class=3442 (proba=0.980)\n"
     ]
    }
   ],
   "source": [
    "import numpy\n",
    "\n",
    "dumped_features = TestTool.get_dumped_features(X_test, vectorizer.vocabulary_)\n",
    "for i, d in enumerate(dumped_features):\n",
    "    c = y_test_pred[i]\n",
    "    p = numpy.max(y_test_proba[i])\n",
    "    if c == 0 or p < 0.5:\n",
    "        print('%s ---> Unable to predict' % d)\n",
    "    else:\n",
    "        print('%s ---> class=%d (proba=%0.3f)' % (d, c, p))"
   ]
  }
 ],
 "metadata": {
  "kernelspec": {
   "display_name": "Python 3",
   "language": "python",
   "name": "python3"
  },
  "language_info": {
   "codemirror_mode": {
    "name": "ipython",
    "version": 3
   },
   "file_extension": ".py",
   "mimetype": "text/x-python",
   "name": "python",
   "nbconvert_exporter": "python",
   "pygments_lexer": "ipython3",
   "version": "3.5.2"
  }
 },
 "nbformat": 4,
 "nbformat_minor": 2
}
