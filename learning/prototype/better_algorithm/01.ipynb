{
 "cells": [
  {
   "cell_type": "markdown",
   "metadata": {
    "deletable": true,
    "editable": true
   },
   "source": [
    "# ニューラルネットワークの動作確認\n",
    "\n",
    "<a href=\"http://scikit-learn.org/dev/modules/generated/sklearn.neural_network.MLPClassifier.html#sklearn-neural-network-mlpclassifier\"><b>sklearn.neural_network.MLPClassifier</b></a> を使用します。\n",
    "\n",
    "多層パーセプトロン分類器（Multi-layer Perceptron classifier）とのことです。\n",
    "\n",
    "テストデータ「test_daikin_conversation.csv」を使用し、動きを簡単に確認してみます。"
   ]
  },
  {
   "cell_type": "markdown",
   "metadata": {
    "deletable": true,
    "editable": true
   },
   "source": [
    "## (1) テストデータ／環境準備"
   ]
  },
  {
   "cell_type": "code",
   "execution_count": 1,
   "metadata": {
    "collapsed": false,
    "deletable": true,
    "editable": true
   },
   "outputs": [],
   "source": [
    "'''\n",
    "    テスト環境を準備するためのモジュールを使用します。\n",
    "'''\n",
    "import sys\n",
    "import os\n",
    "learning_dir = os.path.abspath(\"../../\") #<--- donusagi-bot/learning\n",
    "os.chdir(learning_dir)\n",
    "\n",
    "if learning_dir not in sys.path:\n",
    "    sys.path.append(learning_dir)\n",
    "\n",
    "from prototype.modules import TestTool"
   ]
  },
  {
   "cell_type": "markdown",
   "metadata": {
    "deletable": true,
    "editable": true
   },
   "source": [
    "### (1-1) テストデータをコピー"
   ]
  },
  {
   "cell_type": "code",
   "execution_count": 2,
   "metadata": {
    "collapsed": false,
    "deletable": true,
    "editable": true,
    "scrolled": false
   },
   "outputs": [
    {
     "name": "stdout",
     "output_type": "stream",
     "text": [
      "CSV file for test=[/Users/makmorit/GitHub/donusagi-bot/learning/prototype/resources/test_daikin_conversation.csv]\n",
      "CSV file for test=[/Users/makmorit/GitHub/donusagi-bot/learning/prototype/resources/test_benefitone_conversation.csv]\n",
      "CSV file for test=[/Users/makmorit/GitHub/donusagi-bot/learning/prototype/resources/test_septeni_conversation.csv]\n",
      "CSV file for test=[/Users/makmorit/GitHub/donusagi-bot/learning/prototype/resources/test_ptna_conversation.csv]\n"
     ]
    }
   ],
   "source": [
    "'''\n",
    "    データファイルは、既存の訓練データを別場所にコピーしてから使用します\n",
    "    テストデータは、csv_file_name で指定した複数件のファイルを使用します。\n",
    "'''\n",
    "csv_file_names = [\n",
    "    'test_daikin_conversation.csv',\n",
    "    'test_benefitone_conversation.csv',\n",
    "    'test_septeni_conversation.csv',\n",
    "    'test_ptna_conversation.csv',\n",
    "]\n",
    "temp_path = TestTool.copy_testdata_csv(learning_dir, csv_file_names)"
   ]
  },
  {
   "cell_type": "markdown",
   "metadata": {
    "deletable": true,
    "editable": true
   },
   "source": [
    "### (1-2) 訓練データのTF-IDFベクターを作成"
   ]
  },
  {
   "cell_type": "code",
   "execution_count": 3,
   "metadata": {
    "collapsed": false,
    "deletable": true,
    "editable": true,
    "scrolled": true
   },
   "outputs": [
    {
     "name": "stderr",
     "output_type": "stream",
     "text": [
      "2017/04/01 PM 10:03:55 TrainingMessageFromCsv#__build_learning_training_messages count of learning data: 17443\n",
      "2017/04/01 PM 10:03:55 TextArray#__init__ start\n",
      "2017/04/01 PM 10:04:05 TextArray#to_vec start\n",
      "2017/04/01 PM 10:04:06 TextArray#to_vec end\n"
     ]
    }
   ],
   "source": [
    "X, y, vectorizer = TestTool.prepare_tf_idf_vectors(temp_path[0])"
   ]
  },
  {
   "cell_type": "markdown",
   "metadata": {
    "deletable": true,
    "editable": true
   },
   "source": [
    "## (2) 動作確認"
   ]
  },
  {
   "cell_type": "markdown",
   "metadata": {
    "deletable": true,
    "editable": true
   },
   "source": [
    "訓練データを使用し、学習 --> 予測 --> accuracy単純算出の流れで、動作確認をいたします。"
   ]
  },
  {
   "cell_type": "markdown",
   "metadata": {
    "deletable": true,
    "editable": true
   },
   "source": [
    "### (2-1) 学習"
   ]
  },
  {
   "cell_type": "code",
   "execution_count": 4,
   "metadata": {
    "collapsed": false,
    "deletable": true,
    "editable": true,
    "scrolled": true
   },
   "outputs": [
    {
     "name": "stdout",
     "output_type": "stream",
     "text": [
      "MLPClassifier: fitting...\n",
      "MLPClassifier: done in 168.174s.\n"
     ]
    }
   ],
   "source": [
    "from time import time\n",
    "from sklearn.neural_network import MLPClassifier\n",
    "\n",
    "print(\"MLPClassifier: fitting...\")\n",
    "t0 = time()\n",
    "\n",
    "cls = MLPClassifier(activation='logistic', shuffle=False, random_state=0)\n",
    "cls.fit(X, y)\n",
    "print(\"MLPClassifier: done in %0.3fs.\" % (time() - t0))"
   ]
  },
  {
   "cell_type": "markdown",
   "metadata": {
    "deletable": true,
    "editable": true
   },
   "source": [
    "### (2-2) 訓練データを使用して予測"
   ]
  },
  {
   "cell_type": "code",
   "execution_count": 5,
   "metadata": {
    "collapsed": false,
    "deletable": true,
    "editable": true,
    "scrolled": true
   },
   "outputs": [
    {
     "name": "stdout",
     "output_type": "stream",
     "text": [
      "MLPClassifier: predicting...\n",
      "MLPClassifier: done in 0.587s.\n"
     ]
    }
   ],
   "source": [
    "print(\"MLPClassifier: predicting...\")\n",
    "t0 = time()\n",
    "\n",
    "y_pred = cls.predict(X) # 予測クラスが戻る\n",
    "y_proba = cls.predict_proba(X) # 予測クラスの proba が戻る\n",
    "print(\"MLPClassifier: done in %0.3fs.\" % (time() - t0))"
   ]
  },
  {
   "cell_type": "markdown",
   "metadata": {
    "deletable": true,
    "editable": true
   },
   "source": [
    "### (2-3) accuracy を算出"
   ]
  },
  {
   "cell_type": "code",
   "execution_count": 6,
   "metadata": {
    "collapsed": false,
    "deletable": true,
    "editable": true,
    "scrolled": true
   },
   "outputs": [
    {
     "data": {
      "text/plain": [
       "0.99570102029118424"
      ]
     },
     "execution_count": 6,
     "metadata": {},
     "output_type": "execute_result"
    }
   ],
   "source": [
    "''' \n",
    "    正解率を計算します。\n",
    "    ---> 0.99570102029118424\n",
    "'''\n",
    "TestTool.accuracy_score(y, y_pred, y_proba)"
   ]
  },
  {
   "cell_type": "markdown",
   "metadata": {
    "deletable": true,
    "editable": true
   },
   "source": [
    "## (3) 未知のデータで予測実行"
   ]
  },
  {
   "cell_type": "markdown",
   "metadata": {
    "deletable": true,
    "editable": true
   },
   "source": [
    "### (3-1) 未知データのTF-IDFベクターを作成\n",
    "\n",
    "明らかにおかしい質問文と、訓練データに似た質問文で、予測を実行させてみます。"
   ]
  },
  {
   "cell_type": "code",
   "execution_count": 7,
   "metadata": {
    "collapsed": false,
    "deletable": true,
    "editable": true,
    "scrolled": true
   },
   "outputs": [
    {
     "name": "stderr",
     "output_type": "stream",
     "text": [
      "2017/04/01 PM 10:06:54 TextArray#__init__ start\n",
      "2017/04/01 PM 10:06:54 TextArray#to_vec start\n",
      "2017/04/01 PM 10:06:54 TextArray#to_vec end\n"
     ]
    }
   ],
   "source": [
    "questions = [\n",
    "    '要素技術は自然languageの機械learningですか？', # まったくfeatureが抽出されない質問文\n",
    "\n",
    "    '人生相談をしたいのですが？', # featureが１件抽出されるな質問文「する」を含む\n",
    "    '難解なプログラミング技術を調達？', # featureが１件抽出される質問文「する」を含まない\n",
    "\n",
    "    '何か習い事をしますか？', # featureが２件抽出される質問文「する」を含む\n",
    "    '何か習い事がいいですか？', # featureが２件抽出される質問文「する」を含まない\n",
    "    \n",
    "    '何か習い事をしたほうがいいですか？', # featureが３件抽出される質問文「する」を含む\n",
    "    '何か習い事を行うほうがいいですか？', # featureが３件抽出される質問文「する」を含まない\n",
    "    \n",
    "    '会社を辞めたいのですが誰に相談するのがいいですか？', # featureが４件抽出される質問文「する」を含む\n",
    "    '会社を辞めたいのですが誰に相談を行うのがいいですか？', # featureが４件抽出される質問文「する」を含まない\n",
    "\n",
    "    '有給休暇を取って海外に行き旅行する意向があります。', # featureが５件抽出される質問文「する」を含む\n",
    "    '有給休暇を取って海外に行きたいと思っています。', # featureが５件抽出される質問文「する」を含まない\n",
    "\n",
    "    # 以下、訓練データの質問文と似たような feature を与えてみます。\n",
    "    'ウィンドウズ７の標準バージョンは？', # Windows7社内標準のバージョンを教えてください。,3637\n",
    "    'ウィンドウズのパスワードを使ってログインできない', # Windowsユーザアカウントのパスワードを入力してもログインできない。,3739\n",
    "    '教育コースって何？', # 教育コースについて、教えて欲しい。,3907\n",
    "    '全社の規約が知りたいですが？', # 全社規程を確認したい。,3910\n",
    "\n",
    "    # なぜか回答不能に陥った feature はこちら（正解文と一緒にテストします）\n",
    "    'アウトルックのメールの探し方がわからないんですが', # Outlook2010で、メールを探すことができません。,3442\n",
    "    'Outlook2010で、メールを探すことができません。', # Outlook2010で、メールを探すことができません。,3442\n",
    "]\n",
    "X_test = TestTool.prepare_tf_idf_vectors_from_questions(questions, vectorizer)"
   ]
  },
  {
   "cell_type": "markdown",
   "metadata": {
    "deletable": true,
    "editable": true
   },
   "source": [
    "### (3-2) 未知データで予測"
   ]
  },
  {
   "cell_type": "code",
   "execution_count": 8,
   "metadata": {
    "collapsed": false,
    "deletable": true,
    "editable": true,
    "scrolled": true
   },
   "outputs": [
    {
     "name": "stdout",
     "output_type": "stream",
     "text": [
      "MLPClassifier: predicting...\n",
      "MLPClassifier: done in 0.001s.\n"
     ]
    }
   ],
   "source": [
    "print(\"MLPClassifier: predicting...\")\n",
    "t0 = time()\n",
    "\n",
    "y_test_pred = cls.predict(X_test) # 予測クラスが戻る\n",
    "y_test_proba = cls.predict_proba(X_test) # 予測クラスの proba が戻る\n",
    "print(\"MLPClassifier: done in %0.3fs.\" % (time() - t0))"
   ]
  },
  {
   "cell_type": "code",
   "execution_count": 9,
   "metadata": {
    "collapsed": false,
    "deletable": true,
    "editable": true,
    "scrolled": false
   },
   "outputs": [
    {
     "data": {
      "text/plain": [
       "<17x1968 sparse matrix of type '<class 'numpy.float64'>'\n",
       "\twith 58 stored elements in Compressed Sparse Row format>"
      ]
     },
     "execution_count": 9,
     "metadata": {},
     "output_type": "execute_result"
    }
   ],
   "source": [
    "X_test"
   ]
  },
  {
   "cell_type": "markdown",
   "metadata": {
    "deletable": true,
    "editable": true
   },
   "source": [
    "### (3-3) 予測結果を確認\n",
    "\n",
    "概ね良好な結果を示しております。"
   ]
  },
  {
   "cell_type": "code",
   "execution_count": 10,
   "metadata": {
    "collapsed": false,
    "deletable": true,
    "editable": true,
    "scrolled": true
   },
   "outputs": [
    {
     "name": "stdout",
     "output_type": "stream",
     "text": [
      "index=0[] ---> Unable to predict\n",
      "index=1[する=1.000] ---> Unable to predict\n",
      "index=2[調達=1.000] ---> Unable to predict\n",
      "index=3[する=0.707 何=0.707] ---> Unable to predict\n",
      "index=4[いい=0.707 何=0.707] ---> Unable to predict\n",
      "index=5[いい=0.577 する=0.577 何=0.577] ---> Unable to predict\n",
      "index=6[いい=0.577 何=0.577 行う=0.577] ---> Unable to predict\n",
      "index=7[いい=0.500 する=0.500 会社=0.500 誰=0.500] ---> Unable to predict\n",
      "index=8[いい=0.500 会社=0.500 行う=0.500 誰=0.500] ---> Unable to predict\n",
      "index=9[する=0.447 休暇=0.447 取る=0.447 海外=0.447 行く=0.447] ---> Unable to predict\n",
      "index=10[休暇=0.447 取る=0.447 思う=0.447 海外=0.447 行く=0.447] ---> Unable to predict\n",
      "index=11[ウィンドウズ=0.500 バージョン=0.500 標準=0.500 ７=0.500] ---> class=3637 (proba=0.989)\n",
      "index=12[できる=0.408 ない=0.408 ウィンドウズ=0.408 パスワード=0.408 ログイン=0.408 使う=0.408] ---> class=3739 (proba=0.963)\n",
      "index=13[コース=0.577 何=0.577 教育=0.577] ---> class=3907 (proba=0.844)\n",
      "index=14[全社=0.577 知る=0.577 規約=0.577] ---> class=3910 (proba=0.978)\n",
      "index=15[ない=0.378 わかる=0.378 アウト=0.378 メール=0.378 ルック=0.378 探す=0.378 方=0.378] ---> Unable to predict\n",
      "index=16[2010=0.447 outlook=0.447 できる=0.447 メール=0.447 探す=0.447] ---> class=3442 (proba=0.980)\n"
     ]
    }
   ],
   "source": [
    "import numpy\n",
    "\n",
    "dumped_features = TestTool.get_dumped_features(X_test, vectorizer.vocabulary_)\n",
    "for i, d in enumerate(dumped_features):\n",
    "    c = y_test_pred[i]\n",
    "    p = numpy.max(y_test_proba[i])\n",
    "    if c == 0 or p < 0.5:\n",
    "        print('%s ---> Unable to predict' % d)\n",
    "    else:\n",
    "        print('%s ---> class=%d (proba=%0.3f)' % (d, c, p))"
   ]
  },
  {
   "cell_type": "markdown",
   "metadata": {
    "deletable": true,
    "editable": true
   },
   "source": [
    "## (4) 以下は参考です。\n",
    "\n",
    "### (4-1) accuracy算出段階でNGとなったデータ\n",
    "\n",
    "accuracy=99.57% となりましたが、残りの 0.43%（75件）のデータを参考までにリストします。\n",
    "\n",
    "6件は正解にもかかわらず proba<0.5 のデータ、残りの69件は誤答とのことでした。"
   ]
  },
  {
   "cell_type": "code",
   "execution_count": 11,
   "metadata": {
    "collapsed": false,
    "scrolled": false
   },
   "outputs": [],
   "source": [
    "def error_detected(X, y, y_pred, y_probas):\n",
    "    n_sample = X.shape[0]\n",
    "    pred_err_cnt = 0\n",
    "    unable_pred_cnt = 0\n",
    "\n",
    "    y_proba = numpy.max(y_probas, axis=1)\n",
    "\n",
    "    detected_list = []\n",
    "    for i in range(n_sample):\n",
    "        if y[i] == y_pred[i]:\n",
    "            if y_proba[i] > 0.5:\n",
    "                # しきい値を超えたもの（正しく予測できたので正答）\n",
    "                pass\n",
    "            else:\n",
    "                # しきい値を超えなかったもの（これは回答不能）\n",
    "                detected_list.append((i, X[i], y[i], y_pred[i], y_proba[i]))\n",
    "                unable_pred_cnt += 1\n",
    "        else:\n",
    "            if y_proba[i] > 0.5:\n",
    "                # しきい値を超えたもの（これは誤答）\n",
    "                detected_list.append((i, X[i], y[i], y_pred[i], y_proba[i]))\n",
    "                pred_err_cnt += 1\n",
    "            else:\n",
    "                # しきい値を超えなかったもの（正しく予測できなかったが回答不能：これはある意味正答）\n",
    "                pass\n",
    "\n",
    "    print('sample=%d, error=%d(Unable to predict=%d, Prediction error=%d)' % (\n",
    "        n_sample, unable_pred_cnt+pred_err_cnt, unable_pred_cnt, pred_err_cnt))\n",
    "    \n",
    "    return detected_list"
   ]
  },
  {
   "cell_type": "code",
   "execution_count": 12,
   "metadata": {
    "collapsed": false
   },
   "outputs": [
    {
     "name": "stdout",
     "output_type": "stream",
     "text": [
      "sample=17446, error=75(Unable to predict=6, Prediction error=69)\n"
     ]
    }
   ],
   "source": [
    "detected_list = error_detected(X, y, y_pred, y_proba)"
   ]
  },
  {
   "cell_type": "code",
   "execution_count": 13,
   "metadata": {
    "collapsed": false,
    "scrolled": false
   },
   "outputs": [
    {
     "name": "stdout",
     "output_type": "stream",
     "text": [
      "3642 [mcafee=0.224 する=0.447 れる=0.224 アイコ=0.224 クリック=0.224 ステータス=0.224 セキュリティ=0.224 マーク=0.224 右=0.224 対処=0.224 教える=0.224 方法=0.224 欲しい=0.224 表示=0.447] 3531 0.589123447925 x ---> Prediction error\n",
      "3534 [it=0.378 ツール=0.378 何=0.378 収集=0.378 情報=0.378 管理=0.378 資産=0.378] 3957 0.604830744285 x ---> Prediction error\n",
      "3536 [it=0.408 ツール=0.408 収集=0.408 情報=0.408 管理=0.408 資産=0.408] 3534 0.537643720481 x ---> Prediction error\n",
      "3703 [re=0.180 spam=0.180 する=0.718 どう=0.180 なる=0.180 よい=0.180 れる=0.180 メール=0.359 件名=0.180 判別=0.180 誤る=0.180 返信=0.180 迷惑=0.180] 3948 0.500026913492 x ---> Prediction error\n",
      "3938 [こんにちは=1.000] 3931 0.50193203953 x ---> Prediction error\n",
      "3936 [おなか=0.707 すく=0.707] 3934 0.73912800196 x ---> Prediction error\n",
      "3957 [it=0.408 ツール=0.408 収集=0.408 情報=0.408 管理=0.408 資産=0.408] 3534 0.537643720481 x ---> Prediction error\n",
      "3964 [mcafee=0.229 する=0.459 れる=0.229 アイコ=0.229 クリック=0.229 ステータス=0.229 セキュリティ=0.229 マーク=0.229 右=0.229 対処=0.229 教える=0.229 方法=0.229 表示=0.459] 3531 0.504700387736 x ---> Prediction error\n",
      "3531 [mcafee=0.224 する=0.447 れる=0.224 アイコ=0.224 クリック=0.224 ステータス=0.224 セキュリティー=0.224 マーク=0.224 右=0.224 対処=0.224 教える=0.224 方法=0.224 欲しい=0.224 表示=0.447] 3531 0.478438275345 o ---> Unable to predict\n",
      "3703 [e=0.338 re=0.169 spam=0.169 する=0.676 どう=0.169 なる=0.169 よい=0.169 れる=0.169 メール=0.338 件名=0.169 判別=0.169 誤る=0.169 返信=0.169 迷惑=0.169] 3948 0.508194139218 x ---> Prediction error\n",
      "3703 [email=0.359 re=0.180 spam=0.180 する=0.718 どう=0.180 なる=0.180 よい=0.180 れる=0.180 件名=0.180 判別=0.180 誤る=0.180 返信=0.180 迷惑=0.180] 3948 0.624282226525 x ---> Prediction error\n",
      "3531 [mcafee=0.224 する=0.447 れる=0.224 アイコ=0.224 クリック=0.224 ステータス=0.224 セキュリティー=0.224 マーク=0.224 右=0.224 対処=0.224 教える=0.224 方法=0.224 欲しい=0.224 表示=0.447] 3531 0.478438275345 o ---> Unable to predict\n",
      "3703 [e=0.338 re=0.169 spam=0.169 する=0.676 どう=0.169 なる=0.169 よい=0.169 れる=0.169 メール=0.338 件名=0.169 判別=0.169 誤る=0.169 返信=0.169 迷惑=0.169] 3948 0.508194139218 x ---> Prediction error\n",
      "3703 [email=0.359 re=0.180 spam=0.180 する=0.718 どう=0.180 なる=0.180 よい=0.180 れる=0.180 件名=0.180 判別=0.180 誤る=0.180 返信=0.180 迷惑=0.180] 3948 0.624282226525 x ---> Prediction error\n",
      "3497 [e=0.289 outlook=0.289 する=0.577 れる=0.289 アカウント=0.289 エラーメッセージ=0.289 メール=0.289 作成=0.289 表示=0.289] 4664 0.701216594128 x ---> Prediction error\n"
     ]
    }
   ],
   "source": [
    "'''\n",
    "    上位１５件ほど表示\n",
    "'''\n",
    "for i, X, y, y_pred, y_proba in detected_list[0:15]:\n",
    "    dump_str = TestTool.dump_features(X.toarray()[0], vectorizer.vocabulary_)\n",
    "    if (y == y_pred):\n",
    "        print(y, dump_str, y_pred, y_proba, 'o ---> Unable to predict')\n",
    "    else:\n",
    "        print(y, dump_str, y_pred, y_proba, 'x ---> Prediction error')"
   ]
  },
  {
   "cell_type": "markdown",
   "metadata": {
    "deletable": true,
    "editable": true
   },
   "source": [
    "### (4-2) 誤答する可能性が高いデータ\n",
    "\n",
    "上記調査結果を受け、一例として、誤答する可能性が高いデータを調査してみます。"
   ]
  },
  {
   "cell_type": "code",
   "execution_count": 14,
   "metadata": {
    "collapsed": false
   },
   "outputs": [
    {
     "name": "stderr",
     "output_type": "stream",
     "text": [
      "2017/04/01 PM 10:06:55 TextArray#__init__ start\n",
      "2017/04/01 PM 10:06:55 TextArray#to_vec start\n",
      "2017/04/01 PM 10:06:55 TextArray#to_vec end\n"
     ]
    }
   ],
   "source": [
    "'''\n",
    "誤答の例：\n",
    "3534 [it=0.378 ツール=0.378 何=0.378 収集=0.378 情報=0.378 管理=0.378 資産=0.378] 3957 0.604830744285 x ---> Prediction error\n",
    "'''\n",
    "questions2 = [\n",
    "    '情報収集ツールにはどんなものがありますか？', # 正解＝3957\n",
    "    'IT資産管理の情報収集ツールとは何ですか？', # 正解＝3534 <--- これは誤答する可能性が高そう・・・\n",
    "]\n",
    "X_test2 = TestTool.prepare_tf_idf_vectors_from_questions(questions2, vectorizer)\n",
    "\n",
    "y_test_pred = cls.predict(X_test2) # 予測クラスが戻る\n",
    "y_test_proba = cls.predict_proba(X_test2) # 予測クラスの proba が戻る"
   ]
  },
  {
   "cell_type": "markdown",
   "metadata": {},
   "source": [
    "#### 残念ながら、２番目の質問文が誤答されてしまいました。\n",
    "\n",
    "proba は 60% と高率でした"
   ]
  },
  {
   "cell_type": "code",
   "execution_count": 15,
   "metadata": {
    "collapsed": false,
    "scrolled": false
   },
   "outputs": [
    {
     "data": {
      "text/plain": [
       "array([3957, 3957])"
      ]
     },
     "execution_count": 15,
     "metadata": {},
     "output_type": "execute_result"
    }
   ],
   "source": [
    "y_test_pred"
   ]
  },
  {
   "cell_type": "code",
   "execution_count": 16,
   "metadata": {
    "collapsed": false,
    "scrolled": false
   },
   "outputs": [
    {
     "data": {
      "text/plain": [
       "array([ 0.98864174,  0.60483074])"
      ]
     },
     "execution_count": 16,
     "metadata": {},
     "output_type": "execute_result"
    }
   ],
   "source": [
    "numpy.max(y_test_proba, axis=1)"
   ]
  }
 ],
 "metadata": {
  "kernelspec": {
   "display_name": "Python 3",
   "language": "python",
   "name": "python3"
  },
  "language_info": {
   "codemirror_mode": {
    "name": "ipython",
    "version": 3
   },
   "file_extension": ".py",
   "mimetype": "text/x-python",
   "name": "python",
   "nbconvert_exporter": "python",
   "pygments_lexer": "ipython3",
   "version": "3.5.2"
  }
 },
 "nbformat": 4,
 "nbformat_minor": 2
}
