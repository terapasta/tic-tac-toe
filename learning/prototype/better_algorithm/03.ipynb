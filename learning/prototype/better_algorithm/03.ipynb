{
 "cells": [
  {
   "cell_type": "markdown",
   "metadata": {
    "deletable": true,
    "editable": true
   },
   "source": [
    "# ニューラルネットワークとロジスティック回帰の比較\n",
    "\n",
    "<a href=\"http://scikit-learn.org/dev/modules/generated/sklearn.neural_network.MLPClassifier.html#sklearn-neural-network-mlpclassifier\"><b>sklearn.neural_network.MLPClassifier</b></a> を使用します。\n",
    "\n",
    "プロダクションのロジスティック回帰との比較を行います。\n",
    "\n",
    "あわせて、パラメータ値（レイヤー数／ユニット数）を変えて確認を行っております。"
   ]
  },
  {
   "cell_type": "markdown",
   "metadata": {
    "deletable": true,
    "editable": true
   },
   "source": [
    "## (0) 結論"
   ]
  },
  {
   "cell_type": "markdown",
   "metadata": {
    "deletable": true,
    "editable": true
   },
   "source": [
    "ロジスティック回帰に比して、accuracy があまり変わらない印象です。\n",
    "\n",
    "| dataset | MLPClassifier(ベストスコア) | <> | LogisticRegression |\n",
    "| --- | :---: | :---: | :---: |\n",
    "| test_daikin_conversation.csv | 0.986703347088（条件1-1） | < | 0.987161852361 |\n",
    "| test_benefitone_conversation.csv | 0.985436893204（条件1-1） | > | 0.981553398058 |\n",
    "| test_septeni_conversation.csv | 0.974074074074（条件1） | = | 0.974074074074 |\n",
    "| test_ptna_conversation.csv | 0.982471516214（条件1-1） | > | 0.973707274321 |\n",
    "\n",
    "\n",
    "### 下記はご参考\n",
    "\n",
    "#### (1) MLPClassifier の実行条件とレポートのリンク\n",
    "\n",
    "| 条件 | レイヤー数 | レイヤーごとのユニット数 | レポートのリンク |\n",
    "| :---: | :---: | :---: | --- |\n",
    "| 条件1 | 1層 | 100 | <b><a href=\"04.ipynb\">04.ipynb</a></b> |\n",
    "| 条件1-2 | 1層 | 200 | <b><a href=\"04.ipynb\">04-200.ipynb</a></b> |\n",
    "| 条件2 | 2層 | 100 | <b><a href=\"04-2-layers.ipynb\">04-2-layers.ipynb</a></b> |\n",
    "| 条件2-2 | 2層 | 200 | <b><a href=\"04-2-layers-200.ipynb\">04-2-layers-200.ipynb</a></b> |\n",
    "| 条件3 | 3層 | 100 | <b><a href=\"04-3-layers.ipynb\">04-3-layers.ipynb</a></b> |\n",
    "| 条件4 | 4層 | 200->100->50->25 | <b><a href=\"04-4-layers-var.ipynb\">04-4-layers-var.ipynb</a></b> |\n",
    "\n",
    "\n",
    "####  (2) 実行条件ごとの accuracy 比較\n",
    " \n",
    "　レイヤー数＝1層（条件1 or 条件1-1）が最もスコアが良いように感じられます。\n",
    "\n",
    "　また、条件が複雑になればなるほど、accuracy が劣化する傾向があるようです。\n",
    "\n",
    "\n",
    "| dataset | 条件1 | 条件1-1 | 条件2 | 条件2-2 | 条件3 | 条件4 |\n",
    "| --- | :---: | :---: | :---: | :---: | :---: | :---: |\n",
    "| test_daikin_conversation.csv | 0.985557083906 | 0.986703347088 |0.983264557542 | 0.980513525906 | 0.95346171481 | 0.943603851444 |\n",
    "| test_benefitone_conversation.csv | 0.985436893204 | 0.985436893204 | 0.985436893204 | 0.984466019417 | 0.954368932039 | 0.633980582524 |\n",
    "| test_septeni_conversation.csv | 0.974074074074 | 0.953703703704 | 0.966666666667 | 0.966666666667 | 0.961111111111 | 0.961111111111 |\n",
    "| test_ptna_conversation.csv | 0.978965819457 | 0.982471516214 | 0.976336546889 | 0.976336546889 | 0.969325153374 | 0.775635407537 |\n",
    "\n",
    "\n",
    "\n",
    "\n"
   ]
  },
  {
   "cell_type": "markdown",
   "metadata": {
    "deletable": true,
    "editable": true
   },
   "source": [
    "## (1) テストデータ／環境準備"
   ]
  },
  {
   "cell_type": "code",
   "execution_count": 1,
   "metadata": {
    "collapsed": false,
    "deletable": true,
    "editable": true
   },
   "outputs": [],
   "source": [
    "'''\n",
    "    テスト環境を準備するためのモジュールを使用します。\n",
    "'''\n",
    "import sys\n",
    "import os\n",
    "learning_dir = os.path.abspath(\"../../\") #<--- donusagi-bot/learning\n",
    "os.chdir(learning_dir)\n",
    "\n",
    "if learning_dir not in sys.path:\n",
    "    sys.path.append(learning_dir)\n",
    "\n",
    "from prototype.modules import TestTool"
   ]
  },
  {
   "cell_type": "markdown",
   "metadata": {
    "deletable": true,
    "editable": true
   },
   "source": [
    "### (1-1) テストデータをコピー"
   ]
  },
  {
   "cell_type": "code",
   "execution_count": 2,
   "metadata": {
    "collapsed": false,
    "deletable": true,
    "editable": true,
    "scrolled": true
   },
   "outputs": [
    {
     "name": "stdout",
     "output_type": "stream",
     "text": [
      "CSV file for test=[/Users/makmorit/GitHub/donusagi-bot/learning/prototype/resources/test_daikin_conversation.csv]\n",
      "CSV file for test=[/Users/makmorit/GitHub/donusagi-bot/learning/prototype/resources/test_benefitone_conversation.csv]\n",
      "CSV file for test=[/Users/makmorit/GitHub/donusagi-bot/learning/prototype/resources/test_septeni_conversation.csv]\n",
      "CSV file for test=[/Users/makmorit/GitHub/donusagi-bot/learning/prototype/resources/test_ptna_conversation.csv]\n"
     ]
    }
   ],
   "source": [
    "'''\n",
    "    データファイルは、既存の訓練データを別場所にコピーしてから使用します\n",
    "    テストデータは、csv_file_name で指定した複数件のファイルを使用します。\n",
    "'''\n",
    "csv_file_names = [\n",
    "    'test_daikin_conversation.csv',\n",
    "    'test_benefitone_conversation.csv',\n",
    "    'test_septeni_conversation.csv',\n",
    "    'test_ptna_conversation.csv',\n",
    "]\n",
    "temp_path = TestTool.copy_testdata_csv(learning_dir, csv_file_names)"
   ]
  },
  {
   "cell_type": "markdown",
   "metadata": {
    "deletable": true,
    "editable": true
   },
   "source": [
    "## (2) ロジスティック回帰でテスト\n",
    "\n",
    "上記４本のファイル別に、モデル選択(GridSearchCV.fit)--->評価(Evaluator.evaluate)の流れで実行させ、実行時間計測、およびaccuracy計測を行います。"
   ]
  },
  {
   "cell_type": "code",
   "execution_count": 3,
   "metadata": {
    "collapsed": false,
    "deletable": true,
    "editable": true
   },
   "outputs": [
    {
     "name": "stderr",
     "output_type": "stream",
     "text": [
      "/Library/Frameworks/Python.framework/Versions/3.5/lib/python3.5/site-packages/sklearn/cross_validation.py:44: DeprecationWarning: This module was deprecated in version 0.18 in favor of the model_selection module into which all the refactored classes and functions are moved. Also note that the interface of the new CV iterators are different from that of this module. This module will be removed in 0.20.\n",
      "  \"This module will be removed in 0.20.\", DeprecationWarning)\n",
      "/Library/Frameworks/Python.framework/Versions/3.5/lib/python3.5/site-packages/sklearn/grid_search.py:43: DeprecationWarning: This module was deprecated in version 0.18 in favor of the model_selection module into which all the refactored classes and functions are moved. This module will be removed in 0.20.\n",
      "  DeprecationWarning)\n"
     ]
    }
   ],
   "source": [
    "from time import time\n",
    "from sklearn.grid_search import GridSearchCV\n",
    "from sklearn.linear_model import LogisticRegression\n",
    "\n",
    "from learning.core.evaluator import Evaluator\n",
    "    \n",
    "def fit_and_cross_validation(path):\n",
    "    '''\n",
    "        訓練データのTF-IDFベクターを作成\n",
    "    '''\n",
    "    basename = os.path.basename(path)\n",
    "    print(\"prepare_tf_idf_vectors: dataset=%s...\" % basename)\n",
    "    t0 = time()\n",
    "\n",
    "    X, y, vectorizer = TestTool.prepare_tf_idf_vectors(path)\n",
    "    print(\"prepare_tf_idf_vectors: done in %0.3fs.\" % (time() - t0))\n",
    "\n",
    "    '''\n",
    "        訓練データ全体を使用して学習実施\n",
    "        プロダクションと同様、ハイパーパラメータの選択のために\n",
    "        グリッドサーチを使用します\n",
    "    '''\n",
    "    print(\"GridSearchCV: search and fitting...\")\n",
    "    t0 = time()\n",
    "\n",
    "    params = {'C': [10, 100, 140, 200]}\n",
    "    grid = GridSearchCV(LogisticRegression(), param_grid=params)\n",
    "    grid.fit(X, y)\n",
    "    estimator = grid.best_estimator_\n",
    "    print(\"GridSearchCV: done in %0.3fs.\" % (time() - t0))\n",
    "\n",
    "    ''' \n",
    "        クロスバリデーション（モデル評価フェーズ）を実施\n",
    "        プロダクションと同様、Evaluator クラスを使用して評価します\n",
    "        \n",
    "        Evaluator クラスで使用している cross_val_score 関数は、\n",
    "        引数の estimator により、\n",
    "        内部で fit, predict, predict_proba の各関数を実行しています。\n",
    "    '''\n",
    "    print(\"Evaluator: evaluating...\")\n",
    "    t0 = time()\n",
    "\n",
    "    evaluator = Evaluator()\n",
    "    evaluator.evaluate(estimator, X, y, threshold=0.5)\n",
    "    print(\"Evaluator: done in %0.3fs.\" % (time() - t0))\n",
    "    \n",
    "    return (basename, X, y, vectorizer, estimator, evaluator)"
   ]
  },
  {
   "cell_type": "code",
   "execution_count": 4,
   "metadata": {
    "collapsed": false,
    "deletable": true,
    "editable": true,
    "scrolled": false
   },
   "outputs": [
    {
     "name": "stdout",
     "output_type": "stream",
     "text": [
      "prepare_tf_idf_vectors: dataset=test_daikin_conversation.csv...\n"
     ]
    },
    {
     "name": "stderr",
     "output_type": "stream",
     "text": [
      "2017/04/04 PM 01:19:51 TrainingMessageFromCsv#__build_learning_training_messages count of learning data: 17443\n",
      "2017/04/04 PM 01:19:51 TextArray#__init__ start\n",
      "2017/04/04 PM 01:20:01 TextArray#to_vec start\n",
      "2017/04/04 PM 01:20:01 TextArray#to_vec end\n",
      "/Library/Frameworks/Python.framework/Versions/3.5/lib/python3.5/site-packages/sklearn/cross_validation.py:552: Warning: The least populated class in y has only 2 members, which is too few. The minimum number of labels for any class cannot be less than n_folds=3.\n",
      "  % (min_labels, self.n_folds)), Warning)\n"
     ]
    },
    {
     "name": "stdout",
     "output_type": "stream",
     "text": [
      "prepare_tf_idf_vectors: done in 10.615s.\n",
      "GridSearchCV: search and fitting...\n"
     ]
    },
    {
     "name": "stderr",
     "output_type": "stream",
     "text": [
      "2017/04/04 PM 01:23:32 self.threshold: 0.5\n"
     ]
    },
    {
     "name": "stdout",
     "output_type": "stream",
     "text": [
      "GridSearchCV: done in 210.984s.\n",
      "Evaluator: evaluating...\n"
     ]
    },
    {
     "name": "stderr",
     "output_type": "stream",
     "text": [
      "2017/04/04 PM 01:24:00 Evaluator#evaluate#elapsed time: 27862.889051 ms\n",
      "2017/04/04 PM 01:24:00 accuracy: 0.987161852361\n",
      "2017/04/04 PM 01:24:00 TrainingMessageFromCsv#__build_learning_training_messages count of learning data: 4114\n",
      "2017/04/04 PM 01:24:00 TextArray#__init__ start\n"
     ]
    },
    {
     "name": "stdout",
     "output_type": "stream",
     "text": [
      "0.987161852361\n",
      "Evaluator: done in 27.865s.\n",
      "prepare_tf_idf_vectors: dataset=test_benefitone_conversation.csv...\n"
     ]
    },
    {
     "name": "stderr",
     "output_type": "stream",
     "text": [
      "2017/04/04 PM 01:24:02 TextArray#to_vec start\n",
      "2017/04/04 PM 01:24:02 TextArray#to_vec end\n"
     ]
    },
    {
     "name": "stdout",
     "output_type": "stream",
     "text": [
      "prepare_tf_idf_vectors: done in 1.581s.\n",
      "GridSearchCV: search and fitting...\n"
     ]
    },
    {
     "name": "stderr",
     "output_type": "stream",
     "text": [
      "2017/04/04 PM 01:24:06 self.threshold: 0.5\n"
     ]
    },
    {
     "name": "stdout",
     "output_type": "stream",
     "text": [
      "GridSearchCV: done in 4.178s.\n",
      "Evaluator: evaluating...\n"
     ]
    },
    {
     "name": "stderr",
     "output_type": "stream",
     "text": [
      "2017/04/04 PM 01:24:06 Evaluator#evaluate#elapsed time: 398.459911 ms\n",
      "2017/04/04 PM 01:24:06 accuracy: 0.981553398058\n",
      "2017/04/04 PM 01:24:06 TrainingMessageFromCsv#__build_learning_training_messages count of learning data: 2156\n",
      "2017/04/04 PM 01:24:06 TextArray#__init__ start\n"
     ]
    },
    {
     "name": "stdout",
     "output_type": "stream",
     "text": [
      "0.981553398058\n",
      "Evaluator: done in 0.401s.\n",
      "prepare_tf_idf_vectors: dataset=test_septeni_conversation.csv...\n"
     ]
    },
    {
     "name": "stderr",
     "output_type": "stream",
     "text": [
      "2017/04/04 PM 01:24:07 TextArray#to_vec start\n",
      "2017/04/04 PM 01:24:07 TextArray#to_vec end\n",
      "/Library/Frameworks/Python.framework/Versions/3.5/lib/python3.5/site-packages/sklearn/cross_validation.py:552: Warning: The least populated class in y has only 2 members, which is too few. The minimum number of labels for any class cannot be less than n_folds=3.\n",
      "  % (min_labels, self.n_folds)), Warning)\n"
     ]
    },
    {
     "name": "stdout",
     "output_type": "stream",
     "text": [
      "prepare_tf_idf_vectors: done in 0.798s.\n",
      "GridSearchCV: search and fitting...\n"
     ]
    },
    {
     "name": "stderr",
     "output_type": "stream",
     "text": [
      "2017/04/04 PM 01:24:12 self.threshold: 0.5\n"
     ]
    },
    {
     "name": "stdout",
     "output_type": "stream",
     "text": [
      "GridSearchCV: done in 4.781s.\n",
      "Evaluator: evaluating...\n"
     ]
    },
    {
     "name": "stderr",
     "output_type": "stream",
     "text": [
      "2017/04/04 PM 01:24:12 Evaluator#evaluate#elapsed time: 410.978079 ms\n",
      "2017/04/04 PM 01:24:12 accuracy: 0.974074074074\n",
      "2017/04/04 PM 01:24:12 TrainingMessageFromCsv#__build_learning_training_messages count of learning data: 4559\n",
      "2017/04/04 PM 01:24:12 TextArray#__init__ start\n"
     ]
    },
    {
     "name": "stdout",
     "output_type": "stream",
     "text": [
      "0.974074074074\n",
      "Evaluator: done in 0.413s.\n",
      "prepare_tf_idf_vectors: dataset=test_ptna_conversation.csv...\n"
     ]
    },
    {
     "name": "stderr",
     "output_type": "stream",
     "text": [
      "2017/04/04 PM 01:24:14 TextArray#to_vec start\n",
      "2017/04/04 PM 01:24:14 TextArray#to_vec end\n"
     ]
    },
    {
     "name": "stdout",
     "output_type": "stream",
     "text": [
      "prepare_tf_idf_vectors: done in 1.867s.\n",
      "GridSearchCV: search and fitting...\n"
     ]
    },
    {
     "name": "stderr",
     "output_type": "stream",
     "text": [
      "2017/04/04 PM 01:24:19 self.threshold: 0.5\n"
     ]
    },
    {
     "name": "stdout",
     "output_type": "stream",
     "text": [
      "GridSearchCV: done in 4.521s.\n",
      "Evaluator: evaluating...\n"
     ]
    },
    {
     "name": "stderr",
     "output_type": "stream",
     "text": [
      "2017/04/04 PM 01:24:19 Evaluator#evaluate#elapsed time: 489.430904 ms\n",
      "2017/04/04 PM 01:24:19 accuracy: 0.973707274321\n"
     ]
    },
    {
     "name": "stdout",
     "output_type": "stream",
     "text": [
      "0.973707274321\n",
      "Evaluator: done in 0.492s.\n"
     ]
    }
   ],
   "source": [
    "list_of_classifiers = []\n",
    "for path in temp_path:\n",
    "    classifier = fit_and_cross_validation(path)\n",
    "    list_of_classifiers.append(classifier)"
   ]
  }
 ],
 "metadata": {
  "kernelspec": {
   "display_name": "Python 3",
   "language": "python",
   "name": "python3"
  },
  "language_info": {
   "codemirror_mode": {
    "name": "ipython",
    "version": 3
   },
   "file_extension": ".py",
   "mimetype": "text/x-python",
   "name": "python",
   "nbconvert_exporter": "python",
   "pygments_lexer": "ipython3",
   "version": "3.5.2"
  }
 },
 "nbformat": 4,
 "nbformat_minor": 2
}
