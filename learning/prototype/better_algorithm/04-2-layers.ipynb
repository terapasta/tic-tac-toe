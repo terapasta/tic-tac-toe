{
 "cells": [
  {
   "cell_type": "markdown",
   "metadata": {
    "deletable": true,
    "editable": true
   },
   "source": [
    "# ニューラルネットワークの動作確認（part 3）\n",
    "\n",
    "<a href=\"http://scikit-learn.org/dev/modules/generated/sklearn.neural_network.MLPClassifier.html#sklearn-neural-network-mlpclassifier\"><b>sklearn.neural_network.MLPClassifier</b></a> を使用します。\n",
    "\n",
    "条件を変えてみて動きを確認してみます。"
   ]
  },
  {
   "cell_type": "markdown",
   "metadata": {
    "deletable": true,
    "editable": true
   },
   "source": [
    "## (1) テストデータ／環境準備"
   ]
  },
  {
   "cell_type": "code",
   "execution_count": 1,
   "metadata": {
    "collapsed": false,
    "deletable": true,
    "editable": true
   },
   "outputs": [],
   "source": [
    "'''\n",
    "    テスト環境を準備するためのモジュールを使用します。\n",
    "'''\n",
    "import sys\n",
    "import os\n",
    "learning_dir = os.path.abspath(\"../../\") #<--- donusagi-bot/learning\n",
    "os.chdir(learning_dir)\n",
    "\n",
    "if learning_dir not in sys.path:\n",
    "    sys.path.append(learning_dir)\n",
    "\n",
    "from prototype.modules import TestTool"
   ]
  },
  {
   "cell_type": "markdown",
   "metadata": {
    "deletable": true,
    "editable": true
   },
   "source": [
    "### (1-1) テストデータをコピー"
   ]
  },
  {
   "cell_type": "code",
   "execution_count": 2,
   "metadata": {
    "collapsed": false,
    "deletable": true,
    "editable": true,
    "scrolled": false
   },
   "outputs": [
    {
     "name": "stdout",
     "output_type": "stream",
     "text": [
      "CSV file for test=[/Users/makmorit/GitHub/donusagi-bot/learning/prototype/resources/test_daikin_conversation.csv]\n",
      "CSV file for test=[/Users/makmorit/GitHub/donusagi-bot/learning/prototype/resources/test_benefitone_conversation.csv]\n",
      "CSV file for test=[/Users/makmorit/GitHub/donusagi-bot/learning/prototype/resources/test_septeni_conversation.csv]\n",
      "CSV file for test=[/Users/makmorit/GitHub/donusagi-bot/learning/prototype/resources/test_ptna_conversation.csv]\n"
     ]
    }
   ],
   "source": [
    "'''\n",
    "    データファイルは、既存の訓練データを別場所にコピーしてから使用します\n",
    "    テストデータは、csv_file_name で指定した複数件のファイルを使用します。\n",
    "'''\n",
    "csv_file_names = [\n",
    "    'test_daikin_conversation.csv',\n",
    "    'test_benefitone_conversation.csv',\n",
    "    'test_septeni_conversation.csv',\n",
    "    'test_ptna_conversation.csv',\n",
    "]\n",
    "temp_path = TestTool.copy_testdata_csv(learning_dir, csv_file_names)"
   ]
  },
  {
   "cell_type": "markdown",
   "metadata": {
    "deletable": true,
    "editable": true
   },
   "source": [
    "## (2) テストデータを変えつつ動作確認\n",
    "\n",
    "上記４本のファイル別に、学習(MLPClassifier.fit)--->評価(Evaluator.evaluate)の流れで実行させ、実行時間計測、およびaccuracy計測を行います。"
   ]
  },
  {
   "cell_type": "code",
   "execution_count": 3,
   "metadata": {
    "collapsed": false,
    "deletable": true,
    "editable": true
   },
   "outputs": [
    {
     "name": "stderr",
     "output_type": "stream",
     "text": [
      "/Library/Frameworks/Python.framework/Versions/3.5/lib/python3.5/site-packages/sklearn/cross_validation.py:44: DeprecationWarning: This module was deprecated in version 0.18 in favor of the model_selection module into which all the refactored classes and functions are moved. Also note that the interface of the new CV iterators are different from that of this module. This module will be removed in 0.20.\n",
      "  \"This module will be removed in 0.20.\", DeprecationWarning)\n"
     ]
    }
   ],
   "source": [
    "from time import time\n",
    "from sklearn.neural_network import MLPClassifier\n",
    "\n",
    "from learning.core.evaluator import Evaluator\n",
    "    \n",
    "def fit_and_cross_validation(path):\n",
    "    '''\n",
    "        訓練データのTF-IDFベクターを作成\n",
    "    '''\n",
    "    basename = os.path.basename(path)\n",
    "    print(\"prepare_tf_idf_vectors: dataset=%s...\" % basename)\n",
    "    t0 = time()\n",
    "\n",
    "    X, y, vectorizer = TestTool.prepare_tf_idf_vectors(path)\n",
    "    print(\"prepare_tf_idf_vectors: done in %0.3fs.\" % (time() - t0))\n",
    "\n",
    "    '''\n",
    "        訓練データ全体を使用して学習実施\n",
    "        レイヤーを2層に増やします\n",
    "        各レイヤーに100件ずつユニットを生成する設定\n",
    "    '''\n",
    "    print(\"MLPClassifier: fitting...\")\n",
    "    t0 = time()\n",
    "\n",
    "    cls = MLPClassifier(hidden_layer_sizes=(100,100), max_iter=1000,\n",
    "                        activation='logistic', shuffle=False, random_state=0)\n",
    "    cls.fit(X, y)\n",
    "    print(\"MLPClassifier: done in %0.3fs.\" % (time() - t0))\n",
    "\n",
    "    ''' \n",
    "        クロスバリデーション（モデル評価フェーズ）を実施\n",
    "        プロダクションと同様、Evaluator クラスを使用して評価します\n",
    "        \n",
    "        Evaluator クラスで使用している cross_val_score 関数は、\n",
    "        引数の estimator により、\n",
    "        内部で fit, predict, predict_proba の各関数を実行しています。\n",
    "    '''\n",
    "    print(\"Evaluator: evaluating...\")\n",
    "    t0 = time()\n",
    "\n",
    "    evaluator = Evaluator()\n",
    "    evaluator.evaluate(cls, X, y, threshold=0.5)\n",
    "    print(\"Evaluator: done in %0.3fs.\" % (time() - t0))\n",
    "    \n",
    "    return (basename, X, y, vectorizer, cls, evaluator)"
   ]
  },
  {
   "cell_type": "code",
   "execution_count": 4,
   "metadata": {
    "collapsed": false,
    "deletable": true,
    "editable": true,
    "scrolled": false
   },
   "outputs": [
    {
     "name": "stderr",
     "output_type": "stream",
     "text": [
      "2017/04/04 PM 02:38:30 TrainingMessageFromCsv#__build_learning_training_messages count of learning data: 17443\n",
      "2017/04/04 PM 02:38:30 TextArray#__init__ start\n"
     ]
    },
    {
     "name": "stdout",
     "output_type": "stream",
     "text": [
      "prepare_tf_idf_vectors: dataset=test_daikin_conversation.csv...\n"
     ]
    },
    {
     "name": "stderr",
     "output_type": "stream",
     "text": [
      "2017/04/04 PM 02:38:40 TextArray#to_vec start\n",
      "2017/04/04 PM 02:38:40 TextArray#to_vec end\n"
     ]
    },
    {
     "name": "stdout",
     "output_type": "stream",
     "text": [
      "prepare_tf_idf_vectors: done in 10.387s.\n",
      "MLPClassifier: fitting...\n"
     ]
    },
    {
     "name": "stderr",
     "output_type": "stream",
     "text": [
      "2017/04/04 PM 02:41:14 self.threshold: 0.5\n"
     ]
    },
    {
     "name": "stdout",
     "output_type": "stream",
     "text": [
      "MLPClassifier: done in 153.899s.\n",
      "Evaluator: evaluating...\n"
     ]
    },
    {
     "name": "stderr",
     "output_type": "stream",
     "text": [
      "2017/04/04 PM 02:43:39 Evaluator#evaluate#elapsed time: 144807.988882 ms\n",
      "2017/04/04 PM 02:43:39 accuracy: 0.983264557542\n",
      "2017/04/04 PM 02:43:39 TrainingMessageFromCsv#__build_learning_training_messages count of learning data: 4114\n",
      "2017/04/04 PM 02:43:39 TextArray#__init__ start\n"
     ]
    },
    {
     "name": "stdout",
     "output_type": "stream",
     "text": [
      "0.983264557542\n",
      "Evaluator: done in 144.811s.\n",
      "prepare_tf_idf_vectors: dataset=test_benefitone_conversation.csv...\n"
     ]
    },
    {
     "name": "stderr",
     "output_type": "stream",
     "text": [
      "2017/04/04 PM 02:43:40 TextArray#to_vec start\n",
      "2017/04/04 PM 02:43:40 TextArray#to_vec end\n"
     ]
    },
    {
     "name": "stdout",
     "output_type": "stream",
     "text": [
      "prepare_tf_idf_vectors: done in 1.718s.\n",
      "MLPClassifier: fitting...\n"
     ]
    },
    {
     "name": "stderr",
     "output_type": "stream",
     "text": [
      "2017/04/04 PM 02:43:59 self.threshold: 0.5\n"
     ]
    },
    {
     "name": "stdout",
     "output_type": "stream",
     "text": [
      "MLPClassifier: done in 18.614s.\n",
      "Evaluator: evaluating...\n"
     ]
    },
    {
     "name": "stderr",
     "output_type": "stream",
     "text": [
      "2017/04/04 PM 02:44:19 Evaluator#evaluate#elapsed time: 19930.174112 ms\n",
      "2017/04/04 PM 02:44:19 accuracy: 0.985436893204\n",
      "2017/04/04 PM 02:44:19 TrainingMessageFromCsv#__build_learning_training_messages count of learning data: 2156\n",
      "2017/04/04 PM 02:44:19 TextArray#__init__ start\n"
     ]
    },
    {
     "name": "stdout",
     "output_type": "stream",
     "text": [
      "0.985436893204\n",
      "Evaluator: done in 19.932s.\n",
      "prepare_tf_idf_vectors: dataset=test_septeni_conversation.csv...\n"
     ]
    },
    {
     "name": "stderr",
     "output_type": "stream",
     "text": [
      "2017/04/04 PM 02:44:20 TextArray#to_vec start\n",
      "2017/04/04 PM 02:44:20 TextArray#to_vec end\n"
     ]
    },
    {
     "name": "stdout",
     "output_type": "stream",
     "text": [
      "prepare_tf_idf_vectors: done in 0.831s.\n",
      "MLPClassifier: fitting...\n"
     ]
    },
    {
     "name": "stderr",
     "output_type": "stream",
     "text": [
      "2017/04/04 PM 02:44:35 self.threshold: 0.5\n"
     ]
    },
    {
     "name": "stdout",
     "output_type": "stream",
     "text": [
      "MLPClassifier: done in 15.652s.\n",
      "Evaluator: evaluating...\n"
     ]
    },
    {
     "name": "stderr",
     "output_type": "stream",
     "text": [
      "2017/04/04 PM 02:44:49 Evaluator#evaluate#elapsed time: 13751.178980 ms\n",
      "2017/04/04 PM 02:44:49 accuracy: 0.966666666667\n",
      "2017/04/04 PM 02:44:49 TrainingMessageFromCsv#__build_learning_training_messages count of learning data: 4559\n",
      "2017/04/04 PM 02:44:49 TextArray#__init__ start\n"
     ]
    },
    {
     "name": "stdout",
     "output_type": "stream",
     "text": [
      "0.966666666667\n",
      "Evaluator: done in 13.754s.\n",
      "prepare_tf_idf_vectors: dataset=test_ptna_conversation.csv...\n"
     ]
    },
    {
     "name": "stderr",
     "output_type": "stream",
     "text": [
      "2017/04/04 PM 02:44:51 TextArray#to_vec start\n",
      "2017/04/04 PM 02:44:51 TextArray#to_vec end\n"
     ]
    },
    {
     "name": "stdout",
     "output_type": "stream",
     "text": [
      "prepare_tf_idf_vectors: done in 2.079s.\n",
      "MLPClassifier: fitting...\n"
     ]
    },
    {
     "name": "stderr",
     "output_type": "stream",
     "text": [
      "2017/04/04 PM 02:45:05 self.threshold: 0.5\n"
     ]
    },
    {
     "name": "stdout",
     "output_type": "stream",
     "text": [
      "MLPClassifier: done in 13.676s.\n",
      "Evaluator: evaluating...\n"
     ]
    },
    {
     "name": "stderr",
     "output_type": "stream",
     "text": [
      "2017/04/04 PM 02:45:20 Evaluator#evaluate#elapsed time: 15504.337072 ms\n",
      "2017/04/04 PM 02:45:20 accuracy: 0.976336546889\n"
     ]
    },
    {
     "name": "stdout",
     "output_type": "stream",
     "text": [
      "0.976336546889\n",
      "Evaluator: done in 15.507s.\n"
     ]
    }
   ],
   "source": [
    "list_of_classifiers = []\n",
    "for path in temp_path:\n",
    "    classifier = fit_and_cross_validation(path)\n",
    "    list_of_classifiers.append(classifier)"
   ]
  }
 ],
 "metadata": {
  "kernelspec": {
   "display_name": "Python 3",
   "language": "python",
   "name": "python3"
  },
  "language_info": {
   "codemirror_mode": {
    "name": "ipython",
    "version": 3
   },
   "file_extension": ".py",
   "mimetype": "text/x-python",
   "name": "python",
   "nbconvert_exporter": "python",
   "pygments_lexer": "ipython3",
   "version": "3.5.2"
  }
 },
 "nbformat": 4,
 "nbformat_minor": 2
}
