{
 "cells": [
  {
   "cell_type": "markdown",
   "metadata": {
    "deletable": true,
    "editable": true
   },
   "source": [
    "# ニューラルネットワークの動作確認（part 4：参考ケース）\n",
    "\n",
    "<a href=\"http://scikit-learn.org/dev/modules/generated/sklearn.neural_network.MLPClassifier.html#sklearn-neural-network-mlpclassifier\"><b>sklearn.neural_network.MLPClassifier</b></a> を使用します。\n",
    "\n",
    "グリッドサーチにより、条件を変えてみて動きを確認してみます。\n",
    "\n",
    "この例では、グリッドサーチ内のクロスバリデーションにおいて、プロダクションと同じ<b>__accuracy_score 関数を使用</b>しております。\n",
    "\n",
    "この結果、<b><a href=\"05.ipynb\">デフォルトのグリッドサーチによる結果</a></b>とは、選択されたパラメータが異なってしまうことが確認されました。"
   ]
  },
  {
   "cell_type": "markdown",
   "metadata": {
    "deletable": true,
    "editable": true
   },
   "source": [
    "## (1) テストデータ／環境準備"
   ]
  },
  {
   "cell_type": "code",
   "execution_count": 1,
   "metadata": {
    "collapsed": false,
    "deletable": true,
    "editable": true
   },
   "outputs": [],
   "source": [
    "'''\n",
    "    テスト環境を準備するためのモジュールを使用します。\n",
    "'''\n",
    "import sys\n",
    "import os\n",
    "learning_dir = os.path.abspath(\"../../\") #<--- donusagi-bot/learning\n",
    "os.chdir(learning_dir)\n",
    "\n",
    "if learning_dir not in sys.path:\n",
    "    sys.path.append(learning_dir)\n",
    "\n",
    "from prototype.modules import TestTool"
   ]
  },
  {
   "cell_type": "markdown",
   "metadata": {
    "deletable": true,
    "editable": true
   },
   "source": [
    "### (1-1) テストデータをコピー"
   ]
  },
  {
   "cell_type": "code",
   "execution_count": 2,
   "metadata": {
    "collapsed": false,
    "deletable": true,
    "editable": true,
    "scrolled": false
   },
   "outputs": [
    {
     "name": "stdout",
     "output_type": "stream",
     "text": [
      "CSV file for test=[/Users/makmorit/GitHub/donusagi-bot/learning/prototype/resources/test_septeni_conversation.csv]\n"
     ]
    }
   ],
   "source": [
    "'''\n",
    "    データファイルは、既存の訓練データを別場所にコピーしてから使用します\n",
    "    テストデータは、csv_file_name で指定した複数件のファイルを使用します。\n",
    "'''\n",
    "csv_file_names = [\n",
    "    #'test_daikin_conversation.csv',\n",
    "    #'test_benefitone_conversation.csv',\n",
    "    'test_septeni_conversation.csv',\n",
    "    #'test_ptna_conversation.csv',\n",
    "]\n",
    "temp_path = TestTool.copy_testdata_csv(learning_dir, csv_file_names)"
   ]
  },
  {
   "cell_type": "markdown",
   "metadata": {
    "deletable": true,
    "editable": true
   },
   "source": [
    "## (2) グリッドサーチ\n",
    "\n",
    "学習(GridSearchCV.fit)--->評価(Evaluator.evaluate)の流れで実行させ、実行時間計測、およびaccuracy計測を行います。"
   ]
  },
  {
   "cell_type": "code",
   "execution_count": 3,
   "metadata": {
    "collapsed": false,
    "deletable": true,
    "editable": true,
    "scrolled": false
   },
   "outputs": [
    {
     "name": "stderr",
     "output_type": "stream",
     "text": [
      "/Library/Frameworks/Python.framework/Versions/3.5/lib/python3.5/site-packages/sklearn/cross_validation.py:44: DeprecationWarning: This module was deprecated in version 0.18 in favor of the model_selection module into which all the refactored classes and functions are moved. Also note that the interface of the new CV iterators are different from that of this module. This module will be removed in 0.20.\n",
      "  \"This module will be removed in 0.20.\", DeprecationWarning)\n",
      "/Library/Frameworks/Python.framework/Versions/3.5/lib/python3.5/site-packages/sklearn/grid_search.py:43: DeprecationWarning: This module was deprecated in version 0.18 in favor of the model_selection module into which all the refactored classes and functions are moved. This module will be removed in 0.20.\n",
      "  DeprecationWarning)\n"
     ]
    }
   ],
   "source": [
    "from time import time\n",
    "import numpy as np\n",
    "\n",
    "from sklearn.grid_search import GridSearchCV\n",
    "from sklearn.neural_network import MLPClassifier\n",
    "\n",
    "from learning.core.evaluator import Evaluator\n",
    "\n",
    "def fit_and_cross_validation(path):\n",
    "    '''\n",
    "        訓練データのTF-IDFベクターを作成\n",
    "    '''\n",
    "    basename = os.path.basename(path)\n",
    "    print(\"prepare_tf_idf_vectors: dataset=%s...\" % basename)\n",
    "    t0 = time()\n",
    "\n",
    "    X, y, vectorizer = TestTool.prepare_tf_idf_vectors(path)\n",
    "    print(\"prepare_tf_idf_vectors: done in %0.3fs.\" % (time() - t0))\n",
    "\n",
    "    '''\n",
    "        訓練データ全体を使用して学習実施\n",
    "        プロダクションと同様、ハイパーパラメータの選択のために\n",
    "        グリッドサーチを使用します\n",
    "        \n",
    "        ハイパーパラメータとして、レイヤー／ユニット数を採用\n",
    "            レイヤー数：デフォルトの1層から、4層まで変化させます\n",
    "            ユニット数：デフォルト100／その半分50／その倍200の３通り\n",
    "    '''\n",
    "    print(\"GridSearchCV: search and fitting...\")\n",
    "    t0 = time()\n",
    "\n",
    "    params = {\n",
    "        'hidden_layer_sizes': [\n",
    "            (50,),(100,),(200,), # 1層\n",
    "            (50,50,),(100,100,),(200,200,), # 2層\n",
    "            (50,50,50,),(100,100,100,),(200,200,200,), # 3層\n",
    "            (50,50,50,50,),(100,100,100,100,),(200,200,200,200,), # 4層\n",
    "        ]\n",
    "    }\n",
    "\n",
    "    grid = GridSearchCV(\n",
    "        MLPClassifier(activation='logistic', max_iter=10000, shuffle=False, random_state=0), \n",
    "        param_grid=params,\n",
    "        scoring=__accuracy_score\n",
    "    )\n",
    "    grid.fit(X, y)\n",
    "    estimator = grid.best_estimator_\n",
    "    print(\"GridSearchCV: done in %0.3fs.\" % (time() - t0))\n",
    "\n",
    "    ''' \n",
    "        クロスバリデーション（モデル評価フェーズ）を実施\n",
    "        プロダクションと同様、Evaluator クラスを使用して評価します\n",
    "        \n",
    "        Evaluator クラスで使用している cross_val_score 関数は、\n",
    "        引数の estimator により、\n",
    "        内部で fit, predict, predict_proba の各関数を実行しています。\n",
    "    '''\n",
    "    print(\"Evaluator: evaluating...\")\n",
    "    t0 = time()\n",
    "\n",
    "    evaluator = Evaluator()\n",
    "    evaluator.evaluate(estimator, X, y, threshold=0.5)\n",
    "    print(\"Evaluator: done in %0.3fs.\" % (time() - t0))\n",
    "    \n",
    "    return (basename, X, y, vectorizer, estimator, evaluator)\n",
    "\n",
    "def __accuracy_score(estimator, X, y):\n",
    "    '''\n",
    "        グリッドサーチ用のスコアリング関数。\n",
    "        \n",
    "        プロダクションの Evaluator クラス内で使用しているものと、\n",
    "        同じものを採用して評価します。\n",
    "        （すなわちプロダクション・コードからそのまま拝借・・・）\n",
    "    '''\n",
    "    y_pred = estimator.predict(X)\n",
    "    probabilities = estimator.predict_proba(X)\n",
    "    max_probabilities = np.max(probabilities, axis=1)\n",
    "\n",
    "    # 予測結果と実際を比較\n",
    "    bools = y == y_pred\n",
    "    # しきい値を超えているもののみをTrueにする\n",
    "    bools = bools == (max_probabilities > 0.5)\n",
    "    # 正当率を算出\n",
    "    score = np.sum(bools) / np.size(bools, axis=0)\n",
    "\n",
    "    '''\n",
    "        ここだけカスタマイズしています。ご容赦ください\n",
    "    '''\n",
    "    params = estimator.get_params()\n",
    "    print(\"__accuracy_score: hidden_layer_sizes=%s, accuracy=%0.6f (iterated=%d, loss=%0.6f)\" % (\n",
    "        str(params['hidden_layer_sizes']), \n",
    "        score, \n",
    "        estimator.n_iter_, \n",
    "        estimator.loss_\n",
    "    ))\n",
    "\n",
    "    return score\n"
   ]
  },
  {
   "cell_type": "markdown",
   "metadata": {
    "deletable": true,
    "editable": true
   },
   "source": [
    "### (2-1) グリッドサーチ実行"
   ]
  },
  {
   "cell_type": "markdown",
   "metadata": {
    "deletable": true,
    "editable": true
   },
   "source": [
    "同じレイヤー／ユニット数の組み合わせのテストが３回繰り返されているのは、GridSearchCVの仕様（内部で 3-fold クロスバリデーションを実行）による挙動です。"
   ]
  },
  {
   "cell_type": "code",
   "execution_count": 4,
   "metadata": {
    "collapsed": false,
    "deletable": true,
    "editable": true,
    "scrolled": false
   },
   "outputs": [
    {
     "name": "stderr",
     "output_type": "stream",
     "text": [
      "2017/04/05 PM 01:01:41 TrainingMessageFromCsv#__build_learning_training_messages count of learning data: 2156\n",
      "2017/04/05 PM 01:01:41 TextArray#__init__ start\n"
     ]
    },
    {
     "name": "stdout",
     "output_type": "stream",
     "text": [
      "prepare_tf_idf_vectors: dataset=test_septeni_conversation.csv...\n"
     ]
    },
    {
     "name": "stderr",
     "output_type": "stream",
     "text": [
      "2017/04/05 PM 01:01:41 TextArray#to_vec start\n",
      "2017/04/05 PM 01:01:41 TextArray#to_vec end\n",
      "/Library/Frameworks/Python.framework/Versions/3.5/lib/python3.5/site-packages/sklearn/cross_validation.py:552: Warning: The least populated class in y has only 2 members, which is too few. The minimum number of labels for any class cannot be less than n_folds=3.\n",
      "  % (min_labels, self.n_folds)), Warning)\n"
     ]
    },
    {
     "name": "stdout",
     "output_type": "stream",
     "text": [
      "prepare_tf_idf_vectors: done in 0.798s.\n",
      "GridSearchCV: search and fitting...\n",
      "__accuracy_score: hidden_layer_sizes=(50,), accuracy=0.985879 (iterated=779, loss=0.058592)\n",
      "__accuracy_score: hidden_layer_sizes=(50,), accuracy=0.983170 (iterated=716, loss=0.064008)\n",
      "__accuracy_score: hidden_layer_sizes=(50,), accuracy=0.983508 (iterated=700, loss=0.056659)\n",
      "__accuracy_score: hidden_layer_sizes=(100,), accuracy=0.987163 (iterated=603, loss=0.058811)\n",
      "__accuracy_score: hidden_layer_sizes=(100,), accuracy=0.973352 (iterated=530, loss=0.067105)\n",
      "__accuracy_score: hidden_layer_sizes=(100,), accuracy=0.982009 (iterated=559, loss=0.055140)\n",
      "__accuracy_score: hidden_layer_sizes=(200,), accuracy=0.987163 (iterated=470, loss=0.061422)\n",
      "__accuracy_score: hidden_layer_sizes=(200,), accuracy=0.971950 (iterated=417, loss=0.069171)\n",
      "__accuracy_score: hidden_layer_sizes=(200,), accuracy=0.983508 (iterated=440, loss=0.057709)\n",
      "__accuracy_score: hidden_layer_sizes=(50, 50), accuracy=0.988447 (iterated=764, loss=0.052370)\n",
      "__accuracy_score: hidden_layer_sizes=(50, 50), accuracy=0.987377 (iterated=702, loss=0.057672)\n",
      "__accuracy_score: hidden_layer_sizes=(50, 50), accuracy=0.982009 (iterated=639, loss=0.057119)\n",
      "__accuracy_score: hidden_layer_sizes=(100, 100), accuracy=0.987163 (iterated=509, loss=0.050360)\n",
      "__accuracy_score: hidden_layer_sizes=(100, 100), accuracy=0.980365 (iterated=437, loss=0.060424)\n",
      "__accuracy_score: hidden_layer_sizes=(100, 100), accuracy=0.985007 (iterated=443, loss=0.049949)\n",
      "__accuracy_score: hidden_layer_sizes=(200, 200), accuracy=0.987163 (iterated=316, loss=0.057386)\n",
      "__accuracy_score: hidden_layer_sizes=(200, 200), accuracy=0.983170 (iterated=291, loss=0.063299)\n",
      "__accuracy_score: hidden_layer_sizes=(200, 200), accuracy=0.980510 (iterated=291, loss=0.055417)\n",
      "__accuracy_score: hidden_layer_sizes=(50, 50, 50), accuracy=0.980745 (iterated=1940, loss=0.098187)\n",
      "__accuracy_score: hidden_layer_sizes=(50, 50, 50), accuracy=0.922861 (iterated=1572, loss=0.258417)\n",
      "__accuracy_score: hidden_layer_sizes=(50, 50, 50), accuracy=0.932534 (iterated=1430, loss=0.167547)\n",
      "__accuracy_score: hidden_layer_sizes=(100, 100, 100), accuracy=0.988447 (iterated=534, loss=0.061851)\n",
      "__accuracy_score: hidden_layer_sizes=(100, 100, 100), accuracy=0.970547 (iterated=21, loss=4.883903)\n",
      "__accuracy_score: hidden_layer_sizes=(100, 100, 100), accuracy=0.982009 (iterated=464, loss=0.070433)\n",
      "__accuracy_score: hidden_layer_sizes=(200, 200, 200), accuracy=0.971759 (iterated=13, loss=4.862045)\n",
      "__accuracy_score: hidden_layer_sizes=(200, 200, 200), accuracy=0.970547 (iterated=13, loss=4.888757)\n",
      "__accuracy_score: hidden_layer_sizes=(200, 200, 200), accuracy=0.968516 (iterated=9, loss=4.905098)\n",
      "__accuracy_score: hidden_layer_sizes=(50, 50, 50, 50), accuracy=0.971759 (iterated=20, loss=4.857442)\n",
      "__accuracy_score: hidden_layer_sizes=(50, 50, 50, 50), accuracy=0.970547 (iterated=23, loss=4.883457)\n",
      "__accuracy_score: hidden_layer_sizes=(50, 50, 50, 50), accuracy=0.968516 (iterated=18, loss=4.900384)\n",
      "__accuracy_score: hidden_layer_sizes=(100, 100, 100, 100), accuracy=0.971759 (iterated=17, loss=4.859786)\n",
      "__accuracy_score: hidden_layer_sizes=(100, 100, 100, 100), accuracy=0.970547 (iterated=23, loss=4.886042)\n",
      "__accuracy_score: hidden_layer_sizes=(100, 100, 100, 100), accuracy=0.968516 (iterated=14, loss=4.901974)\n",
      "__accuracy_score: hidden_layer_sizes=(200, 200, 200, 200), accuracy=0.971759 (iterated=13, loss=4.862668)\n",
      "__accuracy_score: hidden_layer_sizes=(200, 200, 200, 200), accuracy=0.970547 (iterated=10, loss=4.892415)\n",
      "__accuracy_score: hidden_layer_sizes=(200, 200, 200, 200), accuracy=0.968516 (iterated=14, loss=4.905696)\n"
     ]
    },
    {
     "name": "stderr",
     "output_type": "stream",
     "text": [
      "2017/04/05 PM 01:09:19 self.threshold: 0.5\n"
     ]
    },
    {
     "name": "stdout",
     "output_type": "stream",
     "text": [
      "GridSearchCV: done in 457.357s.\n",
      "Evaluator: evaluating...\n"
     ]
    },
    {
     "name": "stderr",
     "output_type": "stream",
     "text": [
      "2017/04/05 PM 01:09:36 Evaluator#evaluate#elapsed time: 17244.342089 ms\n",
      "2017/04/05 PM 01:09:36 accuracy: 0.972222222222\n"
     ]
    },
    {
     "name": "stdout",
     "output_type": "stream",
     "text": [
      "0.972222222222\n",
      "Evaluator: done in 17.247s.\n"
     ]
    }
   ],
   "source": [
    "list_of_classifiers = []\n",
    "for path in temp_path:\n",
    "    classifier = fit_and_cross_validation(path)\n",
    "    list_of_classifiers.append(classifier)"
   ]
  },
  {
   "cell_type": "markdown",
   "metadata": {
    "deletable": true,
    "editable": true
   },
   "source": [
    "### (2-2) 選択されたモデルを確認\n",
    "\n",
    "<b><a href=\"05.ipynb\">デフォルトのグリッドサーチによる結果</a></b>とは、異なっていることが確認されました。\n",
    "\n",
    "（プロダクションの __accuracy_score 関数 ではなく、MLPClassifier.score 関数が使用される影響と推測しています）"
   ]
  },
  {
   "cell_type": "code",
   "execution_count": 5,
   "metadata": {
    "collapsed": false,
    "deletable": true,
    "editable": true
   },
   "outputs": [
    {
     "name": "stdout",
     "output_type": "stream",
     "text": [
      "[test_septeni_conversation.csv] best parameter: hidden_layer_sizes=(50, 50), accuracy=0.972222\n"
     ]
    }
   ],
   "source": [
    "for classifier in list_of_classifiers:\n",
    "    basename, X, y, vectorizer, estimator, evaluator = classifier\n",
    "    params = estimator.get_params()\n",
    "\n",
    "    print('[%s] best parameter: hidden_layer_sizes=%s, accuracy=%0.6f' % (\n",
    "        basename, str(params['hidden_layer_sizes']), evaluator.accuracy\n",
    "    ))"
   ]
  }
 ],
 "metadata": {
  "kernelspec": {
   "display_name": "Python 3",
   "language": "python",
   "name": "python3"
  },
  "language_info": {
   "codemirror_mode": {
    "name": "ipython",
    "version": 3
   },
   "file_extension": ".py",
   "mimetype": "text/x-python",
   "name": "python",
   "nbconvert_exporter": "python",
   "pygments_lexer": "ipython3",
   "version": "3.5.2"
  }
 },
 "nbformat": 4,
 "nbformat_minor": 2
}
