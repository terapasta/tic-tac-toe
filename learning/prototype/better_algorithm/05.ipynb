{
 "cells": [
  {
   "cell_type": "markdown",
   "metadata": {
    "deletable": true,
    "editable": true
   },
   "source": [
    "# ニューラルネットワークの動作確認（part 4）\n",
    "\n",
    "<a href=\"http://scikit-learn.org/dev/modules/generated/sklearn.neural_network.MLPClassifier.html#sklearn-neural-network-mlpclassifier\"><b>sklearn.neural_network.MLPClassifier</b></a> を使用します。\n",
    "\n",
    "グリッドサーチにより、条件を変えてみて動きを確認してみます。"
   ]
  },
  {
   "cell_type": "markdown",
   "metadata": {
    "deletable": true,
    "editable": true
   },
   "source": [
    "## (1) テストデータ／環境準備"
   ]
  },
  {
   "cell_type": "code",
   "execution_count": 1,
   "metadata": {
    "collapsed": false,
    "deletable": true,
    "editable": true
   },
   "outputs": [],
   "source": [
    "'''\n",
    "    テスト環境を準備するためのモジュールを使用します。\n",
    "'''\n",
    "import sys\n",
    "import os\n",
    "learning_dir = os.path.abspath(\"../../\") #<--- donusagi-bot/learning\n",
    "os.chdir(learning_dir)\n",
    "\n",
    "if learning_dir not in sys.path:\n",
    "    sys.path.append(learning_dir)\n",
    "\n",
    "from prototype.modules import TestTool"
   ]
  },
  {
   "cell_type": "markdown",
   "metadata": {
    "deletable": true,
    "editable": true
   },
   "source": [
    "### (1-1) テストデータをコピー"
   ]
  },
  {
   "cell_type": "code",
   "execution_count": 2,
   "metadata": {
    "collapsed": false,
    "deletable": true,
    "editable": true,
    "scrolled": false
   },
   "outputs": [
    {
     "name": "stdout",
     "output_type": "stream",
     "text": [
      "CSV file for test=[/Users/makmorit/GitHub/donusagi-bot/learning/prototype/resources/test_daikin_conversation.csv]\n",
      "CSV file for test=[/Users/makmorit/GitHub/donusagi-bot/learning/prototype/resources/test_benefitone_conversation.csv]\n",
      "CSV file for test=[/Users/makmorit/GitHub/donusagi-bot/learning/prototype/resources/test_septeni_conversation.csv]\n",
      "CSV file for test=[/Users/makmorit/GitHub/donusagi-bot/learning/prototype/resources/test_ptna_conversation.csv]\n"
     ]
    }
   ],
   "source": [
    "'''\n",
    "    データファイルは、既存の訓練データを別場所にコピーしてから使用します\n",
    "    テストデータは、csv_file_name で指定した複数件のファイルを使用します。\n",
    "'''\n",
    "csv_file_names = [\n",
    "    'test_daikin_conversation.csv',\n",
    "    'test_benefitone_conversation.csv',\n",
    "    'test_septeni_conversation.csv',\n",
    "    'test_ptna_conversation.csv',\n",
    "]\n",
    "temp_path = TestTool.copy_testdata_csv(learning_dir, csv_file_names)"
   ]
  },
  {
   "cell_type": "markdown",
   "metadata": {
    "deletable": true,
    "editable": true
   },
   "source": [
    "## (2) グリッドサーチ\n",
    "\n",
    "学習(GridSearchCV.fit)--->評価(Evaluator.evaluate)の流れで実行させ、実行時間計測、およびaccuracy計測を行います。"
   ]
  },
  {
   "cell_type": "code",
   "execution_count": 3,
   "metadata": {
    "collapsed": false,
    "deletable": true,
    "editable": true,
    "scrolled": false
   },
   "outputs": [
    {
     "name": "stderr",
     "output_type": "stream",
     "text": [
      "/Library/Frameworks/Python.framework/Versions/3.5/lib/python3.5/site-packages/sklearn/cross_validation.py:44: DeprecationWarning: This module was deprecated in version 0.18 in favor of the model_selection module into which all the refactored classes and functions are moved. Also note that the interface of the new CV iterators are different from that of this module. This module will be removed in 0.20.\n",
      "  \"This module will be removed in 0.20.\", DeprecationWarning)\n",
      "/Library/Frameworks/Python.framework/Versions/3.5/lib/python3.5/site-packages/sklearn/grid_search.py:43: DeprecationWarning: This module was deprecated in version 0.18 in favor of the model_selection module into which all the refactored classes and functions are moved. This module will be removed in 0.20.\n",
      "  DeprecationWarning)\n"
     ]
    }
   ],
   "source": [
    "from time import time\n",
    "import numpy as np\n",
    "\n",
    "from sklearn.grid_search import GridSearchCV\n",
    "from sklearn.neural_network import MLPClassifier\n",
    "\n",
    "from learning.core.evaluator import Evaluator\n",
    "\n",
    "def fit_and_cross_validation(path):\n",
    "    '''\n",
    "        訓練データのTF-IDFベクターを作成\n",
    "    '''\n",
    "    basename = os.path.basename(path)\n",
    "    print(\"prepare_tf_idf_vectors: dataset=%s...\" % basename)\n",
    "    t0 = time()\n",
    "\n",
    "    X, y, vectorizer = TestTool.prepare_tf_idf_vectors(path)\n",
    "    print(\"prepare_tf_idf_vectors: done in %0.3fs.\" % (time() - t0))\n",
    "\n",
    "    '''\n",
    "        訓練データ全体を使用して学習実施\n",
    "        プロダクションと同様、ハイパーパラメータの選択のために\n",
    "        グリッドサーチを使用します\n",
    "        \n",
    "        ハイパーパラメータとして、レイヤー／ユニット数を採用\n",
    "            レイヤー数：デフォルトの1層から、4層まで変化させます\n",
    "            ユニット数：デフォルト100／その半分50／その倍200の３通り\n",
    "    '''\n",
    "    print(\"GridSearchCV: search and fitting...\")\n",
    "    t0 = time()\n",
    "\n",
    "    params = {\n",
    "        'hidden_layer_sizes': [\n",
    "            (50,),(100,),(200,), # 1層\n",
    "            (50,50,),(100,100,),(200,200,), # 2層\n",
    "            (50,50,50,),(100,100,100,),(200,200,200,), # 3層\n",
    "            (50,50,50,50,),(100,100,100,100,),(200,200,200,200,), # 4層\n",
    "        ]\n",
    "    }\n",
    "\n",
    "    grid = GridSearchCV(\n",
    "        MLPClassifier(activation='logistic', max_iter=10000, shuffle=False, random_state=0), \n",
    "        param_grid=params\n",
    "    )\n",
    "    grid.fit(X, y)\n",
    "    estimator = grid.best_estimator_\n",
    "    print(\"GridSearchCV: done in %0.3fs.\" % (time() - t0))\n",
    "\n",
    "    ''' \n",
    "        クロスバリデーション（モデル評価フェーズ）を実施\n",
    "        プロダクションと同様、Evaluator クラスを使用して評価します\n",
    "        \n",
    "        Evaluator クラスで使用している cross_val_score 関数は、\n",
    "        引数の estimator により、\n",
    "        内部で fit, predict, predict_proba の各関数を実行しています。\n",
    "    '''\n",
    "    print(\"Evaluator: evaluating...\")\n",
    "    t0 = time()\n",
    "\n",
    "    evaluator = Evaluator()\n",
    "    evaluator.evaluate(estimator, X, y, threshold=0.5)\n",
    "    print(\"Evaluator: done in %0.3fs.\" % (time() - t0))\n",
    "    \n",
    "    return (basename, X, y, vectorizer, estimator, evaluator)"
   ]
  },
  {
   "cell_type": "markdown",
   "metadata": {
    "deletable": true,
    "editable": true
   },
   "source": [
    "### (2-1) グリッドサーチ実行"
   ]
  },
  {
   "cell_type": "markdown",
   "metadata": {
    "deletable": true,
    "editable": true
   },
   "source": [
    "所要時間を計測しました。\n",
    "\n",
    "- test_daikin_conversation.csv：data=17,443件、GridSearchCV=9042s、Evaluator＝145s\n",
    "\n",
    "- test_benefitone_conversation.csv：data=4,114件、GridSearchCV=691s、Evaluator＝18s\n",
    "\n",
    "- test_septeni_conversation.csv：data=2,156件、GridSearchCV=441s、Evaluator＝13s\n",
    "\n",
    "- test_ptna_conversation.csv：data=4,559件、GridSearchCV=414s、Evaluator＝13s\n"
   ]
  },
  {
   "cell_type": "code",
   "execution_count": 4,
   "metadata": {
    "collapsed": false,
    "deletable": true,
    "editable": true,
    "scrolled": false
   },
   "outputs": [
    {
     "name": "stderr",
     "output_type": "stream",
     "text": [
      "2017/04/05 PM 01:26:02 TrainingMessageFromCsv#__build_learning_training_messages count of learning data: 17443\n",
      "2017/04/05 PM 01:26:02 TextArray#__init__ start\n"
     ]
    },
    {
     "name": "stdout",
     "output_type": "stream",
     "text": [
      "prepare_tf_idf_vectors: dataset=test_daikin_conversation.csv...\n"
     ]
    },
    {
     "name": "stderr",
     "output_type": "stream",
     "text": [
      "2017/04/05 PM 01:26:12 TextArray#to_vec start\n",
      "2017/04/05 PM 01:26:13 TextArray#to_vec end\n",
      "/Library/Frameworks/Python.framework/Versions/3.5/lib/python3.5/site-packages/sklearn/cross_validation.py:552: Warning: The least populated class in y has only 2 members, which is too few. The minimum number of labels for any class cannot be less than n_folds=3.\n",
      "  % (min_labels, self.n_folds)), Warning)\n"
     ]
    },
    {
     "name": "stdout",
     "output_type": "stream",
     "text": [
      "prepare_tf_idf_vectors: done in 10.915s.\n",
      "GridSearchCV: search and fitting...\n"
     ]
    },
    {
     "name": "stderr",
     "output_type": "stream",
     "text": [
      "2017/04/05 PM 03:56:54 self.threshold: 0.5\n"
     ]
    },
    {
     "name": "stdout",
     "output_type": "stream",
     "text": [
      "GridSearchCV: done in 9041.691s.\n",
      "Evaluator: evaluating...\n"
     ]
    },
    {
     "name": "stderr",
     "output_type": "stream",
     "text": [
      "2017/04/05 PM 03:59:19 Evaluator#evaluate#elapsed time: 144640.377998 ms\n",
      "2017/04/05 PM 03:59:19 accuracy: 0.985557083906\n",
      "2017/04/05 PM 03:59:19 TrainingMessageFromCsv#__build_learning_training_messages count of learning data: 4114\n",
      "2017/04/05 PM 03:59:19 TextArray#__init__ start\n"
     ]
    },
    {
     "name": "stdout",
     "output_type": "stream",
     "text": [
      "0.985557083906\n",
      "Evaluator: done in 144.643s.\n",
      "prepare_tf_idf_vectors: dataset=test_benefitone_conversation.csv...\n"
     ]
    },
    {
     "name": "stderr",
     "output_type": "stream",
     "text": [
      "2017/04/05 PM 03:59:21 TextArray#to_vec start\n",
      "2017/04/05 PM 03:59:21 TextArray#to_vec end\n"
     ]
    },
    {
     "name": "stdout",
     "output_type": "stream",
     "text": [
      "prepare_tf_idf_vectors: done in 1.603s.\n",
      "GridSearchCV: search and fitting...\n"
     ]
    },
    {
     "name": "stderr",
     "output_type": "stream",
     "text": [
      "2017/04/05 PM 04:10:52 self.threshold: 0.5\n"
     ]
    },
    {
     "name": "stdout",
     "output_type": "stream",
     "text": [
      "GridSearchCV: done in 690.927s.\n",
      "Evaluator: evaluating...\n"
     ]
    },
    {
     "name": "stderr",
     "output_type": "stream",
     "text": [
      "2017/04/05 PM 04:11:10 Evaluator#evaluate#elapsed time: 18425.446987 ms\n",
      "2017/04/05 PM 04:11:10 accuracy: 0.985436893204\n",
      "2017/04/05 PM 04:11:10 TrainingMessageFromCsv#__build_learning_training_messages count of learning data: 2156\n",
      "2017/04/05 PM 04:11:10 TextArray#__init__ start\n"
     ]
    },
    {
     "name": "stdout",
     "output_type": "stream",
     "text": [
      "0.985436893204\n",
      "Evaluator: done in 18.428s.\n",
      "prepare_tf_idf_vectors: dataset=test_septeni_conversation.csv...\n"
     ]
    },
    {
     "name": "stderr",
     "output_type": "stream",
     "text": [
      "2017/04/05 PM 04:11:11 TextArray#to_vec start\n",
      "2017/04/05 PM 04:11:11 TextArray#to_vec end\n",
      "/Library/Frameworks/Python.framework/Versions/3.5/lib/python3.5/site-packages/sklearn/cross_validation.py:552: Warning: The least populated class in y has only 2 members, which is too few. The minimum number of labels for any class cannot be less than n_folds=3.\n",
      "  % (min_labels, self.n_folds)), Warning)\n"
     ]
    },
    {
     "name": "stdout",
     "output_type": "stream",
     "text": [
      "prepare_tf_idf_vectors: done in 0.783s.\n",
      "GridSearchCV: search and fitting...\n"
     ]
    },
    {
     "name": "stderr",
     "output_type": "stream",
     "text": [
      "2017/04/05 PM 04:18:31 self.threshold: 0.5\n"
     ]
    },
    {
     "name": "stdout",
     "output_type": "stream",
     "text": [
      "GridSearchCV: done in 440.645s.\n",
      "Evaluator: evaluating...\n"
     ]
    },
    {
     "name": "stderr",
     "output_type": "stream",
     "text": [
      "2017/04/05 PM 04:18:45 Evaluator#evaluate#elapsed time: 13190.227032 ms\n",
      "2017/04/05 PM 04:18:45 accuracy: 0.974074074074\n",
      "2017/04/05 PM 04:18:45 TrainingMessageFromCsv#__build_learning_training_messages count of learning data: 4559\n",
      "2017/04/05 PM 04:18:45 TextArray#__init__ start\n"
     ]
    },
    {
     "name": "stdout",
     "output_type": "stream",
     "text": [
      "0.974074074074\n",
      "Evaluator: done in 13.193s.\n",
      "prepare_tf_idf_vectors: dataset=test_ptna_conversation.csv...\n"
     ]
    },
    {
     "name": "stderr",
     "output_type": "stream",
     "text": [
      "2017/04/05 PM 04:18:46 TextArray#to_vec start\n",
      "2017/04/05 PM 04:18:46 TextArray#to_vec end\n"
     ]
    },
    {
     "name": "stdout",
     "output_type": "stream",
     "text": [
      "prepare_tf_idf_vectors: done in 1.820s.\n",
      "GridSearchCV: search and fitting...\n"
     ]
    },
    {
     "name": "stderr",
     "output_type": "stream",
     "text": [
      "2017/04/05 PM 04:25:41 self.threshold: 0.5\n"
     ]
    },
    {
     "name": "stdout",
     "output_type": "stream",
     "text": [
      "GridSearchCV: done in 414.226s.\n",
      "Evaluator: evaluating...\n"
     ]
    },
    {
     "name": "stderr",
     "output_type": "stream",
     "text": [
      "2017/04/05 PM 04:25:54 Evaluator#evaluate#elapsed time: 13486.329794 ms\n",
      "2017/04/05 PM 04:25:54 accuracy: 0.978965819457\n"
     ]
    },
    {
     "name": "stdout",
     "output_type": "stream",
     "text": [
      "0.978965819457\n",
      "Evaluator: done in 13.489s.\n"
     ]
    }
   ],
   "source": [
    "list_of_classifiers = []\n",
    "for path in temp_path:\n",
    "    classifier = fit_and_cross_validation(path)\n",
    "    list_of_classifiers.append(classifier)"
   ]
  },
  {
   "cell_type": "markdown",
   "metadata": {
    "deletable": true,
    "editable": true
   },
   "source": [
    "### (2-2) 選択されたモデルを確認"
   ]
  },
  {
   "cell_type": "code",
   "execution_count": 5,
   "metadata": {
    "collapsed": false,
    "deletable": true,
    "editable": true,
    "scrolled": true
   },
   "outputs": [
    {
     "name": "stdout",
     "output_type": "stream",
     "text": [
      "[test_daikin_conversation.csv] best parameter: hidden_layer_sizes=(100,), accuracy=0.985557\n",
      "[test_benefitone_conversation.csv] best parameter: hidden_layer_sizes=(50, 50), accuracy=0.985437\n",
      "[test_septeni_conversation.csv] best parameter: hidden_layer_sizes=(100,), accuracy=0.974074\n",
      "[test_ptna_conversation.csv] best parameter: hidden_layer_sizes=(50, 50), accuracy=0.978966\n"
     ]
    }
   ],
   "source": [
    "for classifier in list_of_classifiers:\n",
    "    basename, X, y, vectorizer, estimator, evaluator = classifier\n",
    "    params = estimator.get_params()\n",
    "\n",
    "    print('[%s] best parameter: hidden_layer_sizes=%s, accuracy=%0.6f' % (\n",
    "        basename, str(params['hidden_layer_sizes']), evaluator.accuracy\n",
    "    ))"
   ]
  }
 ],
 "metadata": {
  "kernelspec": {
   "display_name": "Python 3",
   "language": "python",
   "name": "python3"
  },
  "language_info": {
   "codemirror_mode": {
    "name": "ipython",
    "version": 3
   },
   "file_extension": ".py",
   "mimetype": "text/x-python",
   "name": "python",
   "nbconvert_exporter": "python",
   "pygments_lexer": "ipython3",
   "version": "3.5.2"
  }
 },
 "nbformat": 4,
 "nbformat_minor": 2
}
