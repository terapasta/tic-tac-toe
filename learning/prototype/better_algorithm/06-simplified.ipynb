{
 "cells": [
  {
   "cell_type": "markdown",
   "metadata": {
    "deletable": true,
    "editable": true
   },
   "source": [
    "# ご参考：ニューラルネットワークの影響変数\n",
    "\n",
    "影響変数が容易に確認できるよう、訓練データの量を制限しています。\n",
    "\n",
    "また、影響変数にかんする補足記述を追加しております。\n",
    "\n",
    "\n",
    "#### 影響変数（coefs\\_）についての説明\n",
    "\n",
    "http://scikit-learn.org/dev/modules/generated/sklearn.neural_network.MLPClassifier.html#sklearn.neural_network.MLPClassifier\n",
    "\n",
    "~~~\n",
    "Attributes:\n",
    "    coefs_ : list, length n_layers - 1\n",
    "        The ith element in the list represents the weight matrix corresponding to layer i.\n",
    "~~~\n",
    "\n",
    "各レイヤー（中間レイヤーまたは出力レイヤー）における重み付けマトリックスとのことです。"
   ]
  },
  {
   "cell_type": "markdown",
   "metadata": {
    "deletable": true,
    "editable": true
   },
   "source": [
    "## (1) テストデータ／環境準備"
   ]
  },
  {
   "cell_type": "code",
   "execution_count": 1,
   "metadata": {
    "collapsed": false,
    "deletable": true,
    "editable": true
   },
   "outputs": [],
   "source": [
    "'''\n",
    "    テスト環境を準備するためのモジュールを使用します。\n",
    "'''\n",
    "import sys\n",
    "import os\n",
    "learning_dir = os.path.abspath(\"../../\") #<--- donusagi-bot/learning\n",
    "os.chdir(learning_dir)\n",
    "\n",
    "if learning_dir not in sys.path:\n",
    "    sys.path.append(learning_dir)\n",
    "\n",
    "from prototype.modules import TestTool"
   ]
  },
  {
   "cell_type": "markdown",
   "metadata": {
    "deletable": true,
    "editable": true
   },
   "source": [
    "### (1-1) テストデータをコピー"
   ]
  },
  {
   "cell_type": "code",
   "execution_count": 2,
   "metadata": {
    "collapsed": false,
    "deletable": true,
    "editable": true,
    "scrolled": true
   },
   "outputs": [
    {
     "name": "stdout",
     "output_type": "stream",
     "text": [
      "CSV file for test=[/Users/makmorit/GitHub/donusagi-bot/learning/prototype/resources/test_daikin_conversation.csv]\n",
      "CSV file for test=[/Users/makmorit/GitHub/donusagi-bot/learning/prototype/resources/test_benefitone_conversation.csv]\n",
      "CSV file for test=[/Users/makmorit/GitHub/donusagi-bot/learning/prototype/resources/test_septeni_conversation.csv]\n",
      "CSV file for test=[/Users/makmorit/GitHub/donusagi-bot/learning/prototype/resources/test_ptna_conversation.csv]\n"
     ]
    }
   ],
   "source": [
    "'''\n",
    "    データファイルは、既存の訓練データを別場所にコピーしてから使用します\n",
    "    テストデータは、csv_file_name で指定した複数件のファイルを使用します。\n",
    "'''\n",
    "csv_file_names = [\n",
    "    'test_daikin_conversation.csv',\n",
    "    'test_benefitone_conversation.csv',\n",
    "    'test_septeni_conversation.csv',\n",
    "    'test_ptna_conversation.csv',\n",
    "]\n",
    "temp_path = TestTool.copy_testdata_csv(learning_dir, csv_file_names)"
   ]
  },
  {
   "cell_type": "code",
   "execution_count": 3,
   "metadata": {
    "collapsed": false,
    "deletable": true,
    "editable": true
   },
   "outputs": [
    {
     "data": {
      "text/plain": [
       "'/Users/makmorit/GitHub/donusagi-bot/learning/prototype/resources/test_septeni_conversation.limited.csv'"
      ]
     },
     "execution_count": 3,
     "metadata": {},
     "output_type": "execute_result"
    }
   ],
   "source": [
    "b, _ = os.path.splitext(temp_path[2])\n",
    "copied_csv_file_paths = b + '.limited.csv'\n",
    "copied_csv_file_paths"
   ]
  },
  {
   "cell_type": "code",
   "execution_count": 4,
   "metadata": {
    "collapsed": false,
    "deletable": true,
    "editable": true
   },
   "outputs": [
    {
     "data": {
      "text/plain": [
       "0"
      ]
     },
     "execution_count": 4,
     "metadata": {},
     "output_type": "execute_result"
    }
   ],
   "source": [
    "import subprocess\n",
    "\n",
    "cmd = \"head -28 \" + temp_path[0] + \" > \" + copied_csv_file_paths\n",
    "subprocess.call(cmd, shell=True)"
   ]
  },
  {
   "cell_type": "markdown",
   "metadata": {
    "deletable": true,
    "editable": true
   },
   "source": [
    "## (2) モデルの準備\n",
    "\n",
    "学習(GridSearchCV.fit)--->評価(Evaluator.evaluate)の流れで実行させます。\n",
    "\n",
    "グリッドサーチは省略しております。"
   ]
  },
  {
   "cell_type": "code",
   "execution_count": 5,
   "metadata": {
    "collapsed": false,
    "deletable": true,
    "editable": true,
    "scrolled": false
   },
   "outputs": [
    {
     "name": "stderr",
     "output_type": "stream",
     "text": [
      "/Library/Frameworks/Python.framework/Versions/3.5/lib/python3.5/site-packages/sklearn/cross_validation.py:44: DeprecationWarning: This module was deprecated in version 0.18 in favor of the model_selection module into which all the refactored classes and functions are moved. Also note that the interface of the new CV iterators are different from that of this module. This module will be removed in 0.20.\n",
      "  \"This module will be removed in 0.20.\", DeprecationWarning)\n",
      "/Library/Frameworks/Python.framework/Versions/3.5/lib/python3.5/site-packages/sklearn/grid_search.py:43: DeprecationWarning: This module was deprecated in version 0.18 in favor of the model_selection module into which all the refactored classes and functions are moved. This module will be removed in 0.20.\n",
      "  DeprecationWarning)\n"
     ]
    }
   ],
   "source": [
    "from time import time\n",
    "import numpy as np\n",
    "\n",
    "from sklearn.grid_search import GridSearchCV\n",
    "from sklearn.neural_network import MLPClassifier\n",
    "\n",
    "from learning.core.evaluator import Evaluator\n",
    "\n",
    "def fit_and_cross_validation(path):\n",
    "    '''\n",
    "        訓練データのTF-IDFベクターを作成\n",
    "    '''\n",
    "    basename = os.path.basename(path)\n",
    "    print(\"prepare_tf_idf_vectors: dataset=%s...\" % basename)\n",
    "    t0 = time()\n",
    "\n",
    "    X, y, vectorizer = TestTool.prepare_tf_idf_vectors(path)\n",
    "    print(\"prepare_tf_idf_vectors: done in %0.3fs.\" % (time() - t0))\n",
    "\n",
    "    '''\n",
    "        訓練データ全体を使用して学習実施\n",
    "        レイヤーはデフォルトの1層\n",
    "        レイヤーに100件ユニットを生成する設定\n",
    "    '''\n",
    "    print(\"MLPClassifier: fitting...\")\n",
    "    t0 = time()\n",
    "\n",
    "    cls = MLPClassifier(hidden_layer_sizes=(100,), max_iter=10000,\n",
    "                        activation='logistic', shuffle=False, random_state=0)\n",
    "    estimator = cls.fit(X, y)\n",
    "    print(\"MLPClassifier: done in %0.3fs.\" % (time() - t0))\n",
    "\n",
    "    ''' \n",
    "        クロスバリデーション（モデル評価フェーズ）を実施\n",
    "        プロダクションと同様、Evaluator クラスを使用して評価します\n",
    "    '''\n",
    "    print(\"Evaluator: evaluating...\")\n",
    "    t0 = time()\n",
    "\n",
    "    evaluator = Evaluator()\n",
    "    evaluator.evaluate(estimator, X, y, threshold=0.5)\n",
    "    print(\"Evaluator: done in %0.3fs.\" % (time() - t0))\n",
    "    \n",
    "    return (basename, X, y, vectorizer, estimator, evaluator)"
   ]
  },
  {
   "cell_type": "markdown",
   "metadata": {
    "deletable": true,
    "editable": true
   },
   "source": [
    "### (2-1) モデル作成／評価"
   ]
  },
  {
   "cell_type": "code",
   "execution_count": 6,
   "metadata": {
    "collapsed": false,
    "deletable": true,
    "editable": true,
    "scrolled": false
   },
   "outputs": [
    {
     "name": "stderr",
     "output_type": "stream",
     "text": [
      "2017/04/07 PM 03:35:29 TrainingMessageFromCsv#__build_learning_training_messages count of learning data: 27\n",
      "2017/04/07 PM 03:35:29 TextArray#__init__ start\n",
      "2017/04/07 PM 03:35:29 TextArray#to_vec start\n",
      "2017/04/07 PM 03:35:29 TextArray#to_vec end\n"
     ]
    },
    {
     "name": "stdout",
     "output_type": "stream",
     "text": [
      "prepare_tf_idf_vectors: dataset=test_septeni_conversation.limited.csv...\n",
      "prepare_tf_idf_vectors: done in 0.034s.\n",
      "MLPClassifier: fitting...\n"
     ]
    },
    {
     "name": "stderr",
     "output_type": "stream",
     "text": [
      "2017/04/07 PM 03:35:30 self.threshold: 0.5\n"
     ]
    },
    {
     "name": "stdout",
     "output_type": "stream",
     "text": [
      "MLPClassifier: done in 0.861s.\n",
      "Evaluator: evaluating...\n"
     ]
    },
    {
     "name": "stderr",
     "output_type": "stream",
     "text": [
      "2017/04/07 PM 03:35:30 Evaluator#evaluate#elapsed time: 785.332918 ms\n",
      "2017/04/07 PM 03:35:30 accuracy: 1.0\n"
     ]
    },
    {
     "name": "stdout",
     "output_type": "stream",
     "text": [
      "1.0\n",
      "Evaluator: done in 0.788s.\n"
     ]
    }
   ],
   "source": [
    "classifier = fit_and_cross_validation(copied_csv_file_paths)"
   ]
  },
  {
   "cell_type": "markdown",
   "metadata": {
    "deletable": true,
    "editable": true
   },
   "source": [
    "### (2-2) 結果の確認"
   ]
  },
  {
   "cell_type": "code",
   "execution_count": 7,
   "metadata": {
    "collapsed": false,
    "deletable": true,
    "editable": true,
    "scrolled": false
   },
   "outputs": [
    {
     "name": "stdout",
     "output_type": "stream",
     "text": [
      "[test_septeni_conversation.limited.csv] best parameter: hidden_layer_sizes=(100,), accuracy=1.000000\n"
     ]
    }
   ],
   "source": [
    "basename, X, y, vectorizer, estimator, evaluator = classifier\n",
    "params = estimator.get_params()\n",
    "\n",
    "print('[%s] best parameter: hidden_layer_sizes=%s, accuracy=%0.6f' % (\n",
    "    basename, str(params['hidden_layer_sizes']), evaluator.accuracy\n",
    "))"
   ]
  },
  {
   "cell_type": "markdown",
   "metadata": {
    "deletable": true,
    "editable": true
   },
   "source": [
    "## (3) 影響変数の確認\n",
    "\n",
    "ここからが本題になります\n",
    "\n",
    "今回使用した MLP は、３層のレイヤーから構成されているモデルです。\n",
    "\n",
    "\n",
    "- 入力レイヤー：147件のユニット（featureの件数と同じ）\n",
    "\n",
    "\n",
    "- 中間レイヤー：100件のユニット（MLP の hidden_layer_sizes=(100,) で指定した件数と同じ）\n",
    "\n",
    "\n",
    "- 出力レイヤー：28件のユニット（ラベルの件数と同じ）\n",
    "\n",
    "\n",
    "これらのユニット同士が、レイヤーとレイヤーの間でどの程度強く結びついているか（重み付けが与えられているか）を確認していきたいと思います。"
   ]
  },
  {
   "cell_type": "markdown",
   "metadata": {
    "deletable": true,
    "editable": true
   },
   "source": [
    "### (3-1) 予測結果の抽出"
   ]
  },
  {
   "cell_type": "code",
   "execution_count": 8,
   "metadata": {
    "collapsed": false,
    "deletable": true,
    "editable": true,
    "scrolled": false
   },
   "outputs": [],
   "source": [
    "y_pred = estimator.predict(X)\n",
    "probabilities = estimator.predict_proba(X)\n",
    "max_probabilities = np.max(probabilities, axis=1)"
   ]
  },
  {
   "cell_type": "markdown",
   "metadata": {
    "deletable": true,
    "editable": true
   },
   "source": [
    "### (3-2) データのfeatureを確認"
   ]
  },
  {
   "cell_type": "code",
   "execution_count": 9,
   "metadata": {
    "collapsed": false,
    "deletable": true,
    "editable": true,
    "scrolled": true
   },
   "outputs": [
    {
     "name": "stdout",
     "output_type": "stream",
     "text": [
      "index=0 [label=3397] [2010=0.258 bcc=0.258 outlook=0.258 する=0.516 メール=0.516 宛=0.258 自分=0.258 送信=0.258 運用=0.258]\n",
      "index=1 [label=3398] [2010=0.408 outlook=0.408 メール=0.408 作り方=0.408 教える=0.408 署名=0.408]\n",
      "index=2 [label=3399] [2010=0.378 outlook=0.378 thunderbird=0.378 テンプレート=0.378 メール=0.378 同等=0.378 機能=0.378]\n",
      "index=3 [label=3400] [2010=0.224 outlook=0.224 thunderbird=0.224 できる=0.224 ない=0.224 アドレス=0.447 候補=0.224 入れる=0.224 出る=0.224 場合=0.224 姓=0.224 宛先=0.224 帳=0.224 検索=0.224 機能=0.224 簡単=0.224 者=0.224]\n",
      "index=4 [label=3401] [outlook=0.204 いちいち=0.204 こちら=0.204 する=0.408 できる=0.204 ない=0.204 わずらわしい=0.204 アドレス=0.408 デフォルト=0.204 メールアドレス=0.204 一覧=0.408 意図=0.204 検索=0.204 設定=0.204 選択=0.204]\n",
      "index=5 [label=3402] [2010=0.447 outlook=0.447 メール=0.447 可能=0.447 編集=0.447]\n",
      "index=6 [label=3940] [2010=0.408 outlook=0.408 メール=0.408 大変=0.408 探す=0.408 未読=0.408]\n",
      "index=7 [label=3404] [2010=0.378 outlook=0.378 thunderbird=0.378 トレイ=0.378 済=0.378 送信=0.378 違い=0.378]\n",
      "index=8 [label=3405] [2010=0.354 outlook=0.354 する=0.354 ファイル=0.354 メール=0.354 制限=0.354 容量=0.354 添付=0.354]\n",
      "index=9 [label=3406] [2010=0.218 outlook=0.218 する=0.218 せる=0.218 できる=0.218 ない=0.218 メール=0.436 休暇=0.218 応答=0.218 教える=0.218 方法=0.218 自動=0.218 設定=0.218 返事=0.218 長期=0.436]\n",
      "index=10 [label=3407] [thunderbird=0.378 インデント=0.378 メール=0.378 付ける=0.378 可能=0.378 同様=0.378 返信=0.378]\n",
      "index=11 [label=3408] [outlook=0.316 サーバ=0.316 メール=0.632 ローカルフォルダ=0.316 一括=0.316 可能=0.316 検索=0.316]\n",
      "index=12 [label=3409] [2010=0.378 outlook=0.378 vcard=0.378 メール=0.378 使用=0.378 可能=0.378 署名=0.378]\n",
      "index=13 [label=3941] [outlook=0.447 する=0.447 アドレス=0.224 イン=0.224 エクスポート=0.224 ポート=0.224 ユーザー=0.224 他=0.224 作成=0.224 個人=0.224 共有=0.224 別=0.224 可能=0.224 帳=0.224]\n",
      "index=14 [label=3411] [2010=0.354 outlook=0.354 できる=0.354 アドレス=0.354 個人=0.354 入れる=0.354 写真=0.354 帳=0.354]\n",
      "index=15 [label=3412] [thunderbird=0.354 する=0.354 せる=0.354 メール=0.354 受信=0.354 可能=0.354 同様=0.354 通知=0.354]\n",
      "index=16 [label=3413] [outlook=0.267 する=0.535 れる=0.267 メール=0.267 可能=0.267 変更=0.267 文字数=0.267 本文=0.267 行=0.267 表示=0.267 １=0.267]\n",
      "index=17 [label=3414] [2010=0.177 outlook=0.177 thunderbird=0.354 する=0.530 れる=0.354 アドレス=0.177 イン=0.177 エクスポート=0.177 ポート=0.177 件=0.177 先=0.177 分割=0.177 帳=0.177 登録=0.177 行う=0.177 連絡=0.177 １=0.177 ２つ=0.177]\n",
      "index=18 [label=3415] [deleted=0.180 drafts=0.180 email=0.180 items=0.180 junk=0.180 outlook=0.180 すべて=0.180 する=0.359 れる=0.180 アイテム=0.180 フォルダ=0.359 メール=0.359 下書き=0.180 件数=0.180 内=0.180 削除=0.180 右側=0.180 既=0.180 済み=0.180 表示=0.180 読=0.180 迷惑=0.180]\n",
      "index=19 [label=3416] [2010=0.250 outlook=0.250 する=0.500 れる=0.250 アドレス=0.250 姓名=0.250 宛先=0.250 帳=0.250 探す=0.250 検索=0.250 正しく=0.250 結果=0.250 表示=0.250]\n",
      "index=20 [label=3417] [2000=0.213 2010=0.213 office=0.213 outlook=0.213 する=0.640 なる=0.213 れる=0.213 エラーメッセージ=0.213 使用=0.213 初める=0.213 利用=0.213 必ず=0.213 終了=0.213 表示=0.213]\n",
      "index=21 [label=3418] [2010=0.177 outlook=0.177 する=0.530 できる=0.177 れる=0.177 エラー=0.177 メッセージ=0.177 メーリングリスト=0.177 メール=0.354 差出人=0.177 表示=0.177 設定=0.177 送信=0.530]\n",
      "index=22 [label=3419] [outlook=0.236 する=0.471 れる=0.236 ユーザ=0.236 名前=0.236 存在=0.236 検索=0.471 確認=0.236 簡易=0.236 結果=0.236 行う=0.236 表示=0.236]\n",
      "index=23 [label=3420] [2010=0.177 outlook=0.177 する=0.707 ない=0.177 れる=0.177 インストール=0.177 フォルダ=0.177 検索=0.177 画面=0.354 表示=0.354 見慣れる=0.177]\n",
      "index=24 [label=3421] [thunderbird=0.189 する=0.756 エラー=0.189 メール=0.378 ローカル=0.189 利用=0.189 発生=0.189 移行=0.189 返信=0.189 送信=0.189]\n",
      "index=25 [label=3422] [2010=0.277 email=0.277 junk=0.277 outlook=0.277 いい=0.277 する=0.277 どう=0.277 られる=0.277 メール=0.277 メールフォルダ=0.277 必要=0.277 振り分ける=0.277 迷惑=0.277]\n",
      "index=26 [label=3423] [2010=0.302 ime=0.302 outlook=0.302 する=0.302 インストール=0.302 以前=0.302 内容=0.302 後=0.302 消える=0.302 登録=0.302 辞書=0.302]\n",
      "index=27 [label=0] []\n",
      "index=28 [label=0] []\n",
      "index=29 [label=0] []\n"
     ]
    }
   ],
   "source": [
    "for i, _ in enumerate(y):\n",
    "    arr = X[i].toarray()[0]\n",
    "    dump_str = TestTool.dump_features(arr, vectorizer.vocabulary_)\n",
    "    print('index=%d [label=%d] %s' % (\n",
    "        i, y[i], dump_str))"
   ]
  },
  {
   "cell_type": "markdown",
   "metadata": {
    "deletable": true,
    "editable": true
   },
   "source": [
    "### (3-3) 調査用サンプルの選定"
   ]
  },
  {
   "cell_type": "markdown",
   "metadata": {
    "deletable": true,
    "editable": true
   },
   "source": [
    "#### この中から、ラベル 3402 をサンプルとして、影響変数を追跡してみます。"
   ]
  },
  {
   "cell_type": "markdown",
   "metadata": {
    "deletable": true,
    "editable": true
   },
   "source": [
    "CSVにおける内容は下記の通り\n",
    "~~~\n",
    "1385823\n",
    "Outlook2010にて、メールの再編集は可能ですか？\n",
    "3402\n",
    "\"方法については『【Outlook2010操作マニュアル 基本編】 送信済メールの再利用（メールの再送）』を参照してください。 \n",
    "\n",
    "http://www.intra.daikin.co.jp/office365/ol2010/Basic.html?cid=B007\n",
    "\n",
    "【手順】\n",
    "１．再利用したいメールをダブルクリックします。 \n",
    "２．『メッセージ』リボンから『アクション』の▼を押下し、『このメッセージを再送』を押下します。 \n",
    "３．メール編集画面が表示されますので、以降の操作は『メールの送信』を参照しメールを送信してください。 \n",
    "※古いメールを再利用（再送）すると、送信エラーが発生することがありますので、\n",
    "　その場合は、再利用（再送）ではなく新規作成をして下さい。\"\n",
    "~~~"
   ]
  },
  {
   "cell_type": "markdown",
   "metadata": {
    "deletable": true,
    "editable": true
   },
   "source": [
    "#### また、ラベル 3402 に類似した質問（3940）を、比較用のサンプルとします。"
   ]
  },
  {
   "cell_type": "markdown",
   "metadata": {
    "deletable": true,
    "editable": true
   },
   "source": [
    "CSVにおける内容は下記の通り\n",
    "~~~\n",
    "1385824\t\n",
    "Outlook2010にて、未読メールを探すのが大変です。\t\n",
    "3940\t\n",
    "\"方法については『【Outlook2010操作マニュアル 応用編】 検索フォルダ(未読のメールのフォルダを作成する)』を参照してください。 \n",
    "http://www.intra.daikin.co.jp/office365/ol2010/Applied.html?cid=C007\n",
    "\n",
    "【手順】\n",
    "１．検索フォルダを右クリックし、『新しい検索フォルダ』を押下します。\n",
    "２．『未読のメール』を選択します。 \n",
    "３．『OK』ボタンを押下します。\n",
    "４．『未読のメール』検索フォルダーが作成されていることを確認します。\n",
    "\n",
    "※検索フォルダでは未読のメール以外にも、フラグの設定されたメールなど様々な条件のメールを検索条件とすることができます。\n",
    "※検索フォルダに表示されているメールは検索結果となりますので、メールは元のフォルダから移動はしておりません。\"\n",
    "~~~"
   ]
  },
  {
   "cell_type": "markdown",
   "metadata": {
    "deletable": true,
    "editable": true
   },
   "source": [
    "#### ボキャブラリIDを取得しておきます"
   ]
  },
  {
   "cell_type": "code",
   "execution_count": 10,
   "metadata": {
    "collapsed": false,
    "deletable": true,
    "editable": true,
    "scrolled": false
   },
   "outputs": [
    {
     "data": {
      "text/plain": [
       "[('未読', 105),\n",
       " ('編集', 123),\n",
       " ('大変', 85),\n",
       " ('可能', 78),\n",
       " ('メール', 43),\n",
       " ('探す', 100),\n",
       " ('outlook', 10),\n",
       " ('2010', 1)]"
      ]
     },
     "execution_count": 10,
     "metadata": {},
     "output_type": "execute_result"
    }
   ],
   "source": [
    "[(k,v) for (k,v) in vectorizer.vocabulary_.items() if k in [\n",
    "    '2010','outlook','メール','編集','可能','未読','探す','大変'\n",
    "]]"
   ]
  },
  {
   "cell_type": "markdown",
   "metadata": {
    "deletable": true,
    "editable": true
   },
   "source": [
    "### (3-3) MLP内における feature〜ユニット間の重み付けを確認"
   ]
  },
  {
   "cell_type": "markdown",
   "metadata": {
    "deletable": true,
    "editable": true
   },
   "source": [
    "MLPにおいては、coefs\\_ という変数に、学習結果（最適化された影響変数）が格納されています。\n",
    "\n",
    "coefs\\_ の内部レイヤーに対応する要素（estimator.coefs\\_[0]）は、feature数 × ユニット数（100件）の２次元配列になっています。"
   ]
  },
  {
   "cell_type": "code",
   "execution_count": 11,
   "metadata": {
    "collapsed": false,
    "deletable": true,
    "editable": true,
    "scrolled": false
   },
   "outputs": [
    {
     "data": {
      "text/plain": [
       "147"
      ]
     },
     "execution_count": 11,
     "metadata": {},
     "output_type": "execute_result"
    }
   ],
   "source": [
    "np.size(estimator.coefs_[0], axis=0) # <--- featureの数になります"
   ]
  },
  {
   "cell_type": "code",
   "execution_count": 12,
   "metadata": {
    "collapsed": false,
    "deletable": true,
    "editable": true,
    "scrolled": false
   },
   "outputs": [
    {
     "data": {
      "text/plain": [
       "100"
      ]
     },
     "execution_count": 12,
     "metadata": {},
     "output_type": "execute_result"
    }
   ],
   "source": [
    "np.size(estimator.coefs_[0], axis=1) # <--- ユニットの数になります"
   ]
  },
  {
   "cell_type": "markdown",
   "metadata": {
    "deletable": true,
    "editable": true
   },
   "source": [
    "こちらの estimator.coefs\\_[0] を参照すると、あるfeatureが、各々のユニットに対して、どれだけ影響の強さを持っているか（＝重み付けがされているか）が判断できるかと存じます。\n",
    "\n",
    "逆の見方をすると・・・各々のfeatureが、どのユニットへ誘導されやすいか、ということを判断する手助けになるかと考えております。\n",
    "\n",
    "<B>この影響変数の設定じたいは、MLP の fit 関数実行中に（最適化処理により）行なわれるものなので、パラメータによる個別調整は不可能です。</b>"
   ]
  },
  {
   "cell_type": "code",
   "execution_count": 13,
   "metadata": {
    "collapsed": false,
    "deletable": true,
    "editable": true,
    "scrolled": false
   },
   "outputs": [
    {
     "data": {
      "text/plain": [
       "array([-0.24349488, -0.58650797, -0.62772164, -0.18579832, -0.68337962,\n",
       "        0.45881705,  0.48999331,  0.33866849,  0.46231785,  0.67383954,\n",
       "       -0.38977021, -0.61523463, -0.60205338, -0.49270935,  0.34617328,\n",
       "        0.36257249,  0.16874911,  0.04544902, -0.59871436,  0.68734688,\n",
       "        0.45151423, -0.52513091, -0.43037663, -0.37098965, -0.43685076,\n",
       "       -0.27314701,  0.55091456, -0.7087831 , -0.4324771 , -0.5869078 ,\n",
       "       -0.56536217,  0.3496927 , -0.39246992,  0.52282408,  0.44584184,\n",
       "       -0.53519944,  0.27778031, -0.61097927, -0.17362748,  0.62312865,\n",
       "       -0.00094078, -0.58308338,  0.37934531,  0.6290719 , -0.70525309,\n",
       "       -0.49715026, -0.49586602,  0.67151102,  0.51786721,  0.61357513,\n",
       "        0.35009992,  0.40764122, -0.19257504, -0.61780065, -0.41293255,\n",
       "       -0.59688374,  0.6592304 ,  0.61203625, -0.35644356, -0.4130698 ,\n",
       "       -0.43783877, -0.51675612,  0.3875355 ,  0.42867032,  0.02635409,\n",
       "        0.66556603,  0.23359237, -0.45242714,  0.67216407, -0.53270851,\n",
       "       -0.65132941,  0.62026552, -0.67128375, -0.62288908, -0.46516063,\n",
       "       -0.07268434,  0.4690882 ,  0.56506477, -0.47684212, -0.39725369,\n",
       "        0.15278224,  0.42609017, -0.70030758, -0.53702961,  0.5050611 ,\n",
       "        0.57902544, -0.65454264, -0.06133295, -0.42650477,  0.3394852 ,\n",
       "       -0.64169078,  0.0797535 , -0.56944268,  0.53221038, -0.63651989,\n",
       "       -0.57476333, -0.69197067, -0.46111467, -0.47806345, -0.14570897])"
      ]
     },
     "execution_count": 13,
     "metadata": {},
     "output_type": "execute_result"
    }
   ],
   "source": [
    "'''\n",
    "     feature「outlook」に対する、ユニットごとの影響変数\n",
    "'''\n",
    "outlook = estimator.coefs_[0][10] # ('outlook', 10)\n",
    "outlook"
   ]
  },
  {
   "cell_type": "code",
   "execution_count": 14,
   "metadata": {
    "collapsed": false,
    "deletable": true,
    "editable": true,
    "scrolled": false
   },
   "outputs": [
    {
     "data": {
      "text/plain": [
       "(array([ 9, 19, 47, 56, 65, 68]),)"
      ]
     },
     "execution_count": 14,
     "metadata": {},
     "output_type": "execute_result"
    }
   ],
   "source": [
    "'''\n",
    "    feature「outlook」が\n",
    "    どのユニットに対して影響が強いかを参照\n",
    "'''\n",
    "threshold = 0.65\n",
    "\n",
    "outlook_index = np.where(outlook > threshold)\n",
    "outlook_index"
   ]
  },
  {
   "cell_type": "code",
   "execution_count": 15,
   "metadata": {
    "collapsed": true,
    "deletable": true,
    "editable": true
   },
   "outputs": [],
   "source": [
    "'''\n",
    "    同様に「メール」「編集」「可能」「未読」「探す」「大変」についても\n",
    "    影響の強いユニットを参照\n",
    "'''\n",
    "mail   = estimator.coefs_[0][43]  # ('メール', 43)\n",
    "henshu = estimator.coefs_[0][105] # ('未読', 105)\n",
    "kanou  = estimator.coefs_[0][78]  # ('可能', 78)\n",
    "midoku = estimator.coefs_[0][123] # ('編集', 123)\n",
    "sagasu = estimator.coefs_[0][100] # ('探す', 100)\n",
    "taihen = estimator.coefs_[0][85]  # ('大変', 85)\n",
    "\n",
    "mail_index   = np.where(mail   > threshold)\n",
    "henshu_index = np.where(henshu > threshold)\n",
    "kanou_index  = np.where(kanou  > threshold)\n",
    "midoku_index = np.where(midoku > threshold)\n",
    "sagasu_index = np.where(sagasu > threshold)\n",
    "taihen_index = np.where(taihen > threshold)"
   ]
  },
  {
   "cell_type": "code",
   "execution_count": 16,
   "metadata": {
    "collapsed": false,
    "deletable": true,
    "editable": true
   },
   "outputs": [
    {
     "data": {
      "text/plain": [
       "(array([13, 87]),)"
      ]
     },
     "execution_count": 16,
     "metadata": {},
     "output_type": "execute_result"
    }
   ],
   "source": [
    "mail_index"
   ]
  },
  {
   "cell_type": "code",
   "execution_count": 17,
   "metadata": {
    "collapsed": false,
    "deletable": true,
    "editable": true,
    "scrolled": false
   },
   "outputs": [
    {
     "data": {
      "text/plain": [
       "(array([43, 49, 57, 61, 80, 81]),)"
      ]
     },
     "execution_count": 17,
     "metadata": {},
     "output_type": "execute_result"
    }
   ],
   "source": [
    "henshu_index"
   ]
  },
  {
   "cell_type": "code",
   "execution_count": 18,
   "metadata": {
    "collapsed": false,
    "deletable": true,
    "editable": true
   },
   "outputs": [
    {
     "data": {
      "text/plain": [
       "(array([65, 99]),)"
      ]
     },
     "execution_count": 18,
     "metadata": {},
     "output_type": "execute_result"
    }
   ],
   "source": [
    "kanou_index"
   ]
  },
  {
   "cell_type": "code",
   "execution_count": 19,
   "metadata": {
    "collapsed": false,
    "deletable": true,
    "editable": true
   },
   "outputs": [
    {
     "data": {
      "text/plain": [
       "(array([ 8, 17, 20, 40, 49, 64, 65, 68, 87]),)"
      ]
     },
     "execution_count": 19,
     "metadata": {},
     "output_type": "execute_result"
    }
   ],
   "source": [
    "midoku_index"
   ]
  },
  {
   "cell_type": "code",
   "execution_count": 20,
   "metadata": {
    "collapsed": false,
    "deletable": true,
    "editable": true,
    "scrolled": true
   },
   "outputs": [
    {
     "data": {
      "text/plain": [
       "(array([ 5, 43, 54, 61, 77]),)"
      ]
     },
     "execution_count": 20,
     "metadata": {},
     "output_type": "execute_result"
    }
   ],
   "source": [
    "sagasu_index"
   ]
  },
  {
   "cell_type": "code",
   "execution_count": 21,
   "metadata": {
    "collapsed": false,
    "deletable": true,
    "editable": true
   },
   "outputs": [
    {
     "data": {
      "text/plain": [
       "(array([34, 43, 57, 77]),)"
      ]
     },
     "execution_count": 21,
     "metadata": {},
     "output_type": "execute_result"
    }
   ],
   "source": [
    "taihen_index"
   ]
  },
  {
   "cell_type": "markdown",
   "metadata": {
    "deletable": true,
    "editable": true
   },
   "source": [
    "### (3-3) MLP内におけるユニット〜ラベル間の重み付けを確認"
   ]
  },
  {
   "cell_type": "markdown",
   "metadata": {
    "deletable": true,
    "editable": true
   },
   "source": [
    "MLPにおいては、coefs\\_ という変数に、学習結果（最適化された影響変数）が格納されています。\n",
    "\n",
    "coefs\\_ の出力レイヤーに対応する要素（estimator.coefs\\_[1]）は、ユニット数（100件）× ラベル数（28件）の２次元配列になっています。"
   ]
  },
  {
   "cell_type": "code",
   "execution_count": 22,
   "metadata": {
    "collapsed": false,
    "deletable": true,
    "editable": true,
    "scrolled": true
   },
   "outputs": [
    {
     "data": {
      "text/plain": [
       "100"
      ]
     },
     "execution_count": 22,
     "metadata": {},
     "output_type": "execute_result"
    }
   ],
   "source": [
    "np.size(estimator.coefs_[1], axis=0) # <--- ユニットの数になります"
   ]
  },
  {
   "cell_type": "code",
   "execution_count": 23,
   "metadata": {
    "collapsed": false,
    "deletable": true,
    "editable": true,
    "scrolled": true
   },
   "outputs": [
    {
     "data": {
      "text/plain": [
       "28"
      ]
     },
     "execution_count": 23,
     "metadata": {},
     "output_type": "execute_result"
    }
   ],
   "source": [
    "np.size(estimator.coefs_[1], axis=1) # <--- ラベルの数になります"
   ]
  },
  {
   "cell_type": "markdown",
   "metadata": {
    "deletable": true,
    "editable": true
   },
   "source": [
    "こちらの estimator.coefs\\_[1] を参照すると、各々のユニットが、ラベルに対して、どれだけ影響の強さを持っているか（＝重み付けがされているか）が判断できるかと存じます。\n",
    "\n",
    "逆の見方をすると・・・各々のラベルが、どのユニットから誘導されやすいか、ということを判断する手助けになるかと考えております。"
   ]
  },
  {
   "cell_type": "code",
   "execution_count": 24,
   "metadata": {
    "collapsed": false,
    "deletable": true,
    "editable": true,
    "scrolled": false
   },
   "outputs": [
    {
     "data": {
      "text/plain": [
       "(array([6]),)"
      ]
     },
     "execution_count": 24,
     "metadata": {},
     "output_type": "execute_result"
    }
   ],
   "source": [
    "'''\n",
    "    出力レイヤーにおける\n",
    "    ラベル「3402」のインデックスを取得\n",
    "'''\n",
    "np.where(estimator.classes_==3402)"
   ]
  },
  {
   "cell_type": "code",
   "execution_count": 25,
   "metadata": {
    "collapsed": false,
    "deletable": true,
    "editable": true,
    "scrolled": true
   },
   "outputs": [
    {
     "data": {
      "text/plain": [
       "array([-0.73427055,  0.09419913, -0.48899394,  0.53353946, -0.60901666,\n",
       "        0.52237497,  0.53409747, -0.50028231,  0.45903818,  0.12720822,\n",
       "       -0.48754021,  0.66948241, -0.61553091,  0.67418052,  0.45538165,\n",
       "        0.58663356,  0.38503268,  0.57948044, -0.72842948, -0.52500183,\n",
       "        0.68204944, -0.47774884,  0.4969988 , -0.47273315,  0.60967857,\n",
       "       -0.51283855,  0.50472494, -0.52493643,  0.58204477, -0.58784803,\n",
       "       -0.7174271 ,  0.49477265,  0.20554232,  0.67314168,  0.58046522,\n",
       "       -0.59155928, -0.75557716, -0.46257726,  0.63764514, -0.39116489,\n",
       "        0.61652158, -0.6105198 ,  0.65160078, -0.43197592, -0.45509462,\n",
       "       -0.59426682, -0.53711528,  0.61460633,  0.41296938,  0.65536106,\n",
       "       -0.38413698,  0.54110396,  0.50084029,  0.41541234, -0.61694399,\n",
       "       -0.60481112, -0.59626975,  0.50805439,  0.35771922, -0.5263271 ,\n",
       "       -0.61406118, -0.50527493,  0.53414702,  0.54710729,  0.51628839,\n",
       "        0.69104782,  0.63289734, -0.50585279,  0.59684082, -0.47509365,\n",
       "       -0.5495441 ,  0.55129543,  0.42252205, -0.54533031, -0.48472904,\n",
       "        0.62683288, -0.68202183, -0.67535058,  0.61628959, -0.63177419,\n",
       "       -0.71753898, -0.68562858, -0.28067211, -0.65430166,  0.55205715,\n",
       "        0.58283435, -0.51753798,  0.55137455, -0.51805345, -0.67332374,\n",
       "        0.54131512, -0.71225351,  0.56756359,  0.47611233, -0.57757843,\n",
       "       -0.67611903, -0.64937525,  0.31551474, -0.58398825,  0.6015781 ])"
      ]
     },
     "execution_count": 25,
     "metadata": {},
     "output_type": "execute_result"
    }
   ],
   "source": [
    "'''\n",
    "     出力レイヤーのユニットごとの影響変数を\n",
    "     ラベル 3402 について確認\n",
    "     feature=[2010 outlook メール 編集 可能]\n",
    "'''\n",
    "seikai = estimator.coefs_[1].T[6] # ラベル「3402」のインデックス\n",
    "seikai"
   ]
  },
  {
   "cell_type": "code",
   "execution_count": 26,
   "metadata": {
    "collapsed": false,
    "deletable": true,
    "editable": true,
    "scrolled": false
   },
   "outputs": [],
   "source": [
    "'''\n",
    "    feature「outlook」「メール」「編集」「可能」「未読」「探す」「大変」の影響が強いユニットについて、\n",
    "    出力レイヤーの影響変数を抽出してみます\n",
    "'''\n",
    "def get_output_layer_coef(coefs, indexes, threshold):\n",
    "    __coef = coefs[indexes]\n",
    "    return __coef[__coef > threshold] # thresholdを超えているものだけ抽出\n",
    "\n",
    "threshold = 0.6 # <---全般的に影響変数の値が大きいので調整しております"
   ]
  },
  {
   "cell_type": "code",
   "execution_count": 27,
   "metadata": {
    "collapsed": false,
    "deletable": true,
    "editable": true
   },
   "outputs": [
    {
     "data": {
      "text/plain": [
       "array([ 0.61460633,  0.69104782])"
      ]
     },
     "execution_count": 27,
     "metadata": {},
     "output_type": "execute_result"
    }
   ],
   "source": [
    "get_output_layer_coef(seikai, outlook_index, threshold) # <---ラベルに関係のあるfeature"
   ]
  },
  {
   "cell_type": "code",
   "execution_count": 28,
   "metadata": {
    "collapsed": false,
    "deletable": true,
    "editable": true,
    "scrolled": true
   },
   "outputs": [
    {
     "data": {
      "text/plain": [
       "array([ 0.67418052])"
      ]
     },
     "execution_count": 28,
     "metadata": {},
     "output_type": "execute_result"
    }
   ],
   "source": [
    "get_output_layer_coef(seikai, mail_index, threshold) # <---ラベルに関係のあるfeature"
   ]
  },
  {
   "cell_type": "code",
   "execution_count": 29,
   "metadata": {
    "collapsed": false,
    "deletable": true,
    "editable": true,
    "scrolled": false
   },
   "outputs": [
    {
     "data": {
      "text/plain": [
       "array([ 0.65536106])"
      ]
     },
     "execution_count": 29,
     "metadata": {},
     "output_type": "execute_result"
    }
   ],
   "source": [
    "get_output_layer_coef(seikai, henshu_index, threshold) # <---ラベルに関係のあるfeature"
   ]
  },
  {
   "cell_type": "code",
   "execution_count": 30,
   "metadata": {
    "collapsed": false,
    "deletable": true,
    "editable": true,
    "scrolled": false
   },
   "outputs": [
    {
     "data": {
      "text/plain": [
       "array([ 0.69104782,  0.6015781 ])"
      ]
     },
     "execution_count": 30,
     "metadata": {},
     "output_type": "execute_result"
    }
   ],
   "source": [
    "get_output_layer_coef(seikai, kanou_index, threshold) # <---ラベルに関係のあるfeature"
   ]
  },
  {
   "cell_type": "markdown",
   "metadata": {
    "deletable": true,
    "editable": true
   },
   "source": [
    "ラベルに無関係な feature に、なぜか重み付けがされているのですが、サンプル数が少ないせいかもしれません。\n",
    "\n",
    "ただし、下記featureが質問文に使われない限り、回答には影響がないかと存じます。"
   ]
  },
  {
   "cell_type": "code",
   "execution_count": 31,
   "metadata": {
    "collapsed": false,
    "deletable": true,
    "editable": true,
    "scrolled": false
   },
   "outputs": [
    {
     "data": {
      "text/plain": [
       "array([ 0.68204944,  0.61652158,  0.65536106,  0.69104782])"
      ]
     },
     "execution_count": 31,
     "metadata": {},
     "output_type": "execute_result"
    }
   ],
   "source": [
    "get_output_layer_coef(seikai, midoku_index, threshold) # <---ラベルに無関係"
   ]
  },
  {
   "cell_type": "code",
   "execution_count": 32,
   "metadata": {
    "collapsed": false,
    "deletable": true,
    "editable": true,
    "scrolled": false
   },
   "outputs": [
    {
     "data": {
      "text/plain": [
       "array([], dtype=float64)"
      ]
     },
     "execution_count": 32,
     "metadata": {},
     "output_type": "execute_result"
    }
   ],
   "source": [
    "get_output_layer_coef(seikai, sagasu_index, threshold) # <---ラベルに無関係"
   ]
  },
  {
   "cell_type": "code",
   "execution_count": 33,
   "metadata": {
    "collapsed": false,
    "deletable": true,
    "editable": true,
    "scrolled": true
   },
   "outputs": [
    {
     "data": {
      "text/plain": [
       "array([], dtype=float64)"
      ]
     },
     "execution_count": 33,
     "metadata": {},
     "output_type": "execute_result"
    }
   ],
   "source": [
    "get_output_layer_coef(seikai, taihen_index, threshold) # <---ラベルに無関係"
   ]
  },
  {
   "cell_type": "markdown",
   "metadata": {
    "deletable": true,
    "editable": true
   },
   "source": [
    "#### 類似質問文のラベル 3940 についても見てみます。"
   ]
  },
  {
   "cell_type": "code",
   "execution_count": 34,
   "metadata": {
    "collapsed": false,
    "deletable": true,
    "editable": true,
    "scrolled": true
   },
   "outputs": [
    {
     "data": {
      "text/plain": [
       "(array([26]),)"
      ]
     },
     "execution_count": 34,
     "metadata": {},
     "output_type": "execute_result"
    }
   ],
   "source": [
    "'''\n",
    "    出力レイヤーにおける\n",
    "    ラベル「3940」のインデックスを取得\n",
    "'''\n",
    "np.where(estimator.classes_==3940)"
   ]
  },
  {
   "cell_type": "code",
   "execution_count": 35,
   "metadata": {
    "collapsed": false,
    "deletable": true,
    "editable": true,
    "scrolled": true
   },
   "outputs": [
    {
     "data": {
      "text/plain": [
       "array([-0.52082929, -0.54828001,  0.43470946, -0.52561335, -0.51215141,\n",
       "        0.40249564,  0.39776507, -0.41412299,  0.40721943,  0.44357679,\n",
       "       -0.37425573, -0.47017284, -0.45784436,  0.43831028,  0.47370524,\n",
       "       -0.23469131,  0.43282635,  0.05848842, -0.47908162, -0.47403543,\n",
       "        0.46095744, -0.47386384, -0.45734288, -0.51008361, -0.48314942,\n",
       "       -0.44441993,  0.40069439, -0.05635786, -0.42560723, -0.49959014,\n",
       "        0.43002493, -0.48495894,  0.47883849,  0.50257127,  0.4063876 ,\n",
       "        0.39950284,  0.44588818, -0.4888365 , -0.50011189, -0.20997357,\n",
       "        0.43572999, -0.52254239, -0.4773166 ,  0.41780976, -0.52963929,\n",
       "        0.48004788, -0.50297498, -0.49173775,  0.44601758,  0.36363201,\n",
       "        0.05681817,  0.48396543, -0.51424188,  0.50921994,  0.46975785,\n",
       "       -0.45033825,  0.44998926,  0.34029927, -0.41643834, -0.51138248,\n",
       "       -0.45653783,  0.41943443,  0.48347621,  0.42168155,  0.47407428,\n",
       "       -0.50794261, -0.45067554, -0.49103275, -0.51004052, -0.52311596,\n",
       "       -0.48760836,  0.40482563,  0.39141583,  0.26703529, -0.49949073,\n",
       "        0.42608287,  0.50890925,  0.38166101,  0.42049732, -0.43897947,\n",
       "        0.40460375,  0.36942935, -0.34334006,  0.30411309,  0.51333375,\n",
       "        0.41658916,  0.49904284,  0.40021034, -0.52027491,  0.43952132,\n",
       "       -0.44682341, -0.44625969, -0.37808747,  0.50745922, -0.14112188,\n",
       "        0.42489533, -0.43233877, -0.48959849,  0.44058265,  0.36009378])"
      ]
     },
     "execution_count": 35,
     "metadata": {},
     "output_type": "execute_result"
    }
   ],
   "source": [
    "'''\n",
    "     出力レイヤーのユニットごとの影響変数を\n",
    "     ラベル 3940 について確認\n",
    "     feature=[2010 outlook メール 未読 探す 大変]\n",
    "'''\n",
    "ruiji = estimator.coefs_[1].T[26] # ラベル「3940」のインデックス\n",
    "ruiji"
   ]
  },
  {
   "cell_type": "code",
   "execution_count": 36,
   "metadata": {
    "collapsed": false,
    "deletable": true,
    "editable": true,
    "scrolled": false
   },
   "outputs": [],
   "source": [
    "'''\n",
    "    feature「outlook」「メール」「編集」「可能」「未読」「探す」「大変」の影響が強いユニットについて、\n",
    "    出力レイヤーの影響変数を抽出してみます\n",
    "'''\n",
    "threshold = 0.43 # <---全般的に影響変数の値が小さいので調整しております"
   ]
  },
  {
   "cell_type": "code",
   "execution_count": 37,
   "metadata": {
    "collapsed": false,
    "deletable": true,
    "editable": true
   },
   "outputs": [
    {
     "data": {
      "text/plain": [
       "array([ 0.44357679,  0.44998926])"
      ]
     },
     "execution_count": 37,
     "metadata": {},
     "output_type": "execute_result"
    }
   ],
   "source": [
    "get_output_layer_coef(ruiji, outlook_index, threshold) # <---ラベルに関係のあるfeature"
   ]
  },
  {
   "cell_type": "code",
   "execution_count": 38,
   "metadata": {
    "collapsed": false,
    "deletable": true,
    "editable": true,
    "scrolled": false
   },
   "outputs": [
    {
     "data": {
      "text/plain": [
       "array([ 0.43831028])"
      ]
     },
     "execution_count": 38,
     "metadata": {},
     "output_type": "execute_result"
    }
   ],
   "source": [
    "get_output_layer_coef(ruiji, mail_index, threshold) # <---ラベルに関係のあるfeature"
   ]
  },
  {
   "cell_type": "code",
   "execution_count": 39,
   "metadata": {
    "collapsed": false,
    "deletable": true,
    "editable": true,
    "scrolled": true
   },
   "outputs": [
    {
     "data": {
      "text/plain": [
       "array([], dtype=float64)"
      ]
     },
     "execution_count": 39,
     "metadata": {},
     "output_type": "execute_result"
    }
   ],
   "source": [
    "get_output_layer_coef(ruiji, henshu_index, threshold) # <---ラベルに無関係"
   ]
  },
  {
   "cell_type": "code",
   "execution_count": 40,
   "metadata": {
    "collapsed": false,
    "deletable": true,
    "editable": true,
    "scrolled": true
   },
   "outputs": [
    {
     "data": {
      "text/plain": [
       "array([], dtype=float64)"
      ]
     },
     "execution_count": 40,
     "metadata": {},
     "output_type": "execute_result"
    }
   ],
   "source": [
    "get_output_layer_coef(ruiji, kanou_index, threshold) # <---ラベルに無関係"
   ]
  },
  {
   "cell_type": "code",
   "execution_count": 41,
   "metadata": {
    "collapsed": false,
    "deletable": true,
    "editable": true,
    "scrolled": false
   },
   "outputs": [
    {
     "data": {
      "text/plain": [
       "array([ 0.46095744,  0.43572999,  0.47407428])"
      ]
     },
     "execution_count": 41,
     "metadata": {},
     "output_type": "execute_result"
    }
   ],
   "source": [
    "get_output_layer_coef(ruiji, midoku_index, threshold) # <---ラベルに関係のあるfeature"
   ]
  },
  {
   "cell_type": "code",
   "execution_count": 42,
   "metadata": {
    "collapsed": false,
    "deletable": true,
    "editable": true,
    "scrolled": false
   },
   "outputs": [
    {
     "data": {
      "text/plain": [
       "array([ 0.46975785])"
      ]
     },
     "execution_count": 42,
     "metadata": {},
     "output_type": "execute_result"
    }
   ],
   "source": [
    "get_output_layer_coef(ruiji, sagasu_index, threshold) # <---ラベルに関係のあるfeature"
   ]
  },
  {
   "cell_type": "code",
   "execution_count": 43,
   "metadata": {
    "collapsed": false,
    "deletable": true,
    "editable": true,
    "scrolled": true
   },
   "outputs": [
    {
     "data": {
      "text/plain": [
       "array([], dtype=float64)"
      ]
     },
     "execution_count": 43,
     "metadata": {},
     "output_type": "execute_result"
    }
   ],
   "source": [
    "get_output_layer_coef(ruiji, taihen_index, threshold) # <---ラベルに関係のあるfeature"
   ]
  }
 ],
 "metadata": {
  "kernelspec": {
   "display_name": "Python 3",
   "language": "python",
   "name": "python3"
  },
  "language_info": {
   "codemirror_mode": {
    "name": "ipython",
    "version": 3
   },
   "file_extension": ".py",
   "mimetype": "text/x-python",
   "name": "python",
   "nbconvert_exporter": "python",
   "pygments_lexer": "ipython3",
   "version": "3.5.2"
  }
 },
 "nbformat": 4,
 "nbformat_minor": 2
}
