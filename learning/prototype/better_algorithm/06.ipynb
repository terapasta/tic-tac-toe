{
 "cells": [
  {
   "cell_type": "markdown",
   "metadata": {
    "deletable": true,
    "editable": true
   },
   "source": [
    "# ニューラルネットワークの誤答に関する調査\n",
    "\n",
    "<a href=\"05.ipynb\"><b>グリッドサーチにより最適化が行われたモデル</b></a>でも、数字だけを見れば1.5%〜2.5%の誤答等が出るようです。\n",
    "\n",
    "こちらの誤答例やその原因について調査しました。"
   ]
  },
  {
   "cell_type": "markdown",
   "metadata": {
    "deletable": true,
    "editable": true
   },
   "source": [
    "## (1) テストデータ／環境準備"
   ]
  },
  {
   "cell_type": "code",
   "execution_count": 1,
   "metadata": {
    "collapsed": false,
    "deletable": true,
    "editable": true
   },
   "outputs": [],
   "source": [
    "'''\n",
    "    テスト環境を準備するためのモジュールを使用します。\n",
    "'''\n",
    "import sys\n",
    "import os\n",
    "learning_dir = os.path.abspath(\"../../\") #<--- donusagi-bot/learning\n",
    "os.chdir(learning_dir)\n",
    "\n",
    "if learning_dir not in sys.path:\n",
    "    sys.path.append(learning_dir)\n",
    "\n",
    "from prototype.modules import TestTool"
   ]
  },
  {
   "cell_type": "markdown",
   "metadata": {
    "deletable": true,
    "editable": true
   },
   "source": [
    "### (1-1) テストデータをコピー"
   ]
  },
  {
   "cell_type": "code",
   "execution_count": 2,
   "metadata": {
    "collapsed": false,
    "deletable": true,
    "editable": true,
    "scrolled": false
   },
   "outputs": [
    {
     "name": "stdout",
     "output_type": "stream",
     "text": [
      "CSV file for test=[/Users/makmorit/GitHub/donusagi-bot/learning/prototype/resources/test_daikin_conversation.csv]\n",
      "CSV file for test=[/Users/makmorit/GitHub/donusagi-bot/learning/prototype/resources/test_benefitone_conversation.csv]\n",
      "CSV file for test=[/Users/makmorit/GitHub/donusagi-bot/learning/prototype/resources/test_septeni_conversation.csv]\n",
      "CSV file for test=[/Users/makmorit/GitHub/donusagi-bot/learning/prototype/resources/test_ptna_conversation.csv]\n"
     ]
    }
   ],
   "source": [
    "'''\n",
    "    データファイルは、既存の訓練データを別場所にコピーしてから使用します\n",
    "    テストデータは、csv_file_name で指定した複数件のファイルを使用します。\n",
    "'''\n",
    "csv_file_names = [\n",
    "    'test_daikin_conversation.csv',\n",
    "    'test_benefitone_conversation.csv',\n",
    "    'test_septeni_conversation.csv',\n",
    "    'test_ptna_conversation.csv',\n",
    "]\n",
    "temp_path = TestTool.copy_testdata_csv(learning_dir, csv_file_names)"
   ]
  },
  {
   "cell_type": "markdown",
   "metadata": {
    "deletable": true,
    "editable": true
   },
   "source": [
    "## (2) モデルの準備\n",
    "\n",
    "学習(GridSearchCV.fit)--->評価(Evaluator.evaluate)の流れで実行させます。\n",
    "\n",
    "グリッドサーチは省略しております。"
   ]
  },
  {
   "cell_type": "code",
   "execution_count": 3,
   "metadata": {
    "collapsed": false,
    "deletable": true,
    "editable": true,
    "scrolled": false
   },
   "outputs": [
    {
     "name": "stderr",
     "output_type": "stream",
     "text": [
      "/Library/Frameworks/Python.framework/Versions/3.5/lib/python3.5/site-packages/sklearn/cross_validation.py:44: DeprecationWarning: This module was deprecated in version 0.18 in favor of the model_selection module into which all the refactored classes and functions are moved. Also note that the interface of the new CV iterators are different from that of this module. This module will be removed in 0.20.\n",
      "  \"This module will be removed in 0.20.\", DeprecationWarning)\n",
      "/Library/Frameworks/Python.framework/Versions/3.5/lib/python3.5/site-packages/sklearn/grid_search.py:43: DeprecationWarning: This module was deprecated in version 0.18 in favor of the model_selection module into which all the refactored classes and functions are moved. This module will be removed in 0.20.\n",
      "  DeprecationWarning)\n"
     ]
    }
   ],
   "source": [
    "from time import time\n",
    "import numpy as np\n",
    "\n",
    "from sklearn.grid_search import GridSearchCV\n",
    "from sklearn.neural_network import MLPClassifier\n",
    "\n",
    "from learning.core.evaluator import Evaluator\n",
    "\n",
    "def fit_and_cross_validation(path):\n",
    "    '''\n",
    "        訓練データのTF-IDFベクターを作成\n",
    "    '''\n",
    "    basename = os.path.basename(path)\n",
    "    print(\"prepare_tf_idf_vectors: dataset=%s...\" % basename)\n",
    "    t0 = time()\n",
    "\n",
    "    X, y, vectorizer = TestTool.prepare_tf_idf_vectors(path)\n",
    "    print(\"prepare_tf_idf_vectors: done in %0.3fs.\" % (time() - t0))\n",
    "\n",
    "    '''\n",
    "        訓練データ全体を使用して学習実施\n",
    "        レイヤーはデフォルトの1層\n",
    "        レイヤーに100件ユニットを生成する設定\n",
    "    '''\n",
    "    print(\"MLPClassifier: fitting...\")\n",
    "    t0 = time()\n",
    "\n",
    "    cls = MLPClassifier(hidden_layer_sizes=(100,), max_iter=10000,\n",
    "                        activation='logistic', shuffle=False, random_state=0)\n",
    "    estimator = cls.fit(X, y)\n",
    "    print(\"MLPClassifier: done in %0.3fs.\" % (time() - t0))\n",
    "\n",
    "    ''' \n",
    "        クロスバリデーション（モデル評価フェーズ）を実施\n",
    "        プロダクションと同様、Evaluator クラスを使用して評価します\n",
    "    '''\n",
    "    print(\"Evaluator: evaluating...\")\n",
    "    t0 = time()\n",
    "\n",
    "    evaluator = Evaluator()\n",
    "    evaluator.evaluate(estimator, X, y, threshold=0.5)\n",
    "    print(\"Evaluator: done in %0.3fs.\" % (time() - t0))\n",
    "    \n",
    "    return (basename, X, y, vectorizer, estimator, evaluator)"
   ]
  },
  {
   "cell_type": "markdown",
   "metadata": {
    "deletable": true,
    "editable": true
   },
   "source": [
    "### (2-1) モデル作成／評価"
   ]
  },
  {
   "cell_type": "code",
   "execution_count": 4,
   "metadata": {
    "collapsed": false,
    "deletable": true,
    "editable": true,
    "scrolled": false
   },
   "outputs": [
    {
     "name": "stderr",
     "output_type": "stream",
     "text": [
      "2017/04/06 PM 04:23:23 TrainingMessageFromCsv#__build_learning_training_messages count of learning data: 17443\n",
      "2017/04/06 PM 04:23:23 TextArray#__init__ start\n"
     ]
    },
    {
     "name": "stdout",
     "output_type": "stream",
     "text": [
      "prepare_tf_idf_vectors: dataset=test_daikin_conversation.csv...\n"
     ]
    },
    {
     "name": "stderr",
     "output_type": "stream",
     "text": [
      "2017/04/06 PM 04:23:33 TextArray#to_vec start\n",
      "2017/04/06 PM 04:23:33 TextArray#to_vec end\n"
     ]
    },
    {
     "name": "stdout",
     "output_type": "stream",
     "text": [
      "prepare_tf_idf_vectors: done in 10.189s.\n",
      "MLPClassifier: fitting...\n"
     ]
    },
    {
     "name": "stderr",
     "output_type": "stream",
     "text": [
      "2017/04/06 PM 04:26:19 self.threshold: 0.5\n"
     ]
    },
    {
     "name": "stdout",
     "output_type": "stream",
     "text": [
      "MLPClassifier: done in 165.559s.\n",
      "Evaluator: evaluating...\n"
     ]
    },
    {
     "name": "stderr",
     "output_type": "stream",
     "text": [
      "2017/04/06 PM 04:28:49 Evaluator#evaluate#elapsed time: 149649.779081 ms\n",
      "2017/04/06 PM 04:28:49 accuracy: 0.985557083906\n",
      "2017/04/06 PM 04:28:49 TrainingMessageFromCsv#__build_learning_training_messages count of learning data: 4114\n",
      "2017/04/06 PM 04:28:49 TextArray#__init__ start\n"
     ]
    },
    {
     "name": "stdout",
     "output_type": "stream",
     "text": [
      "0.985557083906\n",
      "Evaluator: done in 149.653s.\n",
      "prepare_tf_idf_vectors: dataset=test_benefitone_conversation.csv...\n"
     ]
    },
    {
     "name": "stderr",
     "output_type": "stream",
     "text": [
      "2017/04/06 PM 04:28:50 TextArray#to_vec start\n",
      "2017/04/06 PM 04:28:50 TextArray#to_vec end\n"
     ]
    },
    {
     "name": "stdout",
     "output_type": "stream",
     "text": [
      "prepare_tf_idf_vectors: done in 1.586s.\n",
      "MLPClassifier: fitting...\n"
     ]
    },
    {
     "name": "stderr",
     "output_type": "stream",
     "text": [
      "2017/04/06 PM 04:29:08 self.threshold: 0.5\n"
     ]
    },
    {
     "name": "stdout",
     "output_type": "stream",
     "text": [
      "MLPClassifier: done in 17.284s.\n",
      "Evaluator: evaluating...\n"
     ]
    },
    {
     "name": "stderr",
     "output_type": "stream",
     "text": [
      "2017/04/06 PM 04:29:22 Evaluator#evaluate#elapsed time: 14923.961163 ms\n",
      "2017/04/06 PM 04:29:22 accuracy: 0.985436893204\n",
      "2017/04/06 PM 04:29:22 TrainingMessageFromCsv#__build_learning_training_messages count of learning data: 2156\n",
      "2017/04/06 PM 04:29:22 TextArray#__init__ start\n"
     ]
    },
    {
     "name": "stdout",
     "output_type": "stream",
     "text": [
      "0.985436893204\n",
      "Evaluator: done in 14.926s.\n",
      "prepare_tf_idf_vectors: dataset=test_septeni_conversation.csv...\n"
     ]
    },
    {
     "name": "stderr",
     "output_type": "stream",
     "text": [
      "2017/04/06 PM 04:29:23 TextArray#to_vec start\n",
      "2017/04/06 PM 04:29:23 TextArray#to_vec end\n"
     ]
    },
    {
     "name": "stdout",
     "output_type": "stream",
     "text": [
      "prepare_tf_idf_vectors: done in 0.926s.\n",
      "MLPClassifier: fitting...\n"
     ]
    },
    {
     "name": "stderr",
     "output_type": "stream",
     "text": [
      "2017/04/06 PM 04:29:40 self.threshold: 0.5\n"
     ]
    },
    {
     "name": "stdout",
     "output_type": "stream",
     "text": [
      "MLPClassifier: done in 16.594s.\n",
      "Evaluator: evaluating...\n"
     ]
    },
    {
     "name": "stderr",
     "output_type": "stream",
     "text": [
      "2017/04/06 PM 04:29:54 Evaluator#evaluate#elapsed time: 13528.641939 ms\n",
      "2017/04/06 PM 04:29:54 accuracy: 0.974074074074\n",
      "2017/04/06 PM 04:29:54 TrainingMessageFromCsv#__build_learning_training_messages count of learning data: 4559\n",
      "2017/04/06 PM 04:29:54 TextArray#__init__ start\n"
     ]
    },
    {
     "name": "stdout",
     "output_type": "stream",
     "text": [
      "0.974074074074\n",
      "Evaluator: done in 13.531s.\n",
      "prepare_tf_idf_vectors: dataset=test_ptna_conversation.csv...\n"
     ]
    },
    {
     "name": "stderr",
     "output_type": "stream",
     "text": [
      "2017/04/06 PM 04:29:55 TextArray#to_vec start\n",
      "2017/04/06 PM 04:29:55 TextArray#to_vec end\n"
     ]
    },
    {
     "name": "stdout",
     "output_type": "stream",
     "text": [
      "prepare_tf_idf_vectors: done in 1.834s.\n",
      "MLPClassifier: fitting...\n"
     ]
    },
    {
     "name": "stderr",
     "output_type": "stream",
     "text": [
      "2017/04/06 PM 04:30:11 self.threshold: 0.5\n"
     ]
    },
    {
     "name": "stdout",
     "output_type": "stream",
     "text": [
      "MLPClassifier: done in 16.124s.\n",
      "Evaluator: evaluating...\n"
     ]
    },
    {
     "name": "stderr",
     "output_type": "stream",
     "text": [
      "2017/04/06 PM 04:30:26 Evaluator#evaluate#elapsed time: 14404.474020 ms\n",
      "2017/04/06 PM 04:30:26 accuracy: 0.978965819457\n"
     ]
    },
    {
     "name": "stdout",
     "output_type": "stream",
     "text": [
      "0.978965819457\n",
      "Evaluator: done in 14.407s.\n"
     ]
    }
   ],
   "source": [
    "list_of_classifiers = []\n",
    "for path in temp_path:\n",
    "    classifier = fit_and_cross_validation(path)\n",
    "    list_of_classifiers.append(classifier)"
   ]
  },
  {
   "cell_type": "markdown",
   "metadata": {
    "deletable": true,
    "editable": true
   },
   "source": [
    "### (2-2) 結果の確認"
   ]
  },
  {
   "cell_type": "code",
   "execution_count": 5,
   "metadata": {
    "collapsed": false,
    "deletable": true,
    "editable": true,
    "scrolled": false
   },
   "outputs": [
    {
     "name": "stdout",
     "output_type": "stream",
     "text": [
      "[test_daikin_conversation.csv] best parameter: hidden_layer_sizes=(100,), accuracy=0.985557\n",
      "[test_benefitone_conversation.csv] best parameter: hidden_layer_sizes=(100,), accuracy=0.985437\n",
      "[test_septeni_conversation.csv] best parameter: hidden_layer_sizes=(100,), accuracy=0.974074\n",
      "[test_ptna_conversation.csv] best parameter: hidden_layer_sizes=(100,), accuracy=0.978966\n"
     ]
    }
   ],
   "source": [
    "from learning.core.persistance import Persistance\n",
    "bot_id = 9000\n",
    "\n",
    "for classifier in list_of_classifiers:\n",
    "    basename, X, y, vectorizer, estimator, evaluator = classifier\n",
    "    params = estimator.get_params()\n",
    "\n",
    "    print('[%s] best parameter: hidden_layer_sizes=%s, accuracy=%0.6f' % (\n",
    "        basename, str(params['hidden_layer_sizes']), evaluator.accuracy\n",
    "    ))\n",
    "    '''\n",
    "        分析のため、シリアライズします\n",
    "    '''\n",
    "    bot_id += 1\n",
    "    Persistance.dump_model(estimator, bot_id)\n",
    "    Persistance.dump_vectorizer(vectorizer, bot_id)"
   ]
  },
  {
   "cell_type": "markdown",
   "metadata": {
    "deletable": true,
    "editable": true
   },
   "source": [
    "## (3) 調査"
   ]
  },
  {
   "cell_type": "markdown",
   "metadata": {
    "deletable": true,
    "editable": true
   },
   "source": [
    "### (3-1) 誤答結果の抽出\n",
    "\n",
    "正解率が比較的低かった[test_septeni_conversation.csv]をサンプルとして使用します。"
   ]
  },
  {
   "cell_type": "code",
   "execution_count": 6,
   "metadata": {
    "collapsed": false,
    "deletable": true,
    "editable": true
   },
   "outputs": [
    {
     "name": "stdout",
     "output_type": "stream",
     "text": [
      "[test_septeni_conversation.csv] accuracy=0.974074, output=165\n"
     ]
    }
   ],
   "source": [
    "basename, X, y, vectorizer, estimator, evaluator = list_of_classifiers[2]\n",
    "params = estimator.get_params()\n",
    "\n",
    "print('[%s] accuracy=%0.6f, output=%d' % (\n",
    "    basename, evaluator.accuracy, estimator.n_outputs_\n",
    "))"
   ]
  },
  {
   "cell_type": "markdown",
   "metadata": {},
   "source": [
    "#### 訓練データを予測にかけます\n",
    "\n",
    "この中で不正解かつ閾値が上回っているものを抽出します。\n",
    "\n",
    "（注：クロスバリデーション[Shuffle&Split]時に不正解になったものを含みます）"
   ]
  },
  {
   "cell_type": "code",
   "execution_count": 7,
   "metadata": {
    "collapsed": false,
    "scrolled": false
   },
   "outputs": [
    {
     "name": "stdout",
     "output_type": "stream",
     "text": [
      "__accuracy_score: score=0.974074(526/540), error detected=14(error=12, unable=2)\n"
     ]
    }
   ],
   "source": [
    "from sklearn.cross_validation import ShuffleSplit\n",
    "from sklearn.cross_validation import cross_val_score\n",
    "\n",
    "error_indexes = [] # 誤答データが入っているインデックス\n",
    "unable_indexes = [] # 回答不能データが入っているインデックス\n",
    "\n",
    "def __accuracy_score(estimator, X, y):\n",
    "    y_pred = estimator.predict(X)\n",
    "    probabilities = estimator.predict_proba(X)\n",
    "    max_probabilities = np.max(probabilities, axis=1)\n",
    "\n",
    "    # 予測結果と実際を比較\n",
    "    bools = y == y_pred\n",
    "    # しきい値を超えているもののみをTrueにする\n",
    "    bools = bools == (max_probabilities > 0.5)\n",
    "    # 正当率を算出\n",
    "    score = np.sum(bools) / np.size(bools, axis=0)\n",
    "\n",
    "    '''\n",
    "        誤答分／回答不能分のみ抽出\n",
    "    '''\n",
    "    for i, _ in enumerate(y):\n",
    "        if y[i] != y_pred[i] and max_probabilities[i] > 0.5: # これは誤答\n",
    "            error_indexes.append((i, X[i], y[i], y_pred[i], max_probabilities[i]))\n",
    "\n",
    "        if y[i] == y_pred[i] and max_probabilities[i] <= 0.5: # これは回答不能\n",
    "            unable_indexes.append((i, X[i], y[i], y_pred[i], max_probabilities[i]))\n",
    "\n",
    "    '''\n",
    "        検算\n",
    "    '''\n",
    "    print('__accuracy_score: score=%0.6f(%d/%d), error detected=%d(error=%d, unable=%d)' % (\n",
    "        score, \n",
    "        np.sum(bools), \n",
    "        np.size(bools, axis=0), \n",
    "        np.size(bools, axis=0)-np.sum(bools), # <---ここまでが accuracy 算出に用いたデータ\n",
    "        len(error_indexes), # <---誤答分\n",
    "        len(unable_indexes) # <---回答不能分\n",
    "    ))\n",
    "\n",
    "    return score\n",
    "\n",
    "'''\n",
    "    クロスバリデーション[Shuffle&Split]時に不正解になったものを抽出するため、\n",
    "    訓練データを再度分割\n",
    "'''\n",
    "cv = ShuffleSplit(X.shape[0], n_iter=1, test_size=0.25, random_state=0)\n",
    "__accuracy = np.mean(cross_val_score(estimator, X, y, cv=cv, scoring=__accuracy_score))"
   ]
  },
  {
   "cell_type": "markdown",
   "metadata": {
    "deletable": true,
    "editable": true
   },
   "source": [
    "### (3-2) 誤答されたデータのfeatureを確認"
   ]
  },
  {
   "cell_type": "code",
   "execution_count": 8,
   "metadata": {
    "collapsed": false,
    "scrolled": false
   },
   "outputs": [
    {
     "name": "stdout",
     "output_type": "stream",
     "text": [
      "index=36[モニタ=0.707 不調=0.707], label=4613 --> predicted as 4577(proba=0.646)\n",
      "index=47[sap=0.577 パスワード=0.577 忘れる=0.577], label=4441 --> predicted as 4503(proba=0.624)\n",
      "index=60[sap=0.500 ない=0.500 ログイン=0.500 出来る=0.500], label=4524 --> predicted as 4515(proba=0.738)\n",
      "index=130[パスワード=0.707 変更=0.707], label=4507 --> predicted as 4531(proba=0.747)\n",
      "index=152[アカウント=0.577 競合=0.577 解消=0.577], label=4579 --> predicted as 4627(proba=0.931)\n",
      "index=285[pw=0.577 忘れる=0.577 販管=0.577], label=4441 --> predicted as 4503(proba=0.733)\n",
      "index=352[アカウント=0.577 競合=0.577 解消=0.577], label=4579 --> predicted as 4627(proba=0.931)\n",
      "index=396[ない=0.500 ログイン=0.500 出来る=0.500 販管=0.500], label=4524 --> predicted as 4515(proba=0.617)\n",
      "index=432[モニタ=0.707 不調=0.707], label=4613 --> predicted as 4577(proba=0.646)\n",
      "index=461[windows=0.500 ない=0.500 ログイン=0.500 出来る=0.500], label=4583 --> predicted as 4420(proba=0.673)\n",
      "index=503[pw=0.577 忘れる=0.577 販管=0.577], label=4441 --> predicted as 4503(proba=0.733)\n",
      "index=505[pw=0.500 ログイン=0.500 忘れる=0.500 販管=0.500], label=4503 --> predicted as 4515(proba=0.628)\n"
     ]
    }
   ],
   "source": [
    "for i, __X, label, pred, max_proba in error_indexes:\n",
    "    arr = __X.toarray()[0]\n",
    "    dump_str = TestTool.dump_features(arr, vectorizer.vocabulary_)\n",
    "    print('index=%d%s, label=%d --> predicted as %d(proba=%0.3f)' % (\n",
    "        i, dump_str, label, pred, max_proba))"
   ]
  },
  {
   "cell_type": "markdown",
   "metadata": {},
   "source": [
    "#### 4613 ---> 4577（2件）、4441 ---> 4503（3件）、4579 ---> 4627（2件）と誤答されるケースについて見てみます。\n",
    "\n",
    "サンプル数の偏りがあったというわけではなさそうです。"
   ]
  },
  {
   "cell_type": "code",
   "execution_count": 9,
   "metadata": {
    "collapsed": false,
    "scrolled": true
   },
   "outputs": [
    {
     "data": {
      "text/plain": [
       "[[4441, 22], [4503, 22], [4577, 8], [4579, 10], [4613, 8], [4627, 8]]"
      ]
     },
     "execution_count": 9,
     "metadata": {},
     "output_type": "execute_result"
    }
   ],
   "source": [
    "[item for item in TestTool.count_sample_by_label(y) if item[0] in [4613,4577,4441,4503,4579,4627]]"
   ]
  },
  {
   "cell_type": "markdown",
   "metadata": {},
   "source": [
    "#### ボキャブラリIDを取得しておきます"
   ]
  },
  {
   "cell_type": "code",
   "execution_count": 10,
   "metadata": {
    "collapsed": false,
    "scrolled": true
   },
   "outputs": [
    {
     "data": {
      "text/plain": [
       "[('モニタ', 213), ('不調', 237)]"
      ]
     },
     "execution_count": 10,
     "metadata": {},
     "output_type": "execute_result"
    }
   ],
   "source": [
    "[(k,v) for (k,v) in vectorizer.vocabulary_.items() if k in ['モニタ','不調']]"
   ]
  },
  {
   "cell_type": "markdown",
   "metadata": {},
   "source": [
    "#### 出力レイヤーにおけるラベルのインデックスを取得しておきます"
   ]
  },
  {
   "cell_type": "code",
   "execution_count": 11,
   "metadata": {
    "collapsed": false,
    "scrolled": true
   },
   "outputs": [
    {
     "data": {
      "text/plain": [
       "(array([148]),)"
      ]
     },
     "execution_count": 11,
     "metadata": {},
     "output_type": "execute_result"
    }
   ],
   "source": [
    "np.where(estimator.classes_==4613)"
   ]
  },
  {
   "cell_type": "code",
   "execution_count": 12,
   "metadata": {
    "collapsed": false,
    "deletable": true,
    "editable": true,
    "scrolled": false
   },
   "outputs": [
    {
     "data": {
      "text/plain": [
       "(array([112]),)"
      ]
     },
     "execution_count": 12,
     "metadata": {},
     "output_type": "execute_result"
    }
   ],
   "source": [
    "np.where(estimator.classes_==4577)"
   ]
  },
  {
   "cell_type": "markdown",
   "metadata": {},
   "source": [
    "#### MLP内における feature の重み付けを確認\n",
    "\n",
    "MLPモデル内の全ユニット（100件）に対する影響変数をprintしてみました。\n",
    "\n",
    "「モニタ」が複数のユニットに対して強い特徴を示しているようです（2を超える値が頻出）\n",
    "\n",
    "複数クラスに対して、影響が強いfeatureであると感じられます。\n",
    "\n",
    "他方「不調」はあまり重み付けがされないことが伺えます（1.5を超える値がない）"
   ]
  },
  {
   "cell_type": "code",
   "execution_count": 13,
   "metadata": {
    "collapsed": false,
    "scrolled": true
   },
   "outputs": [
    {
     "data": {
      "text/plain": [
       "array([ 1.75124299,  1.71858051, -1.71767921, -1.99715393,  1.80668973,\n",
       "        1.98612823, -0.81741437, -1.51923621, -1.43344832,  0.97137116,\n",
       "       -1.08127899, -1.31551312,  1.41857381, -1.46749987, -1.5003903 ,\n",
       "        1.9655057 , -1.49038115, -0.09915292, -2.18583265,  2.1207377 ,\n",
       "       -1.76189853, -1.12438231, -2.00025381,  2.22041372,  2.13069815,\n",
       "       -1.29328061,  0.32684533,  1.55841729, -1.41472041,  2.0277358 ,\n",
       "       -1.51712519, -1.61757326,  1.38591144, -1.04943509,  0.60662344,\n",
       "       -2.02939331, -1.50090554,  1.68563419, -1.64366229,  1.71088974,\n",
       "        2.42956051, -1.71804918,  1.5642658 , -1.35216496, -1.92300335,\n",
       "       -1.87322252, -1.81612381, -0.44403946, -1.61742105, -0.73738901,\n",
       "       -1.55416245, -1.62094359,  1.8125792 ,  1.93053547,  1.46247901,\n",
       "       -0.18711195, -1.5544135 ,  0.94745708, -1.40768527, -0.60831401,\n",
       "       -1.64367182, -1.85771126,  0.50493039, -0.92488594,  1.72777314,\n",
       "        2.11566165,  2.06440852,  1.68753153,  1.68104491, -2.03425882,\n",
       "        1.37009357, -0.50693775,  1.71431271, -1.52658935, -1.79172679,\n",
       "       -1.45849358, -1.62297041, -1.78617236,  1.84976   , -1.88903188,\n",
       "        1.74990139, -0.23314426, -1.06885167, -1.15634387, -1.8433945 ,\n",
       "       -1.81455261,  1.84375598,  0.69121612,  2.15411091,  1.59033355,\n",
       "        1.49182639,  2.12277789, -0.23406968,  0.51407036, -1.28823491,\n",
       "        0.48219783, -1.01161744, -1.43526767,  1.05011906, -1.68086465])"
      ]
     },
     "execution_count": 13,
     "metadata": {},
     "output_type": "execute_result"
    }
   ],
   "source": [
    "'''\n",
    "     feature「モニタ」に対する、ユニットごとの影響変数。\n",
    "     値が 1.0 を超えている要素が多い\n",
    "     ---> このfeatureが多くのユニットに影響を与えている可能性あり\n",
    "'''\n",
    "monitor = estimator.coefs_[0][213] # モニタ\n",
    "monitor"
   ]
  },
  {
   "cell_type": "code",
   "execution_count": 14,
   "metadata": {
    "collapsed": false,
    "deletable": true,
    "editable": true,
    "scrolled": true
   },
   "outputs": [
    {
     "data": {
      "text/plain": [
       "(array([ 0,  1,  4,  5, 12, 15, 19, 23, 24, 27, 29, 37, 39, 40, 42, 52, 53,\n",
       "        54, 64, 65, 66, 67, 68, 72, 78, 80, 86, 88, 89, 90, 91]),)"
      ]
     },
     "execution_count": 14,
     "metadata": {},
     "output_type": "execute_result"
    }
   ],
   "source": [
    "'''\n",
    "    feature「モニタ」から誘導されるであろう\n",
    "    ユニットのインデックスを抽出してみます\n",
    "'''\n",
    "monitor_index = np.where(monitor > 1.4)\n",
    "monitor_index"
   ]
  },
  {
   "cell_type": "code",
   "execution_count": 15,
   "metadata": {
    "collapsed": false,
    "deletable": true,
    "editable": true,
    "scrolled": false
   },
   "outputs": [
    {
     "data": {
      "text/plain": [
       "array([ 0.8159311 ,  0.77335313, -0.55941609, -0.59614403,  0.42339188,\n",
       "        0.80956631, -1.11634515, -0.42412606, -0.88006043,  0.4977679 ,\n",
       "       -0.83870146, -1.01352894,  0.8572597 ,  0.08555895,  0.05060537,\n",
       "        0.49097145, -0.5319267 ,  1.32069518,  0.19704951,  0.93646919,\n",
       "       -0.41247626, -0.84295712, -0.66733325,  0.7103349 ,  0.43625168,\n",
       "       -0.98725756, -1.10532095,  0.59508651, -0.54341948,  0.45619787,\n",
       "       -0.69581328, -0.67628005, -1.13576168, -0.95190457,  1.10845446,\n",
       "       -0.93263386,  0.03395297,  0.44358973, -0.95834706,  0.52342216,\n",
       "        0.65474784, -0.77665401,  0.07442442,  0.35896115, -0.21881334,\n",
       "       -0.05545878, -0.65747264,  1.41356214, -0.91584137,  1.44558223,\n",
       "       -0.62054166, -0.49290181,  0.55834308,  0.71659792, -0.88938439,\n",
       "       -1.07417931, -0.89983388, -0.61589732,  1.28465698,  0.96236334,\n",
       "       -0.1165838 , -0.48709424,  0.99555546, -1.06414608,  0.71944496,\n",
       "        0.34302023,  0.51056792,  0.65100236, -0.02299371, -0.46911785,\n",
       "       -0.44375926,  1.42674022,  0.69625535, -0.9342433 , -0.64687146,\n",
       "       -0.9864982 , -0.91565961,  0.34666769,  0.76599328, -0.63346334,\n",
       "        0.74853305, -0.19474054, -0.75951889,  1.47389653, -0.89150061,\n",
       "       -0.57863385,  0.66065254,  0.82028103,  0.49088221,  0.61263922,\n",
       "        0.6706943 ,  0.73799873, -1.22649757, -0.75030396, -1.0394683 ,\n",
       "        1.09688889,  1.10594672, -0.24314202,  1.0132086 , -0.86111449])"
      ]
     },
     "execution_count": 15,
     "metadata": {},
     "output_type": "execute_result"
    }
   ],
   "source": [
    "'''\n",
    "     feature「不調」に対する、ユニットごとの影響変数。\n",
    "     値が 1.0 を超えている要素がすくない\n",
    "     ---> このfeatureが正解ラベルに誘導される可能性が低そう\n",
    "'''\n",
    "fuchou = estimator.coefs_[0][237]\n",
    "fuchou"
   ]
  },
  {
   "cell_type": "code",
   "execution_count": 16,
   "metadata": {
    "collapsed": false,
    "scrolled": true
   },
   "outputs": [
    {
     "data": {
      "text/plain": [
       "(array([47, 49, 71, 83]),)"
      ]
     },
     "execution_count": 16,
     "metadata": {},
     "output_type": "execute_result"
    }
   ],
   "source": [
    "'''\n",
    "    feature「不調」から誘導されるであろう\n",
    "    ユニットのインデックスを抽出してみます\n",
    "'''\n",
    "fuchou_index = np.where(fuchou > 1.4)\n",
    "fuchou_index"
   ]
  },
  {
   "cell_type": "markdown",
   "metadata": {},
   "source": [
    "#### 参考：正解ラベルと、誤答されたラベルの重み付けを確認\n",
    "\n",
    "こちらも、MLPモデル内の全ユニット（100件）に対する影響変数をprintしてみました。\n",
    "\n",
    "推測ですが、feature「モニタ」の影響が 4613（正解ラベル）よりも強い 4577 に引っ張られてしまったのでは・・・と推測しています"
   ]
  },
  {
   "cell_type": "code",
   "execution_count": 17,
   "metadata": {
    "collapsed": false,
    "scrolled": true
   },
   "outputs": [
    {
     "data": {
      "text/plain": [
       "array([ 0.49083822,  0.39070405, -0.46630306, -0.56690567,  0.39587314,\n",
       "        0.458893  , -0.69106909, -0.35285143, -0.8012782 ,  0.13501075,\n",
       "       -0.5256996 , -0.83588898,  0.49312897, -0.20555853, -0.22076135,\n",
       "        0.28573533, -0.53927282,  0.36693938, -0.22428648,  0.48732519,\n",
       "       -0.49123165, -0.40390388, -0.53447728,  0.40712811,  0.34846273,\n",
       "       -0.70967361, -0.06981092,  0.42967023, -0.41072364,  0.38455513,\n",
       "       -0.52132082, -0.4901413 , -0.0427044 , -0.76118532,  0.33082418,\n",
       "       -0.54392046, -0.12918591,  0.35526643, -0.74846999,  0.39378736,\n",
       "        0.32159746, -0.75933578,  0.21687621, -0.15349672, -0.24769814,\n",
       "       -0.28844535, -0.61767084,  0.30320539, -0.56628316,  0.31922049,\n",
       "       -0.49662856, -0.49902541,  0.35734677,  0.5101611 ,  0.14307261,\n",
       "       -0.53899004, -0.49574514,  0.12743199,  0.13267789,  0.27969767,\n",
       "       -0.28825158, -0.26553955,  0.30257418, -0.57702439,  0.47291031,\n",
       "        0.29105785,  0.40841158,  0.42935141,  0.18675321, -0.38300618,\n",
       "        0.18869528,  0.1478465 ,  0.46153094, -0.72038529, -0.42939993,\n",
       "       -0.7792742 , -0.54410767, -0.10898712,  0.40969127, -0.52324994,\n",
       "        0.48363474, -0.11092624, -0.3425282 ,  0.14143639, -0.63763722,\n",
       "       -0.4406079 ,  0.50424246,  0.40474776,  0.40997984,  0.43294121,\n",
       "        0.41322212,  0.45523103, -0.72242697, -0.05826385, -0.74950514,\n",
       "        0.50773977,  0.09134598, -0.46253656,  0.5567061 , -0.57401908])"
      ]
     },
     "execution_count": 17,
     "metadata": {},
     "output_type": "execute_result"
    }
   ],
   "source": [
    "'''\n",
    "     正解ラベル 4613 に誘導される\n",
    "     出力レイヤーのユニットごとの影響変数\n",
    "'''\n",
    "seikai = estimator.coefs_[1].T[148]\n",
    "seikai"
   ]
  },
  {
   "cell_type": "code",
   "execution_count": 18,
   "metadata": {
    "collapsed": false,
    "scrolled": false
   },
   "outputs": [
    {
     "data": {
      "text/plain": [
       "array([ 0.5101611 ,  0.50424246])"
      ]
     },
     "execution_count": 18,
     "metadata": {},
     "output_type": "execute_result"
    }
   ],
   "source": [
    "'''\n",
    "    feature「モニタ」から誘導されたであろう\n",
    "    ユニットの影響変数を抽出してみます\n",
    "'''\n",
    "seikai_coef = seikai[monitor_index]\n",
    "seikai_coef[seikai_coef > 0.5] # 0.5を超えているものだけ抽出"
   ]
  },
  {
   "cell_type": "code",
   "execution_count": 19,
   "metadata": {
    "collapsed": false,
    "deletable": true,
    "editable": true,
    "scrolled": false
   },
   "outputs": [
    {
     "data": {
      "text/plain": [
       "array([], dtype=float64)"
      ]
     },
     "execution_count": 19,
     "metadata": {},
     "output_type": "execute_result"
    }
   ],
   "source": [
    "'''\n",
    "    feature「不調」から誘導されたであろう\n",
    "    ユニットの影響変数を抽出してみます\n",
    "'''\n",
    "seikai_coef = seikai[fuchou_index]\n",
    "seikai_coef[seikai_coef > 0.5] # 0.5を超えているものだけ抽出"
   ]
  },
  {
   "cell_type": "code",
   "execution_count": 20,
   "metadata": {
    "collapsed": false,
    "deletable": true,
    "editable": true,
    "scrolled": true
   },
   "outputs": [
    {
     "data": {
      "text/plain": [
       "array([ 0.14199417,  0.39612735, -0.63403812, -0.62520682,  0.32502789,\n",
       "        0.26370443,  0.39026281, -0.38884786, -0.18357886,  0.12606036,\n",
       "       -0.14074037,  0.06317695, -0.02259517, -0.81314361, -0.56339883,\n",
       "        0.33551269, -0.52536694, -0.71913637, -0.32333056, -0.04576833,\n",
       "       -0.87880649,  0.03702268, -0.3901105 ,  0.26541143,  0.46416539,\n",
       "        0.08139097,  0.53837967,  0.50603368, -0.48883159,  0.65708343,\n",
       "       -0.47677993, -0.4245336 ,  0.27913033, -0.01411367, -0.4289071 ,\n",
       "       -0.17287753, -0.39846825,  0.59034191, -0.17846167,  0.48458828,\n",
       "        0.20601362, -0.62614346,  0.54961127, -0.94294814, -0.45719657,\n",
       "       -0.69836234, -0.6081932 , -0.80170637,  0.03577268, -0.57171625,\n",
       "       -0.41563182, -0.66670066,  0.42155077,  0.43222125,  0.44125076,\n",
       "        0.29385293,  0.00881336,  0.42668363, -0.46498831, -0.13613934,\n",
       "       -0.64496049, -0.21968882, -0.21648138, -0.07291517,  0.31166095,\n",
       "        0.49803022,  0.5888137 ,  0.38983786,  0.59818746, -0.41698561,\n",
       "        0.51861203, -0.67082657,  0.35439489,  0.08167388, -0.23545911,\n",
       "       -0.06272059,  0.02804162, -0.35210614,  0.12332897, -0.54002051,\n",
       "        0.39705851, -0.11686364, -0.03021394, -0.79669817, -0.26992565,\n",
       "       -0.57463082,  0.42059692,  0.14942282,  0.26940415,  0.5129703 ,\n",
       "        0.28994709,  0.11205558,  0.51110531,  0.28667299,  0.09712926,\n",
       "       -0.34165949, -0.22130353, -0.84072576, -0.44431141, -0.38718088])"
      ]
     },
     "execution_count": 20,
     "metadata": {},
     "output_type": "execute_result"
    }
   ],
   "source": [
    "'''\n",
    "     誤答先ラベル 4577 に誘導される\n",
    "     出力レイヤーのユニットごとの影響変数\n",
    "'''\n",
    "gotou = estimator.coefs_[1].T[112] # 誤答先のラベル\n",
    "gotou"
   ]
  },
  {
   "cell_type": "code",
   "execution_count": 21,
   "metadata": {
    "collapsed": false,
    "deletable": true,
    "editable": true,
    "scrolled": true
   },
   "outputs": [
    {
     "data": {
      "text/plain": [
       "array([ 0.50603368,  0.65708343,  0.59034191,  0.54961127,  0.5888137 ,\n",
       "        0.59818746,  0.5129703 ])"
      ]
     },
     "execution_count": 21,
     "metadata": {},
     "output_type": "execute_result"
    }
   ],
   "source": [
    "'''\n",
    "    feature「モニタ」から誘導されたであろう\n",
    "    ユニットの影響変数を抽出してみます\n",
    "'''\n",
    "gotou_coef = gotou[monitor_index]\n",
    "gotou_coef[gotou_coef > 0.5] # 0.5を超えているものだけ抽出"
   ]
  },
  {
   "cell_type": "code",
   "execution_count": 22,
   "metadata": {
    "collapsed": false,
    "deletable": true,
    "editable": true,
    "scrolled": false
   },
   "outputs": [
    {
     "data": {
      "text/plain": [
       "array([], dtype=float64)"
      ]
     },
     "execution_count": 22,
     "metadata": {},
     "output_type": "execute_result"
    }
   ],
   "source": [
    "'''\n",
    "    feature「不調」から誘導されたであろう\n",
    "    ユニットの影響変数を抽出してみます\n",
    "'''\n",
    "gotou_coef = gotou[fuchou_index]\n",
    "gotou_coef[gotou_coef > 0.5] # 0.5を超えているものだけ抽出"
   ]
  },
  {
   "cell_type": "markdown",
   "metadata": {
    "deletable": true,
    "editable": true
   },
   "source": [
    "### (3-3) 回答不能とされたデータのfeatureを確認"
   ]
  },
  {
   "cell_type": "code",
   "execution_count": 23,
   "metadata": {
    "collapsed": false,
    "scrolled": true
   },
   "outputs": [
    {
     "name": "stdout",
     "output_type": "stream",
     "text": [
      "index=85[ない=0.577 無線=0.577 繋がる=0.577], label=4495 --> predicted as 4495(proba=0.442)\n",
      "index=446[vpn=0.500 ない=0.500 出来る=0.500 接続=0.500], label=4473 --> predicted as 4473(proba=0.398)\n"
     ]
    }
   ],
   "source": [
    "for i, __X, label, pred, max_proba in unable_indexes:\n",
    "    arr = __X.toarray()[0]\n",
    "    dump_str = TestTool.dump_features(arr, vectorizer.vocabulary_)\n",
    "    print('index=%d%s, label=%d --> predicted as %d(proba=%0.3f)' % (\n",
    "        i, dump_str, label, pred, max_proba))"
   ]
  },
  {
   "cell_type": "markdown",
   "metadata": {},
   "source": [
    "#### こちらは単純に、サンプルが少なかったためと推測されます。\n",
    "\n",
    "（4495=4件、4473=2件）"
   ]
  },
  {
   "cell_type": "code",
   "execution_count": 24,
   "metadata": {
    "collapsed": false,
    "scrolled": true
   },
   "outputs": [
    {
     "data": {
      "text/plain": [
       "[[4473, 2], [4495, 4]]"
      ]
     },
     "execution_count": 24,
     "metadata": {},
     "output_type": "execute_result"
    }
   ],
   "source": [
    "[item for item in TestTool.count_sample_by_label(y) if item[0] in [4495,4473]]"
   ]
  }
 ],
 "metadata": {
  "kernelspec": {
   "display_name": "Python 3",
   "language": "python",
   "name": "python3"
  },
  "language_info": {
   "codemirror_mode": {
    "name": "ipython",
    "version": 3
   },
   "file_extension": ".py",
   "mimetype": "text/x-python",
   "name": "python",
   "nbconvert_exporter": "python",
   "pygments_lexer": "ipython3",
   "version": "3.5.2"
  }
 },
 "nbformat": 4,
 "nbformat_minor": 2
}
