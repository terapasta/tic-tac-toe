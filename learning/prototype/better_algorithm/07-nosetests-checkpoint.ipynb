{
 "cells": [
  {
   "cell_type": "markdown",
   "metadata": {
    "deletable": true,
    "editable": true
   },
   "source": [
    "# ニューラルネットワークとnosetests\n",
    "\n",
    "プロダクションのテストケースが、ニューラルネットワークでどの程度通るかを試してみました。"
   ]
  },
  {
   "cell_type": "markdown",
   "metadata": {
    "deletable": true,
    "editable": true
   },
   "source": [
    "## (1) nosetests に関する study"
   ]
  },
  {
   "cell_type": "markdown",
   "metadata": {
    "deletable": true,
    "editable": true
   },
   "source": [
    "### (1-1) 使い方\n",
    "\n",
    "まずは GitHub から最新のコードを pull します。\n",
    "\n",
    "次に、terminal を起動し、GitHub/donusagi-bot/learning/ 直下に移動します"
   ]
  },
  {
   "cell_type": "markdown",
   "metadata": {
    "deletable": true,
    "editable": true
   },
   "source": [
    "```\n",
    "MacBookPro-makmorit-jp:learning makmorit$ pwd\n",
    "/Users/makmorit/GitHub/donusagi-bot/learning\n",
    "MacBookPro-makmorit-jp:learning makmorit$ ls -al\n",
    "total 56\n",
    "drwxr-xr-x  12 makmorit  staff    408 Mar 31 10:42 .\n",
    "drwxr-xr-x  32 makmorit  staff   1088 Mar 31 10:43 ..\n",
    "-rw-r--r--@  1 makmorit  staff  14340 Apr  8 12:48 .DS_Store\n",
    "-rw-r--r--   1 makmorit  staff     20 Feb  3 13:40 .python-version\n",
    "drwxr-xr-x   3 makmorit  staff    102 Mar  1 12:05 __pycache__\n",
    "drwxr-xr-x   8 makmorit  staff    272 Apr  5 12:05 bin\n",
    "drwxr-xr-x  11 makmorit  staff    374 Mar 15 13:43 learning\n",
    "drwxr-xr-x  19 makmorit  staff    646 Apr  3 10:44 logs\n",
    "-rw-r--r--   1 makmorit  staff   2551 Mar 15 13:43 myope_server.py\n",
    "drwxr-xr-x  29 makmorit  staff    986 Mar 31 10:46 prototype\n",
    "-rw-r--r--   1 makmorit  staff   1098 Mar 31 10:42 requirements.txt\n",
    "-rw-r--r--   1 makmorit  staff      0 Feb  3 13:40 setup.py\n",
    "MacBookPro-makmorit-jp:learning makmorit$\n",
    "```"
   ]
  },
  {
   "cell_type": "markdown",
   "metadata": {
    "deletable": true,
    "editable": true
   },
   "source": [
    "以下のコマンドを実行するとテストが開始されます\n",
    "\n",
    "下記は learning/tests/engine/test_ptna_conversation.py をテスト実行する例です。\n",
    "\n",
    "（ちなみにこちらは次項「(2) ローカル実行時の問題」を解消した後で実行したものです）"
   ]
  },
  {
   "cell_type": "markdown",
   "metadata": {
    "deletable": true,
    "editable": true
   },
   "source": [
    "```\n",
    "MacBookPro-makmorit-jp:learning makmorit$ nosetests learning/tests/engine/test_ptna_conversation.py\n",
    "/Library/Frameworks/Python.framework/Versions/3.5/lib/python3.5/site-packages/sklearn/cross_validation.py:44: DeprecationWarning: This module was deprecated in version 0.18 in favor of the model_selection module into which all the refactored classes and functions are moved. Also note that the interface of the new CV iterators are different from that of this module. This module will be removed in 0.20.\n",
    "  \"This module will be removed in 0.20.\", DeprecationWarning)\n",
    "/Library/Frameworks/Python.framework/Versions/3.5/lib/python3.5/site-packages/sklearn/grid_search.py:43: DeprecationWarning: This module was deprecated in version 0.18 in favor of the model_selection module into which all the refactored classes and functions are moved. This module will be removed in 0.20.\n",
    "  DeprecationWarning)\n",
    ".....\n",
    "----------------------------------------------------------------------\n",
    "Ran 5 tests in 41.801s\n",
    "\n",
    "OK\n",
    "MacBookPro-makmorit-jp:learning makmorit$ \n",
    "```\n",
    "\n"
   ]
  },
  {
   "cell_type": "markdown",
   "metadata": {
    "deletable": true,
    "editable": true
   },
   "source": [
    "テストが正常に通ることは確認できました。"
   ]
  },
  {
   "cell_type": "markdown",
   "metadata": {
    "deletable": true,
    "editable": true
   },
   "source": [
    "## (2) ローカル実行時の問題"
   ]
  },
  {
   "cell_type": "markdown",
   "metadata": {
    "deletable": true,
    "editable": true
   },
   "source": [
    "### (2-1) bot.py\n",
    "\n",
    "bot.py で MySQLdb をimportしようとするところで落ちる。"
   ]
  },
  {
   "cell_type": "markdown",
   "metadata": {
    "collapsed": false,
    "deletable": true,
    "editable": true
   },
   "source": [
    "```\n",
    "E\n",
    "======================================================================\n",
    "ERROR: Failure: ImportError (No module named 'MySQLdb')\n",
    "----------------------------------------------------------------------\n",
    "Traceback (most recent call last):\n",
    "  File \"/Library/Frameworks/Python.framework/Versions/3.5/lib/python3.5/site-packages/nose/failure.py\", line 39, in runTest\n",
    "    raise self.exc_val.with_traceback(self.tb)\n",
    "  File \"/Library/Frameworks/Python.framework/Versions/3.5/lib/python3.5/site-packages/nose/loader.py\", line 418, in loadTestsFromName\n",
    "    addr.filename, addr.module)\n",
    "  File \"/Library/Frameworks/Python.framework/Versions/3.5/lib/python3.5/site-packages/nose/importer.py\", line 47, in importFromPath\n",
    "    return self.importFromDir(dir_path, fqname)\n",
    "  File \"/Library/Frameworks/Python.framework/Versions/3.5/lib/python3.5/site-packages/nose/importer.py\", line 94, in importFromDir\n",
    "    mod = load_module(part_fqname, fh, filename, desc)\n",
    "  File \"/Library/Frameworks/Python.framework/Versions/3.5/lib/python3.5/imp.py\", line 234, in load_module\n",
    "    return load_source(name, filename, file)\n",
    "  File \"/Library/Frameworks/Python.framework/Versions/3.5/lib/python3.5/imp.py\", line 172, in load_source\n",
    "    module = _load(spec)\n",
    "  File \"<frozen importlib._bootstrap>\", line 693, in _load\n",
    "  File \"<frozen importlib._bootstrap>\", line 673, in _load_unlocked\n",
    "  File \"<frozen importlib._bootstrap_external>\", line 665, in exec_module\n",
    "  File \"<frozen importlib._bootstrap>\", line 222, in _call_with_frames_removed\n",
    "  File \"/Users/makmorit/GitHub/donusagi-bot/learning/learning/tests/engine/test_ptna_conversation.py\", line 4, in <module>\n",
    "    from learning.core.learn.bot import Bot\n",
    "  File \"/Users/makmorit/GitHub/donusagi-bot/learning/learning/core/learn/bot.py\", line 3, in <module>\n",
    "    import MySQLdb\n",
    "ImportError: No module named 'MySQLdb'\n",
    "\n",
    "----------------------------------------------------------------------\n",
    "Ran 1 test in 0.001s\n",
    "\n",
    "FAILED (errors=1)\n",
    "```"
   ]
  },
  {
   "cell_type": "markdown",
   "metadata": {
    "deletable": true,
    "editable": true
   },
   "source": [
    "#### 対策として bot.py を修正。\n",
    "\n",
    "(import文の例外を捕捉）"
   ]
  },
  {
   "cell_type": "markdown",
   "metadata": {
    "deletable": true,
    "editable": true
   },
   "source": [
    "```\n",
    "try:\n",
    "    import MySQLdb\n",
    "except:\n",
    "    pass\n",
    "```"
   ]
  },
  {
   "cell_type": "markdown",
   "metadata": {
    "deletable": true,
    "editable": true
   },
   "source": [
    "### (2-2) reply.py\n",
    "\n",
    "reply.py で MySQLdb をimportしようとするところで落ちる。"
   ]
  },
  {
   "cell_type": "markdown",
   "metadata": {
    "deletable": true,
    "editable": true
   },
   "source": [
    "```\n",
    "EEEEE\n",
    "======================================================================\n",
    "ERROR: test_fail_blank (learning.tests.engine.test_ptna_conversation.PtnaConversationTestCase)\n",
    "----------------------------------------------------------------------\n",
    "Traceback (most recent call last):\n",
    "  File \"/Users/makmorit/GitHub/donusagi-bot/learning/learning/tests/engine/test_ptna_conversation.py\", line 62, in test_fail_blank\n",
    "    result = Reply(self.bot_id, helper.learning_parameter(use_similarity_classification=False)).perform(questions)\n",
    "  File \"/Users/makmorit/GitHub/donusagi-bot/learning/learning/core/predict/reply.py\", line 17, in __init__\n",
    "    self.db = MySQLdb.connect(host=dbconfig['host'], db=dbconfig['name'], user=dbconfig['user'],\n",
    "NameError: name 'MySQLdb' is not defined\n",
    "```"
   ]
  },
  {
   "cell_type": "markdown",
   "metadata": {
    "deletable": true,
    "editable": true
   },
   "source": [
    "#### 対策として reply.py を修正。\n",
    "\n",
    "(import文およびconnect関数実行文の例外を捕捉）"
   ]
  },
  {
   "cell_type": "markdown",
   "metadata": {
    "collapsed": false,
    "deletable": true,
    "editable": true
   },
   "source": [
    "```\n",
    "try:\n",
    "    import MySQLdb\n",
    "except:\n",
    "    pass\n",
    "    :\n",
    "    def __init__(self, bot_id, learning_parameter):\n",
    "        :\n",
    "        try:\n",
    "            self.db = MySQLdb.connect(host=dbconfig['host'], db=dbconfig['name'], user=dbconfig['user'],\n",
    "                                 passwd=dbconfig['password'], charset='utf8')\n",
    "        except:\n",
    "            self.db = None\n",
    "```"
   ]
  },
  {
   "cell_type": "markdown",
   "metadata": {
    "deletable": true,
    "editable": true
   },
   "source": [
    "## (3) コードを修正"
   ]
  },
  {
   "cell_type": "markdown",
   "metadata": {
    "deletable": true,
    "editable": true
   },
   "source": [
    "現行のロジスティック回帰を、ニューラルネットワーク（MLP）に変更します。"
   ]
  },
  {
   "cell_type": "markdown",
   "metadata": {
    "deletable": true,
    "editable": true
   },
   "source": [
    "### (3-1) 修正を行ったコード："
   ]
  },
  {
   "cell_type": "markdown",
   "metadata": {
    "deletable": true,
    "editable": true
   },
   "source": [
    "### learning_parameter.py\n",
    "\n",
    "（定数定義 ALGORITHM_NEURAL_NETWORK = 2 を追加）"
   ]
  },
  {
   "cell_type": "markdown",
   "metadata": {
    "deletable": true,
    "editable": true
   },
   "source": [
    "```\n",
    "class LearningParameter:\n",
    "    :\n",
    "    ALGORITHM_NEURAL_NETWORK = 2\n",
    "```"
   ]
  },
  {
   "cell_type": "markdown",
   "metadata": {
    "deletable": true,
    "editable": true
   },
   "source": [
    "### bot.py\n",
    "\n",
    "（MLPClassifier によりグリッドサーチ／学習を行う処理を追加）"
   ]
  },
  {
   "cell_type": "markdown",
   "metadata": {
    "deletable": true,
    "editable": true
   },
   "source": [
    "```\n",
    "from sklearn.neural_network import MLPClassifier\n",
    ":\n",
    "class Bot:\n",
    "    def __init__(self, bot_id, learning_parameter):\n",
    "        :\n",
    "        elif self.learning_parameter.algorithm == LearningParameter.ALGORITHM_NEURAL_NETWORK:\n",
    "            logger.debug('use algorithm: Multi-layer Perceptron')\n",
    "\n",
    "            hidden_layer_sizes = self.learning_parameter.params_for_algorithm.get('hidden_layer_sizes', None)\n",
    "            if hidden_layer_sizes is None:\n",
    "                logger.debug('learning_parameter has not parameter [hidden_layer_sizes]')\n",
    "                params = {'hidden_layer_sizes': [(50,), (100,), (50,50,), (100,100,)]}\n",
    "                grid = GridSearchCV(\n",
    "                    MLPClassifier(activation='logistic', max_iter=10000, shuffle=False, random_state=0),\n",
    "                    param_grid=params\n",
    "                )\n",
    "                grid.fit(training_set.x, training_set.y)\n",
    "                estimator = grid.best_estimator_\n",
    "                logger.debug('best_params_: %s' % grid.best_params_)\n",
    "            else:\n",
    "                logger.debug('learning_parameter has parameter [hidden_layer_sizes]')\n",
    "                estimator = MLPClassifier(\n",
    "                    hidden_layer_sizes=hidden_layer_sizes,\n",
    "                    activation='logistic', max_iter=10000, shuffle=False, random_state=0\n",
    "                )\n",
    "                estimator.fit(training_set.x, training_set.y)\n",
    "        :\n",
    "```"
   ]
  },
  {
   "cell_type": "markdown",
   "metadata": {
    "deletable": true,
    "editable": true
   },
   "source": [
    "### (3-2) 追加したコード："
   ]
  },
  {
   "cell_type": "markdown",
   "metadata": {
    "deletable": true,
    "editable": true
   },
   "source": [
    "### test_ptna_conversation_MLP.py\n",
    "\n",
    "（MLP のテストケース本体。ロジスティック回帰版を流用して作成）"
   ]
  },
  {
   "cell_type": "markdown",
   "metadata": {
    "deletable": true,
    "editable": true
   },
   "source": [
    "```\n",
    "from unittest import TestCase\n",
    "from nose.tools import ok_, eq_\n",
    "\n",
    "from learning.core.learn.bot import Bot\n",
    "from learning.core.learn.learning_parameter import LearningParameter\n",
    "from learning.core.predict.reply import Reply\n",
    "from learning.tests import helper\n",
    "\n",
    "\n",
    "class PtnaConversationMLPTestCase(TestCase):\n",
    "\n",
    "    def setUp(self):\n",
    "        self.csv_file_path = 'learning/tests/fixtures/test_ptna_conversation.csv'\n",
    "        self.bot_id = 996  # テスト用のbot_id いずれの値でも動作する\n",
    "        self.threshold = 0.5\n",
    "        self.answers = helper.build_answers(self.csv_file_path)\n",
    "\n",
    "        # 学習処理は時間がかかるためmodelのdumpファイルを作ったらコメントアウトしてもテスト実行可能\n",
    "        self.learning_parameter = helper.learning_parameter(algorithm=LearningParameter.ALGORITHM_NEURAL_NETWORK, use_similarity_classification=False)\n",
    "        #_evaluator = Bot(self.bot_id, self.learning_parameter).learn(csv_file_path=self.csv_file_path)\n",
    "\n",
    "    def test_hope_female_teacher(self):\n",
    "        questions = ['女の先生']\n",
    "        result = Reply(self.bot_id, self.learning_parameter).perform(questions)\n",
    "        answer_body = helper.get_answer_body(self.answers, result.answer_id)\n",
    "\n",
    "        expected_answer = '教室の一覧に性別が表示されていますので、そちらをご参照ください。'\n",
    "\n",
    "        eq_(helper.replace_newline_and_space(answer_body), helper.replace_newline_and_space(expected_answer))\n",
    "        ok_(result.probability > self.threshold)\n",
    "\n",
    "    def test_hello(self):\n",
    "        questions = ['こんにちは']\n",
    "        result = Reply(self.bot_id, self.learning_parameter).perform(questions)\n",
    "        answer_body = helper.get_answer_body(self.answers, result.answer_id)\n",
    "\n",
    "        expected_answer = 'こんにちは'\n",
    "\n",
    "        eq_(helper.replace_newline_and_space(answer_body), helper.replace_newline_and_space(expected_answer))\n",
    "        ok_(result.probability > self.threshold)\n",
    "\n",
    "    def test_want_to_join(self):\n",
    "        questions = ['入会したいのですが']\n",
    "        result = Reply(self.bot_id, self.learning_parameter).perform(questions)\n",
    "        answer_body = helper.get_answer_body(self.answers, result.answer_id)\n",
    "\n",
    "        expected_answer = 'オンライン入会\\r\\nhttps://www.piano.or.jp/member_entry/member_entry_step0_1.php\\r\\n\\r\\n入会申込書のご請求\\r\\nhttp://www.piano.or.jp/info/member/memberentry.html'\n",
    "\n",
    "        eq_(helper.replace_newline_and_space(answer_body), helper.replace_newline_and_space(expected_answer))\n",
    "        ok_(result.probability > self.threshold)\n",
    "\n",
    "    def test_fail_want_to_eat_ramen(self):\n",
    "        questions = ['おいしいラーメンが食べたいです']\n",
    "        # questions = ['']\n",
    "        result = Reply(self.bot_id, self.learning_parameter).perform(questions)\n",
    "\n",
    "        # ラベル0(分類失敗)に分類されること\n",
    "        print(result.answer_id)\n",
    "        eq_(result.answer_id, Reply.CLASSIFY_FAILED_ANSWER_ID)\n",
    "        print(result.probability)\n",
    "        ok_(result.probability > self.threshold)\n",
    "\n",
    "    def test_fail_blank(self):\n",
    "        questions = ['']\n",
    "        result = Reply(self.bot_id, self.learning_parameter).perform(questions)\n",
    "\n",
    "        # ラベル0(分類失敗)に分類されること\n",
    "        print(result.answer_id)\n",
    "        eq_(result.answer_id, Reply.CLASSIFY_FAILED_ANSWER_ID)\n",
    "        print(result.probability)\n",
    "        ok_(result.probability > self.threshold)\n",
    "```"
   ]
  },
  {
   "cell_type": "markdown",
   "metadata": {
    "deletable": true,
    "editable": true
   },
   "source": [
    "## (4) テスト実施"
   ]
  },
  {
   "cell_type": "markdown",
   "metadata": {
    "deletable": true,
    "editable": true
   },
   "source": [
    "５ケース中、下記の２ケースがエラーとなってしまいました。\n",
    "\n",
    "- test_fail_blank\n",
    "\n",
    "- test_fail_want_to_eat_ramen\n",
    "\n",
    "\n",
    "MLP ですと、ラベル０に対する proba が閾値より低くなってしまう問題があるようです。"
   ]
  },
  {
   "cell_type": "markdown",
   "metadata": {
    "deletable": true,
    "editable": true
   },
   "source": [
    "```\n",
    "MacBookPro-makmorit-jp:learning makmorit$ nosetests learning/tests/engine/test_ptna_conversation_MLP.py\n",
    "/Library/Frameworks/Python.framework/Versions/3.5/lib/python3.5/site-packages/sklearn/cross_validation.py:44: DeprecationWarning: This module was deprecated in version 0.18 in favor of the model_selection module into which all the refactored classes and functions are moved. Also note that the interface of the new CV iterators are different from that of this module. This module will be removed in 0.20.\n",
    "  \"This module will be removed in 0.20.\", DeprecationWarning)\n",
    "/Library/Frameworks/Python.framework/Versions/3.5/lib/python3.5/site-packages/sklearn/grid_search.py:43: DeprecationWarning: This module was deprecated in version 0.18 in favor of the model_selection module into which all the refactored classes and functions are moved. This module will be removed in 0.20.\n",
    "  DeprecationWarning)\n",
    "FF...\n",
    "======================================================================\n",
    "FAIL: test_fail_blank (learning.tests.engine.test_ptna_conversation_MLP.PtnaConversationMLPTestCase)\n",
    "----------------------------------------------------------------------\n",
    "Traceback (most recent call last):\n",
    "  File \"/Users/makmorit/GitHub/donusagi-bot/learning/learning/tests/engine/test_ptna_conversation_MLP.py\", line 67, in test_fail_blank\n",
    "    ok_(result.probability > self.threshold)\n",
    "AssertionError: None\n",
    "-------------------- >> begin captured stdout << ---------------------\n",
    "0.971954425942\n",
    "{'database': {'host': 'localhost', 'endpoint': 'mysql://root@localhost/donusagi_bot_test?charset=utf8', 'name': 'donusagi_bot_test', 'user': 'root', 'password': ''}}\n",
    "\n",
    "--------------------- >> end captured stdout << ----------------------\n",
    "-------------------- >> begin captured logging << --------------------\n",
    "learning.log: DEBUG: learning_parameter: {'_include_tag_vector': False, '_include_failed_data': False, '_params_for_algorithm': {}, '_classify_threshold': None, '_algorithm': 2}\n",
    "learning.log: DEBUG: start Bot#learn\n",
    "learning.log: DEBUG: TrainingMessageFromCsv#__build_learning_training_messages count of learning data: 4559\n",
    "learning.log: DEBUG: TextArray#__init__ start\n",
    "learning.log: DEBUG: TextArray#to_vec start\n",
    "learning.log: DEBUG: TextArray#to_vec end\n",
    "learning.log: DEBUG: Bot#__build_training_set training_set.count_sample_by_y: [[0, 3], [2671, 226], [2673, 166], [2674, 32], [2675, 152], [2676, 130], [2677, 124], [2678, 72], [2679, 150], [2680, 78], [2681, 96], [2682, 66], [2683, 96], [2684, 46], [2685, 40], [2686, 52], [2687, 142], [2688, 142], [2689, 176], [2690, 66], [2691, 46], [2692, 156], [2694, 76], [2695, 72], [2696, 90], [2697, 142], [2698, 40], [2699, 58], [2700, 46], [2701, 26], [2702, 46], [2703, 52], [2704, 46], [2705, 76], [2706, 74], [2708, 128], [2709, 78], [2710, 26], [2741, 20], [2742, 58], [2743, 26], [2745, 72], [2746, 22], [2747, 26], [2748, 60], [2749, 136], [2750, 200], [4066, 22], [4067, 14], [4068, 73], [4069, 20], [4073, 26], [4310, 26], [4311, 14], [4312, 26], [4313, 46], [4314, 32], [4630, 20], [4631, 14], [4632, 14], [4633, 14], [4634, 18], [4635, 34], [4641, 26], [4642, 40], [4643, 24], [4674, 16], [4675, 48], [4676, 34], [4840, 8]]\n",
    "learning.log: DEBUG: TrainingMessageFromCsv#__build_learning_training_messages count of learning data: 4559\n",
    "learning.log: DEBUG: TextArray#__init__ start\n",
    "learning.log: DEBUG: TextArray#to_vec start\n",
    "learning.log: DEBUG: TextArray#to_vec end\n",
    "learning.log: DEBUG: use algorithm: Multi-layer Perceptron\n",
    "learning.log: DEBUG: learning_parameter has not parameter [hidden_layer_sizes]\n",
    "learning.log: DEBUG: best_params_: {'hidden_layer_sizes': (50, 50)}\n",
    "learning.log: DEBUG: after Bot#__get_estimator\n",
    "learning.log: DEBUG: before Evaluator#evaluate\n",
    "learning.log: DEBUG: self.threshold: 0.0\n",
    "learning.log: DEBUG: Evaluator#evaluate#elapsed time: 13424.144983 ms\n",
    "learning.log: DEBUG: accuracy: 0.971954425942\n",
    "learning.log: DEBUG: end Bot#learn\n",
    "learning.log: DEBUG: Bot.learn processing time: 174.10958981513977 [sec]\n",
    "learning.log: DEBUG: TextArray#__init__ start\n",
    "learning.log: DEBUG: Reply#predict text_array.separated_sentences: ['']\n",
    "learning.log: DEBUG: TextArray#to_vec start\n",
    "learning.log: DEBUG: TextArray#to_vec end\n",
    "learning.log: DEBUG: Reply#predict features: \n",
    "--------------------- >> end captured logging << ---------------------\n",
    "\n",
    "======================================================================\n",
    "FAIL: test_fail_want_to_eat_ramen (learning.tests.engine.test_ptna_conversation_MLP.PtnaConversationMLPTestCase)\n",
    "----------------------------------------------------------------------\n",
    "Traceback (most recent call last):\n",
    "  File \"/Users/makmorit/GitHub/donusagi-bot/learning/learning/tests/engine/test_ptna_conversation_MLP.py\", line 59, in test_fail_want_to_eat_ramen\n",
    "    ok_(result.probability > self.threshold)\n",
    "AssertionError: None\n",
    "-------------------- >> begin captured stdout << ---------------------\n",
    "0.971954425942\n",
    "{'database': {'host': 'localhost', 'endpoint': 'mysql://root@localhost/donusagi_bot_test?charset=utf8', 'name': 'donusagi_bot_test', 'user': 'root', 'password': ''}}\n",
    "\n",
    "--------------------- >> end captured stdout << ----------------------\n",
    "-------------------- >> begin captured logging << --------------------\n",
    "learning.log: DEBUG: learning_parameter: {'_include_tag_vector': False, '_include_failed_data': False, '_params_for_algorithm': {}, '_classify_threshold': None, '_algorithm': 2}\n",
    "learning.log: DEBUG: start Bot#learn\n",
    "learning.log: DEBUG: TrainingMessageFromCsv#__build_learning_training_messages count of learning data: 4559\n",
    "learning.log: DEBUG: TextArray#__init__ start\n",
    "learning.log: DEBUG: TextArray#to_vec start\n",
    "learning.log: DEBUG: TextArray#to_vec end\n",
    "learning.log: DEBUG: Bot#__build_training_set training_set.count_sample_by_y: [[0, 3], [2671, 226], [2673, 166], [2674, 32], [2675, 152], [2676, 130], [2677, 124], [2678, 72], [2679, 150], [2680, 78], [2681, 96], [2682, 66], [2683, 96], [2684, 46], [2685, 40], [2686, 52], [2687, 142], [2688, 142], [2689, 176], [2690, 66], [2691, 46], [2692, 156], [2694, 76], [2695, 72], [2696, 90], [2697, 142], [2698, 40], [2699, 58], [2700, 46], [2701, 26], [2702, 46], [2703, 52], [2704, 46], [2705, 76], [2706, 74], [2708, 128], [2709, 78], [2710, 26], [2741, 20], [2742, 58], [2743, 26], [2745, 72], [2746, 22], [2747, 26], [2748, 60], [2749, 136], [2750, 200], [4066, 22], [4067, 14], [4068, 73], [4069, 20], [4073, 26], [4310, 26], [4311, 14], [4312, 26], [4313, 46], [4314, 32], [4630, 20], [4631, 14], [4632, 14], [4633, 14], [4634, 18], [4635, 34], [4641, 26], [4642, 40], [4643, 24], [4674, 16], [4675, 48], [4676, 34], [4840, 8]]\n",
    "learning.log: DEBUG: TrainingMessageFromCsv#__build_learning_training_messages count of learning data: 4559\n",
    "learning.log: DEBUG: TextArray#__init__ start\n",
    "learning.log: DEBUG: TextArray#to_vec start\n",
    "learning.log: DEBUG: TextArray#to_vec end\n",
    "learning.log: DEBUG: use algorithm: Multi-layer Perceptron\n",
    "learning.log: DEBUG: learning_parameter has not parameter [hidden_layer_sizes]\n",
    "learning.log: DEBUG: best_params_: {'hidden_layer_sizes': (50, 50)}\n",
    "learning.log: DEBUG: after Bot#__get_estimator\n",
    "learning.log: DEBUG: before Evaluator#evaluate\n",
    "learning.log: DEBUG: self.threshold: 0.0\n",
    "learning.log: DEBUG: Evaluator#evaluate#elapsed time: 13299.412012 ms\n",
    "learning.log: DEBUG: accuracy: 0.971954425942\n",
    "learning.log: DEBUG: end Bot#learn\n",
    "learning.log: DEBUG: Bot.learn processing time: 175.0617790222168 [sec]\n",
    "learning.log: DEBUG: TextArray#__init__ start\n",
    "learning.log: DEBUG: Reply#predict text_array.separated_sentences: ['おいしい ラーメン 食べる']\n",
    "learning.log: DEBUG: TextArray#to_vec start\n",
    "learning.log: DEBUG: TextArray#to_vec end\n",
    "learning.log: DEBUG: Reply#predict features: \n",
    "--------------------- >> end captured logging << ---------------------\n",
    "\n",
    "----------------------------------------------------------------------\n",
    "Ran 5 tests in 877.596s\n",
    "\n",
    "FAILED (failures=2)\n",
    "MacBookPro-makmorit-jp:learning makmorit$\n",
    "```"
   ]
  },
  {
   "cell_type": "markdown",
   "metadata": {
    "deletable": true,
    "editable": true
   },
   "source": [
    "テストケースにデバッグ用プリントを入れて、再実行させ確認したところ\n",
    "\n",
    "- result.answer_id = 0.0\n",
    "\n",
    "\n",
    "- result.probability = 0.344700475878\n",
    "\n",
    "とのことでした。"
   ]
  },
  {
   "cell_type": "markdown",
   "metadata": {
    "deletable": true,
    "editable": true
   },
   "source": [
    "```\n",
    "MacBookPro-makmorit-jp:learning makmorit$ nosetests learning/tests/engine/test_ptna_conversation_MLP.py\n",
    "/Library/Frameworks/Python.framework/Versions/3.5/lib/python3.5/site-packages/sklearn/cross_validation.py:44: DeprecationWarning: This module was deprecated in version 0.18 in favor of the model_selection module into which all the refactored classes and functions are moved. Also note that the interface of the new CV iterators are different from that of this module. This module will be removed in 0.20.\n",
    "  \"This module will be removed in 0.20.\", DeprecationWarning)\n",
    "/Library/Frameworks/Python.framework/Versions/3.5/lib/python3.5/site-packages/sklearn/grid_search.py:43: DeprecationWarning: This module was deprecated in version 0.18 in favor of the model_selection module into which all the refactored classes and functions are moved. This module will be removed in 0.20.\n",
    "  DeprecationWarning)\n",
    "FF...\n",
    "======================================================================\n",
    "FAIL: test_fail_blank (learning.tests.engine.test_ptna_conversation_MLP.PtnaConversationMLPTestCase)\n",
    "----------------------------------------------------------------------\n",
    "Traceback (most recent call last):\n",
    "  File \"/Users/makmorit/GitHub/donusagi-bot/learning/learning/tests/engine/test_ptna_conversation_MLP.py\", line 71, in test_fail_blank\n",
    "    ok_(result.probability > self.threshold)\n",
    "AssertionError: None\n",
    "-------------------- >> begin captured stdout << ---------------------\n",
    "{'database': {'name': 'donusagi_bot_test', 'host': 'localhost', 'user': 'root', 'endpoint': 'mysql://root@localhost/donusagi_bot_test?charset=utf8', 'password': ''}}\n",
    "0.0\n",
    "0.344700475878\n",
    "\n",
    "--------------------- >> end captured stdout << ----------------------\n",
    "-------------------- >> begin captured logging << --------------------\n",
    "learning.log: DEBUG: TextArray#__init__ start\n",
    "learning.log: DEBUG: Reply#predict text_array.separated_sentences: ['']\n",
    "learning.log: DEBUG: TextArray#to_vec start\n",
    "learning.log: DEBUG: TextArray#to_vec end\n",
    "learning.log: DEBUG: Reply#predict features: \n",
    "--------------------- >> end captured logging << ---------------------\n",
    "\n",
    "======================================================================\n",
    "FAIL: test_fail_want_to_eat_ramen (learning.tests.engine.test_ptna_conversation_MLP.PtnaConversationMLPTestCase)\n",
    "----------------------------------------------------------------------\n",
    "Traceback (most recent call last):\n",
    "  File \"/Users/makmorit/GitHub/donusagi-bot/learning/learning/tests/engine/test_ptna_conversation_MLP.py\", line 61, in test_fail_want_to_eat_ramen\n",
    "    ok_(result.probability > self.threshold)\n",
    "AssertionError: None\n",
    "-------------------- >> begin captured stdout << ---------------------\n",
    "{'database': {'name': 'donusagi_bot_test', 'host': 'localhost', 'user': 'root', 'endpoint': 'mysql://root@localhost/donusagi_bot_test?charset=utf8', 'password': ''}}\n",
    "0.0\n",
    "0.344700475878\n",
    "\n",
    "--------------------- >> end captured stdout << ----------------------\n",
    "-------------------- >> begin captured logging << --------------------\n",
    "learning.log: DEBUG: TextArray#__init__ start\n",
    "learning.log: DEBUG: Reply#predict text_array.separated_sentences: ['おいしい ラーメン 食べる']\n",
    "learning.log: DEBUG: TextArray#to_vec start\n",
    "learning.log: DEBUG: TextArray#to_vec end\n",
    "learning.log: DEBUG: Reply#predict features: \n",
    "--------------------- >> end captured logging << ---------------------\n",
    "\n",
    "----------------------------------------------------------------------\n",
    "Ran 5 tests in 0.190s\n",
    "\n",
    "FAILED (failures=2)\n",
    "MacBookPro-makmorit-jp:learning makmorit$\n",
    "```"
   ]
  }
 ],
 "metadata": {
  "kernelspec": {
   "display_name": "Python 3",
   "language": "python",
   "name": "python3"
  },
  "language_info": {
   "codemirror_mode": {
    "name": "ipython",
    "version": 3
   },
   "file_extension": ".py",
   "mimetype": "text/x-python",
   "name": "python",
   "nbconvert_exporter": "python",
   "pygments_lexer": "ipython3",
   "version": "3.5.2"
  }
 },
 "nbformat": 4,
 "nbformat_minor": 2
}
