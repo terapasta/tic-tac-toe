{
 "cells": [
  {
   "cell_type": "markdown",
   "metadata": {
    "deletable": true,
    "editable": true
   },
   "source": [
    "# ニューラルネットワークとnosetests\n",
    "\n",
    "プロダクションのテストケースが、ニューラルネットワークでどの程度通るかを試してみました。\n",
    "\n",
    "すべてのテストケースが通るように、ニューラルネットワークに関する処理をプロダクションコードに追加しています。"
   ]
  },
  {
   "cell_type": "markdown",
   "metadata": {
    "deletable": true,
    "editable": true
   },
   "source": [
    "## (1) コードを修正"
   ]
  },
  {
   "cell_type": "markdown",
   "metadata": {
    "deletable": true,
    "editable": true
   },
   "source": [
    "現行のロジスティック回帰を、ニューラルネットワーク（MLP）に変更します。\n",
    "\n",
    "また、ニューラルネットワークにより学習／予測が行われるよう、テスト条件を修正します。"
   ]
  },
  {
   "cell_type": "markdown",
   "metadata": {
    "deletable": true,
    "editable": true
   },
   "source": [
    "### (3-1) 修正を行ったプロダクションコード："
   ]
  },
  {
   "cell_type": "markdown",
   "metadata": {
    "deletable": true,
    "editable": true
   },
   "source": [
    "### learning_parameter.py\n",
    "\n",
    "（定数定義 ALGORITHM_NEURAL_NETWORK = 2 を追加）"
   ]
  },
  {
   "cell_type": "markdown",
   "metadata": {
    "deletable": true,
    "editable": true
   },
   "source": [
    "```\n",
    "class LearningParameter:\n",
    "    :\n",
    "    ALGORITHM_NEURAL_NETWORK = 2\n",
    "```"
   ]
  },
  {
   "cell_type": "markdown",
   "metadata": {
    "deletable": true,
    "editable": true
   },
   "source": [
    "### bot.py\n",
    "\n",
    "（MLPClassifier により学習・評価を行う処理を追加）"
   ]
  },
  {
   "cell_type": "markdown",
   "metadata": {
    "deletable": true,
    "editable": true
   },
   "source": [
    "```\n",
    "from sklearn.neural_network import MLPClassifier\n",
    ":\n",
    "class Bot:\n",
    "    def __init__(self, bot_id, learning_parameter):\n",
    "        :\n",
    "        elif self.learning_parameter.algorithm == LearningParameter.ALGORITHM_NEURAL_NETWORK:\n",
    "            logger.debug('use algorithm: Multi-layer Perceptron')\n",
    "\n",
    "            hidden_layer_sizes = self.learning_parameter.params_for_algorithm.get('hidden_layer_sizes', None)\n",
    "            if hidden_layer_sizes is None:\n",
    "                logger.debug('learning_parameter has not parameter [hidden_layer_sizes]')\n",
    "                params = {'hidden_layer_sizes': [(50,), (50,50,), (100,)]}\n",
    "                grid = GridSearchCV(\n",
    "                    MLPClassifier(activation='logistic', max_iter=10000, shuffle=False, random_state=0),\n",
    "                    param_grid=params\n",
    "                )\n",
    "                grid.fit(training_set.x, training_set.y)\n",
    "                estimator = grid.best_estimator_\n",
    "                logger.debug('best_params_: %s' % grid.best_params_)\n",
    "            else:\n",
    "                logger.debug('learning_parameter has parameter [hidden_layer_sizes]')\n",
    "                estimator = MLPClassifier(\n",
    "                    hidden_layer_sizes=hidden_layer_sizes,\n",
    "                    activation='logistic', max_iter=10000, shuffle=False, random_state=0\n",
    "                )\n",
    "                estimator.fit(training_set.x, training_set.y)\n",
    "            :\n",
    "```"
   ]
  },
  {
   "cell_type": "markdown",
   "metadata": {
    "deletable": true,
    "editable": true
   },
   "source": [
    "### (3-2) 修正を行ったテストコード："
   ]
  },
  {
   "cell_type": "markdown",
   "metadata": {
    "deletable": true,
    "editable": true
   },
   "source": [
    "### learning/learning/tests/helper.py\n",
    "\n",
    "テスト条件を「ALGORITHM_LOGISTIC_REGRESSION」から「ALGORITHM_NEURAL_NETWORK」に変更しています。"
   ]
  },
  {
   "cell_type": "markdown",
   "metadata": {
    "deletable": true,
    "editable": true
   },
   "source": [
    "```\n",
    "def learning_parameter(\n",
    "        :\n",
    "        # algorithm=LearningParameter.ALGORITHM_LOGISTIC_REGRESSION,\n",
    "        algorithm=LearningParameter.ALGORITHM_NEURAL_NETWORK,\n",
    "        params_for_algorithm=None\n",
    "    ):\n",
    "    :\n",
    "```"
   ]
  },
  {
   "cell_type": "markdown",
   "metadata": {
    "deletable": true,
    "editable": true
   },
   "source": [
    "### (3-3) その他のコード：\n",
    "\n",
    "一切変更しておりません。"
   ]
  },
  {
   "cell_type": "markdown",
   "metadata": {
    "deletable": true,
    "editable": true
   },
   "source": [
    "## (4) テスト結果"
   ]
  },
  {
   "cell_type": "markdown",
   "metadata": {},
   "source": [
    "コマンド「nosetests -s learning/tests」を実行しました。"
   ]
  },
  {
   "cell_type": "markdown",
   "metadata": {
    "deletable": true,
    "editable": true
   },
   "source": [
    "全ケース中、下記の３ケースがエラーとなってしまいました。\n",
    "\n",
    "- test_how_to_add_mail_signature\n",
    "\n",
    "\n",
    "- test_fail_blank\n",
    "\n",
    "\n",
    "- test_fail_want_to_eat_ramen"
   ]
  },
  {
   "cell_type": "markdown",
   "metadata": {},
   "source": [
    "```\n",
    "MacBookPro-makmorit-jp:learning makmorit$ nosetests -s learning/tests\n",
    "/Library/Frameworks/Python.framework/Versions/3.5/lib/python3.5/site-packages/sklearn/cross_validation.py:44: DeprecationWarning: This module was deprecated in version 0.18 in favor of the model_selection module into which all the refactored classes and functions are moved. Also note that the interface of the new CV iterators are different from that of this module. This module will be removed in 0.20.\n",
    "  \"This module will be removed in 0.20.\", DeprecationWarning)\n",
    "/Library/Frameworks/Python.framework/Versions/3.5/lib/python3.5/site-packages/sklearn/grid_search.py:43: DeprecationWarning: This module was deprecated in version 0.18 in favor of the model_selection module into which all the refactored classes and functions are moved. This module will be removed in 0.20.\n",
    "  DeprecationWarning)\n",
    "/Library/Frameworks/Python.framework/Versions/3.5/lib/python3.5/site-packages/sklearn/cross_validation.py:552: Warning: The least populated class in y has only 2 members, which is too few. The minimum number of labels for any class cannot be less than n_folds=3.\n",
    "  % (min_labels, self.n_folds)), Warning)\n",
    "1.0\n",
    "{'database': {'password': '', 'endpoint': 'mysql://root@localhost/donusagi_bot_test?charset=utf8', 'name': 'donusagi_bot_test', 'host': 'localhost', 'user': 'root'}}\n",
    "..........{'database': {'password': '', 'endpoint': 'mysql://root@localhost/donusagi_bot_test?charset=utf8', 'name': 'donusagi_bot_test', 'host': 'localhost', 'user': 'root'}}\n",
    ".{'database': {'password': '', 'endpoint': 'mysql://root@localhost/donusagi_bot_test?charset=utf8', 'name': 'donusagi_bot_test', 'host': 'localhost', 'user': 'root'}}\n",
    ".{'database': {'password': '', 'endpoint': 'mysql://root@localhost/donusagi_bot_test?charset=utf8', 'name': 'donusagi_bot_test', 'host': 'localhost', 'user': 'root'}}\n",
    ".{'database': {'password': '', 'endpoint': 'mysql://root@localhost/donusagi_bot_test?charset=utf8', 'name': 'donusagi_bot_test', 'host': 'localhost', 'user': 'root'}}\n",
    ".{'database': {'password': '', 'endpoint': 'mysql://root@localhost/donusagi_bot_test?charset=utf8', 'name': 'donusagi_bot_test', 'host': 'localhost', 'user': 'root'}}\n",
    "F{'database': {'password': '', 'endpoint': 'mysql://root@localhost/donusagi_bot_test?charset=utf8', 'name': 'donusagi_bot_test', 'host': 'localhost', 'user': 'root'}}\n",
    ".{'database': {'password': '', 'endpoint': 'mysql://root@localhost/donusagi_bot_test?charset=utf8', 'name': 'donusagi_bot_test', 'host': 'localhost', 'user': 'root'}}\n",
    "F{'database': {'password': '', 'endpoint': 'mysql://root@localhost/donusagi_bot_test?charset=utf8', 'name': 'donusagi_bot_test', 'host': 'localhost', 'user': 'root'}}\n",
    "F{'database': {'password': '', 'endpoint': 'mysql://root@localhost/donusagi_bot_test?charset=utf8', 'name': 'donusagi_bot_test', 'host': 'localhost', 'user': 'root'}}\n",
    ".{'database': {'password': '', 'endpoint': 'mysql://root@localhost/donusagi_bot_test?charset=utf8', 'name': 'donusagi_bot_test', 'host': 'localhost', 'user': 'root'}}\n",
    ".{'database': {'password': '', 'endpoint': 'mysql://root@localhost/donusagi_bot_test?charset=utf8', 'name': 'donusagi_bot_test', 'host': 'localhost', 'user': 'root'}}\n",
    "..\n",
    "======================================================================\n",
    "FAIL: test_how_to_add_mail_signature (learning.tests.engine.test_daikin_conversation.DaikinConversationTestCase)\n",
    "----------------------------------------------------------------------\n",
    "Traceback (most recent call last):\n",
    "  File \"/Users/makmorit/GitHub/donusagi-bot/learning/learning/tests/engine/test_daikin_conversation.py\", line 45, in test_how_to_add_mail_signature\n",
    "    ok_(result.probability > self.threshold)\n",
    "AssertionError: None\n",
    "-------------------- >> begin captured logging << --------------------\n",
    "learning.log: DEBUG: TextArray#__init__ start\n",
    "learning.log: DEBUG: Reply#predict text_array.separated_sentences: ['メール 署名 付ける 方法 知る']\n",
    "learning.log: DEBUG: TextArray#to_vec start\n",
    "learning.log: DEBUG: TextArray#to_vec end\n",
    "learning.log: DEBUG: Reply#predict features:   (0, 785)\t0.4472135955\n",
    "  (0, 919)\t0.4472135955\n",
    "  (0, 1381)\t0.4472135955\n",
    "  (0, 1586)\t0.4472135955\n",
    "  (0, 1654)\t0.4472135955\n",
    "--------------------- >> end captured logging << ---------------------\n",
    "\n",
    "======================================================================\n",
    "FAIL: test_fail_blank (learning.tests.engine.test_ptna_conversation.PtnaConversationTestCase)\n",
    "----------------------------------------------------------------------\n",
    "Traceback (most recent call last):\n",
    "  File \"/Users/makmorit/GitHub/donusagi-bot/learning/learning/tests/engine/test_ptna_conversation.py\", line 66, in test_fail_blank\n",
    "    ok_(result.probability > self.threshold)\n",
    "AssertionError: None\n",
    "-------------------- >> begin captured logging << --------------------\n",
    "learning.log: DEBUG: TextArray#__init__ start\n",
    "learning.log: DEBUG: Reply#predict text_array.separated_sentences: ['']\n",
    "learning.log: DEBUG: TextArray#to_vec start\n",
    "learning.log: DEBUG: TextArray#to_vec end\n",
    "learning.log: DEBUG: Reply#predict features: \n",
    "--------------------- >> end captured logging << ---------------------\n",
    "\n",
    "======================================================================\n",
    "FAIL: test_fail_want_to_eat_ramen (learning.tests.engine.test_ptna_conversation.PtnaConversationTestCase)\n",
    "----------------------------------------------------------------------\n",
    "Traceback (most recent call last):\n",
    "  File \"/Users/makmorit/GitHub/donusagi-bot/learning/learning/tests/engine/test_ptna_conversation.py\", line 58, in test_fail_want_to_eat_ramen\n",
    "    ok_(result.probability > self.threshold)\n",
    "AssertionError: None\n",
    "-------------------- >> begin captured logging << --------------------\n",
    "learning.log: DEBUG: TextArray#__init__ start\n",
    "learning.log: DEBUG: Reply#predict text_array.separated_sentences: ['おいしい ラーメン 食べる']\n",
    "learning.log: DEBUG: TextArray#to_vec start\n",
    "learning.log: DEBUG: TextArray#to_vec end\n",
    "learning.log: DEBUG: Reply#predict features: \n",
    "--------------------- >> end captured logging << ---------------------\n",
    "\n",
    "----------------------------------------------------------------------\n",
    "Ran 22 tests in 4.619s\n",
    "\n",
    "FAILED (failures=3)\n",
    "MacBookPro-makmorit-jp:learning makmorit$\n",
    "```"
   ]
  },
  {
   "cell_type": "markdown",
   "metadata": {},
   "source": [
    "### (4-1) 曖昧な質問文に対して回答不能となったテストケース\n",
    "\n",
    "<b>[WIP] 2014/04/10 現在、原因の詳細につきましては、調査中のステータスです。</b> \n",
    "\n",
    "\n",
    "### test_how_to_add_mail_signature"
   ]
  },
  {
   "cell_type": "markdown",
   "metadata": {
    "deletable": true,
    "editable": true
   },
   "source": [
    "テストケースにデバッグ用プリントを入れて、再実行させ確認したところ\n",
    "\n",
    ">answer_id=3398, probability=0.457033\n",
    "\n",
    "とのことでした。\n",
    "\n",
    "曖昧な質問文（すなわち、訓練データのfeatureが一部欠落している質問文）を与えると、proba が 0.5 を下回ってしまう現象が見られるかもしれません。\n",
    "\n",
    "ちなみにテストデータ[test_daikin_conversation.csv]の訓練データは、\n",
    "\n",
    ">質問文 ---> Outlook2010にて、メールの署名の作り方が教えてください。\n",
    "\n",
    ">ラベル ---> 3398\n",
    "\n",
    "となっており、一方テストケースの質問文は\n",
    "\n",
    ">questions = ['メールに署名を付ける方法を知りたい']\n",
    "\n",
    "でした（すなわち訓練データの「Outlook」「2010」というfeatureが質問文から欠落していたようです）。"
   ]
  },
  {
   "cell_type": "markdown",
   "metadata": {
    "deletable": true,
    "editable": true
   },
   "source": [
    "```\n",
    "MacBookPro-makmorit-jp:learning makmorit$ nosetests /Users/makmorit/GitHub/donusagi-bot/learning/learning/tests/engine/test_daikin_conversation.py\n",
    "/Library/Frameworks/Python.framework/Versions/3.5/lib/python3.5/site-packages/sklearn/cross_validation.py:44: DeprecationWarning: This module was deprecated in version 0.18 in favor of the model_selection module into which all the refactored classes and functions are moved. Also note that the interface of the new CV iterators are different from that of this module. This module will be removed in 0.20.\n",
    "  \"This module will be removed in 0.20.\", DeprecationWarning)\n",
    "/Library/Frameworks/Python.framework/Versions/3.5/lib/python3.5/site-packages/sklearn/grid_search.py:43: DeprecationWarning: This module was deprecated in version 0.18 in favor of the model_selection module into which all the refactored classes and functions are moved. This module will be removed in 0.20.\n",
    "  DeprecationWarning)\n",
    "..F.\n",
    "======================================================================\n",
    "FAIL: test_how_to_add_mail_signature (learning.tests.engine.test_daikin_conversation.DaikinConversationTestCase)\n",
    "----------------------------------------------------------------------\n",
    "Traceback (most recent call last):\n",
    "  File \"/Users/makmorit/GitHub/donusagi-bot/learning/learning/tests/engine/test_daikin_conversation.py\", line 48, in test_how_to_add_mail_signature\n",
    "    ok_(result.probability > self.threshold)\n",
    "AssertionError: None\n",
    "-------------------- >> begin captured stdout << ---------------------\n",
    "{'database': {'password': '', 'endpoint': 'mysql://root@localhost/donusagi_bot_test?charset=utf8', 'host': 'localhost', 'name': 'donusagi_bot_test', 'user': 'root'}}\n",
    "answer_id=3398, probability=0.457033\n",
    "\n",
    "--------------------- >> end captured stdout << ----------------------\n",
    "-------------------- >> begin captured logging << --------------------\n",
    "learning.log: DEBUG: TextArray#__init__ start\n",
    "learning.log: DEBUG: Reply#predict text_array.separated_sentences: ['メール 署名 付ける 方法 知る']\n",
    "learning.log: DEBUG: TextArray#to_vec start\n",
    "learning.log: DEBUG: TextArray#to_vec end\n",
    "learning.log: DEBUG: Reply#predict features:   (0, 785)\t0.4472135955\n",
    "  (0, 919)\t0.4472135955\n",
    "  (0, 1381)\t0.4472135955\n",
    "  (0, 1586)\t0.4472135955\n",
    "  (0, 1654)\t0.4472135955\n",
    "--------------------- >> end captured logging << ---------------------\n",
    "\n",
    "----------------------------------------------------------------------\n",
    "Ran 4 tests in 0.242s\n",
    "\n",
    "FAILED (failures=1)\n",
    "MacBookPro-makmorit-jp:learning makmorit$\n",
    "```"
   ]
  },
  {
   "cell_type": "markdown",
   "metadata": {},
   "source": [
    "### (4-2) ラベル０に対して回答不能となったテストケース\n",
    "\n",
    "### test_fail_blank／test_fail_want_to_eat_ramen\n",
    "\n",
    "<b><a href=\"07-nosetests-checkpoint.ipynb\">こちらのレポートで確認</a></b>したのですが、MLP ですと、ラベル０に対する proba が閾値より低くなってしまう問題があるようです。"
   ]
  }
 ],
 "metadata": {
  "kernelspec": {
   "display_name": "Python 3",
   "language": "python",
   "name": "python3"
  },
  "language_info": {
   "codemirror_mode": {
    "name": "ipython",
    "version": 3
   },
   "file_extension": ".py",
   "mimetype": "text/x-python",
   "name": "python",
   "nbconvert_exporter": "python",
   "pygments_lexer": "ipython3",
   "version": "3.5.2"
  }
 },
 "nbformat": 4,
 "nbformat_minor": 2
}
