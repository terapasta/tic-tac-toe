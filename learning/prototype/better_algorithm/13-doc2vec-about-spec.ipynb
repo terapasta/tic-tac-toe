{
 "cells": [
  {
   "cell_type": "markdown",
   "metadata": {},
   "source": [
    "# Doc2Vecの概要\n",
    "\n",
    "こちらを参考にしました。\n",
    "\n",
    "http://radimrehurek.com/gensim/models/doc2vec.html\n",
    "\n",
    "実際のPython環境における実行例は、<a href=\"11-doc2vec-tutor.ipynb\"><b>こちらのレポート</b></a>をご参照いただければ幸いです。"
   ]
  },
  {
   "cell_type": "markdown",
   "metadata": {},
   "source": [
    "## (1) 学習セット"
   ]
  },
  {
   "cell_type": "markdown",
   "metadata": {},
   "source": [
    "gensimのDoc2Vecにおける学習セットのレコードは以下のような形式となります。\n",
    "\n",
    "（コーパスのリストと、ラベルからなるリストが、学習セット１サンプル分となります）"
   ]
  },
  {
   "cell_type": "markdown",
   "metadata": {},
   "source": [
    "```\n",
    "['Ｗｉｎｄｏｗｓ', 'ログイン', '出来る', 'ない'], [4420]\n",
    "['ログイン', '出来る', 'ない'], [4420]\n",
    "['パソコン', 'ログイン', '出来る', 'ない'], [4420]\n",
    "：\n",
    "```"
   ]
  },
  {
   "cell_type": "markdown",
   "metadata": {},
   "source": [
    "ラベルの重複は可能です（同一ラベルに複数のサンプルを許容している様子）。\n",
    "\n",
    "ただし、重複するとモデル内で上書きされるようです。\n",
    "\n",
    "重複しないようにするためには、例えば下記のようにラベルにユニークなIDを付与するようにします。"
   ]
  },
  {
   "cell_type": "markdown",
   "metadata": {
    "deletable": true,
    "editable": true
   },
   "source": [
    "```\n",
    "['Ｗｉｎｄｏｗｓ', 'ログイン', '出来る', 'ない'], ['4420_1']\n",
    "['ログイン', '出来る', 'ない'], ['4420_2']\n",
    "['パソコン', 'ログイン', '出来る', 'ない'], ['4420_3']\n",
    "：\n",
    "```"
   ]
  },
  {
   "cell_type": "markdown",
   "metadata": {
    "deletable": true,
    "editable": true
   },
   "source": [
    "## (2) 学習処理"
   ]
  },
  {
   "cell_type": "markdown",
   "metadata": {},
   "source": [
    "学習セットをクラス「gensim.models.doc2vec.Doc2Vec」に渡して学習処理を実行させます。"
   ]
  },
  {
   "cell_type": "markdown",
   "metadata": {
    "deletable": true,
    "editable": true
   },
   "source": [
    "学習が終わると、下記のようなイメージの配列（学習時のパラメータとして指定したfeature数分の重み値配列）が作成されます。\n",
    "\n",
    "この重み値配列が、学習セットに付与したラベル数分、作成され、「gensim.models.doc2vec.DocvecsArray」というクラスのインスタンスに収容されます。\n",
    "\n",
    "http://radimrehurek.com/gensim/models/doc2vec.html#gensim.models.doc2vec.DocvecsArray"
   ]
  },
  {
   "cell_type": "markdown",
   "metadata": {},
   "source": [
    "```\n",
    "[ 0.03135058,  0.06804109, -0.06892224,  0.91631955, -0.90788156,\n",
    " -1.27675772,  0.12107785, -0.49540758,  0.32016867, -0.59504598,\n",
    "  0.02170568, -0.31601551, -0.9805398 ,  0.09150546, -0.84680676,\n",
    "  ：\n",
    " -0.60410583, -0.31215325, -0.64900941, -0.58420479, -0.13754645,\n",
    "  0.02447186, -0.57329637, -0.78971535,  0.53362709, -0.23328291] <---要素はfeature数分\n",
    "```"
   ]
  },
  {
   "cell_type": "markdown",
   "metadata": {},
   "source": [
    "ただし、Doc2Vecにおけるfeatureは、scikit-learnのベクトライザーのように、ボキャブラリの単語と対応しているわけではないようです。\n",
    "\n",
    "何らかの演算（次元削除手法）により、例えば数百件の単語でできた文書の特徴が、学習時にパラメータとして指定したfeature（通常は100前後を指定）に集約される動きになっています。"
   ]
  },
  {
   "cell_type": "markdown",
   "metadata": {},
   "source": [
    "## (3) 予測処理"
   ]
  },
  {
   "cell_type": "markdown",
   "metadata": {
    "deletable": true,
    "editable": true
   },
   "source": [
    "予測を実行するときは、下記のようなコーパスのリストを使用します。"
   ]
  },
  {
   "cell_type": "markdown",
   "metadata": {},
   "source": [
    "```\n",
    "['情報','システム','アドレス']\n",
    "```"
   ]
  },
  {
   "cell_type": "markdown",
   "metadata": {},
   "source": [
    "上記コーパスから、モデルのinfer_vector関数を使用し、近似ベクトルを生成します。\n",
    "\n",
    "こちらは下記のようなイメージの、numpy arrayオブジェクトです。"
   ]
  },
  {
   "cell_type": "markdown",
   "metadata": {},
   "source": [
    "```\n",
    "[  4.38769273e-02,   3.98379229e-02,  -1.61702514e-01,\n",
    "   4.28867340e-02,  -4.16987725e-02,  -1.88497797e-01,\n",
    "   1.46046523e-02,  -9.24882218e-02,  -5.91080869e-03,\n",
    "  ：\n",
    "  -1.14380161e-03,   1.09144533e-02,   3.87810133e-02,\n",
    "  -2.19986439e-02,  -6.48149401e-02,  -8.24136101e-03,\n",
    "   4.17991243e-02,   1.62045151e-01] <---要素はfeature数分\n",
    "```"
   ]
  },
  {
   "cell_type": "markdown",
   "metadata": {},
   "source": [
    "モデルで生成された、DocvecsArrayインスタンスのmost_similar関数を使用し、上記ベクトルに近似しているベクトルを、モデルの中から探して１０件出力します。\n",
    "\n",
    "（出力件数＝１０件はデフォルト）\n",
    "\n",
    "(ラベル, 類似度) の形式で出力されます。"
   ]
  },
  {
   "cell_type": "markdown",
   "metadata": {},
   "source": [
    "```\n",
    "[(7040, 0.6151561141014099),\n",
    " (4621, 0.6114732027053833),\n",
    " (7068, 0.5491945147514343),\n",
    " (4563, 0.5432988405227661),\n",
    " (4568, 0.5397956967353821),\n",
    " (4524, 0.5377195477485657),\n",
    " (4566, 0.5245414972305298),\n",
    " (4498, 0.5226050019264221),\n",
    " (4460, 0.516629695892334),\n",
    " (4602, 0.5153311491012573)]\n",
    "```"
   ]
  },
  {
   "cell_type": "markdown",
   "metadata": {},
   "source": [
    "なお、most_similar関数による、近似ベクトルの探索は、コサイン類似度をつかって行われるようです。\n",
    "\n",
    "　http://radimrehurek.com/gensim/models/doc2vec.html#gensim.models.doc2vec.DocvecsArray.most_similar　より引用：\n",
    "\n",
    "　This method computes cosine similarity between a simple mean of the projection weight vectors of the given docs"
   ]
  }
 ],
 "metadata": {
  "kernelspec": {
   "display_name": "Python 3",
   "language": "python",
   "name": "python3"
  },
  "language_info": {
   "codemirror_mode": {
    "name": "ipython",
    "version": 3
   },
   "file_extension": ".py",
   "mimetype": "text/x-python",
   "name": "python",
   "nbconvert_exporter": "python",
   "pygments_lexer": "ipython3",
   "version": "3.5.2"
  }
 },
 "nbformat": 4,
 "nbformat_minor": 2
}
