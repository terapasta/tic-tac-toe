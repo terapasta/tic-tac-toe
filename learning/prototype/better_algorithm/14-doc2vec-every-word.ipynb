{
 "cells": [
  {
   "cell_type": "markdown",
   "metadata": {
    "deletable": true,
    "editable": true
   },
   "source": [
    "# Doc2Vecの動作確認（品詞を落とさず検証）"
   ]
  },
  {
   "cell_type": "markdown",
   "metadata": {
    "deletable": true,
    "editable": true
   },
   "source": [
    "## (1) テストデータ／環境準備"
   ]
  },
  {
   "cell_type": "code",
   "execution_count": 1,
   "metadata": {
    "collapsed": false,
    "deletable": true,
    "editable": true
   },
   "outputs": [],
   "source": [
    "'''\n",
    "    テスト環境を準備するためのモジュールを使用します。\n",
    "'''\n",
    "import sys\n",
    "import os\n",
    "learning_dir = os.path.abspath(\"../../\") #<--- donusagi-bot/learning\n",
    "os.chdir(learning_dir)\n",
    "\n",
    "if learning_dir not in sys.path:\n",
    "    sys.path.append(learning_dir)"
   ]
  },
  {
   "cell_type": "markdown",
   "metadata": {
    "deletable": true,
    "editable": true
   },
   "source": [
    "## (2) Doc2Vecの動作確認"
   ]
  },
  {
   "cell_type": "markdown",
   "metadata": {
    "deletable": true,
    "editable": true
   },
   "source": [
    "### (2-1) コーパス生成\n",
    "\n",
    "コーパス（単語が半角スペースで区切られた文字列）生成時、品詞を落とさないようにします。"
   ]
  },
  {
   "cell_type": "code",
   "execution_count": 2,
   "metadata": {
    "collapsed": false,
    "deletable": true,
    "editable": true,
    "scrolled": false
   },
   "outputs": [],
   "source": [
    "import numpy as np\n",
    "\n",
    "from learning.core.learn.learning_parameter import LearningParameter\n",
    "from learning.core.datasource import Datasource\n",
    "\n",
    "_bot_id = 9  # bot_id = 9はセプテーニ\n",
    "attr = {\n",
    "    'include_failed_data': False,\n",
    "    'include_tag_vector': False,\n",
    "    'classify_threshold': 0.5,\n",
    "    'algorithm': LearningParameter.ALGORITHM_LOGISTIC_REGRESSION,\n",
    "    'params_for_algorithm': {'C': 140},\n",
    "    'excluded_labels_for_fitting': None\n",
    "}\n",
    "\n",
    "learning_parameter = LearningParameter(attr)"
   ]
  },
  {
   "cell_type": "code",
   "execution_count": 3,
   "metadata": {
    "collapsed": false,
    "deletable": true,
    "editable": true,
    "scrolled": true
   },
   "outputs": [
    {
     "name": "stderr",
     "output_type": "stream",
     "text": [
      "2017/05/17 AM 11:52:10 ['./fixtures/learning_training_messages/benefitone.csv', './fixtures/learning_training_messages/ptna.csv', './fixtures/learning_training_messages/septeni.csv', './fixtures/learning_training_messages/toyotsu_human.csv']\n",
      "2017/05/17 AM 11:52:10 ['./fixtures/question_answers/toyotsu_human.csv']\n"
     ]
    }
   ],
   "source": [
    "_datasource = Datasource(type='csv')\n",
    "learning_training_messages = _datasource.learning_training_messages(_bot_id)\n",
    "questions = np.array(learning_training_messages['question'])\n",
    "answer_ids = np.array(learning_training_messages['answer_id'])"
   ]
  },
  {
   "cell_type": "code",
   "execution_count": 4,
   "metadata": {
    "collapsed": false,
    "deletable": true,
    "editable": true
   },
   "outputs": [],
   "source": [
    "import MeCab\n",
    "import mojimoji\n",
    "\n",
    "class Nlang_naive:\n",
    "    @classmethod\n",
    "    def split(self, text):\n",
    "        tagger = MeCab.Tagger(\"-u learning/dict/custom.dic\")\n",
    "        tagger.parse('')  # node.surfaceを取得出来るようにするため、空文字をparseする(Python3のバグの模様)\n",
    "        node = tagger.parseToNode(text)\n",
    "        word_list = []\n",
    "        while node:\n",
    "            features = node.feature.split(\",\")\n",
    "            pos = features[0]\n",
    "            if pos in [\"BOS/EOS\", \"記号\"]:\n",
    "                node = node.next\n",
    "                continue\n",
    "\n",
    "            #print(features)\n",
    "            lemma = node.feature.split(\",\")[6]\n",
    "\n",
    "            if lemma == \"*\":\n",
    "                lemma = node.surface  #.decode(\"utf-8\")\n",
    "                \n",
    "            word_list.append(mojimoji.han_to_zen(lemma))\n",
    "            node = node.next\n",
    "        return \" \".join(word_list)\n",
    "\n",
    "    @classmethod\n",
    "    def batch_split(self, texts):\n",
    "        splited_texts = []\n",
    "        for text in texts:\n",
    "            splited_texts.append(self.split(text))\n",
    "        return splited_texts"
   ]
  },
  {
   "cell_type": "code",
   "execution_count": 5,
   "metadata": {
    "collapsed": true,
    "deletable": true,
    "editable": true
   },
   "outputs": [],
   "source": [
    "_sentences = np.array(questions)\n",
    "_separated_sentences = Nlang_naive.batch_split(_sentences)"
   ]
  },
  {
   "cell_type": "markdown",
   "metadata": {
    "deletable": true,
    "editable": true
   },
   "source": [
    "### (2-2) コーパスにタグ付け\n",
    "\n",
    "models.doc2vecの仕様に従います。"
   ]
  },
  {
   "cell_type": "code",
   "execution_count": 6,
   "metadata": {
    "collapsed": false,
    "deletable": true,
    "editable": true,
    "scrolled": false
   },
   "outputs": [],
   "source": [
    "from gensim import models\n",
    "from gensim.models.doc2vec import Doc2Vec\n",
    "from gensim.models.doc2vec import TaggedDocument"
   ]
  },
  {
   "cell_type": "code",
   "execution_count": 7,
   "metadata": {
    "collapsed": true,
    "deletable": true,
    "editable": true
   },
   "outputs": [],
   "source": [
    "def doc_to_sentence(sentences, name):\n",
    "    words = sentences.split(' ')\n",
    "    return TaggedDocument(words=words, tags=[name])\n",
    "\n",
    "def corpus_to_sentences(separated_sentences, answer_ids):\n",
    "    for idx, (doc, name) in enumerate(zip(separated_sentences, answer_ids)):\n",
    "        yield doc_to_sentence(doc, name)"
   ]
  },
  {
   "cell_type": "markdown",
   "metadata": {
    "deletable": true,
    "editable": true
   },
   "source": [
    "### (2-3) 学習処理／モデルのシリアライズ"
   ]
  },
  {
   "cell_type": "code",
   "execution_count": 8,
   "metadata": {
    "collapsed": false,
    "deletable": true,
    "editable": true,
    "scrolled": false
   },
   "outputs": [],
   "source": [
    "sentences = corpus_to_sentences(_separated_sentences, answer_ids)"
   ]
  },
  {
   "cell_type": "code",
   "execution_count": 9,
   "metadata": {
    "collapsed": true,
    "deletable": true,
    "editable": true
   },
   "outputs": [],
   "source": [
    "sentence_list = list(sentences)"
   ]
  },
  {
   "cell_type": "code",
   "execution_count": 10,
   "metadata": {
    "collapsed": false,
    "deletable": true,
    "editable": true
   },
   "outputs": [],
   "source": [
    "model = Doc2Vec(size=500, min_count=1, iter=200)"
   ]
  },
  {
   "cell_type": "code",
   "execution_count": 11,
   "metadata": {
    "collapsed": true,
    "deletable": true,
    "editable": true
   },
   "outputs": [],
   "source": [
    "model.build_vocab(sentence_list)"
   ]
  },
  {
   "cell_type": "code",
   "execution_count": 12,
   "metadata": {
    "collapsed": false,
    "deletable": true,
    "editable": true
   },
   "outputs": [
    {
     "data": {
      "text/plain": [
       "18044965"
      ]
     },
     "execution_count": 12,
     "metadata": {},
     "output_type": "execute_result"
    }
   ],
   "source": [
    "model.train(sentence_list)"
   ]
  },
  {
   "cell_type": "code",
   "execution_count": 13,
   "metadata": {
    "collapsed": true,
    "deletable": true,
    "editable": true
   },
   "outputs": [],
   "source": [
    "model_path = 'prototype/better_algorithm/doc2vec.model'\n",
    "\n",
    "model.save(model_path)"
   ]
  },
  {
   "cell_type": "code",
   "execution_count": 14,
   "metadata": {
    "collapsed": false,
    "deletable": true,
    "editable": true
   },
   "outputs": [
    {
     "data": {
      "text/plain": [
       "173"
      ]
     },
     "execution_count": 14,
     "metadata": {},
     "output_type": "execute_result"
    }
   ],
   "source": [
    "'''\n",
    "    モデル内に保持されているベクトルの数を取得\n",
    "    （ラベルを回答IDにすると、ラベルの数が戻る。\n",
    "    　同一回答IDのサンプルのベクトルが、\n",
    "    　全て上書きされていると考えられる）\n",
    "'''\n",
    "len(model.docvecs)"
   ]
  },
  {
   "cell_type": "code",
   "execution_count": 15,
   "metadata": {
    "collapsed": false,
    "deletable": true,
    "editable": true
   },
   "outputs": [
    {
     "data": {
      "text/plain": [
       "<gensim.models.doc2vec.DocvecsArray at 0x10b7dbb00>"
      ]
     },
     "execution_count": 15,
     "metadata": {},
     "output_type": "execute_result"
    }
   ],
   "source": [
    "model.docvecs"
   ]
  },
  {
   "cell_type": "markdown",
   "metadata": {
    "deletable": true,
    "editable": true
   },
   "source": [
    "### (2-4) 予測処理"
   ]
  },
  {
   "cell_type": "code",
   "execution_count": 16,
   "metadata": {
    "collapsed": false,
    "deletable": true,
    "editable": true
   },
   "outputs": [],
   "source": [
    "model_path = 'prototype/better_algorithm/doc2vec.model'\n",
    "\n",
    "def predict(word, model_path):\n",
    "    '''\n",
    "        予測処理にかけるコーパスを生成\n",
    "        （学習セット作成時と同じ関数を使用）\n",
    "    '''\n",
    "    corpus = Nlang_naive.split(word).split()\n",
    "\n",
    "    '''\n",
    "        コーパスからベクトルを生成し、\n",
    "        ロードしたモデルから類似ベクトルを検索\n",
    "    '''\n",
    "    loaded_model = models.Doc2Vec.load(model_path)\n",
    "    inferred_vector = loaded_model.infer_vector(corpus)\n",
    "    ret = loaded_model.docvecs.most_similar([inferred_vector])\n",
    "\n",
    "    return corpus, ret"
   ]
  },
  {
   "cell_type": "code",
   "execution_count": 17,
   "metadata": {
    "collapsed": false,
    "deletable": true,
    "editable": true,
    "scrolled": false
   },
   "outputs": [
    {
     "data": {
      "text/plain": [
       "(['マウス', '破損'],\n",
       " [(4458, 0.6150838136672974),\n",
       "  (7065, 0.6032382249832153),\n",
       "  (4598, 0.5798125863075256),\n",
       "  (4608, 0.5788400173187256),\n",
       "  (4530, 0.5529136061668396),\n",
       "  (4578, 0.5507270097732544),\n",
       "  (4600, 0.542097806930542),\n",
       "  (4432, 0.538764238357544),\n",
       "  (7037, 0.5380415320396423),\n",
       "  (4444, 0.5330274105072021)])"
      ]
     },
     "execution_count": 17,
     "metadata": {},
     "output_type": "execute_result"
    }
   ],
   "source": [
    "'''\n",
    "    マウス破損（正解＝4458）\n",
    "'''\n",
    "predict('マウス破損', model_path)"
   ]
  },
  {
   "cell_type": "code",
   "execution_count": 18,
   "metadata": {
    "collapsed": false
   },
   "outputs": [
    {
     "data": {
      "text/plain": [
       "(['無線', 'を', '使用', 'する', 'たい'],\n",
       " [(4608, 0.6207529306411743),\n",
       "  (4434, 0.6170967221260071),\n",
       "  (4494, 0.6058829426765442),\n",
       "  (4495, 0.5948004126548767),\n",
       "  (4516, 0.5931248664855957),\n",
       "  (4515, 0.5655504465103149),\n",
       "  (4493, 0.5463182926177979),\n",
       "  (4610, 0.5420070290565491),\n",
       "  (4437, 0.5386759042739868),\n",
       "  (4521, 0.5373212099075317)])"
      ]
     },
     "execution_count": 18,
     "metadata": {},
     "output_type": "execute_result"
    }
   ],
   "source": [
    "'''\n",
    "    無線を使用したい（正解＝4516）\n",
    "'''\n",
    "predict('無線を使用したい', model_path)"
   ]
  },
  {
   "cell_type": "code",
   "execution_count": 19,
   "metadata": {
    "collapsed": false,
    "deletable": true,
    "editable": true,
    "scrolled": true
   },
   "outputs": [
    {
     "data": {
      "text/plain": [
       "(['情報', 'システム', 'の', 'アドレス'],\n",
       " [(7065, 0.6693086624145508),\n",
       "  (4588, 0.6203016042709351),\n",
       "  (4608, 0.6029564142227173),\n",
       "  (4460, 0.5999393463134766),\n",
       "  (4420, 0.5916324257850647),\n",
       "  (4494, 0.5881478786468506),\n",
       "  (4458, 0.5856335759162903),\n",
       "  (4437, 0.5844603180885315),\n",
       "  (4434, 0.5802253484725952),\n",
       "  (4459, 0.5674356818199158)])"
      ]
     },
     "execution_count": 19,
     "metadata": {},
     "output_type": "execute_result"
    }
   ],
   "source": [
    "'''\n",
    "    情報システムのアドレス（正解＝7040）\n",
    "'''\n",
    "predict('情報システムのアドレス', model_path)"
   ]
  },
  {
   "cell_type": "code",
   "execution_count": 20,
   "metadata": {
    "collapsed": false,
    "deletable": true,
    "editable": true,
    "scrolled": false
   },
   "outputs": [
    {
     "data": {
      "text/plain": [
       "(['誤る', '送信', '防止', 'システム', 'を', '使う', 'たい'],\n",
       " [(4533, 0.4564710259437561),\n",
       "  (4556, 0.4544488787651062),\n",
       "  (4600, 0.44249314069747925),\n",
       "  (4557, 0.42799124121665955),\n",
       "  (7068, 0.4272417426109314),\n",
       "  (4428, 0.42698192596435547),\n",
       "  (4596, 0.41918468475341797),\n",
       "  (7056, 0.41879379749298096),\n",
       "  (7037, 0.4185285270214081),\n",
       "  (4498, 0.4164581894874573)])"
      ]
     },
     "execution_count": 20,
     "metadata": {},
     "output_type": "execute_result"
    }
   ],
   "source": [
    "'''\n",
    "    誤送信防止システムを使いたい（正解＝4432）\n",
    "'''\n",
    "predict('誤送信防止システムを使いたい', model_path)"
   ]
  },
  {
   "cell_type": "code",
   "execution_count": 21,
   "metadata": {
    "collapsed": false
   },
   "outputs": [
    {
     "data": {
      "text/plain": [
       "(['携帯',\n",
       "  'から',\n",
       "  'サイボウズ',\n",
       "  'を',\n",
       "  '使う',\n",
       "  'たい',\n",
       "  'の',\n",
       "  'です',\n",
       "  'が',\n",
       "  'どう',\n",
       "  'する',\n",
       "  'た',\n",
       "  '出来る',\n",
       "  'ます',\n",
       "  'か'],\n",
       " [(7065, 0.5829896926879883),\n",
       "  (7037, 0.5620793104171753),\n",
       "  (4472, 0.5277934074401855),\n",
       "  (7068, 0.5207399129867554),\n",
       "  (4458, 0.5111536979675293),\n",
       "  (4509, 0.5046679973602295),\n",
       "  (4473, 0.4950966238975525),\n",
       "  (4566, 0.49249356985092163),\n",
       "  (4468, 0.49069830775260925),\n",
       "  (7064, 0.490645170211792)])"
      ]
     },
     "execution_count": 21,
     "metadata": {},
     "output_type": "execute_result"
    }
   ],
   "source": [
    "'''\n",
    "    携帯からサイボウズを使いたいのですが、どうしたら出来ますか？（正解＝4504）\n",
    "'''\n",
    "predict('携帯からサイボウズを使いたいのですが、どうしたら出来ますか？', model_path)"
   ]
  }
 ],
 "metadata": {
  "kernelspec": {
   "display_name": "Python 3",
   "language": "python",
   "name": "python3"
  },
  "language_info": {
   "codemirror_mode": {
    "name": "ipython",
    "version": 3
   },
   "file_extension": ".py",
   "mimetype": "text/x-python",
   "name": "python",
   "nbconvert_exporter": "python",
   "pygments_lexer": "ipython3",
   "version": "3.5.2"
  }
 },
 "nbformat": 4,
 "nbformat_minor": 2
}
