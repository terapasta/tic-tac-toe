{
 "cells": [
  {
   "cell_type": "markdown",
   "metadata": {
    "deletable": true,
    "editable": true
   },
   "source": [
    "# Doc2Vecの動作確認（一部品詞を落として検証）\n",
    "\n",
    "マイオペのテストデータを使用した結果では、あまり性能が出ないようなので、急きょ accuracy を調査いたしました。\n",
    "\n",
    "結果、0.071 (サンプル16,288件中、正解1,152件) と、かなり低い率であることを確認しました。"
   ]
  },
  {
   "cell_type": "markdown",
   "metadata": {
    "deletable": true,
    "editable": true
   },
   "source": [
    "## (1) テストデータ／環境準備"
   ]
  },
  {
   "cell_type": "code",
   "execution_count": 1,
   "metadata": {
    "collapsed": false,
    "deletable": true,
    "editable": true
   },
   "outputs": [],
   "source": [
    "'''\n",
    "    テスト環境を準備するためのモジュールを使用します。\n",
    "'''\n",
    "import sys\n",
    "import os\n",
    "learning_dir = os.path.abspath(\"../../\") #<--- donusagi-bot/learning\n",
    "os.chdir(learning_dir)\n",
    "\n",
    "if learning_dir not in sys.path:\n",
    "    sys.path.append(learning_dir)"
   ]
  },
  {
   "cell_type": "markdown",
   "metadata": {
    "deletable": true,
    "editable": true
   },
   "source": [
    "## (2) Doc2Vecの動作確認"
   ]
  },
  {
   "cell_type": "markdown",
   "metadata": {
    "deletable": true,
    "editable": true
   },
   "source": [
    "### (2-1) コーパス生成\n",
    "\n",
    "コーパス（単語が半角スペースで区切られた文字列）生成時、一部の品詞を落とすようにします。\n",
    "\n",
    "（＝learning.core.nlang.Nlang クラスの仕様に従います）"
   ]
  },
  {
   "cell_type": "code",
   "execution_count": 2,
   "metadata": {
    "collapsed": false,
    "deletable": true,
    "editable": true,
    "scrolled": false
   },
   "outputs": [],
   "source": [
    "import numpy as np\n",
    "\n",
    "from learning.core.learn.learning_parameter import LearningParameter\n",
    "from learning.core.datasource import Datasource\n",
    "\n",
    "_bot_id = 9  # bot_id = 9はセプテーニ\n",
    "attr = {\n",
    "    'include_failed_data': False,\n",
    "    'include_tag_vector': False,\n",
    "    'classify_threshold': 0.5,\n",
    "    'algorithm': LearningParameter.ALGORITHM_LOGISTIC_REGRESSION,\n",
    "    'params_for_algorithm': {'C': 140},\n",
    "    'excluded_labels_for_fitting': None\n",
    "}\n",
    "\n",
    "learning_parameter = LearningParameter(attr)"
   ]
  },
  {
   "cell_type": "code",
   "execution_count": 3,
   "metadata": {
    "collapsed": false,
    "deletable": true,
    "editable": true,
    "scrolled": true
   },
   "outputs": [
    {
     "name": "stderr",
     "output_type": "stream",
     "text": [
      "2017/05/17 PM 02:54:32 ['./fixtures/learning_training_messages/benefitone.csv', './fixtures/learning_training_messages/ptna.csv', './fixtures/learning_training_messages/septeni.csv', './fixtures/learning_training_messages/toyotsu_human.csv']\n",
      "2017/05/17 PM 02:54:32 ['./fixtures/question_answers/toyotsu_human.csv']\n"
     ]
    }
   ],
   "source": [
    "_datasource = Datasource(type='csv')\n",
    "learning_training_messages = _datasource.learning_training_messages(_bot_id)\n",
    "questions = np.array(learning_training_messages['question'])\n",
    "answer_ids = np.array(learning_training_messages['answer_id'])"
   ]
  },
  {
   "cell_type": "code",
   "execution_count": 4,
   "metadata": {
    "collapsed": false,
    "deletable": true,
    "editable": true
   },
   "outputs": [],
   "source": [
    "from learning.core.nlang import Nlang"
   ]
  },
  {
   "cell_type": "code",
   "execution_count": 5,
   "metadata": {
    "collapsed": true,
    "deletable": true,
    "editable": true
   },
   "outputs": [],
   "source": [
    "_sentences = np.array(questions)\n",
    "_separated_sentences = Nlang.batch_split(_sentences)"
   ]
  },
  {
   "cell_type": "markdown",
   "metadata": {
    "deletable": true,
    "editable": true
   },
   "source": [
    "### (2-2) コーパスにタグ付け\n",
    "\n",
    "models.doc2vecの仕様に従います。"
   ]
  },
  {
   "cell_type": "code",
   "execution_count": 6,
   "metadata": {
    "collapsed": false,
    "deletable": true,
    "editable": true,
    "scrolled": false
   },
   "outputs": [],
   "source": [
    "from gensim import models\n",
    "from gensim.models.doc2vec import Doc2Vec\n",
    "from gensim.models.doc2vec import TaggedDocument"
   ]
  },
  {
   "cell_type": "code",
   "execution_count": 7,
   "metadata": {
    "collapsed": true,
    "deletable": true,
    "editable": true
   },
   "outputs": [],
   "source": [
    "def doc_to_sentence(sentences, name):\n",
    "    words = sentences.split(' ')\n",
    "    return TaggedDocument(words=words, tags=[name])\n",
    "\n",
    "def corpus_to_sentences(separated_sentences, answer_ids):\n",
    "    for idx, (doc, name) in enumerate(zip(separated_sentences, answer_ids)):\n",
    "        yield doc_to_sentence(doc, name)"
   ]
  },
  {
   "cell_type": "markdown",
   "metadata": {
    "deletable": true,
    "editable": true
   },
   "source": [
    "### (2-3) 学習処理／モデルのシリアライズ"
   ]
  },
  {
   "cell_type": "code",
   "execution_count": 8,
   "metadata": {
    "collapsed": false,
    "deletable": true,
    "editable": true,
    "scrolled": false
   },
   "outputs": [],
   "source": [
    "sentences = corpus_to_sentences(_separated_sentences, answer_ids)"
   ]
  },
  {
   "cell_type": "code",
   "execution_count": 9,
   "metadata": {
    "collapsed": true,
    "deletable": true,
    "editable": true
   },
   "outputs": [],
   "source": [
    "sentence_list = list(sentences)"
   ]
  },
  {
   "cell_type": "code",
   "execution_count": 10,
   "metadata": {
    "collapsed": false,
    "deletable": true,
    "editable": true
   },
   "outputs": [],
   "source": [
    "model = Doc2Vec(size=500, min_count=1, iter=200)"
   ]
  },
  {
   "cell_type": "code",
   "execution_count": 11,
   "metadata": {
    "collapsed": true,
    "deletable": true,
    "editable": true
   },
   "outputs": [],
   "source": [
    "model.build_vocab(sentence_list)"
   ]
  },
  {
   "cell_type": "code",
   "execution_count": 12,
   "metadata": {
    "collapsed": false,
    "deletable": true,
    "editable": true
   },
   "outputs": [
    {
     "data": {
      "text/plain": [
       "13682673"
      ]
     },
     "execution_count": 12,
     "metadata": {},
     "output_type": "execute_result"
    }
   ],
   "source": [
    "model.train(sentence_list)"
   ]
  },
  {
   "cell_type": "code",
   "execution_count": 13,
   "metadata": {
    "collapsed": true,
    "deletable": true,
    "editable": true
   },
   "outputs": [],
   "source": [
    "model_path = 'prototype/better_algorithm/doc2vec.model'\n",
    "\n",
    "model.save(model_path)"
   ]
  },
  {
   "cell_type": "code",
   "execution_count": 14,
   "metadata": {
    "collapsed": false,
    "deletable": true,
    "editable": true
   },
   "outputs": [
    {
     "data": {
      "text/plain": [
       "173"
      ]
     },
     "execution_count": 14,
     "metadata": {},
     "output_type": "execute_result"
    }
   ],
   "source": [
    "'''\n",
    "    モデル内に保持されているベクトルの数を取得\n",
    "    （ラベルを回答IDにすると、ラベルの数が戻る。\n",
    "    　同一回答IDのサンプルのベクトルが、\n",
    "    　全て上書きされていると考えられる）\n",
    "'''\n",
    "len(model.docvecs)"
   ]
  },
  {
   "cell_type": "code",
   "execution_count": 15,
   "metadata": {
    "collapsed": false,
    "deletable": true,
    "editable": true
   },
   "outputs": [
    {
     "data": {
      "text/plain": [
       "<gensim.models.doc2vec.DocvecsArray at 0x10b7a57f0>"
      ]
     },
     "execution_count": 15,
     "metadata": {},
     "output_type": "execute_result"
    }
   ],
   "source": [
    "model.docvecs"
   ]
  },
  {
   "cell_type": "markdown",
   "metadata": {
    "deletable": true,
    "editable": true
   },
   "source": [
    "### (2-4) 予測処理"
   ]
  },
  {
   "cell_type": "code",
   "execution_count": 16,
   "metadata": {
    "collapsed": false,
    "deletable": true,
    "editable": true
   },
   "outputs": [],
   "source": [
    "model_path = 'prototype/better_algorithm/doc2vec.model'\n",
    "\n",
    "def predict(word, model_path):\n",
    "    '''\n",
    "        予測処理にかけるコーパスを生成\n",
    "        （学習セット作成時と同じ関数を使用）\n",
    "    '''\n",
    "    corpus = Nlang.split(word).split()\n",
    "\n",
    "    '''\n",
    "        コーパスからベクトルを生成し、\n",
    "        ロードしたモデルから類似ベクトルを検索\n",
    "    '''\n",
    "    loaded_model = models.Doc2Vec.load(model_path)\n",
    "    inferred_vector = loaded_model.infer_vector(corpus)\n",
    "    ret = loaded_model.docvecs.most_similar([inferred_vector])\n",
    "\n",
    "    return corpus, ret"
   ]
  },
  {
   "cell_type": "code",
   "execution_count": 17,
   "metadata": {
    "collapsed": false,
    "deletable": true,
    "editable": true,
    "scrolled": false
   },
   "outputs": [
    {
     "data": {
      "text/plain": [
       "(['マウス', '破損'],\n",
       " [(4458, 0.7610461711883545),\n",
       "  (4459, 0.6904299259185791),\n",
       "  (4530, 0.6668727397918701),\n",
       "  (7068, 0.5458143949508667),\n",
       "  (4566, 0.536504864692688),\n",
       "  (4581, 0.5306761264801025),\n",
       "  (4620, 0.5201034545898438),\n",
       "  (4531, 0.5128851532936096),\n",
       "  (4541, 0.503987193107605),\n",
       "  (4599, 0.5033320188522339)])"
      ]
     },
     "execution_count": 17,
     "metadata": {},
     "output_type": "execute_result"
    }
   ],
   "source": [
    "'''\n",
    "    マウス破損（正解＝4458）\n",
    "'''\n",
    "predict('マウス破損', model_path)"
   ]
  },
  {
   "cell_type": "code",
   "execution_count": 18,
   "metadata": {
    "collapsed": false,
    "deletable": true,
    "editable": true,
    "scrolled": false
   },
   "outputs": [
    {
     "data": {
      "text/plain": [
       "(['無線', '使用', 'する'],\n",
       " [(4458, 0.6817476153373718),\n",
       "  (7042, 0.6709047555923462),\n",
       "  (4548, 0.6647758483886719),\n",
       "  (7044, 0.6387978196144104),\n",
       "  (7068, 0.6331000328063965),\n",
       "  (4494, 0.6238508820533752),\n",
       "  (4566, 0.6182248592376709),\n",
       "  (4516, 0.6084833145141602),\n",
       "  (4521, 0.597450852394104),\n",
       "  (4627, 0.5923368334770203)])"
      ]
     },
     "execution_count": 18,
     "metadata": {},
     "output_type": "execute_result"
    }
   ],
   "source": [
    "'''\n",
    "    無線を使用したい（正解＝4516）\n",
    "'''\n",
    "predict('無線を使用したい', model_path)"
   ]
  },
  {
   "cell_type": "code",
   "execution_count": 19,
   "metadata": {
    "collapsed": false,
    "deletable": true,
    "editable": true,
    "scrolled": true
   },
   "outputs": [
    {
     "data": {
      "text/plain": [
       "(['情報', 'システム', 'アドレス'],\n",
       " [(7065, 0.5496551990509033),\n",
       "  (7040, 0.4953303933143616),\n",
       "  (4565, 0.48816725611686707),\n",
       "  (7037, 0.48583632707595825),\n",
       "  (7084, 0.4851142168045044),\n",
       "  (4498, 0.48511412739753723),\n",
       "  (4489, 0.48499345779418945),\n",
       "  (4620, 0.4819757044315338),\n",
       "  (4432, 0.4768473505973816),\n",
       "  (4523, 0.47387853264808655)])"
      ]
     },
     "execution_count": 19,
     "metadata": {},
     "output_type": "execute_result"
    }
   ],
   "source": [
    "'''\n",
    "    情報システムのアドレス（正解＝7040）\n",
    "'''\n",
    "predict('情報システムのアドレス', model_path)"
   ]
  },
  {
   "cell_type": "code",
   "execution_count": 20,
   "metadata": {
    "collapsed": false,
    "deletable": true,
    "editable": true,
    "scrolled": false
   },
   "outputs": [
    {
     "data": {
      "text/plain": [
       "(['誤る', '送信', '防止', 'システム', '使う'],\n",
       " [(4458, 0.5443743467330933),\n",
       "  (4472, 0.542833685874939),\n",
       "  (4603, 0.5288375616073608),\n",
       "  (4525, 0.524386465549469),\n",
       "  (4566, 0.5055374503135681),\n",
       "  (4450, 0.4928273856639862),\n",
       "  (4565, 0.49246060848236084),\n",
       "  (4569, 0.4910944104194641),\n",
       "  (4511, 0.4873133599758148),\n",
       "  (4598, 0.4871697425842285)])"
      ]
     },
     "execution_count": 20,
     "metadata": {},
     "output_type": "execute_result"
    }
   ],
   "source": [
    "'''\n",
    "    誤送信防止システムを使いたい（正解＝4432）\n",
    "'''\n",
    "predict('誤送信防止システムを使いたい', model_path)"
   ]
  },
  {
   "cell_type": "code",
   "execution_count": 21,
   "metadata": {
    "collapsed": false,
    "deletable": true,
    "editable": true,
    "scrolled": false
   },
   "outputs": [
    {
     "data": {
      "text/plain": [
       "(['携帯', 'サイボウズ', '使う', 'どう', 'する', '出来る'],\n",
       " [(4611, 0.667762815952301),\n",
       "  (4459, 0.6388451457023621),\n",
       "  (4549, 0.6275416612625122),\n",
       "  (4590, 0.5874701142311096),\n",
       "  (4598, 0.5784797668457031),\n",
       "  (4601, 0.5705738663673401),\n",
       "  (4523, 0.569864809513092),\n",
       "  (7037, 0.5617852210998535),\n",
       "  (4507, 0.5613116025924683),\n",
       "  (4625, 0.5555490851402283)])"
      ]
     },
     "execution_count": 21,
     "metadata": {},
     "output_type": "execute_result"
    }
   ],
   "source": [
    "'''\n",
    "    携帯からサイボウズを使いたいのですが、どうしたら出来ますか？（正解＝4504）\n",
    "'''\n",
    "predict('携帯からサイボウズを使いたいのですが、どうしたら出来ますか？', model_path)"
   ]
  },
  {
   "cell_type": "markdown",
   "metadata": {
    "deletable": true,
    "editable": true
   },
   "source": [
    "## (3) accuracy 測定\n",
    "\n",
    "ここからが本題です"
   ]
  },
  {
   "cell_type": "code",
   "execution_count": 22,
   "metadata": {
    "collapsed": false,
    "deletable": true,
    "editable": true,
    "scrolled": true
   },
   "outputs": [
    {
     "data": {
      "text/plain": [
       "16288"
      ]
     },
     "execution_count": 22,
     "metadata": {},
     "output_type": "execute_result"
    }
   ],
   "source": [
    "model_path = 'prototype/better_algorithm/doc2vec.model'\n",
    "\n",
    "len(_separated_sentences)"
   ]
  },
  {
   "cell_type": "code",
   "execution_count": 23,
   "metadata": {
    "collapsed": false,
    "deletable": true,
    "editable": true,
    "scrolled": true
   },
   "outputs": [],
   "source": [
    "def predict_similarity(separated_sentence, model_path):\n",
    "    corpus = separated_sentence.split()\n",
    "    loaded_model = models.Doc2Vec.load(model_path)\n",
    "    inferred_vector = loaded_model.infer_vector(corpus)\n",
    "    ret = loaded_model.docvecs.most_similar([inferred_vector])\n",
    "\n",
    "    answer_id, similarity = ret[0]\n",
    "    return corpus, answer_id, similarity"
   ]
  },
  {
   "cell_type": "code",
   "execution_count": 24,
   "metadata": {
    "collapsed": true,
    "deletable": true,
    "editable": true
   },
   "outputs": [],
   "source": [
    "def get_prediction_statistics(separated_sentences, model_path):\n",
    "    '''\n",
    "        学習セットの質問文をそのまま予測処理にかけて、\n",
    "        回答を予測\n",
    "    '''\n",
    "    statistics = []\n",
    "    for i, _ in enumerate(_separated_sentences):\n",
    "        sentence = _separated_sentences[i]\n",
    "        preferred_answer_id = answer_ids[i]\n",
    "        corpus, answer_id, similarity = predict_similarity(_separated_sentences[i], model_path)\n",
    "        corpus_len = len(corpus)\n",
    "        statistics.append((i, corpus_len, preferred_answer_id, answer_id, similarity))\n",
    "\n",
    "    return statistics"
   ]
  },
  {
   "cell_type": "code",
   "execution_count": 25,
   "metadata": {
    "collapsed": false,
    "deletable": true,
    "editable": true
   },
   "outputs": [],
   "source": [
    "prediction_statistics = get_prediction_statistics(_separated_sentences, model_path)"
   ]
  },
  {
   "cell_type": "code",
   "execution_count": 26,
   "metadata": {
    "collapsed": false,
    "deletable": true,
    "editable": true
   },
   "outputs": [],
   "source": [
    "ncorrect_by_corpus_len = {}\n",
    "nsample_by_corpus_len = {}\n",
    "\n",
    "ncorrect_by_answer_id = {}\n",
    "nsample_by_answer_id = {}\n",
    "corpus_len_by_answer_id = {}\n",
    "\n",
    "ncorrect = 0\n",
    "nsample = 0\n",
    "\n",
    "'''\n",
    "    予測結果を、質問文の単語数毎／回答ID毎に統計する\n",
    "'''\n",
    "for statistics in prediction_statistics:\n",
    "    i, corpus_len, preferred_answer_id, answer_id, similarity = statistics\n",
    "    \n",
    "    '''\n",
    "        質問文の単語数ごとに統計を取る\n",
    "    '''\n",
    "    if corpus_len not in nsample_by_corpus_len.keys():\n",
    "        ncorrect_by_corpus_len[corpus_len] = 0\n",
    "        nsample_by_corpus_len[corpus_len] = 0\n",
    "    nsample_by_corpus_len[corpus_len] += 1\n",
    "\n",
    "    '''\n",
    "        回答IDごとに統計を取る\n",
    "    '''\n",
    "    if preferred_answer_id not in nsample_by_answer_id.keys():\n",
    "        ncorrect_by_answer_id[preferred_answer_id] = 0\n",
    "        nsample_by_answer_id[preferred_answer_id] = 0\n",
    "        corpus_len_by_answer_id[preferred_answer_id] = 0\n",
    "    nsample_by_answer_id[preferred_answer_id] += 1\n",
    "    corpus_len_by_answer_id[preferred_answer_id] += corpus_len\n",
    "    \n",
    "    '''\n",
    "        正解かどうか検査\n",
    "    '''\n",
    "    nsample += 1\n",
    "    if preferred_answer_id == answer_id:\n",
    "        ncorrect += 1\n",
    "        ncorrect_by_corpus_len[corpus_len] += 1\n",
    "        ncorrect_by_answer_id[preferred_answer_id] += 1"
   ]
  },
  {
   "cell_type": "code",
   "execution_count": 27,
   "metadata": {
    "collapsed": false,
    "deletable": true,
    "editable": true
   },
   "outputs": [],
   "source": [
    "'''\n",
    "    質問文の単語数ごとの統計情報を編集\n",
    "'''\n",
    "info_by_corpus_len = []\n",
    "for k, v in ncorrect_by_corpus_len.items():\n",
    "    info_by_corpus_len.append((\n",
    "        k, \n",
    "        ncorrect_by_corpus_len[k]/nsample_by_corpus_len[k], \n",
    "        ncorrect_by_corpus_len[k], \n",
    "        nsample_by_corpus_len[k]\n",
    "    ))"
   ]
  },
  {
   "cell_type": "code",
   "execution_count": 28,
   "metadata": {
    "collapsed": false,
    "deletable": true,
    "editable": true
   },
   "outputs": [],
   "source": [
    "'''\n",
    "    回答IDごとの統計情報を編集\n",
    "'''\n",
    "info_by_answer_id = []\n",
    "for k, v in ncorrect_by_answer_id.items():\n",
    "    info_by_answer_id.append((\n",
    "        k, \n",
    "        ncorrect_by_answer_id[k]/nsample_by_answer_id[k], \n",
    "        ncorrect_by_answer_id[k], \n",
    "        nsample_by_answer_id[k],\n",
    "        corpus_len_by_answer_id[k]/nsample_by_answer_id[k]\n",
    "    ))"
   ]
  },
  {
   "cell_type": "code",
   "execution_count": 29,
   "metadata": {
    "collapsed": false,
    "deletable": true,
    "editable": true
   },
   "outputs": [
    {
     "name": "stdout",
     "output_type": "stream",
     "text": [
      "accuracy=0.071 (1152/16288)\n"
     ]
    }
   ],
   "source": [
    "'''\n",
    "    全体の正解率\n",
    "'''\n",
    "print(\"accuracy=%0.3f (%d/%d)\" % (\n",
    "    ncorrect/nsample, ncorrect, nsample))"
   ]
  },
  {
   "cell_type": "code",
   "execution_count": 30,
   "metadata": {
    "collapsed": false,
    "deletable": true,
    "editable": true
   },
   "outputs": [
    {
     "name": "stdout",
     "output_type": "stream",
     "text": [
      "word_count= 1: accuracy=0.273 (6/22)\n",
      "word_count= 2: accuracy=0.121 (156/1292)\n",
      "word_count= 3: accuracy=0.085 (310/3626)\n",
      "word_count= 4: accuracy=0.071 (306/4287)\n",
      "word_count= 5: accuracy=0.063 (180/2871)\n",
      "word_count= 6: accuracy=0.057 (90/1587)\n",
      "word_count= 7: accuracy=0.045 (44/974)\n",
      "word_count= 8: accuracy=0.046 (32/689)\n",
      "word_count= 9: accuracy=0.044 (16/366)\n",
      "word_count=10: accuracy=0.033 (8/242)\n",
      "word_count=11: accuracy=0.014 (2/144)\n",
      "word_count=12: accuracy=0.000 (0/74)\n",
      "word_count=13: accuracy=0.059 (2/34)\n",
      "word_count=14: accuracy=0.000 (0/44)\n",
      "word_count=15: accuracy=0.000 (0/20)\n",
      "word_count=16: accuracy=0.000 (0/8)\n",
      "word_count=17: accuracy=0.000 (0/4)\n",
      "word_count=18: accuracy=0.000 (0/4)\n"
     ]
    }
   ],
   "source": [
    "'''\n",
    "    質問文の単語数ごとの正解率をリスト\n",
    "'''\n",
    "for info in info_by_corpus_len:\n",
    "    print(\"word_count=%2d: accuracy=%0.3f (%d/%d)\" % (\n",
    "        info[0], info[1], info[2], info[3]\n",
    "    ))"
   ]
  },
  {
   "cell_type": "code",
   "execution_count": 31,
   "metadata": {
    "collapsed": false,
    "deletable": true,
    "editable": true
   },
   "outputs": [
    {
     "name": "stdout",
     "output_type": "stream",
     "text": [
      "answer_id=4423: accuracy=0.807 (92/114) word average count=3.6\n",
      "answer_id=7068: accuracy=0.667 (8/12) word average count=3.0\n",
      "answer_id=4517: accuracy=0.608 (62/102) word average count=4.0\n",
      "answer_id=4458: accuracy=0.600 (12/20) word average count=2.7\n",
      "answer_id=4494: accuracy=0.600 (12/20) word average count=3.1\n",
      "answer_id=4609: accuracy=0.569 (66/116) word average count=6.0\n",
      "answer_id=4537: accuracy=0.522 (48/92) word average count=5.6\n",
      "answer_id=4576: accuracy=0.457 (42/92) word average count=5.5\n",
      "answer_id=4568: accuracy=0.429 (30/70) word average count=3.8\n",
      "answer_id=4500: accuracy=0.378 (34/90) word average count=3.3\n",
      "answer_id=4613: accuracy=0.326 (28/86) word average count=3.0\n",
      "answer_id=4620: accuracy=0.321 (36/112) word average count=5.4\n",
      "answer_id=7044: accuracy=0.300 (6/20) word average count=4.6\n",
      "answer_id=4496: accuracy=0.286 (8/28) word average count=5.9\n",
      "answer_id=4548: accuracy=0.286 (16/56) word average count=4.0\n",
      "answer_id=4519: accuracy=0.281 (18/64) word average count=4.9\n",
      "answer_id=4525: accuracy=0.281 (18/64) word average count=2.8\n",
      "answer_id=4543: accuracy=0.269 (14/52) word average count=4.4\n",
      "answer_id=4505: accuracy=0.268 (52/194) word average count=4.2\n",
      "answer_id=4498: accuracy=0.238 (20/84) word average count=4.1\n",
      "answer_id=7064: accuracy=0.200 (2/10) word average count=6.2\n",
      "answer_id=4516: accuracy=0.200 (26/130) word average count=3.3\n",
      "answer_id=4556: accuracy=0.195 (16/82) word average count=5.6\n",
      "answer_id=4566: accuracy=0.194 (24/124) word average count=4.3\n",
      "answer_id=4561: accuracy=0.184 (14/76) word average count=4.8\n",
      "answer_id=4551: accuracy=0.176 (6/34) word average count=5.1\n",
      "answer_id=4547: accuracy=0.171 (14/82) word average count=3.9\n",
      "answer_id=7037: accuracy=0.167 (2/12) word average count=3.0\n",
      "answer_id=4513: accuracy=0.167 (24/144) word average count=5.4\n",
      "answer_id=4491: accuracy=0.161 (50/311) word average count=4.4\n",
      "answer_id=4564: accuracy=0.154 (12/78) word average count=3.7\n",
      "answer_id=4502: accuracy=0.150 (12/80) word average count=5.7\n",
      "answer_id=4542: accuracy=0.143 (12/84) word average count=3.8\n",
      "answer_id=4598: accuracy=0.143 (12/84) word average count=2.9\n",
      "answer_id=4428: accuracy=0.139 (10/72) word average count=3.2\n",
      "answer_id=4589: accuracy=0.130 (14/108) word average count=5.5\n",
      "answer_id=4445: accuracy=0.111 (10/90) word average count=4.9\n",
      "answer_id=4468: accuracy=0.100 (2/20) word average count=4.5\n",
      "answer_id=7040: accuracy=0.100 (2/20) word average count=3.9\n",
      "answer_id=7042: accuracy=0.100 (2/20) word average count=2.0\n",
      "answer_id=4628: accuracy=0.091 (12/132) word average count=4.1\n",
      "answer_id=4495: accuracy=0.083 (6/72) word average count=4.7\n",
      "answer_id=4603: accuracy=0.081 (6/74) word average count=4.3\n",
      "answer_id=4539: accuracy=0.079 (6/76) word average count=6.1\n",
      "answer_id=4473: accuracy=0.077 (2/26) word average count=3.7\n",
      "answer_id=4546: accuracy=0.077 (2/26) word average count=3.8\n",
      "answer_id=4562: accuracy=0.077 (6/78) word average count=3.9\n",
      "answer_id=4460: accuracy=0.074 (4/54) word average count=3.4\n",
      "answer_id=4605: accuracy=0.074 (4/54) word average count=5.5\n",
      "answer_id=4624: accuracy=0.071 (8/112) word average count=4.2\n"
     ]
    }
   ],
   "source": [
    "'''\n",
    "    回答ラベルごとの正解率をリスト\n",
    "    （正解率の高いもの順に、上位５０件だけ表示）\n",
    "    \n",
    "    参考情報として、回答ラベルがつけられている\n",
    "    質問文の平均単語数（word average count）を表示\n",
    "'''\n",
    "sorted_info_by_answer_id = sorted(info_by_answer_id, key=lambda x:x[1], reverse=True)\n",
    "for info in sorted_info_by_answer_id[0:50]: # 上位50件だけ表示\n",
    "    print(\"answer_id=%2d: accuracy=%0.3f (%d/%d) word average count=%0.1f\" % (\n",
    "        info[0], info[1], info[2], info[3], info[4]\n",
    "    ))"
   ]
  }
 ],
 "metadata": {
  "kernelspec": {
   "display_name": "Python 3",
   "language": "python",
   "name": "python3"
  },
  "language_info": {
   "codemirror_mode": {
    "name": "ipython",
    "version": 3
   },
   "file_extension": ".py",
   "mimetype": "text/x-python",
   "name": "python",
   "nbconvert_exporter": "python",
   "pygments_lexer": "ipython3",
   "version": "3.5.2"
  }
 },
 "nbformat": 4,
 "nbformat_minor": 2
}
