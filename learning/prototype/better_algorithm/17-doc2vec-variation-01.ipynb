{
 "cells": [
  {
   "cell_type": "markdown",
   "metadata": {
    "deletable": true,
    "editable": true
   },
   "source": [
    "# Doc2Vecの実行条件調査（part1）\n",
    "\n",
    "- ラベル毎にユニークな教師データを設定（このためテストデータから学習セットの大半が失われます）\n",
    "\n",
    "\n",
    "- 品詞を落とさないようにする\n",
    "\n",
    "\n",
    "- パラメータを一部変更（DBOWを使用／feature数を調整）\n",
    "\n",
    "\n",
    "accuracyは 0.954 と向上した様子です。"
   ]
  },
  {
   "cell_type": "markdown",
   "metadata": {
    "deletable": true,
    "editable": true
   },
   "source": [
    "## (1) テストデータ／環境準備"
   ]
  },
  {
   "cell_type": "code",
   "execution_count": 1,
   "metadata": {
    "collapsed": false,
    "deletable": true,
    "editable": true
   },
   "outputs": [],
   "source": [
    "'''\n",
    "    テスト環境を準備するためのモジュールを使用します。\n",
    "'''\n",
    "import sys\n",
    "import os\n",
    "learning_dir = os.path.abspath(\"../../\") #<--- donusagi-bot/learning\n",
    "os.chdir(learning_dir)\n",
    "\n",
    "if learning_dir not in sys.path:\n",
    "    sys.path.append(learning_dir)"
   ]
  },
  {
   "cell_type": "markdown",
   "metadata": {
    "deletable": true,
    "editable": true
   },
   "source": [
    "## (2) Doc2Vecの動作確認"
   ]
  },
  {
   "cell_type": "markdown",
   "metadata": {
    "deletable": true,
    "editable": true
   },
   "source": [
    "### (2-1) コーパス生成\n",
    "\n",
    "コーパス（単語が半角スペースで区切られた文字列）生成時、一部の品詞を落とすようにします。\n",
    "\n",
    "（＝learning.core.nlang.Nlang クラスの仕様に従います）"
   ]
  },
  {
   "cell_type": "code",
   "execution_count": 2,
   "metadata": {
    "collapsed": false,
    "deletable": true,
    "editable": true,
    "scrolled": false
   },
   "outputs": [],
   "source": [
    "import numpy as np\n",
    "\n",
    "from learning.core.learn.learning_parameter import LearningParameter\n",
    "from learning.core.datasource import Datasource\n",
    "\n",
    "_bot_id = 9  # bot_id = 9はセプテーニ\n",
    "attr = {\n",
    "    'include_failed_data': False,\n",
    "    'include_tag_vector': False,\n",
    "    'classify_threshold': 0.5,\n",
    "    'algorithm': LearningParameter.ALGORITHM_LOGISTIC_REGRESSION,\n",
    "    'params_for_algorithm': {'C': 140},\n",
    "    'excluded_labels_for_fitting': None\n",
    "}\n",
    "\n",
    "learning_parameter = LearningParameter(attr)"
   ]
  },
  {
   "cell_type": "code",
   "execution_count": 3,
   "metadata": {
    "collapsed": false,
    "deletable": true,
    "editable": true,
    "scrolled": false
   },
   "outputs": [
    {
     "name": "stderr",
     "output_type": "stream",
     "text": [
      "2017/05/18 PM 12:02:01 ['./fixtures/learning_training_messages/benefitone.csv', './fixtures/learning_training_messages/ptna.csv', './fixtures/learning_training_messages/septeni.csv', './fixtures/learning_training_messages/toyotsu_human.csv']\n",
      "2017/05/18 PM 12:02:01 ['./fixtures/question_answers/toyotsu_human.csv']\n"
     ]
    }
   ],
   "source": [
    "_datasource = Datasource(type='csv')\n",
    "learning_training_messages = _datasource.learning_training_messages(_bot_id)\n",
    "questions = np.array(learning_training_messages['question'])\n",
    "answer_ids = np.array(learning_training_messages['answer_id'])"
   ]
  },
  {
   "cell_type": "code",
   "execution_count": 4,
   "metadata": {
    "collapsed": true,
    "deletable": true,
    "editable": true
   },
   "outputs": [],
   "source": [
    "import MeCab\n",
    "import mojimoji\n",
    "\n",
    "class Nlang_naive:\n",
    "    @classmethod\n",
    "    def split(self, text):\n",
    "        tagger = MeCab.Tagger(\"-u learning/dict/custom.dic\")\n",
    "        tagger.parse('')  # node.surfaceを取得出来るようにするため、空文字をparseする(Python3のバグの模様)\n",
    "        node = tagger.parseToNode(text)\n",
    "        word_list = []\n",
    "        while node:\n",
    "            features = node.feature.split(\",\")\n",
    "            pos = features[0]\n",
    "            if pos in [\"BOS/EOS\", \"記号\"]:\n",
    "                node = node.next\n",
    "                continue\n",
    "\n",
    "            #print(features)\n",
    "            lemma = node.feature.split(\",\")[6]\n",
    "\n",
    "            if lemma == \"*\":\n",
    "                lemma = node.surface  #.decode(\"utf-8\")\n",
    "                \n",
    "            word_list.append(mojimoji.han_to_zen(lemma))\n",
    "            node = node.next\n",
    "        return \" \".join(word_list)\n",
    "\n",
    "    @classmethod\n",
    "    def batch_split(self, texts):\n",
    "        splited_texts = []\n",
    "        for text in texts:\n",
    "            splited_texts.append(self.split(text))\n",
    "        return splited_texts"
   ]
  },
  {
   "cell_type": "code",
   "execution_count": 5,
   "metadata": {
    "collapsed": true,
    "deletable": true,
    "editable": true
   },
   "outputs": [],
   "source": [
    "from learning.core.nlang import Nlang\n",
    "\n",
    "_sentences = np.array(questions)\n",
    "_separated_sentences = Nlang_naive.batch_split(_sentences)"
   ]
  },
  {
   "cell_type": "markdown",
   "metadata": {
    "deletable": true,
    "editable": true
   },
   "source": [
    "#### 試しに、学習セットをラベル毎にユニーク化してみます。"
   ]
  },
  {
   "cell_type": "code",
   "execution_count": 6,
   "metadata": {
    "collapsed": false,
    "deletable": true,
    "editable": true
   },
   "outputs": [],
   "source": [
    "unique_answer_ids = []\n",
    "unique_questions = []\n",
    "unique_separated_sentences = []\n",
    "\n",
    "for index, answer_id in enumerate(answer_ids):\n",
    "    if answer_id not in unique_answer_ids:\n",
    "        '''\n",
    "            データをリストに格納\n",
    "        '''\n",
    "        unique_answer_ids.append(answer_id)\n",
    "        unique_questions.append(questions[index])\n",
    "        unique_separated_sentences.append(_separated_sentences[index])"
   ]
  },
  {
   "cell_type": "code",
   "execution_count": 7,
   "metadata": {
    "collapsed": false,
    "deletable": true,
    "editable": true,
    "scrolled": false
   },
   "outputs": [
    {
     "name": "stdout",
     "output_type": "stream",
     "text": [
      "4420 Ｗｉｎｄｏｗｓ ログイン が 出来る ない\n",
      "2761 ブルース クリーン が 発生 する 強制 的 に シャット ダウン する れる\n",
      "4423 パソコン に メモリ を 増設 する たい\n",
      "4425 共有 ＰＣ に 設定 する て いる 管理 者 権限 を 他 の ユーザー に も 付与 する せる たい\n",
      "4428 データ を メディア に コピー する たい\n",
      "4429 Ｍａｃ を 使用 する たい\n",
      "4432 誤る 送信 防止 システム の インストール が 出来る ない\n",
      "4434 ａｋｉｎｄｏ に 接続 できる ない\n",
      "4437 サイボウズ に ログイン できる ない\n",
      "4441 販管 （ ＳＡＰ ） の パスワード を 忘れる た\n",
      "4444 拠点 の ＩＰ アドレス が 知る たい\n",
      "4445 プリンタードライバ の インストール が 出来る ない\n",
      "4447 ＰＣ を 複数 台 使用 する たい\n",
      "4450 Ｃ ドライブ の 容量 が 枯渇\n",
      "4454 Ｃ ドライブ の 容量 が 不足\n",
      "4455 複数 の メールアドレス の アカウント が 欲しい\n",
      "4530 マウス が 壊れる た\n",
      "4458 マウス 破損\n",
      "4459 マウス 交換\n",
      "4610 共有 フォルダ に アクセス できる ない\n",
      "4460 共有 フォルダ アクセス\n",
      "4468 リモート ＶＰＮ 接続 が 出来る ない\n",
      "4472 リモート アクセス が 出来る ない\n",
      "4473 ＶＰＮ 接続 が 出来る ない\n",
      "4474 海外 出張 の 際 に ＰＣ を 持つ て いく たい\n",
      "4478 ＭＬ が 届く ない\n",
      "7084 ＰＣ が 破損 する ます た\n",
      "4480 ＰＣ 破損\n",
      "4484 ＰＣ が 不具合 を 起こす て いる ます\n",
      "4489 Ｏｆｆｉｃｅ ファイル を ＰＤＦ 化 する たい\n",
      "4491 ＩＤ システム 導入 前 の 事前 設定 ５ ＿ 販管 （ ＳＡＰ ） 利用 手順\n",
      "4492 ＩＤ システム 導入 後 の 設定 Ｇ メール ログイン 手順 ． ｐｄｆ\n",
      "4500 Ｇｍａｉｌ 手順\n",
      "4493 無線 設定 する た のに （ ａｋｉｎｄｏ ｈｉｎｅｒａｎｋａｉ − ７ ） 繋がる ない\n",
      "4494 ａｋｉｎｄｏ 繋がる ない\n",
      "4495 ｈｉｎｅｒａｎｋａｉ − ７ 繋がる ない\n",
      "4496 サイボウズ の パスワード の 変更 を する たい 社外 の 場合\n",
      "4497 サイボウズ パスワード 変更\n",
      "4498 ＳＦＴＳ ２ の 使い方 を 知る たい\n",
      "4499 ＩＤ システム 導入 前 の 事前 設定 ６ ＿ ＣＲＭ 利用 手順\n",
      "4501 社外 から サイボウズ 利用\n",
      "4502 販管 で 文字 を 入力 する て も 一文字 ずつ しか 入力 できる ない\n",
      "4503 販管 の ログイン パスワード を 忘れる た\n",
      "4504 ＫＵＮＡＩ ｆｏｒ ｉＰｈｏｎｅ ＫＵＮＡＩ ｆｏｒ Ａｎｄｒｏｉｄ の 設定 方法 を 知る たい\n",
      "4505 Ｍａｃ 販管 を 利用 する たい\n",
      "4506 サイボウズ に アクセス できる ない\n",
      "4507 ＩＤ システム 導入 後 の 設定 ２ ＿ ＰＷ 変更 ． ｐｄｆ\n",
      "4508 ＩＤ システム 導入 後 の 設定 ３ ＿ サイボウズ ． ｐｄｆ\n",
      "4509 ＩＤ システム 導入 後 の 設定 ４ ＿ 勤怠 管理 システム ． ｐｄｆ\n",
      "4510 Ｇ メール に アクセス できる ない\n",
      "4511 ｉｄ ． ｓｅｐｔｅｎｉ − ｈｏｌｄｉｎｇｓ ． ｃｏ ． ｊｐ に アクセス する て いる ます と 表示 する れる\n",
      "4512 販管 の 文字 入力 モード を 変更\n",
      "4513 ＩＤ システム 導入 前 の 事前 設定 ７ ＿ する ぷめ ー り 利用 手順\n",
      "4514 ＩＤ システム 導入 前 の 事前 設定 １ ＿ 事前 設定 ． ｐｄｆ\n",
      "4515 販管 に ログイン が 出来る ない\n",
      "4516 無線 を 使用 する たい\n",
      "4517 Ｗｉｎｄｏｗｓ 販管 を 利用 する たい\n",
      "4518 退職 する れる 方 の Ｇｏｏｇｌｅ ドライブ 上 の データ について\n",
      "4519 Ｗｉｎｄｏｗｓ １０ 用 ＰＣ セッティング 手順\n",
      "4520 Ｇｍａｉｌ の 容量 が いっぱい に なる そう\n",
      "4521 Ｗｉｎｄｏｗｓ １０ 無線 ＬＡＮ を 使用 する たい\n",
      "4522 ＰＣ 壊す た 場合 に どれ くらい の 費用 が 発生 する の か\n",
      "4523 Ｏｆｆｉｃｅ ２０１０ の ライセンス 登録 を 行う たい\n",
      "4524 販管 に ログイン が 出来る ない エラーメッセージ 必要 だ 入力 項目 すべて に 入力 する て くださる\n",
      "4525 Ｗｏｒｄ フリーズ\n",
      "4526 ＰｏｗｅｒＰｏｉｎｔ フリーズ\n",
      "4527 Ｅｘｃｅｌ を 使う て いる て 十 字 キー で セル 移動 できる ない なる た\n",
      "4528 登録 する れる て いる ない はず の ＭＬ から メール が 届く\n",
      "4529 Ｃｈｒｏｍｅ で Ｆｌａｓｈ が 見れる ない\n",
      "4531 パスワード の 変更 を する たい\n",
      "4532 辞書 で 登録 する て いる た 単語 が 消える た\n",
      "4533 ＵＳＢ を 使う たい\n",
      "4534 情 シス が 遠隔 操作 する 場合 の 事前 準備 ７\n",
      "4535 Ｇ メール の 差出人 名 を 変更 する たい\n",
      "4536 送信 メール が 文字 化 けす て しまう\n",
      "4537 パッチ を 適用 する せる た が パッチ レベル が ０ の まま だ ある\n",
      "4538 Ｆｉｒｅｆｏｘ で パスワード が 保存 する れる ない サイボウズベーシック 認証\n",
      "4539 Ｇｍａｉｌ で 別 の アドレス を 使用 する て 送信 する たい ＦＲＯＭ を 変える たい\n",
      "4540 他社 の メンバー と Ｇｏｏｇｌｅ ドキュメント を ファイル を 共有 できる ない\n",
      "4541 携帯 電話 から サイボウズ を 利用 する たい\n",
      "4542 メール が 使える ない\n",
      "4543 キーボード 正しく 入力 できる ない\n",
      "4546 ファイル が 削除 できる ない\n",
      "4547 システム の 復元 を する たい\n",
      "4548 ＩＥ で ランタイムエラー が 起こる\n",
      "4549 サイボウズ スケジュール 表示 の 優先 する 組織 を 変更 する たい\n",
      "4550 ノート ＰＣ の 電源 ランプ が つく ない\n",
      "4551 共有 アカウント の パスワード を 変更 する たい\n",
      "4552 動作 が 遅い\n",
      "4553 ＩＥ 表示 が おかしい\n",
      "4554 Ｇｏｏｇｌｅ ドキュメント の ファイル が なくなる た\n",
      "4555 部署 ＭＬ （ メーリングリスト ） を 確認 する たい\n",
      "4556 ２７ 階 の プリンタ を 利用 する たい クロス ゲート ＤＭ 以外\n",
      "4557 ＤＮＳ を 利用 する たい\n",
      "4558 ＰＣ 入替る する たい\n",
      "4559 Ｇｏｏｇｌｅ 動画 に ファイル を アップ できる ない\n",
      "4560 サイボウズ 内 が 全て 英語 表記 に なる て いる\n",
      "4561 同じ ブラウザ で 違う Ｇｏｏｇｌｅ アカウント を 立つ 上げる たい\n",
      "4562 ドメイン を 取得 する たい\n",
      "4563 共有 へ の アクセス 方法 が 解る ない\n",
      "4564 キーボード 液晶 等 を 破損 する て しまう た\n",
      "4565 データ の 消失 を 防ぐ ため 空白 で は ない セル を ワーク シート の 外 に シフト する こと は できる ます ん という メッセージ が 表示 する れる\n",
      "4566 お とどける 便 の 制限 事項\n",
      "4567 他社 の メンバー と チャット できる ない\n",
      "4568 ＯＳ を 確認 する たい\n",
      "4569 Ｇｏｏｇｌｅ ドキュメント に アップ ロード する た ＥＸＣＥＬ ファイル が 開く ない\n",
      "4570 共有 ファイル サーバ 上 の エクセルファイル を 開く の に 時間 が かかる\n",
      "4571 サイボウズ で 入力 が できる ない ｃｈｒｏｍｅ 使用 の 場合\n",
      "4572 ファイル 移動 時 に 出る 警告 を 非 表示 に する たい\n",
      "4573 Ｗｏｒｄ で 正常 に 保存 が できる ない\n",
      "4574 ひる ら が な カタカナ 入力 しか できる ない 例 Ａ を 押す と チ に なる\n",
      "4575 ネット に 繋がる ない 島 ごと 繋がる ない 場合\n",
      "4576 送信 する た メール が 改行 する れる ない\n",
      "4577 モニタ を 追加 で 使用 する たい\n",
      "4578 Ｅｘｃｅｌ の マクロ が 有効 に なる ない\n",
      "4579 ＧｏｏｇｌｅＡｐｐｓ と Ｇｏｏｇｌｅ アカウント の 競合 解消 手順 （ Ｇｍａｉｌ のみ 削除 ）\n",
      "4580 データ を 持ち運ぶ たい\n",
      "4581 ＰｏｗｅｒＰｏｉｎｔ ２００３ ファイル を 開く 際 破損 する て いる 旨 の 表示 が する れる スライド 内容 が 破壊 する れる\n",
      "4582 Ｇｏｏｇｌｅ ドキュメント に ファイル を アップ できる ない\n",
      "4583 Ｗｉｎｄｏｗｓ ログイン 画面 が 出る ない ノート ＰＣ の 場合\n",
      "4584 サイボウズ に ファイル が アップ ロード できる ない Ｆｉｒｅｆｏｘ Ｃｈｒｏｍｅ 使用 の 場合\n",
      "4585 ｏｆｆｉｃｅ ２００７ で 作成 する た 資料 を ｏｆｆｉｃｅ ２００３ で 見る たい\n",
      "4586 アカウント ロック が かかる て しまう た\n",
      "4587 Ｏｕｔｌｏｏｋ など メーラー で メール を 送受信 する たい\n",
      "4588 する ぷめ ー り に アクセス できる ない\n",
      "4589 メール が 受信 できる ない 送信 者 に エラー が 返る\n",
      "4590 Ｏｆｆｉｃｅ ２００３ から Ｏｆｆｉｃｅ ２００７ に 変更 する たい\n",
      "4591 Ｆｉｒｅｆｏｘ にて ＰＤＦ が 文字 化け する 文字 が 表示 する ない\n",
      "4592 プリンタ を 使用 する たい ＶＳＲ\n",
      "4593 勤怠 システム に アクセス できる ない\n",
      "4594 ネット に 繋がる ない 有線 ＬＡＮ の 場合\n",
      "4595 Ｇｏｏｇｌｅ カレンダー を 使う たい\n",
      "4596 オススメ Ｃｈｒｏｍｅ や Ｆｉｒｅｆｏｘ で 販管 や ＩＥ 依存 の サイト を 閲覧 する 方法\n",
      "4597 する ぷめ ー る の パスワード を 忘れる た\n",
      "4598 ＳＳＬ を 取得 する たい\n",
      "4599 辞書 ツール の 移行 が できる ない\n",
      "4600 サブ ドメイン 設定\n",
      "4601 オススメ Ｅｘｃｅｌ の 自動 保存 設定\n",
      "4602 Ａｄｏｂｅ ソフト を 利用 する たい\n",
      "4603 音 が 出る ない なる た ノート\n",
      "4604 ホームページ を 閲覧 する て いる と 警告 ウィンドウ が 表示 する れる\n",
      "4605 パスワード を 入力 する て も ログイン できる ない\n",
      "4606 エクセル の コピペ が できる ない\n",
      "4607 開く てる ない はず の ファイル が 読み取り 専用 で しか 開ける ない なる\n",
      "4608 ＳＦＴＳ ２ の ログイン パスワード を 忘れる た\n",
      "4609 カード を かざす て ログイン する て も 印刷 できる ない セプテーニ 本社\n",
      "4611 ＩＥ ８ に ダウン グレート する たい\n",
      "4612 Ｗｉｎｄｏｗｓ 販管 の 稟議 書 など に ファイル を 添付 する こと が できる ない\n",
      "4613 モニタ が つく ない なる た\n",
      "4614 販管 から データ を ＤＬ できる ない\n",
      "4615 販管 で 表示 する れる 承認 フロー が 誤る て いる\n",
      "4616 販管 の 実費 報告 時 に エラー が 発生 する 報告 完了 できる ない\n",
      "4617 異動 （ 会社 間 ） 時 に メール データ を 持つ て いく たい\n",
      "4618 ＩＤ システム 利用 の ため の 設定 を 行う ＩＥ ／ Ｃｈｒｏｍｅ\n",
      "4619 販管 にて ユーザー 自身 により ロック する れる エラー で 編集 できる ない\n",
      "4620 削除 する て しまう た ファイル を 復旧 する たい\n",
      "4621 自分 以外 の 人 の パスワード を 知る たい\n",
      "4622 Ｍａｃ 販管 の 稟議 書 など に ファイル を 添付 する こと が できる ない\n",
      "4623 ＰＣ を 追加 で 使用 する たい 共有 ＰＣ が ほしい\n",
      "4624 Ｌｈａｐｌｕｓ ラプラス 右 クリック で 圧縮 解凍 が 出る ない\n",
      "4625 Ｏｆｆｉｃｅ ２０１０ を 使う たい\n",
      "4626 ノート ＰＣ の バッテリ が 長時間 持つ ない\n",
      "4627 ＧｏｏｇｌｅＡｐｐｓ と Ｇｏｏｇｌｅ アカウント の 競合 解消 手順\n",
      "4628 セプテーニ 本社 の プリンタ を 利用 する たい\n",
      "4629 ホールディングス の プリンタ を 利用 する たい\n",
      "7037 ホールディングス プリンタ\n",
      "7040 情 シス の アドレス\n",
      "7042 １ 度 だけ です\n",
      "7044 短期間 に 数 回 起こる て いる ます\n",
      "7056 サイボウズ\n",
      "7064 する ぷめ ー る 外部 ドメイン 追加\n",
      "7065 する ぷめ ー る 外部 アドレス 追加\n",
      "7068 セプメール の 登録\n"
     ]
    }
   ],
   "source": [
    "'''\n",
    "    教師データを表示\n",
    "'''\n",
    "for index, answer_id in enumerate(unique_answer_ids):\n",
    "    print(answer_id, unique_separated_sentences[index])"
   ]
  },
  {
   "cell_type": "markdown",
   "metadata": {
    "deletable": true,
    "editable": true
   },
   "source": [
    "### (2-2) コーパスにタグ付け\n",
    "\n",
    "models.doc2vecの仕様に従います。"
   ]
  },
  {
   "cell_type": "code",
   "execution_count": 8,
   "metadata": {
    "collapsed": false,
    "deletable": true,
    "editable": true,
    "scrolled": false
   },
   "outputs": [],
   "source": [
    "from gensim import models\n",
    "from gensim.models.doc2vec import Doc2Vec\n",
    "from gensim.models.doc2vec import TaggedDocument\n",
    "\n",
    "def doc_to_sentence(sentences, name):\n",
    "    words = sentences.split(' ')\n",
    "    return TaggedDocument(words=words, tags=[name])\n",
    "\n",
    "def corpus_to_sentences(separated_sentences, answer_ids):\n",
    "    for idx, (doc, name) in enumerate(zip(separated_sentences, answer_ids)):\n",
    "        yield doc_to_sentence(doc, name)"
   ]
  },
  {
   "cell_type": "markdown",
   "metadata": {
    "deletable": true,
    "editable": true
   },
   "source": [
    "### (2-3) 学習処理／モデルのシリアライズ"
   ]
  },
  {
   "cell_type": "code",
   "execution_count": 9,
   "metadata": {
    "collapsed": false,
    "deletable": true,
    "editable": true
   },
   "outputs": [
    {
     "data": {
      "text/plain": [
       "173"
      ]
     },
     "execution_count": 9,
     "metadata": {},
     "output_type": "execute_result"
    }
   ],
   "source": [
    "'''\n",
    "    ユニークになったコーパス／ラベルから、\n",
    "    学習セットを生成する\n",
    "    \n",
    "    教師データ件数＝173\n",
    "'''\n",
    "sentences = corpus_to_sentences(unique_separated_sentences, unique_answer_ids)\n",
    "sentence_list = list(sentences)\n",
    "len(sentence_list)"
   ]
  },
  {
   "cell_type": "code",
   "execution_count": 10,
   "metadata": {
    "collapsed": false,
    "deletable": true,
    "editable": true
   },
   "outputs": [],
   "source": [
    "'''\n",
    "    パラメータ変更点：\n",
    "    　学習時にDBOWを使用する\n",
    "    　featureの数をサンプル件数に近い値に設定\n",
    "'''\n",
    "model = Doc2Vec(dm=0, size=200, min_count=1, iter=1000)"
   ]
  },
  {
   "cell_type": "code",
   "execution_count": 11,
   "metadata": {
    "collapsed": true,
    "deletable": true,
    "editable": true
   },
   "outputs": [],
   "source": [
    "'''\n",
    "    ボキャブラリ生成／学習実行\n",
    "    学習モデルは、ファイルに保存しておく\n",
    "'''\n",
    "model.build_vocab(sentence_list)\n",
    "model.train(sentence_list)\n",
    "\n",
    "model_path = 'prototype/better_algorithm/doc2vec.model'\n",
    "model.save(model_path)"
   ]
  },
  {
   "cell_type": "code",
   "execution_count": 12,
   "metadata": {
    "collapsed": false,
    "deletable": true,
    "editable": true
   },
   "outputs": [
    {
     "data": {
      "text/plain": [
       "173"
      ]
     },
     "execution_count": 12,
     "metadata": {},
     "output_type": "execute_result"
    }
   ],
   "source": [
    "'''\n",
    "    モデル内に保持されているベクトルの数を取得\n",
    "    （教師データ数と同じであることを確認）\n",
    "'''\n",
    "len(model.docvecs)"
   ]
  },
  {
   "cell_type": "code",
   "execution_count": 13,
   "metadata": {
    "collapsed": false,
    "deletable": true,
    "editable": true
   },
   "outputs": [
    {
     "data": {
      "text/plain": [
       "<gensim.models.doc2vec.DocvecsArray at 0x1084de940>"
      ]
     },
     "execution_count": 13,
     "metadata": {},
     "output_type": "execute_result"
    }
   ],
   "source": [
    "model.docvecs"
   ]
  },
  {
   "cell_type": "markdown",
   "metadata": {
    "deletable": true,
    "editable": true
   },
   "source": [
    "### (2-4) 予測処理\n",
    "\n",
    "質問文は一部「揺れ」を与えたものとなっております"
   ]
  },
  {
   "cell_type": "code",
   "execution_count": 14,
   "metadata": {
    "collapsed": false,
    "deletable": true,
    "editable": true
   },
   "outputs": [],
   "source": [
    "model_path = 'prototype/better_algorithm/doc2vec.model'\n",
    "\n",
    "def predict(word, model_path):\n",
    "    '''\n",
    "        予測処理にかけるコーパスを生成\n",
    "        （学習セット作成時と同じ関数を使用）\n",
    "    '''\n",
    "    corpus = Nlang_naive.split(word).split()\n",
    "\n",
    "    '''\n",
    "        コーパスからベクトルを生成し、\n",
    "        ロードしたモデルから類似ベクトルを検索\n",
    "    '''\n",
    "    loaded_model = models.Doc2Vec.load(model_path)\n",
    "    inferred_vector = loaded_model.infer_vector(corpus)\n",
    "    ret = loaded_model.docvecs.most_similar([inferred_vector])\n",
    "\n",
    "    return corpus, ret"
   ]
  },
  {
   "cell_type": "code",
   "execution_count": 15,
   "metadata": {
    "collapsed": false,
    "deletable": true,
    "editable": true,
    "scrolled": true
   },
   "outputs": [
    {
     "data": {
      "text/plain": [
       "(['マウス', 'が', '破損'],\n",
       " [(4458, 0.8751524686813354),\n",
       "  (4480, 0.8119498491287231),\n",
       "  (4530, 0.7885047197341919),\n",
       "  (4459, 0.7621862888336182),\n",
       "  (7084, 0.7442445755004883),\n",
       "  (4564, 0.7214786410331726),\n",
       "  (4526, 0.6284592151641846),\n",
       "  (4598, 0.6123510599136353),\n",
       "  (4558, 0.6052687764167786),\n",
       "  (4562, 0.5997931361198425)])"
      ]
     },
     "execution_count": 15,
     "metadata": {},
     "output_type": "execute_result"
    }
   ],
   "source": [
    "'''\n",
    "    マウスが破損（正解＝4458）\n",
    "'''\n",
    "predict('マウスが破損', model_path)"
   ]
  },
  {
   "cell_type": "code",
   "execution_count": 16,
   "metadata": {
    "collapsed": false,
    "deletable": true,
    "editable": true,
    "scrolled": false
   },
   "outputs": [
    {
     "data": {
      "text/plain": [
       "(['無線', 'を', '使用', 'する', 'たい'],\n",
       " [(4516, 0.8372302055358887),\n",
       "  (4521, 0.7616977095603943),\n",
       "  (4429, 0.7409229278564453),\n",
       "  (4577, 0.7279195785522461),\n",
       "  (4447, 0.683928906917572),\n",
       "  (4623, 0.6831488609313965),\n",
       "  (4558, 0.6764004230499268),\n",
       "  (4517, 0.6714218258857727),\n",
       "  (4598, 0.6705586314201355),\n",
       "  (4592, 0.6627346277236938)])"
      ]
     },
     "execution_count": 16,
     "metadata": {},
     "output_type": "execute_result"
    }
   ],
   "source": [
    "'''\n",
    "    無線を使用したい（正解＝4516）\n",
    "'''\n",
    "predict('無線を使用したい', model_path)"
   ]
  },
  {
   "cell_type": "code",
   "execution_count": 17,
   "metadata": {
    "collapsed": false,
    "deletable": true,
    "editable": true,
    "scrolled": true
   },
   "outputs": [
    {
     "data": {
      "text/plain": [
       "(['情報', 'システム', 'の', 'アドレス'],\n",
       " [(7065, 0.7541380524635315),\n",
       "  (7040, 0.7414141893386841),\n",
       "  (4444, 0.7272987365722656),\n",
       "  (4547, 0.7148098349571228),\n",
       "  (4539, 0.7023628950119019),\n",
       "  (7064, 0.6538846492767334),\n",
       "  (4562, 0.6430391073226929),\n",
       "  (4597, 0.6365411281585693),\n",
       "  (4531, 0.629902720451355),\n",
       "  (4598, 0.6289425492286682)])"
      ]
     },
     "execution_count": 17,
     "metadata": {},
     "output_type": "execute_result"
    }
   ],
   "source": [
    "'''\n",
    "    情報システムのアドレス（正解＝7040）\n",
    "'''\n",
    "predict('情報システムのアドレス', model_path)"
   ]
  },
  {
   "cell_type": "code",
   "execution_count": 18,
   "metadata": {
    "collapsed": false,
    "deletable": true,
    "editable": true,
    "scrolled": false
   },
   "outputs": [
    {
     "data": {
      "text/plain": [
       "(['Ｏｆｆｉｃｅ', '２０１０', 'を', '使用', 'する', 'たい', 'の', 'です', 'が'],\n",
       " [(4558, 0.7349570989608765),\n",
       "  (4625, 0.7241668105125427),\n",
       "  (4523, 0.706867516040802),\n",
       "  (4598, 0.6768537759780884),\n",
       "  (4489, 0.6751973628997803),\n",
       "  (4562, 0.667708158493042),\n",
       "  (4590, 0.6624493598937988),\n",
       "  (4533, 0.6622073650360107),\n",
       "  (4531, 0.6591483354568481),\n",
       "  (4602, 0.6417791247367859)])"
      ]
     },
     "execution_count": 18,
     "metadata": {},
     "output_type": "execute_result"
    }
   ],
   "source": [
    "'''\n",
    "    Office2010を使用したいのですが（正解＝4625）\n",
    "'''\n",
    "predict('Office2010を使用したいのですが', model_path)"
   ]
  },
  {
   "cell_type": "code",
   "execution_count": 19,
   "metadata": {
    "collapsed": false,
    "deletable": true,
    "editable": true,
    "scrolled": false
   },
   "outputs": [
    {
     "data": {
      "text/plain": [
       "(['携帯',\n",
       "  'から',\n",
       "  'サイボウズ',\n",
       "  'を',\n",
       "  '使う',\n",
       "  'たい',\n",
       "  'の',\n",
       "  'です',\n",
       "  'が',\n",
       "  'どう',\n",
       "  'する',\n",
       "  'た',\n",
       "  '出来る',\n",
       "  'ます',\n",
       "  'か'],\n",
       " [(7084, 0.6905070543289185),\n",
       "  (4558, 0.6836915016174316),\n",
       "  (4480, 0.6532915234565735),\n",
       "  (4501, 0.6294933557510376),\n",
       "  (4541, 0.6261754035949707),\n",
       "  (4557, 0.6092617511749268),\n",
       "  (4602, 0.5909730792045593),\n",
       "  (4458, 0.5903823375701904),\n",
       "  (4533, 0.5843251943588257),\n",
       "  (7042, 0.5839012265205383)])"
      ]
     },
     "execution_count": 19,
     "metadata": {},
     "output_type": "execute_result"
    }
   ],
   "source": [
    "'''\n",
    "    携帯からサイボウズを使いたいのですが、どうしたら出来ますか？\n",
    "    （正解＝4504だが、学習時の教師データから抜け落ちたもの）\n",
    "'''\n",
    "predict('携帯からサイボウズを使いたいのですが、どうしたら出来ますか？', model_path)"
   ]
  },
  {
   "cell_type": "markdown",
   "metadata": {
    "deletable": true,
    "editable": true
   },
   "source": [
    "## (3) accuracy 測定\n",
    "\n",
    "ここからが本題です"
   ]
  },
  {
   "cell_type": "code",
   "execution_count": 20,
   "metadata": {
    "collapsed": false,
    "deletable": true,
    "editable": true,
    "scrolled": true
   },
   "outputs": [
    {
     "data": {
      "text/plain": [
       "173"
      ]
     },
     "execution_count": 20,
     "metadata": {},
     "output_type": "execute_result"
    }
   ],
   "source": [
    "model_path = 'prototype/better_algorithm/doc2vec.model'\n",
    "\n",
    "len(unique_separated_sentences)"
   ]
  },
  {
   "cell_type": "code",
   "execution_count": 21,
   "metadata": {
    "collapsed": false,
    "deletable": true,
    "editable": true,
    "scrolled": true
   },
   "outputs": [],
   "source": [
    "def predict_similarity(separated_sentence, model_path):\n",
    "    corpus = separated_sentence.split()\n",
    "    loaded_model = models.Doc2Vec.load(model_path)\n",
    "    inferred_vector = loaded_model.infer_vector(corpus)\n",
    "    ret = loaded_model.docvecs.most_similar([inferred_vector])\n",
    "\n",
    "    answer_id, similarity = ret[0]\n",
    "    return corpus, answer_id, similarity"
   ]
  },
  {
   "cell_type": "code",
   "execution_count": 22,
   "metadata": {
    "collapsed": true,
    "deletable": true,
    "editable": true
   },
   "outputs": [],
   "source": [
    "def get_prediction_statistics(separated_sentences, answer_ids, model_path):\n",
    "    '''\n",
    "        学習セットの質問文をそのまま予測処理にかけて、\n",
    "        回答を予測\n",
    "    '''\n",
    "    statistics = []\n",
    "    for i, _ in enumerate(separated_sentences):\n",
    "        sentence = separated_sentences[i]\n",
    "        preferred_answer_id = answer_ids[i]\n",
    "        corpus, answer_id, similarity = predict_similarity(separated_sentences[i], model_path)\n",
    "        corpus_len = len(corpus)\n",
    "        statistics.append((i, corpus_len, preferred_answer_id, answer_id, similarity))\n",
    "\n",
    "    return statistics"
   ]
  },
  {
   "cell_type": "code",
   "execution_count": 23,
   "metadata": {
    "collapsed": false,
    "deletable": true,
    "editable": true
   },
   "outputs": [],
   "source": [
    "prediction_statistics = get_prediction_statistics(unique_separated_sentences, unique_answer_ids, model_path)"
   ]
  },
  {
   "cell_type": "code",
   "execution_count": 24,
   "metadata": {
    "collapsed": false,
    "deletable": true,
    "editable": true
   },
   "outputs": [],
   "source": [
    "ncorrect_by_corpus_len = {}\n",
    "nsample_by_corpus_len = {}\n",
    "\n",
    "ncorrect_by_answer_id = {}\n",
    "nsample_by_answer_id = {}\n",
    "corpus_len_by_answer_id = {}\n",
    "\n",
    "ncorrect = 0\n",
    "nsample = 0\n",
    "\n",
    "'''\n",
    "    予測結果を、質問文の単語数毎／回答ID毎に統計する\n",
    "'''\n",
    "for statistics in prediction_statistics:\n",
    "    i, corpus_len, preferred_answer_id, answer_id, similarity = statistics\n",
    "    \n",
    "    '''\n",
    "        質問文の単語数ごとに統計を取る\n",
    "    '''\n",
    "    if corpus_len not in nsample_by_corpus_len.keys():\n",
    "        ncorrect_by_corpus_len[corpus_len] = 0\n",
    "        nsample_by_corpus_len[corpus_len] = 0\n",
    "    nsample_by_corpus_len[corpus_len] += 1\n",
    "\n",
    "    '''\n",
    "        回答IDごとに統計を取る\n",
    "    '''\n",
    "    if preferred_answer_id not in nsample_by_answer_id.keys():\n",
    "        ncorrect_by_answer_id[preferred_answer_id] = 0\n",
    "        nsample_by_answer_id[preferred_answer_id] = 0\n",
    "        corpus_len_by_answer_id[preferred_answer_id] = 0\n",
    "    nsample_by_answer_id[preferred_answer_id] += 1\n",
    "    corpus_len_by_answer_id[preferred_answer_id] += corpus_len\n",
    "    \n",
    "    '''\n",
    "        正解かどうか検査\n",
    "    '''\n",
    "    nsample += 1\n",
    "    if preferred_answer_id == answer_id:\n",
    "        ncorrect += 1\n",
    "        ncorrect_by_corpus_len[corpus_len] += 1\n",
    "        ncorrect_by_answer_id[preferred_answer_id] += 1"
   ]
  },
  {
   "cell_type": "code",
   "execution_count": 25,
   "metadata": {
    "collapsed": false,
    "deletable": true,
    "editable": true
   },
   "outputs": [],
   "source": [
    "'''\n",
    "    質問文の単語数ごとの統計情報を編集\n",
    "'''\n",
    "info_by_corpus_len = []\n",
    "for k, v in ncorrect_by_corpus_len.items():\n",
    "    info_by_corpus_len.append((\n",
    "        k, \n",
    "        ncorrect_by_corpus_len[k]/nsample_by_corpus_len[k], \n",
    "        ncorrect_by_corpus_len[k], \n",
    "        nsample_by_corpus_len[k]\n",
    "    ))"
   ]
  },
  {
   "cell_type": "code",
   "execution_count": 26,
   "metadata": {
    "collapsed": false,
    "deletable": true,
    "editable": true
   },
   "outputs": [],
   "source": [
    "'''\n",
    "    回答IDごとの統計情報を編集\n",
    "'''\n",
    "info_by_answer_id = []\n",
    "for k, v in ncorrect_by_answer_id.items():\n",
    "    info_by_answer_id.append((\n",
    "        k, \n",
    "        ncorrect_by_answer_id[k]/nsample_by_answer_id[k], \n",
    "        ncorrect_by_answer_id[k], \n",
    "        nsample_by_answer_id[k],\n",
    "        corpus_len_by_answer_id[k]/nsample_by_answer_id[k]\n",
    "    ))"
   ]
  },
  {
   "cell_type": "code",
   "execution_count": 27,
   "metadata": {
    "collapsed": false,
    "deletable": true,
    "editable": true
   },
   "outputs": [
    {
     "name": "stdout",
     "output_type": "stream",
     "text": [
      "accuracy=0.954 (165/173)\n"
     ]
    }
   ],
   "source": [
    "'''\n",
    "    全体の正解率\n",
    "'''\n",
    "print(\"accuracy=%0.3f (%d/%d)\" % (\n",
    "    ncorrect/nsample, ncorrect, nsample))"
   ]
  },
  {
   "cell_type": "code",
   "execution_count": 28,
   "metadata": {
    "collapsed": false,
    "deletable": true,
    "editable": true,
    "scrolled": false
   },
   "outputs": [
    {
     "name": "stdout",
     "output_type": "stream",
     "text": [
      "word_count= 1: accuracy=1.000 (1/1)\n",
      "word_count= 2: accuracy=0.857 (6/7)\n",
      "word_count= 3: accuracy=0.833 (5/6)\n",
      "word_count= 4: accuracy=1.000 (10/10)\n",
      "word_count= 5: accuracy=0.833 (15/18)\n",
      "word_count= 6: accuracy=0.857 (18/21)\n",
      "word_count= 7: accuracy=1.000 (20/20)\n",
      "word_count= 8: accuracy=1.000 (20/20)\n",
      "word_count= 9: accuracy=1.000 (12/12)\n",
      "word_count=10: accuracy=1.000 (7/7)\n",
      "word_count=11: accuracy=1.000 (10/10)\n",
      "word_count=12: accuracy=1.000 (11/11)\n",
      "word_count=13: accuracy=1.000 (11/11)\n",
      "word_count=14: accuracy=1.000 (5/5)\n",
      "word_count=15: accuracy=1.000 (6/6)\n",
      "word_count=16: accuracy=1.000 (2/2)\n",
      "word_count=17: accuracy=1.000 (2/2)\n",
      "word_count=19: accuracy=1.000 (1/1)\n",
      "word_count=20: accuracy=1.000 (1/1)\n",
      "word_count=22: accuracy=1.000 (1/1)\n",
      "word_count=30: accuracy=1.000 (1/1)\n"
     ]
    }
   ],
   "source": [
    "'''\n",
    "    質問文の単語数ごとの正解率をリスト\n",
    "'''\n",
    "for info in info_by_corpus_len:\n",
    "    print(\"word_count=%2d: accuracy=%0.3f (%d/%d)\" % (\n",
    "        info[0], info[1], info[2], info[3]\n",
    "    ))"
   ]
  },
  {
   "cell_type": "code",
   "execution_count": 29,
   "metadata": {
    "collapsed": false,
    "deletable": true,
    "editable": true,
    "scrolled": false
   },
   "outputs": [
    {
     "name": "stdout",
     "output_type": "stream",
     "text": [
      "answer_id=4434: word count= 5\n",
      "answer_id=4437: word count= 5\n",
      "answer_id=4454: word count= 6\n",
      "answer_id=4468: word count= 6\n",
      "answer_id=7037: word count= 2\n",
      "answer_id=4506: word count= 5\n",
      "answer_id=4515: word count= 6\n",
      "answer_id=4600: word count= 3\n"
     ]
    }
   ],
   "source": [
    "'''\n",
    "    正解でなかったラベルの一覧。\n",
    "\n",
    "    参考情報として、回答ラベルがつけられている\n",
    "    質問文の単語数（word count）を表示\n",
    "'''\n",
    "sorted_info_by_answer_id = sorted(info_by_answer_id, key=lambda x:x[1], reverse=False)\n",
    "for info in sorted_info_by_answer_id:\n",
    "    if info[1] > 0:\n",
    "        continue #当たりは表示しない\n",
    "    print(\"answer_id=%4d: word count=%2d\" % (\n",
    "        info[0], info[4]\n",
    "    ))"
   ]
  }
 ],
 "metadata": {
  "kernelspec": {
   "display_name": "Python 3",
   "language": "python",
   "name": "python3"
  },
  "language_info": {
   "codemirror_mode": {
    "name": "ipython",
    "version": 3
   },
   "file_extension": ".py",
   "mimetype": "text/x-python",
   "name": "python",
   "nbconvert_exporter": "python",
   "pygments_lexer": "ipython3",
   "version": "3.5.2"
  }
 },
 "nbformat": 4,
 "nbformat_minor": 2
}
