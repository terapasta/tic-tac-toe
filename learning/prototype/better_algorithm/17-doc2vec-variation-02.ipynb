{
 "cells": [
  {
   "cell_type": "markdown",
   "metadata": {
    "deletable": true,
    "editable": true
   },
   "source": [
    "# Doc2Vecの実行条件調査（part2）\n",
    "\n",
    "- ラベル毎にユニークな教師データを設定（このためテストデータから学習セットの大半が失われます）\n",
    "\n",
    "\n",
    "- 一部品詞は落とす\n",
    "\n",
    "\n",
    "- パラメータを一部変更（DBOWを使用／feature数を調整）\n",
    "\n",
    "\n",
    "accuracyは 0.919 と向上した様子ですが、品詞を落とさないようにしたケースより低下しています。"
   ]
  },
  {
   "cell_type": "markdown",
   "metadata": {
    "deletable": true,
    "editable": true
   },
   "source": [
    "## (1) テストデータ／環境準備"
   ]
  },
  {
   "cell_type": "code",
   "execution_count": 1,
   "metadata": {
    "collapsed": false,
    "deletable": true,
    "editable": true
   },
   "outputs": [],
   "source": [
    "'''\n",
    "    テスト環境を準備するためのモジュールを使用します。\n",
    "'''\n",
    "import sys\n",
    "import os\n",
    "learning_dir = os.path.abspath(\"../../\") #<--- donusagi-bot/learning\n",
    "os.chdir(learning_dir)\n",
    "\n",
    "if learning_dir not in sys.path:\n",
    "    sys.path.append(learning_dir)"
   ]
  },
  {
   "cell_type": "markdown",
   "metadata": {
    "deletable": true,
    "editable": true
   },
   "source": [
    "## (2) Doc2Vecの動作確認"
   ]
  },
  {
   "cell_type": "markdown",
   "metadata": {
    "deletable": true,
    "editable": true
   },
   "source": [
    "### (2-1) コーパス生成\n",
    "\n",
    "コーパス（単語が半角スペースで区切られた文字列）生成時、一部の品詞を落とすようにします。\n",
    "\n",
    "（＝learning.core.nlang.Nlang クラスの仕様に従います）"
   ]
  },
  {
   "cell_type": "code",
   "execution_count": 2,
   "metadata": {
    "collapsed": false,
    "deletable": true,
    "editable": true,
    "scrolled": false
   },
   "outputs": [],
   "source": [
    "import numpy as np\n",
    "\n",
    "from learning.core.learn.learning_parameter import LearningParameter\n",
    "from learning.core.datasource import Datasource\n",
    "\n",
    "_bot_id = 9  # bot_id = 9はセプテーニ\n",
    "attr = {\n",
    "    'include_failed_data': False,\n",
    "    'include_tag_vector': False,\n",
    "    'classify_threshold': 0.5,\n",
    "    'algorithm': LearningParameter.ALGORITHM_LOGISTIC_REGRESSION,\n",
    "    'params_for_algorithm': {'C': 140},\n",
    "    'excluded_labels_for_fitting': None\n",
    "}\n",
    "\n",
    "learning_parameter = LearningParameter(attr)"
   ]
  },
  {
   "cell_type": "code",
   "execution_count": 3,
   "metadata": {
    "collapsed": false,
    "deletable": true,
    "editable": true,
    "scrolled": false
   },
   "outputs": [
    {
     "name": "stderr",
     "output_type": "stream",
     "text": [
      "2017/05/18 PM 12:02:52 ['./fixtures/learning_training_messages/benefitone.csv', './fixtures/learning_training_messages/ptna.csv', './fixtures/learning_training_messages/septeni.csv', './fixtures/learning_training_messages/toyotsu_human.csv']\n",
      "2017/05/18 PM 12:02:52 ['./fixtures/question_answers/toyotsu_human.csv']\n"
     ]
    }
   ],
   "source": [
    "_datasource = Datasource(type='csv')\n",
    "learning_training_messages = _datasource.learning_training_messages(_bot_id)\n",
    "questions = np.array(learning_training_messages['question'])\n",
    "answer_ids = np.array(learning_training_messages['answer_id'])"
   ]
  },
  {
   "cell_type": "code",
   "execution_count": 4,
   "metadata": {
    "collapsed": true,
    "deletable": true,
    "editable": true
   },
   "outputs": [],
   "source": [
    "from learning.core.nlang import Nlang\n",
    "\n",
    "_sentences = np.array(questions)\n",
    "_separated_sentences = Nlang.batch_split(_sentences)"
   ]
  },
  {
   "cell_type": "markdown",
   "metadata": {
    "deletable": true,
    "editable": true
   },
   "source": [
    "#### 試しに、学習セットをラベル毎にユニーク化してみます。"
   ]
  },
  {
   "cell_type": "code",
   "execution_count": 5,
   "metadata": {
    "collapsed": false,
    "deletable": true,
    "editable": true
   },
   "outputs": [],
   "source": [
    "unique_answer_ids = []\n",
    "unique_questions = []\n",
    "unique_separated_sentences = []\n",
    "\n",
    "for index, answer_id in enumerate(answer_ids):\n",
    "    if answer_id not in unique_answer_ids:\n",
    "        '''\n",
    "            データをリストに格納\n",
    "        '''\n",
    "        unique_answer_ids.append(answer_id)\n",
    "        unique_questions.append(questions[index])\n",
    "        unique_separated_sentences.append(_separated_sentences[index])"
   ]
  },
  {
   "cell_type": "code",
   "execution_count": 6,
   "metadata": {
    "collapsed": false,
    "deletable": true,
    "editable": true,
    "scrolled": false
   },
   "outputs": [
    {
     "name": "stdout",
     "output_type": "stream",
     "text": [
      "4420 Ｗｉｎｄｏｗｓ ログイン 出来る ない\n",
      "2761 ブルース クリーン 発生 する 強制 的 シャット ダウン する れる\n",
      "4423 パソコン メモリ 増設 する\n",
      "4425 共有 ＰＣ 設定 する 管理 者 権限 他 ユーザー 付与 する せる\n",
      "4428 データ メディア コピー する\n",
      "4429 Ｍａｃ 使用 する\n",
      "4432 誤る 送信 防止 システム インストール 出来る ない\n",
      "4434 ａｋｉｎｄｏ 接続 できる ない\n",
      "4437 サイボウズ ログイン できる ない\n",
      "4441 販管 （ ＳＡＰ ） パスワード 忘れる\n",
      "4444 拠点 ＩＰ アドレス 知る\n",
      "4445 プリンタードライバ インストール 出来る ない\n",
      "4447 ＰＣ 複数 台 使用 する\n",
      "4450 Ｃ ドライブ 容量 枯渇\n",
      "4454 Ｃ ドライブ 容量 不足\n",
      "4455 複数 メールアドレス アカウント 欲しい\n",
      "4530 マウス 壊れる\n",
      "4458 マウス 破損\n",
      "4459 マウス 交換\n",
      "4610 共有 フォルダ アクセス できる ない\n",
      "4460 共有 フォルダ アクセス\n",
      "4468 リモート ＶＰＮ 接続 出来る ない\n",
      "4472 リモート アクセス 出来る ない\n",
      "4473 ＶＰＮ 接続 出来る ない\n",
      "4474 海外 出張 ＰＣ 持つ\n",
      "4478 ＭＬ 届く ない\n",
      "7084 ＰＣ 破損 する\n",
      "4480 ＰＣ 破損\n",
      "4484 ＰＣ 不具合 起こす\n",
      "4489 Ｏｆｆｉｃｅ ファイル ＰＤＦ 化 する\n",
      "4491 ＩＤ システム 導入 前 事前 設定 ５ ＿ 販管 （ ＳＡＰ ） 利用 手順\n",
      "4492 ＩＤ システム 導入 後 設定 Ｇ メール ログイン 手順 ． ｐｄｆ\n",
      "4500 Ｇｍａｉｌ 手順\n",
      "4493 無線 設定 する （ ａｋｉｎｄｏ ｈｉｎｅｒａｎｋａｉ − ７ ） 繋がる ない\n",
      "4494 ａｋｉｎｄｏ 繋がる ない\n",
      "4495 ｈｉｎｅｒａｎｋａｉ − ７ 繋がる ない\n",
      "4496 サイボウズ パスワード 変更 する 社外 場合\n",
      "4497 サイボウズ パスワード 変更\n",
      "4498 ＳＦＴＳ ２ 使い方 知る\n",
      "4499 ＩＤ システム 導入 前 事前 設定 ６ ＿ ＣＲＭ 利用 手順\n",
      "4501 社外 サイボウズ 利用\n",
      "4502 販管 文字 入力 する 一文字 入力 できる ない\n",
      "4503 販管 ログイン パスワード 忘れる\n",
      "4504 ＫＵＮＡＩ ｆｏｒ ｉＰｈｏｎｅ ＫＵＮＡＩ ｆｏｒ Ａｎｄｒｏｉｄ 設定 方法 知る\n",
      "4505 Ｍａｃ 販管 利用 する\n",
      "4506 サイボウズ アクセス できる ない\n",
      "4507 ＩＤ システム 導入 後 設定 ２ ＿ ＰＷ 変更 ． ｐｄｆ\n",
      "4508 ＩＤ システム 導入 後 設定 ３ ＿ サイボウズ ． ｐｄｆ\n",
      "4509 ＩＤ システム 導入 後 設定 ４ ＿ 勤怠 管理 システム ． ｐｄｆ\n",
      "4510 Ｇ メール アクセス できる ない\n",
      "4511 ｉｄ ． ｓｅｐｔｅｎｉ − ｈｏｌｄｉｎｇｓ ． ｃｏ ． ｊｐ アクセス する 表示 する れる\n",
      "4512 販管 文字 入力 モード 変更\n",
      "4513 ＩＤ システム 導入 前 事前 設定 ７ ＿ する ぷめ ー 利用 手順\n",
      "4514 ＩＤ システム 導入 前 事前 設定 １ ＿ 事前 設定 ． ｐｄｆ\n",
      "4515 販管 ログイン 出来る ない\n",
      "4516 無線 使用 する\n",
      "4517 Ｗｉｎｄｏｗｓ 販管 利用 する\n",
      "4518 退職 する れる Ｇｏｏｇｌｅ ドライブ 上 データ\n",
      "4519 Ｗｉｎｄｏｗｓ １０ 用 ＰＣ セッティング 手順\n",
      "4520 Ｇｍａｉｌ 容量 いっぱい なる そう\n",
      "4521 Ｗｉｎｄｏｗｓ １０ 無線 ＬＡＮ 使用 する\n",
      "4522 ＰＣ 壊す 場合 どれ 費用 発生 する\n",
      "4523 Ｏｆｆｉｃｅ ２０１０ ライセンス 登録 行う\n",
      "4524 販管 ログイン 出来る ない エラーメッセージ 必要 入力 項目 すべて 入力 する\n",
      "4525 Ｗｏｒｄ フリーズ\n",
      "4526 ＰｏｗｅｒＰｏｉｎｔ フリーズ\n",
      "4527 Ｅｘｃｅｌ 使う 十 字 キー セル 移動 できる ない なる\n",
      "4528 登録 する れる ない ＭＬ メール 届く\n",
      "4529 Ｃｈｒｏｍｅ Ｆｌａｓｈ 見れる ない\n",
      "4531 パスワード 変更 する\n",
      "4532 辞書 登録 する 単語 消える\n",
      "4533 ＵＳＢ 使う\n",
      "4534 情 シス 遠隔 操作 する 場合 事前 準備 ７\n",
      "4535 Ｇ メール 差出人 名 変更 する\n",
      "4536 送信 メール 文字 化 けす\n",
      "4537 パッチ 適用 する せる パッチ レベル ０\n",
      "4538 Ｆｉｒｅｆｏｘ パスワード 保存 する れる ない サイボウズベーシック 認証\n",
      "4539 Ｇｍａｉｌ 別 アドレス 使用 する 送信 する ＦＲＯＭ 変える\n",
      "4540 他社 メンバー Ｇｏｏｇｌｅ ドキュメント ファイル 共有 できる ない\n",
      "4541 携帯 電話 サイボウズ 利用 する\n",
      "4542 メール 使える ない\n",
      "4543 キーボード 正しく 入力 できる ない\n",
      "4546 ファイル 削除 できる ない\n",
      "4547 システム 復元 する\n",
      "4548 ＩＥ ランタイムエラー 起こる\n",
      "4549 サイボウズ スケジュール 表示 優先 する 組織 変更 する\n",
      "4550 ノート ＰＣ 電源 ランプ つく ない\n",
      "4551 共有 アカウント パスワード 変更 する\n",
      "4552 動作 遅い\n",
      "4553 ＩＥ 表示 おかしい\n",
      "4554 Ｇｏｏｇｌｅ ドキュメント ファイル なくなる\n",
      "4555 部署 ＭＬ （ メーリングリスト ） 確認 する\n",
      "4556 ２７ 階 プリンタ 利用 する クロス ゲート ＤＭ\n",
      "4557 ＤＮＳ 利用 する\n",
      "4558 ＰＣ 入替る する\n",
      "4559 Ｇｏｏｇｌｅ 動画 ファイル アップ できる ない\n",
      "4560 サイボウズ 内 全て 英語 表記 なる\n",
      "4561 ブラウザ 違う Ｇｏｏｇｌｅ アカウント 立つ\n",
      "4562 ドメイン 取得 する\n",
      "4563 共有 アクセス 方法 解る ない\n",
      "4564 キーボード 液晶 等 破損 する\n",
      "4565 データ 消失 防ぐ 空白 ない セル ワーク シート 外 シフト する できる メッセージ 表示 する れる\n",
      "4566 とどける 便 制限 事項\n",
      "4567 他社 メンバー チャット できる ない\n",
      "4568 ＯＳ 確認 する\n",
      "4569 Ｇｏｏｇｌｅ ドキュメント アップ ロード する ＥＸＣＥＬ ファイル 開く ない\n",
      "4570 共有 ファイル サーバ 上 エクセルファイル 開く 時間 かかる\n",
      "4571 サイボウズ 入力 できる ない ｃｈｒｏｍｅ 使用 場合\n",
      "4572 ファイル 移動 時 出る 警告 表示 する\n",
      "4573 Ｗｏｒｄ 正常 保存 できる ない\n",
      "4574 ひる ら カタカナ 入力 できる ない 例 Ａ 押す チ なる\n",
      "4575 ネット 繋がる ない 島 ごと 繋がる ない 場合\n",
      "4576 送信 する メール 改行 する れる ない\n",
      "4577 モニタ 追加 使用 する\n",
      "4578 Ｅｘｃｅｌ マクロ 有効 なる ない\n",
      "4579 ＧｏｏｇｌｅＡｐｐｓ Ｇｏｏｇｌｅ アカウント 競合 解消 手順 （ Ｇｍａｉｌ 削除 ）\n",
      "4580 データ 持ち運ぶ\n",
      "4581 ＰｏｗｅｒＰｏｉｎｔ ２００３ ファイル 開く 破損 する 旨 表示 する れる スライド 内容 破壊 する れる\n",
      "4582 Ｇｏｏｇｌｅ ドキュメント ファイル アップ できる ない\n",
      "4583 Ｗｉｎｄｏｗｓ ログイン 画面 出る ない ノート ＰＣ 場合\n",
      "4584 サイボウズ ファイル アップ ロード できる ない Ｆｉｒｅｆｏｘ Ｃｈｒｏｍｅ 使用 場合\n",
      "4585 ｏｆｆｉｃｅ ２００７ 作成 する 資料 ｏｆｆｉｃｅ ２００３ 見る\n",
      "4586 アカウント ロック かかる\n",
      "4587 Ｏｕｔｌｏｏｋ メーラー メール 送受信 する\n",
      "4588 する ぷめ ー アクセス できる ない\n",
      "4589 メール 受信 できる ない 送信 者 エラー 返る\n",
      "4590 Ｏｆｆｉｃｅ ２００３ Ｏｆｆｉｃｅ ２００７ 変更 する\n",
      "4591 Ｆｉｒｅｆｏｘ ＰＤＦ 文字 化け する 文字 表示 する ない\n",
      "4592 プリンタ 使用 する ＶＳＲ\n",
      "4593 勤怠 システム アクセス できる ない\n",
      "4594 ネット 繋がる ない 有線 ＬＡＮ 場合\n",
      "4595 Ｇｏｏｇｌｅ カレンダー 使う\n",
      "4596 オススメ Ｃｈｒｏｍｅ Ｆｉｒｅｆｏｘ 販管 ＩＥ 依存 サイト 閲覧 する 方法\n",
      "4597 する ぷめ ー パスワード 忘れる\n",
      "4598 ＳＳＬ 取得 する\n",
      "4599 辞書 ツール 移行 できる ない\n",
      "4600 サブ ドメイン 設定\n",
      "4601 オススメ Ｅｘｃｅｌ 自動 保存 設定\n",
      "4602 Ａｄｏｂｅ ソフト 利用 する\n",
      "4603 音 出る ない なる ノート\n",
      "4604 ホームページ 閲覧 する 警告 ウィンドウ 表示 する れる\n",
      "4605 パスワード 入力 する ログイン できる ない\n",
      "4606 エクセル コピペ できる ない\n",
      "4607 開く ない ファイル 読み取り 専用 開ける ない なる\n",
      "4608 ＳＦＴＳ ２ ログイン パスワード 忘れる\n",
      "4609 カード かざす ログイン する 印刷 できる ない セプテーニ 本社\n",
      "4611 ＩＥ ８ ダウン グレート する\n",
      "4612 Ｗｉｎｄｏｗｓ 販管 稟議 書 ファイル 添付 する できる ない\n",
      "4613 モニタ つく ない なる\n",
      "4614 販管 データ ＤＬ できる ない\n",
      "4615 販管 表示 する れる 承認 フロー 誤る\n",
      "4616 販管 実費 報告 時 エラー 発生 する 報告 完了 できる ない\n",
      "4617 異動 （ 会社 間 ） 時 メール データ 持つ\n",
      "4618 ＩＤ システム 利用 設定 行う ＩＥ ／ Ｃｈｒｏｍｅ\n",
      "4619 販管 ユーザー 自身 ロック する れる エラー 編集 できる ない\n",
      "4620 削除 する ファイル 復旧 する\n",
      "4621 自分 人 パスワード 知る\n",
      "4622 Ｍａｃ 販管 稟議 書 ファイル 添付 する できる ない\n",
      "4623 ＰＣ 追加 使用 する 共有 ＰＣ ほしい\n",
      "4624 Ｌｈａｐｌｕｓ ラプラス 右 クリック 圧縮 解凍 出る ない\n",
      "4625 Ｏｆｆｉｃｅ ２０１０ 使う\n",
      "4626 ノート ＰＣ バッテリ 長時間 持つ ない\n",
      "4627 ＧｏｏｇｌｅＡｐｐｓ Ｇｏｏｇｌｅ アカウント 競合 解消 手順\n",
      "4628 セプテーニ 本社 プリンタ 利用 する\n",
      "4629 ホールディングス プリンタ 利用 する\n",
      "7037 ホールディングス プリンタ\n",
      "7040 情 シス アドレス\n",
      "7042 １ 度\n",
      "7044 短期間 数 回 起こる\n",
      "7056 サイボウズ\n",
      "7064 する ぷめ ー 外部 ドメイン 追加\n",
      "7065 する ぷめ ー 外部 アドレス 追加\n",
      "7068 セプメール 登録\n"
     ]
    }
   ],
   "source": [
    "'''\n",
    "    教師データを表示\n",
    "'''\n",
    "for index, answer_id in enumerate(unique_answer_ids):\n",
    "    print(answer_id, unique_separated_sentences[index])"
   ]
  },
  {
   "cell_type": "markdown",
   "metadata": {
    "deletable": true,
    "editable": true
   },
   "source": [
    "### (2-2) コーパスにタグ付け\n",
    "\n",
    "models.doc2vecの仕様に従います。"
   ]
  },
  {
   "cell_type": "code",
   "execution_count": 7,
   "metadata": {
    "collapsed": false,
    "deletable": true,
    "editable": true,
    "scrolled": false
   },
   "outputs": [],
   "source": [
    "from gensim import models\n",
    "from gensim.models.doc2vec import Doc2Vec\n",
    "from gensim.models.doc2vec import TaggedDocument\n",
    "\n",
    "def doc_to_sentence(sentences, name):\n",
    "    words = sentences.split(' ')\n",
    "    return TaggedDocument(words=words, tags=[name])\n",
    "\n",
    "def corpus_to_sentences(separated_sentences, answer_ids):\n",
    "    for idx, (doc, name) in enumerate(zip(separated_sentences, answer_ids)):\n",
    "        yield doc_to_sentence(doc, name)"
   ]
  },
  {
   "cell_type": "markdown",
   "metadata": {
    "deletable": true,
    "editable": true
   },
   "source": [
    "### (2-3) 学習処理／モデルのシリアライズ"
   ]
  },
  {
   "cell_type": "code",
   "execution_count": 8,
   "metadata": {
    "collapsed": false,
    "deletable": true,
    "editable": true
   },
   "outputs": [
    {
     "data": {
      "text/plain": [
       "173"
      ]
     },
     "execution_count": 8,
     "metadata": {},
     "output_type": "execute_result"
    }
   ],
   "source": [
    "'''\n",
    "    ユニークになったコーパス／ラベルから、\n",
    "    学習セットを生成する\n",
    "    \n",
    "    教師データ件数＝173\n",
    "'''\n",
    "sentences = corpus_to_sentences(unique_separated_sentences, unique_answer_ids)\n",
    "sentence_list = list(sentences)\n",
    "len(sentence_list)"
   ]
  },
  {
   "cell_type": "code",
   "execution_count": 9,
   "metadata": {
    "collapsed": false,
    "deletable": true,
    "editable": true
   },
   "outputs": [],
   "source": [
    "'''\n",
    "    パラメータ変更点：\n",
    "    　学習時にDBOWを使用する\n",
    "    　featureの数をサンプル件数に近い値に設定\n",
    "'''\n",
    "model = Doc2Vec(dm=0, size=200, min_count=1, iter=1000)"
   ]
  },
  {
   "cell_type": "code",
   "execution_count": 10,
   "metadata": {
    "collapsed": true,
    "deletable": true,
    "editable": true
   },
   "outputs": [],
   "source": [
    "'''\n",
    "    ボキャブラリ生成／学習実行\n",
    "    学習モデルは、ファイルに保存しておく\n",
    "'''\n",
    "model.build_vocab(sentence_list)\n",
    "model.train(sentence_list)\n",
    "\n",
    "model_path = 'prototype/better_algorithm/doc2vec.model'\n",
    "model.save(model_path)"
   ]
  },
  {
   "cell_type": "code",
   "execution_count": 11,
   "metadata": {
    "collapsed": false,
    "deletable": true,
    "editable": true
   },
   "outputs": [
    {
     "data": {
      "text/plain": [
       "173"
      ]
     },
     "execution_count": 11,
     "metadata": {},
     "output_type": "execute_result"
    }
   ],
   "source": [
    "'''\n",
    "    モデル内に保持されているベクトルの数を取得\n",
    "    （教師データ数と同じであることを確認）\n",
    "'''\n",
    "len(model.docvecs)"
   ]
  },
  {
   "cell_type": "code",
   "execution_count": 12,
   "metadata": {
    "collapsed": false,
    "deletable": true,
    "editable": true
   },
   "outputs": [
    {
     "data": {
      "text/plain": [
       "<gensim.models.doc2vec.DocvecsArray at 0x108605400>"
      ]
     },
     "execution_count": 12,
     "metadata": {},
     "output_type": "execute_result"
    }
   ],
   "source": [
    "model.docvecs"
   ]
  },
  {
   "cell_type": "markdown",
   "metadata": {
    "deletable": true,
    "editable": true
   },
   "source": [
    "### (2-4) 予測処理\n",
    "\n",
    "質問文は一部「揺れ」を与えたものとなっております"
   ]
  },
  {
   "cell_type": "code",
   "execution_count": 13,
   "metadata": {
    "collapsed": false,
    "deletable": true,
    "editable": true
   },
   "outputs": [],
   "source": [
    "model_path = 'prototype/better_algorithm/doc2vec.model'\n",
    "\n",
    "def predict(word, model_path):\n",
    "    '''\n",
    "        予測処理にかけるコーパスを生成\n",
    "        （学習セット作成時と同じ関数を使用）\n",
    "    '''\n",
    "    corpus = Nlang.split(word).split()\n",
    "\n",
    "    '''\n",
    "        コーパスからベクトルを生成し、\n",
    "        ロードしたモデルから類似ベクトルを検索\n",
    "    '''\n",
    "    loaded_model = models.Doc2Vec.load(model_path)\n",
    "    inferred_vector = loaded_model.infer_vector(corpus)\n",
    "    ret = loaded_model.docvecs.most_similar([inferred_vector])\n",
    "\n",
    "    return corpus, ret"
   ]
  },
  {
   "cell_type": "code",
   "execution_count": 14,
   "metadata": {
    "collapsed": false,
    "deletable": true,
    "editable": true,
    "scrolled": true
   },
   "outputs": [
    {
     "data": {
      "text/plain": [
       "(['マウス', '破損'],\n",
       " [(4458, 0.8315008878707886),\n",
       "  (4480, 0.8142363429069519),\n",
       "  (7084, 0.8142303824424744),\n",
       "  (4530, 0.7549080848693848),\n",
       "  (4459, 0.7379305362701416),\n",
       "  (4558, 0.6827746629714966),\n",
       "  (4564, 0.6692854762077332),\n",
       "  (4474, 0.6053973436355591),\n",
       "  (4598, 0.5804398655891418),\n",
       "  (4562, 0.5746040344238281)])"
      ]
     },
     "execution_count": 14,
     "metadata": {},
     "output_type": "execute_result"
    }
   ],
   "source": [
    "'''\n",
    "    マウスが破損（正解＝4458）\n",
    "'''\n",
    "predict('マウスが破損', model_path)"
   ]
  },
  {
   "cell_type": "code",
   "execution_count": 15,
   "metadata": {
    "collapsed": false,
    "deletable": true,
    "editable": true,
    "scrolled": false
   },
   "outputs": [
    {
     "data": {
      "text/plain": [
       "(['無線', '使用', 'する'],\n",
       " [(4516, 0.8753690719604492),\n",
       "  (4521, 0.8112785816192627),\n",
       "  (4592, 0.7466295957565308),\n",
       "  (4577, 0.733330249786377),\n",
       "  (4429, 0.6924296617507935),\n",
       "  (4447, 0.688360869884491),\n",
       "  (4494, 0.6483550667762756),\n",
       "  (4493, 0.6413534879684448),\n",
       "  (4623, 0.6363179087638855),\n",
       "  (4594, 0.6331053972244263)])"
      ]
     },
     "execution_count": 15,
     "metadata": {},
     "output_type": "execute_result"
    }
   ],
   "source": [
    "'''\n",
    "    無線を使用したい（正解＝4516）\n",
    "'''\n",
    "predict('無線を使用したい', model_path)"
   ]
  },
  {
   "cell_type": "code",
   "execution_count": 16,
   "metadata": {
    "collapsed": false,
    "deletable": true,
    "editable": true,
    "scrolled": true
   },
   "outputs": [
    {
     "data": {
      "text/plain": [
       "(['情報', 'システム', 'アドレス'],\n",
       " [(7065, 0.7657581567764282),\n",
       "  (7040, 0.752773106098175),\n",
       "  (4444, 0.7101176381111145),\n",
       "  (4500, 0.6918478012084961),\n",
       "  (4539, 0.681902289390564),\n",
       "  (7064, 0.6811095476150513),\n",
       "  (4513, 0.628372073173523),\n",
       "  (4558, 0.6119155287742615),\n",
       "  (4562, 0.6076346635818481),\n",
       "  (4577, 0.6010578870773315)])"
      ]
     },
     "execution_count": 16,
     "metadata": {},
     "output_type": "execute_result"
    }
   ],
   "source": [
    "'''\n",
    "    情報システムのアドレス（正解＝7040）\n",
    "'''\n",
    "predict('情報システムのアドレス', model_path)"
   ]
  },
  {
   "cell_type": "code",
   "execution_count": 17,
   "metadata": {
    "collapsed": false,
    "deletable": true,
    "editable": true,
    "scrolled": false
   },
   "outputs": [
    {
     "data": {
      "text/plain": [
       "(['Ｏｆｆｉｃｅ', '２０１０', '使用', 'する'],\n",
       " [(4625, 0.8615430593490601),\n",
       "  (4523, 0.8189694285392761),\n",
       "  (4590, 0.718734622001648),\n",
       "  (7068, 0.7127879858016968),\n",
       "  (4533, 0.708860456943512),\n",
       "  (4489, 0.6973989009857178),\n",
       "  (4595, 0.6361585855484009),\n",
       "  (4598, 0.6288830041885376),\n",
       "  (4536, 0.6134272813796997),\n",
       "  (4562, 0.6077337861061096)])"
      ]
     },
     "execution_count": 17,
     "metadata": {},
     "output_type": "execute_result"
    }
   ],
   "source": [
    "'''\n",
    "    Office2010を使用したいのですが（正解＝4625）\n",
    "'''\n",
    "predict('Office2010を使用したいのですが', model_path)"
   ]
  },
  {
   "cell_type": "code",
   "execution_count": 18,
   "metadata": {
    "collapsed": false,
    "deletable": true,
    "editable": true,
    "scrolled": false
   },
   "outputs": [
    {
     "data": {
      "text/plain": [
       "(['携帯', 'サイボウズ', '使う', 'どう', 'する', '出来る'],\n",
       " [(4533, 0.7207569479942322),\n",
       "  (4420, 0.6997624635696411),\n",
       "  (4515, 0.6950582265853882),\n",
       "  (4437, 0.6950013041496277),\n",
       "  (7056, 0.6923589110374451),\n",
       "  (4473, 0.6753672361373901),\n",
       "  (4468, 0.6658152341842651),\n",
       "  (4501, 0.6581986546516418),\n",
       "  (4445, 0.6449718475341797),\n",
       "  (4625, 0.6444051265716553)])"
      ]
     },
     "execution_count": 18,
     "metadata": {},
     "output_type": "execute_result"
    }
   ],
   "source": [
    "'''\n",
    "    携帯からサイボウズを使いたいのですが、どうしたら出来ますか？\n",
    "    （正解＝4504だが、学習時の教師データから抜け落ちたもの）\n",
    "'''\n",
    "predict('携帯からサイボウズを使いたいのですが、どうしたら出来ますか？', model_path)"
   ]
  },
  {
   "cell_type": "markdown",
   "metadata": {
    "deletable": true,
    "editable": true
   },
   "source": [
    "## (3) accuracy 測定\n",
    "\n",
    "ここからが本題です"
   ]
  },
  {
   "cell_type": "code",
   "execution_count": 19,
   "metadata": {
    "collapsed": false,
    "deletable": true,
    "editable": true,
    "scrolled": true
   },
   "outputs": [
    {
     "data": {
      "text/plain": [
       "173"
      ]
     },
     "execution_count": 19,
     "metadata": {},
     "output_type": "execute_result"
    }
   ],
   "source": [
    "model_path = 'prototype/better_algorithm/doc2vec.model'\n",
    "\n",
    "len(unique_separated_sentences)"
   ]
  },
  {
   "cell_type": "code",
   "execution_count": 20,
   "metadata": {
    "collapsed": false,
    "deletable": true,
    "editable": true,
    "scrolled": true
   },
   "outputs": [],
   "source": [
    "def predict_similarity(separated_sentence, model_path):\n",
    "    corpus = separated_sentence.split()\n",
    "    loaded_model = models.Doc2Vec.load(model_path)\n",
    "    inferred_vector = loaded_model.infer_vector(corpus)\n",
    "    ret = loaded_model.docvecs.most_similar([inferred_vector])\n",
    "\n",
    "    answer_id, similarity = ret[0]\n",
    "    return corpus, answer_id, similarity"
   ]
  },
  {
   "cell_type": "code",
   "execution_count": 21,
   "metadata": {
    "collapsed": true,
    "deletable": true,
    "editable": true
   },
   "outputs": [],
   "source": [
    "def get_prediction_statistics(separated_sentences, answer_ids, model_path):\n",
    "    '''\n",
    "        学習セットの質問文をそのまま予測処理にかけて、\n",
    "        回答を予測\n",
    "    '''\n",
    "    statistics = []\n",
    "    for i, _ in enumerate(separated_sentences):\n",
    "        sentence = separated_sentences[i]\n",
    "        preferred_answer_id = answer_ids[i]\n",
    "        corpus, answer_id, similarity = predict_similarity(separated_sentences[i], model_path)\n",
    "        corpus_len = len(corpus)\n",
    "        statistics.append((i, corpus_len, preferred_answer_id, answer_id, similarity))\n",
    "\n",
    "    return statistics"
   ]
  },
  {
   "cell_type": "code",
   "execution_count": 22,
   "metadata": {
    "collapsed": false,
    "deletable": true,
    "editable": true
   },
   "outputs": [],
   "source": [
    "prediction_statistics = get_prediction_statistics(unique_separated_sentences, unique_answer_ids, model_path)"
   ]
  },
  {
   "cell_type": "code",
   "execution_count": 23,
   "metadata": {
    "collapsed": false,
    "deletable": true,
    "editable": true
   },
   "outputs": [],
   "source": [
    "ncorrect_by_corpus_len = {}\n",
    "nsample_by_corpus_len = {}\n",
    "\n",
    "ncorrect_by_answer_id = {}\n",
    "nsample_by_answer_id = {}\n",
    "corpus_len_by_answer_id = {}\n",
    "\n",
    "ncorrect = 0\n",
    "nsample = 0\n",
    "\n",
    "'''\n",
    "    予測結果を、質問文の単語数毎／回答ID毎に統計する\n",
    "'''\n",
    "for statistics in prediction_statistics:\n",
    "    i, corpus_len, preferred_answer_id, answer_id, similarity = statistics\n",
    "    \n",
    "    '''\n",
    "        質問文の単語数ごとに統計を取る\n",
    "    '''\n",
    "    if corpus_len not in nsample_by_corpus_len.keys():\n",
    "        ncorrect_by_corpus_len[corpus_len] = 0\n",
    "        nsample_by_corpus_len[corpus_len] = 0\n",
    "    nsample_by_corpus_len[corpus_len] += 1\n",
    "\n",
    "    '''\n",
    "        回答IDごとに統計を取る\n",
    "    '''\n",
    "    if preferred_answer_id not in nsample_by_answer_id.keys():\n",
    "        ncorrect_by_answer_id[preferred_answer_id] = 0\n",
    "        nsample_by_answer_id[preferred_answer_id] = 0\n",
    "        corpus_len_by_answer_id[preferred_answer_id] = 0\n",
    "    nsample_by_answer_id[preferred_answer_id] += 1\n",
    "    corpus_len_by_answer_id[preferred_answer_id] += corpus_len\n",
    "    \n",
    "    '''\n",
    "        正解かどうか検査\n",
    "    '''\n",
    "    nsample += 1\n",
    "    if preferred_answer_id == answer_id:\n",
    "        ncorrect += 1\n",
    "        ncorrect_by_corpus_len[corpus_len] += 1\n",
    "        ncorrect_by_answer_id[preferred_answer_id] += 1"
   ]
  },
  {
   "cell_type": "code",
   "execution_count": 24,
   "metadata": {
    "collapsed": false,
    "deletable": true,
    "editable": true
   },
   "outputs": [],
   "source": [
    "'''\n",
    "    質問文の単語数ごとの統計情報を編集\n",
    "'''\n",
    "info_by_corpus_len = []\n",
    "for k, v in ncorrect_by_corpus_len.items():\n",
    "    info_by_corpus_len.append((\n",
    "        k, \n",
    "        ncorrect_by_corpus_len[k]/nsample_by_corpus_len[k], \n",
    "        ncorrect_by_corpus_len[k], \n",
    "        nsample_by_corpus_len[k]\n",
    "    ))"
   ]
  },
  {
   "cell_type": "code",
   "execution_count": 25,
   "metadata": {
    "collapsed": false,
    "deletable": true,
    "editable": true
   },
   "outputs": [],
   "source": [
    "'''\n",
    "    回答IDごとの統計情報を編集\n",
    "'''\n",
    "info_by_answer_id = []\n",
    "for k, v in ncorrect_by_answer_id.items():\n",
    "    info_by_answer_id.append((\n",
    "        k, \n",
    "        ncorrect_by_answer_id[k]/nsample_by_answer_id[k], \n",
    "        ncorrect_by_answer_id[k], \n",
    "        nsample_by_answer_id[k],\n",
    "        corpus_len_by_answer_id[k]/nsample_by_answer_id[k]\n",
    "    ))"
   ]
  },
  {
   "cell_type": "code",
   "execution_count": 26,
   "metadata": {
    "collapsed": false,
    "deletable": true,
    "editable": true
   },
   "outputs": [
    {
     "name": "stdout",
     "output_type": "stream",
     "text": [
      "accuracy=0.919 (159/173)\n"
     ]
    }
   ],
   "source": [
    "'''\n",
    "    全体の正解率\n",
    "'''\n",
    "print(\"accuracy=%0.3f (%d/%d)\" % (\n",
    "    ncorrect/nsample, ncorrect, nsample))"
   ]
  },
  {
   "cell_type": "code",
   "execution_count": 27,
   "metadata": {
    "collapsed": false,
    "deletable": true,
    "editable": true,
    "scrolled": false
   },
   "outputs": [
    {
     "name": "stdout",
     "output_type": "stream",
     "text": [
      "word_count= 1: accuracy=1.000 (1/1)\n",
      "word_count= 2: accuracy=0.846 (11/13)\n",
      "word_count= 3: accuracy=0.917 (22/24)\n",
      "word_count= 4: accuracy=0.871 (27/31)\n",
      "word_count= 5: accuracy=0.935 (29/31)\n",
      "word_count= 6: accuracy=0.941 (16/17)\n",
      "word_count= 7: accuracy=0.909 (10/11)\n",
      "word_count= 8: accuracy=1.000 (14/14)\n",
      "word_count= 9: accuracy=1.000 (9/9)\n",
      "word_count=10: accuracy=1.000 (7/7)\n",
      "word_count=11: accuracy=0.714 (5/7)\n",
      "word_count=12: accuracy=1.000 (3/3)\n",
      "word_count=13: accuracy=1.000 (1/1)\n",
      "word_count=14: accuracy=1.000 (2/2)\n",
      "word_count=15: accuracy=1.000 (1/1)\n",
      "word_count=16: accuracy=1.000 (1/1)\n"
     ]
    }
   ],
   "source": [
    "'''\n",
    "    質問文の単語数ごとの正解率をリスト\n",
    "'''\n",
    "for info in info_by_corpus_len:\n",
    "    print(\"word_count=%2d: accuracy=%0.3f (%d/%d)\" % (\n",
    "        info[0], info[1], info[2], info[3]\n",
    "    ))"
   ]
  },
  {
   "cell_type": "code",
   "execution_count": 28,
   "metadata": {
    "collapsed": false,
    "deletable": true,
    "editable": true,
    "scrolled": false
   },
   "outputs": [
    {
     "name": "stdout",
     "output_type": "stream",
     "text": [
      "answer_id=4629: word count= 4\n",
      "answer_id=4480: word count= 2\n",
      "answer_id=7084: word count= 3\n",
      "answer_id=4454: word count= 4\n",
      "answer_id=4459: word count= 2\n",
      "answer_id=4468: word count= 5\n",
      "answer_id=4492: word count=11\n",
      "answer_id=4493: word count=11\n",
      "answer_id=4501: word count= 3\n",
      "answer_id=4503: word count= 4\n",
      "answer_id=4510: word count= 5\n",
      "answer_id=4518: word count= 7\n",
      "answer_id=4546: word count= 4\n",
      "answer_id=4605: word count= 6\n"
     ]
    }
   ],
   "source": [
    "'''\n",
    "    正解でなかったラベルの一覧。\n",
    "\n",
    "    参考情報として、回答ラベルがつけられている\n",
    "    質問文の単語数（word count）を表示\n",
    "'''\n",
    "sorted_info_by_answer_id = sorted(info_by_answer_id, key=lambda x:x[1], reverse=False)\n",
    "for info in sorted_info_by_answer_id:\n",
    "    if info[1] > 0:\n",
    "        continue #当たりは表示しない\n",
    "    print(\"answer_id=%4d: word count=%2d\" % (\n",
    "        info[0], info[4]\n",
    "    ))"
   ]
  }
 ],
 "metadata": {
  "kernelspec": {
   "display_name": "Python 3",
   "language": "python",
   "name": "python3"
  },
  "language_info": {
   "codemirror_mode": {
    "name": "ipython",
    "version": 3
   },
   "file_extension": ".py",
   "mimetype": "text/x-python",
   "name": "python",
   "nbconvert_exporter": "python",
   "pygments_lexer": "ipython3",
   "version": "3.5.2"
  }
 },
 "nbformat": 4,
 "nbformat_minor": 2
}
