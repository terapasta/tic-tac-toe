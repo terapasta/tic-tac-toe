{
 "cells": [
  {
   "cell_type": "markdown",
   "metadata": {
    "deletable": true,
    "editable": true
   },
   "source": [
    "# Doc2Vecの実行条件調査（part3）\n",
    "\n",
    "- ラベル毎にユニークな教師データを設定（このためテストデータから学習セットの大半が失われます）\n",
    "\n",
    "\n",
    "- 品詞を落とさないようにする\n",
    "\n",
    "\n",
    "- パラメータを一部変更（DBOWを使用／feature数を調整／反復回数を調整）\n",
    "\n",
    "\n",
    "accuracy=0.965 となりました。"
   ]
  },
  {
   "cell_type": "markdown",
   "metadata": {
    "deletable": true,
    "editable": true
   },
   "source": [
    "## (1) テストデータ／環境準備"
   ]
  },
  {
   "cell_type": "code",
   "execution_count": 1,
   "metadata": {
    "collapsed": false,
    "deletable": true,
    "editable": true
   },
   "outputs": [],
   "source": [
    "'''\n",
    "    テスト環境を準備するためのモジュールを使用します。\n",
    "'''\n",
    "import sys\n",
    "import os\n",
    "learning_dir = os.path.abspath(\"../../\") #<--- donusagi-bot/learning\n",
    "os.chdir(learning_dir)\n",
    "\n",
    "if learning_dir not in sys.path:\n",
    "    sys.path.append(learning_dir)"
   ]
  },
  {
   "cell_type": "markdown",
   "metadata": {
    "deletable": true,
    "editable": true
   },
   "source": [
    "## (2) Doc2Vecの動作確認"
   ]
  },
  {
   "cell_type": "markdown",
   "metadata": {
    "deletable": true,
    "editable": true
   },
   "source": [
    "### (2-1) コーパス生成\n",
    "\n",
    "コーパス（単語が半角スペースで区切られた文字列）生成時、一部の品詞を落とすようにします。\n",
    "\n",
    "（＝learning.core.nlang.Nlang クラスの仕様に従います）"
   ]
  },
  {
   "cell_type": "code",
   "execution_count": 2,
   "metadata": {
    "collapsed": false,
    "deletable": true,
    "editable": true,
    "scrolled": false
   },
   "outputs": [],
   "source": [
    "import numpy as np\n",
    "\n",
    "from learning.core.learn.learning_parameter import LearningParameter\n",
    "from learning.core.datasource import Datasource\n",
    "\n",
    "_bot_id = 9  # bot_id = 9はセプテーニ\n",
    "attr = {\n",
    "    'include_failed_data': False,\n",
    "    'include_tag_vector': False,\n",
    "    'classify_threshold': 0.5,\n",
    "    'algorithm': LearningParameter.ALGORITHM_LOGISTIC_REGRESSION,\n",
    "    'params_for_algorithm': {'C': 140},\n",
    "    'excluded_labels_for_fitting': None\n",
    "}\n",
    "\n",
    "learning_parameter = LearningParameter(attr)"
   ]
  },
  {
   "cell_type": "code",
   "execution_count": 3,
   "metadata": {
    "collapsed": false,
    "deletable": true,
    "editable": true,
    "scrolled": false
   },
   "outputs": [
    {
     "name": "stderr",
     "output_type": "stream",
     "text": [
      "2017/05/18 PM 01:46:52 ['./fixtures/learning_training_messages/benefitone.csv', './fixtures/learning_training_messages/ptna.csv', './fixtures/learning_training_messages/septeni.csv', './fixtures/learning_training_messages/toyotsu_human.csv']\n",
      "2017/05/18 PM 01:46:52 ['./fixtures/question_answers/toyotsu_human.csv']\n"
     ]
    }
   ],
   "source": [
    "_datasource = Datasource(type='csv')\n",
    "learning_training_messages = _datasource.learning_training_messages(_bot_id)\n",
    "questions = np.array(learning_training_messages['question'])\n",
    "answer_ids = np.array(learning_training_messages['answer_id'])"
   ]
  },
  {
   "cell_type": "code",
   "execution_count": 4,
   "metadata": {
    "collapsed": true,
    "deletable": true,
    "editable": true
   },
   "outputs": [],
   "source": [
    "import MeCab\n",
    "import mojimoji\n",
    "\n",
    "class Nlang_naive:\n",
    "    @classmethod\n",
    "    def split(self, text):\n",
    "        tagger = MeCab.Tagger(\"-u learning/dict/custom.dic\")\n",
    "        tagger.parse('')  # node.surfaceを取得出来るようにするため、空文字をparseする(Python3のバグの模様)\n",
    "        node = tagger.parseToNode(text)\n",
    "        word_list = []\n",
    "        while node:\n",
    "            features = node.feature.split(\",\")\n",
    "            pos = features[0]\n",
    "            if pos in [\"BOS/EOS\", \"記号\"]:\n",
    "                node = node.next\n",
    "                continue\n",
    "\n",
    "            #print(features)\n",
    "            lemma = node.feature.split(\",\")[6]\n",
    "\n",
    "            if lemma == \"*\":\n",
    "                lemma = node.surface  #.decode(\"utf-8\")\n",
    "                \n",
    "            word_list.append(mojimoji.han_to_zen(lemma))\n",
    "            node = node.next\n",
    "        return \" \".join(word_list)\n",
    "\n",
    "    @classmethod\n",
    "    def batch_split(self, texts):\n",
    "        splited_texts = []\n",
    "        for text in texts:\n",
    "            splited_texts.append(self.split(text))\n",
    "        return splited_texts"
   ]
  },
  {
   "cell_type": "code",
   "execution_count": 5,
   "metadata": {
    "collapsed": true,
    "deletable": true,
    "editable": true
   },
   "outputs": [],
   "source": [
    "from learning.core.nlang import Nlang\n",
    "\n",
    "_sentences = np.array(questions)\n",
    "_separated_sentences = Nlang_naive.batch_split(_sentences)"
   ]
  },
  {
   "cell_type": "markdown",
   "metadata": {
    "deletable": true,
    "editable": true
   },
   "source": [
    "#### ラベル毎の教師データ数を制限します。"
   ]
  },
  {
   "cell_type": "code",
   "execution_count": 6,
   "metadata": {
    "collapsed": false,
    "deletable": true,
    "editable": true
   },
   "outputs": [],
   "source": [
    "answer_id_count = {}\n",
    "\n",
    "selected_answer_ids = []\n",
    "selected_questions = []\n",
    "selected_separated_sentences = []\n",
    "\n",
    "sample_limit_count = 1\n",
    "\n",
    "for index, answer_id in enumerate(answer_ids):\n",
    "    if answer_id not in answer_id_count.keys():\n",
    "        answer_id_count[answer_id] = 0\n",
    "\n",
    "    if answer_id_count[answer_id] < sample_limit_count:\n",
    "        '''\n",
    "            データをリストに格納\n",
    "        '''\n",
    "        selected_answer_ids.append('%04d_%02d' % (answer_id, answer_id_count[answer_id]))\n",
    "        selected_questions.append(questions[index])\n",
    "        selected_separated_sentences.append(_separated_sentences[index])\n",
    "        answer_id_count[answer_id] += 1"
   ]
  },
  {
   "cell_type": "markdown",
   "metadata": {
    "deletable": true,
    "editable": true
   },
   "source": [
    "### (2-2) コーパスにタグ付け\n",
    "\n",
    "models.doc2vecの仕様に従います。"
   ]
  },
  {
   "cell_type": "code",
   "execution_count": 7,
   "metadata": {
    "collapsed": false,
    "deletable": true,
    "editable": true,
    "scrolled": false
   },
   "outputs": [],
   "source": [
    "from gensim import models\n",
    "from gensim.models.doc2vec import Doc2Vec\n",
    "from gensim.models.doc2vec import TaggedDocument\n",
    "\n",
    "def doc_to_sentence(sentences, name):\n",
    "    words = sentences.split(' ')\n",
    "    return TaggedDocument(words=words, tags=[name])\n",
    "\n",
    "def corpus_to_sentences(separated_sentences, answer_ids):\n",
    "    for idx, (doc, name) in enumerate(zip(separated_sentences, answer_ids)):\n",
    "        yield doc_to_sentence(doc, name)"
   ]
  },
  {
   "cell_type": "markdown",
   "metadata": {
    "deletable": true,
    "editable": true
   },
   "source": [
    "### (2-3) 学習処理／モデルのシリアライズ"
   ]
  },
  {
   "cell_type": "code",
   "execution_count": 8,
   "metadata": {
    "collapsed": false,
    "deletable": true,
    "editable": true,
    "scrolled": true
   },
   "outputs": [
    {
     "data": {
      "text/plain": [
       "173"
      ]
     },
     "execution_count": 8,
     "metadata": {},
     "output_type": "execute_result"
    }
   ],
   "source": [
    "'''\n",
    "    ユニークになったコーパス／ラベルから、\n",
    "    学習セットを生成する\n",
    "    \n",
    "    教師データ件数＝173\n",
    "'''\n",
    "sentences = corpus_to_sentences(selected_separated_sentences, selected_answer_ids)\n",
    "sentence_list = list(sentences)\n",
    "len(sentence_list)"
   ]
  },
  {
   "cell_type": "code",
   "execution_count": 9,
   "metadata": {
    "collapsed": false,
    "deletable": true,
    "editable": true
   },
   "outputs": [
    {
     "name": "stdout",
     "output_type": "stream",
     "text": [
      "Doc2Vec: feature(size)=200, iter=2000\n"
     ]
    }
   ],
   "source": [
    "'''\n",
    "    パラメータ変更点：\n",
    "    　学習時にDBOWを使用する\n",
    "    　featureの数をサンプル件数に近い値に設定\n",
    "    　反復回数をfeature数の10倍に設定\n",
    "'''\n",
    "n_feature = round(len(sentence_list) + 49, -2) # 切り上げし、100の倍数に変更\n",
    "n_iter = n_feature * 10\n",
    "print('Doc2Vec: feature(size)=%d, iter=%d' % (n_feature, n_iter))\n",
    "\n",
    "model = Doc2Vec(dm=0, size=n_feature, min_count=1, iter=n_iter)"
   ]
  },
  {
   "cell_type": "code",
   "execution_count": 10,
   "metadata": {
    "collapsed": true,
    "deletable": true,
    "editable": true
   },
   "outputs": [],
   "source": [
    "'''\n",
    "    ボキャブラリ生成／学習実行\n",
    "    学習モデルは、ファイルに保存しておく\n",
    "'''\n",
    "model.build_vocab(sentence_list)\n",
    "model.train(sentence_list)\n",
    "\n",
    "model_path = 'prototype/better_algorithm/doc2vec.model'\n",
    "model.save(model_path)"
   ]
  },
  {
   "cell_type": "code",
   "execution_count": 11,
   "metadata": {
    "collapsed": false,
    "deletable": true,
    "editable": true
   },
   "outputs": [
    {
     "data": {
      "text/plain": [
       "173"
      ]
     },
     "execution_count": 11,
     "metadata": {},
     "output_type": "execute_result"
    }
   ],
   "source": [
    "'''\n",
    "    モデル内に保持されているベクトルの数を取得\n",
    "    （教師データ数と同じであることを確認）\n",
    "'''\n",
    "len(model.docvecs)"
   ]
  },
  {
   "cell_type": "code",
   "execution_count": 12,
   "metadata": {
    "collapsed": false,
    "deletable": true,
    "editable": true
   },
   "outputs": [
    {
     "data": {
      "text/plain": [
       "<gensim.models.doc2vec.DocvecsArray at 0x10b7d65f8>"
      ]
     },
     "execution_count": 12,
     "metadata": {},
     "output_type": "execute_result"
    }
   ],
   "source": [
    "model.docvecs"
   ]
  },
  {
   "cell_type": "markdown",
   "metadata": {
    "deletable": true,
    "editable": true
   },
   "source": [
    "### (2-4) 予測処理\n",
    "\n",
    "質問文は一部「揺れ」を与えたものとなっております"
   ]
  },
  {
   "cell_type": "code",
   "execution_count": 13,
   "metadata": {
    "collapsed": false,
    "deletable": true,
    "editable": true
   },
   "outputs": [],
   "source": [
    "model_path = 'prototype/better_algorithm/doc2vec.model'\n",
    "\n",
    "def predict(word, model_path):\n",
    "    '''\n",
    "        予測処理にかけるコーパスを生成\n",
    "        （学習セット作成時と同じ関数を使用）\n",
    "    '''\n",
    "    corpus = Nlang_naive.split(word).split()\n",
    "\n",
    "    '''\n",
    "        コーパスからベクトルを生成し、\n",
    "        ロードしたモデルから類似ベクトルを検索\n",
    "    '''\n",
    "    loaded_model = models.Doc2Vec.load(model_path)\n",
    "    inferred_vector = loaded_model.infer_vector(corpus)\n",
    "    ret = loaded_model.docvecs.most_similar([inferred_vector])\n",
    "\n",
    "    return corpus, ret"
   ]
  },
  {
   "cell_type": "code",
   "execution_count": 14,
   "metadata": {
    "collapsed": false,
    "deletable": true,
    "editable": true,
    "scrolled": true
   },
   "outputs": [
    {
     "data": {
      "text/plain": [
       "(['マウス', 'が', '破損'],\n",
       " [('4458_00', 0.8074274063110352),\n",
       "  ('4459_00', 0.7710082530975342),\n",
       "  ('4530_00', 0.6882411241531372),\n",
       "  ('4514_00', 0.6427896022796631),\n",
       "  ('4480_00', 0.6369040012359619),\n",
       "  ('4526_00', 0.6365129947662354),\n",
       "  ('4495_00', 0.6246248483657837),\n",
       "  ('4513_00', 0.6231459379196167),\n",
       "  ('4508_00', 0.5898932814598083),\n",
       "  ('4499_00', 0.5892723798751831)])"
      ]
     },
     "execution_count": 14,
     "metadata": {},
     "output_type": "execute_result"
    }
   ],
   "source": [
    "'''\n",
    "    マウスが破損（正解＝4458）\n",
    "'''\n",
    "predict('マウスが破損', model_path)"
   ]
  },
  {
   "cell_type": "code",
   "execution_count": 15,
   "metadata": {
    "collapsed": false,
    "deletable": true,
    "editable": true,
    "scrolled": false
   },
   "outputs": [
    {
     "data": {
      "text/plain": [
       "(['無線', 'を', '使用', 'する', 'たい'],\n",
       " [('4516_00', 0.8555318117141724),\n",
       "  ('4521_00', 0.7502171993255615),\n",
       "  ('4592_00', 0.7111111879348755),\n",
       "  ('4577_00', 0.6952493786811829),\n",
       "  ('4494_00', 0.6854709386825562),\n",
       "  ('4447_00', 0.6571743488311768),\n",
       "  ('4429_00', 0.652779221534729),\n",
       "  ('4595_00', 0.6526064276695251),\n",
       "  ('4493_00', 0.6501202583312988),\n",
       "  ('4562_00', 0.6396880149841309)])"
      ]
     },
     "execution_count": 15,
     "metadata": {},
     "output_type": "execute_result"
    }
   ],
   "source": [
    "'''\n",
    "    無線を使用したい（正解＝4516）\n",
    "'''\n",
    "predict('無線を使用したい', model_path)"
   ]
  },
  {
   "cell_type": "code",
   "execution_count": 16,
   "metadata": {
    "collapsed": false,
    "deletable": true,
    "editable": true,
    "scrolled": false
   },
   "outputs": [
    {
     "data": {
      "text/plain": [
       "(['情報', 'システム', 'の', 'アドレス'],\n",
       " [('7065_00', 0.7692917585372925),\n",
       "  ('7040_00', 0.7492478489875793),\n",
       "  ('4513_00', 0.6830494999885559),\n",
       "  ('7064_00', 0.6686514616012573),\n",
       "  ('4588_00', 0.6423662900924683),\n",
       "  ('4593_00', 0.6389544010162354),\n",
       "  ('4495_00', 0.6163446307182312),\n",
       "  ('4600_00', 0.6045581102371216),\n",
       "  ('4500_00', 0.5898104906082153),\n",
       "  ('4460_00', 0.5889899134635925)])"
      ]
     },
     "execution_count": 16,
     "metadata": {},
     "output_type": "execute_result"
    }
   ],
   "source": [
    "'''\n",
    "    情報システムのアドレス（正解＝7040）\n",
    "'''\n",
    "predict('情報システムのアドレス', model_path)"
   ]
  },
  {
   "cell_type": "code",
   "execution_count": 17,
   "metadata": {
    "collapsed": false,
    "deletable": true,
    "editable": true,
    "scrolled": true
   },
   "outputs": [
    {
     "data": {
      "text/plain": [
       "(['Ｏｆｆｉｃｅ', '２０１０', 'を', '使用', 'する', 'たい', 'の', 'です', 'が'],\n",
       " [('4577_00', 0.7587103843688965),\n",
       "  ('4625_00', 0.718859076499939),\n",
       "  ('4592_00', 0.7107665538787842),\n",
       "  ('4429_00', 0.6994318962097168),\n",
       "  ('4489_00', 0.6975282430648804),\n",
       "  ('4516_00', 0.6899634599685669),\n",
       "  ('4558_00', 0.6529085636138916),\n",
       "  ('4521_00', 0.6428132057189941),\n",
       "  ('4623_00', 0.6356406211853027),\n",
       "  ('7065_00', 0.6308330297470093)])"
      ]
     },
     "execution_count": 17,
     "metadata": {},
     "output_type": "execute_result"
    }
   ],
   "source": [
    "'''\n",
    "    Office2010を使用したいのですが（正解＝4625）\n",
    "'''\n",
    "predict('Office2010を使用したいのですが', model_path)"
   ]
  },
  {
   "cell_type": "code",
   "execution_count": 18,
   "metadata": {
    "collapsed": false,
    "deletable": true,
    "editable": true,
    "scrolled": true
   },
   "outputs": [
    {
     "data": {
      "text/plain": [
       "(['携帯',\n",
       "  'から',\n",
       "  'サイボウズ',\n",
       "  'を',\n",
       "  '使う',\n",
       "  'たい',\n",
       "  'の',\n",
       "  'です',\n",
       "  'が',\n",
       "  'どう',\n",
       "  'する',\n",
       "  'た',\n",
       "  '出来る',\n",
       "  'ます',\n",
       "  'か'],\n",
       " [('4590_00', 0.6622971892356873),\n",
       "  ('4501_00', 0.6620618104934692),\n",
       "  ('4468_00', 0.6150730848312378),\n",
       "  ('7056_00', 0.6082926988601685),\n",
       "  ('4472_00', 0.594771683216095),\n",
       "  ('4541_00', 0.5945086479187012),\n",
       "  ('4473_00', 0.5840214490890503),\n",
       "  ('4560_00', 0.5561652183532715),\n",
       "  ('4497_00', 0.5530551671981812),\n",
       "  ('4478_00', 0.5397164821624756)])"
      ]
     },
     "execution_count": 18,
     "metadata": {},
     "output_type": "execute_result"
    }
   ],
   "source": [
    "'''\n",
    "    携帯からサイボウズを使いたいのですが、どうしたら出来ますか？\n",
    "    （正解＝4504だが、学習時の教師データから抜け落ちたもの）\n",
    "'''\n",
    "predict('携帯からサイボウズを使いたいのですが、どうしたら出来ますか？', model_path)"
   ]
  },
  {
   "cell_type": "markdown",
   "metadata": {
    "deletable": true,
    "editable": true
   },
   "source": [
    "## (3) accuracy 測定\n",
    "\n",
    "ここからが本題です"
   ]
  },
  {
   "cell_type": "code",
   "execution_count": 19,
   "metadata": {
    "collapsed": false,
    "deletable": true,
    "editable": true,
    "scrolled": true
   },
   "outputs": [
    {
     "data": {
      "text/plain": [
       "173"
      ]
     },
     "execution_count": 19,
     "metadata": {},
     "output_type": "execute_result"
    }
   ],
   "source": [
    "model_path = 'prototype/better_algorithm/doc2vec.model'\n",
    "\n",
    "len(selected_separated_sentences)"
   ]
  },
  {
   "cell_type": "code",
   "execution_count": 20,
   "metadata": {
    "collapsed": false,
    "deletable": true,
    "editable": true,
    "scrolled": true
   },
   "outputs": [],
   "source": [
    "def predict_similarity(separated_sentence, model_path):\n",
    "    corpus = separated_sentence.split()\n",
    "    loaded_model = models.Doc2Vec.load(model_path)\n",
    "    inferred_vector = loaded_model.infer_vector(corpus)\n",
    "    ret = loaded_model.docvecs.most_similar([inferred_vector])\n",
    "\n",
    "    answer_id, similarity = ret[0]\n",
    "    return corpus, answer_id, similarity"
   ]
  },
  {
   "cell_type": "code",
   "execution_count": 21,
   "metadata": {
    "collapsed": true,
    "deletable": true,
    "editable": true
   },
   "outputs": [],
   "source": [
    "def get_prediction_statistics(separated_sentences, answer_ids, model_path):\n",
    "    '''\n",
    "        学習セットの質問文をそのまま予測処理にかけて、\n",
    "        回答を予測\n",
    "    '''\n",
    "    statistics = []\n",
    "    for i, _ in enumerate(separated_sentences):\n",
    "        sentence = separated_sentences[i]\n",
    "        preferred_answer_id = answer_ids[i]\n",
    "        corpus, answer_id, similarity = predict_similarity(separated_sentences[i], model_path)\n",
    "        corpus_len = len(corpus)\n",
    "        statistics.append((i, corpus_len, preferred_answer_id, answer_id, similarity))\n",
    "\n",
    "    return statistics"
   ]
  },
  {
   "cell_type": "code",
   "execution_count": 22,
   "metadata": {
    "collapsed": false,
    "deletable": true,
    "editable": true
   },
   "outputs": [],
   "source": [
    "prediction_statistics = get_prediction_statistics(selected_separated_sentences, selected_answer_ids, model_path)"
   ]
  },
  {
   "cell_type": "code",
   "execution_count": 23,
   "metadata": {
    "collapsed": false,
    "deletable": true,
    "editable": true
   },
   "outputs": [],
   "source": [
    "ncorrect_by_corpus_len = {}\n",
    "nsample_by_corpus_len = {}\n",
    "\n",
    "ncorrect = 0\n",
    "nsample = 0\n",
    "\n",
    "'''\n",
    "    予測結果を、質問文の単語数毎／回答ID毎に統計する\n",
    "'''\n",
    "for statistics in prediction_statistics:\n",
    "    i, corpus_len, preferred_answer_id, answer_id, similarity = statistics\n",
    "    \n",
    "    '''\n",
    "        質問文の単語数ごとに統計を取る\n",
    "    '''\n",
    "    if corpus_len not in nsample_by_corpus_len.keys():\n",
    "        ncorrect_by_corpus_len[corpus_len] = 0\n",
    "        nsample_by_corpus_len[corpus_len] = 0\n",
    "    nsample_by_corpus_len[corpus_len] += 1\n",
    "    \n",
    "    '''\n",
    "        正解かどうか検査\n",
    "        （NNNN_nn 形式ラベルの上４桁が一致していれば正解とします）\n",
    "    '''\n",
    "    nsample += 1\n",
    "    if preferred_answer_id[0:4] == answer_id[0:4]:\n",
    "        ncorrect += 1\n",
    "        ncorrect_by_corpus_len[corpus_len] += 1"
   ]
  },
  {
   "cell_type": "code",
   "execution_count": 24,
   "metadata": {
    "collapsed": false,
    "deletable": true,
    "editable": true
   },
   "outputs": [],
   "source": [
    "'''\n",
    "    質問文の単語数ごとの統計情報を編集\n",
    "'''\n",
    "info_by_corpus_len = []\n",
    "for k, v in ncorrect_by_corpus_len.items():\n",
    "    info_by_corpus_len.append((\n",
    "        k, \n",
    "        ncorrect_by_corpus_len[k]/nsample_by_corpus_len[k], \n",
    "        ncorrect_by_corpus_len[k], \n",
    "        nsample_by_corpus_len[k]\n",
    "    ))"
   ]
  },
  {
   "cell_type": "code",
   "execution_count": 25,
   "metadata": {
    "collapsed": false,
    "deletable": true,
    "editable": true
   },
   "outputs": [
    {
     "name": "stdout",
     "output_type": "stream",
     "text": [
      "accuracy=0.965 (167/173)\n"
     ]
    }
   ],
   "source": [
    "'''\n",
    "    全体の正解率\n",
    "'''\n",
    "print(\"accuracy=%0.3f (%d/%d)\" % (\n",
    "    ncorrect/nsample, ncorrect, nsample))"
   ]
  },
  {
   "cell_type": "code",
   "execution_count": 26,
   "metadata": {
    "collapsed": false,
    "deletable": true,
    "editable": true,
    "scrolled": false
   },
   "outputs": [
    {
     "name": "stdout",
     "output_type": "stream",
     "text": [
      "word_count= 1: accuracy=0.000 (0/1)\n",
      "word_count= 2: accuracy=1.000 (7/7)\n",
      "word_count= 3: accuracy=1.000 (6/6)\n",
      "word_count= 4: accuracy=1.000 (10/10)\n",
      "word_count= 5: accuracy=0.889 (16/18)\n",
      "word_count= 6: accuracy=0.905 (19/21)\n",
      "word_count= 7: accuracy=0.950 (19/20)\n",
      "word_count= 8: accuracy=1.000 (20/20)\n",
      "word_count= 9: accuracy=1.000 (12/12)\n",
      "word_count=10: accuracy=1.000 (7/7)\n",
      "word_count=11: accuracy=1.000 (10/10)\n",
      "word_count=12: accuracy=1.000 (11/11)\n",
      "word_count=13: accuracy=1.000 (11/11)\n",
      "word_count=14: accuracy=1.000 (5/5)\n",
      "word_count=15: accuracy=1.000 (6/6)\n",
      "word_count=16: accuracy=1.000 (2/2)\n",
      "word_count=17: accuracy=1.000 (2/2)\n",
      "word_count=19: accuracy=1.000 (1/1)\n",
      "word_count=20: accuracy=1.000 (1/1)\n",
      "word_count=22: accuracy=1.000 (1/1)\n",
      "word_count=30: accuracy=1.000 (1/1)\n"
     ]
    }
   ],
   "source": [
    "'''\n",
    "    質問文の単語数ごとの正解率をリスト\n",
    "'''\n",
    "for info in info_by_corpus_len:\n",
    "    print(\"word_count=%2d: accuracy=%0.3f (%d/%d)\" % (\n",
    "        info[0], info[1], info[2], info[3]\n",
    "    ))"
   ]
  }
 ],
 "metadata": {
  "kernelspec": {
   "display_name": "Python 3",
   "language": "python",
   "name": "python3"
  },
  "language_info": {
   "codemirror_mode": {
    "name": "ipython",
    "version": 3
   },
   "file_extension": ".py",
   "mimetype": "text/x-python",
   "name": "python",
   "nbconvert_exporter": "python",
   "pygments_lexer": "ipython3",
   "version": "3.5.2"
  }
 },
 "nbformat": 4,
 "nbformat_minor": 2
}
