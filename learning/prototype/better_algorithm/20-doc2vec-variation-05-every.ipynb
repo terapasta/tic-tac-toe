{
 "cells": [
  {
   "cell_type": "markdown",
   "metadata": {
    "deletable": true,
    "editable": true
   },
   "source": [
    "# Doc2Vecの動作確認（bot_id=11）\n",
    "\n",
    "\n",
    "実行条件は下記の通りとします。\n",
    "\n",
    "- すべての教師データのタグをユニークにするため、[ラベル]\\_[連番] 形式のタグを付与\n",
    "\n",
    "\n",
    "- 品詞を落とさないようにする\n",
    "\n",
    "\n",
    "- DBOWを使用\n",
    "\n",
    "\n",
    "- feature数は、実質的な教師データのパターン数と整合させる（ユーザーさんによっては、回答ラベル数が必ずしも回答パターン数と合致しないため、ラベル数の２倍程度の値を設定するのを目安とします）\n",
    "\n",
    "\n",
    "- 学習時の反復回数を [feature数 * 10] に設定\n",
    "\n",
    "\n",
    "現在テストデータとして用意されているBot（ID=11：benefitone.csv）で動作確認を行います。"
   ]
  },
  {
   "cell_type": "markdown",
   "metadata": {
    "deletable": true,
    "editable": true
   },
   "source": [
    "## (1) テストデータ／環境準備"
   ]
  },
  {
   "cell_type": "code",
   "execution_count": 1,
   "metadata": {
    "collapsed": false,
    "deletable": true,
    "editable": true
   },
   "outputs": [],
   "source": [
    "'''\n",
    "    テスト環境を準備するためのモジュールを使用します。\n",
    "'''\n",
    "import sys\n",
    "import os\n",
    "learning_dir = os.path.abspath(\"../../\") #<--- donusagi-bot/learning\n",
    "os.chdir(learning_dir)\n",
    "\n",
    "if learning_dir not in sys.path:\n",
    "    sys.path.append(learning_dir)"
   ]
  },
  {
   "cell_type": "markdown",
   "metadata": {
    "deletable": true,
    "editable": true
   },
   "source": [
    "## (2) 学習／予測処理"
   ]
  },
  {
   "cell_type": "markdown",
   "metadata": {
    "deletable": true,
    "editable": true
   },
   "source": [
    "### (2-1) コーパス生成\n",
    "\n",
    "コーパス（単語が半角スペースで区切られた文字列）生成時、一部の品詞を落とすようにします。\n",
    "\n",
    "（＝learning.core.nlang.Nlang クラスの仕様に従います）"
   ]
  },
  {
   "cell_type": "code",
   "execution_count": 2,
   "metadata": {
    "collapsed": false,
    "deletable": true,
    "editable": true,
    "scrolled": false
   },
   "outputs": [],
   "source": [
    "import numpy as np\n",
    "\n",
    "from learning.core.learn.learning_parameter import LearningParameter\n",
    "from learning.core.datasource import Datasource\n",
    "\n",
    "_bot_id = 11\n",
    "attr = {\n",
    "    'include_failed_data': False,\n",
    "    'include_tag_vector': False,\n",
    "    'classify_threshold': 0.5,\n",
    "    'algorithm': LearningParameter.ALGORITHM_LOGISTIC_REGRESSION,\n",
    "    'params_for_algorithm': {'C': 140},\n",
    "    'excluded_labels_for_fitting': None\n",
    "}\n",
    "\n",
    "learning_parameter = LearningParameter(attr)"
   ]
  },
  {
   "cell_type": "code",
   "execution_count": 3,
   "metadata": {
    "collapsed": false,
    "deletable": true,
    "editable": true,
    "scrolled": false
   },
   "outputs": [
    {
     "name": "stderr",
     "output_type": "stream",
     "text": [
      "2017/05/21 PM 11:23:50 ['./fixtures/learning_training_messages/benefitone.csv', './fixtures/learning_training_messages/ptna.csv', './fixtures/learning_training_messages/septeni.csv', './fixtures/learning_training_messages/toyotsu_human.csv']\n",
      "2017/05/21 PM 11:23:50 ['./fixtures/question_answers/toyotsu_human.csv']\n"
     ]
    }
   ],
   "source": [
    "_datasource = Datasource(type='csv')\n",
    "learning_training_messages = _datasource.learning_training_messages(_bot_id)\n",
    "questions = np.array(learning_training_messages['question'])\n",
    "answer_ids = np.array(learning_training_messages['answer_id'])"
   ]
  },
  {
   "cell_type": "code",
   "execution_count": 4,
   "metadata": {
    "collapsed": true,
    "deletable": true,
    "editable": true
   },
   "outputs": [],
   "source": [
    "import MeCab\n",
    "import mojimoji\n",
    "\n",
    "class Nlang_naive:\n",
    "    @classmethod\n",
    "    def split(self, text):\n",
    "        tagger = MeCab.Tagger(\"-u learning/dict/custom.dic\")\n",
    "        tagger.parse('')  # node.surfaceを取得出来るようにするため、空文字をparseする(Python3のバグの模様)\n",
    "        node = tagger.parseToNode(text)\n",
    "        word_list = []\n",
    "        while node:\n",
    "            features = node.feature.split(\",\")\n",
    "            pos = features[0]\n",
    "            if pos in [\"BOS/EOS\", \"記号\"]:\n",
    "                node = node.next\n",
    "                continue\n",
    "\n",
    "            #print(features)\n",
    "            lemma = node.feature.split(\",\")[6]\n",
    "\n",
    "            if lemma == \"*\":\n",
    "                lemma = node.surface  #.decode(\"utf-8\")\n",
    "                \n",
    "            word_list.append(mojimoji.han_to_zen(lemma))\n",
    "            node = node.next\n",
    "        return \" \".join(word_list)\n",
    "\n",
    "    @classmethod\n",
    "    def batch_split(self, texts):\n",
    "        splited_texts = []\n",
    "        for text in texts:\n",
    "            splited_texts.append(self.split(text))\n",
    "        return splited_texts"
   ]
  },
  {
   "cell_type": "code",
   "execution_count": 5,
   "metadata": {
    "collapsed": true,
    "deletable": true,
    "editable": true
   },
   "outputs": [],
   "source": [
    "from learning.core.nlang import Nlang\n",
    "\n",
    "_sentences = np.array(questions)\n",
    "_separated_sentences = Nlang_naive.batch_split(_sentences)"
   ]
  },
  {
   "cell_type": "markdown",
   "metadata": {
    "deletable": true,
    "editable": true
   },
   "source": [
    "### (2-2) タグ付け\n",
    "\n",
    "ラベル毎の教師データ数を制限した学習セットを構築します。"
   ]
  },
  {
   "cell_type": "code",
   "execution_count": 6,
   "metadata": {
    "collapsed": false,
    "deletable": true,
    "editable": true
   },
   "outputs": [],
   "source": [
    "from gensim import models\n",
    "from gensim.models.doc2vec import Doc2Vec\n",
    "from gensim.models.doc2vec import TaggedDocument\n",
    "\n",
    "class Doc2VecTrainingSet:\n",
    "    def __init__(self):\n",
    "        self.answer_id_count = {}\n",
    "        self.selected_answer_ids = []\n",
    "        self.selected_questions = []\n",
    "        self.selected_separated_sentences = []\n",
    "\n",
    "    def build(self, questions, answer_ids, separated_sentences):\n",
    "        for index, answer_id in enumerate(answer_ids):\n",
    "            if answer_id not in self.answer_id_count.keys():\n",
    "                self.answer_id_count[answer_id] = 0\n",
    "\n",
    "            '''\n",
    "                データをリストに格納\n",
    "                ラベルはユニークにする必要があるので、\n",
    "                [answer_id]_[連番] の形式で編集\n",
    "            '''\n",
    "            self.selected_answer_ids.append('%04d_%02d' % (\n",
    "                answer_id,\n",
    "                self.answer_id_count[answer_id]\n",
    "            ))\n",
    "            self.selected_questions.append(questions[index])\n",
    "            self.selected_separated_sentences.append(separated_sentences[index])\n",
    "            self.answer_id_count[answer_id] += 1\n",
    "        \n",
    "        return self\n",
    "    \n",
    "    def get_tagged_document_list(self):\n",
    "        '''\n",
    "            ユニークになったコーパス／ラベルから、\n",
    "            学習セットを生成する\n",
    "        '''\n",
    "        tagged_document_list = self.__corpus_to_sentences(\n",
    "            self.selected_separated_sentences, \n",
    "            self.selected_answer_ids\n",
    "        )\n",
    "\n",
    "        return tagged_document_list\n",
    "\n",
    "    def __get_tagged_document(self, sentences, name):\n",
    "        '''\n",
    "            models.doc2vecの仕様に従い\n",
    "            コーパスにタグ付け\n",
    "        '''\n",
    "        words = sentences.split(' ')\n",
    "        return TaggedDocument(words=words, tags=[name])\n",
    "\n",
    "    def __corpus_to_sentences(self, separated_sentences, answer_ids):\n",
    "        '''\n",
    "            TaggedDocumentを生成し、リストに格納\n",
    "        '''\n",
    "        tagged_document_list = []\n",
    "        for idx, (doc, name) in enumerate(zip(separated_sentences, answer_ids)):\n",
    "            tagged_document = self.__get_tagged_document(doc, name)\n",
    "            tagged_document_list.append(tagged_document)\n",
    "            \n",
    "        return tagged_document_list"
   ]
  },
  {
   "cell_type": "code",
   "execution_count": 7,
   "metadata": {
    "collapsed": false,
    "deletable": true,
    "editable": true
   },
   "outputs": [
    {
     "data": {
      "text/plain": [
       "<__main__.Doc2VecTrainingSet at 0x109bf95c0>"
      ]
     },
     "execution_count": 7,
     "metadata": {},
     "output_type": "execute_result"
    }
   ],
   "source": [
    "'''\n",
    "    ユニークになったコーパス／ラベルから、\n",
    "    学習セットを生成する\n",
    "    \n",
    "    ラベル数＝88、サンプル数＝7,083\n",
    "'''\n",
    "d2v_training_set = Doc2VecTrainingSet()\n",
    "d2v_training_set.build(questions, answer_ids, _separated_sentences)"
   ]
  },
  {
   "cell_type": "markdown",
   "metadata": {
    "deletable": true,
    "editable": true
   },
   "source": [
    "### (2-3) 学習処理／モデルのシリアライズ"
   ]
  },
  {
   "cell_type": "code",
   "execution_count": 8,
   "metadata": {
    "collapsed": true,
    "deletable": true,
    "editable": true
   },
   "outputs": [],
   "source": [
    "def doc2vec_model_path(bot_id):\n",
    "    model_path = 'prototype/better_algorithm/doc2vec.bot%02d.model' % bot_id\n",
    "\n",
    "    return model_path\n",
    "\n",
    "def train_by_doc2vec(bot_id, doc2vec_training_set):\n",
    "    '''\n",
    "        パラメータ：\n",
    "         学習時にDBOWを使用する\n",
    "         featureの数を回答パターン数の２倍（仮決め）に設定\n",
    "         反復回数をfeature数の10倍に設定\n",
    "    '''\n",
    "    sentence_list = doc2vec_training_set.get_tagged_document_list()\n",
    "    n_pattern = len(doc2vec_training_set.answer_id_count)\n",
    "    print('train_by_doc2vec: Train data sample=%d, Train data pattern=%d' % (len(sentence_list), n_pattern))\n",
    "\n",
    "    n_feature = n_pattern * 2\n",
    "    n_iter = n_feature * 10\n",
    "    print('train_by_doc2vec: Feature size=%d, Max iteration count=%d' % (n_feature, n_iter))\n",
    "\n",
    "    # ボキャブラリ生成／学習実行\n",
    "    model = Doc2Vec(dm=0, size=n_feature, min_count=1, iter=n_iter)\n",
    "    model.build_vocab(sentence_list)\n",
    "    ret = model.train(sentence_list)\n",
    "\n",
    "    '''\n",
    "        モデル内に保持されているベクトルの数を取得\n",
    "        （featureの数 [回答パターン数の２倍] と同じであることを確認）\n",
    "    '''\n",
    "    if len(model.docvecs) != len(sentence_list):\n",
    "        raise Exception('train_by_doc2vec: Failed to create document vector')\n",
    "\n",
    "    # 学習モデルは、ファイルに保存しておく\n",
    "    model.save(doc2vec_model_path(bot_id))\n",
    "    print('train_by_doc2vec: document vector size=%d, return=%d' % (len(model.docvecs), ret))\n",
    "\n",
    "    return ret"
   ]
  },
  {
   "cell_type": "code",
   "execution_count": 9,
   "metadata": {
    "collapsed": false,
    "deletable": true,
    "editable": true,
    "scrolled": true
   },
   "outputs": [
    {
     "name": "stdout",
     "output_type": "stream",
     "text": [
      "train_by_doc2vec: Train data sample=7083, Train data pattern=88\n",
      "train_by_doc2vec: Feature size=176, Max iteration count=1760\n",
      "train_by_doc2vec: document vector size=7083, return=60768125\n"
     ]
    },
    {
     "data": {
      "text/plain": [
       "60768125"
      ]
     },
     "execution_count": 9,
     "metadata": {},
     "output_type": "execute_result"
    }
   ],
   "source": [
    "'''\n",
    "    生成された学習セット（タグ付きドキュメント）を\n",
    "    使用し、学習実行\n",
    "'''\n",
    "train_by_doc2vec(_bot_id, d2v_training_set)"
   ]
  },
  {
   "cell_type": "markdown",
   "metadata": {
    "deletable": true,
    "editable": true
   },
   "source": [
    "## (3) accuracy 測定"
   ]
  },
  {
   "cell_type": "code",
   "execution_count": 10,
   "metadata": {
    "collapsed": true,
    "deletable": true,
    "editable": true
   },
   "outputs": [],
   "source": [
    "def predict_similarity(separated_sentence):\n",
    "    corpus = separated_sentence.split()\n",
    "    inferred_vector = loaded_model.infer_vector(corpus)\n",
    "    ret = loaded_model.docvecs.most_similar([inferred_vector])\n",
    "\n",
    "    answer_id, similarity = ret[0]\n",
    "    return corpus, answer_id, similarity\n",
    "\n",
    "def get_prediction_statistics(separated_sentences, answer_ids):\n",
    "    '''\n",
    "        学習セットの質問文をそのまま予測処理にかけて、\n",
    "        回答を予測\n",
    "    '''\n",
    "    statistics = []\n",
    "    for i, _ in enumerate(separated_sentences):\n",
    "        sentence = separated_sentences[i]\n",
    "        preferred_answer_id = answer_ids[i]\n",
    "        corpus, answer_id, similarity = predict_similarity(separated_sentences[i])\n",
    "        corpus_len = len(corpus)\n",
    "        statistics.append((i, corpus_len, preferred_answer_id, answer_id, similarity))\n",
    "\n",
    "    return statistics"
   ]
  },
  {
   "cell_type": "code",
   "execution_count": 11,
   "metadata": {
    "collapsed": false,
    "deletable": true,
    "editable": true
   },
   "outputs": [],
   "source": [
    "def calculate_accuracy(prediction_statistics):\n",
    "    '''\n",
    "        予測結果を、質問文の単語数毎／回答ID毎に統計する\n",
    "    '''\n",
    "    ncorrect_by_corpus_len = {}\n",
    "    nsample_by_corpus_len = {}\n",
    "\n",
    "    ncorrect = 0\n",
    "    nsample = 0\n",
    "\n",
    "    for statistics in prediction_statistics:\n",
    "        i, corpus_len, preferred_answer_id, answer_id, similarity = statistics\n",
    "\n",
    "        '''\n",
    "            質問文の単語数ごとに統計を取る\n",
    "        '''\n",
    "        if corpus_len not in nsample_by_corpus_len.keys():\n",
    "            ncorrect_by_corpus_len[corpus_len] = 0\n",
    "            nsample_by_corpus_len[corpus_len] = 0\n",
    "        nsample_by_corpus_len[corpus_len] += 1\n",
    "\n",
    "        '''\n",
    "            正解かどうか検査\n",
    "            （NNNN_nn 形式ラベルの上４桁が一致していれば正解とします）\n",
    "        '''\n",
    "        nsample += 1\n",
    "        if preferred_answer_id[0:4] == answer_id[0:4]:\n",
    "            ncorrect += 1\n",
    "            ncorrect_by_corpus_len[corpus_len] += 1\n",
    "    \n",
    "    '''\n",
    "        全体の正解率\n",
    "    '''\n",
    "    accuracy = ncorrect / nsample\n",
    "    print(\"accuracy=%0.3f (%d/%d)\" % (accuracy, ncorrect, nsample))\n",
    "\n",
    "    '''\n",
    "        質問文の単語数ごとの統計情報を編集\n",
    "    '''\n",
    "    info_by_corpus_len = []\n",
    "    for k, v in ncorrect_by_corpus_len.items():\n",
    "        info_by_corpus_len.append((\n",
    "            k, \n",
    "            ncorrect_by_corpus_len[k]/nsample_by_corpus_len[k], \n",
    "            ncorrect_by_corpus_len[k], \n",
    "            nsample_by_corpus_len[k]\n",
    "        ))\n",
    "\n",
    "    '''\n",
    "        質問文の単語数ごとの正解率をリスト\n",
    "    '''\n",
    "    print(\"Accuracy info by word count...\")\n",
    "    for info in info_by_corpus_len:\n",
    "        print(\"word_count=%2d: accuracy=%0.3f (%d/%d)\" % (\n",
    "            info[0], info[1], info[2], info[3]\n",
    "        ))\n",
    "\n",
    "    return accuracy"
   ]
  },
  {
   "cell_type": "code",
   "execution_count": 12,
   "metadata": {
    "collapsed": false,
    "deletable": true,
    "editable": true,
    "scrolled": true
   },
   "outputs": [],
   "source": [
    "loaded_model = models.Doc2Vec.load(doc2vec_model_path(_bot_id))\n",
    "\n",
    "selected_separated_sentences = d2v_training_set.selected_separated_sentences\n",
    "selected_answer_ids = d2v_training_set.selected_answer_ids"
   ]
  },
  {
   "cell_type": "code",
   "execution_count": 13,
   "metadata": {
    "collapsed": false,
    "deletable": true,
    "editable": true,
    "scrolled": false
   },
   "outputs": [
    {
     "name": "stdout",
     "output_type": "stream",
     "text": [
      "accuracy=0.968 (6854/7083)\n",
      "Accuracy info by word count...\n",
      "word_count= 1: accuracy=0.125 (1/8)\n",
      "word_count= 2: accuracy=1.000 (40/40)\n",
      "word_count= 3: accuracy=0.990 (301/304)\n",
      "word_count= 4: accuracy=0.944 (739/783)\n",
      "word_count= 5: accuracy=0.971 (1355/1396)\n",
      "word_count= 6: accuracy=0.964 (1174/1218)\n",
      "word_count= 7: accuracy=0.969 (1122/1158)\n",
      "word_count= 8: accuracy=0.962 (802/834)\n",
      "word_count= 9: accuracy=0.992 (510/514)\n",
      "word_count=10: accuracy=0.981 (257/262)\n",
      "word_count=11: accuracy=0.981 (204/208)\n",
      "word_count=12: accuracy=0.978 (135/138)\n",
      "word_count=13: accuracy=0.979 (92/94)\n",
      "word_count=14: accuracy=0.952 (59/62)\n",
      "word_count=15: accuracy=1.000 (28/28)\n",
      "word_count=16: accuracy=1.000 (14/14)\n",
      "word_count=17: accuracy=1.000 (12/12)\n",
      "word_count=18: accuracy=1.000 (6/6)\n",
      "word_count=19: accuracy=1.000 (2/2)\n",
      "word_count=23: accuracy=0.500 (1/2)\n"
     ]
    },
    {
     "data": {
      "text/plain": [
       "0.9676690667796132"
      ]
     },
     "execution_count": 13,
     "metadata": {},
     "output_type": "execute_result"
    }
   ],
   "source": [
    "prediction_statistics = get_prediction_statistics(selected_separated_sentences, selected_answer_ids)\n",
    "calculate_accuracy(prediction_statistics)"
   ]
  },
  {
   "cell_type": "markdown",
   "metadata": {
    "deletable": true,
    "editable": true
   },
   "source": [
    "## (4) 予測処理"
   ]
  },
  {
   "cell_type": "code",
   "execution_count": 14,
   "metadata": {
    "collapsed": false,
    "deletable": true,
    "editable": true
   },
   "outputs": [],
   "source": [
    "def predict(word, bot_id):\n",
    "    '''\n",
    "        予測処理にかけるコーパスを生成\n",
    "        （学習セット作成時と同じ関数を使用）\n",
    "    '''\n",
    "    corpus = Nlang_naive.split(word).split()\n",
    "\n",
    "    '''\n",
    "        コーパスからベクトルを生成し、\n",
    "        ロードしたモデルから類似ベクトルを検索\n",
    "    '''\n",
    "    loaded_model = models.Doc2Vec.load(doc2vec_model_path(bot_id))\n",
    "    inferred_vector = loaded_model.infer_vector(corpus)\n",
    "    ret = loaded_model.docvecs.most_similar([inferred_vector])\n",
    "\n",
    "    return corpus, ret"
   ]
  },
  {
   "cell_type": "markdown",
   "metadata": {
    "deletable": true,
    "editable": true
   },
   "source": [
    "### (4-1) nosetestsにあった質問文\n",
    "\n",
    "正しく回答することができているようです。"
   ]
  },
  {
   "cell_type": "code",
   "execution_count": 15,
   "metadata": {
    "collapsed": false,
    "deletable": true,
    "editable": true,
    "scrolled": true
   },
   "outputs": [
    {
     "data": {
      "text/plain": [
       "(['契約', '書', 'を', '見る', 'たい', 'の', 'です', 'が'],\n",
       " [('4683_25', 0.8374380469322205),\n",
       "  ('4683_12', 0.8345401287078857),\n",
       "  ('4683_00', 0.8338999152183533),\n",
       "  ('4683_24', 0.8318637609481812),\n",
       "  ('4683_15', 0.7280780076980591),\n",
       "  ('4683_03', 0.7241529226303101),\n",
       "  ('4683_11', 0.6865381002426147),\n",
       "  ('4683_23', 0.6797800064086914),\n",
       "  ('4683_16', 0.6764998435974121),\n",
       "  ('4683_08', 0.6756047010421753)])"
      ]
     },
     "execution_count": 15,
     "metadata": {},
     "output_type": "execute_result"
    }
   ],
   "source": [
    "'''\n",
    "    契約書を見たいのですが（正解＝4683）\n",
    "'''\n",
    "predict('契約書を見たいのですが', _bot_id)"
   ]
  },
  {
   "cell_type": "code",
   "execution_count": 16,
   "metadata": {
    "collapsed": false,
    "deletable": true,
    "editable": true,
    "scrolled": true
   },
   "outputs": [
    {
     "data": {
      "text/plain": [
       "(['ＥＸ', 'カード', 'を', '貸す', 'て', 'くださる'],\n",
       " [('4678_692', 0.8838238716125488),\n",
       "  ('4678_2700', 0.8837131261825562),\n",
       "  ('4678_686', 0.7681745886802673),\n",
       "  ('4741_16', 0.765505313873291),\n",
       "  ('4678_2416', 0.7654439210891724),\n",
       "  ('4741_07', 0.7652233839035034),\n",
       "  ('4678_2694', 0.763477087020874),\n",
       "  ('4740_12', 0.7615160346031189),\n",
       "  ('4678_408', 0.7611214518547058),\n",
       "  ('4740_24', 0.7568632364273071)])"
      ]
     },
     "execution_count": 16,
     "metadata": {},
     "output_type": "execute_result"
    }
   ],
   "source": [
    "'''\n",
    "    EXカードを貸してください（正解＝4678）\n",
    "'''\n",
    "predict('EXカードを貸してください', _bot_id)"
   ]
  },
  {
   "cell_type": "markdown",
   "metadata": {
    "deletable": true,
    "editable": true
   },
   "source": [
    "### (4-2) 教師データに存在する、単語１語だけの質問文\n",
    "\n",
    "三脚が含まれる質問文が候補としてリストされます。類似度が0.5を上回る結果となります。\n",
    "\n",
    "（ちなみに確認したところ、4740と4741は同じ「三脚を借りたいのですね。総務部に・・・」という回答文でした）"
   ]
  },
  {
   "cell_type": "code",
   "execution_count": 17,
   "metadata": {
    "collapsed": false,
    "deletable": true,
    "editable": true,
    "scrolled": true
   },
   "outputs": [
    {
     "data": {
      "text/plain": [
       "(['三脚'],\n",
       " [('4740_25', 0.7282403707504272),\n",
       "  ('4740_00', 0.725811243057251),\n",
       "  ('4741_19', 0.7173864841461182),\n",
       "  ('4741_00', 0.7127325534820557),\n",
       "  ('4740_23', 0.7092810869216919),\n",
       "  ('4741_07', 0.7047088146209717),\n",
       "  ('4741_16', 0.7031413316726685),\n",
       "  ('4740_11', 0.7005681991577148),\n",
       "  ('4740_24', 0.6974652409553528),\n",
       "  ('4740_12', 0.6924776434898376)])"
      ]
     },
     "execution_count": 17,
     "metadata": {},
     "output_type": "execute_result"
    }
   ],
   "source": [
    "'''\n",
    "    三脚（正解＝4740）\n",
    "'''\n",
    "predict('三脚', _bot_id)"
   ]
  },
  {
   "cell_type": "markdown",
   "metadata": {
    "deletable": true,
    "editable": true
   },
   "source": [
    "### (4-3) 教師データに存在しない、単語１語だけの質問文\n",
    "\n",
    "類似度が0.5を下回る結果となります。"
   ]
  },
  {
   "cell_type": "code",
   "execution_count": 18,
   "metadata": {
    "collapsed": false,
    "deletable": true,
    "editable": true,
    "scrolled": true
   },
   "outputs": [
    {
     "data": {
      "text/plain": [
       "(['こんにちは'],\n",
       " [('4678_777', 0.23522378504276276),\n",
       "  ('4678_2785', 0.23461759090423584),\n",
       "  ('4678_3808', 0.2279362976551056),\n",
       "  ('4678_1800', 0.21939142048358917),\n",
       "  ('4776_01', 0.21780624985694885),\n",
       "  ('4678_3191', 0.2155098021030426),\n",
       "  ('4776_10', 0.21515773236751556),\n",
       "  ('4678_1183', 0.21403685212135315),\n",
       "  ('4782_01', 0.21228154003620148),\n",
       "  ('4678_2967', 0.21169403195381165)])"
      ]
     },
     "execution_count": 18,
     "metadata": {},
     "output_type": "execute_result"
    }
   ],
   "source": [
    "'''\n",
    "    こんにちは（正解＝なし）\n",
    "'''\n",
    "predict('こんにちは', _bot_id)"
   ]
  },
  {
   "cell_type": "markdown",
   "metadata": {
    "deletable": true,
    "editable": true
   },
   "source": [
    "### (4-4) 正解は教師データにないが、一部品詞が合致している質問文\n",
    "\n",
    "4837、4683、4678、4713といったところが候補となり、類似度が0.5を上回る結果となります。"
   ]
  },
  {
   "cell_type": "code",
   "execution_count": 19,
   "metadata": {
    "collapsed": false,
    "deletable": true,
    "editable": true,
    "scrolled": false
   },
   "outputs": [
    {
     "data": {
      "text/plain": [
       "(['おいしい', 'ラーメン', 'が', '食べる', 'たい', 'です'],\n",
       " [('4837_19', 0.7025206685066223),\n",
       "  ('4837_00', 0.7010031342506409),\n",
       "  ('4683_00', 0.6923429369926453),\n",
       "  ('4683_25', 0.6840815544128418),\n",
       "  ('4678_3850', 0.6818233728408813),\n",
       "  ('4713_15', 0.6809757947921753),\n",
       "  ('4713_06', 0.6804230809211731),\n",
       "  ('4678_194', 0.6702786087989807),\n",
       "  ('4678_4423', 0.6693686246871948),\n",
       "  ('4678_3181', 0.6687726974487305)])"
      ]
     },
     "execution_count": 19,
     "metadata": {},
     "output_type": "execute_result"
    }
   ],
   "source": [
    "'''\n",
    "    おいしいラーメンが食べたいです（正解＝なし）\n",
    "'''\n",
    "predict('おいしいラーメンが食べたいです', _bot_id)"
   ]
  },
  {
   "cell_type": "markdown",
   "metadata": {
    "deletable": true,
    "editable": true
   },
   "source": [
    "#### ご参考：教師データと一部品詞が合致する例\n",
    "\n",
    "- '使いたいソフトがある'（正解＝4837）['使う', 'たい', 'ソフト', 'が', 'ある']\n",
    "\n",
    "- '契約書が見たい'（正解＝4683）['契約', '書', 'が', '見る', 'たい']\n",
    "\n",
    "- '製本テープが使いたい'（正解＝4678）['製本', 'テープ', 'が', '使う', 'たい']\n",
    "\n",
    "- 'イントラが見たい'（正解＝4713）['イントラ', 'が', '見る', 'たい']"
   ]
  },
  {
   "cell_type": "markdown",
   "metadata": {
    "deletable": true,
    "editable": true
   },
   "source": [
    "### (4-5) 正解が教師データに存在せず、合致する品詞も無い質問文\n",
    "\n",
    "類似度は、0.5を大幅に下回る結果となります。"
   ]
  },
  {
   "cell_type": "code",
   "execution_count": 20,
   "metadata": {
    "collapsed": false,
    "deletable": true,
    "editable": true,
    "scrolled": true
   },
   "outputs": [
    {
     "data": {
      "text/plain": [
       "(['正解', '無し', '質問', '探索'],\n",
       " [('4678_1276', 0.26643067598342896),\n",
       "  ('4678_3284', 0.2660854756832123),\n",
       "  ('4687_03', 0.22695830464363098),\n",
       "  ('4687_12', 0.22388872504234314),\n",
       "  ('4678_915', 0.2128073275089264),\n",
       "  ('4680_17', 0.2060241997241974),\n",
       "  ('4686_21', 0.20368823409080505),\n",
       "  ('4686_09', 0.20230400562286377),\n",
       "  ('4678_2885', 0.2001335769891739),\n",
       "  ('4678_2923', 0.1999267339706421)])"
      ]
     },
     "execution_count": 20,
     "metadata": {},
     "output_type": "execute_result"
    }
   ],
   "source": [
    "'''\n",
    "    正解無し質問探索（正解＝なし）\n",
    "'''\n",
    "predict('正解無し質問探索', _bot_id)"
   ]
  },
  {
   "cell_type": "markdown",
   "metadata": {
    "deletable": true,
    "editable": true
   },
   "source": [
    "#### ご参考：１語でも合致する品詞が含まれた場合の類似度\n",
    "\n",
    "「の」という品詞を含めただけで、類似度が0.5以上に跳ね上がる結果となってしまいます。"
   ]
  },
  {
   "cell_type": "code",
   "execution_count": 21,
   "metadata": {
    "collapsed": false,
    "deletable": true,
    "editable": true,
    "scrolled": false
   },
   "outputs": [
    {
     "data": {
      "text/plain": [
       "(['正解', '無し', '質問', 'の', '探索'],\n",
       " [('4678_05', 0.6415265202522278),\n",
       "  ('4733_19', 0.6386672258377075),\n",
       "  ('4733_00', 0.6373109817504883),\n",
       "  ('4678_4234', 0.6355193853378296),\n",
       "  ('4678_4261', 0.6328074336051941),\n",
       "  ('4678_3223', 0.6318308115005493),\n",
       "  ('4678_4239', 0.6301361322402954),\n",
       "  ('4678_174', 0.6300672292709351),\n",
       "  ('4678_267', 0.629685640335083),\n",
       "  ('4678_4403', 0.626211941242218)])"
      ]
     },
     "execution_count": 21,
     "metadata": {},
     "output_type": "execute_result"
    }
   ],
   "source": [
    "'''\n",
    "    正解無し質問の探索（正解＝なし）\n",
    "'''\n",
    "predict('正解無し質問の探索', _bot_id)"
   ]
  }
 ],
 "metadata": {
  "kernelspec": {
   "display_name": "Python 3",
   "language": "python",
   "name": "python3"
  },
  "language_info": {
   "codemirror_mode": {
    "name": "ipython",
    "version": 3
   },
   "file_extension": ".py",
   "mimetype": "text/x-python",
   "name": "python",
   "nbconvert_exporter": "python",
   "pygments_lexer": "ipython3",
   "version": "3.5.2"
  }
 },
 "nbformat": 4,
 "nbformat_minor": 2
}
