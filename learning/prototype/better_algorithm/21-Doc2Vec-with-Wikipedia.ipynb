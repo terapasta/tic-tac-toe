{
 "cells": [
  {
   "cell_type": "markdown",
   "metadata": {
    "deletable": true,
    "editable": true
   },
   "source": [
    "# Doc2VecでWikipedia全文を使用\n",
    "\n",
    "Wiki全文（か、もしくは一部）をDoc2Vecのインプットに指定して動作確認します。\n",
    "\n",
    "今回は２つの手法を比較しました。\n",
    "\n",
    "- PV-DBOW：書きかけエントリーが大量に混在していたため、あまり良好な動きではありませんでした。（書きかけエントリーを除外して学習させれば、それなりの性能が上がるのかもしれません）\n",
    "\n",
    "\n",
    "- PV-DM：全般的にNG"
   ]
  },
  {
   "cell_type": "markdown",
   "metadata": {
    "deletable": true,
    "editable": true
   },
   "source": [
    "## (1) Wikipediaコンテンツファイルから本文を抽出"
   ]
  },
  {
   "cell_type": "markdown",
   "metadata": {
    "deletable": true,
    "editable": true
   },
   "source": [
    "### (1-1) Wikipediaコンテンツ取得\n",
    "\n",
    "Wikipedia コンテンツの一覧を、以下のURLで参照します。\n",
    "\n",
    "https://dumps.wikimedia.org/jawiki/latest/\n",
    "\n",
    "このページのリストから、以下のファイルのリンクをクリックしてダウンロードします。\n",
    "\n",
    "2.4GBほどになります。\n",
    "\n",
    "```\n",
    "jawiki-latest-pages-articles.xml.bz2    21-May-2017 01:07    2492605537\n",
    "```"
   ]
  },
  {
   "cell_type": "markdown",
   "metadata": {
    "deletable": true,
    "editable": true
   },
   "source": [
    "### (1-2) Wikipedia Extractor（本文抽出ツール）の取得\n",
    "\n",
    "下記サイト内のDownloadsからWikipedia ExtractorのPythonスクリプトを直接ダウンロードします。\n",
    "\n",
    "http://medialab.di.unipi.it/wiki/Wikipedia_Extractor"
   ]
  },
  {
   "cell_type": "markdown",
   "metadata": {
    "deletable": true,
    "editable": true
   },
   "source": [
    "### (1-3) Wikipediaコンテンツファイルから本文を抽出\n",
    "\n",
    "下記コマンドで抽出を実行します。\n",
    "\n",
    "python3 WikiExtractor.py -b 10M -o extracted jawiki-latest-pages-articles.xml.bz2\n",
    "\n",
    "これで、extractedディレクトリ下に、10MB毎に区切られた抽出後ファイルが生成されていきます。\n",
    "\n",
    "extractedディレクトリ配下には、AA、AB、AC・・・といったサブディレクトリが生成されます。\n",
    "\n",
    "サブディレクトリごとに、１００本のファイルが生成されます。\n",
    "\n",
    "（すなわちサブディレクトリごとに1GBまで）\n",
    "\n",
    "実行には４０分ほどかかるとのことでしたが、実績としては、5/22 13:51開始〜14:26終了、なので３５分ほどで完了しています。"
   ]
  },
  {
   "cell_type": "markdown",
   "metadata": {
    "deletable": true,
    "editable": true
   },
   "source": [
    "実行例：\n",
    "```\n",
    "MacBookPro-makmorit-jp:Wikipedia makmorit$ pwd\n",
    "/Users/makmorit/Documents/Development/Wikipedia\n",
    "MacBookPro-makmorit-jp:Wikipedia makmorit$ ls -al\n",
    "total 4868576\n",
    "drwxr-xr-x   4 makmorit  staff         136 May 22 13:44 .\n",
    "drwxr-xr-x  10 makmorit  staff         340 May 22 13:43 ..\n",
    "-rw-r--r--@  1 makmorit  staff       98379 Mar 23  2016 WikiExtractor.py\n",
    "-rw-r--r--@  1 makmorit  staff  2492605537 May 22 13:27 jawiki-latest-pages-articles.xml.bz2\n",
    "MacBookPro-makmorit-jp:Wikipedia makmorit$ python WikiExtractor.py -b 10M -o extracted jawiki-latest-pages-articles.xml.bz2\n",
    "INFO: Loaded 0 templates in 0.0s\n",
    "INFO: Starting page extraction from jawiki-latest-pages-articles.xml.bz2.\n",
    "INFO: Using 7 extract processes.\n",
    "WARNING: Template errors in article '自然数' (4671): title(9) recursion(0, 0, 0)\n",
    "WARNING: Template errors in article '階乗' (12763): title(1) recursion(0, 0, 0)\n",
    "INFO: Extracted 10000 articles (225.3 art/s)\n",
    "INFO: Extracted 20000 articles (263.3 art/s)\n",
    "（中略）\n",
    "WARNING: Template errors in article 'プロ経営者' (3516673): title(2) recursion(0, 0, 0)\n",
    "INFO: Extracted 1410000 articles (990.3 art/s)\n",
    "WARNING: Template errors in article '2017年のWTAツアー' (3535919): title(2) recursion(0, 0, 0)\n",
    "INFO: Extracted 1420000 articles (995.9 art/s)\n",
    "INFO: Extracted 1430000 articles (910.8 art/s)\n",
    "WARNING: Template errors in article 'Wikipedia:削除依頼/性液' (3583405): title(1) recursion(0, 0, 0)\n",
    "INFO: Extracted 1440000 articles (986.9 art/s)\n",
    "INFO: Finished 7-process extraction of 1446777 articles in 2059.6s (702.5 art/s)\n",
    "MacBookPro-makmorit-jp:Wikipedia makmorit$ date\n",
    "Mon May 22 14:25:52 JST 2017\n",
    "MacBookPro-makmorit-jp:Wikipedia makmorit$ \n",
    "```"
   ]
  },
  {
   "cell_type": "markdown",
   "metadata": {
    "deletable": true,
    "editable": true
   },
   "source": [
    "## (2) 抽出コンテンツからTaggedDocumentを生成"
   ]
  },
  {
   "cell_type": "markdown",
   "metadata": {
    "deletable": true,
    "editable": true
   },
   "source": [
    "### (2-1) 抽出コンテンツの内容についての注意\n",
    "\n",
    "下記のように、タイトルに : 文字が含まれている場合は有効な記事でないようです。\n",
    "\n",
    "```\n",
    "<doc id=\"1\" url=\"https://ja.wikipedia.org/wiki?curid=1\" title=\"Wikipedia:アップロードログ 2004年4月\">\n",
    "Wikipedia:アップロードログ 2004年4月\n",
    "<ul>\n",
    "</doc>\n",
    "```\n",
    "\n",
    "したがってTaggedDocumentへの変換時は、これらのエントリーは除外する必要があります。"
   ]
  },
  {
   "cell_type": "markdown",
   "metadata": {
    "deletable": true,
    "editable": true
   },
   "source": [
    "### (2-2) 抽出コンテンツをTaggedDocumentへ変換\n"
   ]
  },
  {
   "cell_type": "markdown",
   "metadata": {
    "deletable": true,
    "editable": true
   },
   "source": [
    "有効なドキュメントは下記のようになっています。\n",
    "\n",
    "```\n",
    "<doc id=\"2466881\" url=\"https://ja.wikipedia.org/wiki?curid=2466881\" title=\"ヒントン駅\">\n",
    "ヒントン駅\n",
    "ヒントン駅（ヒントンえき、英語：Hinton Station）は、ウェストバージニア州 メープル・アベニューのセカンド・アヴェニュー100にある駅。 昔のチェサピーク・アンド・オハイオ鉄道の駅である。\n",
    "アムトラックの停車する列車は下記の通り。\n",
    "</doc>\n",
    "```"
   ]
  },
  {
   "cell_type": "markdown",
   "metadata": {
    "deletable": true,
    "editable": true
   },
   "source": [
    "これを、以下のようにして、TaggedDocumentに変換します。\n",
    "\n",
    "分ち書きにはプロダクションのNlangクラスを使用します（すなわち品詞を一部落とします）。"
   ]
  },
  {
   "cell_type": "code",
   "execution_count": 2,
   "metadata": {
    "collapsed": true,
    "deletable": true,
    "editable": true
   },
   "outputs": [],
   "source": [
    "'''\n",
    "    環境準備\n",
    "'''\n",
    "import sys\n",
    "import os\n",
    "import re\n",
    "learning_dir = os.path.abspath(\"../../\") #<--- donusagi-bot/learning\n",
    "os.chdir(learning_dir)\n",
    "if learning_dir not in sys.path:\n",
    "    sys.path.append(learning_dir)"
   ]
  },
  {
   "cell_type": "code",
   "execution_count": 3,
   "metadata": {
    "collapsed": true,
    "deletable": true,
    "editable": true
   },
   "outputs": [],
   "source": [
    "def process_start_tag(line):\n",
    "    '''\n",
    "        docタグ開始と判定した場合\n",
    "        docタグから取得したid, titleを戻す。\n",
    "\n",
    "        ただし、titleに':' '曖昧さ回避'が\n",
    "        含まれている場合は無効エントリーとし、\n",
    "        docタグ開始と判定しない\n",
    "    '''\n",
    "    tag_start_pattern = r'<doc id=\"([0-9]+)\" url=\".+\" title=\"([^:]+)\">'\n",
    "\n",
    "    sm = re.match(tag_start_pattern, line)\n",
    "    if sm is None:\n",
    "        return None, None\n",
    "        \n",
    "    try:\n",
    "        id = sm.group(1)\n",
    "        title = sm.group(2)\n",
    "        \n",
    "        if title.find('曖昧さ回避') > 0:\n",
    "            id = None\n",
    "            title = None\n",
    "\n",
    "    except:\n",
    "        id = None\n",
    "        title = None\n",
    "        pass\n",
    "\n",
    "    return id, title"
   ]
  },
  {
   "cell_type": "code",
   "execution_count": 4,
   "metadata": {
    "collapsed": true,
    "deletable": true,
    "editable": true
   },
   "outputs": [],
   "source": [
    "def process_end_tag(line):\n",
    "    '''\n",
    "        docタグの終了判定\n",
    "    '''\n",
    "    tag_end_pattern = r'</doc>'\n",
    "\n",
    "    em = re.match(tag_end_pattern, line)\n",
    "    if em is not None:\n",
    "        return True\n",
    "\n",
    "    return False"
   ]
  },
  {
   "cell_type": "code",
   "execution_count": 5,
   "metadata": {
    "collapsed": false,
    "deletable": true,
    "editable": true
   },
   "outputs": [],
   "source": [
    "def parse_wiki_xml(lines):\n",
    "    '''\n",
    "        Wikipediaから抽出されたコンテンツをリスト化する。\n",
    "        \n",
    "        Wikipediaから抽出されたコンテンツはXML形式になっているが、\n",
    "        通常Pythonで用意されているパーサーでは処理不可能なので、\n",
    "        この関数でparseを行う\n",
    "    '''\n",
    "    parsed_wiki = []\n",
    "    tag_started = False\n",
    "\n",
    "    for line in lines:\n",
    "        line = line.replace('\\n', '')\n",
    "\n",
    "        if not tag_started:\n",
    "            '''\n",
    "                doc タグの開始判定\n",
    "            '''\n",
    "            id, title = process_start_tag(line)\n",
    "            if id is not None:\n",
    "                tag_started = True\n",
    "                first_line = True\n",
    "                content = ''\n",
    "            else:\n",
    "                tag_started = False\n",
    "            continue\n",
    "\n",
    "        if not tag_started:\n",
    "            continue\n",
    "\n",
    "        if process_end_tag(line):\n",
    "            '''\n",
    "                doc タグが終了したら、\n",
    "                id, title, 本文をリストに出力\n",
    "            '''\n",
    "            parsed_wiki.append((id, title, content))\n",
    "            tag_started = False\n",
    "            content = ''\n",
    "            continue\n",
    "\n",
    "        '''\n",
    "            doc タグの途中なら本文として扱う\n",
    "            ただし先頭行はタイトルなので\n",
    "            本文として扱わない\n",
    "        '''\n",
    "        if first_line:\n",
    "            first_line = False\n",
    "        else:\n",
    "            content += line\n",
    "    \n",
    "    return parsed_wiki"
   ]
  },
  {
   "cell_type": "code",
   "execution_count": 6,
   "metadata": {
    "collapsed": false,
    "deletable": true,
    "editable": true
   },
   "outputs": [],
   "source": [
    "def parse_wiki_xml_file(file_path):\n",
    "    parsed_wiki = None\n",
    "\n",
    "    with open(file_path) as wikifile:\n",
    "        lines = wikifile.readlines()\n",
    "        wikifile.close()\n",
    "        parsed_wiki = parse_wiki_xml(lines)\n",
    "\n",
    "    return parsed_wiki"
   ]
  },
  {
   "cell_type": "code",
   "execution_count": 7,
   "metadata": {
    "collapsed": false,
    "deletable": true,
    "editable": true
   },
   "outputs": [],
   "source": [
    "from gensim.models.doc2vec import TaggedDocument\n",
    "from learning.core.nlang import Nlang\n",
    "\n",
    "def get_tagged_document_list(wiki_extracted_file_path):\n",
    "    '''\n",
    "        コンテンツファイルから逐一読み込み、\n",
    "        タグとコーパスをTaggedDocumentに設定\n",
    "    '''\n",
    "    tagged_document_list = []\n",
    "\n",
    "    parsed_wiki = parse_wiki_xml_file(file_path)\n",
    "    for wiki in parsed_wiki:\n",
    "        # これは <doc> タグのidです\n",
    "        tag = int(wiki[0])\n",
    "\n",
    "        # これは <doc> タグの中身です\n",
    "        sentences = wiki[2]\n",
    "\n",
    "        separated_sentences = Nlang.split(sentences)\n",
    "        words = separated_sentences.split()\n",
    "        tagged_document_list.append(TaggedDocument(words=words, tags=[tag]))\n",
    "        \n",
    "    return tagged_document_list"
   ]
  },
  {
   "cell_type": "code",
   "execution_count": 8,
   "metadata": {
    "collapsed": true,
    "deletable": true,
    "editable": true
   },
   "outputs": [],
   "source": [
    "'''\n",
    "    ファイルからレコードを取得\n",
    "'''\n",
    "extracted_dir_path = '/Users/makmorit/Documents/Development/Wikipedia/extracted'\n",
    "\n",
    "prefix = 'AA'\n",
    "file_no = 0\n",
    "file_path = os.path.join(extracted_dir_path, prefix, 'wiki_%02d' % file_no)"
   ]
  },
  {
   "cell_type": "code",
   "execution_count": 9,
   "metadata": {
    "collapsed": false,
    "deletable": true,
    "editable": true,
    "scrolled": true
   },
   "outputs": [
    {
     "data": {
      "text/plain": [
       "TaggedDocument(words=['アンパサンド', '（，', '＆）', '意味', 'する', '記号', '英語', '相当', 'する', 'ラテン語', '合', '字', '（', 'ｅｔ', 'ｃｅｔｅｒａ', '＝', 'ａｎｄ', 'ｓｏ', 'ｆｏｒｔｈ', '）', '記述', 'する', 'Ｔｒｅｂｕｃｈｅｔ', 'ＭＳ', 'フォント', '表示', 'する', 'れる', '”', 'ｅｔ', '”', '合', '字', '容易', 'わかる', '使用', '１', '世紀', '遡る', 'できる', '（', '１', '）、', '５', '世紀', '中葉', '（', '２', '，', '３', '）', '現代', '（', '４', '−', '６', '）', '至る', '変遷', 'わかる', 'Ｚ', '続く', 'ラテン', '文字', 'アルファベット', '２７', '字', '目', 'する', 'れる', '時期', 'アンパサンド', '役割', '果たす', '文字', 'ｅｔ', '呼ぶ', 'れる', '数字', '７', '似る', '記号', '（，', 'Ｕ', '＋', '２０４', 'Ａ', '）。', '記号', '現在', 'ゲール', '文字', '使う', 'れる', '記号', '名', 'アンパサンド', 'ラテン語', 'まじる', '英語', '「＆', 'それ', '自身', '”', 'ａｎｄ', '”', '表す', '（＆', 'ｐｅｒ', 'ｓｅ', 'ａｎｄ', '）', 'くずれる', '形', '英語', '言語', '名称', '多様', '日常', '的', '手書き', '場合', '欧米', 'アンパサンド', '縦', '線', '引く', '単純', '化', 'する', 'れる', '使う', 'れる', '同様', 'ｔ', '「＋（', 'プラス', '輪', '重ねる', '無声', '歯茎', '側面', '摩擦音', '示す', '発音', '記号', '使う', 'れる', 'プログラミング', '言語', 'Ｃ', '多数', '言語', 'ＡＮＤ', '演算', '子', '用いる', 'られる', 'Ｃ', '例', 'ＰＨＰ', '変数', '宣言', '記号', '（＄）', '直前', '記述', 'する', '参照', '渡し', '行う', 'できる', 'ＢＡＳＩＣ', '系列', '言語', '文字', '列', '連結', '演算', '子', '使用', 'する', 'れる', 'ｃｏｄｉｃｅ', '＿', '４', 'ｃｏｄｉｃｅ', '＿', '５', '返す', '主', 'マイクロソフト', '系', '整数', '十', '六', '進', '表記', 'ｃｏｄｉｃｅ', '＿', '６', '用いる', 'ｃｏｄｉｃｅ', '＿', '７', '十', '進', '１５', '表現', 'する', 'ＳＧＭＬ', 'ＸＭＬ', 'ＨＴＭＬ', 'アンパサンド', '使う', 'ＳＧＭＬ', '実体', '参照', 'する'], tags=[5])"
      ]
     },
     "execution_count": 9,
     "metadata": {},
     "output_type": "execute_result"
    }
   ],
   "source": [
    "tagged_document_list = get_tagged_document_list(file_path)\n",
    "tagged_document_list[0]"
   ]
  },
  {
   "cell_type": "markdown",
   "metadata": {
    "deletable": true,
    "editable": true
   },
   "source": [
    "### (2-3) TaggedDocumentをインプットとして学習"
   ]
  },
  {
   "cell_type": "markdown",
   "metadata": {
    "deletable": true,
    "editable": true
   },
   "source": [
    "今回はマイオペのテストデータは入れないでテストします。\n",
    "\n",
    "概ね下記のようなコードを実行して学習します。\n",
    "\n",
    "ただし分類数がわからないので、適当に500程度のサイズに設定しておきます。\n",
    "\n",
    "繰り返し回数はサイズの１０倍程度を指定します。"
   ]
  },
  {
   "cell_type": "code",
   "execution_count": 10,
   "metadata": {
    "collapsed": false,
    "deletable": true,
    "editable": true
   },
   "outputs": [],
   "source": [
    "from gensim.models.doc2vec import Doc2Vec\n",
    "\n",
    "def doc2vec_model_path(dm):\n",
    "    model_path = 'prototype/better_algorithm/doc2vec.wikipedia.PV%d.model' % dm\n",
    "    return model_path\n",
    "\n",
    "def train(tagged_document_list, dm=0):\n",
    "    '''\n",
    "        tagged_document_listは、\n",
    "        すべてのWikipediaのタグ付きコーパス\n",
    "        (前述のtagged_document)が収容されたリスト。\n",
    "\n",
    "        これを引数にして、\n",
    "        ボキャブラリ生成／学習実行を実行します。\n",
    "        \n",
    "        dm=0でPV-DBOW、dm=1でPV-DMにより実行します。\n",
    "        （今回は比較のため、両方で試す）\n",
    "    '''\n",
    "    model = Doc2Vec(dm=dm, size=500, min_count=1, iter=5000)\n",
    "    model.build_vocab(tagged_document_list)\n",
    "    ret = model.train(tagged_document_list)\n",
    "\n",
    "    # 学習モデルは、ファイルに保存しておく\n",
    "    model.save(doc2vec_model_path(dm))\n",
    "    print('train_by_doc2vec: document vector size=%d, return=%d' % (len(model.docvecs), ret))\n",
    "\n",
    "    return ret"
   ]
  },
  {
   "cell_type": "code",
   "execution_count": 10,
   "metadata": {
    "collapsed": false,
    "deletable": true,
    "editable": true
   },
   "outputs": [
    {
     "name": "stdout",
     "output_type": "stream",
     "text": [
      "train_by_doc2vec: document vector size=1696, return=4744510453\n"
     ]
    },
    {
     "data": {
      "text/plain": [
       "4744510453"
      ]
     },
     "execution_count": 10,
     "metadata": {},
     "output_type": "execute_result"
    }
   ],
   "source": [
    "'''\n",
    "    tagged_document_listを\n",
    "    使用し、学習実行（PV-DBOW）\n",
    "'''\n",
    "train(tagged_document_list) "
   ]
  },
  {
   "cell_type": "code",
   "execution_count": 11,
   "metadata": {
    "collapsed": false,
    "deletable": true,
    "editable": true
   },
   "outputs": [
    {
     "name": "stdout",
     "output_type": "stream",
     "text": [
      "train_by_doc2vec: document vector size=1696, return=4744473928\n"
     ]
    },
    {
     "data": {
      "text/plain": [
       "4744473928"
      ]
     },
     "execution_count": 11,
     "metadata": {},
     "output_type": "execute_result"
    }
   ],
   "source": [
    "'''\n",
    "    tagged_document_listを\n",
    "    使用し、学習実行（PV-DM）\n",
    "'''\n",
    "train(tagged_document_list, dm=1) "
   ]
  },
  {
   "cell_type": "markdown",
   "metadata": {
    "deletable": true,
    "editable": true
   },
   "source": [
    "## (3) 予測実行"
   ]
  },
  {
   "cell_type": "markdown",
   "metadata": {
    "deletable": true,
    "editable": true
   },
   "source": [
    "作成されたモデルを使用して予測を実行する関数になります。"
   ]
  },
  {
   "cell_type": "code",
   "execution_count": 12,
   "metadata": {
    "collapsed": true,
    "deletable": true,
    "editable": true
   },
   "outputs": [],
   "source": [
    "from gensim import models\n",
    "\n",
    "def predict(word, dm=0):\n",
    "    '''\n",
    "        予測処理にかけるコーパスを生成\n",
    "        （学習セット作成時と同じ関数を使用）\n",
    "    '''\n",
    "    corpus = Nlang.split(word).split()\n",
    "\n",
    "    '''\n",
    "        コーパスからベクトルを生成し、\n",
    "        ロードしたモデルから類似ベクトルを検索\n",
    "    '''\n",
    "    loaded_model = models.Doc2Vec.load(doc2vec_model_path(dm))\n",
    "    inferred_vector = loaded_model.infer_vector(corpus)\n",
    "    ret = loaded_model.docvecs.most_similar([inferred_vector])\n",
    "\n",
    "    return corpus, ret"
   ]
  },
  {
   "cell_type": "markdown",
   "metadata": {},
   "source": [
    "### (3-1) 適当な質問文で予測（PV-DBOW)"
   ]
  },
  {
   "cell_type": "code",
   "execution_count": 17,
   "metadata": {
    "collapsed": false,
    "deletable": true,
    "editable": true,
    "scrolled": false
   },
   "outputs": [
    {
     "data": {
      "text/plain": [
       "(['風邪', '引く', '治療', '薬', '教える'],\n",
       " [(908, 0.35965487360954285),\n",
       "  (280, 0.3451248109340668),\n",
       "  (329, 0.34359341859817505),\n",
       "  (912, 0.3259981572628021),\n",
       "  (105, 0.3258604407310486),\n",
       "  (655, 0.3153131902217865),\n",
       "  (256, 0.3124464750289917),\n",
       "  (780, 0.3012807071208954),\n",
       "  (1460, 0.30003029108047485),\n",
       "  (853, 0.2989971339702606)])"
      ]
     },
     "execution_count": 17,
     "metadata": {},
     "output_type": "execute_result"
    }
   ],
   "source": [
    "'''\n",
    "    単語数がやや多い質問文を使い、質問をしてみます。\n",
    "'''\n",
    "predict('風邪を引いた時の治療薬を教えてください')"
   ]
  },
  {
   "cell_type": "markdown",
   "metadata": {
    "deletable": true,
    "editable": true
   },
   "source": [
    "元ねたと答え合わせ。\n",
    "\n",
    "２件ほど本文にキーワードがあるもの（id=329と、id=655）が引っかかっている様です。\n",
    "\n",
    "そのほかは、書きかけエントリーに引っかかってしまいました。\n",
    "```\n",
    "<doc id=\"908\" url=\"https://ja.wikipedia.org/wiki?curid=908\" title=\"高橋幸二\">　<---書きかけエントリー\n",
    "<doc id=\"280\" url=\"https://ja.wikipedia.org/wiki?curid=280\" title=\"ゴスペル\">　<---書きかけエントリー\n",
    "\n",
    "<doc id=\"329\" url=\"https://ja.wikipedia.org/wiki?curid=329\" title=\"風邪\">\n",
    "風邪（かぜ、common cold, nasopharyngitis, rhinopharyngitis, acute coryza, a cold）とは、ウイルスによる上気道感染症であり（以下略）\n",
    "\n",
    "<doc id=\"105\" url=\"https://ja.wikipedia.org/wiki?curid=105\" title=\"タイ\">　<---書きかけエントリー\n",
    "<doc id=\"912\" url=\"https://ja.wikipedia.org/wiki?curid=912\" title=\"高橋陽子\">　<---書きかけエントリー\n",
    "\n",
    "<doc id=\"655\" url=\"https://ja.wikipedia.org/wiki?curid=655\" title=\"水木しげる\">\n",
    "（中略）帰還してまもなく行軍中に風邪を引いた際にマラリアを発症（以下略）\n",
    "\n",
    "<doc id=\"256\" url=\"https://ja.wikipedia.org/wiki?curid=256\" title=\"サンバ\">　<---書きかけエントリー\n",
    "<doc id=\"780\" url=\"https://ja.wikipedia.org/wiki?curid=780\" title=\"佐藤宏之\">　<---書きかけエントリー\n",
    "<doc id=\"1460\" url=\"https://ja.wikipedia.org/wiki?curid=1460\" title=\"FTP\">　<---書きかけエントリー\n",
    "<doc id=\"853\" url=\"https://ja.wikipedia.org/wiki?curid=853\" title=\"森本さやか\">　<---書きかけエントリー\n",
    "```"
   ]
  },
  {
   "cell_type": "markdown",
   "metadata": {
    "deletable": true,
    "editable": true
   },
   "source": [
    "書きかけのエントリーの例\n",
    "\n",
    "```\n",
    "<doc id=\"861\" url=\"https://ja.wikipedia.org/wiki?curid=861\" title=\"JET\">\n",
    "JET\n",
    "\n",
    "JET\n",
    "\n",
    "</doc>\n",
    "```\n"
   ]
  },
  {
   "cell_type": "markdown",
   "metadata": {
    "deletable": true,
    "editable": true
   },
   "source": [
    "### (3-2) 適当な質問文で予測（PV-DM)"
   ]
  },
  {
   "cell_type": "code",
   "execution_count": 18,
   "metadata": {
    "collapsed": false,
    "deletable": true,
    "editable": true,
    "scrolled": true
   },
   "outputs": [
    {
     "data": {
      "text/plain": [
       "(['風邪', '引く', '治療', '薬', '教える'],\n",
       " [(1642, 0.23558662831783295),\n",
       "  (608, 0.2341582179069519),\n",
       "  (1048, 0.23387373983860016),\n",
       "  (1313, 0.2234296351671219),\n",
       "  (246, 0.2233436405658722),\n",
       "  (161, 0.22315767407417297),\n",
       "  (1440, 0.22186896204948425),\n",
       "  (245, 0.22185118496418),\n",
       "  (820, 0.2206314206123352),\n",
       "  (302, 0.22027365863323212)])"
      ]
     },
     "execution_count": 18,
     "metadata": {},
     "output_type": "execute_result"
    }
   ],
   "source": [
    "'''\n",
    "    単語数がやや多い質問文を使い、質問をしてみます。\n",
    "'''\n",
    "predict('風邪を引いた時の治療薬を教えてください', dm=1)"
   ]
  },
  {
   "cell_type": "markdown",
   "metadata": {
    "collapsed": true,
    "deletable": true,
    "editable": true
   },
   "source": [
    "元ねたと答え合わせ。\n",
    "\n",
    "書きかけエントリーには引っかかりませんでした。\n",
    "\n",
    "ただし、風邪、治療、教えるの意味にかかるドキュメントは一つもありませんでした。\n",
    "\n",
    "```\n",
    "<doc id=\"1642\" url=\"https://ja.wikipedia.org/wiki?curid=1642\" title=\"ユニバーサル・シリアル・バス\">\n",
    "<doc id=\"608\" url=\"https://ja.wikipedia.org/wiki?curid=608\" title=\"大島司\">\n",
    "<doc id=\"1048\" url=\"https://ja.wikipedia.org/wiki?curid=1048\" title=\"羽海野チカ\">\n",
    "<doc id=\"1313\" url=\"https://ja.wikipedia.org/wiki?curid=1313\" title=\"雷句誠\">\n",
    "<doc id=\"246\" url=\"https://ja.wikipedia.org/wiki?curid=246\" title=\"冨樫義博\">\n",
    "<doc id=\"161\" url=\"https://ja.wikipedia.org/wiki?curid=161\" title=\"著作権\">\n",
    "<doc id=\"1440\" url=\"https://ja.wikipedia.org/wiki?curid=1440\" title=\"白倉由美\">\n",
    "<doc id=\"245\" url=\"https://ja.wikipedia.org/wiki?curid=245\" title=\"寺沢武一\">\n",
    "<doc id=\"820\" url=\"https://ja.wikipedia.org/wiki?curid=820\" title=\"閏月\">\n",
    "<doc id=\"302\" url=\"https://ja.wikipedia.org/wiki?curid=302\" title=\"将軍\">\n",
    "```"
   ]
  },
  {
   "cell_type": "code",
   "execution_count": 20,
   "metadata": {
    "collapsed": false,
    "deletable": true,
    "editable": true,
    "scrolled": true
   },
   "outputs": [
    {
     "data": {
      "text/plain": [
       "(['風邪'],\n",
       " [(908, 0.3303205370903015),\n",
       "  (329, 0.30442649126052856),\n",
       "  (346, 0.2975710332393646),\n",
       "  (853, 0.2970205247402191),\n",
       "  (1084, 0.2935115098953247),\n",
       "  (780, 0.2880999445915222),\n",
       "  (1151, 0.2864486277103424),\n",
       "  (1110, 0.2839278280735016),\n",
       "  (1182, 0.28222888708114624),\n",
       "  (387, 0.28077220916748047)])"
      ]
     },
     "execution_count": 20,
     "metadata": {},
     "output_type": "execute_result"
    }
   ],
   "source": [
    "'''\n",
    "    タイトルに近い文言で、Google検索っぽく質問をしてみます。\n",
    "'''\n",
    "predict('風邪', dm=1)"
   ]
  },
  {
   "cell_type": "markdown",
   "metadata": {},
   "source": [
    "１件だけ、「風邪」が記述されているドキュメントが引っかかっただけでした。\n",
    "```\n",
    "<doc id=\"908\" url=\"https://ja.wikipedia.org/wiki?curid=908\" title=\"高橋幸二\">　<---書きかけエントリー\n",
    "\n",
    "<doc id=\"329\" url=\"https://ja.wikipedia.org/wiki?curid=329\" title=\"風邪\">\n",
    "風邪（かぜ、common cold, nasopharyngitis, rhinopharyngitis, acute coryza, a cold）とは、ウイルスによる上気道感染症であり（以下略）\n",
    "\n",
    "<doc id=\"346\" url=\"https://ja.wikipedia.org/wiki?curid=346\" title=\"冨樫\">　<---書きかけエントリー\n",
    "<doc id=\"853\" url=\"https://ja.wikipedia.org/wiki?curid=853\" title=\"森本さやか\">　<---書きかけエントリー\n",
    "\n",
    "<doc id=\"1084\" url=\"https://ja.wikipedia.org/wiki?curid=1084\" title=\"FORTRAN\">　<---「風邪」を含まない\n",
    "\n",
    "<doc id=\"780\" url=\"https://ja.wikipedia.org/wiki?curid=780\" title=\"佐藤宏之\">　<---書きかけエントリー\n",
    "\n",
    "<doc id=\"1151\" url=\"https://ja.wikipedia.org/wiki?curid=1151\" title=\"荒俣宏\">　<---「風邪」を含まない\n",
    "<doc id=\"1110\" url=\"https://ja.wikipedia.org/wiki?curid=1110\" title=\"経済学\">　<---「風邪」を含まない\n",
    "<doc id=\"1182\" url=\"https://ja.wikipedia.org/wiki?curid=1182\" title=\"誘電体\">　<---「風邪」を含まない\n",
    "<doc id=\"387\" url=\"https://ja.wikipedia.org/wiki?curid=387\" title=\"岐阜県\">　<---「風邪」を含まない\n",
    "\n",
    "```"
   ]
  }
 ],
 "metadata": {
  "kernelspec": {
   "display_name": "Python 3",
   "language": "python",
   "name": "python3"
  },
  "language_info": {
   "codemirror_mode": {
    "name": "ipython",
    "version": 3
   },
   "file_extension": ".py",
   "mimetype": "text/x-python",
   "name": "python",
   "nbconvert_exporter": "python",
   "pygments_lexer": "ipython3",
   "version": "3.5.2"
  }
 },
 "nbformat": 4,
 "nbformat_minor": 2
}
