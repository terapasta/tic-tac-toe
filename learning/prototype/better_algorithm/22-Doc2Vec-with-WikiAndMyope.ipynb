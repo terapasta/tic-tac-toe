{
 "cells": [
  {
   "cell_type": "markdown",
   "metadata": {
    "deletable": true,
    "editable": true
   },
   "source": [
    "# Doc2VecでWikipedia文書を使用し、マイオペのデータで予測\n",
    "\n",
    "巨大コーパスをもつWiki文書の一部を使用して、Wiki文書でボキャブラリを作成し、マイオペの学習セットで学習／予測させます。\n",
    "\n",
    "今回は２つの手法を比較しました。\n",
    "\n",
    "- PV-DBOW：マイオペの学習セットを混ぜて学習させることで、マイオペのデータでも予測ができることは確認できました。\n",
    "\n",
    "\n",
    "- PV-DM：こちらは全般的に使えない印象です。"
   ]
  },
  {
   "cell_type": "markdown",
   "metadata": {
    "deletable": true,
    "editable": true
   },
   "source": [
    "## (1) Wikipediaコンテンツファイルから全文書を抽出"
   ]
  },
  {
   "cell_type": "markdown",
   "metadata": {
    "deletable": true,
    "editable": true
   },
   "source": [
    "<a href=\"31-Wikipedia-contents-csv.ipynb\"><b>こちらの手順</b></a> にて、いったんローカルPCにCSVファイル化しておきます。\n",
    "\n"
   ]
  },
  {
   "cell_type": "markdown",
   "metadata": {
    "deletable": true,
    "editable": true
   },
   "source": [
    "## (2) TaggedDocumentを生成"
   ]
  },
  {
   "cell_type": "markdown",
   "metadata": {
    "deletable": true,
    "editable": true
   },
   "source": [
    "### (2-1) Wikipedia文書のTaggedDocumentを生成"
   ]
  },
  {
   "cell_type": "markdown",
   "metadata": {
    "deletable": true,
    "editable": true
   },
   "source": [
    "Wikipedia文書のCSVファイルからデータフレームを読み込み、TaggedDocumentに変換します。"
   ]
  },
  {
   "cell_type": "code",
   "execution_count": 1,
   "metadata": {
    "collapsed": true,
    "deletable": true,
    "editable": true
   },
   "outputs": [],
   "source": [
    "'''\n",
    "    環境準備\n",
    "'''\n",
    "import sys\n",
    "import os\n",
    "\n",
    "import numpy as np\n",
    "import pandas as pd\n",
    " \n",
    "learning_dir = os.path.abspath(\"../../\") #<--- donusagi-bot/learning\n",
    "os.chdir(learning_dir)\n",
    "if learning_dir not in sys.path:\n",
    "    sys.path.append(learning_dir)"
   ]
  },
  {
   "cell_type": "code",
   "execution_count": 2,
   "metadata": {
    "collapsed": true,
    "deletable": true,
    "editable": true
   },
   "outputs": [],
   "source": [
    "import MeCab\n",
    "import mojimoji\n",
    "\n",
    "class Nlang_naive:\n",
    "    @classmethod\n",
    "    def split(self, text):\n",
    "        tagger = MeCab.Tagger(\"-u learning/dict/custom.dic\")\n",
    "        tagger.parse('')  # node.surfaceを取得出来るようにするため、空文字をparseする(Python3のバグの模様)\n",
    "        node = tagger.parseToNode(text)\n",
    "        word_list = []\n",
    "        while node:\n",
    "            features = node.feature.split(\",\")\n",
    "            pos = features[0]\n",
    "            if pos in [\"BOS/EOS\", \"記号\"]:\n",
    "                node = node.next\n",
    "                continue\n",
    "\n",
    "            #print(features)\n",
    "            lemma = node.feature.split(\",\")[6]\n",
    "\n",
    "            if lemma == \"*\":\n",
    "                lemma = node.surface  #.decode(\"utf-8\")\n",
    "                \n",
    "            word_list.append(mojimoji.han_to_zen(lemma))\n",
    "            node = node.next\n",
    "        return \" \".join(word_list)\n",
    "\n",
    "    @classmethod\n",
    "    def batch_split(self, texts):\n",
    "        splited_texts = []\n",
    "        for text in texts:\n",
    "            splited_texts.append(self.split(text))\n",
    "        return splited_texts"
   ]
  },
  {
   "cell_type": "code",
   "execution_count": 3,
   "metadata": {
    "collapsed": false,
    "deletable": true,
    "editable": true
   },
   "outputs": [],
   "source": [
    "from gensim.models.doc2vec import TaggedDocument\n",
    "# from learning.core.nlang import Nlang\n",
    "\n",
    "def get_tagged_document_list(wiki_ids, wiki_contents):\n",
    "    '''\n",
    "        タグとコーパスをTaggedDocumentに設定\n",
    "    '''\n",
    "    tagged_document_list = []\n",
    "\n",
    "    for index, _ in enumerate(wiki_ids):\n",
    "        tag = wiki_ids[index]\n",
    "        sentences = wiki_contents[index]\n",
    "\n",
    "        # 品詞は落とさない様にする\n",
    "        separated_sentences = Nlang_naive.split(sentences)\n",
    "        words = separated_sentences.split()\n",
    "        tagged_document_list.append(TaggedDocument(words=words, tags=[tag]))\n",
    "        \n",
    "    return tagged_document_list"
   ]
  },
  {
   "cell_type": "code",
   "execution_count": 4,
   "metadata": {
    "collapsed": false,
    "deletable": true,
    "editable": true
   },
   "outputs": [],
   "source": [
    "'''\n",
    "    Wikipedia文書から生成されたCSVを読み込み、\n",
    "    配列を生成する\n",
    "'''\n",
    "extracted_dir_path = '/Users/makmorit/Documents/Development/Wikipedia/extracted'\n",
    "csv_file_name = os.path.join(extracted_dir_path, 'Wikipedia-content.csv')\n",
    "df = pd.read_csv(csv_file_name)\n",
    "\n",
    "_wiki_ids = np.array(df['id'])\n",
    "_wiki_titles = np.array(df['title'])\n",
    "_wiki_contents = np.array(df['content'])"
   ]
  },
  {
   "cell_type": "code",
   "execution_count": 16,
   "metadata": {
    "collapsed": false,
    "deletable": true,
    "editable": true
   },
   "outputs": [],
   "source": [
    "'''\n",
    "    時間がかかるので一部のみ使用します（全量＝100万件）\n",
    "'''\n",
    "partial_cnt = 1000\n",
    "\n",
    "wiki_ids = _wiki_ids[0:partial_cnt]\n",
    "wiki_contents = _wiki_contents[0:partial_cnt]"
   ]
  },
  {
   "cell_type": "code",
   "execution_count": 17,
   "metadata": {
    "collapsed": false,
    "deletable": true,
    "editable": true,
    "scrolled": true
   },
   "outputs": [],
   "source": [
    "wiki_tagged_document_list = get_tagged_document_list(wiki_ids, wiki_contents)"
   ]
  },
  {
   "cell_type": "code",
   "execution_count": 18,
   "metadata": {
    "collapsed": false,
    "deletable": true,
    "editable": true,
    "scrolled": false
   },
   "outputs": [
    {
     "data": {
      "text/plain": [
       "1000"
      ]
     },
     "execution_count": 18,
     "metadata": {},
     "output_type": "execute_result"
    }
   ],
   "source": [
    "len(wiki_tagged_document_list)"
   ]
  },
  {
   "cell_type": "markdown",
   "metadata": {
    "deletable": true,
    "editable": true
   },
   "source": [
    "### (2-2) マイオペ文書のTaggedDocumentを生成"
   ]
  },
  {
   "cell_type": "code",
   "execution_count": 19,
   "metadata": {
    "collapsed": true,
    "deletable": true,
    "editable": true
   },
   "outputs": [],
   "source": [
    "import numpy as np\n",
    "\n",
    "from learning.core.learn.learning_parameter import LearningParameter\n",
    "from learning.core.datasource import Datasource\n",
    "\n",
    "_bot_id = 11 # benefitone.csv\n",
    "attr = {\n",
    "    'include_failed_data': False,\n",
    "    'include_tag_vector': False,\n",
    "    'classify_threshold': 0.5,\n",
    "    'algorithm': LearningParameter.ALGORITHM_LOGISTIC_REGRESSION,\n",
    "    'params_for_algorithm': {'C': 140},\n",
    "    'excluded_labels_for_fitting': None\n",
    "}\n",
    "learning_parameter = LearningParameter(attr)"
   ]
  },
  {
   "cell_type": "code",
   "execution_count": 20,
   "metadata": {
    "collapsed": false,
    "deletable": true,
    "editable": true,
    "scrolled": true
   },
   "outputs": [
    {
     "name": "stderr",
     "output_type": "stream",
     "text": [
      "2017/05/25 PM 01:50:42 ['./fixtures/learning_training_messages/benefitone.csv', './fixtures/learning_training_messages/ptna.csv', './fixtures/learning_training_messages/septeni.csv', './fixtures/learning_training_messages/toyotsu_human.csv']\n",
      "2017/05/25 PM 01:50:42 ['./fixtures/question_answers/toyotsu_human.csv']\n"
     ]
    }
   ],
   "source": [
    "'''\n",
    "    マイオペの学習セットを取得してコーパスを生成\n",
    "    \n",
    "    タグとして、learning_training_messages.id を付与\n",
    "'''\n",
    "_datasource = Datasource(type='csv')\n",
    "learning_training_messages = _datasource.learning_training_messages(_bot_id)\n",
    "questions = np.array(learning_training_messages['question'])\n",
    "answer_ids = np.array(learning_training_messages['answer_id'])\n",
    "ids = np.array(learning_training_messages['id'])\n",
    "\n",
    "myope_tagged_document_list = get_tagged_document_list(ids, questions)"
   ]
  },
  {
   "cell_type": "code",
   "execution_count": 21,
   "metadata": {
    "collapsed": false,
    "deletable": true,
    "editable": true,
    "scrolled": true
   },
   "outputs": [
    {
     "data": {
      "text/plain": [
       "7083"
      ]
     },
     "execution_count": 21,
     "metadata": {},
     "output_type": "execute_result"
    }
   ],
   "source": [
    "len(myope_tagged_document_list)"
   ]
  },
  {
   "cell_type": "markdown",
   "metadata": {
    "deletable": true,
    "editable": true
   },
   "source": [
    "### (2-2) Wikipedia文書とマイオペ文書の、両方のTaggedDocumentを合体させる"
   ]
  },
  {
   "cell_type": "code",
   "execution_count": 22,
   "metadata": {
    "collapsed": true,
    "deletable": true,
    "editable": true
   },
   "outputs": [],
   "source": [
    "all_tagged_document_list = []\n",
    "all_tagged_document_list.extend(wiki_tagged_document_list)\n",
    "all_tagged_document_list.extend(myope_tagged_document_list)"
   ]
  },
  {
   "cell_type": "code",
   "execution_count": 23,
   "metadata": {
    "collapsed": false,
    "deletable": true,
    "editable": true,
    "scrolled": false
   },
   "outputs": [
    {
     "data": {
      "text/plain": [
       "8083"
      ]
     },
     "execution_count": 23,
     "metadata": {},
     "output_type": "execute_result"
    }
   ],
   "source": [
    "len(all_tagged_document_list)"
   ]
  },
  {
   "cell_type": "markdown",
   "metadata": {
    "deletable": true,
    "editable": true
   },
   "source": [
    "## (3) 学習実行"
   ]
  },
  {
   "cell_type": "markdown",
   "metadata": {
    "deletable": true,
    "editable": true
   },
   "source": [
    "### (3-1) TaggedDocumentをインプットとして学習"
   ]
  },
  {
   "cell_type": "code",
   "execution_count": 24,
   "metadata": {
    "collapsed": false,
    "deletable": true,
    "editable": true
   },
   "outputs": [],
   "source": [
    "from gensim.models.doc2vec import Doc2Vec\n",
    "\n",
    "def doc2vec_model_path(dm):\n",
    "    model_path = 'prototype/better_algorithm/doc2vec.wikipedia.PV%d.model' % dm\n",
    "    return model_path\n",
    "\n",
    "def build_vocabulary(tagged_document_list, dm=0, size=100):\n",
    "    '''\n",
    "        tagged_document_listは、\n",
    "        Wikipedia文書のタグ付きコーパス\n",
    "        (前述のtagged_document)が収容されたリスト。\n",
    "\n",
    "        これを引数にして、\n",
    "        ボキャブラリ生成を実行します。\n",
    "        \n",
    "        dm=0でPV-DBOW、dm=1でPV-DMにより実行します。\n",
    "    '''\n",
    "    model = Doc2Vec(dm=dm, size=size, min_count=1, iter=size*10)\n",
    "    model.build_vocab(tagged_document_list)\n",
    "\n",
    "    # 学習モデルは、ファイルに保存しておく\n",
    "    model.save(doc2vec_model_path(dm))\n",
    "    print('build_vocabulary: model saved temporary')\n",
    "\n",
    "    return model\n",
    "\n",
    "def train(model, tagged_document_list, dm=0):\n",
    "    '''\n",
    "        tagged_documentが収容されたリストを引数にして、\n",
    "        学習を実行します。\n",
    "        \n",
    "        dm=0でPV-DBOW、dm=1でPV-DMにより実行します。\n",
    "        （今回は比較のため、両方で試す）\n",
    "    '''\n",
    "    ret = model.train(tagged_document_list)\n",
    "\n",
    "    # 学習モデルは、ファイルに保存しておく\n",
    "    model.save(doc2vec_model_path(dm))\n",
    "    print('train: document vector size=%d, return=%d' % (len(model.docvecs), ret))\n",
    "\n",
    "    return ret"
   ]
  },
  {
   "cell_type": "code",
   "execution_count": 25,
   "metadata": {
    "collapsed": false,
    "deletable": true,
    "editable": true
   },
   "outputs": [
    {
     "name": "stdout",
     "output_type": "stream",
     "text": [
      "build_vocabulary: model saved temporary\n"
     ]
    }
   ],
   "source": [
    "'''\n",
    "    tagged_document_listを使用し、学習実行（PV-DBOW）\n",
    "'''\n",
    "model_dbow = build_vocabulary(all_tagged_document_list, dm=0, size=200)"
   ]
  },
  {
   "cell_type": "code",
   "execution_count": 26,
   "metadata": {
    "collapsed": false,
    "deletable": true,
    "editable": true,
    "scrolled": false
   },
   "outputs": [
    {
     "name": "stdout",
     "output_type": "stream",
     "text": [
      "train: document vector size=8083, return=2472651108\n"
     ]
    },
    {
     "data": {
      "text/plain": [
       "2472651108"
      ]
     },
     "execution_count": 26,
     "metadata": {},
     "output_type": "execute_result"
    }
   ],
   "source": [
    "train(model_dbow, all_tagged_document_list, dm=0) "
   ]
  },
  {
   "cell_type": "code",
   "execution_count": 34,
   "metadata": {
    "collapsed": false,
    "deletable": true,
    "editable": true
   },
   "outputs": [
    {
     "name": "stdout",
     "output_type": "stream",
     "text": [
      "build_vocabulary: model saved temporary\n"
     ]
    }
   ],
   "source": [
    "'''\n",
    "    tagged_document_listを使用し、学習実行（PV-DM）\n",
    "'''\n",
    "model_dm = build_vocabulary(all_tagged_document_list, dm=1, size=200)"
   ]
  },
  {
   "cell_type": "code",
   "execution_count": 35,
   "metadata": {
    "collapsed": false,
    "deletable": true,
    "editable": true
   },
   "outputs": [
    {
     "name": "stdout",
     "output_type": "stream",
     "text": [
      "train: document vector size=8083, return=2472651949\n"
     ]
    },
    {
     "data": {
      "text/plain": [
       "2472651949"
      ]
     },
     "execution_count": 35,
     "metadata": {},
     "output_type": "execute_result"
    }
   ],
   "source": [
    "train(model_dm, all_tagged_document_list, dm=1) "
   ]
  },
  {
   "cell_type": "markdown",
   "metadata": {
    "deletable": true,
    "editable": true
   },
   "source": [
    "## (3) 予測実行"
   ]
  },
  {
   "cell_type": "markdown",
   "metadata": {
    "deletable": true,
    "editable": true
   },
   "source": [
    "作成されたモデルを使用して予測を実行する関数になります。"
   ]
  },
  {
   "cell_type": "code",
   "execution_count": 39,
   "metadata": {
    "collapsed": true,
    "deletable": true,
    "editable": true
   },
   "outputs": [],
   "source": [
    "from gensim import models\n",
    "\n",
    "def predict(word, dm=0):\n",
    "    '''\n",
    "        予測処理にかけるコーパスを生成\n",
    "        （学習セット作成時と同じ関数を使用）\n",
    "    '''\n",
    "    corpus = Nlang_naive.split(word).split()\n",
    "\n",
    "    '''\n",
    "        コーパスからベクトルを生成し、\n",
    "        ロードしたモデルから類似ベクトルを検索\n",
    "    '''\n",
    "    loaded_model = models.Doc2Vec.load(doc2vec_model_path(dm))\n",
    "    inferred_vector = loaded_model.infer_vector(corpus)\n",
    "    ret = loaded_model.docvecs.most_similar([inferred_vector])\n",
    "\n",
    "    return corpus, ret\n",
    "\n",
    "def get_title_from_tag(tag):\n",
    "    '''\n",
    "        tag に対応するWikipediaのタイトルを取得。\n",
    "\n",
    "        ただし、合致したものがなければ、\n",
    "        マイオペの id と判断し、\n",
    "        id に対応する answer_id を取得する。\n",
    "    '''\n",
    "    for index, _ in enumerate(wiki_ids):\n",
    "        if wiki_ids[index] == tag:\n",
    "            return _wiki_titles[index]\n",
    "\n",
    "    for index, _ in enumerate(ids):\n",
    "        if ids[index] == tag:\n",
    "            return answer_ids[index]\n",
    "        \n",
    "    return None\n",
    "\n",
    "def print_predict_result(corpus, similarities):\n",
    "    print(corpus)\n",
    "    print(\"id, answer_id, similarity\")\n",
    "\n",
    "    for tag, similarity in similarities:\n",
    "        print(tag, get_title_from_tag(tag), similarity)"
   ]
  },
  {
   "cell_type": "markdown",
   "metadata": {
    "deletable": true,
    "editable": true
   },
   "source": [
    "### (3-1) 適当な質問文で予測（PV-DBOW)"
   ]
  },
  {
   "cell_type": "markdown",
   "metadata": {
    "deletable": true,
    "editable": true
   },
   "source": [
    "#### 正解があるものは高めの類似度を示します"
   ]
  },
  {
   "cell_type": "code",
   "execution_count": 28,
   "metadata": {
    "collapsed": false,
    "deletable": true,
    "editable": true,
    "scrolled": false
   },
   "outputs": [
    {
     "name": "stdout",
     "output_type": "stream",
     "text": [
      "['契約', '書', 'を', '見る', 'たい', 'の', 'です', 'が']\n",
      "id, answer_id, similarity\n",
      "1898658 4683 0.5975109934806824\n",
      "1895471 4683 0.5846216082572937\n",
      "1898648 4683 0.5720071196556091\n",
      "1895461 4683 0.5661964416503906\n",
      "1898654 4683 0.5602788925170898\n",
      "1896954 4678 0.5566464066505432\n",
      "1895466 4683 0.5562644004821777\n",
      "1898653 4683 0.5544137954711914\n",
      "1895469 4683 0.5539995431900024\n",
      "1895467 4683 0.5511842370033264\n"
     ]
    }
   ],
   "source": [
    "'''\n",
    "    契約書を見たいのですが（正解＝4683）\n",
    "'''\n",
    "corpus, ret = predict('契約書を見たいのですが', dm=0)\n",
    "print_predict_result(corpus, ret)"
   ]
  },
  {
   "cell_type": "code",
   "execution_count": 29,
   "metadata": {
    "collapsed": false,
    "deletable": true,
    "editable": true,
    "scrolled": false
   },
   "outputs": [
    {
     "name": "stdout",
     "output_type": "stream",
     "text": [
      "['ＥＸ', 'カード', 'を', '貸す', 'て', 'くださる']\n",
      "id, answer_id, similarity\n",
      "1899813 4678 0.7045131921768188\n",
      "1896626 4678 0.6912281513214111\n",
      "1901396 4678 0.6634103059768677\n",
      "1898215 4678 0.6614203453063965\n",
      "1901402 4678 0.6600054502487183\n",
      "1898209 4678 0.6520925760269165\n",
      "1899807 4678 0.6442662477493286\n",
      "1899261 4740 0.631352961063385\n",
      "1899217 4678 0.6307018399238586\n",
      "1901397 4678 0.6267096996307373\n"
     ]
    }
   ],
   "source": [
    "'''\n",
    "    EXカードを貸してください（正解＝4678）\n",
    "'''\n",
    "corpus, ret = predict('EXカードを貸してください', dm=0)\n",
    "print_predict_result(corpus, ret)"
   ]
  },
  {
   "cell_type": "markdown",
   "metadata": {
    "deletable": true,
    "editable": true
   },
   "source": [
    "#### 正解があるものについて、言い回しを変えてみます。\n",
    "\n",
    "いずれも、想定される結果からは、かけ離れたものになってしまいます。"
   ]
  },
  {
   "cell_type": "code",
   "execution_count": 48,
   "metadata": {
    "collapsed": false,
    "deletable": true,
    "editable": true,
    "scrolled": false
   },
   "outputs": [
    {
     "name": "stdout",
     "output_type": "stream",
     "text": [
      "['契約', '書', 'を', '見せる', 'たい', 'ない', 'の', 'です', 'が']\n",
      "id, answer_id, similarity\n",
      "1898648 4683 0.5675591230392456\n",
      "1895461 4683 0.5639031529426575\n",
      "1895466 4683 0.563579261302948\n",
      "1898653 4683 0.5598781108856201\n",
      "1895469 4683 0.5595439672470093\n",
      "1898656 4683 0.5562201142311096\n",
      "1898654 4683 0.5555241107940674\n",
      "1898813 4711 0.5551542043685913\n",
      "1895467 4683 0.5543932914733887\n",
      "1901043 4678 0.5459620952606201\n"
     ]
    }
   ],
   "source": [
    "'''\n",
    "    正解の否定（教師データにない）---> 否定が効かない\n",
    "    \n",
    "    （「契約書を見たいのですが」の正解＝4683）\n",
    "'''\n",
    "corpus, ret = predict('契約書を見せたくないのですが', dm=0)\n",
    "print_predict_result(corpus, ret)"
   ]
  },
  {
   "cell_type": "code",
   "execution_count": 53,
   "metadata": {
    "collapsed": false,
    "deletable": true,
    "editable": true,
    "scrolled": false
   },
   "outputs": [
    {
     "name": "stdout",
     "output_type": "stream",
     "text": [
      "['契約', 'を', '結ぶ', 'だ', '時', 'に', '作成', 'する', 'れる', '文書', 'を', '確認', 'する', 'たい']\n",
      "id, answer_id, similarity\n",
      "1895356 4797 0.5864300727844238\n",
      "1902121 4797 0.5848488807678223\n",
      "1900376 4678 0.582711935043335\n",
      "1897185 4678 0.5824649333953857\n",
      "1900372 4678 0.5812031030654907\n",
      "1897189 4678 0.580223798751831\n",
      "1898656 4683 0.5747554302215576\n",
      "1895466 4683 0.5707365274429321\n",
      "1895469 4683 0.570685088634491\n",
      "1898653 4683 0.5705815553665161\n"
     ]
    }
   ],
   "source": [
    "'''\n",
    "    正解の別な言い回し（教師データにない）---> 別の答えが返ってきてしまう\n",
    "\n",
    "    （「契約書を見たいのですが」の正解＝4683）\n",
    "'''\n",
    "corpus, ret = predict('契約を結んだ時に作成される文書を確認したい', dm=0)\n",
    "print_predict_result(corpus, ret)"
   ]
  },
  {
   "cell_type": "markdown",
   "metadata": {
    "deletable": true,
    "editable": true
   },
   "source": [
    "#### 正解がないものは低めの類似度を示します"
   ]
  },
  {
   "cell_type": "code",
   "execution_count": 30,
   "metadata": {
    "collapsed": false,
    "deletable": true,
    "editable": true,
    "scrolled": true
   },
   "outputs": [
    {
     "name": "stdout",
     "output_type": "stream",
     "text": [
      "['おいしい', 'ラーメン', 'が', '食べる', 'たい', 'です']\n",
      "id, answer_id, similarity\n",
      "1900597 4678 0.5136572122573853\n",
      "1896814 4678 0.5046058893203735\n",
      "1900001 4678 0.5039975047111511\n",
      "1897410 4678 0.5036501884460449\n",
      "1900034 4678 0.4947577118873596\n",
      "1896954 4678 0.4943247139453888\n",
      "1896990 4678 0.49368739128112793\n",
      "1896630 4678 0.49354636669158936\n",
      "1896847 4678 0.4925711154937744\n",
      "1900177 4678 0.492549866437912\n"
     ]
    }
   ],
   "source": [
    "'''\n",
    "    おいしいラーメンが食べたいです（正解＝なし）\n",
    "'''\n",
    "corpus, ret = predict('おいしいラーメンが食べたいです', dm=0)\n",
    "print_predict_result(corpus, ret)"
   ]
  },
  {
   "cell_type": "code",
   "execution_count": 31,
   "metadata": {
    "collapsed": false,
    "deletable": true,
    "editable": true,
    "scrolled": true
   },
   "outputs": [
    {
     "name": "stdout",
     "output_type": "stream",
     "text": [
      "['風邪', 'を', '引く', 'た', '時', 'の', '治療', '薬', 'を', '教える', 'て', 'くださる']\n",
      "id, answer_id, similarity\n",
      "1896638 4678 0.4809154272079468\n",
      "1899995 4678 0.4796925187110901\n",
      "1899825 4678 0.4765402376651764\n",
      "1896808 4678 0.47560590505599976\n",
      "1900298 4783 0.4701211452484131\n",
      "1901188 4678 0.46987462043762207\n",
      "1897105 4783 0.4698534309864044\n",
      "1900949 4678 0.4662317931652069\n",
      "1901120 4678 0.4659349322319031\n",
      "1897111 4783 0.4648154079914093\n"
     ]
    }
   ],
   "source": [
    "'''\n",
    "    無関係な質問をしてみます。\n",
    "'''\n",
    "corpus, ret = predict('風邪を引いた時の治療薬を教えてください', dm=0)\n",
    "print_predict_result(corpus, ret)"
   ]
  },
  {
   "cell_type": "markdown",
   "metadata": {
    "deletable": true,
    "editable": true
   },
   "source": [
    "#### マイオペとは無関係な、Wikipedia文書に関するデータの予測でも、マイオペの文書が帰ってきてしまいます\n",
    "\n",
    "ただし類似度は低めです"
   ]
  },
  {
   "cell_type": "code",
   "execution_count": 32,
   "metadata": {
    "collapsed": false,
    "deletable": true,
    "editable": true,
    "scrolled": false
   },
   "outputs": [
    {
     "name": "stdout",
     "output_type": "stream",
     "text": [
      "['風邪']\n",
      "id, answer_id, similarity\n",
      "1897733 4678 0.4665856957435608\n",
      "1898452 4833 0.4632178544998169\n",
      "1900920 4678 0.45248931646347046\n",
      "1898458 4833 0.4482731223106384\n",
      "1899816 4678 0.4474280774593353\n",
      "1901639 4833 0.44547876715660095\n",
      "1899739 4772 0.4439881443977356\n",
      "1898075 4678 0.443499892950058\n",
      "1901262 4678 0.4429112672805786\n",
      "1900674 4678 0.43948814272880554\n"
     ]
    }
   ],
   "source": [
    "'''\n",
    "    Wikiタイトルに近い文言で、Google検索っぽく質問をしてみます。\n",
    "'''\n",
    "corpus, ret = predict('風邪', dm=0)\n",
    "print_predict_result(corpus, ret)"
   ]
  },
  {
   "cell_type": "code",
   "execution_count": 33,
   "metadata": {
    "collapsed": false,
    "deletable": true,
    "editable": true
   },
   "outputs": [
    {
     "name": "stdout",
     "output_type": "stream",
     "text": [
      "['漁業', 'に', 'は', 'さまざま', 'だ', '人々', 'が', '関わる', 'て', 'いる', 'が', '漁撈', '活動', 'に', '専業', 'として', '携わる', '者', 'の', 'こと', 'は', '漁師', 'と', 'いう']\n",
      "id, answer_id, similarity\n",
      "1899750 4772 0.43229085206985474\n",
      "1900340 4678 0.4295662045478821\n",
      "1900297 4783 0.4275372624397278\n",
      "1900073 4678 0.4240705966949463\n",
      "1900288 4783 0.42388951778411865\n",
      "1896563 4772 0.4207908511161804\n",
      "1901034 4678 0.4207456111907959\n",
      "1899983 4678 0.4195511043071747\n",
      "1899763 4772 0.41805917024612427\n",
      "1896886 4678 0.41684645414352417\n"
     ]
    }
   ],
   "source": [
    "'''\n",
    "    Wiki本文に近い文言で、質問をしてみます。\n",
    "'''\n",
    "wiki_like_sentence = '''漁業にはさまざまな人々が関わっているが、漁撈活動に専業として携わる者のことは漁師という。\n",
    "'''\n",
    "corpus, ret = predict(wiki_like_sentence, dm=0)\n",
    "print_predict_result(corpus, ret)"
   ]
  },
  {
   "cell_type": "markdown",
   "metadata": {
    "deletable": true,
    "editable": true
   },
   "source": [
    "### (3-2) 適当な質問文で予測（PV-DM)"
   ]
  },
  {
   "cell_type": "code",
   "execution_count": 40,
   "metadata": {
    "collapsed": false,
    "deletable": true,
    "editable": true,
    "scrolled": true
   },
   "outputs": [
    {
     "name": "stdout",
     "output_type": "stream",
     "text": [
      "['契約', '書', 'を', '見る', 'たい', 'の', 'です', 'が']\n",
      "id, answer_id, similarity\n",
      "1901609 4808 0.5073404312133789\n",
      "1901605 4808 0.5008575916290283\n",
      "1898422 4808 0.4915803074836731\n",
      "1898658 4683 0.48995378613471985\n",
      "1901615 4808 0.48584046959877014\n",
      "1898416 4808 0.4836342930793762\n",
      "1901603 4808 0.4823327958583832\n",
      "1899889 4678 0.4742242097854614\n",
      "1898428 4808 0.47137218713760376\n",
      "1898418 4808 0.4703996777534485\n"
     ]
    }
   ],
   "source": [
    "'''\n",
    "    契約書を見たいのですが（正解＝4683）\n",
    "'''\n",
    "corpus, ret = predict('契約書を見たいのですが', dm=1)\n",
    "print_predict_result(corpus, ret)"
   ]
  },
  {
   "cell_type": "code",
   "execution_count": 41,
   "metadata": {
    "collapsed": false,
    "deletable": true,
    "editable": true,
    "scrolled": false
   },
   "outputs": [
    {
     "name": "stdout",
     "output_type": "stream",
     "text": [
      "['ＥＸ', 'カード', 'を', '貸す', 'て', 'くださる']\n",
      "id, answer_id, similarity\n",
      "1898961 4730 0.5005889534950256\n",
      "1901294 4678 0.500424861907959\n",
      "1901360 4678 0.49449506402015686\n",
      "1895774 4730 0.49340152740478516\n",
      "1898107 4678 0.4931187033653259\n",
      "1898949 4729 0.49211177229881287\n",
      "1898966 4731 0.49201926589012146\n",
      "1898945 4729 0.49172648787498474\n",
      "1900132 4678 0.49169832468032837\n",
      "1898955 4729 0.4909236431121826\n"
     ]
    }
   ],
   "source": [
    "'''\n",
    "    EXカードを貸してください（正解＝4678）\n",
    "'''\n",
    "corpus, ret = predict('EXカードを貸してください', dm=1)\n",
    "print_predict_result(corpus, ret)"
   ]
  },
  {
   "cell_type": "markdown",
   "metadata": {
    "deletable": true,
    "editable": true
   },
   "source": [
    "正解がない場合はWikiの文書から類似しているものを引っ張り出してくる様です。\n",
    "\n",
    "（Wikiからは、doc id=\"1316\" の「ワンダフルライフ (映画)」というタイトルがついた文書を引っ張ってきています）"
   ]
  },
  {
   "cell_type": "code",
   "execution_count": 42,
   "metadata": {
    "collapsed": false,
    "deletable": true,
    "editable": true,
    "scrolled": true
   },
   "outputs": [
    {
     "name": "stdout",
     "output_type": "stream",
     "text": [
      "['おいしい', 'ラーメン', 'が', '食べる', 'たい', 'です']\n",
      "id, answer_id, similarity\n",
      "1895270 4678 0.19972434639930725\n",
      "1895419 4835 0.18640415370464325\n",
      "1900841 4678 0.18618609011173248\n",
      "1316 ワンダフルライフ (映画) 0.1834898293018341\n",
      "1895388 4835 0.18271973729133606\n",
      "1895642 4712 0.1812029927968979\n",
      "1898110 4678 0.17716899514198303\n",
      "1416 直木三十五賞 0.17708000540733337\n",
      "1898829 4712 0.17440631985664368\n",
      "1898136 4678 0.17416459321975708\n"
     ]
    }
   ],
   "source": [
    "'''\n",
    "    おいしいラーメンが食べたいです（正解＝なし）\n",
    "'''\n",
    "corpus, ret = predict('おいしいラーメンが食べたいです', dm=1)\n",
    "print_predict_result(corpus, ret)"
   ]
  },
  {
   "cell_type": "code",
   "execution_count": 43,
   "metadata": {
    "collapsed": false,
    "deletable": true,
    "editable": true,
    "scrolled": true
   },
   "outputs": [
    {
     "name": "stdout",
     "output_type": "stream",
     "text": [
      "['風邪', 'を', '引く', 'た', '時', 'の', '治療', '薬', 'を', '教える', 'て', 'くださる']\n",
      "id, answer_id, similarity\n",
      "1897454 4678 0.1340162307024002\n",
      "1897445 4678 0.13301610946655273\n",
      "1900641 4678 0.1324583888053894\n",
      "1900632 4678 0.13190717995166779\n",
      "1897439 4678 0.13065944612026215\n",
      "1900626 4678 0.12922430038452148\n",
      "1530 相撲 0.11540471017360687\n",
      "1078 必ずお読み下さい。 0.07361582666635513\n",
      "1314 富士通 0.062489062547683716\n",
      "792 癇癪玉 0.05928400158882141\n"
     ]
    }
   ],
   "source": [
    "'''\n",
    "    無関係な質問をしてみます。\n",
    "'''\n",
    "corpus, ret = predict('風邪を引いた時の治療薬を教えてください', dm=1)\n",
    "print_predict_result(corpus, ret)"
   ]
  },
  {
   "cell_type": "markdown",
   "metadata": {
    "deletable": true,
    "editable": true
   },
   "source": [
    "#### 風邪についての質問\n",
    "\n",
    "Wikiの文書から、doc id=\"329\" の「風邪」というタイトルがついた文書を引っ張ってきています。\n",
    "\n",
    "ただし類似度が一番高いのはマイオペの id=1899583（イヤホンが壊れた）という質問文でした。"
   ]
  },
  {
   "cell_type": "code",
   "execution_count": 44,
   "metadata": {
    "collapsed": false,
    "deletable": true,
    "editable": true,
    "scrolled": true
   },
   "outputs": [
    {
     "name": "stdout",
     "output_type": "stream",
     "text": [
      "['風邪']\n",
      "id, answer_id, similarity\n",
      "1899583 4761 0.41115620732307434\n",
      "329 風邪 0.40796104073524475\n",
      "1901817 4686 0.4034441113471985\n",
      "1897221 4678 0.4000726342201233\n",
      "1900301 4783 0.39073067903518677\n",
      "1901716 4797 0.38969072699546814\n",
      "1898529 4797 0.389523446559906\n",
      "1898966 4731 0.3883591294288635\n",
      "1901979 4678 0.3881809711456299\n",
      "1895516 4692 0.38608691096305847\n"
     ]
    }
   ],
   "source": [
    "'''\n",
    "    Wikiタイトルに近い文言で、Google検索っぽく質問をしてみます。\n",
    "'''\n",
    "corpus, ret = predict('風邪', dm=1)\n",
    "print_predict_result(corpus, ret)"
   ]
  },
  {
   "cell_type": "markdown",
   "metadata": {
    "deletable": true,
    "editable": true
   },
   "source": [
    "#### Wiki 文書の一部から抜粋した文章で予測しましたが、なぜかマイオペの文書が帰ってしまいます。\n",
    "\n",
    "類似度が一番高いのはマイオペの id=1900560（利用者（発送者）を確認できるのでしょうか？）という質問文でした。"
   ]
  },
  {
   "cell_type": "code",
   "execution_count": 45,
   "metadata": {
    "collapsed": false,
    "deletable": true,
    "editable": true
   },
   "outputs": [
    {
     "name": "stdout",
     "output_type": "stream",
     "text": [
      "['漁業', 'に', 'は', 'さまざま', 'だ', '人々', 'が', '関わる', 'て', 'いる', 'が', '漁撈', '活動', 'に', '専業', 'として', '携わる', '者', 'の', 'こと', 'は', '漁師', 'と', 'いう']\n",
      "id, answer_id, similarity\n",
      "1900560 4786 0.4250141978263855\n",
      "1900559 4786 0.41877880692481995\n",
      "1897372 4786 0.41853368282318115\n",
      "1900564 4786 0.40057089924812317\n",
      "1899109 4678 0.3985738754272461\n",
      "1897373 4786 0.3980163335800171\n",
      "1899106 4678 0.39679884910583496\n",
      "1900563 4786 0.3912838101387024\n",
      "1899938 4678 0.389983594417572\n",
      "1900292 4783 0.3876217007637024\n"
     ]
    }
   ],
   "source": [
    "'''\n",
    "    Wiki本文に近い文言で、質問をしてみます。\n",
    "'''\n",
    "wiki_like_sentence = '''漁業にはさまざまな人々が関わっているが、漁撈活動に専業として携わる者のことは漁師という。\n",
    "'''\n",
    "corpus, ret = predict(wiki_like_sentence, dm=1)\n",
    "print_predict_result(corpus, ret)"
   ]
  }
 ],
 "metadata": {
  "kernelspec": {
   "display_name": "Python 3",
   "language": "python",
   "name": "python3"
  },
  "language_info": {
   "codemirror_mode": {
    "name": "ipython",
    "version": 3
   },
   "file_extension": ".py",
   "mimetype": "text/x-python",
   "name": "python",
   "nbconvert_exporter": "python",
   "pygments_lexer": "ipython3",
   "version": "3.5.2"
  }
 },
 "nbformat": 4,
 "nbformat_minor": 2
}
