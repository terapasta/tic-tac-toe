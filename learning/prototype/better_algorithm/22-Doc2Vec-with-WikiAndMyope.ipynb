{
 "cells": [
  {
   "cell_type": "markdown",
   "metadata": {
    "deletable": true,
    "editable": true
   },
   "source": [
    "# Doc2VecでWikipedia文書を使用し、マイオペのデータで予測\n",
    "\n",
    "巨大コーパスをもつWiki文書の一部を使用して、Wiki文書でボキャブラリを作成し、マイオペの学習セットで学習／予測させます。\n",
    "\n",
    "PV-DBOW手法であれば、マイオペの学習セットを混ぜて学習させることで、マイオペのデータでも予測ができることが確認できました。"
   ]
  },
  {
   "cell_type": "markdown",
   "metadata": {
    "deletable": true,
    "editable": true
   },
   "source": [
    "## (1) Wikipediaコンテンツファイルから全文書を抽出"
   ]
  },
  {
   "cell_type": "markdown",
   "metadata": {
    "deletable": true,
    "editable": true
   },
   "source": [
    "<a href=\"31-Wikipedia-contents-csv.ipynb\"><b>こちらの手順</b></a> にて、いったんローカルPCにCSVファイル化しておきます。\n",
    "\n"
   ]
  },
  {
   "cell_type": "markdown",
   "metadata": {
    "deletable": true,
    "editable": true
   },
   "source": [
    "## (2) TaggedDocumentを生成"
   ]
  },
  {
   "cell_type": "markdown",
   "metadata": {
    "deletable": true,
    "editable": true
   },
   "source": [
    "### (2-1) Wikipedia文書のTaggedDocumentを生成"
   ]
  },
  {
   "cell_type": "markdown",
   "metadata": {
    "deletable": true,
    "editable": true
   },
   "source": [
    "Wikipedia文書のCSVファイルからデータフレームを読み込み、TaggedDocumentに変換します。"
   ]
  },
  {
   "cell_type": "code",
   "execution_count": 1,
   "metadata": {
    "collapsed": true,
    "deletable": true,
    "editable": true
   },
   "outputs": [],
   "source": [
    "'''\n",
    "    環境準備\n",
    "'''\n",
    "import sys\n",
    "import os\n",
    "\n",
    "import numpy as np\n",
    "import pandas as pd\n",
    " \n",
    "learning_dir = os.path.abspath(\"../../\") #<--- donusagi-bot/learning\n",
    "os.chdir(learning_dir)\n",
    "if learning_dir not in sys.path:\n",
    "    sys.path.append(learning_dir)"
   ]
  },
  {
   "cell_type": "code",
   "execution_count": 2,
   "metadata": {
    "collapsed": true,
    "deletable": true,
    "editable": true
   },
   "outputs": [],
   "source": [
    "import MeCab\n",
    "import mojimoji\n",
    "\n",
    "class Nlang_naive:\n",
    "    @classmethod\n",
    "    def split(self, text):\n",
    "        tagger = MeCab.Tagger(\"-u learning/dict/custom.dic\")\n",
    "        tagger.parse('')  # node.surfaceを取得出来るようにするため、空文字をparseする(Python3のバグの模様)\n",
    "        node = tagger.parseToNode(text)\n",
    "        word_list = []\n",
    "        while node:\n",
    "            features = node.feature.split(\",\")\n",
    "            pos = features[0]\n",
    "            if pos in [\"BOS/EOS\", \"記号\"]:\n",
    "                node = node.next\n",
    "                continue\n",
    "\n",
    "            #print(features)\n",
    "            lemma = node.feature.split(\",\")[6]\n",
    "\n",
    "            if lemma == \"*\":\n",
    "                lemma = node.surface  #.decode(\"utf-8\")\n",
    "                \n",
    "            word_list.append(mojimoji.han_to_zen(lemma))\n",
    "            node = node.next\n",
    "        return \" \".join(word_list)\n",
    "\n",
    "    @classmethod\n",
    "    def batch_split(self, texts):\n",
    "        splited_texts = []\n",
    "        for text in texts:\n",
    "            splited_texts.append(self.split(text))\n",
    "        return splited_texts"
   ]
  },
  {
   "cell_type": "code",
   "execution_count": 3,
   "metadata": {
    "collapsed": false,
    "deletable": true,
    "editable": true
   },
   "outputs": [],
   "source": [
    "from gensim.models.doc2vec import TaggedDocument\n",
    "# from learning.core.nlang import Nlang\n",
    "\n",
    "def get_tagged_document_list(wiki_ids, wiki_contents):\n",
    "    '''\n",
    "        タグとコーパスをTaggedDocumentに設定\n",
    "    '''\n",
    "    tagged_document_list = []\n",
    "\n",
    "    for index, _ in enumerate(wiki_ids):\n",
    "        tag = wiki_ids[index]\n",
    "        sentences = wiki_contents[index]\n",
    "\n",
    "        # 品詞は落とさない様にする\n",
    "        separated_sentences = Nlang_naive.split(sentences)\n",
    "        words = separated_sentences.split()\n",
    "        tagged_document_list.append(TaggedDocument(words=words, tags=[tag]))\n",
    "        \n",
    "    return tagged_document_list"
   ]
  },
  {
   "cell_type": "code",
   "execution_count": 4,
   "metadata": {
    "collapsed": false,
    "deletable": true,
    "editable": true
   },
   "outputs": [],
   "source": [
    "'''\n",
    "    Wikipedia文書から生成されたCSVを読み込み、\n",
    "    配列を生成する\n",
    "'''\n",
    "extracted_dir_path = '/Users/makmorit/Documents/Development/Wikipedia/extracted'\n",
    "csv_file_name = os.path.join(extracted_dir_path, 'Wikipedia-content.csv')\n",
    "df = pd.read_csv(csv_file_name)\n",
    "\n",
    "_wiki_ids = np.array(df['id'])\n",
    "_wiki_titles = np.array(df['title'])\n",
    "_wiki_contents = np.array(df['content'])"
   ]
  },
  {
   "cell_type": "code",
   "execution_count": 5,
   "metadata": {
    "collapsed": false,
    "deletable": true,
    "editable": true
   },
   "outputs": [],
   "source": [
    "'''\n",
    "    時間がかかるので一部のみ使用します（全量＝100万件）\n",
    "'''\n",
    "partial_cnt = 1000\n",
    "\n",
    "wiki_ids = _wiki_ids[0:partial_cnt]\n",
    "wiki_contents = _wiki_contents[0:partial_cnt]"
   ]
  },
  {
   "cell_type": "code",
   "execution_count": 6,
   "metadata": {
    "collapsed": false,
    "deletable": true,
    "editable": true,
    "scrolled": true
   },
   "outputs": [],
   "source": [
    "wiki_tagged_document_list = get_tagged_document_list(wiki_ids, wiki_contents)"
   ]
  },
  {
   "cell_type": "code",
   "execution_count": 7,
   "metadata": {
    "collapsed": false,
    "deletable": true,
    "editable": true,
    "scrolled": false
   },
   "outputs": [
    {
     "data": {
      "text/plain": [
       "1000"
      ]
     },
     "execution_count": 7,
     "metadata": {},
     "output_type": "execute_result"
    }
   ],
   "source": [
    "len(wiki_tagged_document_list)"
   ]
  },
  {
   "cell_type": "markdown",
   "metadata": {
    "deletable": true,
    "editable": true
   },
   "source": [
    "### (2-2) マイオペ文書のTaggedDocumentを生成"
   ]
  },
  {
   "cell_type": "code",
   "execution_count": 9,
   "metadata": {
    "collapsed": true,
    "deletable": true,
    "editable": true
   },
   "outputs": [],
   "source": [
    "import numpy as np\n",
    "\n",
    "from learning.core.learn.learning_parameter import LearningParameter\n",
    "from learning.core.datasource import Datasource\n",
    "\n",
    "_bot_id = 11 # benefitone.csv\n",
    "attr = {\n",
    "    'include_failed_data': False,\n",
    "    'include_tag_vector': False,\n",
    "    'classify_threshold': 0.5,\n",
    "    'algorithm': LearningParameter.ALGORITHM_LOGISTIC_REGRESSION,\n",
    "    'params_for_algorithm': {'C': 140},\n",
    "    'excluded_labels_for_fitting': None\n",
    "}\n",
    "learning_parameter = LearningParameter(attr)"
   ]
  },
  {
   "cell_type": "code",
   "execution_count": 10,
   "metadata": {
    "collapsed": false,
    "deletable": true,
    "editable": true,
    "scrolled": true
   },
   "outputs": [
    {
     "name": "stderr",
     "output_type": "stream",
     "text": [
      "2017/05/26 AM 10:12:51 ['./fixtures/learning_training_messages/benefitone.csv', './fixtures/learning_training_messages/ptna.csv', './fixtures/learning_training_messages/septeni.csv', './fixtures/learning_training_messages/toyotsu_human.csv']\n",
      "2017/05/26 AM 10:12:51 ['./fixtures/question_answers/toyotsu_human.csv']\n"
     ]
    }
   ],
   "source": [
    "'''\n",
    "    マイオペの学習セットを取得\n",
    "'''\n",
    "_datasource = Datasource(type='csv')\n",
    "learning_training_messages = _datasource.learning_training_messages(_bot_id)\n",
    "questions = np.array(learning_training_messages['question'])\n",
    "answer_ids = np.array(learning_training_messages['answer_id'])\n",
    "ids = np.array(learning_training_messages['id'])"
   ]
  },
  {
   "cell_type": "code",
   "execution_count": 22,
   "metadata": {
    "collapsed": false,
    "deletable": true,
    "editable": true,
    "scrolled": true
   },
   "outputs": [],
   "source": [
    "'''\n",
    "    既存セットの否定の意味を持つトレーニングセットを追加します。\n",
    "    例）\n",
    "    　「契約書を見たいのですが（正解＝4683）」\n",
    "    　に対して、否定の意味を持つセットは下記の通り。\n",
    "    　'契約書を確認したくないのですが'\n",
    "    　'契約書を確認したくない'\n",
    "    　'契約書を閲覧したくない'\n",
    "    　'契約書が見たくないのですが、どこにありますか？'\n",
    "    　'契約書が見たくない'\n",
    "'''\n",
    "questions_nega = np.array([\n",
    "    '契約書を確認したくないのですが',\n",
    "    '契約書を確認したくない',\n",
    "    '契約書を閲覧したくない',\n",
    "    '契約書が見たくないのですが、どこにありますか？',\n",
    "    '契約書が見たくない'\n",
    "])\n",
    "questions = np.append(questions, questions_nega)"
   ]
  },
  {
   "cell_type": "code",
   "execution_count": 24,
   "metadata": {
    "collapsed": false,
    "deletable": true,
    "editable": true
   },
   "outputs": [],
   "source": [
    "answer_ids_nega = np.array([\n",
    "    5500,\n",
    "    5500,\n",
    "    5500,\n",
    "    5500,\n",
    "    5500\n",
    "])\n",
    "answer_ids = np.append(answer_ids, answer_ids_nega)"
   ]
  },
  {
   "cell_type": "code",
   "execution_count": 25,
   "metadata": {
    "collapsed": false,
    "deletable": true,
    "editable": true,
    "scrolled": true
   },
   "outputs": [],
   "source": [
    "ids_nega = np.array([\n",
    "    1903000,\n",
    "    1903001,\n",
    "    1903002,\n",
    "    1903003,\n",
    "    1903004\n",
    "])\n",
    "ids = np.append(ids, ids_nega)"
   ]
  },
  {
   "cell_type": "code",
   "execution_count": 26,
   "metadata": {
    "collapsed": false,
    "deletable": true,
    "editable": true
   },
   "outputs": [
    {
     "name": "stdout",
     "output_type": "stream",
     "text": [
      "count: questions=7088, answer_ids=7088 (class count=89), ids=7088\n"
     ]
    }
   ],
   "source": [
    "'''\n",
    "    正しく要素が追加されたかどうかチェックします。\n",
    "'''\n",
    "print('count: questions=%d, answer_ids=%d (class count=%d), ids=%d' % (\n",
    "    np.size(questions), np.size(answer_ids), np.size(np.unique(answer_ids)), np.size(ids)\n",
    "))"
   ]
  },
  {
   "cell_type": "code",
   "execution_count": 27,
   "metadata": {
    "collapsed": false,
    "deletable": true,
    "editable": true,
    "scrolled": true
   },
   "outputs": [
    {
     "data": {
      "text/plain": [
       "7088"
      ]
     },
     "execution_count": 27,
     "metadata": {},
     "output_type": "execute_result"
    }
   ],
   "source": [
    "'''\n",
    "    マイオペの学習セットから、コーパスを生成\n",
    "    \n",
    "    タグとして、learning_training_messages.id を付与\n",
    "'''\n",
    "myope_tagged_document_list = get_tagged_document_list(ids, questions)\n",
    "len(myope_tagged_document_list)"
   ]
  },
  {
   "cell_type": "markdown",
   "metadata": {
    "deletable": true,
    "editable": true
   },
   "source": [
    "### (2-2) Wikipedia文書とマイオペ文書の、両方のTaggedDocumentを合体させる"
   ]
  },
  {
   "cell_type": "code",
   "execution_count": 28,
   "metadata": {
    "collapsed": true,
    "deletable": true,
    "editable": true
   },
   "outputs": [],
   "source": [
    "all_tagged_document_list = []\n",
    "all_tagged_document_list.extend(wiki_tagged_document_list)\n",
    "all_tagged_document_list.extend(myope_tagged_document_list)"
   ]
  },
  {
   "cell_type": "code",
   "execution_count": 29,
   "metadata": {
    "collapsed": false,
    "deletable": true,
    "editable": true,
    "scrolled": false
   },
   "outputs": [
    {
     "data": {
      "text/plain": [
       "8088"
      ]
     },
     "execution_count": 29,
     "metadata": {},
     "output_type": "execute_result"
    }
   ],
   "source": [
    "len(all_tagged_document_list)"
   ]
  },
  {
   "cell_type": "markdown",
   "metadata": {
    "deletable": true,
    "editable": true
   },
   "source": [
    "## (3) 学習実行"
   ]
  },
  {
   "cell_type": "markdown",
   "metadata": {
    "deletable": true,
    "editable": true
   },
   "source": [
    "### (3-1) TaggedDocumentをインプットとして学習"
   ]
  },
  {
   "cell_type": "code",
   "execution_count": 30,
   "metadata": {
    "collapsed": false,
    "deletable": true,
    "editable": true
   },
   "outputs": [],
   "source": [
    "from gensim.models.doc2vec import Doc2Vec\n",
    "\n",
    "def doc2vec_model_path(dm):\n",
    "    model_path = 'prototype/better_algorithm/doc2vec.wikipedia.PV%d.model' % dm\n",
    "    return model_path\n",
    "\n",
    "def build_vocabulary(tagged_document_list, dm=0, size=100):\n",
    "    '''\n",
    "        tagged_document_listは、\n",
    "        Wikipedia文書のタグ付きコーパス\n",
    "        (前述のtagged_document)が収容されたリスト。\n",
    "\n",
    "        これを引数にして、\n",
    "        ボキャブラリ生成を実行します。\n",
    "        \n",
    "        dm=0でPV-DBOW、dm=1でPV-DMにより実行します。\n",
    "    '''\n",
    "    model = Doc2Vec(dm=dm, size=size, min_count=1, iter=size*10)\n",
    "    model.build_vocab(tagged_document_list)\n",
    "\n",
    "    # 学習モデルは、ファイルに保存しておく\n",
    "    model.save(doc2vec_model_path(dm))\n",
    "    print('build_vocabulary: model saved temporary')\n",
    "\n",
    "    return model\n",
    "\n",
    "def train(model, tagged_document_list, dm=0):\n",
    "    '''\n",
    "        tagged_documentが収容されたリストを引数にして、\n",
    "        学習を実行します。\n",
    "        \n",
    "        dm=0でPV-DBOW、dm=1でPV-DMにより実行します。\n",
    "        （今回は比較のため、両方で試す）\n",
    "    '''\n",
    "    ret = model.train(tagged_document_list)\n",
    "\n",
    "    # 学習モデルは、ファイルに保存しておく\n",
    "    model.save(doc2vec_model_path(dm))\n",
    "    print('train: document vector size=%d, return=%d' % (len(model.docvecs), ret))\n",
    "\n",
    "    return ret"
   ]
  },
  {
   "cell_type": "code",
   "execution_count": 31,
   "metadata": {
    "collapsed": false,
    "deletable": true,
    "editable": true
   },
   "outputs": [
    {
     "name": "stdout",
     "output_type": "stream",
     "text": [
      "build_vocabulary: model saved temporary\n"
     ]
    }
   ],
   "source": [
    "'''\n",
    "    tagged_document_listを使用し、学習実行（PV-DBOW）\n",
    "'''\n",
    "model_dbow = build_vocabulary(all_tagged_document_list, dm=0, size=200)"
   ]
  },
  {
   "cell_type": "code",
   "execution_count": 32,
   "metadata": {
    "collapsed": false,
    "deletable": true,
    "editable": true,
    "scrolled": false
   },
   "outputs": [
    {
     "name": "stdout",
     "output_type": "stream",
     "text": [
      "train: document vector size=8088, return=2472743229\n"
     ]
    },
    {
     "data": {
      "text/plain": [
       "2472743229"
      ]
     },
     "execution_count": 32,
     "metadata": {},
     "output_type": "execute_result"
    }
   ],
   "source": [
    "train(model_dbow, all_tagged_document_list, dm=0) "
   ]
  },
  {
   "cell_type": "code",
   "execution_count": 42,
   "metadata": {
    "collapsed": false,
    "deletable": true,
    "editable": true
   },
   "outputs": [
    {
     "name": "stdout",
     "output_type": "stream",
     "text": [
      "build_vocabulary: model saved temporary\n"
     ]
    }
   ],
   "source": [
    "'''\n",
    "    tagged_document_listを使用し、学習実行（PV-DM）\n",
    "'''\n",
    "model_dm = build_vocabulary(all_tagged_document_list, dm=1, size=200)"
   ]
  },
  {
   "cell_type": "code",
   "execution_count": 43,
   "metadata": {
    "collapsed": false,
    "deletable": true,
    "editable": true
   },
   "outputs": [
    {
     "name": "stdout",
     "output_type": "stream",
     "text": [
      "train: document vector size=8088, return=2472729001\n"
     ]
    },
    {
     "data": {
      "text/plain": [
       "2472729001"
      ]
     },
     "execution_count": 43,
     "metadata": {},
     "output_type": "execute_result"
    }
   ],
   "source": [
    "train(model_dm, all_tagged_document_list, dm=1) "
   ]
  },
  {
   "cell_type": "markdown",
   "metadata": {
    "deletable": true,
    "editable": true
   },
   "source": [
    "## (3) 予測実行"
   ]
  },
  {
   "cell_type": "markdown",
   "metadata": {
    "deletable": true,
    "editable": true
   },
   "source": [
    "作成されたモデルを使用して予測を実行する関数になります。"
   ]
  },
  {
   "cell_type": "code",
   "execution_count": 33,
   "metadata": {
    "collapsed": true,
    "deletable": true,
    "editable": true
   },
   "outputs": [],
   "source": [
    "from gensim import models\n",
    "\n",
    "def predict(word, dm=0):\n",
    "    '''\n",
    "        予測処理にかけるコーパスを生成\n",
    "        （学習セット作成時と同じ関数を使用）\n",
    "    '''\n",
    "    corpus = Nlang_naive.split(word).split()\n",
    "\n",
    "    '''\n",
    "        コーパスからベクトルを生成し、\n",
    "        ロードしたモデルから類似ベクトルを検索\n",
    "    '''\n",
    "    loaded_model = models.Doc2Vec.load(doc2vec_model_path(dm))\n",
    "    inferred_vector = loaded_model.infer_vector(corpus)\n",
    "    ret = loaded_model.docvecs.most_similar([inferred_vector])\n",
    "\n",
    "    return corpus, ret\n",
    "\n",
    "def get_title_from_tag(tag):\n",
    "    '''\n",
    "        tag に対応するWikipediaのタイトルを取得。\n",
    "\n",
    "        ただし、合致したものがなければ、\n",
    "        マイオペの id と判断し、\n",
    "        id に対応する answer_id を取得する。\n",
    "    '''\n",
    "    for index, _ in enumerate(wiki_ids):\n",
    "        if wiki_ids[index] == tag:\n",
    "            return _wiki_titles[index]\n",
    "\n",
    "    for index, _ in enumerate(ids):\n",
    "        if ids[index] == tag:\n",
    "            return answer_ids[index]\n",
    "        \n",
    "    return None\n",
    "\n",
    "def print_predict_result(corpus, similarities):\n",
    "    print(corpus)\n",
    "    print(\"id, answer_id, similarity\")\n",
    "\n",
    "    for tag, similarity in similarities:\n",
    "        print(tag, get_title_from_tag(tag), similarity)"
   ]
  },
  {
   "cell_type": "markdown",
   "metadata": {
    "deletable": true,
    "editable": true
   },
   "source": [
    "### (3-1) 適当な質問文で予測（PV-DBOW)"
   ]
  },
  {
   "cell_type": "markdown",
   "metadata": {
    "deletable": true,
    "editable": true
   },
   "source": [
    "#### 正解があるものは高めの類似度を示します"
   ]
  },
  {
   "cell_type": "code",
   "execution_count": 34,
   "metadata": {
    "collapsed": false,
    "deletable": true,
    "editable": true,
    "scrolled": false
   },
   "outputs": [
    {
     "name": "stdout",
     "output_type": "stream",
     "text": [
      "['契約', '書', 'を', '見る', 'たい', 'の', 'です', 'が']\n",
      "id, answer_id, similarity\n",
      "1898658 4683 0.6546140909194946\n",
      "1895471 4683 0.6474508047103882\n",
      "1901816 4683 0.636380672454834\n",
      "1895051 4683 0.5945093631744385\n",
      "1898648 4683 0.5925205945968628\n",
      "1895461 4683 0.5893855094909668\n",
      "1903004 5500 0.5828196406364441\n",
      "1898656 4683 0.5741859674453735\n",
      "1895466 4683 0.5703336000442505\n",
      "1895469 4683 0.5700043439865112\n"
     ]
    }
   ],
   "source": [
    "'''\n",
    "    契約書を見たいのですが（正解＝4683）\n",
    "'''\n",
    "corpus, ret = predict('契約書を見たいのですが', dm=0)\n",
    "print_predict_result(corpus, ret)"
   ]
  },
  {
   "cell_type": "code",
   "execution_count": 35,
   "metadata": {
    "collapsed": false,
    "deletable": true,
    "editable": true,
    "scrolled": false
   },
   "outputs": [
    {
     "name": "stdout",
     "output_type": "stream",
     "text": [
      "['ＥＸ', 'カード', 'を', '貸す', 'て', 'くださる']\n",
      "id, answer_id, similarity\n",
      "1899813 4678 0.7427541613578796\n",
      "1896626 4678 0.7213946580886841\n",
      "1898215 4678 0.7042893171310425\n",
      "1901396 4678 0.7013541460037231\n",
      "1901402 4678 0.7011991143226624\n",
      "1898209 4678 0.693244457244873\n",
      "1899807 4678 0.676848292350769\n",
      "1896087 4742 0.654140830039978\n",
      "1899274 4742 0.6531285643577576\n",
      "1901397 4678 0.6529818177223206\n"
     ]
    }
   ],
   "source": [
    "'''\n",
    "    EXカードを貸してください（正解＝4678）\n",
    "'''\n",
    "corpus, ret = predict('EXカードを貸してください', dm=0)\n",
    "print_predict_result(corpus, ret)"
   ]
  },
  {
   "cell_type": "code",
   "execution_count": 36,
   "metadata": {
    "collapsed": false,
    "deletable": true,
    "editable": true,
    "scrolled": false
   },
   "outputs": [
    {
     "name": "stdout",
     "output_type": "stream",
     "text": [
      "['契約', '書', 'を', '見せる', 'たい', 'ない', 'の', 'です', 'が']\n",
      "id, answer_id, similarity\n",
      "1903000 5500 0.5620639324188232\n",
      "1895470 4683 0.5539571642875671\n",
      "1898648 4683 0.5516992807388306\n",
      "1898658 4683 0.5513678789138794\n",
      "1898656 4683 0.5484150648117065\n",
      "1895466 4683 0.5476746559143066\n",
      "1898654 4683 0.5464545488357544\n",
      "1895469 4683 0.5444513559341431\n",
      "1895461 4683 0.5439090728759766\n",
      "1898653 4683 0.5425601601600647\n"
     ]
    }
   ],
   "source": [
    "'''\n",
    "    正解に、肯定＋否定のデータセットがあるもの ---> 否定の品詞を落とさない効果が出た様子。\n",
    "    \n",
    "    （「契約書を見たいのですが」の正解＝4683、否定データセットの正解＝5500）\n",
    "'''\n",
    "corpus, ret = predict('契約書を見せたくないのですが', dm=0)\n",
    "print_predict_result(corpus, ret)"
   ]
  },
  {
   "cell_type": "markdown",
   "metadata": {
    "deletable": true,
    "editable": true
   },
   "source": [
    "#### 正解があるものについて、言い回しを変えてみます。\n",
    "\n",
    "想定される結果からは、かけ離れたものになってしまいます。\n",
    "\n",
    "ちなみに id=\"1902121\" の文書は「メーリングリストを作成したい」\n",
    "\n",
    "（「作成」と「したい」にかかっているものと考えられます）"
   ]
  },
  {
   "cell_type": "code",
   "execution_count": 37,
   "metadata": {
    "collapsed": false,
    "deletable": true,
    "editable": true,
    "scrolled": false
   },
   "outputs": [
    {
     "name": "stdout",
     "output_type": "stream",
     "text": [
      "['契約', 'を', '結ぶ', 'だ', '時', 'に', '作成', 'する', 'れる', '文書', 'を', '確認', 'する', 'たい']\n",
      "id, answer_id, similarity\n",
      "1902121 4797 0.5602943897247314\n",
      "1895356 4797 0.5598479509353638\n",
      "1901225 4678 0.5534567832946777\n",
      "1895466 4683 0.5527678728103638\n",
      "1901231 4678 0.5504263639450073\n",
      "1898656 4683 0.5500228404998779\n",
      "1895469 4683 0.5491943359375\n",
      "1898653 4683 0.5456653833389282\n",
      "1900660 4678 0.5446206331253052\n",
      "1900376 4678 0.5444127321243286\n"
     ]
    }
   ],
   "source": [
    "'''\n",
    "    正解の別な言い回し（教師データにない）---> 別の答えが返ってきてしまう\n",
    "\n",
    "    （「契約書を見たいのですが」の正解＝4683）\n",
    "'''\n",
    "corpus, ret = predict('契約を結んだ時に作成される文書を確認したい', dm=0)\n",
    "print_predict_result(corpus, ret)"
   ]
  },
  {
   "cell_type": "markdown",
   "metadata": {
    "deletable": true,
    "editable": true
   },
   "source": [
    "#### 正解がないものは低めの類似度を示します"
   ]
  },
  {
   "cell_type": "code",
   "execution_count": 38,
   "metadata": {
    "collapsed": false,
    "deletable": true,
    "editable": true,
    "scrolled": true
   },
   "outputs": [
    {
     "name": "stdout",
     "output_type": "stream",
     "text": [
      "['おいしい', 'ラーメン', 'が', '食べる', 'たい', 'です']\n",
      "id, answer_id, similarity\n",
      "1900006 4678 0.5084030628204346\n",
      "1896819 4678 0.4991321563720703\n",
      "1900001 4678 0.49748605489730835\n",
      "1896814 4678 0.49560075998306274\n",
      "1897410 4678 0.4940197467803955\n",
      "1900597 4678 0.4930015504360199\n",
      "1900290 4783 0.49278855323791504\n",
      "1897103 4783 0.48947274684906006\n",
      "1897112 4783 0.4881078600883484\n",
      "1900018 4678 0.48769503831863403\n"
     ]
    }
   ],
   "source": [
    "'''\n",
    "    おいしいラーメンが食べたいです（正解＝なし）\n",
    "'''\n",
    "corpus, ret = predict('おいしいラーメンが食べたいです', dm=0)\n",
    "print_predict_result(corpus, ret)"
   ]
  },
  {
   "cell_type": "code",
   "execution_count": 39,
   "metadata": {
    "collapsed": false,
    "deletable": true,
    "editable": true,
    "scrolled": true
   },
   "outputs": [
    {
     "name": "stdout",
     "output_type": "stream",
     "text": [
      "['風邪', 'を', '引く', 'た', '時', 'の', '治療', '薬', 'を', '教える', 'て', 'くださる']\n",
      "id, answer_id, similarity\n",
      "1895436 4677 0.5153379440307617\n",
      "1898670 4686 0.5125332474708557\n",
      "1898623 4677 0.510613203048706\n",
      "1895483 4686 0.5096703171730042\n",
      "1895470 4683 0.4902334213256836\n",
      "1898389 4798 0.48658186197280884\n",
      "1898657 4683 0.48633667826652527\n",
      "1898617 4677 0.4823513627052307\n",
      "1895430 4677 0.4786865711212158\n",
      "1896030 4678 0.47626757621765137\n"
     ]
    }
   ],
   "source": [
    "'''\n",
    "    無関係な質問をしてみます。\n",
    "'''\n",
    "corpus, ret = predict('風邪を引いた時の治療薬を教えてください', dm=0)\n",
    "print_predict_result(corpus, ret)"
   ]
  },
  {
   "cell_type": "markdown",
   "metadata": {
    "deletable": true,
    "editable": true
   },
   "source": [
    "#### マイオペとは無関係な、Wikipedia文書に関するデータの予測\n",
    "\n",
    "なぜか、マイオペの文書が帰ってきてしまいます。ただし類似度は低めです。\n",
    "\n",
    "類似度が一番高いのはマイオペの id=1900198（洗剤をください。）という質問文でした。"
   ]
  },
  {
   "cell_type": "code",
   "execution_count": 40,
   "metadata": {
    "collapsed": false,
    "deletable": true,
    "editable": true,
    "scrolled": true
   },
   "outputs": [
    {
     "name": "stdout",
     "output_type": "stream",
     "text": [
      "['風邪']\n",
      "id, answer_id, similarity\n",
      "1900198 4678 0.5264950394630432\n",
      "1897011 4678 0.5087937116622925\n",
      "1899852 4678 0.5072660446166992\n",
      "1899858 4678 0.5061943531036377\n",
      "1900306 4678 0.50048828125\n",
      "1899864 4678 0.4985775947570801\n",
      "1900232 4678 0.4971644878387451\n",
      "1897008 4678 0.49680688977241516\n",
      "1900195 4678 0.4957461357116699\n",
      "1897045 4678 0.493877112865448\n"
     ]
    }
   ],
   "source": [
    "'''\n",
    "    Wikiタイトルに近い文言で、Google検索っぽく質問をしてみます。\n",
    "'''\n",
    "corpus, ret = predict('風邪', dm=0)\n",
    "print_predict_result(corpus, ret)"
   ]
  },
  {
   "cell_type": "markdown",
   "metadata": {
    "deletable": true,
    "editable": true
   },
   "source": [
    "#### Wiki 文書の一部から抜粋した文章で予測\n",
    "\n",
    "なぜか、マイオペの文書が帰ってきてしまいます。ただし類似度は低めです。\n",
    "\n",
    "類似度が一番高いのはマイオペの id=1899983（紐が見当たりません。）という質問文でした。"
   ]
  },
  {
   "cell_type": "code",
   "execution_count": 41,
   "metadata": {
    "collapsed": false,
    "deletable": true,
    "editable": true
   },
   "outputs": [
    {
     "name": "stdout",
     "output_type": "stream",
     "text": [
      "['漁業', 'に', 'は', 'さまざま', 'だ', '人々', 'が', '関わる', 'て', 'いる', 'が', '漁撈', '活動', 'に', '専業', 'として', '携わる', '者', 'の', 'こと', 'は', '漁師', 'と', 'いう']\n",
      "id, answer_id, similarity\n",
      "1899983 4678 0.4190804362297058\n",
      "1898176 4678 0.4167530834674835\n",
      "1901363 4678 0.41559410095214844\n",
      "1900217 4678 0.41466325521469116\n",
      "1899433 4751 0.4121313691139221\n",
      "1899869 4678 0.4113248586654663\n",
      "1902069 4678 0.41029930114746094\n",
      "1899863 4678 0.40991640090942383\n",
      "1899982 4678 0.40940573811531067\n",
      "1901360 4678 0.4093107581138611\n"
     ]
    }
   ],
   "source": [
    "'''\n",
    "    Wiki本文に近い文言で、質問をしてみます。\n",
    "'''\n",
    "wiki_like_sentence = '''漁業にはさまざまな人々が関わっているが、漁撈活動に専業として携わる者のことは漁師という。\n",
    "'''\n",
    "corpus, ret = predict(wiki_like_sentence, dm=0)\n",
    "print_predict_result(corpus, ret)"
   ]
  },
  {
   "cell_type": "markdown",
   "metadata": {
    "deletable": true,
    "editable": true
   },
   "source": [
    "### (3-2) 適当な質問文で予測（PV-DM)"
   ]
  },
  {
   "cell_type": "markdown",
   "metadata": {
    "deletable": true,
    "editable": true
   },
   "source": [
    "#### 正解があるもの\n",
    "\n",
    "最初の質問に対しては誤答されてしまいます（id=\"1901615\" は「動画を見たい」）"
   ]
  },
  {
   "cell_type": "code",
   "execution_count": 44,
   "metadata": {
    "collapsed": false,
    "deletable": true,
    "editable": true,
    "scrolled": false
   },
   "outputs": [
    {
     "name": "stdout",
     "output_type": "stream",
     "text": [
      "['契約', '書', 'を', '見る', 'たい', 'の', 'です', 'が']\n",
      "id, answer_id, similarity\n",
      "1901615 4808 0.6618736982345581\n",
      "1898428 4808 0.6436389088630676\n",
      "1901931 4781 0.6276744604110718\n",
      "1901816 4683 0.6150595545768738\n",
      "1899889 4678 0.6101311445236206\n",
      "1900435 4678 0.6081597805023193\n",
      "1901870 4678 0.6015615463256836\n",
      "1900367 4678 0.6012057065963745\n",
      "1898658 4683 0.599880576133728\n",
      "1899786 4781 0.5995423793792725\n"
     ]
    }
   ],
   "source": [
    "'''\n",
    "    契約書を見たいのですが（正解＝4683）\n",
    "'''\n",
    "corpus, ret = predict('契約書を見たいのですが', dm=1)\n",
    "print_predict_result(corpus, ret)"
   ]
  },
  {
   "cell_type": "markdown",
   "metadata": {
    "deletable": true,
    "editable": true
   },
   "source": [
    "こちらはかろうじて正解でした。ただし類似度は低いです。"
   ]
  },
  {
   "cell_type": "code",
   "execution_count": 45,
   "metadata": {
    "collapsed": false,
    "deletable": true,
    "editable": true,
    "scrolled": true
   },
   "outputs": [
    {
     "name": "stdout",
     "output_type": "stream",
     "text": [
      "['ＥＸ', 'カード', 'を', '貸す', 'て', 'くださる']\n",
      "id, answer_id, similarity\n",
      "1901053 4678 0.5373465418815613\n",
      "1901148 4678 0.5133180022239685\n",
      "1899051 4733 0.5031865239143372\n",
      "1900493 4678 0.5002593994140625\n",
      "1899667 4678 0.49830618500709534\n",
      "1899664 4678 0.49728626012802124\n",
      "1899039 4678 0.49396175146102905\n",
      "1902072 4678 0.4921454191207886\n",
      "1902095 4804 0.4878588914871216\n",
      "1899072 4678 0.48723965883255005\n"
     ]
    }
   ],
   "source": [
    "'''\n",
    "    EXカードを貸してください（正解＝4678）\n",
    "'''\n",
    "corpus, ret = predict('EXカードを貸してください', dm=1)\n",
    "print_predict_result(corpus, ret)"
   ]
  },
  {
   "cell_type": "markdown",
   "metadata": {
    "deletable": true,
    "editable": true
   },
   "source": [
    "こちらは正解できませんでした。（id=\"1898709\" は「小口申請をしたいのですが」）"
   ]
  },
  {
   "cell_type": "code",
   "execution_count": 46,
   "metadata": {
    "collapsed": false,
    "deletable": true,
    "editable": true,
    "scrolled": true
   },
   "outputs": [
    {
     "name": "stdout",
     "output_type": "stream",
     "text": [
      "['契約', '書', 'を', '見せる', 'たい', 'ない', 'の', 'です', 'が']\n",
      "id, answer_id, similarity\n",
      "1898709 4692 0.5587493181228638\n",
      "1898448 4808 0.5576707720756531\n",
      "1901635 4808 0.5570188760757446\n",
      "1901831 4710 0.5560088157653809\n",
      "1899540 4678 0.5535436868667603\n",
      "1901281 4678 0.5519620180130005\n",
      "1899560 4678 0.5486915707588196\n",
      "1899603 4678 0.5460902452468872\n",
      "1896373 4678 0.532397449016571\n",
      "1895522 4692 0.531071662902832\n"
     ]
    }
   ],
   "source": [
    "'''\n",
    "    正解に、肯定＋否定のデータセットがあるもの\n",
    "    \n",
    "    （「契約書を見たいのですが」の正解＝4683、否定データセットの正解＝5500）\n",
    "'''\n",
    "corpus, ret = predict('契約書を見せたくないのですが', dm=1)\n",
    "print_predict_result(corpus, ret)"
   ]
  },
  {
   "cell_type": "markdown",
   "metadata": {
    "deletable": true,
    "editable": true
   },
   "source": [
    "#### 正解があるものについて、言い回しを変えてみます。\n",
    "\n",
    "想定される結果からは、かけ離れたものになってしまいます。（id=\"1898948\" は「会議室を使いたい」）"
   ]
  },
  {
   "cell_type": "code",
   "execution_count": 47,
   "metadata": {
    "collapsed": false,
    "deletable": true,
    "editable": true,
    "scrolled": false
   },
   "outputs": [
    {
     "name": "stdout",
     "output_type": "stream",
     "text": [
      "['契約', 'を', '結ぶ', 'だ', '時', 'に', '作成', 'する', 'れる', '文書', 'を', '確認', 'する', 'たい']\n",
      "id, answer_id, similarity\n",
      "1898948 4729 0.5893667936325073\n",
      "1900102 4678 0.5748825073242188\n",
      "1901851 4678 0.5745905041694641\n",
      "1898961 4730 0.5703769326210022\n",
      "1900372 4678 0.5684346556663513\n",
      "1901870 4678 0.5682883262634277\n",
      "1898946 4729 0.5670807361602783\n",
      "1898945 4729 0.5651745796203613\n",
      "1900269 4678 0.5625522136688232\n",
      "1895824 4678 0.5619271397590637\n"
     ]
    }
   ],
   "source": [
    "'''\n",
    "    正解の別な言い回し（教師データにない）---> 別の答えが返ってきてしまう\n",
    "\n",
    "    （「契約書を見たいのですが」の正解＝4683）\n",
    "'''\n",
    "corpus, ret = predict('契約を結んだ時に作成される文書を確認したい', dm=1)\n",
    "print_predict_result(corpus, ret)"
   ]
  },
  {
   "cell_type": "markdown",
   "metadata": {
    "deletable": true,
    "editable": true
   },
   "source": [
    "#### 正解がないもの\n",
    "\n",
    "類似文書がない場合は、いくつかWikiの文書から類似しているものを引っ張り出してくる様です。\n",
    "\n",
    "（Wikiからは、doc id=\"901\" の「旭川市」というタイトルがついた文書を引っ張ってきています）\n",
    "\n",
    "ただし類似度はかなり低いです。"
   ]
  },
  {
   "cell_type": "code",
   "execution_count": 48,
   "metadata": {
    "collapsed": false,
    "deletable": true,
    "editable": true,
    "scrolled": true
   },
   "outputs": [
    {
     "name": "stdout",
     "output_type": "stream",
     "text": [
      "['おいしい', 'ラーメン', 'が', '食べる', 'たい', 'です']\n",
      "id, answer_id, similarity\n",
      "901 旭川市 0.0029766522347927094\n",
      "649 すがやみつる -0.0033093495294451714\n",
      "1151 荒俣宏 -0.028376499190926552\n",
      "952 流水凜子 -0.02860189415514469\n",
      "609 大島やすいち -0.04567909240722656\n",
      "1225 L4 -0.05281950533390045\n",
      "758 小谷憲一 -0.05302031338214874\n",
      "1375 槇村さとる -0.05659448355436325\n",
      "920 田島みるく -0.05930089205503464\n",
      "623 奥田ひとし -0.060799650847911835\n"
     ]
    }
   ],
   "source": [
    "'''\n",
    "    おいしいラーメンが食べたいです（正解＝なし）\n",
    "'''\n",
    "corpus, ret = predict('おいしいラーメンが食べたいです', dm=1)\n",
    "print_predict_result(corpus, ret)"
   ]
  },
  {
   "cell_type": "markdown",
   "metadata": {
    "deletable": true,
    "editable": true
   },
   "source": [
    "類似マイオペ文書がある場合は適当な文書が戻ります。（id=\"1901441\" は「PCが壊れた」）\n",
    "\n",
    "確かに、何かが壊れたことには変わりありませんが・・・"
   ]
  },
  {
   "cell_type": "code",
   "execution_count": 49,
   "metadata": {
    "collapsed": false,
    "deletable": true,
    "editable": true,
    "scrolled": true
   },
   "outputs": [
    {
     "name": "stdout",
     "output_type": "stream",
     "text": [
      "['風邪', 'を', '引く', 'た', '時', 'の', '治療', '薬', 'を', '教える', 'て', 'くださる']\n",
      "id, answer_id, similarity\n",
      "1901441 4802 0.3792627453804016\n",
      "1901686 4808 0.3756944239139557\n",
      "1897212 4678 0.3739567995071411\n",
      "1898943 4729 0.3660581111907959\n",
      "1900399 4678 0.36351415514945984\n",
      "1898704 4692 0.3627987504005432\n",
      "1900082 4678 0.3625839948654175\n",
      "1900396 4678 0.36191168427467346\n",
      "1899690 4678 0.36137229204177856\n",
      "1901346 4678 0.3611118793487549\n"
     ]
    }
   ],
   "source": [
    "'''\n",
    "    無関係な質問をしてみます。\n",
    "'''\n",
    "corpus, ret = predict('風邪を引いた時の治療薬を教えてください', dm=1)\n",
    "print_predict_result(corpus, ret)"
   ]
  },
  {
   "cell_type": "markdown",
   "metadata": {
    "deletable": true,
    "editable": true
   },
   "source": [
    "#### マイオペとは無関係な、Wikipedia文書に関するデータの予測\n",
    "\n",
    "Wikiの文書から、doc id=\"342\" の「桜野みねね」というタイトルがついた文書を引っ張ってきています。これは風邪とは何の関係もない文書です。\n",
    "\n",
    "ただし類似度が一番高いのはマイオペの id=1898798（複合機が壊れた）という質問文でした。"
   ]
  },
  {
   "cell_type": "code",
   "execution_count": 50,
   "metadata": {
    "collapsed": false,
    "deletable": true,
    "editable": true,
    "scrolled": true
   },
   "outputs": [
    {
     "name": "stdout",
     "output_type": "stream",
     "text": [
      "['風邪']\n",
      "id, answer_id, similarity\n",
      "1898798 4709 0.4264153838157654\n",
      "1900055 4678 0.426098495721817\n",
      "1901898 4755 0.4252046048641205\n",
      "342 桜野みねね 0.4239950180053711\n",
      "1899467 4755 0.42048949003219604\n",
      "1900065 4678 0.4203770160675049\n",
      "1901901 4758 0.4192509055137634\n",
      "1900910 4678 0.41891440749168396\n",
      "1902076 4678 0.4172428846359253\n",
      "1901821 4692 0.413732647895813\n"
     ]
    }
   ],
   "source": [
    "'''\n",
    "    Wikiタイトルに近い文言で、Google検索っぽく質問をしてみます。\n",
    "'''\n",
    "corpus, ret = predict('風邪', dm=1)\n",
    "print_predict_result(corpus, ret)"
   ]
  },
  {
   "cell_type": "markdown",
   "metadata": {
    "deletable": true,
    "editable": true
   },
   "source": [
    "#### Wiki 文書の一部から抜粋した文章で予測\n",
    "\n",
    "なぜかマイオペの文書が帰ってしまいます。\n",
    "\n",
    "類似度が一番高いのはマイオペの id=1901490（表計算ソフトについて）という質問文でした。"
   ]
  },
  {
   "cell_type": "code",
   "execution_count": 51,
   "metadata": {
    "collapsed": false,
    "deletable": true,
    "editable": true
   },
   "outputs": [
    {
     "name": "stdout",
     "output_type": "stream",
     "text": [
      "['漁業', 'に', 'は', 'さまざま', 'だ', '人々', 'が', '関わる', 'て', 'いる', 'が', '漁撈', '活動', 'に', '専業', 'として', '携わる', '者', 'の', 'こと', 'は', '漁師', 'と', 'いう']\n",
      "id, answer_id, similarity\n",
      "1901490 4821 0.48075902462005615\n",
      "1901496 4821 0.4784567356109619\n",
      "1898303 4821 0.47229474782943726\n",
      "1901481 4821 0.4705294072628021\n",
      "1898309 4821 0.4651545286178589\n",
      "1902100 4821 0.4561212658882141\n",
      "1899190 4678 0.44923144578933716\n",
      "1901495 4821 0.4475501775741577\n",
      "1901489 4821 0.4471065402030945\n",
      "1899845 4678 0.44237256050109863\n"
     ]
    }
   ],
   "source": [
    "'''\n",
    "    Wiki本文に近い文言で、質問をしてみます。\n",
    "'''\n",
    "wiki_like_sentence = '''漁業にはさまざまな人々が関わっているが、漁撈活動に専業として携わる者のことは漁師という。\n",
    "'''\n",
    "corpus, ret = predict(wiki_like_sentence, dm=1)\n",
    "print_predict_result(corpus, ret)"
   ]
  }
 ],
 "metadata": {
  "kernelspec": {
   "display_name": "Python 3",
   "language": "python",
   "name": "python3"
  },
  "language_info": {
   "codemirror_mode": {
    "name": "ipython",
    "version": 3
   },
   "file_extension": ".py",
   "mimetype": "text/x-python",
   "name": "python",
   "nbconvert_exporter": "python",
   "pygments_lexer": "ipython3",
   "version": "3.5.2"
  }
 },
 "nbformat": 4,
 "nbformat_minor": 2
}
