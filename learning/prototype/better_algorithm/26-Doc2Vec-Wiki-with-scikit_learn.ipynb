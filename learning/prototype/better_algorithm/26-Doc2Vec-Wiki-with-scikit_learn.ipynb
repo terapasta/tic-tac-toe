{
 "cells": [
  {
   "cell_type": "markdown",
   "metadata": {
    "deletable": true,
    "editable": true
   },
   "source": [
    "# Doc2vecの文書ベクトルを使用し、scikit-learnでコサイン類似検索\n",
    "\n",
    "\n",
    "\n",
    "\n",
    "- Wikipedia＋my-opeの両文書からDoc2Vecモデルを生成\n",
    "\n",
    "\n",
    "- scikit-learnのcosine-simularityを使用して類似検索"
   ]
  },
  {
   "cell_type": "markdown",
   "metadata": {
    "deletable": true,
    "editable": true
   },
   "source": [
    "## (1) Wikipediaコンテンツファイルから全文書を抽出"
   ]
  },
  {
   "cell_type": "markdown",
   "metadata": {
    "deletable": true,
    "editable": true
   },
   "source": [
    "レポート <a href=\"31-Wikipedia-contents-csv.ipynb\"><b>31-Wikipedia-contents-csv.ipynb</b></a> の手順にて、いったんローカルPCにCSVファイル化しておきます。"
   ]
  },
  {
   "cell_type": "markdown",
   "metadata": {
    "deletable": true,
    "editable": true
   },
   "source": [
    "## (2) Wikipedia文書を学習"
   ]
  },
  {
   "cell_type": "markdown",
   "metadata": {
    "deletable": true,
    "editable": true
   },
   "source": [
    "レポート <a href=\"25-Create-doc2vec-model-wiki.ipynb\"><b>25-Create-doc2vec-model-wiki.ipynb</b></a> の手順にて生成したDoc2Vecモデルファイルをロードして使用します。\n",
    "\n",
    "上記手順では、Wikipedia文書、my-ope文書の双方を使用し、ボキャブラリ／単語ベクトルの生成および学習を行い、モデルをファイル保存しています。"
   ]
  },
  {
   "cell_type": "code",
   "execution_count": 1,
   "metadata": {
    "collapsed": true,
    "deletable": true,
    "editable": true
   },
   "outputs": [],
   "source": [
    "'''\n",
    "    環境準備\n",
    "'''\n",
    "import sys\n",
    "import os\n",
    "\n",
    "import numpy as np\n",
    "import pandas as pd\n",
    " \n",
    "learning_dir = os.path.abspath(\"../../\") #<--- donusagi-bot/learning\n",
    "os.chdir(learning_dir)\n",
    "if learning_dir not in sys.path:\n",
    "    sys.path.append(learning_dir)"
   ]
  },
  {
   "cell_type": "code",
   "execution_count": 2,
   "metadata": {
    "collapsed": true,
    "deletable": true,
    "editable": true
   },
   "outputs": [],
   "source": [
    "from gensim import models\n",
    "from gensim.models.doc2vec import Doc2Vec\n",
    "\n",
    "def doc2vec_model_path(dm):\n",
    "    model_path = 'prototype/better_algorithm/doc2vec.wiki_myope.PV%d.model' % dm\n",
    "    return model_path"
   ]
  },
  {
   "cell_type": "code",
   "execution_count": 3,
   "metadata": {
    "collapsed": false,
    "deletable": true,
    "editable": true
   },
   "outputs": [
    {
     "name": "stdout",
     "output_type": "stream",
     "text": [
      "Document vector size=87349\n"
     ]
    }
   ],
   "source": [
    "'''\n",
    "    あらかじめ学習したモデルのファイルをロード\n",
    "    dm = 0 : DBoWを使用したモデル\n",
    "'''\n",
    "dm = 0\n",
    "loaded_model_dbow = models.Doc2Vec.load(doc2vec_model_path(dm))\n",
    "\n",
    "print('Document vector size=%d' % (len(loaded_model_dbow.docvecs)))"
   ]
  },
  {
   "cell_type": "markdown",
   "metadata": {
    "deletable": true,
    "editable": true
   },
   "source": [
    "## (3) my-opeの文書を、Wikiから生成したモデルにより文書ベクトル化する関数"
   ]
  },
  {
   "cell_type": "markdown",
   "metadata": {
    "deletable": true,
    "editable": true
   },
   "source": [
    "Wikipedia文書だけで学習されたDoc2Vecモデルを使用し、my-ope文書（質問文）をベクトル化します。"
   ]
  },
  {
   "cell_type": "code",
   "execution_count": 4,
   "metadata": {
    "collapsed": true,
    "deletable": true,
    "editable": true
   },
   "outputs": [],
   "source": [
    "import numpy as np\n",
    "\n",
    "from learning.core.learn.learning_parameter import LearningParameter\n",
    "from learning.core.datasource import Datasource\n",
    "\n",
    "_bot_id = 13 # toyotsu_human.csv\n",
    "attr = {\n",
    "    'include_failed_data': False,\n",
    "    'include_tag_vector': False,\n",
    "    'classify_threshold': 0.5,\n",
    "    'algorithm': LearningParameter.ALGORITHM_LOGISTIC_REGRESSION,\n",
    "    'params_for_algorithm': {'C': 140},\n",
    "    'excluded_labels_for_fitting': None\n",
    "}\n",
    "learning_parameter = LearningParameter(attr)"
   ]
  },
  {
   "cell_type": "code",
   "execution_count": 5,
   "metadata": {
    "collapsed": true,
    "deletable": true,
    "editable": true
   },
   "outputs": [],
   "source": [
    "from learning.core.nlang import Nlang"
   ]
  },
  {
   "cell_type": "code",
   "execution_count": 6,
   "metadata": {
    "collapsed": true,
    "deletable": true,
    "editable": true
   },
   "outputs": [],
   "source": [
    "def get_document_vector(question, model, warning):\n",
    "    '''\n",
    "        question: \n",
    "            分かち書きされていない文書\n",
    "        model:\n",
    "            Doc2Vecの学習済みモデル\n",
    "            （検証時は品詞を落としていないWikipedia文書からモデルを生成）\n",
    "\n",
    "        inferred_vector:\n",
    "            文書を分かち書きしたコーパスから、\n",
    "            Doc2Vecの学習済みモデルを使用して\n",
    "            生成される類似文書ベクトル\n",
    "            （learning.core.nlang.Nlangの仕様に従い、\n",
    "            　一部品詞が落とされます。）\n",
    "\n",
    "        warning:\n",
    "            Trueを指定時、コーパスに含まれる単語が\n",
    "            モデル内のWord2Vecボキャブラリにない場合、\n",
    "            警告を表示する\n",
    "    '''\n",
    "    corpus = Nlang.split(question).split()\n",
    "    inferred_vector = model.infer_vector(corpus, alpha=0.01, min_alpha=0.001, steps=250)\n",
    "    \n",
    "    if warning:\n",
    "        for c in corpus:\n",
    "            if not c in model.wv.vocab:\n",
    "                print(\"Warning: word [%s] does not exist in Word2Vec vocabulary.\" % c)\n",
    "\n",
    "    return inferred_vector\n",
    "\n",
    "def get_document_vectors(questions, model, warning=False):\n",
    "    document_vectors = []\n",
    "    for question in questions:\n",
    "        inferred_vector = get_document_vector(question, model, warning)\n",
    "        document_vectors.append(list(inferred_vector))\n",
    "\n",
    "    return np.array(document_vectors)"
   ]
  },
  {
   "cell_type": "markdown",
   "metadata": {
    "deletable": true,
    "editable": true
   },
   "source": [
    "## (4) コサイン類似検索の実行\n",
    "\n",
    "質問文は、my-ope プロダクションの nosetests テストケースから引用しました。"
   ]
  },
  {
   "cell_type": "code",
   "execution_count": 7,
   "metadata": {
    "collapsed": true,
    "deletable": true,
    "editable": true
   },
   "outputs": [],
   "source": [
    "from sklearn.metrics.pairwise import cosine_similarity\n",
    "from learning.core.datasource import Datasource\n",
    "import time\n",
    "\n",
    "def search_simiarity(question, dbow_model):\n",
    "    '''\n",
    "        質問文間でコサイン類似度を算出して、近い質問文の候補を取得する\n",
    "        \n",
    "        仕様はプロダクションに準拠しています\n",
    "        ただし、文書のベクトル化は、TF-IDFではなく、\n",
    "        Doc2Vecを使用します。\n",
    "    '''\n",
    "    start = time.time()\n",
    "\n",
    "    datasource = Datasource('csv')\n",
    "    question_answers = datasource.question_answers_for_suggest(_bot_id, question)\n",
    "    \n",
    "    '''\n",
    "        学習時に追加した否定のセットを、ここでもquestion_answersに追加しておきます\n",
    "        　['id', 'question', 'bot_id', 'answer_id']\n",
    "    '''\n",
    "    series = pd.Series([13700, '「退職金」退職金の振込口座を変えたくない', 13, 7050], index=question_answers.columns)\n",
    "    question_answers = question_answers.append(series, ignore_index=True)\n",
    "    \n",
    "    #all_array = TextArray(question_answers['question'], vectorizer=self.vectorizer)\n",
    "    #question_array = TextArray([question], vectorizer=self.vectorizer)\n",
    "    all_array      = get_document_vectors(question_answers['question'], dbow_model)\n",
    "    question_array = get_document_vectors([question], dbow_model, warning=True)\n",
    "    \n",
    "    print('count: my-ope all questions=%d, document vectors=%d (features=%d)' % (\n",
    "        np.size(question_answers['question']), all_array.shape[0], all_array.shape[1]\n",
    "    ))    \n",
    "    print('count: question=%d, document vectors=%d (features=%d)' % (\n",
    "        np.size([question]), question_array.shape[0], question_array.shape[1]\n",
    "    ))    \n",
    "\n",
    "    similarities = cosine_similarity(all_array, question_array)\n",
    "    similarities = similarities.flatten()\n",
    "\n",
    "    ordered_result = list(map(lambda x: {\n",
    "        'question_answer_id': float(x[0]), 'similarity': x[1], 'answer_id': x[2]\n",
    "    }, sorted(zip(question_answers['id'], similarities, question_answers['answer_id']), key=lambda x: x[1], reverse=True)))\n",
    "\n",
    "    df = pd.DataFrame.from_dict(ordered_result)\n",
    "\n",
    "    print(df[0:10])\n",
    "    elapsed_time =  time.time() - start\n",
    "    print(\"elapsed %d seconds\" % elapsed_time)\n"
   ]
  },
  {
   "cell_type": "code",
   "execution_count": 8,
   "metadata": {
    "collapsed": false,
    "deletable": true,
    "editable": true,
    "scrolled": false
   },
   "outputs": [
    {
     "name": "stdout",
     "output_type": "stream",
     "text": [
      "count: my-ope all questions=318, document vectors=318 (features=200)\n",
      "count: question=1, document vectors=1 (features=200)\n",
      "   answer_id  question_answer_id  similarity\n",
      "0       6803             13378.0    0.920316\n",
      "1       6878             13452.0    0.587425\n",
      "2       6844             13418.0    0.584465\n",
      "3       6845             13419.0    0.582625\n",
      "4       6849             13423.0    0.578960\n",
      "5       6745             13317.0    0.577266\n",
      "6       6838             13412.0    0.576162\n",
      "7       6807             13382.0    0.575980\n",
      "8       6888             13462.0    0.568396\n",
      "9       6749             13310.0    0.568274\n",
      "elapsed 2 seconds\n"
     ]
    }
   ],
   "source": [
    "# 正解＝6803\n",
    "search_simiarity('JAL マイレージ', loaded_model_dbow)"
   ]
  },
  {
   "cell_type": "code",
   "execution_count": 9,
   "metadata": {
    "collapsed": false,
    "deletable": true,
    "editable": true,
    "scrolled": false
   },
   "outputs": [
    {
     "name": "stdout",
     "output_type": "stream",
     "text": [
      "count: my-ope all questions=318, document vectors=318 (features=200)\n",
      "count: question=1, document vectors=1 (features=200)\n",
      "   answer_id  question_answer_id  similarity\n",
      "0       6763             13335.0    0.807660\n",
      "1       6856             13430.0    0.771838\n",
      "2       6743             13314.0    0.766420\n",
      "3       6902             13476.0    0.764399\n",
      "4       6733             13304.0    0.759548\n",
      "5       6740             13311.0    0.756747\n",
      "6       6769             13341.0    0.756244\n",
      "7       6749             13310.0    0.751041\n",
      "8       6876             13450.0    0.747553\n",
      "9       6824             13398.0    0.742359\n",
      "elapsed 2 seconds\n"
     ]
    }
   ],
   "source": [
    "# 正解＝6763\n",
    "search_simiarity('海外の出張費の精算の方法は？', loaded_model_dbow)"
   ]
  },
  {
   "cell_type": "code",
   "execution_count": 10,
   "metadata": {
    "collapsed": false,
    "deletable": true,
    "editable": true
   },
   "outputs": [
    {
     "name": "stdout",
     "output_type": "stream",
     "text": [
      "count: my-ope all questions=318, document vectors=318 (features=200)\n",
      "count: question=1, document vectors=1 (features=200)\n",
      "   answer_id  question_answer_id  similarity\n",
      "0       6767             13339.0    0.811058\n",
      "1       6787             13360.0    0.802935\n",
      "2       6799             13374.0    0.786311\n",
      "3       6772             13361.0    0.740271\n",
      "4       6797             13372.0    0.732309\n",
      "5       6796             13371.0    0.722282\n",
      "6       6900             13474.0    0.715792\n",
      "7       6786             13359.0    0.715107\n",
      "8       6762             13334.0    0.714958\n",
      "9       6800             13375.0    0.710661\n",
      "elapsed 2 seconds\n"
     ]
    }
   ],
   "source": [
    "# 正解＝6767\n",
    "search_simiarity('VISAの勘定科目がわからない', loaded_model_dbow) "
   ]
  },
  {
   "cell_type": "code",
   "execution_count": 11,
   "metadata": {
    "collapsed": false,
    "deletable": true,
    "editable": true,
    "scrolled": false
   },
   "outputs": [
    {
     "name": "stdout",
     "output_type": "stream",
     "text": [
      "count: my-ope all questions=318, document vectors=318 (features=200)\n",
      "count: question=1, document vectors=1 (features=200)\n",
      "   answer_id  question_answer_id  similarity\n",
      "0       6909             13483.0    0.707287\n",
      "1       7021             13600.0    0.543184\n",
      "2       6924             13503.0    0.503078\n",
      "3       6723             13294.0    0.497850\n",
      "4       6988             13568.0    0.492857\n",
      "5       6870             13444.0    0.491981\n",
      "6       6877             13451.0    0.490872\n",
      "7       6777             13350.0    0.478835\n",
      "8       6973             13553.0    0.478095\n",
      "9       7000             13580.0    0.475540\n",
      "elapsed 2 seconds\n"
     ]
    }
   ],
   "source": [
    "# 正解＝6909\n",
    "search_simiarity('子供が生まれた', loaded_model_dbow) "
   ]
  },
  {
   "cell_type": "markdown",
   "metadata": {
    "deletable": true,
    "editable": true
   },
   "source": [
    "### 以下は参考ケース"
   ]
  },
  {
   "cell_type": "code",
   "execution_count": 12,
   "metadata": {
    "collapsed": false,
    "deletable": true,
    "editable": true,
    "scrolled": false
   },
   "outputs": [
    {
     "name": "stdout",
     "output_type": "stream",
     "text": [
      "count: my-ope all questions=318, document vectors=318 (features=200)\n",
      "count: question=1, document vectors=1 (features=200)\n",
      "   answer_id  question_answer_id  similarity\n",
      "0       6975             13555.0    0.990793\n",
      "1       7050             13700.0    0.965827\n",
      "2       6997             13577.0    0.795659\n",
      "3       6826             13400.0    0.733253\n",
      "4       6918             13497.0    0.688368\n",
      "5       6955             13535.0    0.683837\n",
      "6       7000             13580.0    0.678907\n",
      "7       6954             13534.0    0.669115\n",
      "8       6958             13538.0    0.666628\n",
      "9       6964             13544.0    0.664391\n",
      "elapsed 2 seconds\n"
     ]
    }
   ],
   "source": [
    "# 正解＝6975\n",
    "search_simiarity('退職金の振込口座を変えたい', loaded_model_dbow) "
   ]
  },
  {
   "cell_type": "code",
   "execution_count": 13,
   "metadata": {
    "collapsed": false,
    "deletable": true,
    "editable": true,
    "scrolled": false
   },
   "outputs": [
    {
     "name": "stdout",
     "output_type": "stream",
     "text": [
      "count: my-ope all questions=318, document vectors=318 (features=200)\n",
      "count: question=1, document vectors=1 (features=200)\n",
      "   answer_id  question_answer_id  similarity\n",
      "0       7050             13700.0    0.990555\n",
      "1       6975             13555.0    0.957918\n",
      "2       6997             13577.0    0.790626\n",
      "3       6826             13400.0    0.702125\n",
      "4       6918             13497.0    0.661871\n",
      "5       7000             13580.0    0.660801\n",
      "6       6972             13552.0    0.658294\n",
      "7       6979             13559.0    0.657246\n",
      "8       6964             13544.0    0.655657\n",
      "9       6838             13412.0    0.655330\n",
      "elapsed 2 seconds\n"
     ]
    }
   ],
   "source": [
    "# 正解＝7050（6975の反対として設定）\n",
    "search_simiarity('退職金の振込口座を変えたくない', loaded_model_dbow) "
   ]
  },
  {
   "cell_type": "code",
   "execution_count": 14,
   "metadata": {
    "collapsed": false,
    "deletable": true,
    "editable": true,
    "scrolled": false
   },
   "outputs": [
    {
     "name": "stdout",
     "output_type": "stream",
     "text": [
      "count: my-ope all questions=318, document vectors=318 (features=200)\n",
      "count: question=1, document vectors=1 (features=200)\n",
      "   answer_id  question_answer_id  similarity\n",
      "0       6856             13430.0    0.796510\n",
      "1       6802             13377.0    0.795700\n",
      "2       6795             13370.0    0.780811\n",
      "3       6790             13364.0    0.769724\n",
      "4       6824             13398.0    0.765216\n",
      "5       6902             13476.0    0.760034\n",
      "6       6873             13447.0    0.758189\n",
      "7       6762             13334.0    0.754221\n",
      "8       6763             13335.0    0.751823\n",
      "9       6887             13461.0    0.751660\n",
      "elapsed 2 seconds\n"
     ]
    }
   ],
   "source": [
    "# 正解＝6763（違った言い回し）\n",
    "search_simiarity('海外出張時の費用を精算したいのですが', loaded_model_dbow)"
   ]
  }
 ],
 "metadata": {
  "kernelspec": {
   "display_name": "Python 3",
   "language": "python",
   "name": "python3"
  },
  "language_info": {
   "codemirror_mode": {
    "name": "ipython",
    "version": 3
   },
   "file_extension": ".py",
   "mimetype": "text/x-python",
   "name": "python",
   "nbconvert_exporter": "python",
   "pygments_lexer": "ipython3",
   "version": "3.5.2"
  }
 },
 "nbformat": 4,
 "nbformat_minor": 2
}
