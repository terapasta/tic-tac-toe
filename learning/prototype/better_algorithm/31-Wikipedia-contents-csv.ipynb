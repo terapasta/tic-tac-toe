{
 "cells": [
  {
   "cell_type": "markdown",
   "metadata": {
    "deletable": true,
    "editable": true
   },
   "source": [
    "# Wikipedia全文をCSVに変換\n",
    "\n",
    "種々の検証において再利用を可能とするため、Wikipedia全文をCSVファイルに変換しておきます。"
   ]
  },
  {
   "cell_type": "markdown",
   "metadata": {
    "deletable": true,
    "editable": true
   },
   "source": [
    "## (1) Wikipediaコンテンツファイルから本文を抽出"
   ]
  },
  {
   "cell_type": "markdown",
   "metadata": {
    "deletable": true,
    "editable": true
   },
   "source": [
    "### (1-1) Wikipediaコンテンツ取得\n",
    "\n",
    "Wikipedia コンテンツの一覧を、以下のURLで参照します。\n",
    "\n",
    "https://dumps.wikimedia.org/jawiki/latest/\n",
    "\n",
    "このページのリストから、以下のファイルのリンクをクリックしてダウンロードします。\n",
    "\n",
    "2.4GBほどになります。\n",
    "\n",
    "```\n",
    "jawiki-latest-pages-articles.xml.bz2    21-May-2017 01:07    2492605537\n",
    "```"
   ]
  },
  {
   "cell_type": "markdown",
   "metadata": {
    "deletable": true,
    "editable": true
   },
   "source": [
    "### (1-2) Wikipedia Extractor（本文抽出ツール）の取得\n",
    "\n",
    "下記サイト内のDownloadsからWikipedia ExtractorのPythonスクリプトを直接ダウンロードします。\n",
    "\n",
    "http://medialab.di.unipi.it/wiki/Wikipedia_Extractor"
   ]
  },
  {
   "cell_type": "markdown",
   "metadata": {
    "deletable": true,
    "editable": true
   },
   "source": [
    "### (1-3) Wikipediaコンテンツファイルから本文を抽出\n",
    "\n",
    "下記コマンドで抽出を実行します。\n",
    "\n",
    "python3 WikiExtractor.py -b 10M -o extracted jawiki-latest-pages-articles.xml.bz2\n",
    "\n",
    "これで、extractedディレクトリ下に、10MB毎に区切られた抽出後ファイルが生成されていきます。\n",
    "\n",
    "extractedディレクトリ配下には、AA、AB、AC・・・といったサブディレクトリが生成されます。\n",
    "\n",
    "サブディレクトリごとに、１００本のファイルが生成されます。\n",
    "\n",
    "（すなわちサブディレクトリごとに1GBまで）\n",
    "\n",
    "実行には４０分ほどかかるとのことでしたが、実績としては、5/22 13:51開始〜14:26終了、なので３５分ほどで完了しています。"
   ]
  },
  {
   "cell_type": "markdown",
   "metadata": {
    "deletable": true,
    "editable": true
   },
   "source": [
    "実行例：\n",
    "```\n",
    "MacBookPro-makmorit-jp:Wikipedia makmorit$ pwd\n",
    "/Users/makmorit/Documents/Development/Wikipedia\n",
    "MacBookPro-makmorit-jp:Wikipedia makmorit$ ls -al\n",
    "total 4868576\n",
    "drwxr-xr-x   4 makmorit  staff         136 May 22 13:44 .\n",
    "drwxr-xr-x  10 makmorit  staff         340 May 22 13:43 ..\n",
    "-rw-r--r--@  1 makmorit  staff       98379 Mar 23  2016 WikiExtractor.py\n",
    "-rw-r--r--@  1 makmorit  staff  2492605537 May 22 13:27 jawiki-latest-pages-articles.xml.bz2\n",
    "MacBookPro-makmorit-jp:Wikipedia makmorit$ python WikiExtractor.py -b 10M -o extracted jawiki-latest-pages-articles.xml.bz2\n",
    "INFO: Loaded 0 templates in 0.0s\n",
    "INFO: Starting page extraction from jawiki-latest-pages-articles.xml.bz2.\n",
    "INFO: Using 7 extract processes.\n",
    "WARNING: Template errors in article '自然数' (4671): title(9) recursion(0, 0, 0)\n",
    "WARNING: Template errors in article '階乗' (12763): title(1) recursion(0, 0, 0)\n",
    "INFO: Extracted 10000 articles (225.3 art/s)\n",
    "INFO: Extracted 20000 articles (263.3 art/s)\n",
    "（中略）\n",
    "WARNING: Template errors in article 'プロ経営者' (3516673): title(2) recursion(0, 0, 0)\n",
    "INFO: Extracted 1410000 articles (990.3 art/s)\n",
    "WARNING: Template errors in article '2017年のWTAツアー' (3535919): title(2) recursion(0, 0, 0)\n",
    "INFO: Extracted 1420000 articles (995.9 art/s)\n",
    "INFO: Extracted 1430000 articles (910.8 art/s)\n",
    "WARNING: Template errors in article 'Wikipedia:削除依頼/性液' (3583405): title(1) recursion(0, 0, 0)\n",
    "INFO: Extracted 1440000 articles (986.9 art/s)\n",
    "INFO: Finished 7-process extraction of 1446777 articles in 2059.6s (702.5 art/s)\n",
    "MacBookPro-makmorit-jp:Wikipedia makmorit$ date\n",
    "Mon May 22 14:25:52 JST 2017\n",
    "MacBookPro-makmorit-jp:Wikipedia makmorit$ \n",
    "```"
   ]
  },
  {
   "cell_type": "markdown",
   "metadata": {
    "deletable": true,
    "editable": true
   },
   "source": [
    "## (2) Wikipedia全文のCSVファイルを生成"
   ]
  },
  {
   "cell_type": "markdown",
   "metadata": {
    "deletable": true,
    "editable": true
   },
   "source": [
    "### (2-1) 抽出コンテンツの内容についての注意\n",
    "\n",
    "下記のように、タイトルに : 文字が含まれている場合は有効な記事でないようです。\n",
    "\n",
    "```\n",
    "<doc id=\"1\" url=\"https://ja.wikipedia.org/wiki?curid=1\" title=\"Wikipedia:アップロードログ 2004年4月\">\n",
    "Wikipedia:アップロードログ 2004年4月\n",
    "<ul>\n",
    "</doc>\n",
    "```\n",
    "\n",
    "したがってTaggedDocumentへの変換時は、これらのエントリーは除外する必要があります。"
   ]
  },
  {
   "cell_type": "markdown",
   "metadata": {
    "deletable": true,
    "editable": true
   },
   "source": [
    "### (2-2) 抽出コンテンツをCSVへ変換"
   ]
  },
  {
   "cell_type": "markdown",
   "metadata": {
    "deletable": true,
    "editable": true
   },
   "source": [
    "有効なドキュメントは下記のようになっています。\n",
    "\n",
    "```\n",
    "<doc id=\"2466881\" url=\"https://ja.wikipedia.org/wiki?curid=2466881\" title=\"ヒントン駅\">\n",
    "ヒントン駅\n",
    "ヒントン駅（ヒントンえき、英語：Hinton Station）は、ウェストバージニア州 メープル・アベニューのセカンド・アヴェニュー100にある駅。 昔のチェサピーク・アンド・オハイオ鉄道の駅である。\n",
    "アムトラックの停車する列車は下記の通り。\n",
    "</doc>\n",
    "```"
   ]
  },
  {
   "cell_type": "markdown",
   "metadata": {
    "deletable": true,
    "editable": true
   },
   "source": [
    "一旦、pandasで処理（再利用）できる様に、ヘッダー付きのCSVファイルに格納しておきます。"
   ]
  },
  {
   "cell_type": "code",
   "execution_count": 1,
   "metadata": {
    "collapsed": true,
    "deletable": true,
    "editable": true
   },
   "outputs": [],
   "source": [
    "'''\n",
    "    環境準備\n",
    "'''\n",
    "import sys\n",
    "import os\n",
    "import re\n",
    "learning_dir = os.path.abspath(\"../../\") #<--- donusagi-bot/learning\n",
    "os.chdir(learning_dir)\n",
    "if learning_dir not in sys.path:\n",
    "    sys.path.append(learning_dir)"
   ]
  },
  {
   "cell_type": "code",
   "execution_count": 2,
   "metadata": {
    "collapsed": true,
    "deletable": true,
    "editable": true
   },
   "outputs": [],
   "source": [
    "def process_start_tag(line):\n",
    "    '''\n",
    "        docタグ開始と判定した場合\n",
    "        docタグから取得したid, titleを戻す。\n",
    "\n",
    "        ただし、titleに':' '曖昧さ回避'が\n",
    "        含まれている場合は無効エントリーとし、\n",
    "        docタグ開始と判定しない\n",
    "    '''\n",
    "    tag_start_pattern = r'<doc id=\"([0-9]+)\" url=\".+\" title=\"([^:]+)\">'\n",
    "\n",
    "    sm = re.match(tag_start_pattern, line)\n",
    "    if sm is None:\n",
    "        return None, None\n",
    "        \n",
    "    try:\n",
    "        id = sm.group(1)\n",
    "        title = sm.group(2)\n",
    "        \n",
    "        if title.find('曖昧さ回避') > 0:\n",
    "            id = None\n",
    "            title = None\n",
    "\n",
    "    except:\n",
    "        id = None\n",
    "        title = None\n",
    "        pass\n",
    "\n",
    "    return id, title"
   ]
  },
  {
   "cell_type": "code",
   "execution_count": 3,
   "metadata": {
    "collapsed": true,
    "deletable": true,
    "editable": true
   },
   "outputs": [],
   "source": [
    "def process_end_tag(line):\n",
    "    '''\n",
    "        docタグの終了判定\n",
    "    '''\n",
    "    tag_end_pattern = r'</doc>'\n",
    "\n",
    "    em = re.match(tag_end_pattern, line)\n",
    "    if em is not None:\n",
    "        return True\n",
    "\n",
    "    return False"
   ]
  },
  {
   "cell_type": "code",
   "execution_count": 4,
   "metadata": {
    "collapsed": false,
    "deletable": true,
    "editable": true
   },
   "outputs": [],
   "source": [
    "def parse_wiki_xml(lines):\n",
    "    '''\n",
    "        Wikipediaから抽出されたコンテンツをリスト化する。\n",
    "        \n",
    "        Wikipediaから抽出されたコンテンツはXML形式になっているが、\n",
    "        通常Pythonで用意されているパーサーでは処理不可能なので、\n",
    "        この関数でparseを行う\n",
    "    '''\n",
    "    parsed_wiki = []\n",
    "    tag_started = False\n",
    "\n",
    "    for line in lines:\n",
    "        line = line.replace('\\n', '')\n",
    "\n",
    "        if not tag_started:\n",
    "            '''\n",
    "                doc タグの開始判定\n",
    "            '''\n",
    "            id, title = process_start_tag(line)\n",
    "            if id is not None:\n",
    "                tag_started = True\n",
    "                content = ''\n",
    "            else:\n",
    "                tag_started = False\n",
    "            continue\n",
    "\n",
    "        if not tag_started:\n",
    "            continue\n",
    "\n",
    "        if process_end_tag(line):\n",
    "            '''\n",
    "                doc タグが終了したら、\n",
    "                id, title, 本文をリストに出力\n",
    "                ただし、本文が25文字以下なら\n",
    "                書きかけコンテンツとみなして無視\n",
    "            '''\n",
    "            if len(content) > 25:\n",
    "                parsed_wiki.append([int(id), title, content])\n",
    "            tag_started = False\n",
    "            content = ''\n",
    "        else:\n",
    "            '''\n",
    "                doc タグの途中なら本文として扱う\n",
    "                ただし先頭行はタイトルなので\n",
    "                本文として扱わない\n",
    "            '''\n",
    "            if line != title:\n",
    "                content += line\n",
    "    \n",
    "    return parsed_wiki"
   ]
  },
  {
   "cell_type": "code",
   "execution_count": 5,
   "metadata": {
    "collapsed": false,
    "deletable": true,
    "editable": true
   },
   "outputs": [],
   "source": [
    "def parse_wiki_xml_file(file_path):\n",
    "    try:\n",
    "        with open(file_path) as wikifile:\n",
    "            lines = wikifile.readlines()\n",
    "            wikifile.close()\n",
    "            parsed_wiki = parse_wiki_xml(lines)\n",
    "    except:\n",
    "        parsed_wiki = []\n",
    "        pass\n",
    "\n",
    "    return parsed_wiki"
   ]
  },
  {
   "cell_type": "code",
   "execution_count": 6,
   "metadata": {
    "collapsed": false,
    "deletable": true,
    "editable": true
   },
   "outputs": [],
   "source": [
    "def get_wiki_document_list(extracted_dir_path):\n",
    "    '''\n",
    "        Wikipedia全文ファイル群からCSVを生成\n",
    "    '''\n",
    "    wiki_document_list = []\n",
    "\n",
    "    for prefix in ['AA', 'AB', 'AC']:\n",
    "        for file_no in range(100):\n",
    "            file_path = os.path.join(extracted_dir_path, prefix, 'wiki_%02d' % file_no)\n",
    "            parsed_wiki = parse_wiki_xml_file(file_path)\n",
    "            wiki_document_list.extend(parsed_wiki)\n",
    "\n",
    "    return wiki_document_list"
   ]
  },
  {
   "cell_type": "code",
   "execution_count": 7,
   "metadata": {
    "collapsed": false,
    "deletable": true,
    "editable": true
   },
   "outputs": [],
   "source": [
    "'''\n",
    "    Wikipedia全文から、データフレームを生成し、\n",
    "    CSVファイルとして出力する\n",
    "'''\n",
    "import pandas as pd\n",
    " \n",
    "extracted_dir_path = '/Users/makmorit/Documents/Development/Wikipedia/extracted'\n",
    "\n",
    "wiki_document_list = get_wiki_document_list(extracted_dir_path)\n",
    "df = pd.DataFrame(wiki_document_list, columns=['id', 'title', 'content'])\n",
    "\n",
    "csv_file_name = os.path.join(extracted_dir_path, 'Wikipedia-content.csv')\n",
    "df.to_csv(csv_file_name)"
   ]
  },
  {
   "cell_type": "markdown",
   "metadata": {
    "deletable": true,
    "editable": true
   },
   "source": [
    "### (2-3) 抽出コンテンツをCSVから読込"
   ]
  },
  {
   "cell_type": "markdown",
   "metadata": {
    "deletable": true,
    "editable": true
   },
   "source": [
    "Wikipedia全文のCSVファイルからデータフレームを読み込めるかどうか確認します。"
   ]
  },
  {
   "cell_type": "code",
   "execution_count": 8,
   "metadata": {
    "collapsed": false,
    "deletable": true,
    "editable": true,
    "scrolled": true
   },
   "outputs": [],
   "source": [
    "import numpy as np\n",
    "\n",
    "loaded_df = pd.read_csv(csv_file_name)\n",
    "\n",
    "wiki_ids = np.array(loaded_df['id'])\n",
    "wiki_titles = np.array(loaded_df['title'])\n",
    "wiki_contents = np.array(loaded_df['content'])"
   ]
  },
  {
   "cell_type": "code",
   "execution_count": 16,
   "metadata": {
    "collapsed": false,
    "deletable": true,
    "editable": true
   },
   "outputs": [
    {
     "data": {
      "text/plain": [
       "(1006163, 4)"
      ]
     },
     "execution_count": 16,
     "metadata": {},
     "output_type": "execute_result"
    }
   ],
   "source": [
    "loaded_df.shape"
   ]
  },
  {
   "cell_type": "code",
   "execution_count": 17,
   "metadata": {
    "collapsed": false,
    "deletable": true,
    "editable": true
   },
   "outputs": [
    {
     "data": {
      "text/plain": [
       "array([      5,      10,      11, ..., 3600297, 3600299, 3600310])"
      ]
     },
     "execution_count": 17,
     "metadata": {},
     "output_type": "execute_result"
    }
   ],
   "source": [
    "wiki_ids"
   ]
  },
  {
   "cell_type": "code",
   "execution_count": 18,
   "metadata": {
    "collapsed": false,
    "deletable": true,
    "editable": true
   },
   "outputs": [
    {
     "data": {
      "text/plain": [
       "array(['アンパサンド', '言語', '日本語', ..., '豊橋市議会', '高慢と偏見とゾンビ', '台産'], dtype=object)"
      ]
     },
     "execution_count": 18,
     "metadata": {},
     "output_type": "execute_result"
    }
   ],
   "source": [
    "wiki_titles"
   ]
  },
  {
   "cell_type": "code",
   "execution_count": 19,
   "metadata": {
    "collapsed": false,
    "deletable": true,
    "editable": true,
    "scrolled": true
   },
   "outputs": [
    {
     "data": {
      "text/plain": [
       "'アンパサンド (, &) とは「…と…」を意味する記号である。英語の に相当するラテン語の の合字で、 (et cetera = and so forth)を と記述することがあるのはそのため。Trebuchet MSフォントでは、と表示され \"et\" の合字であることが容易にわかる。その使用は1世紀に遡ることができ (1)、5世紀中葉 (2,3) から現代 (4-6) に至るまでの変遷がわかる。Z に続くラテン文字アルファベットの27字目とされた時期もある。アンパサンドと同じ役割を果たす文字に「のet」と呼ばれる、数字の「7」に似た記号があった(, U+204A)。この記号は現在もゲール文字で使われている。記号名の「アンパサンド」は、ラテン語まじりの英語「& はそれ自身 \"and\" を表す」(& per se and) のくずれた形である。英語以外の言語での名称は多様である。日常的な手書きの場合、欧米でアンパサンドは「ε」に縦線を引く単純化されたものが使われることがある。また同様に、「t」または「+（プラス）」に輪を重ねたような、無声歯茎側面摩擦音を示す発音記号「」のようなものが使われることもある。プログラミング言語では、C など多数の言語で AND 演算子として用いられる。以下は C の例。PHPでは、変数宣言記号（$）の直前に記述することで、参照渡しを行うことができる。BASIC 系列の言語では文字列の連結演算子として使用される。codice_4 は codice_5 を返す。また、主にマイクロソフト系では整数の十六進表記に codice_6 を用い、codice_7 （十進で15）のように表現する。SGML、XML、HTMLでは、アンパサンドを使ってSGML実体を参照する。'"
      ]
     },
     "execution_count": 19,
     "metadata": {},
     "output_type": "execute_result"
    }
   ],
   "source": [
    "wiki_contents[0]"
   ]
  }
 ],
 "metadata": {
  "kernelspec": {
   "display_name": "Python 3",
   "language": "python",
   "name": "python3"
  },
  "language_info": {
   "codemirror_mode": {
    "name": "ipython",
    "version": 3
   },
   "file_extension": ".py",
   "mimetype": "text/x-python",
   "name": "python",
   "nbconvert_exporter": "python",
   "pygments_lexer": "ipython3",
   "version": "3.5.2"
  }
 },
 "nbformat": 4,
 "nbformat_minor": 2
}
