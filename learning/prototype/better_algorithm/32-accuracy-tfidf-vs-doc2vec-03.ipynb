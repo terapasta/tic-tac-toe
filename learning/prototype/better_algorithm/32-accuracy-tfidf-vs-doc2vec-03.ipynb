{
 "cells": [
  {
   "cell_type": "markdown",
   "metadata": {
    "deletable": true,
    "editable": true
   },
   "source": [
    "# accuracy比較（TF-IDF vs Doc2Vec）"
   ]
  },
  {
   "cell_type": "markdown",
   "metadata": {
    "deletable": true,
    "editable": true
   },
   "source": [
    "## (1) テストデータ／環境準備"
   ]
  },
  {
   "cell_type": "code",
   "execution_count": 1,
   "metadata": {
    "collapsed": false,
    "deletable": true,
    "editable": true
   },
   "outputs": [],
   "source": [
    "'''\n",
    "    テスト環境を準備するためのモジュールを使用します。\n",
    "'''\n",
    "import sys\n",
    "import os\n",
    "learning_dir = os.path.abspath(\"../../\") #<--- donusagi-bot/learning\n",
    "os.chdir(learning_dir)\n",
    "\n",
    "if learning_dir not in sys.path:\n",
    "    sys.path.append(learning_dir)"
   ]
  },
  {
   "cell_type": "markdown",
   "metadata": {
    "deletable": true,
    "editable": true
   },
   "source": [
    "## (2) TF-IDF版のaccuracyを計測"
   ]
  },
  {
   "cell_type": "markdown",
   "metadata": {
    "deletable": true,
    "editable": true
   },
   "source": [
    "### (2-1) vectorizerを生成（my-ope現行仕様に従う）"
   ]
  },
  {
   "cell_type": "code",
   "execution_count": 2,
   "metadata": {
    "collapsed": false,
    "deletable": true,
    "editable": true,
    "scrolled": false
   },
   "outputs": [],
   "source": [
    "import numpy as np\n",
    "\n",
    "from learning.core.learn.learning_parameter import LearningParameter\n",
    "from learning.core.datasource import Datasource\n",
    "\n",
    "_bot_id = 13\n",
    "attr = {\n",
    "    'include_failed_data': False,\n",
    "    'include_tag_vector': False,\n",
    "    'classify_threshold': 0.5,\n",
    "    'algorithm': LearningParameter.ALGORITHM_LOGISTIC_REGRESSION,\n",
    "    'params_for_algorithm': {'C': 140},\n",
    "    'excluded_labels_for_fitting': None\n",
    "}\n",
    "\n",
    "learning_parameter = LearningParameter(attr)"
   ]
  },
  {
   "cell_type": "code",
   "execution_count": 3,
   "metadata": {
    "collapsed": false,
    "deletable": true,
    "editable": true,
    "scrolled": true
   },
   "outputs": [],
   "source": [
    "_datasource = Datasource(type='csv')\n",
    "question_answers = _datasource.question_answers(_bot_id)\n",
    "questions = np.array(question_answers['question'])\n",
    "answer_ids = np.array(question_answers['answer_id'])\n",
    "ids = np.array(question_answers['id'])"
   ]
  },
  {
   "cell_type": "code",
   "execution_count": 4,
   "metadata": {
    "collapsed": false,
    "deletable": true,
    "editable": true,
    "scrolled": true
   },
   "outputs": [],
   "source": [
    "from learning.core.training_set.text_array import TextArray\n",
    "\n",
    "all_body_array = TextArray(questions)\n",
    "_ = all_body_array.to_vec()\n",
    "vectorizer_for_accuracy = all_body_array.vectorizer"
   ]
  },
  {
   "cell_type": "markdown",
   "metadata": {
    "deletable": true,
    "editable": true
   },
   "source": [
    "### (2-2) accuracy計測用のセットを作成\n",
    "\n",
    "学習セットから「」で囲まれた部分を削除しておきます"
   ]
  },
  {
   "cell_type": "code",
   "execution_count": 5,
   "metadata": {
    "collapsed": false,
    "deletable": true,
    "editable": true,
    "scrolled": true
   },
   "outputs": [
    {
     "data": {
      "text/plain": [
       "317"
      ]
     },
     "execution_count": 5,
     "metadata": {},
     "output_type": "execute_result"
    }
   ],
   "source": [
    "import re\n",
    "\n",
    "question_start_pattern = r'(^「[^「]+」)(.+)'\n",
    "questions_for_accuracy = []\n",
    "for _q in questions:\n",
    "    # 改行文字、全角スペースが含まれていることがある\n",
    "    _q = _q.replace('\\n', '')\n",
    "    _q = _q.replace(u'　', ' ')\n",
    "    \n",
    "    m = re.match(question_start_pattern, _q)\n",
    "    try:\n",
    "        '''\n",
    "        「」で囲まれた部分以外を\n",
    "        accuracy計測用の質問文として取得\n",
    "        \n",
    "        ただしid=13600「こんにちは」は「」がない\n",
    "        '''\n",
    "        if _q == 'こんにちは':\n",
    "            question = 'こんにちは。'\n",
    "        else:\n",
    "            question = m.group(2)\n",
    "    except:\n",
    "        question = None\n",
    "        pass\n",
    "\n",
    "    questions_for_accuracy.append(question)\n",
    "\n",
    "len(questions_for_accuracy)"
   ]
  },
  {
   "cell_type": "markdown",
   "metadata": {
    "deletable": true,
    "editable": true
   },
   "source": [
    "#### 長いですが、確認のため全量を表示します。"
   ]
  },
  {
   "cell_type": "code",
   "execution_count": 6,
   "metadata": {
    "collapsed": false,
    "deletable": true,
    "editable": true,
    "scrolled": true
   },
   "outputs": [
    {
     "data": {
      "text/plain": [
       "['申請内容を修正したいので、差戻しをお願いしたい',\n",
       " '当社と住宅ローンで提携している銀行名、優遇条件、連絡窓口等を知りたい',\n",
       " '保育園入所に伴う役所へ提出するため、証明書（勤務/育児休業）が欲しい',\n",
       " '在職証明書が欲しい',\n",
       " '不動産法人割引の紹介カードが欲しい。',\n",
       " '新規募集時期はいつですか？',\n",
       " '金額の変更は随時できますか？',\n",
       " '払戻しをお願いしたい。',\n",
       " '社宅はどこにありますか？空き状況は？',\n",
       " '出張者から金町寮に宿泊したいがどうしたらいいか。',\n",
       " '引っ越し先が決まっていないが、どうしたらいいか。',\n",
       " '港区に勤務している在勤証明書を発行してほしい。',\n",
       " '人事異動（出向戻り）に伴うPCアドレスの設定はどうやるの？',\n",
       " '育児短時間勤務申請書はいつまでに提出するのか？',\n",
       " '育児短時間勤務申請書は曜日別に申請できるか？',\n",
       " '育児短時間勤務申請はどこへ提出すればよいか？',\n",
       " '一部解約をしたいが、申込みから振込までどれくらいかかりますか？',\n",
       " '現在、借上げ寮にいますが、子供が大学に入学し上京するため、一緒に住める寮に変更したい。',\n",
       " 'コーポレートカードを持っているか解らなくなったので、調べてほしい',\n",
       " '芝浦アイランド付近に住んでいるが、都バスで利用（申請）してもよいか？',\n",
       " '最寄駅までバスの走行距離が1ｋｍ以上あるのに、1ｋｍ未満で不支給になったのはなぜ？',\n",
       " '東京本社から近いので、バスのみで通勤申請してもよいか？',\n",
       " '経済的・合理的なルートとは？',\n",
       " '月10万円を超えなければ、新幹線通勤は認めてくれるの？',\n",
       " '送付制度を利用した際、現地発生の関税費用等を立替えているが精算は？',\n",
       " '現地住所が決まっていないが、引越し手配は進められるか？',\n",
       " '勤務証明やお子様の駐在証明を発行できますか？',\n",
       " '予防接種の費用負担先はどこですか？勘定科目は？',\n",
       " '休暇申請の申請内容を変更したいのですが。再申請した方がいいですか？',\n",
       " '予約を変更したのですが、どうしたらいいですか？',\n",
       " '健保での健診を半年以内に受診してますが、渡航前健診として代用できますか？',\n",
       " '中国指定の健診を受診したら、渡航前健診は受けなくてもいいですか？',\n",
       " '駐在時に預かった保険証を、返却してください。',\n",
       " '駐在地で病院にかかった領収書があるので、精算してほしい。',\n",
       " '海外で受診した健康診断結果は、どうしたらいいですか？',\n",
       " 'VISA用の健診を受診したら、渡航前健診は受けなくてもいいですか？',\n",
       " '健診の予約日程を変更したのですが、どうしたらいいですか？',\n",
       " '健康診断の再検査は、会社負担でもいいですか？',\n",
       " '予防接種の費用負担先はどこですか？勘定科目は？',\n",
       " 'おたふくの予防接種（MMR)は会社負担ですか？',\n",
       " '抗体反応の費用は会社負担ですか？',\n",
       " '予防接種証明書は会社負担ですか？',\n",
       " '健康証明書は発行してもらえますか？',\n",
       " '帯同する家族の、赴任日の空港までの費用は、会社負担ですか？',\n",
       " '海外で受診した健康診断結果は、どうしたらいいですか？',\n",
       " '赴任中に一時帰国して病院で診療を受けた場合の費用は、会社負担ですか？',\n",
       " '帰任時の引越代はどこの負担ですか？',\n",
       " '駐在時に預かった保険証を、返却してください。',\n",
       " '帰国後健康診断はいつまでに受診可能ですか？',\n",
       " '一時帰国・特別休暇の書類提出先は？',\n",
       " '特定地域休暇の問い合わせ先は？',\n",
       " '赴任のために、赴任前に海外へ行くが申請は？',\n",
       " '海外からの出向受入者の一時帰国費用は？',\n",
       " '一時帰国休暇の立替金依頼書（エア代・日当）の書類提出先は？',\n",
       " '海外赴任中に歯科にかかった。領収書をもっているので精算方法を教えてほしい',\n",
       " '就労VISA取得に40日もかかるが、現地の仕事を早く始めたいため、先に出張として行く場合、赴任日はいつになりますか？',\n",
       " '環境省へ領収書原本を提出する必要があるため、提出済みの領収書を返却してほしい',\n",
       " '海外出張精算したいが、レートがTWINSのどこにあるのか解らない',\n",
       " '１ヶ月以上の海外出張の場合の精算処理方法は？',\n",
       " '同行者（TTC社員）の宿泊代を立て替えた場合の処理は？',\n",
       " '日本でパスポートを取得・更新した場合、処理できるか？',\n",
       " '円貨払いは「海外出張計算書」に含めていいの？',\n",
       " 'ﾋﾞｻﾞ取得代の勘定科目は？',\n",
       " '都市名がない。問合せ先は人事部となっているが具体的にはどこか？',\n",
       " '交際費の領収書をなくしたが、どのように精算したらよいか',\n",
       " '3月計上の締日はいつ？（電子申請分）',\n",
       " '3月計上の締日はいつ？（経費・立替金分）',\n",
       " 'お客様と同行して、現地でケーブルカーに乗ったが、費用科目はなに？',\n",
       " 'レートに５％以上の差が出た場合とは？',\n",
       " 'マレーシアのレートは？',\n",
       " '台湾のレートは？',\n",
       " 'ＴＴＭ、TTS、TTBレートとは？',\n",
       " 'ＴＴＭレートの仲値ってなに？',\n",
       " 'ＴＴＳレートとは？',\n",
       " 'レートはどこで確認するの？                                                      ',\n",
       " '社内レート、TTSレート、OANDAでも確認できないときはどうしたらよいか？',\n",
       " '交際費・会議費の勘定科目はなに？。5,000円で分けるの？',\n",
       " '日本円で支払ったものが費用計算書に含めていいの？ ',\n",
       " '携帯電話を日本でレンタルしたが、費用科目は？',\n",
       " '出張先のNSがその関連会社の社員を他の工場へ見学に行った費用を支払い→その後、営業部の人がNSが立替えたお金を更に立替えて部署にて精算したい場合の精算方法は？',\n",
       " '本人が立て替えた費用を現地法人等で負担していただく場合は？',\n",
       " '現地で立替えた分の中で、一部をトヨタ自動車が負担してくれる場合の費用計算書の入力は？',\n",
       " '出張していないが、現地でTMCとの交際費をTTC負担にしてほしいと現法から依頼がありました。その処理は？',\n",
       " 'エアチケットキャンセル料の勘定科目は？',\n",
       " '取引先への献花代の勘定科目は？',\n",
       " '面接のため、海外→日本・日本での交通費を営業部負担で支給したい（現金にて）勘定科目はどうなるか？',\n",
       " '危険地での空港VIPｻｰﾋﾞｽ利用のための入場料の勘定科目は？',\n",
       " '海外出張時の日本の空港使用料の勘定科目は？',\n",
       " '旅客保安サービス料（課税） の勘定科目は？',\n",
       " '燃油サーチャージ料の勘定科目は？',\n",
       " '業務委託以外（お客様）で宿泊費を負担する場合（同行）の勘定科目は？',\n",
       " 'ロンドンで毎年開催される晩餐会に出席するため、現地でタキシードをレンタルする。勘定科目は？',\n",
       " 'クレジットカードサーチャージ（１％）の勘定科目は？オーストラリアなどで発生。',\n",
       " '海外出張時のｽｰﾂｹｰｽ宅配代金（自宅〜国内空港）の勘定科目は？',\n",
       " '通訳を委託した、通訳料の勘定科目は？',\n",
       " '両替時に発生した手数料については、請求対象とはならないか？',\n",
       " '展示会での飲食代で、お客様の分も立て替えた。勘定科目は？',\n",
       " 'クーリエ代の勘定科目は？',\n",
       " '交際費（損金算入）',\n",
       " '国内で使用している携帯電話を海外出張で使用する場合の処理は？国内でレンタルし、海外で使用した携帯電話の使用料は？',\n",
       " '海外出張時に現地（特に中国）で携帯電話本体を購入し、その費用を精算できる？',\n",
       " '経費収益内訳表に計上されるJALマイレージバンク A9162国内旅費 「ＪＲ」の内訳は？',\n",
       " 'ESTAの支払いはカード決済ですが、精算処理はどのようにしたらよいか？',\n",
       " '模倣サイトでESTA申請してしまい、７４ドル支払った場合の精算は？',\n",
       " '入国費のレシートをもう一度使いたい',\n",
       " '領収書の宛名は？',\n",
       " '計算書を紛失してしまったら？',\n",
       " 'パスポート更新（取得申請）の費用について ・旅行代理店を通さずに、個人で立て替えた場合の処理は？',\n",
       " 'パスポート更新（取得申請）の費用について、代理店を通すと手数料も発生するが会社負担となるか？',\n",
       " '部付で、ＧＬ未満の方の承認者は？',\n",
       " '承認者のガイドライン (A) ＧＬが不在の場合---------------------- (B) 部長が不在の場合',\n",
       " 'システムの承認者について',\n",
       " '所属が「部付」となり、海外出張申請を申請すると、申請画面上、【ＧＬの入力必要】となります。 直属の上司は、部長のため、ＧＬ不在の状況です。申請方法をご教示願います。',\n",
       " '部長が長期休暇を取る際、承認者が部長になる方々は、システム上で代理の方に申請できるような方法になっておりますでしょうか？',\n",
       " 'ＧＬが、承認した後に再度自分が承認した内容を見たい場合は？',\n",
       " '3月中に「出張申請」したもので、4月からグループコードが変更になったら？',\n",
       " '費用計算書の金額に外貨記号が入る',\n",
       " '出張先を１ヶ所変更する場合',\n",
       " '２つの出張の間に1日しかない。それでも出張申請は２件作成すべきか？',\n",
       " '出張申請を承認、同日に出張中止処理がされた場合',\n",
       " '海外出張の日当を1日短く付け、帰国日は国内日当で精算してしまったどうすればよいか？',\n",
       " '海外出張システムのマニュアルは？',\n",
       " '精算漏れがあった場合どうすればよいか？',\n",
       " '立替金口座の変更登録をしたら、いつから新口座へ反映されますか？',\n",
       " 'お客様手配のツアーで海外出張する場合の申請・精算は？ツアーなので、細かく費用が分かれていません。',\n",
       " '同行者（TTC社員）の宿泊代を立て替えた場合の処理は？',\n",
       " '精算届を入力しても、合計欄に反映されません',\n",
       " '出向先負担の海外出張精算が、「0円」で申請できない',\n",
       " '出向受入等 任意加入保険が天引されない場合の立替処理は？',\n",
       " '出張届が却下されたとき、保険申込も自動的に取消となる？',\n",
       " 'ビザを取得しなければならないため、任意加入保険を申し込んだ。通常は個人負担だが、部署負担にしてもらえないか？',\n",
       " '海外出張ｼｽﾃﾑで、「保険申込みへ」から先へ進めません。',\n",
       " '海外出張時の会社付保についてビザ申請で、付保証明書（英文）が必要です。発行していただけますか？',\n",
       " '会社付保の保険内容は？',\n",
       " '「海外保険傷害保険・・」 Ａ４のＴＨＲ宛申請書は？',\n",
       " '役員のコーポレートカードは個人の口座から引き落としされるの？',\n",
       " '海外出張中に病院に行った場合',\n",
       " '海外出張者は何故コーポレートカード加入するの？',\n",
       " '出向受入者や派遣社員はコーポレートカードに加入できないが保険はどうなる？',\n",
       " '初めての出張だが、語学研修生として渡航していた場合、支度金は支給されますか？',\n",
       " '2件申請したところ、初めての出張なのに「支度金」が支給されないのは何故？●Ａ・・・支度金あり（7/29〜8/4）と●Ｂ・・・支度金なし（8/26〜9/8）の２つ申請が同日にあったため',\n",
       " '出向受入者の海外出張支度金は支給される？',\n",
       " '国内出向者の支度金について',\n",
       " '仮出金はいくらまで？',\n",
       " '海外からの出向者は、ある一定期間経過すると一時帰国でき、出張精算がはどうやるの？',\n",
       " '海外からの出向者が出向受入解除となった時の帰国旅費は？',\n",
       " '国内出向者の承認先・申請先は？',\n",
       " '国内出向者で、出向先100％負担の場合',\n",
       " 'ゲストハウスに泊まった場合の宿泊費友人宅等で、宿泊費が確定できない場合や、機中泊の場合・・',\n",
       " '車中泊→ホテルデイユースの場合、両方請求することができるか？',\n",
       " '取引先手配の宿泊があった場合、20ドルをつけることができるか？',\n",
       " '国内出張規定にものっていないので確認したいのですが海外出張のフライトが東京発であったため東京へ移動し、前泊した場合国内の日当は申請しないという理解であってるか？',\n",
       " '名古屋本社勤務の方で、出張期間：9/5〜9/8 フライトの関係で、羽田空港に、9/8の23:00に到着。 東京で一泊し、翌日（9/9）に名古屋へ帰着した場合の帰国日は？',\n",
       " '国内出張と同様に、海外出張時の宿泊費の上限はありますか？',\n",
       " '現地で、主催者側から参加日当<US$1,100ドル>を現金で受け取った。交通費も含まれていますが、出張処理は何か必要ですか？',\n",
       " '海外出張が人事研修の一環であるが、日当は支給されますか？',\n",
       " '機中泊の考え方は？',\n",
       " '出張期間が１ヶ月延びた場合はどこへ連絡すればいいの？',\n",
       " '食事代・クリーニング代（ランドリー代）は個人負担ですか？',\n",
       " 'すでに精算済みの宿泊費で、カード引き落としが無いため確認したら、現法で負担してくれていたことがわかった。返金したいが、どう処理したらよいですか？',\n",
       " 'プロジェクトの開発費で、システムとは別で立替精算処理したい。',\n",
       " '7月出発のエアチケット代を6月に購入。ＪＭＢ振替えではなく、旅行会社に請求書を発行してもらえば、6月計上できますか？',\n",
       " '四半期決算月の処理について、教えて下さい。',\n",
       " '決算月をまたぐ出張時に、決算月分のみ先に計上したい場合は？',\n",
       " '決算月に、出発日未定（4月以降の予定）の航空券を3月計上したいが可能ですか？',\n",
       " '年末年始の海外出張システムは？',\n",
       " '『旅費交通費（宿泊費・日当）は、上海現法負担』の場合の処理は？',\n",
       " 'ハンドキャリーについて',\n",
       " '予防接種の要・不要の判断は？',\n",
       " '海外出張の際の予防接種（国内発生分）を収入印紙で支払った場合の勘定科目は？',\n",
       " '海外出張時の勤務表の入力は？',\n",
       " '同一国長期出張 183日ルール（タイは180日）',\n",
       " '一般派遣で長期出張（30日以上？）の申請が出されたら？',\n",
       " '長期（１ヶ月以上）の海外出張の場合は、精算はどうするの？',\n",
       " '指定旅行代理店は？',\n",
       " 'ビザ手続きは？',\n",
       " '退職後に、未精算が発覚したが、どうしたらよいか？海外出張システムは、「精算届作成待」状態です。',\n",
       " '豊田通商から関連会社へ転籍のため、2月末日で豊田通商を退職となるが、退職後の精算方法と振込はどうなりますか？（海外出張の帰国日が「2月末日」、出張申請＆上長承認が「2月末日」完了）2月末日分として夜間処理には間に合いますが、実際振り込む際には、退職しています。',\n",
       " '出張中止となったがどうすればよいか。',\n",
       " '出張申請をし、精算届を開けてしまったが・・・実際は、出張中止になった場合、システム上、「ドラフト保存中」で残ってしまっている。',\n",
       " '帰国日を過ぎると、「精算届けを出してください」と精算するまで督促メールが届く。帰国日が延長になり、帰国日を修正したのですが、まだ督促メールが届くのは何故ですか？',\n",
       " '計算書のマクロについて',\n",
       " '頂いたTWINS上のマクロ設定のインストラクションは、どうもExcel2010用のものでは無いようです。ネットでExcel2010用のマクロ設定方法を調べて、全てのマクロを有効にする設定を行いましたが、それでも当該費用計算書がマクロ設定で開かないのですが、どのようにしたら宜しいでしょうか？',\n",
       " 'エラーが発生して、出張申請が出来ません！例外エラーが発生しました。fumctionスタックトレース：anonymous->anonymous->JS00_FileSave->JS00_FileSave->anonymous->anonymous->doClick->〔anonymous〕->*end*',\n",
       " '海外出張中に、身内にご不幸があり、帰国する際の費用は？',\n",
       " '海外駐在員の海外出張旅費を、ＫＤ事業部で負担して処理をしたい。SAPの立替金精算で処理していただけますか？外貨→円貨精算（社内レート）',\n",
       " '会議で、「昼食代＋会議室使用料」が人数で按分された領収書それぞれの明細金額は無く、詳細がわからない',\n",
       " '航空保険特別料金（非課税）',\n",
       " '現行通貨の一覧は？',\n",
       " '承認者変更したいがどうすればいい？',\n",
       " 'お土産に対する関税の勘定科目は？',\n",
       " '役員出張規程は別にあるの？',\n",
       " '海外出張申請ルートについて、承認者を変更したいがどうしたらよいか？',\n",
       " '申請していた出張期間が変更になった、どうすればいいの？',\n",
       " '出張申請したが、費用負担はなし（0円）でも、計算書は提出するの？',\n",
       " '長期出張で日当のみ途中精算したいときその場合の「帰国日」は？「レート」は？',\n",
       " '黄熱病の予防接種を現地で受けた。外貨で支払ったが精算はどのようにしたらよいか？',\n",
       " '勘定科目（その他）が2科目以上あり、電子申請できないがどうして？',\n",
       " '名古屋に宿泊をともなう研修に参加したが、その際の日当は支給されるか',\n",
       " '過去の出張旅費精算書（電子申請）が見たい。',\n",
       " '保険証を紛失したが、再発行されるまでにどれくらい時間かかるの？',\n",
       " '海外赴任中で印鑑がない場合、被扶養者異動届の押印は？',\n",
       " '扶養配偶者が就職したので扶養からはずす場合、国民年金第3号届出は必要か？',\n",
       " '給付金受給までにどれくらい時間かかるの？',\n",
       " '退職し失業保険手続きをしたいが、「離職票」はいつ送ってくれるの？',\n",
       " '受け取った保険証の生年月日が違う',\n",
       " '子供が生まれたので保険証がほしい',\n",
       " '保険証を失くした',\n",
       " 'すぐに病院へ行きたいが保険証を忘れた、どうすればいいの？',\n",
       " '保険証が盗まれた',\n",
       " '保険証の印字が薄くなった',\n",
       " '年金手帳の番号が知りたい',\n",
       " '雇用保険の番号が知りたい',\n",
       " '雇用保険被保険者証のコピーがほしい',\n",
       " '年金手帳って会社にあるの？',\n",
       " 'ハローワーク（職安）へ教育訓練給付金を申請したいが、雇用保険番号と事業主印はどこへ依頼するの？',\n",
       " '扶養してる妻の年金手帳は会社で保管してる？',\n",
       " '給与明細に記載されている扶養人数が違っている？',\n",
       " '給与明細に記載されている扶養人数ってなに？',\n",
       " '過去年分の源泉徴収票を再発行してもらいたいけど、東京でも発行可能か？',\n",
       " '退職する予定だが、退職金試算はしてもらえる？',\n",
       " '役所発行の「住民税決定通知書」が欲しい。',\n",
       " '診療室利用の「領収証」が欲しい',\n",
       " '源泉徴収票が欲しいが受信したメールを削除してしまった、再発行できるか？',\n",
       " '28年分の源泉徴収票が送れらてこないが、いつもらえるの？',\n",
       " '源泉徴収票がメール配信されたが、確定申告に使えるのか？',\n",
       " '自分のマイナンバーを教えてほしい',\n",
       " '引越しして通勤費が変わるが、いつまでに申請するの？',\n",
       " '過去分（昨年度以前）の源泉徴収票を発行してほしい',\n",
       " '保育園入所に伴う役所へ提出するため、証明書（勤務/育休）が欲しい',\n",
       " '傷病積立有休の残日数はどこで確認できるの？',\n",
       " '健保の出産育児一時金/付加金はいくら支給されるの？',\n",
       " '健保の出産育児一時金/付加金の申請手続きは？',\n",
       " '数日間の育休（男性社員）の場合でも「復帰面談」はあるの？',\n",
       " '産前産後および育児休業期間は、里帰り出産するなど一時的に住所が変わる場合は？',\n",
       " '育児休業終了予定日の変更は1回だけか？',\n",
       " '男性社員⇒妻の出産に伴い、慶弔休暇（2日）取らずに育児休暇取得しても良いの？',\n",
       " '給付金申請書類は、いつごろ、誰から案内されるの？',\n",
       " '育休開始したら、すぐに育児休業給付金は振り込まれるの？',\n",
       " '1歳を過ぎても保育園に入所できないので、給付金延長申請する場合、関係書類はなにが必要なの？',\n",
       " '保育園入所について役所に問い合わせしたところ、定員超過などで入所が難しいと言われたので、入所手続きしなかったが、給付金の延長はできるの？',\n",
       " '育休中（無給）の住民税は自分で振り込むと聞いたが、給与明細書で確認できるの？',\n",
       " '休職中はTWINS見られるの？',\n",
       " '休職中の勤怠（休暇）管理システムの申請は自分でやるの？',\n",
       " '育休中に社内研修受講は可能か？',\n",
       " '育児短時間勤務申請書はいつまでに提出するのか？',\n",
       " '産前休暇申請したいが、出産予定日には上長が変わるが、誰に申請するのか？',\n",
       " '育休中の持株会の給与天引きはどうなるの？',\n",
       " '急遽、当日受験できなくなった。',\n",
       " '受験拠点変更をお願いしたい。',\n",
       " '日程変更をしたい。',\n",
       " '日程変更をしたい。',\n",
       " '健康保険証受け取り時期について',\n",
       " '連帯保証人設定について',\n",
       " '連帯保証人設定について、同世帯だが扶養外（不動産等収入有）の妻を設定することは可能か？',\n",
       " '住民票の届け出先について、海外への転居届は可能か？',\n",
       " '名古屋の弁護士法人ｸﾛｰﾊﾞｰから封書が届いたが、弁護士事務所とはなにか？',\n",
       " '豊田通商の健康保険は継続できるの？',\n",
       " '豊田通商の健康保険料はいくらかかるの？',\n",
       " '退職後の健康保険はどうなるの？',\n",
       " '退職後の健康保険加入は、国民健康保険と任意継続保険ではどちらが安いの？',\n",
       " '豊田通商健保を任意継続したが、保険証はいつ届くの？ 届くまでの保険証は？',\n",
       " '退職年に支払ったはずなのに、翌年も役所より納付請求が届いたのはなぜ？',\n",
       " '配偶者の海外転勤により帯同となるが、失業給付延長の手続きはどうするの？',\n",
       " '給与天引きしている保険（がん、生命保険、損害保険、自動車保険）の手続きは？',\n",
       " 'OB会に入会すると損保（ﾏｲﾗｲﾌ）保険料が安くなるの？',\n",
       " 'ﾄｰﾒﾝOB会はまだ存在しているの？',\n",
       " '海外在留中に退職金を受け取る場合、税金と申告手続きは？',\n",
       " '餞別金はいくら貰えるの？また、いつ振り込まれるの？',\n",
       " '早く入会手続きしたい（退職説明の実施日前に入会）',\n",
       " '入会すると会費や年会費などいくらかかるの？',\n",
       " '失業保険を受給したいが、手続きはどうすればいいの？',\n",
       " '離職票はいつ送られてくるの？',\n",
       " '退職証明書は、いつ発行されますか？',\n",
       " '雇用保険の失業保険をもらうと、国の年金はもらえないの？',\n",
       " '高年齢雇用継続給付をもらうと、国の年金はもらえないの？',\n",
       " '定年60歳（再就職しない）で退職するが、扶養している妻（60歳未満）の手続きは何かある？',\n",
       " '最終出勤日以降は、全て「有休」取得となるが、勤怠ｼｽﾃﾑはどうすればいいの？',\n",
       " '退職金の振込口座を変えたい',\n",
       " '手続きはどうやるの？',\n",
       " '受け取り方法は一時金？年金？',\n",
       " '退職後、失業給付手続きすれば、すぐに支給されるの？',\n",
       " '受給資格は？ 退職後は独立（自営）するが受給できるの？',\n",
       " '高年齢雇用継続給付ってどんな制度？',\n",
       " '退職後の賞与（在籍対象期間分）はもらえるの？',\n",
       " '自分で申告するの？',\n",
       " '退職月の残業代は、いつ支払われるの？',\n",
       " 'ｶﾌｪﾃﾘｱﾌﾟﾗﾝ（ﾏｲｽﾀｲﾙ）の提出は、退職月に提出しても支給されるの？',\n",
       " '退職日までに退去しないとダメ？',\n",
       " 'ﾍﾞﾙﾌﾗﾜｰｶﾝﾄﾘｰ倶楽部「BELLｼﾆｱ会」に入会したい',\n",
       " 'TTCｱｶｳﾝﾄはどうすればいいの？',\n",
       " '誰が対象なの？',\n",
       " '定年退職の場合でも退職願（届）は提出するの？',\n",
       " '55歳以上の支給率は会社都合か？',\n",
       " '退職後に支給される賞与の税金は、再就職している場合、再就職先で年末調整してもらえる？',\n",
       " '退職月に診療室を利用したが給与天引きできるのか？',\n",
       " '退職後でも加入できるか？',\n",
       " '社章を失くした。どうすればよいか？',\n",
       " '嘱託契約満了日の前に退職したいが、手続きはどうすればよいか？',\n",
       " '退職願いを提出したが、いつごろ説明してもらえるの？',\n",
       " '退職金と税金はいくら？',\n",
       " '退職するが持株会はどうなるの？',\n",
       " '損害保険や生命保険は継続できるの？',\n",
       " 'コーポレートカードを退職後も継続したい。',\n",
       " '所得税、健康保険、介護保険、厚生年金、雇用保険は控除されるの？',\n",
       " '退職後も診療室を利用したい',\n",
       " '任意継続を希望するが、いつでもやめられるの？',\n",
       " '任意継続するとどんな給付が受けられるの？',\n",
       " '在籍のときと比べて、任意継続保険料はどうして高いの？',\n",
       " '退職後に引越しする予定だが、連絡する必要あるの？',\n",
       " 'ｺｰﾎﾟﾚｰﾄｶｰﾄﾞはどこへ返すの？',\n",
       " '年金手帳はどこにあるの？いつ返してくれるの？',\n",
       " '扶養している妻の年金手帳は会社にあるの？',\n",
       " '人材派遣で期間満了となるが、社員証は誰に返却すればいいの？',\n",
       " '任意継続したのに、最終給与で保険料2ヵ月分控除されたがどうして？',\n",
       " '最終月給与で地方税が高くなったのはなぜ？',\n",
       " 'こんにちは。']"
      ]
     },
     "execution_count": 6,
     "metadata": {},
     "output_type": "execute_result"
    }
   ],
   "source": [
    "questions_for_accuracy"
   ]
  },
  {
   "cell_type": "markdown",
   "metadata": {
    "deletable": true,
    "editable": true
   },
   "source": [
    "### (2-3) accuracy計測用の予測処理"
   ]
  },
  {
   "cell_type": "code",
   "execution_count": 7,
   "metadata": {
    "collapsed": false,
    "deletable": true,
    "editable": true
   },
   "outputs": [],
   "source": [
    "'''\n",
    "    プロダクションで使用しているクラスから抽出\n",
    "'''\n",
    "from sklearn.metrics.pairwise import cosine_similarity\n",
    "from learning.core.datasource import Datasource\n",
    "from learning.core.training_set.text_array import TextArray\n",
    "from learning.log import logger\n",
    "\n",
    "def question_answers(question, datasource_type='csv'):\n",
    "    \"\"\"質問文間でコサイン類似度を算出して、近い質問文の候補を取得する\n",
    "    \"\"\"\n",
    "    datasource = Datasource(type=datasource_type)\n",
    "    question_answers = datasource.question_answers_for_suggest(_bot_id, question)\n",
    "    all_array = TextArray(question_answers['question'], vectorizer=vectorizer_for_accuracy)\n",
    "    question_array = TextArray([question], vectorizer=vectorizer_for_accuracy)\n",
    "\n",
    "    similarities = cosine_similarity(all_array.to_vec(), question_array.to_vec())\n",
    "    similarities = similarities.flatten()\n",
    "    #logger.debug(\"similarities: %s\" % similarities)\n",
    "\n",
    "    ordered_result = list(map(lambda x: {\n",
    "        'question_answer_id': float(x[0]), 'similarity': x[1]\n",
    "    }, sorted(zip(question_answers['id'], similarities), key=lambda x: x[1], reverse=True)))\n",
    "\n",
    "    ordered_result = list(filter((lambda x: x['similarity'] > 0.1), ordered_result))\n",
    "\n",
    "    # 先頭要素だけを戻す\n",
    "    return ordered_result[0]"
   ]
  },
  {
   "cell_type": "markdown",
   "metadata": {
    "deletable": true,
    "editable": true
   },
   "source": [
    "### (2-4) accuracy計測"
   ]
  },
  {
   "cell_type": "code",
   "execution_count": 8,
   "metadata": {
    "collapsed": false,
    "deletable": true,
    "editable": true,
    "scrolled": true
   },
   "outputs": [
    {
     "name": "stdout",
     "output_type": "stream",
     "text": [
      "不正解：予測対象＝13279 --> 結果＝13506 (similarity=0.952)\n",
      "不正解：予測対象＝13290 --> 結果＝13522 (similarity=0.952)\n",
      "不正解：予測対象＝13309 --> 結果＝13324 (similarity=0.954)\n",
      "不正解：予測対象＝13315 --> 結果＝13304 (similarity=0.740)\n",
      "不正解：予測対象＝13321 --> 結果＝13311 (similarity=0.767)\n",
      "不正解：予測対象＝13336 --> 結果＝13402 (similarity=0.954)\n",
      "不正解：予測対象＝13527 --> 結果＝13527 (similarity=0.486)\n",
      "不正解：予測対象＝13528 --> 結果＝13527 (similarity=0.486)\n"
     ]
    }
   ],
   "source": [
    "total_cnt = len(questions_for_accuracy)\n",
    "accurate_cnt = 0\n",
    "for index in range(total_cnt):\n",
    "    question = questions_for_accuracy[index]\n",
    "    question_answer_id = ids[index]\n",
    "\n",
    "    result = question_answers(question)\n",
    "    if result['question_answer_id'] == question_answer_id and result['similarity'] > 0.49:\n",
    "        accurate_cnt += 1\n",
    "    else:\n",
    "        print('不正解：予測対象＝%d --> 結果＝%d (similarity=%0.3f)' % (\n",
    "            question_answer_id, result['question_answer_id'], result['similarity']\n",
    "        ))"
   ]
  },
  {
   "cell_type": "code",
   "execution_count": 9,
   "metadata": {
    "collapsed": false,
    "deletable": true,
    "editable": true,
    "scrolled": true
   },
   "outputs": [
    {
     "name": "stdout",
     "output_type": "stream",
     "text": [
      "accuracy=0.975\n"
     ]
    }
   ],
   "source": [
    "print('accuracy=%0.3f' % (accurate_cnt/total_cnt))"
   ]
  },
  {
   "cell_type": "markdown",
   "metadata": {
    "deletable": true,
    "editable": true
   },
   "source": [
    "## (3) Doc2Vec版のaccuracyを計測"
   ]
  },
  {
   "cell_type": "markdown",
   "metadata": {
    "deletable": true,
    "editable": true
   },
   "source": [
    "### (3-1) モデルをロード"
   ]
  },
  {
   "cell_type": "markdown",
   "metadata": {
    "deletable": true,
    "editable": true
   },
   "source": [
    "レポート <a href=\"25-Create-doc2vec-model-wiki.ipynb\"><b>25-Create-doc2vec-model-wiki.ipynb</b></a> の手順にて生成したDoc2Vecモデルファイルをロードして使用します。\n",
    "\n",
    "上記手順では、Wikipedia文書、my-ope文書の双方を使用し、ボキャブラリ／単語ベクトルの生成および学習を行い、モデルをファイル保存しています。"
   ]
  },
  {
   "cell_type": "code",
   "execution_count": 10,
   "metadata": {
    "collapsed": true,
    "deletable": true,
    "editable": true
   },
   "outputs": [],
   "source": [
    "from gensim import models\n",
    "from gensim.models.doc2vec import Doc2Vec\n",
    "\n",
    "def doc2vec_model_path(dm):\n",
    "    model_path = 'prototype/better_algorithm/doc2vec.wiki_myope.PV%d.model' % dm\n",
    "    return model_path"
   ]
  },
  {
   "cell_type": "code",
   "execution_count": 11,
   "metadata": {
    "collapsed": false,
    "deletable": true,
    "editable": true
   },
   "outputs": [
    {
     "name": "stdout",
     "output_type": "stream",
     "text": [
      "Document vector size=87349\n"
     ]
    }
   ],
   "source": [
    "'''\n",
    "    あらかじめ学習したモデルのファイルをロード\n",
    "    dm = 0 : DBoWを使用したモデル\n",
    "'''\n",
    "dm = 0\n",
    "loaded_model_dbow = models.Doc2Vec.load(doc2vec_model_path(dm))\n",
    "\n",
    "print('Document vector size=%d' % (len(loaded_model_dbow.docvecs)))"
   ]
  },
  {
   "cell_type": "markdown",
   "metadata": {
    "deletable": true,
    "editable": true
   },
   "source": [
    "### (3-2) accuracy計測用の予測処理"
   ]
  },
  {
   "cell_type": "markdown",
   "metadata": {
    "deletable": true,
    "editable": true
   },
   "source": [
    "レポート <a href=\"26-Doc2Vec-Wiki-with-scikit_learn.ipynb\"><b>26-Doc2Vec-Wiki-with-scikit_learn.ipynb</b></a> にて使用したものと同じものになります。"
   ]
  },
  {
   "cell_type": "code",
   "execution_count": 12,
   "metadata": {
    "collapsed": true,
    "deletable": true,
    "editable": true
   },
   "outputs": [],
   "source": [
    "from learning.core.nlang import Nlang\n",
    "\n",
    "def get_document_vector(question, model, warning):\n",
    "    '''\n",
    "        question: \n",
    "            分かち書きされていない文書\n",
    "        model:\n",
    "            Doc2Vecの学習済みモデル\n",
    "            （検証時は品詞を落としていないWikipedia文書からモデルを生成）\n",
    "\n",
    "        inferred_vector:\n",
    "            文書を分かち書きしたコーパスから、\n",
    "            Doc2Vecの学習済みモデルを使用して\n",
    "            生成される類似文書ベクトル\n",
    "            （learning.core.nlang.Nlangの仕様に従い、\n",
    "            　一部品詞が落とされます。）\n",
    "\n",
    "        warning:\n",
    "            Trueを指定時、コーパスに含まれる単語が\n",
    "            モデル内のWord2Vecボキャブラリにない場合、\n",
    "            警告を表示する\n",
    "    '''\n",
    "    corpus = Nlang.split(question).split()\n",
    "    inferred_vector = model.infer_vector(corpus, alpha=0.01, min_alpha=0.001, steps=250)\n",
    "    \n",
    "    if warning:\n",
    "        for c in corpus:\n",
    "            if not c in model.wv.vocab:\n",
    "                print(\"Warning: word [%s] does not exist in Word2Vec vocabulary.\" % c)\n",
    "\n",
    "    return inferred_vector\n",
    "\n",
    "def get_document_vectors(questions, model, warning=False):\n",
    "    document_vectors = []\n",
    "    for question in questions:\n",
    "        inferred_vector = get_document_vector(question, model, warning)\n",
    "        document_vectors.append(list(inferred_vector))\n",
    "\n",
    "    return np.array(document_vectors)"
   ]
  },
  {
   "cell_type": "code",
   "execution_count": 13,
   "metadata": {
    "collapsed": false,
    "deletable": true,
    "editable": true
   },
   "outputs": [],
   "source": [
    "from sklearn.metrics.pairwise import cosine_similarity\n",
    "from learning.core.datasource import Datasource\n",
    "import time\n",
    "\n",
    "def search_simiarity_doc2vec(question, dbow_model):\n",
    "    '''\n",
    "        質問文間でコサイン類似度を算出して、近い質問文の候補を取得する\n",
    "        \n",
    "        仕様はプロダクションに準拠しています\n",
    "        ただし、文書のベクトル化は、TF-IDFではなく、\n",
    "        Doc2Vecを使用します。\n",
    "    '''\n",
    "    datasource = Datasource('csv')\n",
    "    question_answers = datasource.question_answers_for_suggest(_bot_id, question)\n",
    "\n",
    "    #all_array = TextArray(question_answers['question'], vectorizer=self.vectorizer)\n",
    "    #question_array = TextArray([question], vectorizer=self.vectorizer)\n",
    "    all_array      = get_document_vectors(question_answers['question'], dbow_model)\n",
    "    question_array = get_document_vectors([question], dbow_model, warning=True)\n",
    "    \n",
    "    similarities = cosine_similarity(all_array, question_array)\n",
    "    similarities = similarities.flatten()\n",
    "\n",
    "    ordered_result = list(map(lambda x: {\n",
    "        'question_answer_id': float(x[0]), 'similarity': x[1], 'answer_id': x[2]\n",
    "    }, sorted(zip(question_answers['id'], similarities, question_answers['answer_id']), key=lambda x: x[1], reverse=True)))\n",
    "\n",
    "    ordered_result = list(filter((lambda x: x['similarity'] > 0.1), ordered_result))\n",
    "\n",
    "    # 先頭要素だけを戻す\n",
    "    return ordered_result[0]"
   ]
  },
  {
   "cell_type": "markdown",
   "metadata": {
    "deletable": true,
    "editable": true
   },
   "source": [
    "### (3-3) accuracy計測"
   ]
  },
  {
   "cell_type": "code",
   "execution_count": 14,
   "metadata": {
    "collapsed": false,
    "deletable": true,
    "editable": true,
    "scrolled": false
   },
   "outputs": [
    {
     "name": "stdout",
     "output_type": "stream",
     "text": [
      "不正解：予測対象＝13279 --> 結果＝13506 (similarity=0.990)\n",
      "不正解：予測対象＝13309 --> 結果＝13324 (similarity=0.967)\n",
      "不正解：予測対象＝13315 --> 結果＝13304 (similarity=0.924)\n",
      "不正解：予測対象＝13321 --> 結果＝13311 (similarity=0.917)\n",
      "不正解：予測対象＝13402 --> 結果＝13336 (similarity=0.992)\n",
      "不正解：予測対象＝13522 --> 結果＝13290 (similarity=0.991)\n",
      "不正解：予測対象＝13528 --> 結果＝13527 (similarity=0.770)\n"
     ]
    }
   ],
   "source": [
    "total_cnt = len(questions_for_accuracy)\n",
    "accurate_cnt = 0\n",
    "for index in range(total_cnt):\n",
    "    question = questions_for_accuracy[index]\n",
    "    question_answer_id = ids[index]\n",
    "\n",
    "    result = search_simiarity_doc2vec(question, loaded_model_dbow)\n",
    "    if result['question_answer_id'] == question_answer_id and result['similarity'] > 0.49:\n",
    "        accurate_cnt += 1\n",
    "    else:\n",
    "        print('不正解：予測対象＝%d --> 結果＝%d (similarity=%0.3f)' % (\n",
    "            question_answer_id, result['question_answer_id'], result['similarity']\n",
    "        ))"
   ]
  },
  {
   "cell_type": "code",
   "execution_count": 15,
   "metadata": {
    "collapsed": false,
    "deletable": true,
    "editable": true
   },
   "outputs": [
    {
     "name": "stdout",
     "output_type": "stream",
     "text": [
      "accuracy=0.978\n"
     ]
    }
   ],
   "source": [
    "print('accuracy=%0.3f' % (accurate_cnt/total_cnt))"
   ]
  }
 ],
 "metadata": {
  "kernelspec": {
   "display_name": "Python 3",
   "language": "python",
   "name": "python3"
  },
  "language_info": {
   "codemirror_mode": {
    "name": "ipython",
    "version": 3
   },
   "file_extension": ".py",
   "mimetype": "text/x-python",
   "name": "python",
   "nbconvert_exporter": "python",
   "pygments_lexer": "ipython3",
   "version": "3.5.2"
  }
 },
 "nbformat": 4,
 "nbformat_minor": 2
}
