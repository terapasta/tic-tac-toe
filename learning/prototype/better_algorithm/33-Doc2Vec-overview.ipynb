{
 "cells": [
  {
   "cell_type": "markdown",
   "metadata": {
    "deletable": true,
    "editable": true
   },
   "source": [
    "# Doc2Vecの精度確認"
   ]
  },
  {
   "cell_type": "markdown",
   "metadata": {
    "deletable": true,
    "editable": true
   },
   "source": [
    "## (1) 確認時のDoc2Vecパラメータ等"
   ]
  },
  {
   "cell_type": "markdown",
   "metadata": {
    "deletable": true,
    "editable": true
   },
   "source": [
    "### (1-1) 使用した文書\n",
    "\n",
    "Wikipedia文書、my-ope文書の双方を使用し、ボキャブラリ／単語ベクトルの生成および学習を行い、モデルを生成しました。\n",
    "\n",
    "レポート <a href=\"25-Create-doc2vec-model-wiki-myope.ipynb\"><b>25-Create-doc2vec-model-wiki-myope.ipynb</b></a> の手順にて生成しています。\n",
    "\n",
    "- コーパスが広大すぎてmy-ope文書と単語数が合わない為、Wikipedia文書は、句読点で１文書と扱う様にしています。\n",
    "\n",
    "\n",
    "- 説明文が非常に長いWikipedia文書は、全てを取り込むとタイトルと説明文との関連性が薄くなってしまう為、先頭から１０件の説明文だけを取り込む様にしています。"
   ]
  },
  {
   "cell_type": "markdown",
   "metadata": {
    "deletable": true,
    "editable": true
   },
   "source": [
    "### (1-2) モデルパラメータ"
   ]
  },
  {
   "cell_type": "markdown",
   "metadata": {
    "deletable": true,
    "editable": true
   },
   "source": [
    "下記の様にパラメータを指定しています。"
   ]
  },
  {
   "cell_type": "code",
   "execution_count": null,
   "metadata": {
    "collapsed": true,
    "deletable": true,
    "editable": true
   },
   "outputs": [],
   "source": [
    "model = Doc2Vec(documents=tagged_document_list, dm=0, size=200, \n",
    "                    window=20, min_count=1, iter=size*10, workers=100)"
   ]
  },
  {
   "cell_type": "markdown",
   "metadata": {
    "deletable": true,
    "editable": true
   },
   "source": [
    "## (2) TF-IDF vs Doc2Vecでaccuracy比較"
   ]
  },
  {
   "cell_type": "markdown",
   "metadata": {
    "deletable": true,
    "editable": true
   },
   "source": [
    "為念で３回試行しています。大きな変化は見られませんでした。"
   ]
  },
  {
   "cell_type": "markdown",
   "metadata": {
    "deletable": true,
    "editable": true
   },
   "source": [
    "| テストデータ | サンプル数 | accuracy（TF-IDF使用時） | <> | accuracy（Doc2Vec使用時） |\n",
    "| :--- | :---: | :---: | :---: | :---: | :---: | --- |\n",
    "| question_answers/toyotsu_human.csv | 317 | 0.975 | < | 0.978 |\n"
   ]
  },
  {
   "cell_type": "markdown",
   "metadata": {
    "deletable": true,
    "editable": true
   },
   "source": [
    "## (3) 文書のパターンによる精度の変化"
   ]
  },
  {
   "cell_type": "markdown",
   "metadata": {
    "deletable": true,
    "editable": true
   },
   "source": [
    "> 同じ意味だけど、異なる言い回しや単語を使用しているような文章で類似検索してみる\n",
    "\n",
    ">「〜ない」のような意味が逆転するfeatureを持つ文章をコサイン類似検索"
   ]
  },
  {
   "cell_type": "markdown",
   "metadata": {
    "deletable": true,
    "editable": true
   },
   "source": [
    "レポート <a href=\"26-Doc2Vec-Wiki-with-scikit_learn.ipynb\"><b>26-Doc2Vec-Wiki-with-scikit_learn.ipynb</b></a> の手順にて検証しております。\n",
    "\n",
    "ここでは結果のダイジェストを掲載します。"
   ]
  },
  {
   "cell_type": "markdown",
   "metadata": {
    "deletable": true,
    "editable": true
   },
   "source": [
    "### (3-1) 同じ意味だが言い回しが違う文書"
   ]
  },
  {
   "cell_type": "code",
   "execution_count": null,
   "metadata": {
    "collapsed": true,
    "deletable": true,
    "editable": true
   },
   "outputs": [],
   "source": [
    "# 正解＝6763\n",
    "search_simiarity('海外の出張費の精算の方法は？', loaded_model_dbow)"
   ]
  },
  {
   "cell_type": "markdown",
   "metadata": {
    "deletable": true,
    "editable": true
   },
   "source": [
    "```\n",
    "   answer_id  question_answer_id  similarity\n",
    "0       6763             13335.0    0.807660\n",
    "```"
   ]
  },
  {
   "cell_type": "code",
   "execution_count": null,
   "metadata": {
    "collapsed": true,
    "deletable": true,
    "editable": true
   },
   "outputs": [],
   "source": [
    "# 正解＝6763（違った言い回し）\n",
    "search_simiarity('海外出張時の費用を精算したいのですが', loaded_model_dbow)"
   ]
  },
  {
   "cell_type": "markdown",
   "metadata": {
    "deletable": true,
    "editable": true
   },
   "source": [
    "残念ながら、正解を得ることはできませんでした（similarityは上から９番目）。\n",
    "\n",
    "```\n",
    "   answer_id  question_answer_id  similarity\n",
    "0       6856             13430.0    0.796510\n",
    "1       6802             13377.0    0.795700\n",
    "2       6795             13370.0    0.780811\n",
    "3       6790             13364.0    0.769724\n",
    "4       6824             13398.0    0.765216\n",
    "5       6902             13476.0    0.760034\n",
    "6       6873             13447.0    0.758189\n",
    "7       6762             13334.0    0.754221\n",
    "8       6763             13335.0    0.751823\n",
    "```\n",
    "\n",
    "学習セットのmy-ope文書に、この文書のバリエーションが１件しかないのと、上記のような言い回しのWikipedia文書が少ないため、言い回しの違いにうまく対応できていないものと考えております。"
   ]
  },
  {
   "cell_type": "markdown",
   "metadata": {
    "deletable": true,
    "editable": true
   },
   "source": [
    "### (3-2) 意味が逆転するfeatureを持つ文書"
   ]
  },
  {
   "cell_type": "markdown",
   "metadata": {
    "deletable": true,
    "editable": true
   },
   "source": [
    "あらかじめ、意味が逆転するfeatureを持つ文書を、学習セットに追加しておけば、対応できそうなことは確認できました。"
   ]
  },
  {
   "cell_type": "code",
   "execution_count": null,
   "metadata": {
    "collapsed": true,
    "deletable": true,
    "editable": true
   },
   "outputs": [],
   "source": [
    "# 正解＝6975\n",
    "search_simiarity('退職金の振込口座を変えたい', loaded_model_dbow) "
   ]
  },
  {
   "cell_type": "markdown",
   "metadata": {
    "deletable": true,
    "editable": true
   },
   "source": [
    "```\n",
    "   answer_id  question_answer_id  similarity\n",
    "0       6975             13555.0    0.990793\n",
    "1       7050             13700.0    0.965827\n",
    "2       6997             13577.0    0.795659\n",
    "```"
   ]
  },
  {
   "cell_type": "code",
   "execution_count": null,
   "metadata": {
    "collapsed": true,
    "deletable": true,
    "editable": true
   },
   "outputs": [],
   "source": [
    "# 正解＝7050（6975の反対として設定）\n",
    "search_simiarity('退職金の振込口座を変えたくない', loaded_model_dbow) "
   ]
  },
  {
   "cell_type": "markdown",
   "metadata": {
    "deletable": true,
    "editable": true
   },
   "source": [
    "```\n",
    "   answer_id  question_answer_id  similarity\n",
    "0       7050             13700.0    0.990555\n",
    "1       6975             13555.0    0.957918\n",
    "2       6997             13577.0    0.790626\n",
    "```"
   ]
  }
 ],
 "metadata": {
  "kernelspec": {
   "display_name": "Python 3",
   "language": "python",
   "name": "python3"
  },
  "language_info": {
   "codemirror_mode": {
    "name": "ipython",
    "version": 3
   },
   "file_extension": ".py",
   "mimetype": "text/x-python",
   "name": "python",
   "nbconvert_exporter": "python",
   "pygments_lexer": "ipython3",
   "version": "3.5.2"
  }
 },
 "nbformat": 4,
 "nbformat_minor": 2
}
