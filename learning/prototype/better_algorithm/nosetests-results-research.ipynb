{
 "cells": [
  {
   "cell_type": "markdown",
   "metadata": {
    "deletable": true,
    "editable": true
   },
   "source": [
    "# 不均衡ラベル誘導についての調査"
   ]
  },
  {
   "cell_type": "markdown",
   "metadata": {
    "deletable": true,
    "editable": true
   },
   "source": [
    "## (1) 概要\n",
    "\n",
    "test_benefitone_conversation_mlp.pyにおいて、以下の通り、中途半端にfeatureが抽出された場合、不均衡ラベル[4678]に誘導されてしまう現象が見られました。"
   ]
  },
  {
   "cell_type": "markdown",
   "metadata": {
    "deletable": true,
    "editable": true
   },
   "source": [
    "```\n",
    "MacBookPro-makmorit-jp:learning makmorit$ nosetests -s learning/tests/engine/test_benefitone_conversation_mlp.py\n",
    ":\n",
    "======================================================================\n",
    "FAIL: 抽出featureがある場合\n",
    "----------------------------------------------------------------------\n",
    "Traceback (most recent call last):\n",
    "  File \"/Users/makmorit/GitHub/donusagi-bot/learning/learning/tests/engine/test_benefitone_conversation_mlp.py\", line 49, in test_dislike_carrot\n",
    "    ok_(result.answer_id == Reply.CLASSIFY_FAILED_ANSWER_ID or result.probability < self.threshold)\n",
    "AssertionError: None\n",
    ":\n",
    "learning.log: DEBUG: Reply#perform text_array.separated_sentences: ['ニンジン 嫌い 出す ない']\n",
    "learning.log: DEBUG: TextArray#to_vec start\n",
    "learning.log: DEBUG: TextArray#to_vec end\n",
    "learning.log: DEBUG: Reply#perform features:   (0, 51)\t0.707106781187\n",
    "  (0, 281)\t0.707106781187\n",
    "learning.log: DEBUG: question: ニンジンが嫌いなので出さないでください\n",
    "learning.log: DEBUG: question_feature_count: 2\n",
    "learning.log: DEBUG: predicted results (order by probability desc)\n",
    "learning.log: DEBUG: {'probability': 0.95676519513680003, 'answer_id': 4678.0}\n",
    "learning.log: DEBUG: {'probability': 0.020753506184116418, 'answer_id': 0.0}\n",
    ":\n",
    "FAILED (failures=1)\n",
    "```"
   ]
  },
  {
   "cell_type": "markdown",
   "metadata": {},
   "source": [
    "こちらの原因等について詳細調査しましたところ、抽出された「ない」「出す」というfeatureから、それなりに高い重み付けで不均衡ラベル「4678」へ誘導されたことが確認されております。\n",
    "\n",
    "\n",
    "- ない --(重み=0.783201)--> Unit:16 --(重み=0.421332)--> label:4678\n",
    "\n",
    "\n",
    "- 出す --(重み=1.144951)--> Unit:83 --(重み=0.474521)--> label:4678"
   ]
  },
  {
   "cell_type": "markdown",
   "metadata": {
    "deletable": true,
    "editable": true
   },
   "source": [
    "## (2) 抽出されたfeatureを確認\n",
    "\n",
    "抽出されたfeatureと、そのTF-IDF値は以下の通りでした。\n",
    "\n",
    "- (51, 'ない', 0.70710678118654746)\n",
    "\n",
    "\n",
    "- (281, '出す', 0.70710678118654746)"
   ]
  },
  {
   "cell_type": "code",
   "execution_count": 1,
   "metadata": {
    "collapsed": true,
    "deletable": true,
    "editable": true
   },
   "outputs": [],
   "source": [
    "'''\n",
    "    テスト環境を準備するためのモジュールを使用します。\n",
    "'''\n",
    "import sys\n",
    "import os\n",
    "learning_dir = os.path.abspath(\"../../\") #<--- donusagi-bot/learning\n",
    "os.chdir(learning_dir)\n",
    "\n",
    "if learning_dir not in sys.path:\n",
    "    sys.path.append(learning_dir)"
   ]
  },
  {
   "cell_type": "code",
   "execution_count": 2,
   "metadata": {
    "collapsed": false,
    "deletable": true,
    "editable": true
   },
   "outputs": [],
   "source": [
    "'''\n",
    "    学習ずみモデルを取得\n",
    "    bot_id = 995\n",
    "'''\n",
    "from learning.core.persistance import Persistance\n",
    "\n",
    "bot_id = 995\n",
    "estimator = Persistance.load_model(bot_id)\n",
    "vectorizer = Persistance.load_vectorizer(bot_id)"
   ]
  },
  {
   "cell_type": "code",
   "execution_count": 3,
   "metadata": {
    "collapsed": false,
    "deletable": true,
    "editable": true
   },
   "outputs": [
    {
     "name": "stderr",
     "output_type": "stream",
     "text": [
      "2017/04/20 PM 04:39:10 TextArray#__init__ start\n"
     ]
    },
    {
     "data": {
      "text/plain": [
       "['ニンジン 嫌い 出す ない']"
      ]
     },
     "execution_count": 3,
     "metadata": {},
     "output_type": "execute_result"
    }
   ],
   "source": [
    "from learning.core.training_set.text_array import TextArray\n",
    "\n",
    "questions = ['ニンジンが嫌いなので出さないでください']\n",
    "text_array = TextArray(questions, vectorizer=vectorizer)\n",
    "text_array.separated_sentences"
   ]
  },
  {
   "cell_type": "code",
   "execution_count": 4,
   "metadata": {
    "collapsed": false,
    "deletable": true,
    "editable": true
   },
   "outputs": [
    {
     "name": "stderr",
     "output_type": "stream",
     "text": [
      "2017/04/20 PM 04:39:10 TextArray#to_vec start\n",
      "2017/04/20 PM 04:39:10 TextArray#to_vec end\n"
     ]
    },
    {
     "data": {
      "text/plain": [
       "<1x644 sparse matrix of type '<class 'numpy.float64'>'\n",
       "\twith 2 stored elements in Compressed Sparse Row format>"
      ]
     },
     "execution_count": 4,
     "metadata": {},
     "output_type": "execute_result"
    }
   ],
   "source": [
    "features = text_array.to_vec()\n",
    "features"
   ]
  },
  {
   "cell_type": "code",
   "execution_count": 5,
   "metadata": {
    "collapsed": true,
    "deletable": true,
    "editable": true
   },
   "outputs": [],
   "source": [
    "def get_item_from_vocabulary(vocabulary, index):\n",
    "    '''\n",
    "        vocabulary から\n",
    "        指定インデックスの単語を参照\n",
    "    '''\n",
    "    for k, v in vocabulary.items():\n",
    "        if v == index:\n",
    "            return k\n",
    "\n",
    "    return None\n",
    "\n",
    "def get_word_and_tfidfval_of_features(features, vocabulary):\n",
    "    '''\n",
    "        抽出featureのindexに対応する単語を、\n",
    "        TF-IDF値と合わせて戻す\n",
    "    '''\n",
    "    features_list = []\n",
    "    \n",
    "    _, indices = features.nonzero()\n",
    "    for index in indices:\n",
    "        word = get_item_from_vocabulary(vocabulary, index)\n",
    "        tfidfval = features[0, index]\n",
    "        features_list.append((index, word, tfidfval))\n",
    "        \n",
    "    return features_list"
   ]
  },
  {
   "cell_type": "code",
   "execution_count": 6,
   "metadata": {
    "collapsed": false,
    "deletable": true,
    "editable": true,
    "scrolled": true
   },
   "outputs": [
    {
     "data": {
      "text/plain": [
       "[(51, 'ない', 0.70710678118654746), (281, '出す', 0.70710678118654746)]"
      ]
     },
     "execution_count": 6,
     "metadata": {},
     "output_type": "execute_result"
    }
   ],
   "source": [
    "get_word_and_tfidfval_of_features(features, vectorizer.vocabulary_)"
   ]
  },
  {
   "cell_type": "markdown",
   "metadata": {},
   "source": [
    "## (3) MLPモデルの内容を確認\n",
    "\n",
    "'ない' '出す' というfeatureから不均衡ラベル[4678]へ誘導する <a href=\"06-simplified.ipynb\"><b>ユニット</b></a> を持っているかどうかを確認します。\n",
    "\n",
    "生成されたMLPモデルの重み（影響変数＋バイアス）を確認し、上記テスト結果に至った裏付けを取ります。"
   ]
  },
  {
   "cell_type": "code",
   "execution_count": 7,
   "metadata": {
    "collapsed": true
   },
   "outputs": [],
   "source": [
    "HIDDEN_LAYER = 0\n",
    "OUTPUT_LAYER = 1\n",
    "threshold = 0.75 # 便宜的に決めています\n",
    "\n",
    "index_dasu = 281 # (281, '出す')\n",
    "index_nai  = 51  # (51, 'ない')"
   ]
  },
  {
   "cell_type": "markdown",
   "metadata": {},
   "source": [
    "### (3-1) 中間ユニットの内容を確認\n",
    "\n",
    "'ない' '出す' というfeatureから、どの中間ユニットへ誘導される可能性があるかを確認します。"
   ]
  },
  {
   "cell_type": "code",
   "execution_count": 8,
   "metadata": {
    "collapsed": false
   },
   "outputs": [
    {
     "name": "stdout",
     "output_type": "stream",
     "text": [
      "Count: feature=644, unit of hidden layer=100\n"
     ]
    }
   ],
   "source": [
    "import numpy as np\n",
    "s = np.size(estimator.coefs_[HIDDEN_LAYER], axis=0) # <--- featureの数になります\n",
    "u = np.size(estimator.coefs_[HIDDEN_LAYER], axis=1) # <--- ユニットの数になります\n",
    "print ('Count: feature=%d, unit of hidden layer=%d' % (s, u))"
   ]
  },
  {
   "cell_type": "code",
   "execution_count": 9,
   "metadata": {
    "collapsed": false
   },
   "outputs": [
    {
     "data": {
      "text/plain": [
       "100"
      ]
     },
     "execution_count": 9,
     "metadata": {},
     "output_type": "execute_result"
    }
   ],
   "source": [
    "'''\n",
    "     ユニットごとのバイアスを取得\n",
    "'''\n",
    "intercepts_unit = estimator.intercepts_[HIDDEN_LAYER]\n",
    "np.size(intercepts_unit)"
   ]
  },
  {
   "cell_type": "code",
   "execution_count": 10,
   "metadata": {
    "collapsed": false
   },
   "outputs": [],
   "source": [
    "'''\n",
    "     feature「ない」に対する、ユニットごとの重みを取得\n",
    "'''\n",
    "coefs_nai = estimator.coefs_[HIDDEN_LAYER][index_dasu]\n",
    "omomi_nai = coefs_nai + intercepts_unit\n",
    "indices_nai = np.where(omomi_nai > threshold) # 大きいものだけ抽出"
   ]
  },
  {
   "cell_type": "code",
   "execution_count": 11,
   "metadata": {
    "collapsed": false,
    "deletable": true,
    "editable": true
   },
   "outputs": [],
   "source": [
    "'''\n",
    "     feature「出す」に対する、ユニットごとの重みを取得\n",
    "'''\n",
    "coefs_dasu = estimator.coefs_[HIDDEN_LAYER][index_nai] \n",
    "omomi_dasu = coefs_dasu + intercepts_unit\n",
    "indices_dasu = np.where(omomi_dasu > threshold) # 大きいものだけ抽出"
   ]
  },
  {
   "cell_type": "code",
   "execution_count": 12,
   "metadata": {
    "collapsed": false,
    "deletable": true,
    "editable": true,
    "scrolled": false
   },
   "outputs": [
    {
     "name": "stdout",
     "output_type": "stream",
     "text": [
      "index=16, omomi=0.783201\n",
      "index=36, omomi=0.839417\n",
      "index=62, omomi=0.785681\n",
      "index=63, omomi=0.868256\n",
      "index=97, omomi=0.751776\n"
     ]
    }
   ],
   "source": [
    "'''\n",
    "    feature「ない」から、どの中間ユニットへ誘導されやすかったか？\n",
    "'''\n",
    "list_nai = indices_nai[0]\n",
    "for i in list_nai:\n",
    "    print('index=%d, omomi=%0.6f' % (i, omomi_nai[i]))"
   ]
  },
  {
   "cell_type": "code",
   "execution_count": 13,
   "metadata": {
    "collapsed": false,
    "deletable": true,
    "editable": true,
    "scrolled": false
   },
   "outputs": [
    {
     "name": "stdout",
     "output_type": "stream",
     "text": [
      "index=5, omomi=1.044044\n",
      "index=6, omomi=0.797699\n",
      "index=9, omomi=0.907592\n",
      "index=15, omomi=1.074607\n",
      "index=32, omomi=0.885518\n",
      "index=50, omomi=0.769279\n",
      "index=83, omomi=1.144951\n",
      "index=85, omomi=0.962114\n",
      "index=88, omomi=1.133707\n",
      "index=95, omomi=0.807744\n",
      "index=99, omomi=0.972738\n"
     ]
    }
   ],
   "source": [
    "'''\n",
    "    feature「出す」から、どの中間ユニットへ誘導されやすかったか？\n",
    "'''\n",
    "list_dasu = indices_dasu[0]\n",
    "for i in list_dasu:\n",
    "    print('index=%d, omomi=%0.6f' % (i, omomi_dasu[i]))"
   ]
  },
  {
   "cell_type": "markdown",
   "metadata": {},
   "source": [
    "### (3-2) 出力ユニットの内容を確認\n",
    "\n",
    "どの中間ユニットから、不均衡ラベルへ誘導されやすいのかを確認します。"
   ]
  },
  {
   "cell_type": "code",
   "execution_count": 14,
   "metadata": {
    "collapsed": false,
    "scrolled": true
   },
   "outputs": [
    {
     "name": "stdout",
     "output_type": "stream",
     "text": [
      "Count: unit of hidden layer=100, label=85\n"
     ]
    }
   ],
   "source": [
    "import numpy as np\n",
    "s = np.size(estimator.coefs_[OUTPUT_LAYER], axis=0) # <--- 中間ユニットの数になります\n",
    "u = np.size(estimator.coefs_[OUTPUT_LAYER], axis=1) # <--- 出力ユニット（＝ラベル）の数になります\n",
    "print ('Count: unit of hidden layer=%d, label=%d' % (s, u))"
   ]
  },
  {
   "cell_type": "code",
   "execution_count": 15,
   "metadata": {
    "collapsed": false
   },
   "outputs": [
    {
     "data": {
      "text/plain": [
       "2"
      ]
     },
     "execution_count": 15,
     "metadata": {},
     "output_type": "execute_result"
    }
   ],
   "source": [
    "'''\n",
    "    出力レイヤーにおける\n",
    "    不均衡ラベル「4678」のインデックスを取得\n",
    "'''\n",
    "index_imbalanced_label = np.where(estimator.classes_ == 4678)[0][0]\n",
    "index_imbalanced_label"
   ]
  },
  {
   "cell_type": "code",
   "execution_count": 16,
   "metadata": {
    "collapsed": false,
    "scrolled": true
   },
   "outputs": [
    {
     "data": {
      "text/plain": [
       "0.137822537067083"
      ]
     },
     "execution_count": 16,
     "metadata": {},
     "output_type": "execute_result"
    }
   ],
   "source": [
    "'''\n",
    "     ラベルのバイアスを取得\n",
    "'''\n",
    "intercepts_imbalanced_label = estimator.intercepts_[OUTPUT_LAYER][index_imbalanced_label]\n",
    "intercepts_imbalanced_label"
   ]
  },
  {
   "cell_type": "code",
   "execution_count": 17,
   "metadata": {
    "collapsed": false,
    "scrolled": true
   },
   "outputs": [],
   "source": [
    "'''\n",
    "     不均衡ラベル「4678」に対する、ユニットごとの重みを取得\n",
    "'''\n",
    "coefs_imbalanced_label = estimator.coefs_[OUTPUT_LAYER].T[index_imbalanced_label]\n",
    "omomi_imbalanced_label = coefs_imbalanced_label + intercepts_imbalanced_label\n",
    "indices_imbalanced_label = np.where(omomi_imbalanced_label > 0.4) # 大きいものだけ抽出"
   ]
  },
  {
   "cell_type": "markdown",
   "metadata": {},
   "source": [
    "不均衡ラベルへ誘導されやすい中間ユニットが数多く存在しており、かつ、重みが突出した中間ユニットがありません。\n",
    "\n",
    "これは不均衡ラベルのサンプル数が多いため（＝多数のfeatureに紐づいているため）と考えております。"
   ]
  },
  {
   "cell_type": "code",
   "execution_count": 18,
   "metadata": {
    "collapsed": false,
    "scrolled": false
   },
   "outputs": [
    {
     "name": "stdout",
     "output_type": "stream",
     "text": [
      "index=3, omomi=0.434943\n",
      "index=4, omomi=0.423275\n",
      "index=7, omomi=0.432055\n",
      "index=8, omomi=0.410107\n",
      "index=10, omomi=0.527233\n",
      "index=13, omomi=0.446270\n",
      "index=14, omomi=0.443815\n",
      "index=16, omomi=0.421332\n",
      "index=18, omomi=0.415889\n",
      "index=22, omomi=0.423265\n",
      "index=23, omomi=0.600548\n",
      "index=24, omomi=0.662215\n",
      "index=26, omomi=0.429349\n",
      "index=28, omomi=0.469438\n",
      "index=30, omomi=0.498986\n",
      "index=33, omomi=0.411246\n",
      "index=39, omomi=0.426341\n",
      "index=42, omomi=0.488096\n",
      "index=46, omomi=0.583862\n",
      "index=49, omomi=0.434946\n",
      "index=51, omomi=0.471685\n",
      "index=55, omomi=0.459479\n",
      "index=56, omomi=0.485934\n",
      "index=57, omomi=0.538479\n",
      "index=58, omomi=0.461232\n",
      "index=59, omomi=0.442490\n",
      "index=61, omomi=0.433435\n",
      "index=65, omomi=0.455136\n",
      "index=67, omomi=0.501318\n",
      "index=69, omomi=0.423495\n",
      "index=71, omomi=0.436998\n",
      "index=73, omomi=0.519264\n",
      "index=79, omomi=0.480239\n",
      "index=83, omomi=0.474521\n",
      "index=84, omomi=0.482857\n",
      "index=87, omomi=0.555365\n",
      "index=89, omomi=0.508266\n",
      "index=91, omomi=0.400067\n",
      "index=94, omomi=0.451061\n"
     ]
    }
   ],
   "source": [
    "'''\n",
    "    どの中間ユニットから、不均衡ラベル「4678」へ誘導されやすかったか？\n",
    "'''\n",
    "list_imbalanced_label = indices_imbalanced_label[0]\n",
    "for i in list_imbalanced_label:\n",
    "    print('index=%d, omomi=%0.6f' % (i, omomi_imbalanced_label[i]))"
   ]
  },
  {
   "cell_type": "markdown",
   "metadata": {
    "deletable": true,
    "editable": true
   },
   "source": [
    "### (3-3) featureから不均衡ラベルへの誘導ルートを確認\n",
    "\n",
    "'ない' '出す' しかfeatureを持たない質問文でも、不均衡ラベル[4678]へ誘導されてしまう可能性があることの裏付けを取ります。"
   ]
  },
  {
   "cell_type": "code",
   "execution_count": 19,
   "metadata": {
    "collapsed": false
   },
   "outputs": [
    {
     "name": "stdout",
     "output_type": "stream",
     "text": [
      "ない --(重み=0.783201)--> Unit:16 --(重み=0.421332)--> label:4678\n",
      "出す --(重み=1.144951)--> Unit:83 --(重み=0.474521)--> label:4678\n"
     ]
    }
   ],
   "source": [
    "'''\n",
    "    feature「ない」「出す」から、\n",
    "    不均衡ラベル「4678」にいたるまで、\n",
    "    どのユニットの経路を辿ったか？\n",
    "    （そしてその重みは？）\n",
    "'''\n",
    "units = [u for u in list_imbalanced_label if u in list_nai]\n",
    "for i in units:\n",
    "    print('ない --(重み=%0.6f)--> Unit:%d --(重み=%0.6f)--> label:4678' % (omomi_nai[i], i, omomi_imbalanced_label[i]))\n",
    "\n",
    "units = [u for u in list_imbalanced_label if u in list_dasu]\n",
    "for i in units:\n",
    "    print('出す --(重み=%0.6f)--> Unit:%d --(重み=%0.6f)--> label:4678' % (omomi_dasu[i], i, omomi_imbalanced_label[i]))"
   ]
  }
 ],
 "metadata": {
  "kernelspec": {
   "display_name": "Python 3",
   "language": "python",
   "name": "python3"
  },
  "language_info": {
   "codemirror_mode": {
    "name": "ipython",
    "version": 3
   },
   "file_extension": ".py",
   "mimetype": "text/x-python",
   "name": "python",
   "nbconvert_exporter": "python",
   "pygments_lexer": "ipython3",
   "version": "3.5.2"
  }
 },
 "nbformat": 4,
 "nbformat_minor": 2
}
