{
 "cells": [
  {
   "cell_type": "markdown",
   "metadata": {
    "deletable": true,
    "editable": true
   },
   "source": [
    "# 改修後のnosetests結果\n",
    "\n"
   ]
  },
  {
   "cell_type": "markdown",
   "metadata": {
    "deletable": true,
    "editable": true
   },
   "source": [
    "## (1) test_benefitone_conversation_mlp.py\n",
    "\n",
    "以下の通り、中途半端にfeatureが抽出された場合、不均衡ラベル[4678]に誘導されてしまう現象が見られました。\n",
    "\n",
    "なお、proba = 0.95676519513680003 でした。"
   ]
  },
  {
   "cell_type": "markdown",
   "metadata": {
    "deletable": true,
    "editable": true
   },
   "source": [
    "```\n",
    "MacBookPro-makmorit-jp:learning makmorit$ nosetests -s learning/tests/engine/test_benefitone_conversation_mlp.py\n",
    "/Library/Frameworks/Python.framework/Versions/3.5/lib/python3.5/site-packages/sklearn/cross_validation.py:44: DeprecationWarning: This module was deprecated in version 0.18 in favor of the model_selection module into which all the refactored classes and functions are moved. Also note that the interface of the new CV iterators are different from that of this module. This module will be removed in 0.20.\n",
    "  \"This module will be removed in 0.20.\", DeprecationWarning)\n",
    "/Library/Frameworks/Python.framework/Versions/3.5/lib/python3.5/site-packages/sklearn/grid_search.py:43: DeprecationWarning: This module was deprecated in version 0.18 in favor of the model_selection module into which all the refactored classes and functions are moved. This module will be removed in 0.20.\n",
    "  DeprecationWarning)\n",
    "{'database': {'name': 'donusagi_bot_test', 'host': 'localhost', 'user': 'root', 'password': '6mR%9T4g', 'endpoint': 'mysql://root@localhost/donusagi_bot_test?charset=utf8'}}\n",
    "0.987378640777\n",
    "{'database': {'name': 'donusagi_bot_test', 'host': 'localhost', 'user': 'root', 'password': '6mR%9T4g', 'endpoint': 'mysql://root@localhost/donusagi_bot_test?charset=utf8'}}\n",
    "F{'database': {'name': 'donusagi_bot_test', 'host': 'localhost', 'user': 'root', 'password': '6mR%9T4g', 'endpoint': 'mysql://root@localhost/donusagi_bot_test?charset=utf8'}}\n",
    ".{'database': {'name': 'donusagi_bot_test', 'host': 'localhost', 'user': 'root', 'password': '6mR%9T4g', 'endpoint': 'mysql://root@localhost/donusagi_bot_test?charset=utf8'}}\n",
    ".{'database': {'name': 'donusagi_bot_test', 'host': 'localhost', 'user': 'root', 'password': '6mR%9T4g', 'endpoint': 'mysql://root@localhost/donusagi_bot_test?charset=utf8'}}\n",
    ".\n",
    "======================================================================\n",
    "FAIL: 抽出featureがある場合\n",
    "----------------------------------------------------------------------\n",
    "Traceback (most recent call last):\n",
    "  File \"/Users/makmorit/GitHub/donusagi-bot/learning/learning/tests/engine/test_benefitone_conversation_mlp.py\", line 49, in test_dislike_carrot\n",
    "    ok_(result.answer_id == Reply.CLASSIFY_FAILED_ANSWER_ID or result.probability < self.threshold)\n",
    "AssertionError: None\n",
    "-------------------- >> begin captured logging << --------------------\n",
    "learning.log: DEBUG: learning_parameter: {'_classify_threshold': None, '_algorithm': 2, '_params_for_algorithm': {}, '_excluded_labels_for_fitting': [], '_include_tag_vector': False, '_use_similarity_classification': False, '_include_failed_data': False}\n",
    "learning.log: DEBUG: start Bot#learn\n",
    "learning.log: DEBUG: TrainingMessageFromCsv#__build_learning_training_messages count of learning data: 4114\n",
    "learning.log: DEBUG: TextArray#__init__ start\n",
    "learning.log: DEBUG: TextArray#to_vec start\n",
    "learning.log: DEBUG: TextArray#to_vec end\n",
    "learning.log: DEBUG: Bot#__build_training_set training_set.count_sample_by_y: [[0, 3], [4677, 14], [4678, 2584], [4679, 14], [4680, 14], [4683, 14], [4686, 14], [4687, 8], [4690, 8], [4691, 14], [4692, 44], [4693, 30], [4700, 12], [4707, 18], [4708, 14], [4709, 14], [4710, 14], [4711, 14], [4712, 16], [4713, 14], [4718, 20], [4719, 8], [4720, 20], [4721, 8], [4724, 8], [4727, 14], [4728, 62], [4729, 26], [4730, 20], [4731, 14], [4732, 22], [4733, 14], [4734, 34], [4735, 12], [4738, 14], [4739, 14], [4740, 14], [4741, 8], [4742, 20], [4743, 14], [4744, 14], [4745, 20], [4750, 22], [4751, 20], [4752, 14], [4753, 8], [4754, 8], [4755, 14], [4756, 20], [4757, 8], [4758, 28], [4759, 14], [4760, 8], [4761, 20], [4762, 8], [4766, 14], [4767, 14], [4772, 60], [4776, 8], [4781, 14], [4782, 14], [4783, 20], [4786, 8], [4792, 20], [4793, 8], [4794, 8], [4795, 14], [4797, 42], [4798, 36], [4800, 14], [4802, 14], [4804, 14], [4807, 8], [4808, 106], [4817, 26], [4821, 24], [4824, 16], [4827, 8], [4830, 22], [4831, 14], [4833, 14], [4834, 14], [4835, 36], [4836, 30], [4837, 8]]\n",
    "learning.log: DEBUG: use algorithm: Multi-layer Perceptron\n",
    "learning.log: DEBUG: learning_parameter has not parameter [activation]\n",
    "learning.log: DEBUG: best_params_: {'activation': 'relu'}\n",
    "learning.log: DEBUG: after Bot#__get_estimator\n",
    "learning.log: DEBUG: before Evaluator#evaluate\n",
    "learning.log: DEBUG: self.threshold: 0.0\n",
    "learning.log: DEBUG: Evaluator#evaluate#elapsed time: 6456.613064 ms\n",
    "learning.log: DEBUG: accuracy: 0.987378640777\n",
    "learning.log: DEBUG: end Bot#learn\n",
    "learning.log: DEBUG: Bot.learn processing time: 114.59693789482117 [sec]\n",
    "learning.log: DEBUG: TextArray#__init__ start\n",
    "learning.log: DEBUG: Reply#perform text_array.separated_sentences: ['ニンジン 嫌い 出す ない']\n",
    "learning.log: DEBUG: TextArray#to_vec start\n",
    "learning.log: DEBUG: TextArray#to_vec end\n",
    "learning.log: DEBUG: Reply#perform features:   (0, 51)\t0.707106781187\n",
    "  (0, 281)\t0.707106781187\n",
    "learning.log: DEBUG: question: ニンジンが嫌いなので出さないでください\n",
    "learning.log: DEBUG: question_feature_count: 2\n",
    "learning.log: DEBUG: predicted results (order by probability desc)\n",
    "learning.log: DEBUG: {'probability': 0.95676519513680003, 'answer_id': 4678.0}\n",
    "learning.log: DEBUG: {'probability': 0.020753506184116418, 'answer_id': 0.0}\n",
    "learning.log: DEBUG: {'probability': 0.0016617278049485366, 'answer_id': 4808.0}\n",
    "learning.log: DEBUG: {'probability': 0.0016317526460862663, 'answer_id': 4709.0}\n",
    "learning.log: DEBUG: {'probability': 0.001172408896291127, 'answer_id': 4751.0}\n",
    "learning.log: DEBUG: {'probability': 0.0011348545185659686, 'answer_id': 4772.0}\n",
    "learning.log: DEBUG: {'probability': 0.00098951035444733615, 'answer_id': 4710.0}\n",
    "learning.log: DEBUG: {'probability': 0.00092530775858296066, 'answer_id': 4761.0}\n",
    "learning.log: DEBUG: {'probability': 0.00088183610320924095, 'answer_id': 4713.0}\n",
    "learning.log: DEBUG: {'probability': 0.00088092929970322374, 'answer_id': 4817.0}\n",
    "--------------------- >> end captured logging << ---------------------\n",
    "\n",
    "----------------------------------------------------------------------\n",
    "Ran 4 tests in 114.724s\n",
    "\n",
    "FAILED (failures=1)\n",
    "```"
   ]
  },
  {
   "cell_type": "markdown",
   "metadata": {
    "deletable": true,
    "editable": true
   },
   "source": [
    "### (1-1) 抽出されたfeatureを確認\n",
    "\n",
    "抽出されたfeatureと、そのTF-IDF値は以下の通りでした。\n",
    "\n",
    "- (51, 'ない', 0.70710678118654746)\n",
    "\n",
    "\n",
    "- (281, '出す', 0.70710678118654746)\n",
    "\n",
    "\n",
    "（2017/04/19 時点での）推測ですが、以下のように考えております。\n",
    "\n",
    "- 生成されたMLPモデルが、'ない' '出す' というfeatureから不均衡ラベル[4678]へ誘導する <a href=\"06-simplified.ipynb\"><b>ユニット</b></a> を持っている\n",
    "\n",
    "\n",
    "- その結果、'ない' '出す' しかfeatureを持たない質問文でも、不均衡ラベル[4678]へ誘導される"
   ]
  },
  {
   "cell_type": "code",
   "execution_count": 1,
   "metadata": {
    "collapsed": true,
    "deletable": true,
    "editable": true
   },
   "outputs": [],
   "source": [
    "'''\n",
    "    テスト環境を準備するためのモジュールを使用します。\n",
    "'''\n",
    "import sys\n",
    "import os\n",
    "learning_dir = os.path.abspath(\"../../\") #<--- donusagi-bot/learning\n",
    "os.chdir(learning_dir)\n",
    "\n",
    "if learning_dir not in sys.path:\n",
    "    sys.path.append(learning_dir)"
   ]
  },
  {
   "cell_type": "code",
   "execution_count": 2,
   "metadata": {
    "collapsed": false,
    "deletable": true,
    "editable": true
   },
   "outputs": [],
   "source": [
    "'''\n",
    "    学習ずみモデルを取得\n",
    "    bot_id = 995\n",
    "'''\n",
    "from learning.core.persistance import Persistance\n",
    "\n",
    "bot_id = 995\n",
    "estimator = Persistance.load_model(bot_id)\n",
    "vectorizer = Persistance.load_vectorizer(bot_id)"
   ]
  },
  {
   "cell_type": "code",
   "execution_count": 3,
   "metadata": {
    "collapsed": false,
    "deletable": true,
    "editable": true
   },
   "outputs": [
    {
     "name": "stderr",
     "output_type": "stream",
     "text": [
      "2017/04/19 PM 03:25:06 TextArray#__init__ start\n"
     ]
    },
    {
     "data": {
      "text/plain": [
       "['ニンジン 嫌い 出す ない']"
      ]
     },
     "execution_count": 3,
     "metadata": {},
     "output_type": "execute_result"
    }
   ],
   "source": [
    "from learning.core.training_set.text_array import TextArray\n",
    "\n",
    "questions = ['ニンジンが嫌いなので出さないでください']\n",
    "text_array = TextArray(questions, vectorizer=vectorizer)\n",
    "text_array.separated_sentences"
   ]
  },
  {
   "cell_type": "code",
   "execution_count": 4,
   "metadata": {
    "collapsed": false,
    "deletable": true,
    "editable": true
   },
   "outputs": [
    {
     "name": "stderr",
     "output_type": "stream",
     "text": [
      "2017/04/19 PM 03:25:10 TextArray#to_vec start\n",
      "2017/04/19 PM 03:25:10 TextArray#to_vec end\n"
     ]
    },
    {
     "data": {
      "text/plain": [
       "<1x644 sparse matrix of type '<class 'numpy.float64'>'\n",
       "\twith 2 stored elements in Compressed Sparse Row format>"
      ]
     },
     "execution_count": 4,
     "metadata": {},
     "output_type": "execute_result"
    }
   ],
   "source": [
    "features = text_array.to_vec()\n",
    "features"
   ]
  },
  {
   "cell_type": "code",
   "execution_count": 5,
   "metadata": {
    "collapsed": true,
    "deletable": true,
    "editable": true
   },
   "outputs": [],
   "source": [
    "def get_item_from_vocabulary(vocabulary, index):\n",
    "    '''\n",
    "        vocabulary から\n",
    "        指定インデックスの単語を参照\n",
    "    '''\n",
    "    for k, v in vocabulary.items():\n",
    "        if v == index:\n",
    "            return k\n",
    "\n",
    "    return None\n",
    "\n",
    "def get_word_and_tfidfval_of_features(features, vocabulary):\n",
    "    '''\n",
    "        抽出featureのindexに対応する単語を、\n",
    "        TF-IDF値と合わせて戻す\n",
    "    '''\n",
    "    features_list = []\n",
    "    \n",
    "    _, indices = features.nonzero()\n",
    "    for index in indices:\n",
    "        word = get_item_from_vocabulary(vocabulary, index)\n",
    "        tfidfval = features[0, index]\n",
    "        features_list.append((index, word, tfidfval))\n",
    "        \n",
    "    return features_list"
   ]
  },
  {
   "cell_type": "code",
   "execution_count": 6,
   "metadata": {
    "collapsed": false,
    "deletable": true,
    "editable": true
   },
   "outputs": [
    {
     "data": {
      "text/plain": [
       "[(51, 'ない', 0.70710678118654746), (281, '出す', 0.70710678118654746)]"
      ]
     },
     "execution_count": 6,
     "metadata": {},
     "output_type": "execute_result"
    }
   ],
   "source": [
    "get_word_and_tfidfval_of_features(features, vectorizer.vocabulary_)"
   ]
  }
 ],
 "metadata": {
  "kernelspec": {
   "display_name": "Python 3",
   "language": "python",
   "name": "python3"
  },
  "language_info": {
   "codemirror_mode": {
    "name": "ipython",
    "version": 3
   },
   "file_extension": ".py",
   "mimetype": "text/x-python",
   "name": "python",
   "nbconvert_exporter": "python",
   "pygments_lexer": "ipython3",
   "version": "3.5.2"
  }
 },
 "nbformat": 4,
 "nbformat_minor": 2
}
