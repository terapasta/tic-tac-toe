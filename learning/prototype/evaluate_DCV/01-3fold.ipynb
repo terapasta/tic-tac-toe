{
 "cells": [
  {
   "cell_type": "markdown",
   "metadata": {
    "deletable": true,
    "editable": true
   },
   "source": [
    "# ダブルクロスバリデーションの確認（３分割時）\n",
    "\n",
    "scikit-learn のライブラリーを使用した、ダブルクロスバリデーションの手法についての確認です。\n",
    "\n",
    "こちらの記述を参考にさせていただきました。\n",
    "\n",
    "http://univprof.com/archives/16-06-12-3889388.html"
   ]
  },
  {
   "cell_type": "markdown",
   "metadata": {
    "deletable": true,
    "editable": true
   },
   "source": [
    "## (1) テストデータ／環境準備\n",
    "\n",
    "マイオペで使用しているテストデータ（learning/tests/engine/fixtures/ 配下のCSVファイル）をベースに動作確認を行います。\n",
    "\n",
    "動作確認にあたっては、MySQLdb に接続できないため、ローカル環境テスト用の Bot クラスを使用しています。"
   ]
  },
  {
   "cell_type": "code",
   "execution_count": 1,
   "metadata": {
    "collapsed": false,
    "deletable": true,
    "editable": true
   },
   "outputs": [],
   "source": [
    "'''\n",
    "    テスト環境を準備するためのモジュールを使用します。\n",
    "'''\n",
    "import sys\n",
    "import os\n",
    "learning_dir = os.path.abspath(\"../../\") #<--- donusagi-bot/learning\n",
    "os.chdir(learning_dir)\n",
    "\n",
    "if learning_dir not in sys.path:\n",
    "    sys.path.append(learning_dir)\n",
    "\n",
    "from prototype.modules import TestTool"
   ]
  },
  {
   "cell_type": "code",
   "execution_count": 2,
   "metadata": {
    "collapsed": false,
    "deletable": true,
    "editable": true,
    "scrolled": false
   },
   "outputs": [
    {
     "name": "stdout",
     "output_type": "stream",
     "text": [
      "CSV file for test=[/Users/makmorit/GitHub/donusagi-bot/learning/prototype/resources/test_daikin_conversation.csv]\n"
     ]
    },
    {
     "data": {
      "text/plain": [
       "['/Users/makmorit/GitHub/donusagi-bot/learning/prototype/resources/test_daikin_conversation.csv']"
      ]
     },
     "execution_count": 2,
     "metadata": {},
     "output_type": "execute_result"
    }
   ],
   "source": [
    "'''\n",
    "    データファイルは、既存の訓練データを別場所にコピーしてから使用します\n",
    "    テストデータは、csv_file_name で指定した複数件のファイルを使用します。\n",
    "'''\n",
    "csv_file_names = [\n",
    "    'test_daikin_conversation.csv',\n",
    "]\n",
    "copied_csv_file_paths = TestTool.copy_testdata_csv(learning_dir, csv_file_names)\n",
    "copied_csv_file_paths"
   ]
  },
  {
   "cell_type": "markdown",
   "metadata": {
    "deletable": true,
    "editable": true
   },
   "source": [
    "## (2) TF-IDFベクターの準備\n",
    "\n",
    "Bot クラス内に組み込まれている __build_training_set_from_csv 関数をバラして実行しています。"
   ]
  },
  {
   "cell_type": "code",
   "execution_count": 3,
   "metadata": {
    "collapsed": false,
    "deletable": true,
    "editable": true
   },
   "outputs": [],
   "source": [
    "'''\n",
    "    初期設定\n",
    "    データファイル、エンコードを指定\n",
    "    内容は、learn.py を参考にしました。    \n",
    "'''\n",
    "from learning.core.learn.learning_parameter import LearningParameter\n",
    "attr = {\n",
    "    'include_failed_data': False,\n",
    "    'include_tag_vector': False,\n",
    "    'classify_threshold': None,\n",
    "    # 'algorithm': LearningParameter.ALGORITHM_NAIVE_BAYES\n",
    "    'algorithm': LearningParameter.ALGORITHM_LOGISTIC_REGRESSION,\n",
    "    # 'params_for_algorithm': { 'C': 200 }\n",
    "    'params_for_algorithm': {}\n",
    "}\n",
    "learning_parameter = LearningParameter(attr)\n",
    "\n",
    "bot_id = 7777\n",
    "csv_file_encoding = 'utf-8'"
   ]
  },
  {
   "cell_type": "markdown",
   "metadata": {
    "deletable": true,
    "editable": true
   },
   "source": [
    "### (2-1) 訓練データのTF-IDFベクター"
   ]
  },
  {
   "cell_type": "code",
   "execution_count": 4,
   "metadata": {
    "collapsed": false,
    "deletable": true,
    "editable": true,
    "scrolled": true
   },
   "outputs": [
    {
     "name": "stderr",
     "output_type": "stream",
     "text": [
      "2017/03/28 PM 08:30:16 TrainingMessageFromCsv#__build_learning_training_messages count of learning data: 17443\n",
      "2017/03/28 PM 08:30:16 TextArray#__init__ start\n",
      "2017/03/28 PM 08:30:25 TextArray#to_vec start\n",
      "2017/03/28 PM 08:30:25 TextArray#to_vec end\n"
     ]
    }
   ],
   "source": [
    "'''\n",
    "    訓練データの生成（内部で TF-IDF 処理を実行）\n",
    "    \n",
    "    text_array.py における TF-IDF 処理では、\n",
    "    以下の通り「する」をストップワード化指定しております\n",
    "    \n",
    "    class TextArray:\n",
    "        :\n",
    "        def __build_vectorizer(self):\n",
    "            :\n",
    "            vectorizer = TfidfVectorizer(use_idf=False, token_pattern=u'(?u)\\\\b\\\\w+\\\\b', stop_words=['する'])\n",
    "'''\n",
    "#from learning.core.training_set.training_message_from_csv import TrainingMessageFromCsv\n",
    "from prototype.modules.training_message_from_csv import TrainingMessageFromCsv\n",
    "training_set = TrainingMessageFromCsv(bot_id, copied_csv_file_paths, learning_parameter, encoding=csv_file_encoding)\n",
    "build_training_set_from_csv = training_set.build()\n",
    "\n",
    "X = build_training_set_from_csv.x\n",
    "y = build_training_set_from_csv.y"
   ]
  },
  {
   "cell_type": "code",
   "execution_count": 5,
   "metadata": {
    "collapsed": false,
    "deletable": true,
    "editable": true,
    "scrolled": true
   },
   "outputs": [
    {
     "name": "stdout",
     "output_type": "stream",
     "text": [
      "sample=17443, feature=1967\n"
     ]
    }
   ],
   "source": [
    "n_sample = X.shape[0]\n",
    "n_feature = X.shape[1]\n",
    "print(\"sample=%d, feature=%d\" % (n_sample, n_feature))"
   ]
  },
  {
   "cell_type": "markdown",
   "metadata": {
    "deletable": true,
    "editable": true
   },
   "source": [
    "## (3) ダブルクロスバリデーションを使用しない場合"
   ]
  },
  {
   "cell_type": "markdown",
   "metadata": {
    "deletable": true,
    "editable": true
   },
   "source": [
    "### (3-1) モデル選択フェーズ\n",
    "\n",
    "C = 200 と決定されました。"
   ]
  },
  {
   "cell_type": "code",
   "execution_count": 6,
   "metadata": {
    "collapsed": false,
    "deletable": true,
    "editable": true,
    "scrolled": true
   },
   "outputs": [
    {
     "name": "stderr",
     "output_type": "stream",
     "text": [
      "/Library/Frameworks/Python.framework/Versions/3.5/lib/python3.5/site-packages/sklearn/cross_validation.py:44: DeprecationWarning: This module was deprecated in version 0.18 in favor of the model_selection module into which all the refactored classes and functions are moved. Also note that the interface of the new CV iterators are different from that of this module. This module will be removed in 0.20.\n",
      "  \"This module will be removed in 0.20.\", DeprecationWarning)\n",
      "/Library/Frameworks/Python.framework/Versions/3.5/lib/python3.5/site-packages/sklearn/grid_search.py:43: DeprecationWarning: This module was deprecated in version 0.18 in favor of the model_selection module into which all the refactored classes and functions are moved. This module will be removed in 0.20.\n",
      "  DeprecationWarning)\n",
      "/Library/Frameworks/Python.framework/Versions/3.5/lib/python3.5/site-packages/sklearn/cross_validation.py:552: Warning: The least populated class in y has only 2 members, which is too few. The minimum number of labels for any class cannot be less than n_folds=3.\n",
      "  % (min_labels, self.n_folds)), Warning)\n"
     ]
    },
    {
     "data": {
      "text/plain": [
       "{'C': 200}"
      ]
     },
     "execution_count": 6,
     "metadata": {},
     "output_type": "execute_result"
    }
   ],
   "source": [
    "from sklearn.grid_search import GridSearchCV\n",
    "from sklearn.linear_model import LogisticRegression\n",
    "import numpy as np\n",
    "\n",
    "''' \n",
    "    マイオペのプロダクション・コードから、\n",
    "    該当部分を抽出して実行しました\n",
    "    \n",
    "    ロジスティック回帰モデルを\n",
    "    ４通りのハイパーパラメータでグリッドサーチ\n",
    "'''\n",
    "params = {'C': [10, 100, 140, 200]}\n",
    "grid = GridSearchCV(LogisticRegression(), param_grid=params)\n",
    "grid.fit(X, y)\n",
    "estimator = grid.best_estimator_\n",
    "grid.best_params_"
   ]
  },
  {
   "cell_type": "markdown",
   "metadata": {
    "deletable": true,
    "editable": true
   },
   "source": [
    "### (3-2) モデル評価フェーズ\n",
    "\n",
    "Accuracy = 0.986 と評価されました。"
   ]
  },
  {
   "cell_type": "code",
   "execution_count": 7,
   "metadata": {
    "collapsed": false,
    "deletable": true,
    "editable": true
   },
   "outputs": [],
   "source": [
    "from sklearn.cross_validation import ShuffleSplit\n",
    "from sklearn.cross_validation import cross_val_score\n",
    "\n",
    "def __accuracy_score(estimator, X, y):\n",
    "    y_pred = estimator.predict(X)\n",
    "    probabilities = estimator.predict_proba(X)\n",
    "    max_probabilities = np.max(probabilities, axis=1)\n",
    "\n",
    "    # 予測結果と実際を比較\n",
    "    bools = y == y_pred\n",
    "    # しきい値を超えているもののみをTrueにする\n",
    "    bools = bools == (max_probabilities > 0.5)\n",
    "    # 正当率を算出\n",
    "    score = np.sum(bools) / np.size(bools, axis=0)\n",
    "    return score\n",
    "\n",
    "''' \n",
    "    マイオペのプロダクション・コードから、\n",
    "    該当部分を抽出して実行しました\n",
    "    \n",
    "    反復＝1回、テストデータ比率＝0.25\n",
    "'''\n",
    "cv = ShuffleSplit(X.shape[0], n_iter=1, test_size=0.25, random_state=0)\n",
    "accuracy = np.mean(cross_val_score(estimator, X, y, cv=cv, scoring=__accuracy_score))"
   ]
  },
  {
   "cell_type": "code",
   "execution_count": 8,
   "metadata": {
    "collapsed": false,
    "deletable": true,
    "editable": true
   },
   "outputs": [
    {
     "data": {
      "text/plain": [
       "0.98601238248108236"
      ]
     },
     "execution_count": 8,
     "metadata": {},
     "output_type": "execute_result"
    }
   ],
   "source": [
    "accuracy"
   ]
  },
  {
   "cell_type": "markdown",
   "metadata": {
    "deletable": true,
    "editable": true
   },
   "source": [
    "## (4) ダブルクロスバリデーションを使用する場合"
   ]
  },
  {
   "cell_type": "markdown",
   "metadata": {
    "deletable": true,
    "editable": true
   },
   "source": [
    "こちらの記述における手順を再現しています。\n",
    "\n",
    "http://univprof.com/archives/16-06-12-3889388.html\n",
    "\n",
    "ただし、データ分割は A, B, C の３分割としています。（上記例では A, B の２分割）"
   ]
  },
  {
   "cell_type": "markdown",
   "metadata": {
    "deletable": true,
    "editable": true
   },
   "source": [
    "### (4-0) データを分割\n",
    "\n",
    "元の訓練データを分割し、各サブデータセット（A, B, C）を作成します。\n",
    "\n",
    "データを重複無しに３分割する方法が見つからなかったので、ShuffleSplit を２段で実行しています。\n",
    "\n",
    "（ShuffleSplit を１段で３回繰り返すと、３分割されたデータ間で重複が発生してしまうことが判明したため、これを回避します）"
   ]
  },
  {
   "cell_type": "markdown",
   "metadata": {
    "deletable": true,
    "editable": true
   },
   "source": [
    "#### 訓練データを２：１で分け、１の部分をサブデータセット A とします。"
   ]
  },
  {
   "cell_type": "code",
   "execution_count": 9,
   "metadata": {
    "collapsed": false,
    "deletable": true,
    "editable": true
   },
   "outputs": [],
   "source": [
    "y = np.array(build_training_set_from_csv.y)"
   ]
  },
  {
   "cell_type": "code",
   "execution_count": 10,
   "metadata": {
    "collapsed": false,
    "deletable": true,
    "editable": true
   },
   "outputs": [
    {
     "name": "stdout",
     "output_type": "stream",
     "text": [
      "iteration=1\n"
     ]
    }
   ],
   "source": [
    "'''\n",
    "    分割されて取得されたテストデータ（３：１でShuffleSplitした１の部分）を\n",
    "    サブデータセット A と命名\n",
    "\n",
    "'''\n",
    "cv_1 = ShuffleSplit(X.shape[0], n_iter=1, test_size=0.333333, random_state=0)\n",
    "\n",
    "iter = 1\n",
    "for train_index, test_index in cv_1: # n_iter=1 なのでこのループは１回だけしか回りません。\n",
    "    subdataset_T_X, subdataset_A_X = X[train_index], X[test_index]\n",
    "    subdataset_T_y, subdataset_A_y = y[train_index], y[test_index]\n",
    "    print('iteration=%d' % iter)\n",
    "    iter += 1"
   ]
  },
  {
   "cell_type": "code",
   "execution_count": 11,
   "metadata": {
    "collapsed": false,
    "deletable": true,
    "editable": true
   },
   "outputs": [
    {
     "data": {
      "text/plain": [
       "<5815x1967 sparse matrix of type '<class 'numpy.float64'>'\n",
       "\twith 50019 stored elements in Compressed Sparse Row format>"
      ]
     },
     "execution_count": 11,
     "metadata": {},
     "output_type": "execute_result"
    }
   ],
   "source": [
    "subdataset_A_X"
   ]
  },
  {
   "cell_type": "code",
   "execution_count": 12,
   "metadata": {
    "collapsed": false,
    "deletable": true,
    "editable": true
   },
   "outputs": [
    {
     "data": {
      "text/plain": [
       "5815"
      ]
     },
     "execution_count": 12,
     "metadata": {},
     "output_type": "execute_result"
    }
   ],
   "source": [
    "len(subdataset_A_y)"
   ]
  },
  {
   "cell_type": "markdown",
   "metadata": {
    "deletable": true,
    "editable": true
   },
   "source": [
    "#### さらに、残りの訓練データを１：１で分け、それぞれサブデータセット B, C とします。"
   ]
  },
  {
   "cell_type": "code",
   "execution_count": 13,
   "metadata": {
    "collapsed": false,
    "deletable": true,
    "editable": true
   },
   "outputs": [
    {
     "name": "stdout",
     "output_type": "stream",
     "text": [
      "iteration=1\n"
     ]
    }
   ],
   "source": [
    "cv_2 = ShuffleSplit(subdataset_T_X.shape[0], n_iter=1, test_size=0.5, random_state=0)\n",
    "\n",
    "iter = 1\n",
    "for train_index, test_index in cv_2: # n_iter=1 なのでこのループは１回だけしか回りません。\n",
    "    subdataset_B_X, subdataset_C_X = subdataset_T_X[train_index], subdataset_T_X[test_index]\n",
    "    subdataset_B_y, subdataset_C_y = subdataset_T_y[train_index], subdataset_T_y[test_index]\n",
    "    print('iteration=%d' % iter)\n",
    "    iter += 1"
   ]
  },
  {
   "cell_type": "code",
   "execution_count": 14,
   "metadata": {
    "collapsed": false,
    "deletable": true,
    "editable": true
   },
   "outputs": [
    {
     "data": {
      "text/plain": [
       "<5814x1967 sparse matrix of type '<class 'numpy.float64'>'\n",
       "\twith 49732 stored elements in Compressed Sparse Row format>"
      ]
     },
     "execution_count": 14,
     "metadata": {},
     "output_type": "execute_result"
    }
   ],
   "source": [
    "subdataset_B_X"
   ]
  },
  {
   "cell_type": "code",
   "execution_count": 15,
   "metadata": {
    "collapsed": false,
    "deletable": true,
    "editable": true
   },
   "outputs": [
    {
     "data": {
      "text/plain": [
       "5814"
      ]
     },
     "execution_count": 15,
     "metadata": {},
     "output_type": "execute_result"
    }
   ],
   "source": [
    "len(subdataset_B_y)"
   ]
  },
  {
   "cell_type": "code",
   "execution_count": 16,
   "metadata": {
    "collapsed": false,
    "deletable": true,
    "editable": true
   },
   "outputs": [
    {
     "data": {
      "text/plain": [
       "<5814x1967 sparse matrix of type '<class 'numpy.float64'>'\n",
       "\twith 49383 stored elements in Compressed Sparse Row format>"
      ]
     },
     "execution_count": 16,
     "metadata": {},
     "output_type": "execute_result"
    }
   ],
   "source": [
    "subdataset_C_X"
   ]
  },
  {
   "cell_type": "code",
   "execution_count": 17,
   "metadata": {
    "collapsed": false,
    "deletable": true,
    "editable": true
   },
   "outputs": [
    {
     "data": {
      "text/plain": [
       "5814"
      ]
     },
     "execution_count": 17,
     "metadata": {},
     "output_type": "execute_result"
    }
   ],
   "source": [
    "len(subdataset_C_y)"
   ]
  },
  {
   "cell_type": "code",
   "execution_count": 18,
   "metadata": {
    "collapsed": false,
    "deletable": true,
    "editable": true
   },
   "outputs": [
    {
     "name": "stdout",
     "output_type": "stream",
     "text": [
      "Iteration data count: 1st=5815, 2nd=5814, 3rd=5814, total=17443\n"
     ]
    }
   ],
   "source": [
    "'''\n",
    "    サブデータセットごとのテストデータ件数を表示します。\n",
    "    合計はサンプル全体の件数になります。\n",
    "'''\n",
    "print('Iteration data count: 1st=%d, 2nd=%d, 3rd=%d, total=%d' % (\n",
    "    subdataset_A_X.shape[0], \n",
    "    subdataset_B_X.shape[0], \n",
    "    subdataset_C_X.shape[0],\n",
    "    subdataset_A_X.shape[0] + subdataset_B_X.shape[0] + subdataset_C_X.shape[0]\n",
    "))"
   ]
  },
  {
   "cell_type": "markdown",
   "metadata": {
    "deletable": true,
    "editable": true
   },
   "source": [
    "### (4-1) サブデータセット A を使った予測"
   ]
  },
  {
   "cell_type": "markdown",
   "metadata": {
    "deletable": true,
    "editable": true
   },
   "source": [
    "#### サブデータセット B, C を使って学習します。"
   ]
  },
  {
   "cell_type": "code",
   "execution_count": 19,
   "metadata": {
    "collapsed": false,
    "deletable": true,
    "editable": true
   },
   "outputs": [
    {
     "data": {
      "text/plain": [
       "<11628x1967 sparse matrix of type '<class 'numpy.float64'>'\n",
       "\twith 99115 stored elements in Compressed Sparse Row format>"
      ]
     },
     "execution_count": 19,
     "metadata": {},
     "output_type": "execute_result"
    }
   ],
   "source": [
    "from scipy.sparse import vstack\n",
    "\n",
    "X_train_1 = vstack((subdataset_B_X, subdataset_C_X))\n",
    "X_train_1"
   ]
  },
  {
   "cell_type": "code",
   "execution_count": 20,
   "metadata": {
    "collapsed": false,
    "deletable": true,
    "editable": true
   },
   "outputs": [
    {
     "data": {
      "text/plain": [
       "11628"
      ]
     },
     "execution_count": 20,
     "metadata": {},
     "output_type": "execute_result"
    }
   ],
   "source": [
    "y_train_1 = np.concatenate((subdataset_B_y, subdataset_C_y))\n",
    "len(y_train_1)"
   ]
  },
  {
   "cell_type": "code",
   "execution_count": 21,
   "metadata": {
    "collapsed": false,
    "deletable": true,
    "editable": true,
    "scrolled": true
   },
   "outputs": [
    {
     "name": "stderr",
     "output_type": "stream",
     "text": [
      "/Library/Frameworks/Python.framework/Versions/3.5/lib/python3.5/site-packages/sklearn/cross_validation.py:552: Warning: The least populated class in y has only 1 members, which is too few. The minimum number of labels for any class cannot be less than n_folds=3.\n",
      "  % (min_labels, self.n_folds)), Warning)\n"
     ]
    },
    {
     "data": {
      "text/plain": [
       "{'C': 140}"
      ]
     },
     "execution_count": 21,
     "metadata": {},
     "output_type": "execute_result"
    }
   ],
   "source": [
    "''' \n",
    "    サブデータセット B+C を使用し\n",
    "    ロジスティック回帰モデルを使用し学習実行\n",
    "'''\n",
    "params = {'C': [10, 100, 140, 200]}\n",
    "grid = GridSearchCV(LogisticRegression(), param_grid=params)\n",
    "grid.fit(X_train_1, y_train_1)\n",
    "estimator = grid.best_estimator_\n",
    "grid.best_params_"
   ]
  },
  {
   "cell_type": "markdown",
   "metadata": {
    "deletable": true,
    "editable": true
   },
   "source": [
    "#### サブデータセット A を使って予測します。"
   ]
  },
  {
   "cell_type": "code",
   "execution_count": 22,
   "metadata": {
    "collapsed": false,
    "deletable": true,
    "editable": true,
    "scrolled": true
   },
   "outputs": [],
   "source": [
    "''' \n",
    "    サブデータセット A を使用し\n",
    "    予測結果を取得\n",
    "'''\n",
    "y_pred_A = estimator.predict(subdataset_A_X)\n",
    "probabilities = estimator.predict_proba(subdataset_A_X)\n",
    "y_proba_A = np.max(probabilities, axis=1)"
   ]
  },
  {
   "cell_type": "code",
   "execution_count": 23,
   "metadata": {
    "collapsed": false,
    "deletable": true,
    "editable": true,
    "scrolled": false
   },
   "outputs": [
    {
     "data": {
      "text/plain": [
       "array([3687, 3402, 3514, ..., 3963, 3813, 3704])"
      ]
     },
     "execution_count": 23,
     "metadata": {},
     "output_type": "execute_result"
    }
   ],
   "source": [
    "y_pred_A"
   ]
  },
  {
   "cell_type": "code",
   "execution_count": 24,
   "metadata": {
    "collapsed": false,
    "deletable": true,
    "editable": true,
    "scrolled": false
   },
   "outputs": [
    {
     "data": {
      "text/plain": [
       "array([ 0.97712632,  0.96553817,  0.97512191, ...,  0.98186175,\n",
       "        0.96870209,  0.98267401])"
      ]
     },
     "execution_count": 24,
     "metadata": {},
     "output_type": "execute_result"
    }
   ],
   "source": [
    "y_proba_A"
   ]
  },
  {
   "cell_type": "code",
   "execution_count": 25,
   "metadata": {
    "collapsed": true,
    "deletable": true,
    "editable": true
   },
   "outputs": [],
   "source": [
    "''' \n",
    "    プロダクション・コードを拝借・・・\n",
    "'''\n",
    "def accuracy_score(y, y_pred, y_proba):\n",
    "    # 予測結果と実際を比較\n",
    "    bools = y == y_pred\n",
    "    # しきい値を超えているもののみをTrueにする\n",
    "    bools = bools == (y_proba > 0.5)\n",
    "    # 正当率を算出\n",
    "    score = np.sum(bools) / np.size(bools, axis=0)\n",
    "    return score"
   ]
  },
  {
   "cell_type": "code",
   "execution_count": 26,
   "metadata": {
    "collapsed": false,
    "deletable": true,
    "editable": true
   },
   "outputs": [
    {
     "data": {
      "text/plain": [
       "0.98056749785038688"
      ]
     },
     "execution_count": 26,
     "metadata": {},
     "output_type": "execute_result"
    }
   ],
   "source": [
    "''' \n",
    "    参考：サブデータセット A の正解率\n",
    "'''\n",
    "accuracy_A = accuracy_score(subdataset_A_y, y_pred_A, y_proba_A)\n",
    "accuracy_A"
   ]
  },
  {
   "cell_type": "markdown",
   "metadata": {
    "deletable": true,
    "editable": true
   },
   "source": [
    "### (4-2) サブデータセット B を使った予測"
   ]
  },
  {
   "cell_type": "markdown",
   "metadata": {
    "deletable": true,
    "editable": true
   },
   "source": [
    "#### サブデータセット A, C を使って学習します。"
   ]
  },
  {
   "cell_type": "code",
   "execution_count": 27,
   "metadata": {
    "collapsed": false,
    "deletable": true,
    "editable": true
   },
   "outputs": [
    {
     "data": {
      "text/plain": [
       "<11629x1967 sparse matrix of type '<class 'numpy.float64'>'\n",
       "\twith 99402 stored elements in Compressed Sparse Row format>"
      ]
     },
     "execution_count": 27,
     "metadata": {},
     "output_type": "execute_result"
    }
   ],
   "source": [
    "from scipy.sparse import vstack\n",
    "\n",
    "X_train_2 = vstack((subdataset_A_X, subdataset_C_X))\n",
    "X_train_2"
   ]
  },
  {
   "cell_type": "code",
   "execution_count": 28,
   "metadata": {
    "collapsed": false,
    "deletable": true,
    "editable": true
   },
   "outputs": [
    {
     "data": {
      "text/plain": [
       "11629"
      ]
     },
     "execution_count": 28,
     "metadata": {},
     "output_type": "execute_result"
    }
   ],
   "source": [
    "y_train_2 = np.concatenate((subdataset_A_y, subdataset_C_y))\n",
    "len(y_train_2)"
   ]
  },
  {
   "cell_type": "code",
   "execution_count": 29,
   "metadata": {
    "collapsed": false,
    "deletable": true,
    "editable": true,
    "scrolled": false
   },
   "outputs": [
    {
     "name": "stderr",
     "output_type": "stream",
     "text": [
      "/Library/Frameworks/Python.framework/Versions/3.5/lib/python3.5/site-packages/sklearn/cross_validation.py:552: Warning: The least populated class in y has only 1 members, which is too few. The minimum number of labels for any class cannot be less than n_folds=3.\n",
      "  % (min_labels, self.n_folds)), Warning)\n"
     ]
    },
    {
     "data": {
      "text/plain": [
       "{'C': 100}"
      ]
     },
     "execution_count": 29,
     "metadata": {},
     "output_type": "execute_result"
    }
   ],
   "source": [
    "''' \n",
    "    サブデータセット A+C を使用し\n",
    "    ロジスティック回帰モデルを使用し学習実行\n",
    "'''\n",
    "params = {'C': [10, 100, 140, 200]}\n",
    "grid = GridSearchCV(LogisticRegression(), param_grid=params)\n",
    "grid.fit(X_train_2, y_train_2)\n",
    "estimator = grid.best_estimator_\n",
    "grid.best_params_"
   ]
  },
  {
   "cell_type": "markdown",
   "metadata": {
    "deletable": true,
    "editable": true
   },
   "source": [
    "#### サブデータセット B を使って予測します。"
   ]
  },
  {
   "cell_type": "code",
   "execution_count": 30,
   "metadata": {
    "collapsed": false,
    "deletable": true,
    "editable": true,
    "scrolled": true
   },
   "outputs": [],
   "source": [
    "''' \n",
    "    サブデータセット B を使用し\n",
    "    予測結果を取得\n",
    "'''\n",
    "y_pred_B = estimator.predict(subdataset_B_X)\n",
    "probabilities = estimator.predict_proba(subdataset_B_X)\n",
    "y_proba_B = np.max(probabilities, axis=1)"
   ]
  },
  {
   "cell_type": "code",
   "execution_count": 31,
   "metadata": {
    "collapsed": false,
    "deletable": true,
    "editable": true,
    "scrolled": false
   },
   "outputs": [
    {
     "data": {
      "text/plain": [
       "array([3823, 3441, 3644, ..., 3961, 3807, 3757])"
      ]
     },
     "execution_count": 31,
     "metadata": {},
     "output_type": "execute_result"
    }
   ],
   "source": [
    "y_pred_B"
   ]
  },
  {
   "cell_type": "code",
   "execution_count": 32,
   "metadata": {
    "collapsed": false,
    "deletable": true,
    "editable": true,
    "scrolled": false
   },
   "outputs": [
    {
     "data": {
      "text/plain": [
       "array([ 0.97145497,  0.96865482,  0.94014989, ...,  0.97727819,\n",
       "        0.96402621,  0.97244357])"
      ]
     },
     "execution_count": 32,
     "metadata": {},
     "output_type": "execute_result"
    }
   ],
   "source": [
    "y_proba_B"
   ]
  },
  {
   "cell_type": "code",
   "execution_count": 33,
   "metadata": {
    "collapsed": false,
    "deletable": true,
    "editable": true
   },
   "outputs": [
    {
     "data": {
      "text/plain": [
       "0.97351221190230475"
      ]
     },
     "execution_count": 33,
     "metadata": {},
     "output_type": "execute_result"
    }
   ],
   "source": [
    "''' \n",
    "    参考：サブデータセット B の正解率\n",
    "'''\n",
    "accuracy_B = accuracy_score(subdataset_B_y, y_pred_B, y_proba_B)\n",
    "accuracy_B"
   ]
  },
  {
   "cell_type": "markdown",
   "metadata": {
    "deletable": true,
    "editable": true
   },
   "source": [
    "### (4-3) サブデータセット C を使った予測"
   ]
  },
  {
   "cell_type": "markdown",
   "metadata": {
    "deletable": true,
    "editable": true
   },
   "source": [
    "#### サブデータセット A, B を使って学習します。"
   ]
  },
  {
   "cell_type": "code",
   "execution_count": 34,
   "metadata": {
    "collapsed": false,
    "deletable": true,
    "editable": true
   },
   "outputs": [
    {
     "data": {
      "text/plain": [
       "<11629x1967 sparse matrix of type '<class 'numpy.float64'>'\n",
       "\twith 99751 stored elements in Compressed Sparse Row format>"
      ]
     },
     "execution_count": 34,
     "metadata": {},
     "output_type": "execute_result"
    }
   ],
   "source": [
    "from scipy.sparse import vstack\n",
    "\n",
    "X_train_3 = vstack((subdataset_A_X, subdataset_B_X))\n",
    "X_train_3"
   ]
  },
  {
   "cell_type": "code",
   "execution_count": 35,
   "metadata": {
    "collapsed": false,
    "deletable": true,
    "editable": true
   },
   "outputs": [
    {
     "data": {
      "text/plain": [
       "array([3687, 3402, 3514, ..., 3961, 3807, 3757])"
      ]
     },
     "execution_count": 35,
     "metadata": {},
     "output_type": "execute_result"
    }
   ],
   "source": [
    "y_train_3 = np.concatenate((subdataset_A_y, subdataset_B_y))\n",
    "y_train_3"
   ]
  },
  {
   "cell_type": "code",
   "execution_count": 36,
   "metadata": {
    "collapsed": false,
    "deletable": true,
    "editable": true,
    "scrolled": false
   },
   "outputs": [
    {
     "name": "stderr",
     "output_type": "stream",
     "text": [
      "/Library/Frameworks/Python.framework/Versions/3.5/lib/python3.5/site-packages/sklearn/cross_validation.py:552: Warning: The least populated class in y has only 1 members, which is too few. The minimum number of labels for any class cannot be less than n_folds=3.\n",
      "  % (min_labels, self.n_folds)), Warning)\n"
     ]
    },
    {
     "data": {
      "text/plain": [
       "{'C': 140}"
      ]
     },
     "execution_count": 36,
     "metadata": {},
     "output_type": "execute_result"
    }
   ],
   "source": [
    "''' \n",
    "    サブデータセット A+B を使用し\n",
    "    ロジスティック回帰モデルを使用し学習実行\n",
    "'''\n",
    "params = {'C': [10, 100, 140, 200]}\n",
    "grid = GridSearchCV(LogisticRegression(), param_grid=params)\n",
    "grid.fit(X_train_3, y_train_3)\n",
    "estimator = grid.best_estimator_\n",
    "grid.best_params_"
   ]
  },
  {
   "cell_type": "markdown",
   "metadata": {
    "deletable": true,
    "editable": true
   },
   "source": [
    "#### サブデータセット C を使って予測します。"
   ]
  },
  {
   "cell_type": "code",
   "execution_count": 37,
   "metadata": {
    "collapsed": false,
    "deletable": true,
    "editable": true,
    "scrolled": true
   },
   "outputs": [],
   "source": [
    "''' \n",
    "    サブデータセット C を使用し\n",
    "    予測結果を取得\n",
    "'''\n",
    "y_pred_C = estimator.predict(subdataset_C_X)\n",
    "probabilities = estimator.predict_proba(subdataset_C_X)\n",
    "y_proba_C = np.max(probabilities, axis=1)"
   ]
  },
  {
   "cell_type": "code",
   "execution_count": 38,
   "metadata": {
    "collapsed": false,
    "deletable": true,
    "editable": true,
    "scrolled": false
   },
   "outputs": [
    {
     "data": {
      "text/plain": [
       "array([3402, 3959, 3529, ..., 3781, 3525, 3506])"
      ]
     },
     "execution_count": 38,
     "metadata": {},
     "output_type": "execute_result"
    }
   ],
   "source": [
    "y_pred_C"
   ]
  },
  {
   "cell_type": "code",
   "execution_count": 39,
   "metadata": {
    "collapsed": false,
    "deletable": true,
    "editable": true,
    "scrolled": false
   },
   "outputs": [
    {
     "data": {
      "text/plain": [
       "array([ 0.96611708,  0.97744889,  0.97377329, ...,  0.97662744,\n",
       "        0.98495656,  0.96931191])"
      ]
     },
     "execution_count": 39,
     "metadata": {},
     "output_type": "execute_result"
    }
   ],
   "source": [
    "y_proba_C"
   ]
  },
  {
   "cell_type": "code",
   "execution_count": 40,
   "metadata": {
    "collapsed": false,
    "deletable": true,
    "editable": true
   },
   "outputs": [
    {
     "data": {
      "text/plain": [
       "0.979188166494668"
      ]
     },
     "execution_count": 40,
     "metadata": {},
     "output_type": "execute_result"
    }
   ],
   "source": [
    "''' \n",
    "    参考：サブデータセット C の正解率\n",
    "'''\n",
    "accuracy_C = accuracy_score(subdataset_C_y, y_pred_C, y_proba_C)\n",
    "accuracy_C"
   ]
  },
  {
   "cell_type": "markdown",
   "metadata": {
    "deletable": true,
    "editable": true
   },
   "source": [
    "### (4-4) 全ての予測結果に対する正解率を算出"
   ]
  },
  {
   "cell_type": "code",
   "execution_count": 41,
   "metadata": {
    "collapsed": false,
    "deletable": true,
    "editable": true
   },
   "outputs": [],
   "source": [
    "''' \n",
    "    予測結果をマージ\n",
    "    ---> データセット中のすべてのサンプル（A, B, C）における予測値となります\n",
    "'''\n",
    "y_test_all = np.concatenate((subdataset_A_y, subdataset_B_y, subdataset_C_y))\n",
    "y_pred_all = np.concatenate((y_pred_A, y_pred_B, y_pred_C))\n",
    "y_proba_all = np.concatenate((y_proba_A, y_proba_B, y_proba_C))"
   ]
  },
  {
   "cell_type": "code",
   "execution_count": 42,
   "metadata": {
    "collapsed": false,
    "deletable": true,
    "editable": true,
    "scrolled": false
   },
   "outputs": [
    {
     "data": {
      "text/plain": [
       "array([3687, 3402, 3514, ..., 3781, 3525, 3506])"
      ]
     },
     "execution_count": 42,
     "metadata": {},
     "output_type": "execute_result"
    }
   ],
   "source": [
    "y_pred_all"
   ]
  },
  {
   "cell_type": "code",
   "execution_count": 43,
   "metadata": {
    "collapsed": false,
    "deletable": true,
    "editable": true,
    "scrolled": false
   },
   "outputs": [
    {
     "data": {
      "text/plain": [
       "array([ 0.97712632,  0.96553817,  0.97512191, ...,  0.97662744,\n",
       "        0.98495656,  0.96931191])"
      ]
     },
     "execution_count": 43,
     "metadata": {},
     "output_type": "execute_result"
    }
   ],
   "source": [
    "y_proba_all"
   ]
  },
  {
   "cell_type": "code",
   "execution_count": 44,
   "metadata": {
    "collapsed": false,
    "deletable": true,
    "editable": true
   },
   "outputs": [
    {
     "data": {
      "text/plain": [
       "0.97775611993349765"
      ]
     },
     "execution_count": 44,
     "metadata": {},
     "output_type": "execute_result"
    }
   ],
   "source": [
    "''' \n",
    "    全ての予測結果に対する正解率を算出\n",
    "'''\n",
    "accuracy_all = accuracy_score(y_test_all, y_pred_all, y_proba_all)\n",
    "accuracy_all"
   ]
  }
 ],
 "metadata": {
  "kernelspec": {
   "display_name": "Python 3",
   "language": "python",
   "name": "python3"
  },
  "language_info": {
   "codemirror_mode": {
    "name": "ipython",
    "version": 3
   },
   "file_extension": ".py",
   "mimetype": "text/x-python",
   "name": "python",
   "nbconvert_exporter": "python",
   "pygments_lexer": "ipython3",
   "version": "3.5.2"
  }
 },
 "nbformat": 4,
 "nbformat_minor": 2
}
