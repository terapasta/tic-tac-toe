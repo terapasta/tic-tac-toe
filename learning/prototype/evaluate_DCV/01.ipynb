{
 "cells": [
  {
   "cell_type": "markdown",
   "metadata": {
    "deletable": true,
    "editable": true
   },
   "source": [
    "# ダブルクロスバリデーションの確認\n",
    "\n",
    "scikit-learn のライブラリーを使用した、ダブルクロスバリデーションの手法についての確認です。\n",
    "\n",
    "こちらの記述（というよりプロダクトの宣伝？）を参考にさせていただきました。\n",
    "\n",
    "http://univprof.com/archives/16-06-12-3889388.html"
   ]
  },
  {
   "cell_type": "markdown",
   "metadata": {
    "deletable": true,
    "editable": true
   },
   "source": [
    "## (1) テストデータ／環境準備\n",
    "\n",
    "マイオペで使用しているテストデータ（learning/tests/engine/fixtures/ 配下のCSVファイル）をベースに動作確認を行います。\n",
    "\n",
    "動作確認にあたっては、MySQLdb に接続できないため、ローカル環境テスト用の Bot クラスを使用しています。"
   ]
  },
  {
   "cell_type": "code",
   "execution_count": 1,
   "metadata": {
    "collapsed": false,
    "deletable": true,
    "editable": true
   },
   "outputs": [],
   "source": [
    "'''\n",
    "    テスト環境を準備するためのモジュールを使用します。\n",
    "'''\n",
    "import sys\n",
    "import os\n",
    "learning_dir = os.path.abspath(\"../../\") #<--- donusagi-bot/learning\n",
    "os.chdir(learning_dir)\n",
    "\n",
    "if learning_dir not in sys.path:\n",
    "    sys.path.append(learning_dir)\n",
    "\n",
    "from prototype.modules import TestTool"
   ]
  },
  {
   "cell_type": "code",
   "execution_count": 2,
   "metadata": {
    "collapsed": false,
    "deletable": true,
    "editable": true,
    "scrolled": false
   },
   "outputs": [
    {
     "name": "stdout",
     "output_type": "stream",
     "text": [
      "CSV file for test=[/Users/makmorit/GitHub/donusagi-bot/learning/prototype/resources/test_daikin_conversation.csv]\n"
     ]
    },
    {
     "data": {
      "text/plain": [
       "['/Users/makmorit/GitHub/donusagi-bot/learning/prototype/resources/test_daikin_conversation.csv']"
      ]
     },
     "execution_count": 2,
     "metadata": {},
     "output_type": "execute_result"
    }
   ],
   "source": [
    "'''\n",
    "    データファイルは、既存の訓練データを別場所にコピーしてから使用します\n",
    "    テストデータは、csv_file_name で指定した複数件のファイルを使用します。\n",
    "'''\n",
    "csv_file_names = [\n",
    "    'test_daikin_conversation.csv',\n",
    "]\n",
    "copied_csv_file_paths = TestTool.copy_testdata_csv(learning_dir, csv_file_names)\n",
    "copied_csv_file_paths"
   ]
  },
  {
   "cell_type": "markdown",
   "metadata": {
    "deletable": true,
    "editable": true
   },
   "source": [
    "## (2) TF-IDFベクターの準備\n",
    "\n",
    "Bot クラス内に組み込まれている __build_training_set_from_csv 関数をバラして実行しています。"
   ]
  },
  {
   "cell_type": "code",
   "execution_count": 3,
   "metadata": {
    "collapsed": false,
    "deletable": true,
    "editable": true
   },
   "outputs": [],
   "source": [
    "'''\n",
    "    初期設定\n",
    "    データファイル、エンコードを指定\n",
    "    内容は、learn.py を参考にしました。    \n",
    "'''\n",
    "from learning.core.learn.learning_parameter import LearningParameter\n",
    "attr = {\n",
    "    'include_failed_data': False,\n",
    "    'include_tag_vector': False,\n",
    "    'classify_threshold': None,\n",
    "    # 'algorithm': LearningParameter.ALGORITHM_NAIVE_BAYES\n",
    "    'algorithm': LearningParameter.ALGORITHM_LOGISTIC_REGRESSION,\n",
    "    # 'params_for_algorithm': { 'C': 200 }\n",
    "    'params_for_algorithm': {}\n",
    "}\n",
    "learning_parameter = LearningParameter(attr)\n",
    "\n",
    "bot_id = 7777\n",
    "csv_file_encoding = 'utf-8'"
   ]
  },
  {
   "cell_type": "markdown",
   "metadata": {
    "deletable": true,
    "editable": true
   },
   "source": [
    "### (2-1) 訓練データのTF-IDFベクター"
   ]
  },
  {
   "cell_type": "code",
   "execution_count": 4,
   "metadata": {
    "collapsed": false,
    "deletable": true,
    "editable": true,
    "scrolled": true
   },
   "outputs": [
    {
     "name": "stderr",
     "output_type": "stream",
     "text": [
      "2017/03/26 AM 11:49:26 TrainingMessageFromCsv#__build_learning_training_messages count of learning data: 17443\n",
      "2017/03/26 AM 11:49:26 TextArray#__init__ start\n",
      "2017/03/26 AM 11:49:35 TextArray#to_vec start\n",
      "2017/03/26 AM 11:49:35 TextArray#to_vec end\n"
     ]
    }
   ],
   "source": [
    "'''\n",
    "    訓練データの生成（内部で TF-IDF 処理を実行）\n",
    "    \n",
    "    text_array.py における TF-IDF 処理では、\n",
    "    以下の通り「する」をストップワード化指定しております\n",
    "    \n",
    "    class TextArray:\n",
    "        :\n",
    "        def __build_vectorizer(self):\n",
    "            :\n",
    "            vectorizer = TfidfVectorizer(use_idf=False, token_pattern=u'(?u)\\\\b\\\\w+\\\\b', stop_words=['する'])\n",
    "'''\n",
    "#from learning.core.training_set.training_message_from_csv import TrainingMessageFromCsv\n",
    "from prototype.modules.training_message_from_csv import TrainingMessageFromCsv\n",
    "training_set = TrainingMessageFromCsv(bot_id, copied_csv_file_paths, learning_parameter, encoding=csv_file_encoding)\n",
    "build_training_set_from_csv = training_set.build()\n",
    "\n",
    "X = build_training_set_from_csv.x\n",
    "y = build_training_set_from_csv.y"
   ]
  },
  {
   "cell_type": "code",
   "execution_count": 5,
   "metadata": {
    "collapsed": false,
    "deletable": true,
    "editable": true,
    "scrolled": true
   },
   "outputs": [
    {
     "name": "stdout",
     "output_type": "stream",
     "text": [
      "sample=17443, feature=1967\n"
     ]
    }
   ],
   "source": [
    "n_sample = X.shape[0]\n",
    "n_feature = X.shape[1]\n",
    "print(\"sample=%d, feature=%d\" % (n_sample, n_feature))"
   ]
  },
  {
   "cell_type": "markdown",
   "metadata": {
    "deletable": true,
    "editable": true
   },
   "source": [
    "## (3) ダブルクロスバリデーションを使用しない場合"
   ]
  },
  {
   "cell_type": "markdown",
   "metadata": {
    "deletable": true,
    "editable": true
   },
   "source": [
    "### (3-1) モデル選択フェーズ\n",
    "\n",
    "C = 200 と決定されました。"
   ]
  },
  {
   "cell_type": "code",
   "execution_count": 6,
   "metadata": {
    "collapsed": false,
    "deletable": true,
    "editable": true,
    "scrolled": true
   },
   "outputs": [
    {
     "name": "stderr",
     "output_type": "stream",
     "text": [
      "/Library/Frameworks/Python.framework/Versions/3.5/lib/python3.5/site-packages/sklearn/cross_validation.py:44: DeprecationWarning: This module was deprecated in version 0.18 in favor of the model_selection module into which all the refactored classes and functions are moved. Also note that the interface of the new CV iterators are different from that of this module. This module will be removed in 0.20.\n",
      "  \"This module will be removed in 0.20.\", DeprecationWarning)\n",
      "/Library/Frameworks/Python.framework/Versions/3.5/lib/python3.5/site-packages/sklearn/grid_search.py:43: DeprecationWarning: This module was deprecated in version 0.18 in favor of the model_selection module into which all the refactored classes and functions are moved. This module will be removed in 0.20.\n",
      "  DeprecationWarning)\n",
      "/Library/Frameworks/Python.framework/Versions/3.5/lib/python3.5/site-packages/sklearn/cross_validation.py:552: Warning: The least populated class in y has only 2 members, which is too few. The minimum number of labels for any class cannot be less than n_folds=3.\n",
      "  % (min_labels, self.n_folds)), Warning)\n"
     ]
    },
    {
     "data": {
      "text/plain": [
       "{'C': 200}"
      ]
     },
     "execution_count": 6,
     "metadata": {},
     "output_type": "execute_result"
    }
   ],
   "source": [
    "from sklearn.grid_search import GridSearchCV\n",
    "from sklearn.linear_model import LogisticRegression\n",
    "import numpy as np\n",
    "\n",
    "''' \n",
    "    マイオペのプロダクション・コードから、\n",
    "    該当部分を抽出して実行しました\n",
    "    \n",
    "    ロジスティック回帰モデルを\n",
    "    ４通りのハイパーパラメータでグリッドサーチ\n",
    "'''\n",
    "params = {'C': [10, 100, 140, 200]}\n",
    "grid = GridSearchCV(LogisticRegression(), param_grid=params)\n",
    "grid.fit(X, y)\n",
    "estimator = grid.best_estimator_\n",
    "grid.best_params_"
   ]
  },
  {
   "cell_type": "markdown",
   "metadata": {
    "deletable": true,
    "editable": true
   },
   "source": [
    "### (3-2) モデル評価フェーズ\n",
    "\n",
    "Accuracy = 0.986 と評価されました。"
   ]
  },
  {
   "cell_type": "code",
   "execution_count": 7,
   "metadata": {
    "collapsed": false,
    "deletable": true,
    "editable": true
   },
   "outputs": [],
   "source": [
    "from sklearn.cross_validation import ShuffleSplit\n",
    "from sklearn.cross_validation import cross_val_score\n",
    "\n",
    "def __accuracy_score(estimator, X, y):\n",
    "    y_pred = estimator.predict(X)\n",
    "    probabilities = estimator.predict_proba(X)\n",
    "    max_probabilities = np.max(probabilities, axis=1)\n",
    "\n",
    "    # 予測結果と実際を比較\n",
    "    bools = y == y_pred\n",
    "    # しきい値を超えているもののみをTrueにする\n",
    "    bools = bools == (max_probabilities > 0.5)\n",
    "    # 正当率を算出\n",
    "    score = np.sum(bools) / np.size(bools, axis=0)\n",
    "    return score\n",
    "\n",
    "''' \n",
    "    マイオペのプロダクション・コードから、\n",
    "    該当部分を抽出して実行しました\n",
    "    \n",
    "    反復＝1回、テストデータ比率＝0.25\n",
    "'''\n",
    "cv = ShuffleSplit(X.shape[0], n_iter=1, test_size=0.25, random_state=0)\n",
    "accuracy = np.mean(cross_val_score(estimator, X, y, cv=cv, scoring=__accuracy_score))"
   ]
  },
  {
   "cell_type": "code",
   "execution_count": 8,
   "metadata": {
    "collapsed": false,
    "deletable": true,
    "editable": true
   },
   "outputs": [
    {
     "data": {
      "text/plain": [
       "0.98601238248108236"
      ]
     },
     "execution_count": 8,
     "metadata": {},
     "output_type": "execute_result"
    }
   ],
   "source": [
    "accuracy"
   ]
  },
  {
   "cell_type": "markdown",
   "metadata": {
    "deletable": true,
    "editable": true
   },
   "source": [
    "## (4) ダブルクロスバリデーションを使用する場合"
   ]
  },
  {
   "cell_type": "markdown",
   "metadata": {
    "deletable": true,
    "editable": true
   },
   "source": [
    "こちらの記述における手順を再現しています。\n",
    "\n",
    "http://univprof.com/archives/16-06-12-3889388.html\n",
    "\n",
    "ただし、反復回数は（上記記述から１回ふやして）３回としています。"
   ]
  },
  {
   "cell_type": "markdown",
   "metadata": {
    "deletable": true,
    "editable": true
   },
   "source": [
    "### (4-0) データを分割\n",
    "\n",
    "元の訓練データを分割し、各々の反復において使用するためのデータを作成します。"
   ]
  },
  {
   "cell_type": "code",
   "execution_count": 9,
   "metadata": {
    "collapsed": false,
    "deletable": true,
    "editable": true
   },
   "outputs": [
    {
     "data": {
      "text/plain": [
       "ShuffleSplit(17443, n_iter=3, test_size=0.333333, random_state=0)"
      ]
     },
     "execution_count": 9,
     "metadata": {},
     "output_type": "execute_result"
    }
   ],
   "source": [
    "cv = ShuffleSplit(X.shape[0], n_iter=3, test_size=0.333333, random_state=0)\n",
    "cv"
   ]
  },
  {
   "cell_type": "code",
   "execution_count": 10,
   "metadata": {
    "collapsed": false,
    "deletable": true,
    "editable": true
   },
   "outputs": [],
   "source": [
    "'''\n",
    "    サンプルデータ（CSVから読み込んだ訓練データ全量）を\n",
    "    ShuffleSplit のパラメータ通り3分割します。\n",
    "'''\n",
    "iter_data = []\n",
    "for train_index, test_index in cv:\n",
    "    X_train, X_test = X[train_index], X[test_index]\n",
    "    y_train, y_test = y[train_index], y[test_index]\n",
    "    count = X_test.shape[0]\n",
    "    iter_data.append((X_train, X_test, y_train, y_test, count))"
   ]
  },
  {
   "cell_type": "code",
   "execution_count": 11,
   "metadata": {
    "collapsed": false,
    "deletable": true,
    "editable": true
   },
   "outputs": [
    {
     "name": "stdout",
     "output_type": "stream",
     "text": [
      "Iteration data count: 1st=5815, 2nd=5815, 3rd=5815, total=17445\n"
     ]
    }
   ],
   "source": [
    "'''\n",
    "    3分割された分割単位 (iter_data の各要素) ごとに、\n",
    "    テストデータの件数を表示します。\n",
    "\n",
    "    合計はサンプル全体の件数になるはずなのですが、\n",
    "    端数が切り上げられてしまうようなので、\n",
    "    実際は２件多くなってしまいます。\n",
    "'''\n",
    "print('Iteration data count: 1st=%d, 2nd=%d, 3rd=%d, total=%d' % (\n",
    "    iter_data[0][4], \n",
    "    iter_data[1][4], \n",
    "    iter_data[2][4],\n",
    "    iter_data[0][4] + iter_data[1][4] + iter_data[2][4]\n",
    "))"
   ]
  },
  {
   "cell_type": "markdown",
   "metadata": {
    "deletable": true,
    "editable": true
   },
   "source": [
    "### (4-1) 反復１回目"
   ]
  },
  {
   "cell_type": "markdown",
   "metadata": {
    "deletable": true,
    "editable": true
   },
   "source": [
    "#### 参考のために、３回の反復を（ループを使わずに）個別に実行させています。ご容赦ください。"
   ]
  },
  {
   "cell_type": "code",
   "execution_count": 12,
   "metadata": {
    "collapsed": false,
    "deletable": true,
    "editable": true,
    "scrolled": true
   },
   "outputs": [
    {
     "name": "stderr",
     "output_type": "stream",
     "text": [
      "/Library/Frameworks/Python.framework/Versions/3.5/lib/python3.5/site-packages/sklearn/cross_validation.py:552: Warning: The least populated class in y has only 1 members, which is too few. The minimum number of labels for any class cannot be less than n_folds=3.\n",
      "  % (min_labels, self.n_folds)), Warning)\n"
     ]
    },
    {
     "data": {
      "text/plain": [
       "{'C': 100}"
      ]
     },
     "execution_count": 12,
     "metadata": {},
     "output_type": "execute_result"
    }
   ],
   "source": [
    "''' \n",
    "    反復1回目の訓練データ (X_train, y_train) を使用し\n",
    "    ロジスティック回帰モデルを使用し学習実行\n",
    "'''\n",
    "X_train_1, X_test_1, y_train_1, y_test_1, count_1 = iter_data[0]\n",
    "\n",
    "params = {'C': [10, 100, 140, 200]}\n",
    "grid = GridSearchCV(LogisticRegression(), param_grid=params)\n",
    "grid.fit(X_train_1, y_train_1)\n",
    "estimator = grid.best_estimator_\n",
    "grid.best_params_"
   ]
  },
  {
   "cell_type": "code",
   "execution_count": 13,
   "metadata": {
    "collapsed": false,
    "deletable": true,
    "editable": true,
    "scrolled": true
   },
   "outputs": [],
   "source": [
    "''' \n",
    "    反復1回目の予測結果を取得\n",
    "'''\n",
    "y_pred_1 = estimator.predict(X_test_1)\n",
    "probabilities = estimator.predict_proba(X_test_1)\n",
    "y_proba_1 = np.max(probabilities, axis=1)"
   ]
  },
  {
   "cell_type": "code",
   "execution_count": 14,
   "metadata": {
    "collapsed": false,
    "deletable": true,
    "editable": true,
    "scrolled": false
   },
   "outputs": [
    {
     "data": {
      "text/plain": [
       "array([3687, 3402, 3514, ..., 3963, 3813, 3704])"
      ]
     },
     "execution_count": 14,
     "metadata": {},
     "output_type": "execute_result"
    }
   ],
   "source": [
    "y_pred_1"
   ]
  },
  {
   "cell_type": "code",
   "execution_count": 15,
   "metadata": {
    "collapsed": false,
    "deletable": true,
    "editable": true,
    "scrolled": false
   },
   "outputs": [
    {
     "data": {
      "text/plain": [
       "array([ 0.96999912,  0.95531008,  0.96692472, ...,  0.97500545,\n",
       "        0.95889908,  0.9768531 ])"
      ]
     },
     "execution_count": 15,
     "metadata": {},
     "output_type": "execute_result"
    }
   ],
   "source": [
    "y_proba_1"
   ]
  },
  {
   "cell_type": "code",
   "execution_count": 16,
   "metadata": {
    "collapsed": true,
    "deletable": true,
    "editable": true
   },
   "outputs": [],
   "source": [
    "''' \n",
    "    プロダクション・コードを拝借・・・\n",
    "'''\n",
    "def accuracy_score(y, y_pred, y_proba):\n",
    "    # 予測結果と実際を比較\n",
    "    bools = y == y_pred\n",
    "    # しきい値を超えているもののみをTrueにする\n",
    "    bools = bools == (y_proba > 0.5)\n",
    "    # 正当率を算出\n",
    "    score = np.sum(bools) / np.size(bools, axis=0)\n",
    "    return score"
   ]
  },
  {
   "cell_type": "code",
   "execution_count": 17,
   "metadata": {
    "collapsed": false,
    "deletable": true,
    "editable": true
   },
   "outputs": [
    {
     "data": {
      "text/plain": [
       "0.97987962166809972"
      ]
     },
     "execution_count": 17,
     "metadata": {},
     "output_type": "execute_result"
    }
   ],
   "source": [
    "''' \n",
    "    参考：反復1回目の単体での正解率\n",
    "'''\n",
    "accuracy_1 = accuracy_score(y_test_1, y_pred_1, y_proba_1)\n",
    "accuracy_1"
   ]
  },
  {
   "cell_type": "markdown",
   "metadata": {
    "deletable": true,
    "editable": true
   },
   "source": [
    "### (4-2) 反復２回目"
   ]
  },
  {
   "cell_type": "code",
   "execution_count": 18,
   "metadata": {
    "collapsed": false,
    "deletable": true,
    "editable": true,
    "scrolled": false
   },
   "outputs": [
    {
     "name": "stderr",
     "output_type": "stream",
     "text": [
      "/Library/Frameworks/Python.framework/Versions/3.5/lib/python3.5/site-packages/sklearn/cross_validation.py:552: Warning: The least populated class in y has only 1 members, which is too few. The minimum number of labels for any class cannot be less than n_folds=3.\n",
      "  % (min_labels, self.n_folds)), Warning)\n"
     ]
    },
    {
     "data": {
      "text/plain": [
       "{'C': 140}"
      ]
     },
     "execution_count": 18,
     "metadata": {},
     "output_type": "execute_result"
    }
   ],
   "source": [
    "''' \n",
    "    反復2回目の訓練データ (X_train, y_train) を使用し\n",
    "    ロジスティック回帰モデルを使用し学習実行\n",
    "'''\n",
    "X_train_2, X_test_2, y_train_2, y_test_2, count_2 = iter_data[1]\n",
    "\n",
    "params = {'C': [10, 100, 140, 200]}\n",
    "grid = GridSearchCV(LogisticRegression(), param_grid=params)\n",
    "grid.fit(X_train_2, y_train_2)\n",
    "estimator = grid.best_estimator_\n",
    "grid.best_params_"
   ]
  },
  {
   "cell_type": "code",
   "execution_count": 19,
   "metadata": {
    "collapsed": false,
    "deletable": true,
    "editable": true,
    "scrolled": true
   },
   "outputs": [],
   "source": [
    "''' \n",
    "    反復2回目の予測結果を取得\n",
    "'''\n",
    "y_pred_2 = estimator.predict(X_test_2)\n",
    "probabilities = estimator.predict_proba(X_test_2)\n",
    "y_proba_2 = np.max(probabilities, axis=1)"
   ]
  },
  {
   "cell_type": "code",
   "execution_count": 20,
   "metadata": {
    "collapsed": false,
    "deletable": true,
    "editable": true,
    "scrolled": false
   },
   "outputs": [
    {
     "data": {
      "text/plain": [
       "array([3636, 3433, 3511, ..., 3771, 3544, 3779])"
      ]
     },
     "execution_count": 20,
     "metadata": {},
     "output_type": "execute_result"
    }
   ],
   "source": [
    "y_pred_2"
   ]
  },
  {
   "cell_type": "code",
   "execution_count": 21,
   "metadata": {
    "collapsed": false,
    "deletable": true,
    "editable": true,
    "scrolled": false
   },
   "outputs": [
    {
     "data": {
      "text/plain": [
       "array([ 0.96614273,  0.98816073,  0.98807663, ...,  0.97451277,\n",
       "        0.94973569,  0.97417586])"
      ]
     },
     "execution_count": 21,
     "metadata": {},
     "output_type": "execute_result"
    }
   ],
   "source": [
    "y_proba_2"
   ]
  },
  {
   "cell_type": "code",
   "execution_count": 22,
   "metadata": {
    "collapsed": false,
    "deletable": true,
    "editable": true
   },
   "outputs": [
    {
     "data": {
      "text/plain": [
       "0.98108340498710234"
      ]
     },
     "execution_count": 22,
     "metadata": {},
     "output_type": "execute_result"
    }
   ],
   "source": [
    "''' \n",
    "    参考：反復2回目の単体での正解率\n",
    "'''\n",
    "accuracy_2 = accuracy_score(y_test_2, y_pred_2, y_proba_2)\n",
    "accuracy_2"
   ]
  },
  {
   "cell_type": "markdown",
   "metadata": {
    "deletable": true,
    "editable": true
   },
   "source": [
    "### (4-3) 反復３回目"
   ]
  },
  {
   "cell_type": "code",
   "execution_count": 23,
   "metadata": {
    "collapsed": false,
    "deletable": true,
    "editable": true,
    "scrolled": true
   },
   "outputs": [
    {
     "name": "stderr",
     "output_type": "stream",
     "text": [
      "/Library/Frameworks/Python.framework/Versions/3.5/lib/python3.5/site-packages/sklearn/cross_validation.py:552: Warning: The least populated class in y has only 1 members, which is too few. The minimum number of labels for any class cannot be less than n_folds=3.\n",
      "  % (min_labels, self.n_folds)), Warning)\n"
     ]
    },
    {
     "data": {
      "text/plain": [
       "{'C': 200}"
      ]
     },
     "execution_count": 23,
     "metadata": {},
     "output_type": "execute_result"
    }
   ],
   "source": [
    "''' \n",
    "    反復3回目の訓練データ (X_train, y_train) を使用し\n",
    "    ロジスティック回帰モデルを使用し学習実行\n",
    "'''\n",
    "X_train_3, X_test_3, y_train_3, y_test_3, count_3 = iter_data[2]\n",
    "\n",
    "params = {'C': [10, 100, 140, 200]}\n",
    "grid = GridSearchCV(LogisticRegression(), param_grid=params)\n",
    "grid.fit(X_train_3, y_train_3)\n",
    "estimator = grid.best_estimator_\n",
    "grid.best_params_"
   ]
  },
  {
   "cell_type": "code",
   "execution_count": 24,
   "metadata": {
    "collapsed": false,
    "deletable": true,
    "editable": true,
    "scrolled": true
   },
   "outputs": [],
   "source": [
    "''' \n",
    "    反復3回目の予測結果を取得\n",
    "'''\n",
    "y_pred_3 = estimator.predict(X_test_3)\n",
    "probabilities = estimator.predict_proba(X_test_3)\n",
    "y_proba_3 = np.max(probabilities, axis=1)"
   ]
  },
  {
   "cell_type": "code",
   "execution_count": 25,
   "metadata": {
    "collapsed": false,
    "deletable": true,
    "editable": true,
    "scrolled": false
   },
   "outputs": [
    {
     "data": {
      "text/plain": [
       "array([3538, 3713, 3548, ..., 4000, 3547, 3672])"
      ]
     },
     "execution_count": 25,
     "metadata": {},
     "output_type": "execute_result"
    }
   ],
   "source": [
    "y_pred_3"
   ]
  },
  {
   "cell_type": "code",
   "execution_count": 26,
   "metadata": {
    "collapsed": false,
    "deletable": true,
    "editable": true,
    "scrolled": false
   },
   "outputs": [
    {
     "data": {
      "text/plain": [
       "array([ 0.9744023 ,  0.99402025,  0.98140069, ...,  0.97178126,\n",
       "        0.98053147,  0.98310901])"
      ]
     },
     "execution_count": 26,
     "metadata": {},
     "output_type": "execute_result"
    }
   ],
   "source": [
    "y_proba_3"
   ]
  },
  {
   "cell_type": "code",
   "execution_count": 27,
   "metadata": {
    "collapsed": false,
    "deletable": true,
    "editable": true
   },
   "outputs": [
    {
     "data": {
      "text/plain": [
       "0.98125537403267415"
      ]
     },
     "execution_count": 27,
     "metadata": {},
     "output_type": "execute_result"
    }
   ],
   "source": [
    "''' \n",
    "    参考：反復3回目の単体での正解率\n",
    "'''\n",
    "accuracy_3 = accuracy_score(y_test_3, y_pred_3, y_proba_3)\n",
    "accuracy_3"
   ]
  },
  {
   "cell_type": "markdown",
   "metadata": {
    "deletable": true,
    "editable": true
   },
   "source": [
    "### (4-4) 全ての予測結果に対する正解率を算出"
   ]
  },
  {
   "cell_type": "code",
   "execution_count": 28,
   "metadata": {
    "collapsed": false,
    "deletable": true,
    "editable": true
   },
   "outputs": [],
   "source": [
    "''' \n",
    "    反復ごとの予測結果をマージ\n",
    "    ---> データセット中のすべてのサンプルにおける予測値となります\n",
    "'''\n",
    "y_test_all = np.concatenate((y_test_1, y_test_2, y_test_3))\n",
    "y_pred_all = np.concatenate((y_pred_1, y_pred_2, y_pred_3))\n",
    "y_proba_all = np.concatenate((y_proba_1, y_proba_2, y_proba_3))"
   ]
  },
  {
   "cell_type": "code",
   "execution_count": 29,
   "metadata": {
    "collapsed": false,
    "deletable": true,
    "editable": true,
    "scrolled": false
   },
   "outputs": [
    {
     "data": {
      "text/plain": [
       "array([3687, 3402, 3514, ..., 4000, 3547, 3672])"
      ]
     },
     "execution_count": 29,
     "metadata": {},
     "output_type": "execute_result"
    }
   ],
   "source": [
    "y_pred_all"
   ]
  },
  {
   "cell_type": "code",
   "execution_count": 30,
   "metadata": {
    "collapsed": false,
    "deletable": true,
    "editable": true,
    "scrolled": false
   },
   "outputs": [
    {
     "data": {
      "text/plain": [
       "array([ 0.96999912,  0.95531008,  0.96692472, ...,  0.97178126,\n",
       "        0.98053147,  0.98310901])"
      ]
     },
     "execution_count": 30,
     "metadata": {},
     "output_type": "execute_result"
    }
   ],
   "source": [
    "y_proba_all"
   ]
  },
  {
   "cell_type": "code",
   "execution_count": 31,
   "metadata": {
    "collapsed": false,
    "deletable": true,
    "editable": true
   },
   "outputs": [
    {
     "data": {
      "text/plain": [
       "0.9807394668959587"
      ]
     },
     "execution_count": 31,
     "metadata": {},
     "output_type": "execute_result"
    }
   ],
   "source": [
    "''' \n",
    "    全ての予測結果に対する正解率を算出\n",
    "'''\n",
    "accuracy_all = accuracy_score(y_test_all, y_pred_all, y_proba_all)\n",
    "accuracy_all"
   ]
  }
 ],
 "metadata": {
  "kernelspec": {
   "display_name": "Python 3",
   "language": "python",
   "name": "python3"
  },
  "language_info": {
   "codemirror_mode": {
    "name": "ipython",
    "version": 3
   },
   "file_extension": ".py",
   "mimetype": "text/x-python",
   "name": "python",
   "nbconvert_exporter": "python",
   "pygments_lexer": "ipython3",
   "version": "3.5.2"
  }
 },
 "nbformat": 4,
 "nbformat_minor": 2
}
