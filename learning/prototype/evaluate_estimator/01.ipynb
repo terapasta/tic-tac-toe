{
 "cells": [
  {
   "cell_type": "markdown",
   "metadata": {
    "deletable": true,
    "editable": true
   },
   "source": [
    "# 現状の実装内容を確認\n",
    "\n",
    "現状の Evaluator モジュールをベースに動作確認を行います。\n",
    "\n",
    "動作確認にあたっては、MySQLdb に接続できないため、ローカル環境テスト用の Bot クラスを作成しました。\n",
    "\n",
    "今後、他の評価手法および評価指標（＝評価ルール）でテストを実行する場合は、<b>既存の Evaluator モジュールをベースにしたカスタマイズ・モジュールを使用</b>して行う予定です。"
   ]
  },
  {
   "cell_type": "markdown",
   "metadata": {
    "deletable": true,
    "editable": true
   },
   "source": [
    "## (1) テストデータ／環境準備"
   ]
  },
  {
   "cell_type": "code",
   "execution_count": 1,
   "metadata": {
    "collapsed": false,
    "deletable": true,
    "editable": true
   },
   "outputs": [
    {
     "name": "stdout",
     "output_type": "stream",
     "text": [
      "prototype_dir=/Users/makmorit/GitHub/donusagi-bot/learning/prototype\n",
      "learning_dir=/Users/makmorit/GitHub/donusagi-bot/learning\n",
      "sys.path=['', '/Library/Frameworks/Python.framework/Versions/3.5/lib/python35.zip', '/Library/Frameworks/Python.framework/Versions/3.5/lib/python3.5', '/Library/Frameworks/Python.framework/Versions/3.5/lib/python3.5/plat-darwin', '/Library/Frameworks/Python.framework/Versions/3.5/lib/python3.5/lib-dynload', '/Library/Frameworks/Python.framework/Versions/3.5/lib/python3.5/site-packages', '/Library/Frameworks/Python.framework/Versions/3.5/lib/python3.5/site-packages/IPython/extensions', '/Users/makmorit/.ipython', '/Users/makmorit/GitHub/donusagi-bot/learning']\n"
     ]
    }
   ],
   "source": [
    "'''\n",
    "    プロトタイピング用のパスと、Botライブラリーパスを取得／設定します\n",
    "'''\n",
    "import sys\n",
    "import os\n",
    "\n",
    "prototype_dir = os.path.join(os.getcwd(), '..')\n",
    "prototype_dir = os.path.abspath(prototype_dir)\n",
    "\n",
    "learning_dir = os.path.join(prototype_dir, '..')\n",
    "learning_dir = os.path.abspath(learning_dir)\n",
    "os.chdir(learning_dir)\n",
    "\n",
    "if learning_dir not in sys.path:\n",
    "    sys.path.append(learning_dir)\n",
    "\n",
    "print('prototype_dir=%s\\nlearning_dir=%s\\nsys.path=%s' % (prototype_dir, learning_dir, sys.path))"
   ]
  },
  {
   "cell_type": "code",
   "execution_count": 2,
   "metadata": {
    "collapsed": false,
    "deletable": true,
    "editable": true
   },
   "outputs": [
    {
     "name": "stdout",
     "output_type": "stream",
     "text": [
      "CSV file for test=[/Users/makmorit/GitHub/donusagi-bot/learning/prototype/resources/test_daikin_conversation.csv]\n"
     ]
    }
   ],
   "source": [
    "'''\n",
    "    データファイルは、既存の訓練データを別場所にコピーしてから使用します\n",
    "    テストデータは、csv_file_name で指定したものを使用します。\n",
    "'''\n",
    "csv_file_name = 'test_daikin_conversation.csv'\n",
    "original_csv_dir = os.path.join(learning_dir, 'learning/tests/engine/fixtures/')\n",
    "original_file_path = os.path.join(original_csv_dir, csv_file_name)\n",
    "\n",
    "csv_dir = os.path.join(prototype_dir, 'resources')\n",
    "\n",
    "import shutil\n",
    "shutil.copy2(original_file_path, csv_dir)\n",
    "copied_csv_file_path = os.path.join(csv_dir, csv_file_name)\n",
    "\n",
    "print('CSV file for test=[%s]' % copied_csv_file_path)"
   ]
  },
  {
   "cell_type": "markdown",
   "metadata": {
    "deletable": true,
    "editable": true
   },
   "source": [
    "## (2) 既存モジュールをカスタマイズ"
   ]
  },
  {
   "cell_type": "code",
   "execution_count": 3,
   "metadata": {
    "collapsed": false,
    "deletable": true,
    "editable": true
   },
   "outputs": [
    {
     "name": "stderr",
     "output_type": "stream",
     "text": [
      "/Library/Frameworks/Python.framework/Versions/3.5/lib/python3.5/site-packages/sklearn/cross_validation.py:44: DeprecationWarning: This module was deprecated in version 0.18 in favor of the model_selection module into which all the refactored classes and functions are moved. Also note that the interface of the new CV iterators are different from that of this module. This module will be removed in 0.20.\n",
      "  \"This module will be removed in 0.20.\", DeprecationWarning)\n",
      "/Library/Frameworks/Python.framework/Versions/3.5/lib/python3.5/site-packages/sklearn/grid_search.py:43: DeprecationWarning: This module was deprecated in version 0.18 in favor of the model_selection module into which all the refactored classes and functions are moved. This module will be removed in 0.20.\n",
      "  DeprecationWarning)\n"
     ]
    }
   ],
   "source": [
    "'''\n",
    "    Bot/Reply モジュールをカスタマイズした\n",
    "    BotForLocalTest/ReplyForLocalTest モジュールは、\n",
    "    {prototype_dir}/modules 配下に格納されています\n",
    "    （ローカル環境から MySQLdb/dataset に接続できないための措置）\n",
    "'''\n",
    "from prototype.modules.BotForLocalTest import Bot\n",
    "from prototype.modules.ReplyForLocalTest import Reply\n",
    "from learning.core.learn.learning_parameter import LearningParameter"
   ]
  },
  {
   "cell_type": "code",
   "execution_count": 4,
   "metadata": {
    "collapsed": false,
    "deletable": true,
    "editable": true
   },
   "outputs": [],
   "source": [
    "'''\n",
    "    初期設定\n",
    "    データファイル、エンコードを指定\n",
    "    内容は、learn.py を参考にしました。    \n",
    "'''\n",
    "bot_id = 8888\n",
    "attr = {\n",
    "    'include_failed_data': False,\n",
    "    'include_tag_vector': False,\n",
    "    'classify_threshold': None,\n",
    "    # 'algorithm': LearningParameter.ALGORITHM_NAIVE_BAYES\n",
    "    'algorithm': LearningParameter.ALGORITHM_LOGISTIC_REGRESSION,\n",
    "    # 'params_for_algorithm': { 'C': 200 }\n",
    "    'params_for_algorithm': {}\n",
    "}\n",
    "learning_parameter = LearningParameter(attr)\n",
    "csv_file_path = copied_csv_file_path\n",
    "csv_file_encoding = 'utf-8'"
   ]
  },
  {
   "cell_type": "markdown",
   "metadata": {
    "deletable": true,
    "editable": true
   },
   "source": [
    "## (3) 学習実行"
   ]
  },
  {
   "cell_type": "code",
   "execution_count": 5,
   "metadata": {
    "collapsed": false,
    "deletable": true,
    "editable": true
   },
   "outputs": [
    {
     "name": "stderr",
     "output_type": "stream",
     "text": [
      "learning_parameter: {'_params_for_algorithm': {}, '_include_tag_vector': False, '_classify_threshold': None, '_include_failed_data': False, '_algorithm': 0}\n",
      "2017/03/01 PM 03:22:11 learning_parameter: {'_params_for_algorithm': {}, '_include_tag_vector': False, '_classify_threshold': None, '_include_failed_data': False, '_algorithm': 0}\n",
      "start Bot#learn\n",
      "2017/03/01 PM 03:22:11 start Bot#learn\n",
      "TrainingMessageFromCsv#__build_learning_training_messages count of learning data: 17443\n",
      "2017/03/01 PM 03:22:12 TrainingMessageFromCsv#__build_learning_training_messages count of learning data: 17443\n",
      "TextArray#__init__ start\n",
      "2017/03/01 PM 03:22:12 TextArray#__init__ start\n",
      "TextArray#to_vec start\n",
      "2017/03/01 PM 03:22:12 TextArray#to_vec start\n",
      "TextArray#to_vec end\n",
      "2017/03/01 PM 03:22:32 TextArray#to_vec end\n",
      "[[ 0.  0.  0. ...,  0.  0.  0.]\n",
      " [ 0.  0.  0. ...,  0.  0.  0.]\n",
      " [ 0.  0.  0. ...,  0.  0.  0.]\n",
      " ..., \n",
      " [ 0.  0.  0. ...,  0.  0.  0.]\n",
      " [ 0.  0.  0. ...,  0.  0.  0.]\n",
      " [ 0.  0.  0. ...,  0.  0.  0.]]\n",
      "2017/03/01 PM 03:22:32 [[ 0.  0.  0. ...,  0.  0.  0.]\n",
      " [ 0.  0.  0. ...,  0.  0.  0.]\n",
      " [ 0.  0.  0. ...,  0.  0.  0.]\n",
      " ..., \n",
      " [ 0.  0.  0. ...,  0.  0.  0.]\n",
      " [ 0.  0.  0. ...,  0.  0.  0.]\n",
      " [ 0.  0.  0. ...,  0.  0.  0.]]\n",
      "use algorithm: logistic regression\n",
      "2017/03/01 PM 03:22:32 use algorithm: logistic regression\n",
      "learning_parameter has not parameter C\n",
      "2017/03/01 PM 03:22:32 learning_parameter has not parameter C\n",
      "/Library/Frameworks/Python.framework/Versions/3.5/lib/python3.5/site-packages/sklearn/cross_validation.py:552: Warning: The least populated class in y has only 2 members, which is too few. The minimum number of labels for any class cannot be less than n_folds=3.\n",
      "  % (min_labels, self.n_folds)), Warning)\n",
      "best_params_: {'C': 200}\n",
      "2017/03/01 PM 03:25:54 best_params_: {'C': 200}\n",
      "after Bot#__get_estimator\n",
      "2017/03/01 PM 03:25:54 after Bot#__get_estimator\n",
      "before Evaluator#evaluate\n",
      "2017/03/01 PM 03:25:54 before Evaluator#evaluate\n",
      "self.threshold: 0.0\n",
      "2017/03/01 PM 03:25:54 self.threshold: 0.0\n",
      "Evaluator#evaluate#elapsed time: 26671.508074 ms\n",
      "2017/03/01 PM 03:26:21 Evaluator#evaluate#elapsed time: 26671.508074 ms\n",
      "accuracy: 0.984177940839\n",
      "2017/03/01 PM 03:26:21 accuracy: 0.984177940839\n",
      "end Bot#learn\n",
      "2017/03/01 PM 03:26:21 end Bot#learn\n"
     ]
    }
   ],
   "source": [
    "'''\n",
    "    Bot クラスを生成し学習実行--->交差検証の実行\n",
    "'''\n",
    "bot = Bot(bot_id, learning_parameter)\n",
    "evaluator = bot.learn(csv_file_path=csv_file_path, csv_file_encoding=csv_file_encoding)"
   ]
  },
  {
   "cell_type": "markdown",
   "metadata": {
    "deletable": true,
    "editable": true
   },
   "source": [
    "## (4) 予測実行"
   ]
  },
  {
   "cell_type": "code",
   "execution_count": 6,
   "metadata": {
    "collapsed": false,
    "deletable": true,
    "editable": true,
    "scrolled": false
   },
   "outputs": [
    {
     "name": "stderr",
     "output_type": "stream",
     "text": [
      "TextArray#__init__ start\n",
      "2017/03/01 PM 03:26:21 TextArray#__init__ start\n",
      "TextArray#to_vec start\n",
      "2017/03/01 PM 03:26:21 TextArray#to_vec start\n",
      "TextArray#to_vec end\n",
      "2017/03/01 PM 03:26:21 TextArray#to_vec end\n",
      "predicted results (order by probability desc)\n",
      "2017/03/01 PM 03:26:21 predicted results (order by probability desc)\n",
      "{'answer_id': 3411.0, 'probability': 0.93155278641784311}\n",
      "2017/03/01 PM 03:26:21 {'answer_id': 3411.0, 'probability': 0.93155278641784311}\n",
      "{'answer_id': 3440.0, 'probability': 0.022871965491647498}\n",
      "2017/03/01 PM 03:26:21 {'answer_id': 3440.0, 'probability': 0.022871965491647498}\n",
      "{'answer_id': 3456.0, 'probability': 0.013204346632437901}\n",
      "2017/03/01 PM 03:26:21 {'answer_id': 3456.0, 'probability': 0.013204346632437901}\n",
      "{'answer_id': 3941.0, 'probability': 0.010322056891509227}\n",
      "2017/03/01 PM 03:26:21 {'answer_id': 3941.0, 'probability': 0.010322056891509227}\n",
      "{'answer_id': 3788.0, 'probability': 0.0085101308615810004}\n",
      "2017/03/01 PM 03:26:21 {'answer_id': 3788.0, 'probability': 0.0085101308615810004}\n",
      "{'answer_id': 3490.0, 'probability': 0.0019790459006278397}\n",
      "2017/03/01 PM 03:26:21 {'answer_id': 3490.0, 'probability': 0.0019790459006278397}\n",
      "{'answer_id': 3400.0, 'probability': 0.0015686917460115393}\n",
      "2017/03/01 PM 03:26:21 {'answer_id': 3400.0, 'probability': 0.0015686917460115393}\n",
      "{'answer_id': 3605.0, 'probability': 0.0012459938958152891}\n",
      "2017/03/01 PM 03:26:21 {'answer_id': 3605.0, 'probability': 0.0012459938958152891}\n",
      "{'answer_id': 3912.0, 'probability': 0.00096865582913318628}\n",
      "2017/03/01 PM 03:26:21 {'answer_id': 3912.0, 'probability': 0.00096865582913318628}\n",
      "{'answer_id': 3478.0, 'probability': 0.00080862332728344369}\n",
      "2017/03/01 PM 03:26:21 {'answer_id': 3478.0, 'probability': 0.00080862332728344369}\n"
     ]
    },
    {
     "name": "stdout",
     "output_type": "stream",
     "text": [
      "question: Outlookのアドレス帳に自分以外の写真を入れてもいいですか？\n",
      "answer: 3411\n",
      "proba: 0.931552786418 \n",
      "\n"
     ]
    },
    {
     "data": {
      "text/plain": [
       "[{'answer_id': 3411.0, 'probability': 0.93155278641784311},\n",
       " {'answer_id': 3440.0, 'probability': 0.022871965491647498},\n",
       " {'answer_id': 3456.0, 'probability': 0.013204346632437901},\n",
       " {'answer_id': 3941.0, 'probability': 0.010322056891509227},\n",
       " {'answer_id': 3788.0, 'probability': 0.0085101308615810004},\n",
       " {'answer_id': 3490.0, 'probability': 0.0019790459006278397},\n",
       " {'answer_id': 3400.0, 'probability': 0.0015686917460115393},\n",
       " {'answer_id': 3605.0, 'probability': 0.0012459938958152891},\n",
       " {'answer_id': 3912.0, 'probability': 0.00096865582913318628},\n",
       " {'answer_id': 3478.0, 'probability': 0.00080862332728344369}]"
      ]
     },
     "execution_count": 6,
     "metadata": {},
     "output_type": "execute_result"
    }
   ],
   "source": [
    "'''\n",
    "    Reply クラスを生成し予測実行\n",
    "\n",
    "    元データ：\n",
    "1385832,Outlook2010にて、個人アドレス帳に写真を入れることができますか。,3411,\"自分の顔写真は入れることができます。\n",
    "自分の顔写真以外は絶対に使用しないで下さい。\n",
    "※自分の顔写真以外の写真を貼ることは、肖像権だけでなく著作権侵害にも該当してしまうため（法務・コンプライアンス・知財センターの見解より） \"\n",
    "'''\n",
    "test_X = [\n",
    "    'Outlookのアドレス帳に自分以外の写真を入れてもいいですか？',\n",
    "]\n",
    "reply = Reply(bot_id, learning_parameter)\n",
    "z = reply.predict(test_X)\n",
    "z"
   ]
  }
 ],
 "metadata": {
  "kernelspec": {
   "display_name": "Python 3",
   "language": "python",
   "name": "python3"
  },
  "language_info": {
   "codemirror_mode": {
    "name": "ipython",
    "version": 3
   },
   "file_extension": ".py",
   "mimetype": "text/x-python",
   "name": "python",
   "nbconvert_exporter": "python",
   "pygments_lexer": "ipython3",
   "version": "3.5.2"
  }
 },
 "nbformat": 4,
 "nbformat_minor": 2
}
