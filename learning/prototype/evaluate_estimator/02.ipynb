{
 "cells": [
  {
   "cell_type": "markdown",
   "metadata": {
    "deletable": true,
    "editable": true
   },
   "source": [
    "# 交差検証時の警告について\n",
    "\n",
    "K-fold 交差検証時に出力された、以下の警告がとても気になっているため、為念で調査させていただいております。\n",
    "\n",
    "---\n",
    "Warning: The least populated class in y has only 2 members, which is too few. The minimum number of labels for any class cannot be less than n_folds=3.\n",
    "\n",
    "---\n",
    "\n",
    "結論としては、クラスにおけるサンプル数が、K-fold の分割数（デフォルト＝３件）を下回った場合、評価ルール適用結果（マイオペの場合はAccuracy）の保証ができない・・・といったところでしょうか。"
   ]
  },
  {
   "cell_type": "markdown",
   "metadata": {
    "deletable": true,
    "editable": true
   },
   "source": [
    "## (1) テストデータ／環境準備"
   ]
  },
  {
   "cell_type": "code",
   "execution_count": 1,
   "metadata": {
    "collapsed": false,
    "deletable": true,
    "editable": true
   },
   "outputs": [
    {
     "name": "stdout",
     "output_type": "stream",
     "text": [
      "prototype_dir=/Users/makmorit/GitHub/donusagi-bot/learning/prototype\n",
      "learning_dir=/Users/makmorit/GitHub/donusagi-bot/learning\n",
      "sys.path=['', '/Library/Frameworks/Python.framework/Versions/3.5/lib/python35.zip', '/Library/Frameworks/Python.framework/Versions/3.5/lib/python3.5', '/Library/Frameworks/Python.framework/Versions/3.5/lib/python3.5/plat-darwin', '/Library/Frameworks/Python.framework/Versions/3.5/lib/python3.5/lib-dynload', '/Library/Frameworks/Python.framework/Versions/3.5/lib/python3.5/site-packages', '/Library/Frameworks/Python.framework/Versions/3.5/lib/python3.5/site-packages/IPython/extensions', '/Users/makmorit/.ipython', '/Users/makmorit/GitHub/donusagi-bot/learning']\n"
     ]
    }
   ],
   "source": [
    "'''\n",
    "    プロトタイピング用のパスと、Botライブラリーパスを取得／設定します\n",
    "'''\n",
    "import sys\n",
    "import os\n",
    "\n",
    "prototype_dir = os.path.join(os.getcwd(), '..')\n",
    "prototype_dir = os.path.abspath(prototype_dir)\n",
    "\n",
    "learning_dir = os.path.join(prototype_dir, '..')\n",
    "learning_dir = os.path.abspath(learning_dir)\n",
    "os.chdir(learning_dir)\n",
    "\n",
    "if learning_dir not in sys.path:\n",
    "    sys.path.append(learning_dir)\n",
    "\n",
    "print('prototype_dir=%s\\nlearning_dir=%s\\nsys.path=%s' % (prototype_dir, learning_dir, sys.path))"
   ]
  },
  {
   "cell_type": "code",
   "execution_count": 2,
   "metadata": {
    "collapsed": false,
    "deletable": true,
    "editable": true
   },
   "outputs": [
    {
     "name": "stdout",
     "output_type": "stream",
     "text": [
      "CSV file for test=[/Users/makmorit/GitHub/donusagi-bot/learning/prototype/resources/test_daikin_conversation.csv]\n"
     ]
    }
   ],
   "source": [
    "'''\n",
    "    データファイルは、既存の訓練データを別場所にコピーしてから使用します\n",
    "    テストデータは、csv_file_name で指定したものを使用します。\n",
    "'''\n",
    "csv_file_name = 'test_daikin_conversation.csv'\n",
    "original_csv_dir = os.path.join(learning_dir, 'learning/tests/engine/fixtures/')\n",
    "original_file_path = os.path.join(original_csv_dir, csv_file_name)\n",
    "\n",
    "csv_dir = os.path.join(prototype_dir, 'resources')\n",
    "\n",
    "import shutil\n",
    "shutil.copy2(original_file_path, csv_dir)\n",
    "copied_csv_file_path = os.path.join(csv_dir, csv_file_name)\n",
    "\n",
    "print('CSV file for test=[%s]' % copied_csv_file_path)"
   ]
  },
  {
   "cell_type": "markdown",
   "metadata": {
    "deletable": true,
    "editable": true
   },
   "source": [
    "## (2) 既存モジュールをカスタマイズ"
   ]
  },
  {
   "cell_type": "code",
   "execution_count": 3,
   "metadata": {
    "collapsed": false,
    "deletable": true,
    "editable": true
   },
   "outputs": [
    {
     "name": "stderr",
     "output_type": "stream",
     "text": [
      "/Library/Frameworks/Python.framework/Versions/3.5/lib/python3.5/site-packages/sklearn/cross_validation.py:44: DeprecationWarning: This module was deprecated in version 0.18 in favor of the model_selection module into which all the refactored classes and functions are moved. Also note that the interface of the new CV iterators are different from that of this module. This module will be removed in 0.20.\n",
      "  \"This module will be removed in 0.20.\", DeprecationWarning)\n",
      "/Library/Frameworks/Python.framework/Versions/3.5/lib/python3.5/site-packages/sklearn/grid_search.py:43: DeprecationWarning: This module was deprecated in version 0.18 in favor of the model_selection module into which all the refactored classes and functions are moved. This module will be removed in 0.20.\n",
      "  DeprecationWarning)\n"
     ]
    }
   ],
   "source": [
    "'''\n",
    "    Bot/Reply モジュールをカスタマイズした\n",
    "    BotForLocalTest/ReplyForLocalTest モジュールは、\n",
    "    {prototype_dir}/modules 配下に格納されています\n",
    "    （ローカル環境から MySQLdb/dataset に接続できないための措置）\n",
    "'''\n",
    "from prototype.modules.BotForLocalTest import Bot\n",
    "from prototype.modules.ReplyForLocalTest import Reply\n",
    "from learning.core.learn.learning_parameter import LearningParameter"
   ]
  },
  {
   "cell_type": "code",
   "execution_count": 4,
   "metadata": {
    "collapsed": false,
    "deletable": true,
    "editable": true
   },
   "outputs": [],
   "source": [
    "'''\n",
    "    初期設定\n",
    "    データファイル、エンコードを指定\n",
    "    内容は、learn.py を参考にしました。    \n",
    "'''\n",
    "bot_id = 8888\n",
    "attr = {\n",
    "    'include_failed_data': False,\n",
    "    'include_tag_vector': False,\n",
    "    'classify_threshold': None,\n",
    "    # 'algorithm': LearningParameter.ALGORITHM_NAIVE_BAYES\n",
    "    'algorithm': LearningParameter.ALGORITHM_LOGISTIC_REGRESSION,\n",
    "    # 'params_for_algorithm': { 'C': 200 }\n",
    "    'params_for_algorithm': {}\n",
    "}\n",
    "learning_parameter = LearningParameter(attr)\n",
    "csv_file_path = copied_csv_file_path\n",
    "csv_file_encoding = 'utf-8'"
   ]
  },
  {
   "cell_type": "markdown",
   "metadata": {
    "deletable": true,
    "editable": true
   },
   "source": [
    "## (3) 交差検証実行前の調査"
   ]
  },
  {
   "cell_type": "markdown",
   "metadata": {
    "deletable": true,
    "editable": true
   },
   "source": [
    "scikit-learn の cross_validation.py においては、クラスにおけるサンプル数が、交差検証（K-fold）における分割数（デフォルト＝３件）を下回っていないかどうかチェックします。\n",
    "\n",
    "下回っている場合、当該クラスについては、交差検証の結果をそのまま適用できないため、警告を表示しているものと考えられます。\n",
    "\n",
    "ただし、cross_validation.py が警告を出しても、そのまま処理を続行してしまうところが「？？？」といった感じではあります。"
   ]
  },
  {
   "cell_type": "code",
   "execution_count": 5,
   "metadata": {
    "collapsed": false,
    "deletable": true,
    "editable": true,
    "scrolled": true
   },
   "outputs": [
    {
     "name": "stderr",
     "output_type": "stream",
     "text": [
      "TrainingMessageFromCsv#__build_learning_training_messages count of learning data: 17443\n",
      "2017/03/02 PM 06:01:45 TrainingMessageFromCsv#__build_learning_training_messages count of learning data: 17443\n",
      "TextArray#__init__ start\n",
      "2017/03/02 PM 06:01:45 TextArray#__init__ start\n",
      "TextArray#to_vec start\n",
      "2017/03/02 PM 06:01:45 TextArray#to_vec start\n",
      "TextArray#to_vec end\n",
      "2017/03/02 PM 06:02:03 TextArray#to_vec end\n",
      "[[ 0.  0.  0. ...,  0.  0.  0.]\n",
      " [ 0.  0.  0. ...,  0.  0.  0.]\n",
      " [ 0.  0.  0. ...,  0.  0.  0.]\n",
      " ..., \n",
      " [ 0.  0.  0. ...,  0.  0.  0.]\n",
      " [ 0.  0.  0. ...,  0.  0.  0.]\n",
      " [ 0.  0.  0. ...,  0.  0.  0.]]\n",
      "2017/03/02 PM 06:02:03 [[ 0.  0.  0. ...,  0.  0.  0.]\n",
      " [ 0.  0.  0. ...,  0.  0.  0.]\n",
      " [ 0.  0.  0. ...,  0.  0.  0.]\n",
      " ..., \n",
      " [ 0.  0.  0. ...,  0.  0.  0.]\n",
      " [ 0.  0.  0. ...,  0.  0.  0.]\n",
      " [ 0.  0.  0. ...,  0.  0.  0.]]\n"
     ]
    }
   ],
   "source": [
    "'''\n",
    "    訓練データの生成（内部で TF-IDF 処理を実行）\n",
    "'''\n",
    "from learning.core.training_set.training_message_from_csv import TrainingMessageFromCsv\n",
    "training_set = TrainingMessageFromCsv(bot_id, csv_file_path, learning_parameter, encoding=csv_file_encoding)\n",
    "build_training_set_from_csv = training_set.build()"
   ]
  },
  {
   "cell_type": "markdown",
   "metadata": {
    "deletable": true,
    "editable": true
   },
   "source": [
    "### 訓練データのクラス（ここでは、回答ID）を抽出"
   ]
  },
  {
   "cell_type": "code",
   "execution_count": 6,
   "metadata": {
    "collapsed": false,
    "deletable": true,
    "editable": true
   },
   "outputs": [
    {
     "data": {
      "text/plain": [
       "array([3397, 3398, 3399, 3400, 3401, 3402, 3404, 3405, 3406, 3407, 3408,\n",
       "       3409, 3411, 3412, 3413, 3414, 3415, 3416, 3417, 3418, 3419, 3420,\n",
       "       3421, 3422, 3423, 3424, 3425, 3426, 3427, 3428, 3429, 3430, 3431,\n",
       "       3432, 3433, 3434, 3435, 3436, 3437, 3438, 3439, 3440, 3441, 3442,\n",
       "       3443, 3444, 3445, 3446, 3447, 3449, 3451, 3452, 3453, 3454, 3455,\n",
       "       3456, 3457, 3458, 3459, 3460, 3461, 3462, 3463, 3464, 3465, 3466,\n",
       "       3467, 3468, 3469, 3470, 3471, 3472, 3473, 3474, 3475, 3476, 3477,\n",
       "       3478, 3479, 3480, 3481, 3482, 3483, 3484, 3485, 3486, 3487, 3488,\n",
       "       3489, 3490, 3491, 3492, 3493, 3494, 3496, 3497, 3498, 3499, 3500,\n",
       "       3501, 3502, 3503, 3504, 3505, 3506, 3507, 3508, 3509, 3510, 3511,\n",
       "       3512, 3513, 3514, 3515, 3516, 3517, 3518, 3519, 3520, 3521, 3522,\n",
       "       3523, 3524, 3525, 3526, 3527, 3528, 3529, 3530, 3531, 3532, 3534,\n",
       "       3535, 3536, 3537, 3538, 3539, 3540, 3541, 3543, 3544, 3545, 3546,\n",
       "       3547, 3548, 3549, 3550, 3551, 3552, 3553, 3554, 3555, 3556, 3557,\n",
       "       3558, 3559, 3560, 3561, 3562, 3563, 3564, 3565, 3567, 3568, 3569,\n",
       "       3570, 3571, 3572, 3573, 3574, 3575, 3576, 3577, 3578, 3579, 3580,\n",
       "       3581, 3582, 3583, 3584, 3585, 3586, 3587, 3588, 3589, 3590, 3591,\n",
       "       3592, 3593, 3594, 3595, 3596, 3597, 3598, 3599, 3600, 3601, 3602,\n",
       "       3603, 3604, 3605, 3606, 3607, 3608, 3609, 3610, 3611, 3612, 3613,\n",
       "       3615, 3616, 3617, 3618, 3619, 3620, 3621, 3622, 3623, 3624, 3625,\n",
       "       3626, 3627, 3628, 3629, 3630, 3631, 3632, 3633, 3634, 3635, 3636,\n",
       "       3637, 3638, 3639, 3640, 3641, 3642, 3643, 3644, 3645, 3646, 3647,\n",
       "       3648, 3649, 3650, 3651, 3652, 3653, 3654, 3655, 3656, 3657, 3658,\n",
       "       3659, 3660, 3661, 3662, 3663, 3664, 3665, 3666, 3667, 3668, 3669,\n",
       "       3670, 3671, 3672, 3673, 3674, 3675, 3676, 3677, 3678, 3679, 3680,\n",
       "       3681, 3682, 3683, 3684, 3685, 3686, 3687, 3688, 3689, 3690, 3691,\n",
       "       3692, 3693, 3694, 3695, 3697, 3698, 3699, 3700, 3701, 3702, 3703,\n",
       "       3704, 3705, 3706, 3707, 3708, 3709, 3710, 3711, 3712, 3713, 3714,\n",
       "       3715, 3716, 3717, 3718, 3719, 3720, 3721, 3722, 3723, 3724, 3725,\n",
       "       3726, 3727, 3728, 3729, 3730, 3731, 3732, 3733, 3734, 3736, 3737,\n",
       "       3738, 3739, 3740, 3741, 3753, 3754, 3755, 3756, 3757, 3758, 3759,\n",
       "       3760, 3761, 3762, 3763, 3764, 3765, 3766, 3767, 3768, 3769, 3770,\n",
       "       3771, 3772, 3773, 3774, 3775, 3776, 3777, 3778, 3779, 3780, 3781,\n",
       "       3782, 3783, 3784, 3785, 3786, 3787, 3788, 3789, 3790, 3791, 3792,\n",
       "       3793, 3794, 3795, 3796, 3797, 3798, 3799, 3801, 3802, 3803, 3804,\n",
       "       3805, 3806, 3807, 3808, 3809, 3810, 3812, 3813, 3814, 3815, 3816,\n",
       "       3817, 3818, 3819, 3820, 3821, 3822, 3823, 3824, 3825, 3826, 3827,\n",
       "       3828, 3829, 3830, 3831, 3832, 3833, 3834, 3835, 3836, 3837, 3838,\n",
       "       3839, 3840, 3841, 3842, 3843, 3844, 3845, 3846, 3848, 3849, 3850,\n",
       "       3851, 3852, 3853, 3854, 3855, 3856, 3857, 3858, 3859, 3860, 3861,\n",
       "       3862, 3864, 3865, 3866, 3867, 3868, 3869, 3870, 3871, 3872, 3873,\n",
       "       3874, 3875, 3876, 3877, 3878, 3879, 3880, 3881, 3882, 3883, 3884,\n",
       "       3885, 3886, 3887, 3888, 3889, 3890, 3891, 3892, 3893, 3894, 3895,\n",
       "       3896, 3897, 3898, 3899, 3900, 3901, 3904, 3905, 3906, 3907, 3908,\n",
       "       3909, 3910, 3911, 3912, 3913, 3914, 3915, 3916, 3917, 3918, 3919,\n",
       "       3920, 3931, 3933, 3934, 3935, 3936, 3938, 3939, 3940, 3941, 3942,\n",
       "       3943, 3944, 3945, 3946, 3947, 3948, 3949, 3950, 3951, 3952, 3953,\n",
       "       3954, 3955, 3956, 3957, 3958, 3959, 3960, 3961, 3962, 3963, 3964,\n",
       "       3965, 3966, 3967, 3968, 3969, 3970, 3971, 3972, 3973, 3974, 3975,\n",
       "       3976, 3977, 3978, 3979, 3980, 3981, 3982, 3983, 3984, 3985, 3986,\n",
       "       3987, 3988, 3989, 3990, 3991, 3992, 3993, 3994, 3995, 3996, 3997,\n",
       "       3998, 3999, 4000, 4001, 4002, 4003, 4004, 4005, 4006, 4007, 4008,\n",
       "       4009, 4010, 4011, 4012, 4013, 4014, 4015, 4016, 4017, 4018, 4019,\n",
       "       4020, 4021, 4644, 4645, 4646, 4647, 4648, 4649, 4650, 4651, 4652,\n",
       "       4653, 4654, 4655, 4656, 4657, 4658, 4659, 4660, 4661, 4663, 4664,\n",
       "       4665, 4666, 4667, 4668, 4669, 4670, 4671, 4672])"
      ]
     },
     "execution_count": 6,
     "metadata": {},
     "output_type": "execute_result"
    }
   ],
   "source": [
    "'''\n",
    "    訓練データ分割前のチェック処理\n",
    "    \n",
    "    scikit-learn/sklearn/cross_validation.py 内部の処理を切り出して実行\n",
    "'''\n",
    "import numpy as np\n",
    "y = np.asarray(build_training_set_from_csv.y)\n",
    "n_samples = y.shape[0]\n",
    "unique_labels, y_inversed = np.unique(y, return_inverse=True)\n",
    "unique_labels"
   ]
  },
  {
   "cell_type": "markdown",
   "metadata": {
    "deletable": true,
    "editable": true
   },
   "source": [
    "### 訓練データのクラスごとに含まれるサンプル（ここでは質問文）の数を取得"
   ]
  },
  {
   "cell_type": "code",
   "execution_count": 7,
   "metadata": {
    "collapsed": false,
    "deletable": true,
    "editable": true,
    "scrolled": true
   },
   "outputs": [
    {
     "data": {
      "text/plain": [
       "array([24, 54, 30, 26, 42, 42, 44, 42, 36, 36, 36, 42, 26, 30, 36, 32, 38,\n",
       "       32, 32, 30, 42, 32, 36, 46, 38, 42, 36, 38, 32, 36, 38, 30, 36, 38,\n",
       "       54, 38, 32, 52, 30, 38, 38, 26, 30, 30, 32, 32, 36, 36, 32, 30, 36,\n",
       "       38, 26, 42, 42, 42, 36, 36, 30, 42, 48, 36, 26, 36, 38, 24, 36, 32,\n",
       "       36, 36, 32, 30, 32, 38, 36, 20, 66, 38, 38, 40, 26, 42, 42, 42, 46,\n",
       "       42, 42, 48, 26, 32, 36, 32, 36, 38, 36, 49, 24, 20, 38, 28, 34, 38,\n",
       "       32, 34, 32, 32, 38, 26, 26, 38, 32, 32, 32, 28, 32, 38, 82, 32, 32,\n",
       "       26, 36, 36, 26, 26, 32, 62, 32, 40, 32, 34, 32, 32, 38, 26, 26, 38,\n",
       "       32, 32, 32, 32, 38, 32, 38, 38, 34, 32, 26, 44, 32, 32, 32, 32, 26,\n",
       "       34, 38, 26, 38, 32, 32, 32, 28, 38, 34, 38, 32, 32, 32, 38, 38, 22,\n",
       "       26, 32, 32, 38, 26, 26, 32, 32, 38, 26, 38, 38, 38, 46, 32, 34, 40,\n",
       "       32, 32, 26, 32, 56, 38, 38, 26, 38, 32, 26, 32, 26, 32, 40, 32, 32,\n",
       "       32, 28, 32, 32, 32, 38, 26, 32, 38, 38, 32, 28, 44, 32, 38, 34, 32,\n",
       "       38, 34, 44, 26, 32, 32, 44, 32, 40, 38, 40, 34, 32, 38, 32, 34, 42,\n",
       "       32, 36, 32, 32, 32, 32, 32, 38, 32, 38, 32, 32, 32, 26, 32, 32, 32,\n",
       "       26, 32, 62, 38, 32, 32, 38, 32, 38, 38, 26, 40, 38, 32, 38, 38, 42,\n",
       "       32, 38, 34, 32, 32, 70, 98, 38, 32, 32, 32, 38, 38, 26, 44, 38, 26,\n",
       "       44, 42, 36, 30, 36, 50, 36, 42, 38, 42, 42, 36, 30, 42, 36, 36, 36,\n",
       "       36, 44, 36, 44, 36, 54, 42, 36, 58, 38, 42, 42, 38, 38, 36, 24, 42,\n",
       "       48, 46, 42, 36, 42, 40, 38, 38, 32, 40, 32,  8, 44, 24, 24, 30, 24,\n",
       "       30, 24, 30, 32, 40, 24, 30, 24, 62, 20, 26, 20, 26, 26, 26, 24, 34,\n",
       "       22, 26, 14, 26, 20, 14, 26, 22, 20, 34, 20, 28, 20, 26, 20, 30, 20,\n",
       "       14, 24, 34, 26, 44, 32, 28, 38, 26, 20, 26, 28, 20, 20, 26, 52, 16,\n",
       "       26, 32, 26, 34, 38, 22, 30, 28, 24, 32, 14, 26, 34, 18, 14, 20, 26,\n",
       "       20, 32, 26, 32, 14, 20, 30, 24, 20, 32, 22, 22, 26, 32, 26, 32, 26,\n",
       "       26, 28, 20, 20, 26, 20, 14, 20, 20, 26, 26, 28,  8, 38, 28, 32, 20,\n",
       "       20, 26, 26, 20, 26, 24, 14, 24, 36, 26, 36, 26, 32, 20, 26, 26, 20,\n",
       "       26, 20, 30, 26, 14, 26, 20, 20, 20, 26, 26, 32, 26, 20, 20, 20, 32,\n",
       "       32, 30, 26, 26, 26, 32, 26, 14, 24, 38, 20, 24, 32, 26, 36, 20, 56,\n",
       "       24, 24, 24,  2,  2,  8,  2,  8,  2, 42, 42, 38, 30, 36, 38, 26, 38,\n",
       "       38, 18, 36, 20, 26, 32, 36, 26, 26,  4, 20,  8, 32, 20, 30, 30,  6,\n",
       "       46, 20,  6,  6, 12,  6,  6,  6,  8,  2,  6, 16,  2,  2, 12,  2,  8,\n",
       "        2, 14,  8,  2, 10, 14,  8,  2,  2,  8,  2, 14,  2,  2,  2,  2,  2,\n",
       "        2, 14,  2,  8,  4,  2, 10,  2, 14,  8,  8, 24, 12, 20, 16, 20, 14,\n",
       "        8,  4, 22, 16,  4, 10, 10,  2,  2,  2,  2,  6,  2,  2,  2,  2,  2,\n",
       "        2,  2,  2,  6,  6,  2,  2,  2,  2,  6,  6,  2,  6,  2,  2,  2,  6,\n",
       "        2])"
      ]
     },
     "execution_count": 7,
     "metadata": {},
     "output_type": "execute_result"
    }
   ],
   "source": [
    "def bincount(x, weights=None, minlength=None):\n",
    "    if len(x) > 0:\n",
    "        return np.bincount(x, weights, minlength) # <---\n",
    "    else:\n",
    "        if minlength is None:\n",
    "            minlength = 0\n",
    "        minlength = np.asscalar(np.asarray(minlength, dtype=np.intp))\n",
    "        return np.zeros(minlength, dtype=np.intp)\n",
    "\n",
    "label_counts = bincount(y_inversed)\n",
    "label_counts"
   ]
  },
  {
   "cell_type": "markdown",
   "metadata": {
    "deletable": true,
    "editable": true
   },
   "source": [
    "### クラスに含まれるサンプルの数が、訓練データ分割数を下回っていないかチェック"
   ]
  },
  {
   "cell_type": "code",
   "execution_count": 8,
   "metadata": {
    "collapsed": false,
    "deletable": true,
    "editable": true
   },
   "outputs": [
    {
     "name": "stderr",
     "output_type": "stream",
     "text": [
      "/Library/Frameworks/Python.framework/Versions/3.5/lib/python3.5/site-packages/ipykernel/__main__.py:11: Warning: The least populated class in y has only 2 members, which is too few. The minimum number of labels for any class cannot be less than n_folds=3.\n"
     ]
    }
   ],
   "source": [
    "min_labels = np.min(label_counts) # <---ここの値が２になったために警告が出た様子\n",
    "\n",
    "n_folds = 3 # これは K-fold 交差検証のデフォルト\n",
    "\n",
    "if n_folds > min_labels:\n",
    "    import warnings\n",
    "    warnings.warn((\"The least populated class in y has only %d\"\n",
    "                   \" members, which is too few. The minimum\"\n",
    "                   \" number of labels for any class cannot\"\n",
    "                   \" be less than n_folds=%d.\"\n",
    "                   % (min_labels, n_folds)), Warning)"
   ]
  },
  {
   "cell_type": "markdown",
   "metadata": {
    "deletable": true,
    "editable": true
   },
   "source": [
    "### ご参考：クラスのサンプル数＜分割数になっているクラスIDの一覧"
   ]
  },
  {
   "cell_type": "code",
   "execution_count": 9,
   "metadata": {
    "collapsed": false,
    "deletable": true,
    "editable": true,
    "scrolled": true
   },
   "outputs": [
    {
     "data": {
      "text/plain": [
       "[[3931, 2],\n",
       " [3933, 2],\n",
       " [3935, 2],\n",
       " [3938, 2],\n",
       " [3973, 2],\n",
       " [3976, 2],\n",
       " [3977, 2],\n",
       " [3979, 2],\n",
       " [3981, 2],\n",
       " [3984, 2],\n",
       " [3988, 2],\n",
       " [3989, 2],\n",
       " [3991, 2],\n",
       " [3993, 2],\n",
       " [3994, 2],\n",
       " [3995, 2],\n",
       " [3996, 2],\n",
       " [3997, 2],\n",
       " [3998, 2],\n",
       " [4000, 2],\n",
       " [4003, 2],\n",
       " [4005, 2],\n",
       " [4644, 2],\n",
       " [4645, 2],\n",
       " [4646, 2],\n",
       " [4647, 2],\n",
       " [4649, 2],\n",
       " [4650, 2],\n",
       " [4651, 2],\n",
       " [4652, 2],\n",
       " [4653, 2],\n",
       " [4654, 2],\n",
       " [4655, 2],\n",
       " [4656, 2],\n",
       " [4659, 2],\n",
       " [4660, 2],\n",
       " [4661, 2],\n",
       " [4663, 2],\n",
       " [4666, 2],\n",
       " [4668, 2],\n",
       " [4669, 2],\n",
       " [4670, 2],\n",
       " [4672, 2]]"
      ]
     },
     "execution_count": 9,
     "metadata": {},
     "output_type": "execute_result"
    }
   ],
   "source": [
    "warning_class_ids = []\n",
    "for i, unique_label in enumerate(unique_labels):\n",
    "    if label_counts[i] < n_folds:\n",
    "        warning_class_ids.append([unique_label, label_counts[i]])\n",
    "\n",
    "warning_class_ids"
   ]
  },
  {
   "cell_type": "markdown",
   "metadata": {},
   "source": [
    "### 参考文献：\n",
    "\n",
    "- scikit-learn の cross_validation.py のコード\n",
    "\n",
    " https://github.com/scikit-learn/scikit-learn/blob/master/sklearn/cross_validation.py\n",
    " \n",
    "\n",
    "- numpy 関数のマニュアル\n",
    "\n",
    " https://docs.scipy.org/doc/numpy/reference/generated/numpy.unique.html#numpy.unique\n",
    "\n",
    " https://docs.scipy.org/doc/numpy/reference/generated/numpy.bincount.html"
   ]
  }
 ],
 "metadata": {
  "kernelspec": {
   "display_name": "Python 3",
   "language": "python",
   "name": "python3"
  },
  "language_info": {
   "codemirror_mode": {
    "name": "ipython",
    "version": 3
   },
   "file_extension": ".py",
   "mimetype": "text/x-python",
   "name": "python",
   "nbconvert_exporter": "python",
   "pygments_lexer": "ipython3",
   "version": "3.5.2"
  }
 },
 "nbformat": 4,
 "nbformat_minor": 2
}
