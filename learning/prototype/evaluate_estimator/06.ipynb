{
 "cells": [
  {
   "cell_type": "markdown",
   "metadata": {
    "deletable": true,
    "editable": true
   },
   "source": [
    "# sample_weightを掛けて動作確認"
   ]
  },
  {
   "cell_type": "markdown",
   "metadata": {
    "deletable": true,
    "editable": true
   },
   "source": [
    "## (1) テストデータ／環境準備\n",
    "\n",
    "<b><a href=\"01.ipynb\">こちらのレポート</a></b>ですでに作成済みのモデル／ベクトライザーを使用します。"
   ]
  },
  {
   "cell_type": "code",
   "execution_count": 1,
   "metadata": {
    "collapsed": false,
    "deletable": true,
    "editable": true,
    "scrolled": true
   },
   "outputs": [
    {
     "name": "stdout",
     "output_type": "stream",
     "text": [
      "prototype_dir=/Users/makmorit/GitHub/donusagi-bot/learning/prototype\n",
      "learning_dir=/Users/makmorit/GitHub/donusagi-bot/learning\n"
     ]
    }
   ],
   "source": [
    "'''\n",
    "    プロトタイピング用のパスと、Botライブラリーパスを取得／設定します\n",
    "'''\n",
    "import sys\n",
    "import os\n",
    "\n",
    "prototype_dir = os.path.join(os.getcwd(), '..')\n",
    "prototype_dir = os.path.abspath(prototype_dir)\n",
    "\n",
    "learning_dir = os.path.join(prototype_dir, '..')\n",
    "learning_dir = os.path.abspath(learning_dir)\n",
    "os.chdir(learning_dir)\n",
    "\n",
    "if learning_dir not in sys.path:\n",
    "    sys.path.append(learning_dir)\n",
    "\n",
    "print('prototype_dir=%s\\nlearning_dir=%s' % (prototype_dir, learning_dir))"
   ]
  },
  {
   "cell_type": "code",
   "execution_count": 2,
   "metadata": {
    "collapsed": false,
    "deletable": true,
    "editable": true
   },
   "outputs": [],
   "source": [
    "'''\n",
    "    初期設定\n",
    "    データファイル、エンコードを指定\n",
    "    内容は、learn.py を参考にしました。    \n",
    "'''\n",
    "from learning.core.learn.learning_parameter import LearningParameter\n",
    "bot_id = 8888\n",
    "attr = {\n",
    "    'include_failed_data': False,\n",
    "    'include_tag_vector': False,\n",
    "    'classify_threshold': None,\n",
    "    # 'algorithm': LearningParameter.ALGORITHM_NAIVE_BAYES\n",
    "    'algorithm': LearningParameter.ALGORITHM_LOGISTIC_REGRESSION,\n",
    "    # 'params_for_algorithm': { 'C': 200 }\n",
    "    'params_for_algorithm': {}\n",
    "}\n",
    "learning_parameter = LearningParameter(attr)"
   ]
  },
  {
   "cell_type": "markdown",
   "metadata": {
    "deletable": true,
    "editable": true
   },
   "source": [
    "## (2) 負例データの仕込み"
   ]
  },
  {
   "cell_type": "markdown",
   "metadata": {
    "deletable": true,
    "editable": true
   },
   "source": [
    "proba < 0.5 で、かつ意図した回答にならない質問文を任意に拾い上げます。"
   ]
  },
  {
   "cell_type": "code",
   "execution_count": 3,
   "metadata": {
    "collapsed": false,
    "deletable": true,
    "editable": true,
    "scrolled": true
   },
   "outputs": [
    {
     "name": "stderr",
     "output_type": "stream",
     "text": [
      "TextArray#__init__ start\n",
      "2017/03/06 PM 07:14:04 TextArray#__init__ start\n",
      "TextArray#to_vec start\n",
      "2017/03/06 PM 07:14:04 TextArray#to_vec start\n",
      "TextArray#to_vec end\n",
      "2017/03/06 PM 07:14:04 TextArray#to_vec end\n",
      "predicted results (order by probability desc)\n",
      "2017/03/06 PM 07:14:04 predicted results (order by probability desc)\n",
      "{'probability': 0.69139462087656989, 'answer_id': 3673.0}\n",
      "2017/03/06 PM 07:14:04 {'probability': 0.69139462087656989, 'answer_id': 3673.0}\n",
      "{'probability': 0.1899476457383148, 'answer_id': 3950.0}\n",
      "2017/03/06 PM 07:14:04 {'probability': 0.1899476457383148, 'answer_id': 3950.0}\n",
      "{'probability': 0.013690085497197156, 'answer_id': 3799.0}\n",
      "2017/03/06 PM 07:14:04 {'probability': 0.013690085497197156, 'answer_id': 3799.0}\n",
      "{'probability': 0.012180466458260522, 'answer_id': 3502.0}\n",
      "2017/03/06 PM 07:14:04 {'probability': 0.012180466458260522, 'answer_id': 3502.0}\n",
      "{'probability': 0.010356139530454285, 'answer_id': 3408.0}\n",
      "2017/03/06 PM 07:14:04 {'probability': 0.010356139530454285, 'answer_id': 3408.0}\n",
      "{'probability': 0.0066351621065073932, 'answer_id': 3961.0}\n",
      "2017/03/06 PM 07:14:04 {'probability': 0.0066351621065073932, 'answer_id': 3961.0}\n",
      "{'probability': 0.0059341457771362061, 'answer_id': 3630.0}\n",
      "2017/03/06 PM 07:14:04 {'probability': 0.0059341457771362061, 'answer_id': 3630.0}\n",
      "{'probability': 0.0043592310037435219, 'answer_id': 3646.0}\n",
      "2017/03/06 PM 07:14:04 {'probability': 0.0043592310037435219, 'answer_id': 3646.0}\n",
      "{'probability': 0.0037352318852640065, 'answer_id': 3987.0}\n",
      "2017/03/06 PM 07:14:04 {'probability': 0.0037352318852640065, 'answer_id': 3987.0}\n",
      "{'probability': 0.0036413295642206914, 'answer_id': 3496.0}\n",
      "2017/03/06 PM 07:14:04 {'probability': 0.0036413295642206914, 'answer_id': 3496.0}\n"
     ]
    },
    {
     "name": "stdout",
     "output_type": "stream",
     "text": [
      "question: サーバとインフラの料金はいくらかかりますか？\n",
      "answer: 3673\n",
      "proba: 0.691394620877 \n",
      "\n",
      "question: 再編集されたメールを検索したいのですが？\n",
      "answer: 3402\n",
      "proba: 0.688213759181 \n",
      "\n",
      "question: 本文をインデントする方法が知りたいのですが？\n",
      "answer: 3488\n",
      "proba: 0.571904988964 \n",
      "\n",
      "question: 未読メールがあるはずなのに見つかりません。\n",
      "answer: 3940\n",
      "proba: 0.545927508699 \n",
      "\n",
      "question: 迷惑メールを受け取りたくないのですが？\n",
      "answer: 3697\n",
      "proba: 0.971456449706 \n",
      "\n"
     ]
    }
   ],
   "source": [
    "'''\n",
    "    Reply クラスを生成し予測実行\n",
    "'''\n",
    "from prototype.modules.ReplyForLocalTest import Reply\n",
    "reply = Reply(bot_id, learning_parameter)\n",
    "\n",
    "test_X = [\n",
    "    'サーバとインフラの料金はいくらかかりますか？', # -->3673「以下URLに接続しxxxをご確認ください」\n",
    "    '再編集されたメールを検索したいのですが？', # -->3402「方法については『xxx(送信済メールの再利用)』を参照してください」\n",
    "    '本文をインデントする方法が知りたいのですが？', # -->3488「URLのパスを””、<>で囲っていただくことで、改善されるか確認ください。」    \n",
    "    '未読メールがあるはずなのに見つかりません。', # -->3940「方法については『xxx(未読のメールのフォルダを作成する)』を参照してください」\n",
    "    '迷惑メールを受け取りたくないのですが？', # -->3697「一般的には、「広告メール」のことをいいます」\n",
    "]\n",
    "z = reply.predict(test_X)"
   ]
  },
  {
   "cell_type": "markdown",
   "metadata": {
    "deletable": true,
    "editable": true
   },
   "source": [
    "## (3) 負例データを訓練データに追加"
   ]
  },
  {
   "cell_type": "markdown",
   "metadata": {
    "deletable": true,
    "editable": true
   },
   "source": [
    "上記の誤回答を誘発するデータを「反面教師データ」として、訓練データに追加します。\n",
    "\n",
    "sample_weight が訓練データ１レコード（CSV１行分）ごとに設定される重み係数であるための措置です。"
   ]
  },
  {
   "cell_type": "code",
   "execution_count": 4,
   "metadata": {
    "collapsed": false,
    "deletable": true,
    "editable": true
   },
   "outputs": [
    {
     "data": {
      "text/plain": [
       "'/Users/makmorit/GitHub/donusagi-bot/learning/prototype/resources/test_daikin_conversation_ext.csv'"
      ]
     },
     "execution_count": 4,
     "metadata": {},
     "output_type": "execute_result"
    }
   ],
   "source": [
    "csv_file_name = 'test_daikin_conversation.csv'\n",
    "added_csv_file_name = 'test_daikin_conversation_ext.csv'\n",
    "\n",
    "csv_file_path = os.path.join(prototype_dir, 'resources', csv_file_name)\n",
    "appended_csv_file_path = os.path.join(prototype_dir, 'resources', added_csv_file_name)\n",
    "appended_csv_file_path"
   ]
  },
  {
   "cell_type": "code",
   "execution_count": 5,
   "metadata": {
    "collapsed": false,
    "deletable": true,
    "editable": true,
    "scrolled": true
   },
   "outputs": [
    {
     "name": "stdout",
     "output_type": "stream",
     "text": [
      "--- original\n",
      "+++ added\n",
      "@@ -89859,3 +89859,8 @@\n",
      " DKI企画部インフラG ＜net-unyo@daikin.co.jp＞\"\n",
      " 1403260,VPNキーの再発行依頼を行ったが、進捗状況を教えて欲しい。,4672,\"VPNキー再発行は1週間を目処に対応しているため、申請から1週間を経過している場合や緊急事態の場合は、以下へお電話ください。\n",
      " 7-205-413\"\n",
      "+1403261,サーバとインフラの料金はいくらかかりますか？,3673,\"負例データ\"\n",
      "+1403262,再編集されたメールを検索したいのですが？,3402,\"負例データ\"\n",
      "+1403263,本文をインデントする方法が知りたいのですが？,3488,\"負例データ\"\n",
      "+1403264,未読メールがあるはずなのに見つかりません。,3940,\"負例データ\"\n",
      "+1403265,迷惑メールを受け取りたくないのですが？,3697,\"負例データ\"\n"
     ]
    }
   ],
   "source": [
    "import difflib\n",
    "import sys\n",
    "\n",
    "with open(csv_file_path, 'r') as old_csv:\n",
    "    with open(appended_csv_file_path, 'r') as new_csv:\n",
    "        diff = difflib.unified_diff(\n",
    "            old_csv.readlines(),\n",
    "            new_csv.readlines(),\n",
    "            fromfile='original',\n",
    "            tofile='added',\n",
    "        )\n",
    "        for line in diff:\n",
    "            sys.stdout.write(line)"
   ]
  },
  {
   "cell_type": "markdown",
   "metadata": {
    "deletable": true,
    "editable": true
   },
   "source": [
    "## (4) 負例データを含む訓練データで学習実行\n",
    "\n",
    "bot_id は誤回答を誘発する「反面教師データ」を含まないモデル（8888）とは別にしておきます（比較のため）。"
   ]
  },
  {
   "cell_type": "code",
   "execution_count": 6,
   "metadata": {
    "collapsed": false,
    "deletable": true,
    "editable": true,
    "scrolled": true
   },
   "outputs": [
    {
     "name": "stderr",
     "output_type": "stream",
     "text": [
      "/Library/Frameworks/Python.framework/Versions/3.5/lib/python3.5/site-packages/sklearn/cross_validation.py:44: DeprecationWarning: This module was deprecated in version 0.18 in favor of the model_selection module into which all the refactored classes and functions are moved. Also note that the interface of the new CV iterators are different from that of this module. This module will be removed in 0.20.\n",
      "  \"This module will be removed in 0.20.\", DeprecationWarning)\n",
      "/Library/Frameworks/Python.framework/Versions/3.5/lib/python3.5/site-packages/sklearn/grid_search.py:43: DeprecationWarning: This module was deprecated in version 0.18 in favor of the model_selection module into which all the refactored classes and functions are moved. This module will be removed in 0.20.\n",
      "  DeprecationWarning)\n"
     ]
    }
   ],
   "source": [
    "'''\n",
    "    Bot/Reply モジュールをカスタマイズした\n",
    "    BotForLocalTest/ReplyForLocalTest モジュールは、\n",
    "    {prototype_dir}/modules 配下に格納されています\n",
    "    （ローカル環境から MySQLdb/dataset に接続できないための措置）\n",
    "'''\n",
    "from prototype.modules.BotForLocalTest import Bot"
   ]
  },
  {
   "cell_type": "markdown",
   "metadata": {
    "deletable": true,
    "editable": true
   },
   "source": [
    "#### sample_weight は、グリッドサーチの fit 関数にはパラメータ指定ができません。\n",
    "\n",
    "別段制約事項として注記はないのですが、ご参考までに、グリッドサーチの fit 関数の仕様は下記URLになります。\n",
    "\n",
    "http://scikit-learn.org/0.17/modules/generated/sklearn.grid_search.GridSearchCV.html#sklearn.grid_search.GridSearchCV.fit\n",
    "\n",
    "したがって、コストパラメータ（L2 penalty）は即値指定とします（C=1.0）。\n",
    "\n",
    "C=1.0 とした根拠は、sample_weight（X, y, Cの逆数と一緒にソルバー関数に与えられる引数、後述）を効かせるための措置になります。\n",
    "\n",
    "下記URLを参考にしました。\n",
    "\n",
    "http://scikit-learn.org/0.17/modules/generated/sklearn.linear_model.LogisticRegression.html#sklearn-linear-model-logisticregression"
   ]
  },
  {
   "cell_type": "code",
   "execution_count": 7,
   "metadata": {
    "collapsed": true,
    "deletable": true,
    "editable": true
   },
   "outputs": [],
   "source": [
    "'''\n",
    "    初期設定\n",
    "    データファイル、エンコードを指定\n",
    "    内容は、learn.py を参考にしました。    \n",
    "'''\n",
    "appended_bot_id = 9999\n",
    "attr = {\n",
    "    'include_failed_data': False,\n",
    "    'include_tag_vector': False,\n",
    "    'classify_threshold': None,\n",
    "    # 'algorithm': LearningParameter.ALGORITHM_NAIVE_BAYES\n",
    "    'algorithm': LearningParameter.ALGORITHM_LOGISTIC_REGRESSION,\n",
    "    'params_for_algorithm': { 'C': 1.0 } # <---グリッドサーチが使えないので、即値を指定。\n",
    "    # 'params_for_algorithm': {}\n",
    "}\n",
    "appended_learning_parameter = LearningParameter(attr)"
   ]
  },
  {
   "cell_type": "markdown",
   "metadata": {
    "deletable": true,
    "editable": true
   },
   "source": [
    "#### 負例データに関する sample_weight を仮に 0.3 と設定します。"
   ]
  },
  {
   "cell_type": "code",
   "execution_count": 8,
   "metadata": {
    "collapsed": false,
    "deletable": true,
    "editable": true
   },
   "outputs": [
    {
     "data": {
      "text/plain": [
       "array([ 1. ,  1. ,  1. ,  0.3,  0.3,  0.3,  0.3,  0.3])"
      ]
     },
     "execution_count": 8,
     "metadata": {},
     "output_type": "execute_result"
    }
   ],
   "source": [
    "'''\n",
    "    sample_weight の生成\n",
    "    負例データを 0.3、その他はデフォルトの 1.0 にします。\n",
    "    負例データ＝５件、その他のデータ＝17,443件、計＝17,448件\n",
    "'''\n",
    "import numpy as np\n",
    "sample_weight = np.full(17448, 1.0)\n",
    "for i in range(17443, 17448):\n",
    "    sample_weight[i] = 0.3\n",
    "sample_weight[-8:] # <---配列の値を確認します。最後尾の５件のウェイトが 0.3 です"
   ]
  },
  {
   "cell_type": "markdown",
   "metadata": {
    "deletable": true,
    "editable": true
   },
   "source": [
    "#### 負例データ＋sample_weightによる学習を実行します。"
   ]
  },
  {
   "cell_type": "code",
   "execution_count": 9,
   "metadata": {
    "collapsed": false,
    "deletable": true,
    "editable": true,
    "scrolled": true
   },
   "outputs": [
    {
     "name": "stderr",
     "output_type": "stream",
     "text": [
      "learning_parameter: {'_include_tag_vector': False, '_include_failed_data': False, '_algorithm': 0, '_classify_threshold': None, '_params_for_algorithm': {'C': 1.0}}\n",
      "2017/03/06 PM 07:14:05 learning_parameter: {'_include_tag_vector': False, '_include_failed_data': False, '_algorithm': 0, '_classify_threshold': None, '_params_for_algorithm': {'C': 1.0}}\n",
      "start Bot#learn\n",
      "2017/03/06 PM 07:14:05 start Bot#learn\n",
      "TrainingMessageFromCsv#__build_learning_training_messages count of learning data: 17448\n",
      "2017/03/06 PM 07:14:05 TrainingMessageFromCsv#__build_learning_training_messages count of learning data: 17448\n",
      "TextArray#__init__ start\n",
      "2017/03/06 PM 07:14:05 TextArray#__init__ start\n",
      "TextArray#to_vec start\n",
      "2017/03/06 PM 07:14:05 TextArray#to_vec start\n",
      "TextArray#to_vec end\n",
      "2017/03/06 PM 07:14:24 TextArray#to_vec end\n",
      "[[ 0.  0.  0. ...,  0.  0.  0.]\n",
      " [ 0.  0.  0. ...,  0.  0.  0.]\n",
      " [ 0.  0.  0. ...,  0.  0.  0.]\n",
      " ..., \n",
      " [ 0.  0.  0. ...,  0.  0.  0.]\n",
      " [ 0.  0.  0. ...,  0.  0.  0.]\n",
      " [ 0.  0.  0. ...,  0.  0.  0.]]\n",
      "2017/03/06 PM 07:14:24 [[ 0.  0.  0. ...,  0.  0.  0.]\n",
      " [ 0.  0.  0. ...,  0.  0.  0.]\n",
      " [ 0.  0.  0. ...,  0.  0.  0.]\n",
      " ..., \n",
      " [ 0.  0.  0. ...,  0.  0.  0.]\n",
      " [ 0.  0.  0. ...,  0.  0.  0.]\n",
      " [ 0.  0.  0. ...,  0.  0.  0.]]\n",
      "use algorithm: logistic regression\n",
      "2017/03/06 PM 07:14:24 use algorithm: logistic regression\n",
      "learning_parameter has parameter C\n",
      "2017/03/06 PM 07:14:24 learning_parameter has parameter C\n",
      "after Bot#__get_estimator\n",
      "2017/03/06 PM 07:21:06 after Bot#__get_estimator\n",
      "before Evaluator#evaluate\n",
      "2017/03/06 PM 07:21:06 before Evaluator#evaluate\n",
      "self.threshold: 0.0\n",
      "2017/03/06 PM 07:21:06 self.threshold: 0.0\n",
      "Evaluator#evaluate#elapsed time: 250941.332817 ms\n",
      "2017/03/06 PM 07:25:17 Evaluator#evaluate#elapsed time: 250941.332817 ms\n",
      "accuracy: 0.931224209078\n",
      "2017/03/06 PM 07:25:17 accuracy: 0.931224209078\n",
      "end Bot#learn\n",
      "2017/03/06 PM 07:25:17 end Bot#learn\n"
     ]
    }
   ],
   "source": [
    "'''\n",
    "    Bot クラスを生成し学習実行\n",
    "'''\n",
    "bot = Bot(appended_bot_id, appended_learning_parameter)\n",
    "evaluator = bot.learn(csv_file_path=appended_csv_file_path, \n",
    "                      csv_file_encoding='utf-8', \n",
    "                      sample_weight=sample_weight,\n",
    "                      solver='lbfgs')"
   ]
  },
  {
   "cell_type": "markdown",
   "metadata": {
    "deletable": true,
    "editable": true
   },
   "source": [
    "#### 補足：ソルバー指定について\n",
    "\n",
    "LogisticRegression の引数に与える solver=‘lbfgs’ とした根拠は、上記URLの\n",
    "\n",
    "- For multiclass problems, only ‘newton-cg’ and ‘lbfgs’ handle\n",
    "\n",
    "- ‘newton-cg’, ‘lbfgs’ and ‘sag’ only handle L2 penalty.\n",
    "\n",
    "\n",
    "の記述に則った措置になります。\n",
    "\n",
    " すなわちペナルティを効かせてマルチクラスの予測がしたかったら、newton-cg、lbfgs しか選択肢がないと言っているようです.\n",
    "\n",
    " たしかにソースを参照したところ、X、y、C の逆数値とともに、sample_weight が solver 関数の引数に与えられているのを確認しました.\n",
    " \n",
    " （下記は<b><a href=\"https://github.com/scikit-learn/scikit-learn/blob/51a765a/sklearn/linear_model/logistic.py\">ソース</a></b>からの抜粋です）\n",
    "\n",
    "~~~\n",
    "         elif solver == 'newton-cg':\n",
    "            args = (X, target, 1. / C, sample_weight)\n",
    "            w0, n_iter_i = newton_cg(hess, func, grad, w0, args=args,\n",
    "                                     maxiter=max_iter, tol=tol)\n",
    "~~~\n",
    "\n",
    "\n",
    "solver に対応すると思われる手法については、下記URLを参考にしました。\n",
    "\n",
    "http://www.kamishima.net/mlmpyja/lr/optimization.html\n",
    "\n",
    "もっとも・・・‘newton-cg’ と ‘lbfgs’ の違いが 2017/03/06 時点で体感的に分かりづらかったため、処理が軽い（＝Newton-CG と比してへシアンが不要のこと）と判断した lbfgs を指定した次第です。"
   ]
  },
  {
   "cell_type": "markdown",
   "metadata": {
    "deletable": true,
    "editable": true
   },
   "source": [
    "## (5) ご参考：負例データ＋sample_weight無し時の学習結果との比較\n",
    "\n",
    "#### （r2_score の比較は、後日行います。しばらくお待ち願います）"
   ]
  },
  {
   "cell_type": "markdown",
   "metadata": {
    "collapsed": true,
    "deletable": true,
    "editable": true
   },
   "source": [
    "負例データ無し時：（検証時のデータは<b><a \"href=01.ipynb\">こちらになります</a></b>）\n",
    "~~~~\n",
    "accuracy: 0.984177940839\n",
    "~~~~\n",
    "\n",
    "負例データ有り時：Accuracyが落ちてますが、正直、こんなに落ちるとは・・・といった感じです\n",
    "~~~~\n",
    "accuracy: 0.931224209078\n",
    "~~~~"
   ]
  },
  {
   "cell_type": "markdown",
   "metadata": {
    "deletable": true,
    "editable": true
   },
   "source": [
    "## (6) 動作確認：予測実行\n",
    "\n",
    "誤回答を誘発する「反面教師データ」からの質問に対しては、いずれも proba がしきい値の 0.5 を下回っている、という効果が見られました。"
   ]
  },
  {
   "cell_type": "code",
   "execution_count": 10,
   "metadata": {
    "collapsed": false,
    "deletable": true,
    "editable": true,
    "scrolled": false
   },
   "outputs": [
    {
     "name": "stderr",
     "output_type": "stream",
     "text": [
      "TextArray#__init__ start\n",
      "2017/03/06 PM 07:25:17 TextArray#__init__ start\n",
      "TextArray#to_vec start\n",
      "2017/03/06 PM 07:25:17 TextArray#to_vec start\n",
      "TextArray#to_vec end\n",
      "2017/03/06 PM 07:25:17 TextArray#to_vec end\n",
      "predicted results (order by probability desc)\n",
      "2017/03/06 PM 07:25:17 predicted results (order by probability desc)\n",
      "{'probability': 0.022099641719661892, 'answer_id': 3799.0}\n",
      "2017/03/06 PM 07:25:17 {'probability': 0.022099641719661892, 'answer_id': 3799.0}\n",
      "{'probability': 0.020839153785434682, 'answer_id': 3673.0}\n",
      "2017/03/06 PM 07:25:17 {'probability': 0.020839153785434682, 'answer_id': 3673.0}\n",
      "{'probability': 0.018065903854403625, 'answer_id': 3950.0}\n",
      "2017/03/06 PM 07:25:17 {'probability': 0.018065903854403625, 'answer_id': 3950.0}\n",
      "{'probability': 0.013831039690359032, 'answer_id': 3663.0}\n",
      "2017/03/06 PM 07:25:17 {'probability': 0.013831039690359032, 'answer_id': 3663.0}\n",
      "{'probability': 0.013216024377531313, 'answer_id': 3684.0}\n",
      "2017/03/06 PM 07:25:17 {'probability': 0.013216024377531313, 'answer_id': 3684.0}\n",
      "{'probability': 0.013084210311277903, 'answer_id': 3502.0}\n",
      "2017/03/06 PM 07:25:17 {'probability': 0.013084210311277903, 'answer_id': 3502.0}\n",
      "{'probability': 0.010381820372418936, 'answer_id': 3408.0}\n",
      "2017/03/06 PM 07:25:17 {'probability': 0.010381820372418936, 'answer_id': 3408.0}\n",
      "{'probability': 0.00823925951647176, 'answer_id': 3630.0}\n",
      "2017/03/06 PM 07:25:17 {'probability': 0.00823925951647176, 'answer_id': 3630.0}\n",
      "{'probability': 0.0075315166688807193, 'answer_id': 3646.0}\n",
      "2017/03/06 PM 07:25:17 {'probability': 0.0075315166688807193, 'answer_id': 3646.0}\n",
      "{'probability': 0.0073604557762662554, 'answer_id': 3961.0}\n",
      "2017/03/06 PM 07:25:17 {'probability': 0.0073604557762662554, 'answer_id': 3961.0}\n"
     ]
    },
    {
     "name": "stdout",
     "output_type": "stream",
     "text": [
      "question: サーバとインフラの料金はいくらかかりますか？\n",
      "answer: 3799\n",
      "proba: 0.0220996417197 \n",
      "\n",
      "question: 再編集されたメールを検索したいのですが？\n",
      "answer: 3402\n",
      "proba: 0.0356665088787 \n",
      "\n",
      "question: 本文をインデントする方法が知りたいのですが？\n",
      "answer: 3488\n",
      "proba: 0.0410813703997 \n",
      "\n",
      "question: 未読メールがあるはずなのに見つかりません。\n",
      "answer: 3940\n",
      "proba: 0.20406655081 \n",
      "\n",
      "question: 迷惑メールを受け取りたくないのですが？\n",
      "answer: 3697\n",
      "proba: 0.320363263338 \n",
      "\n"
     ]
    }
   ],
   "source": [
    "'''\n",
    "    Reply クラスを生成し予測実行\n",
    "'''\n",
    "appended_reply = Reply(appended_bot_id, appended_learning_parameter)\n",
    "\n",
    "test_X = [\n",
    "    'サーバとインフラの料金はいくらかかりますか？', # -->3673「以下URLに接続しxxxをご確認ください」\n",
    "    '再編集されたメールを検索したいのですが？', # -->3402「方法については『xxx(送信済メールの再利用)』を参照してください」\n",
    "    '本文をインデントする方法が知りたいのですが？', # -->3488「URLのパスを””、<>で囲っていただくことで、改善されるか確認ください。」    \n",
    "    '未読メールがあるはずなのに見つかりません。', # -->3940「方法については『xxx(未読のメールのフォルダを作成する)』を参照してください」\n",
    "    '迷惑メールを受け取りたくないのですが？', # -->3697「一般的には、「広告メール」のことをいいます」\n",
    "]\n",
    "appended_z = appended_reply.predict(test_X)"
   ]
  },
  {
   "cell_type": "markdown",
   "metadata": {
    "deletable": true,
    "editable": true
   },
   "source": [
    "他方、誤回答を誘発しない「正規の教師データ」からの質問に対しても、proba がかなり低くなっています。\n",
    "\n",
    "<b>これは明らかな不具合なのですが、現時点で原因が不明ですので、後日調査いたします。</b>"
   ]
  },
  {
   "cell_type": "code",
   "execution_count": 17,
   "metadata": {
    "collapsed": false,
    "deletable": true,
    "editable": true,
    "scrolled": true
   },
   "outputs": [
    {
     "name": "stderr",
     "output_type": "stream",
     "text": [
      "TextArray#__init__ start\n",
      "2017/03/06 PM 07:35:15 TextArray#__init__ start\n",
      "TextArray#to_vec start\n",
      "2017/03/06 PM 07:35:15 TextArray#to_vec start\n",
      "TextArray#to_vec end\n",
      "2017/03/06 PM 07:35:15 TextArray#to_vec end\n",
      "predicted results (order by probability desc)\n",
      "2017/03/06 PM 07:35:15 predicted results (order by probability desc)\n",
      "{'probability': 0.57693813863389531, 'answer_id': 3398.0}\n",
      "2017/03/06 PM 07:35:15 {'probability': 0.57693813863389531, 'answer_id': 3398.0}\n",
      "{'probability': 0.018654437722176079, 'answer_id': 3409.0}\n",
      "2017/03/06 PM 07:35:15 {'probability': 0.018654437722176079, 'answer_id': 3409.0}\n",
      "{'probability': 0.012143664646494929, 'answer_id': 3442.0}\n",
      "2017/03/06 PM 07:35:15 {'probability': 0.012143664646494929, 'answer_id': 3442.0}\n",
      "{'probability': 0.010561930671814301, 'answer_id': 3940.0}\n",
      "2017/03/06 PM 07:35:15 {'probability': 0.010561930671814301, 'answer_id': 3940.0}\n",
      "{'probability': 0.0091388151676327061, 'answer_id': 3461.0}\n",
      "2017/03/06 PM 07:35:15 {'probability': 0.0091388151676327061, 'answer_id': 3461.0}\n",
      "{'probability': 0.0091166157015392865, 'answer_id': 3732.0}\n",
      "2017/03/06 PM 07:35:15 {'probability': 0.0091166157015392865, 'answer_id': 3732.0}\n",
      "{'probability': 0.0085700953586302763, 'answer_id': 3455.0}\n",
      "2017/03/06 PM 07:35:15 {'probability': 0.0085700953586302763, 'answer_id': 3455.0}\n",
      "{'probability': 0.0083844996337375834, 'answer_id': 3458.0}\n",
      "2017/03/06 PM 07:35:15 {'probability': 0.0083844996337375834, 'answer_id': 3458.0}\n",
      "{'probability': 0.0077542246571789741, 'answer_id': 3422.0}\n",
      "2017/03/06 PM 07:35:15 {'probability': 0.0077542246571789741, 'answer_id': 3422.0}\n",
      "{'probability': 0.007480301778870305, 'answer_id': 3465.0}\n",
      "2017/03/06 PM 07:35:15 {'probability': 0.007480301778870305, 'answer_id': 3465.0}\n"
     ]
    },
    {
     "name": "stdout",
     "output_type": "stream",
     "text": [
      "question: Outlook2010にて、メールの署名の作り方が教えてください。\n",
      "answer: 3398\n",
      "proba: 0.576938138634 \n",
      "\n",
      "question: アウトルック2010で、メーリングリストの差出人のみに返信したい\n",
      "answer: 3460\n",
      "proba: 0.472297180459 \n",
      "\n"
     ]
    }
   ],
   "source": [
    "'''\n",
    "    誤回答を誘発しない質問文を与えて、動作に影響が及んでいないかの確認。\n",
    "'''\n",
    "test_X_prop = [\n",
    "    'Outlook2010にて、メールの署名の作り方が教えてください。', # -->3398\n",
    "    'アウトルック2010で、メーリングリストの差出人のみに返信したい', # -->3460\n",
    "]\n",
    "appended_z = appended_reply.predict(test_X_prop)"
   ]
  }
 ],
 "metadata": {
  "kernelspec": {
   "display_name": "Python 3",
   "language": "python",
   "name": "python3"
  },
  "language_info": {
   "codemirror_mode": {
    "name": "ipython",
    "version": 3
   },
   "file_extension": ".py",
   "mimetype": "text/x-python",
   "name": "python",
   "nbconvert_exporter": "python",
   "pygments_lexer": "ipython3",
   "version": "3.5.2"
  }
 },
 "nbformat": 4,
 "nbformat_minor": 2
}
