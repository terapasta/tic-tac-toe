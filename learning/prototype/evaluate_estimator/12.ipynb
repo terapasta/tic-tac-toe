{
 "cells": [
  {
   "cell_type": "markdown",
   "metadata": {
    "deletable": true,
    "editable": true
   },
   "source": [
    "# sample_weightなし、ラベル０で動作確認\n",
    "\n",
    "- 負例データに関する sample_weight を掛けずに実行します。\n",
    "\n",
    "\n",
    "- 負例データ<b>すべてに、0 というラベルを付与</b>して学習させます。\n",
    "\n",
    "\n",
    "この設定により、負例データ学習後は、負例データと同じような質問を与えた場合、ラベル０に分類される想定です。\n",
    "\n",
    "ただし、負例データすべてをラベル０に集約させることで、負例データが多くなってしまった場合、<a href=\"#(8)-懸案事項\"><b>正例データがラベル０に引っ張られて誤回答を誘発</b></a>してしまうのでは・・・という懸念はあります。"
   ]
  },
  {
   "cell_type": "markdown",
   "metadata": {
    "deletable": true,
    "editable": true
   },
   "source": [
    "## (1) テストデータ／環境準備\n",
    "\n",
    "<b><a href=\"01.ipynb\">こちらのレポート</a></b>ですでに作成済みのモデル／ベクトライザーを使用します。"
   ]
  },
  {
   "cell_type": "code",
   "execution_count": 1,
   "metadata": {
    "collapsed": false,
    "deletable": true,
    "editable": true,
    "scrolled": true
   },
   "outputs": [
    {
     "name": "stdout",
     "output_type": "stream",
     "text": [
      "prototype_dir=/Users/makmorit/GitHub/donusagi-bot/learning/prototype\n",
      "learning_dir=/Users/makmorit/GitHub/donusagi-bot/learning\n"
     ]
    }
   ],
   "source": [
    "'''\n",
    "    プロトタイピング用のパスと、Botライブラリーパスを取得／設定します\n",
    "'''\n",
    "import sys\n",
    "import os\n",
    "\n",
    "prototype_dir = os.path.join(os.getcwd(), '..')\n",
    "prototype_dir = os.path.abspath(prototype_dir)\n",
    "\n",
    "learning_dir = os.path.join(prototype_dir, '..')\n",
    "learning_dir = os.path.abspath(learning_dir)\n",
    "os.chdir(learning_dir)\n",
    "\n",
    "if learning_dir not in sys.path:\n",
    "    sys.path.append(learning_dir)\n",
    "\n",
    "print('prototype_dir=%s\\nlearning_dir=%s' % (prototype_dir, learning_dir))"
   ]
  },
  {
   "cell_type": "code",
   "execution_count": 2,
   "metadata": {
    "collapsed": false,
    "deletable": true,
    "editable": true
   },
   "outputs": [],
   "source": [
    "'''\n",
    "    初期設定\n",
    "    データファイル、エンコードを指定\n",
    "    内容は、learn.py を参考にしました。    \n",
    "'''\n",
    "from learning.core.learn.learning_parameter import LearningParameter\n",
    "bot_id = 8888\n",
    "attr = {\n",
    "    'include_failed_data': False,\n",
    "    'include_tag_vector': False,\n",
    "    'classify_threshold': None,\n",
    "    # 'algorithm': LearningParameter.ALGORITHM_NAIVE_BAYES\n",
    "    'algorithm': LearningParameter.ALGORITHM_LOGISTIC_REGRESSION,\n",
    "    # 'params_for_algorithm': { 'C': 200 }\n",
    "    'params_for_algorithm': {}\n",
    "}\n",
    "learning_parameter = LearningParameter(attr)"
   ]
  },
  {
   "cell_type": "markdown",
   "metadata": {
    "deletable": true,
    "editable": true
   },
   "source": [
    "## (2) 負例データの仕込み"
   ]
  },
  {
   "cell_type": "markdown",
   "metadata": {
    "deletable": true,
    "editable": true
   },
   "source": [
    "proba > 0.5 で、かつ意図した回答にならない質問文を任意に拾い上げます。"
   ]
  },
  {
   "cell_type": "code",
   "execution_count": 3,
   "metadata": {
    "collapsed": false,
    "deletable": true,
    "editable": true,
    "scrolled": false
   },
   "outputs": [
    {
     "name": "stderr",
     "output_type": "stream",
     "text": [
      "TextArray#__init__ start\n",
      "2017/03/09 PM 10:04:18 TextArray#__init__ start\n",
      "TextArray#to_vec start\n",
      "2017/03/09 PM 10:04:18 TextArray#to_vec start\n",
      "TextArray#to_vec end\n",
      "2017/03/09 PM 10:04:18 TextArray#to_vec end\n",
      "predicted results (order by probability desc)\n",
      "2017/03/09 PM 10:04:18 predicted results (order by probability desc)\n",
      "{'answer_id': 3673.0, 'probability': 0.69139462087656989}\n",
      "2017/03/09 PM 10:04:18 {'answer_id': 3673.0, 'probability': 0.69139462087656989}\n",
      "{'answer_id': 3950.0, 'probability': 0.1899476457383148}\n",
      "2017/03/09 PM 10:04:18 {'answer_id': 3950.0, 'probability': 0.1899476457383148}\n",
      "{'answer_id': 3799.0, 'probability': 0.013690085497197156}\n",
      "2017/03/09 PM 10:04:18 {'answer_id': 3799.0, 'probability': 0.013690085497197156}\n",
      "{'answer_id': 3502.0, 'probability': 0.012180466458260522}\n",
      "2017/03/09 PM 10:04:18 {'answer_id': 3502.0, 'probability': 0.012180466458260522}\n",
      "{'answer_id': 3408.0, 'probability': 0.010356139530454285}\n",
      "2017/03/09 PM 10:04:18 {'answer_id': 3408.0, 'probability': 0.010356139530454285}\n",
      "{'answer_id': 3961.0, 'probability': 0.0066351621065073932}\n",
      "2017/03/09 PM 10:04:18 {'answer_id': 3961.0, 'probability': 0.0066351621065073932}\n",
      "{'answer_id': 3630.0, 'probability': 0.0059341457771362061}\n",
      "2017/03/09 PM 10:04:18 {'answer_id': 3630.0, 'probability': 0.0059341457771362061}\n",
      "{'answer_id': 3646.0, 'probability': 0.0043592310037435219}\n",
      "2017/03/09 PM 10:04:18 {'answer_id': 3646.0, 'probability': 0.0043592310037435219}\n",
      "{'answer_id': 3987.0, 'probability': 0.0037352318852640065}\n",
      "2017/03/09 PM 10:04:18 {'answer_id': 3987.0, 'probability': 0.0037352318852640065}\n",
      "{'answer_id': 3496.0, 'probability': 0.0036413295642206914}\n",
      "2017/03/09 PM 10:04:18 {'answer_id': 3496.0, 'probability': 0.0036413295642206914}\n"
     ]
    },
    {
     "name": "stdout",
     "output_type": "stream",
     "text": [
      "question: サーバとインフラの料金はいくらかかりますか？\n",
      "answer: 3673\n",
      "proba: 0.691394620877 \n",
      "\n",
      "question: サーバとインフラの料金について教えてください。\n",
      "answer: 3673\n",
      "proba: 0.946740552088 \n",
      "\n",
      "question: サーバとインフラの料金はどのくらいかかりますか？\n",
      "answer: 3673\n",
      "proba: 0.881814759866 \n",
      "\n",
      "question: 再編集されたメールを検索したいのですが？\n",
      "answer: 3402\n",
      "proba: 0.688213759181 \n",
      "\n",
      "question: 再編集されたメールを検索する方法を教えてください。\n",
      "answer: 3402\n",
      "proba: 0.601669412598 \n",
      "\n",
      "question: 再編集が行われたメールを検索したいのですが？\n",
      "answer: 3402\n",
      "proba: 0.937032900101 \n",
      "\n",
      "question: 本文をインデントする方法が知りたいのですが？\n",
      "answer: 3488\n",
      "proba: 0.571904988964 \n",
      "\n",
      "question: 本文をインデントする方法を教えてください。\n",
      "answer: 3488\n",
      "proba: 0.520196985866 \n",
      "\n",
      "question: 本文について、インデントする方法を教えてください。\n",
      "answer: 3488\n",
      "proba: 0.520196985866 \n",
      "\n",
      "question: 未読メールがあるはずなのに見つかりません。\n",
      "answer: 3940\n",
      "proba: 0.545927508699 \n",
      "\n",
      "question: 未読メールがあるはずですが、見つかりません。\n",
      "answer: 3940\n",
      "proba: 0.545927508699 \n",
      "\n",
      "question: あるはずの未読メールを見つけたいです。\n",
      "answer: 3940\n",
      "proba: 0.614063995774 \n",
      "\n",
      "question: 迷惑メールを受け取りたくないのですが？\n",
      "answer: 3697\n",
      "proba: 0.971456449706 \n",
      "\n",
      "question: 迷惑メールを受け取りたくない場合の方法は？\n",
      "answer: 3697\n",
      "proba: 0.648110468438 \n",
      "\n",
      "question: 迷惑メールを受け取りたくない方法は？\n",
      "answer: 3697\n",
      "proba: 0.809252261128 \n",
      "\n"
     ]
    }
   ],
   "source": [
    "'''\n",
    "    Reply クラスを生成し予測実行\n",
    "'''\n",
    "from prototype.modules.ReplyForLocalTest import Reply\n",
    "reply = Reply(bot_id, learning_parameter)\n",
    "\n",
    "test_X = [\n",
    "    'サーバとインフラの料金はいくらかかりますか？', # -->3673「以下URLに接続しxxxをご確認ください」\n",
    "    'サーバとインフラの料金について教えてください。',\n",
    "    'サーバとインフラの料金はどのくらいかかりますか？',\n",
    "    '再編集されたメールを検索したいのですが？', # -->3402「方法については『xxx(送信済メールの再利用)』を参照してください」\n",
    "    '再編集されたメールを検索する方法を教えてください。',\n",
    "    '再編集が行われたメールを検索したいのですが？',\n",
    "    '本文をインデントする方法が知りたいのですが？', # -->3488「URLのパスを””、<>で囲っていただくことで、改善されるか確認ください。」\n",
    "    '本文をインデントする方法を教えてください。',\n",
    "    '本文について、インデントする方法を教えてください。',\n",
    "    '未読メールがあるはずなのに見つかりません。', # -->3940「方法については『xxx(未読のメールのフォルダを作成する)』を参照してください」\n",
    "    '未読メールがあるはずですが、見つかりません。',\n",
    "    'あるはずの未読メールを見つけたいです。',\n",
    "    '迷惑メールを受け取りたくないのですが？', # -->3697「一般的には、「広告メール」のことをいいます」\n",
    "    '迷惑メールを受け取りたくない場合の方法は？',\n",
    "    '迷惑メールを受け取りたくない方法は？',\n",
    "]\n",
    "z = reply.predict(test_X)"
   ]
  },
  {
   "cell_type": "markdown",
   "metadata": {
    "deletable": true,
    "editable": true
   },
   "source": [
    "### ご参考：正例データに対する回答"
   ]
  },
  {
   "cell_type": "code",
   "execution_count": 4,
   "metadata": {
    "collapsed": false,
    "deletable": true,
    "editable": true
   },
   "outputs": [
    {
     "name": "stderr",
     "output_type": "stream",
     "text": [
      "TextArray#__init__ start\n",
      "2017/03/09 PM 10:04:18 TextArray#__init__ start\n",
      "TextArray#to_vec start\n",
      "2017/03/09 PM 10:04:18 TextArray#to_vec start\n",
      "TextArray#to_vec end\n",
      "2017/03/09 PM 10:04:18 TextArray#to_vec end\n",
      "predicted results (order by probability desc)\n",
      "2017/03/09 PM 10:04:18 predicted results (order by probability desc)\n",
      "{'answer_id': 3673.0, 'probability': 0.97174919956743966}\n",
      "2017/03/09 PM 10:04:18 {'answer_id': 3673.0, 'probability': 0.97174919956743966}\n",
      "{'answer_id': 3672.0, 'probability': 0.02163759597946438}\n",
      "2017/03/09 PM 10:04:18 {'answer_id': 3672.0, 'probability': 0.02163759597946438}\n",
      "{'answer_id': 3545.0, 'probability': 0.00047895379988604245}\n",
      "2017/03/09 PM 10:04:18 {'answer_id': 3545.0, 'probability': 0.00047895379988604245}\n",
      "{'answer_id': 3824.0, 'probability': 0.00029069664153775349}\n",
      "2017/03/09 PM 10:04:18 {'answer_id': 3824.0, 'probability': 0.00029069664153775349}\n",
      "{'answer_id': 3527.0, 'probability': 0.00026940789277560842}\n",
      "2017/03/09 PM 10:04:18 {'answer_id': 3527.0, 'probability': 0.00026940789277560842}\n",
      "{'answer_id': 3792.0, 'probability': 0.0002549629683905776}\n",
      "2017/03/09 PM 10:04:18 {'answer_id': 3792.0, 'probability': 0.0002549629683905776}\n",
      "{'answer_id': 3570.0, 'probability': 0.00019081928613919681}\n",
      "2017/03/09 PM 10:04:18 {'answer_id': 3570.0, 'probability': 0.00019081928613919681}\n",
      "{'answer_id': 3907.0, 'probability': 0.00014351054145231822}\n",
      "2017/03/09 PM 10:04:18 {'answer_id': 3907.0, 'probability': 0.00014351054145231822}\n",
      "{'answer_id': 3519.0, 'probability': 0.00012009268553829348}\n",
      "2017/03/09 PM 10:04:18 {'answer_id': 3519.0, 'probability': 0.00012009268553829348}\n",
      "{'answer_id': 3908.0, 'probability': 0.0001195554030698283}\n",
      "2017/03/09 PM 10:04:18 {'answer_id': 3908.0, 'probability': 0.0001195554030698283}\n"
     ]
    },
    {
     "name": "stdout",
     "output_type": "stream",
     "text": [
      "question: ITインフラガイドラインの内容を確認する方法を教えて欲しい。\n",
      "answer: 3673\n",
      "proba: 0.971749199567 \n",
      "\n",
      "question: アウトルックでメールの再編集をしたい\n",
      "answer: 3402\n",
      "proba: 0.982422931526 \n",
      "\n",
      "question: Outlook2010にてメール送信したとき、本文のURLが改行されてしまう\n",
      "answer: 3488\n",
      "proba: 0.988012682325 \n",
      "\n",
      "question: アウトルック2010で、未読メールを探すのが困難だ\n",
      "answer: 3940\n",
      "proba: 0.9877410761 \n",
      "\n",
      "question: 迷惑メールについて知りたい。\n",
      "answer: 3697\n",
      "proba: 0.972404916234 \n",
      "\n"
     ]
    }
   ],
   "source": [
    "test_X_correct = [\n",
    "    'ITインフラガイドラインの内容を確認する方法を教えて欲しい。', # -->3673「以下URLに接続しxxxをご確認ください」\n",
    "    'アウトルックでメールの再編集をしたい', # -->3402「方法については『xxx(送信済メールの再利用)』を参照してください」\n",
    "    'Outlook2010にてメール送信したとき、本文のURLが改行されてしまう', # -->3488「URLのパスを””、<>で囲っていただくことで、改善されるか確認ください。」\n",
    "    'アウトルック2010で、未読メールを探すのが困難だ', # -->3940「方法については『xxx(未読のメールのフォルダを作成する)』を参照してください」\n",
    "    '迷惑メールについて知りたい。', # -->3697「一般的には、「広告メール」のことをいいます」\n",
    "]\n",
    "z = reply.predict(test_X_correct)"
   ]
  },
  {
   "cell_type": "markdown",
   "metadata": {
    "deletable": true,
    "editable": true
   },
   "source": [
    "## (3) 負例データを訓練データに追加"
   ]
  },
  {
   "cell_type": "markdown",
   "metadata": {
    "deletable": true,
    "editable": true
   },
   "source": [
    "上記の誤回答を誘発するデータを「反面教師データ」として、訓練データに追加します。"
   ]
  },
  {
   "cell_type": "code",
   "execution_count": 5,
   "metadata": {
    "collapsed": false,
    "deletable": true,
    "editable": true
   },
   "outputs": [
    {
     "data": {
      "text/plain": [
       "'/Users/makmorit/GitHub/donusagi-bot/learning/prototype/resources/test_daikin_conversation_ext3.csv'"
      ]
     },
     "execution_count": 5,
     "metadata": {},
     "output_type": "execute_result"
    }
   ],
   "source": [
    "csv_file_name = 'test_daikin_conversation.csv'\n",
    "added_csv_file_name = 'test_daikin_conversation_ext3.csv'\n",
    "\n",
    "csv_file_path = os.path.join(prototype_dir, 'resources', csv_file_name)\n",
    "appended_csv_file_path = os.path.join(prototype_dir, 'resources', added_csv_file_name)\n",
    "appended_csv_file_path"
   ]
  },
  {
   "cell_type": "markdown",
   "metadata": {
    "deletable": true,
    "editable": true
   },
   "source": [
    "負例データには、誤回答された時とは別のラベルを付しておきます。"
   ]
  },
  {
   "cell_type": "code",
   "execution_count": 6,
   "metadata": {
    "collapsed": false,
    "deletable": true,
    "editable": true,
    "scrolled": true
   },
   "outputs": [
    {
     "name": "stdout",
     "output_type": "stream",
     "text": [
      "--- original\n",
      "+++ added\n",
      "@@ -89859,3 +89859,18 @@\n",
      " DKI企画部インフラG ＜net-unyo@daikin.co.jp＞\"\n",
      " 1403260,VPNキーの再発行依頼を行ったが、進捗状況を教えて欲しい。,4672,\"VPNキー再発行は1週間を目処に対応しているため、申請から1週間を経過している場合や緊急事態の場合は、以下へお電話ください。\n",
      " 7-205-413\"\n",
      "+1403261,サーバとインフラの料金はいくらかかりますか？,0,\"負例データ\"\n",
      "+1403262,サーバとインフラの料金について教えてください。,0,\"負例データ\"\n",
      "+1403263,サーバとインフラの料金はどのくらいかかりますか？,0,\"負例データ\"\n",
      "+1403264,再編集されたメールを検索したいのですが？,0,\"負例データ\"\n",
      "+1403265,再編集されたメールを検索する方法を教えてください。,0,\"負例データ\"\n",
      "+1403266,再編集が行われたメールを検索したいのですが？,0,\"負例データ\"\n",
      "+1403267,本文をインデントする方法が知りたいのですが？,0,\"負例データ\"\n",
      "+1403268,本文をインデントする方法を教えてください。,0,\"負例データ\"\n",
      "+1403269,本文について、インデントする方法を教えてください。,0,\"負例データ\"\n",
      "+1403270,未読メールがあるはずなのに見つかりません。,0,\"負例データ\"\n",
      "+1403271,未読メールがあるはずですが、見つかりません。,0,\"負例データ\"\n",
      "+1403272,あるはずの未読メールを見つけたいです。,0,\"負例データ\"\n",
      "+1403273,迷惑メールを受け取りたくないのですが？,0,\"負例データ\"\n",
      "+1403274,迷惑メールを受け取りたくない場合の方法は？,0,\"負例データ\"\n",
      "+1403275,迷惑メールを受け取りたくない方法は？,0,\"負例データ\"\n"
     ]
    }
   ],
   "source": [
    "import difflib\n",
    "import sys\n",
    "\n",
    "with open(csv_file_path, 'r') as old_csv:\n",
    "    with open(appended_csv_file_path, 'r') as new_csv:\n",
    "        diff = difflib.unified_diff(\n",
    "            old_csv.readlines(),\n",
    "            new_csv.readlines(),\n",
    "            fromfile='original',\n",
    "            tofile='added',\n",
    "        )\n",
    "        for line in diff:\n",
    "            sys.stdout.write(line)"
   ]
  },
  {
   "cell_type": "markdown",
   "metadata": {
    "deletable": true,
    "editable": true
   },
   "source": [
    "## (4) 負例データを含む訓練データで学習実行\n",
    "\n",
    "bot_id は誤回答を誘発する「反面教師データ」を含まないモデル（8888）とは別にしておきます（比較のため）。"
   ]
  },
  {
   "cell_type": "code",
   "execution_count": 7,
   "metadata": {
    "collapsed": false,
    "deletable": true,
    "editable": true,
    "scrolled": false
   },
   "outputs": [
    {
     "name": "stderr",
     "output_type": "stream",
     "text": [
      "/Library/Frameworks/Python.framework/Versions/3.5/lib/python3.5/site-packages/sklearn/cross_validation.py:44: DeprecationWarning: This module was deprecated in version 0.18 in favor of the model_selection module into which all the refactored classes and functions are moved. Also note that the interface of the new CV iterators are different from that of this module. This module will be removed in 0.20.\n",
      "  \"This module will be removed in 0.20.\", DeprecationWarning)\n",
      "/Library/Frameworks/Python.framework/Versions/3.5/lib/python3.5/site-packages/sklearn/grid_search.py:43: DeprecationWarning: This module was deprecated in version 0.18 in favor of the model_selection module into which all the refactored classes and functions are moved. This module will be removed in 0.20.\n",
      "  DeprecationWarning)\n"
     ]
    }
   ],
   "source": [
    "'''\n",
    "    Bot/Reply モジュールをカスタマイズした\n",
    "    BotForLocalTest/ReplyForLocalTest モジュールは、\n",
    "    {prototype_dir}/modules 配下に格納されています\n",
    "    （ローカル環境から MySQLdb/dataset に接続できないための措置）\n",
    "'''\n",
    "from prototype.modules.BotForLocalTest import Bot"
   ]
  },
  {
   "cell_type": "code",
   "execution_count": 8,
   "metadata": {
    "collapsed": true,
    "deletable": true,
    "editable": true
   },
   "outputs": [],
   "source": [
    "'''\n",
    "    初期設定\n",
    "    データファイル、エンコードを指定\n",
    "    内容は、learn.py を参考にしました。    \n",
    "'''\n",
    "appended_bot_id = 9994\n",
    "attr = {\n",
    "    'include_failed_data': False,\n",
    "    'include_tag_vector': False,\n",
    "    'classify_threshold': None,\n",
    "    # 'algorithm': LearningParameter.ALGORITHM_NAIVE_BAYES\n",
    "    'algorithm': LearningParameter.ALGORITHM_LOGISTIC_REGRESSION,\n",
    "    # 'params_for_algorithm': { 'C': 200 }\n",
    "    'params_for_algorithm': {}\n",
    "}\n",
    "appended_learning_parameter = LearningParameter(attr)"
   ]
  },
  {
   "cell_type": "markdown",
   "metadata": {
    "deletable": true,
    "editable": true
   },
   "source": [
    "#### 負例データ（ラベル=0）による学習を実行します。"
   ]
  },
  {
   "cell_type": "code",
   "execution_count": 9,
   "metadata": {
    "collapsed": false,
    "deletable": true,
    "editable": true,
    "scrolled": true
   },
   "outputs": [
    {
     "name": "stderr",
     "output_type": "stream",
     "text": [
      "learning_parameter: {'_include_tag_vector': False, '_algorithm': 0, '_include_failed_data': False, '_classify_threshold': None, '_params_for_algorithm': {}}\n",
      "2017/03/09 PM 10:04:19 learning_parameter: {'_include_tag_vector': False, '_algorithm': 0, '_include_failed_data': False, '_classify_threshold': None, '_params_for_algorithm': {}}\n",
      "start Bot#learn\n",
      "2017/03/09 PM 10:04:19 start Bot#learn\n",
      "TrainingMessageFromCsv#__build_learning_training_messages count of learning data: 17458\n",
      "2017/03/09 PM 10:04:19 TrainingMessageFromCsv#__build_learning_training_messages count of learning data: 17458\n",
      "TextArray#__init__ start\n",
      "2017/03/09 PM 10:04:19 TextArray#__init__ start\n",
      "TextArray#to_vec start\n",
      "2017/03/09 PM 10:04:19 TextArray#to_vec start\n",
      "TextArray#to_vec end\n",
      "2017/03/09 PM 10:04:40 TextArray#to_vec end\n",
      "[[ 0.  0.  0. ...,  0.  0.  0.]\n",
      " [ 0.  0.  0. ...,  0.  0.  0.]\n",
      " [ 0.  0.  0. ...,  0.  0.  0.]\n",
      " ..., \n",
      " [ 0.  0.  0. ...,  0.  0.  0.]\n",
      " [ 0.  0.  0. ...,  0.  0.  0.]\n",
      " [ 0.  0.  0. ...,  0.  0.  0.]]\n",
      "2017/03/09 PM 10:04:40 [[ 0.  0.  0. ...,  0.  0.  0.]\n",
      " [ 0.  0.  0. ...,  0.  0.  0.]\n",
      " [ 0.  0.  0. ...,  0.  0.  0.]\n",
      " ..., \n",
      " [ 0.  0.  0. ...,  0.  0.  0.]\n",
      " [ 0.  0.  0. ...,  0.  0.  0.]\n",
      " [ 0.  0.  0. ...,  0.  0.  0.]]\n",
      "use algorithm: logistic regression\n",
      "2017/03/09 PM 10:04:40 use algorithm: logistic regression\n",
      "learning_parameter has not parameter C\n",
      "2017/03/09 PM 10:04:40 learning_parameter has not parameter C\n",
      "/Library/Frameworks/Python.framework/Versions/3.5/lib/python3.5/site-packages/sklearn/cross_validation.py:552: Warning: The least populated class in y has only 2 members, which is too few. The minimum number of labels for any class cannot be less than n_folds=3.\n",
      "  % (min_labels, self.n_folds)), Warning)\n",
      "best_params_: {'C': 200}\n",
      "2017/03/09 PM 10:07:58 best_params_: {'C': 200}\n",
      "after Bot#__get_estimator\n",
      "2017/03/09 PM 10:07:58 after Bot#__get_estimator\n",
      "before Evaluator#evaluate\n",
      "2017/03/09 PM 10:07:59 before Evaluator#evaluate\n",
      "self.threshold: 0.0\n",
      "2017/03/09 PM 10:07:59 self.threshold: 0.0\n",
      "Evaluator#evaluate#elapsed time: 27247.583866 ms\n",
      "2017/03/09 PM 10:08:26 Evaluator#evaluate#elapsed time: 27247.583866 ms\n",
      "accuracy: 0.984421534937\n",
      "2017/03/09 PM 10:08:26 accuracy: 0.984421534937\n",
      "end Bot#learn\n",
      "2017/03/09 PM 10:08:26 end Bot#learn\n"
     ]
    }
   ],
   "source": [
    "'''\n",
    "    Bot クラスを生成し学習実行\n",
    "'''\n",
    "bot = Bot(appended_bot_id, appended_learning_parameter)\n",
    "evaluator = bot.learn(csv_file_path=appended_csv_file_path, \n",
    "                      csv_file_encoding='utf-8')"
   ]
  },
  {
   "cell_type": "markdown",
   "metadata": {
    "deletable": true,
    "editable": true
   },
   "source": [
    "## (5) Accuracy 比較"
   ]
  },
  {
   "cell_type": "markdown",
   "metadata": {
    "collapsed": true,
    "deletable": true,
    "editable": true
   },
   "source": [
    "負例データ無し時：（検証時のデータは<b><a \"href=01.ipynb\">こちらになります</a></b>）\n",
    "~~~~\n",
    "accuracy: 0.984177940839\n",
    "~~~~\n",
    "\n",
    "負例データ有り時：若干ですが、<b>Accuracy が上がっております。</b>\n",
    "~~~~\n",
    "accuracy: 0.984421534937\n",
    "~~~~"
   ]
  },
  {
   "cell_type": "markdown",
   "metadata": {
    "deletable": true,
    "editable": true
   },
   "source": [
    "## (6) 動作確認：予測実行"
   ]
  },
  {
   "cell_type": "markdown",
   "metadata": {
    "deletable": true,
    "editable": true
   },
   "source": [
    "すべての負例質問が、ラベル０と回答されてしまうことが確認できます（しかもかなり高い proba で）。"
   ]
  },
  {
   "cell_type": "code",
   "execution_count": 10,
   "metadata": {
    "collapsed": false,
    "deletable": true,
    "editable": true,
    "scrolled": true
   },
   "outputs": [
    {
     "name": "stderr",
     "output_type": "stream",
     "text": [
      "TextArray#__init__ start\n",
      "2017/03/09 PM 10:08:26 TextArray#__init__ start\n",
      "TextArray#to_vec start\n",
      "2017/03/09 PM 10:08:26 TextArray#to_vec start\n",
      "TextArray#to_vec end\n",
      "2017/03/09 PM 10:08:26 TextArray#to_vec end\n",
      "predicted results (order by probability desc)\n",
      "2017/03/09 PM 10:08:26 predicted results (order by probability desc)\n",
      "{'answer_id': 0.0, 'probability': 0.98008356433168287}\n",
      "2017/03/09 PM 10:08:26 {'answer_id': 0.0, 'probability': 0.98008356433168287}\n",
      "{'answer_id': 3950.0, 'probability': 0.0072190442580757066}\n",
      "2017/03/09 PM 10:08:26 {'answer_id': 3950.0, 'probability': 0.0072190442580757066}\n",
      "{'answer_id': 3673.0, 'probability': 0.002935144249019867}\n",
      "2017/03/09 PM 10:08:26 {'answer_id': 3673.0, 'probability': 0.002935144249019867}\n",
      "{'answer_id': 3502.0, 'probability': 0.00078906227581030015}\n",
      "2017/03/09 PM 10:08:26 {'answer_id': 3502.0, 'probability': 0.00078906227581030015}\n",
      "{'answer_id': 3799.0, 'probability': 0.00074219473802461262}\n",
      "2017/03/09 PM 10:08:26 {'answer_id': 3799.0, 'probability': 0.00074219473802461262}\n",
      "{'answer_id': 3408.0, 'probability': 0.00069456168798447148}\n",
      "2017/03/09 PM 10:08:26 {'answer_id': 3408.0, 'probability': 0.00069456168798447148}\n",
      "{'answer_id': 3961.0, 'probability': 0.00050431778734420297}\n",
      "2017/03/09 PM 10:08:26 {'answer_id': 3961.0, 'probability': 0.00050431778734420297}\n",
      "{'answer_id': 3630.0, 'probability': 0.00043575724280050154}\n",
      "2017/03/09 PM 10:08:26 {'answer_id': 3630.0, 'probability': 0.00043575724280050154}\n",
      "{'answer_id': 3646.0, 'probability': 0.00036691028712473617}\n",
      "2017/03/09 PM 10:08:26 {'answer_id': 3646.0, 'probability': 0.00036691028712473617}\n",
      "{'answer_id': 3848.0, 'probability': 0.00032900101318369794}\n",
      "2017/03/09 PM 10:08:26 {'answer_id': 3848.0, 'probability': 0.00032900101318369794}\n"
     ]
    },
    {
     "name": "stdout",
     "output_type": "stream",
     "text": [
      "question: サーバとインフラの料金はいくらかかりますか？\n",
      "answer: 0\n",
      "proba: 0.980083564332 \n",
      "\n",
      "question: 再編集されたメールを検索したいのですが？\n",
      "answer: 0\n",
      "proba: 0.955538236105 \n",
      "\n",
      "question: 本文をインデントする方法が知りたいのですが？\n",
      "answer: 0\n",
      "proba: 0.98182081689 \n",
      "\n",
      "question: 未読メールがあるはずなのに見つかりません。\n",
      "answer: 0\n",
      "proba: 0.941293474729 \n",
      "\n",
      "question: 迷惑メールを受け取りたくないのですが？\n",
      "answer: 0\n",
      "proba: 0.921204373399 \n",
      "\n"
     ]
    }
   ],
   "source": [
    "'''\n",
    "    Reply クラスを生成し予測実行\n",
    "'''\n",
    "appended_bot_id = 9994\n",
    "appended_reply = Reply(appended_bot_id, appended_learning_parameter)\n",
    "\n",
    "test_X = [\n",
    "    'サーバとインフラの料金はいくらかかりますか？', # -->3673「以下URLに接続しxxxをご確認ください」\n",
    "    '再編集されたメールを検索したいのですが？', # -->3402「方法については『xxx(送信済メールの再利用)』を参照してください」\n",
    "    '本文をインデントする方法が知りたいのですが？', # -->3488「URLのパスを””、<>で囲っていただくことで、改善されるか確認ください。」    \n",
    "    '未読メールがあるはずなのに見つかりません。', # -->3940「方法については『xxx(未読のメールのフォルダを作成する)』を参照してください」\n",
    "    '迷惑メールを受け取りたくないのですが？', # -->3697「一般的には、「広告メール」のことをいいます」\n",
    "]\n",
    "appended_z = appended_reply.predict(test_X)"
   ]
  },
  {
   "cell_type": "markdown",
   "metadata": {
    "deletable": true,
    "editable": true
   },
   "source": [
    "## (7) 正例データに対する回答"
   ]
  },
  {
   "cell_type": "code",
   "execution_count": 11,
   "metadata": {
    "collapsed": false,
    "deletable": true,
    "editable": true,
    "scrolled": true
   },
   "outputs": [
    {
     "name": "stderr",
     "output_type": "stream",
     "text": [
      "TextArray#__init__ start\n",
      "2017/03/09 PM 10:08:26 TextArray#__init__ start\n",
      "TextArray#to_vec start\n",
      "2017/03/09 PM 10:08:26 TextArray#to_vec start\n",
      "TextArray#to_vec end\n",
      "2017/03/09 PM 10:08:26 TextArray#to_vec end\n",
      "predicted results (order by probability desc)\n",
      "2017/03/09 PM 10:08:26 predicted results (order by probability desc)\n",
      "{'answer_id': 3673.0, 'probability': 0.97120916619686726}\n",
      "2017/03/09 PM 10:08:26 {'answer_id': 3673.0, 'probability': 0.97120916619686726}\n",
      "{'answer_id': 3672.0, 'probability': 0.021671238134627697}\n",
      "2017/03/09 PM 10:08:26 {'answer_id': 3672.0, 'probability': 0.021671238134627697}\n",
      "{'answer_id': 0.0, 'probability': 0.00052898731023201821}\n",
      "2017/03/09 PM 10:08:26 {'answer_id': 0.0, 'probability': 0.00052898731023201821}\n",
      "{'answer_id': 3545.0, 'probability': 0.00047965045905227306}\n",
      "2017/03/09 PM 10:08:26 {'answer_id': 3545.0, 'probability': 0.00047965045905227306}\n",
      "{'answer_id': 3824.0, 'probability': 0.00029087092124218539}\n",
      "2017/03/09 PM 10:08:26 {'answer_id': 3824.0, 'probability': 0.00029087092124218539}\n",
      "{'answer_id': 3527.0, 'probability': 0.00026966936461499206}\n",
      "2017/03/09 PM 10:08:26 {'answer_id': 3527.0, 'probability': 0.00026966936461499206}\n",
      "{'answer_id': 3792.0, 'probability': 0.00025509311502127296}\n",
      "2017/03/09 PM 10:08:26 {'answer_id': 3792.0, 'probability': 0.00025509311502127296}\n",
      "{'answer_id': 3570.0, 'probability': 0.00019103934693508174}\n",
      "2017/03/09 PM 10:08:26 {'answer_id': 3570.0, 'probability': 0.00019103934693508174}\n",
      "{'answer_id': 3907.0, 'probability': 0.00014311101715237747}\n",
      "2017/03/09 PM 10:08:26 {'answer_id': 3907.0, 'probability': 0.00014311101715237747}\n",
      "{'answer_id': 3519.0, 'probability': 0.00011996569876193786}\n",
      "2017/03/09 PM 10:08:26 {'answer_id': 3519.0, 'probability': 0.00011996569876193786}\n"
     ]
    },
    {
     "name": "stdout",
     "output_type": "stream",
     "text": [
      "question: ITインフラガイドラインの内容を確認する方法を教えて欲しい。\n",
      "answer: 3673\n",
      "proba: 0.971209166197 \n",
      "\n",
      "question: アウトルックでメールの再編集をしたい\n",
      "answer: 3402\n",
      "proba: 0.979566440557 \n",
      "\n",
      "question: Outlook2010にてメール送信したとき、本文のURLが改行されてしまう\n",
      "answer: 3488\n",
      "proba: 0.987958797558 \n",
      "\n",
      "question: アウトルック2010で、未読メールを探すのが困難だ\n",
      "answer: 3940\n",
      "proba: 0.987918911461 \n",
      "\n",
      "question: 迷惑メールについて知りたい。\n",
      "answer: 3697\n",
      "proba: 0.971324615754 \n",
      "\n"
     ]
    }
   ],
   "source": [
    "'''\n",
    "    誤回答を誘発しない質問文を与えて、動作に影響が及んでいないかの確認。\n",
    "'''\n",
    "test_X_correct = [\n",
    "    'ITインフラガイドラインの内容を確認する方法を教えて欲しい。', # -->3673「以下URLに接続しxxxをご確認ください」\n",
    "    'アウトルックでメールの再編集をしたい', # -->3402「方法については『xxx(送信済メールの再利用)』を参照してください」\n",
    "    'Outlook2010にてメール送信したとき、本文のURLが改行されてしまう', # -->3488「URLのパスを””、<>で囲っていただくことで、改善されるか確認ください。」\n",
    "    'アウトルック2010で、未読メールを探すのが困難だ', # -->3940「方法については『xxx(未読のメールのフォルダを作成する)』を参照してください」\n",
    "    '迷惑メールについて知りたい。', # -->3697「一般的には、「広告メール」のことをいいます」\n",
    "]\n",
    "appended_z = appended_reply.predict(test_X_correct)"
   ]
  },
  {
   "cell_type": "markdown",
   "metadata": {
    "deletable": true,
    "editable": true
   },
   "source": [
    "興味深いのは、若干ではありますが、ラベル０に予測が引っ張られるような動きが見られた点でした。\n",
    "\n",
    "負例データが多くなった場合、この傾向が強まる懸念はあります。"
   ]
  },
  {
   "cell_type": "code",
   "execution_count": 20,
   "metadata": {
    "collapsed": false,
    "deletable": true,
    "editable": true
   },
   "outputs": [
    {
     "name": "stdout",
     "output_type": "stream",
     "text": [
      "{'answer_id': 3673.0, 'probability': 0.97120916619686726}\n",
      "{'answer_id': 3672.0, 'probability': 0.021671238134627697}\n",
      "{'answer_id': 0.0, 'probability': 0.00052898731023201821}\n",
      "{'answer_id': 3545.0, 'probability': 0.00047965045905227306}\n",
      "{'answer_id': 3824.0, 'probability': 0.00029087092124218539}\n",
      "{'answer_id': 3527.0, 'probability': 0.00026966936461499206}\n",
      "{'answer_id': 3792.0, 'probability': 0.00025509311502127296}\n",
      "{'answer_id': 3570.0, 'probability': 0.00019103934693508174}\n",
      "{'answer_id': 3907.0, 'probability': 0.00014311101715237747}\n",
      "{'answer_id': 3519.0, 'probability': 0.00011996569876193786}\n"
     ]
    }
   ],
   "source": [
    "for i, _ in enumerate(appended_z):\n",
    "    print(appended_z[i])"
   ]
  },
  {
   "cell_type": "markdown",
   "metadata": {
    "collapsed": true,
    "deletable": true,
    "editable": true
   },
   "source": [
    "### 負例データ学習前後の Accuracy 比較\n",
    "\n",
    "proba に若干の影響が及んでしまう（下落が見られる）のが確認されます。"
   ]
  },
  {
   "cell_type": "markdown",
   "metadata": {
    "deletable": true,
    "editable": true
   },
   "source": [
    "~~~\n",
    "question: ITインフラガイドラインの内容を確認する方法を教えて欲しい。\n",
    "answer: 3673\n",
    "proba: 0.971749199567 ---> 0.971209166197\n",
    "\n",
    "question: アウトルックでメールの再編集をしたい\n",
    "answer: 3402\n",
    "proba: 0.982422931526 ---> 0.979566440557 \n",
    "\n",
    "question: Outlook2010にてメール送信したとき、本文のURLが改行されてしまう\n",
    "answer: 3488\n",
    "proba: 0.988012682325 ---> 0.987958797558 \n",
    "\n",
    "question: アウトルック2010で、未読メールを探すのが困難だ\n",
    "answer: 3940\n",
    "proba: 0.9877410761 ---> 0.987918911461\n",
    "\n",
    "question: 迷惑メールについて知りたい。\n",
    "answer: 3697\n",
    "proba: 0.972404916234 ---> 0.971324615754 \n",
    "~~~"
   ]
  },
  {
   "cell_type": "markdown",
   "metadata": {
    "deletable": true,
    "editable": true
   },
   "source": [
    "## (8) 懸案事項\n",
    "\n",
    "負例データすべてをラベル０に集約させることで、負例データが多くなってしまった場合、正例データがラベル０に引っ張られ、最悪の場合、誤回答を誘発してしまうのでは・・・と考えております。\n",
    "\n",
    "負例データ１feature ごとに、正例データとは別のユニークなラベルを別途付与することで、これは回避できるかと思われますが、この検証は<b><a href=\"13.ipynb\">別のレポート</a></b>に譲ります。"
   ]
  }
 ],
 "metadata": {
  "kernelspec": {
   "display_name": "Python 3",
   "language": "python",
   "name": "python3"
  },
  "language_info": {
   "codemirror_mode": {
    "name": "ipython",
    "version": 3
   },
   "file_extension": ".py",
   "mimetype": "text/x-python",
   "name": "python",
   "nbconvert_exporter": "python",
   "pygments_lexer": "ipython3",
   "version": "3.5.2"
  }
 },
 "nbformat": 4,
 "nbformat_minor": 2
}
