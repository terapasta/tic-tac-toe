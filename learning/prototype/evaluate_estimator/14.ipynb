{
 "cells": [
  {
   "cell_type": "markdown",
   "metadata": {
    "deletable": true,
    "editable": true
   },
   "source": [
    "# accuracy と r2_score の比較\n",
    "\n",
    "現状の Evaluator モジュールと、テストデータをベースに、結果比較を行います。"
   ]
  },
  {
   "cell_type": "markdown",
   "metadata": {
    "deletable": true,
    "editable": true
   },
   "source": [
    "## (1) テストデータ／環境準備"
   ]
  },
  {
   "cell_type": "code",
   "execution_count": 1,
   "metadata": {
    "collapsed": false,
    "deletable": true,
    "editable": true
   },
   "outputs": [
    {
     "name": "stdout",
     "output_type": "stream",
     "text": [
      "prototype_dir=/Users/makmorit/GitHub/donusagi-bot/learning/prototype\n",
      "learning_dir=/Users/makmorit/GitHub/donusagi-bot/learning\n"
     ]
    }
   ],
   "source": [
    "'''\n",
    "    プロトタイピング用のパスと、Botライブラリーパスを取得／設定します\n",
    "'''\n",
    "import sys\n",
    "import os\n",
    "\n",
    "prototype_dir = os.path.join(os.getcwd(), '..')\n",
    "prototype_dir = os.path.abspath(prototype_dir)\n",
    "\n",
    "learning_dir = os.path.join(prototype_dir, '..')\n",
    "learning_dir = os.path.abspath(learning_dir)\n",
    "os.chdir(learning_dir)\n",
    "\n",
    "if learning_dir not in sys.path:\n",
    "    sys.path.append(learning_dir)\n",
    "\n",
    "print('prototype_dir=%s\\nlearning_dir=%s' % (prototype_dir, learning_dir))"
   ]
  },
  {
   "cell_type": "code",
   "execution_count": 2,
   "metadata": {
    "collapsed": false,
    "deletable": true,
    "editable": true
   },
   "outputs": [
    {
     "name": "stdout",
     "output_type": "stream",
     "text": [
      "CSV file for test=[/Users/makmorit/GitHub/donusagi-bot/learning/prototype/resources/test_daikin_conversation.csv]\n"
     ]
    }
   ],
   "source": [
    "'''\n",
    "    データファイルは、既存の訓練データを別場所にコピーしてから使用します\n",
    "    テストデータは、csv_file_name で指定したものを使用します。\n",
    "'''\n",
    "csv_file_name = 'test_daikin_conversation.csv'\n",
    "original_csv_dir = os.path.join(learning_dir, 'learning/tests/engine/fixtures/')\n",
    "original_file_path = os.path.join(original_csv_dir, csv_file_name)\n",
    "\n",
    "csv_dir = os.path.join(prototype_dir, 'resources')\n",
    "\n",
    "import shutil\n",
    "shutil.copy2(original_file_path, csv_dir)\n",
    "copied_csv_file_path = os.path.join(csv_dir, csv_file_name)\n",
    "\n",
    "print('CSV file for test=[%s]' % copied_csv_file_path)"
   ]
  },
  {
   "cell_type": "markdown",
   "metadata": {
    "deletable": true,
    "editable": true
   },
   "source": [
    "## (2) 既存モジュールをカスタマイズ"
   ]
  },
  {
   "cell_type": "code",
   "execution_count": 3,
   "metadata": {
    "collapsed": false,
    "deletable": true,
    "editable": true
   },
   "outputs": [
    {
     "name": "stderr",
     "output_type": "stream",
     "text": [
      "/Library/Frameworks/Python.framework/Versions/3.5/lib/python3.5/site-packages/sklearn/cross_validation.py:44: DeprecationWarning: This module was deprecated in version 0.18 in favor of the model_selection module into which all the refactored classes and functions are moved. Also note that the interface of the new CV iterators are different from that of this module. This module will be removed in 0.20.\n",
      "  \"This module will be removed in 0.20.\", DeprecationWarning)\n",
      "/Library/Frameworks/Python.framework/Versions/3.5/lib/python3.5/site-packages/sklearn/grid_search.py:43: DeprecationWarning: This module was deprecated in version 0.18 in favor of the model_selection module into which all the refactored classes and functions are moved. This module will be removed in 0.20.\n",
      "  DeprecationWarning)\n"
     ]
    }
   ],
   "source": [
    "'''\n",
    "    Bot/Reply モジュールをカスタマイズした\n",
    "    BotForLocalTest/ReplyForLocalTest モジュールは、\n",
    "    {prototype_dir}/modules 配下に格納されています\n",
    "    （ローカル環境から MySQLdb/dataset に接続できないための措置）\n",
    "'''\n",
    "from prototype.modules.BotForLocalTest import Bot\n",
    "from prototype.modules.ReplyForLocalTest import Reply\n",
    "from learning.core.learn.learning_parameter import LearningParameter\n",
    "\n",
    "'''\n",
    "    初期設定\n",
    "    データファイル、エンコードを指定\n",
    "    内容は、learn.py を参考にしました。    \n",
    "'''\n",
    "attr = {\n",
    "    'include_failed_data': False,\n",
    "    'include_tag_vector': False,\n",
    "    'classify_threshold': None,\n",
    "    # 'algorithm': LearningParameter.ALGORITHM_NAIVE_BAYES\n",
    "    'algorithm': LearningParameter.ALGORITHM_LOGISTIC_REGRESSION,\n",
    "    # 'params_for_algorithm': { 'C': 200 }\n",
    "    'params_for_algorithm': {}\n",
    "}\n",
    "learning_parameter = LearningParameter(attr)\n",
    "csv_file_path = copied_csv_file_path\n",
    "csv_file_encoding = 'utf-8'"
   ]
  },
  {
   "cell_type": "markdown",
   "metadata": {
    "deletable": true,
    "editable": true
   },
   "source": [
    "## (3) 学習＋ accuracy による評価実行"
   ]
  },
  {
   "cell_type": "code",
   "execution_count": 4,
   "metadata": {
    "collapsed": false,
    "deletable": true,
    "editable": true,
    "scrolled": true
   },
   "outputs": [
    {
     "name": "stderr",
     "output_type": "stream",
     "text": [
      "learning_parameter: {'_params_for_algorithm': {}, '_algorithm': 0, '_include_failed_data': False, '_classify_threshold': None, '_include_tag_vector': False}\n",
      "2017/03/10 PM 07:53:50 learning_parameter: {'_params_for_algorithm': {}, '_algorithm': 0, '_include_failed_data': False, '_classify_threshold': None, '_include_tag_vector': False}\n",
      "start Bot#learn\n",
      "2017/03/10 PM 07:53:51 start Bot#learn\n",
      "TrainingMessageFromCsv#__build_learning_training_messages count of learning data: 17443\n",
      "2017/03/10 PM 07:53:51 TrainingMessageFromCsv#__build_learning_training_messages count of learning data: 17443\n",
      "TextArray#__init__ start\n",
      "2017/03/10 PM 07:53:51 TextArray#__init__ start\n",
      "TextArray#to_vec start\n",
      "2017/03/10 PM 07:53:51 TextArray#to_vec start\n",
      "TextArray#to_vec end\n",
      "2017/03/10 PM 07:54:11 TextArray#to_vec end\n",
      "[[ 0.  0.  0. ...,  0.  0.  0.]\n",
      " [ 0.  0.  0. ...,  0.  0.  0.]\n",
      " [ 0.  0.  0. ...,  0.  0.  0.]\n",
      " ..., \n",
      " [ 0.  0.  0. ...,  0.  0.  0.]\n",
      " [ 0.  0.  0. ...,  0.  0.  0.]\n",
      " [ 0.  0.  0. ...,  0.  0.  0.]]\n",
      "2017/03/10 PM 07:54:11 [[ 0.  0.  0. ...,  0.  0.  0.]\n",
      " [ 0.  0.  0. ...,  0.  0.  0.]\n",
      " [ 0.  0.  0. ...,  0.  0.  0.]\n",
      " ..., \n",
      " [ 0.  0.  0. ...,  0.  0.  0.]\n",
      " [ 0.  0.  0. ...,  0.  0.  0.]\n",
      " [ 0.  0.  0. ...,  0.  0.  0.]]\n",
      "use algorithm: logistic regression\n",
      "2017/03/10 PM 07:54:11 use algorithm: logistic regression\n",
      "learning_parameter has not parameter C\n",
      "2017/03/10 PM 07:54:11 learning_parameter has not parameter C\n",
      "/Library/Frameworks/Python.framework/Versions/3.5/lib/python3.5/site-packages/sklearn/cross_validation.py:552: Warning: The least populated class in y has only 2 members, which is too few. The minimum number of labels for any class cannot be less than n_folds=3.\n",
      "  % (min_labels, self.n_folds)), Warning)\n",
      "best_params_: {'C': 200}\n",
      "2017/03/10 PM 07:57:29 best_params_: {'C': 200}\n",
      "after Bot#__get_estimator\n",
      "2017/03/10 PM 07:57:29 after Bot#__get_estimator\n",
      "before Evaluator#evaluate\n",
      "2017/03/10 PM 07:57:29 before Evaluator#evaluate\n",
      "self.threshold: 0.0\n",
      "2017/03/10 PM 07:57:29 self.threshold: 0.0\n",
      "Evaluator#evaluate#elapsed time: 28120.158911 ms\n",
      "2017/03/10 PM 07:57:57 Evaluator#evaluate#elapsed time: 28120.158911 ms\n",
      "accuracy: 0.984177940839\n",
      "2017/03/10 PM 07:57:57 accuracy: 0.984177940839\n",
      "end Bot#learn\n",
      "2017/03/10 PM 07:57:57 end Bot#learn\n"
     ]
    },
    {
     "data": {
      "text/plain": [
       "0.98417794083925703"
      ]
     },
     "execution_count": 4,
     "metadata": {},
     "output_type": "execute_result"
    }
   ],
   "source": [
    "'''\n",
    "    Bot クラスを生成し学習実行--->交差検証の実行\n",
    "\n",
    "    引数 scoring を指定できるようにしてあります\n",
    "'''\n",
    "bot_id_accr = 9990\n",
    "bot_accr = Bot(bot_id_accr, learning_parameter)\n",
    "evaluator_acc = bot_accr.learn(csv_file_path=csv_file_path, \n",
    "                      csv_file_encoding=csv_file_encoding,\n",
    "                      scoring=None) # <--- 既存の __accuracy_score を使用します\n",
    "evaluator_acc.accuracy"
   ]
  },
  {
   "cell_type": "markdown",
   "metadata": {
    "deletable": true,
    "editable": true
   },
   "source": [
    "## (4) 学習＋ r2_score による評価実行"
   ]
  },
  {
   "cell_type": "code",
   "execution_count": 5,
   "metadata": {
    "collapsed": false,
    "deletable": true,
    "editable": true,
    "scrolled": true
   },
   "outputs": [
    {
     "name": "stderr",
     "output_type": "stream",
     "text": [
      "learning_parameter: {'_params_for_algorithm': {}, '_algorithm': 0, '_include_failed_data': False, '_classify_threshold': None, '_include_tag_vector': False}\n",
      "2017/03/10 PM 07:57:57 learning_parameter: {'_params_for_algorithm': {}, '_algorithm': 0, '_include_failed_data': False, '_classify_threshold': None, '_include_tag_vector': False}\n",
      "start Bot#learn\n",
      "2017/03/10 PM 07:57:57 start Bot#learn\n",
      "TrainingMessageFromCsv#__build_learning_training_messages count of learning data: 17443\n",
      "2017/03/10 PM 07:57:57 TrainingMessageFromCsv#__build_learning_training_messages count of learning data: 17443\n",
      "TextArray#__init__ start\n",
      "2017/03/10 PM 07:57:57 TextArray#__init__ start\n",
      "TextArray#to_vec start\n",
      "2017/03/10 PM 07:57:57 TextArray#to_vec start\n",
      "TextArray#to_vec end\n",
      "2017/03/10 PM 07:58:18 TextArray#to_vec end\n",
      "[[ 0.  0.  0. ...,  0.  0.  0.]\n",
      " [ 0.  0.  0. ...,  0.  0.  0.]\n",
      " [ 0.  0.  0. ...,  0.  0.  0.]\n",
      " ..., \n",
      " [ 0.  0.  0. ...,  0.  0.  0.]\n",
      " [ 0.  0.  0. ...,  0.  0.  0.]\n",
      " [ 0.  0.  0. ...,  0.  0.  0.]]\n",
      "2017/03/10 PM 07:58:18 [[ 0.  0.  0. ...,  0.  0.  0.]\n",
      " [ 0.  0.  0. ...,  0.  0.  0.]\n",
      " [ 0.  0.  0. ...,  0.  0.  0.]\n",
      " ..., \n",
      " [ 0.  0.  0. ...,  0.  0.  0.]\n",
      " [ 0.  0.  0. ...,  0.  0.  0.]\n",
      " [ 0.  0.  0. ...,  0.  0.  0.]]\n",
      "use algorithm: logistic regression\n",
      "2017/03/10 PM 07:58:18 use algorithm: logistic regression\n",
      "learning_parameter has not parameter C\n",
      "2017/03/10 PM 07:58:18 learning_parameter has not parameter C\n",
      "/Library/Frameworks/Python.framework/Versions/3.5/lib/python3.5/site-packages/sklearn/cross_validation.py:552: Warning: The least populated class in y has only 2 members, which is too few. The minimum number of labels for any class cannot be less than n_folds=3.\n",
      "  % (min_labels, self.n_folds)), Warning)\n",
      "best_params_: {'C': 200}\n",
      "2017/03/10 PM 08:01:46 best_params_: {'C': 200}\n",
      "after Bot#__get_estimator\n",
      "2017/03/10 PM 08:01:46 after Bot#__get_estimator\n",
      "before Evaluator#evaluate\n",
      "2017/03/10 PM 08:01:46 before Evaluator#evaluate\n",
      "self.threshold: 0.0\n",
      "2017/03/10 PM 08:01:46 self.threshold: 0.0\n",
      "Evaluator#evaluate#elapsed time: 27684.915066 ms\n",
      "2017/03/10 PM 08:02:13 Evaluator#evaluate#elapsed time: 27684.915066 ms\n",
      "accuracy: 0.965538226903\n",
      "2017/03/10 PM 08:02:13 accuracy: 0.965538226903\n",
      "end Bot#learn\n",
      "2017/03/10 PM 08:02:13 end Bot#learn\n"
     ]
    },
    {
     "data": {
      "text/plain": [
       "0.96553822690252789"
      ]
     },
     "execution_count": 5,
     "metadata": {},
     "output_type": "execute_result"
    }
   ],
   "source": [
    "'''\n",
    "    Bot クラスを生成し学習実行--->交差検証の実行\n",
    "\n",
    "    引数 scoring をカスタマイズできるようにしてあります\n",
    "'''\n",
    "bot_id_r2 = 9991\n",
    "bot_r2 = Bot(bot_id_r2, learning_parameter)\n",
    "evaluator_r2 = bot_r2.learn(csv_file_path=csv_file_path, \n",
    "                      csv_file_encoding=csv_file_encoding,\n",
    "                      scoring='r2') # <--- r2_score を使用します\n",
    "evaluator_r2.accuracy"
   ]
  },
  {
   "cell_type": "markdown",
   "metadata": {
    "deletable": true,
    "editable": true
   },
   "source": [
    "## (5) 結果比較"
   ]
  },
  {
   "cell_type": "markdown",
   "metadata": {
    "deletable": true,
    "editable": true
   },
   "source": [
    "同じ訓練データを用いて学習した結果、\n",
    "\n",
    "- accuracy による評価＝0.98417794083925703\n",
    "\n",
    "\n",
    "- r2_score による評価＝0.96553822690252789\n",
    "\n",
    "となりました。\n",
    "\n",
    "いずれも１に近づくほど良い予想モデルという意味合いであり、大差はないかと存じます。\n",
    "\n",
    "ただし、accuracy が正解率なのに対し、r2_score はサンプルと予測値との乖離を示す指標であるところが異なります（後述）。"
   ]
  },
  {
   "cell_type": "markdown",
   "metadata": {
    "deletable": true,
    "editable": true
   },
   "source": [
    "### 補足：R2（決定係数）について"
   ]
  },
  {
   "cell_type": "markdown",
   "metadata": {
    "deletable": true,
    "editable": true
   },
   "source": [
    "基本的には、データに対するモデルの「当てはまり具合」を示す指標とのことです。\n",
    "\n",
    "正解率と比べると、体感的にわかりづらい指標かもしれません。\n",
    "\n",
    "\n",
    "- 決定係数に関する概説（Wikipedia）\n",
    "\n",
    " https://ja.wikipedia.org/wiki/決定係数\n",
    " \n",
    " 引用ですが・・・\n",
    "\n",
    " R2 = 1 - [{(サンプル値 - 予測値)の２乗}の総和] / [{(サンプル値 - 全サンプル平均値)の２乗}の総和]\n",
    "\n",
    " モデルの予測値が、サンプルと乖離していなければ、相対残差（１からマイナスされている右辺値）は限りなく小さくなるはずです。\n",
    " \n",
    " したがいまして、R2 の値が１に近ければ近いほど、訓練データに対して予測モデルがぴったりとフィットしていることになります。"
   ]
  },
  {
   "cell_type": "markdown",
   "metadata": {
    "deletable": true,
    "editable": true
   },
   "source": [
    "### ご参考：r2_score 関数 の実装"
   ]
  },
  {
   "cell_type": "markdown",
   "metadata": {
    "deletable": true,
    "editable": true
   },
   "source": [
    "下記は、R2 のスコアを計算している部分を、ソースコードから抜粋したものです。\n",
    "\n",
    "おおむね、Wikipedia での説明通り実装されているようです。\n",
    "\n",
    "\n",
    "- scikit-learn における r2_score 関数の仕様\n",
    "\n",
    " http://scikit-learn.org/0.17/modules/generated/sklearn.metrics.r2_score.html#sklearn-metrics-r2-score"
   ]
  },
  {
   "cell_type": "code",
   "execution_count": 9,
   "metadata": {
    "collapsed": false,
    "deletable": true,
    "editable": true
   },
   "outputs": [],
   "source": [
    "def r2_score(y_true, y_pred,\n",
    "             sample_weight=None,\n",
    "             multioutput=None):\n",
    "    #（中略）\n",
    "    numerator = (weight * (y_true - y_pred) ** 2).sum(axis=0,\n",
    "                                                      dtype=np.float64)\n",
    "    denominator = (weight * (y_true - np.average(\n",
    "        y_true, axis=0, weights=sample_weight)) ** 2).sum(axis=0,\n",
    "                                                          dtype=np.float64)\n",
    "    nonzero_denominator = denominator != 0\n",
    "    nonzero_numerator = numerator != 0\n",
    "    valid_score = nonzero_denominator & nonzero_numerator\n",
    "    output_scores = np.ones([y_true.shape[1]])\n",
    "    output_scores[valid_score] = 1 - (numerator[valid_score] /\n",
    "                                      denominator[valid_score])\n",
    "    #（以下略）\n",
    "    return np.average(output_scores, weights=avg_weights)"
   ]
  }
 ],
 "metadata": {
  "kernelspec": {
   "display_name": "Python 3",
   "language": "python",
   "name": "python3"
  },
  "language_info": {
   "codemirror_mode": {
    "name": "ipython",
    "version": 3
   },
   "file_extension": ".py",
   "mimetype": "text/x-python",
   "name": "python",
   "nbconvert_exporter": "python",
   "pygments_lexer": "ipython3",
   "version": "3.5.2"
  }
 },
 "nbformat": 4,
 "nbformat_minor": 2
}
