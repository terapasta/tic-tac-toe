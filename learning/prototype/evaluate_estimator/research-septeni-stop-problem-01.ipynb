{
 "cells": [
  {
   "cell_type": "markdown",
   "metadata": {
    "deletable": true,
    "editable": true
   },
   "source": [
    "# 質問「やめる」から不適切な回答が選択されてしまう件の調査\n",
    "\n",
    "挙動面から見た場合、ロジスティック回帰アルゴリズムにより想定される動きであったことを確認しております。\n",
    "\n",
    "\n",
    "#### ・feature「やめる」から誘導される回答IDの重み付けスコアが高い\n",
    "\n",
    "#### ・かつ、回答ID「4579」へ誘導されるfeatureの重み付けスコアが高い\n",
    "\n",
    "#### ・上記要因により「やめる」から「4579」以外への回答が制限され、高いprobability で「やめる」から「4579」が回答されたと考えております。"
   ]
  },
  {
   "cell_type": "markdown",
   "metadata": {
    "deletable": true,
    "editable": true
   },
   "source": [
    "## (1) 再現テスト実行\n",
    "\n",
    "あらかじめ、所定の nosetests を実行させておきます。この中で学習処理が行われます。"
   ]
  },
  {
   "cell_type": "markdown",
   "metadata": {
    "deletable": true,
    "editable": true
   },
   "source": [
    "```\n",
    "MacBookPro-makmorit-jp:learning makmorit$ nosetests -s learning/tests/engine/test_septeni_conversation.py\n",
    "/Library/Frameworks/Python.framework/Versions/3.5/lib/python3.5/site-packages/sklearn/cross_validation.py:44: DeprecationWarning: This module was deprecated in version 0.18 in favor of the model_selection module into which all the refactored classes and functions are moved. Also note that the interface of the new CV iterators are different from that of this module. This module will be removed in 0.20.\n",
    "  \"This module will be removed in 0.20.\", DeprecationWarning)\n",
    "/Library/Frameworks/Python.framework/Versions/3.5/lib/python3.5/site-packages/sklearn/grid_search.py:43: DeprecationWarning: This module was deprecated in version 0.18 in favor of the model_selection module into which all the refactored classes and functions are moved. This module will be removed in 0.20.\n",
    "  DeprecationWarning)\n",
    "0.956788607906\n",
    "F\n",
    "======================================================================\n",
    "FAIL: test_stop (learning.tests.engine.test_septeni_conversation.SepteniConvasationTestCase)\n",
    "----------------------------------------------------------------------\n",
    "Traceback (most recent call last):\n",
    "  File \"/Users/makmorit/GitHub/donusagi-bot/learning/learning/tests/engine/test_septeni_conversation.py\", line 29, in test_stop\n",
    "    ok_(result.probability < self.threshold)\n",
    "AssertionError: None\n",
    "-------------------- >> begin captured logging << --------------------\n",
    "learning.log: DEBUG: learning_parameter: {'_params_for_algorithm': {}, '_include_tag_vector': False, '_excluded_labels_for_fitting': [], '_classify_threshold': None, '_use_similarity_classification': False, '_include_failed_data': False, '_algorithm': 0}\n",
    "learning.log: DEBUG: start Bot#learn\n",
    "learning.log: DEBUG: ['./fixtures/learning_training_messages/benefitone.csv', './fixtures/learning_training_messages/ptna.csv', './fixtures/learning_training_messages/septeni.csv', './fixtures/learning_training_messages/toyotsu_human.csv']\n",
    "learning.log: DEBUG: ['./fixtures/question_answers/toyotsu_human.csv']\n",
    "learning.log: DEBUG: TrainingMessage#__init__ start\n",
    "learning.log: DEBUG: TrainingMessage#build start\n",
    "learning.log: DEBUG: TextArray#__init__ start\n",
    "learning.log: DEBUG: TextArray#to_vec start\n",
    "learning.log: DEBUG: TextArray#to_vec end\n",
    "learning.log: DEBUG: Bot#__build_training_set training_set.count_sample_by_y: [[0, 3], [2761, 134], [4420, 166], [4423, 114], [4425, 84], [4428, 72], [4429, 158], [4432, 78], [4434, 58], [4437, 54], [4441, 162], [4444, 52], [4445, 90], [4447, 100], [4450, 92], [4454, 168], [4455, 106], [4458, 20], [4459, 46], [4460, 54], [4468, 20], [4472, 42], [4473, 26], [4474, 130], [4478, 58], [4480, 164], [4484, 118], [4489, 78], [4491, 311], [4492, 172], [4493, 20], [4494, 20], [4495, 72], [4496, 28], [4497, 64], [4498, 84], [4499, 94], [4500, 90], [4501, 92], [4502, 80], [4503, 94], [4504, 124], [4505, 194], [4506, 78], [4507, 100], [4508, 38], [4509, 42], [4510, 160], [4511, 58], [4512, 58], [4513, 144], [4514, 88], [4515, 156], [4516, 130], [4517, 102], [4518, 40], [4519, 64], [4520, 46], [4521, 112], [4522, 124], [4523, 72], [4524, 106], [4525, 64], [4526, 104], [4527, 156], [4528, 152], [4529, 46], [4530, 112], [4531, 150], [4532, 78], [4533, 58], [4534, 88], [4535, 98], [4536, 54], [4537, 92], [4538, 122], [4539, 76], [4540, 114], [4541, 86], [4542, 84], [4543, 52], [4546, 26], [4547, 82], [4548, 56], [4549, 22], [4550, 102], [4551, 34], [4552, 104], [4553, 108], [4554, 88], [4555, 146], [4556, 82], [4557, 54], [4558, 158], [4559, 52], [4560, 86], [4561, 76], [4562, 78], [4563, 76], [4564, 78], [4565, 20], [4566, 124], [4567, 88], [4568, 70], [4569, 82], [4570, 100], [4571, 66], [4572, 78], [4573, 52], [4574, 72], [4575, 190], [4576, 92], [4577, 106], [4578, 76], [4579, 106], [4580, 128], [4581, 110], [4582, 80], [4583, 162], [4584, 98], [4585, 164], [4586, 68], [4587, 186], [4588, 93], [4589, 108], [4590, 108], [4591, 90], [4592, 266], [4593, 120], [4594, 130], [4595, 126], [4596, 146], [4597, 114], [4598, 84], [4599, 118], [4600, 130], [4601, 70], [4602, 204], [4603, 74], [4604, 124], [4605, 54], [4606, 128], [4607, 86], [4608, 86], [4609, 116], [4610, 98], [4611, 44], [4612, 84], [4613, 86], [4614, 84], [4615, 100], [4616, 150], [4617, 114], [4618, 160], [4619, 128], [4620, 112], [4621, 122], [4622, 78], [4623, 260], [4624, 112], [4625, 66], [4626, 118], [4627, 68], [4628, 132], [4629, 144], [7037, 12], [7040, 20], [7042, 20], [7044, 20], [7056, 14], [7064, 10], [7065, 10], [7068, 12], [7084, 22]]\n",
    "learning.log: DEBUG: use algorithm: logistic regression\n",
    "learning.log: DEBUG: learning_parameter has not parameter C\n",
    "learning.log: DEBUG: best_params_: {'C': 140}\n",
    "learning.log: DEBUG: after Bot#__get_estimator\n",
    "learning.log: DEBUG: before Evaluator#evaluate\n",
    "learning.log: DEBUG: self.threshold: 0.0\n",
    "learning.log: DEBUG: Evaluator#evaluate#elapsed time: 5769.311905 ms\n",
    "learning.log: DEBUG: accuracy: 0.956788607906\n",
    "learning.log: DEBUG: end Bot#learn\n",
    "learning.log: DEBUG: Bot.learn processing time: 55.13969898223877 [sec]\n",
    "learning.log: DEBUG: ['./fixtures/learning_training_messages/benefitone.csv', './fixtures/learning_training_messages/ptna.csv', './fixtures/learning_training_messages/septeni.csv', './fixtures/learning_training_messages/toyotsu_human.csv']\n",
    "learning.log: DEBUG: ['./fixtures/question_answers/toyotsu_human.csv']\n",
    "learning.log: DEBUG: TextArray#__init__ start\n",
    "learning.log: DEBUG: Reply#perform text_array.separated_sentences: ['やめる']\n",
    "learning.log: DEBUG: TextArray#to_vec start\n",
    "learning.log: DEBUG: TextArray#to_vec end\n",
    "learning.log: DEBUG: Reply#perform features:   (0, 124)\t1.0\n",
    "learning.log: DEBUG: question: やめる\n",
    "learning.log: DEBUG: question_feature_count: 1\n",
    "learning.log: DEBUG: predicted results (order by probability desc)\n",
    "learning.log: DEBUG: {'answer_id': 4579.0, 'probability': 0.95788732602549198}\n",
    "learning.log: DEBUG: {'answer_id': 0.0, 'probability': 0.023378873591347195}\n",
    "learning.log: DEBUG: {'answer_id': 4454.0, 'probability': 0.0038913316449180053}\n",
    "learning.log: DEBUG: {'answer_id': 4572.0, 'probability': 0.00060698881776038809}\n",
    "learning.log: DEBUG: {'answer_id': 4500.0, 'probability': 0.0005485816806088692}\n",
    "learning.log: DEBUG: {'answer_id': 4624.0, 'probability': 0.00042342475784884535}\n",
    "learning.log: DEBUG: {'answer_id': 4504.0, 'probability': 0.00042151590407305813}\n",
    "learning.log: DEBUG: {'answer_id': 4626.0, 'probability': 0.00038279922498644475}\n",
    "learning.log: DEBUG: {'answer_id': 4552.0, 'probability': 0.00037752193971553598}\n",
    "learning.log: DEBUG: {'answer_id': 2761.0, 'probability': 0.00036511116342438882}\n",
    "--------------------- >> end captured logging << ---------------------\n",
    "\n",
    "----------------------------------------------------------------------\n",
    "Ran 1 test in 55.377s\n",
    "\n",
    "FAILED (failures=1)\n",
    "MacBookPro-makmorit-jp:learning makmorit$\n",
    "```"
   ]
  },
  {
   "cell_type": "markdown",
   "metadata": {
    "deletable": true,
    "editable": true
   },
   "source": [
    "## (2) 調査用の環境準備"
   ]
  },
  {
   "cell_type": "code",
   "execution_count": 1,
   "metadata": {
    "collapsed": false,
    "deletable": true,
    "editable": true
   },
   "outputs": [
    {
     "data": {
      "text/plain": [
       "'/Users/makmorit/GitHub/donusagi-bot/learning'"
      ]
     },
     "execution_count": 1,
     "metadata": {},
     "output_type": "execute_result"
    }
   ],
   "source": [
    "'''\n",
    "    テスト環境を準備するためのモジュールを使用します。\n",
    "'''\n",
    "import sys\n",
    "import os\n",
    "learning_dir = os.path.abspath(\"../../\") #<--- donusagi-bot/learning\n",
    "os.chdir(learning_dir)\n",
    "\n",
    "if learning_dir not in sys.path:\n",
    "    sys.path.append(learning_dir)\n",
    "\n",
    "learning_dir"
   ]
  },
  {
   "cell_type": "code",
   "execution_count": 2,
   "metadata": {
    "collapsed": true,
    "deletable": true,
    "editable": true
   },
   "outputs": [],
   "source": [
    "import numpy as np\n",
    "from learning.core.persistance import Persistance\n",
    "from learning.core.predict.model_not_exists_error import ModelNotExistsError"
   ]
  },
  {
   "cell_type": "code",
   "execution_count": 3,
   "metadata": {
    "collapsed": true,
    "deletable": true,
    "editable": true
   },
   "outputs": [],
   "source": [
    "def load_model_and_vectorizer(bot_id):\n",
    "    '''\n",
    "        学習済みのモデルを復元\n",
    "    '''\n",
    "    try:\n",
    "        estimator = Persistance.load_model(bot_id)\n",
    "        vectorizer = Persistance.load_vectorizer(bot_id)\n",
    "    except IOError:\n",
    "        raise ModelNotExistsError()\n",
    "\n",
    "    return estimator, vectorizer"
   ]
  },
  {
   "cell_type": "code",
   "execution_count": 4,
   "metadata": {
    "collapsed": false,
    "deletable": true,
    "editable": true
   },
   "outputs": [
    {
     "name": "stdout",
     "output_type": "stream",
     "text": [
      "n_answer=174, n_feature=1154\n"
     ]
    }
   ],
   "source": [
    "bot_id = 9  # bot_id = 9はセプテーニ\n",
    "\n",
    "estimator, vectorizer = load_model_and_vectorizer(bot_id)\n",
    "print(\"n_answer=%d, n_feature=%d\" % (estimator.coef_.shape[0], estimator.coef_.shape[1]))"
   ]
  },
  {
   "cell_type": "markdown",
   "metadata": {
    "deletable": true,
    "editable": true
   },
   "source": [
    "### feature「やめる」から誘導されやすいクラスをみつける\n",
    "\n",
    "回答ID「4579」が群を抜いていることが確認されました"
   ]
  },
  {
   "cell_type": "code",
   "execution_count": 5,
   "metadata": {
    "collapsed": false,
    "deletable": true,
    "editable": true
   },
   "outputs": [],
   "source": [
    "def research_preferred_answer_ids(estimator, vectorizer, feature_word, n_top=10):\n",
    "    '''\n",
    "        重みテーブルから、featureに対応する列を抽出し、\n",
    "        重みスコアの降順に、answer_idと共に重みスコアのリストを出力\n",
    "        デフォルト＝トップの１０件のみ出力\n",
    "    '''\n",
    "    feature_index = vectorizer.vocabulary_[feature_word]\n",
    "    print(\"research_preferred_answer_ids: feature word=%s (index=%d of %d)\" % (\n",
    "        feature_word, feature_index, estimator.coef_.shape[1]))\n",
    "\n",
    "    _table_w = []\n",
    "    for class_index, weight in enumerate(estimator.coef_.T[feature_index]):\n",
    "        answer_id = estimator.classes_[class_index]\n",
    "        _table_w.append((answer_id, weight))\n",
    "        \n",
    "    sorted_table_w = sorted(_table_w, key=lambda x:x[1], reverse=True)\n",
    "\n",
    "    return sorted_table_w[0:n_top]"
   ]
  },
  {
   "cell_type": "code",
   "execution_count": 6,
   "metadata": {
    "collapsed": false,
    "deletable": true,
    "editable": true
   },
   "outputs": [
    {
     "name": "stdout",
     "output_type": "stream",
     "text": [
      "research_preferred_answer_ids: feature word=やめる (index=124 of 1154)\n"
     ]
    },
    {
     "data": {
      "text/plain": [
       "[(4579, 10.754334344795975),\n",
       " (4572, 2.2669260980155244),\n",
       " (4497, -4.9621819786803401e-05),\n",
       " (4496, -5.299633357049133e-05),\n",
       " (4445, -0.00013470836509254396),\n",
       " (4508, -0.00020345183422650895),\n",
       " (4563, -0.00020468957614262404),\n",
       " (4610, -0.00021637775059685249),\n",
       " (4505, -0.00022534947812052333),\n",
       " (4441, -0.0002939213319672891)]"
      ]
     },
     "execution_count": 6,
     "metadata": {},
     "output_type": "execute_result"
    }
   ],
   "source": [
    "research_preferred_answer_ids(estimator, vectorizer, 'やめる')"
   ]
  },
  {
   "cell_type": "markdown",
   "metadata": {
    "deletable": true,
    "editable": true
   },
   "source": [
    "### 回答ID「4579」「4572」に誘導されやすいfeatureを見つける\n",
    "\n",
    "「4579」ではfeature「やめる」の重み付けスコアが高い（８位）ことが確認されました。\n",
    "\n",
    "一方の「4572」ではfeature「やめる」の重み付けスコアが低い（18位）ことが確認されます。"
   ]
  },
  {
   "cell_type": "code",
   "execution_count": 7,
   "metadata": {
    "collapsed": true,
    "deletable": true,
    "editable": true
   },
   "outputs": [],
   "source": [
    "def get_item_from_vocabulary(vocabulary, index):\n",
    "    '''\n",
    "        vocabulary から指定インデックスの単語を参照\n",
    "    '''\n",
    "    for k, v in vocabulary.items():\n",
    "        if v == index:\n",
    "            return k\n",
    "\n",
    "    return None\n",
    "\n",
    "def research_preferred_features(estimator, vectorizer, answer_id, n_top=20):\n",
    "    '''\n",
    "        重みテーブルから、answer_idに対応する行を抽出し、\n",
    "        重みスコアの降順に、feature_indexと共に重みスコアのリストを出力\n",
    "        デフォルト＝トップの２０件のみ出力\n",
    "    '''\n",
    "    index_of_answer = np.where(estimator.classes_==answer_id)\n",
    "    class_index = index_of_answer[0][0]\n",
    "    print(\"research_preferred_features: answer_id=%d (index=%d of %d) bias=%0.3f\" % (\n",
    "        answer_id, class_index, estimator.coef_.shape[0], estimator.intercept_[class_index]))\n",
    "\n",
    "    _table_w = []\n",
    "    for feature_index, weight in enumerate(estimator.coef_[class_index]):\n",
    "        word = get_item_from_vocabulary(vectorizer.vocabulary_, feature_index)\n",
    "        _table_w.append((feature_index, word, weight))\n",
    "\n",
    "    sorted_table_w = sorted(_table_w, key=lambda x:x[2], reverse=True)\n",
    "\n",
    "    return sorted_table_w[0:n_top]"
   ]
  },
  {
   "cell_type": "code",
   "execution_count": 8,
   "metadata": {
    "collapsed": false,
    "deletable": true,
    "editable": true,
    "scrolled": false
   },
   "outputs": [
    {
     "name": "stdout",
     "output_type": "stream",
     "text": [
      "research_preferred_features: answer_id=4579 (index=114 of 174) bias=-11.917\n"
     ]
    },
    {
     "data": {
      "text/plain": [
       "[(504, '共同', 19.517604214966902),\n",
       " (931, '解除', 16.885422326632632),\n",
       " (870, '競合', 15.848898515470061),\n",
       " (589, '困る', 13.328142048336394),\n",
       " (590, '困難', 12.229476740468964),\n",
       " (480, '停止', 11.737977328389166),\n",
       " (83, 'どうにか', 11.003186985356811),\n",
       " (124, 'やめる', 10.754334344795975),\n",
       " (930, '解消', 10.119095954755535),\n",
       " (533, '削除', 9.8098972385259113),\n",
       " (634, '対処', 9.6600067277446193),\n",
       " (588, '回避', 9.4263628706798066),\n",
       " (96, 'なんとか', 9.3619037433637491),\n",
       " (682, '手段', 8.8213724490175167),\n",
       " (929, '解決', 8.7855648402148461),\n",
       " (1092, 'ｇｍａｉｌ', 7.9051814296524432),\n",
       " (153, 'イヤ', 7.3594420063141923),\n",
       " (1093, 'ｇｏｏｇｌｅ', 7.2002123467451522),\n",
       " (815, '状態', 6.0007310469248489),\n",
       " (872, '策', 5.8806168705033324)]"
      ]
     },
     "execution_count": 8,
     "metadata": {},
     "output_type": "execute_result"
    }
   ],
   "source": [
    "research_preferred_features(estimator, vectorizer, 4579)"
   ]
  },
  {
   "cell_type": "code",
   "execution_count": 9,
   "metadata": {
    "collapsed": false,
    "deletable": true,
    "editable": true
   },
   "outputs": [
    {
     "name": "stdout",
     "output_type": "stream",
     "text": [
      "research_preferred_features: answer_id=4572 (index=107 of 174) bias=-11.065\n"
     ]
    },
    {
     "data": {
      "text/plain": [
       "[(861, '移動', 12.953457313532072),\n",
       " (958, '警告', 12.526256580652518),\n",
       " (305, 'ファイル', 9.6842138185060378),\n",
       " (538, '動かす', 7.893072457646003),\n",
       " (859, '移す', 7.6390071155935813),\n",
       " (150, 'アラート', 6.8450964069563955),\n",
       " (908, '表示', 6.2399328132175276),\n",
       " (274, 'データファイル', 5.8378265037231287),\n",
       " (740, '時', 5.5529910749063482),\n",
       " (416, '中', 5.4176771200103264),\n",
       " (108, 'ほしい', 4.5652410698169659),\n",
       " (517, '出る', 4.5049905847463307),\n",
       " (863, '移行', 4.1744671073032986),\n",
       " (515, '出す', 3.7630559555360708),\n",
       " (170, 'エラー', 3.7417608431319818),\n",
       " (480, '停止', 3.4802023807995193),\n",
       " (272, 'データ', 2.526088879455048),\n",
       " (124, 'やめる', 2.2669260980155244),\n",
       " (791, '消す', 1.9372702270297379),\n",
       " (55, 'する', 1.6140303964813032)]"
      ]
     },
     "execution_count": 9,
     "metadata": {},
     "output_type": "execute_result"
    }
   ],
   "source": [
    "research_preferred_features(estimator, vectorizer, 4572)"
   ]
  }
 ],
 "metadata": {
  "kernelspec": {
   "display_name": "Python 3",
   "language": "python",
   "name": "python3"
  },
  "language_info": {
   "codemirror_mode": {
    "name": "ipython",
    "version": 3
   },
   "file_extension": ".py",
   "mimetype": "text/x-python",
   "name": "python",
   "nbconvert_exporter": "python",
   "pygments_lexer": "ipython3",
   "version": "3.5.2"
  }
 },
 "nbformat": 4,
 "nbformat_minor": 2
}
