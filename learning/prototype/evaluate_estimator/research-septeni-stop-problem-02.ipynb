{
 "cells": [
  {
   "cell_type": "markdown",
   "metadata": {
    "deletable": true,
    "editable": true
   },
   "source": [
    "# 回答候補が１つしかない場合のprobability\n",
    "\n",
    "\n",
    "学習時に重み付けスコア／バイアス値が１件だけ高すぎる結果となった場合（＝回答候補が１件しか存在しない場合）、probabilityが高く計算されてしまうことの裏付けをとります。"
   ]
  },
  {
   "cell_type": "markdown",
   "metadata": {
    "deletable": true,
    "editable": true
   },
   "source": [
    "## (1) 調査用の環境準備"
   ]
  },
  {
   "cell_type": "code",
   "execution_count": 1,
   "metadata": {
    "collapsed": false,
    "deletable": true,
    "editable": true
   },
   "outputs": [
    {
     "data": {
      "text/plain": [
       "'/Users/makmorit/GitHub/donusagi-bot/learning'"
      ]
     },
     "execution_count": 1,
     "metadata": {},
     "output_type": "execute_result"
    }
   ],
   "source": [
    "'''\n",
    "    テスト環境を準備するためのモジュールを使用します。\n",
    "'''\n",
    "import sys\n",
    "import os\n",
    "learning_dir = os.path.abspath(\"../../\") #<--- donusagi-bot/learning\n",
    "os.chdir(learning_dir)\n",
    "\n",
    "if learning_dir not in sys.path:\n",
    "    sys.path.append(learning_dir)\n",
    "\n",
    "learning_dir"
   ]
  },
  {
   "cell_type": "code",
   "execution_count": 2,
   "metadata": {
    "collapsed": true,
    "deletable": true,
    "editable": true
   },
   "outputs": [],
   "source": [
    "import numpy as np\n",
    "from learning.core.persistance import Persistance\n",
    "from learning.core.predict.model_not_exists_error import ModelNotExistsError"
   ]
  },
  {
   "cell_type": "code",
   "execution_count": 3,
   "metadata": {
    "collapsed": true,
    "deletable": true,
    "editable": true
   },
   "outputs": [],
   "source": [
    "def load_model_and_vectorizer(bot_id):\n",
    "    '''\n",
    "        学習済みのモデルを復元\n",
    "    '''\n",
    "    try:\n",
    "        estimator = Persistance.load_model(bot_id)\n",
    "        vectorizer = Persistance.load_vectorizer(bot_id)\n",
    "    except IOError:\n",
    "        raise ModelNotExistsError()\n",
    "\n",
    "    return estimator, vectorizer"
   ]
  },
  {
   "cell_type": "code",
   "execution_count": 4,
   "metadata": {
    "collapsed": false,
    "deletable": true,
    "editable": true
   },
   "outputs": [
    {
     "name": "stdout",
     "output_type": "stream",
     "text": [
      "n_answer=174, n_feature=1154\n"
     ]
    }
   ],
   "source": [
    "bot_id = 9  # bot_id = 9はセプテーニ\n",
    "\n",
    "estimator, vectorizer = load_model_and_vectorizer(bot_id)\n",
    "print(\"n_answer=%d, n_feature=%d\" % (estimator.coef_.shape[0], estimator.coef_.shape[1]))"
   ]
  },
  {
   "cell_type": "markdown",
   "metadata": {
    "deletable": true,
    "editable": true
   },
   "source": [
    "### (1-2) feature「やめる」から誘導されやすいクラスを取得\n",
    "\n",
    "proba 内部処理時における、回答候補クラスの変数値をウォッチするため、回答候補クラスのインデックスをあらかじめ取得しておきます。"
   ]
  },
  {
   "cell_type": "code",
   "execution_count": 5,
   "metadata": {
    "collapsed": true
   },
   "outputs": [],
   "source": [
    "def research_preferred_answer_ids(estimator, vectorizer, feature_word, n_top=10):\n",
    "    '''\n",
    "        重みテーブルから、featureに対応する列を抽出し、\n",
    "        重みスコアの降順に、answer_idと共に重みスコアのリストを出力\n",
    "        デフォルト＝トップの１０件のみ出力\n",
    "    '''\n",
    "    feature_index = vectorizer.vocabulary_[feature_word]\n",
    "    print(\"research_preferred_answer_ids: feature word=%s (index=%d of %d)\" % (\n",
    "        feature_word, feature_index, estimator.coef_.shape[1]))\n",
    "\n",
    "    _table_w = []\n",
    "    for class_index, weight in enumerate(estimator.coef_.T[feature_index]):\n",
    "        answer_id = estimator.classes_[class_index]\n",
    "        _table_w.append((class_index, answer_id, weight))\n",
    "        \n",
    "    sorted_table_w = sorted(_table_w, key=lambda x:x[2], reverse=True)\n",
    "\n",
    "    return sorted_table_w[0:n_top]"
   ]
  },
  {
   "cell_type": "code",
   "execution_count": 6,
   "metadata": {
    "collapsed": false
   },
   "outputs": [
    {
     "name": "stdout",
     "output_type": "stream",
     "text": [
      "research_preferred_answer_ids: feature word=やめる (index=124 of 1154)\n"
     ]
    },
    {
     "data": {
      "text/plain": [
       "[(114, 4579, 10.754334344795975),\n",
       " (107, 4572, 2.2669260980155244),\n",
       " (34, 4497, -4.9621819786803401e-05),\n",
       " (33, 4496, -5.299633357049133e-05),\n",
       " (12, 4445, -0.00013470836509254396),\n",
       " (45, 4508, -0.00020345183422650895),\n",
       " (98, 4563, -0.00020468957614262404),\n",
       " (145, 4610, -0.00021637775059685249),\n",
       " (42, 4505, -0.00022534947812052333),\n",
       " (10, 4441, -0.0002939213319672891)]"
      ]
     },
     "execution_count": 6,
     "metadata": {},
     "output_type": "execute_result"
    }
   ],
   "source": [
    "research_preferred_answer_ids(estimator, vectorizer, 'やめる')"
   ]
  },
  {
   "cell_type": "markdown",
   "metadata": {
    "deletable": true,
    "editable": true
   },
   "source": [
    "## (2) predict_probaの再現実行"
   ]
  },
  {
   "cell_type": "markdown",
   "metadata": {},
   "source": [
    "素のままではわからないので、適宜デバッグ・プリントを入れて予測処理を再現実行します。\n",
    "\n",
    "学習時に計算した重み付けスコア／バイアス値から、ロジスティック回帰値を経て、probability（確率）が算出される過程をデバッグプリントしています。\n",
    "\n",
    "結果、<b>回答候補が１件しか存在しない場合、probabilityが高く計算されてしまう</b>ことが確認できるかと存じます。"
   ]
  },
  {
   "cell_type": "code",
   "execution_count": 7,
   "metadata": {
    "collapsed": false,
    "scrolled": false
   },
   "outputs": [
    {
     "name": "stderr",
     "output_type": "stream",
     "text": [
      "2017/05/11 AM 11:41:06 ['./fixtures/learning_training_messages/benefitone.csv', './fixtures/learning_training_messages/ptna.csv', './fixtures/learning_training_messages/septeni.csv', './fixtures/learning_training_messages/toyotsu_human.csv']\n",
      "2017/05/11 AM 11:41:06 ['./fixtures/question_answers/toyotsu_human.csv']\n",
      "2017/05/11 AM 11:41:06 TextArray#__init__ start\n",
      "2017/05/11 AM 11:41:06 Reply#perform text_array.separated_sentences: ['やめる']\n",
      "2017/05/11 AM 11:41:06 TextArray#to_vec start\n",
      "2017/05/11 AM 11:41:06 TextArray#to_vec end\n",
      "2017/05/11 AM 11:41:06 Reply#perform features:   (0, 124)\t1.0\n",
      "2017/05/11 AM 11:41:06 question: やめる\n",
      "2017/05/11 AM 11:41:06 question_feature_count: 1\n",
      "2017/05/11 AM 11:41:06 predicted results (order by probability desc)\n",
      "2017/05/11 AM 11:41:06 {'answer_id': 4579.0, 'probability': 0.95788732602549198}\n",
      "2017/05/11 AM 11:41:06 {'answer_id': 0.0, 'probability': 0.023378873591347195}\n",
      "2017/05/11 AM 11:41:06 {'answer_id': 4454.0, 'probability': 0.0038913316449180053}\n",
      "2017/05/11 AM 11:41:06 {'answer_id': 4572.0, 'probability': 0.00060698881776038809}\n",
      "2017/05/11 AM 11:41:06 {'answer_id': 4500.0, 'probability': 0.0005485816806088692}\n",
      "2017/05/11 AM 11:41:06 {'answer_id': 4624.0, 'probability': 0.00042342475784884535}\n",
      "2017/05/11 AM 11:41:06 {'answer_id': 4504.0, 'probability': 0.00042151590407305813}\n",
      "2017/05/11 AM 11:41:06 {'answer_id': 4626.0, 'probability': 0.00038279922498644475}\n",
      "2017/05/11 AM 11:41:06 {'answer_id': 4552.0, 'probability': 0.00037752193971553598}\n",
      "2017/05/11 AM 11:41:06 {'answer_id': 2761.0, 'probability': 0.00036511116342438882}\n"
     ]
    },
    {
     "name": "stdout",
     "output_type": "stream",
     "text": [
      "LinearClassifierMixin#_predict_proba_lr: [1]学習時に算出した重み付けスコア＋バイアスから影響変数を計算\n",
      "LinearClassifierMixin#_predict_proba_lr: label=4579, prob[114]= -1.16222837053\n",
      "LinearClassifierMixin#_predict_proba_lr: label=4572, prob[107]= -8.79820586678\n",
      "LinearClassifierMixin#_predict_proba_lr: label=4497, prob[34]= -19.24736899\n",
      "LinearClassifierMixin#_predict_proba_lr: label=4496, prob[33]= -18.0150830965\n",
      "LinearClassifierMixin#_predict_proba_lr: label=4445, prob[12]= -15.6793939248\n",
      "LinearClassifierMixin#_predict_proba_lr: [2]影響変数からロジスティック回帰値を計算\n",
      "LinearClassifierMixin#_predict_proba_lr: label=4579, prob[114]= 0.238262614444\n",
      "LinearClassifierMixin#_predict_proba_lr: label=4572, prob[107]= 0.000150980954365\n",
      "LinearClassifierMixin#_predict_proba_lr: label=4497, prob[34]= 4.37495766246e-09\n",
      "LinearClassifierMixin#_predict_proba_lr: label=4496, prob[33]= 1.50019879975e-08\n",
      "LinearClassifierMixin#_predict_proba_lr: label=4445, prob[12]= 1.55069244689e-07\n",
      "LinearClassifierMixin#_predict_proba_lr: [3]ロジスティック回帰値を標準化してprobabilityを計算\n",
      "LinearClassifierMixin#_predict_proba_lr: label=4579, prob[114]= 0.957887326025\n",
      "LinearClassifierMixin#_predict_proba_lr: label=4572, prob[107]= 0.00060698881776\n",
      "LinearClassifierMixin#_predict_proba_lr: label=4497, prob[34]= 1.75886448092e-08\n",
      "LinearClassifierMixin#_predict_proba_lr: label=4496, prob[33]= 6.03125009837e-08\n",
      "LinearClassifierMixin#_predict_proba_lr: label=4445, prob[12]= 6.23424973702e-07\n"
     ]
    },
    {
     "data": {
      "text/plain": [
       "<learning.core.predict.reply_result.ReplyResult at 0x10bb99390>"
      ]
     },
     "execution_count": 7,
     "metadata": {},
     "output_type": "execute_result"
    }
   ],
   "source": [
    "from learning.core.predict.reply import Reply\n",
    "from learning.tests import helper\n",
    "\n",
    "questions = ['やめる']\n",
    "result = Reply(bot_id, helper.learning_parameter(use_similarity_classification=False)).perform(questions, datasource_type='csv')\n",
    "result"
   ]
  },
  {
   "cell_type": "markdown",
   "metadata": {},
   "source": [
    "### ご参考：デバッグプリントに使用したロジック\n",
    "\n",
    "base.py の LinearClassifierMixin#_predict_proba_lr に、下記のようなデバッグプリント処理を追加しています。"
   ]
  },
  {
   "cell_type": "code",
   "execution_count": null,
   "metadata": {
    "collapsed": false
   },
   "outputs": [],
   "source": [
    "class LinearClassifierMixin(ClassifierMixin):\n",
    "\n",
    "    def _predict_proba_lr(self, X):\n",
    "        \"\"\"Probability estimation for OvR logistic regression.\n",
    "\n",
    "        Positive class probabilities are computed as\n",
    "        1. / (1. + np.exp(-self.decision_function(X)));\n",
    "        multiclass is handled by normalizing that over all classes.\n",
    "        \"\"\"\n",
    "\n",
    "        prob = self.decision_function(X)\n",
    "        print(\"LinearClassifierMixin#_predict_proba_lr: [1]学習時に算出した重み付けスコア＋バイアスから影響変数を計算\")\n",
    "        print(\"LinearClassifierMixin#_predict_proba_lr: label=4579, prob[114]=\", prob[0][114])\n",
    "        print(\"LinearClassifierMixin#_predict_proba_lr: label=4572, prob[107]=\", prob[0][107])\n",
    "        print(\"LinearClassifierMixin#_predict_proba_lr: label=4497, prob[34]=\", prob[0][34])\n",
    "        print(\"LinearClassifierMixin#_predict_proba_lr: label=4496, prob[33]=\", prob[0][33])\n",
    "        print(\"LinearClassifierMixin#_predict_proba_lr: label=4445, prob[12]=\", prob[0][12])\n",
    "\n",
    "        prob *= -1\n",
    "        np.exp(prob, prob)\n",
    "        prob += 1\n",
    "        np.reciprocal(prob, prob)\n",
    "\n",
    "        print(\"LinearClassifierMixin#_predict_proba_lr: [2]影響変数からロジスティック回帰値を計算\")\n",
    "        print(\"LinearClassifierMixin#_predict_proba_lr: label=4579, prob[114]=\", prob[0][114])\n",
    "        print(\"LinearClassifierMixin#_predict_proba_lr: label=4572, prob[107]=\", prob[0][107])\n",
    "        print(\"LinearClassifierMixin#_predict_proba_lr: label=4497, prob[34]=\", prob[0][34])\n",
    "        print(\"LinearClassifierMixin#_predict_proba_lr: label=4496, prob[33]=\", prob[0][33])\n",
    "        print(\"LinearClassifierMixin#_predict_proba_lr: label=4445, prob[12]=\", prob[0][12])\n",
    "\n",
    "        if prob.ndim == 1:\n",
    "            return np.vstack([1 - prob, prob]).T\n",
    "        else:\n",
    "            # OvR normalization, like LibLinear's predict_probability\n",
    "            prob /= prob.sum(axis=1).reshape((prob.shape[0], -1))\n",
    "\n",
    "            print(\"LinearClassifierMixin#_predict_proba_lr: [3]ロジスティック回帰値を標準化してprobabilityを計算\")\n",
    "            print(\"LinearClassifierMixin#_predict_proba_lr: label=4579, prob[114]=\", prob[0][114])\n",
    "            print(\"LinearClassifierMixin#_predict_proba_lr: label=4572, prob[107]=\", prob[0][107])\n",
    "            print(\"LinearClassifierMixin#_predict_proba_lr: label=4497, prob[34]=\", prob[0][34])\n",
    "            print(\"LinearClassifierMixin#_predict_proba_lr: label=4496, prob[33]=\", prob[0][33])\n",
    "            print(\"LinearClassifierMixin#_predict_proba_lr: label=4445, prob[12]=\", prob[0][12])\n",
    "            return prob\n"
   ]
  }
 ],
 "metadata": {
  "kernelspec": {
   "display_name": "Python 3",
   "language": "python",
   "name": "python3"
  },
  "language_info": {
   "codemirror_mode": {
    "name": "ipython",
    "version": 3
   },
   "file_extension": ".py",
   "mimetype": "text/x-python",
   "name": "python",
   "nbconvert_exporter": "python",
   "pygments_lexer": "ipython3",
   "version": "3.5.2"
  }
 },
 "nbformat": 4,
 "nbformat_minor": 2
}
