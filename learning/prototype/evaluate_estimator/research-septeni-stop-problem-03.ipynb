{
 "cells": [
  {
   "cell_type": "markdown",
   "metadata": {
    "deletable": true,
    "editable": true
   },
   "source": [
    "# 単一featureの質問から、不適切な回答が選択されてしまう件の調査\n",
    "\n",
    "質問文の抽出featureが１件しかない場合、かなりの高率のprobabilityで、該当featureが含まれる回答が選択されます。\n",
    "\n",
    "この場合、（当初関係性があると考えていた）回答候補の数に関係性がないことが判明しています。\n",
    "\n",
    "回答候補が複数ある場合でも、サンプル間でTF-IDFのばらつきが生じると、１件のクラスに回答が誘導されてしまう動きとなるようです。\n",
    "\n",
    "（probabilityが、回答候補のクラスにバラけず、１件のクラスへ偏りが生じてしまいます）"
   ]
  },
  {
   "cell_type": "markdown",
   "metadata": {
    "deletable": true,
    "editable": true
   },
   "source": [
    "## (1) 調査用の環境準備"
   ]
  },
  {
   "cell_type": "code",
   "execution_count": 2,
   "metadata": {
    "collapsed": false,
    "deletable": true,
    "editable": true
   },
   "outputs": [
    {
     "data": {
      "text/plain": [
       "'/Users/makmorit/GitHub/donusagi-bot/learning'"
      ]
     },
     "execution_count": 2,
     "metadata": {},
     "output_type": "execute_result"
    }
   ],
   "source": [
    "'''\n",
    "    テスト環境を準備するためのモジュールを使用します。\n",
    "'''\n",
    "import sys\n",
    "import os\n",
    "learning_dir = os.path.abspath(\"../../\") #<--- donusagi-bot/learning\n",
    "os.chdir(learning_dir)\n",
    "\n",
    "if learning_dir not in sys.path:\n",
    "    sys.path.append(learning_dir)\n",
    "\n",
    "learning_dir"
   ]
  },
  {
   "cell_type": "code",
   "execution_count": 3,
   "metadata": {
    "collapsed": false,
    "deletable": true,
    "editable": true
   },
   "outputs": [
    {
     "name": "stderr",
     "output_type": "stream",
     "text": [
      "/Library/Frameworks/Python.framework/Versions/3.5/lib/python3.5/site-packages/sklearn/cross_validation.py:44: DeprecationWarning: This module was deprecated in version 0.18 in favor of the model_selection module into which all the refactored classes and functions are moved. Also note that the interface of the new CV iterators are different from that of this module. This module will be removed in 0.20.\n",
      "  \"This module will be removed in 0.20.\", DeprecationWarning)\n",
      "/Library/Frameworks/Python.framework/Versions/3.5/lib/python3.5/site-packages/sklearn/grid_search.py:43: DeprecationWarning: This module was deprecated in version 0.18 in favor of the model_selection module into which all the refactored classes and functions are moved. This module will be removed in 0.20.\n",
      "  DeprecationWarning)\n"
     ]
    }
   ],
   "source": [
    "import numpy as np\n",
    "from learning.core.learn.bot import Bot\n",
    "from learning.core.learn.learning_parameter import LearningParameter"
   ]
  },
  {
   "cell_type": "code",
   "execution_count": 4,
   "metadata": {
    "collapsed": false,
    "deletable": true,
    "editable": true,
    "scrolled": false
   },
   "outputs": [],
   "source": [
    "_bot_id = 9  # bot_id = 9はセプテーニ\n",
    "attr = {\n",
    "    'include_failed_data': False,\n",
    "    'include_tag_vector': False,\n",
    "    'classify_threshold': 0.5,\n",
    "    'algorithm': LearningParameter.ALGORITHM_LOGISTIC_REGRESSION,\n",
    "    'params_for_algorithm': {'C': 140},\n",
    "    'excluded_labels_for_fitting': None\n",
    "}\n",
    "\n",
    "learning_parameter = LearningParameter(attr)"
   ]
  },
  {
   "cell_type": "code",
   "execution_count": 5,
   "metadata": {
    "collapsed": false,
    "deletable": true,
    "editable": true,
    "scrolled": true
   },
   "outputs": [
    {
     "name": "stderr",
     "output_type": "stream",
     "text": [
      "2017/05/12 PM 05:54:14 ['./fixtures/learning_training_messages/benefitone.csv', './fixtures/learning_training_messages/ptna.csv', './fixtures/learning_training_messages/septeni.csv', './fixtures/learning_training_messages/toyotsu_human.csv']\n",
      "2017/05/12 PM 05:54:14 ['./fixtures/question_answers/toyotsu_human.csv']\n"
     ]
    }
   ],
   "source": [
    "from learning.core.datasource import Datasource\n",
    "\n",
    "_datasource = Datasource(type='csv')\n",
    "learning_training_messages = _datasource.learning_training_messages(_bot_id)\n",
    "questions = np.array(learning_training_messages['question'])\n",
    "answer_ids = np.array(learning_training_messages['answer_id'])"
   ]
  },
  {
   "cell_type": "code",
   "execution_count": 6,
   "metadata": {
    "collapsed": false,
    "deletable": true,
    "editable": true
   },
   "outputs": [],
   "source": [
    "from learning.core.predict.reply import Reply\n",
    "COUNT_OF_APPEND_BLANK = 3\n",
    "\n",
    "# 空のテキストにラベル0を対応付けるために強制的にトレーニングセットを追加\n",
    "questions = np.append(questions, [''] * COUNT_OF_APPEND_BLANK)\n",
    "answer_ids = np.append(answer_ids, [Reply.CLASSIFY_FAILED_ANSWER_ID] * COUNT_OF_APPEND_BLANK)"
   ]
  },
  {
   "cell_type": "code",
   "execution_count": 7,
   "metadata": {
    "collapsed": false,
    "deletable": true,
    "editable": true
   },
   "outputs": [],
   "source": [
    "from learning.core.nlang import Nlang\n",
    "\n",
    "_sentences = np.array(questions)\n",
    "_separated_sentences = Nlang.batch_split(_sentences)"
   ]
  },
  {
   "cell_type": "markdown",
   "metadata": {
    "deletable": true,
    "editable": true
   },
   "source": [
    "## (2) featureのカウント値とTF-IDF値を取得"
   ]
  },
  {
   "cell_type": "code",
   "execution_count": 8,
   "metadata": {
    "collapsed": false,
    "deletable": true,
    "editable": true
   },
   "outputs": [],
   "source": [
    "from sklearn.feature_extraction.text import CountVectorizer\n",
    "from sklearn.feature_extraction.text import TfidfVectorizer"
   ]
  },
  {
   "cell_type": "code",
   "execution_count": 9,
   "metadata": {
    "collapsed": false,
    "deletable": true,
    "editable": true,
    "scrolled": true
   },
   "outputs": [
    {
     "name": "stdout",
     "output_type": "stream",
     "text": [
      "TfidfVectorizer: samples=16291, features=1154\n"
     ]
    }
   ],
   "source": [
    "# token_patternは1文字のデータを除外しない設定\n",
    "idf_vectorizer = TfidfVectorizer(use_idf=True, token_pattern=u'(?u)\\\\b\\\\w+\\\\b')\n",
    "_idf_X = idf_vectorizer.fit_transform(_separated_sentences)\n",
    "\n",
    "print(\"TfidfVectorizer: samples=%d, features=%d\" % _idf_X.shape)"
   ]
  },
  {
   "cell_type": "code",
   "execution_count": 10,
   "metadata": {
    "collapsed": false,
    "deletable": true,
    "editable": true,
    "scrolled": false
   },
   "outputs": [
    {
     "name": "stdout",
     "output_type": "stream",
     "text": [
      "CountVectorizer: samples=16291, features=1154\n"
     ]
    }
   ],
   "source": [
    "# token_patternは1文字のデータを除外しない設定\n",
    "cnt_vectorizer = CountVectorizer(token_pattern=u'(?u)\\\\b\\\\w+\\\\b')\n",
    "_count_X = cnt_vectorizer.fit_transform(_separated_sentences)\n",
    "\n",
    "print(\"CountVectorizer: samples=%d, features=%d\" % _count_X.shape)"
   ]
  },
  {
   "cell_type": "markdown",
   "metadata": {
    "deletable": true,
    "editable": true
   },
   "source": [
    "### 「やめる」の出現件数は全サンプルで６件のみ"
   ]
  },
  {
   "cell_type": "code",
   "execution_count": 58,
   "metadata": {
    "collapsed": false,
    "deletable": true,
    "editable": true,
    "scrolled": false
   },
   "outputs": [
    {
     "data": {
      "text/plain": [
       "6"
      ]
     },
     "execution_count": 58,
     "metadata": {},
     "output_type": "execute_result"
    }
   ],
   "source": [
    "count_all = np.sum(_count_X, axis=0)\n",
    "np.array(count_all)[0][124]"
   ]
  },
  {
   "cell_type": "markdown",
   "metadata": {
    "deletable": true,
    "editable": true
   },
   "source": [
    "### 「やめる」の回答候補クラス数は２件"
   ]
  },
  {
   "cell_type": "code",
   "execution_count": 52,
   "metadata": {
    "collapsed": false,
    "deletable": true,
    "editable": true
   },
   "outputs": [],
   "source": [
    "def research_prefferd_answer_id(count_vector, word_index):\n",
    "    _count_X_yameru = count_vector.T[word_index]\n",
    "    a = _count_X_yameru.toarray()[0]\n",
    "    preferred_list = np.unique(answer_ids[np.where(a!=0)])\n",
    "    \n",
    "    return preferred_list"
   ]
  },
  {
   "cell_type": "code",
   "execution_count": 53,
   "metadata": {
    "collapsed": false,
    "deletable": true,
    "editable": true
   },
   "outputs": [
    {
     "data": {
      "text/plain": [
       "array([4572, 4579])"
      ]
     },
     "execution_count": 53,
     "metadata": {},
     "output_type": "execute_result"
    }
   ],
   "source": [
    "word_index = 124\n",
    "research_prefferd_answer_id(_count_X, word_index)"
   ]
  },
  {
   "cell_type": "markdown",
   "metadata": {
    "collapsed": true,
    "deletable": true,
    "editable": true
   },
   "source": [
    "### 「やめる」のクラスにおける出現頻度を調査\n",
    "\n",
    "4579 では最も少ない単語であり、4572 では２番目に少ない単語となっています"
   ]
  },
  {
   "cell_type": "code",
   "execution_count": 17,
   "metadata": {
    "collapsed": false,
    "deletable": true,
    "editable": true,
    "scrolled": false
   },
   "outputs": [],
   "source": [
    "def get_item_from_vocabulary(vocabulary, index):\n",
    "    '''\n",
    "        vocabulary から指定インデックスの単語を参照\n",
    "    '''\n",
    "    for k, v in vocabulary.items():\n",
    "        if v == index:\n",
    "            return k\n",
    "\n",
    "    return None\n",
    "\n",
    "def print_word_count(vectorizer, count_vector, answer_ids, target_answer_id):\n",
    "    word_count_info = []\n",
    "    \n",
    "    indices = np.where(answer_ids==target_answer_id)\n",
    "    _count_vector = count_vector[indices]\n",
    "    \n",
    "    _count = np.sum(_count_vector, axis=0)\n",
    "    array = np.array(_count)[0]\n",
    "    for index, count in enumerate(array):\n",
    "        if count > 0:\n",
    "            word_count_info.append((index, get_item_from_vocabulary(vectorizer.vocabulary_, index), count))\n",
    "            \n",
    "    sorted_list = sorted(word_count_info, key=lambda x:x[2], reverse=False)\n",
    "    return sorted_list[0:20]"
   ]
  },
  {
   "cell_type": "code",
   "execution_count": 18,
   "metadata": {
    "collapsed": false,
    "deletable": true,
    "editable": true,
    "scrolled": true
   },
   "outputs": [
    {
     "data": {
      "text/plain": [
       "[(83, 'どうにか', 2),\n",
       " (96, 'なんとか', 2),\n",
       " (124, 'やめる', 2),\n",
       " (127, 'やる', 2),\n",
       " (153, 'イヤ', 2),\n",
       " (281, 'ドライブ', 2),\n",
       " (480, '停止', 2),\n",
       " (504, '共同', 2),\n",
       " (590, '困難', 2),\n",
       " (612, '変更', 2),\n",
       " (682, '手段', 2),\n",
       " (815, '状態', 2),\n",
       " (872, '策', 2),\n",
       " (929, '解決', 2),\n",
       " (931, '解除', 2),\n",
       " (276, 'ドキュメント', 4),\n",
       " (634, '対処', 4),\n",
       " (74, 'できる', 6),\n",
       " (200, 'グーグル', 6),\n",
       " (785, '法', 6)]"
      ]
     },
     "execution_count": 18,
     "metadata": {},
     "output_type": "execute_result"
    }
   ],
   "source": [
    "'''\n",
    "    単語の出現数を、少ないもの順に20件リスト\n",
    "'''\n",
    "print_word_count(cnt_vectorizer, _count_X, answer_ids, 4579)"
   ]
  },
  {
   "cell_type": "code",
   "execution_count": 19,
   "metadata": {
    "collapsed": false,
    "deletable": true,
    "editable": true,
    "scrolled": true
   },
   "outputs": [
    {
     "data": {
      "text/plain": [
       "[(15, 'いる', 2),\n",
       " (94, 'なる', 2),\n",
       " (272, 'データ', 2),\n",
       " (274, 'データファイル', 2),\n",
       " (480, '停止', 2),\n",
       " (825, '画面', 2),\n",
       " (832, '発生', 2),\n",
       " (859, '移す', 2),\n",
       " (863, '移行', 2),\n",
       " (901, '良い', 2),\n",
       " (5, 'いい', 4),\n",
       " (74, 'できる', 4),\n",
       " (108, 'ほしい', 4),\n",
       " (124, 'やめる', 4),\n",
       " (170, 'エラー', 4),\n",
       " (416, '中', 4),\n",
       " (538, '動かす', 4),\n",
       " (722, '教える', 4),\n",
       " (771, '欲しい', 4),\n",
       " (791, '消す', 4)]"
      ]
     },
     "execution_count": 19,
     "metadata": {},
     "output_type": "execute_result"
    }
   ],
   "source": [
    "print_word_count(cnt_vectorizer, _count_X, answer_ids, 4572)"
   ]
  },
  {
   "cell_type": "markdown",
   "metadata": {
    "deletable": true,
    "editable": true
   },
   "source": [
    "### 各クラスのTF-IDF値を確認\n",
    "\n",
    "「やめる」に関しては、4579 の TF-IDF は 0.766、対する 4572 の TF-IDF は 0.647〜0.712 と、いずれもかなり高い値でした。\n",
    "\n",
    "また、クラス間で TF-IDF 値に差ができています。"
   ]
  },
  {
   "cell_type": "code",
   "execution_count": 29,
   "metadata": {
    "collapsed": false,
    "deletable": true,
    "editable": true,
    "scrolled": true
   },
   "outputs": [
    {
     "data": {
      "text/plain": [
       "[(4572, 5435, 0.64743186496629812, 1),\n",
       " (4572, 5448, 0.7126081530230749, 1),\n",
       " (4579, 5739, 0.76637020521093568, 1),\n",
       " (4572, 12356, 0.64743186496629812, 1),\n",
       " (4572, 12369, 0.7126081530230749, 1),\n",
       " (4579, 12660, 0.76637020521093568, 1)]"
      ]
     },
     "execution_count": 29,
     "metadata": {},
     "output_type": "execute_result"
    }
   ],
   "source": [
    "def research_tfidf_and_count(idf_vector, count_vector, answer_ids, word_index):\n",
    "    _idf = idf_vector.T[word_index].toarray()[0]\n",
    "    _df = count_vector.T[word_index].toarray()[0]\n",
    "\n",
    "    research_list = []\n",
    "    for index, _ in enumerate(answer_ids):\n",
    "        if _df[index] != 0:\n",
    "            research_list.append((answer_ids[index], index, _idf[index], _df[index]))\n",
    "            \n",
    "    return research_list\n",
    "\n",
    "word_index = 124\n",
    "research_tfidf_and_count(_idf_X, _count_X, answer_ids, word_index)"
   ]
  },
  {
   "cell_type": "markdown",
   "metadata": {
    "deletable": true,
    "editable": true
   },
   "source": [
    "### その他のケースで検証\n",
    "\n",
    "本件「やめる」と同じような単語の出現の仕方をする単語はどうでしょうか？\n",
    "\n",
    "「どうにか」で見てみます。"
   ]
  },
  {
   "cell_type": "code",
   "execution_count": 54,
   "metadata": {
    "collapsed": false,
    "deletable": true,
    "editable": true,
    "scrolled": false
   },
   "outputs": [
    {
     "data": {
      "text/plain": [
       "array([4579])"
      ]
     },
     "execution_count": 54,
     "metadata": {},
     "output_type": "execute_result"
    }
   ],
   "source": [
    "word_index = 83\n",
    "research_prefferd_answer_id(_count_X, word_index)"
   ]
  },
  {
   "cell_type": "code",
   "execution_count": 55,
   "metadata": {
    "collapsed": false,
    "deletable": true,
    "editable": true
   },
   "outputs": [
    {
     "data": {
      "text/plain": [
       "[(4579, 5737, 0.78221626832693536, 1), (4579, 12658, 0.78221626832693536, 1)]"
      ]
     },
     "execution_count": 55,
     "metadata": {},
     "output_type": "execute_result"
    }
   ],
   "source": [
    "research_tfidf_and_count(_idf_X, _count_X, answer_ids, word_index)"
   ]
  },
  {
   "cell_type": "markdown",
   "metadata": {
    "deletable": true,
    "editable": true
   },
   "source": [
    "回答候補が１件しかなく、「やめる」と同様、TF-IDF値がかなり大きくなっています。"
   ]
  },
  {
   "cell_type": "markdown",
   "metadata": {
    "deletable": true,
    "editable": true
   },
   "source": [
    "それでは、同じように単語出現回数自体が少ない「ドライブ」はどうでしょうか？"
   ]
  },
  {
   "cell_type": "code",
   "execution_count": 56,
   "metadata": {
    "collapsed": false,
    "deletable": true,
    "editable": true,
    "scrolled": false
   },
   "outputs": [
    {
     "data": {
      "text/plain": [
       "array([4445, 4450, 4454, 4518, 4579])"
      ]
     },
     "execution_count": 56,
     "metadata": {},
     "output_type": "execute_result"
    }
   ],
   "source": [
    "word_index = 281\n",
    "research_prefferd_answer_id(_count_X, word_index)"
   ]
  },
  {
   "cell_type": "code",
   "execution_count": 57,
   "metadata": {
    "collapsed": false,
    "deletable": true,
    "editable": true,
    "scrolled": true
   },
   "outputs": [
    {
     "data": {
      "text/plain": [
       "[(4450, 34, 0.48400465049577085, 1),\n",
       " (4454, 36, 0.49781150257651102, 1),\n",
       " (4454, 37, 0.49781150257651102, 1),\n",
       " (4518, 165, 0.4454767853538773, 1),\n",
       " (4518, 166, 0.53482069438293867, 1),\n",
       " (4450, 2137, 0.57549399783831634, 1),\n",
       " (4450, 2138, 0.59598931471531102, 1),\n",
       " (4450, 2139, 0.47040740573022538, 1),\n",
       " (4450, 2140, 0.38389874679922364, 1),\n",
       " (4450, 2141, 0.41421172805650591, 1)]"
      ]
     },
     "execution_count": 57,
     "metadata": {},
     "output_type": "execute_result"
    }
   ],
   "source": [
    "research_tfidf_and_count(_idf_X, _count_X, answer_ids, word_index)[0:10] # 多いので最初の10件だけ表示します"
   ]
  },
  {
   "cell_type": "markdown",
   "metadata": {
    "deletable": true,
    "editable": true
   },
   "source": [
    "このケースでは、回答候補が５件あるため、TF-IDF値は概して小さくなっています。\n",
    "\n",
    "また、こちらもクラス間で TF-IDF 値にばらつきができています。"
   ]
  },
  {
   "cell_type": "markdown",
   "metadata": {
    "deletable": true,
    "editable": true
   },
   "source": [
    "### 各ケースで予測結果を比較\n",
    "\n",
    "「どうにか」「ドライブ」でも、「やめる」と同様、かなり高率の proba で 4579 が回答されてしまうことが確認できます。\n",
    "\n",
    "回答候補の数と、probability 値の高さには、関連性がないようです。"
   ]
  },
  {
   "cell_type": "code",
   "execution_count": 33,
   "metadata": {
    "collapsed": true,
    "deletable": true,
    "editable": true
   },
   "outputs": [],
   "source": [
    "import numpy as np\n",
    "from learning.core.persistance import Persistance\n",
    "from learning.core.predict.model_not_exists_error import ModelNotExistsError"
   ]
  },
  {
   "cell_type": "code",
   "execution_count": 34,
   "metadata": {
    "collapsed": true,
    "deletable": true,
    "editable": true
   },
   "outputs": [],
   "source": [
    "def load_model_and_vectorizer(bot_id):\n",
    "    '''\n",
    "        学習済みのモデルを復元\n",
    "    '''\n",
    "    try:\n",
    "        estimator = Persistance.load_model(bot_id)\n",
    "        vectorizer = Persistance.load_vectorizer(bot_id)\n",
    "    except IOError:\n",
    "        raise ModelNotExistsError()\n",
    "\n",
    "    return estimator, vectorizer"
   ]
  },
  {
   "cell_type": "code",
   "execution_count": 35,
   "metadata": {
    "collapsed": false,
    "deletable": true,
    "editable": true,
    "scrolled": true
   },
   "outputs": [
    {
     "name": "stdout",
     "output_type": "stream",
     "text": [
      "n_answer=174, n_feature=1154\n"
     ]
    }
   ],
   "source": [
    "bot_id = 9  # bot_id = 9はセプテーニ\n",
    "\n",
    "estimator, vectorizer = load_model_and_vectorizer(bot_id)\n",
    "print(\"n_answer=%d, n_feature=%d\" % (estimator.coef_.shape[0], estimator.coef_.shape[1]))"
   ]
  },
  {
   "cell_type": "code",
   "execution_count": 36,
   "metadata": {
    "collapsed": true,
    "deletable": true,
    "editable": true
   },
   "outputs": [],
   "source": [
    "def research_preferred_answer_ids(estimator, vectorizer, feature_word, n_top=10):\n",
    "    '''\n",
    "        重みテーブルから、featureに対応する列を抽出し、\n",
    "        重みスコアの降順に、answer_idと共に重みスコアのリストを出力\n",
    "        デフォルト＝トップの１０件のみ出力\n",
    "    '''\n",
    "    feature_index = vectorizer.vocabulary_[feature_word]\n",
    "    print(\"research_preferred_answer_ids: feature word=%s (index=%d of %d)\" % (\n",
    "        feature_word, feature_index, estimator.coef_.shape[1]))\n",
    "\n",
    "    _table_w = []\n",
    "    for class_index, weight in enumerate(estimator.coef_.T[feature_index]):\n",
    "        answer_id = estimator.classes_[class_index]\n",
    "        _table_w.append((class_index, answer_id, weight))\n",
    "        \n",
    "    sorted_table_w = sorted(_table_w, key=lambda x:x[2], reverse=True)\n",
    "\n",
    "    return sorted_table_w[0:n_top]"
   ]
  },
  {
   "cell_type": "code",
   "execution_count": 37,
   "metadata": {
    "collapsed": false,
    "deletable": true,
    "editable": true,
    "scrolled": false
   },
   "outputs": [
    {
     "name": "stdout",
     "output_type": "stream",
     "text": [
      "research_preferred_answer_ids: feature word=やめる (index=124 of 1154)\n"
     ]
    },
    {
     "data": {
      "text/plain": [
       "[(114, 4579, 10.754334344795975),\n",
       " (107, 4572, 2.2669260980155244),\n",
       " (34, 4497, -4.9621819786803401e-05),\n",
       " (33, 4496, -5.299633357049133e-05),\n",
       " (12, 4445, -0.00013470836509254396),\n",
       " (45, 4508, -0.00020345183422650895),\n",
       " (98, 4563, -0.00020468957614262404),\n",
       " (145, 4610, -0.00021637775059685249),\n",
       " (42, 4505, -0.00022534947812052333),\n",
       " (10, 4441, -0.0002939213319672891)]"
      ]
     },
     "execution_count": 37,
     "metadata": {},
     "output_type": "execute_result"
    }
   ],
   "source": [
    "'''\n",
    "    回答候補の重み付けを確認\n",
    "'''\n",
    "research_preferred_answer_ids(estimator, vectorizer, 'やめる')"
   ]
  },
  {
   "cell_type": "code",
   "execution_count": 38,
   "metadata": {
    "collapsed": false,
    "deletable": true,
    "editable": true,
    "scrolled": false
   },
   "outputs": [
    {
     "name": "stdout",
     "output_type": "stream",
     "text": [
      "research_preferred_answer_ids: feature word=どうにか (index=83 of 1154)\n"
     ]
    },
    {
     "data": {
      "text/plain": [
       "[(114, 4579, 11.003186985356811),\n",
       " (34, 4497, -1.8467258571206802e-05),\n",
       " (98, 4563, -2.2721703746587414e-05),\n",
       " (33, 4496, -3.524457107222128e-05),\n",
       " (145, 4610, -5.993493632778569e-05),\n",
       " (47, 4510, -6.3056724221403362e-05),\n",
       " (51, 4514, -7.7819724515713979e-05),\n",
       " (45, 4508, -8.1733302898161534e-05),\n",
       " (42, 4505, -8.6107354312569607e-05),\n",
       " (44, 4507, -0.00010024372114453094)]"
      ]
     },
     "execution_count": 38,
     "metadata": {},
     "output_type": "execute_result"
    }
   ],
   "source": [
    "research_preferred_answer_ids(estimator, vectorizer, 'どうにか')"
   ]
  },
  {
   "cell_type": "code",
   "execution_count": 39,
   "metadata": {
    "collapsed": false,
    "deletable": true,
    "editable": true,
    "scrolled": true
   },
   "outputs": [
    {
     "name": "stdout",
     "output_type": "stream",
     "text": [
      "research_preferred_answer_ids: feature word=ドライブ (index=281 of 1154)\n"
     ]
    },
    {
     "data": {
      "text/plain": [
       "[(55, 4518, 12.650782557710023),\n",
       " (14, 4450, 5.3989846212466333),\n",
       " (12, 4445, 2.098527675624783),\n",
       " (15, 4454, 1.3816368263731191),\n",
       " (114, 4579, 0.956221022695393),\n",
       " (86, 4551, -0.00026297568542037653),\n",
       " (34, 4497, -0.00061228447245395556),\n",
       " (33, 4496, -0.00065766111774365307),\n",
       " (45, 4508, -0.0021685141666944003),\n",
       " (42, 4505, -0.0025815468486155152)]"
      ]
     },
     "execution_count": 39,
     "metadata": {},
     "output_type": "execute_result"
    }
   ],
   "source": [
    "research_preferred_answer_ids(estimator, vectorizer, 'ドライブ')"
   ]
  },
  {
   "cell_type": "code",
   "execution_count": 40,
   "metadata": {
    "collapsed": false,
    "deletable": true,
    "editable": true
   },
   "outputs": [],
   "source": [
    "'''\n",
    "    予測処理の実行\n",
    "'''\n",
    "from learning.core.predict.reply import Reply\n",
    "from learning.tests import helper"
   ]
  },
  {
   "cell_type": "code",
   "execution_count": 41,
   "metadata": {
    "collapsed": false,
    "deletable": true,
    "editable": true,
    "scrolled": false
   },
   "outputs": [
    {
     "name": "stderr",
     "output_type": "stream",
     "text": [
      "2017/05/12 PM 06:07:20 ['./fixtures/learning_training_messages/benefitone.csv', './fixtures/learning_training_messages/ptna.csv', './fixtures/learning_training_messages/septeni.csv', './fixtures/learning_training_messages/toyotsu_human.csv']\n",
      "2017/05/12 PM 06:07:20 ['./fixtures/question_answers/toyotsu_human.csv']\n",
      "2017/05/12 PM 06:07:20 TextArray#__init__ start\n",
      "2017/05/12 PM 06:07:20 Reply#perform text_array.separated_sentences: ['やめる']\n",
      "2017/05/12 PM 06:07:20 TextArray#to_vec start\n",
      "2017/05/12 PM 06:07:20 TextArray#to_vec end\n",
      "2017/05/12 PM 06:07:20 Reply#perform features:   (0, 124)\t1.0\n",
      "2017/05/12 PM 06:07:20 question: やめる\n",
      "2017/05/12 PM 06:07:20 question_feature_count: 1\n",
      "2017/05/12 PM 06:07:20 predicted results (order by probability desc)\n",
      "2017/05/12 PM 06:07:20 {'answer_id': 4579.0, 'probability': 0.95788732602549198}\n",
      "2017/05/12 PM 06:07:20 {'answer_id': 0.0, 'probability': 0.023378873591347195}\n",
      "2017/05/12 PM 06:07:20 {'answer_id': 4454.0, 'probability': 0.0038913316449180053}\n",
      "2017/05/12 PM 06:07:20 {'answer_id': 4572.0, 'probability': 0.00060698881776038809}\n",
      "2017/05/12 PM 06:07:20 {'answer_id': 4500.0, 'probability': 0.0005485816806088692}\n",
      "2017/05/12 PM 06:07:20 {'answer_id': 4624.0, 'probability': 0.00042342475784884535}\n",
      "2017/05/12 PM 06:07:20 {'answer_id': 4504.0, 'probability': 0.00042151590407305813}\n",
      "2017/05/12 PM 06:07:20 {'answer_id': 4626.0, 'probability': 0.00038279922498644475}\n",
      "2017/05/12 PM 06:07:20 {'answer_id': 4552.0, 'probability': 0.00037752193971553598}\n",
      "2017/05/12 PM 06:07:20 {'answer_id': 2761.0, 'probability': 0.00036511116342438882}\n"
     ]
    },
    {
     "data": {
      "text/plain": [
       "<learning.core.predict.reply_result.ReplyResult at 0x10bfb7c50>"
      ]
     },
     "execution_count": 41,
     "metadata": {},
     "output_type": "execute_result"
    }
   ],
   "source": [
    "questions = ['やめる'] # 回答候補＝２件\n",
    "Reply(bot_id, helper.learning_parameter(use_similarity_classification=False)).perform(questions, datasource_type='csv')"
   ]
  },
  {
   "cell_type": "code",
   "execution_count": 42,
   "metadata": {
    "collapsed": false,
    "deletable": true,
    "editable": true,
    "scrolled": true
   },
   "outputs": [
    {
     "name": "stderr",
     "output_type": "stream",
     "text": [
      "2017/05/12 PM 06:07:25 ['./fixtures/learning_training_messages/benefitone.csv', './fixtures/learning_training_messages/ptna.csv', './fixtures/learning_training_messages/septeni.csv', './fixtures/learning_training_messages/toyotsu_human.csv']\n",
      "2017/05/12 PM 06:07:25 ['./fixtures/question_answers/toyotsu_human.csv']\n",
      "2017/05/12 PM 06:07:25 TextArray#__init__ start\n",
      "2017/05/12 PM 06:07:25 Reply#perform text_array.separated_sentences: ['どうにか']\n",
      "2017/05/12 PM 06:07:25 TextArray#to_vec start\n",
      "2017/05/12 PM 06:07:25 TextArray#to_vec end\n",
      "2017/05/12 PM 06:07:25 Reply#perform features:   (0, 83)\t1.0\n",
      "2017/05/12 PM 06:07:25 question: どうにか\n",
      "2017/05/12 PM 06:07:25 question_feature_count: 1\n",
      "2017/05/12 PM 06:07:25 predicted results (order by probability desc)\n",
      "2017/05/12 PM 06:07:25 {'answer_id': 4579.0, 'probability': 0.96028983407835156}\n",
      "2017/05/12 PM 06:07:25 {'answer_id': 0.0, 'probability': 0.024251529363728909}\n",
      "2017/05/12 PM 06:07:25 {'answer_id': 4454.0, 'probability': 0.003355696827857062}\n",
      "2017/05/12 PM 06:07:25 {'answer_id': 4500.0, 'probability': 0.00046532827604860768}\n",
      "2017/05/12 PM 06:07:25 {'answer_id': 4624.0, 'probability': 0.00035759543523933458}\n",
      "2017/05/12 PM 06:07:25 {'answer_id': 4504.0, 'probability': 0.00035525132864444424}\n",
      "2017/05/12 PM 06:07:25 {'answer_id': 4626.0, 'probability': 0.00032517786341538921}\n",
      "2017/05/12 PM 06:07:25 {'answer_id': 4552.0, 'probability': 0.00031884720695557841}\n",
      "2017/05/12 PM 06:07:25 {'answer_id': 2761.0, 'probability': 0.00030746848464067902}\n",
      "2017/05/12 PM 06:07:25 {'answer_id': 4575.0, 'probability': 0.00028408561462158301}\n"
     ]
    },
    {
     "data": {
      "text/plain": [
       "<learning.core.predict.reply_result.ReplyResult at 0x10bc62fd0>"
      ]
     },
     "execution_count": 42,
     "metadata": {},
     "output_type": "execute_result"
    }
   ],
   "source": [
    "questions = ['どうにか'] # 回答候補＝１件\n",
    "Reply(bot_id, helper.learning_parameter(use_similarity_classification=False)).perform(questions, datasource_type='csv')"
   ]
  },
  {
   "cell_type": "code",
   "execution_count": 43,
   "metadata": {
    "collapsed": false,
    "deletable": true,
    "editable": true,
    "scrolled": true
   },
   "outputs": [
    {
     "name": "stderr",
     "output_type": "stream",
     "text": [
      "2017/05/12 PM 06:07:28 ['./fixtures/learning_training_messages/benefitone.csv', './fixtures/learning_training_messages/ptna.csv', './fixtures/learning_training_messages/septeni.csv', './fixtures/learning_training_messages/toyotsu_human.csv']\n",
      "2017/05/12 PM 06:07:28 ['./fixtures/question_answers/toyotsu_human.csv']\n",
      "2017/05/12 PM 06:07:28 TextArray#__init__ start\n",
      "2017/05/12 PM 06:07:28 Reply#perform text_array.separated_sentences: ['ドライブ']\n",
      "2017/05/12 PM 06:07:28 TextArray#to_vec start\n",
      "2017/05/12 PM 06:07:28 TextArray#to_vec end\n",
      "2017/05/12 PM 06:07:28 Reply#perform features:   (0, 281)\t1.0\n",
      "2017/05/12 PM 06:07:28 question: ドライブ\n",
      "2017/05/12 PM 06:07:28 question_feature_count: 1\n",
      "2017/05/12 PM 06:07:28 predicted results (order by probability desc)\n",
      "2017/05/12 PM 06:07:28 {'answer_id': 4518.0, 'probability': 0.9881117304293231}\n",
      "2017/05/12 PM 06:07:28 {'answer_id': 4454.0, 'probability': 0.0046443897181426405}\n",
      "2017/05/12 PM 06:07:28 {'answer_id': 0.0, 'probability': 0.0021350857646036535}\n",
      "2017/05/12 PM 06:07:28 {'answer_id': 4450.0, 'probability': 0.001798608556518311}\n",
      "2017/05/12 PM 06:07:28 {'answer_id': 4500.0, 'probability': 0.0001360509557911863}\n",
      "2017/05/12 PM 06:07:28 {'answer_id': 4504.0, 'probability': 8.9541251784687299e-05}\n",
      "2017/05/12 PM 06:07:28 {'answer_id': 4626.0, 'probability': 8.9101298007468718e-05}\n",
      "2017/05/12 PM 06:07:28 {'answer_id': 4552.0, 'probability': 8.2691096048914683e-05}\n",
      "2017/05/12 PM 06:07:28 {'answer_id': 4592.0, 'probability': 7.7734857803625113e-05}\n",
      "2017/05/12 PM 06:07:28 {'answer_id': 2761.0, 'probability': 7.6810904959112941e-05}\n"
     ]
    },
    {
     "data": {
      "text/plain": [
       "<learning.core.predict.reply_result.ReplyResult at 0x10bc5aba8>"
      ]
     },
     "execution_count": 43,
     "metadata": {},
     "output_type": "execute_result"
    }
   ],
   "source": [
    "questions = ['ドライブ'] # 回答候補＝５件\n",
    "Reply(bot_id, helper.learning_parameter(use_similarity_classification=False)).perform(questions, datasource_type='csv')"
   ]
  }
 ],
 "metadata": {
  "kernelspec": {
   "display_name": "Python 3",
   "language": "python",
   "name": "python3"
  },
  "language_info": {
   "codemirror_mode": {
    "name": "ipython",
    "version": 3
   },
   "file_extension": ".py",
   "mimetype": "text/x-python",
   "name": "python",
   "nbconvert_exporter": "python",
   "pygments_lexer": "ipython3",
   "version": "3.5.2"
  }
 },
 "nbformat": 4,
 "nbformat_minor": 2
}
