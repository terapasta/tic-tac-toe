{
 "cells": [
  {
   "cell_type": "markdown",
   "metadata": {
    "deletable": true,
    "editable": true
   },
   "source": [
    "# 事前調査\n",
    "\n",
    "全ての学習セットからベクトライザーを生成してTFIDF値を計算後、目的のBotに対応するTFIDFベクトルだけを得る方法を検討します。"
   ]
  },
  {
   "cell_type": "code",
   "execution_count": 1,
   "metadata": {
    "collapsed": true,
    "deletable": true,
    "editable": true
   },
   "outputs": [],
   "source": [
    "'''\n",
    "    テスト環境を準備するためのモジュールを使用します。\n",
    "'''\n",
    "import sys\n",
    "import os\n",
    "learning_dir = os.path.abspath(\"../../\") #<--- donusagi-bot/learning\n",
    "os.chdir(learning_dir)\n",
    "\n",
    "if learning_dir not in sys.path:\n",
    "    sys.path.append(learning_dir)\n",
    "\n",
    "from prototype.modules import TestTool"
   ]
  },
  {
   "cell_type": "code",
   "execution_count": 2,
   "metadata": {
    "collapsed": false,
    "deletable": true,
    "editable": true
   },
   "outputs": [
    {
     "name": "stdout",
     "output_type": "stream",
     "text": [
      "CSV file for test=[/Users/makmorit/GitHub/donusagi-bot/learning/prototype/resources/test_benefitone_conversation.csv]\n",
      "CSV file for test=[/Users/makmorit/GitHub/donusagi-bot/learning/prototype/resources/test_daikin_conversation.csv]\n",
      "CSV file for test=[/Users/makmorit/GitHub/donusagi-bot/learning/prototype/resources/test_ptna_conversation.csv]\n",
      "CSV file for test=[/Users/makmorit/GitHub/donusagi-bot/learning/prototype/resources/test_toyotsu_human_conversation.csv]\n"
     ]
    }
   ],
   "source": [
    "'''\n",
    "    データファイルは、既存の訓練データを別場所にコピーしてから使用します\n",
    "    テストデータは、csv_file_name で指定した複数件のファイルを使用します。\n",
    "'''\n",
    "csv_file_names = [\n",
    "    'test_benefitone_conversation.csv',\n",
    "    'test_daikin_conversation.csv',\n",
    "    'test_ptna_conversation.csv',\n",
    "    'test_toyotsu_human_conversation.csv'\n",
    "]\n",
    "temp_path = TestTool.copy_testdata_csv(learning_dir, csv_file_names)"
   ]
  },
  {
   "cell_type": "code",
   "execution_count": 43,
   "metadata": {
    "collapsed": false,
    "deletable": true,
    "editable": true,
    "scrolled": true
   },
   "outputs": [],
   "source": [
    "import numpy as np\n",
    "import pandas as pd\n",
    "\n",
    "\n",
    "def get_dataset_names_array(dataset_name, count):\n",
    "    '''\n",
    "        データセット名称のリストを生成\n",
    "    '''\n",
    "    dataset_name_list = [dataset_name] * count\n",
    "    dataset_names = np.array(dataset_name_list)\n",
    "    return dataset_names\n",
    "\n",
    "\n",
    "'''\n",
    "    学習セットの全CSVファイルから、\n",
    "    質問文の配列を生成\n",
    "'''\n",
    "questions_all = np.empty(0)\n",
    "answer_ids_all = np.empty(0)\n",
    "dataset_names_all = np.empty(0)\n",
    "\n",
    "for csv_file_path in temp_path:\n",
    "    '''\n",
    "        TrainingMessageFromCsv と同様の処理\n",
    "\n",
    "        CSVファイル--->pandasデータフレームの生成\n",
    "        (TrainingMessageFromCsv#__build_learning_training_messages)\n",
    "    '''\n",
    "    learning_training_messages = pd.read_csv(csv_file_path, encoding='utf-8')\n",
    "    questions = np.array(learning_training_messages['question'])\n",
    "    answer_ids = np.array(learning_training_messages['answer_id'])\n",
    "    dataset_names = get_dataset_names_array(os.path.basename(csv_file_path), learning_training_messages.shape[0])\n",
    "\n",
    "    questions_all = np.concatenate((questions_all, questions))\n",
    "    answer_ids_all = np.concatenate((answer_ids_all, answer_ids))\n",
    "    dataset_names_all = np.concatenate((dataset_names_all, dataset_names))"
   ]
  },
  {
   "cell_type": "code",
   "execution_count": 45,
   "metadata": {
    "collapsed": false,
    "deletable": true,
    "editable": true
   },
   "outputs": [
    {
     "data": {
      "text/plain": [
       "31180"
      ]
     },
     "execution_count": 45,
     "metadata": {},
     "output_type": "execute_result"
    }
   ],
   "source": [
    "'''\n",
    "    TextArray#__init__ と同様の処理\n",
    "'''\n",
    "from learning.core.nlang import Nlang\n",
    "from sklearn.feature_extraction.text import TfidfVectorizer\n",
    "\n",
    "sentences = np.array(questions_all)\n",
    "separated_sentences = Nlang.batch_split(sentences)\n",
    "np.size(separated_sentences)"
   ]
  },
  {
   "cell_type": "code",
   "execution_count": 46,
   "metadata": {
    "collapsed": false,
    "deletable": true,
    "editable": true,
    "scrolled": true
   },
   "outputs": [
    {
     "data": {
      "text/plain": [
       "TfidfVectorizer(analyzer='word', binary=False, decode_error='strict',\n",
       "        dtype=<class 'numpy.int64'>, encoding='utf-8', input='content',\n",
       "        lowercase=True, max_df=1.0, max_features=None, min_df=1,\n",
       "        ngram_range=(1, 1), norm='l2', preprocessor=None, smooth_idf=True,\n",
       "        stop_words=None, strip_accents=None, sublinear_tf=False,\n",
       "        token_pattern='(?u)\\\\b\\\\w+\\\\b', tokenizer=None, use_idf=False,\n",
       "        vocabulary=None)"
      ]
     },
     "execution_count": 46,
     "metadata": {},
     "output_type": "execute_result"
    }
   ],
   "source": [
    "'''\n",
    "    TextArray#__build_vectorizer と同様の処理\n",
    "'''\n",
    "vectorizer = TfidfVectorizer(use_idf=False, token_pattern=u'(?u)\\\\b\\\\w+\\\\b')\n",
    "vectorizer.fit(separated_sentences)"
   ]
  },
  {
   "cell_type": "code",
   "execution_count": 47,
   "metadata": {
    "collapsed": false,
    "deletable": true,
    "editable": true
   },
   "outputs": [
    {
     "data": {
      "text/plain": [
       "<31180x3162 sparse matrix of type '<class 'numpy.float64'>'\n",
       "\twith 243448 stored elements in Compressed Sparse Row format>"
      ]
     },
     "execution_count": 47,
     "metadata": {},
     "output_type": "execute_result"
    }
   ],
   "source": [
    "'''\n",
    "    TextArray#to_vec と同様の処理\n",
    "'''\n",
    "feature_vectors = vectorizer.transform(separated_sentences)\n",
    "feature_vectors"
   ]
  },
  {
   "cell_type": "code",
   "execution_count": 54,
   "metadata": {
    "collapsed": false,
    "deletable": true,
    "editable": true
   },
   "outputs": [
    {
     "data": {
      "text/plain": [
       "5064"
      ]
     },
     "execution_count": 54,
     "metadata": {},
     "output_type": "execute_result"
    }
   ],
   "source": [
    "'''\n",
    "    目的のBotに対応するデータのインデックスを取得\n",
    "'''\n",
    "target_data_set_name = 'test_toyotsu_human_conversation.csv'\n",
    "target_indices = np.where(dataset_names_all==target_data_set_name)\n",
    "np.size(target_indices)"
   ]
  },
  {
   "cell_type": "code",
   "execution_count": 55,
   "metadata": {
    "collapsed": false,
    "deletable": true,
    "editable": true
   },
   "outputs": [
    {
     "data": {
      "text/plain": [
       "(array([26116, 26117, 26118, ..., 31177, 31178, 31179]),)"
      ]
     },
     "execution_count": 55,
     "metadata": {},
     "output_type": "execute_result"
    }
   ],
   "source": [
    "target_indices"
   ]
  },
  {
   "cell_type": "code",
   "execution_count": 56,
   "metadata": {
    "collapsed": false,
    "deletable": true,
    "editable": true
   },
   "outputs": [
    {
     "data": {
      "text/plain": [
       "<5064x3162 sparse matrix of type '<class 'numpy.float64'>'\n",
       "\twith 49382 stored elements in Compressed Sparse Row format>"
      ]
     },
     "execution_count": 56,
     "metadata": {},
     "output_type": "execute_result"
    }
   ],
   "source": [
    "'''\n",
    "    目的のBotに対応するTFIDF値だけを抽出する\n",
    "    --->これがBotの学習＋予測に使用されるベクトルになります\n",
    "'''\n",
    "target_feature_vectors = feature_vectors[target_indices]\n",
    "target_feature_vectors"
   ]
  }
 ],
 "metadata": {
  "kernelspec": {
   "display_name": "Python 3",
   "language": "python",
   "name": "python3"
  },
  "language_info": {
   "codemirror_mode": {
    "name": "ipython",
    "version": 3
   },
   "file_extension": ".py",
   "mimetype": "text/x-python",
   "name": "python",
   "nbconvert_exporter": "python",
   "pygments_lexer": "ipython3",
   "version": "3.5.2"
  }
 },
 "nbformat": 4,
 "nbformat_minor": 2
}
