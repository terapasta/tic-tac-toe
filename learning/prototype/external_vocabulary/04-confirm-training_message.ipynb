{
 "cells": [
  {
   "cell_type": "markdown",
   "metadata": {
    "deletable": true,
    "editable": true
   },
   "source": [
    "#  training_message.py 改修前の動作確認"
   ]
  },
  {
   "cell_type": "markdown",
   "metadata": {
    "deletable": true,
    "editable": true
   },
   "source": [
    "## (1) DBテストデータの仕込み"
   ]
  },
  {
   "cell_type": "markdown",
   "metadata": {
    "deletable": true,
    "editable": true
   },
   "source": [
    "### (1-1) 環境の準備"
   ]
  },
  {
   "cell_type": "code",
   "execution_count": 1,
   "metadata": {
    "collapsed": true,
    "deletable": true,
    "editable": true
   },
   "outputs": [],
   "source": [
    "'''\n",
    "    テスト環境を準備するためのモジュールを使用します。\n",
    "'''\n",
    "import sys\n",
    "import os\n",
    "learning_dir = os.path.abspath(\"../../\") #<--- donusagi-bot/learning\n",
    "os.chdir(learning_dir)\n",
    "\n",
    "if learning_dir not in sys.path:\n",
    "    sys.path.append(learning_dir)\n",
    "\n",
    "from prototype.modules import TestTool"
   ]
  },
  {
   "cell_type": "code",
   "execution_count": 2,
   "metadata": {
    "collapsed": false,
    "deletable": true,
    "editable": true,
    "scrolled": true
   },
   "outputs": [
    {
     "data": {
      "text/plain": [
       "['/Users/makmorit/GitHub/donusagi-bot/learning/learning/tests/fixtures/test_benefitone_conversation.csv',\n",
       " '/Users/makmorit/GitHub/donusagi-bot/learning/learning/tests/fixtures/test_daikin_conversation.csv',\n",
       " '/Users/makmorit/GitHub/donusagi-bot/learning/learning/tests/fixtures/test_ptna_conversation.csv',\n",
       " '/Users/makmorit/GitHub/donusagi-bot/learning/learning/tests/fixtures/test_toyotsu_human_conversation.csv']"
      ]
     },
     "execution_count": 2,
     "metadata": {},
     "output_type": "execute_result"
    }
   ],
   "source": [
    "'''\n",
    "    該当Botのファイルパスを用意\n",
    "'''\n",
    "csv_file_names = [\n",
    "    'test_benefitone_conversation.csv',\n",
    "    'test_daikin_conversation.csv',\n",
    "    'test_ptna_conversation.csv',\n",
    "    'test_toyotsu_human_conversation.csv',\n",
    "]\n",
    "\n",
    "learning_file_paths = []\n",
    "for csv_file_name in csv_file_names:\n",
    "    learning_csv_dir = os.path.join(learning_dir, 'learning/tests/fixtures/')\n",
    "    learning_file_path = os.path.join(learning_csv_dir, csv_file_name)\n",
    "    learning_file_paths.append(learning_file_path)\n",
    "\n",
    "learning_file_paths"
   ]
  },
  {
   "cell_type": "markdown",
   "metadata": {
    "deletable": true,
    "editable": true
   },
   "source": [
    "### (1-2) データ操作用関数の準備"
   ]
  },
  {
   "cell_type": "code",
   "execution_count": 3,
   "metadata": {
    "collapsed": true,
    "deletable": true,
    "editable": true
   },
   "outputs": [],
   "source": [
    "import numpy as np\n",
    "import pandas as pd\n",
    "\n",
    "import MySQLdb\n",
    "db_config = {\n",
    "    'host': 'localhost',\n",
    "    'db': 'donusagi_bot',\n",
    "    'user': 'root',\n",
    "    'passwd': '',\n",
    "    'charset': 'utf8'\n",
    "}"
   ]
  },
  {
   "cell_type": "code",
   "execution_count": 4,
   "metadata": {
    "collapsed": false,
    "deletable": true,
    "editable": true
   },
   "outputs": [],
   "source": [
    "def insert_record_from_csv(bot_id, learning_file_path):\n",
    "    print('insert_record_from_csv start [%s]' % os.path.basename(learning_file_path))\n",
    "    \n",
    "    '''\n",
    "        CSVファイルからデータフレームを生成\n",
    "    '''\n",
    "    dataframe = pd.read_csv(learning_file_path, encoding='utf-8')\n",
    "    ids = dataframe['id']\n",
    "    questions = dataframe['question']\n",
    "    answer_ids = dataframe['answer_id']\n",
    "    answer_bodys = dataframe['answer_body']\n",
    "\n",
    "    '''\n",
    "        INSERT文を準備\n",
    "    '''\n",
    "    sql_statement = \"INSERT INTO learning_training_messages (bot_id, id, question, answer_id, answer_body, created_at, updated_at) VALUES (%s,%s,%s,%s,%s,%s,%s)\"\n",
    "\n",
    "    '''\n",
    "        データフレームをDBに投入\n",
    "    '''\n",
    "    db = MySQLdb.connect(**db_config)\n",
    "    try:\n",
    "        cursor = db.cursor()\n",
    "        for index, _ in enumerate(ids):\n",
    "            data = (\n",
    "                bot_id, \n",
    "                ids[index], \n",
    "                questions[index], \n",
    "                answer_ids[index], \n",
    "                answer_bodys[index],\n",
    "                '2017-05-02 10:00:00',\n",
    "                '2017-05-02 10:00:00'\n",
    "            )\n",
    "            cursor.execute(sql_statement, data)\n",
    "\n",
    "    except Exception as e:\n",
    "        print(e)\n",
    "        db.rollback()\n",
    "        db.close()\n",
    "        return\n",
    "\n",
    "    '''\n",
    "        DB変更内容の反映\n",
    "    '''\n",
    "    db.commit()\n",
    "    db.close()\n",
    "    print('insert_record_from_csv end')"
   ]
  },
  {
   "cell_type": "code",
   "execution_count": 5,
   "metadata": {
    "collapsed": true,
    "deletable": true,
    "editable": true
   },
   "outputs": [],
   "source": [
    "def delete_record_from_table(bot_id):\n",
    "    '''\n",
    "        DELETE文を準備\n",
    "    '''\n",
    "    sql_statement = \"DELETE FROM learning_training_messages where bot_id=%s\"\n",
    "\n",
    "    '''\n",
    "        DBから指定Botのレコードを削除\n",
    "    '''\n",
    "    db = MySQLdb.connect(**db_config)\n",
    "    try:\n",
    "        cursor = db.cursor()\n",
    "        cursor.execute(sql_statement % bot_id)\n",
    "\n",
    "    except Exception as e:\n",
    "        print(e)\n",
    "        db.rollback()\n",
    "        db.close()\n",
    "        return\n",
    "\n",
    "    '''\n",
    "        DB変更内容の反映\n",
    "    '''\n",
    "    db.commit()\n",
    "    db.close()"
   ]
  },
  {
   "cell_type": "markdown",
   "metadata": {
    "deletable": true,
    "editable": true
   },
   "source": [
    "### (1-3) データ投入"
   ]
  },
  {
   "cell_type": "code",
   "execution_count": 6,
   "metadata": {
    "collapsed": false,
    "deletable": true,
    "editable": true,
    "scrolled": true
   },
   "outputs": [
    {
     "name": "stdout",
     "output_type": "stream",
     "text": [
      "insert_record_from_csv start [test_benefitone_conversation.csv]\n",
      "insert_record_from_csv end\n",
      "insert_record_from_csv start [test_daikin_conversation.csv]\n",
      "insert_record_from_csv end\n",
      "insert_record_from_csv start [test_ptna_conversation.csv]\n",
      "insert_record_from_csv end\n",
      "insert_record_from_csv start [test_toyotsu_human_conversation.csv]\n",
      "insert_record_from_csv end\n"
     ]
    }
   ],
   "source": [
    "'''\n",
    "    テスト用Botの全レコードを投入\n",
    "'''\n",
    "for i, learning_file_path in enumerate(learning_file_paths):\n",
    "    bot_id = 10001 + i\n",
    "    insert_record_from_csv(bot_id, learning_file_path)\n",
    "\n",
    "    # こちらは削除用\n",
    "    # delete_record_from_table(bot_id)"
   ]
  },
  {
   "cell_type": "markdown",
   "metadata": {
    "deletable": true,
    "editable": true
   },
   "source": [
    "## (2) 動作確認\n",
    "\n",
    "まずは bin/learn.py により、単独Bot [ptna] のデータで動作確認。\n",
    "\n",
    "ローカル環境に問題がないことを確認できました。"
   ]
  },
  {
   "cell_type": "markdown",
   "metadata": {
    "deletable": true,
    "editable": true
   },
   "source": [
    "```\n",
    "MacBookPro-makmorit-jp:learning makmorit$ python3 -m bin.learn --bot_id=10001\n",
    "/Library/Frameworks/Python.framework/Versions/3.5/lib/python3.5/site-packages/sklearn/cross_validation.py:44: DeprecationWarning: This module was deprecated in version 0.18 in favor of the model_selection module into which all the refactored classes and functions are moved. Also note that the interface of the new CV iterators are different from that of this module. This module will be removed in 0.20.\n",
    "  \"This module will be removed in 0.20.\", DeprecationWarning)\n",
    "/Library/Frameworks/Python.framework/Versions/3.5/lib/python3.5/site-packages/sklearn/grid_search.py:43: DeprecationWarning: This module was deprecated in version 0.18 in favor of the model_selection module into which all the refactored classes and functions are moved. This module will be removed in 0.20.\n",
    "  DeprecationWarning)\n",
    "2017/05/02 AM 11:52:52 learning_parameter: {'_vectorize_using_all_bots': True, '_include_tag_vector': False, '_params_for_algorithm': {}, '_use_similarity_classification': False, '_include_failed_data': False, '_algorithm': 0, '_excluded_labels_for_fitting': [], '_classify_threshold': None}\n",
    "2017/05/02 AM 11:52:52 start Bot#learn\n",
    "{'database': {'name': 'donusagi_bot', 'endpoint': 'mysql://root@localhost/donusagi_bot?charset=utf8', 'password': '', 'host': 'localhost', 'user': 'root'}}\n",
    "2017/05/02 AM 11:52:52 Bot after mysql connect\n",
    "2017/05/02 AM 11:52:52 TrainingMessage#__init__ start\n",
    "2017/05/02 AM 11:52:52 TrainingMessage#build start\n",
    "2017/05/02 AM 11:52:52 data['id'].count(): 4114\n",
    "2017/05/02 AM 11:52:52 TextArray#__init__ start\n",
    "2017/05/02 AM 11:52:53 TextArray#to_vec start\n",
    "2017/05/02 AM 11:52:54 TextArray#to_vec end\n",
    "2017/05/02 AM 11:52:54 Bot#__build_training_set training_set.count_sample_by_y: [[0, 3], [4677, 14], [4678, 2584], [4679, 14], [4680, 14], [4683, 14], [4686, 14], [4687, 8], [4690, 8], [4691, 14], [4692, 44], [4693, 30], [4700, 12], [4707, 18], [4708, 14], [4709, 14], [4710, 14], [4711, 14], [4712, 16], [4713, 14], [4718, 20], [4719, 8], [4720, 20], [4721, 8], [4724, 8], [4727, 14], [4728, 62], [4729, 26], [4730, 20], [4731, 14], [4732, 22], [4733, 14], [4734, 34], [4735, 12], [4738, 14], [4739, 14], [4740, 14], [4741, 8], [4742, 20], [4743, 14], [4744, 14], [4745, 20], [4750, 22], [4751, 20], [4752, 14], [4753, 8], [4754, 8], [4755, 14], [4756, 20], [4757, 8], [4758, 28], [4759, 14], [4760, 8], [4761, 20], [4762, 8], [4766, 14], [4767, 14], [4772, 60], [4776, 8], [4781, 14], [4782, 14], [4783, 20], [4786, 8], [4792, 20], [4793, 8], [4794, 8], [4795, 14], [4797, 42], [4798, 36], [4800, 14], [4802, 14], [4804, 14], [4807, 8], [4808, 106], [4817, 26], [4821, 24], [4824, 16], [4827, 8], [4830, 22], [4831, 14], [4833, 14], [4834, 14], [4835, 36], [4836, 30], [4837, 8]]\n",
    "2017/05/02 AM 11:52:54 use algorithm: logistic regression\n",
    "2017/05/02 AM 11:52:54 learning_parameter has not parameter C\n",
    "2017/05/02 AM 11:52:57 best_params_: {'C': 140}\n",
    "2017/05/02 AM 11:52:57 after Bot#__get_estimator\n",
    "2017/05/02 AM 11:52:57 before Evaluator#evaluate\n",
    "2017/05/02 AM 11:52:57 self.threshold: 0.0\n",
    "0.981553398058\n",
    "2017/05/02 AM 11:52:58 Evaluator#evaluate#elapsed time: 376.857996 ms\n",
    "2017/05/02 AM 11:52:58 accuracy: 0.981553398058\n",
    "2017/05/02 AM 11:52:58 end Bot#learn\n",
    "2017/05/02 AM 11:52:58 Bot.learn processing time: 5.987392902374268 [sec]\n",
    "2017/05/02 AM 11:52:58 MyopeServer.learn processing time: 5.987716913223267 [sec]\n",
    "MacBookPro-makmorit-jp:learning makmorit$ \n",
    "```"
   ]
  }
 ],
 "metadata": {
  "kernelspec": {
   "display_name": "Python 3",
   "language": "python",
   "name": "python3"
  },
  "language_info": {
   "codemirror_mode": {
    "name": "ipython",
    "version": 3
   },
   "file_extension": ".py",
   "mimetype": "text/x-python",
   "name": "python",
   "nbconvert_exporter": "python",
   "pygments_lexer": "ipython3",
   "version": "3.5.2"
  }
 },
 "nbformat": 4,
 "nbformat_minor": 2
}
