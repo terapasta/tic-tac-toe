{
 "cells": [
  {
   "cell_type": "markdown",
   "metadata": {
    "deletable": true,
    "editable": true
   },
   "source": [
    "# nosetests結果比較"
   ]
  },
  {
   "cell_type": "markdown",
   "metadata": {
    "deletable": true,
    "editable": true
   },
   "source": [
    "改修前（単一Botを使用してTF-IDF値を算出時）と、改修後（利用可能な全Botを使用してTF-IDF値を算出時）の、accuracy および probability をテストケースごとに比較してみました。"
   ]
  },
  {
   "cell_type": "markdown",
   "metadata": {
    "deletable": true,
    "editable": true
   },
   "source": [
    "### (1) accuracyの変化"
   ]
  },
  {
   "cell_type": "markdown",
   "metadata": {
    "deletable": true,
    "editable": true
   },
   "source": [
    "全体的に大きな変化は見られませんでした。"
   ]
  },
  {
   "cell_type": "markdown",
   "metadata": {
    "deletable": true,
    "editable": true
   },
   "source": [
    "| テストデータ | サンプル数 | ラベル数 | accuracy（単一Bot使用時） | <> | accuracy（全Bot使用時） | 備考 |\n",
    "| :--- | :---: | :---: | :---: | :---: | :---: | --- |\n",
    "| test_benefitone_conversation | 7,086 | 89 | 0.971218961625 | == | 0.971218961625 | ロジスティック回帰 |\n",
    "| test_ptna_conversation | 5,683 | 77  | 0.961294862773 | < | 0.962702322308 | ロジスティック回帰 |\n",
    "| test_toyotsu_human_conversation | 6,355 | 303 | 0.98804279421 | < | 0.989301447451 | コサイン類似 |\n"
   ]
  },
  {
   "cell_type": "markdown",
   "metadata": {
    "deletable": true,
    "editable": true
   },
   "source": [
    "### (2) probabilityの変化"
   ]
  },
  {
   "cell_type": "markdown",
   "metadata": {
    "deletable": true,
    "editable": true
   },
   "source": [
    "こちらはテストケースごとに揺れが確認されております。\n",
    "\n",
    "特にラベル０に対するprobaの低下が目立ちます。\n",
    "\n",
    "またテストデータ「test_toyotsu_human_conversation」に対しては、ラベル6909のprobaがしきい値を下回るという副作用が確認されています。"
   ]
  },
  {
   "cell_type": "markdown",
   "metadata": {
    "deletable": true,
    "editable": true
   },
   "source": [
    "| テストデータ | テストケース（質問文） | 正解ラベル | proba（単一Bot使用時） | <> | proba（全Bot使用時） | \n",
    "| :--- |  :--- | :---: | :---: | :---: | :---: |\n",
    "| test_benefitone_conversation | EXカードを貸してください | 4678 | 0.99556246174604568 | < | 0.99561620892053737 |\n",
    "| test_benefitone_conversation | 契約書を見たいのですが | 4683 | 0.99568650171921314 | < | 0.99568783321361543 |\n",
    "| test_ptna_conversation | (blank) | 0 | 0.46501957420755285 | > | 0.25530258295312219 |\n",
    "| test_ptna_conversation | おいしいラーメンが食べたいです | 0 | 0.46501957420755285 | > | 0.25530258295312219 |\n",
    "| test_ptna_conversation | こんにちは | 2684 | 0.58995320493017422 | < | 0.59696231133865452 |\n",
    "| test_ptna_conversation | 女の先生 | 4068 | 0.99340643873211187 | > | 0.98741094626678194 |\n",
    "| test_ptna_conversation | 入会したいのですが | 2688 | 0.92319391878028234 | > | 0.87403863476327393 |\n",
    "| test_toyotsu_human_conversation | 子供が生まれた | 6909 | 0.54826951162442072 | > | 0.4988590443001667 |\n",
    "| test_toyotsu_human_conversation | VISAの勘定科目がわからない | 6767 | 0.51766757078992931 | < | 0.5761238021258559 |\n",
    "| test_toyotsu_human_conversation | JAL マイレージ | 6803 | 0.51178816271369199 | > | 0.50701881232800483 |\n",
    "| test_toyotsu_human_conversation | 海外の出張費を精算したい | 6763 | 0.5424740904211236 | < | 0.54433272458932846 |"
   ]
  }
 ],
 "metadata": {
  "kernelspec": {
   "display_name": "Python 3",
   "language": "python",
   "name": "python3"
  },
  "language_info": {
   "codemirror_mode": {
    "name": "ipython",
    "version": 3
   },
   "file_extension": ".py",
   "mimetype": "text/x-python",
   "name": "python",
   "nbconvert_exporter": "python",
   "pygments_lexer": "ipython3",
   "version": "3.5.2"
  }
 },
 "nbformat": 4,
 "nbformat_minor": 2
}
