{
 "cells": [
  {
   "cell_type": "markdown",
   "metadata": {},
   "source": [
    "## 「ID:0」など、もとの文章に影響を及ぼさない形でIDを付与する方法を検証する\n",
    "結論: 形態素解析後にIDを連結することで、接頭詞と数値を分解させないでベクトル化することが出来る"
   ]
  },
  {
   "cell_type": "code",
   "execution_count": 2,
   "metadata": {
    "collapsed": false
   },
   "outputs": [
    {
     "name": "stdout",
     "output_type": "stream",
     "text": [
      "prototype_dir=/Users/harada/source_code/donusagi-bot/learning/prototype\n",
      "learning_dir=/Users/harada/source_code/donusagi-bot/learning\n"
     ]
    }
   ],
   "source": [
    "'''\n",
    "    プロトタイピング用のパスと、Botライブラリーパスを取得／設定します\n",
    "'''\n",
    "import sys\n",
    "import os\n",
    "\n",
    "prototype_dir = os.path.join(os.getcwd(), '..')\n",
    "prototype_dir = os.path.abspath(prototype_dir)\n",
    "\n",
    "learning_dir = os.path.join(prototype_dir, '..')\n",
    "learning_dir = os.path.abspath(learning_dir)\n",
    "os.chdir(learning_dir)\n",
    "\n",
    "if learning_dir not in sys.path:\n",
    "    sys.path.append(learning_dir)\n",
    "\n",
    "print('prototype_dir=%s\\nlearning_dir=%s' % (prototype_dir, learning_dir))"
   ]
  },
  {
   "cell_type": "code",
   "execution_count": 16,
   "metadata": {
    "collapsed": false
   },
   "outputs": [
    {
     "data": {
      "text/html": [
       "<div>\n",
       "<table border=\"1\" class=\"dataframe\">\n",
       "  <thead>\n",
       "    <tr style=\"text-align: right;\">\n",
       "      <th></th>\n",
       "      <th>answer</th>\n",
       "      <th>id</th>\n",
       "      <th>question</th>\n",
       "    </tr>\n",
       "  </thead>\n",
       "  <tbody>\n",
       "    <tr>\n",
       "      <th>0</th>\n",
       "      <td>お申込時点でピアノをご家庭にお持ちでなくても、基本は問題ありません。</td>\n",
       "      <td>11</td>\n",
       "      <td>ピアノ持ってない</td>\n",
       "    </tr>\n",
       "    <tr>\n",
       "      <th>1</th>\n",
       "      <td>一般に、ピアノを習うのは早ければ早いほどいい、と言われます。</td>\n",
       "      <td>12</td>\n",
       "      <td>うちの子供は2歳です。ピアノを始めるにはまだ早いでしょうか？</td>\n",
       "    </tr>\n",
       "    <tr>\n",
       "      <th>2</th>\n",
       "      <td>音大勤務の指定については、お申込時にご要望欄へ記入ください。個別にご相談に応じます。</td>\n",
       "      <td>13</td>\n",
       "      <td>国立音大の先生を探しているのですが。</td>\n",
       "    </tr>\n",
       "    <tr>\n",
       "      <th>3</th>\n",
       "      <td>女性の先生は多数在籍しております</td>\n",
       "      <td>14</td>\n",
       "      <td>女性の先生はいますか？ ID:1</td>\n",
       "    </tr>\n",
       "    <tr>\n",
       "      <th>4</th>\n",
       "      <td>女性の先生は多数在籍しております</td>\n",
       "      <td>15</td>\n",
       "      <td>女性の先生はいますか？ ID1</td>\n",
       "    </tr>\n",
       "    <tr>\n",
       "      <th>5</th>\n",
       "      <td>女性の先生は多数在籍しております</td>\n",
       "      <td>16</td>\n",
       "      <td>女性の先生はいますか？ MYOPE_QAID=1</td>\n",
       "    </tr>\n",
       "  </tbody>\n",
       "</table>\n",
       "</div>"
      ],
      "text/plain": [
       "                                       answer  id  \\\n",
       "0          お申込時点でピアノをご家庭にお持ちでなくても、基本は問題ありません。  11   \n",
       "1              一般に、ピアノを習うのは早ければ早いほどいい、と言われます。  12   \n",
       "2  音大勤務の指定については、お申込時にご要望欄へ記入ください。個別にご相談に応じます。  13   \n",
       "3                            女性の先生は多数在籍しております  14   \n",
       "4                            女性の先生は多数在籍しております  15   \n",
       "5                            女性の先生は多数在籍しております  16   \n",
       "\n",
       "                          question  \n",
       "0                         ピアノ持ってない  \n",
       "1  うちの子供は2歳です。ピアノを始めるにはまだ早いでしょうか？   \n",
       "2               国立音大の先生を探しているのですが。  \n",
       "3                 女性の先生はいますか？ ID:1  \n",
       "4                  女性の先生はいますか？ ID1  \n",
       "5         女性の先生はいますか？ MYOPE_QAID=1  "
      ]
     },
     "metadata": {},
     "output_type": "display_data"
    }
   ],
   "source": [
    "'''\n",
    "question_answersを想定したサンプルデータを生成する\n",
    "'''\n",
    "import pandas as pd\n",
    "from IPython.display import display, HTML\n",
    "\n",
    "question_answers =  pd.DataFrame({\n",
    "    'id': [11,12,13,14,15,16],\n",
    "    'question': [\n",
    "        'ピアノ持ってない',\n",
    "        'うちの子供は2歳です。ピアノを始めるにはまだ早いでしょうか？ ',\n",
    "        '国立音大の先生を探しているのですが。',\n",
    "        '女性の先生はいますか？ ID:1',\n",
    "        '女性の先生はいますか？ ID1',\n",
    "        '女性の先生はいますか？ MYOPE_QAID:1',\n",
    "    ],\n",
    "    'answer': [\n",
    "        'お申込時点でピアノをご家庭にお持ちでなくても、基本は問題ありません。',\n",
    "        '一般に、ピアノを習うのは早ければ早いほどいい、と言われます。',\n",
    "        '音大勤務の指定については、お申込時にご要望欄へ記入ください。個別にご相談に応じます。',\n",
    "        '女性の先生は多数在籍しております',\n",
    "        '女性の先生は多数在籍しております',\n",
    "        '女性の先生は多数在籍しております',\n",
    "    ]\n",
    "})\n",
    "display(question_answers)"
   ]
  },
  {
   "cell_type": "code",
   "execution_count": 19,
   "metadata": {
    "collapsed": false
   },
   "outputs": [
    {
     "data": {
      "text/plain": [
       "['ピアノ 持つ ない',\n",
       " 'うち 子供 ２ 歳 ピアノ 始める まだ 早い',\n",
       " '国立音大 先生 探す',\n",
       " '女性 先生 いる ＩＤ ： １',\n",
       " '女性 先生 いる ＩＤ １',\n",
       " '女性 先生 いる ＭＹＯＰＥ ＿ ＱＡＩＤ ＝ １']"
      ]
     },
     "metadata": {},
     "output_type": "display_data"
    }
   ],
   "source": [
    "'''\n",
    "形態素解析してみる\n",
    "'''\n",
    "from app.core.tokenizer.mecab_tokenizer import MecabTokenizer\n",
    "from sklearn.feature_extraction.text import TfidfVectorizer as SkTfidfVectorizer\n",
    "from sklearn.metrics.pairwise import cosine_similarity\n",
    "\n",
    "tokenized_sentences = MecabTokenizer().tokenize(question_answers['question'])\n",
    "vectorizer = SkTfidfVectorizer(use_idf=True, token_pattern=u'(?u)\\\\b\\\\w+\\\\b')\n",
    "vectorized_features = vectorizer.fit_transform(tokenized_sentences)\n",
    "\n",
    "# 接頭詞とIDが分離されてしまうため、この状態では利用できない\n",
    "display(tokenized_sentences)"
   ]
  },
  {
   "cell_type": "code",
   "execution_count": 30,
   "metadata": {
    "collapsed": false
   },
   "outputs": [
    {
     "data": {
      "text/plain": [
       "0                  ピアノ 持つ ない MYOPEQAID:11\n",
       "1    うち 子供 ２ 歳 ピアノ 始める まだ 早い MYOPEQAID:12\n",
       "2                 国立音大 先生 探す MYOPEQAID:13\n",
       "dtype: object"
      ]
     },
     "metadata": {},
     "output_type": "display_data"
    },
    {
     "name": "stdout",
     "output_type": "stream",
     "text": [
      "  (0, 7)\t0.38376993076\n",
      "  (0, 12)\t0.504611340137\n",
      "  (0, 5)\t0.504611340137\n",
      "  (0, 3)\t0.298031586345\n",
      "  (0, 0)\t0.504611340137\n",
      "  (1, 7)\t0.254539772931\n",
      "  (1, 3)\t0.197672840506\n",
      "  (1, 4)\t0.334689212577\n",
      "  (1, 11)\t0.334689212577\n",
      "  (1, 16)\t0.334689212577\n",
      "  (1, 15)\t0.334689212577\n",
      "  (1, 10)\t0.334689212577\n",
      "  (1, 6)\t0.334689212577\n",
      "  (1, 14)\t0.334689212577\n",
      "  (1, 1)\t0.334689212577\n",
      "  (2, 3)\t0.283216924987\n",
      "  (2, 9)\t0.479527938029\n",
      "  (2, 8)\t0.479527938029\n",
      "  (2, 13)\t0.479527938029\n",
      "  (2, 2)\t0.479527938029\n"
     ]
    }
   ],
   "source": [
    "'''\n",
    "形態素解析後にIDを連結させてベクトルを生成する\n",
    "'''\n",
    "question_answers =  pd.DataFrame({\n",
    "    'id': [11,12,13],\n",
    "    'question': [\n",
    "        'ピアノ持ってない',\n",
    "        'うちの子供は2歳です。ピアノを始めるにはまだ早いでしょうか？ ',\n",
    "        '国立音大の先生を探しているのですが。',\n",
    "    ],\n",
    "    'answer': [\n",
    "        'お申込時点でピアノをご家庭にお持ちでなくても、基本は問題ありません。',\n",
    "        '一般に、ピアノを習うのは早ければ早いほどいい、と言われます。',\n",
    "        '音大勤務の指定については、お申込時にご要望欄へ記入ください。個別にご相談に応じます。',\n",
    "    ]\n",
    "})\n",
    "\n",
    "from app.core.tokenizer.mecab_tokenizer import MecabTokenizer\n",
    "from sklearn.feature_extraction.text import TfidfVectorizer as SkTfidfVectorizer\n",
    "from sklearn.metrics.pairwise import cosine_similarity\n",
    "\n",
    "tokenized_sentences = MecabTokenizer().tokenize(question_answers['question'])\n",
    "question_answers['tokenized_sentences'] = tokenized_sentences\n",
    "sentences = question_answers[['tokenized_sentences', 'id']].apply(lambda x: '{} MYOPEQAID:{}'.format(x[0], x[1]), axis=1)\n",
    "# 文字列として分解されないため問題なく使用できそう\n",
    "display(sentences)\n",
    "\n",
    "vectorizer = SkTfidfVectorizer(use_idf=True, token_pattern=u'(?u)\\\\b\\\\w+\\\\b')\n",
    "vectorized_features = vectorizer.fit_transform(sentences)\n",
    "# ベクトル化は正常に実行できた\n",
    "print(vectorized_features)"
   ]
  },
  {
   "cell_type": "code",
   "execution_count": null,
   "metadata": {
    "collapsed": true
   },
   "outputs": [],
   "source": []
  }
 ],
 "metadata": {
  "kernelspec": {
   "display_name": "Python 3",
   "language": "python",
   "name": "python3"
  },
  "language_info": {
   "codemirror_mode": {
    "name": "ipython",
    "version": 3
   },
   "file_extension": ".py",
   "mimetype": "text/x-python",
   "name": "python",
   "nbconvert_exporter": "python",
   "pygments_lexer": "ipython3",
   "version": "3.5.2"
  }
 },
 "nbformat": 4,
 "nbformat_minor": 2
}
