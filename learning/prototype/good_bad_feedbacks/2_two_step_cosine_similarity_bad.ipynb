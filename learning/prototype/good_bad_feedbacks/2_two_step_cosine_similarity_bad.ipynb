{
 "cells": [
  {
   "cell_type": "markdown",
   "metadata": {},
   "source": [
    "## BadフィードバックがついているデータにはID:0を文章に追加してコサイン類似検索する\n",
    "結論、ID:0という文言をつけることで、BADフィードバックついた質問のsimilarityを少し下げることが出来た。"
   ]
  },
  {
   "cell_type": "code",
   "execution_count": 31,
   "metadata": {
    "collapsed": false
   },
   "outputs": [
    {
     "name": "stdout",
     "output_type": "stream",
     "text": [
      "prototype_dir=/Users/harada\n",
      "learning_dir=/Users\n"
     ]
    }
   ],
   "source": [
    "'''\n",
    "    プロトタイピング用のパスと、Botライブラリーパスを取得／設定します\n",
    "'''\n",
    "import sys\n",
    "import os\n",
    "\n",
    "prototype_dir = os.path.join(os.getcwd(), '..')\n",
    "prototype_dir = os.path.abspath(prototype_dir)\n",
    "\n",
    "learning_dir = os.path.join(prototype_dir, '..')\n",
    "learning_dir = os.path.abspath(learning_dir)\n",
    "os.chdir(learning_dir)\n",
    "\n",
    "if learning_dir not in sys.path:\n",
    "    sys.path.append(learning_dir)\n",
    "\n",
    "print('prototype_dir=%s\\nlearning_dir=%s' % (prototype_dir, learning_dir))"
   ]
  },
  {
   "cell_type": "code",
   "execution_count": 32,
   "metadata": {
    "collapsed": false
   },
   "outputs": [
    {
     "data": {
      "text/html": [
       "<div>\n",
       "<table border=\"1\" class=\"dataframe\">\n",
       "  <thead>\n",
       "    <tr style=\"text-align: right;\">\n",
       "      <th></th>\n",
       "      <th>id</th>\n",
       "      <th>question</th>\n",
       "    </tr>\n",
       "  </thead>\n",
       "  <tbody>\n",
       "    <tr>\n",
       "      <th>0</th>\n",
       "      <td>0</td>\n",
       "      <td>ピアノの先生を見つけたい</td>\n",
       "    </tr>\n",
       "    <tr>\n",
       "      <th>1</th>\n",
       "      <td>1</td>\n",
       "      <td>ダミーのデータ1</td>\n",
       "    </tr>\n",
       "    <tr>\n",
       "      <th>2</th>\n",
       "      <td>2</td>\n",
       "      <td>ダミーのデータ2</td>\n",
       "    </tr>\n",
       "  </tbody>\n",
       "</table>\n",
       "</div>"
      ],
      "text/plain": [
       "   id      question\n",
       "0   0  ピアノの先生を見つけたい\n",
       "1   1      ダミーのデータ1\n",
       "2   2      ダミーのデータ2"
      ]
     },
     "metadata": {},
     "output_type": "display_data"
    }
   ],
   "source": [
    "import pandas as pd\n",
    "from IPython.display import display, HTML\n",
    "\n",
    "feedbacks =  pd.DataFrame({\n",
    "    'id': [0, 1, 2],  # BadフィードバックはID:0を設定する\n",
    "    'question': [\n",
    "        'ピアノの先生を見つけたい',\n",
    "        'ダミーのデータ1',\n",
    "        'ダミーのデータ2',\n",
    "    ],\n",
    "})\n",
    "display(feedbacks)"
   ]
  },
  {
   "cell_type": "code",
   "execution_count": 33,
   "metadata": {
    "collapsed": false
   },
   "outputs": [
    {
     "data": {
      "text/html": [
       "<div>\n",
       "<table border=\"1\" class=\"dataframe\">\n",
       "  <thead>\n",
       "    <tr style=\"text-align: right;\">\n",
       "      <th></th>\n",
       "      <th>answer</th>\n",
       "      <th>id</th>\n",
       "      <th>question</th>\n",
       "    </tr>\n",
       "  </thead>\n",
       "  <tbody>\n",
       "    <tr>\n",
       "      <th>0</th>\n",
       "      <td>お申込時点でピアノをご家庭にお持ちでなくても、基本は問題ありません。</td>\n",
       "      <td>11</td>\n",
       "      <td>ピアノ持ってない</td>\n",
       "    </tr>\n",
       "    <tr>\n",
       "      <th>1</th>\n",
       "      <td>一般に、ピアノを習うのは早ければ早いほどいい、と言われます。</td>\n",
       "      <td>12</td>\n",
       "      <td>うちの子供は2歳です。ピアノを始めるにはまだ早いでしょうか？</td>\n",
       "    </tr>\n",
       "    <tr>\n",
       "      <th>2</th>\n",
       "      <td>音大勤務の指定については、お申込時にご要望欄へ記入ください。個別にご相談に応じます。</td>\n",
       "      <td>13</td>\n",
       "      <td>国立音大の先生を探しているのですが。</td>\n",
       "    </tr>\n",
       "  </tbody>\n",
       "</table>\n",
       "</div>"
      ],
      "text/plain": [
       "                                       answer  id  \\\n",
       "0          お申込時点でピアノをご家庭にお持ちでなくても、基本は問題ありません。  11   \n",
       "1              一般に、ピアノを習うのは早ければ早いほどいい、と言われます。  12   \n",
       "2  音大勤務の指定については、お申込時にご要望欄へ記入ください。個別にご相談に応じます。  13   \n",
       "\n",
       "                          question  \n",
       "0                         ピアノ持ってない  \n",
       "1  うちの子供は2歳です。ピアノを始めるにはまだ早いでしょうか？   \n",
       "2               国立音大の先生を探しているのですが。  "
      ]
     },
     "metadata": {},
     "output_type": "display_data"
    }
   ],
   "source": [
    "question_answers =  pd.DataFrame({\n",
    "    'id': [11,12,13],\n",
    "    'question': [\n",
    "        'ピアノ持ってない',\n",
    "        'うちの子供は2歳です。ピアノを始めるにはまだ早いでしょうか？ ',\n",
    "        '国立音大の先生を探しているのですが。',\n",
    "    ],\n",
    "    'answer': [\n",
    "        'お申込時点でピアノをご家庭にお持ちでなくても、基本は問題ありません。',\n",
    "        '一般に、ピアノを習うのは早ければ早いほどいい、と言われます。',\n",
    "        '音大勤務の指定については、お申込時にご要望欄へ記入ください。個別にご相談に応じます。',\n",
    "    ]\n",
    "})\n",
    "display(question_answers)"
   ]
  },
  {
   "cell_type": "code",
   "execution_count": 34,
   "metadata": {
    "collapsed": false
   },
   "outputs": [
    {
     "name": "stdout",
     "output_type": "stream",
     "text": [
      "(3, 13)\n",
      "(1, 13)\n",
      "[[ 0.28671097]\n",
      " [ 0.16723635]\n",
      " [ 0.45954803]]\n"
     ]
    }
   ],
   "source": [
    "'''\n",
    "普通のコサイン類似検索をする\n",
    "'''\n",
    "from app.core.tokenizer.mecab_tokenizer import MecabTokenizer\n",
    "from sklearn.feature_extraction.text import TfidfVectorizer as SkTfidfVectorizer\n",
    "from sklearn.metrics.pairwise import cosine_similarity\n",
    "\n",
    "tokenized_sentences = MecabTokenizer().tokenize(question_answers['question'])\n",
    "vectorizer = SkTfidfVectorizer(use_idf=True, token_pattern=u'(?u)\\\\b\\\\w+\\\\b')\n",
    "vectorized_features = vectorizer.fit_transform(tokenized_sentences)\n",
    "\n",
    "print(vectorized_features.toarray().shape)\n",
    "\n",
    "\n",
    "X = ['ピアノの先生を見つけたいです']\n",
    "tokenized_questions = MecabTokenizer().tokenize(X)\n",
    "vectorized_questions = vectorizer.transform(tokenized_questions)\n",
    "\n",
    "print(vectorized_questions.toarray().shape)\n",
    "\n",
    "similarities = cosine_similarity(vectorized_features, vectorized_questions)\n",
    "\n",
    "# question_answersのid:13のデータが類似度が高いという結果が出る\n",
    "print(similarities)"
   ]
  },
  {
   "cell_type": "code",
   "execution_count": 35,
   "metadata": {
    "collapsed": false
   },
   "outputs": [
    {
     "name": "stdout",
     "output_type": "stream",
     "text": [
      "(3, 13)\n",
      "(1, 13)\n"
     ]
    },
    {
     "data": {
      "text/html": [
       "<div>\n",
       "<table border=\"1\" class=\"dataframe\">\n",
       "  <thead>\n",
       "    <tr style=\"text-align: right;\">\n",
       "      <th></th>\n",
       "      <th>id</th>\n",
       "      <th>question</th>\n",
       "      <th>similarity</th>\n",
       "    </tr>\n",
       "  </thead>\n",
       "  <tbody>\n",
       "    <tr>\n",
       "      <th>0</th>\n",
       "      <td>0</td>\n",
       "      <td>ピアノの先生を見つけたい</td>\n",
       "      <td>1.0</td>\n",
       "    </tr>\n",
       "    <tr>\n",
       "      <th>1</th>\n",
       "      <td>1</td>\n",
       "      <td>ダミーのデータ1</td>\n",
       "      <td>0.0</td>\n",
       "    </tr>\n",
       "    <tr>\n",
       "      <th>2</th>\n",
       "      <td>2</td>\n",
       "      <td>ダミーのデータ2</td>\n",
       "      <td>0.0</td>\n",
       "    </tr>\n",
       "  </tbody>\n",
       "</table>\n",
       "</div>"
      ],
      "text/plain": [
       "   id      question  similarity\n",
       "0   0  ピアノの先生を見つけたい         1.0\n",
       "1   1      ダミーのデータ1         0.0\n",
       "2   2      ダミーのデータ2         0.0"
      ]
     },
     "metadata": {},
     "output_type": "display_data"
    },
    {
     "data": {
      "text/html": [
       "<div>\n",
       "<table border=\"1\" class=\"dataframe\">\n",
       "  <thead>\n",
       "    <tr style=\"text-align: right;\">\n",
       "      <th></th>\n",
       "      <th>id</th>\n",
       "      <th>question</th>\n",
       "      <th>similarity</th>\n",
       "    </tr>\n",
       "  </thead>\n",
       "  <tbody>\n",
       "    <tr>\n",
       "      <th>0</th>\n",
       "      <td>0</td>\n",
       "      <td>ピアノの先生を見つけたい</td>\n",
       "      <td>1.0</td>\n",
       "    </tr>\n",
       "  </tbody>\n",
       "</table>\n",
       "</div>"
      ],
      "text/plain": [
       "   id      question  similarity\n",
       "0   0  ピアノの先生を見つけたい         1.0"
      ]
     },
     "metadata": {},
     "output_type": "display_data"
    },
    {
     "name": "stdout",
     "output_type": "stream",
     "text": [
      "0\n"
     ]
    }
   ],
   "source": [
    "'''\n",
    "feedbacksからコサイン類似検索してidを取得する\n",
    "'''\n",
    "questions = feedbacks['question']\n",
    "tokenized_sentences = MecabTokenizer().tokenize(questions)\n",
    "vectorized_features = vectorizer.transform(tokenized_sentences)\n",
    "print(vectorized_features.toarray().shape)\n",
    "\n",
    "X = ['ピアノの先生を見つけたいです']\n",
    "tokenized_questions = MecabTokenizer().tokenize(X)\n",
    "vectorized_questions = vectorizer.transform(tokenized_questions)\n",
    "print(vectorized_questions.toarray().shape)\n",
    "\n",
    "similarities = cosine_similarity(vectorized_features, vectorized_questions)\n",
    "similarities = similarities.flatten()\n",
    "feedbacks['similarity'] = similarities\n",
    "\n",
    "# 最もsimilarityが高いidを取得する\n",
    "display(feedbacks)\n",
    "feedbacks = feedbacks.sort_values(by='similarity', ascending=False)\n",
    "display(feedbacks[:1])\n",
    "predicted_id = feedbacks[:1]['id'][0]\n",
    "print(predicted_id)"
   ]
  },
  {
   "cell_type": "code",
   "execution_count": 36,
   "metadata": {
    "collapsed": false
   },
   "outputs": [
    {
     "data": {
      "text/plain": [
       "0                           ピアノ持ってない 11\n",
       "1    うちの子供は2歳です。ピアノを始めるにはまだ早いでしょうか？  12\n",
       "2                 国立音大の先生を探しているのですが。 13\n",
       "dtype: object"
      ]
     },
     "metadata": {},
     "output_type": "display_data"
    },
    {
     "name": "stdout",
     "output_type": "stream",
     "text": [
      "['ピアノ 持つ ない １１', 'うち 子供 ２ 歳 ピアノ 始める まだ 早い １２', '国立音大 先生 探す １３']\n",
      "(3, 16)\n",
      "['ピアノの先生を見つけたいです 0']\n",
      "['ピアノ 先生 見つける ０']\n",
      "(1, 16)\n"
     ]
    },
    {
     "data": {
      "text/plain": [
       "array([[ 0.24337446],\n",
       "       [ 0.15718688],\n",
       "       [ 0.39798027]])"
      ]
     },
     "metadata": {},
     "output_type": "display_data"
    }
   ],
   "source": [
    "'''\n",
    "idを加えて普通のコサイン類似検索をする\n",
    "'''\n",
    "from app.core.tokenizer.mecab_tokenizer import MecabTokenizer\n",
    "from sklearn.feature_extraction.text import TfidfVectorizer as SkTfidfVectorizer\n",
    "from sklearn.metrics.pairwise import cosine_similarity\n",
    "\n",
    "questions = question_answers['question']\n",
    "questions = question_answers[['question', 'id']].apply(lambda x: '{} {}'.format(x[0], x[1]), axis=1)\n",
    "display(questions)\n",
    "\n",
    "tokenized_sentences = MecabTokenizer().tokenize(questions)\n",
    "print(tokenized_sentences)\n",
    "vectorized_features = vectorizer.fit_transform(tokenized_sentences)\n",
    "print(vectorized_features.toarray().shape)\n",
    "\n",
    "X = ['ピアノの先生を見つけたいです']\n",
    "X_new = [X[0] + ' ' + str(predicted_id)]\n",
    "print(X_new)\n",
    "tokenized_questions = MecabTokenizer().tokenize(X_new)\n",
    "print(tokenized_questions)\n",
    "vectorized_questions = vectorizer.transform(tokenized_questions)\n",
    "print(vectorized_questions.toarray().shape)\n",
    "\n",
    "# idを加えてコサイン類似検索することで、正解データのｓimilarityが  0.45954803 => 0.39798027 となり、わずかに下がった。\n",
    "# 十分ではないがある程度想定していた方向の挙動となった\n",
    "similarities = cosine_similarity(vectorized_features, vectorized_questions)\n",
    "display(similarities)"
   ]
  },
  {
   "cell_type": "code",
   "execution_count": null,
   "metadata": {
    "collapsed": true
   },
   "outputs": [],
   "source": []
  },
  {
   "cell_type": "code",
   "execution_count": null,
   "metadata": {
    "collapsed": true
   },
   "outputs": [],
   "source": []
  },
  {
   "cell_type": "code",
   "execution_count": null,
   "metadata": {
    "collapsed": true
   },
   "outputs": [],
   "source": []
  },
  {
   "cell_type": "code",
   "execution_count": null,
   "metadata": {
    "collapsed": true
   },
   "outputs": [],
   "source": []
  }
 ],
 "metadata": {
  "kernelspec": {
   "display_name": "Python 3",
   "language": "python",
   "name": "python3"
  },
  "language_info": {
   "codemirror_mode": {
    "name": "ipython",
    "version": 3
   },
   "file_extension": ".py",
   "mimetype": "text/x-python",
   "name": "python",
   "nbconvert_exporter": "python",
   "pygments_lexer": "ipython3",
   "version": "3.5.2"
  }
 },
 "nbformat": 4,
 "nbformat_minor": 2
}
