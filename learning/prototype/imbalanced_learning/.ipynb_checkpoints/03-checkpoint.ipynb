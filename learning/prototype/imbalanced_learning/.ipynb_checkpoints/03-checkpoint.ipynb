{
 "cells": [
  {
   "cell_type": "markdown",
   "metadata": {
    "deletable": true,
    "editable": true
   },
   "source": [
    "# アンダーサンプリングの機能比較（NearMiss以外）\n",
    "\n",
    "scikit-learn の派生プロジェクト imbalanced-learn の <b>Under-sampling methods</b> について、アンダーサンプリングのされ方の違いを比較します。\n",
    "\n",
    "続いて、NearMiss 以外のアンダーサンプリング手法について調査しましたが、いずれも本件問題解決には使用できないと判断しております。"
   ]
  },
  {
   "cell_type": "markdown",
   "metadata": {
    "deletable": true,
    "editable": true
   },
   "source": [
    "## (1) テストデータ／環境準備\n",
    "\n",
    "マイオペで使用しているテストデータ（learning/tests/engine/fixtures/ 配下のCSVファイル）をベースに動作確認を行います。\n",
    "\n",
    "動作確認にあたっては、MySQLdb に接続できないため、ローカル環境テスト用の Bot クラスを使用しています。"
   ]
  },
  {
   "cell_type": "code",
   "execution_count": 1,
   "metadata": {
    "collapsed": false,
    "deletable": true,
    "editable": true
   },
   "outputs": [],
   "source": [
    "'''\n",
    "    テスト環境を準備するためのモジュールを使用します。\n",
    "'''\n",
    "import sys\n",
    "import os\n",
    "learning_dir = os.path.abspath(\"../../\") #<--- donusagi-bot/learning\n",
    "os.chdir(learning_dir)\n",
    "\n",
    "if learning_dir not in sys.path:\n",
    "    sys.path.append(learning_dir)\n",
    "\n",
    "from prototype.modules import TestTool"
   ]
  },
  {
   "cell_type": "code",
   "execution_count": 2,
   "metadata": {
    "collapsed": false,
    "deletable": true,
    "editable": true,
    "scrolled": false
   },
   "outputs": [
    {
     "name": "stdout",
     "output_type": "stream",
     "text": [
      "CSV file for test=[/Users/makmorit/GitHub/donusagi-bot/learning/prototype/resources/test_benefitone_conversation.csv]\n"
     ]
    }
   ],
   "source": [
    "'''\n",
    "    データファイルは、既存の訓練データを別場所にコピーしてから使用します\n",
    "    テストデータは、csv_file_name で指定したものを使用します。\n",
    "'''\n",
    "csv_file_name = 'test_benefitone_conversation.csv'\n",
    "copied_csv_file_path = TestTool.copy_testdata_csv(learning_dir, csv_file_name)"
   ]
  },
  {
   "cell_type": "markdown",
   "metadata": {
    "deletable": true,
    "editable": true
   },
   "source": [
    "## (2) TF-IDFベクターの準備\n",
    "\n",
    "Bot クラス内に組み込まれている __build_training_set_from_csv 関数をバラして実行しています。"
   ]
  },
  {
   "cell_type": "code",
   "execution_count": 3,
   "metadata": {
    "collapsed": false,
    "deletable": true,
    "editable": true
   },
   "outputs": [],
   "source": [
    "'''\n",
    "    初期設定\n",
    "    データファイル、エンコードを指定\n",
    "    内容は、learn.py を参考にしました。    \n",
    "'''\n",
    "from learning.core.learn.learning_parameter import LearningParameter\n",
    "attr = {\n",
    "    'include_failed_data': False,\n",
    "    'include_tag_vector': False,\n",
    "    'classify_threshold': None,\n",
    "    # 'algorithm': LearningParameter.ALGORITHM_NAIVE_BAYES\n",
    "    'algorithm': LearningParameter.ALGORITHM_LOGISTIC_REGRESSION,\n",
    "    # 'params_for_algorithm': { 'C': 200 }\n",
    "    'params_for_algorithm': {}\n",
    "}\n",
    "learning_parameter = LearningParameter(attr)\n",
    "\n",
    "bot_id = 7777\n",
    "csv_file_path = copied_csv_file_path\n",
    "csv_file_encoding = 'utf-8'"
   ]
  },
  {
   "cell_type": "code",
   "execution_count": 4,
   "metadata": {
    "collapsed": false,
    "deletable": true,
    "editable": true,
    "scrolled": true
   },
   "outputs": [
    {
     "name": "stderr",
     "output_type": "stream",
     "text": [
      "TrainingMessageFromCsv#__build_learning_training_messages count of learning data: 4114\n",
      "2017/03/14 PM 07:05:20 TrainingMessageFromCsv#__build_learning_training_messages count of learning data: 4114\n",
      "TextArray#__init__ start\n",
      "2017/03/14 PM 07:05:20 TextArray#__init__ start\n",
      "TextArray#to_vec start\n",
      "2017/03/14 PM 07:05:20 TextArray#to_vec start\n",
      "TextArray#to_vec end\n",
      "2017/03/14 PM 07:05:23 TextArray#to_vec end\n",
      "[[ 0.  0.  0. ...,  0.  0.  0.]\n",
      " [ 0.  0.  0. ...,  0.  0.  0.]\n",
      " [ 0.  0.  0. ...,  0.  0.  0.]\n",
      " ..., \n",
      " [ 0.  0.  0. ...,  0.  0.  0.]\n",
      " [ 0.  0.  0. ...,  0.  0.  0.]\n",
      " [ 0.  0.  0. ...,  0.  0.  0.]]\n",
      "2017/03/14 PM 07:05:23 [[ 0.  0.  0. ...,  0.  0.  0.]\n",
      " [ 0.  0.  0. ...,  0.  0.  0.]\n",
      " [ 0.  0.  0. ...,  0.  0.  0.]\n",
      " ..., \n",
      " [ 0.  0.  0. ...,  0.  0.  0.]\n",
      " [ 0.  0.  0. ...,  0.  0.  0.]\n",
      " [ 0.  0.  0. ...,  0.  0.  0.]]\n"
     ]
    }
   ],
   "source": [
    "'''\n",
    "    訓練データの生成（内部で TF-IDF 処理を実行）\n",
    "'''\n",
    "from learning.core.training_set.training_message_from_csv import TrainingMessageFromCsv\n",
    "training_set = TrainingMessageFromCsv(bot_id, csv_file_path, learning_parameter, encoding=csv_file_encoding)\n",
    "build_training_set_from_csv = training_set.build()"
   ]
  },
  {
   "cell_type": "code",
   "execution_count": 5,
   "metadata": {
    "collapsed": false,
    "deletable": true,
    "editable": true,
    "scrolled": false
   },
   "outputs": [
    {
     "data": {
      "text/plain": [
       "[[4677, 14],\n",
       " [4678, 2584],\n",
       " [4679, 14],\n",
       " [4680, 14],\n",
       " [4683, 14],\n",
       " [4686, 14],\n",
       " [4687, 8],\n",
       " [4690, 8],\n",
       " [4691, 14],\n",
       " [4692, 44],\n",
       " [4693, 30],\n",
       " [4700, 12],\n",
       " [4707, 18],\n",
       " [4708, 14],\n",
       " [4709, 14],\n",
       " [4710, 14],\n",
       " [4711, 14],\n",
       " [4712, 16],\n",
       " [4713, 14],\n",
       " [4718, 20],\n",
       " [4719, 8],\n",
       " [4720, 20],\n",
       " [4721, 8],\n",
       " [4724, 8],\n",
       " [4727, 14],\n",
       " [4728, 62],\n",
       " [4729, 26],\n",
       " [4730, 20],\n",
       " [4731, 14],\n",
       " [4732, 22],\n",
       " [4733, 14],\n",
       " [4734, 34],\n",
       " [4735, 12],\n",
       " [4738, 14],\n",
       " [4739, 14],\n",
       " [4740, 14],\n",
       " [4741, 8],\n",
       " [4742, 20],\n",
       " [4743, 14],\n",
       " [4744, 14],\n",
       " [4745, 20],\n",
       " [4750, 22],\n",
       " [4751, 20],\n",
       " [4752, 14],\n",
       " [4753, 8],\n",
       " [4754, 8],\n",
       " [4755, 14],\n",
       " [4756, 20],\n",
       " [4757, 8],\n",
       " [4758, 28],\n",
       " [4759, 14],\n",
       " [4760, 8],\n",
       " [4761, 20],\n",
       " [4762, 8],\n",
       " [4766, 14],\n",
       " [4767, 14],\n",
       " [4772, 60],\n",
       " [4776, 8],\n",
       " [4781, 14],\n",
       " [4782, 14],\n",
       " [4783, 20],\n",
       " [4786, 8],\n",
       " [4792, 20],\n",
       " [4793, 8],\n",
       " [4794, 8],\n",
       " [4795, 14],\n",
       " [4797, 42],\n",
       " [4798, 36],\n",
       " [4800, 14],\n",
       " [4802, 14],\n",
       " [4804, 14],\n",
       " [4807, 8],\n",
       " [4808, 106],\n",
       " [4817, 26],\n",
       " [4821, 24],\n",
       " [4824, 16],\n",
       " [4827, 8],\n",
       " [4830, 22],\n",
       " [4831, 14],\n",
       " [4833, 14],\n",
       " [4834, 14],\n",
       " [4835, 36],\n",
       " [4836, 30],\n",
       " [4837, 8]]"
      ]
     },
     "execution_count": 5,
     "metadata": {},
     "output_type": "execute_result"
    }
   ],
   "source": [
    "'''\n",
    "    ラベルごとのサンプル数を調査します。\n",
    "'''\n",
    "X = build_training_set_from_csv.x\n",
    "y = build_training_set_from_csv.y\n",
    "count = TestTool.count_sample_by_label(y)\n",
    "count"
   ]
  },
  {
   "cell_type": "markdown",
   "metadata": {
    "deletable": true,
    "editable": true
   },
   "source": [
    "## (3) 各種アンダーサンプリングの実行"
   ]
  },
  {
   "cell_type": "markdown",
   "metadata": {
    "deletable": true,
    "editable": true
   },
   "source": [
    "### (3-1) Tomek links　<---使えません\n",
    "\n",
    "２項ラベル以外には適用できないようです（警告ご参照）。多項ラベルを渡すと、サンプルがそのまま戻ってしまいます。"
   ]
  },
  {
   "cell_type": "code",
   "execution_count": 6,
   "metadata": {
    "collapsed": false,
    "deletable": true,
    "editable": true,
    "scrolled": true
   },
   "outputs": [
    {
     "name": "stderr",
     "output_type": "stream",
     "text": [
      "/Library/Frameworks/Python.framework/Versions/3.5/lib/python3.5/site-packages/imblearn/base.py:306: UserWarning: The target type should be binary.\n",
      "  warnings.warn('The target type should be binary.')\n"
     ]
    },
    {
     "data": {
      "text/plain": [
       "[[4677, 14],\n",
       " [4678, 2584],\n",
       " [4679, 14],\n",
       " [4680, 14],\n",
       " [4683, 14],\n",
       " [4686, 14],\n",
       " [4687, 8],\n",
       " [4690, 8],\n",
       " [4691, 14],\n",
       " [4692, 44]]"
      ]
     },
     "execution_count": 6,
     "metadata": {},
     "output_type": "execute_result"
    }
   ],
   "source": [
    "'''\n",
    "    Tomek links with default\n",
    "'''\n",
    "from imblearn.under_sampling import TomekLinks\n",
    "tl = TomekLinks()\n",
    "_, y_resampled = tl.fit_sample(X, y)\n",
    "'''\n",
    "    リサンプルされたラベルごとのサンプル数を調査します。\n",
    "'''\n",
    "count = TestTool.count_sample_by_label(y_resampled)\n",
    "count[:10]"
   ]
  },
  {
   "cell_type": "markdown",
   "metadata": {
    "deletable": true,
    "editable": true
   },
   "source": [
    "### (3-2) Cluster centroids\n",
    "\n",
    "最小サンプル数に合わせてアンダーサンプリングされる動きとなりました。"
   ]
  },
  {
   "cell_type": "code",
   "execution_count": 7,
   "metadata": {
    "collapsed": false,
    "deletable": true,
    "editable": true,
    "scrolled": true
   },
   "outputs": [
    {
     "data": {
      "text/plain": [
       "[[4677, 8],\n",
       " [4678, 8],\n",
       " [4679, 8],\n",
       " [4680, 8],\n",
       " [4683, 8],\n",
       " [4686, 8],\n",
       " [4687, 8],\n",
       " [4690, 8],\n",
       " [4691, 8],\n",
       " [4692, 8]]"
      ]
     },
     "execution_count": 7,
     "metadata": {},
     "output_type": "execute_result"
    }
   ],
   "source": [
    "'''\n",
    "    Cluster centroids with default\n",
    "'''\n",
    "from imblearn.under_sampling import ClusterCentroids\n",
    "cc = ClusterCentroids()\n",
    "_, y_resampled = cc.fit_sample(X, y)\n",
    "'''\n",
    "    リサンプルされたラベルごとのサンプル数を調査します。\n",
    "'''\n",
    "count = TestTool.count_sample_by_label(y_resampled)\n",
    "count[:10]"
   ]
  },
  {
   "cell_type": "markdown",
   "metadata": {
    "deletable": true,
    "editable": true
   },
   "source": [
    "### (3-3) One-sided selection　<---使えません\n",
    "\n",
    "２項ラベル以外には適用できないようです（警告ご参照）。多項ラベルを渡すと、サンプリング結果が異常となります。"
   ]
  },
  {
   "cell_type": "code",
   "execution_count": 8,
   "metadata": {
    "collapsed": false,
    "deletable": true,
    "editable": true,
    "scrolled": false
   },
   "outputs": [
    {
     "name": "stderr",
     "output_type": "stream",
     "text": [
      "/Library/Frameworks/Python.framework/Versions/3.5/lib/python3.5/site-packages/imblearn/base.py:306: UserWarning: The target type should be binary.\n",
      "  warnings.warn('The target type should be binary.')\n"
     ]
    },
    {
     "data": {
      "text/plain": [
       "[[4677, 1],\n",
       " [4678, 2539],\n",
       " [4679, 1],\n",
       " [4680, 1],\n",
       " [4683, 1],\n",
       " [4686, 1],\n",
       " [4687, 1],\n",
       " [4690, 1],\n",
       " [4691, 1],\n",
       " [4692, 13]]"
      ]
     },
     "execution_count": 8,
     "metadata": {},
     "output_type": "execute_result"
    }
   ],
   "source": [
    "'''\n",
    "    One-sided selection with default\n",
    "'''\n",
    "from imblearn.under_sampling import OneSidedSelection\n",
    "oss = OneSidedSelection()\n",
    "_, y_resampled = oss.fit_sample(X, y)\n",
    "'''\n",
    "    リサンプルされたラベルごとのサンプル数を調査します。\n",
    "'''\n",
    "count = TestTool.count_sample_by_label(y_resampled)\n",
    "count[:10]"
   ]
  },
  {
   "cell_type": "markdown",
   "metadata": {
    "deletable": true,
    "editable": true
   },
   "source": [
    "### (3-4) Random under-sampling\n",
    "\n",
    "最小サンプル数に合わせてアンダーサンプリングされる動きとなりました。"
   ]
  },
  {
   "cell_type": "code",
   "execution_count": 9,
   "metadata": {
    "collapsed": false,
    "deletable": true,
    "editable": true,
    "scrolled": true
   },
   "outputs": [
    {
     "data": {
      "text/plain": [
       "[[4677, 8],\n",
       " [4678, 8],\n",
       " [4679, 8],\n",
       " [4680, 8],\n",
       " [4683, 8],\n",
       " [4686, 8],\n",
       " [4687, 8],\n",
       " [4690, 8],\n",
       " [4691, 8],\n",
       " [4692, 8]]"
      ]
     },
     "execution_count": 9,
     "metadata": {},
     "output_type": "execute_result"
    }
   ],
   "source": [
    "'''\n",
    "    Random under-sampling with default\n",
    "'''\n",
    "from imblearn.under_sampling import RandomUnderSampler\n",
    "rus = RandomUnderSampler()\n",
    "_, y_resampled = rus.fit_sample(X, y)\n",
    "'''\n",
    "    リサンプルされたラベルごとのサンプル数を調査します。\n",
    "'''\n",
    "count = TestTool.count_sample_by_label(y_resampled)\n",
    "count[:10]"
   ]
  },
  {
   "cell_type": "markdown",
   "metadata": {
    "deletable": true,
    "editable": true
   },
   "source": [
    "### (3-5) Edited nearest-neighbours\n",
    "\n",
    "majority ラベルでも、アンダーサンプリングの度合いが弱いようです。"
   ]
  },
  {
   "cell_type": "code",
   "execution_count": 10,
   "metadata": {
    "collapsed": false,
    "deletable": true,
    "editable": true,
    "scrolled": true
   },
   "outputs": [
    {
     "data": {
      "text/plain": [
       "[[4677, 14],\n",
       " [4678, 2430],\n",
       " [4679, 14],\n",
       " [4680, 14],\n",
       " [4683, 14],\n",
       " [4686, 14],\n",
       " [4687, 8],\n",
       " [4690, 6],\n",
       " [4691, 14],\n",
       " [4692, 42]]"
      ]
     },
     "execution_count": 10,
     "metadata": {},
     "output_type": "execute_result"
    }
   ],
   "source": [
    "'''\n",
    "    Edited nearest-neighbours with default\n",
    "'''\n",
    "from imblearn.under_sampling import EditedNearestNeighbours\n",
    "enn = EditedNearestNeighbours()\n",
    "_, y_resampled = enn.fit_sample(X, y)\n",
    "'''\n",
    "    リサンプルされたラベルごとのサンプル数を調査します。\n",
    "'''\n",
    "count = TestTool.count_sample_by_label(y_resampled)\n",
    "count[:10]"
   ]
  },
  {
   "cell_type": "markdown",
   "metadata": {
    "deletable": true,
    "editable": true
   },
   "source": [
    "### (3-6) Neighbourhood Cleaning Rule\n",
    "\n",
    "majority ラベルでも、アンダーサンプリングの度合いが弱いようです。"
   ]
  },
  {
   "cell_type": "code",
   "execution_count": 11,
   "metadata": {
    "collapsed": false,
    "deletable": true,
    "editable": true,
    "scrolled": true
   },
   "outputs": [
    {
     "data": {
      "text/plain": [
       "[[4677, 14],\n",
       " [4678, 2480],\n",
       " [4679, 14],\n",
       " [4680, 14],\n",
       " [4683, 14],\n",
       " [4686, 14],\n",
       " [4687, 8],\n",
       " [4690, 8],\n",
       " [4691, 14],\n",
       " [4692, 42]]"
      ]
     },
     "execution_count": 11,
     "metadata": {},
     "output_type": "execute_result"
    }
   ],
   "source": [
    "'''\n",
    "    Neighbourhood Cleaning Rule with default\n",
    "'''\n",
    "from imblearn.under_sampling import NeighbourhoodCleaningRule\n",
    "ncl = NeighbourhoodCleaningRule()\n",
    "_, y_resampled = ncl.fit_sample(X, y)\n",
    "'''\n",
    "    リサンプルされたラベルごとのサンプル数を調査します。\n",
    "'''\n",
    "count = TestTool.count_sample_by_label(y_resampled)\n",
    "count[:10]"
   ]
  },
  {
   "cell_type": "markdown",
   "metadata": {
    "deletable": true,
    "editable": true
   },
   "source": [
    "### (3-7) Condensed nearest-neighbour\n",
    "\n",
    "majority がかなり削除されてしまう動きとなりました。"
   ]
  },
  {
   "cell_type": "code",
   "execution_count": 12,
   "metadata": {
    "collapsed": false,
    "deletable": true,
    "editable": true,
    "scrolled": true
   },
   "outputs": [
    {
     "data": {
      "text/plain": [
       "[[4677, 1],\n",
       " [4678, 85],\n",
       " [4679, 1],\n",
       " [4680, 1],\n",
       " [4683, 1],\n",
       " [4686, 1],\n",
       " [4687, 1],\n",
       " [4690, 1],\n",
       " [4691, 1],\n",
       " [4692, 3]]"
      ]
     },
     "execution_count": 12,
     "metadata": {},
     "output_type": "execute_result"
    }
   ],
   "source": [
    "'''\n",
    "    Neighbourhood Cleaning Rule with default\n",
    "'''\n",
    "from imblearn.under_sampling import CondensedNearestNeighbour\n",
    "cnn = CondensedNearestNeighbour()\n",
    "_, y_resampled = cnn.fit_sample(X, y)\n",
    "'''\n",
    "    リサンプルされたラベルごとのサンプル数を調査します。\n",
    "'''\n",
    "count = TestTool.count_sample_by_label(y_resampled)\n",
    "count[:10]"
   ]
  },
  {
   "cell_type": "markdown",
   "metadata": {
    "deletable": true,
    "editable": true
   },
   "source": [
    "### (3-8) Instance Hardness Threshold　<---使えません\n",
    "\n",
    "２項ラベル以外には適用できないようです（警告ご参照）。多項ラベルを渡すと、サンプリング結果が異常となります。"
   ]
  },
  {
   "cell_type": "code",
   "execution_count": 13,
   "metadata": {
    "collapsed": false,
    "deletable": true,
    "editable": true,
    "scrolled": false
   },
   "outputs": [
    {
     "name": "stderr",
     "output_type": "stream",
     "text": [
      "/Library/Frameworks/Python.framework/Versions/3.5/lib/python3.5/site-packages/imblearn/base.py:306: UserWarning: The target type should be binary.\n",
      "  warnings.warn('The target type should be binary.')\n"
     ]
    },
    {
     "data": {
      "text/plain": [
       "[[4677, 4],\n",
       " [4678, 2322],\n",
       " [4679, 4],\n",
       " [4680, 13],\n",
       " [4683, 9],\n",
       " [4686, 9],\n",
       " [4687, 8],\n",
       " [4690, 4],\n",
       " [4691, 8],\n",
       " [4692, 35]]"
      ]
     },
     "execution_count": 13,
     "metadata": {},
     "output_type": "execute_result"
    }
   ],
   "source": [
    "'''\n",
    "    Instance Hardness Threshold with default\n",
    "'''\n",
    "from imblearn.under_sampling import InstanceHardnessThreshold\n",
    "iht = InstanceHardnessThreshold(ratio=0.5)\n",
    "_, y_res = iht.fit_sample(X, y)\n",
    "'''\n",
    "    リサンプルされたラベルごとのサンプル数を調査します。\n",
    "'''\n",
    "count = TestTool.count_sample_by_label(y_res)\n",
    "count[:10]"
   ]
  },
  {
   "cell_type": "markdown",
   "metadata": {
    "deletable": true,
    "editable": true
   },
   "source": [
    "### (3-9) Repeated Edited nearest-neighbours\n",
    "\n",
    "majority ラベルでも、アンダーサンプリングの度合いが弱いようです。"
   ]
  },
  {
   "cell_type": "code",
   "execution_count": 14,
   "metadata": {
    "collapsed": false,
    "deletable": true,
    "editable": true,
    "scrolled": true
   },
   "outputs": [
    {
     "data": {
      "text/plain": [
       "[[4677, 14],\n",
       " [4678, 2584],\n",
       " [4679, 14],\n",
       " [4680, 14],\n",
       " [4683, 14],\n",
       " [4686, 14],\n",
       " [4687, 8],\n",
       " [4690, 8],\n",
       " [4691, 14],\n",
       " [4692, 44]]"
      ]
     },
     "execution_count": 14,
     "metadata": {},
     "output_type": "execute_result"
    }
   ],
   "source": [
    "'''\n",
    "    Repeated Edited nearest-neighbours with default\n",
    "'''\n",
    "from imblearn.under_sampling import RepeatedEditedNearestNeighbours\n",
    "renn = RepeatedEditedNearestNeighbours()\n",
    "_, y_resampled = renn.fit_sample(X, y)\n",
    "'''\n",
    "    リサンプルされたラベルごとのサンプル数を調査します。\n",
    "'''\n",
    "count = TestTool.count_sample_by_label(y_resampled)\n",
    "count[:10]"
   ]
  },
  {
   "cell_type": "markdown",
   "metadata": {
    "deletable": true,
    "editable": true
   },
   "source": [
    "### (3-10) AllKNN\n",
    "\n",
    "majority ラベルでも、アンダーサンプリングの度合いが弱いようです。"
   ]
  },
  {
   "cell_type": "code",
   "execution_count": 15,
   "metadata": {
    "collapsed": false,
    "deletable": true,
    "editable": true,
    "scrolled": true
   },
   "outputs": [
    {
     "data": {
      "text/plain": [
       "[[4677, 14],\n",
       " [4678, 2584],\n",
       " [4679, 14],\n",
       " [4680, 14],\n",
       " [4683, 14],\n",
       " [4686, 14],\n",
       " [4687, 8],\n",
       " [4690, 8],\n",
       " [4691, 14],\n",
       " [4692, 44]]"
      ]
     },
     "execution_count": 15,
     "metadata": {},
     "output_type": "execute_result"
    }
   ],
   "source": [
    "'''\n",
    "    Repeated Edited nearest-neighbours with default\n",
    "'''\n",
    "from imblearn.under_sampling import AllKNN\n",
    "allknn = AllKNN()\n",
    "_, y_resampled = allknn.fit_sample(X, y)\n",
    "'''\n",
    "    リサンプルされたラベルごとのサンプル数を調査します。\n",
    "'''\n",
    "count = TestTool.count_sample_by_label(y_resampled)\n",
    "count[:10]"
   ]
  }
 ],
 "metadata": {
  "kernelspec": {
   "display_name": "Python 3",
   "language": "python",
   "name": "python3"
  },
  "language_info": {
   "codemirror_mode": {
    "name": "ipython",
    "version": 3
   },
   "file_extension": ".py",
   "mimetype": "text/x-python",
   "name": "python",
   "nbconvert_exporter": "python",
   "pygments_lexer": "ipython3",
   "version": "3.5.2"
  }
 },
 "nbformat": 4,
 "nbformat_minor": 2
}
