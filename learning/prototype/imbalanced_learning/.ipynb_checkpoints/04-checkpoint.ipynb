{
 "cells": [
  {
   "cell_type": "markdown",
   "metadata": {
    "deletable": true,
    "editable": true
   },
   "source": [
    "# オーバーサンプリングの機能比較\n",
    "\n",
    "scikit-learn の派生プロジェクト imbalanced-learn の <b>Over-sampling methods</b> について、オーバーサンプリングのされ方の違いを比較します。\n",
    "\n",
    "いずれも本件問題解決には利用できないと判断しております。"
   ]
  },
  {
   "cell_type": "markdown",
   "metadata": {
    "deletable": true,
    "editable": true
   },
   "source": [
    "## (1) テストデータ／環境準備\n",
    "\n",
    "マイオペで使用しているテストデータ（learning/tests/engine/fixtures/ 配下のCSVファイル）をベースに動作確認を行います。\n",
    "\n",
    "動作確認にあたっては、MySQLdb に接続できないため、ローカル環境テスト用の Bot クラスを使用しています。"
   ]
  },
  {
   "cell_type": "code",
   "execution_count": 1,
   "metadata": {
    "collapsed": false,
    "deletable": true,
    "editable": true
   },
   "outputs": [],
   "source": [
    "'''\n",
    "    テスト環境を準備するためのモジュールを使用します。\n",
    "'''\n",
    "import sys\n",
    "import os\n",
    "learning_dir = os.path.abspath(\"../../\") #<--- donusagi-bot/learning\n",
    "os.chdir(learning_dir)\n",
    "\n",
    "if learning_dir not in sys.path:\n",
    "    sys.path.append(learning_dir)\n",
    "\n",
    "from prototype.modules import TestTool"
   ]
  },
  {
   "cell_type": "code",
   "execution_count": 2,
   "metadata": {
    "collapsed": false,
    "deletable": true,
    "editable": true,
    "scrolled": false
   },
   "outputs": [
    {
     "name": "stdout",
     "output_type": "stream",
     "text": [
      "CSV file for test=[/Users/makmorit/GitHub/donusagi-bot/learning/prototype/resources/test_benefitone_conversation.csv]\n"
     ]
    }
   ],
   "source": [
    "'''\n",
    "    データファイルは、既存の訓練データを別場所にコピーしてから使用します\n",
    "    テストデータは、csv_file_name で指定したものを使用します。\n",
    "'''\n",
    "csv_file_name = 'test_benefitone_conversation.csv'\n",
    "copied_csv_file_path = TestTool.copy_testdata_csv(learning_dir, csv_file_name)"
   ]
  },
  {
   "cell_type": "markdown",
   "metadata": {
    "deletable": true,
    "editable": true
   },
   "source": [
    "## (2) TF-IDFベクターの準備\n",
    "\n",
    "Bot クラス内に組み込まれている __build_training_set_from_csv 関数をバラして実行しています。"
   ]
  },
  {
   "cell_type": "code",
   "execution_count": 3,
   "metadata": {
    "collapsed": false,
    "deletable": true,
    "editable": true
   },
   "outputs": [],
   "source": [
    "'''\n",
    "    初期設定\n",
    "    データファイル、エンコードを指定\n",
    "    内容は、learn.py を参考にしました。    \n",
    "'''\n",
    "from learning.core.learn.learning_parameter import LearningParameter\n",
    "attr = {\n",
    "    'include_failed_data': False,\n",
    "    'include_tag_vector': False,\n",
    "    'classify_threshold': None,\n",
    "    # 'algorithm': LearningParameter.ALGORITHM_NAIVE_BAYES\n",
    "    'algorithm': LearningParameter.ALGORITHM_LOGISTIC_REGRESSION,\n",
    "    # 'params_for_algorithm': { 'C': 200 }\n",
    "    'params_for_algorithm': {}\n",
    "}\n",
    "learning_parameter = LearningParameter(attr)\n",
    "\n",
    "bot_id = 7777\n",
    "csv_file_path = copied_csv_file_path\n",
    "csv_file_encoding = 'utf-8'"
   ]
  },
  {
   "cell_type": "code",
   "execution_count": 4,
   "metadata": {
    "collapsed": false,
    "deletable": true,
    "editable": true,
    "scrolled": true
   },
   "outputs": [
    {
     "name": "stderr",
     "output_type": "stream",
     "text": [
      "TrainingMessageFromCsv#__build_learning_training_messages count of learning data: 4114\n",
      "2017/03/14 PM 07:59:48 TrainingMessageFromCsv#__build_learning_training_messages count of learning data: 4114\n",
      "TextArray#__init__ start\n",
      "2017/03/14 PM 07:59:48 TextArray#__init__ start\n",
      "TextArray#to_vec start\n",
      "2017/03/14 PM 07:59:48 TextArray#to_vec start\n",
      "TextArray#to_vec end\n",
      "2017/03/14 PM 07:59:51 TextArray#to_vec end\n",
      "[[ 0.  0.  0. ...,  0.  0.  0.]\n",
      " [ 0.  0.  0. ...,  0.  0.  0.]\n",
      " [ 0.  0.  0. ...,  0.  0.  0.]\n",
      " ..., \n",
      " [ 0.  0.  0. ...,  0.  0.  0.]\n",
      " [ 0.  0.  0. ...,  0.  0.  0.]\n",
      " [ 0.  0.  0. ...,  0.  0.  0.]]\n",
      "2017/03/14 PM 07:59:51 [[ 0.  0.  0. ...,  0.  0.  0.]\n",
      " [ 0.  0.  0. ...,  0.  0.  0.]\n",
      " [ 0.  0.  0. ...,  0.  0.  0.]\n",
      " ..., \n",
      " [ 0.  0.  0. ...,  0.  0.  0.]\n",
      " [ 0.  0.  0. ...,  0.  0.  0.]\n",
      " [ 0.  0.  0. ...,  0.  0.  0.]]\n"
     ]
    }
   ],
   "source": [
    "'''\n",
    "    訓練データの生成（内部で TF-IDF 処理を実行）\n",
    "'''\n",
    "from learning.core.training_set.training_message_from_csv import TrainingMessageFromCsv\n",
    "training_set = TrainingMessageFromCsv(bot_id, csv_file_path, learning_parameter, encoding=csv_file_encoding)\n",
    "build_training_set_from_csv = training_set.build()"
   ]
  },
  {
   "cell_type": "code",
   "execution_count": 5,
   "metadata": {
    "collapsed": false,
    "deletable": true,
    "editable": true,
    "scrolled": false
   },
   "outputs": [
    {
     "data": {
      "text/plain": [
       "[[4677, 14],\n",
       " [4678, 2584],\n",
       " [4679, 14],\n",
       " [4680, 14],\n",
       " [4683, 14],\n",
       " [4686, 14],\n",
       " [4687, 8],\n",
       " [4690, 8],\n",
       " [4691, 14],\n",
       " [4692, 44],\n",
       " [4693, 30],\n",
       " [4700, 12],\n",
       " [4707, 18],\n",
       " [4708, 14],\n",
       " [4709, 14],\n",
       " [4710, 14],\n",
       " [4711, 14],\n",
       " [4712, 16],\n",
       " [4713, 14],\n",
       " [4718, 20],\n",
       " [4719, 8],\n",
       " [4720, 20],\n",
       " [4721, 8],\n",
       " [4724, 8],\n",
       " [4727, 14],\n",
       " [4728, 62],\n",
       " [4729, 26],\n",
       " [4730, 20],\n",
       " [4731, 14],\n",
       " [4732, 22],\n",
       " [4733, 14],\n",
       " [4734, 34],\n",
       " [4735, 12],\n",
       " [4738, 14],\n",
       " [4739, 14],\n",
       " [4740, 14],\n",
       " [4741, 8],\n",
       " [4742, 20],\n",
       " [4743, 14],\n",
       " [4744, 14],\n",
       " [4745, 20],\n",
       " [4750, 22],\n",
       " [4751, 20],\n",
       " [4752, 14],\n",
       " [4753, 8],\n",
       " [4754, 8],\n",
       " [4755, 14],\n",
       " [4756, 20],\n",
       " [4757, 8],\n",
       " [4758, 28],\n",
       " [4759, 14],\n",
       " [4760, 8],\n",
       " [4761, 20],\n",
       " [4762, 8],\n",
       " [4766, 14],\n",
       " [4767, 14],\n",
       " [4772, 60],\n",
       " [4776, 8],\n",
       " [4781, 14],\n",
       " [4782, 14],\n",
       " [4783, 20],\n",
       " [4786, 8],\n",
       " [4792, 20],\n",
       " [4793, 8],\n",
       " [4794, 8],\n",
       " [4795, 14],\n",
       " [4797, 42],\n",
       " [4798, 36],\n",
       " [4800, 14],\n",
       " [4802, 14],\n",
       " [4804, 14],\n",
       " [4807, 8],\n",
       " [4808, 106],\n",
       " [4817, 26],\n",
       " [4821, 24],\n",
       " [4824, 16],\n",
       " [4827, 8],\n",
       " [4830, 22],\n",
       " [4831, 14],\n",
       " [4833, 14],\n",
       " [4834, 14],\n",
       " [4835, 36],\n",
       " [4836, 30],\n",
       " [4837, 8]]"
      ]
     },
     "execution_count": 5,
     "metadata": {},
     "output_type": "execute_result"
    }
   ],
   "source": [
    "'''\n",
    "    ラベルごとのサンプル数を調査します。\n",
    "'''\n",
    "X = build_training_set_from_csv.x\n",
    "y = build_training_set_from_csv.y\n",
    "count = TestTool.count_sample_by_label(y)\n",
    "count"
   ]
  },
  {
   "cell_type": "markdown",
   "metadata": {
    "deletable": true,
    "editable": true
   },
   "source": [
    "## (3) 各種オーバーサンプリングの実行"
   ]
  },
  {
   "cell_type": "markdown",
   "metadata": {
    "deletable": true,
    "editable": true
   },
   "source": [
    "### (3-1) ADASYN　<---使えません\n",
    "\n",
    "２項ラベル以外には適用できないようです（警告ご参照）。多項ラベルを渡すと、処理が異常終了してしまいます。"
   ]
  },
  {
   "cell_type": "code",
   "execution_count": 6,
   "metadata": {
    "collapsed": false,
    "deletable": true,
    "editable": true,
    "scrolled": true
   },
   "outputs": [
    {
     "name": "stderr",
     "output_type": "stream",
     "text": [
      "/Library/Frameworks/Python.framework/Versions/3.5/lib/python3.5/site-packages/imblearn/base.py:306: UserWarning: The target type should be binary.\n",
      "  warnings.warn('The target type should be binary.')\n"
     ]
    },
    {
     "ename": "RuntimeError",
     "evalue": "Not any neigbours belong to the majority class. This case will induce a NaN case with a division by zero. ADASYN is not suited for this specific dataset. Use SMOTE.",
     "output_type": "error",
     "traceback": [
      "\u001b[0;31m---------------------------------------------------------------------------\u001b[0m",
      "\u001b[0;31mRuntimeError\u001b[0m                              Traceback (most recent call last)",
      "\u001b[0;32m<ipython-input-6-6c3d59afeb11>\u001b[0m in \u001b[0;36m<module>\u001b[0;34m()\u001b[0m\n\u001b[1;32m      4\u001b[0m \u001b[0;32mfrom\u001b[0m \u001b[0mimblearn\u001b[0m\u001b[0;34m.\u001b[0m\u001b[0mover_sampling\u001b[0m \u001b[0;32mimport\u001b[0m \u001b[0mADASYN\u001b[0m\u001b[0;34m\u001b[0m\u001b[0m\n\u001b[1;32m      5\u001b[0m \u001b[0mada\u001b[0m \u001b[0;34m=\u001b[0m \u001b[0mADASYN\u001b[0m\u001b[0;34m(\u001b[0m\u001b[0;34m)\u001b[0m\u001b[0;34m\u001b[0m\u001b[0m\n\u001b[0;32m----> 6\u001b[0;31m \u001b[0m_\u001b[0m\u001b[0;34m,\u001b[0m \u001b[0my_resampled\u001b[0m \u001b[0;34m=\u001b[0m \u001b[0mada\u001b[0m\u001b[0;34m.\u001b[0m\u001b[0mfit_sample\u001b[0m\u001b[0;34m(\u001b[0m\u001b[0mX\u001b[0m\u001b[0;34m,\u001b[0m \u001b[0my\u001b[0m\u001b[0;34m)\u001b[0m\u001b[0;34m\u001b[0m\u001b[0m\n\u001b[0m\u001b[1;32m      7\u001b[0m '''\n\u001b[1;32m      8\u001b[0m     \u001b[0mリサンプルされたラベルごとのサンプル数を調査します\u001b[0m\u001b[0;31m。\u001b[0m\u001b[0;34m\u001b[0m\u001b[0m\n",
      "\u001b[0;32m/Library/Frameworks/Python.framework/Versions/3.5/lib/python3.5/site-packages/imblearn/base.py\u001b[0m in \u001b[0;36mfit_sample\u001b[0;34m(self, X, y)\u001b[0m\n\u001b[1;32m    192\u001b[0m         \"\"\"\n\u001b[1;32m    193\u001b[0m \u001b[0;34m\u001b[0m\u001b[0m\n\u001b[0;32m--> 194\u001b[0;31m         \u001b[0;32mreturn\u001b[0m \u001b[0mself\u001b[0m\u001b[0;34m.\u001b[0m\u001b[0mfit\u001b[0m\u001b[0;34m(\u001b[0m\u001b[0mX\u001b[0m\u001b[0;34m,\u001b[0m \u001b[0my\u001b[0m\u001b[0;34m)\u001b[0m\u001b[0;34m.\u001b[0m\u001b[0msample\u001b[0m\u001b[0;34m(\u001b[0m\u001b[0mX\u001b[0m\u001b[0;34m,\u001b[0m \u001b[0my\u001b[0m\u001b[0;34m)\u001b[0m\u001b[0;34m\u001b[0m\u001b[0m\n\u001b[0m\u001b[1;32m    195\u001b[0m \u001b[0;34m\u001b[0m\u001b[0m\n\u001b[1;32m    196\u001b[0m     \u001b[0;32mdef\u001b[0m \u001b[0m_validate_ratio\u001b[0m\u001b[0;34m(\u001b[0m\u001b[0mself\u001b[0m\u001b[0;34m)\u001b[0m\u001b[0;34m:\u001b[0m\u001b[0;34m\u001b[0m\u001b[0m\n",
      "\u001b[0;32m/Library/Frameworks/Python.framework/Versions/3.5/lib/python3.5/site-packages/imblearn/base.py\u001b[0m in \u001b[0;36msample\u001b[0;34m(self, X, y)\u001b[0m\n\u001b[1;32m    169\u001b[0m             \u001b[0mself\u001b[0m\u001b[0;34m.\u001b[0m\u001b[0m_validate_k_m_deprecation\u001b[0m\u001b[0;34m(\u001b[0m\u001b[0;34m)\u001b[0m\u001b[0;34m\u001b[0m\u001b[0m\n\u001b[1;32m    170\u001b[0m \u001b[0;34m\u001b[0m\u001b[0m\n\u001b[0;32m--> 171\u001b[0;31m         \u001b[0;32mreturn\u001b[0m \u001b[0mself\u001b[0m\u001b[0;34m.\u001b[0m\u001b[0m_sample\u001b[0m\u001b[0;34m(\u001b[0m\u001b[0mX\u001b[0m\u001b[0;34m,\u001b[0m \u001b[0my\u001b[0m\u001b[0;34m)\u001b[0m\u001b[0;34m\u001b[0m\u001b[0m\n\u001b[0m\u001b[1;32m    172\u001b[0m \u001b[0;34m\u001b[0m\u001b[0m\n\u001b[1;32m    173\u001b[0m     \u001b[0;32mdef\u001b[0m \u001b[0mfit_sample\u001b[0m\u001b[0;34m(\u001b[0m\u001b[0mself\u001b[0m\u001b[0;34m,\u001b[0m \u001b[0mX\u001b[0m\u001b[0;34m,\u001b[0m \u001b[0my\u001b[0m\u001b[0;34m)\u001b[0m\u001b[0;34m:\u001b[0m\u001b[0;34m\u001b[0m\u001b[0m\n",
      "\u001b[0;32m/Library/Frameworks/Python.framework/Versions/3.5/lib/python3.5/site-packages/imblearn/over_sampling/adasyn.py\u001b[0m in \u001b[0;36m_sample\u001b[0;34m(self, X, y)\u001b[0m\n\u001b[1;32m    198\u001b[0m         \u001b[0;31m# majority class\u001b[0m\u001b[0;34m\u001b[0m\u001b[0;34m\u001b[0m\u001b[0m\n\u001b[1;32m    199\u001b[0m         \u001b[0;32mif\u001b[0m \u001b[0;32mnot\u001b[0m \u001b[0mnp\u001b[0m\u001b[0;34m.\u001b[0m\u001b[0msum\u001b[0m\u001b[0;34m(\u001b[0m\u001b[0mratio_nn\u001b[0m\u001b[0;34m)\u001b[0m\u001b[0;34m:\u001b[0m\u001b[0;34m\u001b[0m\u001b[0m\n\u001b[0;32m--> 200\u001b[0;31m             raise RuntimeError('Not any neigbours belong to the majority'\n\u001b[0m\u001b[1;32m    201\u001b[0m                                \u001b[0;34m' class. This case will induce a NaN case with'\u001b[0m\u001b[0;34m\u001b[0m\u001b[0m\n\u001b[1;32m    202\u001b[0m                                \u001b[0;34m' a division by zero. ADASYN is not suited for'\u001b[0m\u001b[0;34m\u001b[0m\u001b[0m\n",
      "\u001b[0;31mRuntimeError\u001b[0m: Not any neigbours belong to the majority class. This case will induce a NaN case with a division by zero. ADASYN is not suited for this specific dataset. Use SMOTE."
     ]
    }
   ],
   "source": [
    "'''\n",
    "    ADASYN with default\n",
    "'''\n",
    "from imblearn.over_sampling import ADASYN\n",
    "ada = ADASYN()\n",
    "_, y_resampled = ada.fit_sample(X, y)\n",
    "'''\n",
    "    リサンプルされたラベルごとのサンプル数を調査します。\n",
    "'''\n",
    "count = TestTool.count_sample_by_label(y_resampled)\n",
    "count[:10]"
   ]
  },
  {
   "cell_type": "markdown",
   "metadata": {
    "deletable": true,
    "editable": true
   },
   "source": [
    "### (3-2) Random over-sampling\n",
    "\n",
    "最大サンプル数に合わせてオーバーサンプリングされる動きとなりました。"
   ]
  },
  {
   "cell_type": "code",
   "execution_count": 7,
   "metadata": {
    "collapsed": false,
    "deletable": true,
    "editable": true,
    "scrolled": false
   },
   "outputs": [
    {
     "data": {
      "text/plain": [
       "[[4677, 2584],\n",
       " [4678, 2584],\n",
       " [4679, 2584],\n",
       " [4680, 2584],\n",
       " [4683, 2584],\n",
       " [4686, 2584],\n",
       " [4687, 2584],\n",
       " [4690, 2584],\n",
       " [4691, 2584],\n",
       " [4692, 2584]]"
      ]
     },
     "execution_count": 7,
     "metadata": {},
     "output_type": "execute_result"
    }
   ],
   "source": [
    "'''\n",
    "    Random over-sampling with default\n",
    "'''\n",
    "from imblearn.over_sampling import RandomOverSampler\n",
    "ros = RandomOverSampler()\n",
    "X_resampled, y_resampled = ros.fit_sample(X, y)\n",
    "'''\n",
    "    リサンプルされたラベルごとのサンプル数を調査します。\n",
    "'''\n",
    "count = TestTool.count_sample_by_label(y_resampled)\n",
    "count[:10]"
   ]
  },
  {
   "cell_type": "markdown",
   "metadata": {
    "deletable": true,
    "editable": true
   },
   "source": [
    "### (3-2-1) Random over-sampling、ratio を指定\n",
    "\n",
    "minority のサンプル件数を、(majorityのサンプル数 * ratio) の数に強引に合わせようとする挙動が確認されました。\n",
    "\n",
    "　ratio の指定の効果については<a href=\"01.ipynb\"><b>前述の通り</b></a>です。\n",
    "\n",
    "  （「(3-2) NearMiss ver.2 （パラメータ ratio を追加指定）」の節をご参照）\n",
    "\n",
    "こちらも ratio の値をうまく指定しないと、サンプルが無意味に増大する結果、正しい分類が出来なくなる可能性が出てくるかと存じます。"
   ]
  },
  {
   "cell_type": "code",
   "execution_count": 8,
   "metadata": {
    "collapsed": false,
    "deletable": true,
    "editable": true,
    "scrolled": false
   },
   "outputs": [
    {
     "data": {
      "text/plain": [
       "[[4677, 258],\n",
       " [4678, 2584],\n",
       " [4679, 258],\n",
       " [4680, 258],\n",
       " [4683, 258],\n",
       " [4686, 258],\n",
       " [4687, 258],\n",
       " [4690, 258],\n",
       " [4691, 258],\n",
       " [4692, 258]]"
      ]
     },
     "execution_count": 8,
     "metadata": {},
     "output_type": "execute_result"
    }
   ],
   "source": [
    "'''\n",
    "    Random over-sampling with default\n",
    "'''\n",
    "from imblearn.over_sampling import RandomOverSampler\n",
    "ros = RandomOverSampler(ratio=0.1)\n",
    "X_resampled, y_resampled = ros.fit_sample(X, y)\n",
    "'''\n",
    "    リサンプルされたラベルごとのサンプル数を調査します。\n",
    "'''\n",
    "count = TestTool.count_sample_by_label(y_resampled)\n",
    "count[:10]"
   ]
  },
  {
   "cell_type": "markdown",
   "metadata": {
    "deletable": true,
    "editable": true
   },
   "source": [
    "### (3-3) SMOTE regular　<---使えません\n",
    "\n",
    "２項ラベル以外には適用できないようです（警告ご参照）。多項ラベルを渡すと、サンプルがそのまま戻ってしまいます。"
   ]
  },
  {
   "cell_type": "code",
   "execution_count": 9,
   "metadata": {
    "collapsed": false,
    "deletable": true,
    "editable": true,
    "scrolled": true
   },
   "outputs": [
    {
     "name": "stderr",
     "output_type": "stream",
     "text": [
      "/Library/Frameworks/Python.framework/Versions/3.5/lib/python3.5/site-packages/imblearn/base.py:306: UserWarning: The target type should be binary.\n",
      "  warnings.warn('The target type should be binary.')\n"
     ]
    },
    {
     "data": {
      "text/plain": [
       "[[4677, 14],\n",
       " [4678, 2584],\n",
       " [4679, 14],\n",
       " [4680, 14],\n",
       " [4683, 14],\n",
       " [4686, 14],\n",
       " [4687, 8],\n",
       " [4690, 8],\n",
       " [4691, 14],\n",
       " [4692, 44]]"
      ]
     },
     "execution_count": 9,
     "metadata": {},
     "output_type": "execute_result"
    }
   ],
   "source": [
    "'''\n",
    "    SMOTE regular\n",
    "'''\n",
    "from imblearn.over_sampling import SMOTE\n",
    "sm = SMOTE(kind='regular')\n",
    "X_resampled, y_resampled = sm.fit_sample(X, y)\n",
    "'''\n",
    "    リサンプルされたラベルごとのサンプル数を調査します。\n",
    "'''\n",
    "count = TestTool.count_sample_by_label(y_resampled)\n",
    "count[:10]"
   ]
  },
  {
   "cell_type": "markdown",
   "metadata": {
    "deletable": true,
    "editable": true
   },
   "source": [
    "### (3-4) SMOTE SVM　<---使えません\n",
    "\n",
    "２項ラベル以外には適用できないようです（警告ご参照）。多項ラベルを渡すと、サンプルがそのまま戻ってしまいます。"
   ]
  },
  {
   "cell_type": "code",
   "execution_count": 10,
   "metadata": {
    "collapsed": false,
    "deletable": true,
    "editable": true,
    "scrolled": true
   },
   "outputs": [
    {
     "name": "stderr",
     "output_type": "stream",
     "text": [
      "/Library/Frameworks/Python.framework/Versions/3.5/lib/python3.5/site-packages/imblearn/base.py:306: UserWarning: The target type should be binary.\n",
      "  warnings.warn('The target type should be binary.')\n"
     ]
    },
    {
     "data": {
      "text/plain": [
       "[[4677, 14],\n",
       " [4678, 2584],\n",
       " [4679, 14],\n",
       " [4680, 14],\n",
       " [4683, 14],\n",
       " [4686, 14],\n",
       " [4687, 8],\n",
       " [4690, 8],\n",
       " [4691, 14],\n",
       " [4692, 44]]"
      ]
     },
     "execution_count": 10,
     "metadata": {},
     "output_type": "execute_result"
    }
   ],
   "source": [
    "'''\n",
    "    SMOTE SVM\n",
    "'''\n",
    "from imblearn.over_sampling import SMOTE\n",
    "sm = SMOTE(kind='svm')\n",
    "X_resampled, y_resampled = sm.fit_sample(X, y)\n",
    "'''\n",
    "    リサンプルされたラベルごとのサンプル数を調査します。\n",
    "'''\n",
    "count = TestTool.count_sample_by_label(y_resampled)\n",
    "count[:10]"
   ]
  }
 ],
 "metadata": {
  "kernelspec": {
   "display_name": "Python 3",
   "language": "python",
   "name": "python3"
  },
  "language_info": {
   "codemirror_mode": {
    "name": "ipython",
    "version": 3
   },
   "file_extension": ".py",
   "mimetype": "text/x-python",
   "name": "python",
   "nbconvert_exporter": "python",
   "pygments_lexer": "ipython3",
   "version": "3.5.2"
  }
 },
 "nbformat": 4,
 "nbformat_minor": 2
}
