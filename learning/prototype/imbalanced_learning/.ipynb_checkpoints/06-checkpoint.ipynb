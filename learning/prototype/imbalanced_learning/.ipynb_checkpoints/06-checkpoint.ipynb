{
 "cells": [
  {
   "cell_type": "markdown",
   "metadata": {
    "deletable": true,
    "editable": true
   },
   "source": [
    "# その他サンプリングの機能比較\n",
    "\n",
    "scikit-learn の <b>resample関数</b>について、為念調査しました。\n",
    "\n",
    "挙動としては単純にサンプルに揺れを作った感じです。\n",
    "\n",
    "また、すべてのラベルに対してではないのですが、期待しているものと逆の挙動が見られました。\n",
    "\n",
    "（すなわち、minority に対して under-sampling が行われ、majority に対してover-sampling されてしまう）\n",
    "\n",
    "こちらも残念ながら、本件問題解決には使用できないと判断しております。"
   ]
  },
  {
   "cell_type": "markdown",
   "metadata": {
    "deletable": true,
    "editable": true
   },
   "source": [
    "## (1) テストデータ／環境準備\n",
    "\n",
    "マイオペで使用しているテストデータ（learning/tests/engine/fixtures/ 配下のCSVファイル）をベースに動作確認を行います。\n",
    "\n",
    "動作確認にあたっては、MySQLdb に接続できないため、ローカル環境テスト用の Bot クラスを使用しています。"
   ]
  },
  {
   "cell_type": "code",
   "execution_count": 1,
   "metadata": {
    "collapsed": false,
    "deletable": true,
    "editable": true
   },
   "outputs": [],
   "source": [
    "'''\n",
    "    テスト環境を準備するためのモジュールを使用します。\n",
    "'''\n",
    "import sys\n",
    "import os\n",
    "learning_dir = os.path.abspath(\"../../\") #<--- donusagi-bot/learning\n",
    "os.chdir(learning_dir)\n",
    "\n",
    "if learning_dir not in sys.path:\n",
    "    sys.path.append(learning_dir)\n",
    "\n",
    "from prototype.modules import TestTool"
   ]
  },
  {
   "cell_type": "code",
   "execution_count": 2,
   "metadata": {
    "collapsed": false,
    "deletable": true,
    "editable": true,
    "scrolled": false
   },
   "outputs": [
    {
     "name": "stdout",
     "output_type": "stream",
     "text": [
      "CSV file for test=[/Users/makmorit/GitHub/donusagi-bot/learning/prototype/resources/test_benefitone_conversation.csv]\n"
     ]
    }
   ],
   "source": [
    "'''\n",
    "    データファイルは、既存の訓練データを別場所にコピーしてから使用します\n",
    "    テストデータは、csv_file_name で指定したものを使用します。\n",
    "'''\n",
    "csv_file_name = 'test_benefitone_conversation.csv'\n",
    "copied_csv_file_path = TestTool.copy_testdata_csv(learning_dir, csv_file_name)"
   ]
  },
  {
   "cell_type": "markdown",
   "metadata": {
    "deletable": true,
    "editable": true
   },
   "source": [
    "## (2) TF-IDFベクターの準備\n",
    "\n",
    "Bot クラス内に組み込まれている __build_training_set_from_csv 関数をバラして実行しています。"
   ]
  },
  {
   "cell_type": "code",
   "execution_count": 3,
   "metadata": {
    "collapsed": false,
    "deletable": true,
    "editable": true
   },
   "outputs": [],
   "source": [
    "'''\n",
    "    初期設定\n",
    "    データファイル、エンコードを指定\n",
    "    内容は、learn.py を参考にしました。    \n",
    "'''\n",
    "from learning.core.learn.learning_parameter import LearningParameter\n",
    "attr = {\n",
    "    'include_failed_data': False,\n",
    "    'include_tag_vector': False,\n",
    "    'classify_threshold': None,\n",
    "    # 'algorithm': LearningParameter.ALGORITHM_NAIVE_BAYES\n",
    "    'algorithm': LearningParameter.ALGORITHM_LOGISTIC_REGRESSION,\n",
    "    # 'params_for_algorithm': { 'C': 200 }\n",
    "    'params_for_algorithm': {}\n",
    "}\n",
    "learning_parameter = LearningParameter(attr)\n",
    "\n",
    "bot_id = 7777\n",
    "csv_file_path = copied_csv_file_path\n",
    "csv_file_encoding = 'utf-8'"
   ]
  },
  {
   "cell_type": "code",
   "execution_count": 4,
   "metadata": {
    "collapsed": false,
    "deletable": true,
    "editable": true,
    "scrolled": false
   },
   "outputs": [
    {
     "name": "stderr",
     "output_type": "stream",
     "text": [
      "2017/03/15 PM 03:24:09 TrainingMessageFromCsv#__build_learning_training_messages count of learning data: 4114\n",
      "2017/03/15 PM 03:24:09 TextArray#__init__ start\n",
      "2017/03/15 PM 03:24:11 TextArray#to_vec start\n",
      "2017/03/15 PM 03:24:11 TextArray#to_vec end\n"
     ]
    }
   ],
   "source": [
    "'''\n",
    "    訓練データの生成（内部で TF-IDF 処理を実行）\n",
    "'''\n",
    "from learning.core.training_set.training_message_from_csv import TrainingMessageFromCsv\n",
    "training_set = TrainingMessageFromCsv(bot_id, csv_file_path, learning_parameter, encoding=csv_file_encoding)\n",
    "build_training_set_from_csv = training_set.build()"
   ]
  },
  {
   "cell_type": "code",
   "execution_count": 5,
   "metadata": {
    "collapsed": false,
    "deletable": true,
    "editable": true,
    "scrolled": true
   },
   "outputs": [
    {
     "data": {
      "text/plain": [
       "[[4677, 14],\n",
       " [4678, 2584],\n",
       " [4679, 14],\n",
       " [4680, 14],\n",
       " [4683, 14],\n",
       " [4686, 14],\n",
       " [4687, 8],\n",
       " [4690, 8],\n",
       " [4691, 14],\n",
       " [4692, 44],\n",
       " [4693, 30],\n",
       " [4700, 12],\n",
       " [4707, 18],\n",
       " [4708, 14],\n",
       " [4709, 14],\n",
       " [4710, 14],\n",
       " [4711, 14],\n",
       " [4712, 16],\n",
       " [4713, 14],\n",
       " [4718, 20],\n",
       " [4719, 8],\n",
       " [4720, 20],\n",
       " [4721, 8],\n",
       " [4724, 8],\n",
       " [4727, 14],\n",
       " [4728, 62],\n",
       " [4729, 26],\n",
       " [4730, 20],\n",
       " [4731, 14],\n",
       " [4732, 22],\n",
       " [4733, 14],\n",
       " [4734, 34],\n",
       " [4735, 12],\n",
       " [4738, 14],\n",
       " [4739, 14],\n",
       " [4740, 14],\n",
       " [4741, 8],\n",
       " [4742, 20],\n",
       " [4743, 14],\n",
       " [4744, 14],\n",
       " [4745, 20],\n",
       " [4750, 22],\n",
       " [4751, 20],\n",
       " [4752, 14],\n",
       " [4753, 8],\n",
       " [4754, 8],\n",
       " [4755, 14],\n",
       " [4756, 20],\n",
       " [4757, 8],\n",
       " [4758, 28],\n",
       " [4759, 14],\n",
       " [4760, 8],\n",
       " [4761, 20],\n",
       " [4762, 8],\n",
       " [4766, 14],\n",
       " [4767, 14],\n",
       " [4772, 60],\n",
       " [4776, 8],\n",
       " [4781, 14],\n",
       " [4782, 14],\n",
       " [4783, 20],\n",
       " [4786, 8],\n",
       " [4792, 20],\n",
       " [4793, 8],\n",
       " [4794, 8],\n",
       " [4795, 14],\n",
       " [4797, 42],\n",
       " [4798, 36],\n",
       " [4800, 14],\n",
       " [4802, 14],\n",
       " [4804, 14],\n",
       " [4807, 8],\n",
       " [4808, 106],\n",
       " [4817, 26],\n",
       " [4821, 24],\n",
       " [4824, 16],\n",
       " [4827, 8],\n",
       " [4830, 22],\n",
       " [4831, 14],\n",
       " [4833, 14],\n",
       " [4834, 14],\n",
       " [4835, 36],\n",
       " [4836, 30],\n",
       " [4837, 8]]"
      ]
     },
     "execution_count": 5,
     "metadata": {},
     "output_type": "execute_result"
    }
   ],
   "source": [
    "'''\n",
    "    ラベルごとのサンプル数を調査します。\n",
    "'''\n",
    "X = build_training_set_from_csv.x\n",
    "y = build_training_set_from_csv.y\n",
    "count = TestTool.count_sample_by_label(y)\n",
    "count"
   ]
  },
  {
   "cell_type": "markdown",
   "metadata": {
    "deletable": true,
    "editable": true
   },
   "source": [
    "## (3) resample関数の実行"
   ]
  },
  {
   "cell_type": "code",
   "execution_count": 6,
   "metadata": {
    "collapsed": false,
    "deletable": true,
    "editable": true,
    "scrolled": true
   },
   "outputs": [],
   "source": [
    "'''\n",
    "    utils.resample with default\n",
    "'''\n",
    "from sklearn import utils\n",
    "resampled_X, resampled_y = utils.resample(X, y, random_state=0)"
   ]
  },
  {
   "cell_type": "code",
   "execution_count": 7,
   "metadata": {
    "collapsed": false,
    "deletable": true,
    "editable": true,
    "scrolled": true
   },
   "outputs": [
    {
     "data": {
      "text/plain": [
       "[[4677, 9],\n",
       " [4678, 2603],\n",
       " [4679, 14],\n",
       " [4680, 12],\n",
       " [4683, 10],\n",
       " [4686, 16],\n",
       " [4687, 7],\n",
       " [4690, 6],\n",
       " [4691, 15],\n",
       " [4692, 50],\n",
       " [4693, 26],\n",
       " [4700, 11],\n",
       " [4707, 12],\n",
       " [4708, 13],\n",
       " [4709, 9],\n",
       " [4710, 15],\n",
       " [4711, 16],\n",
       " [4712, 15],\n",
       " [4713, 14],\n",
       " [4718, 30],\n",
       " [4719, 5],\n",
       " [4720, 26],\n",
       " [4721, 9],\n",
       " [4724, 10],\n",
       " [4727, 11],\n",
       " [4728, 52],\n",
       " [4729, 14],\n",
       " [4730, 29],\n",
       " [4731, 14],\n",
       " [4732, 22],\n",
       " [4733, 9],\n",
       " [4734, 35],\n",
       " [4735, 10],\n",
       " [4738, 16],\n",
       " [4739, 18],\n",
       " [4740, 17],\n",
       " [4741, 5],\n",
       " [4742, 23],\n",
       " [4743, 16],\n",
       " [4744, 19],\n",
       " [4745, 23],\n",
       " [4750, 27],\n",
       " [4751, 18],\n",
       " [4752, 15],\n",
       " [4753, 8],\n",
       " [4754, 9],\n",
       " [4755, 10],\n",
       " [4756, 15],\n",
       " [4757, 6],\n",
       " [4758, 26],\n",
       " [4759, 16],\n",
       " [4760, 5],\n",
       " [4761, 17],\n",
       " [4762, 8],\n",
       " [4766, 17],\n",
       " [4767, 16],\n",
       " [4772, 58],\n",
       " [4776, 13],\n",
       " [4781, 17],\n",
       " [4782, 9],\n",
       " [4783, 24],\n",
       " [4786, 4],\n",
       " [4792, 20],\n",
       " [4793, 11],\n",
       " [4794, 7],\n",
       " [4795, 16],\n",
       " [4797, 43],\n",
       " [4798, 41],\n",
       " [4800, 15],\n",
       " [4802, 9],\n",
       " [4804, 12],\n",
       " [4807, 7],\n",
       " [4808, 97],\n",
       " [4817, 16],\n",
       " [4821, 23],\n",
       " [4824, 12],\n",
       " [4827, 9],\n",
       " [4830, 20],\n",
       " [4831, 12],\n",
       " [4833, 18],\n",
       " [4834, 17],\n",
       " [4835, 41],\n",
       " [4836, 32],\n",
       " [4837, 12]]"
      ]
     },
     "execution_count": 7,
     "metadata": {},
     "output_type": "execute_result"
    }
   ],
   "source": [
    "resampled_count = TestTool.count_sample_by_label(resampled_y)\n",
    "resampled_count"
   ]
  }
 ],
 "metadata": {
  "kernelspec": {
   "display_name": "Python 3",
   "language": "python",
   "name": "python3"
  },
  "language_info": {
   "codemirror_mode": {
    "name": "ipython",
    "version": 3
   },
   "file_extension": ".py",
   "mimetype": "text/x-python",
   "name": "python",
   "nbconvert_exporter": "python",
   "pygments_lexer": "ipython3",
   "version": "3.5.2"
  }
 },
 "nbformat": 4,
 "nbformat_minor": 2
}
