{
 "cells": [
  {
   "cell_type": "markdown",
   "metadata": {
    "deletable": true,
    "editable": true
   },
   "source": [
    "# アノマリー検出についての予備調査"
   ]
  },
  {
   "cell_type": "markdown",
   "metadata": {
    "deletable": true,
    "editable": true
   },
   "source": [
    "## (1) scikit-learn を使用した方法"
   ]
  },
  {
   "cell_type": "markdown",
   "metadata": {
    "deletable": true,
    "editable": true
   },
   "source": [
    "### (1-1) One-class SVM\n",
    "\n",
    "教師なしアノマリー検出の１手法\n",
    "\n",
    "#### 参考文献\n",
    "\n",
    "API の仕様はこちら：\n",
    "\n",
    "http://scikit-learn.org/0.17/modules/generated/sklearn.svm.OneClassSVM.html#sklearn-svm-oneclasssvm\n",
    "\n",
    "~~~\n",
    "まず、ラベルなしで fit関数を実行してモデルを生成します。\n",
    "\n",
    "次に、predict 関数で予測を行い、外れデータに対しては -1、それ以外は 1 を戻す実装のようです。\n",
    "\n",
    "（For an one-class model, +1 or -1 is returned. とのこと）\n",
    "~~~\n",
    "\n",
    "検出イメージはこちら：\n",
    "\n",
    "http://scikit-learn.org/0.17/auto_examples/svm/plot_oneclass.html#one-class-svm-with-non-linear-kernel-rbf\n",
    "\n",
    "#### 調査事例\n",
    "\n",
    "http://qiita.com/SE96UoC5AfUt7uY/items/88006646179adf68cb95\n",
    "\n",
    "http://qiita.com/kznx/items/434d98bf1a0e39327542"
   ]
  },
  {
   "cell_type": "markdown",
   "metadata": {
    "deletable": true,
    "editable": true
   },
   "source": [
    "### (1-2) IsolationForest（注意：0.18 以降の実装となります）\n",
    "\n",
    "#### 参考文献\n",
    "\n",
    "API の仕様はこちら：\n",
    "\n",
    "http://scikit-learn.org/stable/modules/generated/sklearn.ensemble.IsolationForest.html#sklearn-ensemble-isolationforest\n",
    "\n",
    "~~~\n",
    "こちらも One-class SVM と同様、ラベルなしで fit関数を実行してモデルを生成し、predict 関数で予測を行い、外れデータに対しては -1、それ以外は 1 を戻す実装のようです。\n",
    "\n",
    "（For each observations, tells whether or not (+1 or -1) it should be considered as an inlier according to the fitted model. とのこと）\n",
    "~~~\n",
    "\n",
    "検出イメージはこちら：\n",
    "\n",
    "http://scikit-learn.org/stable/auto_examples/ensemble/plot_isolation_forest.html#isolationforest-example\n",
    "\n",
    "\n",
    "\n",
    "#### 調査事例\n",
    "\n",
    "割と新しい手法なのでしょうか。説明事例も少ないです。\n",
    "\n",
    "http://mathetake.hatenablog.com/entry/2017/01/13/222234"
   ]
  },
  {
   "cell_type": "markdown",
   "metadata": {
    "deletable": true,
    "editable": true
   },
   "source": [
    "## (2) scikit-learn を使用しない方法"
   ]
  },
  {
   "cell_type": "markdown",
   "metadata": {
    "deletable": true,
    "editable": true
   },
   "source": [
    "以下のURLに、独自実装の例があります。\n",
    "\n",
    "scikit-learn を使用して、好結果が得られない場合、参考にして検証したいと考えます。"
   ]
  },
  {
   "cell_type": "markdown",
   "metadata": {
    "deletable": true,
    "editable": true
   },
   "source": [
    "- Anomaly Detection, a short tutorial using Python\n",
    "\n",
    " https://aqibsaeed.github.io/2016-07-17-anomaly-detection/\n",
    "\n",
    " 見た限りでは、正規分布（この例では２次元空間）から外れているデータを Python を使用して抽出しているロジックのようです。\n",
    " \n",
    " ただし自然言語処理（＝多次元空間）において、具体的にどうやって正規分布をもとめるのか？　という素朴な疑問があります。"
   ]
  },
  {
   "cell_type": "markdown",
   "metadata": {
    "deletable": true,
    "editable": true
   },
   "source": [
    "- 他にも事例が見つかったら、ここに随時追加いたします。"
   ]
  }
 ],
 "metadata": {
  "kernelspec": {
   "display_name": "Python 3",
   "language": "python",
   "name": "python3"
  },
  "language_info": {
   "codemirror_mode": {
    "name": "ipython",
    "version": 3
   },
   "file_extension": ".py",
   "mimetype": "text/x-python",
   "name": "python",
   "nbconvert_exporter": "python",
   "pygments_lexer": "ipython3",
   "version": "3.5.2"
  }
 },
 "nbformat": 4,
 "nbformat_minor": 2
}
