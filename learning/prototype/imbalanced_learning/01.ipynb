{
 "cells": [
  {
   "cell_type": "markdown",
   "metadata": {
    "deletable": true,
    "editable": true
   },
   "source": [
    "# 再現試験\n",
    "\n",
    "マイオペで使用しているテストデータ（learning/tests/engine/fixtures/ 配下のCSVファイル）をベースに動作確認を行います。\n",
    "\n",
    "動作確認にあたっては、MySQLdb に接続できないため、ローカル環境テスト用の Bot クラスを使用しています。"
   ]
  },
  {
   "cell_type": "markdown",
   "metadata": {
    "deletable": true,
    "editable": true
   },
   "source": [
    "## (1) テストデータ／環境準備"
   ]
  },
  {
   "cell_type": "code",
   "execution_count": 1,
   "metadata": {
    "collapsed": false,
    "deletable": true,
    "editable": true
   },
   "outputs": [
    {
     "name": "stdout",
     "output_type": "stream",
     "text": [
      "prototype_dir=/Users/makmorit/GitHub/donusagi-bot/learning/prototype\n",
      "learning_dir=/Users/makmorit/GitHub/donusagi-bot/learning\n"
     ]
    }
   ],
   "source": [
    "'''\n",
    "    プロトタイピング用のパスと、Botライブラリーパスを取得／設定します\n",
    "'''\n",
    "import sys\n",
    "import os\n",
    "\n",
    "prototype_dir = os.path.join(os.getcwd(), '..')\n",
    "prototype_dir = os.path.abspath(prototype_dir)\n",
    "\n",
    "learning_dir = os.path.join(prototype_dir, '..')\n",
    "learning_dir = os.path.abspath(learning_dir)\n",
    "os.chdir(learning_dir)\n",
    "\n",
    "if learning_dir not in sys.path:\n",
    "    sys.path.append(learning_dir)\n",
    "\n",
    "print('prototype_dir=%s\\nlearning_dir=%s' % (prototype_dir, learning_dir))"
   ]
  },
  {
   "cell_type": "code",
   "execution_count": 2,
   "metadata": {
    "collapsed": false,
    "deletable": true,
    "editable": true
   },
   "outputs": [
    {
     "name": "stdout",
     "output_type": "stream",
     "text": [
      "CSV file for test=[/Users/makmorit/GitHub/donusagi-bot/learning/prototype/resources/test_benefitone_conversation.csv]\n"
     ]
    }
   ],
   "source": [
    "'''\n",
    "    データファイルは、既存の訓練データを別場所にコピーしてから使用します\n",
    "    テストデータは、csv_file_name で指定したものを使用します。\n",
    "'''\n",
    "csv_file_name = 'test_benefitone_conversation.csv'\n",
    "original_csv_dir = os.path.join(learning_dir, 'learning/tests/engine/fixtures/')\n",
    "original_file_path = os.path.join(original_csv_dir, csv_file_name)\n",
    "\n",
    "csv_dir = os.path.join(prototype_dir, 'resources')\n",
    "\n",
    "import shutil\n",
    "shutil.copy2(original_file_path, csv_dir)\n",
    "copied_csv_file_path = os.path.join(csv_dir, csv_file_name)\n",
    "\n",
    "print('CSV file for test=[%s]' % copied_csv_file_path)"
   ]
  },
  {
   "cell_type": "markdown",
   "metadata": {
    "deletable": true,
    "editable": true
   },
   "source": [
    "## (2) 既存モジュールをカスタマイズ"
   ]
  },
  {
   "cell_type": "code",
   "execution_count": 3,
   "metadata": {
    "collapsed": false,
    "deletable": true,
    "editable": true
   },
   "outputs": [
    {
     "name": "stderr",
     "output_type": "stream",
     "text": [
      "/Library/Frameworks/Python.framework/Versions/3.5/lib/python3.5/site-packages/sklearn/cross_validation.py:44: DeprecationWarning: This module was deprecated in version 0.18 in favor of the model_selection module into which all the refactored classes and functions are moved. Also note that the interface of the new CV iterators are different from that of this module. This module will be removed in 0.20.\n",
      "  \"This module will be removed in 0.20.\", DeprecationWarning)\n",
      "/Library/Frameworks/Python.framework/Versions/3.5/lib/python3.5/site-packages/sklearn/grid_search.py:43: DeprecationWarning: This module was deprecated in version 0.18 in favor of the model_selection module into which all the refactored classes and functions are moved. This module will be removed in 0.20.\n",
      "  DeprecationWarning)\n"
     ]
    }
   ],
   "source": [
    "'''\n",
    "    Bot/Reply モジュールをカスタマイズした\n",
    "    BotForLocalTest/ReplyForLocalTest モジュールは、\n",
    "    {prototype_dir}/modules 配下に格納されています\n",
    "    （ローカル環境から MySQLdb/dataset に接続できないための措置）\n",
    "'''\n",
    "from prototype.modules.BotForLocalTest import Bot\n",
    "from prototype.modules.ReplyForLocalTest import Reply\n",
    "from learning.core.learn.learning_parameter import LearningParameter"
   ]
  },
  {
   "cell_type": "code",
   "execution_count": 4,
   "metadata": {
    "collapsed": false,
    "deletable": true,
    "editable": true
   },
   "outputs": [],
   "source": [
    "'''\n",
    "    初期設定\n",
    "    データファイル、エンコードを指定\n",
    "    内容は、learn.py を参考にしました。    \n",
    "'''\n",
    "bot_id = 7777\n",
    "attr = {\n",
    "    'include_failed_data': False,\n",
    "    'include_tag_vector': False,\n",
    "    'classify_threshold': None,\n",
    "    # 'algorithm': LearningParameter.ALGORITHM_NAIVE_BAYES\n",
    "    'algorithm': LearningParameter.ALGORITHM_LOGISTIC_REGRESSION,\n",
    "    # 'params_for_algorithm': { 'C': 200 }\n",
    "    'params_for_algorithm': {}\n",
    "}\n",
    "learning_parameter = LearningParameter(attr)\n",
    "csv_file_path = copied_csv_file_path\n",
    "csv_file_encoding = 'utf-8'"
   ]
  },
  {
   "cell_type": "markdown",
   "metadata": {
    "deletable": true,
    "editable": true
   },
   "source": [
    "## (3) 現状の調査\n",
    "\n",
    "ラベルごとのサンプル数を調査しました。\n",
    "\n",
    "ラベル 4678 のサンプル数が 2584 件と突出しているのを確認しました。"
   ]
  },
  {
   "cell_type": "code",
   "execution_count": 5,
   "metadata": {
    "collapsed": false,
    "deletable": true,
    "editable": true,
    "scrolled": true
   },
   "outputs": [
    {
     "name": "stderr",
     "output_type": "stream",
     "text": [
      "TrainingMessageFromCsv#__build_learning_training_messages count of learning data: 4114\n",
      "2017/03/11 PM 08:47:01 TrainingMessageFromCsv#__build_learning_training_messages count of learning data: 4114\n",
      "TextArray#__init__ start\n",
      "2017/03/11 PM 08:47:01 TextArray#__init__ start\n",
      "TextArray#to_vec start\n",
      "2017/03/11 PM 08:47:01 TextArray#to_vec start\n",
      "TextArray#to_vec end\n",
      "2017/03/11 PM 08:47:04 TextArray#to_vec end\n",
      "[[ 0.  0.  0. ...,  0.  0.  0.]\n",
      " [ 0.  0.  0. ...,  0.  0.  0.]\n",
      " [ 0.  0.  0. ...,  0.  0.  0.]\n",
      " ..., \n",
      " [ 0.  0.  0. ...,  0.  0.  0.]\n",
      " [ 0.  0.  0. ...,  0.  0.  0.]\n",
      " [ 0.  0.  0. ...,  0.  0.  0.]]\n",
      "2017/03/11 PM 08:47:04 [[ 0.  0.  0. ...,  0.  0.  0.]\n",
      " [ 0.  0.  0. ...,  0.  0.  0.]\n",
      " [ 0.  0.  0. ...,  0.  0.  0.]\n",
      " ..., \n",
      " [ 0.  0.  0. ...,  0.  0.  0.]\n",
      " [ 0.  0.  0. ...,  0.  0.  0.]\n",
      " [ 0.  0.  0. ...,  0.  0.  0.]]\n"
     ]
    }
   ],
   "source": [
    "'''\n",
    "    訓練データの生成（内部で TF-IDF 処理を実行）\n",
    "'''\n",
    "from learning.core.training_set.training_message_from_csv import TrainingMessageFromCsv\n",
    "training_set = TrainingMessageFromCsv(bot_id, csv_file_path, learning_parameter, encoding=csv_file_encoding)\n",
    "build_training_set_from_csv = training_set.build()"
   ]
  },
  {
   "cell_type": "code",
   "execution_count": 6,
   "metadata": {
    "collapsed": false,
    "deletable": true,
    "editable": true
   },
   "outputs": [
    {
     "data": {
      "text/plain": [
       "[[4677, 14],\n",
       " [4678, 2584],\n",
       " [4679, 14],\n",
       " [4680, 14],\n",
       " [4683, 14],\n",
       " [4686, 14],\n",
       " [4687, 8],\n",
       " [4690, 8],\n",
       " [4691, 14],\n",
       " [4692, 44],\n",
       " [4693, 30],\n",
       " [4700, 12],\n",
       " [4707, 18],\n",
       " [4708, 14],\n",
       " [4709, 14],\n",
       " [4710, 14],\n",
       " [4711, 14],\n",
       " [4712, 16],\n",
       " [4713, 14],\n",
       " [4718, 20],\n",
       " [4719, 8],\n",
       " [4720, 20],\n",
       " [4721, 8],\n",
       " [4724, 8],\n",
       " [4727, 14],\n",
       " [4728, 62],\n",
       " [4729, 26],\n",
       " [4730, 20],\n",
       " [4731, 14],\n",
       " [4732, 22],\n",
       " [4733, 14],\n",
       " [4734, 34],\n",
       " [4735, 12],\n",
       " [4738, 14],\n",
       " [4739, 14],\n",
       " [4740, 14],\n",
       " [4741, 8],\n",
       " [4742, 20],\n",
       " [4743, 14],\n",
       " [4744, 14],\n",
       " [4745, 20],\n",
       " [4750, 22],\n",
       " [4751, 20],\n",
       " [4752, 14],\n",
       " [4753, 8],\n",
       " [4754, 8],\n",
       " [4755, 14],\n",
       " [4756, 20],\n",
       " [4757, 8],\n",
       " [4758, 28],\n",
       " [4759, 14],\n",
       " [4760, 8],\n",
       " [4761, 20],\n",
       " [4762, 8],\n",
       " [4766, 14],\n",
       " [4767, 14],\n",
       " [4772, 60],\n",
       " [4776, 8],\n",
       " [4781, 14],\n",
       " [4782, 14],\n",
       " [4783, 20],\n",
       " [4786, 8],\n",
       " [4792, 20],\n",
       " [4793, 8],\n",
       " [4794, 8],\n",
       " [4795, 14],\n",
       " [4797, 42],\n",
       " [4798, 36],\n",
       " [4800, 14],\n",
       " [4802, 14],\n",
       " [4804, 14],\n",
       " [4807, 8],\n",
       " [4808, 106],\n",
       " [4817, 26],\n",
       " [4821, 24],\n",
       " [4824, 16],\n",
       " [4827, 8],\n",
       " [4830, 22],\n",
       " [4831, 14],\n",
       " [4833, 14],\n",
       " [4834, 14],\n",
       " [4835, 36],\n",
       " [4836, 30],\n",
       " [4837, 8]]"
      ]
     },
     "execution_count": 6,
     "metadata": {},
     "output_type": "execute_result"
    }
   ],
   "source": [
    "'''\n",
    "    ラベルごとのサンプル数を調査します。\n",
    "'''\n",
    "import numpy as np\n",
    "\n",
    "def bincount(x, weights=None, minlength=None):\n",
    "    if len(x) > 0:\n",
    "        return np.bincount(x, weights, minlength) # <---\n",
    "    else:\n",
    "        if minlength is None:\n",
    "            minlength = 0\n",
    "        minlength = np.asscalar(np.asarray(minlength, dtype=np.intp))\n",
    "        return np.zeros(minlength, dtype=np.intp)\n",
    "\n",
    "def count_sample_by_label(labels):\n",
    "    y = np.asarray(labels)\n",
    "    n_samples = y.shape[0]\n",
    "\n",
    "    unique_labels, y_inversed = np.unique(y, return_inverse=True)\n",
    "    label_counts = bincount(y_inversed)\n",
    "\n",
    "    sample_count = []\n",
    "    for i, unique_label in enumerate(unique_labels):\n",
    "        sample_count.append([unique_label, label_counts[i]])\n",
    "\n",
    "    return sample_count\n",
    "\n",
    "count = count_sample_by_label(build_training_set_from_csv.y)\n",
    "count"
   ]
  },
  {
   "cell_type": "markdown",
   "metadata": {
    "deletable": true,
    "editable": true
   },
   "source": [
    "## (4) 学習実行"
   ]
  },
  {
   "cell_type": "code",
   "execution_count": 7,
   "metadata": {
    "collapsed": false,
    "deletable": true,
    "editable": true,
    "scrolled": true
   },
   "outputs": [
    {
     "name": "stderr",
     "output_type": "stream",
     "text": [
      "learning_parameter: {'_params_for_algorithm': {}, '_classify_threshold': None, '_algorithm': 0, '_include_tag_vector': False, '_include_failed_data': False}\n",
      "2017/03/11 PM 08:47:16 learning_parameter: {'_params_for_algorithm': {}, '_classify_threshold': None, '_algorithm': 0, '_include_tag_vector': False, '_include_failed_data': False}\n",
      "start Bot#learn\n",
      "2017/03/11 PM 08:47:16 start Bot#learn\n",
      "TrainingMessageFromCsv#__build_learning_training_messages count of learning data: 4114\n",
      "2017/03/11 PM 08:47:16 TrainingMessageFromCsv#__build_learning_training_messages count of learning data: 4114\n",
      "TextArray#__init__ start\n",
      "2017/03/11 PM 08:47:16 TextArray#__init__ start\n",
      "TextArray#to_vec start\n",
      "2017/03/11 PM 08:47:16 TextArray#to_vec start\n",
      "TextArray#to_vec end\n",
      "2017/03/11 PM 08:47:19 TextArray#to_vec end\n",
      "[[ 0.  0.  0. ...,  0.  0.  0.]\n",
      " [ 0.  0.  0. ...,  0.  0.  0.]\n",
      " [ 0.  0.  0. ...,  0.  0.  0.]\n",
      " ..., \n",
      " [ 0.  0.  0. ...,  0.  0.  0.]\n",
      " [ 0.  0.  0. ...,  0.  0.  0.]\n",
      " [ 0.  0.  0. ...,  0.  0.  0.]]\n",
      "2017/03/11 PM 08:47:19 [[ 0.  0.  0. ...,  0.  0.  0.]\n",
      " [ 0.  0.  0. ...,  0.  0.  0.]\n",
      " [ 0.  0.  0. ...,  0.  0.  0.]\n",
      " ..., \n",
      " [ 0.  0.  0. ...,  0.  0.  0.]\n",
      " [ 0.  0.  0. ...,  0.  0.  0.]\n",
      " [ 0.  0.  0. ...,  0.  0.  0.]]\n",
      "use algorithm: logistic regression\n",
      "2017/03/11 PM 08:47:19 use algorithm: logistic regression\n",
      "learning_parameter has not parameter C\n",
      "2017/03/11 PM 08:47:19 learning_parameter has not parameter C\n",
      "best_params_: {'C': 100}\n",
      "2017/03/11 PM 08:47:23 best_params_: {'C': 100}\n",
      "after Bot#__get_estimator\n",
      "2017/03/11 PM 08:47:23 after Bot#__get_estimator\n",
      "before Evaluator#evaluate\n",
      "2017/03/11 PM 08:47:23 before Evaluator#evaluate\n",
      "self.threshold: 0.0\n",
      "2017/03/11 PM 08:47:23 self.threshold: 0.0\n",
      "Evaluator#evaluate#elapsed time: 849.744081 ms\n",
      "2017/03/11 PM 08:47:24 Evaluator#evaluate#elapsed time: 849.744081 ms\n",
      "accuracy: 0.978620019436\n",
      "2017/03/11 PM 08:47:24 accuracy: 0.978620019436\n",
      "r2_score: 0.97827779524\n",
      "2017/03/11 PM 08:47:24 r2_score: 0.97827779524\n",
      "end Bot#learn\n",
      "2017/03/11 PM 08:47:24 end Bot#learn\n"
     ]
    }
   ],
   "source": [
    "'''\n",
    "    Bot クラスを生成し学習実行--->交差検証の実行\n",
    "'''\n",
    "bot = Bot(bot_id, learning_parameter)\n",
    "evaluator = bot.learn(csv_file_path=csv_file_path, \n",
    "                      csv_file_encoding=csv_file_encoding)"
   ]
  },
  {
   "cell_type": "markdown",
   "metadata": {
    "deletable": true,
    "editable": true
   },
   "source": [
    "## (5) 予測実行\n",
    "\n",
    "訓練データのどのサンプルにもない単語で質問を行うと、やはりラベル 4678（それでは、総務部の方に確認してください...）に分類されてしまうようです。"
   ]
  },
  {
   "cell_type": "code",
   "execution_count": 8,
   "metadata": {
    "collapsed": false,
    "deletable": true,
    "editable": true,
    "scrolled": true
   },
   "outputs": [
    {
     "name": "stderr",
     "output_type": "stream",
     "text": [
      "TextArray#__init__ start\n",
      "2017/03/11 PM 08:47:32 TextArray#__init__ start\n",
      "TextArray#to_vec start\n",
      "2017/03/11 PM 08:47:32 TextArray#to_vec start\n",
      "TextArray#to_vec end\n",
      "2017/03/11 PM 08:47:32 TextArray#to_vec end\n",
      "predicted results (order by probability desc)\n",
      "2017/03/11 PM 08:47:32 predicted results (order by probability desc)\n",
      "{'answer_id': 4678.0, 'probability': 0.95823145135079324}\n",
      "2017/03/11 PM 08:47:32 {'answer_id': 4678.0, 'probability': 0.95823145135079324}\n",
      "{'answer_id': 4808.0, 'probability': 0.0097836046824354497}\n",
      "2017/03/11 PM 08:47:32 {'answer_id': 4808.0, 'probability': 0.0097836046824354497}\n",
      "{'answer_id': 4720.0, 'probability': 0.005498870711610441}\n",
      "2017/03/11 PM 08:47:32 {'answer_id': 4720.0, 'probability': 0.005498870711610441}\n",
      "{'answer_id': 4692.0, 'probability': 0.0027597788887513265}\n",
      "2017/03/11 PM 08:47:32 {'answer_id': 4692.0, 'probability': 0.0027597788887513265}\n",
      "{'answer_id': 4835.0, 'probability': 0.0019091965412538531}\n",
      "2017/03/11 PM 08:47:32 {'answer_id': 4835.0, 'probability': 0.0019091965412538531}\n",
      "{'answer_id': 4781.0, 'probability': 0.0016473883420250726}\n",
      "2017/03/11 PM 08:47:32 {'answer_id': 4781.0, 'probability': 0.0016473883420250726}\n",
      "{'answer_id': 4710.0, 'probability': 0.001635203929846352}\n",
      "2017/03/11 PM 08:47:32 {'answer_id': 4710.0, 'probability': 0.001635203929846352}\n",
      "{'answer_id': 4709.0, 'probability': 0.0015704174165682512}\n",
      "2017/03/11 PM 08:47:32 {'answer_id': 4709.0, 'probability': 0.0015704174165682512}\n",
      "{'answer_id': 4679.0, 'probability': 0.0014431918968303048}\n",
      "2017/03/11 PM 08:47:32 {'answer_id': 4679.0, 'probability': 0.0014431918968303048}\n",
      "{'answer_id': 4743.0, 'probability': 0.0011345284970904145}\n",
      "2017/03/11 PM 08:47:32 {'answer_id': 4743.0, 'probability': 0.0011345284970904145}\n"
     ]
    },
    {
     "name": "stdout",
     "output_type": "stream",
     "text": [
      "question: 人生相談をしたいのですが？\n",
      "answer: 4678\n",
      "proba: 0.958231451351 \n",
      "\n"
     ]
    }
   ],
   "source": [
    "'''\n",
    "    Reply クラスを生成し予測実行\n",
    "'''\n",
    "test_X = [\n",
    "    '人生相談をしたいのですが？',\n",
    "]\n",
    "reply = Reply(bot_id, learning_parameter)\n",
    "z = reply.predict(test_X)"
   ]
  }
 ],
 "metadata": {
  "kernelspec": {
   "display_name": "Python 3",
   "language": "python",
   "name": "python3"
  },
  "language_info": {
   "codemirror_mode": {
    "name": "ipython",
    "version": 3
   },
   "file_extension": ".py",
   "mimetype": "text/x-python",
   "name": "python",
   "nbconvert_exporter": "python",
   "pygments_lexer": "ipython3",
   "version": "3.5.2"
  }
 },
 "nbformat": 4,
 "nbformat_minor": 2
}
