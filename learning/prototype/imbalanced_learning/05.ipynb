{
 "cells": [
  {
   "cell_type": "markdown",
   "metadata": {
    "deletable": true,
    "editable": true
   },
   "source": [
    "# その他サンプリングの機能比較\n",
    "\n",
    "scikit-learn の派生プロジェクト imbalanced-learn の <b>Ensemble methods</b> について、サンプリングのされ方の違いを比較します。\n",
    "\n",
    "こちらも残念ながら、本件問題解決には使用できないと判断しております。"
   ]
  },
  {
   "cell_type": "markdown",
   "metadata": {
    "deletable": true,
    "editable": true
   },
   "source": [
    "## (1) テストデータ／環境準備\n",
    "\n",
    "マイオペで使用しているテストデータ（learning/tests/engine/fixtures/ 配下のCSVファイル）をベースに動作確認を行います。\n",
    "\n",
    "動作確認にあたっては、MySQLdb に接続できないため、ローカル環境テスト用の Bot クラスを使用しています。"
   ]
  },
  {
   "cell_type": "code",
   "execution_count": 1,
   "metadata": {
    "collapsed": false,
    "deletable": true,
    "editable": true
   },
   "outputs": [],
   "source": [
    "'''\n",
    "    テスト環境を準備するためのモジュールを使用します。\n",
    "'''\n",
    "import sys\n",
    "import os\n",
    "learning_dir = os.path.abspath(\"../../\") #<--- donusagi-bot/learning\n",
    "os.chdir(learning_dir)\n",
    "\n",
    "if learning_dir not in sys.path:\n",
    "    sys.path.append(learning_dir)\n",
    "\n",
    "from prototype.modules import TestTool"
   ]
  },
  {
   "cell_type": "code",
   "execution_count": 2,
   "metadata": {
    "collapsed": false,
    "deletable": true,
    "editable": true,
    "scrolled": false
   },
   "outputs": [
    {
     "name": "stdout",
     "output_type": "stream",
     "text": [
      "CSV file for test=[/Users/makmorit/GitHub/donusagi-bot/learning/prototype/resources/test_benefitone_conversation.csv]\n"
     ]
    }
   ],
   "source": [
    "'''\n",
    "    データファイルは、既存の訓練データを別場所にコピーしてから使用します\n",
    "    テストデータは、csv_file_name で指定したものを使用します。\n",
    "'''\n",
    "csv_file_name = 'test_benefitone_conversation.csv'\n",
    "copied_csv_file_path = TestTool.copy_testdata_csv(learning_dir, csv_file_name)"
   ]
  },
  {
   "cell_type": "markdown",
   "metadata": {
    "deletable": true,
    "editable": true
   },
   "source": [
    "## (2) TF-IDFベクターの準備\n",
    "\n",
    "Bot クラス内に組み込まれている __build_training_set_from_csv 関数をバラして実行しています。"
   ]
  },
  {
   "cell_type": "code",
   "execution_count": 3,
   "metadata": {
    "collapsed": false,
    "deletable": true,
    "editable": true
   },
   "outputs": [],
   "source": [
    "'''\n",
    "    初期設定\n",
    "    データファイル、エンコードを指定\n",
    "    内容は、learn.py を参考にしました。    \n",
    "'''\n",
    "from learning.core.learn.learning_parameter import LearningParameter\n",
    "attr = {\n",
    "    'include_failed_data': False,\n",
    "    'include_tag_vector': False,\n",
    "    'classify_threshold': None,\n",
    "    # 'algorithm': LearningParameter.ALGORITHM_NAIVE_BAYES\n",
    "    'algorithm': LearningParameter.ALGORITHM_LOGISTIC_REGRESSION,\n",
    "    # 'params_for_algorithm': { 'C': 200 }\n",
    "    'params_for_algorithm': {}\n",
    "}\n",
    "learning_parameter = LearningParameter(attr)\n",
    "\n",
    "bot_id = 7777\n",
    "csv_file_path = copied_csv_file_path\n",
    "csv_file_encoding = 'utf-8'"
   ]
  },
  {
   "cell_type": "code",
   "execution_count": 4,
   "metadata": {
    "collapsed": false,
    "deletable": true,
    "editable": true,
    "scrolled": true
   },
   "outputs": [
    {
     "name": "stderr",
     "output_type": "stream",
     "text": [
      "TrainingMessageFromCsv#__build_learning_training_messages count of learning data: 4114\n",
      "2017/03/14 PM 09:01:02 TrainingMessageFromCsv#__build_learning_training_messages count of learning data: 4114\n",
      "TextArray#__init__ start\n",
      "2017/03/14 PM 09:01:02 TextArray#__init__ start\n",
      "TextArray#to_vec start\n",
      "2017/03/14 PM 09:01:02 TextArray#to_vec start\n",
      "TextArray#to_vec end\n",
      "2017/03/14 PM 09:01:06 TextArray#to_vec end\n",
      "[[ 0.  0.  0. ...,  0.  0.  0.]\n",
      " [ 0.  0.  0. ...,  0.  0.  0.]\n",
      " [ 0.  0.  0. ...,  0.  0.  0.]\n",
      " ..., \n",
      " [ 0.  0.  0. ...,  0.  0.  0.]\n",
      " [ 0.  0.  0. ...,  0.  0.  0.]\n",
      " [ 0.  0.  0. ...,  0.  0.  0.]]\n",
      "2017/03/14 PM 09:01:06 [[ 0.  0.  0. ...,  0.  0.  0.]\n",
      " [ 0.  0.  0. ...,  0.  0.  0.]\n",
      " [ 0.  0.  0. ...,  0.  0.  0.]\n",
      " ..., \n",
      " [ 0.  0.  0. ...,  0.  0.  0.]\n",
      " [ 0.  0.  0. ...,  0.  0.  0.]\n",
      " [ 0.  0.  0. ...,  0.  0.  0.]]\n"
     ]
    }
   ],
   "source": [
    "'''\n",
    "    訓練データの生成（内部で TF-IDF 処理を実行）\n",
    "'''\n",
    "from learning.core.training_set.training_message_from_csv import TrainingMessageFromCsv\n",
    "training_set = TrainingMessageFromCsv(bot_id, csv_file_path, learning_parameter, encoding=csv_file_encoding)\n",
    "build_training_set_from_csv = training_set.build()"
   ]
  },
  {
   "cell_type": "code",
   "execution_count": 5,
   "metadata": {
    "collapsed": false,
    "deletable": true,
    "editable": true,
    "scrolled": false
   },
   "outputs": [
    {
     "data": {
      "text/plain": [
       "[[4677, 14],\n",
       " [4678, 2584],\n",
       " [4679, 14],\n",
       " [4680, 14],\n",
       " [4683, 14],\n",
       " [4686, 14],\n",
       " [4687, 8],\n",
       " [4690, 8],\n",
       " [4691, 14],\n",
       " [4692, 44],\n",
       " [4693, 30],\n",
       " [4700, 12],\n",
       " [4707, 18],\n",
       " [4708, 14],\n",
       " [4709, 14],\n",
       " [4710, 14],\n",
       " [4711, 14],\n",
       " [4712, 16],\n",
       " [4713, 14],\n",
       " [4718, 20],\n",
       " [4719, 8],\n",
       " [4720, 20],\n",
       " [4721, 8],\n",
       " [4724, 8],\n",
       " [4727, 14],\n",
       " [4728, 62],\n",
       " [4729, 26],\n",
       " [4730, 20],\n",
       " [4731, 14],\n",
       " [4732, 22],\n",
       " [4733, 14],\n",
       " [4734, 34],\n",
       " [4735, 12],\n",
       " [4738, 14],\n",
       " [4739, 14],\n",
       " [4740, 14],\n",
       " [4741, 8],\n",
       " [4742, 20],\n",
       " [4743, 14],\n",
       " [4744, 14],\n",
       " [4745, 20],\n",
       " [4750, 22],\n",
       " [4751, 20],\n",
       " [4752, 14],\n",
       " [4753, 8],\n",
       " [4754, 8],\n",
       " [4755, 14],\n",
       " [4756, 20],\n",
       " [4757, 8],\n",
       " [4758, 28],\n",
       " [4759, 14],\n",
       " [4760, 8],\n",
       " [4761, 20],\n",
       " [4762, 8],\n",
       " [4766, 14],\n",
       " [4767, 14],\n",
       " [4772, 60],\n",
       " [4776, 8],\n",
       " [4781, 14],\n",
       " [4782, 14],\n",
       " [4783, 20],\n",
       " [4786, 8],\n",
       " [4792, 20],\n",
       " [4793, 8],\n",
       " [4794, 8],\n",
       " [4795, 14],\n",
       " [4797, 42],\n",
       " [4798, 36],\n",
       " [4800, 14],\n",
       " [4802, 14],\n",
       " [4804, 14],\n",
       " [4807, 8],\n",
       " [4808, 106],\n",
       " [4817, 26],\n",
       " [4821, 24],\n",
       " [4824, 16],\n",
       " [4827, 8],\n",
       " [4830, 22],\n",
       " [4831, 14],\n",
       " [4833, 14],\n",
       " [4834, 14],\n",
       " [4835, 36],\n",
       " [4836, 30],\n",
       " [4837, 8]]"
      ]
     },
     "execution_count": 5,
     "metadata": {},
     "output_type": "execute_result"
    }
   ],
   "source": [
    "'''\n",
    "    ラベルごとのサンプル数を調査します。\n",
    "'''\n",
    "X = build_training_set_from_csv.x\n",
    "y = build_training_set_from_csv.y\n",
    "count = TestTool.count_sample_by_label(y)\n",
    "count"
   ]
  },
  {
   "cell_type": "markdown",
   "metadata": {
    "deletable": true,
    "editable": true
   },
   "source": [
    "## (3) 各種サンプリングの実行"
   ]
  },
  {
   "cell_type": "markdown",
   "metadata": {
    "deletable": true,
    "editable": true
   },
   "source": [
    "### (3-1) コンバイン手法\n",
    "\n",
    "２項ラベルのサンプリングについては、サポートはされているようです。\n",
    "\n",
    "http://contrib.scikit-learn.org/imbalanced-learn/auto_examples/index.html#examples-using-combine-class-methods\n",
    "\n",
    "多項ラベルのサンプリングは残念ながら、サポートされていないので、確認は見送りといたします。"
   ]
  },
  {
   "cell_type": "markdown",
   "metadata": {
    "deletable": true,
    "editable": true
   },
   "source": [
    "### (3-2) Easy ensemble\n",
    "\n",
    "以下、こちらを参考にしました。\n",
    "\n",
    "http://contrib.scikit-learn.org/imbalanced-learn/auto_examples/index.html#example-using-ensemble-class-methods\n",
    "\n",
    "Easy ensemble は「Random under-sampling」を１０回繰り返し、そのサブセットを返す手法になります。\n",
    "\n",
    "当然のことながら、結果は「Random under-sampling」と同じく、最小サンプル数にすべて揃えられてしまいます。"
   ]
  },
  {
   "cell_type": "code",
   "execution_count": 6,
   "metadata": {
    "collapsed": false,
    "deletable": true,
    "editable": true,
    "scrolled": true
   },
   "outputs": [],
   "source": [
    "'''\n",
    "    Easy ensemble with default\n",
    "'''\n",
    "from imblearn.ensemble import EasyEnsemble\n",
    "ee = EasyEnsemble()\n",
    "X_resampled, y_resampled = ee.fit_sample(X, y)"
   ]
  },
  {
   "cell_type": "code",
   "execution_count": 7,
   "metadata": {
    "collapsed": false,
    "deletable": true,
    "editable": true,
    "scrolled": true
   },
   "outputs": [
    {
     "name": "stdout",
     "output_type": "stream",
     "text": [
      "subset=0, label=4677, count=8\n",
      "subset=0, label=4678, count=8\n",
      "subset=0, label=4679, count=8\n",
      "subset=0, label=4680, count=8\n",
      "subset=0, label=4683, count=8\n",
      "subset=0, label=4686, count=8\n",
      "subset=0, label=4687, count=8\n",
      "subset=0, label=4690, count=8\n",
      "subset=0, label=4691, count=8\n",
      "subset=0, label=4692, count=8\n",
      "subset=1, label=4677, count=8\n",
      "subset=1, label=4678, count=8\n",
      "subset=1, label=4679, count=8\n",
      "subset=1, label=4680, count=8\n",
      "subset=1, label=4683, count=8\n",
      "subset=1, label=4686, count=8\n",
      "subset=1, label=4687, count=8\n",
      "subset=1, label=4690, count=8\n",
      "subset=1, label=4691, count=8\n",
      "subset=1, label=4692, count=8\n",
      "subset=2, label=4677, count=8\n",
      "subset=2, label=4678, count=8\n",
      "subset=2, label=4679, count=8\n",
      "subset=2, label=4680, count=8\n",
      "subset=2, label=4683, count=8\n",
      "subset=2, label=4686, count=8\n",
      "subset=2, label=4687, count=8\n",
      "subset=2, label=4690, count=8\n",
      "subset=2, label=4691, count=8\n",
      "subset=2, label=4692, count=8\n",
      "subset=3, label=4677, count=8\n",
      "subset=3, label=4678, count=8\n",
      "subset=3, label=4679, count=8\n",
      "subset=3, label=4680, count=8\n",
      "subset=3, label=4683, count=8\n",
      "subset=3, label=4686, count=8\n",
      "subset=3, label=4687, count=8\n",
      "subset=3, label=4690, count=8\n",
      "subset=3, label=4691, count=8\n",
      "subset=3, label=4692, count=8\n",
      "subset=4, label=4677, count=8\n",
      "subset=4, label=4678, count=8\n",
      "subset=4, label=4679, count=8\n",
      "subset=4, label=4680, count=8\n",
      "subset=4, label=4683, count=8\n",
      "subset=4, label=4686, count=8\n",
      "subset=4, label=4687, count=8\n",
      "subset=4, label=4690, count=8\n",
      "subset=4, label=4691, count=8\n",
      "subset=4, label=4692, count=8\n",
      "subset=5, label=4677, count=8\n",
      "subset=5, label=4678, count=8\n",
      "subset=5, label=4679, count=8\n",
      "subset=5, label=4680, count=8\n",
      "subset=5, label=4683, count=8\n",
      "subset=5, label=4686, count=8\n",
      "subset=5, label=4687, count=8\n",
      "subset=5, label=4690, count=8\n",
      "subset=5, label=4691, count=8\n",
      "subset=5, label=4692, count=8\n",
      "subset=6, label=4677, count=8\n",
      "subset=6, label=4678, count=8\n",
      "subset=6, label=4679, count=8\n",
      "subset=6, label=4680, count=8\n",
      "subset=6, label=4683, count=8\n",
      "subset=6, label=4686, count=8\n",
      "subset=6, label=4687, count=8\n",
      "subset=6, label=4690, count=8\n",
      "subset=6, label=4691, count=8\n",
      "subset=6, label=4692, count=8\n",
      "subset=7, label=4677, count=8\n",
      "subset=7, label=4678, count=8\n",
      "subset=7, label=4679, count=8\n",
      "subset=7, label=4680, count=8\n",
      "subset=7, label=4683, count=8\n",
      "subset=7, label=4686, count=8\n",
      "subset=7, label=4687, count=8\n",
      "subset=7, label=4690, count=8\n",
      "subset=7, label=4691, count=8\n",
      "subset=7, label=4692, count=8\n",
      "subset=8, label=4677, count=8\n",
      "subset=8, label=4678, count=8\n",
      "subset=8, label=4679, count=8\n",
      "subset=8, label=4680, count=8\n",
      "subset=8, label=4683, count=8\n",
      "subset=8, label=4686, count=8\n",
      "subset=8, label=4687, count=8\n",
      "subset=8, label=4690, count=8\n",
      "subset=8, label=4691, count=8\n",
      "subset=8, label=4692, count=8\n",
      "subset=9, label=4677, count=8\n",
      "subset=9, label=4678, count=8\n",
      "subset=9, label=4679, count=8\n",
      "subset=9, label=4680, count=8\n",
      "subset=9, label=4683, count=8\n",
      "subset=9, label=4686, count=8\n",
      "subset=9, label=4687, count=8\n",
      "subset=9, label=4690, count=8\n",
      "subset=9, label=4691, count=8\n",
      "subset=9, label=4692, count=8\n"
     ]
    }
   ],
   "source": [
    "for i, y_subsets in enumerate(y_resampled):\n",
    "    count = TestTool.count_sample_by_label(y_subsets)\n",
    "    for j in range(0, 10): #<---先頭の１０ラベル分のサンプリング件数を表示しています。\n",
    "        print('subset=%d, label=%d, count=%d' % (i, count[j][0], count[j][1]))"
   ]
  },
  {
   "cell_type": "markdown",
   "metadata": {
    "deletable": true,
    "editable": true
   },
   "source": [
    "### (3-3) Balance cascade　<---使えません\n",
    "\n",
    "２項ラベル以外には適用できないようです（警告ご参照）。多項ラベルを渡すと、異常なサンプリング結果を戻します。"
   ]
  },
  {
   "cell_type": "code",
   "execution_count": 9,
   "metadata": {
    "collapsed": false,
    "deletable": true,
    "editable": true,
    "scrolled": true
   },
   "outputs": [
    {
     "name": "stderr",
     "output_type": "stream",
     "text": [
      "/Library/Frameworks/Python.framework/Versions/3.5/lib/python3.5/site-packages/imblearn/base.py:306: UserWarning: The target type should be binary.\n",
      "  warnings.warn('The target type should be binary.')\n"
     ]
    }
   ],
   "source": [
    "'''\n",
    "    Balance cascade with default\n",
    "'''\n",
    "from imblearn.ensemble import BalanceCascade\n",
    "bc = BalanceCascade()\n",
    "X_res, y_res = bc.fit_sample(X, y)"
   ]
  },
  {
   "cell_type": "code",
   "execution_count": 10,
   "metadata": {
    "collapsed": false,
    "deletable": true,
    "editable": true
   },
   "outputs": [
    {
     "name": "stdout",
     "output_type": "stream",
     "text": [
      "subset=0, label=4678, count=6\n",
      "subset=0, label=4710, count=1\n",
      "subset=0, label=4741, count=8\n",
      "subset=0, label=4772, count=1\n",
      "subset=1, label=4678, count=6\n",
      "subset=1, label=4710, count=1\n",
      "subset=1, label=4741, count=8\n",
      "subset=1, label=4772, count=1\n",
      "subset=2, label=4678, count=5\n",
      "subset=2, label=4710, count=1\n",
      "subset=2, label=4741, count=8\n",
      "subset=2, label=4743, count=1\n",
      "subset=2, label=4772, count=1\n",
      "subset=3, label=4678, count=2\n",
      "subset=3, label=4710, count=1\n",
      "subset=3, label=4713, count=1\n",
      "subset=3, label=4734, count=1\n",
      "subset=3, label=4741, count=8\n",
      "subset=3, label=4743, count=1\n",
      "subset=3, label=4772, count=1\n",
      "subset=3, label=4797, count=1\n",
      "subset=4, label=4678, count=3\n",
      "subset=4, label=4710, count=1\n",
      "subset=4, label=4734, count=1\n",
      "subset=4, label=4741, count=8\n",
      "subset=4, label=4743, count=1\n",
      "subset=4, label=4772, count=1\n",
      "subset=4, label=4824, count=1\n",
      "subset=5, label=4678, count=2\n",
      "subset=5, label=4710, count=1\n",
      "subset=5, label=4734, count=1\n",
      "subset=5, label=4741, count=8\n",
      "subset=5, label=4743, count=1\n",
      "subset=5, label=4772, count=1\n",
      "subset=5, label=4795, count=1\n",
      "subset=5, label=4824, count=1\n",
      "subset=6, label=4678, count=1\n",
      "subset=6, label=4710, count=1\n",
      "subset=6, label=4732, count=1\n",
      "subset=6, label=4734, count=1\n",
      "subset=6, label=4741, count=8\n",
      "subset=6, label=4743, count=1\n",
      "subset=6, label=4772, count=1\n",
      "subset=6, label=4795, count=1\n",
      "subset=6, label=4824, count=1\n",
      "subset=7, label=4710, count=1\n",
      "subset=7, label=4734, count=1\n",
      "subset=7, label=4741, count=8\n",
      "subset=7, label=4743, count=1\n",
      "subset=7, label=4772, count=1\n",
      "subset=7, label=4782, count=1\n",
      "subset=7, label=4795, count=1\n",
      "subset=7, label=4824, count=1\n",
      "subset=7, label=4830, count=1\n",
      "subset=8, label=4678, count=1\n",
      "subset=8, label=4710, count=1\n",
      "subset=8, label=4729, count=1\n",
      "subset=8, label=4734, count=1\n",
      "subset=8, label=4741, count=8\n",
      "subset=8, label=4743, count=1\n",
      "subset=8, label=4772, count=1\n",
      "subset=8, label=4795, count=1\n",
      "subset=8, label=4830, count=1\n",
      "subset=9, label=4678, count=2\n",
      "subset=9, label=4729, count=1\n",
      "subset=9, label=4733, count=1\n",
      "subset=9, label=4734, count=1\n",
      "subset=9, label=4741, count=8\n",
      "subset=9, label=4772, count=1\n",
      "subset=9, label=4795, count=1\n",
      "subset=9, label=4830, count=1\n",
      "subset=10, label=4678, count=3\n",
      "subset=10, label=4729, count=1\n",
      "subset=10, label=4733, count=1\n",
      "subset=10, label=4741, count=8\n",
      "subset=10, label=4772, count=1\n",
      "subset=10, label=4795, count=1\n",
      "subset=10, label=4830, count=1\n",
      "以下省略します。サブセットの件数=2532\n"
     ]
    }
   ],
   "source": [
    "for i, y_subsets in enumerate(y_res):\n",
    "    count = TestTool.count_sample_by_label(y_subsets)\n",
    "    k = len(count)\n",
    "    if k > 10:\n",
    "        k = 10\n",
    "    for j in range(0, k): #<---先頭の１０ラベル分のサンプリング件数を表示しています。\n",
    "        print('subset=%d, label=%d, count=%d' % (i, count[j][0], count[j][1]))\n",
    "    if i == 10:\n",
    "        print('以下省略します。サブセットの件数=%d' % len(y_res))\n",
    "        break"
   ]
  }
 ],
 "metadata": {
  "kernelspec": {
   "display_name": "Python 3",
   "language": "python",
   "name": "python3"
  },
  "language_info": {
   "codemirror_mode": {
    "name": "ipython",
    "version": 3
   },
   "file_extension": ".py",
   "mimetype": "text/x-python",
   "name": "python",
   "nbconvert_exporter": "python",
   "pygments_lexer": "ipython3",
   "version": "3.5.2"
  }
 },
 "nbformat": 4,
 "nbformat_minor": 2
}
