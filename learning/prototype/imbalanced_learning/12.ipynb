{
 "cells": [
  {
   "cell_type": "markdown",
   "metadata": {
    "deletable": true,
    "editable": true
   },
   "source": [
    "# One-class SVM 動作確認（再試行）\n",
    "\n",
    "scikit-learn の <b>One-class SVM</b> のテストを再試行しました。"
   ]
  },
  {
   "cell_type": "markdown",
   "metadata": {
    "deletable": true,
    "editable": true
   },
   "source": [
    "## (0) 結果と結論\n",
    "\n",
    "結果としては、\n",
    "\n",
    "- 非線形カーネルでは、feature 抽出件数が０件（質問文に、学習時のボキャブラリが出現しない）時、アノマリー検出されない\n",
    "\n",
    " 非線形カーネル以外では、全てのケースで feature０件時はアノマリーとして検出されるのを確認しております。\n",
    " \n",
    " \n",
    "- 「する」というfeatureが抽出された質問文は、feature抽出件数＜５件のケースで、アノマリーと検出されない\n",
    "\n",
    " 今回の検証ではデータを大幅に（７倍近くに）増やしたのですが、この点は改善することはありませんでした。\n",
    " \n",
    " ただし、feature抽出件数が５件以上になると「する」の存在にかかわらず、アノマリーと検出されるようです（個々のfeatureの影響度合が弱くなるせいか？）。\n",
    "\n",
    "~~~\n",
    "feature 抽出結果の例：\n",
    "'要素技術は自然languageの機械learningですか？'-->[]\n",
    "'人生相談をしたいのですが？'-->[する=1.000]\n",
    "'難解なプログラミング技術を調達？'-->[調達=1.000]\n",
    "'何か習い事をしますか？'-->[する=0.707 何=0.707]\n",
    "'何か習い事がいいですか？'-->[いい=0.707 何=0.707]\n",
    "'何か習い事をしたほうがいいですか？'-->[いい=0.577 する=0.577 何=0.577]\n",
    "'何か習い事を行うほうがいいですか？'-->[いい=0.577 何=0.577 行う=0.577]\n",
    "'会社を辞めたいのですが誰に相談するのがいいですか？'-->[いい=0.500 する=0.500 会社=0.500 誰=0.500]\n",
    "'会社を辞めたいのですが誰に相談を行うのがいいですか？'-->[いい=0.500 会社=0.500 行う=0.500 誰=0.500]\n",
    "'有給休暇を取って海外に行き旅行する意向があります。'-->[する=0.447 休暇=0.447 取る=0.447 海外=0.447 行く=0.447]\n",
    "'有給休暇を取って海外に行きたいと思っています。'-->[休暇=0.447 取る=0.447 思う=0.447 海外=0.447 行く=0.447]\n",
    "~~~\n",
    "\n",
    "結論としては、\n",
    "\n",
    "- One-class SVMのカーネルを非線形カーネルとする\n",
    "\n",
    " \n",
    "- 「する」などの高頻出 feature の影響度合いを、カスタムカーネル（またはTF-IDFの見直し）などにより弱める\n",
    " \n",
    "といったところで上記事象は回避できるのかと思われます。"
   ]
  },
  {
   "cell_type": "markdown",
   "metadata": {
    "deletable": true,
    "editable": true
   },
   "source": [
    "## (1) テストデータ／環境準備\n",
    "\n",
    "マイオペで使用しているテストデータ（learning/tests/engine/fixtures/ 配下のCSVファイル）をベースに動作確認を行います。\n",
    "\n",
    "動作確認にあたっては、MySQLdb に接続できないため、ローカル環境テスト用の Bot クラスを使用しています。"
   ]
  },
  {
   "cell_type": "code",
   "execution_count": 1,
   "metadata": {
    "collapsed": false,
    "deletable": true,
    "editable": true
   },
   "outputs": [],
   "source": [
    "'''\n",
    "    テスト環境を準備するためのモジュールを使用します。\n",
    "'''\n",
    "import sys\n",
    "import os\n",
    "learning_dir = os.path.abspath(\"../../\") #<--- donusagi-bot/learning\n",
    "os.chdir(learning_dir)\n",
    "\n",
    "if learning_dir not in sys.path:\n",
    "    sys.path.append(learning_dir)\n",
    "\n",
    "from prototype.modules import TestTool"
   ]
  },
  {
   "cell_type": "code",
   "execution_count": 2,
   "metadata": {
    "collapsed": false,
    "deletable": true,
    "editable": true,
    "scrolled": false
   },
   "outputs": [
    {
     "name": "stdout",
     "output_type": "stream",
     "text": [
      "CSV file for test=[/Users/makmorit/GitHub/donusagi-bot/learning/prototype/resources/test_benefitone_conversation.csv]\n",
      "CSV file for test=[/Users/makmorit/GitHub/donusagi-bot/learning/prototype/resources/test_daikin_conversation.csv]\n",
      "CSV file for test=[/Users/makmorit/GitHub/donusagi-bot/learning/prototype/resources/test_ptna_conversation.csv]\n",
      "CSV file for test=[/Users/makmorit/GitHub/donusagi-bot/learning/prototype/resources/test_septeni_conversation.csv]\n"
     ]
    },
    {
     "data": {
      "text/plain": [
       "['/Users/makmorit/GitHub/donusagi-bot/learning/prototype/resources/test_benefitone_conversation.csv',\n",
       " '/Users/makmorit/GitHub/donusagi-bot/learning/prototype/resources/test_daikin_conversation.csv',\n",
       " '/Users/makmorit/GitHub/donusagi-bot/learning/prototype/resources/test_ptna_conversation.csv',\n",
       " '/Users/makmorit/GitHub/donusagi-bot/learning/prototype/resources/test_septeni_conversation.csv']"
      ]
     },
     "execution_count": 2,
     "metadata": {},
     "output_type": "execute_result"
    }
   ],
   "source": [
    "'''\n",
    "    データファイルは、既存の訓練データを別場所にコピーしてから使用します\n",
    "    テストデータは、csv_file_name で指定した複数件のファイルを使用します。\n",
    "'''\n",
    "csv_file_names = [\n",
    "    'test_benefitone_conversation.csv',\n",
    "    'test_daikin_conversation.csv',\n",
    "    'test_ptna_conversation.csv',\n",
    "    'test_septeni_conversation.csv'\n",
    "]\n",
    "copied_csv_file_paths = TestTool.copy_testdata_csv(learning_dir, csv_file_names)\n",
    "copied_csv_file_paths"
   ]
  },
  {
   "cell_type": "markdown",
   "metadata": {
    "deletable": true,
    "editable": true
   },
   "source": [
    "## (2) TF-IDFベクターの準備\n",
    "\n",
    "Bot クラス内に組み込まれている __build_training_set_from_csv 関数をバラして実行しています。"
   ]
  },
  {
   "cell_type": "code",
   "execution_count": 3,
   "metadata": {
    "collapsed": false,
    "deletable": true,
    "editable": true
   },
   "outputs": [],
   "source": [
    "'''\n",
    "    初期設定\n",
    "    データファイル、エンコードを指定\n",
    "    内容は、learn.py を参考にしました。    \n",
    "'''\n",
    "from learning.core.learn.learning_parameter import LearningParameter\n",
    "attr = {\n",
    "    'include_failed_data': False,\n",
    "    'include_tag_vector': False,\n",
    "    'classify_threshold': None,\n",
    "    # 'algorithm': LearningParameter.ALGORITHM_NAIVE_BAYES\n",
    "    'algorithm': LearningParameter.ALGORITHM_LOGISTIC_REGRESSION,\n",
    "    # 'params_for_algorithm': { 'C': 200 }\n",
    "    'params_for_algorithm': {}\n",
    "}\n",
    "learning_parameter = LearningParameter(attr)\n",
    "\n",
    "bot_id = 7777\n",
    "csv_file_encoding = 'utf-8'"
   ]
  },
  {
   "cell_type": "markdown",
   "metadata": {
    "deletable": true,
    "editable": true
   },
   "source": [
    "### (2-1) 訓練データのTF-IDFベクター"
   ]
  },
  {
   "cell_type": "code",
   "execution_count": 4,
   "metadata": {
    "collapsed": false,
    "deletable": true,
    "editable": true,
    "scrolled": false
   },
   "outputs": [
    {
     "name": "stderr",
     "output_type": "stream",
     "text": [
      "2017/03/21 PM 10:32:32 TrainingMessageFromCsv#__build_learning_training_messages count of learning data: 28272\n",
      "2017/03/21 PM 10:32:32 TextArray#__init__ start\n",
      "2017/03/21 PM 10:32:48 TextArray#to_vec start\n",
      "2017/03/21 PM 10:32:48 TextArray#to_vec end\n"
     ]
    }
   ],
   "source": [
    "'''\n",
    "    訓練データの生成（内部で TF-IDF 処理を実行）\n",
    "\n",
    "    TrainingMessageFromCsv は、\n",
    "    ファイル名のリスト（copied_csv_file_paths）を受け取ると、\n",
    "    Dataset を連結してくれるようカスタマイズしてあります。\n",
    "'''\n",
    "#from learning.core.training_set.training_message_from_csv import TrainingMessageFromCsv\n",
    "from prototype.modules.training_message_from_csv import TrainingMessageFromCsv\n",
    "training_set = TrainingMessageFromCsv(bot_id, copied_csv_file_paths, learning_parameter, encoding=csv_file_encoding)\n",
    "build_training_set_from_csv = training_set.build()\n",
    "\n",
    "X = build_training_set_from_csv.x\n",
    "y = build_training_set_from_csv.y"
   ]
  },
  {
   "cell_type": "markdown",
   "metadata": {
    "deletable": true,
    "editable": true
   },
   "source": [
    "### (2-2) 外れデータのTF-IDFベクター"
   ]
  },
  {
   "cell_type": "code",
   "execution_count": 5,
   "metadata": {
    "collapsed": false,
    "deletable": true,
    "editable": true,
    "scrolled": true
   },
   "outputs": [
    {
     "name": "stderr",
     "output_type": "stream",
     "text": [
      "2017/03/21 PM 10:32:48 TextArray#__init__ start\n",
      "2017/03/21 PM 10:32:48 TextArray#to_vec start\n",
      "2017/03/21 PM 10:32:48 TextArray#to_vec end\n"
     ]
    }
   ],
   "source": [
    "'''\n",
    "    マイオペのプロダクション・コードと同じように、\n",
    "    訓練データ作成時と同じベクトライザーを使用します。\n",
    "'''\n",
    "from learning.core.training_set.text_array import TextArray\n",
    "\n",
    "test_X = [\n",
    "    '要素技術は自然languageの機械learningですか？', # まったくfeatureが抽出されない質問文\n",
    "\n",
    "    '人生相談をしたいのですが？', # featureが１件抽出されるな質問文「する」を含む\n",
    "    '難解なプログラミング技術を調達？', # featureが１件抽出される質問文「する」を含まない\n",
    "\n",
    "    '何か習い事をしますか？', # featureが２件抽出される質問文「する」を含む\n",
    "    '何か習い事がいいですか？', # featureが２件抽出される質問文「する」を含まない\n",
    "    \n",
    "    '何か習い事をしたほうがいいですか？', # featureが３件抽出される質問文「する」を含む\n",
    "    '何か習い事を行うほうがいいですか？', # featureが３件抽出される質問文「する」を含まない\n",
    "    \n",
    "    '会社を辞めたいのですが誰に相談するのがいいですか？', # featureが４件抽出される質問文「する」を含む\n",
    "    '会社を辞めたいのですが誰に相談を行うのがいいですか？', # featureが４件抽出される質問文「する」を含まない\n",
    "\n",
    "    '有給休暇を取って海外に行き旅行する意向があります。', # featureが５件抽出される質問文「する」を含む\n",
    "    '有給休暇を取って海外に行きたいと思っています。', # featureが５件抽出される質問文「する」を含まない\n",
    "]\n",
    "vectorizer = training_set.body_array.vectorizer\n",
    "text_array = TextArray(test_X, vectorizer=vectorizer)\n",
    "\n",
    "'''\n",
    "    外れデータのTF-IDFベクターを取得\n",
    "'''\n",
    "X_error = text_array.to_vec()"
   ]
  },
  {
   "cell_type": "markdown",
   "metadata": {
    "deletable": true,
    "editable": true
   },
   "source": [
    "### (2-3) 外れデータのfeatureを確認"
   ]
  },
  {
   "cell_type": "code",
   "execution_count": 6,
   "metadata": {
    "collapsed": false,
    "deletable": true,
    "editable": true
   },
   "outputs": [],
   "source": [
    "'''\n",
    "    feature をダンプするためのツール\n",
    "'''\n",
    "def get_item_from_vocabulary(vocabulary, index):\n",
    "    for k, v in vocabulary.items():\n",
    "        if v == index:\n",
    "            return k\n",
    "\n",
    "    return None\n",
    "\n",
    "def dump_features(arr, vocabulary):\n",
    "    features_str = ''\n",
    "\n",
    "    for i, v in enumerate(arr):\n",
    "        if v == 0.0:\n",
    "            continue\n",
    "\n",
    "        if features_str != '':\n",
    "            features_str += ' '\n",
    "        \n",
    "        item = get_item_from_vocabulary(vocabulary, i)\n",
    "        features_str += '%s=%0.3f' % (item, v)\n",
    "\n",
    "    return '[' + features_str + ']'\n",
    "\n",
    "def get_dumped_features(X_error, vocabulary):\n",
    "    dumped_features = []\n",
    "\n",
    "    for i, label in enumerate(X_error):\n",
    "        arr = X_error[i].toarray()[0]\n",
    "        dump_str = dump_features(arr, vocabulary)\n",
    "        dumped_features.append('index=%d%s' % (i, dump_str))\n",
    "\n",
    "    return dumped_features"
   ]
  },
  {
   "cell_type": "code",
   "execution_count": 7,
   "metadata": {
    "collapsed": false,
    "deletable": true,
    "editable": true,
    "scrolled": true
   },
   "outputs": [
    {
     "name": "stdout",
     "output_type": "stream",
     "text": [
      "index=0[]\n",
      "index=1[する=1.000]\n",
      "index=2[調達=1.000]\n",
      "index=3[する=0.707 何=0.707]\n",
      "index=4[いい=0.707 何=0.707]\n",
      "index=5[いい=0.577 する=0.577 何=0.577]\n",
      "index=6[いい=0.577 何=0.577 行う=0.577]\n",
      "index=7[いい=0.500 する=0.500 会社=0.500 誰=0.500]\n",
      "index=8[いい=0.500 会社=0.500 行う=0.500 誰=0.500]\n",
      "index=9[する=0.447 休暇=0.447 取る=0.447 海外=0.447 行く=0.447]\n",
      "index=10[休暇=0.447 取る=0.447 思う=0.447 海外=0.447 行く=0.447]\n"
     ]
    }
   ],
   "source": [
    "vocabulary = text_array._vectorizer.vocabulary_\n",
    "dumped_features = get_dumped_features(X_error, vocabulary)\n",
    "for d in dumped_features:\n",
    "    print(d)"
   ]
  },
  {
   "cell_type": "markdown",
   "metadata": {
    "deletable": true,
    "editable": true
   },
   "source": [
    "## (3) One-class SVMで学習（複数の手順を使用して比較）"
   ]
  },
  {
   "cell_type": "markdown",
   "metadata": {
    "deletable": true,
    "editable": true
   },
   "source": [
    "### (3-1) 非線形カーネルを使用（RBF）"
   ]
  },
  {
   "cell_type": "code",
   "execution_count": 8,
   "metadata": {
    "collapsed": false,
    "deletable": true,
    "editable": true,
    "scrolled": true
   },
   "outputs": [
    {
     "data": {
      "text/plain": [
       "OneClassSVM(cache_size=200, coef0=0.0, degree=3, gamma=0.1, kernel='rbf',\n",
       "      max_iter=-1, nu=0.5, random_state=None, shrinking=True, tol=0.001,\n",
       "      verbose=False)"
      ]
     },
     "execution_count": 8,
     "metadata": {},
     "output_type": "execute_result"
    }
   ],
   "source": [
    "'''\n",
    "    One-class SVM with non-linear kernel, anomary is half\n",
    "        fn(i,j) = exp(-gamma*|i-j|^2)\n",
    "'''\n",
    "from sklearn import svm\n",
    "clf_rbf = svm.OneClassSVM(\n",
    "    kernel='rbf', # RBFカーネルを使用\n",
    "    gamma=0.1,    # 係数（デフォルト＝[1/feature数]）\n",
    "    nu=0.5        # 外れ判定される件数の見積もりを全体の5割と想定\n",
    "    ) \n",
    "clf_rbf.fit(X)"
   ]
  },
  {
   "cell_type": "markdown",
   "metadata": {
    "deletable": true,
    "editable": true
   },
   "source": [
    "### (3-2) 多項式カーネルを使用"
   ]
  },
  {
   "cell_type": "code",
   "execution_count": 9,
   "metadata": {
    "collapsed": false,
    "deletable": true,
    "editable": true,
    "scrolled": true
   },
   "outputs": [
    {
     "data": {
      "text/plain": [
       "OneClassSVM(cache_size=200, coef0=1.0, degree=2, gamma=0.1, kernel='poly',\n",
       "      max_iter=-1, nu=0.5, random_state=None, shrinking=True, tol=0.001,\n",
       "      verbose=False)"
      ]
     },
     "execution_count": 9,
     "metadata": {},
     "output_type": "execute_result"
    }
   ],
   "source": [
    "'''\n",
    "    One-class SVM with Polynomial kernel, anomary is half\n",
    "        fn(i,j) = (gamma*i'*j + coef0)^degree\n",
    "'''\n",
    "from sklearn import svm\n",
    "clf_poly = svm.OneClassSVM(\n",
    "    kernel='poly', # Polynomialカーネルを使用\n",
    "    gamma=0.1,     # 係数 （デフォルト＝[1/feature数]）\n",
    "    coef0=1.0,     # オフセット（デフォルト＝0）\n",
    "    degree=2,      # 乗数（デフォルト＝3）\n",
    "    nu=0.5         # 外れ判定される件数の見積もりを全体の5割と想定\n",
    "    ) \n",
    "clf_poly.fit(X)"
   ]
  },
  {
   "cell_type": "markdown",
   "metadata": {
    "deletable": true,
    "editable": true
   },
   "source": [
    "### (3-3) シグモイドカーネルを使用"
   ]
  },
  {
   "cell_type": "code",
   "execution_count": 10,
   "metadata": {
    "collapsed": false,
    "deletable": true,
    "editable": true,
    "scrolled": false
   },
   "outputs": [
    {
     "data": {
      "text/plain": [
       "OneClassSVM(cache_size=200, coef0=0.5, degree=3, gamma=0.1, kernel='sigmoid',\n",
       "      max_iter=-1, nu=0.5, random_state=None, shrinking=True, tol=0.001,\n",
       "      verbose=False)"
      ]
     },
     "execution_count": 10,
     "metadata": {},
     "output_type": "execute_result"
    }
   ],
   "source": [
    "'''\n",
    "    One-class SVM with Sigmoid kernel, anomary is half\n",
    "        fn(i,j) = tanh(gamma*i'*j + coef0)\n",
    "'''\n",
    "from sklearn import svm\n",
    "clf_sigmoid = svm.OneClassSVM(\n",
    "    kernel='sigmoid', # シグモイドカーネルを使用\n",
    "    gamma=0.1,        # 係数（デフォルト＝[1/feature数]）\n",
    "    coef0=0.5,        # オフセット（デフォルト＝0）\n",
    "    nu=0.5            # 外れ判定される件数の見積もりを全体の5割と想定\n",
    "    ) \n",
    "clf_sigmoid.fit(X)"
   ]
  },
  {
   "cell_type": "markdown",
   "metadata": {
    "deletable": true,
    "editable": true
   },
   "source": [
    "### (3-4) 線形カーネルを使用"
   ]
  },
  {
   "cell_type": "code",
   "execution_count": 11,
   "metadata": {
    "collapsed": false,
    "deletable": true,
    "editable": true,
    "scrolled": true
   },
   "outputs": [
    {
     "data": {
      "text/plain": [
       "OneClassSVM(cache_size=200, coef0=0.0, degree=3, gamma='auto',\n",
       "      kernel='linear', max_iter=-1, nu=0.5, random_state=None,\n",
       "      shrinking=True, tol=0.001, verbose=False)"
      ]
     },
     "execution_count": 11,
     "metadata": {},
     "output_type": "execute_result"
    }
   ],
   "source": [
    "'''\n",
    "    One-class SVM with linear kernel, anomary is half\n",
    "        fn(i,j) = i'*j\n",
    "'''\n",
    "from sklearn import svm\n",
    "clf_linear = svm.OneClassSVM(\n",
    "    kernel='linear', # linearカーネルを使用\n",
    "    nu=0.5           # 外れ判定される件数の見積もりを全体の5割と想定\n",
    "    ) \n",
    "clf_linear.fit(X)"
   ]
  },
  {
   "cell_type": "markdown",
   "metadata": {
    "deletable": true,
    "editable": true
   },
   "source": [
    "### (3-5) ご参考：線形カーネルベースのカスタムカーネルを使用\n",
    "\n",
    "詳しくは<a href=\"11.ipynb\"><b>こちらをご参照</b></a>"
   ]
  },
  {
   "cell_type": "code",
   "execution_count": 12,
   "metadata": {
    "collapsed": true,
    "deletable": true,
    "editable": true
   },
   "outputs": [],
   "source": [
    "'''\n",
    "    カスタムカーネル\n",
    "'''\n",
    "from scipy.sparse import csr_matrix\n",
    "import numpy as np\n",
    "\n",
    "def clear_features(matrix):\n",
    "    n_sample = matrix.shape[0]\n",
    "    n_feature = matrix.shape[1]\n",
    "    \n",
    "    for i in range(0, n_sample):\n",
    "        row = matrix.getrow(i)\n",
    "        cnt_feature = row.getnnz()\n",
    "        if cnt_feature > 1:\n",
    "            continue # feature が２件以上あるサンプルはパス\n",
    "\n",
    "        # feature が１件以下の場合は、全列をゼロクリア\n",
    "        matrix[i] = csr_matrix((1, n_feature))\n",
    "\n",
    "def svm_custom_kernel(X, Y):\n",
    "    # feature数が２件未満のサンプルは、feature が無いものと扱い、\n",
    "    # 一律アノマリーと判定させます <---これはひとつの例です\n",
    "    clear_features(X)\n",
    "    \n",
    "    # 線形カーネルと同様に演算します\n",
    "    return np.dot(X, Y.T)"
   ]
  },
  {
   "cell_type": "code",
   "execution_count": 13,
   "metadata": {
    "collapsed": false,
    "deletable": true,
    "editable": true,
    "scrolled": true
   },
   "outputs": [
    {
     "data": {
      "text/plain": [
       "OneClassSVM(cache_size=200, coef0=0.0, degree=3, gamma='auto',\n",
       "      kernel=<function svm_custom_kernel at 0x10b44c9d8>, max_iter=-1,\n",
       "      nu=0.5, random_state=None, shrinking=True, tol=0.001, verbose=False)"
      ]
     },
     "execution_count": 13,
     "metadata": {},
     "output_type": "execute_result"
    }
   ],
   "source": [
    "'''\n",
    "    One-class SVM with customized kernel, anomary is checked in kernel\n",
    "        fn(i,j) = i'*j\n",
    "'''\n",
    "from sklearn import svm\n",
    "clf_custom = svm.OneClassSVM(\n",
    "    kernel=svm_custom_kernel # カスタムカーネルを使用\n",
    "    ) \n",
    "clf_custom.fit(X)"
   ]
  },
  {
   "cell_type": "markdown",
   "metadata": {
    "deletable": true,
    "editable": true
   },
   "source": [
    "## (4) 外れデータを使って予測"
   ]
  },
  {
   "cell_type": "markdown",
   "metadata": {
    "deletable": true,
    "editable": true
   },
   "source": [
    "カーネルを変更すると、予測結果が若干変わってきます。"
   ]
  },
  {
   "cell_type": "code",
   "execution_count": 14,
   "metadata": {
    "collapsed": false,
    "deletable": true,
    "editable": true
   },
   "outputs": [],
   "source": [
    "'''\n",
    "    外れデータを使用して、外れ判定を実行してみます\n",
    "'''\n",
    "y_pred_by_rbf = clf_rbf.predict(X_error)\n",
    "y_pred_by_poly = clf_poly.predict(X_error)\n",
    "y_pred_by_sigmoid = clf_sigmoid.predict(X_error)\n",
    "y_pred_by_linear = clf_linear.predict(X_error)\n",
    "y_pred_by_custom = clf_custom.predict(X_error)"
   ]
  },
  {
   "cell_type": "markdown",
   "metadata": {
    "deletable": true,
    "editable": true
   },
   "source": [
    "#### X_error の 質問文と feature はこちら（再掲）"
   ]
  },
  {
   "cell_type": "code",
   "execution_count": 15,
   "metadata": {
    "collapsed": false,
    "deletable": true,
    "editable": true
   },
   "outputs": [
    {
     "name": "stdout",
     "output_type": "stream",
     "text": [
      "index=0[]\n",
      "index=1[する=1.000]\n",
      "index=2[調達=1.000]\n",
      "index=3[する=0.707 何=0.707]\n",
      "index=4[いい=0.707 何=0.707]\n",
      "index=5[いい=0.577 する=0.577 何=0.577]\n",
      "index=6[いい=0.577 何=0.577 行う=0.577]\n",
      "index=7[いい=0.500 する=0.500 会社=0.500 誰=0.500]\n",
      "index=8[いい=0.500 会社=0.500 行う=0.500 誰=0.500]\n",
      "index=9[する=0.447 休暇=0.447 取る=0.447 海外=0.447 行く=0.447]\n",
      "index=10[休暇=0.447 取る=0.447 思う=0.447 海外=0.447 行く=0.447]\n"
     ]
    }
   ],
   "source": [
    "for d in dumped_features:\n",
    "    print(d)"
   ]
  },
  {
   "cell_type": "markdown",
   "metadata": {
    "deletable": true,
    "editable": true
   },
   "source": [
    "#### 非線形カーネルの場合\n",
    "\n",
    "明らかに異常な質問文（index0＝feature抽出件数０の質問文）に対して、正常と判定されてしまいます。\n",
    " \n",
    "これはプロダクションへの選択肢としては無しかと存じます。\n",
    " \n",
    "また、「する」というfeatureが抽出された質問文（index1, 3, 5, 7）は、アノマリーと判定されませんでした。"
   ]
  },
  {
   "cell_type": "code",
   "execution_count": 16,
   "metadata": {
    "collapsed": false,
    "deletable": true,
    "editable": true,
    "scrolled": true
   },
   "outputs": [
    {
     "data": {
      "text/plain": [
       "array([ 1.,  1., -1.,  1., -1.,  1., -1.,  1., -1., -1., -1.])"
      ]
     },
     "execution_count": 16,
     "metadata": {},
     "output_type": "execute_result"
    }
   ],
   "source": [
    "y_pred_by_rbf"
   ]
  },
  {
   "cell_type": "markdown",
   "metadata": {
    "deletable": true,
    "editable": true
   },
   "source": [
    "#### 多項式カーネル、シグモイドカーネル、線形カーネルの場合\n",
    "\n",
    "結果は全て同じですが、明らかに異常な質問文（index0）は、アノマリーと判定されました。\n",
    "\n",
    "ただし「する」というfeatureが抽出された質問文（index1, 3, 5, 7）は、アノマリーと判定されませんでした。"
   ]
  },
  {
   "cell_type": "code",
   "execution_count": 17,
   "metadata": {
    "collapsed": false,
    "deletable": true,
    "editable": true,
    "scrolled": true
   },
   "outputs": [
    {
     "data": {
      "text/plain": [
       "array([-1.,  1., -1.,  1., -1.,  1., -1.,  1., -1., -1., -1.])"
      ]
     },
     "execution_count": 17,
     "metadata": {},
     "output_type": "execute_result"
    }
   ],
   "source": [
    "y_pred_by_poly"
   ]
  },
  {
   "cell_type": "code",
   "execution_count": 18,
   "metadata": {
    "collapsed": false,
    "deletable": true,
    "editable": true,
    "scrolled": true
   },
   "outputs": [
    {
     "data": {
      "text/plain": [
       "array([-1.,  1., -1.,  1., -1.,  1., -1.,  1., -1., -1., -1.])"
      ]
     },
     "execution_count": 18,
     "metadata": {},
     "output_type": "execute_result"
    }
   ],
   "source": [
    "y_pred_by_sigmoid"
   ]
  },
  {
   "cell_type": "code",
   "execution_count": 19,
   "metadata": {
    "collapsed": false,
    "deletable": true,
    "editable": true,
    "scrolled": true
   },
   "outputs": [
    {
     "data": {
      "text/plain": [
       "array([-1.,  1., -1.,  1., -1.,  1., -1.,  1., -1., -1., -1.])"
      ]
     },
     "execution_count": 19,
     "metadata": {},
     "output_type": "execute_result"
    }
   ],
   "source": [
    "y_pred_by_linear"
   ]
  },
  {
   "cell_type": "markdown",
   "metadata": {
    "deletable": true,
    "editable": true
   },
   "source": [
    "#### ご参考：カスタムカーネルの場合\n",
    "\n",
    "明らかに異常な質問文（index0）は、アノマリーと判定されました。\n",
    "\n",
    "同時に、１件しかfeatureが抽出されない質問文（index1, 2）も、アノマリーと判定されます（これはカスタムカーネルに起因する挙動）。\n",
    "\n",
    "あとはベースの線形カーネルと同じ結果になります。"
   ]
  },
  {
   "cell_type": "code",
   "execution_count": 20,
   "metadata": {
    "collapsed": false,
    "deletable": true,
    "editable": true,
    "scrolled": true
   },
   "outputs": [
    {
     "data": {
      "text/plain": [
       "array([-1., -1., -1.,  1., -1.,  1., -1.,  1., -1., -1., -1.])"
      ]
     },
     "execution_count": 20,
     "metadata": {},
     "output_type": "execute_result"
    }
   ],
   "source": [
    "y_pred_by_custom"
   ]
  }
 ],
 "metadata": {
  "kernelspec": {
   "display_name": "Python 3",
   "language": "python",
   "name": "python3"
  },
  "language_info": {
   "codemirror_mode": {
    "name": "ipython",
    "version": 3
   },
   "file_extension": ".py",
   "mimetype": "text/x-python",
   "name": "python",
   "nbconvert_exporter": "python",
   "pygments_lexer": "ipython3",
   "version": "3.5.2"
  }
 },
 "nbformat": 4,
 "nbformat_minor": 2
}
