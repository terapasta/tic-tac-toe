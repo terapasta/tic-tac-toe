{
 "cells": [
  {
   "cell_type": "markdown",
   "metadata": {
    "deletable": true,
    "editable": true
   },
   "source": [
    "# 「する」の頻出度合いを調査\n",
    "\n",
    "学習時に「する」というfeatureが相当高頻度であることが確認されました。\n",
    "\n",
    "状況を見るために 'test_benefitone_conversation.csv' だけ使用して調査しています。"
   ]
  },
  {
   "cell_type": "markdown",
   "metadata": {
    "deletable": true,
    "editable": true
   },
   "source": [
    "## (1) テストデータ／環境準備\n",
    "\n",
    "マイオペで使用しているテストデータ（learning/tests/engine/fixtures/ 配下のCSVファイル）をベースに動作確認を行います。\n",
    "\n",
    "動作確認にあたっては、MySQLdb に接続できないため、ローカル環境テスト用の Bot クラスを使用しています。"
   ]
  },
  {
   "cell_type": "code",
   "execution_count": 1,
   "metadata": {
    "collapsed": false,
    "deletable": true,
    "editable": true
   },
   "outputs": [],
   "source": [
    "'''\n",
    "    テスト環境を準備するためのモジュールを使用します。\n",
    "'''\n",
    "import sys\n",
    "import os\n",
    "learning_dir = os.path.abspath(\"../../\") #<--- donusagi-bot/learning\n",
    "os.chdir(learning_dir)\n",
    "\n",
    "if learning_dir not in sys.path:\n",
    "    sys.path.append(learning_dir)\n",
    "\n",
    "from prototype.modules import TestTool"
   ]
  },
  {
   "cell_type": "code",
   "execution_count": 2,
   "metadata": {
    "collapsed": false,
    "deletable": true,
    "editable": true,
    "scrolled": false
   },
   "outputs": [
    {
     "name": "stdout",
     "output_type": "stream",
     "text": [
      "CSV file for test=[/Users/makmorit/GitHub/donusagi-bot/learning/prototype/resources/test_benefitone_conversation.csv]\n"
     ]
    },
    {
     "data": {
      "text/plain": [
       "['/Users/makmorit/GitHub/donusagi-bot/learning/prototype/resources/test_benefitone_conversation.csv']"
      ]
     },
     "execution_count": 2,
     "metadata": {},
     "output_type": "execute_result"
    }
   ],
   "source": [
    "'''\n",
    "    データファイルは、既存の訓練データを別場所にコピーしてから使用します\n",
    "    テストデータは、csv_file_name で指定した複数件のファイルを使用します。\n",
    "'''\n",
    "csv_file_names = [\n",
    "    'test_benefitone_conversation.csv',\n",
    "]\n",
    "copied_csv_file_paths = TestTool.copy_testdata_csv(learning_dir, csv_file_names)\n",
    "copied_csv_file_paths"
   ]
  },
  {
   "cell_type": "markdown",
   "metadata": {
    "deletable": true,
    "editable": true
   },
   "source": [
    "## (2) TF-IDFベクターの準備\n",
    "\n",
    "Bot クラス内に組み込まれている __build_training_set_from_csv 関数をバラして実行しています。"
   ]
  },
  {
   "cell_type": "code",
   "execution_count": 3,
   "metadata": {
    "collapsed": false,
    "deletable": true,
    "editable": true
   },
   "outputs": [],
   "source": [
    "'''\n",
    "    初期設定\n",
    "    データファイル、エンコードを指定\n",
    "    内容は、learn.py を参考にしました。    \n",
    "'''\n",
    "from learning.core.learn.learning_parameter import LearningParameter\n",
    "attr = {\n",
    "    'include_failed_data': False,\n",
    "    'include_tag_vector': False,\n",
    "    'classify_threshold': None,\n",
    "    # 'algorithm': LearningParameter.ALGORITHM_NAIVE_BAYES\n",
    "    'algorithm': LearningParameter.ALGORITHM_LOGISTIC_REGRESSION,\n",
    "    # 'params_for_algorithm': { 'C': 200 }\n",
    "    'params_for_algorithm': {}\n",
    "}\n",
    "learning_parameter = LearningParameter(attr)\n",
    "\n",
    "bot_id = 7777\n",
    "csv_file_encoding = 'utf-8'"
   ]
  },
  {
   "cell_type": "markdown",
   "metadata": {
    "deletable": true,
    "editable": true
   },
   "source": [
    "### (2-1) 訓練データのTF-IDFベクター"
   ]
  },
  {
   "cell_type": "code",
   "execution_count": 4,
   "metadata": {
    "collapsed": false,
    "deletable": true,
    "editable": true,
    "scrolled": false
   },
   "outputs": [
    {
     "name": "stderr",
     "output_type": "stream",
     "text": [
      "2017/03/22 PM 12:02:05 TrainingMessageFromCsv#__build_learning_training_messages count of learning data: 4114\n",
      "2017/03/22 PM 12:02:05 TextArray#__init__ start\n",
      "2017/03/22 PM 12:02:06 TextArray#to_vec start\n",
      "2017/03/22 PM 12:02:06 TextArray#to_vec end\n"
     ]
    }
   ],
   "source": [
    "'''\n",
    "    訓練データの生成（内部で TF-IDF 処理を実行）\n",
    "\n",
    "    TrainingMessageFromCsv は、\n",
    "    ファイル名のリスト（copied_csv_file_paths）を受け取ると、\n",
    "    Dataset を連結してくれるようカスタマイズしてあります。\n",
    "'''\n",
    "#from learning.core.training_set.training_message_from_csv import TrainingMessageFromCsv\n",
    "from prototype.modules.training_message_from_csv import TrainingMessageFromCsv\n",
    "training_set = TrainingMessageFromCsv(bot_id, copied_csv_file_paths, learning_parameter, encoding=csv_file_encoding)\n",
    "build_training_set_from_csv = training_set.build()\n",
    "\n",
    "X = build_training_set_from_csv.x\n",
    "y = build_training_set_from_csv.y"
   ]
  },
  {
   "cell_type": "code",
   "execution_count": 5,
   "metadata": {
    "collapsed": false,
    "deletable": true,
    "editable": true
   },
   "outputs": [
    {
     "name": "stdout",
     "output_type": "stream",
     "text": [
      "sample=4114, feature=646\n"
     ]
    }
   ],
   "source": [
    "n_sample = X.shape[0]\n",
    "n_feature = X.shape[1]\n",
    "print(\"sample=%d, feature=%d\" % (n_sample, n_feature))"
   ]
  },
  {
   "cell_type": "markdown",
   "metadata": {
    "deletable": true,
    "editable": true
   },
   "source": [
    "### (2-2) 単語の頻出度合いをチェック"
   ]
  },
  {
   "cell_type": "code",
   "execution_count": 6,
   "metadata": {
    "collapsed": false,
    "deletable": true,
    "editable": true
   },
   "outputs": [],
   "source": [
    "from learning.core.training_set.text_array import TextArray\n",
    "text_array = build_training_set_from_csv._body_array\n",
    "vocabulary = text_array._vectorizer.vocabulary_"
   ]
  },
  {
   "cell_type": "markdown",
   "metadata": {
    "deletable": true,
    "editable": true
   },
   "source": [
    "#### featureが抽出されたサンプルの件数を、featureごとに集計します。"
   ]
  },
  {
   "cell_type": "code",
   "execution_count": 9,
   "metadata": {
    "collapsed": false,
    "deletable": true,
    "editable": true,
    "scrolled": true
   },
   "outputs": [],
   "source": [
    "ext_feature_count = [0.0 for i in range(n_feature)]\n",
    "tot_feature_count = 0.0\n",
    "for i in range(n_sample):\n",
    "    \n",
    "    arr = X[i].toarray()[0]\n",
    "    for j in range(n_feature):\n",
    "        if arr[j] == 0.0:\n",
    "            continue\n",
    "        ext_feature_count[j] += 1.0\n",
    "        tot_feature_count += 1.0"
   ]
  },
  {
   "cell_type": "markdown",
   "metadata": {
    "deletable": true,
    "editable": true
   },
   "source": [
    "#### 降順ソートして表示（上位５０件）\n",
    "\n",
    "「する」が群を抜いて上位にランキングされております。"
   ]
  },
  {
   "cell_type": "code",
   "execution_count": 12,
   "metadata": {
    "collapsed": false,
    "deletable": true,
    "editable": true
   },
   "outputs": [
    {
     "name": "stdout",
     "output_type": "stream",
     "text": [
      "[する] count=842, rate=0.0609\n",
      "[できる] count=338, rate=0.0244\n",
      "[借りる] count=226, rate=0.0163\n",
      "[欲しい] count=222, rate=0.0160\n",
      "[使う] count=164, rate=0.0119\n",
      "[使える] count=162, rate=0.0117\n",
      "[携帯] count=140, rate=0.0101\n",
      "[カード] count=126, rate=0.0091\n",
      "[使用] count=120, rate=0.0087\n",
      "[会議] count=118, rate=0.0085\n",
      "[iphone] count=112, rate=0.0081\n",
      "[便] count=112, rate=0.0081\n",
      "[利用] count=108, rate=0.0078\n",
      "[ない] count=104, rate=0.0075\n",
      "[コード] count=104, rate=0.0075\n",
      "[ファイル] count=104, rate=0.0075\n",
      "[室] count=104, rate=0.0075\n",
      "[れる] count=100, rate=0.0072\n",
      "[社内] count=98, rate=0.0071\n",
      "[交換] count=96, rate=0.0069\n",
      "[希望] count=96, rate=0.0069\n",
      "[可能] count=94, rate=0.0068\n",
      "[いただける] count=92, rate=0.0067\n",
      "[機] count=92, rate=0.0067\n",
      "[教える] count=90, rate=0.0065\n",
      "[プリンター] count=86, rate=0.0062\n",
      "[いい] count=84, rate=0.0061\n",
      "[もらえる] count=84, rate=0.0061\n",
      "[レンタカー] count=84, rate=0.0061\n",
      "[壊れる] count=82, rate=0.0059\n",
      "[コーヒー] count=78, rate=0.0056\n",
      "[テープ] count=78, rate=0.0056\n",
      "[無い] count=78, rate=0.0056\n",
      "[メッセージ] count=76, rate=0.0055\n",
      "[変更] count=76, rate=0.0055\n",
      "[封筒] count=76, rate=0.0055\n",
      "[ハスラー] count=74, rate=0.0053\n",
      "[方法] count=74, rate=0.0053\n",
      "[無くなる] count=74, rate=0.0053\n",
      "[用意] count=74, rate=0.0053\n",
      "[電話] count=74, rate=0.0053\n",
      "[プロジェクター] count=72, rate=0.0052\n",
      "[貸す] count=72, rate=0.0052\n",
      "[くださる] count=68, rate=0.0049\n",
      "[なる] count=68, rate=0.0049\n",
      "[コピー] count=66, rate=0.0048\n",
      "[トナー] count=66, rate=0.0048\n",
      "[スマ] count=64, rate=0.0046\n",
      "[ホ] count=62, rate=0.0045\n",
      "[申請] count=62, rate=0.0045\n"
     ]
    }
   ],
   "source": [
    "ext_feature_list = []\n",
    "for k, v in enumerate(ext_feature_count):\n",
    "    item = TestTool.get_item_from_vocabulary(vocabulary, k)\n",
    "    elem = (item, v, v / tot_feature_count)\n",
    "    ext_feature_list.append(elem)\n",
    "\n",
    "sorted_list = sorted(ext_feature_list, key=lambda x: x[1], reverse=True)\n",
    "\n",
    "for i in range(50):\n",
    "    print(\"[%s] count=%d, rate=%0.4f\" % sorted_list[i])"
   ]
  }
 ],
 "metadata": {
  "kernelspec": {
   "display_name": "Python 3",
   "language": "python",
   "name": "python3"
  },
  "language_info": {
   "codemirror_mode": {
    "name": "ipython",
    "version": 3
   },
   "file_extension": ".py",
   "mimetype": "text/x-python",
   "name": "python",
   "nbconvert_exporter": "python",
   "pygments_lexer": "ipython3",
   "version": "3.5.2"
  }
 },
 "nbformat": 4,
 "nbformat_minor": 2
}
