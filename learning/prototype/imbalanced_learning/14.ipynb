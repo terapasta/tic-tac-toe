{
 "cells": [
  {
   "cell_type": "markdown",
   "metadata": {
    "deletable": true,
    "editable": true
   },
   "source": [
    "# One-class SVM の改善検討\n",
    "\n",
    "scikit-learn の <b>One-class SVM</b> のアノマリー検出性能を改善するための取り組みになります。\n",
    "\n",
    "試しに今回は「する」をストップワードにしてから再検証してみましたところ、全件がアノマリーとして検出されたことが確認できました。"
   ]
  },
  {
   "cell_type": "markdown",
   "metadata": {
    "deletable": true,
    "editable": true
   },
   "source": [
    "## (1) テストデータ／環境準備\n",
    "\n",
    "マイオペで使用しているテストデータ（learning/tests/engine/fixtures/ 配下のCSVファイル）をベースに動作確認を行います。\n",
    "\n",
    "動作確認にあたっては、MySQLdb に接続できないため、ローカル環境テスト用の Bot クラスを使用しています。"
   ]
  },
  {
   "cell_type": "code",
   "execution_count": 1,
   "metadata": {
    "collapsed": false,
    "deletable": true,
    "editable": true
   },
   "outputs": [],
   "source": [
    "'''\n",
    "    テスト環境を準備するためのモジュールを使用します。\n",
    "'''\n",
    "import sys\n",
    "import os\n",
    "learning_dir = os.path.abspath(\"../../\") #<--- donusagi-bot/learning\n",
    "os.chdir(learning_dir)\n",
    "\n",
    "if learning_dir not in sys.path:\n",
    "    sys.path.append(learning_dir)\n",
    "\n",
    "from prototype.modules import TestTool"
   ]
  },
  {
   "cell_type": "code",
   "execution_count": 2,
   "metadata": {
    "collapsed": false,
    "deletable": true,
    "editable": true,
    "scrolled": false
   },
   "outputs": [
    {
     "name": "stdout",
     "output_type": "stream",
     "text": [
      "CSV file for test=[/Users/makmorit/GitHub/donusagi-bot/learning/prototype/resources/test_benefitone_conversation.csv]\n",
      "CSV file for test=[/Users/makmorit/GitHub/donusagi-bot/learning/prototype/resources/test_daikin_conversation.csv]\n",
      "CSV file for test=[/Users/makmorit/GitHub/donusagi-bot/learning/prototype/resources/test_ptna_conversation.csv]\n",
      "CSV file for test=[/Users/makmorit/GitHub/donusagi-bot/learning/prototype/resources/test_septeni_conversation.csv]\n"
     ]
    },
    {
     "data": {
      "text/plain": [
       "['/Users/makmorit/GitHub/donusagi-bot/learning/prototype/resources/test_benefitone_conversation.csv',\n",
       " '/Users/makmorit/GitHub/donusagi-bot/learning/prototype/resources/test_daikin_conversation.csv',\n",
       " '/Users/makmorit/GitHub/donusagi-bot/learning/prototype/resources/test_ptna_conversation.csv',\n",
       " '/Users/makmorit/GitHub/donusagi-bot/learning/prototype/resources/test_septeni_conversation.csv']"
      ]
     },
     "execution_count": 2,
     "metadata": {},
     "output_type": "execute_result"
    }
   ],
   "source": [
    "'''\n",
    "    データファイルは、既存の訓練データを別場所にコピーしてから使用します\n",
    "    テストデータは、csv_file_name で指定した複数件のファイルを使用します。\n",
    "'''\n",
    "csv_file_names = [\n",
    "    'test_benefitone_conversation.csv',\n",
    "    'test_daikin_conversation.csv',\n",
    "    'test_ptna_conversation.csv',\n",
    "    'test_septeni_conversation.csv'\n",
    "]\n",
    "copied_csv_file_paths = TestTool.copy_testdata_csv(learning_dir, csv_file_names)\n",
    "copied_csv_file_paths"
   ]
  },
  {
   "cell_type": "markdown",
   "metadata": {
    "deletable": true,
    "editable": true
   },
   "source": [
    "## (2) TF-IDFベクターの準備\n",
    "\n",
    "Bot クラス内に組み込まれている __build_training_set_from_csv 関数をバラして実行しています。"
   ]
  },
  {
   "cell_type": "code",
   "execution_count": 3,
   "metadata": {
    "collapsed": false,
    "deletable": true,
    "editable": true
   },
   "outputs": [],
   "source": [
    "'''\n",
    "    初期設定\n",
    "    データファイル、エンコードを指定\n",
    "    内容は、learn.py を参考にしました。    \n",
    "'''\n",
    "from learning.core.learn.learning_parameter import LearningParameter\n",
    "attr = {\n",
    "    'include_failed_data': False,\n",
    "    'include_tag_vector': False,\n",
    "    'classify_threshold': None,\n",
    "    # 'algorithm': LearningParameter.ALGORITHM_NAIVE_BAYES\n",
    "    'algorithm': LearningParameter.ALGORITHM_LOGISTIC_REGRESSION,\n",
    "    # 'params_for_algorithm': { 'C': 200 }\n",
    "    'params_for_algorithm': {}\n",
    "}\n",
    "learning_parameter = LearningParameter(attr)\n",
    "\n",
    "bot_id = 7777\n",
    "csv_file_encoding = 'utf-8'"
   ]
  },
  {
   "cell_type": "markdown",
   "metadata": {
    "deletable": true,
    "editable": true
   },
   "source": [
    "### (2-1) 訓練データのTF-IDFベクター"
   ]
  },
  {
   "cell_type": "code",
   "execution_count": 4,
   "metadata": {
    "collapsed": false,
    "deletable": true,
    "editable": true,
    "scrolled": false
   },
   "outputs": [
    {
     "name": "stderr",
     "output_type": "stream",
     "text": [
      "2017/03/22 PM 01:05:26 TrainingMessageFromCsv#__build_learning_training_messages count of learning data: 28272\n",
      "2017/03/22 PM 01:05:26 TextArray#__init__ start\n",
      "2017/03/22 PM 01:05:41 TextArray#to_vec start\n",
      "2017/03/22 PM 01:05:41 TextArray#to_vec end\n"
     ]
    }
   ],
   "source": [
    "'''\n",
    "    訓練データの生成（内部で TF-IDF 処理を実行）\n",
    "    \n",
    "    text_array.py における TF-IDF 処理では、\n",
    "    以下の通り「する」をストップワード化指定しております\n",
    "    \n",
    "    class TextArray:\n",
    "        :\n",
    "        def __build_vectorizer(self):\n",
    "            :\n",
    "            vectorizer = TfidfVectorizer(use_idf=False, token_pattern=u'(?u)\\\\b\\\\w+\\\\b', stop_words=['する'])\n",
    "'''\n",
    "#from learning.core.training_set.training_message_from_csv import TrainingMessageFromCsv\n",
    "from prototype.modules.training_message_from_csv import TrainingMessageFromCsv\n",
    "training_set = TrainingMessageFromCsv(bot_id, copied_csv_file_paths, learning_parameter, encoding=csv_file_encoding)\n",
    "build_training_set_from_csv = training_set.build()\n",
    "\n",
    "X = build_training_set_from_csv.x\n",
    "y = build_training_set_from_csv.y"
   ]
  },
  {
   "cell_type": "code",
   "execution_count": 5,
   "metadata": {
    "collapsed": false,
    "deletable": true,
    "editable": true
   },
   "outputs": [
    {
     "name": "stdout",
     "output_type": "stream",
     "text": [
      "sample=28272, feature=2748\n"
     ]
    }
   ],
   "source": [
    "n_sample = X.shape[0]\n",
    "n_feature = X.shape[1]\n",
    "print(\"sample=%d, feature=%d\" % (n_sample, n_feature))"
   ]
  },
  {
   "cell_type": "markdown",
   "metadata": {
    "deletable": true,
    "editable": true
   },
   "source": [
    "### (2-2) 単語の頻出度合いをチェック"
   ]
  },
  {
   "cell_type": "code",
   "execution_count": 6,
   "metadata": {
    "collapsed": false,
    "deletable": true,
    "editable": true
   },
   "outputs": [],
   "source": [
    "text_array = build_training_set_from_csv._body_array\n",
    "vocabulary = text_array._vectorizer.vocabulary_"
   ]
  },
  {
   "cell_type": "markdown",
   "metadata": {
    "deletable": true,
    "editable": true
   },
   "source": [
    "#### featureが抽出されたサンプルの件数を、featureごとに集計します。"
   ]
  },
  {
   "cell_type": "code",
   "execution_count": 7,
   "metadata": {
    "collapsed": false,
    "deletable": true,
    "editable": true,
    "scrolled": true
   },
   "outputs": [],
   "source": [
    "ext_feature_count = [0.0 for i in range(n_feature)]\n",
    "tot_feature_count = 0.0\n",
    "for i in range(n_sample):\n",
    "    \n",
    "    arr = X[i].toarray()[0]\n",
    "    for j in range(n_feature):\n",
    "        if arr[j] == 0.0:\n",
    "            continue\n",
    "        ext_feature_count[j] += 1.0\n",
    "        tot_feature_count += 1.0"
   ]
  },
  {
   "cell_type": "markdown",
   "metadata": {
    "deletable": true,
    "editable": true
   },
   "source": [
    "#### 降順ソートして表示（上位１０件）"
   ]
  },
  {
   "cell_type": "code",
   "execution_count": 8,
   "metadata": {
    "collapsed": false,
    "deletable": true,
    "editable": true,
    "scrolled": true
   },
   "outputs": [
    {
     "name": "stdout",
     "output_type": "stream",
     "text": [
      "[メール] count=4900, rate=0.0263\n",
      "[できる] count=3516, rate=0.0189\n",
      "[れる] count=3379, rate=0.0181\n",
      "[2010] count=2694, rate=0.0145\n",
      "[outlook] count=2477, rate=0.0133\n",
      "[教える] count=2394, rate=0.0129\n",
      "[暗号] count=2252, rate=0.0121\n",
      "[設定] count=2100, rate=0.0113\n",
      "[表示] count=1973, rate=0.0106\n",
      "[方法] count=1856, rate=0.0100\n",
      "[e] count=1769, rate=0.0095\n",
      "[インストール] count=1766, rate=0.0095\n",
      "[管理] count=1720, rate=0.0092\n",
      "[利用] count=1624, rate=0.0087\n",
      "[どう] count=1508, rate=0.0081\n",
      "[ツール] count=1506, rate=0.0081\n",
      "[化] count=1414, rate=0.0076\n",
      "[システム] count=1408, rate=0.0076\n",
      "[dki] count=1404, rate=0.0075\n",
      "[it] count=1328, rate=0.0071\n",
      "[知る] count=1319, rate=0.0071\n",
      "[資産] count=1302, rate=0.0070\n",
      "[パスワード] count=1262, rate=0.0068\n",
      "[なる] count=1236, rate=0.0066\n",
      "[使用] count=1234, rate=0.0066\n",
      "[pointsec] count=1226, rate=0.0066\n",
      "[いい] count=1221, rate=0.0066\n",
      "[端末] count=1050, rate=0.0056\n",
      "[可能] count=1006, rate=0.0054\n",
      "[ファイル] count=1002, rate=0.0054\n",
      "[欲しい] count=994, rate=0.0053\n",
      "[出来る] count=968, rate=0.0052\n",
      "[アウト] count=932, rate=0.0050\n",
      "[先生] count=914, rate=0.0049\n",
      "[11] count=894, rate=0.0048\n",
      "[アドレス] count=878, rate=0.0047\n",
      "[ルック] count=864, rate=0.0046\n",
      "[情報] count=856, rate=0.0046\n",
      "[確認] count=822, rate=0.0044\n",
      "[場合] count=786, rate=0.0042\n",
      "[送信] count=774, rate=0.0042\n",
      "[画面] count=764, rate=0.0041\n",
      "[認証] count=764, rate=0.0041\n",
      "[手順] count=734, rate=0.0039\n",
      "[vpn] count=720, rate=0.0039\n",
      "[接続] count=702, rate=0.0038\n",
      "[対処] count=686, rate=0.0037\n",
      "[ie] count=684, rate=0.0037\n",
      "[必要] count=678, rate=0.0036\n",
      "[後] count=672, rate=0.0036\n"
     ]
    }
   ],
   "source": [
    "ext_feature_list = []\n",
    "for k, v in enumerate(ext_feature_count):\n",
    "    item = TestTool.get_item_from_vocabulary(vocabulary, k)\n",
    "    elem = (item, v, v / tot_feature_count)\n",
    "    ext_feature_list.append(elem)\n",
    "\n",
    "sorted_list = sorted(ext_feature_list, key=lambda x: x[1], reverse=True)\n",
    "\n",
    "for i in range(50):\n",
    "    print(\"[%s] count=%d, rate=%0.4f\" % sorted_list[i])"
   ]
  },
  {
   "cell_type": "markdown",
   "metadata": {
    "deletable": true,
    "editable": true
   },
   "source": [
    "### (2-3) 外れデータのTF-IDFベクター\n",
    "\n",
    "比較のため、<b><a href=\"12.ipynb\">こちらで再検証した時と同じ質問文</a></b>をつかっております。"
   ]
  },
  {
   "cell_type": "code",
   "execution_count": 9,
   "metadata": {
    "collapsed": false,
    "deletable": true,
    "editable": true
   },
   "outputs": [
    {
     "name": "stderr",
     "output_type": "stream",
     "text": [
      "2017/03/22 PM 01:05:59 TextArray#__init__ start\n",
      "2017/03/22 PM 01:05:59 TextArray#to_vec start\n",
      "2017/03/22 PM 01:05:59 TextArray#to_vec end\n"
     ]
    }
   ],
   "source": [
    "'''\n",
    "    マイオペのプロダクション・コードと同じように、\n",
    "    訓練データ作成時と同じベクトライザーを使用します。\n",
    "'''\n",
    "#from learning.core.training_set.text_array import TextArray\n",
    "from prototype.modules.text_array import TextArray\n",
    "\n",
    "test_X = [\n",
    "    '要素技術は自然languageの機械learningですか？', # まったくfeatureが抽出されない質問文\n",
    "\n",
    "    '人生相談をしたいのですが？', # featureが１件抽出されるな質問文「する」を含む\n",
    "    '難解なプログラミング技術を調達？', # featureが１件抽出される質問文「する」を含まない\n",
    "\n",
    "    '何か習い事をしますか？', # featureが２件抽出される質問文「する」を含む\n",
    "    '何か習い事がいいですか？', # featureが２件抽出される質問文「する」を含まない\n",
    "    \n",
    "    '何か習い事をしたほうがいいですか？', # featureが３件抽出される質問文「する」を含む\n",
    "    '何か習い事を行うほうがいいですか？', # featureが３件抽出される質問文「する」を含まない\n",
    "    \n",
    "    '会社を辞めたいのですが誰に相談するのがいいですか？', # featureが４件抽出される質問文「する」を含む\n",
    "    '会社を辞めたいのですが誰に相談を行うのがいいですか？', # featureが４件抽出される質問文「する」を含まない\n",
    "\n",
    "    '有給休暇を取って海外に行き旅行する意向があります。', # featureが５件抽出される質問文「する」を含む\n",
    "    '有給休暇を取って海外に行きたいと思っています。', # featureが５件抽出される質問文「する」を含まない\n",
    "]\n",
    "vectorizer = training_set.body_array.vectorizer\n",
    "text_array = TextArray(test_X, vectorizer=vectorizer)\n",
    "\n",
    "'''\n",
    "    外れデータのTF-IDFベクターを取得\n",
    "'''\n",
    "X_error = text_array.to_vec()"
   ]
  },
  {
   "cell_type": "code",
   "execution_count": 10,
   "metadata": {
    "collapsed": false,
    "deletable": true,
    "editable": true
   },
   "outputs": [
    {
     "name": "stdout",
     "output_type": "stream",
     "text": [
      "index=0[]\n",
      "index=1[]\n",
      "index=2[調達=1.000]\n",
      "index=3[何=1.000]\n",
      "index=4[いい=0.707 何=0.707]\n",
      "index=5[いい=0.707 何=0.707]\n",
      "index=6[いい=0.577 何=0.577 行う=0.577]\n",
      "index=7[いい=0.577 会社=0.577 誰=0.577]\n",
      "index=8[いい=0.500 会社=0.500 行う=0.500 誰=0.500]\n",
      "index=9[休暇=0.500 取る=0.500 海外=0.500 行く=0.500]\n",
      "index=10[休暇=0.447 取る=0.447 思う=0.447 海外=0.447 行く=0.447]\n"
     ]
    }
   ],
   "source": [
    "vocabulary = text_array._vectorizer.vocabulary_\n",
    "dumped_features = TestTool.get_dumped_features(X_error, vocabulary)\n",
    "for d in dumped_features:\n",
    "    print(d)"
   ]
  },
  {
   "cell_type": "markdown",
   "metadata": {
    "deletable": true,
    "editable": true
   },
   "source": [
    "## (3) One-class SVMで学習\n",
    "\n",
    "線形カーネルを使用しています。"
   ]
  },
  {
   "cell_type": "code",
   "execution_count": 11,
   "metadata": {
    "collapsed": false,
    "deletable": true,
    "editable": true,
    "scrolled": true
   },
   "outputs": [
    {
     "data": {
      "text/plain": [
       "OneClassSVM(cache_size=200, coef0=0.0, degree=3, gamma='auto',\n",
       "      kernel='linear', max_iter=-1, nu=0.5, random_state=None,\n",
       "      shrinking=True, tol=0.001, verbose=False)"
      ]
     },
     "execution_count": 11,
     "metadata": {},
     "output_type": "execute_result"
    }
   ],
   "source": [
    "'''\n",
    "    One-class SVM with linear kernel, anomary is half\n",
    "        fn(i,j) = i'*j\n",
    "'''\n",
    "from sklearn import svm\n",
    "clf_linear = svm.OneClassSVM(\n",
    "    kernel='linear', # linearカーネルを使用\n",
    "    nu=0.5           # 外れ判定される件数の見積もりを全体の5割と想定\n",
    "    ) \n",
    "clf_linear.fit(X)"
   ]
  },
  {
   "cell_type": "markdown",
   "metadata": {
    "deletable": true,
    "editable": true
   },
   "source": [
    "## (4) 外れデータを使って予測\n",
    "\n",
    "全件がアノマリーとして検出されたことが確認できました。"
   ]
  },
  {
   "cell_type": "code",
   "execution_count": 12,
   "metadata": {
    "collapsed": false,
    "deletable": true,
    "editable": true
   },
   "outputs": [
    {
     "data": {
      "text/plain": [
       "array([-1., -1., -1., -1., -1., -1., -1., -1., -1., -1., -1.])"
      ]
     },
     "execution_count": 12,
     "metadata": {},
     "output_type": "execute_result"
    }
   ],
   "source": [
    "'''\n",
    "    外れデータを使用して、外れ判定を実行してみます\n",
    "'''\n",
    "y_pred_by_linear = clf_linear.predict(X_error)\n",
    "y_pred_by_linear"
   ]
  }
 ],
 "metadata": {
  "kernelspec": {
   "display_name": "Python 3",
   "language": "python",
   "name": "python3"
  },
  "language_info": {
   "codemirror_mode": {
    "name": "ipython",
    "version": 3
   },
   "file_extension": ".py",
   "mimetype": "text/x-python",
   "name": "python",
   "nbconvert_exporter": "python",
   "pygments_lexer": "ipython3",
   "version": "3.5.2"
  }
 },
 "nbformat": 4,
 "nbformat_minor": 2
}
