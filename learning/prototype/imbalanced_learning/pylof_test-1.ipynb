{
 "cells": [
  {
   "cell_type": "markdown",
   "metadata": {
    "deletable": true,
    "editable": true
   },
   "source": [
    "# pylof のテスト（再試行）\n",
    "\n",
    "<b>Local Outlier Factor algorithm</b>（LOF）のPython実装事例が下記のURLにありました。\n",
    "\n",
    "https://github.com/damjankuznar/pylof\n",
    "\n",
    "\n",
    "## (0) 結論\n",
    "\n",
    "以下の点から、プロダクションには使用できないと判断しております。\n",
    "\n",
    "\n",
    "- 訓練データに回答のある質問文を与えても、アノマリーと判定されてしまう\n",
    "\n",
    "\n",
    "- feature が抽出できない質問文を与えると、アノマリーと判定されない\n",
    "\n",
    "\n",
    "- feature が 102 件抽出される訓練データでテストしたが、１件の予測に30秒前後かかる"
   ]
  },
  {
   "cell_type": "markdown",
   "metadata": {
    "deletable": true,
    "editable": true
   },
   "source": [
    "## (1) テストデータ／環境準備\n",
    "\n",
    "マイオペで使用しているテストデータ（learning/tests/engine/fixtures/ 配下のCSVファイル）をベースに動作確認を行います。\n",
    "\n",
    "動作確認にあたっては、MySQLdb に接続できないため、ローカル環境テスト用の Bot クラスを使用しています。"
   ]
  },
  {
   "cell_type": "code",
   "execution_count": 1,
   "metadata": {
    "collapsed": false,
    "deletable": true,
    "editable": true
   },
   "outputs": [],
   "source": [
    "'''\n",
    "    テスト環境を準備するためのモジュールを使用します。\n",
    "'''\n",
    "import sys\n",
    "import os\n",
    "learning_dir = os.path.abspath(\"../../\") #<--- donusagi-bot/learning\n",
    "os.chdir(learning_dir)\n",
    "\n",
    "if learning_dir not in sys.path:\n",
    "    sys.path.append(learning_dir)\n",
    "\n",
    "from prototype.modules import TestTool"
   ]
  },
  {
   "cell_type": "code",
   "execution_count": 2,
   "metadata": {
    "collapsed": false,
    "deletable": true,
    "editable": true,
    "scrolled": false
   },
   "outputs": [
    {
     "name": "stdout",
     "output_type": "stream",
     "text": [
      "CSV file for test=[/Users/makmorit/GitHub/donusagi-bot/learning/prototype/resources/test_ptna_conversation.csv]\n"
     ]
    },
    {
     "data": {
      "text/plain": [
       "'/Users/makmorit/GitHub/donusagi-bot/learning/prototype/resources/test_ptna_conversation.csv'"
      ]
     },
     "execution_count": 2,
     "metadata": {},
     "output_type": "execute_result"
    }
   ],
   "source": [
    "'''\n",
    "    データファイルは、既存の訓練データを別場所にコピーしてから使用します\n",
    "    テストデータは、csv_file_name で指定した複数件のファイルを使用します。\n",
    "'''\n",
    "csv_file_names = [\n",
    "    'test_ptna_conversation.csv',\n",
    "]\n",
    "temp_path = TestTool.copy_testdata_csv(learning_dir, csv_file_names)\n",
    "temp_path[0]"
   ]
  },
  {
   "cell_type": "code",
   "execution_count": 3,
   "metadata": {
    "collapsed": false,
    "deletable": true,
    "editable": true
   },
   "outputs": [
    {
     "data": {
      "text/plain": [
       "'/Users/makmorit/GitHub/donusagi-bot/learning/prototype/resources/test_ptna_conversation.limited.csv'"
      ]
     },
     "execution_count": 3,
     "metadata": {},
     "output_type": "execute_result"
    }
   ],
   "source": [
    "b, _ = os.path.splitext(temp_path[0])\n",
    "copied_csv_file_paths = b + '.limited.csv'\n",
    "copied_csv_file_paths"
   ]
  },
  {
   "cell_type": "code",
   "execution_count": 4,
   "metadata": {
    "collapsed": false,
    "deletable": true,
    "editable": true
   },
   "outputs": [
    {
     "data": {
      "text/plain": [
       "0"
      ]
     },
     "execution_count": 4,
     "metadata": {},
     "output_type": "execute_result"
    }
   ],
   "source": [
    "import subprocess\n",
    "\n",
    "cmd = \"head -353 \" + temp_path[0] + \" > \" + copied_csv_file_paths\n",
    "subprocess.call(cmd, shell=True)"
   ]
  },
  {
   "cell_type": "markdown",
   "metadata": {
    "deletable": true,
    "editable": true
   },
   "source": [
    "## (2) TF-IDFベクターの準備\n",
    "\n",
    "Bot クラス内に組み込まれている __build_training_set_from_csv 関数をバラして実行しています。"
   ]
  },
  {
   "cell_type": "code",
   "execution_count": 5,
   "metadata": {
    "collapsed": false,
    "deletable": true,
    "editable": true
   },
   "outputs": [],
   "source": [
    "'''\n",
    "    初期設定\n",
    "    データファイル、エンコードを指定\n",
    "    内容は、learn.py を参考にしました。    \n",
    "'''\n",
    "from learning.core.learn.learning_parameter import LearningParameter\n",
    "attr = {\n",
    "    'include_failed_data': False,\n",
    "    'include_tag_vector': False,\n",
    "    'classify_threshold': None,\n",
    "    # 'algorithm': LearningParameter.ALGORITHM_NAIVE_BAYES\n",
    "    'algorithm': LearningParameter.ALGORITHM_LOGISTIC_REGRESSION,\n",
    "    # 'params_for_algorithm': { 'C': 200 }\n",
    "    'params_for_algorithm': {}\n",
    "}\n",
    "learning_parameter = LearningParameter(attr)\n",
    "\n",
    "bot_id = 7777\n",
    "csv_file_encoding = 'utf-8'"
   ]
  },
  {
   "cell_type": "markdown",
   "metadata": {
    "deletable": true,
    "editable": true
   },
   "source": [
    "### (2-1) 訓練データのTF-IDFベクター"
   ]
  },
  {
   "cell_type": "code",
   "execution_count": 6,
   "metadata": {
    "collapsed": false,
    "deletable": true,
    "editable": true,
    "scrolled": false
   },
   "outputs": [
    {
     "name": "stderr",
     "output_type": "stream",
     "text": [
      "2017/03/30 PM 11:30:57 TrainingMessageFromCsv#__build_learning_training_messages count of learning data: 72\n",
      "2017/03/30 PM 11:30:57 TextArray#__init__ start\n",
      "2017/03/30 PM 11:30:57 TextArray#to_vec start\n",
      "2017/03/30 PM 11:30:57 TextArray#to_vec end\n"
     ]
    }
   ],
   "source": [
    "'''\n",
    "    訓練データの生成（内部で TF-IDF 処理を実行）\n",
    "    \n",
    "    text_array.py における TF-IDF 処理では、\n",
    "    以下の通り「する」をストップワード化指定しております\n",
    "    \n",
    "    class TextArray:\n",
    "        :\n",
    "        def __build_vectorizer(self):\n",
    "            :\n",
    "            vectorizer = TfidfVectorizer(use_idf=False, token_pattern=u'(?u)\\\\b\\\\w+\\\\b', stop_words=['する'])\n",
    "'''\n",
    "#from learning.core.training_set.training_message_from_csv import TrainingMessageFromCsv\n",
    "from prototype.modules.training_message_from_csv import TrainingMessageFromCsv\n",
    "training_set = TrainingMessageFromCsv(bot_id, copied_csv_file_paths, learning_parameter, encoding=csv_file_encoding)\n",
    "build_training_set_from_csv = training_set.build()\n",
    "\n",
    "X = build_training_set_from_csv.x\n",
    "y = build_training_set_from_csv.y"
   ]
  },
  {
   "cell_type": "code",
   "execution_count": 7,
   "metadata": {
    "collapsed": false,
    "deletable": true,
    "editable": true,
    "scrolled": true
   },
   "outputs": [
    {
     "name": "stdout",
     "output_type": "stream",
     "text": [
      "sample=72, feature=102\n"
     ]
    }
   ],
   "source": [
    "n_sample = X.shape[0]\n",
    "n_feature = X.shape[1]\n",
    "print(\"sample=%d, feature=%d\" % (n_sample, n_feature))"
   ]
  },
  {
   "cell_type": "markdown",
   "metadata": {
    "deletable": true,
    "editable": true
   },
   "source": [
    "### (2-2) 外れデータのTF-IDFベクター\n",
    "\n",
    "<b><a href=\"12.ipynb\">こちらで再検証した時と同じ質問文</a></b>をつかっております。"
   ]
  },
  {
   "cell_type": "code",
   "execution_count": 8,
   "metadata": {
    "collapsed": false,
    "deletable": true,
    "editable": true
   },
   "outputs": [
    {
     "name": "stderr",
     "output_type": "stream",
     "text": [
      "2017/03/30 PM 11:30:57 TextArray#__init__ start\n",
      "2017/03/30 PM 11:30:57 TextArray#to_vec start\n",
      "2017/03/30 PM 11:30:57 TextArray#to_vec end\n"
     ]
    }
   ],
   "source": [
    "'''\n",
    "    マイオペのプロダクション・コードと同じように、\n",
    "    訓練データ作成時と同じベクトライザーを使用します。\n",
    "'''\n",
    "#from learning.core.training_set.text_array import TextArray\n",
    "from prototype.modules.text_array import TextArray\n",
    "\n",
    "test_X = [\n",
    "    '要素技術は自然languageの機械learningですか？', # まったくfeatureが抽出されない質問文\n",
    "    '何か習い事をしますか？', # featureが1件抽出される質問文\n",
    "    '月謝は？', # featureが1件抽出される質問文（訓練データに回答あり）\n",
    "    '何か習い事がいいですか？', # featureが2件抽出される質問文\n",
    "    '入会の特典は？', # featureが2件抽出される質問文（訓練データに回答あり）\n",
    "    'レッスンは何がいいでしょうか？', # featureが3件抽出される質問文\n",
    "    '特定の音楽大学に勤務している先生を紹介して頂きたいのですが？', # featureが3件抽出される質問文（訓練データに回答あり）\n",
    "\n",
    "]\n",
    "vectorizer = training_set.body_array.vectorizer\n",
    "text_array = TextArray(test_X, vectorizer=vectorizer)\n",
    "\n",
    "'''\n",
    "    外れデータのTF-IDFベクターを取得\n",
    "'''\n",
    "X_error = text_array.to_vec()"
   ]
  },
  {
   "cell_type": "code",
   "execution_count": 9,
   "metadata": {
    "collapsed": false,
    "deletable": true,
    "editable": true,
    "scrolled": false
   },
   "outputs": [
    {
     "name": "stdout",
     "output_type": "stream",
     "text": [
      "index=0[]\n",
      "index=1[何=1.000]\n",
      "index=2[月謝=1.000]\n",
      "index=3[いい=0.707 何=0.707]\n",
      "index=4[入会=0.707 特典=0.707]\n",
      "index=5[いい=0.577 レッスン=0.577 何=0.577]\n",
      "index=6[先生=0.577 紹介=0.577 音楽=0.577]\n"
     ]
    }
   ],
   "source": [
    "'''\n",
    "    外れデータのボキャブラリーを確認\n",
    "'''\n",
    "vocabulary = text_array._vectorizer.vocabulary_\n",
    "dumped_features = TestTool.get_dumped_features(X_error, vocabulary)\n",
    "for d in dumped_features:\n",
    "    print(d)"
   ]
  },
  {
   "cell_type": "markdown",
   "metadata": {
    "deletable": true,
    "editable": true
   },
   "source": [
    "## (3) LOFの計算"
   ]
  },
  {
   "cell_type": "code",
   "execution_count": 10,
   "metadata": {
    "collapsed": false,
    "deletable": true,
    "editable": true,
    "scrolled": true
   },
   "outputs": [],
   "source": [
    "'''\n",
    "    データ形式を array へ変換\n",
    "'''\n",
    "arr_train = X.toarray()\n",
    "arr_error = X_error.toarray()"
   ]
  },
  {
   "cell_type": "code",
   "execution_count": 11,
   "metadata": {
    "collapsed": false,
    "deletable": true,
    "editable": true
   },
   "outputs": [
    {
     "name": "stdout",
     "output_type": "stream",
     "text": [
      "Initialize LOF instance...\n",
      "done in 0.010s.\n"
     ]
    }
   ],
   "source": [
    "from prototype.modules.lof import LOF\n",
    "from time import time\n",
    "\n",
    "'''\n",
    "    LOF オブジェクト初期化\n",
    "'''\n",
    "print(\"Initialize LOF instance...\")\n",
    "t0 = time()\n",
    "\n",
    "lof = LOF(arr_train)\n",
    "\n",
    "print(\"done in %0.3fs.\" % (time() - t0))"
   ]
  },
  {
   "cell_type": "markdown",
   "metadata": {
    "deletable": true,
    "editable": true
   },
   "source": [
    "### 計算結果を表示します。\n",
    "\n",
    "- feature が１件も抽出されない質問文（index=0）がアノマリーと判定されないです。\n",
    "\n",
    "- 訓練データに回答がある質問文（index=2, 6) がアノマリーと判定されてしまいます。"
   ]
  },
  {
   "cell_type": "code",
   "execution_count": 12,
   "metadata": {
    "collapsed": false,
    "deletable": true,
    "editable": true,
    "scrolled": false
   },
   "outputs": [
    {
     "name": "stdout",
     "output_type": "stream",
     "text": [
      "Calculating local outlier factor...\n",
      "index=0[要素技術は自然languageの機械learningですか？], value=0.979327, done in 35.371s.\n",
      "index=1[何か習い事をしますか？], value=1.149364, done in 33.846s. ---> Detected as anomaly\n",
      "index=2[月謝は？], value=1.025909, done in 27.745s. ---> Detected as anomaly\n",
      "index=3[何か習い事がいいですか？], value=1.144345, done in 27.126s. ---> Detected as anomaly\n",
      "index=4[入会の特典は？], value=0.873980, done in 4.848s.\n",
      "index=5[レッスンは何がいいでしょうか？], value=1.131074, done in 28.934s. ---> Detected as anomaly\n",
      "index=6[特定の音楽大学に勤務している先生を紹介して頂きたいのですが？], value=1.359415, done in 29.024s. ---> Detected as anomaly\n"
     ]
    }
   ],
   "source": [
    "'''\n",
    "    LOF の計算\n",
    "'''\n",
    "print(\"Calculating local outlier factor...\")\n",
    "t0 = time()\n",
    "\n",
    "for idx, instance in enumerate(arr_error):\n",
    "    t0 = time()\n",
    "\n",
    "    value = lof.local_outlier_factor(5, instance)\n",
    "    if value > 1:\n",
    "        print('index=%d[%s], value=%f, done in %0.3fs.' % (idx, test_X[idx], value, time() - t0), '---> Detected as anomaly')\n",
    "    else:\n",
    "        print('index=%d[%s], value=%f, done in %0.3fs.' % (idx, test_X[idx], value, time() - t0))"
   ]
  }
 ],
 "metadata": {
  "kernelspec": {
   "display_name": "Python 3",
   "language": "python",
   "name": "python3"
  },
  "language_info": {
   "codemirror_mode": {
    "name": "ipython",
    "version": 3
   },
   "file_extension": ".py",
   "mimetype": "text/x-python",
   "name": "python",
   "nbconvert_exporter": "python",
   "pygments_lexer": "ipython3",
   "version": "3.5.2"
  }
 },
 "nbformat": 4,
 "nbformat_minor": 2
}
