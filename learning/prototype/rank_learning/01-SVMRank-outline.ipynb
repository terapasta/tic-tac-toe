{
 "cells": [
  {
   "cell_type": "markdown",
   "metadata": {},
   "source": [
    "# SVMRank についての調査\n",
    "\n",
    "ランク学習の１実装事例である「SVMRank」について調査しました。\n",
    "\n",
    "こちらを参考にいたしました。\n",
    "\n",
    "http://www.cs.cornell.edu/People/tj/svm_light/svm_rank.html"
   ]
  },
  {
   "cell_type": "markdown",
   "metadata": {},
   "source": [
    "## (1) 概要"
   ]
  },
  {
   "cell_type": "markdown",
   "metadata": {},
   "source": [
    "pairwise 手法によるランク学習の実装例であり、C言語により実装されております。\n",
    "\n",
    "非商用目的に限り、利用は無償とのことです。"
   ]
  },
  {
   "cell_type": "markdown",
   "metadata": {},
   "source": [
    "### (1-1) 教師データ\n",
    "\n",
    "クエリーごとに、素性（featureベクトルと等価）と、そのランクを教師データとして用意します。\n",
    "\n",
    "ランクの値が大きいほど、そのクエリーIDにおけるランキングが高い素性である、という意味になるようです。\n",
    "\n",
    "教師データのフォーマット：(feature=10件とします)\n",
    "\n",
    "| ランク | クエリーID | feature1 |  feature2 | ・・・ |  feature10 | \n",
    "| :---: | :---: | :---: |  :---: | :---: |  :---: | \n",
    "| 3 | qid:1 | 1:0.5 |  2:0.0 | ・・・ |  10:0.5 | \n",
    "| 2 | qid:1 | 1:0.2 |  2:1.0 | ・・・ |  10:0.1 | \n",
    "| 1 | qid:1 | 1:0.0 |  2:1.0 | ・・・ |  10:0.0 | \n",
    "| 3 | qid:2 | 1:0.0 |  2:0.1 | ・・・ |  10:0.2 | \n",
    "| 2 | qid:2 | 1:1.0 |  2:0.3 | ・・・ |  10:0.2 | \n",
    "| 1 | qid:2 | 1:1.0 |  2:0.5 | ・・・ |  10:1.0 | \n",
    "\n",
    "\n",
    "### (1-2) 学習\n",
    "\n",
    "テストデータを SVMRank の学習処理に渡すと、pairwise 手法により学習を行い、モデルが生成されます。\n",
    "\n",
    "テストデータのフォーマット：(前項の教師データのフォーマットと同一)\n",
    "\n",
    "| ランク | クエリーID | feature1 |  feature2 | ・・・ |  feature10 | \n",
    "| :---: | :---: | :---: |  :---: | :---: |  :---: | \n",
    "| 1 | qid:9 | 1:0.0 |  2:0.0 | ・・・ |  10:0.0 | \n",
    "| 1 | qid:9 | 1:0.1 |  2:1.0 | ・・・ |  10:0.1 | \n",
    "| 1 | qid:9 | 1:0.5 |  2:0.0 | ・・・ |  10:0.3 | \n",
    "\n",
    "### (1-3) 予測\n",
    "\n",
    "\n",
    "テストデータを SVMRank の予測処理に渡すと、テストデータについてのランキング・スコアが得られます。\n",
    "\n",
    "予測結果データのフォーマット：(テストデータと並びが同じになるようです)\n",
    "\n",
    "| ランキング・スコア |\n",
    "| :---: |\n",
    "| -0.5 |\n",
    "| 0.5 |\n",
    "| 1.5 |\n",
    "\n",
    "ただしこのランキング・スコアは、純粋にテストデータとランキング結果の対応だけに使用される想定であり、その値自体が何らかの指標となるものではないようです。\n",
    "\n",
    "（すなわち、テストデータをランキング・スコアの降順に並べ替えて、ランキングを得る・・・といった利用を想定している様子）\n",
    "\n",
    "したがって、テストデータが１件しかないばあい、この手法の予測結果は意味を持たないかと存じます。"
   ]
  },
  {
   "cell_type": "markdown",
   "metadata": {},
   "source": [
    "## (2) 環境準備"
   ]
  },
  {
   "cell_type": "markdown",
   "metadata": {},
   "source": [
    "### (2-1) ファイルを取得して解凍\n",
    "\n",
    "媒体の圧縮ファイルはこちら ( http://download.joachims.org/svm_rank/current/svm_rank.tar.gz ) に公開されております。"
   ]
  },
  {
   "cell_type": "markdown",
   "metadata": {},
   "source": [
    "```\n",
    "MacBookPro-makmorit-jp:SVMRank makmorit$ pwd\n",
    "/Users/makmorit/GitHub/donusagi-bot/learning/prototype/rank_learning/SVMRank\n",
    "MacBookPro-makmorit-jp:SVMRank makmorit$ ls -al\n",
    "total 864\n",
    "drwxr-xr-x  3 makmorit  staff     102 May  2 13:16 .\n",
    "drwxr-xr-x  6 makmorit  staff     204 May  2 13:16 ..\n",
    "-rw-r--r--@ 1 makmorit  staff  440320 Apr 30 14:36 svm_rank.tar\n",
    "MacBookPro-makmorit-jp:SVMRank makmorit$ tar -xvf svm_rank.tar\n",
    "x LICENSE.txt\n",
    "x Makefile\n",
    "x svm_struct_api.h\n",
    "x svm_struct_api.c\n",
    "x svm_struct_api_types.h\n",
    "x svm_struct_learn_custom.c\n",
    "x svm_struct/Makefile\n",
    "x svm_struct/svm_struct_main.c\n",
    "x svm_struct/svm_struct_learn.h\n",
    "x svm_struct/svm_struct_learn.c\n",
    "x svm_struct/svm_struct_common.h\n",
    "x svm_struct/svm_struct_common.c\n",
    "x svm_struct/svm_struct_classify.c\n",
    "x svm_light/LICENSE.txt\n",
    "x svm_light/Makefile\n",
    "x svm_light/svm_learn.c\n",
    "x svm_light/kernel.h\n",
    "x svm_light/svm_learn.h\n",
    "x svm_light/svm_learn_main.c\n",
    "x svm_light/svm_classify.c\n",
    "x svm_light/svm_loqo.c\n",
    "x svm_light/svm_common.c\n",
    "x svm_light/svm_common.h\n",
    "x svm_light/svm_hideo.c\n",
    "MacBookPro-makmorit-jp:SVMRank makmorit$ ls -al\n",
    "total 968\n",
    "drwxr-xr-x  11 makmorit  staff     374 May  2 13:17 .\n",
    "drwxr-xr-x   6 makmorit  staff     204 May  2 13:16 ..\n",
    "-rwx------@  1 makmorit  staff    2327 Jul  4  2007 LICENSE.txt\n",
    "-rwx------@  1 makmorit  staff    2252 Mar 15  2009 Makefile\n",
    "drwxr-xr-x  13 makmorit  staff     442 May  2 13:17 svm_light\n",
    "-rw-r--r--@  1 makmorit  staff  440320 Apr 30 14:36 svm_rank.tar\n",
    "drwxr-xr-x   9 makmorit  staff     306 May  2 13:17 svm_struct\n",
    "-rwx------@  1 makmorit  staff   24592 Mar 19  2009 svm_struct_api.c\n",
    "-rwx------@  1 makmorit  staff    4039 Oct  9  2008 svm_struct_api.h\n",
    "-rwx------@  1 makmorit  staff    5714 Mar 17  2009 svm_struct_api_types.h\n",
    "-rwx------@  1 makmorit  staff    2126 Mar 15  2009 svm_struct_learn_custom.c\n",
    "MacBookPro-makmorit-jp:SVMRank makmorit$ \n",
    "```"
   ]
  },
  {
   "cell_type": "markdown",
   "metadata": {
    "deletable": true,
    "editable": true
   },
   "source": [
    "### (2-2) make実行\n",
    "\n",
    "いくつか警告が出ますが無視できるようです。"
   ]
  },
  {
   "cell_type": "markdown",
   "metadata": {},
   "source": [
    "```\n",
    "MacBookPro-makmorit-jp:SVMRank makmorit$ make\n",
    "cd svm_light; make svm_learn_hideo_noexe\n",
    "gcc -c  -O3                      svm_learn_main.c -o svm_learn_main.o \n",
    "svm_learn_main.c:288:63: warning: illegal character encoding in string literal [-Winvalid-source-encoding]\n",
    "  printf(\"    Kernel Methods - Support Vector Learning, B. Sch<F6>lkopf and C. Burges and\\n\");\n",
    "                                                              ^~~~\n",
    "1 warning generated.\n",
    "gcc -c  -O3                      svm_learn.c -o svm_learn.o \n",
    "svm_learn.c:2860:24: warning: equality comparison with extraneous parentheses [-Wparentheses-equality]\n",
    "      if((unlabeled[i] == 2)) {\n",
    "          ~~~~~~~~~~~~~^~~~\n",
    "svm_learn.c:2860:24: note: remove extraneous parentheses around the comparison to silence this warning\n",
    "      if((unlabeled[i] == 2)) {\n",
    "         ~             ^   ~\n",
    "svm_learn.c:2860:24: note: use '=' to turn this equality comparison into an assignment\n",
    "      if((unlabeled[i] == 2)) {\n",
    "                       ^~\n",
    "                       =\n",
    "svm_learn.c:2866:29: warning: equality comparison with extraneous parentheses [-Wparentheses-equality]\n",
    "      else if((unlabeled[i] == 3)) {\n",
    "               ~~~~~~~~~~~~~^~~~\n",
    "svm_learn.c:2866:29: note: remove extraneous parentheses around the comparison to silence this warning\n",
    "      else if((unlabeled[i] == 3)) {\n",
    "              ~             ^   ~\n",
    "svm_learn.c:2866:29: note: use '=' to turn this equality comparison into an assignment\n",
    "      else if((unlabeled[i] == 3)) {\n",
    "                            ^~\n",
    "                            =\n",
    "2 warnings generated.\n",
    "gcc -c  -O3                      svm_common.c -o svm_common.o \n",
    "svm_common.c:1009:12: warning: format string is not a string literal (potentially insecure) [-Wformat-security]\n",
    "    printf(symbol);\n",
    "           ^~~~~~\n",
    "svm_common.c:1009:12: note: treat the string as an argument to avoid this\n",
    "    printf(symbol);\n",
    "           ^\n",
    "           \"%s\", \n",
    "1 warning generated.\n",
    "gcc -c  -O3                      svm_hideo.c -o svm_hideo.o \n",
    "cd svm_struct; make svm_struct_noexe\n",
    "gcc -c  -O3 -fomit-frame-pointer -ffast-math -Wall  svm_struct_learn.c -o svm_struct_learn.o\n",
    "gcc -c  -O3 -fomit-frame-pointer -ffast-math -Wall  svm_struct_classify.c -o svm_struct_classify.o\n",
    "gcc -c  -O3 -fomit-frame-pointer -ffast-math -Wall  svm_struct_common.c -o svm_struct_common.o\n",
    "gcc -c  -O3 -fomit-frame-pointer -ffast-math -Wall  svm_struct_main.c -o svm_struct_main.o\n",
    "svm_struct_main.c:408:63: warning: illegal character encoding in string literal [-Winvalid-source-encoding]\n",
    "  printf(\"    Kernel Methods - Support Vector Learning, B. Sch<F6>lkopf and C. Burges and\\n\");\n",
    "                                                              ^~~~\n",
    "1 warning generated.\n",
    "gcc -c  -O3 -fomit-frame-pointer -ffast-math -Wall  svm_struct_api.c -o svm_struct_api.o\n",
    "gcc -c  -O3 -fomit-frame-pointer -ffast-math -Wall  svm_struct_learn_custom.c -o svm_struct_learn_custom.o\n",
    "gcc  -O3 -lm -Wall svm_struct/svm_struct_learn.o svm_struct_learn_custom.o svm_struct_api.o svm_light/svm_hideo.o svm_light/svm_learn.o svm_light/svm_common.o svm_struct/svm_struct_common.o svm_struct/svm_struct_main.o -o svm_rank_learn -L. -lm                    \n",
    "gcc  -O3 -lm -Wall svm_struct_api.o svm_struct/svm_struct_classify.o svm_light/svm_common.o svm_struct/svm_struct_common.o -o svm_rank_classify -L. -lm                    \n",
    "MacBookPro-makmorit-jp:SVMRank makmorit$ make clean\n",
    "cd svm_light; make clean\n",
    "rm -f *.o \n",
    "rm -f pr_loqo/*.o\n",
    "rm -f svm_learn\n",
    "rm -f svm_classify\n",
    "rm -f libsvmlight.so\n",
    "cd svm_struct; make clean\n",
    "rm -f *.o *.tcov *.d core gmon.out *.stackdump\n",
    "rm -f *.o *.tcov *.d core gmon.out *.stackdump \n",
    "MacBookPro-makmorit-jp:SVMRank makmorit$ ls -al\n",
    "total 1504\n",
    "drwxr-xr-x  14 makmorit  staff     476 May  2 13:19 .\n",
    "drwxr-xr-x   6 makmorit  staff     204 May  2 13:18 ..\n",
    "-rw-r--r--@  1 makmorit  staff    6148 May  2 13:18 .DS_Store\n",
    "-rwx------@  1 makmorit  staff    2327 Jul  4  2007 LICENSE.txt\n",
    "-rwx------@  1 makmorit  staff    2252 Mar 15  2009 Makefile\n",
    "drwxr-xr-x  13 makmorit  staff     442 May  2 13:19 svm_light\n",
    "-rw-r--r--@  1 makmorit  staff  440320 Apr 30 14:36 svm_rank.tar\n",
    "-rwxr-xr-x   1 makmorit  staff   67804 May  2 13:19 svm_rank_classify\n",
    "-rwxr-xr-x   1 makmorit  staff  196544 May  2 13:19 svm_rank_learn\n",
    "drwxr-xr-x   9 makmorit  staff     306 May  2 13:19 svm_struct\n",
    "-rwx------@  1 makmorit  staff   24592 Mar 19  2009 svm_struct_api.c\n",
    "-rwx------@  1 makmorit  staff    4039 Oct  9  2008 svm_struct_api.h\n",
    "-rwx------@  1 makmorit  staff    5714 Mar 17  2009 svm_struct_api_types.h\n",
    "-rwx------@  1 makmorit  staff    2126 Mar 15  2009 svm_struct_learn_custom.c\n",
    "MacBookPro-makmorit-jp:SVMRank makmorit$ \n",
    "```"
   ]
  },
  {
   "cell_type": "markdown",
   "metadata": {},
   "source": [
    "## (3) example を使用した実行例\n",
    "\n",
    "SVMRank のサイトで用意されている「example3.tar」( http://download.joachims.org/svm_light/examples/example3.tar.gz )を取得／解凍します。"
   ]
  },
  {
   "cell_type": "markdown",
   "metadata": {},
   "source": [
    "```\n",
    "MacBookPro-makmorit-jp:SVMRank makmorit$ tar -xvf example3.tar\n",
    "x example3/\n",
    "x example3/train.dat\n",
    "x example3/test.dat\n",
    "```"
   ]
  },
  {
   "cell_type": "markdown",
   "metadata": {},
   "source": [
    "### (3-1) 学習処理"
   ]
  },
  {
   "cell_type": "markdown",
   "metadata": {},
   "source": [
    "学習セットファイル train.dat を引数として学習処理を行うと、model という名のモデルファイルが生成されます。"
   ]
  },
  {
   "cell_type": "markdown",
   "metadata": {},
   "source": [
    "```\n",
    "MacBookPro-makmorit-jp:SVMRank makmorit$ ./svm_rank_learn -c 3 example3/train.dat example3/model \n",
    "Reading training examples...done\n",
    "Training set properties: 5 features, 3 rankings, 12 examples\n",
    "NOTE: Adjusted stopping criterion relative to maximum loss: eps=0.004667\n",
    "Iter 1: ...*(NumConst=1, SV=1, CEps=4.6667, QPEps=0.0000)\n",
    "Iter 2: ...*(NumConst=2, SV=2, CEps=0.9849, QPEps=0.0000)\n",
    "Iter 3: ...*(NumConst=3, SV=2, CEps=0.8366, QPEps=0.0000)\n",
    "Iter 4: ...*(NumConst=4, SV=2, CEps=0.4767, QPEps=0.1262)\n",
    "Iter 5: ...*(NumConst=5, SV=3, CEps=0.0509, QPEps=0.0041)\n",
    "Iter 6: ...*(NumConst=6, SV=4, CEps=0.0316, QPEps=0.0124)\n",
    "Iter 7: ...*(NumConst=7, SV=4, CEps=0.0279, QPEps=0.0094)\n",
    "Iter 8: ...*(NumConst=8, SV=4, CEps=0.0048, QPEps=0.0015)\n",
    "Iter 9: ...(NumConst=8, SV=4, CEps=0.0015, QPEps=0.0015)\n",
    "Final epsilon on KKT-Conditions: 0.00146\n",
    "Upper bound on duality gap: 0.00499\n",
    "Dual objective value: dval=2.23257\n",
    "Primal objective value: pval=2.23756\n",
    "Total number of constraints in final working set: 8 (of 8)\n",
    "Number of iterations: 9\n",
    "Number of calls to 'find_most_violated_constraint': 27\n",
    "Number of SV: 4 \n",
    "Norm of weight vector: |w|=1.88386\n",
    "Value of slack variable (on working set): xi=0.15290\n",
    "Value of slack variable (global): xi=0.15437\n",
    "Norm of longest difference vector: ||Psi(x,y)-Psi(x,ybar)||=3.87313\n",
    "Runtime in cpu-seconds: 0.03\n",
    "Compacting linear model...done\n",
    "Writing learned model...done\n",
    "MacBookPro-makmorit-jp:SVMRank makmorit$ \n",
    "```"
   ]
  },
  {
   "cell_type": "markdown",
   "metadata": {},
   "source": [
    "### (3-2) 予測処理"
   ]
  },
  {
   "cell_type": "markdown",
   "metadata": {
    "deletable": true,
    "editable": true
   },
   "source": [
    "テストデータファイル test.dat を引数として予測処理処理を行うと、predictions という名の予測結果ファイルが生成されます。"
   ]
  },
  {
   "cell_type": "markdown",
   "metadata": {},
   "source": [
    "```\n",
    "MacBookPro-makmorit-jp:SVMRank makmorit$ ./svm_rank_classify example3/test.dat example3/model example3/predictions\n",
    "Reading model...done.\n",
    "Reading test examples...done.\n",
    "Classifying test examples...done\n",
    "Runtime (without IO) in cpu-seconds: 0.00\n",
    "Average loss on test set: 0.0000\n",
    "Zero/one-error on test set: 0.00% (1 correct, 0 incorrect, 1 total)\n",
    "NOTE: The loss reported above is the fraction of swapped pairs averaged over\n",
    "      all rankings. The zero/one-error is fraction of perfectly correct\n",
    "      rankings!\n",
    "Total Num Swappedpairs  :      0\n",
    "Avg Swappedpairs Percent:   0.00\n",
    "MacBookPro-makmorit-jp:SVMRank makmorit$\n",
    "```"
   ]
  },
  {
   "cell_type": "markdown",
   "metadata": {},
   "source": [
    "### (3-3) 予測結果を参照\n",
    "\n",
    "predictions というファイルに、ランキング・スコアが出力されます。\n",
    "\n",
    "（ちなみに、テストデータのレコードと同じ並びになっているようです）\n",
    "\n",
    "これをユーザープログラムなどで降順に整列し、ランキング結果として利用する想定のようです。\n",
    "\n",
    "````\n",
    "MacBookPro-makmorit-jp:SVMRank makmorit$ cat example3/test.dat <---これはテストデータ\n",
    "4 qid:4 1:1 2:0 3:0 4:0.2 5:1 #1\n",
    "3 qid:4 1:1 2:1 3:0 4:0.3 5:0 #2\n",
    "2 qid:4 1:0 2:0 3:0 4:0.2 5:1 #3\n",
    "1 qid:4 1:0 2:0 3:1 4:0.2 5:0 #4\n",
    "MacBookPro-makmorit-jp:SVMRank makmorit$ cat example3/predictions <---これは予測結果データ\n",
    "2.45127674\n",
    "1.41263953\n",
    "0.92976471\n",
    "-0.55576233\n",
    "\n",
    "テストデータとランキング結果の対応\n",
    "4 qid:4 1:1 2:0 3:0 4:0.2 5:1 #1 2.45127674\n",
    "3 qid:4 1:1 2:1 3:0 4:0.3 5:0 #2 1.41263953\n",
    "2 qid:4 1:0 2:0 3:0 4:0.2 5:1 #3 0.92976471\n",
    "1 qid:4 1:0 2:0 3:1 4:0.2 5:0 #4 -0.55576233\n",
    "```"
   ]
  },
  {
   "cell_type": "markdown",
   "metadata": {},
   "source": [
    "#### 別のテストデータでも試行\n",
    "\n",
    "テストデータ内のスコア値を、全て横並びの値 (=1) にしてみます。\n",
    "\n",
    "```\n",
    "MacBookPro-makmorit-jp:SVMRank makmorit$ ./svm_rank_classify example3/test2.dat example3/model example3/predictions2\n",
    "Reading model...done.\n",
    "Reading test examples...done.\n",
    "Classifying test examples...done\n",
    "Runtime (without IO) in cpu-seconds: 0.00\n",
    "Average loss on test set: 0.0000\n",
    "Zero/one-error on test set: 0.00% (1 correct, 0 incorrect, 1 total)\n",
    "NOTE: The loss reported above is the fraction of swapped pairs averaged over\n",
    "      all rankings. The zero/one-error is fraction of perfectly correct\n",
    "      rankings!\n",
    "Total Num Swappedpairs  :      0\n",
    "Avg Swappedpairs Percent:   0.00\n",
    "MacBookPro-makmorit-jp:SVMRank makmorit$ cat example3/test2.dat\n",
    "1 qid:5 1:0 2:1 3:0 4:0.3 5:0 #1\n",
    "1 qid:5 1:0 2:0 3:1 4:0.3 5:0 #2\n",
    "1 qid:5 1:0 2:0 3:1 4:0.1 5:1 #3\n",
    "1 qid:5 1:1 2:1 3:0 4:0.2 5:0 #4\n",
    "MacBookPro-makmorit-jp:SVMRank makmorit$ cat example3/predictions2\n",
    "-0.10887250\n",
    "-0.57288748\n",
    "0.42537783\n",
    "1.42976468\n",
    "\n",
    "テストデータとランキング結果の対応\n",
    "1 qid:5 1:1 2:1 3:0 4:0.2 5:0 #4 1.42976468\n",
    "1 qid:5 1:0 2:0 3:1 4:0.1 5:1 #3 0.42537783\n",
    "1 qid:5 1:0 2:1 3:0 4:0.3 5:0 #1 -0.10887250\n",
    "1 qid:5 1:0 2:0 3:1 4:0.3 5:0 #2 -0.57288748\n",
    "```"
   ]
  },
  {
   "cell_type": "markdown",
   "metadata": {},
   "source": [
    "### (3-4) モデルの評価\n",
    "\n",
    "学習セットを予測処理の入力として予測を実行し、結果を評価するという流れは、他の予測手法と同様かと存じます。"
   ]
  },
  {
   "cell_type": "markdown",
   "metadata": {},
   "source": [
    "```\n",
    "MacBookPro-makmorit-jp:SVMRank makmorit$ ./svm_rank_classify example3/train.dat example3/model example3/predictions.eval\n",
    "Reading model...done.\n",
    "Reading test examples...done.\n",
    "Classifying test examples...done\n",
    "Runtime (without IO) in cpu-seconds: 0.00\n",
    "Average loss on test set: 0.0000\n",
    "Zero/one-error on test set: 0.00% (3 correct, 0 incorrect, 3 total)\n",
    "NOTE: The loss reported above is the fraction of swapped pairs averaged over\n",
    "      all rankings. The zero/one-error is fraction of perfectly correct\n",
    "      rankings!\n",
    "Total Num Swappedpairs  :      0\n",
    "Avg Swappedpairs Percent:   0.00\n",
    "MacBookPro-makmorit-jp:SVMRank makmorit$ cat example3/train.dat\n",
    "# query 1\n",
    "3 qid:1 1:1 2:1 3:0 4:0.2 5:0    <--- ランク#1 @ query 1\n",
    "2 qid:1 1:0 2:0 3:1 4:0.1 5:1    <--- ランク#2 @ query 1\n",
    "1 qid:1 1:0 2:1 3:0 4:0.4 5:0    <--- ランク#3 @ query 1\n",
    "1 qid:1 1:0 2:0 3:1 4:0.3 5:0    <--- ランク#3 @ query 1\n",
    "# query 2\n",
    "1 qid:2 1:0 2:0 3:1 4:0.2 5:0    <--- ランク#2 @ query 2\n",
    "2 qid:2 1:1 2:0 3:1 4:0.4 5:0    <--- ランク#1 @ query 2\n",
    "1 qid:2 1:0 2:0 3:1 4:0.1 5:0    <--- ランク#2 @ query 2\n",
    "1 qid:2 1:0 2:0 3:1 4:0.2 5:0    <--- ランク#2 @ query 2\n",
    "# query 3\n",
    "2 qid:3 1:0 2:0 3:1 4:0.1 5:1    <--- ランク#3 @ query 3\n",
    "3 qid:3 1:1 2:1 3:0 4:0.3 5:0    <--- ランク#2 @ query 3\n",
    "4 qid:3 1:1 2:0 3:0 4:0.4 5:1    <--- ランク#1 @ query 3\n",
    "1 qid:3 1:0 2:1 3:1 4:0.5 5:0    <--- ランク#4 @ query 3\n",
    "MacBookPro-makmorit-jp:SVMRank makmorit$ cat example3/predictions.eval\n",
    "1.42976468    <--- ランク#1 @ query 1\n",
    "0.42537783    <--- ランク#2 @ query 1\n",
    "-0.12599765   <--- ランク#3 @ query 1\n",
    "-0.57288748   <--- ランク#3 @ query 1\n",
    "-0.55576233   <--- ランク#2 @ query 2\n",
    "0.93149940    <--- ランク#1 @ query 2\n",
    "-0.53863718   <--- ランク#2 @ query 2\n",
    "-0.55576233   <--- ランク#2 @ query 2\n",
    "0.42537783    <--- ランク#3 @ query 3\n",
    "1.41263953    <--- ランク#1 @ query 3\n",
    "2.41702644    <--- ランク#2 @ query 3\n",
    "-0.66463483   <--- ランク#4 @ query 3\n",
    "MacBookPro-makmorit-jp:SVMRank makmorit$\n",
    "```"
   ]
  },
  {
   "cell_type": "markdown",
   "metadata": {},
   "source": [
    "上記結果を見る限りでは、予測結果のランキング・スコアと、学習セットのランクの値が対応している（＝正しいモデルである）ことが確認できます。"
   ]
  }
 ],
 "metadata": {
  "kernelspec": {
   "display_name": "Python 3",
   "language": "python",
   "name": "python3"
  },
  "language_info": {
   "codemirror_mode": {
    "name": "ipython",
    "version": 3
   },
   "file_extension": ".py",
   "mimetype": "text/x-python",
   "name": "python",
   "nbconvert_exporter": "python",
   "pygments_lexer": "ipython3",
   "version": "3.5.2"
  }
 },
 "nbformat": 4,
 "nbformat_minor": 2
}
