{
 "cells": [
  {
   "cell_type": "markdown",
   "metadata": {
    "deletable": true,
    "editable": true
   },
   "source": [
    "# Python learning to rank (LTR) toolkit についての調査\n",
    "\n",
    "ランク学習の１実装事例である「Python learning to rank (LTR) toolkit」について調査しました。\n",
    "\n",
    "こちらを参考にいたしました。\n",
    "\n",
    "https://github.com/jma127/pyltr\n",
    "\n",
    "https://github.com/jma127/pyltr/blob/master/README.rst"
   ]
  },
  {
   "cell_type": "markdown",
   "metadata": {
    "deletable": true,
    "editable": true
   },
   "source": [
    "## (1) 概要"
   ]
  },
  {
   "cell_type": "markdown",
   "metadata": {
    "deletable": true,
    "editable": true
   },
   "source": [
    "Python 言語により実装されております。\n",
    "\n",
    "実装されているのは「LambdaMART」と呼ばれる、決定木アルゴリズムの一種を使用したランク学習モデル、とのことです。\n",
    "\n",
    "\n",
    "- LambdaMARTアルゴリズムについての解説は以下URLに記載されています\n",
    " \n",
    "　　https://wellecks.wordpress.com/tag/lambdamart/\n",
    "\n",
    "　　https://www.microsoft.com/en-us/research/publication/from-ranknet-to-lambdarank-to-lambdamart-an-overview/\n",
    " \n",
    "  \n",
    "- MART（勾配ブースティング決定木）についての参考文献は以下のURLにあります\n",
    "  \n",
    "　　http://smrmkt.hatenablog.jp/entry/2015/04/28/210039 \n",
    " \n",
    " \n",
    "- 「LambdaMART」は、手法としては pairwise/listwise に分類されるようです。\n",
    "\n",
    "　　こちら (https://en.wikipedia.org/wiki/Learning_to_rank#Pointwise_approach) の「List of methods」をご参照\n",
    " \n",
    "\n",
    "- 入力データ（教師データ）形式は<a href=\"01-SVMRank-outline.ipynb\"><b>SVMRank</b></a>と同じものが使用できます。"
   ]
  },
  {
   "cell_type": "markdown",
   "metadata": {
    "deletable": true,
    "editable": true
   },
   "source": [
    "### (1-1) 教師データ\n",
    "\n",
    "クエリーごとに、素性（featureベクトルと等価）と、そのランクを教師データとして用意します。\n",
    "\n",
    "ランクの値が大きいほど、そのクエリーIDにおけるランキングが高い素性である、という意味になるようです。\n",
    "\n",
    "教師データのフォーマット：(fit関数の引数。feature=10件とします)\n",
    "\n",
    "| ランク | クエリーID | feature1 |  feature2 | ・・・ |  feature10 | \n",
    "| :---: | :---: | :---: |  :---: | :---: |  :---: | \n",
    "| 3 | qid:1 | 1:0.5 |  2:0.0 | ・・・ |  10:0.5 | \n",
    "| 2 | qid:1 | 1:0.2 |  2:1.0 | ・・・ |  10:0.1 | \n",
    "| 1 | qid:1 | 1:0.0 |  2:1.0 | ・・・ |  10:0.0 | \n",
    "| 3 | qid:2 | 1:0.0 |  2:0.1 | ・・・ |  10:0.2 | \n",
    "| 2 | qid:2 | 1:1.0 |  2:0.3 | ・・・ |  10:0.2 | \n",
    "| 1 | qid:2 | 1:1.0 |  2:0.5 | ・・・ |  10:1.0 | \n",
    "\n",
    "\n",
    "### (1-2) 学習\n",
    "\n",
    "教師データを学習処理（LambdaMART）に渡すと、fit関数により学習を行い、モデルが生成されます。\n",
    "\n",
    "### (1-3) 予測\n",
    "\n",
    "\n",
    "テストデータをpredict関数に渡すと、予測結果が生成され、テストデータについてのランキング・スコアが得られます。\n",
    "\n",
    "\n",
    "テストデータのフォーマット：(predict関数の引数＝前述の教師データのフォーマットと同一)\n",
    "\n",
    "| ランク | クエリーID | feature1 |  feature2 | ・・・ |  feature10 | \n",
    "| :---: | :---: | :---: |  :---: | :---: |  :---: | \n",
    "| 1 | qid:9 | 1:0.0 |  2:0.0 | ・・・ |  10:0.0 | \n",
    "| 1 | qid:9 | 1:0.1 |  2:1.0 | ・・・ |  10:0.1 | \n",
    "| 1 | qid:9 | 1:0.5 |  2:0.0 | ・・・ |  10:0.3 | \n",
    "\n",
    "\n",
    "予測結果データのフォーマット：(predict関数の戻り＝テストデータと並びが同じになるようです)\n",
    "\n",
    "| ランキング・スコア |\n",
    "| :---: |\n",
    "| -0.5 |\n",
    "| 0.5 |\n",
    "| 1.5 |\n",
    "\n",
    "ただしこのランキング・スコアは、純粋にテストデータとランキング結果の対応だけに使用される想定であり、その値自体が何らかの指標となるものではないようです。\n",
    "\n",
    "（すなわち、テストデータをランキング・スコアの降順に並べ替えて、ランキングを得る・・・といった利用を想定している様子）\n",
    "\n",
    "したがって、テストデータが１件しかないばあい、この手法の予測結果は意味を持たないかと存じます。"
   ]
  },
  {
   "cell_type": "markdown",
   "metadata": {
    "deletable": true,
    "editable": true
   },
   "source": [
    "## (2) 環境準備"
   ]
  },
  {
   "cell_type": "markdown",
   "metadata": {
    "deletable": true,
    "editable": true
   },
   "source": [
    "### (2-1) GitHub からファイルを取得"
   ]
  },
  {
   "cell_type": "markdown",
   "metadata": {
    "deletable": true,
    "editable": true
   },
   "source": [
    "```\n",
    "MacBookPro-makmorit-jp:GitHub makmorit$ git clone https://github.com/jma127/pyltr.git\n",
    "Cloning into 'pyltr'...\n",
    "remote: Counting objects: 281, done.\n",
    "remote: Total 281 (delta 0), reused 0 (delta 0), pack-reused 281\n",
    "Receiving objects: 100% (281/281), 50.50 KiB | 0 bytes/s, done.\n",
    "Resolving deltas: 100% (164/164), done.\n",
    "MacBookPro-makmorit-jp:GitHub makmorit$ ls -al pyltr\n",
    "total 56\n",
    "drwxr-xr-x  12 makmorit  staff   408 May  3 13:55 .\n",
    "drwxr-xr-x  12 makmorit  staff   408 May  3 13:55 ..\n",
    "drwxr-xr-x  12 makmorit  staff   408 May  3 13:55 .git\n",
    "-rw-r--r--   1 makmorit  staff   259 May  3 13:55 .gitignore\n",
    "-rw-r--r--   1 makmorit  staff   182 May  3 13:55 .travis.yml\n",
    "-rw-r--r--   1 makmorit  staff  1479 May  3 13:55 LICENSE.txt\n",
    "-rw-r--r--   1 makmorit  staff  2704 May  3 13:55 README.rst\n",
    "-rw-r--r--   1 makmorit  staff   211 May  3 13:55 TODO.txt\n",
    "drwxr-xr-x  11 makmorit  staff   374 May  3 13:55 docs\n",
    "drwxr-xr-x   7 makmorit  staff   238 May  3 13:55 pyltr\n",
    "-rwxr-xr-x   1 makmorit  staff    65 May  3 13:55 run_tests.sh\n",
    "-rw-r--r--   1 makmorit  staff   494 May  3 13:55 setup.py\n",
    "MacBookPro-makmorit-jp:GitHub makmorit$\n",
    "```"
   ]
  },
  {
   "cell_type": "markdown",
   "metadata": {
    "deletable": true,
    "editable": true
   },
   "source": [
    "### (2-2) ユニットテスト実行（環境のベリファイ）\n",
    "\n",
    "run_tests.sh を実行させます。\n",
    "\n",
    "事前に、内部でimportされる overrides モジュールを追加導入しています。"
   ]
  },
  {
   "cell_type": "markdown",
   "metadata": {
    "deletable": true,
    "editable": true
   },
   "source": [
    "```\n",
    "MacBookPro-makmorit-jp:GitHub makmorit$ cd pyltr\n",
    "MacBookPro-makmorit-jp:pyltr makmorit$ pwd\n",
    "/Users/makmorit/GitHub/pyltr\n",
    "MacBookPro-makmorit-jp:pyltr makmorit$ ls -al\n",
    "total 56\n",
    "drwxr-xr-x  12 makmorit  staff   408 May  3 13:55 .\n",
    "drwxr-xr-x  12 makmorit  staff   408 May  3 13:55 ..\n",
    "drwxr-xr-x  12 makmorit  staff   408 May  3 13:55 .git\n",
    "-rw-r--r--   1 makmorit  staff   259 May  3 13:55 .gitignore\n",
    "-rw-r--r--   1 makmorit  staff   182 May  3 13:55 .travis.yml\n",
    "-rw-r--r--   1 makmorit  staff  1479 May  3 13:55 LICENSE.txt\n",
    "-rw-r--r--   1 makmorit  staff  2704 May  3 13:55 README.rst\n",
    "-rw-r--r--   1 makmorit  staff   211 May  3 13:55 TODO.txt\n",
    "drwxr-xr-x  11 makmorit  staff   374 May  3 13:55 docs\n",
    "drwxr-xr-x   7 makmorit  staff   238 May  3 13:55 pyltr\n",
    "-rwxr-xr-x   1 makmorit  staff    65 May  3 13:55 run_tests.sh\n",
    "-rw-r--r--   1 makmorit  staff   494 May  3 13:55 setup.py\n",
    "MacBookPro-makmorit-jp:pyltr makmorit$ \n",
    "MacBookPro-makmorit-jp:pyltr makmorit$ pip3 install overrides\n",
    "Collecting overrides\n",
    "  Downloading overrides-1.7.tar.gz\n",
    "Building wheels for collected packages: overrides\n",
    "  Running setup.py bdist_wheel for overrides ... done\n",
    "  Stored in directory: /Users/makmorit/Library/Caches/pip/wheels/93/7f/68/cb4e994316c6b40d4ccf468475267fac7105459ee7c51fef9f\n",
    "Successfully built overrides\n",
    "Installing collected packages: overrides\n",
    "Successfully installed overrides-1.7\n",
    "MacBookPro-makmorit-jp:pyltr makmorit$ ./run_tests.sh\n",
    "pyltr.metrics.tests.test_ap.TestAP.test_calc_swap_deltas ... ok\n",
    "pyltr.metrics.tests.test_ap.TestAP.test_evaluate ... ok\n",
    "pyltr.metrics.tests.test_dcg.TestDCG.test_calc_swap_deltas ... ok\n",
    "pyltr.metrics.tests.test_dcg.TestDCG.test_evaluate ... ok\n",
    "pyltr.metrics.tests.test_dcg.TestNDCG.test_calc_swap_deltas ... ok\n",
    "pyltr.metrics.tests.test_dcg.TestNDCG.test_evaluate ... ok\n",
    "pyltr.metrics.tests.test_err.TestERR.test_calc_swap_deltas ... ok\n",
    "pyltr.metrics.tests.test_err.TestERR.test_evaluate ... ok\n",
    "pyltr.metrics.tests.test_kendall.TestKendallTau.test_calc_swap_deltas ... ok\n",
    "pyltr.metrics.tests.test_kendall.TestKendallTau.test_evaluate ... ok\n",
    "pyltr.metrics.tests.test_roc.TestAUCROC.test_calc_swap_deltas ... ok\n",
    "pyltr.metrics.tests.test_roc.TestAUCROC.test_evaluate ... ok\n",
    "\n",
    "----------------------------------------------------------------------\n",
    "Ran 12 tests in 0.532s\n",
    "\n",
    "OK\n",
    "MacBookPro-makmorit-jp:pyltr makmorit$ \n",
    "```"
   ]
  },
  {
   "cell_type": "markdown",
   "metadata": {},
   "source": [
    "### (2-3) テストデータの準備\n",
    "\n",
    "<a href=\"01-SVMRank-outline.ipynb\"><b>SVMRank</b></a> の調査で使用したファイルの形式が利用できるようです。\n",
    "\n",
    "適宜編集し、任意のフォルダーに配置します。"
   ]
  },
  {
   "cell_type": "markdown",
   "metadata": {},
   "source": [
    "```\n",
    "MacBookPro-makmorit-jp:pyltr makmorit$ ls -al data\n",
    "total 40\n",
    "drwxr-xr-x   6 makmorit  staff   204 May  3 14:00 .\n",
    "drwxr-xr-x  14 makmorit  staff   476 May  3 14:00 ..\n",
    "-rw-r--r--@  1 makmorit  staff  6148 May  3 14:01 .DS_Store\n",
    "-rwxr-----@  1 makmorit  staff   124 Jul  3  2002 test.txt\n",
    "-rwxr-----@  1 makmorit  staff   402 May  3 14:12 train.txt\n",
    "-rwxr-----@  1 makmorit  staff   124 Apr 30 14:41 vali.txt\n",
    "```"
   ]
  },
  {
   "cell_type": "markdown",
   "metadata": {
    "deletable": true,
    "editable": true
   },
   "source": [
    "## (3) example を使用した実行例\n",
    "\n",
    "以下のサイトの記述を参考にしています。\n",
    "\n",
    "https://github.com/jma127/pyltr/blob/master/README.rst#example"
   ]
  },
  {
   "cell_type": "markdown",
   "metadata": {
    "deletable": true,
    "editable": true
   },
   "source": [
    "### (3-0) データの読み込み"
   ]
  },
  {
   "cell_type": "code",
   "execution_count": 1,
   "metadata": {
    "collapsed": true
   },
   "outputs": [],
   "source": [
    "'''\n",
    "    テスト環境を準備するためのモジュールを使用します。\n",
    "'''\n",
    "import sys\n",
    "import os\n",
    "learning_dir = os.path.abspath(\"../../../../pyltr\") #<--- ~/GitHub/pyltr\n",
    "os.chdir(learning_dir)\n",
    "\n",
    "if learning_dir not in sys.path:\n",
    "    sys.path.append(learning_dir)"
   ]
  },
  {
   "cell_type": "code",
   "execution_count": 2,
   "metadata": {
    "collapsed": false
   },
   "outputs": [
    {
     "name": "stdout",
     "output_type": "stream",
     "text": [
      "/Users/makmorit/GitHub/pyltr\n"
     ]
    }
   ],
   "source": [
    "print(learning_dir)"
   ]
  },
  {
   "cell_type": "code",
   "execution_count": 3,
   "metadata": {
    "collapsed": false
   },
   "outputs": [],
   "source": [
    "import pyltr"
   ]
  },
  {
   "cell_type": "code",
   "execution_count": 4,
   "metadata": {
    "collapsed": false
   },
   "outputs": [],
   "source": [
    "with open('data/train.txt') as trainfile, \\\n",
    "    open('data/vali.txt') as valifile, \\\n",
    "    open('data/test.txt') as evalfile:\n",
    "    TX, Ty, Tqids, _ = pyltr.data.letor.read_dataset(trainfile)\n",
    "    VX, Vy, Vqids, _ = pyltr.data.letor.read_dataset(valifile)\n",
    "    EX, Ey, Eqids, _ = pyltr.data.letor.read_dataset(evalfile)"
   ]
  },
  {
   "cell_type": "markdown",
   "metadata": {},
   "source": [
    "#### データのダンプ"
   ]
  },
  {
   "cell_type": "code",
   "execution_count": 5,
   "metadata": {
    "collapsed": false,
    "deletable": true,
    "editable": true,
    "scrolled": true
   },
   "outputs": [
    {
     "name": "stdout",
     "output_type": "stream",
     "text": [
      "Data for training\n",
      "qid=1 features=[ 1.   1.   0.   0.2  0. ] rank=3\n",
      "qid=1 features=[ 0.   0.   1.   0.1  1. ] rank=2\n",
      "qid=1 features=[ 0.   1.   0.   0.4  0. ] rank=1\n",
      "qid=1 features=[ 0.   0.   1.   0.3  0. ] rank=1\n",
      "qid=2 features=[ 0.   0.   1.   0.2  0. ] rank=1\n",
      "qid=2 features=[ 1.   0.   1.   0.4  0. ] rank=2\n",
      "qid=2 features=[ 0.   0.   1.   0.1  0. ] rank=1\n",
      "qid=2 features=[ 0.   0.   1.   0.2  0. ] rank=1\n",
      "qid=3 features=[ 0.   0.   1.   0.1  1. ] rank=2\n",
      "qid=3 features=[ 1.   1.   0.   0.3  0. ] rank=3\n",
      "qid=3 features=[ 1.   0.   0.   0.4  1. ] rank=4\n",
      "qid=3 features=[ 0.   1.   1.   0.5  0. ] rank=1\n"
     ]
    }
   ],
   "source": [
    "print('Data for training')\n",
    "for index, _ in enumerate(TX):\n",
    "    print('qid=%s features=%s rank=%d' % (Tqids[index], str(TX[index]), Ty[index]))"
   ]
  },
  {
   "cell_type": "code",
   "execution_count": 6,
   "metadata": {
    "collapsed": false,
    "deletable": true,
    "editable": true,
    "scrolled": true
   },
   "outputs": [
    {
     "name": "stdout",
     "output_type": "stream",
     "text": [
      "Data for validation\n",
      "qid=4 features=[ 1.   0.   0.   0.2  1. ] rank=4\n",
      "qid=4 features=[ 1.   1.   0.   0.3  0. ] rank=3\n",
      "qid=4 features=[ 0.   0.   0.   0.2  1. ] rank=2\n",
      "qid=4 features=[ 0.   0.   1.   0.2  0. ] rank=1\n"
     ]
    }
   ],
   "source": [
    "print('Data for validation')\n",
    "for index, _ in enumerate(VX):\n",
    "    print('qid=%s features=%s rank=%d' % (Vqids[index], str(VX[index]), Vy[index]))"
   ]
  },
  {
   "cell_type": "code",
   "execution_count": 7,
   "metadata": {
    "collapsed": false,
    "deletable": true,
    "editable": true,
    "scrolled": true
   },
   "outputs": [
    {
     "name": "stdout",
     "output_type": "stream",
     "text": [
      "Data for test\n",
      "qid=5 features=[ 1.   0.   0.   0.2  1. ] rank=3\n",
      "qid=5 features=[ 1.   1.   0.   0.3  0. ] rank=2\n",
      "qid=5 features=[ 0.   0.   0.   0.2  1. ] rank=2\n",
      "qid=5 features=[ 0.   0.   1.   0.2  0. ] rank=1\n"
     ]
    }
   ],
   "source": [
    "print('Data for test')\n",
    "for index, _ in enumerate(EX):\n",
    "    print('qid=%s features=%s rank=%d' % (Eqids[index], str(EX[index]), Ey[index]))"
   ]
  },
  {
   "cell_type": "markdown",
   "metadata": {
    "deletable": true,
    "editable": true
   },
   "source": [
    "### (3-1) 学習処理"
   ]
  },
  {
   "cell_type": "markdown",
   "metadata": {
    "deletable": true,
    "editable": true
   },
   "source": [
    "学習セットファイル data/train.txt を引数として学習処理を行うと、model オブジェクトにモデルが生成されます。"
   ]
  },
  {
   "cell_type": "code",
   "execution_count": 8,
   "metadata": {
    "collapsed": false,
    "deletable": true,
    "editable": true
   },
   "outputs": [
    {
     "data": {
      "text/plain": [
       "<pyltr.models.lambdamart.LambdaMART at 0x10889d748>"
      ]
     },
     "execution_count": 8,
     "metadata": {},
     "output_type": "execute_result"
    }
   ],
   "source": [
    "metric = pyltr.metrics.NDCG(k=3)\n",
    "model = pyltr.models.LambdaMART(\n",
    "    metric=metric,\n",
    "    n_estimators=1000,\n",
    "    learning_rate=0.02,\n",
    "    max_features=1,\n",
    "    query_subsample=0.5,\n",
    "    max_leaf_nodes=10,\n",
    "    min_samples_leaf=64,\n",
    "    verbose=1,\n",
    ")\n",
    "model"
   ]
  },
  {
   "cell_type": "code",
   "execution_count": 9,
   "metadata": {
    "collapsed": false
   },
   "outputs": [
    {
     "name": "stdout",
     "output_type": "stream",
     "text": [
      " Iter  Train score  OOB Improve    Remaining                           Monitor Output \n",
      "    1       0.3056       0.0000        1.37s      C:      0.3056 B:      0.3056 S:  0\n",
      "    2       0.3056       0.0000        1.28s      C:      0.3056 B:      0.3056 S:  1\n",
      "    3       0.3333       0.0000        1.08s      C:      0.3056 B:      0.3056 S:  2\n",
      "    4       0.3056       0.0000        1.01s      C:      0.3056 B:      0.3056 S:  3\n",
      "    5       0.3333       0.0000        0.98s      C:      0.3056 B:      0.3056 S:  4\n",
      "    6       0.3333       0.0000        0.98s      C:      0.3056 B:      0.3056 S:  5\n",
      "    7       0.3056       0.0000        0.98s      C:      0.3056 B:      0.3056 S:  6\n",
      "    8       0.3056       0.0000        0.95s      C:      0.3056 B:      0.3056 S:  7\n",
      "    9       0.5158       0.0000        0.92s      C:      0.3056 B:      0.3056 S:  8\n",
      "   10       0.5158       0.0000        0.90s      C:      0.3056 B:      0.3056 S:  9\n",
      "   15       0.5158       0.0000        0.78s      C:      0.3056 B:      0.3056 S: 14\n",
      "   20       0.5158       0.0000        0.78s      C:      0.3056 B:      0.3056 S: 19\n",
      "   25       0.5158       0.0000        0.74s      C:      0.3056 B:      0.3056 S: 24\n",
      "   30       0.3333       0.0000        0.75s      C:      0.3056 B:      0.3056 S: 29\n",
      "   35       0.3333       0.0000        0.73s      C:      0.3056 B:      0.3056 S: 34\n",
      "   40       0.3056       0.0000        0.71s      C:      0.3056 B:      0.3056 S: 39\n",
      "   45       0.3056       0.0000        0.72s      C:      0.3056 B:      0.3056 S: 44\n",
      "   50       0.5158       0.0000        0.71s      C:      0.3056 B:      0.3056 S: 49\n",
      "   60       0.3056       0.0000        0.68s      C:      0.3056 B:      0.3056 S: 59\n",
      "   70       0.3333       0.0000        0.65s      C:      0.3056 B:      0.3056 S: 69\n",
      "   80       0.5158       0.0000        0.63s      C:      0.3056 B:      0.3056 S: 79\n",
      "   90       0.3333       0.0000        0.63s      C:      0.3056 B:      0.3056 S: 89\n",
      "  100       0.3056       0.0000        0.63s      C:      0.3056 B:      0.3056 S: 99\n",
      "  120       0.3333       0.0000        0.59s      C:      0.3056 B:      0.3056 S:119\n",
      "  140       0.5158       0.0000        0.56s      C:      0.3056 B:      0.3056 S:139\n",
      "  160       0.3333       0.0000        0.54s      C:      0.3056 B:      0.3056 S:159\n",
      "  180       0.5158       0.0000        0.52s      C:      0.3056 B:      0.3056 S:179\n",
      "  200       0.3333       0.0000        0.51s      C:      0.3056 B:      0.3056 S:199\n",
      "  220       0.5158       0.0000        0.49s      C:      0.3056 B:      0.3056 S:219\n",
      "  240       0.3333       0.0000        0.47s      C:      0.3056 B:      0.3056 S:239\n",
      "Early termination at iteration  250\n"
     ]
    },
    {
     "data": {
      "text/plain": [
       "<pyltr.models.lambdamart.LambdaMART at 0x10889d748>"
      ]
     },
     "execution_count": 9,
     "metadata": {},
     "output_type": "execute_result"
    }
   ],
   "source": [
    "monitor = pyltr.models.monitors.ValidationMonitor(VX, Vy, Vqids, metric=metric, stop_after=250)\n",
    "model.fit(TX, Ty, Tqids, monitor=monitor)"
   ]
  },
  {
   "cell_type": "markdown",
   "metadata": {
    "deletable": true,
    "editable": true
   },
   "source": [
    "### (3-2) 予測処理"
   ]
  },
  {
   "cell_type": "markdown",
   "metadata": {
    "deletable": true,
    "editable": true
   },
   "source": [
    "テストデータファイル 'data/test.txt' を引数として予測処理処理を行うと、Epred に予測結果が格納されます。\n",
    "\n",
    "ただし、得られたスコアは全て同値でした。"
   ]
  },
  {
   "cell_type": "code",
   "execution_count": 10,
   "metadata": {
    "collapsed": false,
    "deletable": true,
    "editable": true
   },
   "outputs": [
    {
     "data": {
      "text/plain": [
       "array([ 0.,  0.,  0.,  0.])"
      ]
     },
     "execution_count": 10,
     "metadata": {},
     "output_type": "execute_result"
    }
   ],
   "source": [
    "Epred = model.predict(EX)\n",
    "Epred"
   ]
  },
  {
   "cell_type": "markdown",
   "metadata": {
    "deletable": true,
    "editable": true
   },
   "source": [
    "### (3-3) 予測結果を参照\n",
    "\n",
    "Epred に、ランキング・スコアが出力されます。\n",
    "\n",
    "（ちなみに、テストデータのレコードと同じ並びになっているようです）\n",
    "\n",
    "これをユーザープログラムなどで降順に整列し、ランキング結果として利用する想定のようです。"
   ]
  },
  {
   "cell_type": "code",
   "execution_count": 11,
   "metadata": {
    "collapsed": false,
    "scrolled": true
   },
   "outputs": [],
   "source": [
    "'''\n",
    "    ランキングスコアで降順ソート\n",
    "'''\n",
    "ranking_array = []\n",
    "for index, _ in enumerate(EX):\n",
    "    ranking_array.append((Eqids[index], EX[index], Epred[index]))\n",
    "\n",
    "sorted_array = sorted(ranking_array, key=lambda x:x[2], reverse=True)"
   ]
  },
  {
   "cell_type": "code",
   "execution_count": 12,
   "metadata": {
    "collapsed": false,
    "scrolled": true
   },
   "outputs": [
    {
     "name": "stdout",
     "output_type": "stream",
     "text": [
      "qid=5 features=[ 1.   0.   0.   0.2  1. ] ranking score=0.000\n",
      "qid=5 features=[ 1.   1.   0.   0.3  0. ] ranking score=0.000\n",
      "qid=5 features=[ 0.   0.   0.   0.2  1. ] ranking score=0.000\n",
      "qid=5 features=[ 0.   0.   1.   0.2  0. ] ranking score=0.000\n"
     ]
    }
   ],
   "source": [
    "'''\n",
    "    ランキングを表示します\n",
    "'''\n",
    "for qid, features, score in sorted_array:\n",
    "    print('qid=%s features=%s ranking score=%0.3f' % (qid, features, score))"
   ]
  },
  {
   "cell_type": "markdown",
   "metadata": {
    "deletable": true,
    "editable": true
   },
   "source": [
    "### (3-4) モデルの評価\n",
    "\n",
    "calc_mean_random または calc_mean の両関数を用いて行うとのことです。\n",
    "\n",
    "（2017/05/03現在、詳細については不明）"
   ]
  },
  {
   "cell_type": "code",
   "execution_count": 13,
   "metadata": {
    "collapsed": false,
    "deletable": true,
    "editable": true
   },
   "outputs": [
    {
     "name": "stdout",
     "output_type": "stream",
     "text": [
      "Random ranking: 0.717637387847\n",
      "Our model: 0.422676641517\n"
     ]
    }
   ],
   "source": [
    "print('Random ranking:', metric.calc_mean_random(Eqids, Ey))\n",
    "print('Our model:', metric.calc_mean(Eqids, Ey, Epred))"
   ]
  }
 ],
 "metadata": {
  "kernelspec": {
   "display_name": "Python 3",
   "language": "python",
   "name": "python3"
  },
  "language_info": {
   "codemirror_mode": {
    "name": "ipython",
    "version": 3
   },
   "file_extension": ".py",
   "mimetype": "text/x-python",
   "name": "python",
   "nbconvert_exporter": "python",
   "pygments_lexer": "ipython3",
   "version": "3.5.2"
  }
 },
 "nbformat": 4,
 "nbformat_minor": 2
}
