{
 "cells": [
  {
   "cell_type": "markdown",
   "metadata": {
    "deletable": true,
    "editable": true
   },
   "source": [
    "# Python learning to rank (LTR) toolkit についての調査\n",
    "\n",
    "ランク学習の１実装事例である「Python learning to rank (LTR) toolkit」について調査しました。\n",
    "\n",
    "こちらを参考にいたしました。\n",
    "\n",
    "https://github.com/jma127/pyltr\n",
    "\n",
    "https://github.com/jma127/pyltr/blob/master/README.rst"
   ]
  },
  {
   "cell_type": "markdown",
   "metadata": {
    "deletable": true,
    "editable": true
   },
   "source": [
    "## (1) 概要"
   ]
  },
  {
   "cell_type": "markdown",
   "metadata": {
    "deletable": true,
    "editable": true
   },
   "source": [
    "Python 言語により実装されております。\n",
    "\n",
    "実装されているのは「LambdaMART」と呼ばれる、決定木アルゴリズムの一種を使用したランク学習モデル、とのことです。\n",
    "\n",
    "\n",
    "- LambdaMARTアルゴリズムについての解説は以下URLに記載されています\n",
    " \n",
    "　　https://wellecks.wordpress.com/tag/lambdamart/\n",
    "\n",
    "　　https://www.microsoft.com/en-us/research/publication/from-ranknet-to-lambdarank-to-lambdamart-an-overview/\n",
    " \n",
    "  \n",
    "- MART（勾配ブースティング決定木）についての参考文献は以下のURLにあります\n",
    "  \n",
    "　　http://smrmkt.hatenablog.jp/entry/2015/04/28/210039 \n",
    " \n",
    " \n",
    "- 「LambdaMART」は、手法としては pairwise/listwise に分類されるようです。\n",
    "\n",
    "　　こちら (https://en.wikipedia.org/wiki/Learning_to_rank#Pointwise_approach) の「List of methods」をご参照\n",
    " \n",
    "\n",
    "- 入力データ（教師データ）形式は<a href=\"01-SVMRank-outline.ipynb\"><b>SVMRank</b></a>と同じものが使用できます。"
   ]
  },
  {
   "cell_type": "markdown",
   "metadata": {
    "deletable": true,
    "editable": true
   },
   "source": [
    "### (1-1) 教師データ\n",
    "\n",
    "クエリーごとに、素性（featureベクトルと等価）と、そのランクを教師データとして用意します。\n",
    "\n",
    "ランクの値が大きいほど、そのクエリーIDにおけるランキングが高い素性である、という意味になるようです。\n",
    "\n",
    "- 教師データのフォーマット：(fit関数の引数。feature=10件とします)\n",
    "\n",
    "| ランク | クエリーID | feature1 |  feature2 | ・・・ |  feature10 | \n",
    "| :---: | :---: | :---: |  :---: | :---: |  :---: | \n",
    "| 3 | qid:1 | 1:0.5 |  2:0.0 | ・・・ |  10:0.5 | \n",
    "| 2 | qid:1 | 1:0.2 |  2:1.0 | ・・・ |  10:0.1 | \n",
    "| 1 | qid:1 | 1:0.0 |  2:1.0 | ・・・ |  10:0.0 | \n",
    "| 3 | qid:2 | 1:0.0 |  2:0.1 | ・・・ |  10:0.2 | \n",
    "| 2 | qid:2 | 1:1.0 |  2:0.3 | ・・・ |  10:0.2 | \n",
    "| 1 | qid:2 | 1:1.0 |  2:0.5 | ・・・ |  10:1.0 | \n",
    "\n",
    "\n",
    "### (1-2) 学習\n",
    "\n",
    "教師データを学習処理（LambdaMART）に渡すと、fit関数により学習を行い、モデルが生成されます。\n",
    "\n",
    "### (1-3) 予測\n",
    "\n",
    "\n",
    "テストデータをpredict関数に渡すと、予測結果が生成され、テストデータについてのランキング・スコアが得られます。\n",
    "\n",
    "\n",
    "- テストデータのフォーマット：(predict関数の引数＝前述の教師データのフォーマットと同一)\n",
    "\n",
    "| ランク | クエリーID | feature1 |  feature2 | ・・・ |  feature10 | \n",
    "| :---: | :---: | :---: |  :---: | :---: |  :---: | \n",
    "| 1 | qid:9 | 1:0.0 |  2:0.0 | ・・・ |  10:0.0 | \n",
    "| 1 | qid:9 | 1:0.1 |  2:1.0 | ・・・ |  10:0.1 | \n",
    "| 1 | qid:9 | 1:0.5 |  2:0.0 | ・・・ |  10:0.3 | \n",
    "\n",
    "　　（テストデータの１番目の列の値は、predict処理には影響しないようです。【後述】）\n",
    "\n",
    "\n",
    "- 予測結果データのフォーマット：(predict関数の戻り＝テストデータと並びが同じになるようです)\n",
    "\n",
    "| ランキング・スコア |\n",
    "| :---: |\n",
    "| -0.5 |\n",
    "| 0.5 |\n",
    "| 1.5 |\n",
    "\n",
    "ただしこのランキング・スコアは、純粋にテストデータとランキング結果の対応だけに使用される想定であり、その値自体が何らかの指標となるものではないようです。\n",
    "\n",
    "（すなわち、テストデータをランキング・スコアの降順に並べ替えて、ランキングを得る・・・といった利用を想定している様子）\n",
    "\n",
    "したがって、テストデータが１件しかないばあい、この手法の予測結果は意味を持たないかと存じます。"
   ]
  },
  {
   "cell_type": "markdown",
   "metadata": {
    "deletable": true,
    "editable": true
   },
   "source": [
    "## (2) 環境準備"
   ]
  },
  {
   "cell_type": "markdown",
   "metadata": {
    "deletable": true,
    "editable": true
   },
   "source": [
    "### (2-1) GitHub からファイルを取得"
   ]
  },
  {
   "cell_type": "markdown",
   "metadata": {
    "deletable": true,
    "editable": true
   },
   "source": [
    "```\n",
    "MacBookPro-makmorit-jp:GitHub makmorit$ git clone https://github.com/jma127/pyltr.git\n",
    "Cloning into 'pyltr'...\n",
    "remote: Counting objects: 281, done.\n",
    "remote: Total 281 (delta 0), reused 0 (delta 0), pack-reused 281\n",
    "Receiving objects: 100% (281/281), 50.50 KiB | 0 bytes/s, done.\n",
    "Resolving deltas: 100% (164/164), done.\n",
    "MacBookPro-makmorit-jp:GitHub makmorit$ ls -al pyltr\n",
    "total 56\n",
    "drwxr-xr-x  12 makmorit  staff   408 May  3 13:55 .\n",
    "drwxr-xr-x  12 makmorit  staff   408 May  3 13:55 ..\n",
    "drwxr-xr-x  12 makmorit  staff   408 May  3 13:55 .git\n",
    "-rw-r--r--   1 makmorit  staff   259 May  3 13:55 .gitignore\n",
    "-rw-r--r--   1 makmorit  staff   182 May  3 13:55 .travis.yml\n",
    "-rw-r--r--   1 makmorit  staff  1479 May  3 13:55 LICENSE.txt\n",
    "-rw-r--r--   1 makmorit  staff  2704 May  3 13:55 README.rst\n",
    "-rw-r--r--   1 makmorit  staff   211 May  3 13:55 TODO.txt\n",
    "drwxr-xr-x  11 makmorit  staff   374 May  3 13:55 docs\n",
    "drwxr-xr-x   7 makmorit  staff   238 May  3 13:55 pyltr\n",
    "-rwxr-xr-x   1 makmorit  staff    65 May  3 13:55 run_tests.sh\n",
    "-rw-r--r--   1 makmorit  staff   494 May  3 13:55 setup.py\n",
    "MacBookPro-makmorit-jp:GitHub makmorit$\n",
    "```"
   ]
  },
  {
   "cell_type": "markdown",
   "metadata": {
    "deletable": true,
    "editable": true
   },
   "source": [
    "### (2-2) ユニットテスト実行（環境のベリファイ）\n",
    "\n",
    "run_tests.sh を実行させます。\n",
    "\n",
    "事前に、内部でimportされる overrides モジュールを追加導入しています。"
   ]
  },
  {
   "cell_type": "markdown",
   "metadata": {
    "deletable": true,
    "editable": true
   },
   "source": [
    "```\n",
    "MacBookPro-makmorit-jp:GitHub makmorit$ cd pyltr\n",
    "MacBookPro-makmorit-jp:pyltr makmorit$ pwd\n",
    "/Users/makmorit/GitHub/pyltr\n",
    "MacBookPro-makmorit-jp:pyltr makmorit$ ls -al\n",
    "total 56\n",
    "drwxr-xr-x  12 makmorit  staff   408 May  3 13:55 .\n",
    "drwxr-xr-x  12 makmorit  staff   408 May  3 13:55 ..\n",
    "drwxr-xr-x  12 makmorit  staff   408 May  3 13:55 .git\n",
    "-rw-r--r--   1 makmorit  staff   259 May  3 13:55 .gitignore\n",
    "-rw-r--r--   1 makmorit  staff   182 May  3 13:55 .travis.yml\n",
    "-rw-r--r--   1 makmorit  staff  1479 May  3 13:55 LICENSE.txt\n",
    "-rw-r--r--   1 makmorit  staff  2704 May  3 13:55 README.rst\n",
    "-rw-r--r--   1 makmorit  staff   211 May  3 13:55 TODO.txt\n",
    "drwxr-xr-x  11 makmorit  staff   374 May  3 13:55 docs\n",
    "drwxr-xr-x   7 makmorit  staff   238 May  3 13:55 pyltr\n",
    "-rwxr-xr-x   1 makmorit  staff    65 May  3 13:55 run_tests.sh\n",
    "-rw-r--r--   1 makmorit  staff   494 May  3 13:55 setup.py\n",
    "MacBookPro-makmorit-jp:pyltr makmorit$ \n",
    "MacBookPro-makmorit-jp:pyltr makmorit$ pip3 install overrides\n",
    "Collecting overrides\n",
    "  Downloading overrides-1.7.tar.gz\n",
    "Building wheels for collected packages: overrides\n",
    "  Running setup.py bdist_wheel for overrides ... done\n",
    "  Stored in directory: /Users/makmorit/Library/Caches/pip/wheels/93/7f/68/cb4e994316c6b40d4ccf468475267fac7105459ee7c51fef9f\n",
    "Successfully built overrides\n",
    "Installing collected packages: overrides\n",
    "Successfully installed overrides-1.7\n",
    "MacBookPro-makmorit-jp:pyltr makmorit$ ./run_tests.sh\n",
    "pyltr.metrics.tests.test_ap.TestAP.test_calc_swap_deltas ... ok\n",
    "pyltr.metrics.tests.test_ap.TestAP.test_evaluate ... ok\n",
    "pyltr.metrics.tests.test_dcg.TestDCG.test_calc_swap_deltas ... ok\n",
    "pyltr.metrics.tests.test_dcg.TestDCG.test_evaluate ... ok\n",
    "pyltr.metrics.tests.test_dcg.TestNDCG.test_calc_swap_deltas ... ok\n",
    "pyltr.metrics.tests.test_dcg.TestNDCG.test_evaluate ... ok\n",
    "pyltr.metrics.tests.test_err.TestERR.test_calc_swap_deltas ... ok\n",
    "pyltr.metrics.tests.test_err.TestERR.test_evaluate ... ok\n",
    "pyltr.metrics.tests.test_kendall.TestKendallTau.test_calc_swap_deltas ... ok\n",
    "pyltr.metrics.tests.test_kendall.TestKendallTau.test_evaluate ... ok\n",
    "pyltr.metrics.tests.test_roc.TestAUCROC.test_calc_swap_deltas ... ok\n",
    "pyltr.metrics.tests.test_roc.TestAUCROC.test_evaluate ... ok\n",
    "\n",
    "----------------------------------------------------------------------\n",
    "Ran 12 tests in 0.532s\n",
    "\n",
    "OK\n",
    "MacBookPro-makmorit-jp:pyltr makmorit$ \n",
    "```"
   ]
  },
  {
   "cell_type": "markdown",
   "metadata": {
    "deletable": true,
    "editable": true
   },
   "source": [
    "### (2-3) テストデータの準備\n",
    "\n",
    "<a href=\"04-sofia-ml-evaluation.ipynb\"><b>sofia-ml</b></a> の調査で使用した、Microsoft のランク学習用ベンチマークデータ（MSLR）を、一部抜粋してテストデータを作成しました。\n",
    "\n",
    "MSLRのデータセットは非常に大きいので、教師データ（train.txt）と正解ラベル付きのテストデータ（vali.txt）を、それぞれ10,000件／2,500件ずつ切り出して使用します。\n",
    "\n",
    "テストデータは、教師データ（train.txt）の先頭２０件を拾い出し、一番最初の列にユニークなラベルを付しています。"
   ]
  },
  {
   "cell_type": "markdown",
   "metadata": {
    "deletable": true,
    "editable": true
   },
   "source": [
    "```\n",
    "MacBookPro-makmorit-jp:pyltr makmorit$ pwd\n",
    "/Users/makmorit/GitHub/pyltr\n",
    "MacBookPro-makmorit-jp:pyltr makmorit$ ls -al data\n",
    "total 28536\n",
    "drwxr-xr-x   7 makmorit  staff       238 May  6 12:54 .\n",
    "drwxr-xr-x  15 makmorit  staff       510 May  3 15:58 ..\n",
    "-rw-r--r--@  1 makmorit  staff      6148 May  6 12:54 .DS_Store\n",
    "drwxr-xr-x   5 makmorit  staff       170 May  6 11:47 backup\n",
    "-rwxr-----@  1 makmorit  staff     23525 May  6 12:14 test.txt\n",
    "-rwxr-----@  1 makmorit  staff  11621820 May  6 11:53 train.txt\n",
    "-rwxr-----@  1 makmorit  staff   2952380 May  6 11:55 vali.txt\n",
    "MacBookPro-makmorit-jp:pyltr makmorit$ head -20 data/train.txt\n",
    "3 qid:1 1:3 2:3 3:0 4:0 5:3 6:1 7:1 8:0 9:0 10:1 11:156 12:4 13:0 14:7 15:167 （以下略）\n",
    "3 qid:1 1:3 2:0 3:3 4:0 5:3 6:1 7:0 8:1 9:0 10:1 11:406 12:0 13:5 14:5 15:416 （以下略）\n",
    "1 qid:1 1:3 2:0 3:2 4:0 5:3 6:1 7:0 8:0.666667 9:0 10:1 11:146 12:0 13:3 14:7 15:156 （以下略）\n",
    "3 qid:1 1:3 2:0 3:3 4:0 5:3 6:1 7:0 8:1 9:0 10:1 11:287 12:1 13:4 14:7 15:299 （以下略）\n",
    "2 qid:1 1:3 2:0 3:3 4:0 5:3 6:1 7:0 8:1 9:0 10:1 11:2009 12:2 13:4 14:7 15:2022 （以下略）\n",
    "2 qid:1 1:3 2:0 3:3 4:0 5:3 6:1 7:0 8:1 9:0 10:1 11:935 12:3 13:4 14:7 15:949 （以下略）\n",
    "2 qid:1 1:3 2:0 3:3 4:0 5:3 6:1 7:0 8:1 9:0 10:1 11:1363 12:4 13:4 14:7 15:1378 （以下略）\n",
    "3 qid:1 1:3 2:0 3:3 4:0 5:3 6:1 7:0 8:1 9:0 10:1 11:489 12:0 13:4 14:10 15:503 （以下略）\n",
    "2 qid:1 1:3 2:0 3:3 4:0 5:3 6:1 7:0 8:1 9:0 10:1 11:1295 12:2 13:4 14:7 15:1308 （以下略）\n",
    "1 qid:1 1:3 2:0 3:3 4:0 5:3 6:1 7:0 8:1 9:0 10:1 11:510 12:0 13:4 14:5 15:519 （以下略）\n",
    "1 qid:1 1:3 2:0 3:3 4:0 5:3 6:1 7:0 8:1 9:0 10:1 11:164 12:1 13:10 14:10 15:185 （以下略）\n",
    "1 qid:1 1:3 2:1 3:3 4:0 5:3 6:1 7:0.333333 8:1 9:0 10:1 11:666 12:3 13:4 14:7 15:680 （以下略）\n",
    "1 qid:1 1:3 2:0 3:3 4:0 5:3 6:1 7:0 8:1 9:0 10:1 11:1475 12:1 13:4 14:7 15:1487 （以下略）\n",
    "1 qid:1 1:3 2:0 3:3 4:0 5:3 6:1 7:0 8:1 9:0 10:1 11:1601 12:0 13:1593 14:5 15:3199 （以下略）\n",
    "1 qid:1 1:3 2:0 3:3 4:0 5:3 6:1 7:0 8:1 9:0 10:1 11:1268 12:0 13:4 14:7 15:1279 （以下略）\n",
    "1 qid:1 1:3 2:0 3:2 4:2 5:3 6:1 7:0 8:0.666667 9:0.666667 10:1 11:741 12:0 13:9 14:12 15:762 （以下略）\n",
    "1 qid:1 1:0 2:0 3:0 4:0 5:0 6:0 7:0 8:0 9:0 10:0 11:21 12:3 13:3 14:10 15:37 （以下略）\n",
    "3 qid:1 1:3 2:0 3:3 4:0 5:3 6:1 7:0 8:1 9:0 10:1 11:327 12:1 13:3 14:6 15:337 （以下略）\n",
    "1 qid:1 1:3 2:0 3:2 4:2 5:3 6:1 7:0 8:0.666667 9:0.666667 10:1 11:741 12:0 13:9 14:13 15:763 （以下略）\n",
    "1 qid:1 1:3 2:0 3:0 4:0 5:3 6:1 7:0 8:0 9:0 10:1 11:2032 12:0 13:6 14:13 15:2051 （以下略）\n",
    "MacBookPro-makmorit-jp:pyltr makmorit$ head -10 data/vali.txt\n",
    "1 qid:10 1:2 2:0 3:0 4:0 5:2 6:0.666667 7:0 8:0 9:0 10:0.666667 11:835 12:0 13:8 14:10 15:853  （以下略）\n",
    "1 qid:10 1:1 2:0 3:1 4:3 5:3 6:0.333333 7:0 8:0.333333 9:1 10:1 11:10 12:0 13:9 14:11 15:30  （以下略）\n",
    "2 qid:10 1:3 2:0 3:3 4:0 5:3 6:1 7:0 8:1 9:0 10:1 11:557 12:0 13:7 14:11 15:575  （以下略）\n",
    "1 qid:10 1:3 2:0 3:2 4:0 5:3 6:1 7:0 8:0.666667 9:0 10:1 11:522 12:0 13:6 14:8 15:536  （以下略）\n",
    "2 qid:10 1:3 2:0 3:3 4:0 5:3 6:1 7:0 8:1 9:0 10:1 11:59 12:0 13:5 14:5 15:69  （以下略）\n",
    "3 qid:10 1:3 2:0 3:3 4:1 5:3 6:1 7:0 8:1 9:0.333333 10:1 11:203 12:0 13:7 14:5 15:215  （以下略）\n",
    "2 qid:10 1:3 2:0 3:3 4:1 5:3 6:1 7:0 8:1 9:0.333333 10:1 11:321 12:0 13:5 14:5 15:331  （以下略）\n",
    "2 qid:10 1:3 2:0 3:3 4:0 5:3 6:1 7:0 8:1 9:0 10:1 11:195 12:0 13:6 14:4 15:205  （以下略）\n",
    "1 qid:10 1:0 2:0 3:0 4:0 5:0 6:0 7:0 8:0 9:0 10:0 11:10 12:0 13:2 14:7 15:19  （以下略）\n",
    "1 qid:10 1:2 2:0 3:1 4:0 5:2 6:0.666667 7:0 8:0.333333 9:0 10:0.666667 11:919 12:0 13:6 14:4 15:929  （以下略）\n",
    "MacBookPro-makmorit-jp:pyltr makmorit$ cat data/test.txt\n",
    "1 qid:1 1:3 2:3 3:0 4:0 5:3 6:1 7:1 8:0 9:0 10:1 11:156 12:4 13:0 14:7 15:167 （以下略）\n",
    "2 qid:1 1:3 2:0 3:3 4:0 5:3 6:1 7:0 8:1 9:0 10:1 11:406 12:0 13:5 14:5 15:416 （以下略）\n",
    "3 qid:1 1:3 2:0 3:2 4:0 5:3 6:1 7:0 8:0.666667 9:0 10:1 11:146 12:0 13:3 14:7 15:156 （以下略）\n",
    "4 qid:1 1:3 2:0 3:3 4:0 5:3 6:1 7:0 8:1 9:0 10:1 11:287 12:1 13:4 14:7 15:299  （以下略）\n",
    "5 qid:1 1:3 2:0 3:3 4:0 5:3 6:1 7:0 8:1 9:0 10:1 11:2009 12:2 13:4 14:7 15:2022  （以下略）\n",
    "6 qid:1 1:3 2:0 3:3 4:0 5:3 6:1 7:0 8:1 9:0 10:1 11:935 12:3 13:4 14:7 15:949  （以下略）\n",
    "7 qid:1 1:3 2:0 3:3 4:0 5:3 6:1 7:0 8:1 9:0 10:1 11:1363 12:4 13:4 14:7 15:1378 （以下略）\n",
    "8 qid:1 1:3 2:0 3:3 4:0 5:3 6:1 7:0 8:1 9:0 10:1 11:489 12:0 13:4 14:10 15:503  （以下略）\n",
    "9 qid:1 1:3 2:0 3:3 4:0 5:3 6:1 7:0 8:1 9:0 10:1 11:1295 12:2 13:4 14:7 15:1308 （以下略）\n",
    "10 qid:1 1:3 2:0 3:3 4:0 5:3 6:1 7:0 8:1 9:0 10:1 11:510 12:0 13:4 14:5 15:519  （以下略）\n",
    "11 qid:1 1:3 2:0 3:3 4:0 5:3 6:1 7:0 8:1 9:0 10:1 11:164 12:1 13:10 14:10 15:185  （以下略）\n",
    "12 qid:1 1:3 2:1 3:3 4:0 5:3 6:1 7:0.333333 8:1 9:0 10:1 11:666 12:3 13:4 14:7 15:680  （以下略）\n",
    "13 qid:1 1:3 2:0 3:3 4:0 5:3 6:1 7:0 8:1 9:0 10:1 11:1475 12:1 13:4 14:7 15:1487  （以下略）\n",
    "14 qid:1 1:3 2:0 3:3 4:0 5:3 6:1 7:0 8:1 9:0 10:1 11:1601 12:0 13:1593 14:5 15:3199  （以下略）\n",
    "15 qid:1 1:3 2:0 3:3 4:0 5:3 6:1 7:0 8:1 9:0 10:1 11:1268 12:0 13:4 14:7 15:1279  （以下略）\n",
    "16 qid:1 1:3 2:0 3:2 4:2 5:3 6:1 7:0 8:0.666667 9:0.666667 10:1 11:741 12:0 13:9 14:12 15:762  （以下略）\n",
    "17 qid:1 1:0 2:0 3:0 4:0 5:0 6:0 7:0 8:0 9:0 10:0 11:21 12:3 13:3 14:10 15:37  （以下略）\n",
    "18 qid:1 1:3 2:0 3:3 4:0 5:3 6:1 7:0 8:1 9:0 10:1 11:327 12:1 13:3 14:6 15:337  （以下略）\n",
    "19 qid:1 1:3 2:0 3:2 4:2 5:3 6:1 7:0 8:0.666667 9:0.666667 10:1 11:741 12:0 13:9 14:13 15:763  （以下略）\n",
    "20 qid:1 1:3 2:0 3:0 4:0 5:3 6:1 7:0 8:0 9:0 10:1 11:2032 12:0 13:6 14:13 15:2051  （以下略）\n",
    "MacBookPro-makmorit-jp:pyltr makmorit$ ```"
   ]
  },
  {
   "cell_type": "markdown",
   "metadata": {
    "deletable": true,
    "editable": true
   },
   "source": [
    "## (3) example を使用した実行例\n",
    "\n",
    "以下のサイトの記述を参考にしています。\n",
    "\n",
    "https://github.com/jma127/pyltr/blob/master/README.rst#example"
   ]
  },
  {
   "cell_type": "markdown",
   "metadata": {
    "deletable": true,
    "editable": true
   },
   "source": [
    "### (3-0) データの読み込み"
   ]
  },
  {
   "cell_type": "code",
   "execution_count": 1,
   "metadata": {
    "collapsed": true,
    "deletable": true,
    "editable": true
   },
   "outputs": [],
   "source": [
    "'''\n",
    "    テスト環境を準備するためのモジュールを使用します。\n",
    "'''\n",
    "import sys\n",
    "import os\n",
    "learning_dir = os.path.abspath(\"../../../../pyltr\") #<--- ~/GitHub/pyltr\n",
    "os.chdir(learning_dir)\n",
    "\n",
    "if learning_dir not in sys.path:\n",
    "    sys.path.append(learning_dir)"
   ]
  },
  {
   "cell_type": "code",
   "execution_count": 2,
   "metadata": {
    "collapsed": false,
    "deletable": true,
    "editable": true
   },
   "outputs": [
    {
     "name": "stdout",
     "output_type": "stream",
     "text": [
      "/Users/makmorit/GitHub/pyltr\n"
     ]
    }
   ],
   "source": [
    "print(learning_dir)"
   ]
  },
  {
   "cell_type": "code",
   "execution_count": 3,
   "metadata": {
    "collapsed": false,
    "deletable": true,
    "editable": true
   },
   "outputs": [],
   "source": [
    "import pyltr"
   ]
  },
  {
   "cell_type": "code",
   "execution_count": 4,
   "metadata": {
    "collapsed": false,
    "deletable": true,
    "editable": true
   },
   "outputs": [],
   "source": [
    "with open('data/train.txt') as trainfile, \\\n",
    "    open('data/vali.txt') as valifile:\n",
    "    TX, Ty, Tqids, _ = pyltr.data.letor.read_dataset(trainfile)\n",
    "    VX, Vy, Vqids, _ = pyltr.data.letor.read_dataset(valifile)"
   ]
  },
  {
   "cell_type": "markdown",
   "metadata": {
    "deletable": true,
    "editable": true
   },
   "source": [
    "### (3-1) 学習処理"
   ]
  },
  {
   "cell_type": "markdown",
   "metadata": {
    "deletable": true,
    "editable": true
   },
   "source": [
    "学習セットファイル data/train.txt を引数として学習処理を行うと、model オブジェクトにモデルが生成されます。"
   ]
  },
  {
   "cell_type": "code",
   "execution_count": 5,
   "metadata": {
    "collapsed": false,
    "deletable": true,
    "editable": true
   },
   "outputs": [
    {
     "data": {
      "text/plain": [
       "<pyltr.models.lambdamart.LambdaMART at 0x1090627b8>"
      ]
     },
     "execution_count": 5,
     "metadata": {},
     "output_type": "execute_result"
    }
   ],
   "source": [
    "metric = pyltr.metrics.NDCG(k=10)\n",
    "model = pyltr.models.LambdaMART(\n",
    "    metric=metric,\n",
    "    n_estimators=2500,\n",
    "    learning_rate=0.02,\n",
    "    max_features=0.5,\n",
    "    query_subsample=0.5,\n",
    "    max_leaf_nodes=100,\n",
    "    min_samples_leaf=64,\n",
    "    verbose=1,\n",
    ")\n",
    "model"
   ]
  },
  {
   "cell_type": "code",
   "execution_count": 6,
   "metadata": {
    "collapsed": false,
    "deletable": true,
    "editable": true
   },
   "outputs": [
    {
     "name": "stdout",
     "output_type": "stream",
     "text": [
      " Iter  Train score  OOB Improve    Remaining                           Monitor Output \n",
      "    1       0.3833       0.2103       11.60m      C:      0.4012 B:      0.4012 S:  0\n",
      "    2       0.4821       0.0394       10.88m      C:      0.4398 B:      0.4398 S:  0\n",
      "    3       0.4731       0.0174       10.66m      C:      0.4590 B:      0.4590 S:  0\n",
      "    4       0.5359       0.0277       10.33m      C:      0.4761 B:      0.4761 S:  0\n",
      "    5       0.5057      -0.0127       10.36m      C:      0.4972 B:      0.4972 S:  0\n",
      "    6       0.4744       0.0019       10.34m      C:      0.4929 B:      0.4972 S:  1\n",
      "    7       0.4782      -0.0003       10.47m      C:      0.4903 B:      0.4972 S:  2\n",
      "    8       0.5435      -0.0001       10.48m      C:      0.4987 B:      0.4987 S:  0\n",
      "    9       0.5346       0.0007       10.50m      C:      0.4945 B:      0.4987 S:  1\n",
      "   10       0.5303       0.0005       10.52m      C:      0.5091 B:      0.5091 S:  0\n",
      "   15       0.5367       0.0034       11.09m      C:      0.5235 B:      0.5235 S:  0\n",
      "   20       0.5405      -0.0036       11.27m      C:      0.5119 B:      0.5235 S:  5\n",
      "   25       0.5537       0.0006       11.24m      C:      0.5176 B:      0.5235 S: 10\n",
      "   30       0.5824       0.0045       11.14m      C:      0.5141 B:      0.5235 S: 15\n",
      "   35       0.5682       0.0036       10.96m      C:      0.5169 B:      0.5235 S: 20\n",
      "   40       0.5441      -0.0012       10.85m      C:      0.5232 B:      0.5258 S:  2\n",
      "   45       0.5639      -0.0007       10.75m      C:      0.5259 B:      0.5259 S:  0\n",
      "   50       0.5597      -0.0006       10.71m      C:      0.5307 B:      0.5311 S:  1\n",
      "   60       0.5729      -0.0018       10.70m      C:      0.5354 B:      0.5354 S:  0\n",
      "   70       0.5684      -0.0003       10.61m      C:      0.5432 B:      0.5432 S:  0\n",
      "   80       0.5795      -0.0021       10.49m      C:      0.5395 B:      0.5432 S: 10\n",
      "   90       0.6277       0.0001       10.46m      C:      0.5322 B:      0.5432 S: 20\n",
      "  100       0.5746       0.0004       10.43m      C:      0.5305 B:      0.5432 S: 30\n",
      "  120       0.5860       0.0012       10.35m      C:      0.5347 B:      0.5432 S: 50\n",
      "  140       0.5996      -0.0000       10.30m      C:      0.5420 B:      0.5457 S:  3\n",
      "  160       0.6089       0.0004       10.20m      C:      0.5320 B:      0.5457 S: 23\n",
      "  180       0.6261      -0.0000       10.19m      C:      0.5205 B:      0.5457 S: 43\n",
      "  200       0.6196       0.0006       10.12m      C:      0.5178 B:      0.5457 S: 63\n",
      "  220       0.6073       0.0020       10.06m      C:      0.5282 B:      0.5457 S: 83\n",
      "  240       0.6513      -0.0000        9.97m      C:      0.5206 B:      0.5457 S:103\n",
      "  260       0.6725      -0.0004        9.87m      C:      0.5219 B:      0.5457 S:123\n",
      "  280       0.6392      -0.0005        9.77m      C:      0.5203 B:      0.5457 S:143\n",
      "  300       0.6317      -0.0004        9.69m      C:      0.5155 B:      0.5457 S:163\n",
      "  320       0.6542       0.0016        9.60m      C:      0.5190 B:      0.5457 S:183\n",
      "  340       0.6382       0.0013        9.52m      C:      0.5324 B:      0.5457 S:203\n",
      "  360       0.6481      -0.0003        9.42m      C:      0.5281 B:      0.5457 S:223\n",
      "  380       0.6558       0.0006        9.34m      C:      0.5314 B:      0.5457 S:243\n",
      "  400       0.6155       0.0001        9.25m      C:      0.5273 B:      0.5457 S:263\n",
      "  420       0.6430       0.0017        9.16m      C:      0.5185 B:      0.5457 S:283\n",
      "  440       0.6857      -0.0022        9.09m      C:      0.5151 B:      0.5457 S:303\n",
      "  460       0.6679      -0.0002        9.01m      C:      0.5235 B:      0.5457 S:323\n",
      "  480       0.6846      -0.0000        8.92m      C:      0.5208 B:      0.5457 S:343\n",
      "  500       0.6904      -0.0001        8.84m      C:      0.5267 B:      0.5457 S:363\n",
      "  550       0.6717       0.0000        8.63m      C:      0.5184 B:      0.5457 S:413\n",
      "  600       0.6983       0.0013        8.42m      C:      0.5189 B:      0.5457 S:463\n",
      "  650       0.7184       0.0002        8.23m      C:      0.5219 B:      0.5457 S:513\n",
      "  700       0.7154      -0.0008        8.07m      C:      0.5249 B:      0.5457 S:563\n",
      "  750       0.7396      -0.0027        7.87m      C:      0.5214 B:      0.5457 S:613\n",
      "  800       0.6980      -0.0003        7.65m      C:      0.5201 B:      0.5457 S:663\n",
      "  850       0.7196       0.0001        7.43m      C:      0.5208 B:      0.5457 S:713\n",
      "  900       0.7403      -0.0005        7.22m      C:      0.5244 B:      0.5457 S:763\n",
      "  950       0.7114      -0.0003        7.01m      C:      0.5265 B:      0.5457 S:813\n",
      " 1000       0.7393       0.0003        6.80m      C:      0.5223 B:      0.5457 S:863\n",
      " 1100       0.7366      -0.0003        6.38m      C:      0.5176 B:      0.5457 S:963\n",
      " 1200       0.7776      -0.0000        5.95m     C:      0.5175 B:      0.5457 S:1063\n",
      " 1300       0.7794      -0.0012        5.51m     C:      0.5135 B:      0.5457 S:1163\n",
      " 1400       0.7973      -0.0004        5.07m     C:      0.5054 B:      0.5457 S:1263\n",
      " 1500       0.8324       0.0002        4.62m     C:      0.4998 B:      0.5457 S:1363\n",
      " 1600       0.7975       0.0000        4.17m     C:      0.4980 B:      0.5457 S:1463\n",
      " 1700       0.7950      -0.0001        3.72m     C:      0.5010 B:      0.5457 S:1563\n",
      " 1800       0.8256       0.0000        3.26m     C:      0.5022 B:      0.5457 S:1663\n",
      " 1900       0.8298       0.0000        2.80m     C:      0.5010 B:      0.5457 S:1763\n",
      " 2000       0.8464       0.0013        2.34m     C:      0.5000 B:      0.5457 S:1863\n",
      " 2100       0.8571      -0.0003        1.88m     C:      0.5000 B:      0.5457 S:1963\n",
      " 2200       0.8542      -0.0000        1.41m     C:      0.4941 B:      0.5457 S:2063\n",
      " 2300       0.8697       0.0000       56.48s     C:      0.4994 B:      0.5457 S:2163\n",
      " 2400       0.8525      -0.0000       28.26s     C:      0.4929 B:      0.5457 S:2263\n",
      "Early termination at iteration  2499\n"
     ]
    },
    {
     "data": {
      "text/plain": [
       "<pyltr.models.lambdamart.LambdaMART at 0x1090627b8>"
      ]
     },
     "execution_count": 6,
     "metadata": {},
     "output_type": "execute_result"
    }
   ],
   "source": [
    "monitor = pyltr.models.monitors.ValidationMonitor(VX, Vy, Vqids, metric=metric, stop_after=5000)\n",
    "model.fit(TX, Ty, Tqids, monitor=monitor)"
   ]
  },
  {
   "cell_type": "markdown",
   "metadata": {
    "deletable": true,
    "editable": true
   },
   "source": [
    "### (3-2) 予測処理"
   ]
  },
  {
   "cell_type": "markdown",
   "metadata": {
    "deletable": true,
    "editable": true
   },
   "source": [
    "テストデータファイル 'data/test.txt' を引数として予測処理処理を行うと、Epred に予測結果が格納されます。"
   ]
  },
  {
   "cell_type": "markdown",
   "metadata": {
    "deletable": true,
    "editable": true
   },
   "source": [
    "ちなみに、例をわかりやすくする為、テストデータの１番目の列（下記Eyに対応）にはユニークなラベルを付しています。\n",
    "\n",
    "（Eyがpredict関数の引数として不要なことから、予測処理には無関係です）"
   ]
  },
  {
   "cell_type": "code",
   "execution_count": 7,
   "metadata": {
    "collapsed": true,
    "deletable": true,
    "editable": true
   },
   "outputs": [],
   "source": [
    "with open('data/test.txt') as evalfile:\n",
    "    EX, Ey, Eqids, _ = pyltr.data.letor.read_dataset(evalfile)"
   ]
  },
  {
   "cell_type": "code",
   "execution_count": 8,
   "metadata": {
    "collapsed": false,
    "deletable": true,
    "editable": true
   },
   "outputs": [
    {
     "data": {
      "text/plain": [
       "array([-0.47400408, -0.61968845, -1.16388842, -0.64531964, -0.70040169,\n",
       "       -0.69165497, -0.69165497, -0.50771143, -0.66533367, -0.49547753,\n",
       "       -0.75647554, -0.68963258, -0.69165497, -1.0101818 , -0.69165497,\n",
       "       -1.34491462, -1.45191238,  1.65792599, -1.34491462, -1.48566336])"
      ]
     },
     "execution_count": 8,
     "metadata": {},
     "output_type": "execute_result"
    }
   ],
   "source": [
    "Epred = model.predict(EX)\n",
    "Epred"
   ]
  },
  {
   "cell_type": "markdown",
   "metadata": {
    "deletable": true,
    "editable": true
   },
   "source": [
    "### (3-3) 予測結果を参照\n",
    "\n",
    "Epred に、ランキング・スコアが出力されます。\n",
    "\n",
    "（ちなみに、テストデータのレコードと同じ並びになっているようです）\n",
    "\n",
    "これをユーザープログラムなどで降順に整列し、ランキング結果として利用する想定のようです。"
   ]
  },
  {
   "cell_type": "code",
   "execution_count": 9,
   "metadata": {
    "collapsed": false,
    "deletable": true,
    "editable": true,
    "scrolled": true
   },
   "outputs": [],
   "source": [
    "'''\n",
    "    ランキングスコアで降順ソート\n",
    "'''\n",
    "ranking_array = []\n",
    "for index, _ in enumerate(EX):\n",
    "    ranking_array.append((Eqids[index], Ey[index], Epred[index]))\n",
    "\n",
    "sorted_array = sorted(ranking_array, key=lambda x:x[2], reverse=True)"
   ]
  },
  {
   "cell_type": "code",
   "execution_count": 10,
   "metadata": {
    "collapsed": false,
    "deletable": true,
    "editable": true,
    "scrolled": false
   },
   "outputs": [
    {
     "name": "stdout",
     "output_type": "stream",
     "text": [
      "qid=1 label=18 ranking score=1.658\n",
      "qid=1 label=1 ranking score=-0.474\n",
      "qid=1 label=10 ranking score=-0.495\n",
      "qid=1 label=8 ranking score=-0.508\n",
      "qid=1 label=2 ranking score=-0.620\n",
      "qid=1 label=4 ranking score=-0.645\n",
      "qid=1 label=9 ranking score=-0.665\n",
      "qid=1 label=12 ranking score=-0.690\n",
      "qid=1 label=6 ranking score=-0.692\n",
      "qid=1 label=7 ranking score=-0.692\n",
      "qid=1 label=13 ranking score=-0.692\n",
      "qid=1 label=15 ranking score=-0.692\n",
      "qid=1 label=5 ranking score=-0.700\n",
      "qid=1 label=11 ranking score=-0.756\n",
      "qid=1 label=14 ranking score=-1.010\n",
      "qid=1 label=3 ranking score=-1.164\n",
      "qid=1 label=16 ranking score=-1.345\n",
      "qid=1 label=19 ranking score=-1.345\n",
      "qid=1 label=17 ranking score=-1.452\n",
      "qid=1 label=20 ranking score=-1.486\n"
     ]
    }
   ],
   "source": [
    "'''\n",
    "    ランキングを表示します\n",
    "'''\n",
    "for qid, label, score in sorted_array:\n",
    "    print('qid=%s label=%d ranking score=%0.3f' % (qid, label, score))"
   ]
  },
  {
   "cell_type": "markdown",
   "metadata": {
    "deletable": true,
    "editable": true
   },
   "source": [
    "### (3-4) モデルの評価\n",
    "\n",
    "calc_mean_random または calc_mean の両関数を用いて行うとのことです。\n",
    "\n",
    "学習セット（TX）で予測した結果（Tpred）を用いて、評価を行ってみます。"
   ]
  },
  {
   "cell_type": "code",
   "execution_count": 11,
   "metadata": {
    "collapsed": false,
    "deletable": true,
    "editable": true,
    "scrolled": true
   },
   "outputs": [
    {
     "data": {
      "text/plain": [
       "array([-0.47400408, -0.61968845, -1.16388842, ..., -0.79744169,\n",
       "       -1.11094436, -0.84445588])"
      ]
     },
     "execution_count": 11,
     "metadata": {},
     "output_type": "execute_result"
    }
   ],
   "source": [
    "Tpred = model.predict(TX)\n",
    "Tpred"
   ]
  },
  {
   "cell_type": "markdown",
   "metadata": {
    "deletable": true,
    "editable": true
   },
   "source": [
    "値が1.0に近ければ高スコアと考えられますが・・・ドキュメント等の説明がない為、詳細は不明です。"
   ]
  },
  {
   "cell_type": "code",
   "execution_count": 12,
   "metadata": {
    "collapsed": false,
    "deletable": true,
    "editable": true
   },
   "outputs": [
    {
     "name": "stdout",
     "output_type": "stream",
     "text": [
      "Random ranking: 0.31488525443\n",
      "Our model: 0.603719105934\n"
     ]
    }
   ],
   "source": [
    "print('Random ranking:', metric.calc_mean_random(Tqids, Ty))\n",
    "print('Our model:', metric.calc_mean(Tqids, Ty, Tpred))"
   ]
  },
  {
   "cell_type": "markdown",
   "metadata": {
    "deletable": true,
    "editable": true
   },
   "source": [
    "ソースコードを見た限りでは、少なくとも Accuracy（正解or不正解）の計測値ではないようですが、１に近いほど高スコアということかと思われます。"
   ]
  },
  {
   "cell_type": "code",
   "execution_count": null,
   "metadata": {
    "collapsed": true,
    "deletable": true,
    "editable": true
   },
   "outputs": [],
   "source": [
    "'''\n",
    "    ソースコードの該当部分を抽出\n",
    "'''\n",
    "def _exp2_gain(x): # <---- 下記 _gain_fn(t) の実体\n",
    "    return math.exp(x * _LOG2) - 1.0\n",
    "\n",
    "class DCG(Metric):\n",
    "    @overrides\n",
    "    def evaluate(self, qid, targets):\n",
    "        return sum(self._gain_fn(t) * self._get_discount(i)\n",
    "                   for i, t in enumerate(targets) if i < self.k)\n",
    "\n",
    "    @classmethod\n",
    "    def _make_discounts(self, n):\n",
    "        return np.array([1.0 / np.log2(i + 2.0) for i in range(n)])\n",
    "\n",
    "    def _get_discount(self, i):\n",
    "        if i >= self.k:\n",
    "            return 0.0\n",
    "        while i >= len(self._discounts):\n",
    "            self._grow_discounts()\n",
    "        return self._discounts[i]\n",
    "\n",
    "    def _grow_discounts(self):\n",
    "        self._discounts = self._make_discounts(len(self._discounts) * 2)\n",
    "\n",
    "class Metric(object):\n",
    "    def evaluate_preds(self, qid, targets, preds):\n",
    "        \"\"\"Evaluates the metric on a ranked list of targets.\n",
    "        \"\"\"\n",
    "        return self.evaluate(qid, get_sorted_y(targets, preds))\n",
    "    \n",
    "    def calc_mean(self, qids, targets, preds):\n",
    "        \"\"\"Calculates the mean of the metric among the provided predictions.\n",
    "        \"\"\"\n",
    "        check_qids(qids)\n",
    "        query_groups = get_groups(qids)\n",
    "        return np.mean([self.evaluate_preds(qid, targets[a:b], preds[a:b])\n",
    "                        for qid, a, b in query_groups])"
   ]
  }
 ],
 "metadata": {
  "kernelspec": {
   "display_name": "Python 3",
   "language": "python",
   "name": "python3"
  },
  "language_info": {
   "codemirror_mode": {
    "name": "ipython",
    "version": 3
   },
   "file_extension": ".py",
   "mimetype": "text/x-python",
   "name": "python",
   "nbconvert_exporter": "python",
   "pygments_lexer": "ipython3",
   "version": "3.5.2"
  }
 },
 "nbformat": 4,
 "nbformat_minor": 2
}
