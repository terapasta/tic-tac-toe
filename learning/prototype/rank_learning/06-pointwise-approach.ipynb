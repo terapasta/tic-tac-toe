{
 "cells": [
  {
   "cell_type": "markdown",
   "metadata": {
    "deletable": true,
    "editable": true
   },
   "source": [
    "# pointwise でのランク学習\n",
    "\n",
    "pointwise でのランク学習について、概要および実装例を調査します。"
   ]
  },
  {
   "cell_type": "markdown",
   "metadata": {
    "deletable": true,
    "editable": true
   },
   "source": [
    "## (1) 概要\n",
    "\n",
    "以下に、pointwise でのランク学習におけるインプット／アウトプットイメージを示します。"
   ]
  },
  {
   "cell_type": "markdown",
   "metadata": {
    "deletable": true,
    "editable": true
   },
   "source": [
    "### (1-1)  他手法との比較\n",
    "\n",
    "\n",
    "\n",
    "| 手法 | ランキング・スコア | ランキング・スコア計算（更新）方法 | クエリーID | \n",
    "| :---: | :---: | :--- | :--- | \n",
    "| pointwise | 絶対指標 | 各サンプルのfeature・適合度だけを用いる | 不要 | \n",
    "| pairwise | 相対指標 | ２件のサンプルのfeature・適合度のペアを使用 | 必要となる実装例が多い様子 | \n",
    "| listwise | 相対指標 | 各クエリーごとに、サンプルのfeature・適合度をすべて使用  | 必須 | "
   ]
  },
  {
   "cell_type": "markdown",
   "metadata": {
    "deletable": true,
    "editable": true
   },
   "source": [
    "### (1-2) 教師データ\n",
    "\n",
    "素性（featureベクトルと等価）と、その適合度（＝ランク、おおむね１〜５の間の整数値）を教師データとして用意します。\n",
    "\n",
    "適合度の値が大きいほど、ランキングが高い素性である、という意味になるようです。\n",
    "\n",
    "- 教師データのフォーマット：(fit関数の引数。feature=10件とします)\n",
    "\n",
    "| 適合度 | feature1 | feature2 | ・・・ | feature10 | \n",
    "| :---: | :---: | :---: | :---: | :---: | \n",
    "| 3 | 0.5 | 0.0 | ・・・ | 0.5 | \n",
    "| 2 | 0.2 | 1.0 | ・・・ | 0.1 | \n",
    "| 1 | 0.0 | 1.0 | ・・・ | 0.0 | \n",
    "| 3 | 0.0 | 0.1 | ・・・ | 0.2 | \n",
    "| 2 | 1.0 | 0.3 | ・・・ | 0.2 | \n",
    "| 1 | 1.0 | 0.5 | ・・・ | 1.0 | \n",
    "\n",
    "\n",
    "ただし、pointwise がそもそも、複数のサンプル間で比較を行う（＝pairwise/listwise）ようなアルゴリズムでないということから、クエリーIDなどの付加情報を必要としないようです。\n",
    "\n",
    "このため、サンプルに付加された適合度は、学習セット全体における適合度ということになります。\n",
    "\n",
    "\n",
    "### (1-3) 学習\n",
    "\n",
    "教師データを学習処理に渡すと、モデルが生成されます。\n",
    "\n",
    "モデルの内部には、featureごとの重みづけテーブルと、適合度ごとのスコア値テーブルを保持することが多いようです。\n",
    "\n",
    "- 重み付けテーブルのイメージ\n",
    "\n",
    "| feature1 | feature2 | ・・・ | feature10 | \n",
    "| :---: |  :---: | :---: |  :---: | \n",
    "| 0.1 | -0.05 | ・・・ | 0.3 | \n",
    "\n",
    "\n",
    "- 適合度ごとのスコア値テーブルのイメージ\n",
    "\n",
    "| 適合度 | 1 | 2 | 3 | 4 | 5 |\n",
    "| :---:| :---: |  :---: | :---: |  :---: | :---: | \n",
    "| スコア | 〜0.0 | 〜0.01 | 〜0.05 | 〜0.1 | 0.1〜 | \n",
    "\n",
    "\n",
    "### (1-4) 予測\n",
    "\n",
    "テストデータを予測処理に渡すと、予測結果が生成され、テストデータについてのランキング・スコアが得られます。\n",
    "\n",
    "\n",
    "- テストデータのフォーマット：(predict関数の引数＝前述の教師データのフォーマットと同一)\n",
    "\n",
    "| ランク | feature1 | feature2 | ・・・ | feature10 | \n",
    "| :---: | :---: |  :---: | :---: |  :---: | \n",
    "| 1 | 0.0 |  0.0 | ・・・ |  0.0 | \n",
    "| 1 | 0.1 |  1.0 | ・・・ |  0.1 | \n",
    "| 1 | 0.5 |  0.0 | ・・・ |  0.3 | \n",
    "\n",
    "　　（テストデータの１番目の列の値は、予測処理には影響しないようです）\n",
    "\n",
    "\n",
    "- 予測結果データのフォーマット：(予測処理の戻り＝テストデータと並びが同じになるようです)\n",
    "\n",
    "| ランキング・スコア |\n",
    "| :---: |\n",
    "| 1 |\n",
    "| 3 |\n",
    "| 4 |\n",
    "\n",
    "予測結果として得られるランキング・スコアは、教師データで用意された適合度のうちのいずれかの値（＝絶対指標）となるようです。\n",
    "\n",
    "また、このランキング・スコアは他の手法と同様、テストデータをランキング・スコアの降順に並べ替えて、ランキングを得る・・・といった形で利用することになるかと存じます。"
   ]
  },
  {
   "cell_type": "markdown",
   "metadata": {
    "deletable": true,
    "editable": true
   },
   "source": [
    "## (2) PRank/McRank の実装例\n",
    "\n",
    "こちらを参考にしました。\n",
    "\n",
    "http://d.hatena.ne.jp/kisa12012/20110805/1312535567\n",
    "\n",
    "https://github.com/oiwah/ranking\n",
    "\n",
    "PRank/McRank は pointwise ランク学習に分類されるようです。"
   ]
  },
  {
   "cell_type": "markdown",
   "metadata": {
    "deletable": true,
    "editable": true
   },
   "source": [
    "### (2-1) GitHub からコードを取得"
   ]
  },
  {
   "cell_type": "markdown",
   "metadata": {
    "deletable": true,
    "editable": true
   },
   "source": [
    "```\n",
    "MacBookPro-makmorit-jp:~ makmorit$ cd GitHub\n",
    "MacBookPro-makmorit-jp:GitHub makmorit$ git clone https://github.com/oiwah/ranking.git\n",
    "Cloning into 'ranking'...\n",
    "remote: Counting objects: 53, done.\n",
    "remote: Total 53 (delta 0), reused 0 (delta 0), pack-reused 53\n",
    "Unpacking objects: 100% (53/53), done.\n",
    "MacBookPro-makmorit-jp:GitHub makmorit$\n",
    "MacBookPro-makmorit-jp:GitHub makmorit$ ls -al\n",
    "total 24\n",
    "drwxr-xr-x   9 makmorit  staff    306 May 11 13:14 .\n",
    "drwxr-xr-x+ 40 makmorit  staff   1360 May 11 13:14 ..\n",
    "-rw-r--r--@  1 makmorit  staff  10244 May  9 12:35 .DS_Store\n",
    "drwxr-xr-x   9 makmorit  staff    306 Feb  3 13:38 .git\n",
    "drwxr-xr-x  34 makmorit  staff   1156 May 11 13:07 donusagi-bot\n",
    "drwxr-xr-x  26 makmorit  staff    884 Feb  4 20:22 mecab\n",
    "drwxr-xr-x  15 makmorit  staff    510 May  3 15:58 pyltr\n",
    "drwxr-xr-x   8 makmorit  staff    272 May 11 13:14 ranking\n",
    "drwxr-xr-x  17 makmorit  staff    578 May  3 10:31 rankpy\n",
    "MacBookPro-makmorit-jp:GitHub makmorit$ \n",
    "```"
   ]
  },
  {
   "cell_type": "markdown",
   "metadata": {
    "deletable": true,
    "editable": true
   },
   "source": [
    "### (2-2) ビルド実行"
   ]
  },
  {
   "cell_type": "markdown",
   "metadata": {
    "deletable": true,
    "editable": true
   },
   "source": [
    "```\n",
    "MacBookPro-makmorit-jp:GitHub makmorit$ cd ranking\n",
    "MacBookPro-makmorit-jp:ranking makmorit$ ls -al\n",
    "total 184\n",
    "drwxr-xr-x   8 makmorit  staff    272 May 11 13:14 .\n",
    "drwxr-xr-x   9 makmorit  staff    306 May 11 13:14 ..\n",
    "drwxr-xr-x  13 makmorit  staff    442 May 11 13:17 .git\n",
    "-rw-r--r--   1 makmorit  staff    482 May 11 13:14 README.md\n",
    "drwxr-xr-x   6 makmorit  staff    204 May 11 13:14 src\n",
    "drwxr-xr-x   4 makmorit  staff    136 May 11 13:14 test_data\n",
    "-rwxr-xr-x   1 makmorit  staff  83005 May 11 13:14 waf\n",
    "-rw-r--r--   1 makmorit  staff    463 May 11 13:14 wscript\n",
    "MacBookPro-makmorit-jp:ranking makmorit$ \n",
    "MacBookPro-makmorit-jp:ranking makmorit$ waf configure build\n",
    "-bash: waf: command not found\n",
    "MacBookPro-makmorit-jp:ranking makmorit$ ./waf configure build\n",
    "Setting top to                           : /Users/makmorit/GitHub/ranking \n",
    "Setting out to                           : /Users/makmorit/GitHub/ranking/build \n",
    "Checking for 'g++' (c++ compiler)        : ok \n",
    "'configure' finished successfully (0.139s)\n",
    "Waf: Entering directory `/Users/makmorit/GitHub/ranking/build'\n",
    "[1/5] cxx: src/pointwise/prank.cc -> build/src/pointwise/prank.cc.0.o\n",
    "[2/5] cxx: src/pointwise/mcrank.cc -> build/src/pointwise/mcrank.cc.0.o\n",
    "[3/5] cxx: src/test/test.cc -> build/src/test/test.cc.1.o\n",
    "clangclang: : warningwarning: : argument unused during compilation: '-compatibility_version 1' [-Wunused-command-line-argument]argument unused during compilation: '-compatibility_version 1' [-Wunused-command-line-argument]\n",
    "\n",
    "clang: warning: argument unused during compilation: '-current_version 1' [-Wunused-command-line-argument]\n",
    "clang: warning: argument unused during compilation: '-current_version 1' [-Wunused-command-line-argument]\n",
    "[4/5] cxxshlib: build/src/pointwise/prank.cc.0.o build/src/pointwise/mcrank.cc.0.o -> build/src/libranking.dylib\n",
    "[5/5] cxxprogram: build/src/test/test.cc.1.o -> build/src/test/ranking_test\n",
    "Waf: Leaving directory `/Users/makmorit/GitHub/ranking/build'\n",
    "'build' finished successfully (0.857s)\n",
    "MacBookPro-makmorit-jp:ranking makmorit$ \n",
    "```"
   ]
  },
  {
   "cell_type": "markdown",
   "metadata": {
    "deletable": true,
    "editable": true
   },
   "source": [
    "### (2-3) テスト実行"
   ]
  },
  {
   "cell_type": "markdown",
   "metadata": {
    "deletable": true,
    "editable": true
   },
   "source": [
    "提供されているテストデータ（学習セットおよび予測対象セット）はこちら\n",
    "\n",
    "accuracy検証をやりやすくする意図かと思われますが、予測対象セットには、あらかじめ正解のランク（適合度）がつけられています。\n",
    "\n",
    "（予測対象セットの適合度[＝レコードの１列目の値]は、予測処理においては意味を持ちません）"
   ]
  },
  {
   "cell_type": "markdown",
   "metadata": {
    "deletable": true,
    "editable": true
   },
   "source": [
    "```\n",
    "MacBookPro-makmorit-jp:src makmorit$ cat ~/GitHub/ranking/test_data/train.dat\n",
    "4 1:1 2:4 3:6\n",
    "4 1:2 2:3 3:5\n",
    "3 1:3 2:4 3:4\n",
    "3 1:6 2:1 3:5\n",
    "2 1:5 2:4 3:3\n",
    "2 1:4 2:3 3:3\n",
    "1 1:8 2:2 3:1\n",
    "1 1:7 2:5\n",
    "0 1:10 2:2\n",
    "0 1:12 2:3 3:1\n",
    "MacBookPro-makmorit-jp:src makmorit$ cat ~/GitHub/ranking/test_data/test.dat\n",
    "4 1:2 2:6 3:8\n",
    "3 1:3 2:4 3:4\n",
    "2 1:2 3:1\n",
    "1 1:9 2:1 3:2\n",
    "0 1:15\n",
    "MacBookPro-makmorit-jp:src makmorit$\n",
    "```"
   ]
  },
  {
   "cell_type": "markdown",
   "metadata": {
    "deletable": true,
    "editable": true
   },
   "source": [
    "提供されているサンプル・プログラムを使って実行してみます。\n",
    "\n",
    "５件の予測対象データのうち、４件が正解（＝すなわちランキングが当たっている）だった様子です。"
   ]
  },
  {
   "cell_type": "markdown",
   "metadata": {
    "deletable": true,
    "editable": true
   },
   "source": [
    "```\n",
    "MacBookPro-makmorit-jp:src makmorit$ test/ranking_test ~/GitHub/ranking/test_data/train.dat ~/GitHub/ranking/test_data/test.dat \n",
    "PRank\n",
    "sample #0: score=4\n",
    "sample #1: score=3\n",
    "sample #2: score=2\n",
    "sample #3: score=0\n",
    "sample #4: score=0\n",
    "accuracy : 4 / 5\n",
    "\n",
    "McRank\n",
    "sample #0: score=4\n",
    "sample #1: score=3\n",
    "sample #2: score=2\n",
    "sample #3: score=0\n",
    "sample #4: score=0\n",
    "accuracy : 4 / 5\n",
    "\n",
    "MacBookPro-makmorit-jp:src makmorit$ \n",
    "```"
   ]
  }
 ],
 "metadata": {
  "kernelspec": {
   "display_name": "Python 3",
   "language": "python",
   "name": "python3"
  },
  "language_info": {
   "codemirror_mode": {
    "name": "ipython",
    "version": 3
   },
   "file_extension": ".py",
   "mimetype": "text/x-python",
   "name": "python",
   "nbconvert_exporter": "python",
   "pygments_lexer": "ipython3",
   "version": "3.5.2"
  }
 },
 "nbformat": 4,
 "nbformat_minor": 2
}
