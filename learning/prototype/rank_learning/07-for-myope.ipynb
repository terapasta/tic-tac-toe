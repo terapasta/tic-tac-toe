{
 "cells": [
  {
   "cell_type": "markdown",
   "metadata": {},
   "source": [
    "## ランク学習をMy Opeに使うとしたら\n",
    "\n",
    "- pointwise\n",
    "- pairwise\n",
    "- listwise\n",
    "\n",
    "下に行くほど実装難度が上がる\n",
    "\n",
    "pointwiseがよさそうだが?\n",
    "\n",
    "## pointwise\n",
    "\n",
    "`06-pointwise-approach` によると\n",
    "\n",
    "> ただし、pointwise がそもそも、複数のサンプル間で比較を行う（＝pairwise/listwise）ようなアルゴリズムでないということから、クエリーIDなどの付加情報を必要としないようです。\n",
    "> このため、サンプルに付加された適合度は、学習セット全体における適合度ということになります。\n",
    "\n",
    "ということだが、\n",
    "\n",
    "https://www.slideshare.net/sleepy_yoshi/dsirnlp1\n",
    "\n",
    "をみるとquery毎に適合度をもっているのではないかと考えられるので、pointwiseでもmyopeに効果がありそう。\n",
    "\n",
    "### pointwiseでやるとしたらどう実装する?\n",
    "\n",
    "- pythonでの実装例が見つからない\n",
    "- pairwiseやlistwiseのほうが精度がいいのであまり使われていない?\n",
    "\n",
    "## pairwise\n",
    "- scikit-learnにあるので一番実装しやすそう\n",
    "\n",
    "まずはこれを使って試してみることにした\n",
    "\n",
    "参考: https://gist.github.com/agramfort/2071994\n",
    "\n",
    "\n",
    "## listwise\n",
    "一番複雑ということなので一旦見送り\n"
   ]
  },
  {
   "cell_type": "code",
   "execution_count": null,
   "metadata": {
    "collapsed": true
   },
   "outputs": [],
   "source": []
  }
 ],
 "metadata": {
  "anaconda-cloud": {},
  "kernelspec": {
   "display_name": "Python [default]",
   "language": "python",
   "name": "python3"
  },
  "language_info": {
   "codemirror_mode": {
    "name": "ipython",
    "version": 3
   },
   "file_extension": ".py",
   "mimetype": "text/x-python",
   "name": "python",
   "nbconvert_exporter": "python",
   "pygments_lexer": "ipython3",
   "version": "3.5.2"
  }
 },
 "nbformat": 4,
 "nbformat_minor": 1
}
