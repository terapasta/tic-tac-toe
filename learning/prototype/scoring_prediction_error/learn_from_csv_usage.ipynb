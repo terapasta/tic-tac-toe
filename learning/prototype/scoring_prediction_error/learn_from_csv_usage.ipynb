{
 "cells": [
  {
   "cell_type": "markdown",
   "metadata": {
    "deletable": true,
    "editable": true
   },
   "source": [
    "# 個別学習処理スクリプト(CSV用)の実行例"
   ]
  },
  {
   "cell_type": "markdown",
   "metadata": {
    "deletable": true,
    "editable": true
   },
   "source": [
    "# (1) Help表示"
   ]
  },
  {
   "cell_type": "markdown",
   "metadata": {
    "deletable": true,
    "editable": true
   },
   "source": [
    "```\n",
    "$ python3 -m bin.learn_from_csv --help\n",
    "/Library/Frameworks/Python.framework/Versions/3.5/lib/python3.5/site-packages/sklearn/cross_validation.py:44: DeprecationWarning: This module was deprecated in version 0.18 in favor of the model_selection module into which all the refactored classes and functions are moved. Also note that the interface of the new CV iterators are different from that of this module. This module will be removed in 0.20.\n",
    "  \"This module will be removed in 0.20.\", DeprecationWarning)\n",
    "/Library/Frameworks/Python.framework/Versions/3.5/lib/python3.5/site-packages/sklearn/grid_search.py:43: DeprecationWarning: This module was deprecated in version 0.18 in favor of the model_selection module into which all the refactored classes and functions are moved. This module will be removed in 0.20.\n",
    "  DeprecationWarning)\n",
    "usage: learn_from_csv.py [-h] [--bot_id BOT_ID]\n",
    "                         [--classify_threshold CLASSIFY_THRESHOLD]\n",
    "                         [--excluded_labels_for_fitting EXCLUDED_LABELS_FOR_FITTING [EXCLUDED_LABELS_FOR_FITTING ...]]\n",
    "\n",
    "optional arguments:\n",
    "  -h, --help            show this help message and exit\n",
    "  --bot_id BOT_ID       Rails側と重複しないIDを指定\n",
    "  --classify_threshold CLASSIFY_THRESHOLD\n",
    "                        正解とみなす確率のしきい値を 0.0 - 1.0 の間の値で指定\n",
    "  --excluded_labels_for_fitting EXCLUDED_LABELS_FOR_FITTING [EXCLUDED_LABELS_FOR_FITTING ...]\n",
    "                        学習時に除外したいラベルを１つ以上指定```"
   ]
  },
  {
   "cell_type": "markdown",
   "metadata": {
    "deletable": true,
    "editable": true
   },
   "source": [
    "## (2) 引数なし実行\n",
    "\n",
    "通常の学習処理が行われます。所定のディレクトリに、学習結果がdumpされます。"
   ]
  },
  {
   "cell_type": "markdown",
   "metadata": {
    "deletable": true,
    "editable": true
   },
   "source": [
    "```\n",
    "$ python3 -m bin.learn_from_csv\n",
    "/Library/Frameworks/Python.framework/Versions/3.5/lib/python3.5/site-packages/sklearn/cross_validation.py:44: DeprecationWarning: This module was deprecated in version 0.18 in favor of the model_selection module into which all the refactored classes and functions are moved. Also note that the interface of the new CV iterators are different from that of this module. This module will be removed in 0.20.\n",
    "  \"This module will be removed in 0.20.\", DeprecationWarning)\n",
    "/Library/Frameworks/Python.framework/Versions/3.5/lib/python3.5/site-packages/sklearn/grid_search.py:43: DeprecationWarning: This module was deprecated in version 0.18 in favor of the model_selection module into which all the refactored classes and functions are moved. This module will be removed in 0.20.\n",
    "  DeprecationWarning)\n",
    "2017/04/25 AM 11:07:31 learning_parameter: {'_classify_threshold': None, '_excluded_labels_for_fitting': [], '_include_tag_vector': False, '_include_failed_data': False, '_params_for_algorithm': {}, '_use_similarity_classification': False, '_algorithm': 0}\n",
    "2017/04/25 AM 11:07:31 start Bot#learn\n",
    "{'database': {'host': 'localhost', 'password': '6mR%9T4g', 'user': 'root', 'endpoint': 'mysql://root@localhost/donusagi_bot?charset=utf8', 'name': 'donusagi_bot'}}\n",
    "2017/04/25 AM 11:07:31 TrainingMessageFromCsv#__build_learning_training_messages count of learning data: 5064\n",
    "2017/04/25 AM 11:07:31 TextArray#__init__ start\n",
    "2017/04/25 AM 11:07:34 TextArray#to_vec start\n",
    "2017/04/25 AM 11:07:34 TextArray#to_vec end\n",
    "2017/04/25 AM 11:07:34 Bot#__build_training_set training_set.count_sample_by_y: [[0, 3], [6708, 14], [6709, 20], [6710, 48], [6711, 20], [6712, 14], [6713, 14], [6714, 20], [6715, 20], [6716, 8], [6717, 14], [6718, 14], [6719, 14], [6720, 14], [6721, 20], [6722, 20], [6723, 14], [6724, 14], [6725, 20], [6726, 20], [6727, 8], [6728, 14], [6729, 8], [6730, 10], [6731, 22], [6733, 32], [6735, 20], [6736, 20], [6737, 20], [6738, 40], [6740, 14], [6741, 14], [6742, 16], [6743, 14], [6744, 14], [6745, 22], [6746, 14], [6747, 20], [6748, 16], [6749, 8], [6750, 14], [6751, 10], [6752, 8], [6753, 20], [6754, 14], [6755, 14], [6756, 52], [6757, 14], [6758, 16], [6759, 14], [6760, 14], [6761, 16], [6762, 14], [6763, 14], [6764, 14], [6766, 20], [6767, 20], [6768, 14], [6769, 8], [6770, 14], [6771, 8], [6772, 42], [6773, 14], [6774, 22], [6775, 14], [6776, 14], [6777, 20], [6778, 20], [6779, 20], [6780, 8], [6781, 22], [6782, 22], [6783, 10], [6784, 16], [6785, 16], [6786, 8], [6787, 14], [6788, 20], [6789, 14], [6790, 28], [6791, 20], [6792, 14], [6793, 20], [6794, 14], [6795, 20], [6796, 14], [6797, 20], [6798, 14], [6799, 20], [6800, 14], [6801, 14], [6802, 22], [6803, 14], [6804, 20], [6805, 20], [6806, 14], [6807, 20], [6808, 10], [6809, 14], [6810, 22], [6811, 22], [6812, 20], [6813, 14], [6814, 8], [6815, 16], [6816, 20], [6817, 14], [6818, 14], [6819, 16], [6820, 8], [6821, 20], [6822, 14], [6823, 14], [6824, 20], [6825, 20], [6826, 20], [6827, 22], [6828, 14], [6829, 14], [6830, 20], [6831, 8], [6832, 24], [6833, 14], [6834, 14], [6835, 16], [6836, 20], [6837, 14], [6838, 20], [6839, 14], [6840, 20], [6841, 20], [6842, 20], [6843, 8], [6844, 14], [6845, 14], [6846, 14], [6847, 14], [6848, 8], [6849, 14], [6850, 14], [6851, 14], [6852, 14], [6853, 14], [6854, 14], [6855, 8], [6856, 20], [6857, 10], [6858, 14], [6859, 20], [6860, 20], [6861, 20], [6862, 14], [6863, 20], [6864, 14], [6865, 14], [6866, 14], [6867, 14], [6868, 14], [6869, 14], [6870, 14], [6871, 14], [6872, 20], [6873, 14], [6874, 14], [6875, 14], [6876, 20], [6877, 14], [6878, 14], [6879, 8], [6880, 14], [6881, 14], [6882, 14], [6883, 24], [6884, 20], [6885, 16], [6886, 14], [6887, 16], [6888, 14], [6889, 14], [6890, 16], [6891, 14], [6892, 20], [6893, 20], [6894, 14], [6895, 14], [6896, 14], [6897, 22], [6898, 20], [6899, 20], [6900, 20], [6901, 14], [6902, 14], [6903, 22], [6904, 20], [6905, 16], [6906, 16], [6907, 20], [6908, 14], [6909, 20], [6910, 56], [6911, 8], [6912, 56], [6913, 14], [6914, 14], [6915, 14], [6916, 14], [6917, 14], [6918, 14], [6919, 20], [6920, 14], [6921, 18], [6922, 14], [6923, 18], [6924, 20], [6925, 14], [6926, 20], [6927, 14], [6928, 14], [6929, 14], [6930, 14], [6931, 20], [6932, 22], [6933, 20], [6934, 14], [6935, 10], [6936, 14], [6937, 20], [6938, 14], [6939, 20], [6940, 14], [6941, 14], [6942, 14], [6943, 14], [6944, 20], [6945, 14], [6946, 14], [6947, 20], [6948, 32], [6949, 14], [6950, 14], [6951, 14], [6952, 14], [6953, 20], [6954, 14], [6955, 14], [6956, 14], [6957, 20], [6958, 14], [6959, 14], [6960, 14], [6961, 14], [6962, 20], [6963, 20], [6964, 20], [6965, 20], [6966, 20], [6967, 20], [6968, 14], [6969, 14], [6970, 14], [6971, 14], [6972, 16], [6973, 22], [6974, 14], [6975, 14], [6976, 14], [6977, 20], [6978, 20], [6979, 14], [6980, 16], [6981, 14], [6982, 20], [6983, 26], [6984, 20], [6985, 14], [6986, 20], [6987, 14], [6988, 26], [6989, 20], [6990, 16], [6991, 14], [6992, 14], [6993, 14], [6994, 22], [6995, 20], [6996, 14], [6997, 20], [6998, 14], [6999, 20], [7000, 14], [7001, 20], [7002, 20], [7003, 14], [7004, 14], [7005, 8], [7006, 16], [7007, 14], [7008, 20], [7009, 20], [7010, 14], [7011, 20], [7012, 20]]\n",
    "2017/04/25 AM 11:07:34 use algorithm: logistic regression\n",
    "2017/04/25 AM 11:07:34 learning_parameter has not parameter C\n",
    "2017/04/25 AM 11:07:59 best_params_: {'C': 100}\n",
    "2017/04/25 AM 11:07:59 after Bot#__get_estimator\n",
    "2017/04/25 AM 11:07:59 before Evaluator#evaluate\n",
    "2017/04/25 AM 11:07:59 self.threshold: 0.0\n",
    "0.993685872139\n",
    "2017/04/25 AM 11:08:02 Evaluator#evaluate#elapsed time: 3121.381998 ms\n",
    "2017/04/25 AM 11:08:02 accuracy: 0.993685872139\n",
    "2017/04/25 AM 11:08:02 end Bot#learn\n",
    "2017/04/25 AM 11:08:02 Bot.learn processing time: 30.41695284843445 [sec]```"
   ]
  },
  {
   "cell_type": "markdown",
   "metadata": {
    "deletable": true,
    "editable": true
   },
   "source": [
    "## (3) 除外ラベルを引数指定し実行\n",
    "\n",
    "例えば下記のように実行します。\n",
    "\n",
    "> python3 -m bin.learn_from_csv --excluded_labels_for_fitting 6708 6709 6710 6711 6712 --classify_threshold 0.5\n",
    "\n",
    "\n",
    "指定のラベルを除外した学習処理が行われます。\n",
    "\n",
    "また、除外ラベルを予測にかけた場合、回答失敗になる確率がコンソール表示されます。\n",
    "\n",
    "この場合、学習結果はdumpされません。"
   ]
  },
  {
   "cell_type": "markdown",
   "metadata": {
    "deletable": true,
    "editable": true
   },
   "source": [
    "```\n",
    "$ python3 -m bin.learn_from_csv --excluded_labels_for_fitting 6708 6709 6710 6711 6712 --classify_threshold 0.5\n",
    "/Library/Frameworks/Python.framework/Versions/3.5/lib/python3.5/site-packages/sklearn/cross_validation.py:44: DeprecationWarning: This module was deprecated in version 0.18 in favor of the model_selection module into which all the refactored classes and functions are moved. Also note that the interface of the new CV iterators are different from that of this module. This module will be removed in 0.20.\n",
    "  \"This module will be removed in 0.20.\", DeprecationWarning)\n",
    "/Library/Frameworks/Python.framework/Versions/3.5/lib/python3.5/site-packages/sklearn/grid_search.py:43: DeprecationWarning: This module was deprecated in version 0.18 in favor of the model_selection module into which all the refactored classes and functions are moved. This module will be removed in 0.20.\n",
    "  DeprecationWarning)\n",
    "2017/04/25 AM 11:21:09 learning_parameter: {'_use_similarity_classification': False, '_classify_threshold': 0.5, '_excluded_labels_for_fitting': [6708, 6709, 6710, 6711, 6712], '_include_tag_vector': False, '_include_failed_data': False, '_algorithm': 0, '_params_for_algorithm': {}}\n",
    "2017/04/25 AM 11:21:09 start Bot#learn\n",
    "{'database': {'endpoint': 'mysql://root@localhost/donusagi_bot?charset=utf8', 'name': 'donusagi_bot', 'password': '6mR%9T4g', 'host': 'localhost', 'user': 'root'}}\n",
    "2017/04/25 AM 11:21:09 TrainingMessageFromCsv#__build_learning_training_messages count of learning data: 5064\n",
    "2017/04/25 AM 11:21:09 TextArray#__init__ start\n",
    "2017/04/25 AM 11:21:11 TextArray#to_vec start\n",
    "2017/04/25 AM 11:21:11 TextArray#to_vec end\n",
    "2017/04/25 AM 11:21:11 Bot#__build_training_set training_set.count_sample_by_y: [[0, 3], [6708, 14], [6709, 20], [6710, 48], [6711, 20], [6712, 14], [6713, 14], [6714, 20], [6715, 20], [6716, 8], [6717, 14], [6718, 14], [6719, 14], [6720, 14], [6721, 20], [6722, 20], [6723, 14], [6724, 14], [6725, 20], [6726, 20], [6727, 8], [6728, 14], [6729, 8], [6730, 10], [6731, 22], [6733, 32], [6735, 20], [6736, 20], [6737, 20], [6738, 40], [6740, 14], [6741, 14], [6742, 16], [6743, 14], [6744, 14], [6745, 22], [6746, 14], [6747, 20], [6748, 16], [6749, 8], [6750, 14], [6751, 10], [6752, 8], [6753, 20], [6754, 14], [6755, 14], [6756, 52], [6757, 14], [6758, 16], [6759, 14], [6760, 14], [6761, 16], [6762, 14], [6763, 14], [6764, 14], [6766, 20], [6767, 20], [6768, 14], [6769, 8], [6770, 14], [6771, 8], [6772, 42], [6773, 14], [6774, 22], [6775, 14], [6776, 14], [6777, 20], [6778, 20], [6779, 20], [6780, 8], [6781, 22], [6782, 22], [6783, 10], [6784, 16], [6785, 16], [6786, 8], [6787, 14], [6788, 20], [6789, 14], [6790, 28], [6791, 20], [6792, 14], [6793, 20], [6794, 14], [6795, 20], [6796, 14], [6797, 20], [6798, 14], [6799, 20], [6800, 14], [6801, 14], [6802, 22], [6803, 14], [6804, 20], [6805, 20], [6806, 14], [6807, 20], [6808, 10], [6809, 14], [6810, 22], [6811, 22], [6812, 20], [6813, 14], [6814, 8], [6815, 16], [6816, 20], [6817, 14], [6818, 14], [6819, 16], [6820, 8], [6821, 20], [6822, 14], [6823, 14], [6824, 20], [6825, 20], [6826, 20], [6827, 22], [6828, 14], [6829, 14], [6830, 20], [6831, 8], [6832, 24], [6833, 14], [6834, 14], [6835, 16], [6836, 20], [6837, 14], [6838, 20], [6839, 14], [6840, 20], [6841, 20], [6842, 20], [6843, 8], [6844, 14], [6845, 14], [6846, 14], [6847, 14], [6848, 8], [6849, 14], [6850, 14], [6851, 14], [6852, 14], [6853, 14], [6854, 14], [6855, 8], [6856, 20], [6857, 10], [6858, 14], [6859, 20], [6860, 20], [6861, 20], [6862, 14], [6863, 20], [6864, 14], [6865, 14], [6866, 14], [6867, 14], [6868, 14], [6869, 14], [6870, 14], [6871, 14], [6872, 20], [6873, 14], [6874, 14], [6875, 14], [6876, 20], [6877, 14], [6878, 14], [6879, 8], [6880, 14], [6881, 14], [6882, 14], [6883, 24], [6884, 20], [6885, 16], [6886, 14], [6887, 16], [6888, 14], [6889, 14], [6890, 16], [6891, 14], [6892, 20], [6893, 20], [6894, 14], [6895, 14], [6896, 14], [6897, 22], [6898, 20], [6899, 20], [6900, 20], [6901, 14], [6902, 14], [6903, 22], [6904, 20], [6905, 16], [6906, 16], [6907, 20], [6908, 14], [6909, 20], [6910, 56], [6911, 8], [6912, 56], [6913, 14], [6914, 14], [6915, 14], [6916, 14], [6917, 14], [6918, 14], [6919, 20], [6920, 14], [6921, 18], [6922, 14], [6923, 18], [6924, 20], [6925, 14], [6926, 20], [6927, 14], [6928, 14], [6929, 14], [6930, 14], [6931, 20], [6932, 22], [6933, 20], [6934, 14], [6935, 10], [6936, 14], [6937, 20], [6938, 14], [6939, 20], [6940, 14], [6941, 14], [6942, 14], [6943, 14], [6944, 20], [6945, 14], [6946, 14], [6947, 20], [6948, 32], [6949, 14], [6950, 14], [6951, 14], [6952, 14], [6953, 20], [6954, 14], [6955, 14], [6956, 14], [6957, 20], [6958, 14], [6959, 14], [6960, 14], [6961, 14], [6962, 20], [6963, 20], [6964, 20], [6965, 20], [6966, 20], [6967, 20], [6968, 14], [6969, 14], [6970, 14], [6971, 14], [6972, 16], [6973, 22], [6974, 14], [6975, 14], [6976, 14], [6977, 20], [6978, 20], [6979, 14], [6980, 16], [6981, 14], [6982, 20], [6983, 26], [6984, 20], [6985, 14], [6986, 20], [6987, 14], [6988, 26], [6989, 20], [6990, 16], [6991, 14], [6992, 14], [6993, 14], [6994, 22], [6995, 20], [6996, 14], [6997, 20], [6998, 14], [6999, 20], [7000, 14], [7001, 20], [7002, 20], [7003, 14], [7004, 14], [7005, 8], [7006, 16], [7007, 14], [7008, 20], [7009, 20], [7010, 14], [7011, 20], [7012, 20]]\n",
    "2017/04/25 AM 11:21:11 use algorithm: logistic regression\n",
    "2017/04/25 AM 11:21:11 learning_parameter has not parameter C\n",
    "2017/04/25 AM 11:21:35 best_params_: {'C': 100}\n",
    "2017/04/25 AM 11:21:35 after Bot#__get_estimator\n",
    "2017/04/25 AM 11:21:35 before Evaluator#evaluate\n",
    "2017/04/25 AM 11:21:35 self.threshold: 0.5\n",
    "1.0\n",
    "2017/04/25 AM 11:21:38 Evaluator#evaluate#elapsed time: 2844.976902 ms\n",
    "2017/04/25 AM 11:21:38 accuracy: 1.0\n",
    "2017/04/25 AM 11:21:38 failure_score_threshold: 0.5\n",
    "2017/04/25 AM 11:21:38 failure score: 0.620689655172\n",
    "2017/04/25 AM 11:21:38 end Bot#learn\n",
    "2017/04/25 AM 11:21:38 Bot.learn processing time: 29.48284101486206 [sec]\n",
    "```"
   ]
  }
 ],
 "metadata": {
  "kernelspec": {
   "display_name": "Python 3",
   "language": "python",
   "name": "python3"
  },
  "language_info": {
   "codemirror_mode": {
    "name": "ipython",
    "version": 3
   },
   "file_extension": ".py",
   "mimetype": "text/x-python",
   "name": "python",
   "nbconvert_exporter": "python",
   "pygments_lexer": "ipython3",
   "version": "3.5.2"
  }
 },
 "nbformat": 4,
 "nbformat_minor": 2
}
