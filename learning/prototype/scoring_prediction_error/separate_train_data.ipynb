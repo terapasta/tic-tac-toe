{
 "cells": [
  {
   "cell_type": "markdown",
   "metadata": {},
   "source": [
    "# ラベル分離に関する実装の調査\n",
    "\n",
    "学習セットから、一部のラベルのデータを分離させるコードの実装方法について調査します。"
   ]
  },
  {
   "cell_type": "markdown",
   "metadata": {
    "deletable": true,
    "editable": true
   },
   "source": [
    "## (1) テストデータ／環境準備"
   ]
  },
  {
   "cell_type": "code",
   "execution_count": 1,
   "metadata": {
    "collapsed": false,
    "deletable": true,
    "editable": true
   },
   "outputs": [],
   "source": [
    "'''\n",
    "    テスト環境を準備するためのモジュールを使用します。\n",
    "'''\n",
    "import sys\n",
    "import os\n",
    "learning_dir = os.path.abspath(\"../../\") #<--- donusagi-bot/learning\n",
    "os.chdir(learning_dir)\n",
    "\n",
    "if learning_dir not in sys.path:\n",
    "    sys.path.append(learning_dir)"
   ]
  },
  {
   "cell_type": "markdown",
   "metadata": {
    "deletable": true,
    "editable": true
   },
   "source": [
    "## (2) 分離させたいラベルを指定\n",
    "\n",
    "LearningParameter のエントリーに含める形を想定"
   ]
  },
  {
   "cell_type": "code",
   "execution_count": 2,
   "metadata": {
    "collapsed": false,
    "deletable": true,
    "editable": true
   },
   "outputs": [],
   "source": [
    "from learning.core.learn.learning_parameter import LearningParameter\n",
    "\n",
    "bot_id = 9999\n",
    "attr = {\n",
    "    'include_failed_data': False,\n",
    "    'include_tag_vector': False,\n",
    "    'classify_threshold': None,\n",
    "    'algorithm': LearningParameter.ALGORITHM_LOGISTIC_REGRESSION,\n",
    "    'params_for_algorithm': {},\n",
    "    'excluded_labels_for_fitting': [3400,3401,3402]\n",
    "\n",
    "}\n",
    "learning_parameter = LearningParameter(attr)\n",
    "csv_file_path = '/Users/makmorit/GitHub/donusagi-bot/learning/learning/tests/fixtures/test_daikin_conversation.csv'\n",
    "csv_file_encoding = 'utf-8'"
   ]
  },
  {
   "cell_type": "markdown",
   "metadata": {
    "deletable": true,
    "editable": true
   },
   "source": [
    "## (3) 学習セットをCSVファイルから取得\n",
    "\n",
    "ここはプロダクションと同じ流れです"
   ]
  },
  {
   "cell_type": "code",
   "execution_count": 3,
   "metadata": {
    "collapsed": false,
    "deletable": true,
    "editable": true
   },
   "outputs": [
    {
     "name": "stderr",
     "output_type": "stream",
     "text": [
      "2017/04/11 PM 12:25:49 TrainingMessageFromCsv#__build_learning_training_messages count of learning data: 17443\n",
      "2017/04/11 PM 12:25:49 TextArray#__init__ start\n",
      "2017/04/11 PM 12:25:58 TextArray#to_vec start\n",
      "2017/04/11 PM 12:25:58 TextArray#to_vec end\n"
     ]
    }
   ],
   "source": [
    "from learning.core.training_set.training_message_from_csv import TrainingMessageFromCsv\n",
    "\n",
    "training_set = TrainingMessageFromCsv(bot_id, csv_file_path, learning_parameter, encoding=csv_file_encoding)\n",
    "build_training_set_from_csv = training_set.build()"
   ]
  },
  {
   "cell_type": "code",
   "execution_count": 4,
   "metadata": {
    "collapsed": false,
    "deletable": true,
    "editable": true,
    "scrolled": true
   },
   "outputs": [
    {
     "data": {
      "text/plain": [
       "17446"
      ]
     },
     "execution_count": 4,
     "metadata": {},
     "output_type": "execute_result"
    }
   ],
   "source": [
    "training_set.y.shape[0]"
   ]
  },
  {
   "cell_type": "code",
   "execution_count": 5,
   "metadata": {
    "collapsed": false,
    "deletable": true,
    "editable": true
   },
   "outputs": [
    {
     "data": {
      "text/plain": [
       "array([3397, 3398, 3399, ...,    0,    0,    0])"
      ]
     },
     "execution_count": 5,
     "metadata": {},
     "output_type": "execute_result"
    }
   ],
   "source": [
    "training_set.y"
   ]
  },
  {
   "cell_type": "markdown",
   "metadata": {
    "deletable": true,
    "editable": true
   },
   "source": [
    "## (4) 学習セットから指定のラベルを分離\n",
    "\n",
    "分離ラベル以外のインデックスと、分離ラベル以外のインデックスを取得します"
   ]
  },
  {
   "cell_type": "code",
   "execution_count": 6,
   "metadata": {
    "collapsed": false,
    "deletable": true,
    "editable": true
   },
   "outputs": [
    {
     "data": {
      "text/plain": [
       "[3400, 3401, 3402]"
      ]
     },
     "execution_count": 6,
     "metadata": {},
     "output_type": "execute_result"
    }
   ],
   "source": [
    "learning_parameter.excluded_labels_for_fitting"
   ]
  },
  {
   "cell_type": "code",
   "execution_count": 7,
   "metadata": {
    "collapsed": false,
    "deletable": true,
    "editable": true,
    "scrolled": true
   },
   "outputs": [],
   "source": [
    "main_indexes, separated_indexes = training_set.separate_train_data(learning_parameter.excluded_labels_for_fitting)"
   ]
  },
  {
   "cell_type": "code",
   "execution_count": 8,
   "metadata": {
    "collapsed": false,
    "deletable": true,
    "editable": true,
    "scrolled": false
   },
   "outputs": [
    {
     "data": {
      "text/plain": [
       "array([3397, 3398, 3399, ...,    0,    0,    0])"
      ]
     },
     "execution_count": 8,
     "metadata": {},
     "output_type": "execute_result"
    }
   ],
   "source": [
    "training_set.y[main_indexes]"
   ]
  },
  {
   "cell_type": "code",
   "execution_count": 9,
   "metadata": {
    "collapsed": false,
    "deletable": true,
    "editable": true,
    "scrolled": true
   },
   "outputs": [
    {
     "data": {
      "text/plain": [
       "array([3400, 3401, 3402, 3401, 3401, 3402, 3402, 3401, 3401, 3402, 3402,\n",
       "       3400, 3400, 3400, 3400, 3400, 3400, 3400, 3400, 3400, 3400, 3400,\n",
       "       3400, 3401, 3401, 3401, 3401, 3401, 3401, 3401, 3401, 3401, 3401,\n",
       "       3401, 3401, 3401, 3401, 3401, 3401, 3401, 3401, 3402, 3402, 3402,\n",
       "       3402, 3402, 3402, 3402, 3402, 3402, 3402, 3402, 3402, 3402, 3402,\n",
       "       3402, 3402, 3402, 3402, 3400, 3400, 3400, 3400, 3400, 3400, 3400,\n",
       "       3400, 3400, 3400, 3400, 3400, 3401, 3401, 3401, 3401, 3401, 3401,\n",
       "       3401, 3401, 3401, 3401, 3401, 3401, 3401, 3401, 3401, 3401, 3401,\n",
       "       3401, 3402, 3402, 3402, 3402, 3402, 3402, 3402, 3402, 3402, 3402,\n",
       "       3402, 3402, 3402, 3402, 3402, 3402, 3402, 3402, 3400, 3401, 3402])"
      ]
     },
     "execution_count": 9,
     "metadata": {},
     "output_type": "execute_result"
    }
   ],
   "source": [
    "training_set.y[separated_indexes]"
   ]
  }
 ],
 "metadata": {
  "kernelspec": {
   "display_name": "Python 3",
   "language": "python",
   "name": "python3"
  },
  "language_info": {
   "codemirror_mode": {
    "name": "ipython",
    "version": 3
   },
   "file_extension": ".py",
   "mimetype": "text/x-python",
   "name": "python",
   "nbconvert_exporter": "python",
   "pygments_lexer": "ipython3",
   "version": "3.5.2"
  }
 },
 "nbformat": 4,
 "nbformat_minor": 2
}
