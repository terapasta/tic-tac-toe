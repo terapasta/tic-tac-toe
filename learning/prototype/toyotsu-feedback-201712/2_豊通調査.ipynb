{
 "cells": [
  {
   "cell_type": "markdown",
   "metadata": {},
   "source": [
    "## 豊通　LSI、word2vecで実際の分かち書きなどの状況を見てみる"
   ]
  },
  {
   "cell_type": "code",
   "execution_count": 1,
   "metadata": {
    "collapsed": false
   },
   "outputs": [
    {
     "name": "stdout",
     "output_type": "stream",
     "text": [
      "current_dir=/Users/shwld/project/mofmof/donusagi-bot/learning\n"
     ]
    }
   ],
   "source": [
    "'''\n",
    "    learningディレクトリのパスを取得／設定\n",
    "'''\n",
    "import sys\n",
    "import os\n",
    "\n",
    "if os.path.basename(os.getcwd()) != 'learning':\n",
    "    learning_dir = os.path.join(os.getcwd(), '../..')\n",
    "    learning_dir = os.path.abspath(learning_dir)\n",
    "    os.chdir(learning_dir)\n",
    "\n",
    "    if learning_dir not in sys.path:\n",
    "        sys.path.append(learning_dir)\n",
    "\n",
    "print('current_dir={}'.format(os.getcwd()))\n",
    "\n",
    "\n",
    "'''\n",
    "    ライブラリロード\n",
    "'''\n",
    "from IPython.core.display import display\n",
    "\n",
    "'''\n",
    "   初期化\n",
    "'''\n",
    "from tests.support.helper import Helper\n",
    "Helper.init()"
   ]
  },
  {
   "cell_type": "code",
   "execution_count": 2,
   "metadata": {
    "collapsed": false
   },
   "outputs": [
    {
     "name": "stderr",
     "output_type": "stream",
     "text": [
      "[ INFO 140736254448448 2017/12/12 PM 04:09:03                     context: 41 -            get_factory] algorithm: Simmilarity Classification\n",
      "[ INFO 140736254448448 2017/12/12 PM 04:09:03                     context: 74 -           get_feedback] feedback algorithm: None\n",
      "[DEBUG 140736254448448 2017/12/12 PM 04:09:03  mecab_tokenizer_with_split: 10 -               __init__] dicdir: /usr/local/lib/mecab/dic/mecab-ipadic-neologd\n"
     ]
    }
   ],
   "source": [
    "from sklearn.metrics.pairwise import cosine_similarity\n",
    "context = Helper.test_context(bot_id=13, algorithm=3)\n",
    "factory = context.get_factory()\n",
    "\n",
    "def test(texts, query):\n",
    "    tokenizer = factory.get_tokenizer()\n",
    "    vectorizer = factory.get_vectorizer()\n",
    "\n",
    "    print('\\n### テストデータ')\n",
    "    tokens = tokenizer.tokenize(texts)\n",
    "    for token in tokens:\n",
    "        print(token)\n",
    "    vectors = vectorizer.fit_transform(tokens)\n",
    "    print(vectors.shape)\n",
    "\n",
    "    print('\\n### テストクエリ')\n",
    "    tokens2 = tokenizer.tokenize([query])\n",
    "    print(tokens2[0])\n",
    "    vectors2 = vectorizer.transform(tokens2)\n",
    "    print(vectors2.shape)\n",
    "    \n",
    "    print('\\n### 結果')\n",
    "    similarities = cosine_similarity(vectors, vectors2)\n",
    "\n",
    "    for result in zip(similarities.flatten(), texts):\n",
    "        print(result)"
   ]
  },
  {
   "cell_type": "code",
   "execution_count": 3,
   "metadata": {
    "collapsed": false
   },
   "outputs": [
    {
     "name": "stdout",
     "output_type": "stream",
     "text": [
      "\n",
      "### テストデータ\n",
      "海外 駐在 員 海外出張 旅費 豊田通商 ＴＴＣ 負担 する 処理 する 場合 ＳＡＰ 立替 金 精算 処理 出来る\n",
      "海外出張 中 現地 発生 する 費用 現地 駐在 員 立替 場合 精算 方法 教える\n",
      "海外 申請 する 登記 申請 手数料 勘定科目 なん\n",
      "海外 日当\n",
      "海外出張 精算 交際費 会議費 勘定科目 何 なる ５ ０００ 円 分ける\n",
      "海外 展示会 飲食 代 お客様 分 立替 勘定科目\n",
      "海外出張 精算 交際費 領収書 なくす 精算 する よい\n",
      "交際費 損金 算入 意味\n",
      "海外出張 する ない 現地 発生 する 交際費 豊田通商 負担 する ほしい 現地法人 依頼 処理\n",
      "海外出張 燃油サーチャージ 料 勘定科目\n",
      "(10, 53)\n",
      "\n",
      "### テストクエリ\n",
      "海外 駐在 員 利用 する 交際費 勘定科目\n",
      "(1, 53)\n",
      "\n",
      "### 結果\n",
      "(0.38366342336609421, '海外駐在員の海外出張旅費を、豊田通商（TTC）で負担して処理をしたい場合、SAPの立替金精算で処理出来ますか？')\n",
      "(0.30180921679474515, '海外出張中に現地で発生した費用を、現地駐在員が立替た場合の精算方法を教えてください。')\n",
      "(0.24260193325597201, '海外で申請した登記申請手数料の勘定科目は、なんですか？')\n",
      "(0.20681822140017075, '海外の日当について')\n",
      "(0.1690967991282975, '海外出張精算で、交際費・会議費の勘定科目は何になりますか？5,000円で分けるのですか？')\n",
      "(0.19559474779209973, '海外の展示会での飲食代で、お客様の分も立替た。勘定科目は？')\n",
      "(0.18555408637335813, '海外出張精算で、交際費の領収書をなくしたが、どのように精算したらよいか')\n",
      "(0.13373561247190521, '交際費の損金算入とはどのような意味ですか？')\n",
      "(0.24988186929722139, '海外出張はしていないが、現地で発生した交際費を豊田通商に負担にしてほしいと現地法人から依頼がありました。その処理は？')\n",
      "(0.1501879846888049, '海外出張で、燃油サーチャージ料の勘定科目は？')\n"
     ]
    }
   ],
   "source": [
    "## 本番データそのままで試してみる\n",
    "test([\n",
    "    '海外駐在員の海外出張旅費を、豊田通商（TTC）で負担して処理をしたい場合、SAPの立替金精算で処理出来ますか？',\n",
    "    '海外出張中に現地で発生した費用を、現地駐在員が立替た場合の精算方法を教えてください。',\n",
    "    '海外で申請した登記申請手数料の勘定科目は、なんですか？',\n",
    "    '海外の日当について',\n",
    "    '海外出張精算で、交際費・会議費の勘定科目は何になりますか？5,000円で分けるのですか？',\n",
    "    '海外の展示会での飲食代で、お客様の分も立替た。勘定科目は？',\n",
    "    '海外出張精算で、交際費の領収書をなくしたが、どのように精算したらよいか',\n",
    "    '交際費の損金算入とはどのような意味ですか？',\n",
    "    '海外出張はしていないが、現地で発生した交際費を豊田通商に負担にしてほしいと現地法人から依頼がありました。その処理は？',\n",
    "    '海外出張で、燃油サーチャージ料の勘定科目は？',\n",
    "], '海外で、駐在員が利用した交際費の勘定科目は？')"
   ]
  },
  {
   "cell_type": "code",
   "execution_count": 4,
   "metadata": {
    "collapsed": false
   },
   "outputs": [],
   "source": [
    "from app.core.reducer.lsi import LSI\n",
    "\n",
    "def test2(texts, query):\n",
    "    tokenizer = factory.get_tokenizer()\n",
    "    vectorizer = factory.get_vectorizer()\n",
    "    reducer = LSI.new()\n",
    "\n",
    "    print('\\n### テストデータ')\n",
    "    tokens = tokenizer.tokenize(texts)\n",
    "    for token in tokens:\n",
    "        print(token)\n",
    "    vectors = vectorizer.fit_transform(tokens)\n",
    "    vectors = reducer.fit_transform(vectors)\n",
    "    print(vectors.shape)\n",
    "\n",
    "    print('\\n### テストクエリ')\n",
    "    tokens2 = tokenizer.tokenize([query])\n",
    "    print(tokens2[0])\n",
    "    vectors2 = vectorizer.transform(tokens2)\n",
    "    vectors2 = reducer.transform(vectors2)\n",
    "    print(vectors2.shape)\n",
    "    \n",
    "    print('\\n### 結果')\n",
    "    similarities = cosine_similarity(vectors, vectors2)\n",
    "\n",
    "    for result in zip(similarities.flatten(), texts):\n",
    "        print(result)"
   ]
  },
  {
   "cell_type": "code",
   "execution_count": 5,
   "metadata": {
    "collapsed": false
   },
   "outputs": [
    {
     "name": "stdout",
     "output_type": "stream",
     "text": [
      "\n",
      "### テストデータ\n",
      "海外 駐在 員 海外出張 旅費 豊田通商 ＴＴＣ 負担 する 処理 する 場合 ＳＡＰ 立替 金 精算 処理 出来る\n",
      "海外出張 中 現地 発生 する 費用 現地 駐在 員 立替 場合 精算 方法 教える\n",
      "海外 申請 する 登記 申請 手数料 勘定科目 なん\n",
      "海外 日当\n",
      "海外出張 精算 交際費 会議費 勘定科目 何 なる ５ ０００ 円 分ける\n",
      "海外 展示会 飲食 代 お客様 分 立替 勘定科目\n",
      "海外出張 精算 交際費 領収書 なくす 精算 する よい\n",
      "交際費 損金 算入 意味\n",
      "海外出張 する ない 現地 発生 する 交際費 豊田通商 負担 する ほしい 現地法人 依頼 処理\n",
      "海外出張 燃油サーチャージ 料 勘定科目\n",
      "(10, 9)\n",
      "\n",
      "### テストクエリ\n",
      "海外 駐在 員 利用 する 交際費 勘定科目\n",
      "(1, 9)\n",
      "\n",
      "### 結果\n",
      "(0.72322261855134951, '海外駐在員の海外出張旅費を、豊田通商（TTC）で負担して処理をしたい場合、SAPの立替金精算で処理出来ますか？')\n",
      "(0.56119415662231587, '海外出張中に現地で発生した費用を、現地駐在員が立替た場合の精算方法を教えてください。')\n",
      "(0.43901677685003826, '海外で申請した登記申請手数料の勘定科目は、なんですか？')\n",
      "(0.40140207909128378, '海外の日当について')\n",
      "(0.31238706153417595, '海外出張精算で、交際費・会議費の勘定科目は何になりますか？5,000円で分けるのですか？')\n",
      "(0.38403951290066951, '海外の展示会での飲食代で、お客様の分も立替た。勘定科目は？')\n",
      "(0.34570847154102369, '海外出張精算で、交際費の領収書をなくしたが、どのように精算したらよいか')\n",
      "(0.23303840383235086, '交際費の損金算入とはどのような意味ですか？')\n",
      "(0.64119962305364764, '海外出張はしていないが、現地で発生した交際費を豊田通商に負担にしてほしいと現地法人から依頼がありました。その処理は？')\n",
      "(0.27363616070496227, '海外出張で、燃油サーチャージ料の勘定科目は？')\n"
     ]
    }
   ],
   "source": [
    "## 本番データそのままで試してみる\n",
    "test2([\n",
    "    '海外駐在員の海外出張旅費を、豊田通商（TTC）で負担して処理をしたい場合、SAPの立替金精算で処理出来ますか？',\n",
    "    '海外出張中に現地で発生した費用を、現地駐在員が立替た場合の精算方法を教えてください。',\n",
    "    '海外で申請した登記申請手数料の勘定科目は、なんですか？',\n",
    "    '海外の日当について',\n",
    "    '海外出張精算で、交際費・会議費の勘定科目は何になりますか？5,000円で分けるのですか？',\n",
    "    '海外の展示会での飲食代で、お客様の分も立替た。勘定科目は？',\n",
    "    '海外出張精算で、交際費の領収書をなくしたが、どのように精算したらよいか',\n",
    "    '交際費の損金算入とはどのような意味ですか？',\n",
    "    '海外出張はしていないが、現地で発生した交際費を豊田通商に負担にしてほしいと現地法人から依頼がありました。その処理は？',\n",
    "    '海外出張で、燃油サーチャージ料の勘定科目は？',\n",
    "], '海外で、駐在員が利用した交際費の勘定科目は？')\n",
    "\n",
    "# result -> similarityは上がったが思ってたのと違うデータが際立って上がった"
   ]
  },
  {
   "cell_type": "code",
   "execution_count": 6,
   "metadata": {
    "collapsed": false
   },
   "outputs": [],
   "source": [
    "from gensim.models import KeyedVectors\n",
    "from gensim.similarities import WmdSimilarity\n",
    "\n",
    "model = KeyedVectors.load_word2vec_format('./dumps/fasttext_model.vec', binary=False)"
   ]
  },
  {
   "cell_type": "code",
   "execution_count": 14,
   "metadata": {
    "collapsed": true
   },
   "outputs": [],
   "source": [
    "def test3(texts, query):\n",
    "    tokenizer = factory.get_tokenizer()\n",
    "\n",
    "    print('\\n### テストデータ')\n",
    "    tokens = tokenizer.tokenize(texts)\n",
    "    for token in tokens:\n",
    "        print(token)\n",
    "\n",
    "    print('\\n### テストクエリ')\n",
    "    tokens2 = tokenizer.tokenize([query])\n",
    "    print(tokens2[0])\n",
    "    \n",
    "    wmd_similarities = WmdSimilarity(tokens, model, num_best=10)\n",
    "    \n",
    "    print('\\n### 結果')\n",
    "    similarities = wmd_similarities[tokens2[0]]\n",
    "    \n",
    "    for sim in similarities:\n",
    "        print(sim, texts[sim[0]])\n",
    "    "
   ]
  },
  {
   "cell_type": "code",
   "execution_count": 15,
   "metadata": {
    "collapsed": false
   },
   "outputs": [
    {
     "name": "stdout",
     "output_type": "stream",
     "text": [
      "\n",
      "### テストデータ\n",
      "海外 駐在 員 海外出張 旅費 豊田通商 ＴＴＣ 負担 する 処理 する 場合 ＳＡＰ 立替 金 精算 処理 出来る\n",
      "海外出張 中 現地 発生 する 費用 現地 駐在 員 立替 場合 精算 方法 教える\n",
      "海外 申請 する 登記 申請 手数料 勘定科目 なん\n",
      "海外 日当\n",
      "海外出張 精算 交際費 会議費 勘定科目 何 なる ５ ０００ 円 分ける\n",
      "海外 展示会 飲食 代 お客様 分 立替 勘定科目\n",
      "海外出張 精算 交際費 領収書 なくす 精算 する よい\n",
      "交際費 損金 算入 意味\n",
      "海外出張 する ない 現地 発生 する 交際費 豊田通商 負担 する ほしい 現地法人 依頼 処理\n",
      "海外出張 燃油サーチャージ 料 勘定科目\n",
      "\n",
      "### テストクエリ\n",
      "海外 駐在 員 利用 する 交際費 勘定科目\n",
      "\n",
      "### 結果\n",
      "(2, 0.59079417337227569) 海外で申請した登記申請手数料の勘定科目は、なんですか？\n",
      "(4, 0.5844120833902352) 海外出張精算で、交際費・会議費の勘定科目は何になりますか？5,000円で分けるのですか？\n",
      "(9, 0.57325856325041336) 海外出張で、燃油サーチャージ料の勘定科目は？\n",
      "(1, 0.5579724345132393) 海外出張中に現地で発生した費用を、現地駐在員が立替た場合の精算方法を教えてください。\n",
      "(6, 0.55648171273029101) 海外出張精算で、交際費の領収書をなくしたが、どのように精算したらよいか\n",
      "(5, 0.55364801663826502) 海外の展示会での飲食代で、お客様の分も立替た。勘定科目は？\n",
      "(0, 0.54504201042540412) 海外駐在員の海外出張旅費を、豊田通商（TTC）で負担して処理をしたい場合、SAPの立替金精算で処理出来ますか？\n",
      "(8, 0.53139849205429301) 海外出張はしていないが、現地で発生した交際費を豊田通商に負担にしてほしいと現地法人から依頼がありました。その処理は？\n",
      "(7, 0.50093778156122104) 交際費の損金算入とはどのような意味ですか？\n",
      "(3, 0.47455644155894072) 海外の日当について\n"
     ]
    }
   ],
   "source": [
    "## 本番データそのままで試してみる\n",
    "test3([\n",
    "    '海外駐在員の海外出張旅費を、豊田通商（TTC）で負担して処理をしたい場合、SAPの立替金精算で処理出来ますか？',\n",
    "    '海外出張中に現地で発生した費用を、現地駐在員が立替た場合の精算方法を教えてください。',\n",
    "    '海外で申請した登記申請手数料の勘定科目は、なんですか？',\n",
    "    '海外の日当について',\n",
    "    '海外出張精算で、交際費・会議費の勘定科目は何になりますか？5,000円で分けるのですか？',\n",
    "    '海外の展示会での飲食代で、お客様の分も立替た。勘定科目は？',\n",
    "    '海外出張精算で、交際費の領収書をなくしたが、どのように精算したらよいか',\n",
    "    '交際費の損金算入とはどのような意味ですか？',\n",
    "    '海外出張はしていないが、現地で発生した交際費を豊田通商に負担にしてほしいと現地法人から依頼がありました。その処理は？',\n",
    "    '海外出張で、燃油サーチャージ料の勘定科目は？',\n",
    "], '海外で、駐在員が利用した交際費の勘定科目は？')"
   ]
  },
  {
   "cell_type": "code",
   "execution_count": null,
   "metadata": {
    "collapsed": true
   },
   "outputs": [],
   "source": []
  }
 ],
 "metadata": {
  "kernelspec": {
   "display_name": "Python 3",
   "language": "python",
   "name": "python3"
  },
  "language_info": {
   "codemirror_mode": {
    "name": "ipython",
    "version": 3
   },
   "file_extension": ".py",
   "mimetype": "text/x-python",
   "name": "python",
   "nbconvert_exporter": "python",
   "pygments_lexer": "ipython3",
   "version": "3.5.2"
  }
 },
 "nbformat": 4,
 "nbformat_minor": 2
}
