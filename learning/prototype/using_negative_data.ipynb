{
 "cells": [
  {
   "cell_type": "markdown",
   "metadata": {
    "deletable": true,
    "editable": true
   },
   "source": [
    "# [#139916967] 負例の学習データを活用する方法を調査したい"
   ]
  },
  {
   "cell_type": "markdown",
   "metadata": {
    "deletable": true,
    "editable": true
   },
   "source": [
    "下記のとおりの仮説を立てて、順次調査を進めてまいります。"
   ]
  },
  {
   "cell_type": "markdown",
   "metadata": {
    "deletable": true,
    "editable": true
   },
   "source": [
    "## <a href=\"using_negative_data/01.ipynb\">正則化手法の調査</a>"
   ]
  },
  {
   "cell_type": "markdown",
   "metadata": {
    "deletable": true,
    "editable": true
   },
   "source": [
    "回帰予測モデルにおける「正則化」という手法が、自然言語処理に使えそうか？　という観点で調査を行なっています。\n",
    "\n",
    "正則化パラメータを与えることにより、特定の条件で選択が回避／強要されるといった効果は確認できたのですが、与えるパラメータの値をどのように決定するかについては、残念ながら結論は得られませんでした。"
   ]
  },
  {
   "cell_type": "markdown",
   "metadata": {
    "deletable": true,
    "editable": true
   },
   "source": [
    "###  (ご参考) ナイーブベイズにおけるダウンウェイト"
   ]
  },
  {
   "cell_type": "markdown",
   "metadata": {
    "deletable": true,
    "editable": true
   },
   "source": [
    "正則化という観点からはずれているのですが、scikit-learn の多項ナイーブベイズモジュールでも、sample_weight による重み付け制御が可能なようです。\n",
    "\n",
    "参考までにレポートをこちらにまとめました。"
   ]
  },
  {
   "cell_type": "markdown",
   "metadata": {
    "deletable": true,
    "editable": true
   },
   "source": [
    "## 負例データ数値化手法の調査（WIP）"
   ]
  },
  {
   "cell_type": "markdown",
   "metadata": {
    "deletable": true,
    "editable": true
   },
   "source": [
    "例えば負例学習データを回帰モデルで学習し、結果得られた決定係数を「数値化された負例データ」として予測モデルに反映／再利用できないか？　という観点で調査を行います。\n",
    "\n",
    "回帰モデルにおける決定係数は、クラス（＝回答）ごとに、どの特徴（＝単語）の影響が高いかが一目でわかります。\n",
    "\n",
    "決定係数の見方については簡単な事例を、ひとまず<b><a href=\"using_negative_data/03.ipynb\">こちらのページ</a></b>にまとめております。"
   ]
  }
 ],
 "metadata": {
  "kernelspec": {
   "display_name": "Python 3",
   "language": "python",
   "name": "python3"
  },
  "language_info": {
   "codemirror_mode": {
    "name": "ipython",
    "version": 3
   },
   "file_extension": ".py",
   "mimetype": "text/x-python",
   "name": "python",
   "nbconvert_exporter": "python",
   "pygments_lexer": "ipython3",
   "version": "3.5.2"
  }
 },
 "nbformat": 4,
 "nbformat_minor": 2
}
