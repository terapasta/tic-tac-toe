{
 "cells": [
  {
   "cell_type": "markdown",
   "metadata": {
    "deletable": true,
    "editable": true
   },
   "source": [
    "# ロジスティック回帰の正則化オプション指定例"
   ]
  },
  {
   "cell_type": "markdown",
   "metadata": {
    "deletable": true,
    "editable": true
   },
   "source": [
    "scikit-learn のロジスティック回帰モジュール  に正規化オプションを指定し、実行させる例を下記に掲載いたします。\n",
    "\n",
    "使い方としては、\n",
    "\n",
    "\n",
    "- class_weight（インスタンス生成時引数）\n",
    "\n",
    "  クラスごとに重み付けを与える\n",
    "  （クラス＝質問文から選択された回答文と等価）\n",
    "\n",
    "\n",
    "- sample_weight（学習実行時引数）\n",
    "\n",
    "  訓練データごとに重み付けを与える\n",
    "  （訓練データ＝質問文１件と等価）\n",
    "\n",
    "\n",
    "となるかと存じます。\n",
    "\n",
    "\n",
    "こちらの例では、効果がわかりやすくなるように、あえて極端な例<b>（質問に対し、一定の条件で回答が強要または回避されるような例）</b>を設定して実行させています。\n",
    "\n",
    "なにとぞ、ご容赦ください。"
   ]
  },
  {
   "cell_type": "markdown",
   "metadata": {
    "deletable": true,
    "editable": true
   },
   "source": [
    "## (0) テスト準備\n",
    "\n",
    "長いので適宜読み飛ばしていただければ幸いです"
   ]
  },
  {
   "cell_type": "code",
   "execution_count": 1,
   "metadata": {
    "collapsed": false,
    "deletable": true,
    "editable": true,
    "scrolled": false
   },
   "outputs": [
    {
     "data": {
      "text/plain": [
       "['Do you like an apple ?',\n",
       " 'Do you like an orange ?',\n",
       " 'Do you like a lemon ?',\n",
       " 'Does he have a note ?',\n",
       " 'Does she have a paper ?',\n",
       " 'Does he have a watch ?',\n",
       " 'Did she get a computer ?',\n",
       " 'Did you get a camera ?',\n",
       " 'Did he get a car ?']"
      ]
     },
     "execution_count": 1,
     "metadata": {},
     "output_type": "execute_result"
    }
   ],
   "source": [
    "# 簡単にするために、３分類のテストデータを使います。\n",
    "corpus = []\n",
    "\n",
    "# 質問分類１\n",
    "corpus.append('Do you like an apple ?')\n",
    "corpus.append('Do you like an orange ?')\n",
    "corpus.append('Do you like a lemon ?')\n",
    "\n",
    "\n",
    "# 質問分類２\n",
    "corpus.append('Does he have a note ?')\n",
    "corpus.append('Does she have a paper ?')\n",
    "corpus.append('Does he have a watch ?')\n",
    "\n",
    "\n",
    "# 質問分類３\n",
    "corpus.append('Did she get a computer ?')\n",
    "corpus.append('Did you get a camera ?')\n",
    "corpus.append('Did he get a car ?')\n",
    "\n",
    "\n",
    "corpus"
   ]
  },
  {
   "cell_type": "code",
   "execution_count": 2,
   "metadata": {
    "collapsed": false,
    "deletable": true,
    "editable": true
   },
   "outputs": [
    {
     "data": {
      "text/plain": [
       "['like', 'have', 'get', 'a', 'an']"
      ]
     },
     "execution_count": 2,
     "metadata": {},
     "output_type": "execute_result"
    }
   ],
   "source": [
    "tf_feature_names = []\n",
    "tf_feature_names.append('like')\n",
    "tf_feature_names.append('have')\n",
    "tf_feature_names.append('get')\n",
    "tf_feature_names.append('a')\n",
    "tf_feature_names.append('an')\n",
    "\n",
    "tf_feature_names # これは特徴語のリストです。"
   ]
  },
  {
   "cell_type": "code",
   "execution_count": 3,
   "metadata": {
    "collapsed": false,
    "deletable": true,
    "editable": true,
    "scrolled": false
   },
   "outputs": [
    {
     "data": {
      "text/plain": [
       "array([[1, 0, 0, 0, 1],\n",
       "       [1, 0, 0, 0, 1],\n",
       "       [1, 0, 0, 1, 0],\n",
       "       [0, 1, 0, 1, 0],\n",
       "       [0, 1, 0, 1, 0],\n",
       "       [0, 1, 0, 1, 0],\n",
       "       [0, 0, 1, 1, 0],\n",
       "       [0, 0, 1, 1, 0],\n",
       "       [0, 0, 1, 1, 0]], dtype=int64)"
      ]
     },
     "execution_count": 3,
     "metadata": {},
     "output_type": "execute_result"
    }
   ],
   "source": [
    "from numpy import array\n",
    "from scipy.sparse.csr import csr_matrix\n",
    "tf_vector_array = array([\n",
    "    [1, 0, 0, 0, 1],\n",
    "    [1, 0, 0, 0, 1],\n",
    "    [1, 0, 0, 1, 0],\n",
    "    [0, 1, 0, 1, 0],\n",
    "    [0, 1, 0, 1, 0],\n",
    "    [0, 1, 0, 1, 0],\n",
    "    [0, 0, 1, 1, 0],\n",
    "    [0, 0, 1, 1, 0],\n",
    "    [0, 0, 1, 1, 0]\n",
    "    ])\n",
    "tf_vector = csr_matrix(tf_vector_array) # これは特徴語の出現回数リストです。\n",
    "tf_vector.toarray()"
   ]
  },
  {
   "cell_type": "code",
   "execution_count": 4,
   "metadata": {
    "collapsed": false,
    "deletable": true,
    "editable": true
   },
   "outputs": [
    {
     "data": {
      "text/plain": [
       "array([1, 1, 1, 2, 2, 2, 3, 3, 3])"
      ]
     },
     "execution_count": 4,
     "metadata": {},
     "output_type": "execute_result"
    }
   ],
   "source": [
    "class_vector_array = array([\n",
    "    1,\n",
    "    1,\n",
    "    1,\n",
    "    2,\n",
    "    2,\n",
    "    2,\n",
    "    3,\n",
    "    3,\n",
    "    3\n",
    "    ])\n",
    "class_vector_array # これは質問文ごとのクラスリスト（分類ラベルリスト）です。"
   ]
  },
  {
   "cell_type": "markdown",
   "metadata": {
    "deletable": true,
    "editable": true
   },
   "source": [
    "## (1) class_weight を指定した時の動き"
   ]
  },
  {
   "cell_type": "markdown",
   "metadata": {
    "deletable": true,
    "editable": true
   },
   "source": [
    "#### class_weight の指定\n",
    "\n",
    "クラスごとに重み付け定義を指定します。"
   ]
  },
  {
   "cell_type": "code",
   "execution_count": 5,
   "metadata": {
    "collapsed": false,
    "deletable": true,
    "editable": true
   },
   "outputs": [
    {
     "data": {
      "text/plain": [
       "{1: 1.0, 2: 2.0, 3: 1.0}"
      ]
     },
     "execution_count": 5,
     "metadata": {},
     "output_type": "execute_result"
    }
   ],
   "source": [
    "class_weight = {# <---ご注意：class_weight は dictionary です\n",
    "    1: 1.0, \n",
    "    2: 2.0, # <---他のクラスに対して、２倍の重み付けがされています\n",
    "    3: 1.0\n",
    "    }\n",
    "class_weight # これはクラスごとの重み付け定義リストです。"
   ]
  },
  {
   "cell_type": "markdown",
   "metadata": {
    "deletable": true,
    "editable": true
   },
   "source": [
    "#### インスタンスを生成→学習実行\n",
    "\n",
    "class_weight を指定し、学習を実行します。"
   ]
  },
  {
   "cell_type": "code",
   "execution_count": 6,
   "metadata": {
    "collapsed": false,
    "deletable": true,
    "editable": true,
    "scrolled": true
   },
   "outputs": [
    {
     "data": {
      "text/plain": [
       "LogisticRegression(C=0.1, class_weight={1: 1.0, 2: 2.0, 3: 1.0}, dual=False,\n",
       "          fit_intercept=True, intercept_scaling=1, max_iter=100,\n",
       "          multi_class='ovr', n_jobs=1, penalty='l2', random_state=None,\n",
       "          solver='newton-cg', tol=0.0001, verbose=0, warm_start=False)"
      ]
     },
     "execution_count": 6,
     "metadata": {},
     "output_type": "execute_result"
    }
   ],
   "source": [
    "from sklearn.linear_model import LogisticRegression\n",
    "\n",
    "logisticRegression = LogisticRegression(\n",
    "                        penalty ='l2', # <---L2正則化が効くようにします\n",
    "                        C       = 0.1, # <---正則化の効きを大きくします\n",
    "                        class_weight=class_weight, # <---重み付け定義を指定\n",
    "                        max_iter=100,\n",
    "                        solver='newton-cg',\n",
    "                        )\n",
    "logisticRegression.fit(tf_vector, class_vector_array)"
   ]
  },
  {
   "cell_type": "markdown",
   "metadata": {
    "deletable": true,
    "editable": true
   },
   "source": [
    "#### 質問文を作成\n",
    "\n",
    "訓練データに近い内容にしておきます"
   ]
  },
  {
   "cell_type": "code",
   "execution_count": 7,
   "metadata": {
    "collapsed": false,
    "deletable": true,
    "editable": true,
    "scrolled": false
   },
   "outputs": [
    {
     "data": {
      "text/plain": [
       "array([[ 1.1,  0. ,  0. ,  0. ,  1. ],\n",
       "       [ 0. ,  1.2,  0. ,  0. ,  1. ],\n",
       "       [ 0. ,  0. ,  1.3,  0. ,  0. ]])"
      ]
     },
     "execution_count": 7,
     "metadata": {},
     "output_type": "execute_result"
    }
   ],
   "source": [
    "tf_vector_array_test = array([\n",
    "    [1.1, 0, 0, 0, 1], # これはクラス＝１想定\n",
    "    [0, 1.2, 0, 0, 1], # これはクラス＝２想定\n",
    "    [0, 0, 1.3, 0, 0]  # これはクラス＝３想定\n",
    "    ])\n",
    "tf_vector_test = csr_matrix(tf_vector_array_test) # これは特徴語の出現回数リストです。\n",
    "tf_vector_test.toarray()"
   ]
  },
  {
   "cell_type": "markdown",
   "metadata": {
    "deletable": true,
    "editable": true
   },
   "source": [
    "#### 予測の実行\n",
    "\n",
    "  全ての質問文に対して、重み付けをした２番目のクラスに<b>回答が強要されてしまう</b>ことが確認できます。"
   ]
  },
  {
   "cell_type": "code",
   "execution_count": 8,
   "metadata": {
    "collapsed": false,
    "deletable": true,
    "editable": true
   },
   "outputs": [
    {
     "data": {
      "text/plain": [
       "array([[ 0.35075129,  0.41900842,  0.23024029],\n",
       "       [ 0.26393346,  0.52531244,  0.2107541 ],\n",
       "       [ 0.25775191,  0.43278232,  0.30946577]])"
      ]
     },
     "execution_count": 8,
     "metadata": {},
     "output_type": "execute_result"
    }
   ],
   "source": [
    "Zp = logisticRegression.predict_proba(tf_vector_test)\n",
    "Zp"
   ]
  },
  {
   "cell_type": "markdown",
   "metadata": {
    "deletable": true,
    "editable": true
   },
   "source": [
    "## (2) sample_weight を指定した時の動き"
   ]
  },
  {
   "cell_type": "markdown",
   "metadata": {
    "deletable": true,
    "editable": true
   },
   "source": [
    "#### sample_weight の指定\n",
    "\n",
    "訓練データごとに重み付け定義を指定します。"
   ]
  },
  {
   "cell_type": "code",
   "execution_count": 9,
   "metadata": {
    "collapsed": false,
    "deletable": true,
    "editable": true
   },
   "outputs": [
    {
     "data": {
      "text/plain": [
       "array([ 1. ,  1. ,  0.1,  1. ,  1. ,  1. ,  1. ,  1. ,  1. ])"
      ]
     },
     "execution_count": 9,
     "metadata": {},
     "output_type": "execute_result"
    }
   ],
   "source": [
    "sample_weight = array([ # <---ご注意：sample_weight は array です\n",
    "    1.0,\n",
    "    1.0,\n",
    "    0.1, # [1, 0, 0, 1, 0] という特徴を持った訓練データ（クラス＝１）の重み付けを下げます\n",
    "    1.0,\n",
    "    1.0,\n",
    "    1.0,\n",
    "    1.0,\n",
    "    1.0,\n",
    "    1.0\n",
    "    ])\n",
    "sample_weight # これは訓練データごとの重み付け定義リストです。"
   ]
  },
  {
   "cell_type": "markdown",
   "metadata": {
    "deletable": true,
    "editable": true
   },
   "source": [
    "#### インスタンスを生成→学習\n",
    "\n",
    "sample_weight を指定し、学習を実行します。"
   ]
  },
  {
   "cell_type": "code",
   "execution_count": 10,
   "metadata": {
    "collapsed": false,
    "deletable": true,
    "editable": true,
    "scrolled": true
   },
   "outputs": [
    {
     "data": {
      "text/plain": [
       "LogisticRegression(C=0.1, class_weight=None, dual=False, fit_intercept=True,\n",
       "          intercept_scaling=1, max_iter=100, multi_class='ovr', n_jobs=1,\n",
       "          penalty='l2', random_state=None, solver='newton-cg', tol=0.0001,\n",
       "          verbose=0, warm_start=False)"
      ]
     },
     "execution_count": 10,
     "metadata": {},
     "output_type": "execute_result"
    }
   ],
   "source": [
    "from sklearn.linear_model import LogisticRegression\n",
    "\n",
    "logisticRegression = LogisticRegression(\n",
    "                        penalty ='l2', # <---L2正則化が効くようにします\n",
    "                        C       = 0.1, # <---正則化の効きを大きくします\n",
    "                        class_weight=None, # <---クラスごとの重み付け定義は指定しない\n",
    "                        max_iter=100,\n",
    "                        solver='newton-cg',\n",
    "                        )\n",
    "logisticRegression.fit(tf_vector, class_vector_array, sample_weight=sample_weight)"
   ]
  },
  {
   "cell_type": "markdown",
   "metadata": {
    "deletable": true,
    "editable": true
   },
   "source": [
    "#### 質問文を作成\n",
    "\n",
    "訓練データに近い内容にしておきます"
   ]
  },
  {
   "cell_type": "code",
   "execution_count": 11,
   "metadata": {
    "collapsed": false,
    "deletable": true,
    "editable": true,
    "scrolled": false
   },
   "outputs": [
    {
     "data": {
      "text/plain": [
       "array([[ 1.1,  0. ,  0. ,  1. ,  0. ],\n",
       "       [ 0. ,  1.2,  0. ,  0. ,  1. ],\n",
       "       [ 0. ,  0. ,  1.3,  0. ,  0. ]])"
      ]
     },
     "execution_count": 11,
     "metadata": {},
     "output_type": "execute_result"
    }
   ],
   "source": [
    "tf_vector_array_test = array([\n",
    "    [1.1, 0, 0, 1, 0],  # これはクラス＝１想定（重み付けを下げた特徴を持っている）\n",
    "    [0, 1.2, 0, 0, 1],  # これはクラス＝２想定\n",
    "    [0, 0, 1.3, 0, 0]   # これはクラス＝３想定\n",
    "    ])\n",
    "tf_vector_test = csr_matrix(tf_vector_array_test) # これは特徴語の出現回数リストです。\n",
    "tf_vector_test.toarray()"
   ]
  },
  {
   "cell_type": "markdown",
   "metadata": {
    "deletable": true,
    "editable": true
   },
   "source": [
    "#### 予測の実行\n",
    "\n",
    "本来、１番目の質問文はクラス１と回答されるところが、sample_weight 指定により<b>回答が回避されてしまう</b>ことが確認できます。\n",
    "\n",
    "他の質問文は、概ね想定通りに分類されます。"
   ]
  },
  {
   "cell_type": "code",
   "execution_count": 12,
   "metadata": {
    "collapsed": false,
    "deletable": true,
    "editable": true
   },
   "outputs": [
    {
     "data": {
      "text/plain": [
       "array([[ 0.27975145,  0.36012427,  0.36012427],\n",
       "       [ 0.28505076,  0.39608815,  0.31886109],\n",
       "       [ 0.25604088,  0.32955323,  0.41440589]])"
      ]
     },
     "execution_count": 12,
     "metadata": {},
     "output_type": "execute_result"
    }
   ],
   "source": [
    "Zp = logisticRegression.predict_proba(tf_vector_test)\n",
    "Zp"
   ]
  }
 ],
 "metadata": {
  "kernelspec": {
   "display_name": "Python 3",
   "language": "python",
   "name": "python3"
  },
  "language_info": {
   "codemirror_mode": {
    "name": "ipython",
    "version": 3
   },
   "file_extension": ".py",
   "mimetype": "text/x-python",
   "name": "python",
   "nbconvert_exporter": "python",
   "pygments_lexer": "ipython3",
   "version": "3.5.2"
  }
 },
 "nbformat": 4,
 "nbformat_minor": 2
}
