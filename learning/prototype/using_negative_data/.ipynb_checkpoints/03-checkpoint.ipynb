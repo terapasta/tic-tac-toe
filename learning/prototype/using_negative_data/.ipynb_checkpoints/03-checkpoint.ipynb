{
 "cells": [
  {
   "cell_type": "markdown",
   "metadata": {
    "deletable": true,
    "editable": true
   },
   "source": [
    "# 決定係数の分析"
   ]
  },
  {
   "cell_type": "markdown",
   "metadata": {
    "deletable": true,
    "editable": true
   },
   "source": [
    "## 訓練データ作成"
   ]
  },
  {
   "cell_type": "markdown",
   "metadata": {
    "deletable": true,
    "editable": true
   },
   "source": [
    "### 正規化されたサンプル（＝質問）を用意\n",
    "\n",
    "\n",
    "どのパラメータ（＝単語）が、分類結果（＝回答）に影響を与えるのかを見るには、パラメータごとの決定係数を比較します。\n",
    "\n",
    "ただし、その前に訓練データが正規化されていないと、決定係数の比較ができないので、訓練データとなるTFベクターを正規化します。"
   ]
  },
  {
   "cell_type": "markdown",
   "metadata": {
    "deletable": true,
    "editable": true
   },
   "source": [
    "#### TFベクターを、平均＝０、標準偏差＝１の配列へ変換します。"
   ]
  },
  {
   "cell_type": "code",
   "execution_count": 1,
   "metadata": {
    "collapsed": false,
    "deletable": true,
    "editable": true
   },
   "outputs": [
    {
     "data": {
      "text/plain": [
       "array([[ 0.96076892, -0.64051262, -0.75482941, -1.58113883,  0.90453403],\n",
       "       [ 1.76140969, -0.64051262, -0.75482941, -1.58113883,  2.41209076],\n",
       "       [ 1.76140969, -0.64051262, -0.75482941,  0.        ,  0.90453403],\n",
       "       [-0.64051262,  1.76140969, -0.75482941,  0.        , -0.60302269],\n",
       "       [-0.64051262,  0.96076892, -0.75482941,  0.        , -0.60302269],\n",
       "       [-0.64051262,  1.76140969, -0.75482941,  1.58113883, -0.60302269],\n",
       "       [-0.64051262, -0.64051262,  1.94098992,  0.        , -0.60302269],\n",
       "       [-0.64051262, -0.64051262,  0.86266219,  0.        , -0.60302269],\n",
       "       [-0.64051262, -0.64051262,  0.32349832,  0.        , -0.60302269],\n",
       "       [-0.64051262, -0.64051262,  1.40182605,  1.58113883, -0.60302269]])"
      ]
     },
     "execution_count": 1,
     "metadata": {},
     "output_type": "execute_result"
    }
   ],
   "source": [
    "import numpy\n",
    "from numpy import array\n",
    "tf_vector_array = array([ # これは特徴語の出現回数リストです。\n",
    "    [2, 0, 0, 0, 1],\n",
    "    [3, 0, 0, 0, 2],\n",
    "    [3, 0, 0, 1, 1],\n",
    "    [0, 3, 0, 1, 0],\n",
    "    [0, 2, 0, 1, 0],\n",
    "    [0, 3, 0, 2, 0],\n",
    "    [0, 0, 5, 1, 0],\n",
    "    [0, 0, 3, 1, 0],\n",
    "    [0, 0, 2, 1, 0],\n",
    "    [0, 0, 4, 2, 0],\n",
    "    ])\n",
    "tf_vector_std_array = (tf_vector_array - tf_vector_array.mean(axis=0)) / tf_vector_array.std(axis=0)\n",
    "tf_vector_std_array"
   ]
  },
  {
   "cell_type": "markdown",
   "metadata": {
    "deletable": true,
    "editable": true
   },
   "source": [
    "#### 平均＝０になっているようです。"
   ]
  },
  {
   "cell_type": "code",
   "execution_count": 2,
   "metadata": {
    "collapsed": false,
    "deletable": true,
    "editable": true
   },
   "outputs": [
    {
     "data": {
      "text/plain": [
       "array([ -8.88178420e-17,   4.44089210e-17,   0.00000000e+00,\n",
       "         0.00000000e+00,  -8.88178420e-17])"
      ]
     },
     "execution_count": 2,
     "metadata": {},
     "output_type": "execute_result"
    }
   ],
   "source": [
    "numpy.mean(tf_vector_std_array, axis=0)"
   ]
  },
  {
   "cell_type": "markdown",
   "metadata": {
    "deletable": true,
    "editable": true
   },
   "source": [
    "#### 標準偏差＝１になっているようです。"
   ]
  },
  {
   "cell_type": "code",
   "execution_count": 3,
   "metadata": {
    "collapsed": false,
    "deletable": true,
    "editable": true,
    "scrolled": false
   },
   "outputs": [
    {
     "data": {
      "text/plain": [
       "array([ 1.,  1.,  1.,  1.,  1.])"
      ]
     },
     "execution_count": 3,
     "metadata": {},
     "output_type": "execute_result"
    }
   ],
   "source": [
    "numpy.std(tf_vector_std_array, axis=0)"
   ]
  },
  {
   "cell_type": "markdown",
   "metadata": {
    "deletable": true,
    "editable": true
   },
   "source": [
    "#### 正規化されたベクターを、scikit-learn の引数として与えるために疎配列化します。\n",
    "\n",
    "ここはいつも通りの手順になります"
   ]
  },
  {
   "cell_type": "code",
   "execution_count": 4,
   "metadata": {
    "collapsed": false,
    "deletable": true,
    "editable": true
   },
   "outputs": [
    {
     "data": {
      "text/plain": [
       "array([[ 0.96076892, -0.64051262, -0.75482941, -1.58113883,  0.90453403],\n",
       "       [ 1.76140969, -0.64051262, -0.75482941, -1.58113883,  2.41209076],\n",
       "       [ 1.76140969, -0.64051262, -0.75482941,  0.        ,  0.90453403],\n",
       "       [-0.64051262,  1.76140969, -0.75482941,  0.        , -0.60302269],\n",
       "       [-0.64051262,  0.96076892, -0.75482941,  0.        , -0.60302269],\n",
       "       [-0.64051262,  1.76140969, -0.75482941,  1.58113883, -0.60302269],\n",
       "       [-0.64051262, -0.64051262,  1.94098992,  0.        , -0.60302269],\n",
       "       [-0.64051262, -0.64051262,  0.86266219,  0.        , -0.60302269],\n",
       "       [-0.64051262, -0.64051262,  0.32349832,  0.        , -0.60302269],\n",
       "       [-0.64051262, -0.64051262,  1.40182605,  1.58113883, -0.60302269]])"
      ]
     },
     "execution_count": 4,
     "metadata": {},
     "output_type": "execute_result"
    }
   ],
   "source": [
    "from scipy.sparse.csr import csr_matrix\n",
    "\n",
    "tf_vector = csr_matrix(tf_vector_std_array) # これは正規化された特徴語の出現回数リストです。\n",
    "tf_vector.toarray()"
   ]
  },
  {
   "cell_type": "markdown",
   "metadata": {
    "deletable": true,
    "editable": true
   },
   "source": [
    "### クラス（回答）を用意"
   ]
  },
  {
   "cell_type": "code",
   "execution_count": 5,
   "metadata": {
    "collapsed": false,
    "deletable": true,
    "editable": true
   },
   "outputs": [
    {
     "data": {
      "text/plain": [
       "array([1, 1, 1, 2, 2, 2, 3, 3, 3, 3])"
      ]
     },
     "execution_count": 5,
     "metadata": {},
     "output_type": "execute_result"
    }
   ],
   "source": [
    "class_vector_array = array([\n",
    "    1,\n",
    "    1,\n",
    "    1,\n",
    "    2,\n",
    "    2,\n",
    "    2,\n",
    "    3,\n",
    "    3,\n",
    "    3,\n",
    "    3\n",
    "    ])\n",
    "class_vector_array # これは質問文ごとのクラスリスト（分類ラベルリスト）です。"
   ]
  },
  {
   "cell_type": "markdown",
   "metadata": {
    "deletable": true,
    "editable": true
   },
   "source": [
    "## 学習実行\n",
    "\n",
    "今回は動作確認のため、通常のパラメータで実行します。"
   ]
  },
  {
   "cell_type": "code",
   "execution_count": 6,
   "metadata": {
    "collapsed": false,
    "deletable": true,
    "editable": true
   },
   "outputs": [
    {
     "data": {
      "text/plain": [
       "LogisticRegression(C=1.0, class_weight=None, dual=False, fit_intercept=True,\n",
       "          intercept_scaling=1, max_iter=100, multi_class='ovr', n_jobs=1,\n",
       "          penalty='l2', random_state=None, solver='newton-cg', tol=0.0001,\n",
       "          verbose=0, warm_start=False)"
      ]
     },
     "execution_count": 6,
     "metadata": {},
     "output_type": "execute_result"
    }
   ],
   "source": [
    "from sklearn.linear_model import LogisticRegression\n",
    "\n",
    "logisticRegression = LogisticRegression(\n",
    "                        max_iter=100,\n",
    "                        solver='newton-cg',\n",
    "                        )\n",
    "logisticRegression.fit(tf_vector, class_vector_array)"
   ]
  },
  {
   "cell_type": "markdown",
   "metadata": {
    "deletable": true,
    "editable": true
   },
   "source": [
    "## 決定係数の参照\n",
    "\n",
    "学習の結果得られた決定係数をみてみます。\n",
    "\n",
    "クラス（＝回答）ごとに、どの特徴（＝単語）の影響が高いかが一目でわかります。"
   ]
  },
  {
   "cell_type": "code",
   "execution_count": 7,
   "metadata": {
    "collapsed": false,
    "deletable": true,
    "editable": true,
    "scrolled": true
   },
   "outputs": [
    {
     "data": {
      "text/plain": [
       "array([[ 0.88264775, -0.36588853, -0.42631075, -0.46715407,  0.71041679],\n",
       "       [-0.3873536 ,  1.15251119, -0.67731546,  0.20197104, -0.33365974],\n",
       "       [-0.52433643, -0.82158429,  1.03100829,  0.18867405, -0.44789634]])"
      ]
     },
     "execution_count": 7,
     "metadata": {},
     "output_type": "execute_result"
    }
   ],
   "source": [
    "logisticRegression.coef_"
   ]
  },
  {
   "cell_type": "markdown",
   "metadata": {
    "deletable": true,
    "editable": true
   },
   "source": [
    "#### クラス #0 の場合\n",
    "\n",
    "１番目の特徴の影響が高い（値＝0.88でもっとも大きい）が、２番目の特徴の影響（0.7）もそこそこあることがわかります"
   ]
  },
  {
   "cell_type": "code",
   "execution_count": 8,
   "metadata": {
    "collapsed": false,
    "deletable": true,
    "editable": true,
    "scrolled": true
   },
   "outputs": [
    {
     "data": {
      "text/plain": [
       "array([ 0.88264775, -0.36588853, -0.42631075, -0.46715407,  0.71041679])"
      ]
     },
     "execution_count": 8,
     "metadata": {},
     "output_type": "execute_result"
    }
   ],
   "source": [
    "logisticRegression.coef_[0]"
   ]
  },
  {
   "cell_type": "markdown",
   "metadata": {
    "deletable": true,
    "editable": true
   },
   "source": [
    "#### クラス #1 の場合\n",
    "\n",
    "２番目の特徴の影響がかなり強い（値＝1.15でもっとも大きい）ことがわかります。"
   ]
  },
  {
   "cell_type": "code",
   "execution_count": 9,
   "metadata": {
    "collapsed": false,
    "deletable": true,
    "editable": true,
    "scrolled": true
   },
   "outputs": [
    {
     "data": {
      "text/plain": [
       "array([-0.3873536 ,  1.15251119, -0.67731546,  0.20197104, -0.33365974])"
      ]
     },
     "execution_count": 9,
     "metadata": {},
     "output_type": "execute_result"
    }
   ],
   "source": [
    "logisticRegression.coef_[1]"
   ]
  }
 ],
 "metadata": {
  "kernelspec": {
   "display_name": "Python 3",
   "language": "python",
   "name": "python3"
  },
  "language_info": {
   "codemirror_mode": {
    "name": "ipython",
    "version": 3
   },
   "file_extension": ".py",
   "mimetype": "text/x-python",
   "name": "python",
   "nbconvert_exporter": "python",
   "pygments_lexer": "ipython3",
   "version": "3.5.2"
  }
 },
 "nbformat": 4,
 "nbformat_minor": 2
}
