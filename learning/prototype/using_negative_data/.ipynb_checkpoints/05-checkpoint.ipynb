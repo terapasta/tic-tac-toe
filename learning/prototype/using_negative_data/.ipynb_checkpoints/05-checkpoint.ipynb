{
 "cells": [
  {
   "cell_type": "markdown",
   "metadata": {
    "deletable": true,
    "editable": true
   },
   "source": [
    "# MultinomialNB における sample_weight"
   ]
  },
  {
   "cell_type": "markdown",
   "metadata": {
    "deletable": true,
    "editable": true
   },
   "source": [
    "scikit-learn の多項ナイーブベイズモジュールに sample_weight を与えて動作確認します。"
   ]
  },
  {
   "cell_type": "markdown",
   "metadata": {
    "deletable": true,
    "editable": true
   },
   "source": [
    "参考文献：\n",
    "http://scikit-learn.org/stable/modules/generated/sklearn.naive_bayes.MultinomialNB.html#sklearn.naive_bayes.MultinomialNB"
   ]
  },
  {
   "cell_type": "markdown",
   "metadata": {
    "deletable": true,
    "editable": true
   },
   "source": [
    "### テスト準備\n",
    "\n",
    "長いので適宜読み飛ばしていただければ幸いです"
   ]
  },
  {
   "cell_type": "code",
   "execution_count": 1,
   "metadata": {
    "collapsed": false,
    "deletable": true,
    "editable": true,
    "scrolled": false
   },
   "outputs": [
    {
     "data": {
      "text/plain": [
       "<11x5 sparse matrix of type '<class 'numpy.int64'>'\n",
       "\twith 30 stored elements in Compressed Sparse Row format>"
      ]
     },
     "execution_count": 1,
     "metadata": {},
     "output_type": "execute_result"
    }
   ],
   "source": [
    "from numpy import array\n",
    "from scipy.sparse.csr import csr_matrix\n",
    "tf_vector_array = array([\n",
    "    [1, 0, 0, 5, 2], # １番目のクラス\n",
    "    [0, 4, 0, 2, 2],\n",
    "    [1, 2, 0, 4, 0], # <---２番目のクラスにも同じ特徴をもつものが混在\n",
    "    [1, 2, 0, 6, 0],\n",
    "\n",
    "    [1, 0, 0, 5, 0], # ２番目のクラス\n",
    "    [0, 6, 0, 2, 2],\n",
    "    [1, 2, 0, 4, 0], # <---１番目のクラスにも同じ特徴をもつものが混在\n",
    "    [1, 2, 0, 5, 2],\n",
    "\n",
    "    [0, 0, 1, 1, 0], # ３番目のクラス\n",
    "    [0, 0, 1, 1, 0],\n",
    "    [0, 0, 1, 1, 0]\n",
    "    ])\n",
    "tf_vector = csr_matrix(tf_vector_array) # これは特徴語の出現回数リストです。\n",
    "tf_vector"
   ]
  },
  {
   "cell_type": "code",
   "execution_count": 2,
   "metadata": {
    "collapsed": false,
    "deletable": true,
    "editable": true
   },
   "outputs": [
    {
     "data": {
      "text/plain": [
       "array([1, 1, 1, 1, 2, 2, 2, 2, 3, 3, 3])"
      ]
     },
     "execution_count": 2,
     "metadata": {},
     "output_type": "execute_result"
    }
   ],
   "source": [
    "class_vector_array = array([\n",
    "    1, # １番目のクラス\n",
    "    1,\n",
    "    1,\n",
    "    1,\n",
    "\n",
    "    2, # ２番目のクラス\n",
    "    2,\n",
    "    2,\n",
    "    2,\n",
    "\n",
    "    3, # ３番目のクラス\n",
    "    3,\n",
    "    3\n",
    "    ])\n",
    "class_vector_array # これは質問文ごとのクラスリスト（分類ラベルリスト）です。"
   ]
  },
  {
   "cell_type": "markdown",
   "metadata": {
    "deletable": true,
    "editable": true
   },
   "source": [
    "### 質問文を作成\n",
    "\n",
    "訓練データに近い内容にしておきます"
   ]
  },
  {
   "cell_type": "code",
   "execution_count": 3,
   "metadata": {
    "collapsed": false,
    "deletable": true,
    "editable": true,
    "scrolled": false
   },
   "outputs": [
    {
     "data": {
      "text/plain": [
       "array([[1, 0, 0, 3, 2],\n",
       "       [1, 2, 0, 4, 0],\n",
       "       [0, 0, 1, 1, 0]], dtype=int64)"
      ]
     },
     "execution_count": 3,
     "metadata": {},
     "output_type": "execute_result"
    }
   ],
   "source": [
    "tf_vector_array_test = array([\n",
    "    [1, 0, 0, 3, 2],  # これはクラス＝１想定\n",
    "    [1, 2, 0, 4, 0],  # これはクラス＝２想定（ただし、同様の特徴を含むクラス１に誤選択される可能性あり）\n",
    "    [0, 0, 1, 1, 0]   # これはクラス＝３想定\n",
    "    ])\n",
    "tf_vector_test = csr_matrix(tf_vector_array_test) # これは特徴語の出現回数リストです。\n",
    "tf_vector_test.toarray()"
   ]
  },
  {
   "cell_type": "markdown",
   "metadata": {
    "deletable": true,
    "editable": true
   },
   "source": [
    "### (2-a) sample_weight の指定を省略した場合\n",
    "\n",
    "#### インスタンスを生成→学習実行\n",
    "\n",
    "まずは、クラス間に類似特徴がまたがって混在した時の動きをみるため、重み付け定義を引数として指定しないようにします。\n",
    "\n",
    "MultinomialNB インスタンスを生成し、学習を実行します。"
   ]
  },
  {
   "cell_type": "code",
   "execution_count": 4,
   "metadata": {
    "collapsed": false,
    "deletable": true,
    "editable": true,
    "scrolled": false
   },
   "outputs": [
    {
     "data": {
      "text/plain": [
       "MultinomialNB(alpha=1.0, class_prior=None, fit_prior=True)"
      ]
     },
     "execution_count": 4,
     "metadata": {},
     "output_type": "execute_result"
    }
   ],
   "source": [
    "from sklearn.naive_bayes import MultinomialNB\n",
    "\n",
    "multinomialNB_noweight = MultinomialNB()\n",
    "multinomialNB_noweight.fit(tf_vector, class_vector_array, sample_weight=None)"
   ]
  },
  {
   "cell_type": "markdown",
   "metadata": {
    "deletable": true,
    "editable": true
   },
   "source": [
    "#### 予測結果\n",
    "\n",
    "２番目の質問に対し、２番目のクラスではなく<b>１番目のクラスが誤選択されてしまう</b>ことが確認できます。"
   ]
  },
  {
   "cell_type": "code",
   "execution_count": 5,
   "metadata": {
    "collapsed": false,
    "deletable": true,
    "editable": true,
    "scrolled": true
   },
   "outputs": [
    {
     "data": {
      "text/plain": [
       "array([1, 1, 3])"
      ]
     },
     "execution_count": 5,
     "metadata": {},
     "output_type": "execute_result"
    }
   ],
   "source": [
    "Zp = multinomialNB_noweight.predict(tf_vector_test)\n",
    "Zp"
   ]
  },
  {
   "cell_type": "markdown",
   "metadata": {
    "deletable": true,
    "editable": true
   },
   "source": [
    "### (2-b) sample_weight を指定した場合\n",
    "\n",
    "訓練データごとに重み付け定義を指定します。"
   ]
  },
  {
   "cell_type": "code",
   "execution_count": 6,
   "metadata": {
    "collapsed": false,
    "deletable": true,
    "editable": true
   },
   "outputs": [
    {
     "data": {
      "text/plain": [
       "array([ 1. ,  1. ,  0.3,  1. ,  1. ,  1. ,  1. ,  1. ,  1. ,  1. ,  1. ])"
      ]
     },
     "execution_count": 6,
     "metadata": {},
     "output_type": "execute_result"
    }
   ],
   "source": [
    "sample_weight = array([ # <---ご注意：sample_weight は array です\n",
    "    1.0,\n",
    "    1.0,\n",
    "    0.3, # [1, 2, 0, 4, 0] という特徴を持った訓練データ（クラス＝１）の重み付けを下げます\n",
    "    1.0,\n",
    "\n",
    "    1.0,\n",
    "    1.0,\n",
    "    1.0,\n",
    "    1.0,\n",
    "\n",
    "    1.0,\n",
    "    1.0,\n",
    "    1.0\n",
    "    ])\n",
    "sample_weight # これは訓練データごとの重み付け定義リストです。"
   ]
  },
  {
   "cell_type": "markdown",
   "metadata": {
    "deletable": true,
    "editable": true
   },
   "source": [
    "\n",
    "\n",
    "#### インスタンスを生成→学習\n",
    "\n",
    "sample_weight を指定し、学習を実行します。"
   ]
  },
  {
   "cell_type": "code",
   "execution_count": 7,
   "metadata": {
    "collapsed": false,
    "deletable": true,
    "editable": true,
    "scrolled": false
   },
   "outputs": [
    {
     "data": {
      "text/plain": [
       "MultinomialNB(alpha=1.0, class_prior=None, fit_prior=True)"
      ]
     },
     "execution_count": 7,
     "metadata": {},
     "output_type": "execute_result"
    }
   ],
   "source": [
    "from sklearn.naive_bayes import MultinomialNB\n",
    "\n",
    "multinomialNB = MultinomialNB()\n",
    "multinomialNB.fit(tf_vector, class_vector_array, sample_weight=sample_weight)"
   ]
  },
  {
   "cell_type": "markdown",
   "metadata": {
    "deletable": true,
    "editable": true
   },
   "source": [
    "#### 予測の実行\n",
    "\n",
    "２番目の質問文に対し、先ほどクラス＝１と回答されたところが、sample_weight 指定により<b>回答が回避されてしまう</b>ことが確認できます。\n",
    "\n",
    "他の質問文は、概ね想定通りに分類されます。"
   ]
  },
  {
   "cell_type": "code",
   "execution_count": 8,
   "metadata": {
    "collapsed": false,
    "deletable": true,
    "editable": true
   },
   "outputs": [
    {
     "data": {
      "text/plain": [
       "array([1, 2, 3])"
      ]
     },
     "execution_count": 8,
     "metadata": {},
     "output_type": "execute_result"
    }
   ],
   "source": [
    "Zp = multinomialNB.predict(tf_vector_test)\n",
    "Zp"
   ]
  }
 ],
 "metadata": {
  "kernelspec": {
   "display_name": "Python 3",
   "language": "python",
   "name": "python3"
  },
  "language_info": {
   "codemirror_mode": {
    "name": "ipython",
    "version": 3
   },
   "file_extension": ".py",
   "mimetype": "text/x-python",
   "name": "python",
   "nbconvert_exporter": "python",
   "pygments_lexer": "ipython3",
   "version": "3.5.2"
  }
 },
 "nbformat": 4,
 "nbformat_minor": 2
}
