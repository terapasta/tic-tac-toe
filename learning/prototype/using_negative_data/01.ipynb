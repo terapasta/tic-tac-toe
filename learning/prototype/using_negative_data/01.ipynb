{
 "cells": [
  {
   "cell_type": "markdown",
   "metadata": {
    "deletable": true,
    "editable": true
   },
   "source": [
    "# 正則化手法の調査"
   ]
  },
  {
   "cell_type": "markdown",
   "metadata": {
    "deletable": true,
    "editable": true
   },
   "source": [
    "## 手法の概要"
   ]
  },
  {
   "cell_type": "markdown",
   "metadata": {
    "deletable": true,
    "editable": true
   },
   "source": [
    "scikit-learn 公式ドキュメントに、解説があります。\n",
    "\n",
    "L1正則化\n",
    "http://scikit-learn.org/stable/modules/linear_model.html#lasso\n",
    "\n",
    "L2正則化\n",
    "http://scikit-learn.org/stable/modules/linear_model.html#ridge-regression\n",
    "\n",
    "一般的な認識としましては、\n",
    "\n",
    "L1正則化・・・次元削除に使用される（＝特徴の数を削減する）\n",
    "\n",
    "L2正則化・・・モデルの過学習を抑えて汎化させるために使用される（＝予測に大きな影響を与えているパラメータにペナルティを課すことで過学習を抑える）\n",
    "\n",
    "といったところかと存じます。\n",
    "\n",
    "今回はL2正則化にスポットを当てて調査するものといたします。"
   ]
  },
  {
   "cell_type": "markdown",
   "metadata": {
    "deletable": true,
    "editable": true
   },
   "source": [
    "## 調査の方向性"
   ]
  },
  {
   "cell_type": "markdown",
   "metadata": {
    "deletable": true,
    "editable": true
   },
   "source": [
    "今回調査では、モデルを簡単にするため、前回調査で使用した TF ベクターを training_set として使用するようにします。\n",
    "\n",
    "TFベクターとは・・・scikit-learn の入力となる、下記のような配列です（<a href=\"../LDA_in_scikit_learn_05.ipynb\">前回調査</a>で使用した tf_vector_array と同じ）"
   ]
  },
  {
   "cell_type": "code",
   "execution_count": 1,
   "metadata": {
    "collapsed": false,
    "deletable": true,
    "editable": true
   },
   "outputs": [],
   "source": [
    "X = [\n",
    "    [1, 0, 1, 0, 1], # ここに単語出現数が入る\n",
    "    [2, 1, 1, 0, 1],\n",
    "    [0, 1, 2, 1, 0],\n",
    "    [2, 0, 1, 0, 1],\n",
    "    ...\n",
    "    ]\n",
    "\n",
    "y = [1, 2, 3, 2, ...] # ここにクラスIDが入る"
   ]
  },
  {
   "cell_type": "markdown",
   "metadata": {
    "deletable": true,
    "editable": true
   },
   "source": [
    "すなわち x の各要素（＝出現単語じたい）を、回帰予測モデルで言うところの「パラメータ」に置き換えれば、正則化手法が使えるのでは？　という仮説のもとでの試みになります。\n",
    "\n",
    "正則化を実行する際、下記のような class_weight という配列を用意し（←これをどうやって、負例データから作成するかは別途要・調査ですが・・・）、例えばロジスティック回帰のインプットとして指定した上で予測する・・・という仕組みになるかと考えます。"
   ]
  },
  {
   "cell_type": "code",
   "execution_count": 2,
   "metadata": {
    "collapsed": true,
    "deletable": true,
    "editable": true
   },
   "outputs": [],
   "source": [
    "class_weight = [1, 0.2, 0.8, 1, ...] # ここにクラスごとの重み付けが入る"
   ]
  },
  {
   "cell_type": "markdown",
   "metadata": {
    "deletable": true,
    "editable": true
   },
   "source": [
    "## scikit-learn のロジスティック回帰における正則化"
   ]
  },
  {
   "cell_type": "markdown",
   "metadata": {
    "deletable": true,
    "editable": true
   },
   "source": [
    "まずは、scikit-learn のロジスティック回帰モジュールを使用する前提で調査してみます。\n",
    "\n",
    "scikit-learn の sklearn.linear_model.LogisticRegression に関する記述：\n",
    "\n",
    "http://scikit-learn.org/stable/modules/generated/sklearn.linear_model.LogisticRegression.html\n",
    "\n",
    "\n",
    "パラメータごとにペナルティを課すことが可能か否か（可能な場合はそのための方法）が調査観点になります。"
   ]
  },
  {
   "cell_type": "markdown",
   "metadata": {
    "deletable": true,
    "editable": true
   },
   "source": [
    "### (1) コンストラクターのパラメータ\n",
    "\n",
    "<b>__init__</b> 関数の関連するパラメータは下記の通りと考えられます。\n",
    "\n",
    "- penalty : str, ‘l1’ or ‘l2’, default: ‘l2’\n",
    "\n",
    "  デフォルト＝L2正則化とのこと。\n",
    "  \n",
    "  \n",
    "- C : float, default: 1.0　--->正則化の効きを表す数値\n",
    "\n",
    "  値が小さい方が正則化の効きが強いとのこと。\n",
    "  \n",
    "  たとえば C=0.1 は C=1 より効きが強い＝ペナルティを課しやすい、ということになるかと存じます。\n",
    "\n",
    "\n",
    "- class_weight : dict or ‘balanced’, default: None　---> ここにクラス（＝マイオペにおいては質問に対する回答）ごとの重み付けを与える。\n",
    "\n",
    "  ここで指定した class_weight が、ペナルティとして効いてくるのかどうかの説明はありませんが・・・おそらくそうなのだと考えております。\n",
    "  \n",
    "  為念で、実験の上、確認するしかなさそうです。\n",
    "\n",
    "\n",
    "- solver : {‘newton-cg’, ‘lbfgs’, ‘liblinear’, ‘sag’}, default: ‘liblinear’　--->採用するアルゴリズムを選択。\n",
    "\n",
    "  L2正則化を扱うのは newton-cg、lbfgs、sag のいずれかとのこと。\n",
    "\n",
    "\n",
    "\n",
    "ちなみに・・・<b>C</b> や <b>solver</b> につきましては、どれが適しているのかは不明なので、グリッドサーチ実行により、最適なものを選択することになるかもしれません。"
   ]
  },
  {
   "cell_type": "markdown",
   "metadata": {
    "deletable": true,
    "editable": true
   },
   "source": [
    "### (2) 学習時のパラメータ\n",
    "\n",
    "<b>fit</b> 関数の関連するパラメータは下記の通りと考えられます。\n",
    "\n",
    "- sample_weight : array-like, shape (n_samples,) optional　--->fit 関数の第３引数。\n",
    "\n",
    "  ここで指定した sample_weight は、サンプル（＝マイオペにおいては質問文）ごとの重みということになります。"
   ]
  },
  {
   "cell_type": "markdown",
   "metadata": {
    "deletable": true,
    "editable": true
   },
   "source": [
    "### (3) 正則化パラメータをどうやって決めるのか？"
   ]
  },
  {
   "cell_type": "markdown",
   "metadata": {
    "deletable": true,
    "editable": true
   },
   "source": [
    "収集された負例データから、class_weight や sample_weight といった値をどうやって導出するのか、というロジックが現時点では？？？です。\n",
    "\n",
    "別途、検討しなければなりません。\n",
    "\n",
    "ひとまず、ロジスティック回帰におけるL2正則化の動きを確認する為、ここではあらかじめ決めておいた固定値を使用するものとします。"
   ]
  },
  {
   "cell_type": "markdown",
   "metadata": {
    "deletable": true,
    "editable": true
   },
   "source": [
    "### (4) パラメータと効果についての確認"
   ]
  },
  {
   "cell_type": "markdown",
   "metadata": {
    "deletable": true,
    "editable": true
   },
   "source": [
    "実際に、scikit-learn の LogisticRegression に対し、class_weight、sample_weight をパラメータ指定して動作確認いたしました。\n",
    "\n",
    "結果は<b><a href=\"04.ipynb\">こちらのページ</a></b>に掲載しております（2017/02/24改訂）。\n",
    "\n",
    "- class_weight（コンストラクターのパラメータ）\n",
    "\n",
    "  クラスごとに重み付けを与えることができる （クラス＝質問文から選択された回答文と等価）\n",
    "\n",
    "\n",
    "- sample_weight（学習時のパラメータ）\n",
    "\n",
    "  訓練データごとに重み付けを与えることができる （訓練データ＝質問文１件と等価）\n",
    "  \n",
    "  \n",
    "（注）改訂前の結果は<b><a href=\"02.ipynb\">こちらのページ</a></b>に掲載しております。"
   ]
  }
 ],
 "metadata": {
  "kernelspec": {
   "display_name": "Python 3",
   "language": "python",
   "name": "python3"
  },
  "language_info": {
   "codemirror_mode": {
    "name": "ipython",
    "version": 3
   },
   "file_extension": ".py",
   "mimetype": "text/x-python",
   "name": "python",
   "nbconvert_exporter": "python",
   "pygments_lexer": "ipython3",
   "version": "3.5.2"
  }
 },
 "nbformat": 4,
 "nbformat_minor": 2
}
