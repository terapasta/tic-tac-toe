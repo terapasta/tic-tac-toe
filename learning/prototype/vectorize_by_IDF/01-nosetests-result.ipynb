{
 "cells": [
  {
   "cell_type": "markdown",
   "metadata": {},
   "source": [
    "# IDF値によるベクトライズの検討"
   ]
  },
  {
   "cell_type": "markdown",
   "metadata": {},
   "source": [
    "## (1) TfidfVectorizer引数変更\n",
    "\n",
    "プロダクションコードを以下のように修正することにより、IDF値が優先的に重みづけられたベクトルが作成されると考えております。\n",
    "\n",
    "- 修正前\n",
    "\n",
    "> vectorizer = TfidfVectorizer(use_idf=False, token_pattern=u'(?u)\\\\b\\\\w+\\\\b')\n",
    "\n",
    "- 修正後\n",
    "\n",
    "> vectorizer = TfidfVectorizer(use_idf=True, token_pattern=u'(?u)\\\\b\\\\w+\\\\b')\n",
    "\n",
    "\n",
    "為念で、コードを修正してnosetestsを流してみたところ、以下の通り良好な結果が得られたことを確認しております。"
   ]
  },
  {
   "cell_type": "markdown",
   "metadata": {},
   "source": [
    "## (2) 結果の確認"
   ]
  },
  {
   "cell_type": "markdown",
   "metadata": {},
   "source": [
    "### (2-1) test_toyotsu_human_conversation"
   ]
  },
  {
   "cell_type": "markdown",
   "metadata": {},
   "source": [
    "以下の３ケース\n",
    "\n",
    "- 'JAL マイレージ'\n",
    "\n",
    "\n",
    "- '海外の出張費を精算したい'\n",
    "\n",
    "\n",
    "- 'VISAの勘定科目がわからない' <--- 本件検証のためにケースを追加しています\n",
    "\n",
    "\n",
    "すべて、正常に流れているのを確認しています"
   ]
  },
  {
   "cell_type": "markdown",
   "metadata": {},
   "source": [
    "```\n",
    "MacBookPro-makmorit-jp:learning makmorit$ nosetests -s learning/tests/engine/test_toyotsu_human_conversation.py\n",
    "/Library/Frameworks/Python.framework/Versions/3.5/lib/python3.5/site-packages/sklearn/cross_validation.py:44: DeprecationWarning: This module was deprecated in version 0.18 in favor of the model_selection module into which all the refactored classes and functions are moved. Also note that the interface of the new CV iterators are different from that of this module. This module will be removed in 0.20.\n",
    "  \"This module will be removed in 0.20.\", DeprecationWarning)\n",
    "/Library/Frameworks/Python.framework/Versions/3.5/lib/python3.5/site-packages/sklearn/grid_search.py:43: DeprecationWarning: This module was deprecated in version 0.18 in favor of the model_selection module into which all the refactored classes and functions are moved. This module will be removed in 0.20.\n",
    "  DeprecationWarning)\n",
    "{'database': {'host': 'localhost', 'name': 'donusagi_bot_test', 'user': 'root', 'endpoint': 'mysql://root@localhost/donusagi_bot_test?charset=utf8', 'password': '6mR%9T4g'}}\n",
    "0.993685872139\n",
    "{'database': {'host': 'localhost', 'name': 'donusagi_bot_test', 'user': 'root', 'endpoint': 'mysql://root@localhost/donusagi_bot_test?charset=utf8', 'password': '6mR%9T4g'}}\n",
    ".{'database': {'host': 'localhost', 'name': 'donusagi_bot_test', 'user': 'root', 'endpoint': 'mysql://root@localhost/donusagi_bot_test?charset=utf8', 'password': '6mR%9T4g'}}\n",
    ".{'database': {'host': 'localhost', 'name': 'donusagi_bot_test', 'user': 'root', 'endpoint': 'mysql://root@localhost/donusagi_bot_test?charset=utf8', 'password': '6mR%9T4g'}}\n",
    ".\n",
    "----------------------------------------------------------------------\n",
    "Ran 3 tests in 29.707s\n",
    "\n",
    "OK\n",
    "```"
   ]
  },
  {
   "cell_type": "markdown",
   "metadata": {
    "deletable": true,
    "editable": true
   },
   "source": [
    "### (2-2) test_daikin_conversation"
   ]
  },
  {
   "cell_type": "markdown",
   "metadata": {
    "deletable": true,
    "editable": true
   },
   "source": [
    "プロダクションのテストケースと同一ですが、すべて、正常に流れているのを確認しています"
   ]
  },
  {
   "cell_type": "markdown",
   "metadata": {
    "deletable": true,
    "editable": true
   },
   "source": [
    "```\n",
    "MacBookPro-makmorit-jp:learning makmorit$ nosetests -s learning/tests/engine/test_daikin_conversation.py\n",
    "/Library/Frameworks/Python.framework/Versions/3.5/lib/python3.5/site-packages/sklearn/cross_validation.py:44: DeprecationWarning: This module was deprecated in version 0.18 in favor of the model_selection module into which all the refactored classes and functions are moved. Also note that the interface of the new CV iterators are different from that of this module. This module will be removed in 0.20.\n",
    "  \"This module will be removed in 0.20.\", DeprecationWarning)\n",
    "/Library/Frameworks/Python.framework/Versions/3.5/lib/python3.5/site-packages/sklearn/grid_search.py:43: DeprecationWarning: This module was deprecated in version 0.18 in favor of the model_selection module into which all the refactored classes and functions are moved. This module will be removed in 0.20.\n",
    "  DeprecationWarning)\n",
    "{'database': {'password': '6mR%9T4g', 'endpoint': 'mysql://root@localhost/donusagi_bot_test?charset=utf8', 'user': 'root', 'name': 'donusagi_bot_test', 'host': 'localhost'}}\n",
    "0.983952315452\n",
    "{'database': {'password': '6mR%9T4g', 'endpoint': 'mysql://root@localhost/donusagi_bot_test?charset=utf8', 'user': 'root', 'name': 'donusagi_bot_test', 'host': 'localhost'}}\n",
    ".{'database': {'password': '6mR%9T4g', 'endpoint': 'mysql://root@localhost/donusagi_bot_test?charset=utf8', 'user': 'root', 'name': 'donusagi_bot_test', 'host': 'localhost'}}\n",
    ".{'database': {'password': '6mR%9T4g', 'endpoint': 'mysql://root@localhost/donusagi_bot_test?charset=utf8', 'user': 'root', 'name': 'donusagi_bot_test', 'host': 'localhost'}}\n",
    ".{'database': {'password': '6mR%9T4g', 'endpoint': 'mysql://root@localhost/donusagi_bot_test?charset=utf8', 'user': 'root', 'name': 'donusagi_bot_test', 'host': 'localhost'}}\n",
    ".\n",
    "----------------------------------------------------------------------\n",
    "Ran 4 tests in 56.248s\n",
    "\n",
    "OK\n",
    "```"
   ]
  },
  {
   "cell_type": "markdown",
   "metadata": {
    "deletable": true,
    "editable": true
   },
   "source": [
    "### (2-3) test_benefitone_conversation"
   ]
  },
  {
   "cell_type": "markdown",
   "metadata": {
    "deletable": true,
    "editable": true
   },
   "source": [
    "プロダクションのテストケースと同一ですが、すべて、正常に流れているのを確認しています"
   ]
  },
  {
   "cell_type": "markdown",
   "metadata": {
    "deletable": true,
    "editable": true
   },
   "source": [
    "```\n",
    "MacBookPro-makmorit-jp:learning makmorit$ nosetests -s learning/tests/engine/test_benefitone_conversation.py\n",
    "/Library/Frameworks/Python.framework/Versions/3.5/lib/python3.5/site-packages/sklearn/cross_validation.py:44: DeprecationWarning: This module was deprecated in version 0.18 in favor of the model_selection module into which all the refactored classes and functions are moved. Also note that the interface of the new CV iterators are different from that of this module. This module will be removed in 0.20.\n",
    "  \"This module will be removed in 0.20.\", DeprecationWarning)\n",
    "/Library/Frameworks/Python.framework/Versions/3.5/lib/python3.5/site-packages/sklearn/grid_search.py:43: DeprecationWarning: This module was deprecated in version 0.18 in favor of the model_selection module into which all the refactored classes and functions are moved. This module will be removed in 0.20.\n",
    "  DeprecationWarning)\n",
    "{'database': {'user': 'root', 'host': 'localhost', 'name': 'donusagi_bot_test', 'endpoint': 'mysql://root@localhost/donusagi_bot_test?charset=utf8', 'password': '6mR%9T4g'}}\n",
    ".{'database': {'user': 'root', 'host': 'localhost', 'name': 'donusagi_bot_test', 'endpoint': 'mysql://root@localhost/donusagi_bot_test?charset=utf8', 'password': '6mR%9T4g'}}\n",
    ".\n",
    "----------------------------------------------------------------------\n",
    "Ran 2 tests in 0.089s\n",
    "\n",
    "OK\n",
    "```"
   ]
  },
  {
   "cell_type": "markdown",
   "metadata": {
    "deletable": true,
    "editable": true
   },
   "source": [
    "### (2-4) test_ptna_conversation"
   ]
  },
  {
   "cell_type": "markdown",
   "metadata": {
    "deletable": true,
    "editable": true
   },
   "source": [
    "プロダクションのテストケースと同一です。\n",
    "\n",
    "２件、失敗したのがありますが、これは想定結果であるラベル０のprobaが0.5を下回っていることによるものであり、動作としては正しいものと判断しております。"
   ]
  },
  {
   "cell_type": "markdown",
   "metadata": {
    "deletable": true,
    "editable": true
   },
   "source": [
    "```\n",
    "MacBookPro-makmorit-jp:learning makmorit$ nosetests -s learning/tests/engine/test_ptna_conversation.py\n",
    "/Library/Frameworks/Python.framework/Versions/3.5/lib/python3.5/site-packages/sklearn/cross_validation.py:44: DeprecationWarning: This module was deprecated in version 0.18 in favor of the model_selection module into which all the refactored classes and functions are moved. Also note that the interface of the new CV iterators are different from that of this module. This module will be removed in 0.20.\n",
    "  \"This module will be removed in 0.20.\", DeprecationWarning)\n",
    "/Library/Frameworks/Python.framework/Versions/3.5/lib/python3.5/site-packages/sklearn/grid_search.py:43: DeprecationWarning: This module was deprecated in version 0.18 in favor of the model_selection module into which all the refactored classes and functions are moved. This module will be removed in 0.20.\n",
    "  DeprecationWarning)\n",
    "{'database': {'endpoint': 'mysql://root@localhost/donusagi_bot_test?charset=utf8', 'name': 'donusagi_bot_test', 'host': 'localhost', 'user': 'root', 'password': '6mR%9T4g'}}\n",
    "0.977212971078\n",
    "{'database': {'endpoint': 'mysql://root@localhost/donusagi_bot_test?charset=utf8', 'name': 'donusagi_bot_test', 'host': 'localhost', 'user': 'root', 'password': '6mR%9T4g'}}\n",
    "F{'database': {'endpoint': 'mysql://root@localhost/donusagi_bot_test?charset=utf8', 'name': 'donusagi_bot_test', 'host': 'localhost', 'user': 'root', 'password': '6mR%9T4g'}}\n",
    "0.977212971078\n",
    "{'database': {'endpoint': 'mysql://root@localhost/donusagi_bot_test?charset=utf8', 'name': 'donusagi_bot_test', 'host': 'localhost', 'user': 'root', 'password': '6mR%9T4g'}}\n",
    "F{'database': {'endpoint': 'mysql://root@localhost/donusagi_bot_test?charset=utf8', 'name': 'donusagi_bot_test', 'host': 'localhost', 'user': 'root', 'password': '6mR%9T4g'}}\n",
    "0.977212971078\n",
    "{'database': {'endpoint': 'mysql://root@localhost/donusagi_bot_test?charset=utf8', 'name': 'donusagi_bot_test', 'host': 'localhost', 'user': 'root', 'password': '6mR%9T4g'}}\n",
    ".{'database': {'endpoint': 'mysql://root@localhost/donusagi_bot_test?charset=utf8', 'name': 'donusagi_bot_test', 'host': 'localhost', 'user': 'root', 'password': '6mR%9T4g'}}\n",
    "0.977212971078\n",
    "{'database': {'endpoint': 'mysql://root@localhost/donusagi_bot_test?charset=utf8', 'name': 'donusagi_bot_test', 'host': 'localhost', 'user': 'root', 'password': '6mR%9T4g'}}\n",
    ".{'database': {'endpoint': 'mysql://root@localhost/donusagi_bot_test?charset=utf8', 'name': 'donusagi_bot_test', 'host': 'localhost', 'user': 'root', 'password': '6mR%9T4g'}}\n",
    "0.977212971078\n",
    "{'database': {'endpoint': 'mysql://root@localhost/donusagi_bot_test?charset=utf8', 'name': 'donusagi_bot_test', 'host': 'localhost', 'user': 'root', 'password': '6mR%9T4g'}}\n",
    ".\n",
    "======================================================================\n",
    "FAIL: test_fail_blank (learning.tests.engine.test_ptna_conversation.PtnaConversationTestCase)\n",
    "----------------------------------------------------------------------\n",
    "Traceback (most recent call last):\n",
    "  File \"/Users/makmorit/GitHub/donusagi-bot/learning/learning/tests/engine/test_ptna_conversation.py\", line 66, in test_fail_blank\n",
    "    ok_(result.probability > self.threshold)\n",
    "AssertionError: None\n",
    "-------------------- >> begin captured logging << --------------------\n",
    "learning.log: DEBUG: learning_parameter: {'_params_for_algorithm': {}, '_use_similarity_classification': False, '_algorithm': 0, '_include_failed_data': False, '_include_tag_vector': False, '_classify_threshold': None}\n",
    "learning.log: DEBUG: start Bot#learn\n",
    "learning.log: DEBUG: TrainingMessageFromCsv#__build_learning_training_messages count of learning data: 4559\n",
    "learning.log: DEBUG: TextArray#__init__ start\n",
    "learning.log: DEBUG: TextArray#to_vec start\n",
    "learning.log: DEBUG: TextArray#to_vec end\n",
    "learning.log: DEBUG: Bot#__build_training_set training_set.count_sample_by_y: [[0, 3], [2671, 226], [2673, 166], [2674, 32], [2675, 152], [2676, 130], [2677, 124], [2678, 72], [2679, 150], [2680, 78], [2681, 96], [2682, 66], [2683, 96], [2684, 46], [2685, 40], [2686, 52], [2687, 142], [2688, 142], [2689, 176], [2690, 66], [2691, 46], [2692, 156], [2694, 76], [2695, 72], [2696, 90], [2697, 142], [2698, 40], [2699, 58], [2700, 46], [2701, 26], [2702, 46], [2703, 52], [2704, 46], [2705, 76], [2706, 74], [2708, 128], [2709, 78], [2710, 26], [2741, 20], [2742, 58], [2743, 26], [2745, 72], [2746, 22], [2747, 26], [2748, 60], [2749, 136], [2750, 200], [4066, 22], [4067, 14], [4068, 73], [4069, 20], [4073, 26], [4310, 26], [4311, 14], [4312, 26], [4313, 46], [4314, 32], [4630, 20], [4631, 14], [4632, 14], [4633, 14], [4634, 18], [4635, 34], [4641, 26], [4642, 40], [4643, 24], [4674, 16], [4675, 48], [4676, 34], [4840, 8]]\n",
    "learning.log: DEBUG: use algorithm: logistic regression\n",
    "learning.log: DEBUG: learning_parameter has not parameter C\n",
    "learning.log: DEBUG: best_params_: {'C': 140}\n",
    "learning.log: DEBUG: after Bot#__get_estimator\n",
    "learning.log: DEBUG: before Evaluator#evaluate\n",
    "learning.log: DEBUG: self.threshold: 0.0\n",
    "learning.log: DEBUG: Evaluator#evaluate#elapsed time: 460.780859 ms\n",
    "learning.log: DEBUG: accuracy: 0.977212971078\n",
    "learning.log: DEBUG: end Bot#learn\n",
    "learning.log: DEBUG: Bot.learn processing time: 6.325543165206909 [sec]\n",
    "learning.log: DEBUG: TextArray#__init__ start\n",
    "learning.log: DEBUG: Reply#perform text_array.separated_sentences: ['']\n",
    "learning.log: DEBUG: TextArray#to_vec start\n",
    "learning.log: DEBUG: TextArray#to_vec end\n",
    "learning.log: DEBUG: Reply#perform features: \n",
    "learning.log: DEBUG: question: \n",
    "learning.log: DEBUG: question_feature_count: 0\n",
    "learning.log: DEBUG: predicted results (order by probability desc)\n",
    "learning.log: DEBUG: {'answer_id': 0.0, 'probability': 0.45584103552319499}\n",
    "learning.log: DEBUG: {'answer_id': 2675.0, 'probability': 0.25734956603915016}\n",
    "learning.log: DEBUG: {'answer_id': 4310.0, 'probability': 0.088956571433228812}\n",
    "learning.log: DEBUG: {'answer_id': 2685.0, 'probability': 0.016787078004073953}\n",
    "learning.log: DEBUG: {'answer_id': 2686.0, 'probability': 0.013928752758233614}\n",
    "learning.log: DEBUG: {'answer_id': 2684.0, 'probability': 0.011751962650257767}\n",
    "learning.log: DEBUG: {'answer_id': 2742.0, 'probability': 0.0095178888514277204}\n",
    "learning.log: DEBUG: {'answer_id': 2710.0, 'probability': 0.008875951069380628}\n",
    "learning.log: DEBUG: {'answer_id': 2683.0, 'probability': 0.0077860282837116752}\n",
    "learning.log: DEBUG: {'answer_id': 2750.0, 'probability': 0.0077352469522611201}\n",
    "--------------------- >> end captured logging << ---------------------\n",
    "\n",
    "======================================================================\n",
    "FAIL: test_fail_want_to_eat_ramen (learning.tests.engine.test_ptna_conversation.PtnaConversationTestCase)\n",
    "----------------------------------------------------------------------\n",
    "Traceback (most recent call last):\n",
    "  File \"/Users/makmorit/GitHub/donusagi-bot/learning/learning/tests/engine/test_ptna_conversation.py\", line 58, in test_fail_want_to_eat_ramen\n",
    "    ok_(result.probability > self.threshold)\n",
    "AssertionError: None\n",
    "-------------------- >> begin captured logging << --------------------\n",
    "learning.log: DEBUG: learning_parameter: {'_params_for_algorithm': {}, '_use_similarity_classification': False, '_algorithm': 0, '_include_failed_data': False, '_include_tag_vector': False, '_classify_threshold': None}\n",
    "learning.log: DEBUG: start Bot#learn\n",
    "learning.log: DEBUG: TrainingMessageFromCsv#__build_learning_training_messages count of learning data: 4559\n",
    "learning.log: DEBUG: TextArray#__init__ start\n",
    "learning.log: DEBUG: TextArray#to_vec start\n",
    "learning.log: DEBUG: TextArray#to_vec end\n",
    "learning.log: DEBUG: Bot#__build_training_set training_set.count_sample_by_y: [[0, 3], [2671, 226], [2673, 166], [2674, 32], [2675, 152], [2676, 130], [2677, 124], [2678, 72], [2679, 150], [2680, 78], [2681, 96], [2682, 66], [2683, 96], [2684, 46], [2685, 40], [2686, 52], [2687, 142], [2688, 142], [2689, 176], [2690, 66], [2691, 46], [2692, 156], [2694, 76], [2695, 72], [2696, 90], [2697, 142], [2698, 40], [2699, 58], [2700, 46], [2701, 26], [2702, 46], [2703, 52], [2704, 46], [2705, 76], [2706, 74], [2708, 128], [2709, 78], [2710, 26], [2741, 20], [2742, 58], [2743, 26], [2745, 72], [2746, 22], [2747, 26], [2748, 60], [2749, 136], [2750, 200], [4066, 22], [4067, 14], [4068, 73], [4069, 20], [4073, 26], [4310, 26], [4311, 14], [4312, 26], [4313, 46], [4314, 32], [4630, 20], [4631, 14], [4632, 14], [4633, 14], [4634, 18], [4635, 34], [4641, 26], [4642, 40], [4643, 24], [4674, 16], [4675, 48], [4676, 34], [4840, 8]]\n",
    "learning.log: DEBUG: use algorithm: logistic regression\n",
    "learning.log: DEBUG: learning_parameter has not parameter C\n",
    "learning.log: DEBUG: best_params_: {'C': 140}\n",
    "learning.log: DEBUG: after Bot#__get_estimator\n",
    "learning.log: DEBUG: before Evaluator#evaluate\n",
    "learning.log: DEBUG: self.threshold: 0.0\n",
    "learning.log: DEBUG: Evaluator#evaluate#elapsed time: 431.138992 ms\n",
    "learning.log: DEBUG: accuracy: 0.977212971078\n",
    "learning.log: DEBUG: end Bot#learn\n",
    "learning.log: DEBUG: Bot.learn processing time: 6.201347827911377 [sec]\n",
    "learning.log: DEBUG: TextArray#__init__ start\n",
    "learning.log: DEBUG: Reply#perform text_array.separated_sentences: ['おいしい ラーメン 食べる']\n",
    "learning.log: DEBUG: TextArray#to_vec start\n",
    "learning.log: DEBUG: TextArray#to_vec end\n",
    "learning.log: DEBUG: Reply#perform features: \n",
    "learning.log: DEBUG: question: おいしいラーメンが食べたいです\n",
    "learning.log: DEBUG: question_feature_count: 0\n",
    "learning.log: DEBUG: predicted results (order by probability desc)\n",
    "learning.log: DEBUG: {'answer_id': 0.0, 'probability': 0.45584103552319499}\n",
    "learning.log: DEBUG: {'answer_id': 2675.0, 'probability': 0.25734956603915016}\n",
    "learning.log: DEBUG: {'answer_id': 4310.0, 'probability': 0.088956571433228812}\n",
    "learning.log: DEBUG: {'answer_id': 2685.0, 'probability': 0.016787078004073953}\n",
    "learning.log: DEBUG: {'answer_id': 2686.0, 'probability': 0.013928752758233614}\n",
    "learning.log: DEBUG: {'answer_id': 2684.0, 'probability': 0.011751962650257767}\n",
    "learning.log: DEBUG: {'answer_id': 2742.0, 'probability': 0.0095178888514277204}\n",
    "learning.log: DEBUG: {'answer_id': 2710.0, 'probability': 0.008875951069380628}\n",
    "learning.log: DEBUG: {'answer_id': 2683.0, 'probability': 0.0077860282837116752}\n",
    "learning.log: DEBUG: {'answer_id': 2750.0, 'probability': 0.0077352469522611201}\n",
    "--------------------- >> end captured logging << ---------------------\n",
    "\n",
    "----------------------------------------------------------------------\n",
    "Ran 5 tests in 31.302s\n",
    "\n",
    "FAILED (failures=2)\n",
    "```"
   ]
  }
 ],
 "metadata": {
  "kernelspec": {
   "display_name": "Python 3",
   "language": "python",
   "name": "python3"
  },
  "language_info": {
   "codemirror_mode": {
    "name": "ipython",
    "version": 3
   },
   "file_extension": ".py",
   "mimetype": "text/x-python",
   "name": "python",
   "nbconvert_exporter": "python",
   "pygments_lexer": "ipython3",
   "version": "3.5.2"
  }
 },
 "nbformat": 4,
 "nbformat_minor": 2
}
