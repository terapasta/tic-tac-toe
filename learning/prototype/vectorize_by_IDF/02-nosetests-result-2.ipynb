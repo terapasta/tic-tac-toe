{
 "cells": [
  {
   "cell_type": "markdown",
   "metadata": {
    "deletable": true,
    "editable": true
   },
   "source": [
    "# IDF値によるベクトライズの検討（part2）"
   ]
  },
  {
   "cell_type": "markdown",
   "metadata": {
    "deletable": true,
    "editable": true
   },
   "source": [
    "## (1) TfidfVectorizer引数変更\n",
    "\n",
    "プロダクションコードを以下のように修正し、nosetestsを流してみました。\n",
    "\n",
    "- 修正前\n",
    "\n",
    "> vectorizer = TfidfVectorizer(use_idf=False, token_pattern=u'(?u)\\\\b\\\\w+\\\\b')\n",
    "\n",
    "- 修正後\n",
    "\n",
    "> vectorizer = TfidfVectorizer(use_idf=True, token_pattern=u'(?u)\\\\b\\\\w+\\\\b')"
   ]
  },
  {
   "cell_type": "markdown",
   "metadata": {
    "deletable": true,
    "editable": true
   },
   "source": [
    "## (2) 結果の比較"
   ]
  },
  {
   "cell_type": "markdown",
   "metadata": {
    "deletable": true,
    "editable": true
   },
   "source": [
    "### (2-1) accuracyの変化"
   ]
  },
  {
   "cell_type": "markdown",
   "metadata": {
    "deletable": true,
    "editable": true
   },
   "source": [
    "全体的に大きな変化は見られませんでした。"
   ]
  },
  {
   "cell_type": "markdown",
   "metadata": {
    "deletable": true,
    "editable": true
   },
   "source": [
    "| テストデータ | accuracy（改修前） | <> | accuracy（改修後） |\n",
    "| :--- | :---: | :---: | :---: |\n",
    "| test_daikin_conversation | 0.985786336543 | > | 0.983952315452 |\n",
    "| test_ptna_conversation | 0.977212971078 | == | 0.977212971078 |\n",
    "| test_toyotsu_human_conversation | 0.993685872139 | == | 0.993685872139 |\n",
    "| test_benefitone_conversation | 0.979611650485 | < | 0.981553398058 |"
   ]
  },
  {
   "cell_type": "markdown",
   "metadata": {
    "deletable": true,
    "editable": true
   },
   "source": [
    "### (2-2) probabilityの変化"
   ]
  },
  {
   "cell_type": "markdown",
   "metadata": {
    "deletable": true,
    "editable": true
   },
   "source": [
    "こちらはテストケースごとに揺れが確認されております。\n",
    "\n",
    "特にラベル０に対するprobaの低下が目立ちます。"
   ]
  },
  {
   "cell_type": "markdown",
   "metadata": {
    "deletable": true,
    "editable": true
   },
   "source": [
    "| テストデータ | テストケース（質問文） | 正解ラベル | proba（改修前） | <> | proba（改修後） | \n",
    "| :--- |  :--- | :---: | :---: | :---: | :---: |\n",
    "| test_daikin_conversation | しいたけは嫌いな食べ物です |0| 0.9816022499009649 | > | 0.94267740147525847 |\n",
    "| test_daikin_conversation| 社外からのメール添付ファイルの受信容量制限は？ | 3487 | 0.8859353165274696 | < | 0.92000754300247356 |\n",
    "| test_daikin_conversation | メールに署名を付ける方法を知りたい | 3398 | 0.89561349205672769 | < | 0.94307403979364623 |\n",
    "| test_daikin_conversation | SPAMフォルダにメールが入っている | 3701 | 0.98016558676347543 | > | 0.95585264818584637 |\n",
    "| test_ptna_conversation | (blank) | 0 | 0.64910771108380338 | > | 0.45584103552319499 |\n",
    "| test_ptna_conversation | おいしいラーメンが食べたいです | 0 | 0.64910771108380338 | > | 0.45584103552319499 |\n",
    "| test_ptna_conversation | こんにちは | 2684 | 0.60717161230416883 | > | 0.60573334670493106 |\n",
    "| test_ptna_conversation | 女の先生 | 4068 | 0.98318553678782494 | < | 0.98825133586199254 |\n",
    "| test_ptna_conversation | 入会したいのですが | 2688 | 0.90292395657147917 | > | 0.89880333802070855 |\n",
    "| test_toyotsu_human_conversation | VISAの勘定科目がわからない | 6767 | 0.25251916431211241 | < | 0.65454223963951352 |\n",
    "| test_toyotsu_human_conversation | JAL マイレージ | 6803 | 0.90142687232029783 | < | 0.93270256359004111 |\n",
    "| test_toyotsu_human_conversation | 海外の出張費を精算したい | 6763 | 0.58534247570230802 | < | 0.67278725326967714 |\n",
    "| test_benefitone_conversation | EXカードを貸してください | 4678 | 0.98849019014720063 | < | 0.99291064405716734 |\n",
    "| test_benefitone_conversation | 契約書を見たいのですが | 4683 | 0.98824130181911307 | < | 0.991716952819228 |"
   ]
  },
  {
   "cell_type": "markdown",
   "metadata": {
    "deletable": true,
    "editable": true
   },
   "source": [
    "### (2-3) ご参考：ベクトライザーから生成されるベクトルの変化"
   ]
  },
  {
   "cell_type": "markdown",
   "metadata": {
    "deletable": true,
    "editable": true
   },
   "source": [
    "アプリケーションログにより確認したものです。\n",
    "\n",
    "改修前はfeatureを通じてフラットだったベクトルが、featureごとに凹凸のあるベクトルに変化しています。"
   ]
  },
  {
   "cell_type": "markdown",
   "metadata": {
    "deletable": true,
    "editable": true
   },
   "source": [
    "### 改修前\n",
    "\n",
    "上が学習セットの質問文（feature重複あり）、下が未知の質問文（feature重複無し）\n",
    "\n",
    "feature（0, 1181) の要素が、学習セットと未知の質問文とでかけ離れていることが確認されます。\n",
    "\n",
    "このため、正解ラベルに対するproba低下を誘発しやすい状況だったと推測します。\n",
    "\n",
    "```\n",
    "learning.log: DEBUG: Reply#perform text_array.separated_sentences: ['ＶＩＳＡ ＶＩＳＡ 取得 代金 勘定 科目']\n",
    "learning.log: DEBUG: TextArray#to_vec start\n",
    "learning.log: DEBUG: TextArray#to_vec end\n",
    "learning.log: DEBUG: Reply#perform features:   (0, 283)\t0.353553390593\n",
    "  (0, 404)\t0.353553390593\n",
    "  (0, 435)\t0.353553390593\n",
    "  (0, 865)\t0.353553390593\n",
    "  (0, 1181)\t0.707106781187\n",
    "learning.log: DEBUG: question: 「VISA」VISA取得のための代金はどの勘定科目なのか？\n",
    "\n",
    "learning.log: DEBUG: Reply#perform text_array.separated_sentences: ['ＶＩＳＡ 勘定 科目 わかる ない']\n",
    "learning.log: DEBUG: TextArray#to_vec start\n",
    "learning.log: DEBUG: TextArray#to_vec end\n",
    "learning.log: DEBUG: Reply#perform features:   (0, 80)\t0.4472135955\n",
    "  (0, 122)\t0.4472135955\n",
    "  (0, 404)\t0.4472135955\n",
    "  (0, 865)\t0.4472135955\n",
    "  (0, 1181)\t0.4472135955\n",
    "learning.log: DEBUG: question: VISAの勘定科目がわからない\n",
    "```"
   ]
  },
  {
   "cell_type": "markdown",
   "metadata": {
    "deletable": true,
    "editable": true
   },
   "source": [
    "### 改修後\n",
    "\n",
    "上が学習セットの質問文（feature重複あり）、下が未知の質問文（feature重複無し）\n",
    "\n",
    "feature（0, 1181) の要素が、学習セットと未知の質問文とで大差がなくなったことが確認されます。\n",
    "\n",
    "このため、正解ラベルに対するprobaが上昇したと推測します。\n",
    "\n",
    "```\n",
    "learning.log: DEBUG: Reply#perform text_array.separated_sentences: ['ＶＩＳＡ ＶＩＳＡ 取得 代金 勘定 科目']\n",
    "learning.log: DEBUG: TextArray#to_vec start\n",
    "learning.log: DEBUG: TextArray#to_vec end\n",
    "learning.log: DEBUG: Reply#perform features:   (0, 1181)\t0.782861031768\n",
    "  (0, 865)\t0.22192839986\n",
    "  (0, 435)\t0.323519674117\n",
    "  (0, 404)\t0.223238185196\n",
    "  (0, 283)\t0.428224384412\n",
    "learning.log: DEBUG: question: 「VISA」VISA取得のための代金はどの勘定科目なのか？\n",
    "\n",
    "learning.log: DEBUG: Reply#perform text_array.separated_sentences: ['ＶＩＳＡ 勘定 科目 わかる ない']\n",
    "learning.log: DEBUG: TextArray#to_vec start\n",
    "learning.log: DEBUG: TextArray#to_vec end\n",
    "learning.log: DEBUG: Reply#perform features:   (0, 1181)\t0.616700206566\n",
    "  (0, 865)\t0.349649004057\n",
    "  (0, 404)\t0.351712575635\n",
    "  (0, 122)\t0.486772196609\n",
    "  (0, 80)\t0.369834452061\n",
    "learning.log: DEBUG: question: VISAの勘定科目がわからない\n",
    "```"
   ]
  }
 ],
 "metadata": {
  "kernelspec": {
   "display_name": "Python 3",
   "language": "python",
   "name": "python3"
  },
  "language_info": {
   "codemirror_mode": {
    "name": "ipython",
    "version": 3
   },
   "file_extension": ".py",
   "mimetype": "text/x-python",
   "name": "python",
   "nbconvert_exporter": "python",
   "pygments_lexer": "ipython3",
   "version": "3.5.2"
  }
 },
 "nbformat": 4,
 "nbformat_minor": 2
}
