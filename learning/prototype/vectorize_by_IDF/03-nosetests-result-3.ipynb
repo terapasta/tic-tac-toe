{
 "cells": [
  {
   "cell_type": "markdown",
   "metadata": {
    "deletable": true,
    "editable": true
   },
   "source": [
    "# IDF値によるベクトライズの検討（part3）"
   ]
  },
  {
   "cell_type": "markdown",
   "metadata": {
    "deletable": true,
    "editable": true
   },
   "source": [
    "## (1) TfidfVectorizer引数変更\n",
    "\n",
    "プロダクションコードを以下のように修正し、nosetestsを流してみました。\n",
    "\n",
    "ただし今回は、<b>「binary=True」というパラメータを追加し、TF値を強制的に 1 or 0 とする</b>よう指定しております。\n",
    "\n",
    "- 修正前\n",
    "\n",
    "> vectorizer = TfidfVectorizer(use_idf=False, token_pattern=u'(?u)\\\\b\\\\w+\\\\b')\n",
    "\n",
    "- 修正後\n",
    "\n",
    "> vectorizer = TfidfVectorizer(use_idf=True, token_pattern=u'(?u)\\\\b\\\\w+\\\\b', binary=True)"
   ]
  },
  {
   "cell_type": "markdown",
   "metadata": {
    "deletable": true,
    "editable": true
   },
   "source": [
    "### (1-1) このパラメータの効果\n",
    "\n",
    "binary=False時は、TF値が単語出現数の影響を受けますが、True時は全feature間でフラットな値になっています。\n",
    "\n",
    "- use_idf=False, binary=False時\n",
    "\n",
    "```\n",
    "learning.log: DEBUG: Reply#perform text_array.separated_sentences: ['ＶＩＳＡ ＶＩＳＡ 取得 代金 勘定 科目']\n",
    "learning.log: DEBUG: TextArray#to_vec start\n",
    "learning.log: DEBUG: TextArray#to_vec end\n",
    "learning.log: DEBUG: Reply#perform features:   (0, 283)\t0.353553390593\n",
    "  (0, 404)\t0.353553390593\n",
    "  (0, 435)\t0.353553390593\n",
    "  (0, 865)\t0.353553390593\n",
    "  (0, 1181)\t0.707106781187　<---TF値の影響が出てしまっています\n",
    "learning.log: DEBUG: question: 「VISA」VISA取得のための代金はどの勘定科目なのか？\n",
    "\n",
    "learning.log: DEBUG: Reply#perform text_array.separated_sentences: ['ＶＩＳＡ 勘定 科目 わかる ない']\n",
    "learning.log: DEBUG: TextArray#to_vec start\n",
    "learning.log: DEBUG: TextArray#to_vec end\n",
    "learning.log: DEBUG: Reply#perform features:   (0, 80)\t0.4472135955\n",
    "  (0, 122)\t0.4472135955\n",
    "  (0, 404)\t0.4472135955\n",
    "  (0, 865)\t0.4472135955\n",
    "  (0, 1181)\t0.4472135955\n",
    "learning.log: DEBUG: question: VISAの勘定科目がわからない\n",
    "```\n",
    "\n",
    "\n",
    "- use_idf=False, binary=True時\n",
    "\n",
    "```\n",
    "learning.log: DEBUG: Reply#perform text_array.separated_sentences: ['ＶＩＳＡ ＶＩＳＡ 取得 代金 勘定 科目']\n",
    "learning.log: DEBUG: TextArray#to_vec start\n",
    "learning.log: DEBUG: TextArray#to_vec end\n",
    "learning.log: DEBUG: Reply#perform features:   (0, 283)\t0.4472135955\n",
    "  (0, 404)\t0.4472135955\n",
    "  (0, 435)\t0.4472135955\n",
    "  (0, 865)\t0.4472135955\n",
    "  (0, 1181)\t0.4472135955　<---TF値の影響が回避できています\n",
    "learning.log: DEBUG: question: 「VISA」VISA取得のための代金はどの勘定科目なのか？\n",
    "：\n",
    "learning.log: DEBUG: Reply#perform text_array.separated_sentences: ['ＶＩＳＡ 勘定 科目 わかる ない']\n",
    "learning.log: DEBUG: TextArray#to_vec start\n",
    "learning.log: DEBUG: TextArray#to_vec end\n",
    "learning.log: DEBUG: Reply#perform features:   (0, 80)\t0.4472135955\n",
    "  (0, 122)\t0.4472135955\n",
    "  (0, 404)\t0.4472135955\n",
    "  (0, 865)\t0.4472135955\n",
    "  (0, 1181)\t0.4472135955\n",
    "learning.log: DEBUG: question: VISAの勘定科目がわからない\n",
    "```"
   ]
  },
  {
   "cell_type": "markdown",
   "metadata": {
    "deletable": true,
    "editable": true
   },
   "source": [
    "## (2) 結果の比較"
   ]
  },
  {
   "cell_type": "markdown",
   "metadata": {
    "deletable": true,
    "editable": true
   },
   "source": [
    "### (2-1) accuracyの変化"
   ]
  },
  {
   "cell_type": "markdown",
   "metadata": {
    "deletable": true,
    "editable": true
   },
   "source": [
    "全体的に大きな変化は見られませんでした。"
   ]
  },
  {
   "cell_type": "markdown",
   "metadata": {
    "deletable": true,
    "editable": true
   },
   "source": [
    "| テストデータ | accuracy（改修前） | <> | accuracy（改修後） |\n",
    "| :--- | :---: | :---: | :---: |\n",
    "| test_daikin_conversation | 0.985786336543 | > | 0.984640073361 |\n",
    "| test_ptna_conversation | 0.977212971078 | == | 0.977212971078 |\n",
    "| test_toyotsu_human_conversation | 0.993685872139 | < | 0.995264404104 |\n",
    "| test_benefitone_conversation | 0.979611650485 | < | 0.0.981553398058 |"
   ]
  },
  {
   "cell_type": "markdown",
   "metadata": {
    "deletable": true,
    "editable": true
   },
   "source": [
    "### (2-2) probabilityの変化"
   ]
  },
  {
   "cell_type": "markdown",
   "metadata": {
    "deletable": true,
    "editable": true
   },
   "source": [
    "こちらはテストケースごとに揺れが確認されております。\n",
    "\n",
    "特にラベル０に対するprobaの低下が目立ちます。\n",
    "\n",
    "またテストデータ「test_toyotsu_human_conversation」に対しては、ラベル6763のprobaがしきい値を下回るという副作用が確認されています。"
   ]
  },
  {
   "cell_type": "markdown",
   "metadata": {
    "deletable": true,
    "editable": true
   },
   "source": [
    "| テストデータ | テストケース（質問文） | 正解ラベル | proba（改修前） | <> | proba（改修後） | \n",
    "| :--- |  :--- | :---: | :---: | :---: | :---: |\n",
    "| test_daikin_conversation | しいたけは嫌いな食べ物です |0| 0.9816022499009649 | > | 0.94040053357176312 |\n",
    "| test_daikin_conversation| 社外からのメール添付ファイルの受信容量制限は？ | 3487 | 0.8859353165274696 | < | 0.93266895642879499 |\n",
    "| test_daikin_conversation | メールに署名を付ける方法を知りたい | 3398 | 0.89561349205672769 | < | 0.9426926063567419 |\n",
    "| test_daikin_conversation | SPAMフォルダにメールが入っている | 3701 | 0.98016558676347543 | > | 0.92487661799934506 |\n",
    "| test_ptna_conversation | (blank) | 0 | 0.64910771108380338 | > | 0.45396658057020628 |\n",
    "| test_ptna_conversation | おいしいラーメンが食べたいです | 0 | 0.64910771108380338 | > | 0.45396658057020628 |\n",
    "| test_ptna_conversation | こんにちは | 2684 | 0.60717161230416883 | > | 0.60575403165483244 |\n",
    "| test_ptna_conversation | 女の先生 | 4068 | 0.98318553678782494 | < | 0.98800988116448674 |\n",
    "| test_ptna_conversation | 入会したいのですが | 2688 | 0.90292395657147917 | > | 0.9009776260091249 |\n",
    "| test_toyotsu_human_conversation | VISAの勘定科目がわからない | 6767 | 0.25251916431211241 | < | 0.58548209494611025 |\n",
    "| test_toyotsu_human_conversation | JAL マイレージ | 6803 | 0.90142687232029783 | > | 0.86243381020685794 |\n",
    "| test_toyotsu_human_conversation | 海外の出張費を精算したい | 6763 | 0.58534247570230802 | > | 0.44698777349025137 |\n",
    "| test_benefitone_conversation | EXカードを貸してください | 4678 | 0.98849019014720063 | < | 0.99290874278286489 |\n",
    "| test_benefitone_conversation | 契約書を見たいのですが | 4683 | 0.98824130181911307 | < | 0.99164983601570122 |"
   ]
  },
  {
   "cell_type": "markdown",
   "metadata": {},
   "source": [
    "このため、プロダクションのテストケース<b>「test_toyotsu_human_conversation.py」がエラー</b>となってしまいました。"
   ]
  },
  {
   "cell_type": "markdown",
   "metadata": {},
   "source": [
    "```\n",
    "======================================================================\n",
    "FAIL: test_overseas_business_trip_pay (learning.tests.engine.test_toyotsu_human_conversation.ToyotsuHumanConversationTestCase)\n",
    "----------------------------------------------------------------------\n",
    "Traceback (most recent call last):\n",
    "  File \"/Users/makmorit/GitHub/donusagi-bot/learning/learning/tests/engine/test_toyotsu_human_conversation.py\", line 53, in test_overseas_business_trip_pay\n",
    "    ok_(result.probability > self.threshold)\n",
    "AssertionError: None\n",
    "-------------------- >> begin captured logging << --------------------\n",
    "learning.log: DEBUG: TextArray#__init__ start\n",
    "learning.log: DEBUG: Reply#perform text_array.separated_sentences: ['海外 出張 費 精算 する']\n",
    "learning.log: DEBUG: TextArray#to_vec start\n",
    "learning.log: DEBUG: TextArray#to_vec end\n",
    "learning.log: DEBUG: Reply#perform features:   (0, 994)\t0.54960468972\n",
    "  (0, 886)\t0.507202270577\n",
    "  (0, 778)\t0.441602245452\n",
    "  (0, 376)\t0.430631246213\n",
    "  (0, 51)\t0.245407270382\n",
    "learning.log: DEBUG: question: 海外の出張費を精算したい\n",
    "learning.log: DEBUG: question_feature_count: 5\n",
    "learning.log: DEBUG: predicted results (order by probability desc)\n",
    "learning.log: DEBUG: {'answer_id': 6763.0, 'probability': 0.44698777349025137}\n",
    "learning.log: DEBUG: {'answer_id': 6856.0, 'probability': 0.25933482290817483}\n",
    "learning.log: DEBUG: {'answer_id': 6762.0, 'probability': 0.099166998868494352}\n",
    "learning.log: DEBUG: {'answer_id': 6830.0, 'probability': 0.070764538514641817}\n",
    "learning.log: DEBUG: {'answer_id': 6847.0, 'probability': 0.022272903993338526}\n",
    "learning.log: DEBUG: {'answer_id': 6827.0, 'probability': 0.010962494105183374}\n",
    "learning.log: DEBUG: {'answer_id': 6840.0, 'probability': 0.008680119835088684}\n",
    "learning.log: DEBUG: {'answer_id': 6802.0, 'probability': 0.0053639134843241187}\n",
    "learning.log: DEBUG: {'answer_id': 6824.0, 'probability': 0.005111632818439845}\n",
    "learning.log: DEBUG: {'answer_id': 6823.0, 'probability': 0.0045841130909014234}\n",
    "--------------------- >> end captured logging << ---------------------```"
   ]
  }
 ],
 "metadata": {
  "kernelspec": {
   "display_name": "Python 3",
   "language": "python",
   "name": "python3"
  },
  "language_info": {
   "codemirror_mode": {
    "name": "ipython",
    "version": 3
   },
   "file_extension": ".py",
   "mimetype": "text/x-python",
   "name": "python",
   "nbconvert_exporter": "python",
   "pygments_lexer": "ipython3",
   "version": "3.5.2"
  }
 },
 "nbformat": 4,
 "nbformat_minor": 2
}
