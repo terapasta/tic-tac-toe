{
 "cells": [
  {
   "cell_type": "markdown",
   "metadata": {},
   "source": [
    "## scikit-learnを使いwikiコーパスでLSI\n",
    "\n",
    "データの作り方がまずかったのかわからないが、\n",
    "メモリ消費量が大きくメモリ8G+メモリスワップによって30GBくらいあっても実行できなかった。"
   ]
  },
  {
   "cell_type": "code",
   "execution_count": 1,
   "metadata": {
    "collapsed": false
   },
   "outputs": [],
   "source": [
    "from sklearn.externals import joblib"
   ]
  },
  {
   "cell_type": "code",
   "execution_count": null,
   "metadata": {
    "collapsed": true
   },
   "outputs": [],
   "source": [
    "tokenized_sentences = joblib.load('/Users/shwld/Downloads/wiki-corpus/tokenized_sentences')"
   ]
  },
  {
   "cell_type": "code",
   "execution_count": 3,
   "metadata": {
    "collapsed": false
   },
   "outputs": [],
   "source": [
    "vectorizer = joblib.load('/Users/shwld/Downloads/wiki-corpus/vectorizer')"
   ]
  },
  {
   "cell_type": "code",
   "execution_count": 4,
   "metadata": {
    "collapsed": false
   },
   "outputs": [
    {
     "data": {
      "text/plain": [
       "['/Users/shwld/Downloads/wiki-corpus/vectorized_features']"
      ]
     },
     "execution_count": 4,
     "metadata": {},
     "output_type": "execute_result"
    }
   ],
   "source": [
    "vectorized_features = vectorizer.transform(tokenized_sentences)\n",
    "joblib.dump(vectorized_features, '/Users/shwld/Downloads/wiki-corpus/vectorized_features')"
   ]
  },
  {
   "cell_type": "code",
   "execution_count": null,
   "metadata": {
    "collapsed": false
   },
   "outputs": [],
   "source": [
    "vectorized_features = joblib.load('/Users/shwld/Downloads/wiki-corpus/vectorized_features')"
   ]
  },
  {
   "cell_type": "code",
   "execution_count": null,
   "metadata": {
    "collapsed": true
   },
   "outputs": [],
   "source": [
    "from sklearn.decomposition import TruncatedSVD\n",
    "\n",
    "n_components = min(vectorized_features.shape)\n",
    "if n_components > 1:\n",
    "    n_components = (n_components - 1)\n",
    "# Note: vectorized_features.shape = (6796444, 1638693)\n",
    "\n",
    "reducer = TruncatedSVD(n_components=n_components, algorithm='randomized', n_iter=10, random_state=42)\n",
    "\n",
    "# FIXME: ここで、Macのディスク容量が一杯になって終了してしまう\n",
    "#             n_componentsを100にしても同じ\n",
    "#             ipythonコンソールでやったときのログ\n",
    "\n",
    "\"\"\"\n",
    "In [10]: reducer.fit(vectorized_features)\n",
    "[1]    12718 killed     ipython\n",
    "ipython  226.49s user 27.54s system 58% cpu 7:17.05 total\n",
    "\"\"\"\n",
    "\n",
    "reducer.fit(vectorized_features)\n",
    "joblib.dump(reducer, '/Users/shwld/Downloads/wiki-corpus/reducer')\n"
   ]
  },
  {
   "cell_type": "code",
   "execution_count": null,
   "metadata": {
    "collapsed": true
   },
   "outputs": [],
   "source": [
    "reduced_features = reducer.transform(vectorized_features)\n",
    "joblib.dump(reduced_features, '/Users/shwld/Downloads/wiki-corpus/reduced_features')"
   ]
  },
  {
   "cell_type": "code",
   "execution_count": null,
   "metadata": {
    "collapsed": true
   },
   "outputs": [],
   "source": [
    "from sklearn.preprocessing import Normalizer as SkNormalizer\n",
    "\n",
    "\n",
    "normalizer = SkNormalizer(copy=False)\n",
    "\n",
    "normalizer.fit(reduced_features)\n",
    "joblib.dump(normalizer, '/Users/shwld/Downloads/wiki-corpus/normalizer')"
   ]
  },
  {
   "cell_type": "code",
   "execution_count": null,
   "metadata": {
    "collapsed": true
   },
   "outputs": [],
   "source": []
  }
 ],
 "metadata": {
  "kernelspec": {
   "display_name": "Python 3",
   "language": "python",
   "name": "python3"
  },
  "language_info": {
   "codemirror_mode": {
    "name": "ipython",
    "version": 3
   },
   "file_extension": ".py",
   "mimetype": "text/x-python",
   "name": "python",
   "nbconvert_exporter": "python",
   "pygments_lexer": "ipython3",
   "version": "3.5.2"
  }
 },
 "nbformat": 4,
 "nbformat_minor": 2
}
