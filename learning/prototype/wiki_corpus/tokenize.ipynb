{
 "cells": [
  {
   "cell_type": "markdown",
   "metadata": {},
   "source": [
    "## wikiコーパスをトークナイズする"
   ]
  },
  {
   "cell_type": "code",
   "execution_count": 9,
   "metadata": {
    "collapsed": true
   },
   "outputs": [],
   "source": [
    "import MeCab\n",
    "import mojimoji\n",
    "\n",
    "\n",
    "class MecabTokenizer:\n",
    "    def __init__(self):\n",
    "        self.tagger = MeCab.Tagger(\"-u dict/custom.dic\")\n",
    "        # Note: node.surfaceを取得出来るようにするため、空文字をparseする(Python3のバグの模様)\n",
    "        self.tagger.parse('')\n",
    "\n",
    "    def tokenize(self, texts):\n",
    "        splited_texts = []\n",
    "        for text in texts:\n",
    "            splited_texts.append(self.tokenize_single_text(text))\n",
    "        return splited_texts\n",
    "\n",
    "    def tokenize_single_text(self, text):\n",
    "        node = self.tagger.parseToNode(text)\n",
    "        word_list = []\n",
    "        while node:\n",
    "            features = node.feature.split(',')\n",
    "            pos = features[0]\n",
    "\n",
    "            if pos in [\"名詞\", \"動詞\", \"形容詞\", \"感動詞\", \"助動詞\", \"副詞\"]:\n",
    "                lemma = node.feature.split(\",\")[6]\n",
    "\n",
    "                if pos == '名詞' and features[1] == '非自立':\n",
    "                    node = node.next\n",
    "                    continue\n",
    "                if pos == '動詞' and features[1] == '非自立':\n",
    "                    node = node.next\n",
    "                    continue\n",
    "\n",
    "                if pos == '助動詞' and lemma != 'ない':\n",
    "                    node = node.next\n",
    "                    continue\n",
    "\n",
    "                if lemma == 'ある':\n",
    "                    node = node.next\n",
    "                    continue\n",
    "\n",
    "                if lemma == \"*\":\n",
    "                    lemma = node.surface\n",
    "\n",
    "                word_list.append(mojimoji.han_to_zen(lemma))\n",
    "            node = node.next\n",
    "        return \" \".join(word_list)\n"
   ]
  },
  {
   "cell_type": "code",
   "execution_count": 10,
   "metadata": {
    "collapsed": true
   },
   "outputs": [],
   "source": [
    "import pandas as pd\n",
    "\n",
    "data = pd.read_table('/Users/shwld/Downloads/wiki-corpus/jawiki.txt')\n"
   ]
  },
  {
   "cell_type": "code",
   "execution_count": 11,
   "metadata": {
    "collapsed": false
   },
   "outputs": [],
   "source": [
    "tokenized_sentences = MecabTokenizer().tokenize(data['question'])"
   ]
  },
  {
   "cell_type": "code",
   "execution_count": 12,
   "metadata": {
    "collapsed": false
   },
   "outputs": [
    {
     "data": {
      "text/plain": [
       "['/Users/shwld/Downloads/wiki-corpus/tokenized_sentences']"
      ]
     },
     "execution_count": 12,
     "metadata": {},
     "output_type": "execute_result"
    }
   ],
   "source": [
    "from sklearn.externals import joblib\n",
    "joblib.dump(tokenized_sentences, '/Users/shwld/Downloads/wiki-corpus/tokenized_sentences')"
   ]
  },
  {
   "cell_type": "code",
   "execution_count": null,
   "metadata": {
    "collapsed": true
   },
   "outputs": [],
   "source": []
  }
 ],
 "metadata": {
  "kernelspec": {
   "display_name": "Python 3",
   "language": "python",
   "name": "python3"
  },
  "language_info": {
   "codemirror_mode": {
    "name": "ipython",
    "version": 3
   },
   "file_extension": ".py",
   "mimetype": "text/x-python",
   "name": "python",
   "nbconvert_exporter": "python",
   "pygments_lexer": "ipython3",
   "version": "3.5.2"
  }
 },
 "nbformat": 4,
 "nbformat_minor": 2
}
