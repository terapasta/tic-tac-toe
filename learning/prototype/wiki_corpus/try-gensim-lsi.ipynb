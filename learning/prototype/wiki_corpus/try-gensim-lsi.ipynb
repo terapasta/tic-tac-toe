{
 "cells": [
  {
   "cell_type": "markdown",
   "metadata": {},
   "source": [
    "## gensimを使ってLSI"
   ]
  },
  {
   "cell_type": "markdown",
   "metadata": {},
   "source": [
    "以下を実行しておく\n",
    "\n",
    "```\n",
    "cd learning\n",
    "\n",
    "curl https://dumps.wikimedia.org/jawiki/latest/jawiki-latest-pages-articles.xml.bz2 -o ./prototype/workingjawiki-latest-pages-articles.xml.bz2\n",
    "python bin/generators/wiki_corpus.py ./prototype/workingjawiki-latest-pages-articles.xml.bz2 ./prototype/working/wiki\n",
    "python bin/generators/lsi.py ./prototype/working/wiki ./prototype/working/\n",
    "```\n",
    "\n",
    "num_topicsは1000"
   ]
  },
  {
   "cell_type": "code",
   "execution_count": 1,
   "metadata": {
    "collapsed": true
   },
   "outputs": [],
   "source": [
    "from gensim.corpora import Dictionary, MmCorpus\n",
    "from gensim.similarities import MatrixSimilarity\n",
    "from gensim.models import LsiModel, TfidfModel"
   ]
  },
  {
   "cell_type": "code",
   "execution_count": 2,
   "metadata": {
    "collapsed": false
   },
   "outputs": [],
   "source": [
    "dictionary = Dictionary.load_from_text('../working/wiki_wordids.txt.bz2')\n",
    "lsi = LsiModel.load('../working/lsi_1000.model')\n",
    "\n",
    "mm = MmCorpus('../working/wiki_tfidf.mm')"
   ]
  },
  {
   "cell_type": "code",
   "execution_count": 3,
   "metadata": {
    "collapsed": false
   },
   "outputs": [
    {
     "data": {
      "text/html": [
       "<div>\n",
       "<table border=\"1\" class=\"dataframe\">\n",
       "  <thead>\n",
       "    <tr style=\"text-align: right;\">\n",
       "      <th></th>\n",
       "      <th>id</th>\n",
       "      <th>question</th>\n",
       "      <th>answer</th>\n",
       "      <th>question_answer_id</th>\n",
       "      <th>bot_id</th>\n",
       "    </tr>\n",
       "  </thead>\n",
       "  <tbody>\n",
       "    <tr>\n",
       "      <th>0</th>\n",
       "      <td>3186876</td>\n",
       "      <td>育児短時間勤務申請書はいつまでに提出するのか？</td>\n",
       "      <td>1ヵ月前まで（年度申請）</td>\n",
       "      <td>13290</td>\n",
       "      <td>13</td>\n",
       "    </tr>\n",
       "    <tr>\n",
       "      <th>1</th>\n",
       "      <td>3186877</td>\n",
       "      <td>育児短時間勤務申請書は曜日別に申請できるか？</td>\n",
       "      <td>1日の勤務時間が6時間を超えていれば問題ありません。</td>\n",
       "      <td>13291</td>\n",
       "      <td>13</td>\n",
       "    </tr>\n",
       "    <tr>\n",
       "      <th>2</th>\n",
       "      <td>3186878</td>\n",
       "      <td>育児短時間勤務申請はどこへ提出すればよいか？</td>\n",
       "      <td>各拠店のTHR担当へご提出下さい。</td>\n",
       "      <td>13292</td>\n",
       "      <td>13</td>\n",
       "    </tr>\n",
       "    <tr>\n",
       "      <th>3</th>\n",
       "      <td>1</td>\n",
       "      <td>子供が生まれた</td>\n",
       "      <td>子供が生まれたのですね</td>\n",
       "      <td>1</td>\n",
       "      <td>13</td>\n",
       "    </tr>\n",
       "    <tr>\n",
       "      <th>4</th>\n",
       "      <td>2</td>\n",
       "      <td>VISAの勘定科目がわからない</td>\n",
       "      <td>VISAの勘定科目がわからないのですね</td>\n",
       "      <td>2</td>\n",
       "      <td>13</td>\n",
       "    </tr>\n",
       "    <tr>\n",
       "      <th>5</th>\n",
       "      <td>3</td>\n",
       "      <td>海外出張したときの旅費精算をしたいがどうしたら良い</td>\n",
       "      <td>海外出張の旅費精算したいんですね</td>\n",
       "      <td>3</td>\n",
       "      <td>13</td>\n",
       "    </tr>\n",
       "    <tr>\n",
       "      <th>6</th>\n",
       "      <td>4</td>\n",
       "      <td>保険証を失くした</td>\n",
       "      <td>保険証を失くしたのですね</td>\n",
       "      <td>4</td>\n",
       "      <td>13</td>\n",
       "    </tr>\n",
       "  </tbody>\n",
       "</table>\n",
       "</div>"
      ],
      "text/plain": [
       "        id                   question                      answer  \\\n",
       "0  3186876    育児短時間勤務申請書はいつまでに提出するのか？                1ヵ月前まで（年度申請）   \n",
       "1  3186877     育児短時間勤務申請書は曜日別に申請できるか？  1日の勤務時間が6時間を超えていれば問題ありません。   \n",
       "2  3186878     育児短時間勤務申請はどこへ提出すればよいか？           各拠店のTHR担当へご提出下さい。   \n",
       "3        1                    子供が生まれた                 子供が生まれたのですね   \n",
       "4        2            VISAの勘定科目がわからない         VISAの勘定科目がわからないのですね   \n",
       "5        3  海外出張したときの旅費精算をしたいがどうしたら良い            海外出張の旅費精算したいんですね   \n",
       "6        4                   保険証を失くした                保険証を失くしたのですね   \n",
       "\n",
       "   question_answer_id  bot_id  \n",
       "0               13290      13  \n",
       "1               13291      13  \n",
       "2               13292      13  \n",
       "3                   1      13  \n",
       "4                   2      13  \n",
       "5                   3      13  \n",
       "6                   4      13  "
      ]
     },
     "execution_count": 3,
     "metadata": {},
     "output_type": "execute_result"
    }
   ],
   "source": [
    "import pandas as pd\n",
    "data = pd.read_csv('../fixtures/learning_training_messages/LSI_in_sckit_learn.csv')\n",
    "data"
   ]
  },
  {
   "cell_type": "code",
   "execution_count": 4,
   "metadata": {
    "collapsed": false
   },
   "outputs": [
    {
     "data": {
      "text/plain": [
       "[['育児', '短時間', '勤務', '申請', '書', 'いつ', '提出', 'する'],\n",
       " ['育児', '短時間', '勤務', '申請', '書', '曜日', '別', '申請', 'できる'],\n",
       " ['育児', '短時間', '勤務', '申請', 'どこ', '提出', 'する', 'よい']]"
      ]
     },
     "execution_count": 4,
     "metadata": {},
     "output_type": "execute_result"
    }
   ],
   "source": [
    "from tokenizer import MecabTokenizer\n",
    "questions = MecabTokenizer().tokenize(data['question'])\n",
    "questions[:3]"
   ]
  },
  {
   "cell_type": "code",
   "execution_count": 5,
   "metadata": {
    "collapsed": false
   },
   "outputs": [
    {
     "data": {
      "text/plain": [
       "<gensim.interfaces.TransformedCorpus at 0x10dfc8160>"
      ]
     },
     "execution_count": 5,
     "metadata": {},
     "output_type": "execute_result"
    }
   ],
   "source": [
    "tfidf = TfidfModel.load('../working/wiki.tfidf_model')\n",
    "id_corpus=[dictionary.doc2bow(sentence, allow_update=True) for sentence in questions]\n",
    "tfidf_corpus = tfidf[id_corpus]\n",
    "lsi_corpus = lsi[tfidf_corpus]\n",
    "lsi_corpus"
   ]
  },
  {
   "cell_type": "code",
   "execution_count": 6,
   "metadata": {
    "collapsed": false
   },
   "outputs": [
    {
     "name": "stdout",
     "output_type": "stream",
     "text": [
      "[['保険証', 'ない', 'する']]\n"
     ]
    },
    {
     "data": {
      "text/plain": [
       "[(0, 0.00011094020706942086),\n",
       " (1, 3.0193065867339513e-05),\n",
       " (2, 9.6321193365735345e-05)]"
      ]
     },
     "execution_count": 6,
     "metadata": {},
     "output_type": "execute_result"
    }
   ],
   "source": [
    "question = MecabTokenizer().tokenize(['保険証なくした'])\n",
    "print(question)\n",
    "id_q_corpus = dictionary.doc2bow(question[0], allow_update=True)\n",
    "lsi_q_corpus = lsi[tfidf[id_q_corpus]]\n",
    "lsi_q_corpus[:3]"
   ]
  },
  {
   "cell_type": "code",
   "execution_count": 7,
   "metadata": {
    "collapsed": false
   },
   "outputs": [],
   "source": [
    "from gensim.similarities import MatrixSimilarity, SparseMatrixSimilarity\n",
    "\n",
    "lsi_index = SparseMatrixSimilarity(lsi_corpus, num_features=1000)"
   ]
  },
  {
   "cell_type": "code",
   "execution_count": 8,
   "metadata": {
    "collapsed": false
   },
   "outputs": [
    {
     "data": {
      "text/plain": [
       "[(6, 1.0000001),\n",
       " (0, 0.13569847),\n",
       " (2, 0.1306518),\n",
       " (1, 0.11313108),\n",
       " (5, 0.11034351),\n",
       " (4, 0.012417819),\n",
       " (3, -0.016704276)]"
      ]
     },
     "execution_count": 8,
     "metadata": {},
     "output_type": "execute_result"
    }
   ],
   "source": [
    "sims = lsi_index[lsi_q_corpus]\n",
    "sims = sorted(enumerate(sims), key=lambda item: -item[1])\n",
    "sims"
   ]
  },
  {
   "cell_type": "code",
   "execution_count": null,
   "metadata": {
    "collapsed": true
   },
   "outputs": [],
   "source": []
  }
 ],
 "metadata": {
  "kernelspec": {
   "display_name": "Python 3",
   "language": "python",
   "name": "python3"
  },
  "language_info": {
   "codemirror_mode": {
    "name": "ipython",
    "version": 3
   },
   "file_extension": ".py",
   "mimetype": "text/x-python",
   "name": "python",
   "nbconvert_exporter": "python",
   "pygments_lexer": "ipython3",
   "version": "3.5.2"
  }
 },
 "nbformat": 4,
 "nbformat_minor": 2
}
