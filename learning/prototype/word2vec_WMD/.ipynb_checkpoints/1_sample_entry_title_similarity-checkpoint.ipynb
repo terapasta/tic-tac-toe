{
 "cells": [
  {
   "cell_type": "markdown",
   "metadata": {},
   "source": [
    "## word2vec + WMDでの類似検索サンプルを実装してみる\n",
    "- 参考\n",
    "    - https://medium.com/chakki/%E6%8A%80%E8%A1%93%E8%A8%98%E4%BA%8B%E3%81%AE%E3%82%BF%E3%82%A4%E3%83%88%E3%83%AB%E9%96%93%E3%81%AE%E9%A1%9E%E4%BC%BC%E6%80%A7%E3%82%92%E8%A8%88%E7%AE%97%E3%81%99%E3%82%8B-6348e89a7fb1"
   ]
  },
  {
   "cell_type": "markdown",
   "metadata": {},
   "source": [
    "ライブラリをインストールする\n",
    "\n",
    "```\n",
    "$ pip install gensim\n",
    "$ pip install pyemd\n",
    "```\n",
    "\n",
    "ひとまずサンプル実装用なので学習済みモデル(fastText)を使用する。以下からダウンロード出来る。\n",
    "https://qiita.com/Hironsan/items/513b9f93752ecee9e670"
   ]
  },
  {
   "cell_type": "code",
   "execution_count": 25,
   "metadata": {
    "collapsed": false
   },
   "outputs": [
    {
     "name": "stdout",
     "output_type": "stream",
     "text": [
      "model loaded\n"
     ]
    }
   ],
   "source": [
    "import gensim\n",
    "\n",
    "model = gensim.models.KeyedVectors.load_word2vec_format('model.vec', binary=False) \n",
    "print('model loaded')"
   ]
  },
  {
   "cell_type": "code",
   "execution_count": 32,
   "metadata": {
    "collapsed": false
   },
   "outputs": [
    {
     "data": {
      "text/plain": [
       "[('中国人', 0.7151615619659424),\n",
       " ('日系', 0.5991291403770447),\n",
       " ('外国', 0.5666396021842957),\n",
       " ('邦人', 0.5619237422943115),\n",
       " ('コリアン', 0.5443094968795776),\n",
       " ('華僑', 0.5377859473228455),\n",
       " ('在日', 0.5263140201568604),\n",
       " ('華人', 0.5200498104095459),\n",
       " ('在留', 0.5198684930801392),\n",
       " ('留学生', 0.5194666385650635)]"
      ]
     },
     "metadata": {},
     "output_type": "display_data"
    }
   ],
   "source": [
    "'''\n",
    "類似単語の取得を試す\n",
    "'''\n",
    "from IPython.core.display import display\n",
    "\n",
    "display(model.most_similar(positive=['日本人']))"
   ]
  },
  {
   "cell_type": "code",
   "execution_count": 42,
   "metadata": {
    "collapsed": false
   },
   "outputs": [
    {
     "data": {
      "text/plain": [
       "3.5437596969110965"
      ]
     },
     "metadata": {},
     "output_type": "display_data"
    },
    {
     "data": {
      "text/plain": [
       "2.7235367405164292"
      ]
     },
     "metadata": {},
     "output_type": "display_data"
    },
    {
     "data": {
      "text/plain": [
       "4.167257862078321"
      ]
     },
     "metadata": {},
     "output_type": "display_data"
    },
    {
     "data": {
      "text/plain": [
       "5.156096119802171"
      ]
     },
     "metadata": {},
     "output_type": "display_data"
    },
    {
     "data": {
      "text/plain": [
       "4.046956218889545"
      ]
     },
     "metadata": {},
     "output_type": "display_data"
    },
    {
     "data": {
      "text/plain": [
       "4.133545535026073"
      ]
     },
     "metadata": {},
     "output_type": "display_data"
    }
   ],
   "source": [
    "'''\n",
    "いくつか文章間の類似度を算出する。\n",
    "数値が小さいほうが類似度が高いことを示している。\n",
    "'''\n",
    "\n",
    "# ①\n",
    "sentence1 = ['こんにちは', '交通', '費', '申請']\n",
    "sentence2 = ['こんにちわ', '電車', '代', '申請']\n",
    "dis = model.wmdistance(sentence1, sentence2)\n",
    "display(dis)\n",
    "\n",
    "# ②\n",
    "sentence3 = ['交通', '費', '出る']\n",
    "dis = model.wmdistance(sentence1, sentence3)\n",
    "display(dis)\n",
    "\n",
    "# ③\n",
    "sentence4 = ['社員', '証', '申請']\n",
    "dis = model.wmdistance(sentence1, sentence4)\n",
    "display(dis)\n",
    "\n",
    "# ④\n",
    "sentence5 = ['電車', '代', '請求']\n",
    "dis = model.wmdistance(sentence1, sentence5)\n",
    "display(dis)\n",
    "\n",
    "# ⑤\n",
    "sentence6 = ['電車', '代', '申請']\n",
    "dis = model.wmdistance(sentence1, sentence6)\n",
    "display(dis)\n",
    "\n",
    "# ⑥\n",
    "sentence7 = ['こうつう', 'ひ', '申請']\n",
    "dis = model.wmdistance(sentence1, sentence7)\n",
    "display(dis)"
   ]
  },
  {
   "cell_type": "markdown",
   "metadata": {
    "collapsed": true
   },
   "source": [
    "- ①は、文章そのものの構造が似ているので、単語が異なっていても比較的類似度は高い\n",
    "- ②は、単語一致数は①より多いものの、①より類似度が高いと出ている。相違の数が少ないからか？\n",
    "- ③は、「申請」以外は一致していない、かつ意味も関連度がうすいため類似度は低い\n",
    "- ④は、意味的な類似性はあるはずだが、③より類似度が低かった。一致する単語が一つもないからか。\n",
    "- ⑤は、「申請」以外は一致していない。③よりもわずかに類似度が高く、意味がある程度解釈されていると考えることも出来ないこともない\n",
    "\n",
    "### わかったこと\n",
    "- ある程度文章間の妥当な類似度が計算出来ているようには思えるが、単語の意味的な関連性が十分に反映されていると判断するには難しい。\n",
    "- 漢字/ひらがな問題は十分には対処しきれているとは判断出来なかった"
   ]
  },
  {
   "cell_type": "code",
   "execution_count": null,
   "metadata": {
    "collapsed": true
   },
   "outputs": [],
   "source": []
  },
  {
   "cell_type": "code",
   "execution_count": null,
   "metadata": {
    "collapsed": true
   },
   "outputs": [],
   "source": []
  }
 ],
 "metadata": {
  "kernelspec": {
   "display_name": "Python 3",
   "language": "python",
   "name": "python3"
  },
  "language_info": {
   "codemirror_mode": {
    "name": "ipython",
    "version": 3
   },
   "file_extension": ".py",
   "mimetype": "text/x-python",
   "name": "python",
   "nbconvert_exporter": "python",
   "pygments_lexer": "ipython3",
   "version": "3.5.2"
  }
 },
 "nbformat": 4,
 "nbformat_minor": 2
}
