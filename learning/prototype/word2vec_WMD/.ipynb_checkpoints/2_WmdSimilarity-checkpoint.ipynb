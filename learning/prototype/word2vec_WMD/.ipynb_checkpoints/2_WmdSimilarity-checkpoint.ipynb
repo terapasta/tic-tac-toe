{
 "cells": [
  {
   "cell_type": "markdown",
   "metadata": {},
   "source": [
    "## WmdSimilarityで類似検索のサンプルを実装してみる\n",
    "- 参考\n",
    "    - https://markroxor.github.io/gensim/static/notebooks/WMD_tutorial.html"
   ]
  },
  {
   "cell_type": "code",
   "execution_count": 1,
   "metadata": {
    "collapsed": false
   },
   "outputs": [
    {
     "name": "stdout",
     "output_type": "stream",
     "text": [
      "model loaded\n"
     ]
    }
   ],
   "source": [
    "import gensim\n",
    "\n",
    "model = gensim.models.KeyedVectors.load_word2vec_format('model.vec', binary=False) \n",
    "print('model loaded')"
   ]
  },
  {
   "cell_type": "code",
   "execution_count": null,
   "metadata": {
    "collapsed": true
   },
   "outputs": [],
   "source": [
    "np.array([\n",
    "    ['こんにちは', '交通', '費', '申請']\n",
    "    ['海外', '日当' ]\n",
    "国内 出張 担当 者 を 教え て 下さい 。\n",
    "海外 出張 申請 ルート について 、 承認 者 を 変更 し たい が どう し たら よい か ？\n"
   ]
  }
 ],
 "metadata": {
  "kernelspec": {
   "display_name": "Python 3",
   "language": "python",
   "name": "python3"
  },
  "language_info": {
   "codemirror_mode": {
    "name": "ipython",
    "version": 3
   },
   "file_extension": ".py",
   "mimetype": "text/x-python",
   "name": "python",
   "nbconvert_exporter": "python",
   "pygments_lexer": "ipython3",
   "version": "3.5.2"
  }
 },
 "nbformat": 4,
 "nbformat_minor": 2
}
