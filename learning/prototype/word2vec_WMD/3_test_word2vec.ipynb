{
 "cells": [
  {
   "cell_type": "markdown",
   "metadata": {},
   "source": [
    "# word2vecの挙動を確認する"
   ]
  },
  {
   "cell_type": "code",
   "execution_count": 1,
   "metadata": {
    "collapsed": true
   },
   "outputs": [],
   "source": [
    "from gensim.models import KeyedVectors"
   ]
  },
  {
   "cell_type": "code",
   "execution_count": 2,
   "metadata": {
    "collapsed": false
   },
   "outputs": [
    {
     "name": "stdout",
     "output_type": "stream",
     "text": [
      "model loaded\n"
     ]
    }
   ],
   "source": [
    "model = KeyedVectors.load_word2vec_format('model.vec', binary=True)\n",
    "\n",
    "print('model loaded')"
   ]
  },
  {
   "cell_type": "code",
   "execution_count": 3,
   "metadata": {
    "collapsed": false
   },
   "outputs": [],
   "source": [
    "from gensim.models.word2vec import Word2Vec"
   ]
  },
  {
   "cell_type": "code",
   "execution_count": 4,
   "metadata": {
    "collapsed": false
   },
   "outputs": [
    {
     "data": {
      "text/plain": [
       "array([ -7.23709285e-01,   1.88759658e-02,   5.43161273e-01,\n",
       "         1.43577307e-01,   5.70250213e-01,   2.43271410e-01,\n",
       "         9.17903706e-02,   3.06424171e-01,  -3.41994941e-01,\n",
       "        -2.85300761e-01,  -1.28893167e-01,   3.38842452e-01,\n",
       "         2.50624299e-01,   1.11641787e-01,  -6.20470464e-01,\n",
       "         4.70917434e-01,   3.32915157e-01,  -5.02526224e-01,\n",
       "         2.24614680e-01,   3.84199679e-01,  -6.51292562e-01,\n",
       "         3.48061711e-01,   4.75467712e-01,  -6.16732948e-02,\n",
       "         6.05587810e-02,  -4.36736882e-01,  -3.72240067e-01,\n",
       "         8.62543508e-02,  -3.75325859e-01,  -1.04761068e-02,\n",
       "         7.46260166e-01,  -8.99853185e-02,   2.85969358e-02,\n",
       "        -1.63807109e-01,   4.98178124e-01,   4.55942482e-01,\n",
       "         6.25100955e-02,  -5.98474085e-01,   2.62162060e-01,\n",
       "        -1.84283312e-02,   9.55360234e-02,  -5.75984538e-01,\n",
       "        -6.33886874e-01,   4.59632039e-01,   4.45628613e-01,\n",
       "         5.34642220e-01,   2.12091003e-02,  -7.12478995e-01,\n",
       "         4.85079795e-01,  -5.04813790e-02,   6.25767469e-01,\n",
       "         3.05783357e-02,   5.31901240e-01,   1.49517669e-03,\n",
       "        -1.50417969e-01,  -1.98924348e-01,   4.32203114e-01,\n",
       "        -1.57275870e-01,  -2.72765428e-01,  -5.39346218e-01,\n",
       "        -1.73338741e-01,   1.93156544e-02,   6.06389642e-01,\n",
       "         4.06227827e-01,  -3.01365435e-01,  -2.28471935e-01,\n",
       "        -1.05099633e-01,   8.61887336e-02,  -3.27637017e-01,\n",
       "        -6.79046988e-01,   5.42537542e-04,  -6.01993859e-01,\n",
       "        -2.23885551e-01,  -1.10205328e+00,   1.00001526e+00,\n",
       "        -1.01941638e-01,  -2.72063296e-02,  -3.38624209e-01,\n",
       "        -4.13553447e-01,  -4.56736267e-01,   3.99440378e-01,\n",
       "        -2.02821679e-02,  -1.64914608e-01,  -1.29950875e-02,\n",
       "         6.89302742e-01,  -8.19034278e-01,  -4.23240542e-01,\n",
       "         2.02160403e-01,  -5.33476938e-03,   2.46253610e-01,\n",
       "         3.21769476e-01,  -1.10711828e-01,  -2.33009949e-01,\n",
       "        -5.69302440e-02,  -2.14496687e-01,   2.78377384e-01,\n",
       "         4.82383855e-02,   3.42108846e-01,  -1.51383266e-01,\n",
       "        -4.92106527e-02,  -1.60602540e-01,   8.62014532e-01,\n",
       "        -1.28024548e-01,  -5.12643278e-01,   6.73669994e-01,\n",
       "        -7.55795538e-01,  -1.73465729e-01,   3.17290783e-01,\n",
       "        -1.79043904e-01,   2.94444025e-01,   2.04900783e-02,\n",
       "        -5.45578122e-01,  -5.94455719e-01,  -8.12828243e-01,\n",
       "        -5.90256095e-01,  -1.45532697e-01,  -2.07422320e-02,\n",
       "        -1.80961236e-01,  -4.64726776e-01,   7.84086287e-02,\n",
       "         2.17620507e-01,  -5.21407008e-01,  -5.62647104e-01,\n",
       "        -1.51397109e-01,   7.88296998e-01,   3.18080187e-01,\n",
       "        -3.60113859e-01,   7.77677353e-03,   5.71764559e-02,\n",
       "        -6.11925572e-02,   3.31886947e-01,   1.59076266e-02,\n",
       "        -2.74459511e-01,   2.17188045e-01,  -1.25433162e-01,\n",
       "         1.07034169e-01,  -4.07752275e-01,  -3.57154131e-01,\n",
       "         3.18558812e-01,  -1.86685339e-01,   3.59456599e-01,\n",
       "        -1.27279907e-01,   9.55377817e-02,   1.36086613e-01,\n",
       "         2.17331201e-01,   1.26217648e-01,   1.52575240e-01,\n",
       "        -6.63237274e-01,   3.53672467e-02,   4.49708849e-01,\n",
       "         8.18430185e-02,  -6.14855707e-01,  -4.77567285e-01,\n",
       "        -2.61607796e-01,  -9.63339746e-01,  -1.15705252e-01,\n",
       "        -2.57686943e-01,  -1.07309982e-01,   2.92936802e-01,\n",
       "        -1.72150940e-01,   3.42359602e-01,   9.93952006e-02,\n",
       "        -5.82474828e-01,  -5.37073731e-01,  -2.43666828e-01,\n",
       "        -3.09387088e-01,   2.66334265e-02,   3.99893224e-01,\n",
       "         1.24532707e-01,   1.06360745e+00,  -7.24881962e-02,\n",
       "         3.77297878e-01,  -4.57261242e-02,  -3.41035545e-01,\n",
       "         7.82983780e-01,  -3.68592776e-02,  -6.02372706e-01,\n",
       "         7.76169002e-01,   5.47590673e-01,   2.87997216e-01,\n",
       "        -5.05984068e-01,  -6.34840846e-01,  -3.74534428e-01,\n",
       "         1.42718047e-01,  -6.27950728e-02,   1.76246762e-02,\n",
       "         5.53666770e-01,   1.70033395e-01,   5.86594522e-01,\n",
       "        -4.76054326e-02,   1.89473599e-01,   8.49855542e-02,\n",
       "        -9.91485864e-02,   6.98461473e-01,   9.42999423e-02,\n",
       "         4.33114022e-01,  -5.20343304e-01,  -3.18632483e-01,\n",
       "        -2.08333224e-01,  -3.84099782e-01], dtype=float32)"
      ]
     },
     "execution_count": 4,
     "metadata": {},
     "output_type": "execute_result"
    }
   ],
   "source": [
    "model['日当']"
   ]
  },
  {
   "cell_type": "code",
   "execution_count": 5,
   "metadata": {
    "collapsed": false
   },
   "outputs": [
    {
     "ename": "KeyError",
     "evalue": "\"word 'MYOPE_QA_ID:0' not in vocabulary\"",
     "output_type": "error",
     "traceback": [
      "\u001b[0;31m---------------------------------------------------------------------------\u001b[0m",
      "\u001b[0;31mKeyError\u001b[0m                                  Traceback (most recent call last)",
      "\u001b[0;32m<ipython-input-5-1d524b3d0f59>\u001b[0m in \u001b[0;36m<module>\u001b[0;34m()\u001b[0m\n\u001b[0;32m----> 1\u001b[0;31m \u001b[0mmodel\u001b[0m\u001b[0;34m[\u001b[0m\u001b[0;34m'MYOPE_QA_ID:0'\u001b[0m\u001b[0;34m]\u001b[0m\u001b[0;34m\u001b[0m\u001b[0m\n\u001b[0m",
      "\u001b[0;32m/Users/shwld/.pyenv/versions/3.5.2/envs/donusagi-bot3/lib/python3.5/site-packages/gensim/models/keyedvectors.py\u001b[0m in \u001b[0;36m__getitem__\u001b[0;34m(self, words)\u001b[0m\n\u001b[1;32m    587\u001b[0m         \u001b[0;32mif\u001b[0m \u001b[0misinstance\u001b[0m\u001b[0;34m(\u001b[0m\u001b[0mwords\u001b[0m\u001b[0;34m,\u001b[0m \u001b[0mstring_types\u001b[0m\u001b[0;34m)\u001b[0m\u001b[0;34m:\u001b[0m\u001b[0;34m\u001b[0m\u001b[0m\n\u001b[1;32m    588\u001b[0m             \u001b[0;31m# allow calls like trained_model['office'], as a shorthand for trained_model[['office']]\u001b[0m\u001b[0;34m\u001b[0m\u001b[0;34m\u001b[0m\u001b[0m\n\u001b[0;32m--> 589\u001b[0;31m             \u001b[0;32mreturn\u001b[0m \u001b[0mself\u001b[0m\u001b[0;34m.\u001b[0m\u001b[0mword_vec\u001b[0m\u001b[0;34m(\u001b[0m\u001b[0mwords\u001b[0m\u001b[0;34m)\u001b[0m\u001b[0;34m\u001b[0m\u001b[0m\n\u001b[0m\u001b[1;32m    590\u001b[0m \u001b[0;34m\u001b[0m\u001b[0m\n\u001b[1;32m    591\u001b[0m         \u001b[0;32mreturn\u001b[0m \u001b[0mvstack\u001b[0m\u001b[0;34m(\u001b[0m\u001b[0;34m[\u001b[0m\u001b[0mself\u001b[0m\u001b[0;34m.\u001b[0m\u001b[0mword_vec\u001b[0m\u001b[0;34m(\u001b[0m\u001b[0mword\u001b[0m\u001b[0;34m)\u001b[0m \u001b[0;32mfor\u001b[0m \u001b[0mword\u001b[0m \u001b[0;32min\u001b[0m \u001b[0mwords\u001b[0m\u001b[0;34m]\u001b[0m\u001b[0;34m)\u001b[0m\u001b[0;34m\u001b[0m\u001b[0m\n",
      "\u001b[0;32m/Users/shwld/.pyenv/versions/3.5.2/envs/donusagi-bot3/lib/python3.5/site-packages/gensim/models/keyedvectors.py\u001b[0m in \u001b[0;36mword_vec\u001b[0;34m(self, word, use_norm)\u001b[0m\n\u001b[1;32m    286\u001b[0m                 \u001b[0;32mreturn\u001b[0m \u001b[0mself\u001b[0m\u001b[0;34m.\u001b[0m\u001b[0msyn0\u001b[0m\u001b[0;34m[\u001b[0m\u001b[0mself\u001b[0m\u001b[0;34m.\u001b[0m\u001b[0mvocab\u001b[0m\u001b[0;34m[\u001b[0m\u001b[0mword\u001b[0m\u001b[0;34m]\u001b[0m\u001b[0;34m.\u001b[0m\u001b[0mindex\u001b[0m\u001b[0;34m]\u001b[0m\u001b[0;34m\u001b[0m\u001b[0m\n\u001b[1;32m    287\u001b[0m         \u001b[0;32melse\u001b[0m\u001b[0;34m:\u001b[0m\u001b[0;34m\u001b[0m\u001b[0m\n\u001b[0;32m--> 288\u001b[0;31m             \u001b[0;32mraise\u001b[0m \u001b[0mKeyError\u001b[0m\u001b[0;34m(\u001b[0m\u001b[0;34m\"word '%s' not in vocabulary\"\u001b[0m \u001b[0;34m%\u001b[0m \u001b[0mword\u001b[0m\u001b[0;34m)\u001b[0m\u001b[0;34m\u001b[0m\u001b[0m\n\u001b[0m\u001b[1;32m    289\u001b[0m \u001b[0;34m\u001b[0m\u001b[0m\n\u001b[1;32m    290\u001b[0m     \u001b[0;32mdef\u001b[0m \u001b[0mmost_similar\u001b[0m\u001b[0;34m(\u001b[0m\u001b[0mself\u001b[0m\u001b[0;34m,\u001b[0m \u001b[0mpositive\u001b[0m\u001b[0;34m=\u001b[0m\u001b[0;34m[\u001b[0m\u001b[0;34m]\u001b[0m\u001b[0;34m,\u001b[0m \u001b[0mnegative\u001b[0m\u001b[0;34m=\u001b[0m\u001b[0;34m[\u001b[0m\u001b[0;34m]\u001b[0m\u001b[0;34m,\u001b[0m \u001b[0mtopn\u001b[0m\u001b[0;34m=\u001b[0m\u001b[0;36m10\u001b[0m\u001b[0;34m,\u001b[0m \u001b[0mrestrict_vocab\u001b[0m\u001b[0;34m=\u001b[0m\u001b[0;32mNone\u001b[0m\u001b[0;34m,\u001b[0m \u001b[0mindexer\u001b[0m\u001b[0;34m=\u001b[0m\u001b[0;32mNone\u001b[0m\u001b[0;34m)\u001b[0m\u001b[0;34m:\u001b[0m\u001b[0;34m\u001b[0m\u001b[0m\n",
      "\u001b[0;31mKeyError\u001b[0m: \"word 'MYOPE_QA_ID:0' not in vocabulary\""
     ]
    }
   ],
   "source": [
    "model['MYOPE_QA_ID:0']"
   ]
  },
  {
   "cell_type": "markdown",
   "metadata": {},
   "source": [
    "ボキャブラリがない場合はエラーになる"
   ]
  },
  {
   "cell_type": "code",
   "execution_count": 6,
   "metadata": {
    "collapsed": true
   },
   "outputs": [],
   "source": [
    "from gensim.similarities.docsim import WmdSimilarity\n",
    "import numpy as np\n",
    "\n",
    "corpus = np.array([\n",
    "    ['こんにちは', '交通', '費', '申請'],\n",
    "    ['海外', '日当' 'MYOPE_QA_ID:888'],\n",
    "    ['国内', '出張', '担当', '者', '教え', '下さい'],\n",
    "    ['海外', '出張', '申請', 'ルート', '承認', '者', '変更', 'MYOPE_QA_ID:999']\n",
    "])"
   ]
  },
  {
   "cell_type": "code",
   "execution_count": 7,
   "metadata": {
    "collapsed": false
   },
   "outputs": [],
   "source": [
    "wmd = WmdSimilarity(corpus, model, num_best=10)"
   ]
  },
  {
   "cell_type": "code",
   "execution_count": 8,
   "metadata": {
    "collapsed": false
   },
   "outputs": [
    {
     "data": {
      "text/plain": [
       "[(3, 0.42747335809607512),\n",
       " (0, 0.42612267237868551),\n",
       " (1, 0.41935011413942114),\n",
       " (2, 0.41906706063564897)]"
      ]
     },
     "execution_count": 8,
     "metadata": {},
     "output_type": "execute_result"
    }
   ],
   "source": [
    "wmd['MYOPE_QA_ID:999']"
   ]
  },
  {
   "cell_type": "code",
   "execution_count": 9,
   "metadata": {
    "collapsed": false
   },
   "outputs": [
    {
     "data": {
      "text/plain": [
       "[(1, 0.60361194695176656),\n",
       " (3, 0.47628312326919181),\n",
       " (2, 0.44740058255077148),\n",
       " (0, 0.44600532859279046)]"
      ]
     },
     "execution_count": 9,
     "metadata": {},
     "output_type": "execute_result"
    }
   ],
   "source": [
    "wmd[['海外', '日当', 'MYOPE_QA_ID:0']]"
   ]
  },
  {
   "cell_type": "code",
   "execution_count": 10,
   "metadata": {
    "collapsed": false
   },
   "outputs": [
    {
     "data": {
      "text/plain": [
       "[(1, 0.60361194695176656),\n",
       " (3, 0.47628312326919181),\n",
       " (2, 0.44740058255077148),\n",
       " (0, 0.44600532859279046)]"
      ]
     },
     "execution_count": 10,
     "metadata": {},
     "output_type": "execute_result"
    }
   ],
   "source": [
    "wmd[['海外', '日当']]"
   ]
  },
  {
   "cell_type": "code",
   "execution_count": 11,
   "metadata": {
    "collapsed": false
   },
   "outputs": [
    {
     "data": {
      "text/plain": [
       "[(1, 0.60361194695176656),\n",
       " (3, 0.47628312326919181),\n",
       " (2, 0.44740058255077148),\n",
       " (0, 0.44600532859279046)]"
      ]
     },
     "execution_count": 11,
     "metadata": {},
     "output_type": "execute_result"
    }
   ],
   "source": [
    "wmd[['海外', '日当', 'MYOPE_QA_ID:888']]"
   ]
  },
  {
   "cell_type": "markdown",
   "metadata": {},
   "source": [
    "MYOPE_QA_IDを変えても同じスコアが出た\n",
    "\n",
    "wmd自体には他にメソッドがないため確認できなかったが、MYOPE_QA_IDを無視されてそうな挙動"
   ]
  },
  {
   "cell_type": "markdown",
   "metadata": {},
   "source": [
    "### wmdistanceをみてみる\n",
    "\n",
    "build_vocabで単語を登録してみたい"
   ]
  },
  {
   "cell_type": "code",
   "execution_count": 13,
   "metadata": {
    "collapsed": false
   },
   "outputs": [
    {
     "name": "stdout",
     "output_type": "stream",
     "text": [
      "inf\n",
      "1.3133870363235474\n",
      "inf\n",
      "inf\n"
     ]
    },
    {
     "ename": "ValueError",
     "evalue": "all the input array dimensions except for the concatenation axis must match exactly",
     "output_type": "error",
     "traceback": [
      "\u001b[0;31m---------------------------------------------------------------------------\u001b[0m",
      "\u001b[0;31mValueError\u001b[0m                                Traceback (most recent call last)",
      "\u001b[0;32m<ipython-input-13-8e264387bd39>\u001b[0m in \u001b[0;36m<module>\u001b[0;34m()\u001b[0m\n\u001b[1;32m      9\u001b[0m \u001b[0msentences\u001b[0m \u001b[0;34m=\u001b[0m \u001b[0;34m[\u001b[0m\u001b[0;34m[\u001b[0m\u001b[0;34m'海外'\u001b[0m\u001b[0;34m,\u001b[0m \u001b[0;34m'出張'\u001b[0m\u001b[0;34m,\u001b[0m \u001b[0;34m'申請'\u001b[0m\u001b[0;34m,\u001b[0m \u001b[0;34m'ルート'\u001b[0m\u001b[0;34m,\u001b[0m \u001b[0;34m'承認'\u001b[0m\u001b[0;34m,\u001b[0m \u001b[0;34m'者'\u001b[0m\u001b[0;34m,\u001b[0m \u001b[0;34m'変更'\u001b[0m\u001b[0;34m,\u001b[0m \u001b[0;34m'MYOPE_QA_ID:999'\u001b[0m\u001b[0;34m]\u001b[0m\u001b[0;34m,\u001b[0m \u001b[0;34m[\u001b[0m\u001b[0;34m'海外'\u001b[0m\u001b[0;34m,\u001b[0m \u001b[0;34m'日当'\u001b[0m \u001b[0;34m'MYOPE_QA_ID:888'\u001b[0m\u001b[0;34m]\u001b[0m\u001b[0;34m]\u001b[0m\u001b[0;34m\u001b[0m\u001b[0m\n\u001b[1;32m     10\u001b[0m \u001b[0mw2v\u001b[0m\u001b[0;34m.\u001b[0m\u001b[0mscan_vocab\u001b[0m\u001b[0;34m(\u001b[0m\u001b[0msentences\u001b[0m\u001b[0;34m)\u001b[0m\u001b[0;34m\u001b[0m\u001b[0m\n\u001b[0;32m---> 11\u001b[0;31m \u001b[0mw2v\u001b[0m\u001b[0;34m.\u001b[0m\u001b[0mbuild_vocab\u001b[0m\u001b[0;34m(\u001b[0m\u001b[0msentences\u001b[0m\u001b[0;34m,\u001b[0m \u001b[0mupdate\u001b[0m\u001b[0;34m=\u001b[0m\u001b[0;32mTrue\u001b[0m\u001b[0;34m)\u001b[0m\u001b[0;34m\u001b[0m\u001b[0m\n\u001b[0m\u001b[1;32m     12\u001b[0m \u001b[0mprint\u001b[0m\u001b[0;34m(\u001b[0m\u001b[0mw2v\u001b[0m\u001b[0;34m.\u001b[0m\u001b[0mwmdistance\u001b[0m\u001b[0;34m(\u001b[0m\u001b[0;34m[\u001b[0m\u001b[0;34m'ほげほげ'\u001b[0m\u001b[0;34m,\u001b[0m \u001b[0;34m'MYOPE_QA_ID:888'\u001b[0m\u001b[0;34m]\u001b[0m\u001b[0;34m,\u001b[0m \u001b[0;34m[\u001b[0m\u001b[0;34m'日当'\u001b[0m\u001b[0;34m]\u001b[0m\u001b[0;34m)\u001b[0m\u001b[0;34m)\u001b[0m\u001b[0;34m\u001b[0m\u001b[0m\n",
      "\u001b[0;32m/Users/shwld/.pyenv/versions/3.5.2/envs/donusagi-bot3/lib/python3.5/site-packages/gensim/models/word2vec.py\u001b[0m in \u001b[0;36mbuild_vocab\u001b[0;34m(self, sentences, keep_raw_vocab, trim_rule, progress_per, update)\u001b[0m\n\u001b[1;32m    577\u001b[0m         \u001b[0mself\u001b[0m\u001b[0;34m.\u001b[0m\u001b[0mscan_vocab\u001b[0m\u001b[0;34m(\u001b[0m\u001b[0msentences\u001b[0m\u001b[0;34m,\u001b[0m \u001b[0mprogress_per\u001b[0m\u001b[0;34m=\u001b[0m\u001b[0mprogress_per\u001b[0m\u001b[0;34m,\u001b[0m \u001b[0mtrim_rule\u001b[0m\u001b[0;34m=\u001b[0m\u001b[0mtrim_rule\u001b[0m\u001b[0;34m)\u001b[0m  \u001b[0;31m# initial survey\u001b[0m\u001b[0;34m\u001b[0m\u001b[0m\n\u001b[1;32m    578\u001b[0m         \u001b[0mself\u001b[0m\u001b[0;34m.\u001b[0m\u001b[0mscale_vocab\u001b[0m\u001b[0;34m(\u001b[0m\u001b[0mkeep_raw_vocab\u001b[0m\u001b[0;34m=\u001b[0m\u001b[0mkeep_raw_vocab\u001b[0m\u001b[0;34m,\u001b[0m \u001b[0mtrim_rule\u001b[0m\u001b[0;34m=\u001b[0m\u001b[0mtrim_rule\u001b[0m\u001b[0;34m,\u001b[0m \u001b[0mupdate\u001b[0m\u001b[0;34m=\u001b[0m\u001b[0mupdate\u001b[0m\u001b[0;34m)\u001b[0m  \u001b[0;31m# trim by min_count & precalculate downsampling\u001b[0m\u001b[0;34m\u001b[0m\u001b[0m\n\u001b[0;32m--> 579\u001b[0;31m         \u001b[0mself\u001b[0m\u001b[0;34m.\u001b[0m\u001b[0mfinalize_vocab\u001b[0m\u001b[0;34m(\u001b[0m\u001b[0mupdate\u001b[0m\u001b[0;34m=\u001b[0m\u001b[0mupdate\u001b[0m\u001b[0;34m)\u001b[0m  \u001b[0;31m# build tables & arrays\u001b[0m\u001b[0;34m\u001b[0m\u001b[0m\n\u001b[0m\u001b[1;32m    580\u001b[0m \u001b[0;34m\u001b[0m\u001b[0m\n\u001b[1;32m    581\u001b[0m     \u001b[0;32mdef\u001b[0m \u001b[0mscan_vocab\u001b[0m\u001b[0;34m(\u001b[0m\u001b[0mself\u001b[0m\u001b[0;34m,\u001b[0m \u001b[0msentences\u001b[0m\u001b[0;34m,\u001b[0m \u001b[0mprogress_per\u001b[0m\u001b[0;34m=\u001b[0m\u001b[0;36m10000\u001b[0m\u001b[0;34m,\u001b[0m \u001b[0mtrim_rule\u001b[0m\u001b[0;34m=\u001b[0m\u001b[0;32mNone\u001b[0m\u001b[0;34m)\u001b[0m\u001b[0;34m:\u001b[0m\u001b[0;34m\u001b[0m\u001b[0m\n",
      "\u001b[0;32m/Users/shwld/.pyenv/versions/3.5.2/envs/donusagi-bot3/lib/python3.5/site-packages/gensim/models/word2vec.py\u001b[0m in \u001b[0;36mfinalize_vocab\u001b[0;34m(self, update)\u001b[0m\n\u001b[1;32m    752\u001b[0m             \u001b[0mself\u001b[0m\u001b[0;34m.\u001b[0m\u001b[0mreset_weights\u001b[0m\u001b[0;34m(\u001b[0m\u001b[0;34m)\u001b[0m\u001b[0;34m\u001b[0m\u001b[0m\n\u001b[1;32m    753\u001b[0m         \u001b[0;32melse\u001b[0m\u001b[0;34m:\u001b[0m\u001b[0;34m\u001b[0m\u001b[0m\n\u001b[0;32m--> 754\u001b[0;31m             \u001b[0mself\u001b[0m\u001b[0;34m.\u001b[0m\u001b[0mupdate_weights\u001b[0m\u001b[0;34m(\u001b[0m\u001b[0;34m)\u001b[0m\u001b[0;34m\u001b[0m\u001b[0m\n\u001b[0m\u001b[1;32m    755\u001b[0m \u001b[0;34m\u001b[0m\u001b[0m\n\u001b[1;32m    756\u001b[0m     \u001b[0;32mdef\u001b[0m \u001b[0msort_vocab\u001b[0m\u001b[0;34m(\u001b[0m\u001b[0mself\u001b[0m\u001b[0;34m)\u001b[0m\u001b[0;34m:\u001b[0m\u001b[0;34m\u001b[0m\u001b[0m\n",
      "\u001b[0;32m/Users/shwld/.pyenv/versions/3.5.2/envs/donusagi-bot3/lib/python3.5/site-packages/gensim/models/word2vec.py\u001b[0m in \u001b[0;36mupdate_weights\u001b[0;34m(self)\u001b[0m\n\u001b[1;32m   1149\u001b[0m                 \"before doing an online update.\")\n\u001b[1;32m   1150\u001b[0m \u001b[0;34m\u001b[0m\u001b[0m\n\u001b[0;32m-> 1151\u001b[0;31m         \u001b[0mself\u001b[0m\u001b[0;34m.\u001b[0m\u001b[0mwv\u001b[0m\u001b[0;34m.\u001b[0m\u001b[0msyn0\u001b[0m \u001b[0;34m=\u001b[0m \u001b[0mvstack\u001b[0m\u001b[0;34m(\u001b[0m\u001b[0;34m[\u001b[0m\u001b[0mself\u001b[0m\u001b[0;34m.\u001b[0m\u001b[0mwv\u001b[0m\u001b[0;34m.\u001b[0m\u001b[0msyn0\u001b[0m\u001b[0;34m,\u001b[0m \u001b[0mnewsyn0\u001b[0m\u001b[0;34m]\u001b[0m\u001b[0;34m)\u001b[0m\u001b[0;34m\u001b[0m\u001b[0m\n\u001b[0m\u001b[1;32m   1152\u001b[0m \u001b[0;34m\u001b[0m\u001b[0m\n\u001b[1;32m   1153\u001b[0m         \u001b[0;32mif\u001b[0m \u001b[0mself\u001b[0m\u001b[0;34m.\u001b[0m\u001b[0mhs\u001b[0m\u001b[0;34m:\u001b[0m\u001b[0;34m\u001b[0m\u001b[0m\n",
      "\u001b[0;32m/Users/shwld/.pyenv/versions/3.5.2/envs/donusagi-bot3/lib/python3.5/site-packages/numpy/core/shape_base.py\u001b[0m in \u001b[0;36mvstack\u001b[0;34m(tup)\u001b[0m\n\u001b[1;32m    228\u001b[0m \u001b[0;34m\u001b[0m\u001b[0m\n\u001b[1;32m    229\u001b[0m     \"\"\"\n\u001b[0;32m--> 230\u001b[0;31m     \u001b[0;32mreturn\u001b[0m \u001b[0m_nx\u001b[0m\u001b[0;34m.\u001b[0m\u001b[0mconcatenate\u001b[0m\u001b[0;34m(\u001b[0m\u001b[0;34m[\u001b[0m\u001b[0matleast_2d\u001b[0m\u001b[0;34m(\u001b[0m\u001b[0m_m\u001b[0m\u001b[0;34m)\u001b[0m \u001b[0;32mfor\u001b[0m \u001b[0m_m\u001b[0m \u001b[0;32min\u001b[0m \u001b[0mtup\u001b[0m\u001b[0;34m]\u001b[0m\u001b[0;34m,\u001b[0m \u001b[0;36m0\u001b[0m\u001b[0;34m)\u001b[0m\u001b[0;34m\u001b[0m\u001b[0m\n\u001b[0m\u001b[1;32m    231\u001b[0m \u001b[0;34m\u001b[0m\u001b[0m\n\u001b[1;32m    232\u001b[0m \u001b[0;32mdef\u001b[0m \u001b[0mhstack\u001b[0m\u001b[0;34m(\u001b[0m\u001b[0mtup\u001b[0m\u001b[0;34m)\u001b[0m\u001b[0;34m:\u001b[0m\u001b[0;34m\u001b[0m\u001b[0m\n",
      "\u001b[0;31mValueError\u001b[0m: all the input array dimensions except for the concatenation axis must match exactly"
     ]
    }
   ],
   "source": [
    "import copy\n",
    "\n",
    "w2v = Word2Vec()\n",
    "print(w2v.wmdistance(['海外'], ['日当']))\n",
    "w2v.wv = copy.deepcopy(model)\n",
    "print(w2v.wmdistance(['海外'], ['日当']))\n",
    "print(w2v.wmdistance(['MYOPE_QA_ID:888'], ['日当']))\n",
    "print(w2v.wmdistance(['MYOPE_QA_ID:888'], ['MYOPE_QA_ID:999']))\n",
    "sentences = [['海外', '出張', '申請', 'ルート', '承認', '者', '変更', 'MYOPE_QA_ID:999'], ['海外', '日当' 'MYOPE_QA_ID:888']]\n",
    "w2v.scan_vocab(sentences)\n",
    "w2v.build_vocab(sentences, update=True)\n",
    "print(w2v.wmdistance(['ほげほげ', 'MYOPE_QA_ID:888'], ['日当']))"
   ]
  },
  {
   "cell_type": "markdown",
   "metadata": {
    "collapsed": true
   },
   "source": [
    "登録されていないvocabは値がないために距離がinf(無限)になる?\n",
    "\n",
    "https://github.com/RaRe-Technologies/gensim/issues/1162\n",
    "\n",
    "> 単語がない場合（おそらく、新しい素材が以前のトレーニングでは非常に小さいか、または非常に冗長であるため）、後続のトレーニングがモデルにとって実質的なメリットではない場合もあります。 （このインクリメンタル・ボキャブラリー拡張オプションは実験的な機能と見なされるのが最善であり、使用ごとに慎重に評価する必要があります。実際の「オンライン」トレーニング・オプションではありません。小さな/冗長な新しいバッチを使用してupdate-vocabを簡単に呼び出すプロセスには注意が必要です。\n",
    "\n",
    "vocablaryを追加する方法、このエラーの解決法がわからない"
   ]
  },
  {
   "cell_type": "code",
   "execution_count": 14,
   "metadata": {
    "collapsed": false
   },
   "outputs": [],
   "source": [
    "w2v = Word2Vec(['テスト', '日当'], min_count=1)\n",
    "w2v.scale_vocab(min_count=1)\n",
    "w2v.build_vocab(sentences, update=True)\n",
    "\n",
    "## これなら通る"
   ]
  },
  {
   "cell_type": "code",
   "execution_count": 15,
   "metadata": {
    "collapsed": false
   },
   "outputs": [
    {
     "ename": "ValueError",
     "evalue": "negative dimensions are not allowed",
     "output_type": "error",
     "traceback": [
      "\u001b[0;31m---------------------------------------------------------------------------\u001b[0m",
      "\u001b[0;31mValueError\u001b[0m                                Traceback (most recent call last)",
      "\u001b[0;32m<ipython-input-15-23aaabdeeae4>\u001b[0m in \u001b[0;36m<module>\u001b[0;34m()\u001b[0m\n\u001b[1;32m      2\u001b[0m \u001b[0mw2v\u001b[0m\u001b[0;34m.\u001b[0m\u001b[0mwv\u001b[0m \u001b[0;34m=\u001b[0m \u001b[0mcopy\u001b[0m\u001b[0;34m.\u001b[0m\u001b[0mdeepcopy\u001b[0m\u001b[0;34m(\u001b[0m\u001b[0mmodel\u001b[0m\u001b[0;34m)\u001b[0m\u001b[0;34m\u001b[0m\u001b[0m\n\u001b[1;32m      3\u001b[0m \u001b[0mw2v\u001b[0m\u001b[0;34m.\u001b[0m\u001b[0mscale_vocab\u001b[0m\u001b[0;34m(\u001b[0m\u001b[0mmin_count\u001b[0m\u001b[0;34m=\u001b[0m\u001b[0;36m1\u001b[0m\u001b[0;34m)\u001b[0m\u001b[0;34m\u001b[0m\u001b[0m\n\u001b[0;32m----> 4\u001b[0;31m \u001b[0mw2v\u001b[0m\u001b[0;34m.\u001b[0m\u001b[0mbuild_vocab\u001b[0m\u001b[0;34m(\u001b[0m\u001b[0msentences\u001b[0m\u001b[0;34m,\u001b[0m \u001b[0mupdate\u001b[0m\u001b[0;34m=\u001b[0m\u001b[0;32mTrue\u001b[0m\u001b[0;34m)\u001b[0m\u001b[0;34m\u001b[0m\u001b[0m\n\u001b[0m\u001b[1;32m      5\u001b[0m \u001b[0;34m\u001b[0m\u001b[0m\n\u001b[1;32m      6\u001b[0m \u001b[0;31m## これは通らない\u001b[0m\u001b[0;34m\u001b[0m\u001b[0;34m\u001b[0m\u001b[0m\n",
      "\u001b[0;32m/Users/shwld/.pyenv/versions/3.5.2/envs/donusagi-bot3/lib/python3.5/site-packages/gensim/models/word2vec.py\u001b[0m in \u001b[0;36mbuild_vocab\u001b[0;34m(self, sentences, keep_raw_vocab, trim_rule, progress_per, update)\u001b[0m\n\u001b[1;32m    577\u001b[0m         \u001b[0mself\u001b[0m\u001b[0;34m.\u001b[0m\u001b[0mscan_vocab\u001b[0m\u001b[0;34m(\u001b[0m\u001b[0msentences\u001b[0m\u001b[0;34m,\u001b[0m \u001b[0mprogress_per\u001b[0m\u001b[0;34m=\u001b[0m\u001b[0mprogress_per\u001b[0m\u001b[0;34m,\u001b[0m \u001b[0mtrim_rule\u001b[0m\u001b[0;34m=\u001b[0m\u001b[0mtrim_rule\u001b[0m\u001b[0;34m)\u001b[0m  \u001b[0;31m# initial survey\u001b[0m\u001b[0;34m\u001b[0m\u001b[0m\n\u001b[1;32m    578\u001b[0m         \u001b[0mself\u001b[0m\u001b[0;34m.\u001b[0m\u001b[0mscale_vocab\u001b[0m\u001b[0;34m(\u001b[0m\u001b[0mkeep_raw_vocab\u001b[0m\u001b[0;34m=\u001b[0m\u001b[0mkeep_raw_vocab\u001b[0m\u001b[0;34m,\u001b[0m \u001b[0mtrim_rule\u001b[0m\u001b[0;34m=\u001b[0m\u001b[0mtrim_rule\u001b[0m\u001b[0;34m,\u001b[0m \u001b[0mupdate\u001b[0m\u001b[0;34m=\u001b[0m\u001b[0mupdate\u001b[0m\u001b[0;34m)\u001b[0m  \u001b[0;31m# trim by min_count & precalculate downsampling\u001b[0m\u001b[0;34m\u001b[0m\u001b[0m\n\u001b[0;32m--> 579\u001b[0;31m         \u001b[0mself\u001b[0m\u001b[0;34m.\u001b[0m\u001b[0mfinalize_vocab\u001b[0m\u001b[0;34m(\u001b[0m\u001b[0mupdate\u001b[0m\u001b[0;34m=\u001b[0m\u001b[0mupdate\u001b[0m\u001b[0;34m)\u001b[0m  \u001b[0;31m# build tables & arrays\u001b[0m\u001b[0;34m\u001b[0m\u001b[0m\n\u001b[0m\u001b[1;32m    580\u001b[0m \u001b[0;34m\u001b[0m\u001b[0m\n\u001b[1;32m    581\u001b[0m     \u001b[0;32mdef\u001b[0m \u001b[0mscan_vocab\u001b[0m\u001b[0;34m(\u001b[0m\u001b[0mself\u001b[0m\u001b[0;34m,\u001b[0m \u001b[0msentences\u001b[0m\u001b[0;34m,\u001b[0m \u001b[0mprogress_per\u001b[0m\u001b[0;34m=\u001b[0m\u001b[0;36m10000\u001b[0m\u001b[0;34m,\u001b[0m \u001b[0mtrim_rule\u001b[0m\u001b[0;34m=\u001b[0m\u001b[0;32mNone\u001b[0m\u001b[0;34m)\u001b[0m\u001b[0;34m:\u001b[0m\u001b[0;34m\u001b[0m\u001b[0m\n",
      "\u001b[0;32m/Users/shwld/.pyenv/versions/3.5.2/envs/donusagi-bot3/lib/python3.5/site-packages/gensim/models/word2vec.py\u001b[0m in \u001b[0;36mfinalize_vocab\u001b[0;34m(self, update)\u001b[0m\n\u001b[1;32m    752\u001b[0m             \u001b[0mself\u001b[0m\u001b[0;34m.\u001b[0m\u001b[0mreset_weights\u001b[0m\u001b[0;34m(\u001b[0m\u001b[0;34m)\u001b[0m\u001b[0;34m\u001b[0m\u001b[0m\n\u001b[1;32m    753\u001b[0m         \u001b[0;32melse\u001b[0m\u001b[0;34m:\u001b[0m\u001b[0;34m\u001b[0m\u001b[0m\n\u001b[0;32m--> 754\u001b[0;31m             \u001b[0mself\u001b[0m\u001b[0;34m.\u001b[0m\u001b[0mupdate_weights\u001b[0m\u001b[0;34m(\u001b[0m\u001b[0;34m)\u001b[0m\u001b[0;34m\u001b[0m\u001b[0m\n\u001b[0m\u001b[1;32m    755\u001b[0m \u001b[0;34m\u001b[0m\u001b[0m\n\u001b[1;32m    756\u001b[0m     \u001b[0;32mdef\u001b[0m \u001b[0msort_vocab\u001b[0m\u001b[0;34m(\u001b[0m\u001b[0mself\u001b[0m\u001b[0;34m)\u001b[0m\u001b[0;34m:\u001b[0m\u001b[0;34m\u001b[0m\u001b[0m\n",
      "\u001b[0;32m/Users/shwld/.pyenv/versions/3.5.2/envs/donusagi-bot3/lib/python3.5/site-packages/gensim/models/word2vec.py\u001b[0m in \u001b[0;36mupdate_weights\u001b[0;34m(self)\u001b[0m\n\u001b[1;32m   1136\u001b[0m         \u001b[0mlogger\u001b[0m\u001b[0;34m.\u001b[0m\u001b[0minfo\u001b[0m\u001b[0;34m(\u001b[0m\u001b[0;34m\"updating layer weights\"\u001b[0m\u001b[0;34m)\u001b[0m\u001b[0;34m\u001b[0m\u001b[0m\n\u001b[1;32m   1137\u001b[0m         \u001b[0mgained_vocab\u001b[0m \u001b[0;34m=\u001b[0m \u001b[0mlen\u001b[0m\u001b[0;34m(\u001b[0m\u001b[0mself\u001b[0m\u001b[0;34m.\u001b[0m\u001b[0mwv\u001b[0m\u001b[0;34m.\u001b[0m\u001b[0mvocab\u001b[0m\u001b[0;34m)\u001b[0m \u001b[0;34m-\u001b[0m \u001b[0mlen\u001b[0m\u001b[0;34m(\u001b[0m\u001b[0mself\u001b[0m\u001b[0;34m.\u001b[0m\u001b[0mwv\u001b[0m\u001b[0;34m.\u001b[0m\u001b[0msyn0\u001b[0m\u001b[0;34m)\u001b[0m\u001b[0;34m\u001b[0m\u001b[0m\n\u001b[0;32m-> 1138\u001b[0;31m         \u001b[0mnewsyn0\u001b[0m \u001b[0;34m=\u001b[0m \u001b[0mempty\u001b[0m\u001b[0;34m(\u001b[0m\u001b[0;34m(\u001b[0m\u001b[0mgained_vocab\u001b[0m\u001b[0;34m,\u001b[0m \u001b[0mself\u001b[0m\u001b[0;34m.\u001b[0m\u001b[0mvector_size\u001b[0m\u001b[0;34m)\u001b[0m\u001b[0;34m,\u001b[0m \u001b[0mdtype\u001b[0m\u001b[0;34m=\u001b[0m\u001b[0mREAL\u001b[0m\u001b[0;34m)\u001b[0m\u001b[0;34m\u001b[0m\u001b[0m\n\u001b[0m\u001b[1;32m   1139\u001b[0m \u001b[0;34m\u001b[0m\u001b[0m\n\u001b[1;32m   1140\u001b[0m         \u001b[0;31m# randomize the remaining words\u001b[0m\u001b[0;34m\u001b[0m\u001b[0;34m\u001b[0m\u001b[0m\n",
      "\u001b[0;31mValueError\u001b[0m: negative dimensions are not allowed"
     ]
    }
   ],
   "source": [
    "w2v = Word2Vec(['テスト', '日当'], min_count=1)\n",
    "w2v.wv = copy.deepcopy(model)\n",
    "w2v.scale_vocab(min_count=1)\n",
    "w2v.build_vocab(sentences, update=True)\n",
    "\n",
    "## これは通らない"
   ]
  },
  {
   "cell_type": "markdown",
   "metadata": {},
   "source": [
    "イチから学習モデルを作らないとだめなのかもしれない。\n",
    "その際にもちゃんと追加学習できるかを慎重に確認しながら学習モデルを作らないといけない?(1センテンスあたりの単語量とか、vocabのscaleとか)"
   ]
  },
  {
   "cell_type": "code",
   "execution_count": 16,
   "metadata": {
    "collapsed": false
   },
   "outputs": [
    {
     "data": {
      "text/plain": [
       "array([ -1.27825245e-01,   3.33396997e-03,   9.59359333e-02,\n",
       "         2.53593605e-02,   1.00720517e-01,   4.29678448e-02,\n",
       "         1.62124857e-02,   5.41222095e-02,  -6.04049042e-02,\n",
       "        -5.03912866e-02,  -2.27657724e-02,   5.98480925e-02,\n",
       "         4.42665517e-02,   1.97187457e-02,  -1.09590679e-01,\n",
       "         8.31758529e-02,   5.88011853e-02,  -8.87587592e-02,\n",
       "         3.96725982e-02,   6.78593218e-02,  -1.15034640e-01,\n",
       "         6.14764467e-02,   8.39795470e-02,  -1.08930543e-02,\n",
       "         1.06962025e-02,  -7.71387070e-02,  -6.57469481e-02,\n",
       "         1.52346864e-02,  -6.62919804e-02,  -1.85034378e-03,\n",
       "         1.31808296e-01,  -1.58936698e-02,   5.05093765e-03,\n",
       "        -2.89324522e-02,   8.79907757e-02,   8.05309042e-02,\n",
       "         1.10408543e-02,  -1.05705567e-01,   4.63044085e-02,\n",
       "        -3.25490651e-03,   1.68740638e-02,  -1.01733349e-01,\n",
       "        -1.11960351e-01,   8.11825693e-02,   7.87092149e-02,\n",
       "         9.44312513e-02,   3.74606019e-03,  -1.25841692e-01,\n",
       "         8.56772810e-02,  -8.91628023e-03,   1.10526264e-01,\n",
       "         5.40090259e-03,   9.39471275e-02,   2.64085771e-04,\n",
       "        -2.65675932e-02,  -3.51350382e-02,   7.63379335e-02,\n",
       "        -2.77788714e-02,  -4.81772311e-02,  -9.52620953e-02,\n",
       "        -3.06159779e-02,   3.41163017e-03,   1.07103653e-01,\n",
       "         7.17500448e-02,  -5.32287098e-02,  -4.03538868e-02,\n",
       "        -1.85632370e-02,   1.52230971e-02,  -5.78689314e-02,\n",
       "        -1.19936764e-01,   9.58257660e-05,  -1.06327243e-01,\n",
       "        -3.95438150e-02,  -1.94650307e-01,   1.76627830e-01,\n",
       "        -1.80054549e-02,  -4.80532181e-03,  -5.98095469e-02,\n",
       "        -7.30439350e-02,  -8.06711018e-02,   7.05512092e-02,\n",
       "        -3.58234067e-03,  -2.91280653e-02,  -2.29525915e-03,\n",
       "         1.21748187e-01,  -1.44662037e-01,  -7.47549161e-02,\n",
       "         3.57066095e-02,  -9.42254381e-04,   4.34945785e-02,\n",
       "         5.68325780e-02,  -1.95544921e-02,  -4.11554128e-02,\n",
       "        -1.00553120e-02,  -3.78855057e-02,   4.91684414e-02,\n",
       "         8.52011144e-03,   6.04250208e-02,  -2.67380904e-02,\n",
       "        -8.69183801e-03,  -2.83664446e-02,   1.52253434e-01,\n",
       "        -2.26123538e-02,  -9.05456915e-02,   1.18987054e-01,\n",
       "        -1.33492485e-01,  -3.06384079e-02,   5.60415275e-02,\n",
       "        -3.16236541e-02,   5.20062149e-02,   3.61906271e-03,\n",
       "        -9.63628069e-02,  -1.04995824e-01,  -1.43565893e-01,\n",
       "        -1.04254059e-01,  -2.57047322e-02,  -3.66359949e-03,\n",
       "        -3.19623016e-02,  -8.20824280e-02,   1.38489343e-02,\n",
       "         3.84372510e-02,  -9.20935795e-02,  -9.93776172e-02,\n",
       "        -2.67405342e-02,   1.39233068e-01,   5.61809540e-02,\n",
       "        -6.36051595e-02,   1.37357367e-03,   1.00987991e-02,\n",
       "        -1.08081438e-02,   5.86195774e-02,   2.80968659e-03,\n",
       "        -4.84764464e-02,   3.83608676e-02,  -2.21546497e-02,\n",
       "         1.89049244e-02,  -7.20193014e-02,  -6.30823970e-02,\n",
       "         5.62654920e-02,  -3.29733230e-02,   6.34890720e-02,\n",
       "        -2.24808306e-02,   1.68743730e-02,   2.40363162e-02,\n",
       "         3.83861512e-02,   2.22932100e-02,   2.69486215e-02,\n",
       "        -1.17144376e-01,   6.24674466e-03,   7.94298872e-02,\n",
       "         1.44555345e-02,  -1.08598970e-01,  -8.43503848e-02,\n",
       "        -4.62065116e-02,  -1.70150012e-01,  -2.04364564e-02,\n",
       "        -4.55139913e-02,  -1.89536400e-02,   5.17400019e-02,\n",
       "        -3.04061826e-02,   6.04693107e-02,   1.75556913e-02,\n",
       "        -1.02879696e-01,  -9.48607177e-02,  -4.30376865e-02,\n",
       "        -5.46455346e-02,   4.70413268e-03,   7.06311911e-02,\n",
       "         2.19956059e-02,   1.87859803e-01,  -1.28032370e-02,\n",
       "         6.66402876e-02,  -8.07638280e-03,  -6.02354482e-02,\n",
       "         1.38294622e-01,  -6.51027495e-03,  -1.06394157e-01,\n",
       "         1.37090951e-01,   9.67182741e-02,   5.08675463e-02,\n",
       "        -8.93695056e-02,  -1.12128846e-01,  -6.61521927e-02,\n",
       "         2.52075940e-02,  -1.10911885e-02,   3.11296084e-03,\n",
       "         9.77914706e-02,   3.00321709e-02,   1.03607334e-01,\n",
       "        -8.40831548e-03,   3.34657989e-02,   1.50105851e-02,\n",
       "        -1.75121315e-02,   1.23365849e-01,   1.66557394e-02,\n",
       "         7.64988214e-02,  -9.19057056e-02,  -5.62785044e-02,\n",
       "        -3.67968827e-02,  -6.78416789e-02], dtype=float32)"
      ]
     },
     "execution_count": 16,
     "metadata": {},
     "output_type": "execute_result"
    }
   ],
   "source": [
    "model['日当']"
   ]
  },
  {
   "cell_type": "markdown",
   "metadata": {},
   "source": [
    "reset_weights()を試してみた"
   ]
  },
  {
   "cell_type": "code",
   "execution_count": 17,
   "metadata": {
    "collapsed": true
   },
   "outputs": [],
   "source": [
    "w2v = Word2Vec(min_count=1)\n",
    "w2v.wv = copy.deepcopy(model)\n",
    "w2v.reset_weights()\n",
    "w2v.build_vocab(sentences, update=True)"
   ]
  },
  {
   "cell_type": "code",
   "execution_count": 34,
   "metadata": {
    "collapsed": false
   },
   "outputs": [
    {
     "ename": "KeyError",
     "evalue": "\"word 'MYOPE_QA_ID:888' not in vocabulary\"",
     "output_type": "error",
     "traceback": [
      "\u001b[0;31m---------------------------------------------------------------------------\u001b[0m",
      "\u001b[0;31mKeyError\u001b[0m                                  Traceback (most recent call last)",
      "\u001b[0;32m<ipython-input-34-fe72237b211c>\u001b[0m in \u001b[0;36m<module>\u001b[0;34m()\u001b[0m\n\u001b[0;32m----> 1\u001b[0;31m \u001b[0mw2v\u001b[0m\u001b[0;34m.\u001b[0m\u001b[0mwv\u001b[0m\u001b[0;34m[\u001b[0m\u001b[0;34m'MYOPE_QA_ID:888'\u001b[0m\u001b[0;34m]\u001b[0m\u001b[0;34m\u001b[0m\u001b[0m\n\u001b[0m",
      "\u001b[0;32m/Users/shwld/.pyenv/versions/3.5.2/envs/donusagi-bot3/lib/python3.5/site-packages/gensim/models/keyedvectors.py\u001b[0m in \u001b[0;36m__getitem__\u001b[0;34m(self, words)\u001b[0m\n\u001b[1;32m    587\u001b[0m         \u001b[0;32mif\u001b[0m \u001b[0misinstance\u001b[0m\u001b[0;34m(\u001b[0m\u001b[0mwords\u001b[0m\u001b[0;34m,\u001b[0m \u001b[0mstring_types\u001b[0m\u001b[0;34m)\u001b[0m\u001b[0;34m:\u001b[0m\u001b[0;34m\u001b[0m\u001b[0m\n\u001b[1;32m    588\u001b[0m             \u001b[0;31m# allow calls like trained_model['office'], as a shorthand for trained_model[['office']]\u001b[0m\u001b[0;34m\u001b[0m\u001b[0;34m\u001b[0m\u001b[0m\n\u001b[0;32m--> 589\u001b[0;31m             \u001b[0;32mreturn\u001b[0m \u001b[0mself\u001b[0m\u001b[0;34m.\u001b[0m\u001b[0mword_vec\u001b[0m\u001b[0;34m(\u001b[0m\u001b[0mwords\u001b[0m\u001b[0;34m)\u001b[0m\u001b[0;34m\u001b[0m\u001b[0m\n\u001b[0m\u001b[1;32m    590\u001b[0m \u001b[0;34m\u001b[0m\u001b[0m\n\u001b[1;32m    591\u001b[0m         \u001b[0;32mreturn\u001b[0m \u001b[0mvstack\u001b[0m\u001b[0;34m(\u001b[0m\u001b[0;34m[\u001b[0m\u001b[0mself\u001b[0m\u001b[0;34m.\u001b[0m\u001b[0mword_vec\u001b[0m\u001b[0;34m(\u001b[0m\u001b[0mword\u001b[0m\u001b[0;34m)\u001b[0m \u001b[0;32mfor\u001b[0m \u001b[0mword\u001b[0m \u001b[0;32min\u001b[0m \u001b[0mwords\u001b[0m\u001b[0;34m]\u001b[0m\u001b[0;34m)\u001b[0m\u001b[0;34m\u001b[0m\u001b[0m\n",
      "\u001b[0;32m/Users/shwld/.pyenv/versions/3.5.2/envs/donusagi-bot3/lib/python3.5/site-packages/gensim/models/keyedvectors.py\u001b[0m in \u001b[0;36mword_vec\u001b[0;34m(self, word, use_norm)\u001b[0m\n\u001b[1;32m    286\u001b[0m                 \u001b[0;32mreturn\u001b[0m \u001b[0mself\u001b[0m\u001b[0;34m.\u001b[0m\u001b[0msyn0\u001b[0m\u001b[0;34m[\u001b[0m\u001b[0mself\u001b[0m\u001b[0;34m.\u001b[0m\u001b[0mvocab\u001b[0m\u001b[0;34m[\u001b[0m\u001b[0mword\u001b[0m\u001b[0;34m]\u001b[0m\u001b[0;34m.\u001b[0m\u001b[0mindex\u001b[0m\u001b[0;34m]\u001b[0m\u001b[0;34m\u001b[0m\u001b[0m\n\u001b[1;32m    287\u001b[0m         \u001b[0;32melse\u001b[0m\u001b[0;34m:\u001b[0m\u001b[0;34m\u001b[0m\u001b[0m\n\u001b[0;32m--> 288\u001b[0;31m             \u001b[0;32mraise\u001b[0m \u001b[0mKeyError\u001b[0m\u001b[0;34m(\u001b[0m\u001b[0;34m\"word '%s' not in vocabulary\"\u001b[0m \u001b[0;34m%\u001b[0m \u001b[0mword\u001b[0m\u001b[0;34m)\u001b[0m\u001b[0;34m\u001b[0m\u001b[0m\n\u001b[0m\u001b[1;32m    289\u001b[0m \u001b[0;34m\u001b[0m\u001b[0m\n\u001b[1;32m    290\u001b[0m     \u001b[0;32mdef\u001b[0m \u001b[0mmost_similar\u001b[0m\u001b[0;34m(\u001b[0m\u001b[0mself\u001b[0m\u001b[0;34m,\u001b[0m \u001b[0mpositive\u001b[0m\u001b[0;34m=\u001b[0m\u001b[0;34m[\u001b[0m\u001b[0;34m]\u001b[0m\u001b[0;34m,\u001b[0m \u001b[0mnegative\u001b[0m\u001b[0;34m=\u001b[0m\u001b[0;34m[\u001b[0m\u001b[0;34m]\u001b[0m\u001b[0;34m,\u001b[0m \u001b[0mtopn\u001b[0m\u001b[0;34m=\u001b[0m\u001b[0;36m10\u001b[0m\u001b[0;34m,\u001b[0m \u001b[0mrestrict_vocab\u001b[0m\u001b[0;34m=\u001b[0m\u001b[0;32mNone\u001b[0m\u001b[0;34m,\u001b[0m \u001b[0mindexer\u001b[0m\u001b[0;34m=\u001b[0m\u001b[0;32mNone\u001b[0m\u001b[0;34m)\u001b[0m\u001b[0;34m:\u001b[0m\u001b[0;34m\u001b[0m\u001b[0m\n",
      "\u001b[0;31mKeyError\u001b[0m: \"word 'MYOPE_QA_ID:888' not in vocabulary\""
     ]
    }
   ],
   "source": [
    "w2v.wv['MYOPE_QA_ID:888']"
   ]
  },
  {
   "cell_type": "code",
   "execution_count": 33,
   "metadata": {
    "collapsed": false
   },
   "outputs": [
    {
     "data": {
      "text/plain": [
       "5"
      ]
     },
     "execution_count": 33,
     "metadata": {},
     "output_type": "execute_result"
    }
   ],
   "source": [
    "w2v.train(sentences, total_examples=len(sentences), epochs=w2v.iter)"
   ]
  },
  {
   "cell_type": "code",
   "execution_count": 32,
   "metadata": {
    "collapsed": false
   },
   "outputs": [
    {
     "ename": "KeyError",
     "evalue": "\"word 'MYOPE_QA_ID:888' not in vocabulary\"",
     "output_type": "error",
     "traceback": [
      "\u001b[0;31m---------------------------------------------------------------------------\u001b[0m",
      "\u001b[0;31mKeyError\u001b[0m                                  Traceback (most recent call last)",
      "\u001b[0;32m<ipython-input-32-fe72237b211c>\u001b[0m in \u001b[0;36m<module>\u001b[0;34m()\u001b[0m\n\u001b[0;32m----> 1\u001b[0;31m \u001b[0mw2v\u001b[0m\u001b[0;34m.\u001b[0m\u001b[0mwv\u001b[0m\u001b[0;34m[\u001b[0m\u001b[0;34m'MYOPE_QA_ID:888'\u001b[0m\u001b[0;34m]\u001b[0m\u001b[0;34m\u001b[0m\u001b[0m\n\u001b[0m",
      "\u001b[0;32m/Users/shwld/.pyenv/versions/3.5.2/envs/donusagi-bot3/lib/python3.5/site-packages/gensim/models/keyedvectors.py\u001b[0m in \u001b[0;36m__getitem__\u001b[0;34m(self, words)\u001b[0m\n\u001b[1;32m    587\u001b[0m         \u001b[0;32mif\u001b[0m \u001b[0misinstance\u001b[0m\u001b[0;34m(\u001b[0m\u001b[0mwords\u001b[0m\u001b[0;34m,\u001b[0m \u001b[0mstring_types\u001b[0m\u001b[0;34m)\u001b[0m\u001b[0;34m:\u001b[0m\u001b[0;34m\u001b[0m\u001b[0m\n\u001b[1;32m    588\u001b[0m             \u001b[0;31m# allow calls like trained_model['office'], as a shorthand for trained_model[['office']]\u001b[0m\u001b[0;34m\u001b[0m\u001b[0;34m\u001b[0m\u001b[0m\n\u001b[0;32m--> 589\u001b[0;31m             \u001b[0;32mreturn\u001b[0m \u001b[0mself\u001b[0m\u001b[0;34m.\u001b[0m\u001b[0mword_vec\u001b[0m\u001b[0;34m(\u001b[0m\u001b[0mwords\u001b[0m\u001b[0;34m)\u001b[0m\u001b[0;34m\u001b[0m\u001b[0m\n\u001b[0m\u001b[1;32m    590\u001b[0m \u001b[0;34m\u001b[0m\u001b[0m\n\u001b[1;32m    591\u001b[0m         \u001b[0;32mreturn\u001b[0m \u001b[0mvstack\u001b[0m\u001b[0;34m(\u001b[0m\u001b[0;34m[\u001b[0m\u001b[0mself\u001b[0m\u001b[0;34m.\u001b[0m\u001b[0mword_vec\u001b[0m\u001b[0;34m(\u001b[0m\u001b[0mword\u001b[0m\u001b[0;34m)\u001b[0m \u001b[0;32mfor\u001b[0m \u001b[0mword\u001b[0m \u001b[0;32min\u001b[0m \u001b[0mwords\u001b[0m\u001b[0;34m]\u001b[0m\u001b[0;34m)\u001b[0m\u001b[0;34m\u001b[0m\u001b[0m\n",
      "\u001b[0;32m/Users/shwld/.pyenv/versions/3.5.2/envs/donusagi-bot3/lib/python3.5/site-packages/gensim/models/keyedvectors.py\u001b[0m in \u001b[0;36mword_vec\u001b[0;34m(self, word, use_norm)\u001b[0m\n\u001b[1;32m    286\u001b[0m                 \u001b[0;32mreturn\u001b[0m \u001b[0mself\u001b[0m\u001b[0;34m.\u001b[0m\u001b[0msyn0\u001b[0m\u001b[0;34m[\u001b[0m\u001b[0mself\u001b[0m\u001b[0;34m.\u001b[0m\u001b[0mvocab\u001b[0m\u001b[0;34m[\u001b[0m\u001b[0mword\u001b[0m\u001b[0;34m]\u001b[0m\u001b[0;34m.\u001b[0m\u001b[0mindex\u001b[0m\u001b[0;34m]\u001b[0m\u001b[0;34m\u001b[0m\u001b[0m\n\u001b[1;32m    287\u001b[0m         \u001b[0;32melse\u001b[0m\u001b[0;34m:\u001b[0m\u001b[0;34m\u001b[0m\u001b[0m\n\u001b[0;32m--> 288\u001b[0;31m             \u001b[0;32mraise\u001b[0m \u001b[0mKeyError\u001b[0m\u001b[0;34m(\u001b[0m\u001b[0;34m\"word '%s' not in vocabulary\"\u001b[0m \u001b[0;34m%\u001b[0m \u001b[0mword\u001b[0m\u001b[0;34m)\u001b[0m\u001b[0;34m\u001b[0m\u001b[0m\n\u001b[0m\u001b[1;32m    289\u001b[0m \u001b[0;34m\u001b[0m\u001b[0m\n\u001b[1;32m    290\u001b[0m     \u001b[0;32mdef\u001b[0m \u001b[0mmost_similar\u001b[0m\u001b[0;34m(\u001b[0m\u001b[0mself\u001b[0m\u001b[0;34m,\u001b[0m \u001b[0mpositive\u001b[0m\u001b[0;34m=\u001b[0m\u001b[0;34m[\u001b[0m\u001b[0;34m]\u001b[0m\u001b[0;34m,\u001b[0m \u001b[0mnegative\u001b[0m\u001b[0;34m=\u001b[0m\u001b[0;34m[\u001b[0m\u001b[0;34m]\u001b[0m\u001b[0;34m,\u001b[0m \u001b[0mtopn\u001b[0m\u001b[0;34m=\u001b[0m\u001b[0;36m10\u001b[0m\u001b[0;34m,\u001b[0m \u001b[0mrestrict_vocab\u001b[0m\u001b[0;34m=\u001b[0m\u001b[0;32mNone\u001b[0m\u001b[0;34m,\u001b[0m \u001b[0mindexer\u001b[0m\u001b[0;34m=\u001b[0m\u001b[0;32mNone\u001b[0m\u001b[0;34m)\u001b[0m\u001b[0;34m:\u001b[0m\u001b[0;34m\u001b[0m\u001b[0m\n",
      "\u001b[0;31mKeyError\u001b[0m: \"word 'MYOPE_QA_ID:888' not in vocabulary\""
     ]
    }
   ],
   "source": [
    "w2v.wv['MYOPE_QA_ID:888']"
   ]
  },
  {
   "cell_type": "markdown",
   "metadata": {},
   "source": [
    "build_vocabはできたが、ボキャブラリーは登録されない?\n",
    "\n",
    "trainもしてみたがかわらず。\n",
    "\n",
    "\n",
    "そもそもtrain関数を使うべきじゃない?\n",
    "\n",
    "https://qiita.com/shinochin/items/661cbed78df3cb83b2aa\n",
    "\n",
    "> train関数を使うとtraining rateのalphaを少しずつ下げていくわけですが、trainを複数回実行するということはalphaを複数回上げ下げするわけなので、適切なSGDにならないとのことでした。"
   ]
  }
 ],
 "metadata": {
  "kernelspec": {
   "display_name": "Python 3",
   "language": "python",
   "name": "python3"
  },
  "language_info": {
   "codemirror_mode": {
    "name": "ipython",
    "version": 3
   },
   "file_extension": ".py",
   "mimetype": "text/x-python",
   "name": "python",
   "nbconvert_exporter": "python",
   "pygments_lexer": "ipython3",
   "version": "3.5.2"
  }
 },
 "nbformat": 4,
 "nbformat_minor": 2
}
