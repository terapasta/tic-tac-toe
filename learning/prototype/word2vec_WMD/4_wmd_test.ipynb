{
 "cells": [
  {
   "cell_type": "markdown",
   "metadata": {},
   "source": [
    "# Word2vec + WMDistanceで未知語が同じsimilarityになってしまう問題の調査\n",
    "\n",
    "このようになってしまっていた。 (未知語 + の担当者は誰。という質問のsimilarityが全て1.0)\n",
    "\n",
    "```\n",
    "[DEBUG 123145350025216 2017/12/05 PM 02:45:30                myope_server: 29 -                  Reply] bot_id = 30\n",
    "[DEBUG 123145350025216 2017/12/05 PM 02:45:30                myope_server: 30 -                  Reply] body = らく賃の担当者は誰。\n",
    "[DEBUG 123145350025216 2017/12/05 PM 02:45:30                myope_server: 31 -                  Reply] learning_parameter = algorithm: 5\n",
    "\n",
    "[ INFO 123145350025216 2017/12/05 PM 02:45:30                     context: 49 -            get_factory] algorithm: Word2vec WMD\n",
    "[ INFO 123145350025216 2017/12/05 PM 02:45:30                     context: 74 -           get_feedback] feedback algorithm: None\n",
    "[DEBUG 123145350025216 2017/12/05 PM 02:45:30  mecab_tokenizer_with_split: 10 -               __init__] dicdir: /usr/local/lib/mecab/dic/mecab-ipadic-neologd\n",
    "[ INFO 123145350025216 2017/12/05 PM 02:45:30            reply_controller: 12 -                perform] start\n",
    "[DEBUG 123145350025216 2017/12/05 PM 02:45:30            reply_controller: 13 -                perform] question: らく賃の担当者は誰。\n",
    "[ INFO 123145350025216 2017/12/05 PM 02:45:30            reply_controller: 15 -                perform] before action\n",
    "[ INFO 123145350025216 2017/12/05 PM 02:45:30                word2vec_wmd: 38 -           before_reply] PASS\n",
    "[ INFO 123145350025216 2017/12/05 PM 02:45:30            reply_controller: 18 -                perform] tokenize question\n",
    "[DEBUG 123145350025216 2017/12/05 PM 02:45:30            reply_controller: 20 -                perform] [['らく賃', '担当者', '誰']]\n",
    "[ INFO 123145350025216 2017/12/05 PM 02:45:30            reply_controller: 22 -                perform] vectorize question\n",
    "[ INFO 123145350025216 2017/12/05 PM 02:45:30            reply_controller: 25 -                perform] reduce question\n",
    "[ INFO 123145350025216 2017/12/05 PM 02:45:30            reply_controller: 28 -                perform] normalize question\n",
    "[ INFO 123145350025216 2017/12/05 PM 02:45:30            reply_controller: 31 -                perform] predict\n",
    "[ INFO 123145350025216 2017/12/05 PM 02:45:31            reply_controller: 37 -                perform] unique and sort\n",
    "[ INFO 123145350025216 2017/12/05 PM 02:45:31            reply_controller: 41 -                perform] after action\n",
    "[ INFO 123145350025216 2017/12/05 PM 02:45:31                word2vec_wmd: 42 -            after_reply] PASS\n",
    "[DEBUG 123145350025216 2017/12/05 PM 02:45:31            reply_controller: 47 -                perform] {'question_answer_id': 24629, 'question': 'JICの担当者は誰。', 'probability': 1.0}\n",
    "[DEBUG 123145350025216 2017/12/05 PM 02:45:31            reply_controller: 47 -                perform] {'question_answer_id': 24506, 'question': 'いえらぶの担当者は誰。', 'probability': 1.0}\n",
    "[DEBUG 123145350025216 2017/12/05 PM 02:45:31            reply_controller: 47 -                perform] {'question_answer_id': 24627, 'question': 'らく賃の担当者は誰。\\r\\n', 'probability': 1.0}\n",
    "[DEBUG 123145350025216 2017/12/05 PM 02:45:31            reply_controller: 47 -                perform] {'question_answer_id': 24424, 'question': 'モバイル端末についての担当者は誰。\\r\\n', 'probability': 1.0}\n",
    "[DEBUG 123145350025216 2017/12/05 PM 02:45:31            reply_controller: 47 -                perform] {'question_answer_id': 24571, 'question': '反社チェックの担当者は誰。', 'probability': 0.7165470109608577}\n",
    "[DEBUG 123145350025216 2017/12/05 PM 02:45:31            reply_controller: 47 -                perform] {'question_answer_id': 24500, 'question': '顧客ウェブシステムの担当者は誰。', 'probability': 0.7161032309396661}\n",
    "[DEBUG 123145350025216 2017/12/05 PM 02:45:31            reply_controller: 47 -                perform] {'question_answer_id': 24603, 'question': 'eラーニング操作の担当者は誰。', 'probability': 0.7094162953265308}\n",
    "[DEBUG 123145350025216 2017/12/05 PM 02:45:31            reply_controller: 47 -                perform] {'question_answer_id': 24502, 'question': '年賀状の担当者は誰。\\r\\n', 'probability': 0.7069160809326663}\n",
    "[ INFO 123145350025216 2017/12/05 PM 02:45:31            reply_controller: 49 -                perform] end\n",
    "えらぶの担当者は誰。[DEBUG 123145344770048 2017/12/05 PM 02:45:58                myope_server: 29 -                  Reply] bot_id = 30\n",
    "[DEBUG 123145344770048 2017/12/05 PM 02:45:58                myope_server: 30 -                  Reply] body = いえらぶの担当者は誰\n",
    "[DEBUG 123145344770048 2017/12/05 PM 02:45:58                myope_server: 31 -                  Reply] learning_parameter = algorithm: 5\n",
    "\n",
    "[ INFO 123145344770048 2017/12/05 PM 02:45:58                     context: 49 -            get_factory] algorithm: Word2vec WMD\n",
    "[ INFO 123145344770048 2017/12/05 PM 02:45:58                     context: 74 -           get_feedback] feedback algorithm: None\n",
    "[DEBUG 123145344770048 2017/12/05 PM 02:45:58  mecab_tokenizer_with_split: 10 -               __init__] dicdir: /usr/local/lib/mecab/dic/mecab-ipadic-neologd\n",
    "[ INFO 123145344770048 2017/12/05 PM 02:45:58            reply_controller: 12 -                perform] start\n",
    "[DEBUG 123145344770048 2017/12/05 PM 02:45:58            reply_controller: 13 -                perform] question: いえらぶの担当者は誰\n",
    "[ INFO 123145344770048 2017/12/05 PM 02:45:58            reply_controller: 15 -                perform] before action\n",
    "[ INFO 123145344770048 2017/12/05 PM 02:45:58                word2vec_wmd: 38 -           before_reply] PASS\n",
    "[ INFO 123145344770048 2017/12/05 PM 02:45:58            reply_controller: 18 -                perform] tokenize question\n",
    "[DEBUG 123145344770048 2017/12/05 PM 02:45:58            reply_controller: 20 -                perform] [['いえらぶ', '担当者', '誰']]\n",
    "[ INFO 123145344770048 2017/12/05 PM 02:45:58            reply_controller: 22 -                perform] vectorize question\n",
    "[ INFO 123145344770048 2017/12/05 PM 02:45:58            reply_controller: 25 -                perform] reduce question\n",
    "[ INFO 123145344770048 2017/12/05 PM 02:45:58            reply_controller: 28 -                perform] normalize question\n",
    "[ INFO 123145344770048 2017/12/05 PM 02:45:58            reply_controller: 31 -                perform] predict\n",
    "[ INFO 123145344770048 2017/12/05 PM 02:45:59            reply_controller: 37 -                perform] unique and sort\n",
    "[ INFO 123145344770048 2017/12/05 PM 02:45:59            reply_controller: 41 -                perform] after action\n",
    "[ INFO 123145344770048 2017/12/05 PM 02:45:59                word2vec_wmd: 42 -            after_reply] PASS\n",
    "[DEBUG 123145344770048 2017/12/05 PM 02:45:59            reply_controller: 47 -                perform] {'question_answer_id': 24629, 'question': 'JICの担当者は誰。', 'probability': 1.0}\n",
    "[DEBUG 123145344770048 2017/12/05 PM 02:45:59            reply_controller: 47 -                perform] {'question_answer_id': 24506, 'question': 'いえらぶの担当者は誰。', 'probability': 1.0}\n",
    "[DEBUG 123145344770048 2017/12/05 PM 02:45:59            reply_controller: 47 -                perform] {'question_answer_id': 24627, 'question': 'らく賃の担当者は誰。\\r\\n', 'probability': 1.0}\n",
    "[DEBUG 123145344770048 2017/12/05 PM 02:45:59            reply_controller: 47 -                perform] {'question_answer_id': 24424, 'question': 'モバイル端末についての担当者は誰。\\r\\n', 'probability': 1.0}\n",
    "[DEBUG 123145344770048 2017/12/05 PM 02:45:59            reply_controller: 47 -                perform] {'question_answer_id': 24571, 'question': '反社チェックの担当者は誰。', 'probability': 0.7165470109608577}\n",
    "[DEBUG 123145344770048 2017/12/05 PM 02:45:59            reply_controller: 47 -                perform] {'question_answer_id': 24500, 'question': '顧客ウェブシステムの担当者は誰。', 'probability': 0.7161032309396661}\n",
    "[DEBUG 123145344770048 2017/12/05 PM 02:45:59            reply_controller: 47 -                perform] {'question_answer_id': 24603, 'question': 'eラーニング操作の担当者は誰。', 'probability': 0.7094162953265308}\n",
    "[DEBUG 123145344770048 2017/12/05 PM 02:45:59            reply_controller: 47 -                perform] {'question_answer_id': 24502, 'question': '年賀状の担当者は誰。\\r\\n', 'probability': 0.7069160809326663}\n",
    "[ INFO 123145344770048 2017/12/05 PM 02:45:59            reply_controller: 49 -                perform] end\n",
    "[DEBUG 123145355280384 2017/12/05 PM 02:46:21                myope_server: 29 -                  Reply] bot_id = 30\n",
    "[DEBUG 123145355280384 2017/12/05 PM 02:46:21                myope_server: 30 -                  Reply] body = モバイル端末についての担当者は誰。\n",
    "[DEBUG 123145355280384 2017/12/05 PM 02:46:21                myope_server: 31 -                  Reply] learning_parameter = algorithm: 5\n",
    "\n",
    "[ INFO 123145355280384 2017/12/05 PM 02:46:21                     context: 49 -            get_factory] algorithm: Word2vec WMD\n",
    "[ INFO 123145355280384 2017/12/05 PM 02:46:21                     context: 74 -           get_feedback] feedback algorithm: None\n",
    "[DEBUG 123145355280384 2017/12/05 PM 02:46:21  mecab_tokenizer_with_split: 10 -               __init__] dicdir: /usr/local/lib/mecab/dic/mecab-ipadic-neologd\n",
    "[ INFO 123145355280384 2017/12/05 PM 02:46:21            reply_controller: 12 -                perform] start\n",
    "[DEBUG 123145355280384 2017/12/05 PM 02:46:21            reply_controller: 13 -                perform] question: モバイル端末についての担当者は誰。\n",
    "[ INFO 123145355280384 2017/12/05 PM 02:46:21            reply_controller: 15 -                perform] before action\n",
    "[ INFO 123145355280384 2017/12/05 PM 02:46:21                word2vec_wmd: 38 -           before_reply] PASS\n",
    "[ INFO 123145355280384 2017/12/05 PM 02:46:21            reply_controller: 18 -                perform] tokenize question\n",
    "[DEBUG 123145355280384 2017/12/05 PM 02:46:21            reply_controller: 20 -                perform] [['モバイル端末', '担当者', '誰']]\n",
    "[ INFO 123145355280384 2017/12/05 PM 02:46:21            reply_controller: 22 -                perform] vectorize question\n",
    "[ INFO 123145355280384 2017/12/05 PM 02:46:21            reply_controller: 25 -                perform] reduce question\n",
    "[ INFO 123145355280384 2017/12/05 PM 02:46:21            reply_controller: 28 -                perform] normalize question\n",
    "[ INFO 123145355280384 2017/12/05 PM 02:46:21            reply_controller: 31 -                perform] predict\n",
    "[ INFO 123145355280384 2017/12/05 PM 02:46:21            reply_controller: 37 -                perform] unique and sort\n",
    "[ INFO 123145355280384 2017/12/05 PM 02:46:21            reply_controller: 41 -                perform] after action\n",
    "[ INFO 123145355280384 2017/12/05 PM 02:46:21                word2vec_wmd: 42 -            after_reply] PASS\n",
    "[DEBUG 123145355280384 2017/12/05 PM 02:46:21            reply_controller: 47 -                perform] {'question_answer_id': 24629, 'question': 'JICの担当者は誰。', 'probability': 1.0}\n",
    "[DEBUG 123145355280384 2017/12/05 PM 02:46:21            reply_controller: 47 -                perform] {'question_answer_id': 24506, 'question': 'いえらぶの担当者は誰。', 'probability': 1.0}\n",
    "[DEBUG 123145355280384 2017/12/05 PM 02:46:21            reply_controller: 47 -                perform] {'question_answer_id': 24627, 'question': 'らく賃の担当者は誰。\\r\\n', 'probability': 1.0}\n",
    "[DEBUG 123145355280384 2017/12/05 PM 02:46:21            reply_controller: 47 -                perform] {'question_answer_id': 24424, 'question': 'モバイル端末についての担当者は誰。\\r\\n', 'probability': 1.0}\n",
    "[DEBUG 123145355280384 2017/12/05 PM 02:46:21            reply_controller: 47 -                perform] {'question_answer_id': 24571, 'question': '反社チェックの担当者は誰。', 'probability': 0.7165470109608577}\n",
    "[DEBUG 123145355280384 2017/12/05 PM 02:46:21            reply_controller: 47 -                perform] {'question_answer_id': 24500, 'question': '顧客ウェブシステムの担当者は誰。', 'probability': 0.7161032309396661}\n",
    "[DEBUG 123145355280384 2017/12/05 PM 02:46:21            reply_controller: 47 -                perform] {'question_answer_id': 24603, 'question': 'eラーニング操作の担当者は誰。', 'probability': 0.7094162953265308}\n",
    "[DEBUG 123145355280384 2017/12/05 PM 02:46:21            reply_controller: 47 -                perform] {'question_answer_id': 24502, 'question': '年賀状の担当者は誰。\\r\\n', 'probability': 0.7069160809326663}\n",
    "[ INFO 123145355280384 2017/12/05 PM 02:46:21            reply_controller: 49 -                perform] end\n",
    "^Cpython myope_server.py  110.00s user 6.91s system 1% cpu 1:53:16.53 total\n",
    "```"
   ]
  },
  {
   "cell_type": "code",
   "execution_count": 1,
   "metadata": {
    "collapsed": false
   },
   "outputs": [
    {
     "name": "stdout",
     "output_type": "stream",
     "text": [
      "current_dir=/Users/shwld/project/mofmof/donusagi-bot/learning\n"
     ]
    }
   ],
   "source": [
    "'''\n",
    "    learningディレクトリのパスを取得／設定\n",
    "'''\n",
    "import sys\n",
    "import os\n",
    "\n",
    "if os.path.basename(os.getcwd()) != 'learning':\n",
    "    learning_dir = os.path.join(os.getcwd(), '../..')\n",
    "    learning_dir = os.path.abspath(learning_dir)\n",
    "    os.chdir(learning_dir)\n",
    "\n",
    "    if learning_dir not in sys.path:\n",
    "        sys.path.append(learning_dir)\n",
    "\n",
    "print('current_dir={}'.format(os.getcwd()))\n",
    "\n",
    "\n",
    "'''\n",
    "    ライブラリロード\n",
    "'''\n",
    "from IPython.core.display import display\n",
    "\n",
    "'''\n",
    "   初期化\n",
    "'''\n",
    "from tests.support.helper import Helper\n",
    "Helper.init()"
   ]
  },
  {
   "cell_type": "code",
   "execution_count": 2,
   "metadata": {
    "collapsed": true
   },
   "outputs": [],
   "source": [
    "from gensim.models import KeyedVectors\n",
    "\n",
    "model = KeyedVectors.load_word2vec_format('dumps/fasttext_model.vec', binary=False)"
   ]
  },
  {
   "cell_type": "code",
   "execution_count": 3,
   "metadata": {
    "collapsed": false
   },
   "outputs": [
    {
     "name": "stderr",
     "output_type": "stream",
     "text": [
      "[DEBUG 140736254448448 2017/12/11 AM 10:38:30  mecab_tokenizer_with_split: 10 -               __init__] dicdir: /usr/local/lib/mecab/dic/mecab-ipadic-neologd\n"
     ]
    },
    {
     "data": {
      "text/plain": [
       "[['らく賃', '担当者', '誰'], ['いえらぶ', '担当者', '誰'], ['モバイル端末', '担当者', '誰']]"
      ]
     },
     "metadata": {},
     "output_type": "display_data"
    },
    {
     "data": {
      "text/plain": [
       "array([ -1.02650002e-01,   2.50699997e-01,  -1.99619994e-01,\n",
       "        -3.23909998e-01,   6.20829999e-01,   8.74449983e-02,\n",
       "         2.50290006e-01,   1.98679999e-01,   3.71310003e-02,\n",
       "         3.97060007e-01,   3.51289988e-01,  -1.58580005e-01,\n",
       "         1.22180004e-02,  -2.35709995e-01,   1.09260000e-01,\n",
       "        -2.39529997e-01,  -1.17770001e-01,  -4.65480015e-02,\n",
       "         2.16489993e-02,   3.48500013e-01,   3.46259996e-02,\n",
       "         1.21420003e-01,  -2.33400002e-01,  -7.86240026e-02,\n",
       "         2.75400002e-02,  -2.81390011e-01,   7.30670020e-02,\n",
       "         1.95480004e-01,  -4.30640012e-01,   2.33119994e-01,\n",
       "        -3.23210001e-01,  -1.09209999e-01,  -1.16540000e-01,\n",
       "         9.68429968e-02,  -2.92549998e-01,  -4.90740016e-02,\n",
       "         1.23939998e-01,  -4.81429994e-01,  -5.20039976e-01,\n",
       "        -8.91690031e-02,   1.34810004e-02,   9.71620008e-02,\n",
       "        -8.31850022e-02,   1.87859997e-01,   1.26430005e-01,\n",
       "        -2.65439987e-01,  -3.98869991e-01,  -5.89320017e-03,\n",
       "        -2.18300000e-01,   1.18399998e-02,  -1.65100005e-02,\n",
       "         4.42510009e-01,   1.39249995e-01,   2.22550005e-01,\n",
       "        -3.01299989e-01,  -1.79900005e-01,  -2.07570001e-01,\n",
       "        -2.70579994e-01,  -1.13519996e-01,   7.65600009e-03,\n",
       "        -2.19239995e-01,   9.02040005e-02,   2.09539995e-01,\n",
       "         7.97450021e-02,  -1.72160000e-01,   1.91310003e-01,\n",
       "         9.80419964e-02,   1.80490002e-01,   4.85149994e-02,\n",
       "        -2.53899992e-01,  -1.48240000e-01,   4.89040017e-02,\n",
       "        -5.16530015e-02,  -1.02650002e-01,  -6.01829998e-02,\n",
       "        -2.34760001e-01,   5.30100018e-02,  -1.93849996e-01,\n",
       "        -1.39799997e-01,  -2.31830001e-01,  -7.23799989e-02,\n",
       "        -9.03789997e-02,   3.28119993e-01,  -3.12680006e-01,\n",
       "         6.97040021e-01,  -4.99290004e-02,   5.38179977e-03,\n",
       "        -2.99860001e-01,   2.10830003e-01,  -4.85379994e-01,\n",
       "        -2.67049998e-01,  -3.20820004e-01,   3.13549995e-01,\n",
       "        -2.61140000e-02,  -4.94370013e-01,   1.19130000e-01,\n",
       "         2.52499998e-01,  -1.13169998e-01,   3.21980007e-02,\n",
       "         3.19709986e-01,   5.26989996e-01,  -1.35389999e-01,\n",
       "         2.67970003e-02,   1.72230005e-01,  -2.60109991e-01,\n",
       "         7.84740001e-02,  -7.67780021e-02,  -1.09010004e-02,\n",
       "         3.52829993e-01,   1.35549999e-04,  -1.37410000e-01,\n",
       "         2.40490008e-02,  -2.22859994e-01,  -2.32240006e-01,\n",
       "         2.88509995e-01,   4.00759988e-02,  -1.27010003e-01,\n",
       "        -2.88370013e-01,  -9.06749964e-02,   3.69069993e-01,\n",
       "         3.28640014e-01,   2.00100005e-01,  -1.81920007e-01,\n",
       "        -6.51860014e-02,  -3.96079987e-01,  -7.05889985e-02,\n",
       "        -8.47269967e-02,   7.72209987e-02,   2.23279998e-01,\n",
       "        -2.68889993e-01,  -9.92830023e-02,  -4.56239998e-01,\n",
       "         1.58480003e-01,  -1.40349999e-01,   7.83680007e-02,\n",
       "        -2.61139989e-01,  -1.94480002e-01,  -5.03139973e-01,\n",
       "         1.22259997e-01,   5.32959998e-02,   8.46550018e-02,\n",
       "         9.87209976e-02,  -5.16240001e-01,  -4.90799993e-01,\n",
       "        -1.53339997e-01,  -3.35000008e-01,   5.86329997e-01,\n",
       "         4.66419995e-01,   2.54040003e-01,  -6.47540018e-02,\n",
       "         3.26110005e-01,  -1.88850001e-01,   2.82119989e-01,\n",
       "         8.85830000e-02,   3.18340003e-01,   3.61930013e-01,\n",
       "         3.05390000e-01,  -1.08139999e-01,   6.03899993e-02,\n",
       "         4.55110013e-01,   2.19040006e-01,   2.56850004e-01,\n",
       "        -2.31460005e-01,  -6.34360015e-02,  -2.17580006e-01,\n",
       "         2.55999994e-02,   6.52339980e-02,   9.67160016e-02,\n",
       "         5.81650019e-01,  -4.36310004e-03,  -8.98270030e-03,\n",
       "         1.77589998e-01,  -7.15870023e-01,  -3.58829983e-02,\n",
       "        -1.88010007e-01,   2.77130008e-01,   2.41249993e-01,\n",
       "        -1.92090005e-01,   4.47899997e-02,  -1.08350001e-01,\n",
       "        -1.57309994e-02,   2.01590002e-01,   1.66779995e-01,\n",
       "        -3.98989990e-02,  -6.73289970e-02,   1.99469998e-01,\n",
       "        -3.58850002e-01,   7.00510025e-01,  -2.92319991e-02,\n",
       "         1.92389995e-01,  -8.87850001e-02,   1.33249998e-01,\n",
       "        -3.89580011e-01,  -4.02749985e-01,   2.99140006e-01,\n",
       "        -2.01110002e-02,  -1.08130001e-01,  -6.71359971e-02,\n",
       "         1.01340003e-01,   1.49949998e-01,   1.47960007e-01,\n",
       "         3.56350005e-01,   4.59630005e-02,   3.21480006e-01,\n",
       "         1.83129996e-01,  -2.72499993e-02,   4.63829994e-01,\n",
       "        -3.76249999e-01,   9.49739963e-02,   4.35039997e-01,\n",
       "         3.35180014e-01,   3.50930005e-01,   2.87260003e-02,\n",
       "        -2.13459998e-01,  -2.70590007e-01,   1.81130003e-02,\n",
       "        -1.14009999e-01,   3.56579989e-01,   4.94109988e-01,\n",
       "         2.92869985e-01,   1.03579998e-01,  -1.25670001e-01,\n",
       "         6.48259968e-02,   1.34220004e-01,   1.23649999e-01,\n",
       "         1.30640000e-01,   3.61680001e-01,   1.86179996e-01,\n",
       "         1.96119994e-01,  -1.49590001e-01,  -9.77700017e-03,\n",
       "         1.25049993e-01,  -7.06989989e-02,   1.60479993e-01,\n",
       "        -3.51509988e-01,  -4.56470013e-01,   2.58049995e-01,\n",
       "         2.72579994e-02,   2.14029998e-01,  -1.31349996e-01,\n",
       "        -3.77230011e-02,  -2.97300011e-01,  -1.18239997e-02,\n",
       "        -1.87199995e-01,  -9.39999968e-02,   1.15179997e-02,\n",
       "        -7.48659968e-02,   3.36840004e-03,   2.64440000e-01,\n",
       "        -2.05569997e-01,  -5.32700010e-02,   4.13549989e-02,\n",
       "        -4.61899996e-01,   4.41570014e-01,   3.36640000e-01,\n",
       "        -1.93839997e-01,  -3.99459988e-01,  -3.52930017e-02,\n",
       "        -1.92800000e-01,   5.77230006e-02,  -4.35250014e-01,\n",
       "        -2.39099994e-01,  -1.88439995e-01,  -3.80109996e-01,\n",
       "        -1.06840000e-01,   2.37749994e-01,  -7.44030029e-02,\n",
       "        -3.01169991e-01,   1.76579997e-01,   2.57019997e-01,\n",
       "         1.97640002e-01,  -1.03569999e-01,  -2.05210000e-01,\n",
       "        -2.58069992e-01,  -4.59250003e-01,   3.86460014e-02,\n",
       "         2.08969995e-01,   2.81709999e-01,   1.21890001e-01,\n",
       "         1.19780004e-02,  -5.14909998e-02,   4.82149988e-01,\n",
       "        -6.89559989e-03,   2.62780011e-01,   1.56830009e-02,\n",
       "        -4.13439982e-02,   1.70190006e-01,   5.05950004e-02,\n",
       "        -3.88480008e-01,   6.58809990e-02,  -7.08530024e-02,\n",
       "         3.36100012e-01,  -2.60300003e-02,  -3.30370009e-01,\n",
       "         1.74030006e-01,   1.56399995e-01,  -1.98929995e-01,\n",
       "         1.76640004e-01,  -3.37949991e-01,   1.40369996e-01], dtype=float32)"
      ]
     },
     "metadata": {},
     "output_type": "display_data"
    }
   ],
   "source": [
    "from IPython.core.magic import register_cell_magic\n",
    "from app.core.tokenizer.mecab_tokenizer_with_split import MecabTokenizerWithSplit\n",
    "tokenizer= MecabTokenizerWithSplit.new()\n",
    "\n",
    "tokens = tokenizer.tokenize(['らく賃の担当者は誰。', 'いえらぶの担当者は誰。', 'モバイル端末についての担当者は誰。'])\n",
    "display(tokens)\n",
    "\n",
    "# word vecを取得してみる\n",
    "display(model.word_vec('テスト'))    "
   ]
  },
  {
   "cell_type": "code",
   "execution_count": 4,
   "metadata": {
    "collapsed": false
   },
   "outputs": [
    {
     "data": {
      "text/plain": [
       "'らく賃'"
      ]
     },
     "metadata": {},
     "output_type": "display_data"
    },
    {
     "ename": "KeyError",
     "evalue": "\"word 'らく賃' not in vocabulary\"",
     "output_type": "error",
     "traceback": [
      "\u001b[0;31m---------------------------------------------------------------------------\u001b[0m",
      "\u001b[0;31mKeyError\u001b[0m                                  Traceback (most recent call last)",
      "\u001b[0;32m<ipython-input-4-45c838c39dc8>\u001b[0m in \u001b[0;36m<module>\u001b[0;34m()\u001b[0m\n\u001b[1;32m      1\u001b[0m \u001b[0mdisplay\u001b[0m\u001b[0;34m(\u001b[0m\u001b[0;34m'らく賃'\u001b[0m\u001b[0;34m)\u001b[0m\u001b[0;34m\u001b[0m\u001b[0m\n\u001b[0;32m----> 2\u001b[0;31m \u001b[0mdisplay\u001b[0m\u001b[0;34m(\u001b[0m\u001b[0mmodel\u001b[0m\u001b[0;34m.\u001b[0m\u001b[0mword_vec\u001b[0m\u001b[0;34m(\u001b[0m\u001b[0;34m'らく賃'\u001b[0m\u001b[0;34m)\u001b[0m\u001b[0;34m)\u001b[0m\u001b[0;34m\u001b[0m\u001b[0m\n\u001b[0m",
      "\u001b[0;32m/Users/shwld/.pyenv/versions/3.5.2/envs/donusagi-bot3/lib/python3.5/site-packages/gensim/models/keyedvectors.py\u001b[0m in \u001b[0;36mword_vec\u001b[0;34m(self, word, use_norm)\u001b[0m\n\u001b[1;32m    286\u001b[0m             \u001b[0;32mreturn\u001b[0m \u001b[0mresult\u001b[0m\u001b[0;34m\u001b[0m\u001b[0m\n\u001b[1;32m    287\u001b[0m         \u001b[0;32melse\u001b[0m\u001b[0;34m:\u001b[0m\u001b[0;34m\u001b[0m\u001b[0m\n\u001b[0;32m--> 288\u001b[0;31m             \u001b[0;32mraise\u001b[0m \u001b[0mKeyError\u001b[0m\u001b[0;34m(\u001b[0m\u001b[0;34m\"word '%s' not in vocabulary\"\u001b[0m \u001b[0;34m%\u001b[0m \u001b[0mword\u001b[0m\u001b[0;34m)\u001b[0m\u001b[0;34m\u001b[0m\u001b[0m\n\u001b[0m\u001b[1;32m    289\u001b[0m \u001b[0;34m\u001b[0m\u001b[0m\n\u001b[1;32m    290\u001b[0m     \u001b[0;32mdef\u001b[0m \u001b[0mmost_similar\u001b[0m\u001b[0;34m(\u001b[0m\u001b[0mself\u001b[0m\u001b[0;34m,\u001b[0m \u001b[0mpositive\u001b[0m\u001b[0;34m=\u001b[0m\u001b[0;32mNone\u001b[0m\u001b[0;34m,\u001b[0m \u001b[0mnegative\u001b[0m\u001b[0;34m=\u001b[0m\u001b[0;32mNone\u001b[0m\u001b[0;34m,\u001b[0m \u001b[0mtopn\u001b[0m\u001b[0;34m=\u001b[0m\u001b[0;36m10\u001b[0m\u001b[0;34m,\u001b[0m \u001b[0mrestrict_vocab\u001b[0m\u001b[0;34m=\u001b[0m\u001b[0;32mNone\u001b[0m\u001b[0;34m,\u001b[0m \u001b[0mindexer\u001b[0m\u001b[0;34m=\u001b[0m\u001b[0;32mNone\u001b[0m\u001b[0;34m)\u001b[0m\u001b[0;34m:\u001b[0m\u001b[0;34m\u001b[0m\u001b[0m\n",
      "\u001b[0;31mKeyError\u001b[0m: \"word 'らく賃' not in vocabulary\""
     ]
    }
   ],
   "source": [
    "display('らく賃')\n",
    "display(model.word_vec('らく賃'))"
   ]
  },
  {
   "cell_type": "code",
   "execution_count": 5,
   "metadata": {
    "collapsed": false
   },
   "outputs": [
    {
     "data": {
      "text/plain": [
       "'いえらぶ'"
      ]
     },
     "metadata": {},
     "output_type": "display_data"
    },
    {
     "ename": "KeyError",
     "evalue": "\"word 'いえらぶ' not in vocabulary\"",
     "output_type": "error",
     "traceback": [
      "\u001b[0;31m---------------------------------------------------------------------------\u001b[0m",
      "\u001b[0;31mKeyError\u001b[0m                                  Traceback (most recent call last)",
      "\u001b[0;32m<ipython-input-5-e7d5e084b91f>\u001b[0m in \u001b[0;36m<module>\u001b[0;34m()\u001b[0m\n\u001b[1;32m      1\u001b[0m \u001b[0mdisplay\u001b[0m\u001b[0;34m(\u001b[0m\u001b[0;34m'いえらぶ'\u001b[0m\u001b[0;34m)\u001b[0m\u001b[0;34m\u001b[0m\u001b[0m\n\u001b[0;32m----> 2\u001b[0;31m \u001b[0mdisplay\u001b[0m\u001b[0;34m(\u001b[0m\u001b[0mmodel\u001b[0m\u001b[0;34m.\u001b[0m\u001b[0mword_vec\u001b[0m\u001b[0;34m(\u001b[0m\u001b[0;34m'いえらぶ'\u001b[0m\u001b[0;34m)\u001b[0m\u001b[0;34m)\u001b[0m\u001b[0;34m\u001b[0m\u001b[0m\n\u001b[0m",
      "\u001b[0;32m/Users/shwld/.pyenv/versions/3.5.2/envs/donusagi-bot3/lib/python3.5/site-packages/gensim/models/keyedvectors.py\u001b[0m in \u001b[0;36mword_vec\u001b[0;34m(self, word, use_norm)\u001b[0m\n\u001b[1;32m    286\u001b[0m             \u001b[0;32mreturn\u001b[0m \u001b[0mresult\u001b[0m\u001b[0;34m\u001b[0m\u001b[0m\n\u001b[1;32m    287\u001b[0m         \u001b[0;32melse\u001b[0m\u001b[0;34m:\u001b[0m\u001b[0;34m\u001b[0m\u001b[0m\n\u001b[0;32m--> 288\u001b[0;31m             \u001b[0;32mraise\u001b[0m \u001b[0mKeyError\u001b[0m\u001b[0;34m(\u001b[0m\u001b[0;34m\"word '%s' not in vocabulary\"\u001b[0m \u001b[0;34m%\u001b[0m \u001b[0mword\u001b[0m\u001b[0;34m)\u001b[0m\u001b[0;34m\u001b[0m\u001b[0m\n\u001b[0m\u001b[1;32m    289\u001b[0m \u001b[0;34m\u001b[0m\u001b[0m\n\u001b[1;32m    290\u001b[0m     \u001b[0;32mdef\u001b[0m \u001b[0mmost_similar\u001b[0m\u001b[0;34m(\u001b[0m\u001b[0mself\u001b[0m\u001b[0;34m,\u001b[0m \u001b[0mpositive\u001b[0m\u001b[0;34m=\u001b[0m\u001b[0;32mNone\u001b[0m\u001b[0;34m,\u001b[0m \u001b[0mnegative\u001b[0m\u001b[0;34m=\u001b[0m\u001b[0;32mNone\u001b[0m\u001b[0;34m,\u001b[0m \u001b[0mtopn\u001b[0m\u001b[0;34m=\u001b[0m\u001b[0;36m10\u001b[0m\u001b[0;34m,\u001b[0m \u001b[0mrestrict_vocab\u001b[0m\u001b[0;34m=\u001b[0m\u001b[0;32mNone\u001b[0m\u001b[0;34m,\u001b[0m \u001b[0mindexer\u001b[0m\u001b[0;34m=\u001b[0m\u001b[0;32mNone\u001b[0m\u001b[0;34m)\u001b[0m\u001b[0;34m:\u001b[0m\u001b[0;34m\u001b[0m\u001b[0m\n",
      "\u001b[0;31mKeyError\u001b[0m: \"word 'いえらぶ' not in vocabulary\""
     ]
    }
   ],
   "source": [
    "display('いえらぶ')\n",
    "display(model.word_vec('いえらぶ'))"
   ]
  },
  {
   "cell_type": "code",
   "execution_count": 6,
   "metadata": {
    "collapsed": false
   },
   "outputs": [
    {
     "data": {
      "text/plain": [
       "'モバイル端末'"
      ]
     },
     "metadata": {},
     "output_type": "display_data"
    },
    {
     "ename": "KeyError",
     "evalue": "\"word 'モバイル端末' not in vocabulary\"",
     "output_type": "error",
     "traceback": [
      "\u001b[0;31m---------------------------------------------------------------------------\u001b[0m",
      "\u001b[0;31mKeyError\u001b[0m                                  Traceback (most recent call last)",
      "\u001b[0;32m<ipython-input-6-ba5060114ce1>\u001b[0m in \u001b[0;36m<module>\u001b[0;34m()\u001b[0m\n\u001b[1;32m      1\u001b[0m \u001b[0mdisplay\u001b[0m\u001b[0;34m(\u001b[0m\u001b[0;34m'モバイル端末'\u001b[0m\u001b[0;34m)\u001b[0m\u001b[0;34m\u001b[0m\u001b[0m\n\u001b[0;32m----> 2\u001b[0;31m \u001b[0mdisplay\u001b[0m\u001b[0;34m(\u001b[0m\u001b[0mmodel\u001b[0m\u001b[0;34m.\u001b[0m\u001b[0mword_vec\u001b[0m\u001b[0;34m(\u001b[0m\u001b[0;34m'モバイル端末'\u001b[0m\u001b[0;34m)\u001b[0m\u001b[0;34m)\u001b[0m\u001b[0;34m\u001b[0m\u001b[0m\n\u001b[0m",
      "\u001b[0;32m/Users/shwld/.pyenv/versions/3.5.2/envs/donusagi-bot3/lib/python3.5/site-packages/gensim/models/keyedvectors.py\u001b[0m in \u001b[0;36mword_vec\u001b[0;34m(self, word, use_norm)\u001b[0m\n\u001b[1;32m    286\u001b[0m             \u001b[0;32mreturn\u001b[0m \u001b[0mresult\u001b[0m\u001b[0;34m\u001b[0m\u001b[0m\n\u001b[1;32m    287\u001b[0m         \u001b[0;32melse\u001b[0m\u001b[0;34m:\u001b[0m\u001b[0;34m\u001b[0m\u001b[0m\n\u001b[0;32m--> 288\u001b[0;31m             \u001b[0;32mraise\u001b[0m \u001b[0mKeyError\u001b[0m\u001b[0;34m(\u001b[0m\u001b[0;34m\"word '%s' not in vocabulary\"\u001b[0m \u001b[0;34m%\u001b[0m \u001b[0mword\u001b[0m\u001b[0;34m)\u001b[0m\u001b[0;34m\u001b[0m\u001b[0m\n\u001b[0m\u001b[1;32m    289\u001b[0m \u001b[0;34m\u001b[0m\u001b[0m\n\u001b[1;32m    290\u001b[0m     \u001b[0;32mdef\u001b[0m \u001b[0mmost_similar\u001b[0m\u001b[0;34m(\u001b[0m\u001b[0mself\u001b[0m\u001b[0;34m,\u001b[0m \u001b[0mpositive\u001b[0m\u001b[0;34m=\u001b[0m\u001b[0;32mNone\u001b[0m\u001b[0;34m,\u001b[0m \u001b[0mnegative\u001b[0m\u001b[0;34m=\u001b[0m\u001b[0;32mNone\u001b[0m\u001b[0;34m,\u001b[0m \u001b[0mtopn\u001b[0m\u001b[0;34m=\u001b[0m\u001b[0;36m10\u001b[0m\u001b[0;34m,\u001b[0m \u001b[0mrestrict_vocab\u001b[0m\u001b[0;34m=\u001b[0m\u001b[0;32mNone\u001b[0m\u001b[0;34m,\u001b[0m \u001b[0mindexer\u001b[0m\u001b[0;34m=\u001b[0m\u001b[0;32mNone\u001b[0m\u001b[0;34m)\u001b[0m\u001b[0;34m:\u001b[0m\u001b[0;34m\u001b[0m\u001b[0m\n",
      "\u001b[0;31mKeyError\u001b[0m: \"word 'モバイル端末' not in vocabulary\""
     ]
    }
   ],
   "source": [
    "display('モバイル端末')\n",
    "display(model.word_vec('モバイル端末'))"
   ]
  },
  {
   "cell_type": "code",
   "execution_count": 7,
   "metadata": {
    "collapsed": false
   },
   "outputs": [
    {
     "data": {
      "text/plain": [
       "'担当者'"
      ]
     },
     "metadata": {},
     "output_type": "display_data"
    },
    {
     "data": {
      "text/plain": [
       "array([ 0.056986  ,  0.17478999, -0.15984   , -0.32765999, -0.24581   ,\n",
       "       -0.37698999,  0.16311   , -0.11322   ,  0.29589999, -0.050255  ,\n",
       "       -0.077915  ,  0.17324001,  0.044553  , -0.17856   ,  0.11602   ,\n",
       "        0.014085  ,  0.24297   , -0.072496  ,  0.20068   , -0.032899  ,\n",
       "        0.28057   , -0.19958   , -0.039837  , -0.01662   ,  0.28310999,\n",
       "       -0.13091999,  0.17889   ,  0.09956   , -0.33028999,  0.10294   ,\n",
       "        0.12164   , -0.32354   , -0.15332   ,  0.23683999, -0.15465   ,\n",
       "       -0.054911  ,  0.35392001,  0.06005   , -0.29280999, -0.19287001,\n",
       "       -0.068742  ,  0.23616999, -0.10095   ,  0.042734  ,  0.12292   ,\n",
       "        0.31424001, -0.40764001, -0.038019  ,  0.14846   , -0.13745999,\n",
       "       -0.32422   ,  0.043431  , -0.03734   , -0.10136   ,  0.23747   ,\n",
       "        0.027833  , -0.28523001,  0.075211  ,  0.36513001,  0.1673    ,\n",
       "        0.090613  , -0.023683  , -0.017011  ,  0.039609  , -0.25260001,\n",
       "        0.12341   ,  0.19627   ,  0.0029451 ,  0.1605    , -0.0029288 ,\n",
       "       -0.2678    ,  0.43999001,  0.16711999, -0.30360001, -0.32159001,\n",
       "        0.022652  ,  0.18532   ,  0.24457   , -0.27825001, -0.16851   ,\n",
       "        0.38126001, -0.28303999,  0.48291999,  0.01527   ,  0.30317   ,\n",
       "        0.16795   ,  0.095072  ,  0.10339   , -0.14769   ,  0.1344    ,\n",
       "       -0.060941  , -0.23697001, -0.22066   , -0.019938  ,  0.34602001,\n",
       "        0.0044334 , -0.037118  ,  0.096997  ,  0.023284  ,  0.02689   ,\n",
       "        0.23348001,  0.15285   ,  0.15955   ,  0.19087   , -0.55748999,\n",
       "       -0.17725   ,  0.10082   , -0.09261   ,  0.16009   , -0.35235   ,\n",
       "        0.20853999, -0.010572  , -0.07777   ,  0.25038001, -0.28751999,\n",
       "        0.19606   ,  0.1795    , -0.15415999, -0.199     , -0.053505  ,\n",
       "        0.17587   ,  0.013284  ,  0.19124   , -0.030313  , -0.17305   ,\n",
       "        0.35047999,  0.15938   , -0.10575   ,  0.10754   , -0.016209  ,\n",
       "       -0.12921999, -0.075638  ,  0.2       , -0.12884   , -0.22545999,\n",
       "       -0.095196  , -0.21426   , -0.16403   ,  0.17358001,  0.035596  ,\n",
       "       -0.23269001,  0.017552  ,  0.0098526 , -0.075493  ,  0.19187   ,\n",
       "       -0.13665999, -0.019955  ,  0.2427    , -0.28656   ,  0.15933   ,\n",
       "        0.19938999,  0.14895999,  0.32831001, -0.34793001, -0.04966   ,\n",
       "       -0.07728   , -0.20937   ,  0.32480001,  0.26932001,  0.11371   ,\n",
       "       -0.16709   ,  0.14320999,  0.43542999,  0.1793    ,  0.062613  ,\n",
       "       -0.071267  , -0.14195   ,  0.16655   ,  0.028245  , -0.025789  ,\n",
       "       -0.34926   , -0.17317   , -0.18849   ,  0.07979   ,  0.052632  ,\n",
       "       -0.070081  ,  0.2334    , -0.35066   , -0.20327   ,  0.16913   ,\n",
       "        0.049004  ,  0.15166999,  0.10105   ,  0.13395999, -0.22235   ,\n",
       "       -0.1512    , -0.22215   ,  0.18456   , -0.13618   ,  0.60365999,\n",
       "       -0.23806   ,  0.15681   , -0.039172  ,  0.082289  , -0.060315  ,\n",
       "       -0.17896999, -0.22883999, -0.044491  ,  0.13084   ,  0.16443001,\n",
       "        0.0040291 ,  0.16943   , -0.040712  , -0.20025   ,  0.16162001,\n",
       "        0.33355001,  0.20012   , -0.063017  , -0.39103001,  0.16214   ,\n",
       "        0.16522001,  0.25602001, -0.23013   , -0.063172  ,  0.19031   ,\n",
       "        0.29604   ,  0.22222   ,  0.07447   , -0.17646   ,  0.1558    ,\n",
       "        0.082184  , -0.24232   , -0.041277  , -0.36236   , -0.40586999,\n",
       "        0.20297   ,  0.43945   ,  0.13277   ,  0.26413   , -0.05672   ,\n",
       "        0.16539   ,  0.18020999, -0.028903  , -0.01642   , -0.11067   ,\n",
       "       -0.026467  ,  0.30596   ,  0.20882   ,  0.021394  ,  0.20495   ,\n",
       "       -0.042674  , -0.040106  ,  0.12257   , -0.40505001, -0.32264999,\n",
       "       -0.22916   ,  0.18696   , -0.032985  ,  0.32875001, -0.13794   ,\n",
       "        0.051939  , -0.073517  , -0.11748   ,  0.16937   ,  0.02495   ,\n",
       "       -0.11626   ,  0.106     ,  0.22259   , -0.053     ,  0.14133   ,\n",
       "        0.024766  , -0.18554001, -0.20705   ,  0.31218001,  0.049014  ,\n",
       "        0.48197001, -0.035471  , -0.14757   ,  0.1035    ,  0.12423   ,\n",
       "       -0.12896   ,  0.034657  , -0.066386  ,  0.22172999, -0.37641001,\n",
       "        0.31518999,  0.093549  , -0.045165  , -0.068214  , -0.20197   ,\n",
       "       -0.34839001, -0.13679001, -0.18705   , -0.095546  ,  0.40116999,\n",
       "       -0.40388   ,  0.069104  , -0.11764   , -0.12622   ,  0.0099439 ,\n",
       "        0.036656  ,  0.061021  , -0.063437  , -0.24011999, -0.036416  ,\n",
       "        0.029948  ,  0.29883   ,  0.16707   , -0.41869   , -0.16357   ], dtype=float32)"
      ]
     },
     "metadata": {},
     "output_type": "display_data"
    }
   ],
   "source": [
    "display('担当者')\n",
    "display(model.word_vec('担当者'))"
   ]
  },
  {
   "cell_type": "code",
   "execution_count": 8,
   "metadata": {
    "collapsed": false
   },
   "outputs": [
    {
     "data": {
      "text/plain": [
       "'誰'"
      ]
     },
     "metadata": {},
     "output_type": "display_data"
    },
    {
     "data": {
      "text/plain": [
       "array([  2.51690000e-02,  -1.01480000e-01,  -5.12830019e-01,\n",
       "        -1.45129994e-01,   1.44140005e-01,  -1.52539998e-01,\n",
       "         1.90599993e-01,   1.72780007e-01,   2.48390004e-01,\n",
       "        -1.85100008e-02,  -3.01860005e-01,   3.37289989e-01,\n",
       "        -1.56460002e-01,  -8.15650001e-02,   7.15259984e-02,\n",
       "        -5.37489988e-02,  -2.85310000e-01,  -2.61900008e-01,\n",
       "         2.21019998e-01,   1.09849997e-01,   8.71630013e-02,\n",
       "         1.02300001e-02,  -6.46260008e-02,  -3.07040006e-01,\n",
       "         1.03150003e-01,   1.41740004e-02,  -2.86570005e-02,\n",
       "        -1.96270004e-01,  -4.40009981e-02,   1.47499993e-01,\n",
       "        -7.27570010e-03,  -6.23760000e-03,  -5.28200008e-02,\n",
       "         4.39069986e-01,  -2.24890001e-02,   3.32929999e-01,\n",
       "         1.79260001e-02,   3.58829983e-02,   5.91120012e-02,\n",
       "        -3.22219998e-01,   2.71990001e-01,  -7.26649985e-02,\n",
       "        -1.03129998e-01,   1.15549996e-01,  -1.20529998e-02,\n",
       "        -2.71140009e-01,  -8.42240006e-02,  -1.35380000e-01,\n",
       "         7.92680010e-02,   9.28319991e-02,  -9.67440009e-03,\n",
       "         1.04950003e-01,  -7.65670016e-02,   1.40880004e-01,\n",
       "        -1.51319996e-01,   3.25159997e-01,  -2.10569993e-01,\n",
       "        -2.52409995e-01,   1.41610000e-02,  -1.22919999e-01,\n",
       "        -1.47890002e-01,   2.46509999e-01,  -2.53470003e-04,\n",
       "         1.34149998e-01,  -3.58669996e-01,   7.90589973e-02,\n",
       "        -5.30869998e-02,  -2.71090001e-01,   7.73010030e-02,\n",
       "        -1.04649998e-01,   1.83939993e-01,  -1.79460004e-01,\n",
       "         2.00130001e-01,   9.24070030e-02,   2.17629999e-01,\n",
       "        -6.32349998e-02,   1.60909995e-01,   1.91110000e-01,\n",
       "        -2.59099994e-02,   4.74129990e-02,   3.66569996e-01,\n",
       "         3.11789989e-01,   2.63020009e-01,   2.08539993e-01,\n",
       "         4.79739994e-01,   6.28570020e-02,   1.02540001e-01,\n",
       "         2.04769999e-01,  -2.41239995e-01,   1.15099996e-01,\n",
       "        -6.33959994e-02,  -1.46869998e-02,   4.31019999e-02,\n",
       "         2.21880004e-02,   1.69869997e-02,  -1.99049994e-01,\n",
       "         6.80650026e-02,  -2.38460004e-01,   1.80409998e-01,\n",
       "        -6.46580011e-02,   2.71739990e-01,  -6.35839999e-02,\n",
       "         1.72340006e-01,  -1.84379995e-01,  -4.01140004e-01,\n",
       "         3.17110009e-02,  -3.84909995e-02,  -6.07950017e-02,\n",
       "         1.81709994e-02,   3.04720014e-01,  -3.37830000e-02,\n",
       "        -1.30180001e-01,   1.41059998e-02,   7.60930032e-02,\n",
       "         3.67680006e-02,   7.26260021e-02,  -4.83949989e-01,\n",
       "        -2.96560004e-02,  -3.61739993e-01,   8.06780010e-02,\n",
       "        -1.23889998e-01,   1.02700004e-02,   1.01790003e-01,\n",
       "         2.91150007e-02,  -6.17510006e-02,  -7.46819973e-02,\n",
       "        -2.21590009e-02,  -2.12289998e-03,   1.69550002e-01,\n",
       "        -1.92860007e-01,   2.61530012e-01,   7.94589967e-02,\n",
       "         3.42800003e-03,   1.23879999e-01,  -1.73940003e-01,\n",
       "         8.47740024e-02,  -1.17660001e-01,   9.97439995e-02,\n",
       "        -1.68249995e-01,   3.53850007e-01,  -2.19200000e-01,\n",
       "         1.89989999e-01,  -2.21430004e-01,   1.67679995e-01,\n",
       "         1.07370000e-02,   7.67510012e-02,   1.20090000e-01,\n",
       "         1.95470005e-01,  -2.71369994e-01,  -4.12880003e-01,\n",
       "        -7.17829987e-02,  -3.64630014e-01,   8.74660015e-02,\n",
       "        -1.65779993e-01,   1.86189994e-01,   1.93279997e-01,\n",
       "         1.52109995e-01,   1.71990007e-01,   2.49840006e-01,\n",
       "         8.35930035e-02,  -9.40980017e-02,   8.71549994e-02,\n",
       "        -2.07340002e-01,   1.20069995e-03,   1.35670006e-01,\n",
       "         4.17889990e-02,   2.67470002e-01,  -2.26630002e-01,\n",
       "         3.61240000e-01,   3.74629982e-02,  -1.69300005e-01,\n",
       "         1.36409998e-01,  -9.40430015e-02,   5.20160019e-01,\n",
       "        -4.32580002e-02,  -3.96540016e-02,   1.40049994e-01,\n",
       "        -3.49150002e-01,   1.76449999e-01,   5.24249971e-01,\n",
       "         4.34650004e-01,  -1.89539999e-01,   3.11260000e-02,\n",
       "         1.71349999e-02,  -8.58490020e-02,  -1.77550003e-01,\n",
       "        -2.79870003e-01,  -3.38939987e-02,   7.08940029e-02,\n",
       "         1.74410008e-02,  -9.07950029e-02,   8.60690027e-02,\n",
       "         2.85129994e-01,  -4.18029986e-02,   2.59519994e-01,\n",
       "        -4.07900006e-01,   4.36570011e-02,   4.22560014e-02,\n",
       "         9.77109969e-02,   1.27710000e-01,   7.51139969e-02,\n",
       "         3.10249999e-02,  -1.77890006e-02,   6.49109995e-03,\n",
       "         9.23710018e-02,   2.09460005e-01,   1.05269998e-01,\n",
       "         3.70299995e-01,  -5.28159998e-02,   5.60510010e-02,\n",
       "         1.65969998e-01,  -3.55530009e-02,  -1.49140000e-01,\n",
       "         2.89649993e-01,  -1.57470003e-01,   4.06179987e-02,\n",
       "         1.07620001e-01,  -3.68239991e-02,  -2.14479998e-01,\n",
       "        -2.36289993e-01,   4.33499999e-02,  -3.75620008e-01,\n",
       "        -8.74499977e-02,  -2.98240006e-01,  -1.79409996e-01,\n",
       "         2.61819996e-02,   1.82970002e-01,  -5.36959991e-02,\n",
       "         2.57140011e-01,   4.20110002e-02,  -2.98200008e-02,\n",
       "        -3.05940006e-02,  -6.07369980e-03,   1.15450002e-01,\n",
       "         2.67789990e-01,  -4.67949994e-02,   2.64200002e-01,\n",
       "         1.51490003e-01,  -1.68310001e-01,   1.09949999e-01,\n",
       "        -1.19819999e-01,   2.91290004e-02,   2.21090000e-02,\n",
       "        -2.88449991e-02,  -2.84240007e-01,   2.51889993e-02,\n",
       "        -8.20979998e-02,  -2.47690007e-01,   2.49550000e-01,\n",
       "         2.37959996e-01,   8.85980017e-03,  -4.15740013e-02,\n",
       "        -3.66280004e-02,  -3.80720012e-02,   2.56000012e-01,\n",
       "        -9.19909999e-02,   6.72769994e-02,   9.30310041e-03,\n",
       "        -5.81820011e-02,  -3.03470008e-02,   4.34660017e-02,\n",
       "         1.05269998e-01,   5.36359996e-02,  -3.93659994e-02,\n",
       "        -2.34520003e-01,  -5.71850017e-02,   2.77209997e-01,\n",
       "        -7.04220012e-02,  -1.85929999e-01,   9.00259987e-02,\n",
       "         2.33280003e-01,   1.22950003e-01,  -5.49869984e-03,\n",
       "         2.70830005e-01,  -3.10790002e-01,   2.91289985e-01,\n",
       "         1.52270004e-01,  -1.46930004e-02,  -3.57119995e-03,\n",
       "         1.45429999e-01,   7.91329965e-02,   1.86030000e-01,\n",
       "         1.67640001e-01,   4.83210012e-03,   1.38899997e-01,\n",
       "        -2.27060005e-01,  -1.13869999e-02,  -1.55739993e-01,\n",
       "         1.48890004e-01,  -1.08220004e-01,   1.44830003e-01,\n",
       "        -1.76080003e-01,  -2.17930004e-01,  -9.93740037e-02,\n",
       "        -2.01110005e-01,  -1.60840005e-01,  -5.03549993e-01,\n",
       "        -1.77579999e-01,   3.34100008e-01,   1.21820003e-01], dtype=float32)"
      ]
     },
     "metadata": {},
     "output_type": "display_data"
    }
   ],
   "source": [
    "display('誰')\n",
    "display(model.word_vec('誰'))"
   ]
  },
  {
   "cell_type": "code",
   "execution_count": 9,
   "metadata": {
    "collapsed": false
   },
   "outputs": [
    {
     "data": {
      "text/plain": [
       "1.3249718045472554"
      ]
     },
     "metadata": {},
     "output_type": "display_data"
    },
    {
     "data": {
      "text/plain": [
       "3.8301582195360018"
      ]
     },
     "metadata": {},
     "output_type": "display_data"
    },
    {
     "data": {
      "text/plain": [
       "0.0"
      ]
     },
     "metadata": {},
     "output_type": "display_data"
    }
   ],
   "source": [
    "display(model.wmdistance('らく賃の担当者は誰。', 'いえらぶの担当者は誰。'))\n",
    "display(model.wmdistance('らく賃', 'いえらぶ'))\n",
    "display(model.wmdistance('担当者は誰。', '担当者は誰。'))"
   ]
  },
  {
   "cell_type": "code",
   "execution_count": 10,
   "metadata": {
    "collapsed": false
   },
   "outputs": [],
   "source": [
    "from gensim.similarities import WmdSimilarity\n",
    "\n",
    "wmd1 = WmdSimilarity(tokens, model, num_best=10)"
   ]
  },
  {
   "cell_type": "code",
   "execution_count": 11,
   "metadata": {
    "collapsed": false
   },
   "outputs": [
    {
     "data": {
      "text/plain": [
       "[(0, 1.0), (1, 1.0), (2, 1.0)]"
      ]
     },
     "execution_count": 11,
     "metadata": {},
     "output_type": "execute_result"
    }
   ],
   "source": [
    "wmd1[['らく賃', '担当者', '誰']]"
   ]
  },
  {
   "cell_type": "code",
   "execution_count": 12,
   "metadata": {
    "collapsed": true
   },
   "outputs": [],
   "source": [
    "wmd2 = WmdSimilarity(['らく賃 担当者 誰', 'いえらぶ 担当者 誰', 'モバイル端末 担当者 誰'], model, num_best=10)"
   ]
  },
  {
   "cell_type": "code",
   "execution_count": 13,
   "metadata": {
    "collapsed": false
   },
   "outputs": [
    {
     "data": {
      "text/plain": [
       "[(0, 1.0), (1, 0.6994033441176285), (2, 0.56963054742410635)]"
      ]
     },
     "execution_count": 13,
     "metadata": {},
     "output_type": "execute_result"
    }
   ],
   "source": [
    "wmd2['らく賃 担当者 誰']"
   ]
  },
  {
   "cell_type": "code",
   "execution_count": 14,
   "metadata": {
    "collapsed": true
   },
   "outputs": [],
   "source": [
    "wmd3 = WmdSimilarity(['らく賃の担当者は誰。', 'いえらぶの担当者は誰。', 'モバイル端末についての担当者は誰。'], model, num_best=10)"
   ]
  },
  {
   "cell_type": "code",
   "execution_count": 15,
   "metadata": {
    "collapsed": false
   },
   "outputs": [
    {
     "data": {
      "text/plain": [
       "[(0, 1.0), (1, 0.7655352735254437), (2, 0.60063926300225301)]"
      ]
     },
     "execution_count": 15,
     "metadata": {},
     "output_type": "execute_result"
    }
   ],
   "source": [
    "wmd3['らく賃の担当者は誰。']"
   ]
  },
  {
   "cell_type": "markdown",
   "metadata": {},
   "source": [
    "WmdSimilarityに渡す文章の形によってSimilarityが違うことが確認できた。\n",
    "Similarityが高いので `wmd1` のパターンを使っていたが、未知語の場合に他との関連を見れない?のかもしれない(3つの単語ともvocabraryにないため同じ値になる?)\n",
    "`wmd2` や `wmd3` のように項目をarrayに区切らなければよしなに見てくれそうな感じ。\n",
    "\n",
    "前処理はやっておきたいので、tokenizeを通してスペース区切りにする `wmd2` のパターンが良さそう"
   ]
  },
  {
   "cell_type": "markdown",
   "metadata": {},
   "source": [
    "## 実際のデータを使って試してみる"
   ]
  },
  {
   "cell_type": "code",
   "execution_count": 16,
   "metadata": {
    "collapsed": false
   },
   "outputs": [
    {
     "name": "stderr",
     "output_type": "stream",
     "text": [
      "[DEBUG 140736254448448 2017/12/11 AM 10:39:06  mecab_tokenizer_with_split: 10 -               __init__] dicdir: /usr/local/lib/mecab/dic/mecab-ipadic-neologd\n"
     ]
    },
    {
     "data": {
      "text/plain": [
       "(1223, 5)"
      ]
     },
     "metadata": {},
     "output_type": "display_data"
    }
   ],
   "source": [
    "from app.shared.datasource.file.question_answers import QuestionAnswers\n",
    "from app.core.tokenizer.mecab_tokenizer import MecabTokenizer\n",
    "tokenizer2 = MecabTokenizer.new()\n",
    "\n",
    "qas_bot30 = QuestionAnswers().by_bot(30)\n",
    "display(qas_bot30.shape)\n"
   ]
  },
  {
   "cell_type": "markdown",
   "metadata": {},
   "source": [
    "### 今までの実装"
   ]
  },
  {
   "cell_type": "code",
   "execution_count": 17,
   "metadata": {
    "collapsed": true
   },
   "outputs": [],
   "source": [
    "tokens_bot30_1 = tokenizer.tokenize(qas_bot30['question'])\n",
    "wmd_bot30_1 = WmdSimilarity(tokens_bot30_1, model, num_best=10)"
   ]
  },
  {
   "cell_type": "code",
   "execution_count": 18,
   "metadata": {
    "collapsed": false
   },
   "outputs": [
    {
     "data": {
      "text/plain": [
       "[(574, 1.0),\n",
       " (1148, 1.0),\n",
       " (453, 1.0),\n",
       " (572, 1.0),\n",
       " (1149, 1.0),\n",
       " (396, 1.0),\n",
       " (517, 0.71654701096085771),\n",
       " (1078, 0.7161031217628433),\n",
       " (549, 0.70941629532653083),\n",
       " (451, 0.70691608093266634)]"
      ]
     },
     "metadata": {},
     "output_type": "display_data"
    },
    {
     "data": {
      "text/html": [
       "<div>\n",
       "<table border=\"1\" class=\"dataframe\">\n",
       "  <thead>\n",
       "    <tr style=\"text-align: right;\">\n",
       "      <th></th>\n",
       "      <th>id</th>\n",
       "      <th>question</th>\n",
       "      <th>answer</th>\n",
       "      <th>question_answer_id</th>\n",
       "      <th>bot_id</th>\n",
       "    </tr>\n",
       "  </thead>\n",
       "  <tbody>\n",
       "    <tr>\n",
       "      <th>1867</th>\n",
       "      <td>40744</td>\n",
       "      <td>JICの担当者は誰。</td>\n",
       "      <td>【担当者】JICの担当者は片岡・副担当者は佐野になります。お問合せは出来るだけガルーンメール...</td>\n",
       "      <td>24629</td>\n",
       "      <td>30</td>\n",
       "    </tr>\n",
       "    <tr>\n",
       "      <th>2441</th>\n",
       "      <td>41318</td>\n",
       "      <td>ジェイアイシーの担当者は誰。</td>\n",
       "      <td>【担当者】JICの担当者は片岡・副担当者は佐野になります。お問合せは出来るだけガルーンメール...</td>\n",
       "      <td>24629</td>\n",
       "      <td>30</td>\n",
       "    </tr>\n",
       "    <tr>\n",
       "      <th>1746</th>\n",
       "      <td>40623</td>\n",
       "      <td>いえらぶの担当者は誰。</td>\n",
       "      <td>【担当者】いえらぶの担当はシステム課の安達部長になります。ガルーンメールにてお問合せ下さい。</td>\n",
       "      <td>24506</td>\n",
       "      <td>30</td>\n",
       "    </tr>\n",
       "    <tr>\n",
       "      <th>1865</th>\n",
       "      <td>40742</td>\n",
       "      <td>らく賃の担当者は誰。\\n</td>\n",
       "      <td>【担当者】らく賃の担当者は石川・湊になります。お問合せは出来るだけガルーンメールにて連絡頂く...</td>\n",
       "      <td>24627</td>\n",
       "      <td>30</td>\n",
       "    </tr>\n",
       "    <tr>\n",
       "      <th>2442</th>\n",
       "      <td>41319</td>\n",
       "      <td>jicの担当者は誰。</td>\n",
       "      <td>【担当者】JICの担当者は片岡・副担当者は佐野になります。お問合せは出来るだけガルーンメール...</td>\n",
       "      <td>24629</td>\n",
       "      <td>30</td>\n",
       "    </tr>\n",
       "    <tr>\n",
       "      <th>1689</th>\n",
       "      <td>40566</td>\n",
       "      <td>モバイル端末についての担当者は誰。\\n</td>\n",
       "      <td>【担当者】モバイル端末の担当は戸塚になります。お問合せは出来るだけガルーンメールにて連絡頂く...</td>\n",
       "      <td>24424</td>\n",
       "      <td>30</td>\n",
       "    </tr>\n",
       "    <tr>\n",
       "      <th>1810</th>\n",
       "      <td>40687</td>\n",
       "      <td>反社チェックの担当者は誰。</td>\n",
       "      <td>【担当者】反社チェックの担当者は戸塚・副担当者は下山になります。お問合せは出来るだけガルーン...</td>\n",
       "      <td>24571</td>\n",
       "      <td>30</td>\n",
       "    </tr>\n",
       "    <tr>\n",
       "      <th>2371</th>\n",
       "      <td>41248</td>\n",
       "      <td>顧客ウェブシステムの担当者は誰。</td>\n",
       "      <td>\"【担当者】顧客システムの担当は安達　連絡先はサービス・イノベーション室【03-6717-6...</td>\n",
       "      <td>24500</td>\n",
       "      <td>30</td>\n",
       "    </tr>\n",
       "    <tr>\n",
       "      <th>1842</th>\n",
       "      <td>40719</td>\n",
       "      <td>eラーニング操作の担当者は誰。</td>\n",
       "      <td>【担当者】eラーニング操作の担当者は曽我部 そがべ・副担当者は傳住 でんずみになります。お問...</td>\n",
       "      <td>24603</td>\n",
       "      <td>30</td>\n",
       "    </tr>\n",
       "    <tr>\n",
       "      <th>1744</th>\n",
       "      <td>40621</td>\n",
       "      <td>年賀状の担当者は誰。\\n</td>\n",
       "      <td>【担当者】年賀状の担当は井上になります。お問合せは出来るだけガルーンメールにて連絡頂くようお...</td>\n",
       "      <td>24502</td>\n",
       "      <td>30</td>\n",
       "    </tr>\n",
       "  </tbody>\n",
       "</table>\n",
       "</div>"
      ],
      "text/plain": [
       "         id             question  \\\n",
       "1867  40744           JICの担当者は誰。   \n",
       "2441  41318       ジェイアイシーの担当者は誰。   \n",
       "1746  40623          いえらぶの担当者は誰。   \n",
       "1865  40742         らく賃の担当者は誰。\\n   \n",
       "2442  41319           jicの担当者は誰。   \n",
       "1689  40566  モバイル端末についての担当者は誰。\\n   \n",
       "1810  40687        反社チェックの担当者は誰。   \n",
       "2371  41248     顧客ウェブシステムの担当者は誰。   \n",
       "1842  40719      eラーニング操作の担当者は誰。   \n",
       "1744  40621         年賀状の担当者は誰。\\n   \n",
       "\n",
       "                                                 answer  question_answer_id  \\\n",
       "1867  【担当者】JICの担当者は片岡・副担当者は佐野になります。お問合せは出来るだけガルーンメール...               24629   \n",
       "2441  【担当者】JICの担当者は片岡・副担当者は佐野になります。お問合せは出来るだけガルーンメール...               24629   \n",
       "1746     【担当者】いえらぶの担当はシステム課の安達部長になります。ガルーンメールにてお問合せ下さい。               24506   \n",
       "1865  【担当者】らく賃の担当者は石川・湊になります。お問合せは出来るだけガルーンメールにて連絡頂く...               24627   \n",
       "2442  【担当者】JICの担当者は片岡・副担当者は佐野になります。お問合せは出来るだけガルーンメール...               24629   \n",
       "1689  【担当者】モバイル端末の担当は戸塚になります。お問合せは出来るだけガルーンメールにて連絡頂く...               24424   \n",
       "1810  【担当者】反社チェックの担当者は戸塚・副担当者は下山になります。お問合せは出来るだけガルーン...               24571   \n",
       "2371  \"【担当者】顧客システムの担当は安達　連絡先はサービス・イノベーション室【03-6717-6...               24500   \n",
       "1842  【担当者】eラーニング操作の担当者は曽我部 そがべ・副担当者は傳住 でんずみになります。お問...               24603   \n",
       "1744  【担当者】年賀状の担当は井上になります。お問合せは出来るだけガルーンメールにて連絡頂くようお...               24502   \n",
       "\n",
       "      bot_id  \n",
       "1867      30  \n",
       "2441      30  \n",
       "1746      30  \n",
       "1865      30  \n",
       "2442      30  \n",
       "1689      30  \n",
       "1810      30  \n",
       "2371      30  \n",
       "1842      30  \n",
       "1744      30  "
      ]
     },
     "metadata": {},
     "output_type": "display_data"
    }
   ],
   "source": [
    "similars = wmd_bot30_1[['らく賃', '担当者', '誰']]\n",
    "display(similars)\n",
    "display(qas_bot30.iloc[[row[0] for row in similars]])"
   ]
  },
  {
   "cell_type": "markdown",
   "metadata": {},
   "source": [
    "### スペース区切り"
   ]
  },
  {
   "cell_type": "code",
   "execution_count": 19,
   "metadata": {
    "collapsed": true
   },
   "outputs": [],
   "source": [
    "tokens_bot30_2 = tokenizer2.tokenize(qas_bot30['question'])\n",
    "wmd_bot30_2 = WmdSimilarity(tokens_bot30_2, model, num_best=10)"
   ]
  },
  {
   "cell_type": "code",
   "execution_count": 20,
   "metadata": {
    "collapsed": false
   },
   "outputs": [
    {
     "data": {
      "text/plain": [
       "[(572, 1.0),\n",
       " (1147, 0.78260970963175813),\n",
       " (453, 0.6994033441176285),\n",
       " (962, 0.65963664618101692),\n",
       " (520, 0.65112603640546984),\n",
       " (1149, 0.65074787551427049),\n",
       " (451, 0.64753788747877772),\n",
       " (450, 0.64717669537713329),\n",
       " (574, 0.63880511536965212),\n",
       " (504, 0.63147606907241061)]"
      ]
     },
     "metadata": {},
     "output_type": "display_data"
    },
    {
     "data": {
      "text/html": [
       "<div>\n",
       "<table border=\"1\" class=\"dataframe\">\n",
       "  <thead>\n",
       "    <tr style=\"text-align: right;\">\n",
       "      <th></th>\n",
       "      <th>id</th>\n",
       "      <th>question</th>\n",
       "      <th>answer</th>\n",
       "      <th>question_answer_id</th>\n",
       "      <th>bot_id</th>\n",
       "    </tr>\n",
       "  </thead>\n",
       "  <tbody>\n",
       "    <tr>\n",
       "      <th>1865</th>\n",
       "      <td>40742</td>\n",
       "      <td>らく賃の担当者は誰。\\n</td>\n",
       "      <td>【担当者】らく賃の担当者は石川・湊になります。お問合せは出来るだけガルーンメールにて連絡頂く...</td>\n",
       "      <td>24627</td>\n",
       "      <td>30</td>\n",
       "    </tr>\n",
       "    <tr>\n",
       "      <th>2440</th>\n",
       "      <td>41317</td>\n",
       "      <td>戸別らく賃の担当者は誰。\\n</td>\n",
       "      <td>【担当者】らく賃の担当者は石川・湊になります。お問合せは出来るだけガルーンメールにて連絡頂く...</td>\n",
       "      <td>24627</td>\n",
       "      <td>30</td>\n",
       "    </tr>\n",
       "    <tr>\n",
       "      <th>1746</th>\n",
       "      <td>40623</td>\n",
       "      <td>いえらぶの担当者は誰。</td>\n",
       "      <td>【担当者】いえらぶの担当はシステム課の安達部長になります。ガルーンメールにてお問合せ下さい。</td>\n",
       "      <td>24506</td>\n",
       "      <td>30</td>\n",
       "    </tr>\n",
       "    <tr>\n",
       "      <th>2255</th>\n",
       "      <td>41132</td>\n",
       "      <td>jicの担当者は誰になりますか。</td>\n",
       "      <td>【JIC】の主担当は片岡・副担当は佐野　連絡先は経理課【03-6717-6931】になります。</td>\n",
       "      <td>23929</td>\n",
       "      <td>30</td>\n",
       "    </tr>\n",
       "    <tr>\n",
       "      <th>1813</th>\n",
       "      <td>40690</td>\n",
       "      <td>持株会の担当者は誰。</td>\n",
       "      <td>【担当者】持株会の担当者は下山・副担当者は戸塚になります。お問合せは出来るだけガルーンメール...</td>\n",
       "      <td>24574</td>\n",
       "      <td>30</td>\n",
       "    </tr>\n",
       "    <tr>\n",
       "      <th>2442</th>\n",
       "      <td>41319</td>\n",
       "      <td>jicの担当者は誰。</td>\n",
       "      <td>【担当者】JICの担当者は片岡・副担当者は佐野になります。お問合せは出来るだけガルーンメール...</td>\n",
       "      <td>24629</td>\n",
       "      <td>30</td>\n",
       "    </tr>\n",
       "    <tr>\n",
       "      <th>1744</th>\n",
       "      <td>40621</td>\n",
       "      <td>年賀状の担当者は誰。\\n</td>\n",
       "      <td>【担当者】年賀状の担当は井上になります。お問合せは出来るだけガルーンメールにて連絡頂くようお...</td>\n",
       "      <td>24502</td>\n",
       "      <td>30</td>\n",
       "    </tr>\n",
       "    <tr>\n",
       "      <th>1743</th>\n",
       "      <td>40620</td>\n",
       "      <td>ロゴの担当者は誰。\\n</td>\n",
       "      <td>\"【担当者】ロゴの担当は豊田・副担当は安達になります。お問合せは出来るだけガルーンメールにて...</td>\n",
       "      <td>24501</td>\n",
       "      <td>30</td>\n",
       "    </tr>\n",
       "    <tr>\n",
       "      <th>1867</th>\n",
       "      <td>40744</td>\n",
       "      <td>JICの担当者は誰。</td>\n",
       "      <td>【担当者】JICの担当者は片岡・副担当者は佐野になります。お問合せは出来るだけガルーンメール...</td>\n",
       "      <td>24629</td>\n",
       "      <td>30</td>\n",
       "    </tr>\n",
       "    <tr>\n",
       "      <th>1797</th>\n",
       "      <td>40674</td>\n",
       "      <td>周辺商品でらく賃（受託）の担当者は誰。</td>\n",
       "      <td>【担当者】らく賃（受託）の担当者は石川・副担当者は湊になります。お問合せは出来るだけガルーン...</td>\n",
       "      <td>24558</td>\n",
       "      <td>30</td>\n",
       "    </tr>\n",
       "  </tbody>\n",
       "</table>\n",
       "</div>"
      ],
      "text/plain": [
       "         id             question  \\\n",
       "1865  40742         らく賃の担当者は誰。\\n   \n",
       "2440  41317       戸別らく賃の担当者は誰。\\n   \n",
       "1746  40623          いえらぶの担当者は誰。   \n",
       "2255  41132     jicの担当者は誰になりますか。   \n",
       "1813  40690           持株会の担当者は誰。   \n",
       "2442  41319           jicの担当者は誰。   \n",
       "1744  40621         年賀状の担当者は誰。\\n   \n",
       "1743  40620          ロゴの担当者は誰。\\n   \n",
       "1867  40744           JICの担当者は誰。   \n",
       "1797  40674  周辺商品でらく賃（受託）の担当者は誰。   \n",
       "\n",
       "                                                 answer  question_answer_id  \\\n",
       "1865  【担当者】らく賃の担当者は石川・湊になります。お問合せは出来るだけガルーンメールにて連絡頂く...               24627   \n",
       "2440  【担当者】らく賃の担当者は石川・湊になります。お問合せは出来るだけガルーンメールにて連絡頂く...               24627   \n",
       "1746     【担当者】いえらぶの担当はシステム課の安達部長になります。ガルーンメールにてお問合せ下さい。               24506   \n",
       "2255    【JIC】の主担当は片岡・副担当は佐野　連絡先は経理課【03-6717-6931】になります。               23929   \n",
       "1813  【担当者】持株会の担当者は下山・副担当者は戸塚になります。お問合せは出来るだけガルーンメール...               24574   \n",
       "2442  【担当者】JICの担当者は片岡・副担当者は佐野になります。お問合せは出来るだけガルーンメール...               24629   \n",
       "1744  【担当者】年賀状の担当は井上になります。お問合せは出来るだけガルーンメールにて連絡頂くようお...               24502   \n",
       "1743  \"【担当者】ロゴの担当は豊田・副担当は安達になります。お問合せは出来るだけガルーンメールにて...               24501   \n",
       "1867  【担当者】JICの担当者は片岡・副担当者は佐野になります。お問合せは出来るだけガルーンメール...               24629   \n",
       "1797  【担当者】らく賃（受託）の担当者は石川・副担当者は湊になります。お問合せは出来るだけガルーン...               24558   \n",
       "\n",
       "      bot_id  \n",
       "1865      30  \n",
       "2440      30  \n",
       "1746      30  \n",
       "2255      30  \n",
       "1813      30  \n",
       "2442      30  \n",
       "1744      30  \n",
       "1743      30  \n",
       "1867      30  \n",
       "1797      30  "
      ]
     },
     "metadata": {},
     "output_type": "display_data"
    }
   ],
   "source": [
    "similars = wmd_bot30_2['らく賃 担当者 誰']\n",
    "display(similars)\n",
    "display(qas_bot30.iloc[[row[0] for row in similars]])"
   ]
  },
  {
   "cell_type": "markdown",
   "metadata": {},
   "source": [
    "### mecab無し"
   ]
  },
  {
   "cell_type": "code",
   "execution_count": 21,
   "metadata": {
    "collapsed": true
   },
   "outputs": [],
   "source": [
    "wmd_bot30_3 = WmdSimilarity(qas_bot30['question'], model, num_best=10)"
   ]
  },
  {
   "cell_type": "code",
   "execution_count": 22,
   "metadata": {
    "collapsed": false
   },
   "outputs": [
    {
     "data": {
      "text/plain": [
       "[(572, 1.0),\n",
       " (1147, 0.82908777040740245),\n",
       " (453, 0.7655352735254437),\n",
       " (520, 0.72724043468504995),\n",
       " (450, 0.72546308702944229),\n",
       " (451, 0.724103414581448),\n",
       " (1149, 0.71666715699072459),\n",
       " (574, 0.7156667189567828),\n",
       " (434, 0.68187320572238153),\n",
       " (516, 0.66691348401199924)]"
      ]
     },
     "metadata": {},
     "output_type": "display_data"
    },
    {
     "data": {
      "text/html": [
       "<div>\n",
       "<table border=\"1\" class=\"dataframe\">\n",
       "  <thead>\n",
       "    <tr style=\"text-align: right;\">\n",
       "      <th></th>\n",
       "      <th>id</th>\n",
       "      <th>question</th>\n",
       "      <th>answer</th>\n",
       "      <th>question_answer_id</th>\n",
       "      <th>bot_id</th>\n",
       "    </tr>\n",
       "  </thead>\n",
       "  <tbody>\n",
       "    <tr>\n",
       "      <th>1865</th>\n",
       "      <td>40742</td>\n",
       "      <td>らく賃の担当者は誰。\\n</td>\n",
       "      <td>【担当者】らく賃の担当者は石川・湊になります。お問合せは出来るだけガルーンメールにて連絡頂く...</td>\n",
       "      <td>24627</td>\n",
       "      <td>30</td>\n",
       "    </tr>\n",
       "    <tr>\n",
       "      <th>2440</th>\n",
       "      <td>41317</td>\n",
       "      <td>戸別らく賃の担当者は誰。\\n</td>\n",
       "      <td>【担当者】らく賃の担当者は石川・湊になります。お問合せは出来るだけガルーンメールにて連絡頂く...</td>\n",
       "      <td>24627</td>\n",
       "      <td>30</td>\n",
       "    </tr>\n",
       "    <tr>\n",
       "      <th>1746</th>\n",
       "      <td>40623</td>\n",
       "      <td>いえらぶの担当者は誰。</td>\n",
       "      <td>【担当者】いえらぶの担当はシステム課の安達部長になります。ガルーンメールにてお問合せ下さい。</td>\n",
       "      <td>24506</td>\n",
       "      <td>30</td>\n",
       "    </tr>\n",
       "    <tr>\n",
       "      <th>1813</th>\n",
       "      <td>40690</td>\n",
       "      <td>持株会の担当者は誰。</td>\n",
       "      <td>【担当者】持株会の担当者は下山・副担当者は戸塚になります。お問合せは出来るだけガルーンメール...</td>\n",
       "      <td>24574</td>\n",
       "      <td>30</td>\n",
       "    </tr>\n",
       "    <tr>\n",
       "      <th>1743</th>\n",
       "      <td>40620</td>\n",
       "      <td>ロゴの担当者は誰。\\n</td>\n",
       "      <td>\"【担当者】ロゴの担当は豊田・副担当は安達になります。お問合せは出来るだけガルーンメールにて...</td>\n",
       "      <td>24501</td>\n",
       "      <td>30</td>\n",
       "    </tr>\n",
       "    <tr>\n",
       "      <th>1744</th>\n",
       "      <td>40621</td>\n",
       "      <td>年賀状の担当者は誰。\\n</td>\n",
       "      <td>【担当者】年賀状の担当は井上になります。お問合せは出来るだけガルーンメールにて連絡頂くようお...</td>\n",
       "      <td>24502</td>\n",
       "      <td>30</td>\n",
       "    </tr>\n",
       "    <tr>\n",
       "      <th>2442</th>\n",
       "      <td>41319</td>\n",
       "      <td>jicの担当者は誰。</td>\n",
       "      <td>【担当者】JICの担当者は片岡・副担当者は佐野になります。お問合せは出来るだけガルーンメール...</td>\n",
       "      <td>24629</td>\n",
       "      <td>30</td>\n",
       "    </tr>\n",
       "    <tr>\n",
       "      <th>1867</th>\n",
       "      <td>40744</td>\n",
       "      <td>JICの担当者は誰。</td>\n",
       "      <td>【担当者】JICの担当者は片岡・副担当者は佐野になります。お問合せは出来るだけガルーンメール...</td>\n",
       "      <td>24629</td>\n",
       "      <td>30</td>\n",
       "    </tr>\n",
       "    <tr>\n",
       "      <th>1727</th>\n",
       "      <td>40604</td>\n",
       "      <td>社員旅行の担当者は誰。</td>\n",
       "      <td>【社員旅行の担当者】担当は総務課の上野係長になります。ガルーンメールにてお問合せ下さい。</td>\n",
       "      <td>24483</td>\n",
       "      <td>30</td>\n",
       "    </tr>\n",
       "    <tr>\n",
       "      <th>1809</th>\n",
       "      <td>40686</td>\n",
       "      <td>車両・事故の担当者は誰。</td>\n",
       "      <td>【担当者】車両・事故の担当者は戸塚・副担当者は下山になります。お問合せは出来るだけガルーンメ...</td>\n",
       "      <td>24570</td>\n",
       "      <td>30</td>\n",
       "    </tr>\n",
       "  </tbody>\n",
       "</table>\n",
       "</div>"
      ],
      "text/plain": [
       "         id        question  \\\n",
       "1865  40742    らく賃の担当者は誰。\\n   \n",
       "2440  41317  戸別らく賃の担当者は誰。\\n   \n",
       "1746  40623     いえらぶの担当者は誰。   \n",
       "1813  40690      持株会の担当者は誰。   \n",
       "1743  40620     ロゴの担当者は誰。\\n   \n",
       "1744  40621    年賀状の担当者は誰。\\n   \n",
       "2442  41319      jicの担当者は誰。   \n",
       "1867  40744      JICの担当者は誰。   \n",
       "1727  40604     社員旅行の担当者は誰。   \n",
       "1809  40686    車両・事故の担当者は誰。   \n",
       "\n",
       "                                                 answer  question_answer_id  \\\n",
       "1865  【担当者】らく賃の担当者は石川・湊になります。お問合せは出来るだけガルーンメールにて連絡頂く...               24627   \n",
       "2440  【担当者】らく賃の担当者は石川・湊になります。お問合せは出来るだけガルーンメールにて連絡頂く...               24627   \n",
       "1746     【担当者】いえらぶの担当はシステム課の安達部長になります。ガルーンメールにてお問合せ下さい。               24506   \n",
       "1813  【担当者】持株会の担当者は下山・副担当者は戸塚になります。お問合せは出来るだけガルーンメール...               24574   \n",
       "1743  \"【担当者】ロゴの担当は豊田・副担当は安達になります。お問合せは出来るだけガルーンメールにて...               24501   \n",
       "1744  【担当者】年賀状の担当は井上になります。お問合せは出来るだけガルーンメールにて連絡頂くようお...               24502   \n",
       "2442  【担当者】JICの担当者は片岡・副担当者は佐野になります。お問合せは出来るだけガルーンメール...               24629   \n",
       "1867  【担当者】JICの担当者は片岡・副担当者は佐野になります。お問合せは出来るだけガルーンメール...               24629   \n",
       "1727       【社員旅行の担当者】担当は総務課の上野係長になります。ガルーンメールにてお問合せ下さい。               24483   \n",
       "1809  【担当者】車両・事故の担当者は戸塚・副担当者は下山になります。お問合せは出来るだけガルーンメ...               24570   \n",
       "\n",
       "      bot_id  \n",
       "1865      30  \n",
       "2440      30  \n",
       "1746      30  \n",
       "1813      30  \n",
       "1743      30  \n",
       "1744      30  \n",
       "2442      30  \n",
       "1867      30  \n",
       "1727      30  \n",
       "1809      30  "
      ]
     },
     "metadata": {},
     "output_type": "display_data"
    }
   ],
   "source": [
    "similars = wmd_bot30_3['らく賃の担当者は誰。']\n",
    "display(similars)\n",
    "display(qas_bot30.iloc[[row[0] for row in similars]])"
   ]
  },
  {
   "cell_type": "markdown",
   "metadata": {},
   "source": [
    "~~今までのパターンでないと精度的に使い物にならない感じ...~~\n",
    "\n",
    "スペース区切り、mecabなしともに使えそうだった"
   ]
  },
  {
   "cell_type": "markdown",
   "metadata": {
    "collapsed": true
   },
   "source": []
  }
 ],
 "metadata": {
  "kernelspec": {
   "display_name": "Python 3",
   "language": "python",
   "name": "python3"
  },
  "language_info": {
   "codemirror_mode": {
    "name": "ipython",
    "version": 3
   },
   "file_extension": ".py",
   "mimetype": "text/x-python",
   "name": "python",
   "nbconvert_exporter": "python",
   "pygments_lexer": "ipython3",
   "version": "3.5.2"
  }
 },
 "nbformat": 4,
 "nbformat_minor": 2
}
