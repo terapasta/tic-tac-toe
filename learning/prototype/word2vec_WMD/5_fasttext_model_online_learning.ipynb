{
 "cells": [
  {
   "cell_type": "code",
   "execution_count": 3,
   "metadata": {
    "collapsed": false
   },
   "outputs": [],
   "source": [
    "from gensim.models.word2vec import LineSentence\n",
    "from gensim.models.fasttext import FastText\n",
    "\n",
    "sentences = LineSentence('./sentences.txt')\n",
    "model = FastText(sentences,\n",
    "                          sg=1,\n",
    "                          size=100,\n",
    "                          min_count=1,\n",
    "                          window=10,\n",
    "                          hs=1,\n",
    "                          negative=0)"
   ]
  },
  {
   "cell_type": "code",
   "execution_count": 8,
   "metadata": {
    "collapsed": false
   },
   "outputs": [
    {
     "data": {
      "text/plain": [
       "[('いえらぶの担当者は誰。', 0.8798546195030212),\n",
       " ('JICの担当者は誰。', 0.4443792998790741),\n",
       " ('反社チェックの担当者は誰。', 0.29699596762657166),\n",
       " ('らく賃の担当者は誰。\\\\r\\\\n', 0.28755122423171997),\n",
       " ('顧客ウェブシステムの担当者は誰。', 0.27540120482444763),\n",
       " ('eラーニング操作の担当者は誰。', 0.2607567310333252),\n",
       " ('年賀状の担当者は誰。\\\\r\\\\n', 0.2558254301548004),\n",
       " ('モバイル端末についての担当者は誰。\\\\r\\\\n', 0.15341590344905853)]"
      ]
     },
     "execution_count": 8,
     "metadata": {},
     "output_type": "execute_result"
    }
   ],
   "source": [
    "model.wv.most_similar(['いえらぶの担当者は誰'])"
   ]
  }
 ],
 "metadata": {
  "kernelspec": {
   "display_name": "Python 3",
   "language": "python",
   "name": "python3"
  }
 },
 "nbformat": 4,
 "nbformat_minor": 2
}
