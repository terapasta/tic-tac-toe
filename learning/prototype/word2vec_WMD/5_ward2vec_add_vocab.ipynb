{
 "cells": [
  {
   "cell_type": "markdown",
   "metadata": {},
   "source": [
    "## word2vecのモデルにvocabを追加することの効果を調べる"
   ]
  },
  {
   "cell_type": "code",
   "execution_count": 1,
   "metadata": {
    "collapsed": false
   },
   "outputs": [
    {
     "data": {
      "text/plain": [
       "{'NHK': <gensim.models.keyedvectors.Vocab at 0x10d17a400>,\n",
       " 'あなた': <gensim.models.keyedvectors.Vocab at 0x10b025b00>,\n",
       " 'した': <gensim.models.keyedvectors.Vocab at 0x10b025be0>,\n",
       " 'らく賃': <gensim.models.keyedvectors.Vocab at 0x10d2e2da0>,\n",
       " 'パソコン': <gensim.models.keyedvectors.Vocab at 0x10d2c6518>,\n",
       " '今日': <gensim.models.keyedvectors.Vocab at 0x10b025c18>,\n",
       " '営業': <gensim.models.keyedvectors.Vocab at 0x10d263e48>,\n",
       " '壊す': <gensim.models.keyedvectors.Vocab at 0x10b025c50>,\n",
       " '天気': <gensim.models.keyedvectors.Vocab at 0x10d263a58>,\n",
       " '担当者': <gensim.models.keyedvectors.Vocab at 0x10b025b70>,\n",
       " '晴れ': <gensim.models.keyedvectors.Vocab at 0x10b025d30>,\n",
       " '誰': <gensim.models.keyedvectors.Vocab at 0x10b025ba8>}"
      ]
     },
     "execution_count": 1,
     "metadata": {},
     "output_type": "execute_result"
    }
   ],
   "source": [
    "from gensim.models.word2vec import Word2Vec\n",
    "\n",
    "sentences = ['らく賃 担当者 誰', 'NHK 担当者 誰', 'パソコン 担当者 誰', '営業 担当者 誰', '今日 天気 晴れ', 'あなた パソコン 壊す した']\n",
    "add_tokens = [t.split(' ') for t in ['ハウスコム 担当 誰', '雨 降る 都市', 'シータ 担当 誰']]\n",
    "tokens =[t.split(' ') for t in sentences]\n",
    "model = Word2Vec(tokens, min_count=1)\n",
    "# vocabに登録されない単語をあとで追加する\n",
    "tokens = tokens + add_tokens\n",
    "model.wv.vocab"
   ]
  },
  {
   "cell_type": "code",
   "execution_count": 2,
   "metadata": {
    "collapsed": false
   },
   "outputs": [
    {
     "name": "stdout",
     "output_type": "stream",
     "text": [
      "0 ['らく賃', '担当者', '誰']\n",
      "1 ['NHK', '担当者', '誰']\n",
      "2 ['パソコン', '担当者', '誰']\n",
      "3 ['営業', '担当者', '誰']\n",
      "4 ['今日', '天気', '晴れ']\n",
      "5 ['あなた', 'パソコン', '壊す', 'した']\n",
      "6 ['ハウスコム', '担当', '誰']\n",
      "7 ['雨', '降る', '都市']\n",
      "8 ['シータ', '担当', '誰']\n"
     ]
    }
   ],
   "source": [
    "for i, v in enumerate(tokens):\n",
    "    print(i, v)"
   ]
  },
  {
   "cell_type": "code",
   "execution_count": 3,
   "metadata": {
    "collapsed": false
   },
   "outputs": [],
   "source": [
    "from gensim.similarities import WmdSimilarity\n",
    "\n",
    "wmd = WmdSimilarity(tokens, model.wv, num_best=10)"
   ]
  },
  {
   "cell_type": "code",
   "execution_count": 4,
   "metadata": {
    "collapsed": false
   },
   "outputs": [
    {
     "data": {
      "text/plain": [
       "[(4, 0.68704560115561886),\n",
       " (5, 0.42023935849543298),\n",
       " (1, 0.42022590182637543),\n",
       " (0, 0.41805943781947158),\n",
       " (2, 0.41619713997288266),\n",
       " (6, 0.41571665239292749),\n",
       " (8, 0.41571665239292749),\n",
       " (3, 0.41430921916305696)]"
      ]
     },
     "execution_count": 4,
     "metadata": {},
     "output_type": "execute_result"
    }
   ],
   "source": [
    "wmd[['今日', '天気', '雨']]"
   ]
  },
  {
   "cell_type": "code",
   "execution_count": 5,
   "metadata": {
    "collapsed": false
   },
   "outputs": [
    {
     "data": {
      "text/plain": [
       "[(3, 1.0),\n",
       " (2, 0.68061603996031361),\n",
       " (0, 0.66797254822508778),\n",
       " (1, 0.66068406272664593),\n",
       " (6, 0.51299115659824612),\n",
       " (8, 0.51299115659824612),\n",
       " (5, 0.42098044042256116),\n",
       " (4, 0.41435237418029619)]"
      ]
     },
     "execution_count": 5,
     "metadata": {},
     "output_type": "execute_result"
    }
   ],
   "source": [
    "wmd[['営業', '担当者', '誰']]"
   ]
  },
  {
   "cell_type": "code",
   "execution_count": 6,
   "metadata": {
    "collapsed": false
   },
   "outputs": [
    {
     "data": {
      "text/plain": [
       "[(0, 0.68376281084565471),\n",
       " (3, 0.68197202719555461),\n",
       " (1, 0.68122908930812476),\n",
       " (2, 0.68082096878287812),\n",
       " (6, 0.57433511305204843),\n",
       " (8, 0.57433511305204843),\n",
       " (4, 0.41697747434257598),\n",
       " (5, 0.41589424961603599)]"
      ]
     },
     "execution_count": 6,
     "metadata": {},
     "output_type": "execute_result"
    }
   ],
   "source": [
    "sim1 = wmd[['ハウスコム', '担当者', '誰']]\n",
    "sim1"
   ]
  },
  {
   "cell_type": "code",
   "execution_count": 7,
   "metadata": {
    "collapsed": false
   },
   "outputs": [
    {
     "data": {
      "text/plain": [
       "{'NHK': <gensim.models.keyedvectors.Vocab at 0x10d17a400>,\n",
       " 'あなた': <gensim.models.keyedvectors.Vocab at 0x10b025b00>,\n",
       " 'した': <gensim.models.keyedvectors.Vocab at 0x10b025be0>,\n",
       " 'らく賃': <gensim.models.keyedvectors.Vocab at 0x10d2e2da0>,\n",
       " 'シータ': <gensim.models.keyedvectors.Vocab at 0x10b0255c0>,\n",
       " 'ハウスコム': <gensim.models.keyedvectors.Vocab at 0x10b0256a0>,\n",
       " 'パソコン': <gensim.models.keyedvectors.Vocab at 0x10d2c6518>,\n",
       " '今日': <gensim.models.keyedvectors.Vocab at 0x10b025c18>,\n",
       " '営業': <gensim.models.keyedvectors.Vocab at 0x10d263e48>,\n",
       " '壊す': <gensim.models.keyedvectors.Vocab at 0x10b025c50>,\n",
       " '天気': <gensim.models.keyedvectors.Vocab at 0x10d263a58>,\n",
       " '担当': <gensim.models.keyedvectors.Vocab at 0x10b025518>,\n",
       " '担当者': <gensim.models.keyedvectors.Vocab at 0x10b025b70>,\n",
       " '晴れ': <gensim.models.keyedvectors.Vocab at 0x10b025d30>,\n",
       " '誰': <gensim.models.keyedvectors.Vocab at 0x10b025ba8>,\n",
       " '都市': <gensim.models.keyedvectors.Vocab at 0x10b0258d0>,\n",
       " '降る': <gensim.models.keyedvectors.Vocab at 0x10b0256d8>,\n",
       " '雨': <gensim.models.keyedvectors.Vocab at 0x10b025390>}"
      ]
     },
     "execution_count": 7,
     "metadata": {},
     "output_type": "execute_result"
    }
   ],
   "source": [
    "model.build_vocab(add_tokens, update=True)\n",
    "model.wv.vocab"
   ]
  },
  {
   "cell_type": "code",
   "execution_count": 8,
   "metadata": {
    "collapsed": false
   },
   "outputs": [
    {
     "data": {
      "text/plain": [
       "[(3, 0.68296789697174864),\n",
       " (2, 0.67661758903888269),\n",
       " (6, 0.66309490029838059),\n",
       " (0, 0.65615384683845934),\n",
       " (1, 0.65428452487797861),\n",
       " (8, 0.52569002489342975),\n",
       " (4, 0.4201626171953331),\n",
       " (5, 0.41779377114491612),\n",
       " (7, 0.41509462028740246)]"
      ]
     },
     "execution_count": 8,
     "metadata": {},
     "output_type": "execute_result"
    }
   ],
   "source": [
    "wmd2 = WmdSimilarity(tokens, model.wv, num_best=10)\n",
    "sim2 = wmd2[['ハウスコム', '担当者', '誰']]\n",
    "sim2"
   ]
  },
  {
   "cell_type": "markdown",
   "metadata": {},
   "source": [
    "うまく行かなかった\n",
    "\n",
    "## fastTextでも試してみる"
   ]
  },
  {
   "cell_type": "code",
   "execution_count": 9,
   "metadata": {
    "collapsed": false
   },
   "outputs": [
    {
     "data": {
      "text/plain": [
       "{'NHK': <gensim.models.keyedvectors.Vocab at 0x10d3065c0>,\n",
       " 'あなた': <gensim.models.keyedvectors.Vocab at 0x10d3068d0>,\n",
       " 'した': <gensim.models.keyedvectors.Vocab at 0x10d3063c8>,\n",
       " 'らく賃': <gensim.models.keyedvectors.Vocab at 0x10d3069b0>,\n",
       " 'シータ': <gensim.models.keyedvectors.Vocab at 0x10d306748>,\n",
       " 'ハウスコム': <gensim.models.keyedvectors.Vocab at 0x10d306630>,\n",
       " 'パソコン': <gensim.models.keyedvectors.Vocab at 0x10d306978>,\n",
       " '今日': <gensim.models.keyedvectors.Vocab at 0x10d306940>,\n",
       " '営業': <gensim.models.keyedvectors.Vocab at 0x10d306908>,\n",
       " '壊す': <gensim.models.keyedvectors.Vocab at 0x10d3067b8>,\n",
       " '天気': <gensim.models.keyedvectors.Vocab at 0x10d306550>,\n",
       " '担当': <gensim.models.keyedvectors.Vocab at 0x10d3061d0>,\n",
       " '担当者': <gensim.models.keyedvectors.Vocab at 0x10d306358>,\n",
       " '晴れ': <gensim.models.keyedvectors.Vocab at 0x10d306780>,\n",
       " '誰': <gensim.models.keyedvectors.Vocab at 0x10d306390>,\n",
       " '都市': <gensim.models.keyedvectors.Vocab at 0x10d3066a0>,\n",
       " '降る': <gensim.models.keyedvectors.Vocab at 0x10d306470>,\n",
       " '雨': <gensim.models.keyedvectors.Vocab at 0x10d306668>}"
      ]
     },
     "execution_count": 9,
     "metadata": {},
     "output_type": "execute_result"
    }
   ],
   "source": [
    "from gensim.models.fasttext import FastText\n",
    "\n",
    "ft = FastText(tokens, min_count=1)\n",
    "ft.wv.vocab"
   ]
  },
  {
   "cell_type": "code",
   "execution_count": 10,
   "metadata": {
    "collapsed": true
   },
   "outputs": [],
   "source": [
    "ft_wmd = WmdSimilarity(tokens, ft.wv, num_best=10)"
   ]
  },
  {
   "cell_type": "code",
   "execution_count": 11,
   "metadata": {
    "collapsed": false
   },
   "outputs": [
    {
     "data": {
      "text/plain": [
       "[(4, 0.69145699614667888),\n",
       " (7, 0.51195537646029243),\n",
       " (3, 0.4250534667048862),\n",
       " (2, 0.4246838361758315),\n",
       " (8, 0.42345340384927677),\n",
       " (5, 0.42253090139887278),\n",
       " (6, 0.42121676386405643),\n",
       " (1, 0.42113327558094021),\n",
       " (0, 0.4201475017110804)]"
      ]
     },
     "execution_count": 11,
     "metadata": {},
     "output_type": "execute_result"
    }
   ],
   "source": [
    "ft_wmd[['今日', '天気', '雨']]"
   ]
  },
  {
   "cell_type": "code",
   "execution_count": 12,
   "metadata": {
    "collapsed": false
   },
   "outputs": [
    {
     "data": {
      "text/plain": [
       "[(3, 1.0),\n",
       " (0, 0.68282325370155317),\n",
       " (1, 0.68245570600744221),\n",
       " (2, 0.66490962040567869),\n",
       " (8, 0.54078081044998683),\n",
       " (6, 0.52920984604441657),\n",
       " (5, 0.42532976337983863),\n",
       " (4, 0.42128467111341),\n",
       " (7, 0.42087137422751869)]"
      ]
     },
     "execution_count": 12,
     "metadata": {},
     "output_type": "execute_result"
    }
   ],
   "source": [
    "ft_wmd[['営業', '担当者', '誰']]"
   ]
  },
  {
   "cell_type": "code",
   "execution_count": 13,
   "metadata": {
    "collapsed": false
   },
   "outputs": [
    {
     "data": {
      "text/plain": [
       "[(6, 0.70366444296287634),\n",
       " (0, 0.70156887296119619),\n",
       " (3, 0.68097732765106977),\n",
       " (2, 0.66979634869876514),\n",
       " (1, 0.66569929231130931),\n",
       " (8, 0.53744106574999362),\n",
       " (5, 0.43141169672901297),\n",
       " (7, 0.42238419005841726),\n",
       " (4, 0.41934127221494194)]"
      ]
     },
     "execution_count": 13,
     "metadata": {},
     "output_type": "execute_result"
    }
   ],
   "source": [
    "ft_sim1 = ft_wmd[['ハウスコム', '担当者', '誰']]\n",
    "ft_sim1"
   ]
  },
  {
   "cell_type": "markdown",
   "metadata": {},
   "source": [
    "fastTextだとやはり多少未知語に強いようだ、あやういが予測できている"
   ]
  },
  {
   "cell_type": "code",
   "execution_count": 14,
   "metadata": {
    "collapsed": false
   },
   "outputs": [
    {
     "data": {
      "text/plain": [
       "{'NHK': <gensim.models.keyedvectors.Vocab at 0x10d3065c0>,\n",
       " 'あなた': <gensim.models.keyedvectors.Vocab at 0x10d3068d0>,\n",
       " 'した': <gensim.models.keyedvectors.Vocab at 0x10d3063c8>,\n",
       " 'らく賃': <gensim.models.keyedvectors.Vocab at 0x10d3069b0>,\n",
       " 'シータ': <gensim.models.keyedvectors.Vocab at 0x10d306748>,\n",
       " 'ハウスコム': <gensim.models.keyedvectors.Vocab at 0x10d306630>,\n",
       " 'パソコン': <gensim.models.keyedvectors.Vocab at 0x10d306978>,\n",
       " '今日': <gensim.models.keyedvectors.Vocab at 0x10d306940>,\n",
       " '営業': <gensim.models.keyedvectors.Vocab at 0x10d306908>,\n",
       " '壊す': <gensim.models.keyedvectors.Vocab at 0x10d3067b8>,\n",
       " '天気': <gensim.models.keyedvectors.Vocab at 0x10d306550>,\n",
       " '担当': <gensim.models.keyedvectors.Vocab at 0x10d3061d0>,\n",
       " '担当者': <gensim.models.keyedvectors.Vocab at 0x10d306358>,\n",
       " '晴れ': <gensim.models.keyedvectors.Vocab at 0x10d306780>,\n",
       " '誰': <gensim.models.keyedvectors.Vocab at 0x10d306390>,\n",
       " '都市': <gensim.models.keyedvectors.Vocab at 0x10d3066a0>,\n",
       " '降る': <gensim.models.keyedvectors.Vocab at 0x10d306470>,\n",
       " '雨': <gensim.models.keyedvectors.Vocab at 0x10d306668>}"
      ]
     },
     "execution_count": 14,
     "metadata": {},
     "output_type": "execute_result"
    }
   ],
   "source": [
    "ft.build_vocab(add_tokens, update=True)\n",
    "ft.wv.vocab"
   ]
  },
  {
   "cell_type": "code",
   "execution_count": 15,
   "metadata": {
    "collapsed": false
   },
   "outputs": [
    {
     "data": {
      "text/plain": [
       "[(3, 0.68296789697174864),\n",
       " (2, 0.67661758903888269),\n",
       " (6, 0.66309490029838059),\n",
       " (0, 0.65615384683845934),\n",
       " (1, 0.65428452487797861),\n",
       " (8, 0.52569002489342975),\n",
       " (4, 0.4201626171953331),\n",
       " (5, 0.41779377114491612),\n",
       " (7, 0.41509462028740246)]"
      ]
     },
     "execution_count": 15,
     "metadata": {},
     "output_type": "execute_result"
    }
   ],
   "source": [
    "ft_wmd2 = WmdSimilarity(tokens, ft.wv, num_best=10)\n",
    "ft_sim2 = wmd2[['ハウスコム', '担当者', '誰']]\n",
    "ft_sim2"
   ]
  },
  {
   "cell_type": "markdown",
   "metadata": {},
   "source": [
    "ボキャブラリを入れることでfastTextも変化したが、結果は悪くなった"
   ]
  }
 ],
 "metadata": {
  "kernelspec": {
   "display_name": "Python 3",
   "language": "python",
   "name": "python3"
  },
  "language_info": {
   "codemirror_mode": {
    "name": "ipython",
    "version": 3
   },
   "file_extension": ".py",
   "mimetype": "text/x-python",
   "name": "python",
   "nbconvert_exporter": "python",
   "pygments_lexer": "ipython3",
   "version": "3.5.2"
  }
 },
 "nbformat": 4,
 "nbformat_minor": 2
}
