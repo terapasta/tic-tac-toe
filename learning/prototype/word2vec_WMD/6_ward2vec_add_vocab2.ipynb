{
 "cells": [
  {
   "cell_type": "markdown",
   "metadata": {},
   "source": [
    "## word2vecのモデルにvocabを追加することの効果を調べる(スペース区切り)"
   ]
  },
  {
   "cell_type": "code",
   "execution_count": 1,
   "metadata": {
    "collapsed": false
   },
   "outputs": [
    {
     "data": {
      "text/plain": [
       "{' ': <gensim.models.keyedvectors.Vocab at 0x109280780>,\n",
       " 'H': <gensim.models.keyedvectors.Vocab at 0x10b54ab70>,\n",
       " 'K': <gensim.models.keyedvectors.Vocab at 0x10b54acf8>,\n",
       " 'N': <gensim.models.keyedvectors.Vocab at 0x109280400>,\n",
       " 'あ': <gensim.models.keyedvectors.Vocab at 0x10b54abe0>,\n",
       " 'く': <gensim.models.keyedvectors.Vocab at 0x10b54add8>,\n",
       " 'し': <gensim.models.keyedvectors.Vocab at 0x10b4cd630>,\n",
       " 'す': <gensim.models.keyedvectors.Vocab at 0x10b54acc0>,\n",
       " 'た': <gensim.models.keyedvectors.Vocab at 0x10b5370f0>,\n",
       " 'な': <gensim.models.keyedvectors.Vocab at 0x1092807b8>,\n",
       " 'ら': <gensim.models.keyedvectors.Vocab at 0x10b54ac18>,\n",
       " 'れ': <gensim.models.keyedvectors.Vocab at 0x10b54ab38>,\n",
       " 'コ': <gensim.models.keyedvectors.Vocab at 0x10b54aa20>,\n",
       " 'ソ': <gensim.models.keyedvectors.Vocab at 0x10b54aa58>,\n",
       " 'パ': <gensim.models.keyedvectors.Vocab at 0x10b54aa90>,\n",
       " 'ン': <gensim.models.keyedvectors.Vocab at 0x10b54ac50>,\n",
       " '今': <gensim.models.keyedvectors.Vocab at 0x10b54ad30>,\n",
       " '営': <gensim.models.keyedvectors.Vocab at 0x10b54aba8>,\n",
       " '壊': <gensim.models.keyedvectors.Vocab at 0x1092804e0>,\n",
       " '天': <gensim.models.keyedvectors.Vocab at 0x10b54ada0>,\n",
       " '当': <gensim.models.keyedvectors.Vocab at 0x10b4cd9e8>,\n",
       " '担': <gensim.models.keyedvectors.Vocab at 0x109280518>,\n",
       " '日': <gensim.models.keyedvectors.Vocab at 0x109280470>,\n",
       " '晴': <gensim.models.keyedvectors.Vocab at 0x109280828>,\n",
       " '業': <gensim.models.keyedvectors.Vocab at 0x109280438>,\n",
       " '気': <gensim.models.keyedvectors.Vocab at 0x10b54a9b0>,\n",
       " '者': <gensim.models.keyedvectors.Vocab at 0x109280860>,\n",
       " '誰': <gensim.models.keyedvectors.Vocab at 0x10b54ad68>,\n",
       " '賃': <gensim.models.keyedvectors.Vocab at 0x10b54ac88>}"
      ]
     },
     "execution_count": 1,
     "metadata": {},
     "output_type": "execute_result"
    }
   ],
   "source": [
    "from gensim.models.word2vec import Word2Vec\n",
    "\n",
    "tokens = ['らく賃 担当者 誰', 'NHK 担当者 誰', 'パソコン 担当者 誰', '営業 担当者 誰', '今日 天気 晴れ', 'あなた パソコン 壊す した']\n",
    "add_tokens = ['ハウスコム 担当 誰', '雨 降る 都市', 'シータ 担当 誰']\n",
    "model = Word2Vec(tokens, min_count=1)\n",
    "# vocabに登録されない単語をあとで追加する\n",
    "tokens = tokens + add_tokens\n",
    "model.wv.vocab"
   ]
  },
  {
   "cell_type": "markdown",
   "metadata": {},
   "source": [
    "### vocabがなんかおかしい、modelはarrayで組むべきな気がするが、上記をarrayに変えるとやはりうまく予測できなかった\n",
    "\n",
    "データの件数やパラメータも関係してそうだが、小規模ならスペース区切りの方がいい?"
   ]
  },
  {
   "cell_type": "code",
   "execution_count": 2,
   "metadata": {
    "collapsed": false
   },
   "outputs": [
    {
     "name": "stdout",
     "output_type": "stream",
     "text": [
      "0 らく賃 担当者 誰\n",
      "1 NHK 担当者 誰\n",
      "2 パソコン 担当者 誰\n",
      "3 営業 担当者 誰\n",
      "4 今日 天気 晴れ\n",
      "5 あなた パソコン 壊す した\n",
      "6 ハウスコム 担当 誰\n",
      "7 雨 降る 都市\n",
      "8 シータ 担当 誰\n"
     ]
    }
   ],
   "source": [
    "for i, v in enumerate(tokens):\n",
    "    print(i, v)"
   ]
  },
  {
   "cell_type": "code",
   "execution_count": 3,
   "metadata": {
    "collapsed": false
   },
   "outputs": [],
   "source": [
    "from gensim.similarities import WmdSimilarity\n",
    "\n",
    "wmd = WmdSimilarity(tokens, model.wv, num_best=10)"
   ]
  },
  {
   "cell_type": "code",
   "execution_count": 4,
   "metadata": {
    "collapsed": false
   },
   "outputs": [
    {
     "data": {
      "text/plain": [
       "[(4, 0.74217426528563379),\n",
       " (6, 0.5296157920439617),\n",
       " (8, 0.52887492033663241),\n",
       " (7, 0.50630327928627306),\n",
       " (3, 0.49925018438969537),\n",
       " (0, 0.49465406177945487),\n",
       " (1, 0.49090677681464701),\n",
       " (5, 0.48683041262767074),\n",
       " (2, 0.48365009201378262)]"
      ]
     },
     "execution_count": 4,
     "metadata": {},
     "output_type": "execute_result"
    }
   ],
   "source": [
    "wmd['今日 天気 雨']"
   ]
  },
  {
   "cell_type": "code",
   "execution_count": 5,
   "metadata": {
    "collapsed": false
   },
   "outputs": [
    {
     "data": {
      "text/plain": [
       "[(3, 1.0),\n",
       " (0, 0.69375513803132693),\n",
       " (1, 0.68791944671845628),\n",
       " (8, 0.65943126203143532),\n",
       " (6, 0.65895009836121377),\n",
       " (2, 0.65064876837070051),\n",
       " (4, 0.5015183141349745),\n",
       " (5, 0.49091563109671937),\n",
       " (7, 0.48975277573583681)]"
      ]
     },
     "execution_count": 5,
     "metadata": {},
     "output_type": "execute_result"
    }
   ],
   "source": [
    "wmd['営業 担当者 誰']"
   ]
  },
  {
   "cell_type": "code",
   "execution_count": 6,
   "metadata": {
    "collapsed": false
   },
   "outputs": [
    {
     "data": {
      "text/plain": [
       "[(6, 0.83448885005424145),\n",
       " (3, 0.74148124125515602),\n",
       " (8, 0.71731556437845523),\n",
       " (2, 0.71383427777344344),\n",
       " (1, 0.68443494824936446),\n",
       " (0, 0.68118539649341914),\n",
       " (5, 0.51361856177805676),\n",
       " (7, 0.50852363149467483),\n",
       " (4, 0.50118003649840148)]"
      ]
     },
     "execution_count": 6,
     "metadata": {},
     "output_type": "execute_result"
    }
   ],
   "source": [
    "sim1 = wmd['ハウスコム 担当者 誰']\n",
    "sim1"
   ]
  },
  {
   "cell_type": "code",
   "execution_count": 7,
   "metadata": {
    "collapsed": false
   },
   "outputs": [
    {
     "data": {
      "text/plain": [
       "{' ': <gensim.models.keyedvectors.Vocab at 0x109280780>,\n",
       " 'H': <gensim.models.keyedvectors.Vocab at 0x10b54ab70>,\n",
       " 'K': <gensim.models.keyedvectors.Vocab at 0x10b54acf8>,\n",
       " 'N': <gensim.models.keyedvectors.Vocab at 0x109280400>,\n",
       " 'あ': <gensim.models.keyedvectors.Vocab at 0x10b54abe0>,\n",
       " 'く': <gensim.models.keyedvectors.Vocab at 0x10b54add8>,\n",
       " 'し': <gensim.models.keyedvectors.Vocab at 0x10b4cd630>,\n",
       " 'す': <gensim.models.keyedvectors.Vocab at 0x10b54acc0>,\n",
       " 'た': <gensim.models.keyedvectors.Vocab at 0x10b5370f0>,\n",
       " 'な': <gensim.models.keyedvectors.Vocab at 0x1092807b8>,\n",
       " 'ら': <gensim.models.keyedvectors.Vocab at 0x10b54ac18>,\n",
       " 'る': <gensim.models.keyedvectors.Vocab at 0x10b56c668>,\n",
       " 'れ': <gensim.models.keyedvectors.Vocab at 0x10b54ab38>,\n",
       " 'ウ': <gensim.models.keyedvectors.Vocab at 0x10b56c278>,\n",
       " 'コ': <gensim.models.keyedvectors.Vocab at 0x10b54aa20>,\n",
       " 'シ': <gensim.models.keyedvectors.Vocab at 0x10b56c0b8>,\n",
       " 'ス': <gensim.models.keyedvectors.Vocab at 0x10b56c4a8>,\n",
       " 'ソ': <gensim.models.keyedvectors.Vocab at 0x10b54aa58>,\n",
       " 'タ': <gensim.models.keyedvectors.Vocab at 0x10b56c128>,\n",
       " 'ハ': <gensim.models.keyedvectors.Vocab at 0x10b56c588>,\n",
       " 'パ': <gensim.models.keyedvectors.Vocab at 0x10b54aa90>,\n",
       " 'ム': <gensim.models.keyedvectors.Vocab at 0x10b56c240>,\n",
       " 'ン': <gensim.models.keyedvectors.Vocab at 0x10b54ac50>,\n",
       " 'ー': <gensim.models.keyedvectors.Vocab at 0x10b56c5c0>,\n",
       " '今': <gensim.models.keyedvectors.Vocab at 0x10b54ad30>,\n",
       " '営': <gensim.models.keyedvectors.Vocab at 0x10b54aba8>,\n",
       " '壊': <gensim.models.keyedvectors.Vocab at 0x1092804e0>,\n",
       " '天': <gensim.models.keyedvectors.Vocab at 0x10b54ada0>,\n",
       " '市': <gensim.models.keyedvectors.Vocab at 0x10b56c2b0>,\n",
       " '当': <gensim.models.keyedvectors.Vocab at 0x10b4cd9e8>,\n",
       " '担': <gensim.models.keyedvectors.Vocab at 0x109280518>,\n",
       " '日': <gensim.models.keyedvectors.Vocab at 0x109280470>,\n",
       " '晴': <gensim.models.keyedvectors.Vocab at 0x109280828>,\n",
       " '業': <gensim.models.keyedvectors.Vocab at 0x109280438>,\n",
       " '気': <gensim.models.keyedvectors.Vocab at 0x10b54a9b0>,\n",
       " '者': <gensim.models.keyedvectors.Vocab at 0x109280860>,\n",
       " '誰': <gensim.models.keyedvectors.Vocab at 0x10b54ad68>,\n",
       " '賃': <gensim.models.keyedvectors.Vocab at 0x10b54ac88>,\n",
       " '都': <gensim.models.keyedvectors.Vocab at 0x10b56c470>,\n",
       " '降': <gensim.models.keyedvectors.Vocab at 0x10b56c198>,\n",
       " '雨': <gensim.models.keyedvectors.Vocab at 0x10b56c0f0>}"
      ]
     },
     "execution_count": 7,
     "metadata": {},
     "output_type": "execute_result"
    }
   ],
   "source": [
    "model.build_vocab(add_tokens, update=True)\n",
    "model.wv.vocab"
   ]
  },
  {
   "cell_type": "code",
   "execution_count": 8,
   "metadata": {
    "collapsed": false
   },
   "outputs": [
    {
     "data": {
      "text/plain": [
       "[(6, 0.88568222010877495),\n",
       " (2, 0.66899029451711056),\n",
       " (1, 0.6186269600330192),\n",
       " (3, 0.61678397268196028),\n",
       " (0, 0.61381179744152536),\n",
       " (8, 0.57655953804332283),\n",
       " (5, 0.50922448588037172),\n",
       " (7, 0.48299572310814953),\n",
       " (4, 0.48238396721328075)]"
      ]
     },
     "execution_count": 8,
     "metadata": {},
     "output_type": "execute_result"
    }
   ],
   "source": [
    "wmd2 = WmdSimilarity(tokens, model.wv, num_best=10)\n",
    "sim2 = wmd2['ハウスコム 担当者 誰']\n",
    "sim2"
   ]
  },
  {
   "cell_type": "markdown",
   "metadata": {},
   "source": [
    "改善された\n",
    "\n",
    "## fastTextでも試してみる"
   ]
  },
  {
   "cell_type": "code",
   "execution_count": 9,
   "metadata": {
    "collapsed": false
   },
   "outputs": [
    {
     "data": {
      "text/plain": [
       "{' ': <gensim.models.keyedvectors.Vocab at 0x10b56cf28>,\n",
       " 'H': <gensim.models.keyedvectors.Vocab at 0x10b56f240>,\n",
       " 'K': <gensim.models.keyedvectors.Vocab at 0x10b56f4e0>,\n",
       " 'N': <gensim.models.keyedvectors.Vocab at 0x10b56c978>,\n",
       " 'あ': <gensim.models.keyedvectors.Vocab at 0x10b56f2e8>,\n",
       " 'く': <gensim.models.keyedvectors.Vocab at 0x10b56f630>,\n",
       " 'し': <gensim.models.keyedvectors.Vocab at 0x10b56f048>,\n",
       " 'す': <gensim.models.keyedvectors.Vocab at 0x10b56f4a8>,\n",
       " 'た': <gensim.models.keyedvectors.Vocab at 0x10b56f0f0>,\n",
       " 'な': <gensim.models.keyedvectors.Vocab at 0x10b56cf60>,\n",
       " 'ら': <gensim.models.keyedvectors.Vocab at 0x10b56f320>,\n",
       " 'る': <gensim.models.keyedvectors.Vocab at 0x10b56f3c8>,\n",
       " 'れ': <gensim.models.keyedvectors.Vocab at 0x10b56f198>,\n",
       " 'ウ': <gensim.models.keyedvectors.Vocab at 0x10b56cd68>,\n",
       " 'コ': <gensim.models.keyedvectors.Vocab at 0x10b56f160>,\n",
       " 'シ': <gensim.models.keyedvectors.Vocab at 0x10b56cb00>,\n",
       " 'ス': <gensim.models.keyedvectors.Vocab at 0x10b56ce80>,\n",
       " 'ソ': <gensim.models.keyedvectors.Vocab at 0x10b56f1d0>,\n",
       " 'タ': <gensim.models.keyedvectors.Vocab at 0x10b56f0b8>,\n",
       " 'ハ': <gensim.models.keyedvectors.Vocab at 0x10b56f2b0>,\n",
       " 'パ': <gensim.models.keyedvectors.Vocab at 0x10b56f208>,\n",
       " 'ム': <gensim.models.keyedvectors.Vocab at 0x10b56f550>,\n",
       " 'ン': <gensim.models.keyedvectors.Vocab at 0x10b56f358>,\n",
       " 'ー': <gensim.models.keyedvectors.Vocab at 0x10b56f390>,\n",
       " '今': <gensim.models.keyedvectors.Vocab at 0x10b56f588>,\n",
       " '営': <gensim.models.keyedvectors.Vocab at 0x10b56f278>,\n",
       " '壊': <gensim.models.keyedvectors.Vocab at 0x10b56ceb8>,\n",
       " '天': <gensim.models.keyedvectors.Vocab at 0x10b56f5f8>,\n",
       " '市': <gensim.models.keyedvectors.Vocab at 0x10b56f518>,\n",
       " '当': <gensim.models.keyedvectors.Vocab at 0x10b56f080>,\n",
       " '担': <gensim.models.keyedvectors.Vocab at 0x10b56cef0>,\n",
       " '日': <gensim.models.keyedvectors.Vocab at 0x10b56ce48>,\n",
       " '晴': <gensim.models.keyedvectors.Vocab at 0x10b56cf98>,\n",
       " '業': <gensim.models.keyedvectors.Vocab at 0x10b56ce10>,\n",
       " '気': <gensim.models.keyedvectors.Vocab at 0x10b56f128>,\n",
       " '者': <gensim.models.keyedvectors.Vocab at 0x10b56cfd0>,\n",
       " '誰': <gensim.models.keyedvectors.Vocab at 0x10b56f5c0>,\n",
       " '賃': <gensim.models.keyedvectors.Vocab at 0x10b56f438>,\n",
       " '都': <gensim.models.keyedvectors.Vocab at 0x10b56f400>,\n",
       " '降': <gensim.models.keyedvectors.Vocab at 0x10b56c908>,\n",
       " '雨': <gensim.models.keyedvectors.Vocab at 0x10b56f470>}"
      ]
     },
     "execution_count": 9,
     "metadata": {},
     "output_type": "execute_result"
    }
   ],
   "source": [
    "from gensim.models.fasttext import FastText\n",
    "\n",
    "ft = FastText(tokens, min_count=1)\n",
    "ft.wv.vocab"
   ]
  },
  {
   "cell_type": "code",
   "execution_count": 10,
   "metadata": {
    "collapsed": true
   },
   "outputs": [],
   "source": [
    "ft_wmd = WmdSimilarity(tokens, ft.wv, num_best=10)"
   ]
  },
  {
   "cell_type": "code",
   "execution_count": 11,
   "metadata": {
    "collapsed": false
   },
   "outputs": [
    {
     "data": {
      "text/plain": [
       "[(4, 0.73904808549387024),\n",
       " (7, 0.5630573486367183),\n",
       " (8, 0.50034546284582504),\n",
       " (3, 0.49974258703890506),\n",
       " (1, 0.4918941399731192),\n",
       " (0, 0.49172056172568618),\n",
       " (5, 0.49164338897615995),\n",
       " (2, 0.48893466963875493),\n",
       " (6, 0.48664275261320739)]"
      ]
     },
     "execution_count": 11,
     "metadata": {},
     "output_type": "execute_result"
    }
   ],
   "source": [
    "ft_wmd['今日 天気 雨']"
   ]
  },
  {
   "cell_type": "code",
   "execution_count": 12,
   "metadata": {
    "collapsed": false
   },
   "outputs": [
    {
     "data": {
      "text/plain": [
       "[(3, 1.0),\n",
       " (0, 0.693525471719591),\n",
       " (1, 0.68389816491234456),\n",
       " (8, 0.66204953056534832),\n",
       " (2, 0.64809082747593383),\n",
       " (6, 0.60064224929014853),\n",
       " (7, 0.49815225060677071),\n",
       " (4, 0.49770057961692266),\n",
       " (5, 0.48638080882050166)]"
      ]
     },
     "execution_count": 12,
     "metadata": {},
     "output_type": "execute_result"
    }
   ],
   "source": [
    "ft_wmd['営業 担当者 誰']"
   ]
  },
  {
   "cell_type": "code",
   "execution_count": 13,
   "metadata": {
    "collapsed": false
   },
   "outputs": [
    {
     "data": {
      "text/plain": [
       "[(6, 0.88493623182349812),\n",
       " (2, 0.66853892244951185),\n",
       " (3, 0.62236800410955739),\n",
       " (1, 0.61962658171328266),\n",
       " (0, 0.61783472557901353),\n",
       " (8, 0.5815337416559504),\n",
       " (5, 0.49871453514636149),\n",
       " (7, 0.48560783008068192),\n",
       " (4, 0.48045071620095497)]"
      ]
     },
     "execution_count": 13,
     "metadata": {},
     "output_type": "execute_result"
    }
   ],
   "source": [
    "ft_sim1 = ft_wmd['ハウスコム 担当者 誰']\n",
    "ft_sim1"
   ]
  },
  {
   "cell_type": "markdown",
   "metadata": {},
   "source": [
    "ちゃんと予測できている"
   ]
  },
  {
   "cell_type": "code",
   "execution_count": 14,
   "metadata": {
    "collapsed": false
   },
   "outputs": [
    {
     "data": {
      "text/plain": [
       "{' ': <gensim.models.keyedvectors.Vocab at 0x10b56cf28>,\n",
       " 'H': <gensim.models.keyedvectors.Vocab at 0x10b56f240>,\n",
       " 'K': <gensim.models.keyedvectors.Vocab at 0x10b56f4e0>,\n",
       " 'N': <gensim.models.keyedvectors.Vocab at 0x10b56c978>,\n",
       " 'あ': <gensim.models.keyedvectors.Vocab at 0x10b56f2e8>,\n",
       " 'く': <gensim.models.keyedvectors.Vocab at 0x10b56f630>,\n",
       " 'し': <gensim.models.keyedvectors.Vocab at 0x10b56f048>,\n",
       " 'す': <gensim.models.keyedvectors.Vocab at 0x10b56f4a8>,\n",
       " 'た': <gensim.models.keyedvectors.Vocab at 0x10b56f0f0>,\n",
       " 'な': <gensim.models.keyedvectors.Vocab at 0x10b56cf60>,\n",
       " 'ら': <gensim.models.keyedvectors.Vocab at 0x10b56f320>,\n",
       " 'る': <gensim.models.keyedvectors.Vocab at 0x10b56f3c8>,\n",
       " 'れ': <gensim.models.keyedvectors.Vocab at 0x10b56f198>,\n",
       " 'ウ': <gensim.models.keyedvectors.Vocab at 0x10b56cd68>,\n",
       " 'コ': <gensim.models.keyedvectors.Vocab at 0x10b56f160>,\n",
       " 'シ': <gensim.models.keyedvectors.Vocab at 0x10b56cb00>,\n",
       " 'ス': <gensim.models.keyedvectors.Vocab at 0x10b56ce80>,\n",
       " 'ソ': <gensim.models.keyedvectors.Vocab at 0x10b56f1d0>,\n",
       " 'タ': <gensim.models.keyedvectors.Vocab at 0x10b56f0b8>,\n",
       " 'ハ': <gensim.models.keyedvectors.Vocab at 0x10b56f2b0>,\n",
       " 'パ': <gensim.models.keyedvectors.Vocab at 0x10b56f208>,\n",
       " 'ム': <gensim.models.keyedvectors.Vocab at 0x10b56f550>,\n",
       " 'ン': <gensim.models.keyedvectors.Vocab at 0x10b56f358>,\n",
       " 'ー': <gensim.models.keyedvectors.Vocab at 0x10b56f390>,\n",
       " '今': <gensim.models.keyedvectors.Vocab at 0x10b56f588>,\n",
       " '営': <gensim.models.keyedvectors.Vocab at 0x10b56f278>,\n",
       " '壊': <gensim.models.keyedvectors.Vocab at 0x10b56ceb8>,\n",
       " '天': <gensim.models.keyedvectors.Vocab at 0x10b56f5f8>,\n",
       " '市': <gensim.models.keyedvectors.Vocab at 0x10b56f518>,\n",
       " '当': <gensim.models.keyedvectors.Vocab at 0x10b56f080>,\n",
       " '担': <gensim.models.keyedvectors.Vocab at 0x10b56cef0>,\n",
       " '日': <gensim.models.keyedvectors.Vocab at 0x10b56ce48>,\n",
       " '晴': <gensim.models.keyedvectors.Vocab at 0x10b56cf98>,\n",
       " '業': <gensim.models.keyedvectors.Vocab at 0x10b56ce10>,\n",
       " '気': <gensim.models.keyedvectors.Vocab at 0x10b56f128>,\n",
       " '者': <gensim.models.keyedvectors.Vocab at 0x10b56cfd0>,\n",
       " '誰': <gensim.models.keyedvectors.Vocab at 0x10b56f5c0>,\n",
       " '賃': <gensim.models.keyedvectors.Vocab at 0x10b56f438>,\n",
       " '都': <gensim.models.keyedvectors.Vocab at 0x10b56f400>,\n",
       " '降': <gensim.models.keyedvectors.Vocab at 0x10b56c908>,\n",
       " '雨': <gensim.models.keyedvectors.Vocab at 0x10b56f470>}"
      ]
     },
     "execution_count": 14,
     "metadata": {},
     "output_type": "execute_result"
    }
   ],
   "source": [
    "ft.build_vocab(add_tokens, update=True)\n",
    "ft.wv.vocab"
   ]
  },
  {
   "cell_type": "code",
   "execution_count": 15,
   "metadata": {
    "collapsed": false
   },
   "outputs": [
    {
     "data": {
      "text/plain": [
       "[(6, 0.88568222010877495),\n",
       " (2, 0.66899029451711056),\n",
       " (1, 0.6186269600330192),\n",
       " (3, 0.61678397268196028),\n",
       " (0, 0.61381179744152536),\n",
       " (8, 0.57655953804332283),\n",
       " (5, 0.50922448588037172),\n",
       " (7, 0.48299572310814953),\n",
       " (4, 0.48238396721328075)]"
      ]
     },
     "execution_count": 15,
     "metadata": {},
     "output_type": "execute_result"
    }
   ],
   "source": [
    "ft_wmd2 = WmdSimilarity(tokens, ft.wv, num_best=10)\n",
    "ft_sim2 = wmd2['ハウスコム 担当者 誰']\n",
    "ft_sim2"
   ]
  },
  {
   "cell_type": "markdown",
   "metadata": {},
   "source": [
    "ボキャブラリを入れることでfastTextも変化したが、結果はあまり変わらないようだ"
   ]
  },
  {
   "cell_type": "markdown",
   "metadata": {},
   "source": [
    "## 調査結果\n",
    "\n",
    "上記調査のような場合においては、fastTextの場合、ボキャブラリを入れなくてもsimilarityはあまり変わらなかった。\n",
    "\n",
    "オンライン学習を行ってもそこまでの結果を期待できないかもしれない"
   ]
  }
 ],
 "metadata": {
  "kernelspec": {
   "display_name": "Python 3",
   "language": "python",
   "name": "python3"
  },
  "language_info": {
   "codemirror_mode": {
    "name": "ipython",
    "version": 3
   },
   "file_extension": ".py",
   "mimetype": "text/x-python",
   "name": "python",
   "nbconvert_exporter": "python",
   "pygments_lexer": "ipython3",
   "version": "3.5.2"
  }
 },
 "nbformat": 4,
 "nbformat_minor": 2
}
